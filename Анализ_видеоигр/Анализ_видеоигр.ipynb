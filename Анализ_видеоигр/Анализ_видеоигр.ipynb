{
 "cells": [
  {
   "cell_type": "markdown",
   "metadata": {},
   "source": [
    "# Анализ видеоигр интернет-магазина «Стримчик»"
   ]
  },
  {
   "cell_type": "markdown",
   "metadata": {},
   "source": [
    "# Задача проекта"
   ]
  },
  {
   "cell_type": "markdown",
   "metadata": {},
   "source": [
    "С помощью данных о продажах, оценках и жанрах игр нужно провести исследовательский анализ, проверить гипотезы, составить портрет каждого пользователя в разных регионах. Найти причины, которые помогают играм стать популярными, чтобы предугадать потенциально популярный продукт"
   ]
  },
  {
   "cell_type": "markdown",
   "metadata": {},
   "source": [
    "## Загрузка и изучение данных"
   ]
  },
  {
   "cell_type": "markdown",
   "metadata": {},
   "source": [
    "Загрузим все нужные библиотеки"
   ]
  },
  {
   "cell_type": "code",
   "execution_count": 36,
   "metadata": {},
   "outputs": [],
   "source": [
    "import pandas as pd\n",
    "import numpy as np\n",
    "import missingno as msno\n",
    "import matplotlib.pyplot as plt\n",
    "from scipy import stats as st"
   ]
  },
  {
   "cell_type": "markdown",
   "metadata": {},
   "source": [
    "Поверхностно ознакомимся с таблицой"
   ]
  },
  {
   "cell_type": "code",
   "execution_count": 37,
   "metadata": {},
   "outputs": [
    {
     "data": {
      "text/html": [
       "<div>\n",
       "<style scoped>\n",
       "    .dataframe tbody tr th:only-of-type {\n",
       "        vertical-align: middle;\n",
       "    }\n",
       "\n",
       "    .dataframe tbody tr th {\n",
       "        vertical-align: top;\n",
       "    }\n",
       "\n",
       "    .dataframe thead th {\n",
       "        text-align: right;\n",
       "    }\n",
       "</style>\n",
       "<table border=\"1\" class=\"dataframe\">\n",
       "  <thead>\n",
       "    <tr style=\"text-align: right;\">\n",
       "      <th></th>\n",
       "      <th>Name</th>\n",
       "      <th>Platform</th>\n",
       "      <th>Year_of_Release</th>\n",
       "      <th>Genre</th>\n",
       "      <th>NA_sales</th>\n",
       "      <th>EU_sales</th>\n",
       "      <th>JP_sales</th>\n",
       "      <th>Other_sales</th>\n",
       "      <th>Critic_Score</th>\n",
       "      <th>User_Score</th>\n",
       "      <th>Rating</th>\n",
       "    </tr>\n",
       "  </thead>\n",
       "  <tbody>\n",
       "    <tr>\n",
       "      <th>0</th>\n",
       "      <td>Wii Sports</td>\n",
       "      <td>Wii</td>\n",
       "      <td>2006.0</td>\n",
       "      <td>Sports</td>\n",
       "      <td>41.36</td>\n",
       "      <td>28.96</td>\n",
       "      <td>3.77</td>\n",
       "      <td>8.45</td>\n",
       "      <td>76.0</td>\n",
       "      <td>8</td>\n",
       "      <td>E</td>\n",
       "    </tr>\n",
       "    <tr>\n",
       "      <th>1</th>\n",
       "      <td>Super Mario Bros.</td>\n",
       "      <td>NES</td>\n",
       "      <td>1985.0</td>\n",
       "      <td>Platform</td>\n",
       "      <td>29.08</td>\n",
       "      <td>3.58</td>\n",
       "      <td>6.81</td>\n",
       "      <td>0.77</td>\n",
       "      <td>NaN</td>\n",
       "      <td>NaN</td>\n",
       "      <td>NaN</td>\n",
       "    </tr>\n",
       "    <tr>\n",
       "      <th>2</th>\n",
       "      <td>Mario Kart Wii</td>\n",
       "      <td>Wii</td>\n",
       "      <td>2008.0</td>\n",
       "      <td>Racing</td>\n",
       "      <td>15.68</td>\n",
       "      <td>12.76</td>\n",
       "      <td>3.79</td>\n",
       "      <td>3.29</td>\n",
       "      <td>82.0</td>\n",
       "      <td>8.3</td>\n",
       "      <td>E</td>\n",
       "    </tr>\n",
       "    <tr>\n",
       "      <th>3</th>\n",
       "      <td>Wii Sports Resort</td>\n",
       "      <td>Wii</td>\n",
       "      <td>2009.0</td>\n",
       "      <td>Sports</td>\n",
       "      <td>15.61</td>\n",
       "      <td>10.93</td>\n",
       "      <td>3.28</td>\n",
       "      <td>2.95</td>\n",
       "      <td>80.0</td>\n",
       "      <td>8</td>\n",
       "      <td>E</td>\n",
       "    </tr>\n",
       "    <tr>\n",
       "      <th>4</th>\n",
       "      <td>Pokemon Red/Pokemon Blue</td>\n",
       "      <td>GB</td>\n",
       "      <td>1996.0</td>\n",
       "      <td>Role-Playing</td>\n",
       "      <td>11.27</td>\n",
       "      <td>8.89</td>\n",
       "      <td>10.22</td>\n",
       "      <td>1.00</td>\n",
       "      <td>NaN</td>\n",
       "      <td>NaN</td>\n",
       "      <td>NaN</td>\n",
       "    </tr>\n",
       "    <tr>\n",
       "      <th>5</th>\n",
       "      <td>Tetris</td>\n",
       "      <td>GB</td>\n",
       "      <td>1989.0</td>\n",
       "      <td>Puzzle</td>\n",
       "      <td>23.20</td>\n",
       "      <td>2.26</td>\n",
       "      <td>4.22</td>\n",
       "      <td>0.58</td>\n",
       "      <td>NaN</td>\n",
       "      <td>NaN</td>\n",
       "      <td>NaN</td>\n",
       "    </tr>\n",
       "    <tr>\n",
       "      <th>6</th>\n",
       "      <td>New Super Mario Bros.</td>\n",
       "      <td>DS</td>\n",
       "      <td>2006.0</td>\n",
       "      <td>Platform</td>\n",
       "      <td>11.28</td>\n",
       "      <td>9.14</td>\n",
       "      <td>6.50</td>\n",
       "      <td>2.88</td>\n",
       "      <td>89.0</td>\n",
       "      <td>8.5</td>\n",
       "      <td>E</td>\n",
       "    </tr>\n",
       "    <tr>\n",
       "      <th>7</th>\n",
       "      <td>Wii Play</td>\n",
       "      <td>Wii</td>\n",
       "      <td>2006.0</td>\n",
       "      <td>Misc</td>\n",
       "      <td>13.96</td>\n",
       "      <td>9.18</td>\n",
       "      <td>2.93</td>\n",
       "      <td>2.84</td>\n",
       "      <td>58.0</td>\n",
       "      <td>6.6</td>\n",
       "      <td>E</td>\n",
       "    </tr>\n",
       "    <tr>\n",
       "      <th>8</th>\n",
       "      <td>New Super Mario Bros. Wii</td>\n",
       "      <td>Wii</td>\n",
       "      <td>2009.0</td>\n",
       "      <td>Platform</td>\n",
       "      <td>14.44</td>\n",
       "      <td>6.94</td>\n",
       "      <td>4.70</td>\n",
       "      <td>2.24</td>\n",
       "      <td>87.0</td>\n",
       "      <td>8.4</td>\n",
       "      <td>E</td>\n",
       "    </tr>\n",
       "    <tr>\n",
       "      <th>9</th>\n",
       "      <td>Duck Hunt</td>\n",
       "      <td>NES</td>\n",
       "      <td>1984.0</td>\n",
       "      <td>Shooter</td>\n",
       "      <td>26.93</td>\n",
       "      <td>0.63</td>\n",
       "      <td>0.28</td>\n",
       "      <td>0.47</td>\n",
       "      <td>NaN</td>\n",
       "      <td>NaN</td>\n",
       "      <td>NaN</td>\n",
       "    </tr>\n",
       "  </tbody>\n",
       "</table>\n",
       "</div>"
      ],
      "text/plain": [
       "                        Name Platform  Year_of_Release         Genre  \\\n",
       "0                 Wii Sports      Wii           2006.0        Sports   \n",
       "1          Super Mario Bros.      NES           1985.0      Platform   \n",
       "2             Mario Kart Wii      Wii           2008.0        Racing   \n",
       "3          Wii Sports Resort      Wii           2009.0        Sports   \n",
       "4   Pokemon Red/Pokemon Blue       GB           1996.0  Role-Playing   \n",
       "5                     Tetris       GB           1989.0        Puzzle   \n",
       "6      New Super Mario Bros.       DS           2006.0      Platform   \n",
       "7                   Wii Play      Wii           2006.0          Misc   \n",
       "8  New Super Mario Bros. Wii      Wii           2009.0      Platform   \n",
       "9                  Duck Hunt      NES           1984.0       Shooter   \n",
       "\n",
       "   NA_sales  EU_sales  JP_sales  Other_sales  Critic_Score User_Score Rating  \n",
       "0     41.36     28.96      3.77         8.45          76.0          8      E  \n",
       "1     29.08      3.58      6.81         0.77           NaN        NaN    NaN  \n",
       "2     15.68     12.76      3.79         3.29          82.0        8.3      E  \n",
       "3     15.61     10.93      3.28         2.95          80.0          8      E  \n",
       "4     11.27      8.89     10.22         1.00           NaN        NaN    NaN  \n",
       "5     23.20      2.26      4.22         0.58           NaN        NaN    NaN  \n",
       "6     11.28      9.14      6.50         2.88          89.0        8.5      E  \n",
       "7     13.96      9.18      2.93         2.84          58.0        6.6      E  \n",
       "8     14.44      6.94      4.70         2.24          87.0        8.4      E  \n",
       "9     26.93      0.63      0.28         0.47           NaN        NaN    NaN  "
      ]
     },
     "metadata": {},
     "output_type": "display_data"
    },
    {
     "name": "stdout",
     "output_type": "stream",
     "text": [
      "\n",
      "<class 'pandas.core.frame.DataFrame'>\n",
      "RangeIndex: 16715 entries, 0 to 16714\n",
      "Data columns (total 11 columns):\n",
      " #   Column           Non-Null Count  Dtype  \n",
      "---  ------           --------------  -----  \n",
      " 0   Name             16713 non-null  object \n",
      " 1   Platform         16715 non-null  object \n",
      " 2   Year_of_Release  16446 non-null  float64\n",
      " 3   Genre            16713 non-null  object \n",
      " 4   NA_sales         16715 non-null  float64\n",
      " 5   EU_sales         16715 non-null  float64\n",
      " 6   JP_sales         16715 non-null  float64\n",
      " 7   Other_sales      16715 non-null  float64\n",
      " 8   Critic_Score     8137 non-null   float64\n",
      " 9   User_Score       10014 non-null  object \n",
      " 10  Rating           9949 non-null   object \n",
      "dtypes: float64(6), object(5)\n",
      "memory usage: 1.4+ MB\n"
     ]
    }
   ],
   "source": [
    "games = pd.read_csv('/datasets/games.csv')\n",
    "display(games.head(10))\n",
    "print()\n",
    "games.info()"
   ]
  },
  {
   "cell_type": "markdown",
   "metadata": {},
   "source": [
    "После просмотра данных в глаха бросается, что cтолбецы Year_of_Release и Critic_Score должны иметь тип int, а не float64"
   ]
  },
  {
   "cell_type": "markdown",
   "metadata": {},
   "source": [
    "## Подготовка данных"
   ]
  },
  {
   "cell_type": "markdown",
   "metadata": {},
   "source": [
    "### Приведем названия столбцов к нижнему регистру"
   ]
  },
  {
   "cell_type": "code",
   "execution_count": 38,
   "metadata": {},
   "outputs": [
    {
     "data": {
      "text/html": [
       "<div>\n",
       "<style scoped>\n",
       "    .dataframe tbody tr th:only-of-type {\n",
       "        vertical-align: middle;\n",
       "    }\n",
       "\n",
       "    .dataframe tbody tr th {\n",
       "        vertical-align: top;\n",
       "    }\n",
       "\n",
       "    .dataframe thead th {\n",
       "        text-align: right;\n",
       "    }\n",
       "</style>\n",
       "<table border=\"1\" class=\"dataframe\">\n",
       "  <thead>\n",
       "    <tr style=\"text-align: right;\">\n",
       "      <th></th>\n",
       "      <th>name</th>\n",
       "      <th>platform</th>\n",
       "      <th>year_of_release</th>\n",
       "      <th>genre</th>\n",
       "      <th>na_sales</th>\n",
       "      <th>eu_sales</th>\n",
       "      <th>jp_sales</th>\n",
       "      <th>other_sales</th>\n",
       "      <th>critic_score</th>\n",
       "      <th>user_score</th>\n",
       "      <th>rating</th>\n",
       "    </tr>\n",
       "  </thead>\n",
       "  <tbody>\n",
       "    <tr>\n",
       "      <th>0</th>\n",
       "      <td>Wii Sports</td>\n",
       "      <td>Wii</td>\n",
       "      <td>2006.0</td>\n",
       "      <td>Sports</td>\n",
       "      <td>41.36</td>\n",
       "      <td>28.96</td>\n",
       "      <td>3.77</td>\n",
       "      <td>8.45</td>\n",
       "      <td>76.0</td>\n",
       "      <td>8</td>\n",
       "      <td>E</td>\n",
       "    </tr>\n",
       "    <tr>\n",
       "      <th>1</th>\n",
       "      <td>Super Mario Bros.</td>\n",
       "      <td>NES</td>\n",
       "      <td>1985.0</td>\n",
       "      <td>Platform</td>\n",
       "      <td>29.08</td>\n",
       "      <td>3.58</td>\n",
       "      <td>6.81</td>\n",
       "      <td>0.77</td>\n",
       "      <td>NaN</td>\n",
       "      <td>NaN</td>\n",
       "      <td>NaN</td>\n",
       "    </tr>\n",
       "    <tr>\n",
       "      <th>2</th>\n",
       "      <td>Mario Kart Wii</td>\n",
       "      <td>Wii</td>\n",
       "      <td>2008.0</td>\n",
       "      <td>Racing</td>\n",
       "      <td>15.68</td>\n",
       "      <td>12.76</td>\n",
       "      <td>3.79</td>\n",
       "      <td>3.29</td>\n",
       "      <td>82.0</td>\n",
       "      <td>8.3</td>\n",
       "      <td>E</td>\n",
       "    </tr>\n",
       "    <tr>\n",
       "      <th>3</th>\n",
       "      <td>Wii Sports Resort</td>\n",
       "      <td>Wii</td>\n",
       "      <td>2009.0</td>\n",
       "      <td>Sports</td>\n",
       "      <td>15.61</td>\n",
       "      <td>10.93</td>\n",
       "      <td>3.28</td>\n",
       "      <td>2.95</td>\n",
       "      <td>80.0</td>\n",
       "      <td>8</td>\n",
       "      <td>E</td>\n",
       "    </tr>\n",
       "    <tr>\n",
       "      <th>4</th>\n",
       "      <td>Pokemon Red/Pokemon Blue</td>\n",
       "      <td>GB</td>\n",
       "      <td>1996.0</td>\n",
       "      <td>Role-Playing</td>\n",
       "      <td>11.27</td>\n",
       "      <td>8.89</td>\n",
       "      <td>10.22</td>\n",
       "      <td>1.00</td>\n",
       "      <td>NaN</td>\n",
       "      <td>NaN</td>\n",
       "      <td>NaN</td>\n",
       "    </tr>\n",
       "  </tbody>\n",
       "</table>\n",
       "</div>"
      ],
      "text/plain": [
       "                       name platform  year_of_release         genre  na_sales  \\\n",
       "0                Wii Sports      Wii           2006.0        Sports     41.36   \n",
       "1         Super Mario Bros.      NES           1985.0      Platform     29.08   \n",
       "2            Mario Kart Wii      Wii           2008.0        Racing     15.68   \n",
       "3         Wii Sports Resort      Wii           2009.0        Sports     15.61   \n",
       "4  Pokemon Red/Pokemon Blue       GB           1996.0  Role-Playing     11.27   \n",
       "\n",
       "   eu_sales  jp_sales  other_sales  critic_score user_score rating  \n",
       "0     28.96      3.77         8.45          76.0          8      E  \n",
       "1      3.58      6.81         0.77           NaN        NaN    NaN  \n",
       "2     12.76      3.79         3.29          82.0        8.3      E  \n",
       "3     10.93      3.28         2.95          80.0          8      E  \n",
       "4      8.89     10.22         1.00           NaN        NaN    NaN  "
      ]
     },
     "metadata": {},
     "output_type": "display_data"
    }
   ],
   "source": [
    "games.columns = games.columns.str.lower()\n",
    "display(games.head())"
   ]
  },
  {
   "cell_type": "markdown",
   "metadata": {},
   "source": [
    "### Обработка пропусков и дубликатов"
   ]
  },
  {
   "cell_type": "markdown",
   "metadata": {},
   "source": [
    "Посмотрим на дубликаты и пропуски"
   ]
  },
  {
   "cell_type": "code",
   "execution_count": 39,
   "metadata": {
    "scrolled": true
   },
   "outputs": [
    {
     "data": {
      "text/plain": [
       "0"
      ]
     },
     "execution_count": 39,
     "metadata": {},
     "output_type": "execute_result"
    }
   ],
   "source": [
    "len(games[games.duplicated()])"
   ]
  },
  {
   "cell_type": "markdown",
   "metadata": {},
   "source": [
    "Дубликатов нет"
   ]
  },
  {
   "cell_type": "code",
   "execution_count": 40,
   "metadata": {},
   "outputs": [
    {
     "data": {
      "text/plain": [
       "name                  2\n",
       "platform              0\n",
       "year_of_release     269\n",
       "genre                 2\n",
       "na_sales              0\n",
       "eu_sales              0\n",
       "jp_sales              0\n",
       "other_sales           0\n",
       "critic_score       8578\n",
       "user_score         6701\n",
       "rating             6766\n",
       "dtype: int64"
      ]
     },
     "execution_count": 40,
     "metadata": {},
     "output_type": "execute_result"
    }
   ],
   "source": [
    "games.isna().sum()"
   ]
  },
  {
   "cell_type": "markdown",
   "metadata": {},
   "source": [
    "Можно еще так посмотреть на пропуски. Тут белые горизонтальные линии обозначаются пропусками"
   ]
  },
  {
   "cell_type": "code",
   "execution_count": 41,
   "metadata": {
    "scrolled": true
   },
   "outputs": [
    {
     "name": "stdout",
     "output_type": "stream",
     "text": [
      "Collecting missingno\n",
      "  Downloading missingno-0.5.2-py3-none-any.whl (8.7 kB)\n",
      "Requirement already satisfied: matplotlib in /opt/conda/lib/python3.9/site-packages (from missingno) (3.3.4)\n",
      "Requirement already satisfied: scipy in /opt/conda/lib/python3.9/site-packages (from missingno) (1.9.1)\n",
      "Requirement already satisfied: numpy in /opt/conda/lib/python3.9/site-packages (from missingno) (1.21.1)\n",
      "Requirement already satisfied: seaborn in /opt/conda/lib/python3.9/site-packages (from missingno) (0.11.1)\n",
      "Requirement already satisfied: python-dateutil>=2.1 in /opt/conda/lib/python3.9/site-packages (from matplotlib->missingno) (2.8.1)\n",
      "Requirement already satisfied: pillow>=6.2.0 in /opt/conda/lib/python3.9/site-packages (from matplotlib->missingno) (8.4.0)\n",
      "Requirement already satisfied: cycler>=0.10 in /opt/conda/lib/python3.9/site-packages (from matplotlib->missingno) (0.11.0)\n",
      "Requirement already satisfied: pyparsing!=2.0.4,!=2.1.2,!=2.1.6,>=2.0.3 in /opt/conda/lib/python3.9/site-packages (from matplotlib->missingno) (2.4.7)\n",
      "Requirement already satisfied: kiwisolver>=1.0.1 in /opt/conda/lib/python3.9/site-packages (from matplotlib->missingno) (1.4.4)\n",
      "Requirement already satisfied: six>=1.5 in /opt/conda/lib/python3.9/site-packages (from python-dateutil>=2.1->matplotlib->missingno) (1.16.0)\n",
      "Requirement already satisfied: pandas>=0.23 in /opt/conda/lib/python3.9/site-packages (from seaborn->missingno) (1.2.4)\n",
      "Requirement already satisfied: pytz>=2017.3 in /opt/conda/lib/python3.9/site-packages (from pandas>=0.23->seaborn->missingno) (2021.1)\n",
      "Installing collected packages: missingno\n",
      "Successfully installed missingno-0.5.2\n",
      "Note: you may need to restart the kernel to use updated packages.\n"
     ]
    }
   ],
   "source": [
    "pip install missingno"
   ]
  },
  {
   "cell_type": "code",
   "execution_count": 42,
   "metadata": {},
   "outputs": [
    {
     "data": {
      "text/plain": [
       "<AxesSubplot:>"
      ]
     },
     "execution_count": 42,
     "metadata": {},
     "output_type": "execute_result"
    },
    {
     "data": {
      "image/png": "[encoded data removed]",
      "text/plain": [
       "<Figure size 1800x720 with 2 Axes>"
      ]
     },
     "metadata": {
      "needs_background": "light"
     },
     "output_type": "display_data"
    }
   ],
   "source": [
    "msno.matrix(games, labels = True);"
   ]
  },
  {
   "cell_type": "code",
   "execution_count": 43,
   "metadata": {},
   "outputs": [
    {
     "name": "stdout",
     "output_type": "stream",
     "text": [
      "16715\n"
     ]
    },
    {
     "data": {
      "text/plain": [
       "16444"
      ]
     },
     "execution_count": 43,
     "metadata": {},
     "output_type": "execute_result"
    }
   ],
   "source": [
    "print(games.shape[0])\n",
    "games = games.dropna(subset = ['name', 'genre', 'year_of_release'])\n",
    "games.shape[0]"
   ]
  },
  {
   "cell_type": "markdown",
   "metadata": {},
   "source": [
    "Удалим данные пропуски, т.к. их мало и это не повлияет на анализ"
   ]
  },
  {
   "cell_type": "code",
   "execution_count": 44,
   "metadata": {
    "scrolled": true
   },
   "outputs": [
    {
     "data": {
      "text/plain": [
       "array([76., nan, 82., 80., 89., 58., 87., 91., 61., 97., 95., 77., 88.,\n",
       "       83., 94., 93., 85., 86., 98., 96., 90., 84., 73., 74., 78., 92.,\n",
       "       71., 72., 68., 62., 49., 67., 81., 66., 56., 79., 70., 59., 64.,\n",
       "       75., 60., 63., 69., 50., 25., 42., 44., 55., 48., 57., 29., 47.,\n",
       "       65., 54., 20., 53., 37., 38., 33., 52., 30., 32., 43., 45., 51.,\n",
       "       40., 46., 39., 34., 41., 36., 31., 27., 35., 26., 19., 28., 23.,\n",
       "       24., 21., 17., 13.])"
      ]
     },
     "execution_count": 44,
     "metadata": {},
     "output_type": "execute_result"
    }
   ],
   "source": [
    "games['critic_score'].unique()"
   ]
  },
  {
   "cell_type": "code",
   "execution_count": 45,
   "metadata": {},
   "outputs": [
    {
     "data": {
      "text/plain": [
       "array(['8', nan, '8.3', '8.5', '6.6', '8.4', '8.6', '7.7', '6.3', '7.4',\n",
       "       '8.2', '9', '7.9', '8.1', '8.7', '7.1', '3.4', '5.3', '4.8', '3.2',\n",
       "       '8.9', '6.4', '7.8', '7.5', '2.6', '7.2', '9.2', '7', '7.3', '4.3',\n",
       "       '7.6', '5.7', '5', '9.1', '6.5', 'tbd', '8.8', '6.9', '9.4', '6.8',\n",
       "       '6.1', '6.7', '5.4', '4', '4.9', '4.5', '9.3', '6.2', '4.2', '6',\n",
       "       '3.7', '4.1', '5.8', '5.6', '5.5', '4.4', '4.6', '5.9', '3.9',\n",
       "       '3.1', '2.9', '5.2', '3.3', '4.7', '5.1', '3.5', '2.5', '1.9', '3',\n",
       "       '2.7', '2.2', '2', '9.5', '2.1', '3.6', '2.8', '1.8', '3.8', '0',\n",
       "       '1.6', '9.6', '2.4', '1.7', '1.1', '0.3', '1.5', '0.7', '1.2',\n",
       "       '2.3', '0.5', '1.3', '0.2', '0.6', '1.4', '0.9', '1', '9.7'],\n",
       "      dtype=object)"
      ]
     },
     "execution_count": 45,
     "metadata": {},
     "output_type": "execute_result"
    }
   ],
   "source": [
    "games['user_score'].unique()"
   ]
  },
  {
   "cell_type": "markdown",
   "metadata": {},
   "source": [
    "Заменим значение tbd на NaN, т.к. tbd говорит нам о том, что оценки еще нет"
   ]
  },
  {
   "cell_type": "code",
   "execution_count": 46,
   "metadata": {},
   "outputs": [
    {
     "data": {
      "text/plain": [
       "array(['8', nan, '8.3', '8.5', '6.6', '8.4', '8.6', '7.7', '6.3', '7.4',\n",
       "       '8.2', '9', '7.9', '8.1', '8.7', '7.1', '3.4', '5.3', '4.8', '3.2',\n",
       "       '8.9', '6.4', '7.8', '7.5', '2.6', '7.2', '9.2', '7', '7.3', '4.3',\n",
       "       '7.6', '5.7', '5', '9.1', '6.5', '8.8', '6.9', '9.4', '6.8', '6.1',\n",
       "       '6.7', '5.4', '4', '4.9', '4.5', '9.3', '6.2', '4.2', '6', '3.7',\n",
       "       '4.1', '5.8', '5.6', '5.5', '4.4', '4.6', '5.9', '3.9', '3.1',\n",
       "       '2.9', '5.2', '3.3', '4.7', '5.1', '3.5', '2.5', '1.9', '3', '2.7',\n",
       "       '2.2', '2', '9.5', '2.1', '3.6', '2.8', '1.8', '3.8', '0', '1.6',\n",
       "       '9.6', '2.4', '1.7', '1.1', '0.3', '1.5', '0.7', '1.2', '2.3',\n",
       "       '0.5', '1.3', '0.2', '0.6', '1.4', '0.9', '1', '9.7'], dtype=object)"
      ]
     },
     "execution_count": 46,
     "metadata": {},
     "output_type": "execute_result"
    }
   ],
   "source": [
    "games['user_score'] = games['user_score'].replace('tbd', np.NaN)\n",
    "games['user_score'].unique()"
   ]
  },
  {
   "cell_type": "code",
   "execution_count": 47,
   "metadata": {},
   "outputs": [
    {
     "data": {
      "text/plain": [
       "array(['E', nan, 'M', 'T', 'E10+', 'K-A', 'AO', 'EC', 'RP'], dtype=object)"
      ]
     },
     "execution_count": 47,
     "metadata": {},
     "output_type": "execute_result"
    }
   ],
   "source": [
    "games['rating'].unique()"
   ]
  },
  {
   "cell_type": "markdown",
   "metadata": {},
   "source": [
    "Оставим эти пропуски, т.к. их достаточно много, чтобы удалить. Заполнить пропуски средним значением опасно, ведь они могли возникнуть из-за того, что игры только вышли, и люди могли не успеть оставить отзыв. В некоторых странах эта игра могла быть недоступна. Возможно, возникла ошибка при передаче данных."
   ]
  },
  {
   "cell_type": "markdown",
   "metadata": {},
   "source": [
    "### Изменим типы данных столбцов"
   ]
  },
  {
   "cell_type": "markdown",
   "metadata": {},
   "source": [
    "В столбце year_of_release должны быть целые числа, а в user_score не тип object, а float64"
   ]
  },
  {
   "cell_type": "code",
   "execution_count": 48,
   "metadata": {
    "scrolled": true
   },
   "outputs": [
    {
     "name": "stdout",
     "output_type": "stream",
     "text": [
      "<class 'pandas.core.frame.DataFrame'>\n",
      "Int64Index: 16444 entries, 0 to 16714\n",
      "Data columns (total 11 columns):\n",
      " #   Column           Non-Null Count  Dtype  \n",
      "---  ------           --------------  -----  \n",
      " 0   name             16444 non-null  object \n",
      " 1   platform         16444 non-null  object \n",
      " 2   year_of_release  16444 non-null  int64  \n",
      " 3   genre            16444 non-null  object \n",
      " 4   na_sales         16444 non-null  float64\n",
      " 5   eu_sales         16444 non-null  float64\n",
      " 6   jp_sales         16444 non-null  float64\n",
      " 7   other_sales      16444 non-null  float64\n",
      " 8   critic_score     7983 non-null   float64\n",
      " 9   user_score       7463 non-null   float64\n",
      " 10  rating           9768 non-null   object \n",
      "dtypes: float64(6), int64(1), object(4)\n",
      "memory usage: 1.5+ MB\n"
     ]
    }
   ],
   "source": [
    "games['year_of_release'] = games['year_of_release'].astype('int')\n",
    "games['user_score'] = pd.to_numeric(games['user_score'], errors = 'coerce')\n",
    "games.info()"
   ]
  },
  {
   "cell_type": "markdown",
   "metadata": {},
   "source": [
    "Мы поменяли тип данных в столбце year_of_release, т.к. год должен быть целым, а user_score это средняя оценка, которая должна быть не целым числом "
   ]
  },
  {
   "cell_type": "markdown",
   "metadata": {},
   "source": [
    "### Создадим столбец с суммарными продажами"
   ]
  },
  {
   "cell_type": "code",
   "execution_count": 49,
   "metadata": {},
   "outputs": [
    {
     "data": {
      "text/html": [
       "<div>\n",
       "<style scoped>\n",
       "    .dataframe tbody tr th:only-of-type {\n",
       "        vertical-align: middle;\n",
       "    }\n",
       "\n",
       "    .dataframe tbody tr th {\n",
       "        vertical-align: top;\n",
       "    }\n",
       "\n",
       "    .dataframe thead th {\n",
       "        text-align: right;\n",
       "    }\n",
       "</style>\n",
       "<table border=\"1\" class=\"dataframe\">\n",
       "  <thead>\n",
       "    <tr style=\"text-align: right;\">\n",
       "      <th></th>\n",
       "      <th>name</th>\n",
       "      <th>platform</th>\n",
       "      <th>year_of_release</th>\n",
       "      <th>genre</th>\n",
       "      <th>na_sales</th>\n",
       "      <th>eu_sales</th>\n",
       "      <th>jp_sales</th>\n",
       "      <th>other_sales</th>\n",
       "      <th>critic_score</th>\n",
       "      <th>user_score</th>\n",
       "      <th>rating</th>\n",
       "      <th>sum_sales</th>\n",
       "    </tr>\n",
       "  </thead>\n",
       "  <tbody>\n",
       "    <tr>\n",
       "      <th>0</th>\n",
       "      <td>Wii Sports</td>\n",
       "      <td>Wii</td>\n",
       "      <td>2006</td>\n",
       "      <td>Sports</td>\n",
       "      <td>41.36</td>\n",
       "      <td>28.96</td>\n",
       "      <td>3.77</td>\n",
       "      <td>8.45</td>\n",
       "      <td>76.0</td>\n",
       "      <td>8.0</td>\n",
       "      <td>E</td>\n",
       "      <td>82.54</td>\n",
       "    </tr>\n",
       "    <tr>\n",
       "      <th>1</th>\n",
       "      <td>Super Mario Bros.</td>\n",
       "      <td>NES</td>\n",
       "      <td>1985</td>\n",
       "      <td>Platform</td>\n",
       "      <td>29.08</td>\n",
       "      <td>3.58</td>\n",
       "      <td>6.81</td>\n",
       "      <td>0.77</td>\n",
       "      <td>NaN</td>\n",
       "      <td>NaN</td>\n",
       "      <td>NaN</td>\n",
       "      <td>40.24</td>\n",
       "    </tr>\n",
       "    <tr>\n",
       "      <th>2</th>\n",
       "      <td>Mario Kart Wii</td>\n",
       "      <td>Wii</td>\n",
       "      <td>2008</td>\n",
       "      <td>Racing</td>\n",
       "      <td>15.68</td>\n",
       "      <td>12.76</td>\n",
       "      <td>3.79</td>\n",
       "      <td>3.29</td>\n",
       "      <td>82.0</td>\n",
       "      <td>8.3</td>\n",
       "      <td>E</td>\n",
       "      <td>35.52</td>\n",
       "    </tr>\n",
       "    <tr>\n",
       "      <th>3</th>\n",
       "      <td>Wii Sports Resort</td>\n",
       "      <td>Wii</td>\n",
       "      <td>2009</td>\n",
       "      <td>Sports</td>\n",
       "      <td>15.61</td>\n",
       "      <td>10.93</td>\n",
       "      <td>3.28</td>\n",
       "      <td>2.95</td>\n",
       "      <td>80.0</td>\n",
       "      <td>8.0</td>\n",
       "      <td>E</td>\n",
       "      <td>32.77</td>\n",
       "    </tr>\n",
       "    <tr>\n",
       "      <th>4</th>\n",
       "      <td>Pokemon Red/Pokemon Blue</td>\n",
       "      <td>GB</td>\n",
       "      <td>1996</td>\n",
       "      <td>Role-Playing</td>\n",
       "      <td>11.27</td>\n",
       "      <td>8.89</td>\n",
       "      <td>10.22</td>\n",
       "      <td>1.00</td>\n",
       "      <td>NaN</td>\n",
       "      <td>NaN</td>\n",
       "      <td>NaN</td>\n",
       "      <td>31.38</td>\n",
       "    </tr>\n",
       "  </tbody>\n",
       "</table>\n",
       "</div>"
      ],
      "text/plain": [
       "                       name platform  year_of_release         genre  na_sales  \\\n",
       "0                Wii Sports      Wii             2006        Sports     41.36   \n",
       "1         Super Mario Bros.      NES             1985      Platform     29.08   \n",
       "2            Mario Kart Wii      Wii             2008        Racing     15.68   \n",
       "3         Wii Sports Resort      Wii             2009        Sports     15.61   \n",
       "4  Pokemon Red/Pokemon Blue       GB             1996  Role-Playing     11.27   \n",
       "\n",
       "   eu_sales  jp_sales  other_sales  critic_score  user_score rating  sum_sales  \n",
       "0     28.96      3.77         8.45          76.0         8.0      E      82.54  \n",
       "1      3.58      6.81         0.77           NaN         NaN    NaN      40.24  \n",
       "2     12.76      3.79         3.29          82.0         8.3      E      35.52  \n",
       "3     10.93      3.28         2.95          80.0         8.0      E      32.77  \n",
       "4      8.89     10.22         1.00           NaN         NaN    NaN      31.38  "
      ]
     },
     "execution_count": 49,
     "metadata": {},
     "output_type": "execute_result"
    }
   ],
   "source": [
    "games['sum_sales'] = games[['na_sales'] + ['eu_sales'] + ['jp_sales'] + ['other_sales']].sum(axis = 1)\n",
    "games.head()"
   ]
  },
  {
   "cell_type": "markdown",
   "metadata": {},
   "source": [
    "Теперь есть столбец, который показывает все продажи игр в интернет-магазине «Стримчик»"
   ]
  },
  {
   "cell_type": "markdown",
   "metadata": {},
   "source": [
    "На данном шаге мы обработали данные. Привели названия столбцов к нижнему регистру, обработали пропуски и дубликаты, убрав некоторые данные. После этого поменяли типы данных у некоторых столбцов. Это поможет нам дальше в работе с проектом"
   ]
  },
  {
   "cell_type": "markdown",
   "metadata": {},
   "source": [
    "## Исследовательский анализ данных"
   ]
  },
  {
   "cell_type": "markdown",
   "metadata": {},
   "source": [
    "### Найдем актуальный период игр, их платформ"
   ]
  },
  {
   "cell_type": "markdown",
   "metadata": {},
   "source": [
    "Посмотрим, сколько игр выпускалось в разные годы"
   ]
  },
  {
   "cell_type": "code",
   "execution_count": 50,
   "metadata": {},
   "outputs": [
    {
     "data": {
      "image/png": "[encoded data removed]",
      "text/plain": [
       "<Figure size 432x288 with 1 Axes>"
      ]
     },
     "metadata": {
      "needs_background": "light"
     },
     "output_type": "display_data"
    }
   ],
   "source": [
    "games['year_of_release'].hist(bins = 35)\n",
    "plt.xlabel('Год')\n",
    "plt.ylabel('Кол-во игр')\n",
    "plt.title('Кол-во игр, выпущенных ежегодно')\n",
    "plt.show()"
   ]
  },
  {
   "cell_type": "markdown",
   "metadata": {},
   "source": [
    "Игры, выпущенные много лет назад, скорее всего потеряли свою актуальность. Поэтому данные по ним нас не слишком интересуют."
   ]
  },
  {
   "cell_type": "code",
   "execution_count": 51,
   "metadata": {},
   "outputs": [
    {
     "data": {
      "text/html": [
       "<div>\n",
       "<style scoped>\n",
       "    .dataframe tbody tr th:only-of-type {\n",
       "        vertical-align: middle;\n",
       "    }\n",
       "\n",
       "    .dataframe tbody tr th {\n",
       "        vertical-align: top;\n",
       "    }\n",
       "\n",
       "    .dataframe thead th {\n",
       "        text-align: right;\n",
       "    }\n",
       "</style>\n",
       "<table border=\"1\" class=\"dataframe\">\n",
       "  <thead>\n",
       "    <tr style=\"text-align: right;\">\n",
       "      <th></th>\n",
       "      <th>sum_sales</th>\n",
       "    </tr>\n",
       "    <tr>\n",
       "      <th>platform</th>\n",
       "      <th></th>\n",
       "    </tr>\n",
       "  </thead>\n",
       "  <tbody>\n",
       "    <tr>\n",
       "      <th>PS2</th>\n",
       "      <td>1233.56</td>\n",
       "    </tr>\n",
       "    <tr>\n",
       "      <th>X360</th>\n",
       "      <td>961.24</td>\n",
       "    </tr>\n",
       "    <tr>\n",
       "      <th>PS3</th>\n",
       "      <td>931.34</td>\n",
       "    </tr>\n",
       "    <tr>\n",
       "      <th>Wii</th>\n",
       "      <td>891.18</td>\n",
       "    </tr>\n",
       "    <tr>\n",
       "      <th>DS</th>\n",
       "      <td>802.78</td>\n",
       "    </tr>\n",
       "    <tr>\n",
       "      <th>PS</th>\n",
       "      <td>727.58</td>\n",
       "    </tr>\n",
       "    <tr>\n",
       "      <th>PS4</th>\n",
       "      <td>314.14</td>\n",
       "    </tr>\n",
       "    <tr>\n",
       "      <th>GBA</th>\n",
       "      <td>312.88</td>\n",
       "    </tr>\n",
       "    <tr>\n",
       "      <th>PSP</th>\n",
       "      <td>289.53</td>\n",
       "    </tr>\n",
       "    <tr>\n",
       "      <th>3DS</th>\n",
       "      <td>257.81</td>\n",
       "    </tr>\n",
       "    <tr>\n",
       "      <th>PC</th>\n",
       "      <td>255.76</td>\n",
       "    </tr>\n",
       "    <tr>\n",
       "      <th>GB</th>\n",
       "      <td>254.43</td>\n",
       "    </tr>\n",
       "    <tr>\n",
       "      <th>XB</th>\n",
       "      <td>251.57</td>\n",
       "    </tr>\n",
       "    <tr>\n",
       "      <th>NES</th>\n",
       "      <td>251.05</td>\n",
       "    </tr>\n",
       "    <tr>\n",
       "      <th>N64</th>\n",
       "      <td>218.01</td>\n",
       "    </tr>\n",
       "    <tr>\n",
       "      <th>SNES</th>\n",
       "      <td>200.04</td>\n",
       "    </tr>\n",
       "    <tr>\n",
       "      <th>GC</th>\n",
       "      <td>196.73</td>\n",
       "    </tr>\n",
       "    <tr>\n",
       "      <th>XOne</th>\n",
       "      <td>159.32</td>\n",
       "    </tr>\n",
       "    <tr>\n",
       "      <th>2600</th>\n",
       "      <td>86.48</td>\n",
       "    </tr>\n",
       "    <tr>\n",
       "      <th>WiiU</th>\n",
       "      <td>82.19</td>\n",
       "    </tr>\n",
       "    <tr>\n",
       "      <th>PSV</th>\n",
       "      <td>53.81</td>\n",
       "    </tr>\n",
       "    <tr>\n",
       "      <th>SAT</th>\n",
       "      <td>33.59</td>\n",
       "    </tr>\n",
       "    <tr>\n",
       "      <th>GEN</th>\n",
       "      <td>28.35</td>\n",
       "    </tr>\n",
       "    <tr>\n",
       "      <th>DC</th>\n",
       "      <td>15.95</td>\n",
       "    </tr>\n",
       "    <tr>\n",
       "      <th>SCD</th>\n",
       "      <td>1.86</td>\n",
       "    </tr>\n",
       "    <tr>\n",
       "      <th>NG</th>\n",
       "      <td>1.44</td>\n",
       "    </tr>\n",
       "    <tr>\n",
       "      <th>WS</th>\n",
       "      <td>1.42</td>\n",
       "    </tr>\n",
       "    <tr>\n",
       "      <th>TG16</th>\n",
       "      <td>0.16</td>\n",
       "    </tr>\n",
       "    <tr>\n",
       "      <th>3DO</th>\n",
       "      <td>0.10</td>\n",
       "    </tr>\n",
       "    <tr>\n",
       "      <th>GG</th>\n",
       "      <td>0.04</td>\n",
       "    </tr>\n",
       "    <tr>\n",
       "      <th>PCFX</th>\n",
       "      <td>0.03</td>\n",
       "    </tr>\n",
       "  </tbody>\n",
       "</table>\n",
       "</div>"
      ],
      "text/plain": [
       "          sum_sales\n",
       "platform           \n",
       "PS2         1233.56\n",
       "X360         961.24\n",
       "PS3          931.34\n",
       "Wii          891.18\n",
       "DS           802.78\n",
       "PS           727.58\n",
       "PS4          314.14\n",
       "GBA          312.88\n",
       "PSP          289.53\n",
       "3DS          257.81\n",
       "PC           255.76\n",
       "GB           254.43\n",
       "XB           251.57\n",
       "NES          251.05\n",
       "N64          218.01\n",
       "SNES         200.04\n",
       "GC           196.73\n",
       "XOne         159.32\n",
       "2600          86.48\n",
       "WiiU          82.19\n",
       "PSV           53.81\n",
       "SAT           33.59\n",
       "GEN           28.35\n",
       "DC            15.95\n",
       "SCD            1.86\n",
       "NG             1.44\n",
       "WS             1.42\n",
       "TG16           0.16\n",
       "3DO            0.10\n",
       "GG             0.04\n",
       "PCFX           0.03"
      ]
     },
     "execution_count": 51,
     "metadata": {},
     "output_type": "execute_result"
    }
   ],
   "source": [
    "platform = games.pivot_table(index = 'platform', aggfunc={'sum_sales': 'sum'})\n",
    "platform = platform.sort_values('sum_sales', ascending = False)\n",
    "platform"
   ]
  },
  {
   "cell_type": "markdown",
   "metadata": {},
   "source": [
    "Выберем популярные платформы"
   ]
  },
  {
   "cell_type": "code",
   "execution_count": 52,
   "metadata": {},
   "outputs": [
    {
     "data": {
      "text/html": [
       "<div>\n",
       "<style scoped>\n",
       "    .dataframe tbody tr th:only-of-type {\n",
       "        vertical-align: middle;\n",
       "    }\n",
       "\n",
       "    .dataframe tbody tr th {\n",
       "        vertical-align: top;\n",
       "    }\n",
       "\n",
       "    .dataframe thead th {\n",
       "        text-align: right;\n",
       "    }\n",
       "</style>\n",
       "<table border=\"1\" class=\"dataframe\">\n",
       "  <thead>\n",
       "    <tr style=\"text-align: right;\">\n",
       "      <th></th>\n",
       "      <th>sum_sales</th>\n",
       "    </tr>\n",
       "    <tr>\n",
       "      <th>platform</th>\n",
       "      <th></th>\n",
       "    </tr>\n",
       "  </thead>\n",
       "  <tbody>\n",
       "    <tr>\n",
       "      <th>PS2</th>\n",
       "      <td>1233.56</td>\n",
       "    </tr>\n",
       "    <tr>\n",
       "      <th>X360</th>\n",
       "      <td>961.24</td>\n",
       "    </tr>\n",
       "    <tr>\n",
       "      <th>PS3</th>\n",
       "      <td>931.34</td>\n",
       "    </tr>\n",
       "    <tr>\n",
       "      <th>Wii</th>\n",
       "      <td>891.18</td>\n",
       "    </tr>\n",
       "    <tr>\n",
       "      <th>DS</th>\n",
       "      <td>802.78</td>\n",
       "    </tr>\n",
       "    <tr>\n",
       "      <th>PS</th>\n",
       "      <td>727.58</td>\n",
       "    </tr>\n",
       "  </tbody>\n",
       "</table>\n",
       "</div>"
      ],
      "text/plain": [
       "          sum_sales\n",
       "platform           \n",
       "PS2         1233.56\n",
       "X360         961.24\n",
       "PS3          931.34\n",
       "Wii          891.18\n",
       "DS           802.78\n",
       "PS           727.58"
      ]
     },
     "execution_count": 52,
     "metadata": {},
     "output_type": "execute_result"
    }
   ],
   "source": [
    "platform = platform.head(6)\n",
    "platform"
   ]
  },
  {
   "cell_type": "markdown",
   "metadata": {},
   "source": [
    "Построим графики по этим платформам по годам."
   ]
  },
  {
   "cell_type": "code",
   "execution_count": 53,
   "metadata": {},
   "outputs": [
    {
     "data": {
      "image/png": "[encoded data removed]",
      "text/plain": [
       "<Figure size 432x288 with 1 Axes>"
      ]
     },
     "metadata": {
      "needs_background": "light"
     },
     "output_type": "display_data"
    },
    {
     "data": {
      "image/png": "[encoded data removed]",
      "text/plain": [
       "<Figure size 432x288 with 1 Axes>"
      ]
     },
     "metadata": {
      "needs_background": "light"
     },
     "output_type": "display_data"
    },
    {
     "data": {
      "image/png": "[encoded data removed]",
      "text/plain": [
       "<Figure size 432x288 with 1 Axes>"
      ]
     },
     "metadata": {
      "needs_background": "light"
     },
     "output_type": "display_data"
    },
    {
     "data": {
      "image/png": "[encoded data removed]",
      "text/plain": [
       "<Figure size 432x288 with 1 Axes>"
      ]
     },
     "metadata": {
      "needs_background": "light"
     },
     "output_type": "display_data"
    },
    {
     "data": {
      "image/png": "[encoded data removed]",
      "text/plain": [
       "<Figure size 432x288 with 1 Axes>"
      ]
     },
     "metadata": {
      "needs_background": "light"
     },
     "output_type": "display_data"
    },
    {
     "data": {
      "image/png": "[encoded data removed]",
      "text/plain": [
       "<Figure size 432x288 with 1 Axes>"
      ]
     },
     "metadata": {
      "needs_background": "light"
     },
     "output_type": "display_data"
    }
   ],
   "source": [
    "platforms = platform.index # создаем массив из названий платформ\n",
    "games_platforms = games.loc[games['platform'].isin(platforms)] # делаем срез по названиям из массива платформ\n",
    "for platform in platforms: #  с помощью цикла перебираем все платформы по которым строим столбчатые диаграммы\n",
    "    games_platforms[games_platforms['platform'] == platform].pivot_table(index=\\\n",
    "                            'year_of_release', values='sum_sales',\\\n",
    "                            aggfunc='sum').plot(kind='bar', title=platform, xlabel='Год выпуска',\\\n",
    "                            ylabel='Суммарные продажи игр',legend=0)"
   ]
  },
  {
   "cell_type": "markdown",
   "metadata": {},
   "source": [
    "По данным графикам можно сказать, что платформы популярны около 6 лет. Потом появляются новые, которые набирают популярность.  Лучше всего это заметно на платформах PS"
   ]
  },
  {
   "cell_type": "markdown",
   "metadata": {},
   "source": [
    "Из всех рассчетов можно сделать вывод, что лучше всего взять за последие 5 лет. Чем позже выпущены игры, тем они актуальней. Хоть платформы и популярны около 6 лет, лучше взять промежуток с 2012, т.к. платформы, которые были выпущены чуть раньше, могут потерять свою популярность уже в следующем году"
   ]
  },
  {
   "cell_type": "markdown",
   "metadata": {},
   "source": [
    "### Найдем перспективные платформы"
   ]
  },
  {
   "cell_type": "markdown",
   "metadata": {},
   "source": [
    "Посмотрим на данные о продажах на популярных платформах за последние 4 года"
   ]
  },
  {
   "cell_type": "code",
   "execution_count": 54,
   "metadata": {
    "scrolled": true
   },
   "outputs": [
    {
     "data": {
      "text/html": [
       "<div>\n",
       "<style scoped>\n",
       "    .dataframe tbody tr th:only-of-type {\n",
       "        vertical-align: middle;\n",
       "    }\n",
       "\n",
       "    .dataframe tbody tr th {\n",
       "        vertical-align: top;\n",
       "    }\n",
       "\n",
       "    .dataframe thead th {\n",
       "        text-align: right;\n",
       "    }\n",
       "</style>\n",
       "<table border=\"1\" class=\"dataframe\">\n",
       "  <thead>\n",
       "    <tr style=\"text-align: right;\">\n",
       "      <th></th>\n",
       "      <th>sum_sales</th>\n",
       "    </tr>\n",
       "    <tr>\n",
       "      <th>platform</th>\n",
       "      <th></th>\n",
       "    </tr>\n",
       "  </thead>\n",
       "  <tbody>\n",
       "    <tr>\n",
       "      <th>PS4</th>\n",
       "      <td>314.14</td>\n",
       "    </tr>\n",
       "    <tr>\n",
       "      <th>PS3</th>\n",
       "      <td>181.43</td>\n",
       "    </tr>\n",
       "    <tr>\n",
       "      <th>XOne</th>\n",
       "      <td>159.32</td>\n",
       "    </tr>\n",
       "    <tr>\n",
       "      <th>3DS</th>\n",
       "      <td>143.25</td>\n",
       "    </tr>\n",
       "    <tr>\n",
       "      <th>X360</th>\n",
       "      <td>136.80</td>\n",
       "    </tr>\n",
       "    <tr>\n",
       "      <th>WiiU</th>\n",
       "      <td>64.63</td>\n",
       "    </tr>\n",
       "    <tr>\n",
       "      <th>PC</th>\n",
       "      <td>39.43</td>\n",
       "    </tr>\n",
       "    <tr>\n",
       "      <th>PSV</th>\n",
       "      <td>32.99</td>\n",
       "    </tr>\n",
       "    <tr>\n",
       "      <th>Wii</th>\n",
       "      <td>13.66</td>\n",
       "    </tr>\n",
       "    <tr>\n",
       "      <th>PSP</th>\n",
       "      <td>3.50</td>\n",
       "    </tr>\n",
       "    <tr>\n",
       "      <th>DS</th>\n",
       "      <td>1.54</td>\n",
       "    </tr>\n",
       "  </tbody>\n",
       "</table>\n",
       "</div>"
      ],
      "text/plain": [
       "          sum_sales\n",
       "platform           \n",
       "PS4          314.14\n",
       "PS3          181.43\n",
       "XOne         159.32\n",
       "3DS          143.25\n",
       "X360         136.80\n",
       "WiiU          64.63\n",
       "PC            39.43\n",
       "PSV           32.99\n",
       "Wii           13.66\n",
       "PSP            3.50\n",
       "DS             1.54"
      ]
     },
     "execution_count": 54,
     "metadata": {},
     "output_type": "execute_result"
    }
   ],
   "source": [
    "r = games.query('year_of_release > 2012') # создаем датафрейм, который будем часто использовать позже\n",
    "q = r.pivot_table(index = 'platform', aggfunc={'sum_sales': 'sum'})\n",
    "q = q.sort_values('sum_sales', ascending = False)\n",
    "q"
   ]
  },
  {
   "cell_type": "markdown",
   "metadata": {},
   "source": [
    "Возьмем побольше популярных платформ, т.к. некоторые могли еще не набрать популярность"
   ]
  },
  {
   "cell_type": "code",
   "execution_count": 55,
   "metadata": {},
   "outputs": [
    {
     "data": {
      "text/html": [
       "<div>\n",
       "<style scoped>\n",
       "    .dataframe tbody tr th:only-of-type {\n",
       "        vertical-align: middle;\n",
       "    }\n",
       "\n",
       "    .dataframe tbody tr th {\n",
       "        vertical-align: top;\n",
       "    }\n",
       "\n",
       "    .dataframe thead th {\n",
       "        text-align: right;\n",
       "    }\n",
       "</style>\n",
       "<table border=\"1\" class=\"dataframe\">\n",
       "  <thead>\n",
       "    <tr style=\"text-align: right;\">\n",
       "      <th></th>\n",
       "      <th>sum_sales</th>\n",
       "    </tr>\n",
       "    <tr>\n",
       "      <th>platform</th>\n",
       "      <th></th>\n",
       "    </tr>\n",
       "  </thead>\n",
       "  <tbody>\n",
       "    <tr>\n",
       "      <th>PS4</th>\n",
       "      <td>314.14</td>\n",
       "    </tr>\n",
       "    <tr>\n",
       "      <th>PS3</th>\n",
       "      <td>181.43</td>\n",
       "    </tr>\n",
       "    <tr>\n",
       "      <th>XOne</th>\n",
       "      <td>159.32</td>\n",
       "    </tr>\n",
       "    <tr>\n",
       "      <th>3DS</th>\n",
       "      <td>143.25</td>\n",
       "    </tr>\n",
       "    <tr>\n",
       "      <th>X360</th>\n",
       "      <td>136.80</td>\n",
       "    </tr>\n",
       "    <tr>\n",
       "      <th>WiiU</th>\n",
       "      <td>64.63</td>\n",
       "    </tr>\n",
       "    <tr>\n",
       "      <th>PC</th>\n",
       "      <td>39.43</td>\n",
       "    </tr>\n",
       "    <tr>\n",
       "      <th>PSV</th>\n",
       "      <td>32.99</td>\n",
       "    </tr>\n",
       "  </tbody>\n",
       "</table>\n",
       "</div>"
      ],
      "text/plain": [
       "          sum_sales\n",
       "platform           \n",
       "PS4          314.14\n",
       "PS3          181.43\n",
       "XOne         159.32\n",
       "3DS          143.25\n",
       "X360         136.80\n",
       "WiiU          64.63\n",
       "PC            39.43\n",
       "PSV           32.99"
      ]
     },
     "execution_count": 55,
     "metadata": {},
     "output_type": "execute_result"
    }
   ],
   "source": [
    "q = q.head(8)\n",
    "q"
   ]
  },
  {
   "cell_type": "code",
   "execution_count": 56,
   "metadata": {},
   "outputs": [
    {
     "data": {
      "image/png": "[encoded data removed]",
      "text/plain": [
       "<Figure size 432x288 with 1 Axes>"
      ]
     },
     "metadata": {
      "needs_background": "light"
     },
     "output_type": "display_data"
    },
    {
     "data": {
      "image/png": "[encoded data removed]",
      "text/plain": [
       "<Figure size 432x288 with 1 Axes>"
      ]
     },
     "metadata": {
      "needs_background": "light"
     },
     "output_type": "display_data"
    },
    {
     "data": {
      "image/png": "[encoded data removed]",
      "text/plain": [
       "<Figure size 432x288 with 1 Axes>"
      ]
     },
     "metadata": {
      "needs_background": "light"
     },
     "output_type": "display_data"
    },
    {
     "data": {
      "image/png": "[encoded data removed]",
      "text/plain": [
       "<Figure size 432x288 with 1 Axes>"
      ]
     },
     "metadata": {
      "needs_background": "light"
     },
     "output_type": "display_data"
    },
    {
     "data": {
      "image/png": "[encoded data removed]",
      "text/plain": [
       "<Figure size 432x288 with 1 Axes>"
      ]
     },
     "metadata": {
      "needs_background": "light"
     },
     "output_type": "display_data"
    },
    {
     "data": {
      "image/png": "[encoded data removed]",
      "text/plain": [
       "<Figure size 432x288 with 1 Axes>"
      ]
     },
     "metadata": {
      "needs_background": "light"
     },
     "output_type": "display_data"
    },
    {
     "data": {
      "image/png": "[encoded data removed]",
      "text/plain": [
       "<Figure size 432x288 with 1 Axes>"
      ]
     },
     "metadata": {
      "needs_background": "light"
     },
     "output_type": "display_data"
    },
    {
     "data": {
      "image/png": "[encoded data removed]",
      "text/plain": [
       "<Figure size 432x288 with 1 Axes>"
      ]
     },
     "metadata": {
      "needs_background": "light"
     },
     "output_type": "display_data"
    }
   ],
   "source": [
    "w = q.index\n",
    "e = r.loc[games['platform'].isin(w)]\n",
    "for i in w:\n",
    "    e[e['platform'] == i].pivot_table(index=\\\n",
    "                            'year_of_release', values='sum_sales',\\\n",
    "                            aggfunc='sum').plot(kind='bar', title=i, xlabel='Год выпуска',\\\n",
    "                            ylabel='Суммарные продажи игр',legend=0)"
   ]
  },
  {
   "cell_type": "markdown",
   "metadata": {},
   "source": [
    "Больше всего по продажам за последние годы лидируют платформы: PS4, XOne и 3DS. PS4 и XOne с 2013 по 2015 г. росли, а потом происходил небольшой спад, видимо, данные предоставлены не за весь 2016 год. У 3DS нет потенциала в 2017 г., т.к. видно стабильное понижение в продажах. Из этого можно сделать вывод, что самые перспективные платформы в 2017 году это PS4 и XOne"
   ]
  },
  {
   "cell_type": "code",
   "execution_count": 57,
   "metadata": {},
   "outputs": [
    {
     "data": {
      "text/plain": [
       "(0.0, 2.0)"
      ]
     },
     "execution_count": 57,
     "metadata": {},
     "output_type": "execute_result"
    },
    {
     "data": {
      "image/png": "[encoded data removed]",
      "text/plain": [
       "<Figure size 720x720 with 1 Axes>"
      ]
     },
     "metadata": {
      "needs_background": "light"
     },
     "output_type": "display_data"
    }
   ],
   "source": [
    "top_pl = ['PS4', 'Wii', 'WiiU', 'X360', 'XOne']\n",
    "top_platforms = r.loc[games['platform'].isin(top_pl)]\n",
    "top_platforms.boxplot(column='sum_sales',by='platform', figsize=(10,10))\n",
    "plt.ylim(0,2)"
   ]
  },
  {
   "cell_type": "markdown",
   "metadata": {},
   "source": [
    "По графику видно, что все платформы находятся близко друг к другу. Нет выделяющихся."
   ]
  },
  {
   "cell_type": "markdown",
   "metadata": {},
   "source": [
    "### Влияние отзывов на продажи"
   ]
  },
  {
   "cell_type": "markdown",
   "metadata": {},
   "source": [
    "Для начала определим зависимость на одной из популярных платформ. Пусть это будет PS4. У нас есть отзывы критиков и пользователей. Посмотрим на них отдельно"
   ]
  },
  {
   "cell_type": "code",
   "execution_count": 58,
   "metadata": {
    "scrolled": true
   },
   "outputs": [
    {
     "data": {
      "text/plain": [
       "0.40656790206178095"
      ]
     },
     "execution_count": 58,
     "metadata": {},
     "output_type": "execute_result"
    },
    {
     "data": {
      "image/png": "[encoded data removed]",
      "text/plain": [
       "<Figure size 432x288 with 1 Axes>"
      ]
     },
     "metadata": {
      "needs_background": "light"
     },
     "output_type": "display_data"
    }
   ],
   "source": [
    "r_ps = r.query('platform == \"PS4\"')\n",
    "r_ps.plot(x='critic_score', y='sum_sales', kind='scatter', alpha=0.3, xlim = (30, 100), ylim = (0, 5), title = 'поле корреляции оценок критиков')\n",
    "r_ps['critic_score'].corr(r_ps['sum_sales'])"
   ]
  },
  {
   "cell_type": "markdown",
   "metadata": {},
   "source": [
    "По графику видно, что высокие оценки критиков увеличивают кол-во покупок на данной платформе. По коэффициенту корреляции зависимость слабая, но есть."
   ]
  },
  {
   "cell_type": "code",
   "execution_count": 59,
   "metadata": {},
   "outputs": [
    {
     "data": {
      "text/plain": [
       "-0.031957110204556376"
      ]
     },
     "execution_count": 59,
     "metadata": {},
     "output_type": "execute_result"
    },
    {
     "data": {
      "image/png": "[encoded data removed]",
      "text/plain": [
       "<Figure size 432x288 with 1 Axes>"
      ]
     },
     "metadata": {
      "needs_background": "light"
     },
     "output_type": "display_data"
    }
   ],
   "source": [
    "r_ps.plot(x='user_score', y='sum_sales', kind='scatter', alpha=0.3, title = 'поле корреляции оценок пользователей')\n",
    "r_ps['user_score'].corr(r_ps['sum_sales'])"
   ]
  },
  {
   "cell_type": "markdown",
   "metadata": {},
   "source": [
    "Зависимость отсутствует"
   ]
  },
  {
   "cell_type": "markdown",
   "metadata": {},
   "source": [
    " Можно сделать вывод, что влияние продаж игр на платформе зависит только от отзывов критиков. Проверим это на других популярных  платформах после 2012 года"
   ]
  },
  {
   "cell_type": "code",
   "execution_count": 60,
   "metadata": {},
   "outputs": [
    {
     "data": {
      "image/png": "[encoded data removed]",
      "text/plain": [
       "<Figure size 432x288 with 1 Axes>"
      ]
     },
     "metadata": {
      "needs_background": "light"
     },
     "output_type": "display_data"
    },
    {
     "name": "stdout",
     "output_type": "stream",
     "text": [
      "Значение корреляции критиков для PS3 равно:, 0.3342853393371919\n"
     ]
    },
    {
     "data": {
      "image/png": "[encoded data removed]",
      "text/plain": [
       "<Figure size 432x288 with 1 Axes>"
      ]
     },
     "metadata": {
      "needs_background": "light"
     },
     "output_type": "display_data"
    },
    {
     "name": "stdout",
     "output_type": "stream",
     "text": [
      "Значение корреляции пользователей для PS3 равно:, 0.0023944027357566925\n"
     ]
    },
    {
     "data": {
      "image/png": "[encoded data removed]",
      "text/plain": [
       "<Figure size 432x288 with 1 Axes>"
      ]
     },
     "metadata": {
      "needs_background": "light"
     },
     "output_type": "display_data"
    },
    {
     "name": "stdout",
     "output_type": "stream",
     "text": [
      "Значение корреляции критиков для WiiU равно:, 0.3764149065423912\n"
     ]
    },
    {
     "data": {
      "image/png": "[encoded data removed]",
      "text/plain": [
       "<Figure size 432x288 with 1 Axes>"
      ]
     },
     "metadata": {
      "needs_background": "light"
     },
     "output_type": "display_data"
    },
    {
     "name": "stdout",
     "output_type": "stream",
     "text": [
      "Значение корреляции пользователей для WiiU равно:, 0.4193304819266187\n"
     ]
    },
    {
     "data": {
      "image/png": "[encoded data removed]",
      "text/plain": [
       "<Figure size 432x288 with 1 Axes>"
      ]
     },
     "metadata": {
      "needs_background": "light"
     },
     "output_type": "display_data"
    },
    {
     "name": "stdout",
     "output_type": "stream",
     "text": [
      "Значение корреляции критиков для X360 равно:, 0.3503445460228664\n"
     ]
    },
    {
     "data": {
      "image/png": "[encoded data removed]",
      "text/plain": [
       "<Figure size 432x288 with 1 Axes>"
      ]
     },
     "metadata": {
      "needs_background": "light"
     },
     "output_type": "display_data"
    },
    {
     "name": "stdout",
     "output_type": "stream",
     "text": [
      "Значение корреляции пользователей для X360 равно:, -0.011742185147181342\n"
     ]
    },
    {
     "data": {
      "image/png": "[encoded data removed]",
      "text/plain": [
       "<Figure size 432x288 with 1 Axes>"
      ]
     },
     "metadata": {
      "needs_background": "light"
     },
     "output_type": "display_data"
    },
    {
     "name": "stdout",
     "output_type": "stream",
     "text": [
      "Значение корреляции критиков для XOne равно:, 0.4169983280084017\n"
     ]
    },
    {
     "data": {
      "image/png": "[encoded data removed]",
      "text/plain": [
       "<Figure size 432x288 with 1 Axes>"
      ]
     },
     "metadata": {
      "needs_background": "light"
     },
     "output_type": "display_data"
    },
    {
     "name": "stdout",
     "output_type": "stream",
     "text": [
      "Значение корреляции пользователей для XOne равно:, -0.06892505328279414\n"
     ]
    },
    {
     "data": {
      "image/png": "[encoded data removed]",
      "text/plain": [
       "<Figure size 432x288 with 1 Axes>"
      ]
     },
     "metadata": {
      "needs_background": "light"
     },
     "output_type": "display_data"
    },
    {
     "name": "stdout",
     "output_type": "stream",
     "text": [
      "Значение корреляции критиков для 3DS равно:, 0.3570566142288103\n"
     ]
    },
    {
     "data": {
      "image/png": "[encoded data removed]",
      "text/plain": [
       "<Figure size 432x288 with 1 Axes>"
      ]
     },
     "metadata": {
      "needs_background": "light"
     },
     "output_type": "display_data"
    },
    {
     "name": "stdout",
     "output_type": "stream",
     "text": [
      "Значение корреляции пользователей для 3DS равно:, 0.24150411773563016\n"
     ]
    }
   ],
   "source": [
    "platforms = ['PS3', 'WiiU', 'X360', 'XOne', '3DS']\n",
    "for platform in platforms:\n",
    "    r_pl = r[r['platform'] == platform]\n",
    "    r_pl.plot(x='critic_score', y='sum_sales', kind='scatter', alpha=0.4, xlim = (20, 100), ylim = (0, 6), title = 'поле корреляции оценок критиков')\n",
    "    plt.show()\n",
    "    corr_critic_score = r_pl['critic_score'].corr(r_pl['sum_sales'])\n",
    "    print(f'Значение корреляции критиков для {platform} равно:, {corr_critic_score}')\n",
    "    r_pl.plot(x='user_score', y='sum_sales', kind='scatter', alpha=0.4, title = 'поле корреляции оценок пользователей')\n",
    "    plt.show()\n",
    "    corr_user_score = r_pl['user_score'].corr(r_pl['sum_sales'])\n",
    "    print(f'Значение корреляции пользователей для {platform} равно:, {corr_user_score}')"
   ]
  },
  {
   "cell_type": "markdown",
   "metadata": {},
   "source": [
    "В большинстве случаев корреляция от критиков больше, чем от обычных пользователей. Поэтому вывод с платформой PS4 был правильный. Обычные люди не влияют на кол-во покупок своими отзывами, а от оценок критиков зависят продажи игра на платформах."
   ]
  },
  {
   "cell_type": "code",
   "execution_count": 61,
   "metadata": {},
   "outputs": [
    {
     "data": {
      "text/html": [
       "<div>\n",
       "<style scoped>\n",
       "    .dataframe tbody tr th:only-of-type {\n",
       "        vertical-align: middle;\n",
       "    }\n",
       "\n",
       "    .dataframe tbody tr th {\n",
       "        vertical-align: top;\n",
       "    }\n",
       "\n",
       "    .dataframe thead th {\n",
       "        text-align: right;\n",
       "    }\n",
       "</style>\n",
       "<table border=\"1\" class=\"dataframe\">\n",
       "  <thead>\n",
       "    <tr style=\"text-align: right;\">\n",
       "      <th></th>\n",
       "      <th>mean</th>\n",
       "      <th>sum</th>\n",
       "    </tr>\n",
       "    <tr>\n",
       "      <th>genre</th>\n",
       "      <th></th>\n",
       "      <th></th>\n",
       "    </tr>\n",
       "  </thead>\n",
       "  <tbody>\n",
       "    <tr>\n",
       "      <th>Action</th>\n",
       "      <td>0.420196</td>\n",
       "      <td>321.87</td>\n",
       "    </tr>\n",
       "    <tr>\n",
       "      <th>Shooter</th>\n",
       "      <td>1.245882</td>\n",
       "      <td>232.98</td>\n",
       "    </tr>\n",
       "    <tr>\n",
       "      <th>Sports</th>\n",
       "      <td>0.703972</td>\n",
       "      <td>150.65</td>\n",
       "    </tr>\n",
       "    <tr>\n",
       "      <th>Role-Playing</th>\n",
       "      <td>0.499623</td>\n",
       "      <td>145.89</td>\n",
       "    </tr>\n",
       "    <tr>\n",
       "      <th>Misc</th>\n",
       "      <td>0.405290</td>\n",
       "      <td>62.82</td>\n",
       "    </tr>\n",
       "    <tr>\n",
       "      <th>Platform</th>\n",
       "      <td>0.576081</td>\n",
       "      <td>42.63</td>\n",
       "    </tr>\n",
       "    <tr>\n",
       "      <th>Racing</th>\n",
       "      <td>0.469294</td>\n",
       "      <td>39.89</td>\n",
       "    </tr>\n",
       "    <tr>\n",
       "      <th>Fighting</th>\n",
       "      <td>0.441375</td>\n",
       "      <td>35.31</td>\n",
       "    </tr>\n",
       "    <tr>\n",
       "      <th>Adventure</th>\n",
       "      <td>0.096490</td>\n",
       "      <td>23.64</td>\n",
       "    </tr>\n",
       "    <tr>\n",
       "      <th>Simulation</th>\n",
       "      <td>0.350968</td>\n",
       "      <td>21.76</td>\n",
       "    </tr>\n",
       "    <tr>\n",
       "      <th>Strategy</th>\n",
       "      <td>0.180000</td>\n",
       "      <td>10.08</td>\n",
       "    </tr>\n",
       "    <tr>\n",
       "      <th>Puzzle</th>\n",
       "      <td>0.186471</td>\n",
       "      <td>3.17</td>\n",
       "    </tr>\n",
       "  </tbody>\n",
       "</table>\n",
       "</div>"
      ],
      "text/plain": [
       "                  mean     sum\n",
       "genre                         \n",
       "Action        0.420196  321.87\n",
       "Shooter       1.245882  232.98\n",
       "Sports        0.703972  150.65\n",
       "Role-Playing  0.499623  145.89\n",
       "Misc          0.405290   62.82\n",
       "Platform      0.576081   42.63\n",
       "Racing        0.469294   39.89\n",
       "Fighting      0.441375   35.31\n",
       "Adventure     0.096490   23.64\n",
       "Simulation    0.350968   21.76\n",
       "Strategy      0.180000   10.08\n",
       "Puzzle        0.186471    3.17"
      ]
     },
     "execution_count": 61,
     "metadata": {},
     "output_type": "execute_result"
    }
   ],
   "source": [
    "# сумма скачиваний жанров\n",
    "r_genres = pd.pivot_table(r, index='genre', values='sum_sales', aggfunc=['mean', 'sum'])\n",
    "r_genres.columns = ['mean', 'sum']\n",
    "r_genres = r_genres.sort_values(by = 'sum', ascending = False)\n",
    "r_genres"
   ]
  },
  {
   "cell_type": "code",
   "execution_count": 62,
   "metadata": {},
   "outputs": [],
   "source": [
    "r_genres = pd.pivot_table(r, index='genre', values='sum_sales', aggfunc='sum').sort_values('sum_sales', ascending=False)"
   ]
  },
  {
   "cell_type": "markdown",
   "metadata": {},
   "source": [
    "Больше всего выделяются игры с жанрами Action и Shooter. Меньше всего - Strategy и Puzzle. Но это еще не означает, что такие жанры самые выгодные, т.к. их может быть больше по кол-ву по сравнению с другими. Посмотрим на средние показатели о продажах. В столбце mean с самыми большими показателями шутеры и спортивные игры. Именно эти жанры будут самыми прибильными."
   ]
  },
  {
   "cell_type": "markdown",
   "metadata": {},
   "source": [
    "Посмотрите на общее распределение игр по жанрам. Что можно сказать о самых прибыльных жанрах? Выделяются ли жанры с высокими и низкими продажами?"
   ]
  },
  {
   "cell_type": "markdown",
   "metadata": {},
   "source": [
    "## Составим портрет пользователя для каждого региона"
   ]
  },
  {
   "cell_type": "markdown",
   "metadata": {},
   "source": [
    "### Северная Америка"
   ]
  },
  {
   "cell_type": "markdown",
   "metadata": {},
   "source": [
    "Для этого возьмем датафрейм r, в котором значения столбца year_of_release больше 2012. Посмторим на самые популярные платформы в каждом регионе. Начнем с NA_sales — продажи в Северной Америке (миллионы проданных копий)"
   ]
  },
  {
   "cell_type": "code",
   "execution_count": 63,
   "metadata": {},
   "outputs": [
    {
     "name": "stdout",
     "output_type": "stream",
     "text": [
      "0.880080418541957\n"
     ]
    },
    {
     "data": {
      "text/html": [
       "<div>\n",
       "<style scoped>\n",
       "    .dataframe tbody tr th:only-of-type {\n",
       "        vertical-align: middle;\n",
       "    }\n",
       "\n",
       "    .dataframe tbody tr th {\n",
       "        vertical-align: top;\n",
       "    }\n",
       "\n",
       "    .dataframe thead th {\n",
       "        text-align: right;\n",
       "    }\n",
       "</style>\n",
       "<table border=\"1\" class=\"dataframe\">\n",
       "  <thead>\n",
       "    <tr style=\"text-align: right;\">\n",
       "      <th></th>\n",
       "      <th>na_sales</th>\n",
       "      <th>dolya</th>\n",
       "    </tr>\n",
       "    <tr>\n",
       "      <th>platform</th>\n",
       "      <th></th>\n",
       "      <th></th>\n",
       "    </tr>\n",
       "  </thead>\n",
       "  <tbody>\n",
       "    <tr>\n",
       "      <th>PS4</th>\n",
       "      <td>108.74</td>\n",
       "      <td>0.248429</td>\n",
       "    </tr>\n",
       "    <tr>\n",
       "      <th>XOne</th>\n",
       "      <td>93.12</td>\n",
       "      <td>0.212744</td>\n",
       "    </tr>\n",
       "    <tr>\n",
       "      <th>X360</th>\n",
       "      <td>81.66</td>\n",
       "      <td>0.186562</td>\n",
       "    </tr>\n",
       "    <tr>\n",
       "      <th>PS3</th>\n",
       "      <td>63.50</td>\n",
       "      <td>0.145073</td>\n",
       "    </tr>\n",
       "    <tr>\n",
       "      <th>3DS</th>\n",
       "      <td>38.20</td>\n",
       "      <td>0.087272</td>\n",
       "    </tr>\n",
       "  </tbody>\n",
       "</table>\n",
       "</div>"
      ],
      "text/plain": [
       "          na_sales     dolya\n",
       "platform                    \n",
       "PS4         108.74  0.248429\n",
       "XOne         93.12  0.212744\n",
       "X360         81.66  0.186562\n",
       "PS3          63.50  0.145073\n",
       "3DS          38.20  0.087272"
      ]
     },
     "execution_count": 63,
     "metadata": {},
     "output_type": "execute_result"
    }
   ],
   "source": [
    "na = r.pivot_table(index = 'platform', values = 'na_sales', aggfunc = 'sum') # построим таблицу по платформам и сумме продаж для каждой платформы\n",
    "na = na.sort_values('na_sales', ascending = False) # отсортируем\n",
    "z = na['na_sales'].sum() # общая сумма столбца na_sales, чтобы посчитать потом доли\n",
    "na['dolya'] = na['na_sales'] / z # добавляем столбец с долями\n",
    "e = na.head() # посмотрим какую долю занимает сумма первых пяти платформ\n",
    "print(e['dolya'].sum())\n",
    "na.head()"
   ]
  },
  {
   "cell_type": "markdown",
   "metadata": {},
   "source": [
    "В Северной Америке за последние несколько лет самые популярные платформы видны на графике. Сумма их долей равна 0.88, т.е. 88%."
   ]
  },
  {
   "cell_type": "markdown",
   "metadata": {},
   "source": [
    "Теперь посмотрим на самые популярные жанры в Северной Америке"
   ]
  },
  {
   "cell_type": "code",
   "execution_count": 64,
   "metadata": {},
   "outputs": [
    {
     "data": {
      "text/html": [
       "<div>\n",
       "<style scoped>\n",
       "    .dataframe tbody tr th:only-of-type {\n",
       "        vertical-align: middle;\n",
       "    }\n",
       "\n",
       "    .dataframe tbody tr th {\n",
       "        vertical-align: top;\n",
       "    }\n",
       "\n",
       "    .dataframe thead th {\n",
       "        text-align: right;\n",
       "    }\n",
       "</style>\n",
       "<table border=\"1\" class=\"dataframe\">\n",
       "  <thead>\n",
       "    <tr style=\"text-align: right;\">\n",
       "      <th></th>\n",
       "      <th>na_sales</th>\n",
       "    </tr>\n",
       "    <tr>\n",
       "      <th>genre</th>\n",
       "      <th></th>\n",
       "    </tr>\n",
       "  </thead>\n",
       "  <tbody>\n",
       "    <tr>\n",
       "      <th>Action</th>\n",
       "      <td>126.05</td>\n",
       "    </tr>\n",
       "    <tr>\n",
       "      <th>Shooter</th>\n",
       "      <td>109.74</td>\n",
       "    </tr>\n",
       "    <tr>\n",
       "      <th>Sports</th>\n",
       "      <td>65.27</td>\n",
       "    </tr>\n",
       "    <tr>\n",
       "      <th>Role-Playing</th>\n",
       "      <td>46.40</td>\n",
       "    </tr>\n",
       "    <tr>\n",
       "      <th>Misc</th>\n",
       "      <td>27.49</td>\n",
       "    </tr>\n",
       "  </tbody>\n",
       "</table>\n",
       "</div>"
      ],
      "text/plain": [
       "              na_sales\n",
       "genre                 \n",
       "Action          126.05\n",
       "Shooter         109.74\n",
       "Sports           65.27\n",
       "Role-Playing     46.40\n",
       "Misc             27.49"
      ]
     },
     "execution_count": 64,
     "metadata": {},
     "output_type": "execute_result"
    }
   ],
   "source": [
    "na_genre = r.pivot_table(index='genre', values='na_sales' , aggfunc='sum').sort_values('na_sales', ascending=False)\n",
    "na_genre.head()"
   ]
  },
  {
   "cell_type": "markdown",
   "metadata": {},
   "source": [
    "В Северной Америке два самых популярных жанра это Action и Shooter\t"
   ]
  },
  {
   "cell_type": "code",
   "execution_count": 65,
   "metadata": {},
   "outputs": [
    {
     "data": {
      "text/html": [
       "<div>\n",
       "<style scoped>\n",
       "    .dataframe tbody tr th:only-of-type {\n",
       "        vertical-align: middle;\n",
       "    }\n",
       "\n",
       "    .dataframe tbody tr th {\n",
       "        vertical-align: top;\n",
       "    }\n",
       "\n",
       "    .dataframe thead th {\n",
       "        text-align: right;\n",
       "    }\n",
       "</style>\n",
       "<table border=\"1\" class=\"dataframe\">\n",
       "  <thead>\n",
       "    <tr style=\"text-align: right;\">\n",
       "      <th></th>\n",
       "      <th>na_sales</th>\n",
       "    </tr>\n",
       "    <tr>\n",
       "      <th>rating</th>\n",
       "      <th></th>\n",
       "    </tr>\n",
       "  </thead>\n",
       "  <tbody>\n",
       "    <tr>\n",
       "      <th>M</th>\n",
       "      <td>165.21</td>\n",
       "    </tr>\n",
       "    <tr>\n",
       "      <th>no_info</th>\n",
       "      <td>89.42</td>\n",
       "    </tr>\n",
       "    <tr>\n",
       "      <th>E</th>\n",
       "      <td>79.05</td>\n",
       "    </tr>\n",
       "    <tr>\n",
       "      <th>E10+</th>\n",
       "      <td>54.24</td>\n",
       "    </tr>\n",
       "    <tr>\n",
       "      <th>T</th>\n",
       "      <td>49.79</td>\n",
       "    </tr>\n",
       "  </tbody>\n",
       "</table>\n",
       "</div>"
      ],
      "text/plain": [
       "         na_sales\n",
       "rating           \n",
       "M          165.21\n",
       "no_info     89.42\n",
       "E           79.05\n",
       "E10+        54.24\n",
       "T           49.79"
      ]
     },
     "execution_count": 65,
     "metadata": {},
     "output_type": "execute_result"
    }
   ],
   "source": [
    "r = r.reset_index()\n",
    "r['rating'] = r['rating'].fillna('no_info') # пропуски означают, что рейтинг просто не успели поставить, поэтому их тоже стоит учесть\n",
    "na_rating = r.pivot_table(index='rating', values='na_sales' , aggfunc='sum').sort_values('na_sales', ascending=False)\n",
    "na_rating"
   ]
  },
  {
   "cell_type": "markdown",
   "metadata": {},
   "source": [
    "Видно, что очень много игр с рейтингом М, который дает ограничение по возрасту от 17 лет. Это влияет на продажу, т.к. люди младше 17 лет не могут покупать эту игру. "
   ]
  },
  {
   "cell_type": "markdown",
   "metadata": {},
   "source": [
    "### Европа"
   ]
  },
  {
   "cell_type": "markdown",
   "metadata": {},
   "source": [
    "Теперь проанализируем Европу"
   ]
  },
  {
   "cell_type": "code",
   "execution_count": 66,
   "metadata": {},
   "outputs": [
    {
     "name": "stdout",
     "output_type": "stream",
     "text": [
      "0.8514647018331082\n"
     ]
    },
    {
     "data": {
      "text/html": [
       "<div>\n",
       "<style scoped>\n",
       "    .dataframe tbody tr th:only-of-type {\n",
       "        vertical-align: middle;\n",
       "    }\n",
       "\n",
       "    .dataframe tbody tr th {\n",
       "        vertical-align: top;\n",
       "    }\n",
       "\n",
       "    .dataframe thead th {\n",
       "        text-align: right;\n",
       "    }\n",
       "</style>\n",
       "<table border=\"1\" class=\"dataframe\">\n",
       "  <thead>\n",
       "    <tr style=\"text-align: right;\">\n",
       "      <th></th>\n",
       "      <th>eu_sales</th>\n",
       "      <th>dolya</th>\n",
       "    </tr>\n",
       "    <tr>\n",
       "      <th>platform</th>\n",
       "      <th></th>\n",
       "      <th></th>\n",
       "    </tr>\n",
       "  </thead>\n",
       "  <tbody>\n",
       "    <tr>\n",
       "      <th>PS4</th>\n",
       "      <td>141.09</td>\n",
       "      <td>0.359712</td>\n",
       "    </tr>\n",
       "    <tr>\n",
       "      <th>PS3</th>\n",
       "      <td>67.81</td>\n",
       "      <td>0.172883</td>\n",
       "    </tr>\n",
       "    <tr>\n",
       "      <th>XOne</th>\n",
       "      <td>51.59</td>\n",
       "      <td>0.131530</td>\n",
       "    </tr>\n",
       "    <tr>\n",
       "      <th>X360</th>\n",
       "      <td>42.52</td>\n",
       "      <td>0.108406</td>\n",
       "    </tr>\n",
       "    <tr>\n",
       "      <th>3DS</th>\n",
       "      <td>30.96</td>\n",
       "      <td>0.078933</td>\n",
       "    </tr>\n",
       "  </tbody>\n",
       "</table>\n",
       "</div>"
      ],
      "text/plain": [
       "          eu_sales     dolya\n",
       "platform                    \n",
       "PS4         141.09  0.359712\n",
       "PS3          67.81  0.172883\n",
       "XOne         51.59  0.131530\n",
       "X360         42.52  0.108406\n",
       "3DS          30.96  0.078933"
      ]
     },
     "execution_count": 66,
     "metadata": {},
     "output_type": "execute_result"
    }
   ],
   "source": [
    "eu = r.pivot_table(index = 'platform', values = 'eu_sales', aggfunc = 'sum') # построим таблицу по платформам и сумме продаж для каждой платформы\n",
    "eu = eu.sort_values('eu_sales', ascending = False) # отсортируем\n",
    "z = eu['eu_sales'].sum() # общая сумма столбца na_sales, чтобы посчитать потом доли\n",
    "eu['dolya'] = eu['eu_sales'] / z # добавляем столбец с долями\n",
    "e = eu.head() # посмотрим какую долю занимает сумма первых пяти платформ\n",
    "print(e['dolya'].sum())\n",
    "eu.head()"
   ]
  },
  {
   "cell_type": "code",
   "execution_count": 67,
   "metadata": {},
   "outputs": [
    {
     "data": {
      "text/html": [
       "<div>\n",
       "<style scoped>\n",
       "    .dataframe tbody tr th:only-of-type {\n",
       "        vertical-align: middle;\n",
       "    }\n",
       "\n",
       "    .dataframe tbody tr th {\n",
       "        vertical-align: top;\n",
       "    }\n",
       "\n",
       "    .dataframe thead th {\n",
       "        text-align: right;\n",
       "    }\n",
       "</style>\n",
       "<table border=\"1\" class=\"dataframe\">\n",
       "  <thead>\n",
       "    <tr style=\"text-align: right;\">\n",
       "      <th></th>\n",
       "      <th>eu_sales</th>\n",
       "    </tr>\n",
       "    <tr>\n",
       "      <th>genre</th>\n",
       "      <th></th>\n",
       "    </tr>\n",
       "  </thead>\n",
       "  <tbody>\n",
       "    <tr>\n",
       "      <th>Action</th>\n",
       "      <td>118.13</td>\n",
       "    </tr>\n",
       "    <tr>\n",
       "      <th>Shooter</th>\n",
       "      <td>87.86</td>\n",
       "    </tr>\n",
       "    <tr>\n",
       "      <th>Sports</th>\n",
       "      <td>60.52</td>\n",
       "    </tr>\n",
       "    <tr>\n",
       "      <th>Role-Playing</th>\n",
       "      <td>36.97</td>\n",
       "    </tr>\n",
       "    <tr>\n",
       "      <th>Racing</th>\n",
       "      <td>20.19</td>\n",
       "    </tr>\n",
       "  </tbody>\n",
       "</table>\n",
       "</div>"
      ],
      "text/plain": [
       "              eu_sales\n",
       "genre                 \n",
       "Action          118.13\n",
       "Shooter          87.86\n",
       "Sports           60.52\n",
       "Role-Playing     36.97\n",
       "Racing           20.19"
      ]
     },
     "execution_count": 67,
     "metadata": {},
     "output_type": "execute_result"
    }
   ],
   "source": [
    "eu_genre = r.pivot_table(index='genre', values='eu_sales' , aggfunc='sum').sort_values('eu_sales', ascending=False)\n",
    "eu_genre.head()"
   ]
  },
  {
   "cell_type": "code",
   "execution_count": 68,
   "metadata": {},
   "outputs": [
    {
     "data": {
      "text/html": [
       "<div>\n",
       "<style scoped>\n",
       "    .dataframe tbody tr th:only-of-type {\n",
       "        vertical-align: middle;\n",
       "    }\n",
       "\n",
       "    .dataframe tbody tr th {\n",
       "        vertical-align: top;\n",
       "    }\n",
       "\n",
       "    .dataframe thead th {\n",
       "        text-align: right;\n",
       "    }\n",
       "</style>\n",
       "<table border=\"1\" class=\"dataframe\">\n",
       "  <thead>\n",
       "    <tr style=\"text-align: right;\">\n",
       "      <th></th>\n",
       "      <th>eu_sales</th>\n",
       "    </tr>\n",
       "    <tr>\n",
       "      <th>rating</th>\n",
       "      <th></th>\n",
       "    </tr>\n",
       "  </thead>\n",
       "  <tbody>\n",
       "    <tr>\n",
       "      <th>M</th>\n",
       "      <td>145.32</td>\n",
       "    </tr>\n",
       "    <tr>\n",
       "      <th>E</th>\n",
       "      <td>83.36</td>\n",
       "    </tr>\n",
       "    <tr>\n",
       "      <th>no_info</th>\n",
       "      <td>78.91</td>\n",
       "    </tr>\n",
       "    <tr>\n",
       "      <th>E10+</th>\n",
       "      <td>42.69</td>\n",
       "    </tr>\n",
       "    <tr>\n",
       "      <th>T</th>\n",
       "      <td>41.95</td>\n",
       "    </tr>\n",
       "  </tbody>\n",
       "</table>\n",
       "</div>"
      ],
      "text/plain": [
       "         eu_sales\n",
       "rating           \n",
       "M          145.32\n",
       "E           83.36\n",
       "no_info     78.91\n",
       "E10+        42.69\n",
       "T           41.95"
      ]
     },
     "execution_count": 68,
     "metadata": {},
     "output_type": "execute_result"
    }
   ],
   "source": [
    "eu_rating = r.pivot_table(index='rating', values='eu_sales' , aggfunc='sum').sort_values('eu_sales', ascending=False)\n",
    "eu_rating"
   ]
  },
  {
   "cell_type": "markdown",
   "metadata": {},
   "source": [
    "По данным таблицам о Европе можно сказать, что очень большая доля приходится на платформу PS4. Первые 5 платформ составляют около 85% от продаж игр. Самые популярные жанры игр это: Action, Shooter и Sports. Похоже на Северную Америку. Рейтинг ESRB влияет на продажи"
   ]
  },
  {
   "cell_type": "markdown",
   "metadata": {},
   "source": [
    "### Япония"
   ]
  },
  {
   "cell_type": "code",
   "execution_count": 69,
   "metadata": {},
   "outputs": [
    {
     "name": "stdout",
     "output_type": "stream",
     "text": [
      "0.9702372496093195\n"
     ]
    },
    {
     "data": {
      "text/html": [
       "<div>\n",
       "<style scoped>\n",
       "    .dataframe tbody tr th:only-of-type {\n",
       "        vertical-align: middle;\n",
       "    }\n",
       "\n",
       "    .dataframe tbody tr th {\n",
       "        vertical-align: top;\n",
       "    }\n",
       "\n",
       "    .dataframe thead th {\n",
       "        text-align: right;\n",
       "    }\n",
       "</style>\n",
       "<table border=\"1\" class=\"dataframe\">\n",
       "  <thead>\n",
       "    <tr style=\"text-align: right;\">\n",
       "      <th></th>\n",
       "      <th>jp_sales</th>\n",
       "      <th>dolya</th>\n",
       "    </tr>\n",
       "    <tr>\n",
       "      <th>platform</th>\n",
       "      <th></th>\n",
       "      <th></th>\n",
       "    </tr>\n",
       "  </thead>\n",
       "  <tbody>\n",
       "    <tr>\n",
       "      <th>3DS</th>\n",
       "      <td>67.81</td>\n",
       "      <td>0.481674</td>\n",
       "    </tr>\n",
       "    <tr>\n",
       "      <th>PS3</th>\n",
       "      <td>23.35</td>\n",
       "      <td>0.165862</td>\n",
       "    </tr>\n",
       "    <tr>\n",
       "      <th>PSV</th>\n",
       "      <td>18.59</td>\n",
       "      <td>0.132050</td>\n",
       "    </tr>\n",
       "    <tr>\n",
       "      <th>PS4</th>\n",
       "      <td>15.96</td>\n",
       "      <td>0.113368</td>\n",
       "    </tr>\n",
       "    <tr>\n",
       "      <th>WiiU</th>\n",
       "      <td>10.88</td>\n",
       "      <td>0.077284</td>\n",
       "    </tr>\n",
       "  </tbody>\n",
       "</table>\n",
       "</div>"
      ],
      "text/plain": [
       "          jp_sales     dolya\n",
       "platform                    \n",
       "3DS          67.81  0.481674\n",
       "PS3          23.35  0.165862\n",
       "PSV          18.59  0.132050\n",
       "PS4          15.96  0.113368\n",
       "WiiU         10.88  0.077284"
      ]
     },
     "execution_count": 69,
     "metadata": {},
     "output_type": "execute_result"
    }
   ],
   "source": [
    "jp = r.pivot_table(index = 'platform', values = 'jp_sales', aggfunc = 'sum') # построим таблицу по платформам и сумме продаж для каждой платформы\n",
    "jp = jp.sort_values('jp_sales', ascending = False) # отсортируем\n",
    "z = jp['jp_sales'].sum() # общая сумма столбца na_sales, чтобы посчитать потом доли\n",
    "jp['dolya'] = jp['jp_sales'] / z # добавляем столбец с долями\n",
    "e = jp.head() # посмотрим какую долю занимает сумма первых пяти платформ\n",
    "print(e['dolya'].sum())\n",
    "jp.head()"
   ]
  },
  {
   "cell_type": "code",
   "execution_count": 70,
   "metadata": {},
   "outputs": [
    {
     "data": {
      "text/html": [
       "<div>\n",
       "<style scoped>\n",
       "    .dataframe tbody tr th:only-of-type {\n",
       "        vertical-align: middle;\n",
       "    }\n",
       "\n",
       "    .dataframe tbody tr th {\n",
       "        vertical-align: top;\n",
       "    }\n",
       "\n",
       "    .dataframe thead th {\n",
       "        text-align: right;\n",
       "    }\n",
       "</style>\n",
       "<table border=\"1\" class=\"dataframe\">\n",
       "  <thead>\n",
       "    <tr style=\"text-align: right;\">\n",
       "      <th></th>\n",
       "      <th>jp_sales</th>\n",
       "    </tr>\n",
       "    <tr>\n",
       "      <th>genre</th>\n",
       "      <th></th>\n",
       "    </tr>\n",
       "  </thead>\n",
       "  <tbody>\n",
       "    <tr>\n",
       "      <th>Role-Playing</th>\n",
       "      <td>51.04</td>\n",
       "    </tr>\n",
       "    <tr>\n",
       "      <th>Action</th>\n",
       "      <td>40.49</td>\n",
       "    </tr>\n",
       "    <tr>\n",
       "      <th>Misc</th>\n",
       "      <td>9.20</td>\n",
       "    </tr>\n",
       "    <tr>\n",
       "      <th>Fighting</th>\n",
       "      <td>7.65</td>\n",
       "    </tr>\n",
       "    <tr>\n",
       "      <th>Shooter</th>\n",
       "      <td>6.61</td>\n",
       "    </tr>\n",
       "  </tbody>\n",
       "</table>\n",
       "</div>"
      ],
      "text/plain": [
       "              jp_sales\n",
       "genre                 \n",
       "Role-Playing     51.04\n",
       "Action           40.49\n",
       "Misc              9.20\n",
       "Fighting          7.65\n",
       "Shooter           6.61"
      ]
     },
     "execution_count": 70,
     "metadata": {},
     "output_type": "execute_result"
    }
   ],
   "source": [
    "jp_genre = r.pivot_table(index='genre', values='jp_sales' , aggfunc='sum').sort_values('jp_sales', ascending=False)\n",
    "jp_genre.head()"
   ]
  },
  {
   "cell_type": "code",
   "execution_count": 71,
   "metadata": {},
   "outputs": [
    {
     "data": {
      "text/html": [
       "<div>\n",
       "<style scoped>\n",
       "    .dataframe tbody tr th:only-of-type {\n",
       "        vertical-align: middle;\n",
       "    }\n",
       "\n",
       "    .dataframe tbody tr th {\n",
       "        vertical-align: top;\n",
       "    }\n",
       "\n",
       "    .dataframe thead th {\n",
       "        text-align: right;\n",
       "    }\n",
       "</style>\n",
       "<table border=\"1\" class=\"dataframe\">\n",
       "  <thead>\n",
       "    <tr style=\"text-align: right;\">\n",
       "      <th></th>\n",
       "      <th>jp_sales</th>\n",
       "    </tr>\n",
       "    <tr>\n",
       "      <th>rating</th>\n",
       "      <th></th>\n",
       "    </tr>\n",
       "  </thead>\n",
       "  <tbody>\n",
       "    <tr>\n",
       "      <th>no_info</th>\n",
       "      <td>85.05</td>\n",
       "    </tr>\n",
       "    <tr>\n",
       "      <th>T</th>\n",
       "      <td>20.59</td>\n",
       "    </tr>\n",
       "    <tr>\n",
       "      <th>E</th>\n",
       "      <td>15.14</td>\n",
       "    </tr>\n",
       "    <tr>\n",
       "      <th>M</th>\n",
       "      <td>14.11</td>\n",
       "    </tr>\n",
       "    <tr>\n",
       "      <th>E10+</th>\n",
       "      <td>5.89</td>\n",
       "    </tr>\n",
       "  </tbody>\n",
       "</table>\n",
       "</div>"
      ],
      "text/plain": [
       "         jp_sales\n",
       "rating           \n",
       "no_info     85.05\n",
       "T           20.59\n",
       "E           15.14\n",
       "M           14.11\n",
       "E10+         5.89"
      ]
     },
     "execution_count": 71,
     "metadata": {},
     "output_type": "execute_result"
    }
   ],
   "source": [
    "jp_rating = r.pivot_table(index='rating', values='jp_sales' , aggfunc='sum').sort_values('jp_sales', ascending=False)\n",
    "jp_rating"
   ]
  },
  {
   "cell_type": "markdown",
   "metadata": {},
   "source": [
    "В Японии одна платформа 3DS занимает практически половину от продаж всех игр. У них достаточно мало платформ, т.к. первые 5 шт занимают 97% от всего рынка. Игры типа экшн не так популярны в Японии, как ролевые игры, видимо, поэтому японцев так много. Рейтинг ESRB не влияет на продажи, т.к. у большинства игр просто нет оценок."
   ]
  },
  {
   "cell_type": "markdown",
   "metadata": {},
   "source": [
    "Из всех проведенных анализов можно составить идеальные портреты людей из разных регионов. Обычный 18 летний американец, который только недавно смог купить игру из-за ESRB сидит дома и играет в экшн или шутер на PS4 или XOne. Где-то в Европе ровесник американца также играет играет в экшн или шутер, но уже на PS4. А в этот момент среднестатистический пятилетний японец сидит и играет в ролевые игры на платформе 3DS."
   ]
  },
  {
   "cell_type": "markdown",
   "metadata": {},
   "source": [
    "## Проверка гипотез"
   ]
  },
  {
   "cell_type": "markdown",
   "metadata": {},
   "source": [
    "Проверим пару гипотез, связанных с рейтингом платформ и жанров."
   ]
  },
  {
   "cell_type": "markdown",
   "metadata": {},
   "source": [
    "### Пользовательские рейтинги платформ"
   ]
  },
  {
   "cell_type": "markdown",
   "metadata": {},
   "source": [
    "Нам нужно проверить одинаковы ли средние пользовательские рейтинги платформ Xbox One и PC. Для этого нам нужно будет воспользоваться методом scipy.stats.ttest_ind, т.к. у нас есть две независымые выборки с пользовательскими рейтингами платформ Xbox One и PC. Нулевая гипотеза (Н0) будет такой: средние пользовательские рейтинги платформ XOne и PC одинаковые. Альтернативная гипотеза (Н1) - Средние пользовательские рейтинги платформ XOne и PC разные. Мы будем проверять двустороннюю гипотезу. Критический уровень статистической значимости возьмем равным 0.05"
   ]
  },
  {
   "cell_type": "code",
   "execution_count": 72,
   "metadata": {},
   "outputs": [
    {
     "name": "stdout",
     "output_type": "stream",
     "text": [
      "p-значение: 0.14012658403611647\n",
      "Не получилось отвергнуть нулевую гипотезу\n"
     ]
    }
   ],
   "source": [
    "r_xbox = r[r['platform'] == 'XOne']['user_score'].dropna() # удалим пропуски на всякий случай\n",
    "r_pc = r[r['platform'] == 'PC']['user_score'].dropna()\n",
    "\n",
    "alpha = 0.05\n",
    "\n",
    "results = st.ttest_ind(r_xbox, r_pc)\n",
    "\n",
    "print('p-значение:', results.pvalue)\n",
    "\n",
    "if results.pvalue < alpha:\n",
    "    print('Отвергаем нулевую гипотезу')\n",
    "else:\n",
    "    print('Не получилось отвергнуть нулевую гипотезу')"
   ]
  },
  {
   "cell_type": "markdown",
   "metadata": {},
   "source": [
    "pvalue оказалось больше критического уровеня статистической значимости, поэтому нулевую гипотезу о том, что средние пользовательские рейтинги платформ XOne и PC одинаковые, не отвергаем"
   ]
  },
  {
   "cell_type": "markdown",
   "metadata": {},
   "source": [
    "### Пользовательские рейтинги жанров"
   ]
  },
  {
   "cell_type": "markdown",
   "metadata": {},
   "source": [
    "Гипотеза звучит так: средние пользовательские рейтинги жанров Action и Sports разные. Тут тоже понадобится тест типа st.ttest_ind, т.к. у нас две разные выборки, которые нужно сравнить. Н0: средние пользовательские рейтинги жанров Action и Sports одинаковые. Н1: средние пользовательские рейтинги жанров Action и Sports разные. Мы будем проверять двустороннюю гипотезу. Критический уровень статистической значимости возьмем равным 0.05"
   ]
  },
  {
   "cell_type": "code",
   "execution_count": 73,
   "metadata": {},
   "outputs": [
    {
     "name": "stdout",
     "output_type": "stream",
     "text": [
      "p-значение: 1.0517832389140023e-27\n",
      "Отвергаем нулевую гипотезу\n"
     ]
    }
   ],
   "source": [
    "r_action = r[r['genre'] == 'Action']['user_score'].dropna()\n",
    "r_sports = r[r['genre'] == 'Sports']['user_score'].dropna()\n",
    "\n",
    "alpha = 0.05\n",
    "\n",
    "results = st.ttest_ind(r_action, r_sports)\n",
    "\n",
    "print('p-значение:', results.pvalue)\n",
    "\n",
    "if results.pvalue < alpha:\n",
    "    print('Отвергаем нулевую гипотезу')\n",
    "else:\n",
    "    print('Не получилось отвергнуть нулевую гипотезу')"
   ]
  },
  {
   "cell_type": "markdown",
   "metadata": {},
   "source": [
    "Мы отвергаем нулевую гипотезу. Это значит, что средние пользовательские рейтинги жанров Action и Sports разные"
   ]
  },
  {
   "cell_type": "markdown",
   "metadata": {},
   "source": [
    "Мы проверили две гипотезы. Получилось, что средние пользовательские рейтинги платформ XOne и PC одинаковые, а средние пользовательские рейтинги жанров Action и Sports разные"
   ]
  },
  {
   "cell_type": "markdown",
   "metadata": {},
   "source": [
    "# Вывод"
   ]
  },
  {
   "cell_type": "markdown",
   "metadata": {},
   "source": [
    "В данном проекте мы проанализировали данные о видеоиграх с помощью интернет-магазина «Стримчик». Ознакомились с датафреймом, собранным за последние 20 лет, о названиях, покупках, жанрах, регонах, различных рейтингов. Обработали пропуски, дубликаты, добавили столбцы, поменяли типы некоторых данных, чтобы с ними было легче работать. Затем провели исследовательский анализ данных, в которых нашли актуальный период игр, их платформ, нашли перспективные платформы, посмотрели на влияние отзывов на продажи. Лучше всего под это подошли платформы PS4, XOne. Составили портреты пользователя из Северной Америки, Европы и Японии. Оказалось, что американцы в основном играют в экшн или шутер на PS4 или XOne. В Европе люди играют в экшн или шутер, но уже на PS4. А японцы - в ролевые игры на платформе 3DS. Проверили гипотезы о пользовательском рейтинге платформ и жанров. По всем выводам можно сказать, что в 2017 году одними из самых популярных платформ будут: PS4 и XOne. Прибыльными играми будут шутеры или спортивные игры. Это поможет сделать ставку на потенциально популярный продукт и спланировать рекламные кампании."
   ]
  }
 ],
 "metadata": {
  "ExecuteTimeLog": [
   {
    "duration": 386,
    "start_time": "2023-08-31T14:38:36.286Z"
   },
   {
    "duration": 4,
    "start_time": "2023-08-31T14:38:40.389Z"
   },
   {
    "duration": 207,
    "start_time": "2023-08-31T14:39:38.150Z"
   },
   {
    "duration": 65,
    "start_time": "2023-08-31T14:40:43.362Z"
   },
   {
    "duration": 66,
    "start_time": "2023-08-31T14:41:06.584Z"
   },
   {
    "duration": 79,
    "start_time": "2023-08-31T14:41:19.344Z"
   },
   {
    "duration": 100,
    "start_time": "2023-08-31T14:41:36.986Z"
   },
   {
    "duration": 3,
    "start_time": "2023-08-31T14:56:42.533Z"
   },
   {
    "duration": 73,
    "start_time": "2023-08-31T14:58:16.997Z"
   },
   {
    "duration": 6,
    "start_time": "2023-08-31T14:58:44.210Z"
   },
   {
    "duration": 7,
    "start_time": "2023-08-31T14:58:50.781Z"
   },
   {
    "duration": 6,
    "start_time": "2023-08-31T14:58:54.983Z"
   },
   {
    "duration": 9,
    "start_time": "2023-08-31T15:00:01.041Z"
   },
   {
    "duration": 3,
    "start_time": "2023-08-31T15:00:05.911Z"
   },
   {
    "duration": 105,
    "start_time": "2023-08-31T15:00:05.917Z"
   },
   {
    "duration": 12,
    "start_time": "2023-08-31T15:00:06.025Z"
   },
   {
    "duration": 22,
    "start_time": "2023-08-31T15:00:20.218Z"
   },
   {
    "duration": 23,
    "start_time": "2023-08-31T15:00:27.046Z"
   },
   {
    "duration": 4,
    "start_time": "2023-08-31T15:00:33.068Z"
   },
   {
    "duration": 99,
    "start_time": "2023-08-31T15:00:33.075Z"
   },
   {
    "duration": 32,
    "start_time": "2023-08-31T15:00:33.176Z"
   },
   {
    "duration": 22,
    "start_time": "2023-08-31T15:00:37.727Z"
   },
   {
    "duration": 3,
    "start_time": "2023-08-31T15:00:40.028Z"
   },
   {
    "duration": 95,
    "start_time": "2023-08-31T15:00:40.033Z"
   },
   {
    "duration": 25,
    "start_time": "2023-08-31T15:00:40.130Z"
   },
   {
    "duration": 16,
    "start_time": "2023-08-31T15:00:59.016Z"
   },
   {
    "duration": 16,
    "start_time": "2023-08-31T15:09:02.929Z"
   },
   {
    "duration": 4,
    "start_time": "2023-08-31T15:09:10.076Z"
   },
   {
    "duration": 84,
    "start_time": "2023-08-31T15:09:10.082Z"
   },
   {
    "duration": 15,
    "start_time": "2023-08-31T15:09:10.168Z"
   },
   {
    "duration": 19,
    "start_time": "2023-08-31T15:09:10.185Z"
   },
   {
    "duration": 16,
    "start_time": "2023-08-31T15:12:10.920Z"
   },
   {
    "duration": 4,
    "start_time": "2023-08-31T15:12:16.568Z"
   },
   {
    "duration": 86,
    "start_time": "2023-08-31T15:12:16.575Z"
   },
   {
    "duration": 21,
    "start_time": "2023-08-31T15:12:16.664Z"
   },
   {
    "duration": 31,
    "start_time": "2023-08-31T15:12:16.687Z"
   },
   {
    "duration": 23,
    "start_time": "2023-08-31T15:13:52.750Z"
   },
   {
    "duration": 3,
    "start_time": "2023-08-31T15:14:02.300Z"
   },
   {
    "duration": 140,
    "start_time": "2023-08-31T15:14:02.306Z"
   },
   {
    "duration": 17,
    "start_time": "2023-08-31T15:14:02.449Z"
   },
   {
    "duration": 18,
    "start_time": "2023-08-31T15:14:02.469Z"
   },
   {
    "duration": 27,
    "start_time": "2023-08-31T15:14:37.429Z"
   },
   {
    "duration": 23,
    "start_time": "2023-08-31T15:14:48.747Z"
   },
   {
    "duration": 4,
    "start_time": "2023-08-31T15:15:10.867Z"
   },
   {
    "duration": 93,
    "start_time": "2023-08-31T15:15:10.872Z"
   },
   {
    "duration": 17,
    "start_time": "2023-08-31T15:15:10.966Z"
   },
   {
    "duration": 16,
    "start_time": "2023-08-31T15:15:10.986Z"
   },
   {
    "duration": 78,
    "start_time": "2023-08-31T15:27:42.610Z"
   },
   {
    "duration": 1947,
    "start_time": "2023-08-31T15:54:11.044Z"
   },
   {
    "duration": 1936,
    "start_time": "2023-08-31T15:54:25.494Z"
   },
   {
    "duration": 3,
    "start_time": "2023-08-31T15:54:34.708Z"
   },
   {
    "duration": 83,
    "start_time": "2023-08-31T15:54:34.714Z"
   },
   {
    "duration": 15,
    "start_time": "2023-08-31T15:54:34.799Z"
   },
   {
    "duration": 27,
    "start_time": "2023-08-31T15:54:34.816Z"
   },
   {
    "duration": 14,
    "start_time": "2023-08-31T15:57:08.758Z"
   },
   {
    "duration": 3,
    "start_time": "2023-08-31T15:57:12.093Z"
   },
   {
    "duration": 100,
    "start_time": "2023-08-31T15:57:12.098Z"
   },
   {
    "duration": 15,
    "start_time": "2023-08-31T15:57:12.201Z"
   },
   {
    "duration": 19,
    "start_time": "2023-08-31T15:57:12.219Z"
   },
   {
    "duration": 12,
    "start_time": "2023-08-31T16:03:29.186Z"
   },
   {
    "duration": 29,
    "start_time": "2023-08-31T16:05:48.252Z"
   },
   {
    "duration": 21,
    "start_time": "2023-08-31T16:06:30.471Z"
   },
   {
    "duration": 52,
    "start_time": "2023-08-31T16:09:38.852Z"
   },
   {
    "duration": 13,
    "start_time": "2023-08-31T16:10:16.425Z"
   },
   {
    "duration": 16,
    "start_time": "2023-08-31T16:10:24.153Z"
   },
   {
    "duration": 13,
    "start_time": "2023-08-31T16:10:44.592Z"
   },
   {
    "duration": 15,
    "start_time": "2023-08-31T16:33:07.502Z"
   },
   {
    "duration": 12,
    "start_time": "2023-08-31T16:36:13.623Z"
   },
   {
    "duration": 5,
    "start_time": "2023-08-31T16:36:36.691Z"
   },
   {
    "duration": 9,
    "start_time": "2023-08-31T16:37:13.806Z"
   },
   {
    "duration": 9,
    "start_time": "2023-08-31T16:37:22.561Z"
   },
   {
    "duration": 3,
    "start_time": "2023-08-31T16:38:04.179Z"
   },
   {
    "duration": 107,
    "start_time": "2023-08-31T16:38:04.186Z"
   },
   {
    "duration": 23,
    "start_time": "2023-08-31T16:38:04.296Z"
   },
   {
    "duration": 41,
    "start_time": "2023-08-31T16:38:04.321Z"
   },
   {
    "duration": 13,
    "start_time": "2023-08-31T16:38:04.365Z"
   },
   {
    "duration": 22,
    "start_time": "2023-08-31T16:38:04.380Z"
   },
   {
    "duration": 11,
    "start_time": "2023-08-31T16:38:04.404Z"
   },
   {
    "duration": 0,
    "start_time": "2023-08-31T16:38:04.416Z"
   },
   {
    "duration": 5,
    "start_time": "2023-08-31T16:39:09.567Z"
   },
   {
    "duration": 6,
    "start_time": "2023-08-31T16:43:51.755Z"
   },
   {
    "duration": 5,
    "start_time": "2023-08-31T16:43:53.218Z"
   },
   {
    "duration": 12,
    "start_time": "2023-08-31T18:37:33.196Z"
   },
   {
    "duration": 17,
    "start_time": "2023-08-31T18:38:03.440Z"
   },
   {
    "duration": 4,
    "start_time": "2023-08-31T18:38:23.181Z"
   },
   {
    "duration": 126,
    "start_time": "2023-08-31T18:38:23.188Z"
   },
   {
    "duration": 22,
    "start_time": "2023-08-31T18:38:23.316Z"
   },
   {
    "duration": 54,
    "start_time": "2023-08-31T18:38:23.341Z"
   },
   {
    "duration": 12,
    "start_time": "2023-08-31T18:38:23.398Z"
   },
   {
    "duration": 20,
    "start_time": "2023-08-31T18:38:23.412Z"
   },
   {
    "duration": 30,
    "start_time": "2023-08-31T18:38:23.435Z"
   },
   {
    "duration": 16,
    "start_time": "2023-08-31T18:38:23.467Z"
   },
   {
    "duration": 15,
    "start_time": "2023-08-31T18:38:23.485Z"
   },
   {
    "duration": 9,
    "start_time": "2023-08-31T18:38:23.503Z"
   },
   {
    "duration": 46,
    "start_time": "2023-08-31T18:38:23.515Z"
   },
   {
    "duration": 16,
    "start_time": "2023-08-31T18:50:10.088Z"
   },
   {
    "duration": 28,
    "start_time": "2023-08-31T18:50:43.556Z"
   },
   {
    "duration": 3,
    "start_time": "2023-08-31T18:50:49.090Z"
   },
   {
    "duration": 130,
    "start_time": "2023-08-31T18:50:49.095Z"
   },
   {
    "duration": 15,
    "start_time": "2023-08-31T18:50:49.227Z"
   },
   {
    "duration": 29,
    "start_time": "2023-08-31T18:50:49.244Z"
   },
   {
    "duration": 117,
    "start_time": "2023-08-31T18:50:49.275Z"
   },
   {
    "duration": 48,
    "start_time": "2023-08-31T18:50:49.394Z"
   },
   {
    "duration": 76,
    "start_time": "2023-08-31T18:50:49.444Z"
   },
   {
    "duration": 28,
    "start_time": "2023-08-31T18:50:49.522Z"
   },
   {
    "duration": 48,
    "start_time": "2023-08-31T18:50:49.552Z"
   },
   {
    "duration": 26,
    "start_time": "2023-08-31T18:50:49.602Z"
   },
   {
    "duration": 38,
    "start_time": "2023-08-31T18:50:49.630Z"
   },
   {
    "duration": 20,
    "start_time": "2023-08-31T18:55:18.398Z"
   },
   {
    "duration": 14,
    "start_time": "2023-08-31T18:55:27.071Z"
   },
   {
    "duration": 26,
    "start_time": "2023-08-31T18:55:33.391Z"
   },
   {
    "duration": 26,
    "start_time": "2023-08-31T18:59:06.342Z"
   },
   {
    "duration": 4,
    "start_time": "2023-08-31T18:59:18.451Z"
   },
   {
    "duration": 83,
    "start_time": "2023-08-31T18:59:18.457Z"
   },
   {
    "duration": 16,
    "start_time": "2023-08-31T18:59:18.542Z"
   },
   {
    "duration": 32,
    "start_time": "2023-08-31T18:59:18.560Z"
   },
   {
    "duration": 14,
    "start_time": "2023-08-31T18:59:18.595Z"
   },
   {
    "duration": 15,
    "start_time": "2023-08-31T18:59:18.611Z"
   },
   {
    "duration": 6,
    "start_time": "2023-08-31T18:59:18.628Z"
   },
   {
    "duration": 37,
    "start_time": "2023-08-31T18:59:18.635Z"
   },
   {
    "duration": 12,
    "start_time": "2023-08-31T18:59:18.673Z"
   },
   {
    "duration": 6,
    "start_time": "2023-08-31T18:59:18.687Z"
   },
   {
    "duration": 19,
    "start_time": "2023-08-31T18:59:18.694Z"
   },
   {
    "duration": 4,
    "start_time": "2023-08-31T18:59:32.929Z"
   },
   {
    "duration": 133,
    "start_time": "2023-08-31T18:59:32.936Z"
   },
   {
    "duration": 17,
    "start_time": "2023-08-31T18:59:33.077Z"
   },
   {
    "duration": 28,
    "start_time": "2023-08-31T18:59:33.096Z"
   },
   {
    "duration": 34,
    "start_time": "2023-08-31T18:59:33.128Z"
   },
   {
    "duration": 20,
    "start_time": "2023-08-31T18:59:33.165Z"
   },
   {
    "duration": 9,
    "start_time": "2023-08-31T18:59:33.187Z"
   },
   {
    "duration": 14,
    "start_time": "2023-08-31T18:59:33.198Z"
   },
   {
    "duration": 13,
    "start_time": "2023-08-31T18:59:33.214Z"
   },
   {
    "duration": 51,
    "start_time": "2023-08-31T18:59:33.229Z"
   },
   {
    "duration": 33,
    "start_time": "2023-08-31T18:59:33.283Z"
   },
   {
    "duration": 33,
    "start_time": "2023-08-31T19:01:31.556Z"
   },
   {
    "duration": 25,
    "start_time": "2023-08-31T19:06:13.766Z"
   },
   {
    "duration": 23,
    "start_time": "2023-08-31T19:09:51.583Z"
   },
   {
    "duration": 32,
    "start_time": "2023-08-31T19:12:11.704Z"
   },
   {
    "duration": 49,
    "start_time": "2023-09-01T14:31:37.204Z"
   },
   {
    "duration": 376,
    "start_time": "2023-09-01T14:31:40.298Z"
   },
   {
    "duration": 222,
    "start_time": "2023-09-01T14:31:40.676Z"
   },
   {
    "duration": 14,
    "start_time": "2023-09-01T14:31:40.900Z"
   },
   {
    "duration": 20,
    "start_time": "2023-09-01T14:31:40.916Z"
   },
   {
    "duration": 11,
    "start_time": "2023-09-01T14:31:40.938Z"
   },
   {
    "duration": 28,
    "start_time": "2023-09-01T14:31:40.950Z"
   },
   {
    "duration": 15,
    "start_time": "2023-09-01T14:31:40.979Z"
   },
   {
    "duration": 13,
    "start_time": "2023-09-01T14:31:40.995Z"
   },
   {
    "duration": 10,
    "start_time": "2023-09-01T14:31:41.010Z"
   },
   {
    "duration": 6,
    "start_time": "2023-09-01T14:31:41.021Z"
   },
   {
    "duration": 39,
    "start_time": "2023-09-01T14:31:41.028Z"
   },
   {
    "duration": 5,
    "start_time": "2023-09-01T14:31:41.069Z"
   },
   {
    "duration": 5,
    "start_time": "2023-09-01T14:31:47.017Z"
   },
   {
    "duration": 25,
    "start_time": "2023-09-01T14:31:54.318Z"
   },
   {
    "duration": 25,
    "start_time": "2023-09-01T14:44:34.412Z"
   },
   {
    "duration": 12,
    "start_time": "2023-09-01T14:49:30.011Z"
   },
   {
    "duration": 29,
    "start_time": "2023-09-01T14:49:54.000Z"
   },
   {
    "duration": 8,
    "start_time": "2023-09-01T14:52:20.088Z"
   },
   {
    "duration": 7,
    "start_time": "2023-09-01T14:52:47.954Z"
   },
   {
    "duration": 7,
    "start_time": "2023-09-01T14:52:57.117Z"
   },
   {
    "duration": 578,
    "start_time": "2023-09-01T14:59:50.304Z"
   },
   {
    "duration": 157,
    "start_time": "2023-09-01T15:00:08.754Z"
   },
   {
    "duration": 176,
    "start_time": "2023-09-01T15:01:54.373Z"
   },
   {
    "duration": 145,
    "start_time": "2023-09-01T15:02:38.447Z"
   },
   {
    "duration": 41,
    "start_time": "2023-09-01T15:02:47.634Z"
   },
   {
    "duration": 244,
    "start_time": "2023-09-01T15:02:53.854Z"
   },
   {
    "duration": 145,
    "start_time": "2023-09-01T15:03:06.619Z"
   },
   {
    "duration": 162,
    "start_time": "2023-09-01T15:09:43.722Z"
   },
   {
    "duration": 168,
    "start_time": "2023-09-01T15:09:48.546Z"
   },
   {
    "duration": 169,
    "start_time": "2023-09-01T15:09:54.179Z"
   },
   {
    "duration": 184,
    "start_time": "2023-09-01T15:09:59.324Z"
   },
   {
    "duration": 178,
    "start_time": "2023-09-01T15:10:05.609Z"
   },
   {
    "duration": 159,
    "start_time": "2023-09-01T15:10:17.951Z"
   },
   {
    "duration": 204,
    "start_time": "2023-09-01T15:10:23.284Z"
   },
   {
    "duration": 172,
    "start_time": "2023-09-01T15:10:37.997Z"
   },
   {
    "duration": 12,
    "start_time": "2023-09-01T15:21:49.523Z"
   },
   {
    "duration": 16,
    "start_time": "2023-09-01T15:21:56.737Z"
   },
   {
    "duration": 16,
    "start_time": "2023-09-01T15:24:12.833Z"
   },
   {
    "duration": 15,
    "start_time": "2023-09-01T15:24:31.705Z"
   },
   {
    "duration": 16,
    "start_time": "2023-09-01T15:24:42.011Z"
   },
   {
    "duration": 12,
    "start_time": "2023-09-01T15:28:25.636Z"
   },
   {
    "duration": 16,
    "start_time": "2023-09-01T15:28:34.838Z"
   },
   {
    "duration": 146,
    "start_time": "2023-09-01T15:29:00.222Z"
   },
   {
    "duration": 24,
    "start_time": "2023-09-01T15:33:27.002Z"
   },
   {
    "duration": 20,
    "start_time": "2023-09-01T15:35:12.467Z"
   },
   {
    "duration": 1981,
    "start_time": "2023-09-01T15:36:53.192Z"
   },
   {
    "duration": 1828,
    "start_time": "2023-09-01T15:37:27.444Z"
   },
   {
    "duration": 21,
    "start_time": "2023-09-01T15:41:22.806Z"
   },
   {
    "duration": 28,
    "start_time": "2023-09-01T15:41:55.542Z"
   },
   {
    "duration": 32,
    "start_time": "2023-09-01T15:42:04.369Z"
   },
   {
    "duration": 30,
    "start_time": "2023-09-01T15:44:48.675Z"
   },
   {
    "duration": 3,
    "start_time": "2023-09-01T15:44:54.117Z"
   },
   {
    "duration": 181,
    "start_time": "2023-09-01T15:44:54.122Z"
   },
   {
    "duration": 14,
    "start_time": "2023-09-01T15:44:54.304Z"
   },
   {
    "duration": 20,
    "start_time": "2023-09-01T15:44:54.320Z"
   },
   {
    "duration": 28,
    "start_time": "2023-09-01T15:44:54.342Z"
   },
   {
    "duration": 11,
    "start_time": "2023-09-01T15:44:54.372Z"
   },
   {
    "duration": 10,
    "start_time": "2023-09-01T15:44:54.385Z"
   },
   {
    "duration": 17,
    "start_time": "2023-09-01T15:44:54.396Z"
   },
   {
    "duration": 10,
    "start_time": "2023-09-01T15:44:54.414Z"
   },
   {
    "duration": 9,
    "start_time": "2023-09-01T15:44:54.425Z"
   },
   {
    "duration": 37,
    "start_time": "2023-09-01T15:44:54.436Z"
   },
   {
    "duration": 19,
    "start_time": "2023-09-01T15:44:54.474Z"
   },
   {
    "duration": 193,
    "start_time": "2023-09-01T15:44:54.494Z"
   },
   {
    "duration": 30,
    "start_time": "2023-09-01T15:44:54.690Z"
   },
   {
    "duration": 21,
    "start_time": "2023-09-01T15:46:21.749Z"
   },
   {
    "duration": 20,
    "start_time": "2023-09-01T15:46:35.312Z"
   },
   {
    "duration": 22,
    "start_time": "2023-09-01T15:47:16.885Z"
   },
   {
    "duration": 110,
    "start_time": "2023-09-01T15:47:23.658Z"
   },
   {
    "duration": 149,
    "start_time": "2023-09-01T15:47:53.969Z"
   },
   {
    "duration": 2103,
    "start_time": "2023-09-01T15:52:03.448Z"
   },
   {
    "duration": 4,
    "start_time": "2023-09-01T15:53:01.298Z"
   },
   {
    "duration": 9,
    "start_time": "2023-09-01T15:53:06.236Z"
   },
   {
    "duration": 10,
    "start_time": "2023-09-01T15:53:32.750Z"
   },
   {
    "duration": 17,
    "start_time": "2023-09-01T15:53:44.076Z"
   },
   {
    "duration": 3,
    "start_time": "2023-09-01T15:59:22.514Z"
   },
   {
    "duration": 10,
    "start_time": "2023-09-01T15:59:26.728Z"
   },
   {
    "duration": 11,
    "start_time": "2023-09-01T15:59:45.458Z"
   },
   {
    "duration": 11,
    "start_time": "2023-09-01T15:59:56.548Z"
   },
   {
    "duration": 4,
    "start_time": "2023-09-01T15:59:59.415Z"
   },
   {
    "duration": 108,
    "start_time": "2023-09-01T15:59:59.421Z"
   },
   {
    "duration": 15,
    "start_time": "2023-09-01T15:59:59.530Z"
   },
   {
    "duration": 25,
    "start_time": "2023-09-01T15:59:59.548Z"
   },
   {
    "duration": 22,
    "start_time": "2023-09-01T15:59:59.574Z"
   },
   {
    "duration": 13,
    "start_time": "2023-09-01T15:59:59.598Z"
   },
   {
    "duration": 5,
    "start_time": "2023-09-01T15:59:59.613Z"
   },
   {
    "duration": 13,
    "start_time": "2023-09-01T15:59:59.619Z"
   },
   {
    "duration": 9,
    "start_time": "2023-09-01T15:59:59.634Z"
   },
   {
    "duration": 19,
    "start_time": "2023-09-01T15:59:59.645Z"
   },
   {
    "duration": 24,
    "start_time": "2023-09-01T15:59:59.665Z"
   },
   {
    "duration": 16,
    "start_time": "2023-09-01T15:59:59.691Z"
   },
   {
    "duration": 189,
    "start_time": "2023-09-01T15:59:59.708Z"
   },
   {
    "duration": 15,
    "start_time": "2023-09-01T15:59:59.898Z"
   },
   {
    "duration": 7,
    "start_time": "2023-09-01T15:59:59.915Z"
   },
   {
    "duration": 9,
    "start_time": "2023-09-01T16:00:09.352Z"
   },
   {
    "duration": 3,
    "start_time": "2023-09-01T16:00:13.455Z"
   },
   {
    "duration": 103,
    "start_time": "2023-09-01T16:00:13.460Z"
   },
   {
    "duration": 15,
    "start_time": "2023-09-01T16:00:13.565Z"
   },
   {
    "duration": 24,
    "start_time": "2023-09-01T16:00:13.581Z"
   },
   {
    "duration": 9,
    "start_time": "2023-09-01T16:00:13.607Z"
   },
   {
    "duration": 12,
    "start_time": "2023-09-01T16:00:13.618Z"
   },
   {
    "duration": 8,
    "start_time": "2023-09-01T16:00:13.631Z"
   },
   {
    "duration": 5,
    "start_time": "2023-09-01T16:00:13.667Z"
   },
   {
    "duration": 32,
    "start_time": "2023-09-01T16:00:13.673Z"
   },
   {
    "duration": 14,
    "start_time": "2023-09-01T16:00:13.706Z"
   },
   {
    "duration": 47,
    "start_time": "2023-09-01T16:00:13.722Z"
   },
   {
    "duration": 16,
    "start_time": "2023-09-01T16:00:13.771Z"
   },
   {
    "duration": 238,
    "start_time": "2023-09-01T16:00:13.788Z"
   },
   {
    "duration": 15,
    "start_time": "2023-09-01T16:00:14.029Z"
   },
   {
    "duration": 14,
    "start_time": "2023-09-01T16:00:14.046Z"
   },
   {
    "duration": 2,
    "start_time": "2023-09-01T16:00:24.760Z"
   },
   {
    "duration": 95,
    "start_time": "2023-09-01T16:00:24.765Z"
   },
   {
    "duration": 16,
    "start_time": "2023-09-01T16:00:24.862Z"
   },
   {
    "duration": 52,
    "start_time": "2023-09-01T16:00:24.880Z"
   },
   {
    "duration": 8,
    "start_time": "2023-09-01T16:00:24.934Z"
   },
   {
    "duration": 21,
    "start_time": "2023-09-01T16:00:24.944Z"
   },
   {
    "duration": 17,
    "start_time": "2023-09-01T16:00:24.967Z"
   },
   {
    "duration": 14,
    "start_time": "2023-09-01T16:00:24.986Z"
   },
   {
    "duration": 20,
    "start_time": "2023-09-01T16:00:25.002Z"
   },
   {
    "duration": 15,
    "start_time": "2023-09-01T16:00:25.023Z"
   },
   {
    "duration": 27,
    "start_time": "2023-09-01T16:00:25.040Z"
   },
   {
    "duration": 17,
    "start_time": "2023-09-01T16:00:25.069Z"
   },
   {
    "duration": 192,
    "start_time": "2023-09-01T16:00:25.088Z"
   },
   {
    "duration": 17,
    "start_time": "2023-09-01T16:00:25.283Z"
   },
   {
    "duration": 8,
    "start_time": "2023-09-01T16:00:25.301Z"
   },
   {
    "duration": 3,
    "start_time": "2023-09-01T16:00:43.836Z"
   },
   {
    "duration": 107,
    "start_time": "2023-09-01T16:00:43.841Z"
   },
   {
    "duration": 21,
    "start_time": "2023-09-01T16:00:43.950Z"
   },
   {
    "duration": 42,
    "start_time": "2023-09-01T16:00:43.973Z"
   },
   {
    "duration": 9,
    "start_time": "2023-09-01T16:00:44.017Z"
   },
   {
    "duration": 20,
    "start_time": "2023-09-01T16:00:44.028Z"
   },
   {
    "duration": 10,
    "start_time": "2023-09-01T16:00:44.049Z"
   },
   {
    "duration": 19,
    "start_time": "2023-09-01T16:00:44.061Z"
   },
   {
    "duration": 23,
    "start_time": "2023-09-01T16:00:44.082Z"
   },
   {
    "duration": 12,
    "start_time": "2023-09-01T16:00:44.106Z"
   },
   {
    "duration": 31,
    "start_time": "2023-09-01T16:00:44.120Z"
   },
   {
    "duration": 17,
    "start_time": "2023-09-01T16:00:44.153Z"
   },
   {
    "duration": 188,
    "start_time": "2023-09-01T16:00:44.172Z"
   },
   {
    "duration": 16,
    "start_time": "2023-09-01T16:00:44.363Z"
   },
   {
    "duration": 23,
    "start_time": "2023-09-01T16:00:44.381Z"
   },
   {
    "duration": 3,
    "start_time": "2023-09-01T16:00:51.275Z"
   },
   {
    "duration": 115,
    "start_time": "2023-09-01T16:00:51.280Z"
   },
   {
    "duration": 14,
    "start_time": "2023-09-01T16:00:51.397Z"
   },
   {
    "duration": 41,
    "start_time": "2023-09-01T16:00:51.412Z"
   },
   {
    "duration": 15,
    "start_time": "2023-09-01T16:00:51.455Z"
   },
   {
    "duration": 12,
    "start_time": "2023-09-01T16:00:51.471Z"
   },
   {
    "duration": 27,
    "start_time": "2023-09-01T16:00:51.485Z"
   },
   {
    "duration": 29,
    "start_time": "2023-09-01T16:00:51.514Z"
   },
   {
    "duration": 32,
    "start_time": "2023-09-01T16:00:51.544Z"
   },
   {
    "duration": 22,
    "start_time": "2023-09-01T16:00:51.578Z"
   },
   {
    "duration": 21,
    "start_time": "2023-09-01T16:00:51.602Z"
   },
   {
    "duration": 17,
    "start_time": "2023-09-01T16:00:51.624Z"
   },
   {
    "duration": 187,
    "start_time": "2023-09-01T16:00:51.642Z"
   },
   {
    "duration": 15,
    "start_time": "2023-09-01T16:00:51.832Z"
   },
   {
    "duration": 84,
    "start_time": "2023-09-01T16:00:51.849Z"
   },
   {
    "duration": 7,
    "start_time": "2023-09-01T16:02:59.247Z"
   },
   {
    "duration": 3,
    "start_time": "2023-09-01T16:03:26.093Z"
   },
   {
    "duration": 3,
    "start_time": "2023-09-01T16:03:30.288Z"
   },
   {
    "duration": 4,
    "start_time": "2023-09-01T16:03:38.037Z"
   },
   {
    "duration": 3,
    "start_time": "2023-09-01T16:03:43.000Z"
   },
   {
    "duration": 98,
    "start_time": "2023-09-01T16:03:43.006Z"
   },
   {
    "duration": 15,
    "start_time": "2023-09-01T16:03:43.105Z"
   },
   {
    "duration": 26,
    "start_time": "2023-09-01T16:03:43.121Z"
   },
   {
    "duration": 20,
    "start_time": "2023-09-01T16:03:43.149Z"
   },
   {
    "duration": 22,
    "start_time": "2023-09-01T16:03:43.171Z"
   },
   {
    "duration": 8,
    "start_time": "2023-09-01T16:03:43.194Z"
   },
   {
    "duration": 21,
    "start_time": "2023-09-01T16:03:43.204Z"
   },
   {
    "duration": 13,
    "start_time": "2023-09-01T16:03:43.227Z"
   },
   {
    "duration": 8,
    "start_time": "2023-09-01T16:03:43.242Z"
   },
   {
    "duration": 50,
    "start_time": "2023-09-01T16:03:43.252Z"
   },
   {
    "duration": 16,
    "start_time": "2023-09-01T16:03:43.304Z"
   },
   {
    "duration": 171,
    "start_time": "2023-09-01T16:03:43.322Z"
   },
   {
    "duration": 16,
    "start_time": "2023-09-01T16:03:43.495Z"
   },
   {
    "duration": 12,
    "start_time": "2023-09-01T16:03:43.512Z"
   },
   {
    "duration": 5,
    "start_time": "2023-09-01T16:03:43.525Z"
   },
   {
    "duration": 4,
    "start_time": "2023-09-01T16:05:13.616Z"
   },
   {
    "duration": 6,
    "start_time": "2023-09-01T17:28:47.578Z"
   },
   {
    "duration": 101,
    "start_time": "2023-09-01T17:34:15.462Z"
   },
   {
    "duration": 8,
    "start_time": "2023-09-01T17:34:35.811Z"
   },
   {
    "duration": 3,
    "start_time": "2023-09-01T17:34:41.306Z"
   },
   {
    "duration": 113,
    "start_time": "2023-09-01T17:34:41.311Z"
   },
   {
    "duration": 14,
    "start_time": "2023-09-01T17:34:41.426Z"
   },
   {
    "duration": 27,
    "start_time": "2023-09-01T17:34:41.442Z"
   },
   {
    "duration": 12,
    "start_time": "2023-09-01T17:34:41.472Z"
   },
   {
    "duration": 21,
    "start_time": "2023-09-01T17:34:41.486Z"
   },
   {
    "duration": 11,
    "start_time": "2023-09-01T17:34:41.509Z"
   },
   {
    "duration": 9,
    "start_time": "2023-09-01T17:34:41.522Z"
   },
   {
    "duration": 18,
    "start_time": "2023-09-01T17:34:41.533Z"
   },
   {
    "duration": 15,
    "start_time": "2023-09-01T17:34:41.553Z"
   },
   {
    "duration": 35,
    "start_time": "2023-09-01T17:34:41.570Z"
   },
   {
    "duration": 17,
    "start_time": "2023-09-01T17:34:41.607Z"
   },
   {
    "duration": 192,
    "start_time": "2023-09-01T17:34:41.625Z"
   },
   {
    "duration": 16,
    "start_time": "2023-09-01T17:34:41.820Z"
   },
   {
    "duration": 7,
    "start_time": "2023-09-01T17:34:41.838Z"
   },
   {
    "duration": 26,
    "start_time": "2023-09-01T17:34:41.847Z"
   },
   {
    "duration": 13,
    "start_time": "2023-09-01T17:34:48.596Z"
   },
   {
    "duration": 8,
    "start_time": "2023-09-01T17:37:02.784Z"
   },
   {
    "duration": 16,
    "start_time": "2023-09-01T17:37:10.365Z"
   },
   {
    "duration": 8,
    "start_time": "2023-09-01T17:37:41.036Z"
   },
   {
    "duration": 6,
    "start_time": "2023-09-01T17:38:31.525Z"
   },
   {
    "duration": 26,
    "start_time": "2023-09-01T17:38:39.724Z"
   },
   {
    "duration": 7,
    "start_time": "2023-09-01T17:38:51.940Z"
   },
   {
    "duration": 8,
    "start_time": "2023-09-01T17:39:43.312Z"
   },
   {
    "duration": 3,
    "start_time": "2023-09-01T17:39:47.084Z"
   },
   {
    "duration": 96,
    "start_time": "2023-09-01T17:39:47.089Z"
   },
   {
    "duration": 15,
    "start_time": "2023-09-01T17:39:47.187Z"
   },
   {
    "duration": 37,
    "start_time": "2023-09-01T17:39:47.204Z"
   },
   {
    "duration": 15,
    "start_time": "2023-09-01T17:39:47.243Z"
   },
   {
    "duration": 128,
    "start_time": "2023-09-01T17:39:47.259Z"
   },
   {
    "duration": 6,
    "start_time": "2023-09-01T17:39:47.389Z"
   },
   {
    "duration": 9,
    "start_time": "2023-09-01T17:39:47.397Z"
   },
   {
    "duration": 18,
    "start_time": "2023-09-01T17:39:47.409Z"
   },
   {
    "duration": 7,
    "start_time": "2023-09-01T17:39:47.429Z"
   },
   {
    "duration": 43,
    "start_time": "2023-09-01T17:39:47.438Z"
   },
   {
    "duration": 18,
    "start_time": "2023-09-01T17:39:47.484Z"
   },
   {
    "duration": 218,
    "start_time": "2023-09-01T17:39:47.503Z"
   },
   {
    "duration": 17,
    "start_time": "2023-09-01T17:39:47.724Z"
   },
   {
    "duration": 7,
    "start_time": "2023-09-01T17:39:47.743Z"
   },
   {
    "duration": 12,
    "start_time": "2023-09-01T17:39:47.768Z"
   },
   {
    "duration": 9,
    "start_time": "2023-09-01T17:43:02.243Z"
   },
   {
    "duration": 26,
    "start_time": "2023-09-01T17:43:11.630Z"
   },
   {
    "duration": 28,
    "start_time": "2023-09-01T17:44:15.468Z"
   },
   {
    "duration": 2,
    "start_time": "2023-09-01T17:44:27.627Z"
   },
   {
    "duration": 95,
    "start_time": "2023-09-01T17:44:27.631Z"
   },
   {
    "duration": 14,
    "start_time": "2023-09-01T17:44:27.728Z"
   },
   {
    "duration": 36,
    "start_time": "2023-09-01T17:44:27.744Z"
   },
   {
    "duration": 20,
    "start_time": "2023-09-01T17:44:27.783Z"
   },
   {
    "duration": 23,
    "start_time": "2023-09-01T17:44:27.805Z"
   },
   {
    "duration": 25,
    "start_time": "2023-09-01T17:44:27.829Z"
   },
   {
    "duration": 12,
    "start_time": "2023-09-01T17:44:27.855Z"
   },
   {
    "duration": 12,
    "start_time": "2023-09-01T17:44:27.869Z"
   },
   {
    "duration": 20,
    "start_time": "2023-09-01T17:44:27.883Z"
   },
   {
    "duration": 24,
    "start_time": "2023-09-01T17:44:27.905Z"
   },
   {
    "duration": 16,
    "start_time": "2023-09-01T17:44:27.931Z"
   },
   {
    "duration": 190,
    "start_time": "2023-09-01T17:44:27.948Z"
   },
   {
    "duration": 28,
    "start_time": "2023-09-01T17:44:28.140Z"
   },
   {
    "duration": 21,
    "start_time": "2023-09-01T17:44:28.169Z"
   },
   {
    "duration": 8,
    "start_time": "2023-09-01T17:44:28.191Z"
   },
   {
    "duration": 11,
    "start_time": "2023-09-01T17:44:28.200Z"
   },
   {
    "duration": 27,
    "start_time": "2023-09-01T17:45:34.316Z"
   },
   {
    "duration": 3,
    "start_time": "2023-09-01T17:45:56.238Z"
   },
   {
    "duration": 86,
    "start_time": "2023-09-01T17:45:56.244Z"
   },
   {
    "duration": 14,
    "start_time": "2023-09-01T17:45:56.332Z"
   },
   {
    "duration": 20,
    "start_time": "2023-09-01T17:45:56.348Z"
   },
   {
    "duration": 12,
    "start_time": "2023-09-01T17:45:56.369Z"
   },
   {
    "duration": 13,
    "start_time": "2023-09-01T17:45:56.383Z"
   },
   {
    "duration": 6,
    "start_time": "2023-09-01T17:45:56.397Z"
   },
   {
    "duration": 7,
    "start_time": "2023-09-01T17:45:56.404Z"
   },
   {
    "duration": 8,
    "start_time": "2023-09-01T17:45:56.412Z"
   },
   {
    "duration": 5,
    "start_time": "2023-09-01T17:45:56.422Z"
   },
   {
    "duration": 29,
    "start_time": "2023-09-01T17:45:56.467Z"
   },
   {
    "duration": 16,
    "start_time": "2023-09-01T17:45:56.498Z"
   },
   {
    "duration": 191,
    "start_time": "2023-09-01T17:45:56.516Z"
   },
   {
    "duration": 28,
    "start_time": "2023-09-01T17:45:56.708Z"
   },
   {
    "duration": 37,
    "start_time": "2023-09-01T17:45:56.738Z"
   },
   {
    "duration": 7,
    "start_time": "2023-09-01T17:45:56.777Z"
   },
   {
    "duration": 17,
    "start_time": "2023-09-01T17:45:56.786Z"
   },
   {
    "duration": 3,
    "start_time": "2023-09-01T17:46:29.300Z"
   },
   {
    "duration": 9,
    "start_time": "2023-09-01T17:46:36.064Z"
   },
   {
    "duration": 3,
    "start_time": "2023-09-01T17:46:46.503Z"
   },
   {
    "duration": 83,
    "start_time": "2023-09-01T17:46:46.508Z"
   },
   {
    "duration": 16,
    "start_time": "2023-09-01T17:46:46.593Z"
   },
   {
    "duration": 25,
    "start_time": "2023-09-01T17:46:46.610Z"
   },
   {
    "duration": 29,
    "start_time": "2023-09-01T17:46:46.638Z"
   },
   {
    "duration": 12,
    "start_time": "2023-09-01T17:46:46.669Z"
   },
   {
    "duration": 13,
    "start_time": "2023-09-01T17:46:46.683Z"
   },
   {
    "duration": 12,
    "start_time": "2023-09-01T17:46:46.698Z"
   },
   {
    "duration": 23,
    "start_time": "2023-09-01T17:46:46.711Z"
   },
   {
    "duration": 11,
    "start_time": "2023-09-01T17:46:46.736Z"
   },
   {
    "duration": 27,
    "start_time": "2023-09-01T17:46:46.749Z"
   },
   {
    "duration": 17,
    "start_time": "2023-09-01T17:46:46.778Z"
   },
   {
    "duration": 202,
    "start_time": "2023-09-01T17:46:46.797Z"
   },
   {
    "duration": 9,
    "start_time": "2023-09-01T17:46:47.001Z"
   },
   {
    "duration": 33,
    "start_time": "2023-09-01T17:46:47.011Z"
   },
   {
    "duration": 20,
    "start_time": "2023-09-01T17:46:47.046Z"
   },
   {
    "duration": 17,
    "start_time": "2023-09-01T17:46:47.068Z"
   },
   {
    "duration": 9,
    "start_time": "2023-09-01T17:47:02.245Z"
   },
   {
    "duration": 2,
    "start_time": "2023-09-01T17:47:05.599Z"
   },
   {
    "duration": 90,
    "start_time": "2023-09-01T17:47:05.603Z"
   },
   {
    "duration": 14,
    "start_time": "2023-09-01T17:47:05.695Z"
   },
   {
    "duration": 32,
    "start_time": "2023-09-01T17:47:05.711Z"
   },
   {
    "duration": 63,
    "start_time": "2023-09-01T17:47:05.745Z"
   },
   {
    "duration": 28,
    "start_time": "2023-09-01T17:47:05.810Z"
   },
   {
    "duration": 8,
    "start_time": "2023-09-01T17:47:05.840Z"
   },
   {
    "duration": 11,
    "start_time": "2023-09-01T17:47:05.850Z"
   },
   {
    "duration": 20,
    "start_time": "2023-09-01T17:47:05.862Z"
   },
   {
    "duration": 5,
    "start_time": "2023-09-01T17:47:05.884Z"
   },
   {
    "duration": 25,
    "start_time": "2023-09-01T17:47:05.891Z"
   },
   {
    "duration": 16,
    "start_time": "2023-09-01T17:47:05.918Z"
   },
   {
    "duration": 222,
    "start_time": "2023-09-01T17:47:05.936Z"
   },
   {
    "duration": 12,
    "start_time": "2023-09-01T17:47:06.161Z"
   },
   {
    "duration": 16,
    "start_time": "2023-09-01T17:47:06.175Z"
   },
   {
    "duration": 7,
    "start_time": "2023-09-01T17:47:06.193Z"
   },
   {
    "duration": 35,
    "start_time": "2023-09-01T17:47:06.201Z"
   },
   {
    "duration": 8,
    "start_time": "2023-09-01T17:47:25.503Z"
   },
   {
    "duration": 3,
    "start_time": "2023-09-01T17:47:28.187Z"
   },
   {
    "duration": 89,
    "start_time": "2023-09-01T17:47:28.193Z"
   },
   {
    "duration": 16,
    "start_time": "2023-09-01T17:47:28.283Z"
   },
   {
    "duration": 32,
    "start_time": "2023-09-01T17:47:28.301Z"
   },
   {
    "duration": 13,
    "start_time": "2023-09-01T17:47:28.337Z"
   },
   {
    "duration": 16,
    "start_time": "2023-09-01T17:47:28.367Z"
   },
   {
    "duration": 5,
    "start_time": "2023-09-01T17:47:28.385Z"
   },
   {
    "duration": 10,
    "start_time": "2023-09-01T17:47:28.392Z"
   },
   {
    "duration": 11,
    "start_time": "2023-09-01T17:47:28.403Z"
   },
   {
    "duration": 15,
    "start_time": "2023-09-01T17:47:28.416Z"
   },
   {
    "duration": 48,
    "start_time": "2023-09-01T17:47:28.433Z"
   },
   {
    "duration": 18,
    "start_time": "2023-09-01T17:47:28.484Z"
   },
   {
    "duration": 192,
    "start_time": "2023-09-01T17:47:28.503Z"
   },
   {
    "duration": 11,
    "start_time": "2023-09-01T17:47:28.698Z"
   },
   {
    "duration": 24,
    "start_time": "2023-09-01T17:47:28.710Z"
   },
   {
    "duration": 17,
    "start_time": "2023-09-01T17:47:28.736Z"
   },
   {
    "duration": 25,
    "start_time": "2023-09-01T17:47:28.755Z"
   },
   {
    "duration": 7,
    "start_time": "2023-09-01T17:49:36.448Z"
   },
   {
    "duration": 9,
    "start_time": "2023-09-01T17:49:49.076Z"
   },
   {
    "duration": 3,
    "start_time": "2023-09-01T17:49:52.500Z"
   },
   {
    "duration": 79,
    "start_time": "2023-09-01T17:49:52.505Z"
   },
   {
    "duration": 15,
    "start_time": "2023-09-01T17:49:52.586Z"
   },
   {
    "duration": 21,
    "start_time": "2023-09-01T17:49:52.603Z"
   },
   {
    "duration": 10,
    "start_time": "2023-09-01T17:49:52.626Z"
   },
   {
    "duration": 34,
    "start_time": "2023-09-01T17:49:52.638Z"
   },
   {
    "duration": 5,
    "start_time": "2023-09-01T17:49:52.674Z"
   },
   {
    "duration": 8,
    "start_time": "2023-09-01T17:49:52.681Z"
   },
   {
    "duration": 14,
    "start_time": "2023-09-01T17:49:52.691Z"
   },
   {
    "duration": 8,
    "start_time": "2023-09-01T17:49:52.707Z"
   },
   {
    "duration": 25,
    "start_time": "2023-09-01T17:49:52.717Z"
   },
   {
    "duration": 36,
    "start_time": "2023-09-01T17:49:52.743Z"
   },
   {
    "duration": 199,
    "start_time": "2023-09-01T17:49:52.781Z"
   },
   {
    "duration": 9,
    "start_time": "2023-09-01T17:49:52.982Z"
   },
   {
    "duration": 18,
    "start_time": "2023-09-01T17:49:52.992Z"
   },
   {
    "duration": 21,
    "start_time": "2023-09-01T17:49:53.012Z"
   },
   {
    "duration": 35,
    "start_time": "2023-09-01T17:49:53.035Z"
   },
   {
    "duration": 2,
    "start_time": "2023-09-01T17:59:28.442Z"
   },
   {
    "duration": 79,
    "start_time": "2023-09-01T17:59:28.446Z"
   },
   {
    "duration": 14,
    "start_time": "2023-09-01T17:59:28.526Z"
   },
   {
    "duration": 26,
    "start_time": "2023-09-01T17:59:28.542Z"
   },
   {
    "duration": 8,
    "start_time": "2023-09-01T17:59:28.571Z"
   },
   {
    "duration": 10,
    "start_time": "2023-09-01T17:59:28.581Z"
   },
   {
    "duration": 5,
    "start_time": "2023-09-01T17:59:28.592Z"
   },
   {
    "duration": 7,
    "start_time": "2023-09-01T17:59:28.598Z"
   },
   {
    "duration": 6,
    "start_time": "2023-09-01T17:59:28.607Z"
   },
   {
    "duration": 7,
    "start_time": "2023-09-01T17:59:28.615Z"
   },
   {
    "duration": 47,
    "start_time": "2023-09-01T17:59:28.623Z"
   },
   {
    "duration": 16,
    "start_time": "2023-09-01T17:59:28.672Z"
   },
   {
    "duration": 193,
    "start_time": "2023-09-01T17:59:28.690Z"
   },
   {
    "duration": 9,
    "start_time": "2023-09-01T17:59:28.885Z"
   },
   {
    "duration": 24,
    "start_time": "2023-09-01T17:59:28.895Z"
   },
   {
    "duration": 6,
    "start_time": "2023-09-01T17:59:28.921Z"
   },
   {
    "duration": 5,
    "start_time": "2023-09-01T17:59:28.929Z"
   },
   {
    "duration": 15,
    "start_time": "2023-09-01T18:09:17.495Z"
   },
   {
    "duration": 4,
    "start_time": "2023-09-01T18:09:36.274Z"
   },
   {
    "duration": 90,
    "start_time": "2023-09-01T18:09:36.280Z"
   },
   {
    "duration": 16,
    "start_time": "2023-09-01T18:09:36.371Z"
   },
   {
    "duration": 22,
    "start_time": "2023-09-01T18:09:36.389Z"
   },
   {
    "duration": 9,
    "start_time": "2023-09-01T18:09:36.414Z"
   },
   {
    "duration": 31,
    "start_time": "2023-09-01T18:09:36.425Z"
   },
   {
    "duration": 10,
    "start_time": "2023-09-01T18:09:36.458Z"
   },
   {
    "duration": 21,
    "start_time": "2023-09-01T18:09:36.469Z"
   },
   {
    "duration": 12,
    "start_time": "2023-09-01T18:09:36.492Z"
   },
   {
    "duration": 9,
    "start_time": "2023-09-01T18:09:36.506Z"
   },
   {
    "duration": 26,
    "start_time": "2023-09-01T18:09:36.517Z"
   },
   {
    "duration": 36,
    "start_time": "2023-09-01T18:09:36.544Z"
   },
   {
    "duration": 204,
    "start_time": "2023-09-01T18:09:36.582Z"
   },
   {
    "duration": 18,
    "start_time": "2023-09-01T18:09:36.788Z"
   },
   {
    "duration": 8,
    "start_time": "2023-09-01T18:09:36.807Z"
   },
   {
    "duration": 14,
    "start_time": "2023-09-01T18:09:36.816Z"
   },
   {
    "duration": 4,
    "start_time": "2023-09-01T18:09:57.160Z"
   },
   {
    "duration": 3,
    "start_time": "2023-09-01T18:10:02.509Z"
   },
   {
    "duration": 98,
    "start_time": "2023-09-01T18:10:02.514Z"
   },
   {
    "duration": 15,
    "start_time": "2023-09-01T18:10:02.614Z"
   },
   {
    "duration": 83,
    "start_time": "2023-09-01T18:10:02.630Z"
   },
   {
    "duration": 23,
    "start_time": "2023-09-01T18:10:02.715Z"
   },
   {
    "duration": 23,
    "start_time": "2023-09-01T18:10:02.740Z"
   },
   {
    "duration": 6,
    "start_time": "2023-09-01T18:10:02.764Z"
   },
   {
    "duration": 12,
    "start_time": "2023-09-01T18:10:02.771Z"
   },
   {
    "duration": 9,
    "start_time": "2023-09-01T18:10:02.784Z"
   },
   {
    "duration": 4,
    "start_time": "2023-09-01T18:10:02.795Z"
   },
   {
    "duration": 20,
    "start_time": "2023-09-01T18:10:02.801Z"
   },
   {
    "duration": 18,
    "start_time": "2023-09-01T18:10:02.823Z"
   },
   {
    "duration": 187,
    "start_time": "2023-09-01T18:10:02.867Z"
   },
   {
    "duration": 22,
    "start_time": "2023-09-01T18:10:03.056Z"
   },
   {
    "duration": 23,
    "start_time": "2023-09-01T18:10:03.080Z"
   },
   {
    "duration": 19,
    "start_time": "2023-09-01T18:10:03.105Z"
   },
   {
    "duration": 8,
    "start_time": "2023-09-01T18:10:24.093Z"
   },
   {
    "duration": 12,
    "start_time": "2023-09-01T18:13:28.804Z"
   },
   {
    "duration": 12,
    "start_time": "2023-09-01T18:13:46.910Z"
   },
   {
    "duration": 3,
    "start_time": "2023-09-01T18:15:45.270Z"
   },
   {
    "duration": 152,
    "start_time": "2023-09-01T18:15:45.274Z"
   },
   {
    "duration": 15,
    "start_time": "2023-09-01T18:15:45.428Z"
   },
   {
    "duration": 22,
    "start_time": "2023-09-01T18:15:45.445Z"
   },
   {
    "duration": 9,
    "start_time": "2023-09-01T18:15:45.469Z"
   },
   {
    "duration": 18,
    "start_time": "2023-09-01T18:15:45.479Z"
   },
   {
    "duration": 5,
    "start_time": "2023-09-01T18:15:45.498Z"
   },
   {
    "duration": 11,
    "start_time": "2023-09-01T18:15:45.505Z"
   },
   {
    "duration": 10,
    "start_time": "2023-09-01T18:15:45.518Z"
   },
   {
    "duration": 11,
    "start_time": "2023-09-01T18:15:45.529Z"
   },
   {
    "duration": 36,
    "start_time": "2023-09-01T18:15:45.541Z"
   },
   {
    "duration": 16,
    "start_time": "2023-09-01T18:15:45.579Z"
   },
   {
    "duration": 184,
    "start_time": "2023-09-01T18:15:45.596Z"
   },
   {
    "duration": 16,
    "start_time": "2023-09-01T18:15:45.783Z"
   },
   {
    "duration": 12,
    "start_time": "2023-09-01T18:15:45.801Z"
   },
   {
    "duration": 1142,
    "start_time": "2023-09-01T18:15:45.815Z"
   },
   {
    "duration": 66,
    "start_time": "2023-09-02T17:40:23.538Z"
   },
   {
    "duration": 435,
    "start_time": "2023-09-02T17:40:27.111Z"
   },
   {
    "duration": 139,
    "start_time": "2023-09-02T17:40:27.548Z"
   },
   {
    "duration": 17,
    "start_time": "2023-09-02T17:40:27.688Z"
   },
   {
    "duration": 21,
    "start_time": "2023-09-02T17:40:27.708Z"
   },
   {
    "duration": 12,
    "start_time": "2023-09-02T17:40:27.731Z"
   },
   {
    "duration": 14,
    "start_time": "2023-09-02T17:40:27.744Z"
   },
   {
    "duration": 7,
    "start_time": "2023-09-02T17:40:27.761Z"
   },
   {
    "duration": 43,
    "start_time": "2023-09-02T17:40:27.770Z"
   },
   {
    "duration": 10,
    "start_time": "2023-09-02T17:40:27.815Z"
   },
   {
    "duration": 6,
    "start_time": "2023-09-02T17:40:27.828Z"
   },
   {
    "duration": 29,
    "start_time": "2023-09-02T17:40:27.835Z"
   },
   {
    "duration": 58,
    "start_time": "2023-09-02T17:40:27.866Z"
   },
   {
    "duration": 666,
    "start_time": "2023-09-02T17:40:27.926Z"
   },
   {
    "duration": 26,
    "start_time": "2023-09-02T17:40:28.594Z"
   },
   {
    "duration": 9,
    "start_time": "2023-09-02T17:40:28.622Z"
   },
   {
    "duration": 1183,
    "start_time": "2023-09-02T17:40:28.633Z"
   },
   {
    "duration": 36,
    "start_time": "2023-09-02T17:40:29.817Z"
   },
   {
    "duration": 17,
    "start_time": "2023-09-02T17:43:26.221Z"
   },
   {
    "duration": 29,
    "start_time": "2023-09-02T17:43:38.989Z"
   },
   {
    "duration": 13,
    "start_time": "2023-09-02T17:45:20.369Z"
   },
   {
    "duration": 20,
    "start_time": "2023-09-02T17:45:25.866Z"
   },
   {
    "duration": 21,
    "start_time": "2023-09-02T17:45:46.281Z"
   },
   {
    "duration": 3,
    "start_time": "2023-09-02T17:45:51.000Z"
   },
   {
    "duration": 98,
    "start_time": "2023-09-02T17:45:51.005Z"
   },
   {
    "duration": 15,
    "start_time": "2023-09-02T17:45:51.104Z"
   },
   {
    "duration": 18,
    "start_time": "2023-09-02T17:45:51.121Z"
   },
   {
    "duration": 9,
    "start_time": "2023-09-02T17:45:51.142Z"
   },
   {
    "duration": 16,
    "start_time": "2023-09-02T17:45:51.152Z"
   },
   {
    "duration": 6,
    "start_time": "2023-09-02T17:45:51.170Z"
   },
   {
    "duration": 33,
    "start_time": "2023-09-02T17:45:51.177Z"
   },
   {
    "duration": 31,
    "start_time": "2023-09-02T17:45:51.212Z"
   },
   {
    "duration": 16,
    "start_time": "2023-09-02T17:45:51.245Z"
   },
   {
    "duration": 24,
    "start_time": "2023-09-02T17:45:51.262Z"
   },
   {
    "duration": 17,
    "start_time": "2023-09-02T17:45:51.288Z"
   },
   {
    "duration": 195,
    "start_time": "2023-09-02T17:45:51.307Z"
   },
   {
    "duration": 17,
    "start_time": "2023-09-02T17:45:51.509Z"
   },
   {
    "duration": 7,
    "start_time": "2023-09-02T17:45:51.528Z"
   },
   {
    "duration": 1118,
    "start_time": "2023-09-02T17:45:51.537Z"
   },
   {
    "duration": 23,
    "start_time": "2023-09-02T17:45:52.658Z"
   },
   {
    "duration": 20,
    "start_time": "2023-09-02T17:46:07.402Z"
   },
   {
    "duration": 4,
    "start_time": "2023-09-02T17:46:11.046Z"
   },
   {
    "duration": 94,
    "start_time": "2023-09-02T17:46:11.052Z"
   },
   {
    "duration": 15,
    "start_time": "2023-09-02T17:46:11.148Z"
   },
   {
    "duration": 23,
    "start_time": "2023-09-02T17:46:11.165Z"
   },
   {
    "duration": 13,
    "start_time": "2023-09-02T17:46:11.209Z"
   },
   {
    "duration": 13,
    "start_time": "2023-09-02T17:46:11.225Z"
   },
   {
    "duration": 16,
    "start_time": "2023-09-02T17:46:11.240Z"
   },
   {
    "duration": 6,
    "start_time": "2023-09-02T17:46:11.258Z"
   },
   {
    "duration": 18,
    "start_time": "2023-09-02T17:46:11.266Z"
   },
   {
    "duration": 30,
    "start_time": "2023-09-02T17:46:11.286Z"
   },
   {
    "duration": 24,
    "start_time": "2023-09-02T17:46:11.318Z"
   },
   {
    "duration": 20,
    "start_time": "2023-09-02T17:46:11.344Z"
   },
   {
    "duration": 217,
    "start_time": "2023-09-02T17:46:11.366Z"
   },
   {
    "duration": 24,
    "start_time": "2023-09-02T17:46:11.586Z"
   },
   {
    "duration": 7,
    "start_time": "2023-09-02T17:46:11.612Z"
   },
   {
    "duration": 1190,
    "start_time": "2023-09-02T17:46:11.621Z"
   },
   {
    "duration": 21,
    "start_time": "2023-09-02T17:46:12.813Z"
   },
   {
    "duration": 19,
    "start_time": "2023-09-02T17:46:27.884Z"
   },
   {
    "duration": 3,
    "start_time": "2023-09-02T17:53:54.367Z"
   },
   {
    "duration": 8,
    "start_time": "2023-09-02T17:53:57.533Z"
   },
   {
    "duration": 134,
    "start_time": "2023-09-02T17:55:36.346Z"
   },
   {
    "duration": 3,
    "start_time": "2023-09-02T17:57:45.644Z"
   },
   {
    "duration": 104,
    "start_time": "2023-09-02T17:57:45.649Z"
   },
   {
    "duration": 16,
    "start_time": "2023-09-02T17:57:45.755Z"
   },
   {
    "duration": 20,
    "start_time": "2023-09-02T17:57:45.772Z"
   },
   {
    "duration": 10,
    "start_time": "2023-09-02T17:57:45.811Z"
   },
   {
    "duration": 28,
    "start_time": "2023-09-02T17:57:45.823Z"
   },
   {
    "duration": 12,
    "start_time": "2023-09-02T17:57:45.853Z"
   },
   {
    "duration": 27,
    "start_time": "2023-09-02T17:57:45.867Z"
   },
   {
    "duration": 23,
    "start_time": "2023-09-02T17:57:45.896Z"
   },
   {
    "duration": 6,
    "start_time": "2023-09-02T17:57:45.921Z"
   },
   {
    "duration": 31,
    "start_time": "2023-09-02T17:57:45.929Z"
   },
   {
    "duration": 17,
    "start_time": "2023-09-02T17:57:45.963Z"
   },
   {
    "duration": 205,
    "start_time": "2023-09-02T17:57:45.982Z"
   },
   {
    "duration": 23,
    "start_time": "2023-09-02T17:57:46.190Z"
   },
   {
    "duration": 7,
    "start_time": "2023-09-02T17:57:46.215Z"
   },
   {
    "duration": 1052,
    "start_time": "2023-09-02T17:57:46.224Z"
   },
   {
    "duration": 19,
    "start_time": "2023-09-02T17:57:47.278Z"
   },
   {
    "duration": 9,
    "start_time": "2023-09-02T17:57:47.310Z"
   },
   {
    "duration": 2180,
    "start_time": "2023-09-02T17:57:47.321Z"
   },
   {
    "duration": 3,
    "start_time": "2023-09-02T17:58:34.043Z"
   },
   {
    "duration": 87,
    "start_time": "2023-09-02T17:58:34.048Z"
   },
   {
    "duration": 15,
    "start_time": "2023-09-02T17:58:34.137Z"
   },
   {
    "duration": 17,
    "start_time": "2023-09-02T17:58:34.154Z"
   },
   {
    "duration": 35,
    "start_time": "2023-09-02T17:58:34.175Z"
   },
   {
    "duration": 12,
    "start_time": "2023-09-02T17:58:34.212Z"
   },
   {
    "duration": 5,
    "start_time": "2023-09-02T17:58:34.226Z"
   },
   {
    "duration": 10,
    "start_time": "2023-09-02T17:58:34.232Z"
   },
   {
    "duration": 16,
    "start_time": "2023-09-02T17:58:34.243Z"
   },
   {
    "duration": 10,
    "start_time": "2023-09-02T17:58:34.261Z"
   },
   {
    "duration": 43,
    "start_time": "2023-09-02T17:58:34.272Z"
   },
   {
    "duration": 18,
    "start_time": "2023-09-02T17:58:34.316Z"
   },
   {
    "duration": 200,
    "start_time": "2023-09-02T17:58:34.335Z"
   },
   {
    "duration": 16,
    "start_time": "2023-09-02T17:58:34.538Z"
   },
   {
    "duration": 39,
    "start_time": "2023-09-02T17:58:34.556Z"
   },
   {
    "duration": 1178,
    "start_time": "2023-09-02T17:58:34.596Z"
   },
   {
    "duration": 21,
    "start_time": "2023-09-02T17:58:35.776Z"
   },
   {
    "duration": 9,
    "start_time": "2023-09-02T17:58:35.810Z"
   },
   {
    "duration": 3011,
    "start_time": "2023-09-02T17:58:35.821Z"
   },
   {
    "duration": 3,
    "start_time": "2023-09-02T18:03:00.562Z"
   },
   {
    "duration": 150,
    "start_time": "2023-09-02T18:03:00.568Z"
   },
   {
    "duration": 17,
    "start_time": "2023-09-02T18:03:00.720Z"
   },
   {
    "duration": 35,
    "start_time": "2023-09-02T18:03:00.739Z"
   },
   {
    "duration": 11,
    "start_time": "2023-09-02T18:03:00.776Z"
   },
   {
    "duration": 32,
    "start_time": "2023-09-02T18:03:00.789Z"
   },
   {
    "duration": 11,
    "start_time": "2023-09-02T18:03:00.823Z"
   },
   {
    "duration": 22,
    "start_time": "2023-09-02T18:03:00.836Z"
   },
   {
    "duration": 45,
    "start_time": "2023-09-02T18:03:00.860Z"
   },
   {
    "duration": 158,
    "start_time": "2023-09-02T18:03:00.907Z"
   },
   {
    "duration": 54,
    "start_time": "2023-09-02T18:03:01.067Z"
   },
   {
    "duration": 185,
    "start_time": "2023-09-02T18:03:01.123Z"
   },
   {
    "duration": 238,
    "start_time": "2023-09-02T18:03:01.310Z"
   },
   {
    "duration": 17,
    "start_time": "2023-09-02T18:03:01.550Z"
   },
   {
    "duration": 9,
    "start_time": "2023-09-02T18:03:01.569Z"
   },
   {
    "duration": 1272,
    "start_time": "2023-09-02T18:03:01.580Z"
   },
   {
    "duration": 20,
    "start_time": "2023-09-02T18:03:02.854Z"
   },
   {
    "duration": 7,
    "start_time": "2023-09-02T18:03:02.877Z"
   },
   {
    "duration": 47,
    "start_time": "2023-09-02T18:03:02.886Z"
   },
   {
    "duration": 3,
    "start_time": "2023-09-02T18:04:59.386Z"
   },
   {
    "duration": 102,
    "start_time": "2023-09-02T18:04:59.391Z"
   },
   {
    "duration": 25,
    "start_time": "2023-09-02T18:04:59.495Z"
   },
   {
    "duration": 20,
    "start_time": "2023-09-02T18:04:59.523Z"
   },
   {
    "duration": 11,
    "start_time": "2023-09-02T18:04:59.545Z"
   },
   {
    "duration": 13,
    "start_time": "2023-09-02T18:04:59.558Z"
   },
   {
    "duration": 5,
    "start_time": "2023-09-02T18:04:59.573Z"
   },
   {
    "duration": 40,
    "start_time": "2023-09-02T18:04:59.580Z"
   },
   {
    "duration": 17,
    "start_time": "2023-09-02T18:04:59.623Z"
   },
   {
    "duration": 7,
    "start_time": "2023-09-02T18:04:59.642Z"
   },
   {
    "duration": 23,
    "start_time": "2023-09-02T18:04:59.651Z"
   },
   {
    "duration": 45,
    "start_time": "2023-09-02T18:04:59.676Z"
   },
   {
    "duration": 222,
    "start_time": "2023-09-02T18:04:59.725Z"
   },
   {
    "duration": 17,
    "start_time": "2023-09-02T18:04:59.951Z"
   },
   {
    "duration": 8,
    "start_time": "2023-09-02T18:04:59.971Z"
   },
   {
    "duration": 1166,
    "start_time": "2023-09-02T18:04:59.981Z"
   },
   {
    "duration": 28,
    "start_time": "2023-09-02T18:05:01.149Z"
   },
   {
    "duration": 32,
    "start_time": "2023-09-02T18:05:01.179Z"
   },
   {
    "duration": 1743,
    "start_time": "2023-09-02T18:05:01.222Z"
   },
   {
    "duration": 3,
    "start_time": "2023-09-02T18:28:16.526Z"
   },
   {
    "duration": 110,
    "start_time": "2023-09-02T18:28:16.532Z"
   },
   {
    "duration": 16,
    "start_time": "2023-09-02T18:28:16.644Z"
   },
   {
    "duration": 27,
    "start_time": "2023-09-02T18:28:16.662Z"
   },
   {
    "duration": 33,
    "start_time": "2023-09-02T18:28:16.691Z"
   },
   {
    "duration": 13,
    "start_time": "2023-09-02T18:28:16.726Z"
   },
   {
    "duration": 6,
    "start_time": "2023-09-02T18:28:16.741Z"
   },
   {
    "duration": 7,
    "start_time": "2023-09-02T18:28:16.749Z"
   },
   {
    "duration": 24,
    "start_time": "2023-09-02T18:28:16.757Z"
   },
   {
    "duration": 32,
    "start_time": "2023-09-02T18:28:16.783Z"
   },
   {
    "duration": 35,
    "start_time": "2023-09-02T18:28:16.818Z"
   },
   {
    "duration": 18,
    "start_time": "2023-09-02T18:28:16.855Z"
   },
   {
    "duration": 217,
    "start_time": "2023-09-02T18:28:16.876Z"
   },
   {
    "duration": 36,
    "start_time": "2023-09-02T18:28:17.096Z"
   },
   {
    "duration": 7,
    "start_time": "2023-09-02T18:28:17.134Z"
   },
   {
    "duration": 1107,
    "start_time": "2023-09-02T18:28:17.143Z"
   },
   {
    "duration": 20,
    "start_time": "2023-09-02T18:28:18.252Z"
   },
   {
    "duration": 8,
    "start_time": "2023-09-02T18:28:18.274Z"
   },
   {
    "duration": 1612,
    "start_time": "2023-09-02T18:28:18.308Z"
   },
   {
    "duration": 3,
    "start_time": "2023-09-02T18:38:39.293Z"
   },
   {
    "duration": 118,
    "start_time": "2023-09-02T18:38:39.298Z"
   },
   {
    "duration": 16,
    "start_time": "2023-09-02T18:38:39.425Z"
   },
   {
    "duration": 20,
    "start_time": "2023-09-02T18:38:39.444Z"
   },
   {
    "duration": 12,
    "start_time": "2023-09-02T18:38:39.466Z"
   },
   {
    "duration": 40,
    "start_time": "2023-09-02T18:38:39.480Z"
   },
   {
    "duration": 6,
    "start_time": "2023-09-02T18:38:39.525Z"
   },
   {
    "duration": 16,
    "start_time": "2023-09-02T18:38:39.533Z"
   },
   {
    "duration": 22,
    "start_time": "2023-09-02T18:38:39.551Z"
   },
   {
    "duration": 7,
    "start_time": "2023-09-02T18:38:39.577Z"
   },
   {
    "duration": 34,
    "start_time": "2023-09-02T18:38:39.585Z"
   },
   {
    "duration": 20,
    "start_time": "2023-09-02T18:38:39.622Z"
   },
   {
    "duration": 213,
    "start_time": "2023-09-02T18:38:39.645Z"
   },
   {
    "duration": 24,
    "start_time": "2023-09-02T18:38:39.861Z"
   },
   {
    "duration": 43,
    "start_time": "2023-09-02T18:38:39.888Z"
   },
   {
    "duration": 1144,
    "start_time": "2023-09-02T18:38:39.933Z"
   },
   {
    "duration": 36,
    "start_time": "2023-09-02T18:38:41.079Z"
   },
   {
    "duration": 10,
    "start_time": "2023-09-02T18:38:41.117Z"
   },
   {
    "duration": 1331,
    "start_time": "2023-09-02T18:38:41.129Z"
   },
   {
    "duration": 50,
    "start_time": "2023-09-03T09:26:08.601Z"
   },
   {
    "duration": 445,
    "start_time": "2023-09-03T09:26:12.132Z"
   },
   {
    "duration": 176,
    "start_time": "2023-09-03T09:26:12.580Z"
   },
   {
    "duration": 15,
    "start_time": "2023-09-03T09:26:12.757Z"
   },
   {
    "duration": 20,
    "start_time": "2023-09-03T09:26:12.773Z"
   },
   {
    "duration": 17,
    "start_time": "2023-09-03T09:26:12.795Z"
   },
   {
    "duration": 13,
    "start_time": "2023-09-03T09:26:12.814Z"
   },
   {
    "duration": 5,
    "start_time": "2023-09-03T09:26:12.829Z"
   },
   {
    "duration": 8,
    "start_time": "2023-09-03T09:26:12.835Z"
   },
   {
    "duration": 10,
    "start_time": "2023-09-03T09:26:12.844Z"
   },
   {
    "duration": 14,
    "start_time": "2023-09-03T09:26:12.856Z"
   },
   {
    "duration": 48,
    "start_time": "2023-09-03T09:26:12.871Z"
   },
   {
    "duration": 18,
    "start_time": "2023-09-03T09:26:12.921Z"
   },
   {
    "duration": 602,
    "start_time": "2023-09-03T09:26:12.941Z"
   },
   {
    "duration": 19,
    "start_time": "2023-09-03T09:26:13.546Z"
   },
   {
    "duration": 8,
    "start_time": "2023-09-03T09:26:13.567Z"
   },
   {
    "duration": 1150,
    "start_time": "2023-09-03T09:26:13.577Z"
   },
   {
    "duration": 19,
    "start_time": "2023-09-03T09:26:14.729Z"
   },
   {
    "duration": 7,
    "start_time": "2023-09-03T09:26:14.750Z"
   },
   {
    "duration": 1069,
    "start_time": "2023-09-03T09:26:14.759Z"
   },
   {
    "duration": 119,
    "start_time": "2023-09-03T09:26:15.829Z"
   },
   {
    "duration": 243,
    "start_time": "2023-09-03T09:27:16.327Z"
   },
   {
    "duration": 2,
    "start_time": "2023-09-03T09:27:21.828Z"
   },
   {
    "duration": 109,
    "start_time": "2023-09-03T09:27:21.832Z"
   },
   {
    "duration": 15,
    "start_time": "2023-09-03T09:27:21.943Z"
   },
   {
    "duration": 26,
    "start_time": "2023-09-03T09:27:21.960Z"
   },
   {
    "duration": 26,
    "start_time": "2023-09-03T09:27:21.988Z"
   },
   {
    "duration": 11,
    "start_time": "2023-09-03T09:27:22.016Z"
   },
   {
    "duration": 5,
    "start_time": "2023-09-03T09:27:22.029Z"
   },
   {
    "duration": 8,
    "start_time": "2023-09-03T09:27:22.036Z"
   },
   {
    "duration": 10,
    "start_time": "2023-09-03T09:27:22.045Z"
   },
   {
    "duration": 11,
    "start_time": "2023-09-03T09:27:22.057Z"
   },
   {
    "duration": 51,
    "start_time": "2023-09-03T09:27:22.070Z"
   },
   {
    "duration": 18,
    "start_time": "2023-09-03T09:27:22.123Z"
   },
   {
    "duration": 202,
    "start_time": "2023-09-03T09:27:22.143Z"
   },
   {
    "duration": 17,
    "start_time": "2023-09-03T09:27:22.347Z"
   },
   {
    "duration": 11,
    "start_time": "2023-09-03T09:27:22.366Z"
   },
   {
    "duration": 1180,
    "start_time": "2023-09-03T09:27:22.379Z"
   },
   {
    "duration": 18,
    "start_time": "2023-09-03T09:27:23.560Z"
   },
   {
    "duration": 8,
    "start_time": "2023-09-03T09:27:23.579Z"
   },
   {
    "duration": 994,
    "start_time": "2023-09-03T09:27:23.588Z"
   },
   {
    "duration": 249,
    "start_time": "2023-09-03T09:27:24.584Z"
   },
   {
    "duration": 259,
    "start_time": "2023-09-03T09:28:37.437Z"
   },
   {
    "duration": 345,
    "start_time": "2023-09-03T09:33:36.196Z"
   },
   {
    "duration": 172,
    "start_time": "2023-09-03T09:33:45.397Z"
   },
   {
    "duration": 288,
    "start_time": "2023-09-03T09:34:16.021Z"
   },
   {
    "duration": 3,
    "start_time": "2023-09-03T09:34:20.423Z"
   },
   {
    "duration": 106,
    "start_time": "2023-09-03T09:34:20.428Z"
   },
   {
    "duration": 15,
    "start_time": "2023-09-03T09:34:20.536Z"
   },
   {
    "duration": 43,
    "start_time": "2023-09-03T09:34:20.552Z"
   },
   {
    "duration": 28,
    "start_time": "2023-09-03T09:34:20.597Z"
   },
   {
    "duration": 11,
    "start_time": "2023-09-03T09:34:20.628Z"
   },
   {
    "duration": 12,
    "start_time": "2023-09-03T09:34:20.641Z"
   },
   {
    "duration": 10,
    "start_time": "2023-09-03T09:34:20.654Z"
   },
   {
    "duration": 16,
    "start_time": "2023-09-03T09:34:20.666Z"
   },
   {
    "duration": 14,
    "start_time": "2023-09-03T09:34:20.683Z"
   },
   {
    "duration": 36,
    "start_time": "2023-09-03T09:34:20.699Z"
   },
   {
    "duration": 21,
    "start_time": "2023-09-03T09:34:20.736Z"
   },
   {
    "duration": 206,
    "start_time": "2023-09-03T09:34:20.759Z"
   },
   {
    "duration": 15,
    "start_time": "2023-09-03T09:34:20.968Z"
   },
   {
    "duration": 7,
    "start_time": "2023-09-03T09:34:20.985Z"
   },
   {
    "duration": 1089,
    "start_time": "2023-09-03T09:34:21.010Z"
   },
   {
    "duration": 32,
    "start_time": "2023-09-03T09:34:22.100Z"
   },
   {
    "duration": 7,
    "start_time": "2023-09-03T09:34:22.133Z"
   },
   {
    "duration": 1271,
    "start_time": "2023-09-03T09:34:22.142Z"
   },
   {
    "duration": 299,
    "start_time": "2023-09-03T09:34:23.415Z"
   },
   {
    "duration": 3,
    "start_time": "2023-09-03T09:35:01.959Z"
   },
   {
    "duration": 114,
    "start_time": "2023-09-03T09:35:01.963Z"
   },
   {
    "duration": 16,
    "start_time": "2023-09-03T09:35:02.078Z"
   },
   {
    "duration": 39,
    "start_time": "2023-09-03T09:35:02.096Z"
   },
   {
    "duration": 34,
    "start_time": "2023-09-03T09:35:02.136Z"
   },
   {
    "duration": 43,
    "start_time": "2023-09-03T09:35:02.171Z"
   },
   {
    "duration": 18,
    "start_time": "2023-09-03T09:35:02.216Z"
   },
   {
    "duration": 21,
    "start_time": "2023-09-03T09:35:02.236Z"
   },
   {
    "duration": 29,
    "start_time": "2023-09-03T09:35:02.259Z"
   },
   {
    "duration": 20,
    "start_time": "2023-09-03T09:35:02.290Z"
   },
   {
    "duration": 42,
    "start_time": "2023-09-03T09:35:02.312Z"
   },
   {
    "duration": 33,
    "start_time": "2023-09-03T09:35:02.356Z"
   },
   {
    "duration": 260,
    "start_time": "2023-09-03T09:35:02.391Z"
   },
   {
    "duration": 21,
    "start_time": "2023-09-03T09:35:02.654Z"
   },
   {
    "duration": 9,
    "start_time": "2023-09-03T09:35:02.677Z"
   },
   {
    "duration": 1088,
    "start_time": "2023-09-03T09:35:02.688Z"
   },
   {
    "duration": 18,
    "start_time": "2023-09-03T09:35:03.778Z"
   },
   {
    "duration": 7,
    "start_time": "2023-09-03T09:35:03.809Z"
   },
   {
    "duration": 1146,
    "start_time": "2023-09-03T09:35:03.818Z"
   },
   {
    "duration": 312,
    "start_time": "2023-09-03T09:35:04.966Z"
   },
   {
    "duration": 1800,
    "start_time": "2023-09-03T10:40:45.674Z"
   },
   {
    "duration": 3,
    "start_time": "2023-09-03T10:40:51.512Z"
   },
   {
    "duration": 104,
    "start_time": "2023-09-03T10:40:51.517Z"
   },
   {
    "duration": 22,
    "start_time": "2023-09-03T10:40:51.624Z"
   },
   {
    "duration": 40,
    "start_time": "2023-09-03T10:40:51.650Z"
   },
   {
    "duration": 20,
    "start_time": "2023-09-03T10:40:51.692Z"
   },
   {
    "duration": 13,
    "start_time": "2023-09-03T10:40:51.714Z"
   },
   {
    "duration": 6,
    "start_time": "2023-09-03T10:40:51.729Z"
   },
   {
    "duration": 8,
    "start_time": "2023-09-03T10:40:51.737Z"
   },
   {
    "duration": 9,
    "start_time": "2023-09-03T10:40:51.747Z"
   },
   {
    "duration": 13,
    "start_time": "2023-09-03T10:40:51.759Z"
   },
   {
    "duration": 54,
    "start_time": "2023-09-03T10:40:51.774Z"
   },
   {
    "duration": 18,
    "start_time": "2023-09-03T10:40:51.830Z"
   },
   {
    "duration": 217,
    "start_time": "2023-09-03T10:40:51.850Z"
   },
   {
    "duration": 17,
    "start_time": "2023-09-03T10:40:52.069Z"
   },
   {
    "duration": 24,
    "start_time": "2023-09-03T10:40:52.087Z"
   },
   {
    "duration": 1291,
    "start_time": "2023-09-03T10:40:52.113Z"
   },
   {
    "duration": 19,
    "start_time": "2023-09-03T10:40:53.410Z"
   },
   {
    "duration": 9,
    "start_time": "2023-09-03T10:40:53.430Z"
   },
   {
    "duration": 1180,
    "start_time": "2023-09-03T10:40:53.441Z"
   },
   {
    "duration": 309,
    "start_time": "2023-09-03T10:40:54.623Z"
   },
   {
    "duration": 1832,
    "start_time": "2023-09-03T10:40:54.934Z"
   },
   {
    "duration": 1577,
    "start_time": "2023-09-03T10:41:05.249Z"
   },
   {
    "duration": 160,
    "start_time": "2023-09-03T10:41:27.896Z"
   },
   {
    "duration": 161,
    "start_time": "2023-09-03T10:43:05.544Z"
   },
   {
    "duration": 145,
    "start_time": "2023-09-03T10:43:51.049Z"
   },
   {
    "duration": 4,
    "start_time": "2023-09-03T10:44:09.331Z"
   },
   {
    "duration": 129,
    "start_time": "2023-09-03T10:44:09.338Z"
   },
   {
    "duration": 17,
    "start_time": "2023-09-03T10:44:09.469Z"
   },
   {
    "duration": 44,
    "start_time": "2023-09-03T10:44:09.489Z"
   },
   {
    "duration": 12,
    "start_time": "2023-09-03T10:44:09.536Z"
   },
   {
    "duration": 22,
    "start_time": "2023-09-03T10:44:09.550Z"
   },
   {
    "duration": 36,
    "start_time": "2023-09-03T10:44:09.575Z"
   },
   {
    "duration": 8,
    "start_time": "2023-09-03T10:44:09.614Z"
   },
   {
    "duration": 12,
    "start_time": "2023-09-03T10:44:09.624Z"
   },
   {
    "duration": 9,
    "start_time": "2023-09-03T10:44:09.638Z"
   },
   {
    "duration": 159,
    "start_time": "2023-09-03T10:44:09.648Z"
   },
   {
    "duration": 25,
    "start_time": "2023-09-03T10:44:09.811Z"
   },
   {
    "duration": 303,
    "start_time": "2023-09-03T10:44:09.838Z"
   },
   {
    "duration": 33,
    "start_time": "2023-09-03T10:44:10.146Z"
   },
   {
    "duration": 31,
    "start_time": "2023-09-03T10:44:10.183Z"
   },
   {
    "duration": 1225,
    "start_time": "2023-09-03T10:44:10.216Z"
   },
   {
    "duration": 21,
    "start_time": "2023-09-03T10:44:11.443Z"
   },
   {
    "duration": 9,
    "start_time": "2023-09-03T10:44:11.465Z"
   },
   {
    "duration": 1245,
    "start_time": "2023-09-03T10:44:11.477Z"
   },
   {
    "duration": 399,
    "start_time": "2023-09-03T10:44:12.724Z"
   },
   {
    "duration": 320,
    "start_time": "2023-09-03T10:44:13.127Z"
   },
   {
    "duration": 138,
    "start_time": "2023-09-03T10:44:16.861Z"
   },
   {
    "duration": 3,
    "start_time": "2023-09-03T10:44:21.032Z"
   },
   {
    "duration": 83,
    "start_time": "2023-09-03T10:44:21.039Z"
   },
   {
    "duration": 16,
    "start_time": "2023-09-03T10:44:21.124Z"
   },
   {
    "duration": 31,
    "start_time": "2023-09-03T10:44:21.143Z"
   },
   {
    "duration": 40,
    "start_time": "2023-09-03T10:44:21.178Z"
   },
   {
    "duration": 18,
    "start_time": "2023-09-03T10:44:21.221Z"
   },
   {
    "duration": 16,
    "start_time": "2023-09-03T10:44:21.242Z"
   },
   {
    "duration": 9,
    "start_time": "2023-09-03T10:44:21.261Z"
   },
   {
    "duration": 44,
    "start_time": "2023-09-03T10:44:21.272Z"
   },
   {
    "duration": 7,
    "start_time": "2023-09-03T10:44:21.319Z"
   },
   {
    "duration": 39,
    "start_time": "2023-09-03T10:44:21.329Z"
   },
   {
    "duration": 60,
    "start_time": "2023-09-03T10:44:21.370Z"
   },
   {
    "duration": 272,
    "start_time": "2023-09-03T10:44:21.433Z"
   },
   {
    "duration": 27,
    "start_time": "2023-09-03T10:44:21.712Z"
   },
   {
    "duration": 12,
    "start_time": "2023-09-03T10:44:21.741Z"
   },
   {
    "duration": 1431,
    "start_time": "2023-09-03T10:44:21.755Z"
   },
   {
    "duration": 29,
    "start_time": "2023-09-03T10:44:23.187Z"
   },
   {
    "duration": 8,
    "start_time": "2023-09-03T10:44:23.218Z"
   },
   {
    "duration": 1233,
    "start_time": "2023-09-03T10:44:23.227Z"
   },
   {
    "duration": 585,
    "start_time": "2023-09-03T10:44:24.462Z"
   },
   {
    "duration": 155,
    "start_time": "2023-09-03T10:44:25.049Z"
   },
   {
    "duration": 164,
    "start_time": "2023-09-03T10:45:00.720Z"
   },
   {
    "duration": 152,
    "start_time": "2023-09-03T10:45:24.659Z"
   },
   {
    "duration": 156,
    "start_time": "2023-09-03T10:45:31.369Z"
   },
   {
    "duration": 149,
    "start_time": "2023-09-03T10:46:44.841Z"
   },
   {
    "duration": 206,
    "start_time": "2023-09-03T10:46:52.608Z"
   },
   {
    "duration": 168,
    "start_time": "2023-09-03T10:47:36.712Z"
   },
   {
    "duration": 283,
    "start_time": "2023-09-03T10:48:13.392Z"
   },
   {
    "duration": 3,
    "start_time": "2023-09-03T10:49:17.682Z"
   },
   {
    "duration": 102,
    "start_time": "2023-09-03T10:49:17.687Z"
   },
   {
    "duration": 14,
    "start_time": "2023-09-03T10:49:17.791Z"
   },
   {
    "duration": 26,
    "start_time": "2023-09-03T10:49:17.806Z"
   },
   {
    "duration": 16,
    "start_time": "2023-09-03T10:49:17.835Z"
   },
   {
    "duration": 11,
    "start_time": "2023-09-03T10:49:17.853Z"
   },
   {
    "duration": 6,
    "start_time": "2023-09-03T10:49:17.865Z"
   },
   {
    "duration": 39,
    "start_time": "2023-09-03T10:49:17.872Z"
   },
   {
    "duration": 11,
    "start_time": "2023-09-03T10:49:17.913Z"
   },
   {
    "duration": 10,
    "start_time": "2023-09-03T10:49:17.926Z"
   },
   {
    "duration": 29,
    "start_time": "2023-09-03T10:49:17.938Z"
   },
   {
    "duration": 54,
    "start_time": "2023-09-03T10:49:17.969Z"
   },
   {
    "duration": 215,
    "start_time": "2023-09-03T10:49:18.025Z"
   },
   {
    "duration": 16,
    "start_time": "2023-09-03T10:49:18.243Z"
   },
   {
    "duration": 7,
    "start_time": "2023-09-03T10:49:18.260Z"
   },
   {
    "duration": 1277,
    "start_time": "2023-09-03T10:49:18.269Z"
   },
   {
    "duration": 17,
    "start_time": "2023-09-03T10:49:19.548Z"
   },
   {
    "duration": 32,
    "start_time": "2023-09-03T10:49:19.567Z"
   },
   {
    "duration": 1142,
    "start_time": "2023-09-03T10:49:19.601Z"
   },
   {
    "duration": 330,
    "start_time": "2023-09-03T10:49:20.746Z"
   },
   {
    "duration": 162,
    "start_time": "2023-09-03T10:49:21.078Z"
   },
   {
    "duration": 311,
    "start_time": "2023-09-03T10:49:21.242Z"
   },
   {
    "duration": 34,
    "start_time": "2023-09-03T10:50:42.308Z"
   },
   {
    "duration": 12,
    "start_time": "2023-09-03T10:53:52.333Z"
   },
   {
    "duration": 4,
    "start_time": "2023-09-03T10:54:13.180Z"
   },
   {
    "duration": 119,
    "start_time": "2023-09-03T10:54:13.186Z"
   },
   {
    "duration": 15,
    "start_time": "2023-09-03T10:54:13.307Z"
   },
   {
    "duration": 23,
    "start_time": "2023-09-03T10:54:13.323Z"
   },
   {
    "duration": 10,
    "start_time": "2023-09-03T10:54:13.348Z"
   },
   {
    "duration": 17,
    "start_time": "2023-09-03T10:54:13.360Z"
   },
   {
    "duration": 37,
    "start_time": "2023-09-03T10:54:13.378Z"
   },
   {
    "duration": 166,
    "start_time": "2023-09-03T10:54:13.417Z"
   },
   {
    "duration": 124,
    "start_time": "2023-09-03T10:54:13.585Z"
   },
   {
    "duration": 10,
    "start_time": "2023-09-03T10:54:13.711Z"
   },
   {
    "duration": 25,
    "start_time": "2023-09-03T10:54:13.723Z"
   },
   {
    "duration": 24,
    "start_time": "2023-09-03T10:54:13.751Z"
   },
   {
    "duration": 250,
    "start_time": "2023-09-03T10:54:13.777Z"
   },
   {
    "duration": 18,
    "start_time": "2023-09-03T10:54:14.031Z"
   },
   {
    "duration": 9,
    "start_time": "2023-09-03T10:54:14.051Z"
   },
   {
    "duration": 1386,
    "start_time": "2023-09-03T10:54:14.062Z"
   },
   {
    "duration": 28,
    "start_time": "2023-09-03T10:54:15.451Z"
   },
   {
    "duration": 27,
    "start_time": "2023-09-03T10:54:15.482Z"
   },
   {
    "duration": 1160,
    "start_time": "2023-09-03T10:54:15.512Z"
   },
   {
    "duration": 292,
    "start_time": "2023-09-03T10:54:16.674Z"
   },
   {
    "duration": 159,
    "start_time": "2023-09-03T10:54:16.968Z"
   },
   {
    "duration": 11,
    "start_time": "2023-09-03T10:54:17.128Z"
   },
   {
    "duration": 266,
    "start_time": "2023-09-03T10:54:33.334Z"
   },
   {
    "duration": 5,
    "start_time": "2023-09-03T10:55:10.087Z"
   },
   {
    "duration": 26,
    "start_time": "2023-09-03T10:55:17.653Z"
   },
   {
    "duration": 301,
    "start_time": "2023-09-03T10:55:35.227Z"
   },
   {
    "duration": 5,
    "start_time": "2023-09-03T10:56:16.879Z"
   },
   {
    "duration": 28,
    "start_time": "2023-09-03T10:56:21.906Z"
   },
   {
    "duration": 14,
    "start_time": "2023-09-03T10:56:38.205Z"
   },
   {
    "duration": 270,
    "start_time": "2023-09-03T10:57:58.785Z"
   },
   {
    "duration": 8,
    "start_time": "2023-09-03T11:00:07.747Z"
   },
   {
    "duration": 28,
    "start_time": "2023-09-03T11:00:21.068Z"
   },
   {
    "duration": 6,
    "start_time": "2023-09-03T11:00:53.864Z"
   },
   {
    "duration": 17,
    "start_time": "2023-09-03T11:03:03.289Z"
   },
   {
    "duration": 15,
    "start_time": "2023-09-03T11:04:34.409Z"
   },
   {
    "duration": 23,
    "start_time": "2023-09-03T11:07:47.480Z"
   },
   {
    "duration": 3,
    "start_time": "2023-09-03T11:07:52.226Z"
   },
   {
    "duration": 110,
    "start_time": "2023-09-03T11:07:52.231Z"
   },
   {
    "duration": 15,
    "start_time": "2023-09-03T11:07:52.343Z"
   },
   {
    "duration": 19,
    "start_time": "2023-09-03T11:07:52.361Z"
   },
   {
    "duration": 44,
    "start_time": "2023-09-03T11:07:52.381Z"
   },
   {
    "duration": 16,
    "start_time": "2023-09-03T11:07:52.428Z"
   },
   {
    "duration": 22,
    "start_time": "2023-09-03T11:07:52.447Z"
   },
   {
    "duration": 7,
    "start_time": "2023-09-03T11:07:52.471Z"
   },
   {
    "duration": 19,
    "start_time": "2023-09-03T11:07:52.480Z"
   },
   {
    "duration": 8,
    "start_time": "2023-09-03T11:07:52.512Z"
   },
   {
    "duration": 32,
    "start_time": "2023-09-03T11:07:52.522Z"
   },
   {
    "duration": 22,
    "start_time": "2023-09-03T11:07:52.558Z"
   },
   {
    "duration": 267,
    "start_time": "2023-09-03T11:07:52.611Z"
   },
   {
    "duration": 18,
    "start_time": "2023-09-03T11:07:52.880Z"
   },
   {
    "duration": 8,
    "start_time": "2023-09-03T11:07:52.910Z"
   },
   {
    "duration": 1188,
    "start_time": "2023-09-03T11:07:52.920Z"
   },
   {
    "duration": 18,
    "start_time": "2023-09-03T11:07:54.110Z"
   },
   {
    "duration": 7,
    "start_time": "2023-09-03T11:07:54.129Z"
   },
   {
    "duration": 1045,
    "start_time": "2023-09-03T11:07:54.138Z"
   },
   {
    "duration": 326,
    "start_time": "2023-09-03T11:07:55.185Z"
   },
   {
    "duration": 154,
    "start_time": "2023-09-03T11:07:55.513Z"
   },
   {
    "duration": 9,
    "start_time": "2023-09-03T11:07:55.669Z"
   },
   {
    "duration": 353,
    "start_time": "2023-09-03T11:08:05.669Z"
   },
   {
    "duration": 25,
    "start_time": "2023-09-03T11:09:33.335Z"
   },
   {
    "duration": 4,
    "start_time": "2023-09-03T11:09:37.824Z"
   },
   {
    "duration": 98,
    "start_time": "2023-09-03T11:09:37.831Z"
   },
   {
    "duration": 16,
    "start_time": "2023-09-03T11:09:37.931Z"
   },
   {
    "duration": 21,
    "start_time": "2023-09-03T11:09:37.950Z"
   },
   {
    "duration": 37,
    "start_time": "2023-09-03T11:09:37.974Z"
   },
   {
    "duration": 15,
    "start_time": "2023-09-03T11:09:38.013Z"
   },
   {
    "duration": 12,
    "start_time": "2023-09-03T11:09:38.030Z"
   },
   {
    "duration": 21,
    "start_time": "2023-09-03T11:09:38.043Z"
   },
   {
    "duration": 12,
    "start_time": "2023-09-03T11:09:38.066Z"
   },
   {
    "duration": 9,
    "start_time": "2023-09-03T11:09:38.080Z"
   },
   {
    "duration": 173,
    "start_time": "2023-09-03T11:09:38.108Z"
   },
   {
    "duration": 30,
    "start_time": "2023-09-03T11:09:38.284Z"
   },
   {
    "duration": 195,
    "start_time": "2023-09-03T11:09:38.316Z"
   },
   {
    "duration": 23,
    "start_time": "2023-09-03T11:09:38.515Z"
   },
   {
    "duration": 10,
    "start_time": "2023-09-03T11:09:38.540Z"
   },
   {
    "duration": 1120,
    "start_time": "2023-09-03T11:09:38.552Z"
   },
   {
    "duration": 20,
    "start_time": "2023-09-03T11:09:39.674Z"
   },
   {
    "duration": 8,
    "start_time": "2023-09-03T11:09:39.710Z"
   },
   {
    "duration": 1064,
    "start_time": "2023-09-03T11:09:39.720Z"
   },
   {
    "duration": 311,
    "start_time": "2023-09-03T11:09:40.786Z"
   },
   {
    "duration": 306,
    "start_time": "2023-09-03T11:09:41.099Z"
   },
   {
    "duration": 9,
    "start_time": "2023-09-03T11:09:41.409Z"
   },
   {
    "duration": 3,
    "start_time": "2023-09-03T11:10:12.912Z"
   },
   {
    "duration": 128,
    "start_time": "2023-09-03T11:10:12.918Z"
   },
   {
    "duration": 15,
    "start_time": "2023-09-03T11:10:13.047Z"
   },
   {
    "duration": 27,
    "start_time": "2023-09-03T11:10:13.063Z"
   },
   {
    "duration": 26,
    "start_time": "2023-09-03T11:10:13.092Z"
   },
   {
    "duration": 21,
    "start_time": "2023-09-03T11:10:13.119Z"
   },
   {
    "duration": 20,
    "start_time": "2023-09-03T11:10:13.142Z"
   },
   {
    "duration": 21,
    "start_time": "2023-09-03T11:10:13.164Z"
   },
   {
    "duration": 20,
    "start_time": "2023-09-03T11:10:13.187Z"
   },
   {
    "duration": 14,
    "start_time": "2023-09-03T11:10:13.208Z"
   },
   {
    "duration": 42,
    "start_time": "2023-09-03T11:10:13.224Z"
   },
   {
    "duration": 39,
    "start_time": "2023-09-03T11:10:13.268Z"
   },
   {
    "duration": 232,
    "start_time": "2023-09-03T11:10:13.309Z"
   },
   {
    "duration": 17,
    "start_time": "2023-09-03T11:10:13.544Z"
   },
   {
    "duration": 24,
    "start_time": "2023-09-03T11:10:13.563Z"
   },
   {
    "duration": 1082,
    "start_time": "2023-09-03T11:10:13.589Z"
   },
   {
    "duration": 19,
    "start_time": "2023-09-03T11:10:14.672Z"
   },
   {
    "duration": 19,
    "start_time": "2023-09-03T11:10:14.692Z"
   },
   {
    "duration": 1076,
    "start_time": "2023-09-03T11:10:14.713Z"
   },
   {
    "duration": 443,
    "start_time": "2023-09-03T11:10:15.791Z"
   },
   {
    "duration": 156,
    "start_time": "2023-09-03T11:10:16.236Z"
   },
   {
    "duration": 17,
    "start_time": "2023-09-03T11:10:16.394Z"
   },
   {
    "duration": 14,
    "start_time": "2023-09-03T11:12:22.618Z"
   },
   {
    "duration": 27,
    "start_time": "2023-09-03T11:12:31.157Z"
   },
   {
    "duration": 3,
    "start_time": "2023-09-03T11:12:52.252Z"
   },
   {
    "duration": 94,
    "start_time": "2023-09-03T11:12:52.258Z"
   },
   {
    "duration": 22,
    "start_time": "2023-09-03T11:12:52.355Z"
   },
   {
    "duration": 40,
    "start_time": "2023-09-03T11:12:52.379Z"
   },
   {
    "duration": 13,
    "start_time": "2023-09-03T11:12:52.422Z"
   },
   {
    "duration": 15,
    "start_time": "2023-09-03T11:12:52.438Z"
   },
   {
    "duration": 8,
    "start_time": "2023-09-03T11:12:52.454Z"
   },
   {
    "duration": 47,
    "start_time": "2023-09-03T11:12:52.464Z"
   },
   {
    "duration": 9,
    "start_time": "2023-09-03T11:12:52.514Z"
   },
   {
    "duration": 11,
    "start_time": "2023-09-03T11:12:52.526Z"
   },
   {
    "duration": 37,
    "start_time": "2023-09-03T11:12:52.539Z"
   },
   {
    "duration": 50,
    "start_time": "2023-09-03T11:12:52.579Z"
   },
   {
    "duration": 268,
    "start_time": "2023-09-03T11:12:52.632Z"
   },
   {
    "duration": 21,
    "start_time": "2023-09-03T11:12:52.903Z"
   },
   {
    "duration": 7,
    "start_time": "2023-09-03T11:12:52.926Z"
   },
   {
    "duration": 1092,
    "start_time": "2023-09-03T11:12:52.935Z"
   },
   {
    "duration": 20,
    "start_time": "2023-09-03T11:12:54.028Z"
   },
   {
    "duration": 7,
    "start_time": "2023-09-03T11:12:54.050Z"
   },
   {
    "duration": 1068,
    "start_time": "2023-09-03T11:12:54.059Z"
   },
   {
    "duration": 512,
    "start_time": "2023-09-03T11:12:55.129Z"
   },
   {
    "duration": 159,
    "start_time": "2023-09-03T11:12:55.643Z"
   },
   {
    "duration": 11,
    "start_time": "2023-09-03T11:12:55.809Z"
   },
   {
    "duration": 140,
    "start_time": "2023-09-03T11:21:56.216Z"
   },
   {
    "duration": 184,
    "start_time": "2023-09-03T11:22:07.177Z"
   },
   {
    "duration": 155,
    "start_time": "2023-09-03T11:22:34.863Z"
   },
   {
    "duration": 4,
    "start_time": "2023-09-03T11:22:57.352Z"
   },
   {
    "duration": 86,
    "start_time": "2023-09-03T11:22:57.357Z"
   },
   {
    "duration": 16,
    "start_time": "2023-09-03T11:22:57.445Z"
   },
   {
    "duration": 18,
    "start_time": "2023-09-03T11:22:57.463Z"
   },
   {
    "duration": 10,
    "start_time": "2023-09-03T11:22:57.510Z"
   },
   {
    "duration": 12,
    "start_time": "2023-09-03T11:22:57.522Z"
   },
   {
    "duration": 6,
    "start_time": "2023-09-03T11:22:57.536Z"
   },
   {
    "duration": 6,
    "start_time": "2023-09-03T11:22:57.544Z"
   },
   {
    "duration": 10,
    "start_time": "2023-09-03T11:22:57.551Z"
   },
   {
    "duration": 46,
    "start_time": "2023-09-03T11:22:57.565Z"
   },
   {
    "duration": 25,
    "start_time": "2023-09-03T11:22:57.614Z"
   },
   {
    "duration": 17,
    "start_time": "2023-09-03T11:22:57.641Z"
   },
   {
    "duration": 226,
    "start_time": "2023-09-03T11:22:57.660Z"
   },
   {
    "duration": 30,
    "start_time": "2023-09-03T11:22:57.888Z"
   },
   {
    "duration": 10,
    "start_time": "2023-09-03T11:22:57.921Z"
   },
   {
    "duration": 1120,
    "start_time": "2023-09-03T11:22:57.933Z"
   },
   {
    "duration": 22,
    "start_time": "2023-09-03T11:22:59.055Z"
   },
   {
    "duration": 8,
    "start_time": "2023-09-03T11:22:59.079Z"
   },
   {
    "duration": 1227,
    "start_time": "2023-09-03T11:22:59.090Z"
   },
   {
    "duration": 311,
    "start_time": "2023-09-03T11:23:00.319Z"
   },
   {
    "duration": 162,
    "start_time": "2023-09-03T11:23:00.632Z"
   },
   {
    "duration": 6,
    "start_time": "2023-09-03T11:23:00.796Z"
   },
   {
    "duration": 176,
    "start_time": "2023-09-03T11:23:00.810Z"
   },
   {
    "duration": 148,
    "start_time": "2023-09-03T11:23:19.069Z"
   },
   {
    "duration": 78,
    "start_time": "2023-09-03T11:26:26.453Z"
   },
   {
    "duration": 10,
    "start_time": "2023-09-03T11:37:03.788Z"
   },
   {
    "duration": 4,
    "start_time": "2023-09-03T11:37:19.120Z"
   },
   {
    "duration": 22,
    "start_time": "2023-09-03T11:38:13.411Z"
   },
   {
    "duration": 88,
    "start_time": "2023-09-03T11:40:40.947Z"
   },
   {
    "duration": 86,
    "start_time": "2023-09-03T11:41:27.220Z"
   },
   {
    "duration": 85,
    "start_time": "2023-09-03T11:42:21.121Z"
   },
   {
    "duration": 508,
    "start_time": "2023-09-03T11:42:37.629Z"
   },
   {
    "duration": 558,
    "start_time": "2023-09-03T11:42:57.757Z"
   },
   {
    "duration": 110,
    "start_time": "2023-09-03T11:43:06.534Z"
   },
   {
    "duration": 556,
    "start_time": "2023-09-03T11:43:11.870Z"
   },
   {
    "duration": 147,
    "start_time": "2023-09-03T11:43:58.103Z"
   },
   {
    "duration": 702,
    "start_time": "2023-09-03T11:45:48.866Z"
   },
   {
    "duration": 516,
    "start_time": "2023-09-03T11:46:09.213Z"
   },
   {
    "duration": 601,
    "start_time": "2023-09-03T11:48:39.952Z"
   },
   {
    "duration": 578,
    "start_time": "2023-09-03T11:49:16.492Z"
   },
   {
    "duration": 589,
    "start_time": "2023-09-03T11:49:26.383Z"
   },
   {
    "duration": 3,
    "start_time": "2023-09-03T11:49:30.535Z"
   },
   {
    "duration": 147,
    "start_time": "2023-09-03T11:49:30.540Z"
   },
   {
    "duration": 15,
    "start_time": "2023-09-03T11:49:30.689Z"
   },
   {
    "duration": 71,
    "start_time": "2023-09-03T11:49:30.706Z"
   },
   {
    "duration": 24,
    "start_time": "2023-09-03T11:49:30.779Z"
   },
   {
    "duration": 44,
    "start_time": "2023-09-03T11:49:30.805Z"
   },
   {
    "duration": 36,
    "start_time": "2023-09-03T11:49:30.850Z"
   },
   {
    "duration": 44,
    "start_time": "2023-09-03T11:49:30.888Z"
   },
   {
    "duration": 47,
    "start_time": "2023-09-03T11:49:30.935Z"
   },
   {
    "duration": 33,
    "start_time": "2023-09-03T11:49:30.985Z"
   },
   {
    "duration": 43,
    "start_time": "2023-09-03T11:49:31.020Z"
   },
   {
    "duration": 52,
    "start_time": "2023-09-03T11:49:31.065Z"
   },
   {
    "duration": 216,
    "start_time": "2023-09-03T11:49:31.119Z"
   },
   {
    "duration": 17,
    "start_time": "2023-09-03T11:49:31.339Z"
   },
   {
    "duration": 44,
    "start_time": "2023-09-03T11:49:31.358Z"
   },
   {
    "duration": 1337,
    "start_time": "2023-09-03T11:49:31.403Z"
   },
   {
    "duration": 18,
    "start_time": "2023-09-03T11:49:32.742Z"
   },
   {
    "duration": 38,
    "start_time": "2023-09-03T11:49:32.762Z"
   },
   {
    "duration": 989,
    "start_time": "2023-09-03T11:49:32.802Z"
   },
   {
    "duration": 295,
    "start_time": "2023-09-03T11:49:33.792Z"
   },
   {
    "duration": 148,
    "start_time": "2023-09-03T11:49:34.089Z"
   },
   {
    "duration": 156,
    "start_time": "2023-09-03T11:49:34.239Z"
   },
   {
    "duration": 587,
    "start_time": "2023-09-03T11:49:34.397Z"
   },
   {
    "duration": 918,
    "start_time": "2023-09-03T11:52:50.980Z"
   },
   {
    "duration": 701,
    "start_time": "2023-09-03T11:58:37.284Z"
   },
   {
    "duration": 743,
    "start_time": "2023-09-03T11:59:01.582Z"
   },
   {
    "duration": 1528,
    "start_time": "2023-09-03T12:00:17.922Z"
   },
   {
    "duration": 146,
    "start_time": "2023-09-03T12:06:36.838Z"
   },
   {
    "duration": 141,
    "start_time": "2023-09-03T12:06:43.538Z"
   },
   {
    "duration": 1449,
    "start_time": "2023-09-03T12:08:43.147Z"
   },
   {
    "duration": 53,
    "start_time": "2023-09-03T15:08:38.331Z"
   },
   {
    "duration": 876,
    "start_time": "2023-09-03T15:08:41.968Z"
   },
   {
    "duration": 124,
    "start_time": "2023-09-03T15:08:42.846Z"
   },
   {
    "duration": 14,
    "start_time": "2023-09-03T15:08:42.972Z"
   },
   {
    "duration": 19,
    "start_time": "2023-09-03T15:08:42.987Z"
   },
   {
    "duration": 9,
    "start_time": "2023-09-03T15:08:43.008Z"
   },
   {
    "duration": 16,
    "start_time": "2023-09-03T15:08:43.019Z"
   },
   {
    "duration": 5,
    "start_time": "2023-09-03T15:08:43.037Z"
   },
   {
    "duration": 43,
    "start_time": "2023-09-03T15:08:43.044Z"
   },
   {
    "duration": 8,
    "start_time": "2023-09-03T15:08:43.089Z"
   },
   {
    "duration": 6,
    "start_time": "2023-09-03T15:08:43.098Z"
   },
   {
    "duration": 22,
    "start_time": "2023-09-03T15:08:43.106Z"
   },
   {
    "duration": 58,
    "start_time": "2023-09-03T15:08:43.130Z"
   },
   {
    "duration": 213,
    "start_time": "2023-09-03T15:08:43.190Z"
   },
   {
    "duration": 23,
    "start_time": "2023-09-03T15:08:43.406Z"
   },
   {
    "duration": 9,
    "start_time": "2023-09-03T15:08:43.431Z"
   },
   {
    "duration": 1115,
    "start_time": "2023-09-03T15:08:43.442Z"
   },
   {
    "duration": 29,
    "start_time": "2023-09-03T15:08:44.558Z"
   },
   {
    "duration": 7,
    "start_time": "2023-09-03T15:08:44.589Z"
   },
   {
    "duration": 1038,
    "start_time": "2023-09-03T15:08:44.597Z"
   },
   {
    "duration": 304,
    "start_time": "2023-09-03T15:08:45.637Z"
   },
   {
    "duration": 159,
    "start_time": "2023-09-03T15:08:45.942Z"
   },
   {
    "duration": 160,
    "start_time": "2023-09-03T15:08:46.102Z"
   },
   {
    "duration": 1607,
    "start_time": "2023-09-03T15:08:46.264Z"
   },
   {
    "duration": 10,
    "start_time": "2023-09-03T15:08:47.872Z"
   },
   {
    "duration": 41,
    "start_time": "2023-09-03T15:10:07.467Z"
   },
   {
    "duration": 4,
    "start_time": "2023-09-03T15:11:41.318Z"
   },
   {
    "duration": 13,
    "start_time": "2023-09-03T15:11:47.077Z"
   },
   {
    "duration": 7,
    "start_time": "2023-09-03T15:12:43.062Z"
   },
   {
    "duration": 8,
    "start_time": "2023-09-03T15:12:46.742Z"
   },
   {
    "duration": 8,
    "start_time": "2023-09-03T15:12:53.056Z"
   },
   {
    "duration": 8,
    "start_time": "2023-09-03T15:13:18.862Z"
   },
   {
    "duration": 9,
    "start_time": "2023-09-03T15:13:37.921Z"
   },
   {
    "duration": 16,
    "start_time": "2023-09-03T15:17:38.329Z"
   },
   {
    "duration": 14,
    "start_time": "2023-09-03T15:17:56.096Z"
   },
   {
    "duration": 15,
    "start_time": "2023-09-03T15:18:02.794Z"
   },
   {
    "duration": 14,
    "start_time": "2023-09-03T15:18:25.102Z"
   },
   {
    "duration": 15,
    "start_time": "2023-09-03T15:19:10.510Z"
   },
   {
    "duration": 50,
    "start_time": "2023-09-04T17:14:58.673Z"
   },
   {
    "duration": 856,
    "start_time": "2023-09-04T17:15:11.697Z"
   },
   {
    "duration": 132,
    "start_time": "2023-09-04T17:15:12.555Z"
   },
   {
    "duration": 15,
    "start_time": "2023-09-04T17:15:12.688Z"
   },
   {
    "duration": 55,
    "start_time": "2023-09-04T17:15:12.705Z"
   },
   {
    "duration": 24,
    "start_time": "2023-09-04T17:15:12.762Z"
   },
   {
    "duration": 51,
    "start_time": "2023-09-04T17:15:12.788Z"
   },
   {
    "duration": 36,
    "start_time": "2023-09-04T17:15:12.841Z"
   },
   {
    "duration": 30,
    "start_time": "2023-09-04T17:15:12.879Z"
   },
   {
    "duration": 39,
    "start_time": "2023-09-04T17:15:12.910Z"
   },
   {
    "duration": 18,
    "start_time": "2023-09-04T17:15:12.952Z"
   },
   {
    "duration": 56,
    "start_time": "2023-09-04T17:15:12.971Z"
   },
   {
    "duration": 24,
    "start_time": "2023-09-04T17:15:13.029Z"
   },
   {
    "duration": 248,
    "start_time": "2023-09-04T17:15:13.056Z"
   },
   {
    "duration": 0,
    "start_time": "2023-09-04T17:15:13.306Z"
   },
   {
    "duration": 0,
    "start_time": "2023-09-04T17:15:13.307Z"
   },
   {
    "duration": 0,
    "start_time": "2023-09-04T17:15:13.309Z"
   },
   {
    "duration": 0,
    "start_time": "2023-09-04T17:15:13.310Z"
   },
   {
    "duration": 0,
    "start_time": "2023-09-04T17:15:13.313Z"
   },
   {
    "duration": 0,
    "start_time": "2023-09-04T17:15:13.314Z"
   },
   {
    "duration": 0,
    "start_time": "2023-09-04T17:15:13.316Z"
   },
   {
    "duration": 0,
    "start_time": "2023-09-04T17:15:13.317Z"
   },
   {
    "duration": 0,
    "start_time": "2023-09-04T17:15:13.319Z"
   },
   {
    "duration": 0,
    "start_time": "2023-09-04T17:15:13.320Z"
   },
   {
    "duration": 0,
    "start_time": "2023-09-04T17:15:13.322Z"
   },
   {
    "duration": 0,
    "start_time": "2023-09-04T17:15:13.323Z"
   },
   {
    "duration": 204,
    "start_time": "2023-09-04T17:19:03.476Z"
   },
   {
    "duration": 209,
    "start_time": "2023-09-04T17:19:39.941Z"
   },
   {
    "duration": 2,
    "start_time": "2023-09-04T17:20:12.474Z"
   },
   {
    "duration": 83,
    "start_time": "2023-09-04T17:20:12.479Z"
   },
   {
    "duration": 15,
    "start_time": "2023-09-04T17:20:12.564Z"
   },
   {
    "duration": 31,
    "start_time": "2023-09-04T17:20:12.581Z"
   },
   {
    "duration": 10,
    "start_time": "2023-09-04T17:20:12.614Z"
   },
   {
    "duration": 21,
    "start_time": "2023-09-04T17:20:12.625Z"
   },
   {
    "duration": 6,
    "start_time": "2023-09-04T17:20:12.649Z"
   },
   {
    "duration": 11,
    "start_time": "2023-09-04T17:20:12.657Z"
   },
   {
    "duration": 16,
    "start_time": "2023-09-04T17:20:12.670Z"
   },
   {
    "duration": 6,
    "start_time": "2023-09-04T17:20:12.688Z"
   },
   {
    "duration": 94,
    "start_time": "2023-09-04T17:20:12.696Z"
   },
   {
    "duration": 16,
    "start_time": "2023-09-04T17:20:12.792Z"
   },
   {
    "duration": 203,
    "start_time": "2023-09-04T17:20:12.810Z"
   },
   {
    "duration": 16,
    "start_time": "2023-09-04T17:20:13.017Z"
   },
   {
    "duration": 7,
    "start_time": "2023-09-04T17:20:13.034Z"
   },
   {
    "duration": 1039,
    "start_time": "2023-09-04T17:20:13.042Z"
   },
   {
    "duration": 19,
    "start_time": "2023-09-04T17:20:14.082Z"
   },
   {
    "duration": 7,
    "start_time": "2023-09-04T17:20:14.102Z"
   },
   {
    "duration": 1038,
    "start_time": "2023-09-04T17:20:14.111Z"
   },
   {
    "duration": 308,
    "start_time": "2023-09-04T17:20:15.151Z"
   },
   {
    "duration": 237,
    "start_time": "2023-09-04T17:20:15.461Z"
   },
   {
    "duration": 158,
    "start_time": "2023-09-04T17:20:15.699Z"
   },
   {
    "duration": 1503,
    "start_time": "2023-09-04T17:20:15.859Z"
   },
   {
    "duration": 22,
    "start_time": "2023-09-04T17:20:17.365Z"
   },
   {
    "duration": 14,
    "start_time": "2023-09-04T17:20:17.389Z"
   },
   {
    "duration": 14,
    "start_time": "2023-09-04T17:26:12.578Z"
   },
   {
    "duration": 3,
    "start_time": "2023-09-04T17:26:33.690Z"
   },
   {
    "duration": 102,
    "start_time": "2023-09-04T17:26:33.696Z"
   },
   {
    "duration": 14,
    "start_time": "2023-09-04T17:26:33.799Z"
   },
   {
    "duration": 32,
    "start_time": "2023-09-04T17:26:33.815Z"
   },
   {
    "duration": 14,
    "start_time": "2023-09-04T17:26:33.849Z"
   },
   {
    "duration": 20,
    "start_time": "2023-09-04T17:26:33.865Z"
   },
   {
    "duration": 5,
    "start_time": "2023-09-04T17:26:33.887Z"
   },
   {
    "duration": 6,
    "start_time": "2023-09-04T17:26:33.894Z"
   },
   {
    "duration": 10,
    "start_time": "2023-09-04T17:26:33.901Z"
   },
   {
    "duration": 7,
    "start_time": "2023-09-04T17:26:33.912Z"
   },
   {
    "duration": 142,
    "start_time": "2023-09-04T17:26:33.921Z"
   },
   {
    "duration": 25,
    "start_time": "2023-09-04T17:26:34.065Z"
   },
   {
    "duration": 214,
    "start_time": "2023-09-04T17:26:34.092Z"
   },
   {
    "duration": 15,
    "start_time": "2023-09-04T17:26:34.309Z"
   },
   {
    "duration": 7,
    "start_time": "2023-09-04T17:26:34.326Z"
   },
   {
    "duration": 1057,
    "start_time": "2023-09-04T17:26:34.334Z"
   },
   {
    "duration": 20,
    "start_time": "2023-09-04T17:26:35.393Z"
   },
   {
    "duration": 7,
    "start_time": "2023-09-04T17:26:35.415Z"
   },
   {
    "duration": 1041,
    "start_time": "2023-09-04T17:26:35.425Z"
   },
   {
    "duration": 307,
    "start_time": "2023-09-04T17:26:36.468Z"
   },
   {
    "duration": 315,
    "start_time": "2023-09-04T17:26:36.777Z"
   },
   {
    "duration": 195,
    "start_time": "2023-09-04T17:26:37.094Z"
   },
   {
    "duration": 1414,
    "start_time": "2023-09-04T17:26:37.292Z"
   },
   {
    "duration": 9,
    "start_time": "2023-09-04T17:26:38.707Z"
   },
   {
    "duration": 59,
    "start_time": "2023-09-04T17:26:38.718Z"
   },
   {
    "duration": 111,
    "start_time": "2023-09-04T17:32:52.189Z"
   },
   {
    "duration": 227,
    "start_time": "2023-09-04T17:33:04.614Z"
   },
   {
    "duration": 143,
    "start_time": "2023-09-04T17:33:12.296Z"
   },
   {
    "duration": 139,
    "start_time": "2023-09-04T17:34:53.743Z"
   },
   {
    "duration": 141,
    "start_time": "2023-09-04T17:35:05.967Z"
   },
   {
    "duration": 155,
    "start_time": "2023-09-04T17:35:42.872Z"
   },
   {
    "duration": 1497,
    "start_time": "2023-09-04T17:36:54.819Z"
   },
   {
    "duration": 52,
    "start_time": "2023-09-05T09:48:35.775Z"
   },
   {
    "duration": 795,
    "start_time": "2023-09-05T09:48:38.914Z"
   },
   {
    "duration": 232,
    "start_time": "2023-09-05T09:48:39.712Z"
   },
   {
    "duration": 15,
    "start_time": "2023-09-05T09:48:39.947Z"
   },
   {
    "duration": 47,
    "start_time": "2023-09-05T09:48:39.963Z"
   },
   {
    "duration": 28,
    "start_time": "2023-09-05T09:48:40.012Z"
   },
   {
    "duration": 36,
    "start_time": "2023-09-05T09:48:40.042Z"
   },
   {
    "duration": 38,
    "start_time": "2023-09-05T09:48:40.079Z"
   },
   {
    "duration": 22,
    "start_time": "2023-09-05T09:48:40.119Z"
   },
   {
    "duration": 37,
    "start_time": "2023-09-05T09:48:40.143Z"
   },
   {
    "duration": 41,
    "start_time": "2023-09-05T09:48:40.182Z"
   },
   {
    "duration": 47,
    "start_time": "2023-09-05T09:48:40.225Z"
   },
   {
    "duration": 33,
    "start_time": "2023-09-05T09:48:40.274Z"
   },
   {
    "duration": 206,
    "start_time": "2023-09-05T09:48:40.309Z"
   },
   {
    "duration": 18,
    "start_time": "2023-09-05T09:48:40.518Z"
   },
   {
    "duration": 26,
    "start_time": "2023-09-05T09:48:40.538Z"
   },
   {
    "duration": 1076,
    "start_time": "2023-09-05T09:48:40.566Z"
   },
   {
    "duration": 24,
    "start_time": "2023-09-05T09:48:41.645Z"
   },
   {
    "duration": 7,
    "start_time": "2023-09-05T09:48:41.671Z"
   },
   {
    "duration": 962,
    "start_time": "2023-09-05T09:48:41.680Z"
   },
   {
    "duration": 297,
    "start_time": "2023-09-05T09:48:42.645Z"
   },
   {
    "duration": 146,
    "start_time": "2023-09-05T09:48:42.944Z"
   },
   {
    "duration": 164,
    "start_time": "2023-09-05T09:48:43.092Z"
   },
   {
    "duration": 1558,
    "start_time": "2023-09-05T09:48:43.257Z"
   },
   {
    "duration": 15,
    "start_time": "2023-09-05T09:48:44.817Z"
   },
   {
    "duration": 35,
    "start_time": "2023-09-05T09:48:44.833Z"
   },
   {
    "duration": 5,
    "start_time": "2023-09-05T09:50:59.440Z"
   },
   {
    "duration": 26,
    "start_time": "2023-09-05T09:51:25.995Z"
   },
   {
    "duration": 5,
    "start_time": "2023-09-05T09:52:23.331Z"
   },
   {
    "duration": 15,
    "start_time": "2023-09-05T10:03:37.058Z"
   },
   {
    "duration": 47,
    "start_time": "2023-09-05T10:05:04.879Z"
   },
   {
    "duration": 19,
    "start_time": "2023-09-05T10:05:11.995Z"
   },
   {
    "duration": 15,
    "start_time": "2023-09-05T10:05:22.421Z"
   },
   {
    "duration": 17,
    "start_time": "2023-09-05T10:05:33.298Z"
   },
   {
    "duration": 15,
    "start_time": "2023-09-05T10:05:41.613Z"
   },
   {
    "duration": 12,
    "start_time": "2023-09-05T10:09:43.572Z"
   },
   {
    "duration": 14,
    "start_time": "2023-09-05T10:10:29.300Z"
   },
   {
    "duration": 11,
    "start_time": "2023-09-05T10:12:04.119Z"
   },
   {
    "duration": 17,
    "start_time": "2023-09-05T10:13:10.729Z"
   },
   {
    "duration": 18,
    "start_time": "2023-09-05T10:14:34.811Z"
   },
   {
    "duration": 23,
    "start_time": "2023-09-05T10:14:59.558Z"
   },
   {
    "duration": 18,
    "start_time": "2023-09-05T10:18:06.788Z"
   },
   {
    "duration": 18,
    "start_time": "2023-09-05T10:18:17.739Z"
   },
   {
    "duration": 18,
    "start_time": "2023-09-05T10:20:48.288Z"
   },
   {
    "duration": 11,
    "start_time": "2023-09-05T10:21:04.246Z"
   },
   {
    "duration": 14,
    "start_time": "2023-09-05T10:21:55.902Z"
   },
   {
    "duration": 15,
    "start_time": "2023-09-05T10:25:08.740Z"
   },
   {
    "duration": 19,
    "start_time": "2023-09-05T11:08:50.967Z"
   },
   {
    "duration": 13,
    "start_time": "2023-09-05T11:13:17.662Z"
   },
   {
    "duration": 21,
    "start_time": "2023-09-05T11:14:55.362Z"
   },
   {
    "duration": 18,
    "start_time": "2023-09-05T11:15:19.801Z"
   },
   {
    "duration": 1962,
    "start_time": "2023-09-05T11:15:48.661Z"
   },
   {
    "duration": 18,
    "start_time": "2023-09-05T11:16:07.084Z"
   },
   {
    "duration": 19,
    "start_time": "2023-09-05T11:16:30.032Z"
   },
   {
    "duration": 20,
    "start_time": "2023-09-05T11:16:44.862Z"
   },
   {
    "duration": 24,
    "start_time": "2023-09-05T11:22:39.367Z"
   },
   {
    "duration": 4,
    "start_time": "2023-09-05T11:22:43.582Z"
   },
   {
    "duration": 113,
    "start_time": "2023-09-05T11:22:43.588Z"
   },
   {
    "duration": 18,
    "start_time": "2023-09-05T11:22:43.703Z"
   },
   {
    "duration": 31,
    "start_time": "2023-09-05T11:22:43.723Z"
   },
   {
    "duration": 21,
    "start_time": "2023-09-05T11:22:43.757Z"
   },
   {
    "duration": 15,
    "start_time": "2023-09-05T11:22:43.780Z"
   },
   {
    "duration": 10,
    "start_time": "2023-09-05T11:22:43.797Z"
   },
   {
    "duration": 20,
    "start_time": "2023-09-05T11:22:43.809Z"
   },
   {
    "duration": 10,
    "start_time": "2023-09-05T11:22:43.832Z"
   },
   {
    "duration": 26,
    "start_time": "2023-09-05T11:22:43.844Z"
   },
   {
    "duration": 47,
    "start_time": "2023-09-05T11:22:43.872Z"
   },
   {
    "duration": 20,
    "start_time": "2023-09-05T11:22:43.921Z"
   },
   {
    "duration": 277,
    "start_time": "2023-09-05T11:22:43.943Z"
   },
   {
    "duration": 18,
    "start_time": "2023-09-05T11:22:44.224Z"
   },
   {
    "duration": 23,
    "start_time": "2023-09-05T11:22:44.244Z"
   },
   {
    "duration": 1105,
    "start_time": "2023-09-05T11:22:44.269Z"
   },
   {
    "duration": 19,
    "start_time": "2023-09-05T11:22:45.376Z"
   },
   {
    "duration": 11,
    "start_time": "2023-09-05T11:22:45.397Z"
   },
   {
    "duration": 1040,
    "start_time": "2023-09-05T11:22:45.410Z"
   },
   {
    "duration": 343,
    "start_time": "2023-09-05T11:22:46.452Z"
   },
   {
    "duration": 227,
    "start_time": "2023-09-05T11:22:46.798Z"
   },
   {
    "duration": 275,
    "start_time": "2023-09-05T11:22:47.027Z"
   },
   {
    "duration": 1518,
    "start_time": "2023-09-05T11:22:47.304Z"
   },
   {
    "duration": 16,
    "start_time": "2023-09-05T11:22:48.824Z"
   },
   {
    "duration": 45,
    "start_time": "2023-09-05T11:22:48.843Z"
   },
   {
    "duration": 32,
    "start_time": "2023-09-05T11:22:48.890Z"
   },
   {
    "duration": 22,
    "start_time": "2023-09-05T11:22:48.924Z"
   },
   {
    "duration": 3,
    "start_time": "2023-09-05T11:24:54.906Z"
   },
   {
    "duration": 120,
    "start_time": "2023-09-05T11:24:54.911Z"
   },
   {
    "duration": 17,
    "start_time": "2023-09-05T11:24:55.033Z"
   },
   {
    "duration": 62,
    "start_time": "2023-09-05T11:24:55.052Z"
   },
   {
    "duration": 26,
    "start_time": "2023-09-05T11:24:55.118Z"
   },
   {
    "duration": 36,
    "start_time": "2023-09-05T11:24:55.147Z"
   },
   {
    "duration": 35,
    "start_time": "2023-09-05T11:24:55.185Z"
   },
   {
    "duration": 44,
    "start_time": "2023-09-05T11:24:55.222Z"
   },
   {
    "duration": 28,
    "start_time": "2023-09-05T11:24:55.269Z"
   },
   {
    "duration": 17,
    "start_time": "2023-09-05T11:24:55.299Z"
   },
   {
    "duration": 139,
    "start_time": "2023-09-05T11:24:55.319Z"
   },
   {
    "duration": 19,
    "start_time": "2023-09-05T11:24:55.460Z"
   },
   {
    "duration": 224,
    "start_time": "2023-09-05T11:24:55.481Z"
   },
   {
    "duration": 23,
    "start_time": "2023-09-05T11:24:55.708Z"
   },
   {
    "duration": 20,
    "start_time": "2023-09-05T11:24:55.733Z"
   },
   {
    "duration": 1121,
    "start_time": "2023-09-05T11:24:55.768Z"
   },
   {
    "duration": 20,
    "start_time": "2023-09-05T11:24:56.891Z"
   },
   {
    "duration": 20,
    "start_time": "2023-09-05T11:24:56.912Z"
   },
   {
    "duration": 1039,
    "start_time": "2023-09-05T11:24:56.934Z"
   },
   {
    "duration": 312,
    "start_time": "2023-09-05T11:24:57.975Z"
   },
   {
    "duration": 252,
    "start_time": "2023-09-05T11:24:58.290Z"
   },
   {
    "duration": 173,
    "start_time": "2023-09-05T11:24:58.544Z"
   },
   {
    "duration": 1559,
    "start_time": "2023-09-05T11:24:58.719Z"
   },
   {
    "duration": 17,
    "start_time": "2023-09-05T11:25:00.279Z"
   },
   {
    "duration": 112,
    "start_time": "2023-09-05T11:25:00.298Z"
   },
   {
    "duration": 48,
    "start_time": "2023-09-05T11:25:00.412Z"
   },
   {
    "duration": 47,
    "start_time": "2023-09-05T11:25:00.462Z"
   },
   {
    "duration": 20,
    "start_time": "2023-09-05T11:26:32.434Z"
   },
   {
    "duration": 25,
    "start_time": "2023-09-05T11:28:04.327Z"
   },
   {
    "duration": 0,
    "start_time": "2023-09-05T11:29:19.073Z"
   },
   {
    "duration": 1972,
    "start_time": "2023-09-05T11:29:21.262Z"
   },
   {
    "duration": 17,
    "start_time": "2023-09-05T11:29:54.473Z"
   },
   {
    "duration": 10,
    "start_time": "2023-09-05T11:32:39.161Z"
   },
   {
    "duration": 29,
    "start_time": "2023-09-05T11:32:57.488Z"
   },
   {
    "duration": 133,
    "start_time": "2023-09-05T11:33:53.197Z"
   },
   {
    "duration": 18,
    "start_time": "2023-09-05T11:34:34.207Z"
   },
   {
    "duration": 15,
    "start_time": "2023-09-05T11:35:03.724Z"
   },
   {
    "duration": 22,
    "start_time": "2023-09-05T11:35:30.178Z"
   },
   {
    "duration": 22,
    "start_time": "2023-09-05T11:40:04.799Z"
   },
   {
    "duration": 13,
    "start_time": "2023-09-05T11:40:22.010Z"
   },
   {
    "duration": 46,
    "start_time": "2023-09-05T11:41:25.061Z"
   },
   {
    "duration": 33,
    "start_time": "2023-09-05T11:41:56.905Z"
   },
   {
    "duration": 45,
    "start_time": "2023-09-05T11:42:04.898Z"
   },
   {
    "duration": 8,
    "start_time": "2023-09-05T11:42:16.498Z"
   },
   {
    "duration": 23,
    "start_time": "2023-09-05T11:42:53.197Z"
   },
   {
    "duration": 35,
    "start_time": "2023-09-05T11:42:58.394Z"
   },
   {
    "duration": 36,
    "start_time": "2023-09-05T11:43:23.123Z"
   },
   {
    "duration": 47,
    "start_time": "2023-09-05T11:43:36.036Z"
   },
   {
    "duration": 24,
    "start_time": "2023-09-05T11:43:46.734Z"
   },
   {
    "duration": 634,
    "start_time": "2023-09-05T11:44:54.801Z"
   },
   {
    "duration": 4,
    "start_time": "2023-09-05T11:45:02.138Z"
   },
   {
    "duration": 141,
    "start_time": "2023-09-05T11:45:02.144Z"
   },
   {
    "duration": 24,
    "start_time": "2023-09-05T11:45:02.287Z"
   },
   {
    "duration": 129,
    "start_time": "2023-09-05T11:45:02.316Z"
   },
   {
    "duration": 15,
    "start_time": "2023-09-05T11:45:02.447Z"
   },
   {
    "duration": 42,
    "start_time": "2023-09-05T11:45:02.464Z"
   },
   {
    "duration": 20,
    "start_time": "2023-09-05T11:45:02.508Z"
   },
   {
    "duration": 14,
    "start_time": "2023-09-05T11:45:02.530Z"
   },
   {
    "duration": 31,
    "start_time": "2023-09-05T11:45:02.546Z"
   },
   {
    "duration": 34,
    "start_time": "2023-09-05T11:45:02.582Z"
   },
   {
    "duration": 55,
    "start_time": "2023-09-05T11:45:02.618Z"
   },
   {
    "duration": 33,
    "start_time": "2023-09-05T11:45:02.676Z"
   },
   {
    "duration": 266,
    "start_time": "2023-09-05T11:45:02.711Z"
   },
   {
    "duration": 24,
    "start_time": "2023-09-05T11:45:02.979Z"
   },
   {
    "duration": 14,
    "start_time": "2023-09-05T11:45:03.005Z"
   },
   {
    "duration": 1385,
    "start_time": "2023-09-05T11:45:03.021Z"
   },
   {
    "duration": 21,
    "start_time": "2023-09-05T11:45:04.408Z"
   },
   {
    "duration": 7,
    "start_time": "2023-09-05T11:45:04.430Z"
   },
   {
    "duration": 1169,
    "start_time": "2023-09-05T11:45:04.438Z"
   },
   {
    "duration": 333,
    "start_time": "2023-09-05T11:45:05.609Z"
   },
   {
    "duration": 293,
    "start_time": "2023-09-05T11:45:05.944Z"
   },
   {
    "duration": 0,
    "start_time": "2023-09-05T11:45:06.239Z"
   },
   {
    "duration": 0,
    "start_time": "2023-09-05T11:45:06.240Z"
   },
   {
    "duration": 0,
    "start_time": "2023-09-05T11:45:06.241Z"
   },
   {
    "duration": 0,
    "start_time": "2023-09-05T11:45:06.242Z"
   },
   {
    "duration": 0,
    "start_time": "2023-09-05T11:45:06.243Z"
   },
   {
    "duration": 0,
    "start_time": "2023-09-05T11:45:06.245Z"
   },
   {
    "duration": 0,
    "start_time": "2023-09-05T11:45:06.246Z"
   },
   {
    "duration": 1148,
    "start_time": "2023-09-05T11:46:31.510Z"
   },
   {
    "duration": 728,
    "start_time": "2023-09-05T11:46:43.745Z"
   },
   {
    "duration": 4,
    "start_time": "2023-09-05T11:46:47.205Z"
   },
   {
    "duration": 106,
    "start_time": "2023-09-05T11:46:47.211Z"
   },
   {
    "duration": 16,
    "start_time": "2023-09-05T11:46:47.319Z"
   },
   {
    "duration": 25,
    "start_time": "2023-09-05T11:46:47.337Z"
   },
   {
    "duration": 22,
    "start_time": "2023-09-05T11:46:47.368Z"
   },
   {
    "duration": 21,
    "start_time": "2023-09-05T11:46:47.393Z"
   },
   {
    "duration": 6,
    "start_time": "2023-09-05T11:46:47.416Z"
   },
   {
    "duration": 10,
    "start_time": "2023-09-05T11:46:47.424Z"
   },
   {
    "duration": 43,
    "start_time": "2023-09-05T11:46:47.436Z"
   },
   {
    "duration": 16,
    "start_time": "2023-09-05T11:46:47.481Z"
   },
   {
    "duration": 22,
    "start_time": "2023-09-05T11:46:47.500Z"
   },
   {
    "duration": 0,
    "start_time": "2023-09-05T11:46:47.524Z"
   },
   {
    "duration": 0,
    "start_time": "2023-09-05T11:46:47.525Z"
   },
   {
    "duration": 0,
    "start_time": "2023-09-05T11:46:47.526Z"
   },
   {
    "duration": 0,
    "start_time": "2023-09-05T11:46:47.528Z"
   },
   {
    "duration": 0,
    "start_time": "2023-09-05T11:46:47.529Z"
   },
   {
    "duration": 0,
    "start_time": "2023-09-05T11:46:47.530Z"
   },
   {
    "duration": 0,
    "start_time": "2023-09-05T11:46:47.532Z"
   },
   {
    "duration": 0,
    "start_time": "2023-09-05T11:46:47.533Z"
   },
   {
    "duration": 0,
    "start_time": "2023-09-05T11:46:47.534Z"
   },
   {
    "duration": 0,
    "start_time": "2023-09-05T11:46:47.535Z"
   },
   {
    "duration": 0,
    "start_time": "2023-09-05T11:46:47.536Z"
   },
   {
    "duration": 0,
    "start_time": "2023-09-05T11:46:47.537Z"
   },
   {
    "duration": 0,
    "start_time": "2023-09-05T11:46:47.573Z"
   },
   {
    "duration": 0,
    "start_time": "2023-09-05T11:46:47.575Z"
   },
   {
    "duration": 0,
    "start_time": "2023-09-05T11:46:47.577Z"
   },
   {
    "duration": 0,
    "start_time": "2023-09-05T11:46:47.579Z"
   },
   {
    "duration": 0,
    "start_time": "2023-09-05T11:46:47.580Z"
   },
   {
    "duration": 3,
    "start_time": "2023-09-05T11:47:00.324Z"
   },
   {
    "duration": 140,
    "start_time": "2023-09-05T11:47:00.329Z"
   },
   {
    "duration": 31,
    "start_time": "2023-09-05T11:47:00.471Z"
   },
   {
    "duration": 46,
    "start_time": "2023-09-05T11:47:00.506Z"
   },
   {
    "duration": 52,
    "start_time": "2023-09-05T11:47:00.554Z"
   },
   {
    "duration": 28,
    "start_time": "2023-09-05T11:47:00.613Z"
   },
   {
    "duration": 56,
    "start_time": "2023-09-05T11:47:00.643Z"
   },
   {
    "duration": 44,
    "start_time": "2023-09-05T11:47:00.703Z"
   },
   {
    "duration": 63,
    "start_time": "2023-09-05T11:47:00.749Z"
   },
   {
    "duration": 36,
    "start_time": "2023-09-05T11:47:00.814Z"
   },
   {
    "duration": 75,
    "start_time": "2023-09-05T11:47:00.853Z"
   },
   {
    "duration": 46,
    "start_time": "2023-09-05T11:47:00.930Z"
   },
   {
    "duration": 281,
    "start_time": "2023-09-05T11:47:00.982Z"
   },
   {
    "duration": 45,
    "start_time": "2023-09-05T11:47:01.265Z"
   },
   {
    "duration": 27,
    "start_time": "2023-09-05T11:47:01.312Z"
   },
   {
    "duration": 1387,
    "start_time": "2023-09-05T11:47:01.341Z"
   },
   {
    "duration": 25,
    "start_time": "2023-09-05T11:47:02.730Z"
   },
   {
    "duration": 42,
    "start_time": "2023-09-05T11:47:02.757Z"
   },
   {
    "duration": 1411,
    "start_time": "2023-09-05T11:47:02.809Z"
   },
   {
    "duration": 540,
    "start_time": "2023-09-05T11:47:04.223Z"
   },
   {
    "duration": 207,
    "start_time": "2023-09-05T11:47:04.774Z"
   },
   {
    "duration": 0,
    "start_time": "2023-09-05T11:47:04.984Z"
   },
   {
    "duration": 0,
    "start_time": "2023-09-05T11:47:04.987Z"
   },
   {
    "duration": 0,
    "start_time": "2023-09-05T11:47:04.988Z"
   },
   {
    "duration": 0,
    "start_time": "2023-09-05T11:47:04.990Z"
   },
   {
    "duration": 0,
    "start_time": "2023-09-05T11:47:04.992Z"
   },
   {
    "duration": 0,
    "start_time": "2023-09-05T11:47:04.994Z"
   },
   {
    "duration": 0,
    "start_time": "2023-09-05T11:47:04.995Z"
   },
   {
    "duration": 4,
    "start_time": "2023-09-05T12:18:31.900Z"
   },
   {
    "duration": 146,
    "start_time": "2023-09-05T12:18:31.906Z"
   },
   {
    "duration": 15,
    "start_time": "2023-09-05T12:18:32.054Z"
   },
   {
    "duration": 48,
    "start_time": "2023-09-05T12:18:32.072Z"
   },
   {
    "duration": 20,
    "start_time": "2023-09-05T12:18:32.123Z"
   },
   {
    "duration": 58,
    "start_time": "2023-09-05T12:18:32.146Z"
   },
   {
    "duration": 11,
    "start_time": "2023-09-05T12:18:32.206Z"
   },
   {
    "duration": 26,
    "start_time": "2023-09-05T12:18:32.219Z"
   },
   {
    "duration": 25,
    "start_time": "2023-09-05T12:18:32.246Z"
   },
   {
    "duration": 16,
    "start_time": "2023-09-05T12:18:32.273Z"
   },
   {
    "duration": 51,
    "start_time": "2023-09-05T12:18:32.292Z"
   },
   {
    "duration": 21,
    "start_time": "2023-09-05T12:18:32.344Z"
   },
   {
    "duration": 309,
    "start_time": "2023-09-05T12:18:32.370Z"
   },
   {
    "duration": 26,
    "start_time": "2023-09-05T12:18:32.684Z"
   },
   {
    "duration": 15,
    "start_time": "2023-09-05T12:18:32.713Z"
   },
   {
    "duration": 1294,
    "start_time": "2023-09-05T12:18:32.730Z"
   },
   {
    "duration": 25,
    "start_time": "2023-09-05T12:18:34.026Z"
   },
   {
    "duration": 22,
    "start_time": "2023-09-05T12:18:34.053Z"
   },
   {
    "duration": 1191,
    "start_time": "2023-09-05T12:18:34.078Z"
   },
   {
    "duration": 520,
    "start_time": "2023-09-05T12:18:35.271Z"
   },
   {
    "duration": 230,
    "start_time": "2023-09-05T12:18:35.794Z"
   },
   {
    "duration": 220,
    "start_time": "2023-09-05T12:18:36.026Z"
   },
   {
    "duration": 1887,
    "start_time": "2023-09-05T12:18:36.247Z"
   },
   {
    "duration": 14,
    "start_time": "2023-09-05T12:18:38.136Z"
   },
   {
    "duration": 39,
    "start_time": "2023-09-05T12:18:38.166Z"
   },
   {
    "duration": 63,
    "start_time": "2023-09-05T12:18:38.207Z"
   },
   {
    "duration": 27,
    "start_time": "2023-09-05T12:18:38.272Z"
   },
   {
    "duration": 14,
    "start_time": "2023-09-05T12:18:38.301Z"
   },
   {
    "duration": 32,
    "start_time": "2023-09-05T12:19:08.695Z"
   },
   {
    "duration": 25,
    "start_time": "2023-09-05T12:23:09.397Z"
   },
   {
    "duration": 5,
    "start_time": "2023-09-05T12:25:40.294Z"
   },
   {
    "duration": 138,
    "start_time": "2023-09-05T12:25:40.304Z"
   },
   {
    "duration": 29,
    "start_time": "2023-09-05T12:25:40.444Z"
   },
   {
    "duration": 37,
    "start_time": "2023-09-05T12:25:40.476Z"
   },
   {
    "duration": 13,
    "start_time": "2023-09-05T12:25:40.515Z"
   },
   {
    "duration": 26,
    "start_time": "2023-09-05T12:25:40.530Z"
   },
   {
    "duration": 27,
    "start_time": "2023-09-05T12:25:40.558Z"
   },
   {
    "duration": 28,
    "start_time": "2023-09-05T12:25:40.589Z"
   },
   {
    "duration": 23,
    "start_time": "2023-09-05T12:25:40.619Z"
   },
   {
    "duration": 10,
    "start_time": "2023-09-05T12:25:40.646Z"
   },
   {
    "duration": 50,
    "start_time": "2023-09-05T12:25:40.657Z"
   },
   {
    "duration": 20,
    "start_time": "2023-09-05T12:25:40.710Z"
   },
   {
    "duration": 296,
    "start_time": "2023-09-05T12:25:40.731Z"
   },
   {
    "duration": 22,
    "start_time": "2023-09-05T12:25:41.029Z"
   },
   {
    "duration": 18,
    "start_time": "2023-09-05T12:25:41.052Z"
   },
   {
    "duration": 1432,
    "start_time": "2023-09-05T12:25:41.074Z"
   },
   {
    "duration": 23,
    "start_time": "2023-09-05T12:25:42.508Z"
   },
   {
    "duration": 9,
    "start_time": "2023-09-05T12:25:42.533Z"
   },
   {
    "duration": 1228,
    "start_time": "2023-09-05T12:25:42.543Z"
   },
   {
    "duration": 562,
    "start_time": "2023-09-05T12:25:43.773Z"
   },
   {
    "duration": 195,
    "start_time": "2023-09-05T12:25:44.337Z"
   },
   {
    "duration": 195,
    "start_time": "2023-09-05T12:25:44.534Z"
   },
   {
    "duration": 2026,
    "start_time": "2023-09-05T12:25:44.731Z"
   },
   {
    "duration": 28,
    "start_time": "2023-09-05T12:25:46.766Z"
   },
   {
    "duration": 27,
    "start_time": "2023-09-05T12:25:46.796Z"
   },
   {
    "duration": 49,
    "start_time": "2023-09-05T12:25:46.825Z"
   },
   {
    "duration": 37,
    "start_time": "2023-09-05T12:25:46.877Z"
   },
   {
    "duration": 19,
    "start_time": "2023-09-05T12:25:46.919Z"
   },
   {
    "duration": 23,
    "start_time": "2023-09-05T12:43:23.463Z"
   },
   {
    "duration": 3,
    "start_time": "2023-09-05T12:45:31.438Z"
   },
   {
    "duration": 129,
    "start_time": "2023-09-05T12:45:31.443Z"
   },
   {
    "duration": 18,
    "start_time": "2023-09-05T12:45:31.574Z"
   },
   {
    "duration": 48,
    "start_time": "2023-09-05T12:45:31.594Z"
   },
   {
    "duration": 87,
    "start_time": "2023-09-05T12:45:31.644Z"
   },
   {
    "duration": 60,
    "start_time": "2023-09-05T12:45:31.732Z"
   },
   {
    "duration": 30,
    "start_time": "2023-09-05T12:45:31.794Z"
   },
   {
    "duration": 31,
    "start_time": "2023-09-05T12:45:31.826Z"
   },
   {
    "duration": 39,
    "start_time": "2023-09-05T12:45:31.858Z"
   },
   {
    "duration": 52,
    "start_time": "2023-09-05T12:45:31.898Z"
   },
   {
    "duration": 50,
    "start_time": "2023-09-05T12:45:31.951Z"
   },
   {
    "duration": 28,
    "start_time": "2023-09-05T12:45:32.002Z"
   },
   {
    "duration": 221,
    "start_time": "2023-09-05T12:45:32.031Z"
   },
   {
    "duration": 37,
    "start_time": "2023-09-05T12:45:32.256Z"
   },
   {
    "duration": 9,
    "start_time": "2023-09-05T12:45:32.295Z"
   },
   {
    "duration": 1163,
    "start_time": "2023-09-05T12:45:32.307Z"
   },
   {
    "duration": 22,
    "start_time": "2023-09-05T12:45:33.472Z"
   },
   {
    "duration": 6,
    "start_time": "2023-09-05T12:45:33.496Z"
   },
   {
    "duration": 1131,
    "start_time": "2023-09-05T12:45:33.504Z"
   },
   {
    "duration": 460,
    "start_time": "2023-09-05T12:45:34.637Z"
   },
   {
    "duration": 169,
    "start_time": "2023-09-05T12:45:35.100Z"
   },
   {
    "duration": 164,
    "start_time": "2023-09-05T12:45:35.271Z"
   },
   {
    "duration": 1686,
    "start_time": "2023-09-05T12:45:35.437Z"
   },
   {
    "duration": 14,
    "start_time": "2023-09-05T12:45:37.125Z"
   },
   {
    "duration": 45,
    "start_time": "2023-09-05T12:45:37.141Z"
   },
   {
    "duration": 32,
    "start_time": "2023-09-05T12:45:37.188Z"
   },
   {
    "duration": 17,
    "start_time": "2023-09-05T12:45:37.222Z"
   },
   {
    "duration": 33,
    "start_time": "2023-09-05T12:45:37.241Z"
   },
   {
    "duration": 4,
    "start_time": "2023-09-05T12:46:33.448Z"
   },
   {
    "duration": 102,
    "start_time": "2023-09-05T12:46:33.453Z"
   },
   {
    "duration": 18,
    "start_time": "2023-09-05T12:46:33.557Z"
   },
   {
    "duration": 27,
    "start_time": "2023-09-05T12:46:33.578Z"
   },
   {
    "duration": 10,
    "start_time": "2023-09-05T12:46:33.607Z"
   },
   {
    "duration": 22,
    "start_time": "2023-09-05T12:46:33.619Z"
   },
   {
    "duration": 5,
    "start_time": "2023-09-05T12:46:33.642Z"
   },
   {
    "duration": 19,
    "start_time": "2023-09-05T12:46:33.649Z"
   },
   {
    "duration": 12,
    "start_time": "2023-09-05T12:46:33.670Z"
   },
   {
    "duration": 27,
    "start_time": "2023-09-05T12:46:33.685Z"
   },
   {
    "duration": 23,
    "start_time": "2023-09-05T12:46:33.714Z"
   },
   {
    "duration": 16,
    "start_time": "2023-09-05T12:46:33.738Z"
   },
   {
    "duration": 236,
    "start_time": "2023-09-05T12:46:33.756Z"
   },
   {
    "duration": 17,
    "start_time": "2023-09-05T12:46:33.994Z"
   },
   {
    "duration": 9,
    "start_time": "2023-09-05T12:46:34.013Z"
   },
   {
    "duration": 1224,
    "start_time": "2023-09-05T12:46:34.023Z"
   },
   {
    "duration": 36,
    "start_time": "2023-09-05T12:46:35.249Z"
   },
   {
    "duration": 7,
    "start_time": "2023-09-05T12:46:35.286Z"
   },
   {
    "duration": 1089,
    "start_time": "2023-09-05T12:46:35.295Z"
   },
   {
    "duration": 432,
    "start_time": "2023-09-05T12:46:36.386Z"
   },
   {
    "duration": 193,
    "start_time": "2023-09-05T12:46:36.820Z"
   },
   {
    "duration": 183,
    "start_time": "2023-09-05T12:46:37.015Z"
   },
   {
    "duration": 1698,
    "start_time": "2023-09-05T12:46:37.200Z"
   },
   {
    "duration": 17,
    "start_time": "2023-09-05T12:46:38.900Z"
   },
   {
    "duration": 38,
    "start_time": "2023-09-05T12:46:38.919Z"
   },
   {
    "duration": 31,
    "start_time": "2023-09-05T12:46:38.958Z"
   },
   {
    "duration": 15,
    "start_time": "2023-09-05T12:46:38.991Z"
   },
   {
    "duration": 23,
    "start_time": "2023-09-05T12:46:39.009Z"
   },
   {
    "duration": 16,
    "start_time": "2023-09-05T12:47:25.103Z"
   },
   {
    "duration": 20,
    "start_time": "2023-09-05T12:52:34.300Z"
   },
   {
    "duration": 18,
    "start_time": "2023-09-05T12:53:02.102Z"
   },
   {
    "duration": 24,
    "start_time": "2023-09-05T12:56:23.060Z"
   },
   {
    "duration": 13,
    "start_time": "2023-09-05T12:56:26.604Z"
   },
   {
    "duration": 3,
    "start_time": "2023-09-05T12:56:35.493Z"
   },
   {
    "duration": 142,
    "start_time": "2023-09-05T12:56:35.498Z"
   },
   {
    "duration": 17,
    "start_time": "2023-09-05T12:56:35.642Z"
   },
   {
    "duration": 47,
    "start_time": "2023-09-05T12:56:35.661Z"
   },
   {
    "duration": 52,
    "start_time": "2023-09-05T12:56:35.710Z"
   },
   {
    "duration": 27,
    "start_time": "2023-09-05T12:56:35.764Z"
   },
   {
    "duration": 6,
    "start_time": "2023-09-05T12:56:35.793Z"
   },
   {
    "duration": 13,
    "start_time": "2023-09-05T12:56:35.801Z"
   },
   {
    "duration": 9,
    "start_time": "2023-09-05T12:56:35.816Z"
   },
   {
    "duration": 11,
    "start_time": "2023-09-05T12:56:35.827Z"
   },
   {
    "duration": 59,
    "start_time": "2023-09-05T12:56:35.840Z"
   },
   {
    "duration": 17,
    "start_time": "2023-09-05T12:56:35.900Z"
   },
   {
    "duration": 244,
    "start_time": "2023-09-05T12:56:35.919Z"
   },
   {
    "duration": 27,
    "start_time": "2023-09-05T12:56:36.165Z"
   },
   {
    "duration": 8,
    "start_time": "2023-09-05T12:56:36.194Z"
   },
   {
    "duration": 1322,
    "start_time": "2023-09-05T12:56:36.204Z"
   },
   {
    "duration": 19,
    "start_time": "2023-09-05T12:56:37.528Z"
   },
   {
    "duration": 18,
    "start_time": "2023-09-05T12:56:37.549Z"
   },
   {
    "duration": 1107,
    "start_time": "2023-09-05T12:56:37.570Z"
   },
   {
    "duration": 327,
    "start_time": "2023-09-05T12:56:38.682Z"
   },
   {
    "duration": 183,
    "start_time": "2023-09-05T12:56:39.011Z"
   },
   {
    "duration": 308,
    "start_time": "2023-09-05T12:56:39.196Z"
   },
   {
    "duration": 1654,
    "start_time": "2023-09-05T12:56:39.506Z"
   },
   {
    "duration": 21,
    "start_time": "2023-09-05T12:56:41.170Z"
   },
   {
    "duration": 61,
    "start_time": "2023-09-05T12:56:41.193Z"
   },
   {
    "duration": 29,
    "start_time": "2023-09-05T12:56:41.255Z"
   },
   {
    "duration": 14,
    "start_time": "2023-09-05T12:56:41.286Z"
   },
   {
    "duration": 27,
    "start_time": "2023-09-05T12:56:41.301Z"
   },
   {
    "duration": 140,
    "start_time": "2023-09-05T13:16:29.246Z"
   },
   {
    "duration": 35,
    "start_time": "2023-09-05T13:18:47.066Z"
   },
   {
    "duration": 17,
    "start_time": "2023-09-05T13:24:11.046Z"
   },
   {
    "duration": 21,
    "start_time": "2023-09-05T13:26:54.032Z"
   },
   {
    "duration": 4,
    "start_time": "2023-09-05T13:29:00.629Z"
   },
   {
    "duration": 128,
    "start_time": "2023-09-05T13:29:00.635Z"
   },
   {
    "duration": 32,
    "start_time": "2023-09-05T13:29:00.765Z"
   },
   {
    "duration": 82,
    "start_time": "2023-09-05T13:29:00.798Z"
   },
   {
    "duration": 38,
    "start_time": "2023-09-05T13:29:00.884Z"
   },
   {
    "duration": 73,
    "start_time": "2023-09-05T13:29:00.925Z"
   },
   {
    "duration": 41,
    "start_time": "2023-09-05T13:29:01.000Z"
   },
   {
    "duration": 52,
    "start_time": "2023-09-05T13:29:01.043Z"
   },
   {
    "duration": 38,
    "start_time": "2023-09-05T13:29:01.097Z"
   },
   {
    "duration": 57,
    "start_time": "2023-09-05T13:29:01.137Z"
   },
   {
    "duration": 66,
    "start_time": "2023-09-05T13:29:01.196Z"
   },
   {
    "duration": 64,
    "start_time": "2023-09-05T13:29:01.264Z"
   },
   {
    "duration": 294,
    "start_time": "2023-09-05T13:29:01.329Z"
   },
   {
    "duration": 16,
    "start_time": "2023-09-05T13:29:01.626Z"
   },
   {
    "duration": 117,
    "start_time": "2023-09-05T13:29:01.644Z"
   },
   {
    "duration": 1358,
    "start_time": "2023-09-05T13:29:01.763Z"
   },
   {
    "duration": 18,
    "start_time": "2023-09-05T13:29:03.122Z"
   },
   {
    "duration": 7,
    "start_time": "2023-09-05T13:29:03.141Z"
   },
   {
    "duration": 1214,
    "start_time": "2023-09-05T13:29:03.150Z"
   },
   {
    "duration": 342,
    "start_time": "2023-09-05T13:29:04.366Z"
   },
   {
    "duration": 226,
    "start_time": "2023-09-05T13:29:04.710Z"
   },
   {
    "duration": 200,
    "start_time": "2023-09-05T13:29:04.938Z"
   },
   {
    "duration": 1864,
    "start_time": "2023-09-05T13:29:05.140Z"
   },
   {
    "duration": 15,
    "start_time": "2023-09-05T13:29:07.006Z"
   },
   {
    "duration": 35,
    "start_time": "2023-09-05T13:29:07.022Z"
   },
   {
    "duration": 39,
    "start_time": "2023-09-05T13:29:07.059Z"
   },
   {
    "duration": 14,
    "start_time": "2023-09-05T13:29:07.100Z"
   },
   {
    "duration": 18,
    "start_time": "2023-09-05T13:29:07.116Z"
   },
   {
    "duration": 17,
    "start_time": "2023-09-05T13:29:07.135Z"
   },
   {
    "duration": 20,
    "start_time": "2023-09-05T13:29:07.168Z"
   },
   {
    "duration": 21,
    "start_time": "2023-09-05T13:29:07.190Z"
   },
   {
    "duration": 167,
    "start_time": "2023-09-05T13:40:06.083Z"
   },
   {
    "duration": 3,
    "start_time": "2023-09-05T13:41:03.855Z"
   },
   {
    "duration": 19,
    "start_time": "2023-09-05T14:18:03.590Z"
   },
   {
    "duration": 19,
    "start_time": "2023-09-05T14:20:10.518Z"
   },
   {
    "duration": 15,
    "start_time": "2023-09-05T14:20:12.609Z"
   },
   {
    "duration": 12,
    "start_time": "2023-09-05T14:20:56.290Z"
   },
   {
    "duration": 15,
    "start_time": "2023-09-05T14:21:10.340Z"
   },
   {
    "duration": 13,
    "start_time": "2023-09-05T14:21:17.086Z"
   },
   {
    "duration": 11,
    "start_time": "2023-09-05T14:21:18.842Z"
   },
   {
    "duration": 4,
    "start_time": "2023-09-05T14:21:20.959Z"
   },
   {
    "duration": 95,
    "start_time": "2023-09-05T14:21:20.966Z"
   },
   {
    "duration": 23,
    "start_time": "2023-09-05T14:21:21.062Z"
   },
   {
    "duration": 43,
    "start_time": "2023-09-05T14:21:21.088Z"
   },
   {
    "duration": 14,
    "start_time": "2023-09-05T14:21:21.133Z"
   },
   {
    "duration": 36,
    "start_time": "2023-09-05T14:21:21.149Z"
   },
   {
    "duration": 29,
    "start_time": "2023-09-05T14:21:21.188Z"
   },
   {
    "duration": 34,
    "start_time": "2023-09-05T14:21:21.219Z"
   },
   {
    "duration": 57,
    "start_time": "2023-09-05T14:21:21.255Z"
   },
   {
    "duration": 25,
    "start_time": "2023-09-05T14:21:21.316Z"
   },
   {
    "duration": 76,
    "start_time": "2023-09-05T14:21:21.343Z"
   },
   {
    "duration": 18,
    "start_time": "2023-09-05T14:21:21.421Z"
   },
   {
    "duration": 235,
    "start_time": "2023-09-05T14:21:21.441Z"
   },
   {
    "duration": 19,
    "start_time": "2023-09-05T14:21:21.679Z"
   },
   {
    "duration": 8,
    "start_time": "2023-09-05T14:21:21.700Z"
   },
   {
    "duration": 1316,
    "start_time": "2023-09-05T14:21:21.710Z"
   },
   {
    "duration": 20,
    "start_time": "2023-09-05T14:21:23.028Z"
   },
   {
    "duration": 19,
    "start_time": "2023-09-05T14:21:23.050Z"
   },
   {
    "duration": 1119,
    "start_time": "2023-09-05T14:21:23.071Z"
   },
   {
    "duration": 337,
    "start_time": "2023-09-05T14:21:24.193Z"
   },
   {
    "duration": 184,
    "start_time": "2023-09-05T14:21:24.532Z"
   },
   {
    "duration": 193,
    "start_time": "2023-09-05T14:21:24.718Z"
   },
   {
    "duration": 1731,
    "start_time": "2023-09-05T14:21:24.913Z"
   },
   {
    "duration": 22,
    "start_time": "2023-09-05T14:21:26.646Z"
   },
   {
    "duration": 26,
    "start_time": "2023-09-05T14:21:26.670Z"
   },
   {
    "duration": 17,
    "start_time": "2023-09-05T14:21:26.698Z"
   },
   {
    "duration": 20,
    "start_time": "2023-09-05T14:21:26.716Z"
   },
   {
    "duration": 48,
    "start_time": "2023-09-05T14:21:26.739Z"
   },
   {
    "duration": 19,
    "start_time": "2023-09-05T14:21:26.789Z"
   },
   {
    "duration": 16,
    "start_time": "2023-09-05T14:21:26.810Z"
   },
   {
    "duration": 41,
    "start_time": "2023-09-05T14:21:26.828Z"
   },
   {
    "duration": 25,
    "start_time": "2023-09-05T14:21:26.870Z"
   },
   {
    "duration": 21,
    "start_time": "2023-09-05T14:21:26.897Z"
   },
   {
    "duration": 18,
    "start_time": "2023-09-05T14:21:26.920Z"
   },
   {
    "duration": 4,
    "start_time": "2023-09-05T14:21:37.255Z"
   },
   {
    "duration": 93,
    "start_time": "2023-09-05T14:21:37.261Z"
   },
   {
    "duration": 16,
    "start_time": "2023-09-05T14:21:37.356Z"
   },
   {
    "duration": 31,
    "start_time": "2023-09-05T14:21:37.374Z"
   },
   {
    "duration": 12,
    "start_time": "2023-09-05T14:21:37.408Z"
   },
   {
    "duration": 18,
    "start_time": "2023-09-05T14:21:37.421Z"
   },
   {
    "duration": 29,
    "start_time": "2023-09-05T14:21:37.441Z"
   },
   {
    "duration": 24,
    "start_time": "2023-09-05T14:21:37.472Z"
   },
   {
    "duration": 13,
    "start_time": "2023-09-05T14:21:37.498Z"
   },
   {
    "duration": 7,
    "start_time": "2023-09-05T14:21:37.513Z"
   },
   {
    "duration": 23,
    "start_time": "2023-09-05T14:21:37.521Z"
   },
   {
    "duration": 42,
    "start_time": "2023-09-05T14:21:37.546Z"
   },
   {
    "duration": 224,
    "start_time": "2023-09-05T14:21:37.590Z"
   },
   {
    "duration": 19,
    "start_time": "2023-09-05T14:21:37.818Z"
   },
   {
    "duration": 251,
    "start_time": "2023-09-05T14:21:37.838Z"
   },
   {
    "duration": 1254,
    "start_time": "2023-09-05T14:21:38.092Z"
   },
   {
    "duration": 36,
    "start_time": "2023-09-05T14:21:39.349Z"
   },
   {
    "duration": 23,
    "start_time": "2023-09-05T14:21:39.387Z"
   },
   {
    "duration": 1092,
    "start_time": "2023-09-05T14:21:39.412Z"
   },
   {
    "duration": 329,
    "start_time": "2023-09-05T14:21:40.506Z"
   },
   {
    "duration": 199,
    "start_time": "2023-09-05T14:21:40.837Z"
   },
   {
    "duration": 175,
    "start_time": "2023-09-05T14:21:41.038Z"
   },
   {
    "duration": 1839,
    "start_time": "2023-09-05T14:21:41.215Z"
   },
   {
    "duration": 29,
    "start_time": "2023-09-05T14:21:43.056Z"
   },
   {
    "duration": 23,
    "start_time": "2023-09-05T14:21:43.086Z"
   },
   {
    "duration": 21,
    "start_time": "2023-09-05T14:21:43.112Z"
   },
   {
    "duration": 51,
    "start_time": "2023-09-05T14:21:43.134Z"
   },
   {
    "duration": 18,
    "start_time": "2023-09-05T14:21:43.187Z"
   },
   {
    "duration": 17,
    "start_time": "2023-09-05T14:21:43.207Z"
   },
   {
    "duration": 44,
    "start_time": "2023-09-05T14:21:43.225Z"
   },
   {
    "duration": 20,
    "start_time": "2023-09-05T14:21:43.271Z"
   },
   {
    "duration": 21,
    "start_time": "2023-09-05T14:21:43.293Z"
   },
   {
    "duration": 14,
    "start_time": "2023-09-05T14:21:43.316Z"
   },
   {
    "duration": 45,
    "start_time": "2023-09-05T14:21:43.332Z"
   },
   {
    "duration": 118,
    "start_time": "2023-09-06T10:20:55.719Z"
   },
   {
    "duration": 577,
    "start_time": "2023-09-06T10:31:45.369Z"
   },
   {
    "duration": 70,
    "start_time": "2023-09-06T10:40:25.310Z"
   },
   {
    "duration": 566,
    "start_time": "2023-09-06T10:40:28.752Z"
   },
   {
    "duration": 189,
    "start_time": "2023-09-06T10:40:29.320Z"
   },
   {
    "duration": 18,
    "start_time": "2023-09-06T10:40:29.510Z"
   },
   {
    "duration": 41,
    "start_time": "2023-09-06T10:40:29.530Z"
   },
   {
    "duration": 9,
    "start_time": "2023-09-06T10:40:29.573Z"
   },
   {
    "duration": 11,
    "start_time": "2023-09-06T10:40:29.583Z"
   },
   {
    "duration": 17,
    "start_time": "2023-09-06T10:40:29.596Z"
   },
   {
    "duration": 16,
    "start_time": "2023-09-06T10:40:29.615Z"
   },
   {
    "duration": 17,
    "start_time": "2023-09-06T10:40:29.633Z"
   },
   {
    "duration": 8,
    "start_time": "2023-09-06T10:40:29.651Z"
   },
   {
    "duration": 22,
    "start_time": "2023-09-06T10:40:29.660Z"
   },
   {
    "duration": 16,
    "start_time": "2023-09-06T10:40:29.684Z"
   },
   {
    "duration": 209,
    "start_time": "2023-09-06T10:40:29.701Z"
   },
   {
    "duration": 24,
    "start_time": "2023-09-06T10:40:29.913Z"
   },
   {
    "duration": 6,
    "start_time": "2023-09-06T10:40:29.939Z"
   },
   {
    "duration": 1020,
    "start_time": "2023-09-06T10:40:29.947Z"
   },
   {
    "duration": 16,
    "start_time": "2023-09-06T10:40:30.968Z"
   },
   {
    "duration": 57,
    "start_time": "2023-09-06T10:40:30.986Z"
   },
   {
    "duration": 960,
    "start_time": "2023-09-06T10:40:31.045Z"
   },
   {
    "duration": 354,
    "start_time": "2023-09-06T10:40:32.006Z"
   },
   {
    "duration": 150,
    "start_time": "2023-09-06T10:40:32.361Z"
   },
   {
    "duration": 149,
    "start_time": "2023-09-06T10:40:32.513Z"
   },
   {
    "duration": 1382,
    "start_time": "2023-09-06T10:40:32.663Z"
   },
   {
    "duration": 18,
    "start_time": "2023-09-06T10:40:34.047Z"
   },
   {
    "duration": 23,
    "start_time": "2023-09-06T10:40:34.067Z"
   },
   {
    "duration": 19,
    "start_time": "2023-09-06T10:40:34.092Z"
   },
   {
    "duration": 25,
    "start_time": "2023-09-06T10:40:34.112Z"
   },
   {
    "duration": 20,
    "start_time": "2023-09-06T10:40:34.138Z"
   },
   {
    "duration": 97,
    "start_time": "2023-09-06T10:40:34.159Z"
   },
   {
    "duration": 14,
    "start_time": "2023-09-06T10:40:34.257Z"
   },
   {
    "duration": 16,
    "start_time": "2023-09-06T10:40:34.272Z"
   },
   {
    "duration": 30,
    "start_time": "2023-09-06T10:40:34.290Z"
   },
   {
    "duration": 34,
    "start_time": "2023-09-06T10:40:34.322Z"
   },
   {
    "duration": 10,
    "start_time": "2023-09-06T10:40:34.358Z"
   },
   {
    "duration": 24,
    "start_time": "2023-09-06T10:40:34.369Z"
   },
   {
    "duration": 1618,
    "start_time": "2023-09-06T10:40:34.394Z"
   },
   {
    "duration": 4,
    "start_time": "2023-09-06T10:45:28.278Z"
   },
   {
    "duration": 5,
    "start_time": "2023-09-06T10:45:35.376Z"
   },
   {
    "duration": 29,
    "start_time": "2023-09-06T10:45:46.861Z"
   },
   {
    "duration": 22,
    "start_time": "2023-09-06T10:45:59.516Z"
   },
   {
    "duration": 7,
    "start_time": "2023-09-06T10:46:06.276Z"
   },
   {
    "duration": 7,
    "start_time": "2023-09-06T10:49:41.342Z"
   },
   {
    "duration": 8,
    "start_time": "2023-09-06T10:52:51.767Z"
   },
   {
    "duration": 8,
    "start_time": "2023-09-06T10:53:03.997Z"
   },
   {
    "duration": 12,
    "start_time": "2023-09-06T10:55:14.828Z"
   },
   {
    "duration": 14,
    "start_time": "2023-09-06T10:55:22.245Z"
   },
   {
    "duration": 8,
    "start_time": "2023-09-06T10:55:33.346Z"
   },
   {
    "duration": 13,
    "start_time": "2023-09-06T11:01:01.816Z"
   },
   {
    "duration": 3,
    "start_time": "2023-09-06T11:01:21.986Z"
   },
   {
    "duration": 101,
    "start_time": "2023-09-06T11:01:21.991Z"
   },
   {
    "duration": 14,
    "start_time": "2023-09-06T11:01:22.094Z"
   },
   {
    "duration": 44,
    "start_time": "2023-09-06T11:01:22.110Z"
   },
   {
    "duration": 10,
    "start_time": "2023-09-06T11:01:22.156Z"
   },
   {
    "duration": 18,
    "start_time": "2023-09-06T11:01:22.168Z"
   },
   {
    "duration": 9,
    "start_time": "2023-09-06T11:01:22.188Z"
   },
   {
    "duration": 17,
    "start_time": "2023-09-06T11:01:22.198Z"
   },
   {
    "duration": 16,
    "start_time": "2023-09-06T11:01:22.216Z"
   },
   {
    "duration": 27,
    "start_time": "2023-09-06T11:01:22.235Z"
   },
   {
    "duration": 30,
    "start_time": "2023-09-06T11:01:22.264Z"
   },
   {
    "duration": 15,
    "start_time": "2023-09-06T11:01:22.296Z"
   },
   {
    "duration": 186,
    "start_time": "2023-09-06T11:01:22.313Z"
   },
   {
    "duration": 14,
    "start_time": "2023-09-06T11:01:22.501Z"
   },
   {
    "duration": 21,
    "start_time": "2023-09-06T11:01:22.534Z"
   },
   {
    "duration": 907,
    "start_time": "2023-09-06T11:01:22.557Z"
   },
   {
    "duration": 15,
    "start_time": "2023-09-06T11:01:23.465Z"
   },
   {
    "duration": 6,
    "start_time": "2023-09-06T11:01:23.482Z"
   },
   {
    "duration": 874,
    "start_time": "2023-09-06T11:01:23.490Z"
   },
   {
    "duration": 399,
    "start_time": "2023-09-06T11:01:24.365Z"
   },
   {
    "duration": 134,
    "start_time": "2023-09-06T11:01:24.765Z"
   },
   {
    "duration": 148,
    "start_time": "2023-09-06T11:01:24.901Z"
   },
   {
    "duration": 1271,
    "start_time": "2023-09-06T11:01:25.051Z"
   },
   {
    "duration": 21,
    "start_time": "2023-09-06T11:01:26.323Z"
   },
   {
    "duration": 27,
    "start_time": "2023-09-06T11:01:26.345Z"
   },
   {
    "duration": 26,
    "start_time": "2023-09-06T11:01:26.373Z"
   },
   {
    "duration": 19,
    "start_time": "2023-09-06T11:01:26.401Z"
   },
   {
    "duration": 23,
    "start_time": "2023-09-06T11:01:26.423Z"
   },
   {
    "duration": 19,
    "start_time": "2023-09-06T11:01:26.447Z"
   },
   {
    "duration": 11,
    "start_time": "2023-09-06T11:01:26.468Z"
   },
   {
    "duration": 37,
    "start_time": "2023-09-06T11:01:26.480Z"
   },
   {
    "duration": 13,
    "start_time": "2023-09-06T11:01:26.519Z"
   },
   {
    "duration": 55,
    "start_time": "2023-09-06T11:01:26.534Z"
   },
   {
    "duration": 14,
    "start_time": "2023-09-06T11:01:26.591Z"
   },
   {
    "duration": 22,
    "start_time": "2023-09-06T11:01:26.607Z"
   },
   {
    "duration": 28,
    "start_time": "2023-09-06T11:01:26.631Z"
   },
   {
    "duration": 3,
    "start_time": "2023-09-06T11:01:42.039Z"
   },
   {
    "duration": 100,
    "start_time": "2023-09-06T11:01:42.044Z"
   },
   {
    "duration": 12,
    "start_time": "2023-09-06T11:01:42.146Z"
   },
   {
    "duration": 16,
    "start_time": "2023-09-06T11:01:42.160Z"
   },
   {
    "duration": 9,
    "start_time": "2023-09-06T11:01:42.178Z"
   },
   {
    "duration": 22,
    "start_time": "2023-09-06T11:01:42.189Z"
   },
   {
    "duration": 23,
    "start_time": "2023-09-06T11:01:42.213Z"
   },
   {
    "duration": 5,
    "start_time": "2023-09-06T11:01:42.238Z"
   },
   {
    "duration": 19,
    "start_time": "2023-09-06T11:01:42.245Z"
   },
   {
    "duration": 14,
    "start_time": "2023-09-06T11:01:42.266Z"
   },
   {
    "duration": 31,
    "start_time": "2023-09-06T11:01:42.283Z"
   },
   {
    "duration": 14,
    "start_time": "2023-09-06T11:01:42.316Z"
   },
   {
    "duration": 174,
    "start_time": "2023-09-06T11:01:42.331Z"
   },
   {
    "duration": 14,
    "start_time": "2023-09-06T11:01:42.507Z"
   },
   {
    "duration": 6,
    "start_time": "2023-09-06T11:01:42.533Z"
   },
   {
    "duration": 993,
    "start_time": "2023-09-06T11:01:42.541Z"
   },
   {
    "duration": 16,
    "start_time": "2023-09-06T11:01:43.535Z"
   },
   {
    "duration": 6,
    "start_time": "2023-09-06T11:01:43.553Z"
   },
   {
    "duration": 848,
    "start_time": "2023-09-06T11:01:43.561Z"
   },
   {
    "duration": 305,
    "start_time": "2023-09-06T11:01:44.410Z"
   },
   {
    "duration": 134,
    "start_time": "2023-09-06T11:01:44.716Z"
   },
   {
    "duration": 237,
    "start_time": "2023-09-06T11:01:44.851Z"
   },
   {
    "duration": 1244,
    "start_time": "2023-09-06T11:01:45.090Z"
   },
   {
    "duration": 13,
    "start_time": "2023-09-06T11:01:46.336Z"
   },
   {
    "duration": 28,
    "start_time": "2023-09-06T11:01:46.351Z"
   },
   {
    "duration": 16,
    "start_time": "2023-09-06T11:01:46.381Z"
   },
   {
    "duration": 19,
    "start_time": "2023-09-06T11:01:46.399Z"
   },
   {
    "duration": 25,
    "start_time": "2023-09-06T11:01:46.419Z"
   },
   {
    "duration": 32,
    "start_time": "2023-09-06T11:01:46.447Z"
   },
   {
    "duration": 15,
    "start_time": "2023-09-06T11:01:46.481Z"
   },
   {
    "duration": 27,
    "start_time": "2023-09-06T11:01:46.498Z"
   },
   {
    "duration": 12,
    "start_time": "2023-09-06T11:01:46.526Z"
   },
   {
    "duration": 21,
    "start_time": "2023-09-06T11:01:46.540Z"
   },
   {
    "duration": 7,
    "start_time": "2023-09-06T11:01:46.563Z"
   },
   {
    "duration": 31,
    "start_time": "2023-09-06T11:01:46.571Z"
   },
   {
    "duration": 15,
    "start_time": "2023-09-06T11:01:46.603Z"
   },
   {
    "duration": 9,
    "start_time": "2023-09-06T11:04:24.058Z"
   },
   {
    "duration": 3,
    "start_time": "2023-09-06T11:06:08.818Z"
   },
   {
    "duration": 92,
    "start_time": "2023-09-06T11:06:08.823Z"
   },
   {
    "duration": 16,
    "start_time": "2023-09-06T11:06:08.918Z"
   },
   {
    "duration": 18,
    "start_time": "2023-09-06T11:06:08.936Z"
   },
   {
    "duration": 12,
    "start_time": "2023-09-06T11:06:08.956Z"
   },
   {
    "duration": 12,
    "start_time": "2023-09-06T11:06:08.970Z"
   },
   {
    "duration": 6,
    "start_time": "2023-09-06T11:06:08.984Z"
   },
   {
    "duration": 45,
    "start_time": "2023-09-06T11:06:08.992Z"
   },
   {
    "duration": 11,
    "start_time": "2023-09-06T11:06:09.039Z"
   },
   {
    "duration": 6,
    "start_time": "2023-09-06T11:06:09.054Z"
   },
   {
    "duration": 29,
    "start_time": "2023-09-06T11:06:09.061Z"
   },
   {
    "duration": 18,
    "start_time": "2023-09-06T11:06:09.092Z"
   },
   {
    "duration": 194,
    "start_time": "2023-09-06T11:06:09.135Z"
   },
   {
    "duration": 16,
    "start_time": "2023-09-06T11:06:09.334Z"
   },
   {
    "duration": 8,
    "start_time": "2023-09-06T11:06:09.352Z"
   },
   {
    "duration": 1149,
    "start_time": "2023-09-06T11:06:09.362Z"
   },
   {
    "duration": 26,
    "start_time": "2023-09-06T11:06:10.513Z"
   },
   {
    "duration": 7,
    "start_time": "2023-09-06T11:06:10.541Z"
   },
   {
    "duration": 1025,
    "start_time": "2023-09-06T11:06:10.549Z"
   },
   {
    "duration": 292,
    "start_time": "2023-09-06T11:06:11.576Z"
   },
   {
    "duration": 161,
    "start_time": "2023-09-06T11:06:11.870Z"
   },
   {
    "duration": 305,
    "start_time": "2023-09-06T11:06:12.034Z"
   },
   {
    "duration": 1555,
    "start_time": "2023-09-06T11:06:12.341Z"
   },
   {
    "duration": 15,
    "start_time": "2023-09-06T11:06:13.898Z"
   },
   {
    "duration": 159,
    "start_time": "2023-09-06T11:06:13.914Z"
   },
   {
    "duration": 19,
    "start_time": "2023-09-06T11:06:14.075Z"
   },
   {
    "duration": 31,
    "start_time": "2023-09-06T11:06:14.096Z"
   },
   {
    "duration": 17,
    "start_time": "2023-09-06T11:06:14.130Z"
   },
   {
    "duration": 39,
    "start_time": "2023-09-06T11:06:14.149Z"
   },
   {
    "duration": 16,
    "start_time": "2023-09-06T11:06:14.189Z"
   },
   {
    "duration": 46,
    "start_time": "2023-09-06T11:06:14.207Z"
   },
   {
    "duration": 17,
    "start_time": "2023-09-06T11:06:14.255Z"
   },
   {
    "duration": 28,
    "start_time": "2023-09-06T11:06:14.274Z"
   },
   {
    "duration": 12,
    "start_time": "2023-09-06T11:06:14.304Z"
   },
   {
    "duration": 70,
    "start_time": "2023-09-06T11:06:14.318Z"
   },
   {
    "duration": 16,
    "start_time": "2023-09-06T11:06:14.390Z"
   },
   {
    "duration": 3,
    "start_time": "2023-09-06T11:06:25.833Z"
   },
   {
    "duration": 86,
    "start_time": "2023-09-06T11:06:25.839Z"
   },
   {
    "duration": 14,
    "start_time": "2023-09-06T11:06:25.927Z"
   },
   {
    "duration": 28,
    "start_time": "2023-09-06T11:06:25.943Z"
   },
   {
    "duration": 27,
    "start_time": "2023-09-06T11:06:25.972Z"
   },
   {
    "duration": 26,
    "start_time": "2023-09-06T11:06:26.001Z"
   },
   {
    "duration": 11,
    "start_time": "2023-09-06T11:06:26.029Z"
   },
   {
    "duration": 10,
    "start_time": "2023-09-06T11:06:26.041Z"
   },
   {
    "duration": 15,
    "start_time": "2023-09-06T11:06:26.053Z"
   },
   {
    "duration": 9,
    "start_time": "2023-09-06T11:06:26.071Z"
   },
   {
    "duration": 27,
    "start_time": "2023-09-06T11:06:26.082Z"
   },
   {
    "duration": 14,
    "start_time": "2023-09-06T11:06:26.111Z"
   },
   {
    "duration": 173,
    "start_time": "2023-09-06T11:06:26.127Z"
   },
   {
    "duration": 15,
    "start_time": "2023-09-06T11:06:26.302Z"
   },
   {
    "duration": 16,
    "start_time": "2023-09-06T11:06:26.319Z"
   },
   {
    "duration": 992,
    "start_time": "2023-09-06T11:06:26.336Z"
   },
   {
    "duration": 16,
    "start_time": "2023-09-06T11:06:27.334Z"
   },
   {
    "duration": 28,
    "start_time": "2023-09-06T11:06:27.351Z"
   },
   {
    "duration": 899,
    "start_time": "2023-09-06T11:06:27.380Z"
   },
   {
    "duration": 251,
    "start_time": "2023-09-06T11:06:28.280Z"
   },
   {
    "duration": 142,
    "start_time": "2023-09-06T11:06:28.534Z"
   },
   {
    "duration": 146,
    "start_time": "2023-09-06T11:06:28.678Z"
   },
   {
    "duration": 1392,
    "start_time": "2023-09-06T11:06:28.825Z"
   },
   {
    "duration": 24,
    "start_time": "2023-09-06T11:06:30.218Z"
   },
   {
    "duration": 27,
    "start_time": "2023-09-06T11:06:30.244Z"
   },
   {
    "duration": 45,
    "start_time": "2023-09-06T11:06:30.273Z"
   },
   {
    "duration": 40,
    "start_time": "2023-09-06T11:06:30.320Z"
   },
   {
    "duration": 35,
    "start_time": "2023-09-06T11:06:30.364Z"
   },
   {
    "duration": 50,
    "start_time": "2023-09-06T11:06:30.401Z"
   },
   {
    "duration": 53,
    "start_time": "2023-09-06T11:06:30.453Z"
   },
   {
    "duration": 50,
    "start_time": "2023-09-06T11:06:30.508Z"
   },
   {
    "duration": 40,
    "start_time": "2023-09-06T11:06:30.560Z"
   },
   {
    "duration": 22,
    "start_time": "2023-09-06T11:06:30.602Z"
   },
   {
    "duration": 23,
    "start_time": "2023-09-06T11:06:30.626Z"
   },
   {
    "duration": 35,
    "start_time": "2023-09-06T11:06:30.651Z"
   },
   {
    "duration": 36,
    "start_time": "2023-09-06T11:06:30.688Z"
   },
   {
    "duration": 7,
    "start_time": "2023-09-06T11:06:47.162Z"
   },
   {
    "duration": 3,
    "start_time": "2023-09-06T11:06:50.581Z"
   },
   {
    "duration": 84,
    "start_time": "2023-09-06T11:06:50.596Z"
   },
   {
    "duration": 13,
    "start_time": "2023-09-06T11:06:50.682Z"
   },
   {
    "duration": 37,
    "start_time": "2023-09-06T11:06:50.697Z"
   },
   {
    "duration": 41,
    "start_time": "2023-09-06T11:06:50.735Z"
   },
   {
    "duration": 13,
    "start_time": "2023-09-06T11:06:50.778Z"
   },
   {
    "duration": 10,
    "start_time": "2023-09-06T11:06:50.792Z"
   },
   {
    "duration": 19,
    "start_time": "2023-09-06T11:06:50.803Z"
   },
   {
    "duration": 65,
    "start_time": "2023-09-06T11:06:50.823Z"
   },
   {
    "duration": 5,
    "start_time": "2023-09-06T11:06:50.889Z"
   },
   {
    "duration": 31,
    "start_time": "2023-09-06T11:06:50.896Z"
   },
   {
    "duration": 15,
    "start_time": "2023-09-06T11:06:50.928Z"
   },
   {
    "duration": 187,
    "start_time": "2023-09-06T11:06:50.944Z"
   },
   {
    "duration": 14,
    "start_time": "2023-09-06T11:06:51.133Z"
   },
   {
    "duration": 25,
    "start_time": "2023-09-06T11:06:51.149Z"
   },
   {
    "duration": 1005,
    "start_time": "2023-09-06T11:06:51.176Z"
   },
   {
    "duration": 17,
    "start_time": "2023-09-06T11:06:52.183Z"
   },
   {
    "duration": 33,
    "start_time": "2023-09-06T11:06:52.202Z"
   },
   {
    "duration": 949,
    "start_time": "2023-09-06T11:06:52.237Z"
   },
   {
    "duration": 262,
    "start_time": "2023-09-06T11:06:53.188Z"
   },
   {
    "duration": 150,
    "start_time": "2023-09-06T11:06:53.452Z"
   },
   {
    "duration": 153,
    "start_time": "2023-09-06T11:06:53.603Z"
   },
   {
    "duration": 1545,
    "start_time": "2023-09-06T11:06:53.758Z"
   },
   {
    "duration": 14,
    "start_time": "2023-09-06T11:06:55.304Z"
   },
   {
    "duration": 42,
    "start_time": "2023-09-06T11:06:55.319Z"
   },
   {
    "duration": 13,
    "start_time": "2023-09-06T11:06:55.363Z"
   },
   {
    "duration": 18,
    "start_time": "2023-09-06T11:06:55.377Z"
   },
   {
    "duration": 17,
    "start_time": "2023-09-06T11:06:55.397Z"
   },
   {
    "duration": 38,
    "start_time": "2023-09-06T11:06:55.415Z"
   },
   {
    "duration": 34,
    "start_time": "2023-09-06T11:06:55.454Z"
   },
   {
    "duration": 24,
    "start_time": "2023-09-06T11:06:55.489Z"
   },
   {
    "duration": 19,
    "start_time": "2023-09-06T11:06:55.515Z"
   },
   {
    "duration": 18,
    "start_time": "2023-09-06T11:06:55.536Z"
   },
   {
    "duration": 8,
    "start_time": "2023-09-06T11:06:55.556Z"
   },
   {
    "duration": 40,
    "start_time": "2023-09-06T11:06:55.565Z"
   },
   {
    "duration": 19,
    "start_time": "2023-09-06T11:06:55.606Z"
   },
   {
    "duration": 3,
    "start_time": "2023-09-06T11:07:22.854Z"
   },
   {
    "duration": 97,
    "start_time": "2023-09-06T11:07:22.859Z"
   },
   {
    "duration": 13,
    "start_time": "2023-09-06T11:07:22.958Z"
   },
   {
    "duration": 36,
    "start_time": "2023-09-06T11:07:22.972Z"
   },
   {
    "duration": 24,
    "start_time": "2023-09-06T11:07:23.011Z"
   },
   {
    "duration": 29,
    "start_time": "2023-09-06T11:07:23.037Z"
   },
   {
    "duration": 21,
    "start_time": "2023-09-06T11:07:23.068Z"
   },
   {
    "duration": 16,
    "start_time": "2023-09-06T11:07:23.091Z"
   },
   {
    "duration": 29,
    "start_time": "2023-09-06T11:07:23.108Z"
   },
   {
    "duration": 32,
    "start_time": "2023-09-06T11:07:23.139Z"
   },
   {
    "duration": 57,
    "start_time": "2023-09-06T11:07:23.172Z"
   },
   {
    "duration": 63,
    "start_time": "2023-09-06T11:07:23.231Z"
   },
   {
    "duration": 190,
    "start_time": "2023-09-06T11:07:23.297Z"
   },
   {
    "duration": 14,
    "start_time": "2023-09-06T11:07:23.488Z"
   },
   {
    "duration": 19,
    "start_time": "2023-09-06T11:07:23.504Z"
   },
   {
    "duration": 1049,
    "start_time": "2023-09-06T11:07:23.524Z"
   },
   {
    "duration": 22,
    "start_time": "2023-09-06T11:07:24.575Z"
   },
   {
    "duration": 19,
    "start_time": "2023-09-06T11:07:24.599Z"
   },
   {
    "duration": 912,
    "start_time": "2023-09-06T11:07:24.634Z"
   },
   {
    "duration": 257,
    "start_time": "2023-09-06T11:07:25.548Z"
   },
   {
    "duration": 146,
    "start_time": "2023-09-06T11:07:25.807Z"
   },
   {
    "duration": 159,
    "start_time": "2023-09-06T11:07:25.955Z"
   },
   {
    "duration": 1404,
    "start_time": "2023-09-06T11:07:26.116Z"
   },
   {
    "duration": 21,
    "start_time": "2023-09-06T11:07:27.522Z"
   },
   {
    "duration": 28,
    "start_time": "2023-09-06T11:07:27.545Z"
   },
   {
    "duration": 12,
    "start_time": "2023-09-06T11:07:27.575Z"
   },
   {
    "duration": 22,
    "start_time": "2023-09-06T11:07:27.589Z"
   },
   {
    "duration": 33,
    "start_time": "2023-09-06T11:07:27.612Z"
   },
   {
    "duration": 13,
    "start_time": "2023-09-06T11:07:27.647Z"
   },
   {
    "duration": 42,
    "start_time": "2023-09-06T11:07:27.661Z"
   },
   {
    "duration": 47,
    "start_time": "2023-09-06T11:07:27.705Z"
   },
   {
    "duration": 26,
    "start_time": "2023-09-06T11:07:27.753Z"
   },
   {
    "duration": 14,
    "start_time": "2023-09-06T11:07:27.781Z"
   },
   {
    "duration": 13,
    "start_time": "2023-09-06T11:07:27.796Z"
   },
   {
    "duration": 28,
    "start_time": "2023-09-06T11:07:27.811Z"
   },
   {
    "duration": 12,
    "start_time": "2023-09-06T11:07:27.841Z"
   },
   {
    "duration": 8,
    "start_time": "2023-09-06T11:18:59.069Z"
   },
   {
    "duration": 8,
    "start_time": "2023-09-06T11:19:21.088Z"
   },
   {
    "duration": 2,
    "start_time": "2023-09-06T11:22:19.099Z"
   },
   {
    "duration": 103,
    "start_time": "2023-09-06T11:22:19.103Z"
   },
   {
    "duration": 13,
    "start_time": "2023-09-06T11:22:19.208Z"
   },
   {
    "duration": 32,
    "start_time": "2023-09-06T11:22:19.222Z"
   },
   {
    "duration": 9,
    "start_time": "2023-09-06T11:22:19.256Z"
   },
   {
    "duration": 12,
    "start_time": "2023-09-06T11:22:19.267Z"
   },
   {
    "duration": 14,
    "start_time": "2023-09-06T11:22:19.280Z"
   },
   {
    "duration": 22,
    "start_time": "2023-09-06T11:22:19.295Z"
   },
   {
    "duration": 47,
    "start_time": "2023-09-06T11:22:19.319Z"
   },
   {
    "duration": 14,
    "start_time": "2023-09-06T11:22:19.367Z"
   },
   {
    "duration": 24,
    "start_time": "2023-09-06T11:22:19.382Z"
   },
   {
    "duration": 14,
    "start_time": "2023-09-06T11:22:19.407Z"
   },
   {
    "duration": 174,
    "start_time": "2023-09-06T11:22:19.423Z"
   },
   {
    "duration": 14,
    "start_time": "2023-09-06T11:22:19.600Z"
   },
   {
    "duration": 29,
    "start_time": "2023-09-06T11:22:19.615Z"
   },
   {
    "duration": 1065,
    "start_time": "2023-09-06T11:22:19.645Z"
   },
   {
    "duration": 32,
    "start_time": "2023-09-06T11:22:20.712Z"
   },
   {
    "duration": 7,
    "start_time": "2023-09-06T11:22:20.747Z"
   },
   {
    "duration": 930,
    "start_time": "2023-09-06T11:22:20.755Z"
   },
   {
    "duration": 272,
    "start_time": "2023-09-06T11:22:21.687Z"
   },
   {
    "duration": 142,
    "start_time": "2023-09-06T11:22:21.960Z"
   },
   {
    "duration": 152,
    "start_time": "2023-09-06T11:22:22.104Z"
   },
   {
    "duration": 1506,
    "start_time": "2023-09-06T11:22:22.258Z"
   },
   {
    "duration": 16,
    "start_time": "2023-09-06T11:22:23.765Z"
   },
   {
    "duration": 33,
    "start_time": "2023-09-06T11:22:23.783Z"
   },
   {
    "duration": 30,
    "start_time": "2023-09-06T11:22:23.818Z"
   },
   {
    "duration": 41,
    "start_time": "2023-09-06T11:22:23.850Z"
   },
   {
    "duration": 53,
    "start_time": "2023-09-06T11:22:23.893Z"
   },
   {
    "duration": 14,
    "start_time": "2023-09-06T11:22:23.948Z"
   },
   {
    "duration": 63,
    "start_time": "2023-09-06T11:22:23.964Z"
   },
   {
    "duration": 52,
    "start_time": "2023-09-06T11:22:24.029Z"
   },
   {
    "duration": 23,
    "start_time": "2023-09-06T11:22:24.083Z"
   },
   {
    "duration": 49,
    "start_time": "2023-09-06T11:22:24.107Z"
   },
   {
    "duration": 34,
    "start_time": "2023-09-06T11:22:24.157Z"
   },
   {
    "duration": 28,
    "start_time": "2023-09-06T11:22:24.193Z"
   },
   {
    "duration": 1171,
    "start_time": "2023-09-06T11:54:29.735Z"
   },
   {
    "duration": 86,
    "start_time": "2023-09-06T11:54:30.908Z"
   },
   {
    "duration": 35,
    "start_time": "2023-09-06T11:54:30.996Z"
   },
   {
    "duration": 55,
    "start_time": "2023-09-06T11:54:31.033Z"
   },
   {
    "duration": 29,
    "start_time": "2023-09-06T11:54:31.090Z"
   },
   {
    "duration": 38,
    "start_time": "2023-09-06T11:54:31.121Z"
   },
   {
    "duration": 22,
    "start_time": "2023-09-06T11:54:31.162Z"
   },
   {
    "duration": 32,
    "start_time": "2023-09-06T11:54:31.186Z"
   },
   {
    "duration": 73,
    "start_time": "2023-09-06T11:54:31.220Z"
   },
   {
    "duration": 95,
    "start_time": "2023-09-06T11:54:31.295Z"
   },
   {
    "duration": 168,
    "start_time": "2023-09-06T11:54:31.391Z"
   },
   {
    "duration": 232,
    "start_time": "2023-09-06T11:54:31.561Z"
   },
   {
    "duration": 475,
    "start_time": "2023-09-06T11:54:31.795Z"
   },
   {
    "duration": 16,
    "start_time": "2023-09-06T11:54:32.273Z"
   },
   {
    "duration": 14,
    "start_time": "2023-09-06T11:54:32.291Z"
   },
   {
    "duration": 1093,
    "start_time": "2023-09-06T11:54:32.306Z"
   },
   {
    "duration": 19,
    "start_time": "2023-09-06T11:54:33.401Z"
   },
   {
    "duration": 9,
    "start_time": "2023-09-06T11:54:33.433Z"
   },
   {
    "duration": 1074,
    "start_time": "2023-09-06T11:54:33.444Z"
   },
   {
    "duration": 473,
    "start_time": "2023-09-06T11:54:34.521Z"
   },
   {
    "duration": 160,
    "start_time": "2023-09-06T11:54:34.995Z"
   },
   {
    "duration": 171,
    "start_time": "2023-09-06T11:54:35.156Z"
   },
   {
    "duration": 1586,
    "start_time": "2023-09-06T11:54:35.330Z"
   },
   {
    "duration": 34,
    "start_time": "2023-09-06T11:54:36.918Z"
   },
   {
    "duration": 25,
    "start_time": "2023-09-06T11:54:36.954Z"
   },
   {
    "duration": 19,
    "start_time": "2023-09-06T11:54:36.981Z"
   },
   {
    "duration": 48,
    "start_time": "2023-09-06T11:54:37.002Z"
   },
   {
    "duration": 19,
    "start_time": "2023-09-06T11:54:37.053Z"
   },
   {
    "duration": 13,
    "start_time": "2023-09-06T11:54:37.074Z"
   },
   {
    "duration": 13,
    "start_time": "2023-09-06T11:54:37.089Z"
   },
   {
    "duration": 55,
    "start_time": "2023-09-06T11:54:37.104Z"
   },
   {
    "duration": 15,
    "start_time": "2023-09-06T11:54:37.161Z"
   },
   {
    "duration": 16,
    "start_time": "2023-09-06T11:54:37.178Z"
   },
   {
    "duration": 9,
    "start_time": "2023-09-06T11:54:37.195Z"
   },
   {
    "duration": 39,
    "start_time": "2023-09-06T11:54:37.206Z"
   },
   {
    "duration": 122,
    "start_time": "2023-09-06T15:35:59.146Z"
   },
   {
    "duration": 174,
    "start_time": "2023-09-06T15:36:09.784Z"
   },
   {
    "duration": 113,
    "start_time": "2023-09-06T15:36:55.840Z"
   },
   {
    "duration": 100,
    "start_time": "2023-09-06T15:52:27.331Z"
   },
   {
    "duration": 55,
    "start_time": "2023-09-06T15:53:37.107Z"
   },
   {
    "duration": 1394,
    "start_time": "2023-09-06T15:53:43.241Z"
   },
   {
    "duration": 182,
    "start_time": "2023-09-06T15:53:44.637Z"
   },
   {
    "duration": 14,
    "start_time": "2023-09-06T15:53:44.824Z"
   },
   {
    "duration": 29,
    "start_time": "2023-09-06T15:53:44.840Z"
   },
   {
    "duration": 47,
    "start_time": "2023-09-06T15:53:44.870Z"
   },
   {
    "duration": 99,
    "start_time": "2023-09-06T15:53:44.918Z"
   },
   {
    "duration": 0,
    "start_time": "2023-09-06T15:53:45.022Z"
   },
   {
    "duration": 0,
    "start_time": "2023-09-06T15:53:45.023Z"
   },
   {
    "duration": 0,
    "start_time": "2023-09-06T15:53:45.024Z"
   },
   {
    "duration": 0,
    "start_time": "2023-09-06T15:53:45.026Z"
   },
   {
    "duration": 0,
    "start_time": "2023-09-06T15:53:45.027Z"
   },
   {
    "duration": 0,
    "start_time": "2023-09-06T15:53:45.028Z"
   },
   {
    "duration": 0,
    "start_time": "2023-09-06T15:53:45.029Z"
   },
   {
    "duration": 0,
    "start_time": "2023-09-06T15:53:45.030Z"
   },
   {
    "duration": 0,
    "start_time": "2023-09-06T15:53:45.031Z"
   },
   {
    "duration": 0,
    "start_time": "2023-09-06T15:53:45.032Z"
   },
   {
    "duration": 0,
    "start_time": "2023-09-06T15:53:45.032Z"
   },
   {
    "duration": 0,
    "start_time": "2023-09-06T15:53:45.033Z"
   },
   {
    "duration": 0,
    "start_time": "2023-09-06T15:53:45.034Z"
   },
   {
    "duration": 0,
    "start_time": "2023-09-06T15:53:45.036Z"
   },
   {
    "duration": 0,
    "start_time": "2023-09-06T15:53:45.036Z"
   },
   {
    "duration": 1,
    "start_time": "2023-09-06T15:53:45.037Z"
   },
   {
    "duration": 0,
    "start_time": "2023-09-06T15:53:45.038Z"
   },
   {
    "duration": 0,
    "start_time": "2023-09-06T15:53:45.040Z"
   },
   {
    "duration": 0,
    "start_time": "2023-09-06T15:53:45.041Z"
   },
   {
    "duration": 0,
    "start_time": "2023-09-06T15:53:45.042Z"
   },
   {
    "duration": 0,
    "start_time": "2023-09-06T15:53:45.043Z"
   },
   {
    "duration": 0,
    "start_time": "2023-09-06T15:53:45.044Z"
   },
   {
    "duration": 0,
    "start_time": "2023-09-06T15:53:45.046Z"
   },
   {
    "duration": 0,
    "start_time": "2023-09-06T15:53:45.046Z"
   },
   {
    "duration": 0,
    "start_time": "2023-09-06T15:53:45.047Z"
   },
   {
    "duration": 0,
    "start_time": "2023-09-06T15:53:45.048Z"
   },
   {
    "duration": 0,
    "start_time": "2023-09-06T15:53:45.050Z"
   },
   {
    "duration": 0,
    "start_time": "2023-09-06T15:53:45.051Z"
   },
   {
    "duration": 0,
    "start_time": "2023-09-06T15:53:45.052Z"
   },
   {
    "duration": 0,
    "start_time": "2023-09-06T15:53:45.053Z"
   },
   {
    "duration": 17,
    "start_time": "2023-09-06T15:54:13.019Z"
   },
   {
    "duration": 3,
    "start_time": "2023-09-06T15:54:21.461Z"
   },
   {
    "duration": 118,
    "start_time": "2023-09-06T15:54:21.466Z"
   },
   {
    "duration": 21,
    "start_time": "2023-09-06T15:54:21.594Z"
   },
   {
    "duration": 21,
    "start_time": "2023-09-06T15:54:21.617Z"
   },
   {
    "duration": 13,
    "start_time": "2023-09-06T15:54:21.640Z"
   },
   {
    "duration": 98,
    "start_time": "2023-09-06T15:54:21.654Z"
   },
   {
    "duration": 0,
    "start_time": "2023-09-06T15:54:21.754Z"
   },
   {
    "duration": 0,
    "start_time": "2023-09-06T15:54:21.755Z"
   },
   {
    "duration": 1,
    "start_time": "2023-09-06T15:54:21.756Z"
   },
   {
    "duration": 0,
    "start_time": "2023-09-06T15:54:21.758Z"
   },
   {
    "duration": 0,
    "start_time": "2023-09-06T15:54:21.759Z"
   },
   {
    "duration": 0,
    "start_time": "2023-09-06T15:54:21.761Z"
   },
   {
    "duration": 0,
    "start_time": "2023-09-06T15:54:21.762Z"
   },
   {
    "duration": 0,
    "start_time": "2023-09-06T15:54:21.763Z"
   },
   {
    "duration": 0,
    "start_time": "2023-09-06T15:54:21.764Z"
   },
   {
    "duration": 0,
    "start_time": "2023-09-06T15:54:21.765Z"
   },
   {
    "duration": 0,
    "start_time": "2023-09-06T15:54:21.766Z"
   },
   {
    "duration": 0,
    "start_time": "2023-09-06T15:54:21.766Z"
   },
   {
    "duration": 1,
    "start_time": "2023-09-06T15:54:21.767Z"
   },
   {
    "duration": 0,
    "start_time": "2023-09-06T15:54:21.768Z"
   },
   {
    "duration": 0,
    "start_time": "2023-09-06T15:54:21.769Z"
   },
   {
    "duration": 0,
    "start_time": "2023-09-06T15:54:21.770Z"
   },
   {
    "duration": 0,
    "start_time": "2023-09-06T15:54:21.772Z"
   },
   {
    "duration": 0,
    "start_time": "2023-09-06T15:54:21.773Z"
   },
   {
    "duration": 0,
    "start_time": "2023-09-06T15:54:21.773Z"
   },
   {
    "duration": 0,
    "start_time": "2023-09-06T15:54:21.774Z"
   },
   {
    "duration": 0,
    "start_time": "2023-09-06T15:54:21.776Z"
   },
   {
    "duration": 0,
    "start_time": "2023-09-06T15:54:21.777Z"
   },
   {
    "duration": 0,
    "start_time": "2023-09-06T15:54:21.778Z"
   },
   {
    "duration": 0,
    "start_time": "2023-09-06T15:54:21.779Z"
   },
   {
    "duration": 0,
    "start_time": "2023-09-06T15:54:21.780Z"
   },
   {
    "duration": 0,
    "start_time": "2023-09-06T15:54:21.787Z"
   },
   {
    "duration": 0,
    "start_time": "2023-09-06T15:54:21.787Z"
   },
   {
    "duration": 0,
    "start_time": "2023-09-06T15:54:21.789Z"
   },
   {
    "duration": 0,
    "start_time": "2023-09-06T15:54:21.789Z"
   },
   {
    "duration": 0,
    "start_time": "2023-09-06T15:54:21.790Z"
   },
   {
    "duration": 7,
    "start_time": "2023-09-06T15:54:51.009Z"
   },
   {
    "duration": 130,
    "start_time": "2023-09-06T15:54:51.020Z"
   },
   {
    "duration": 18,
    "start_time": "2023-09-06T15:54:51.152Z"
   },
   {
    "duration": 55,
    "start_time": "2023-09-06T15:54:51.172Z"
   },
   {
    "duration": 13,
    "start_time": "2023-09-06T15:54:51.230Z"
   },
   {
    "duration": 31,
    "start_time": "2023-09-06T15:54:51.245Z"
   },
   {
    "duration": 37,
    "start_time": "2023-09-06T15:54:51.278Z"
   },
   {
    "duration": 11,
    "start_time": "2023-09-06T15:54:51.320Z"
   },
   {
    "duration": 43,
    "start_time": "2023-09-06T15:54:51.333Z"
   },
   {
    "duration": 35,
    "start_time": "2023-09-06T15:54:51.378Z"
   },
   {
    "duration": 23,
    "start_time": "2023-09-06T15:54:51.414Z"
   },
   {
    "duration": 17,
    "start_time": "2023-09-06T15:54:51.439Z"
   },
   {
    "duration": 239,
    "start_time": "2023-09-06T15:54:51.457Z"
   },
   {
    "duration": 23,
    "start_time": "2023-09-06T15:54:51.706Z"
   },
   {
    "duration": 22,
    "start_time": "2023-09-06T15:54:51.731Z"
   },
   {
    "duration": 1209,
    "start_time": "2023-09-06T15:54:51.755Z"
   },
   {
    "duration": 31,
    "start_time": "2023-09-06T15:54:52.966Z"
   },
   {
    "duration": 23,
    "start_time": "2023-09-06T15:54:52.999Z"
   },
   {
    "duration": 1220,
    "start_time": "2023-09-06T15:54:53.025Z"
   },
   {
    "duration": 323,
    "start_time": "2023-09-06T15:54:54.247Z"
   },
   {
    "duration": 171,
    "start_time": "2023-09-06T15:54:54.572Z"
   },
   {
    "duration": 182,
    "start_time": "2023-09-06T15:54:54.745Z"
   },
   {
    "duration": 1887,
    "start_time": "2023-09-06T15:54:54.929Z"
   },
   {
    "duration": 17,
    "start_time": "2023-09-06T15:54:56.824Z"
   },
   {
    "duration": 27,
    "start_time": "2023-09-06T15:54:56.843Z"
   },
   {
    "duration": 49,
    "start_time": "2023-09-06T15:54:56.872Z"
   },
   {
    "duration": 20,
    "start_time": "2023-09-06T15:54:56.929Z"
   },
   {
    "duration": 25,
    "start_time": "2023-09-06T15:54:56.951Z"
   },
   {
    "duration": 29,
    "start_time": "2023-09-06T15:54:56.978Z"
   },
   {
    "duration": 22,
    "start_time": "2023-09-06T15:54:57.011Z"
   },
   {
    "duration": 30,
    "start_time": "2023-09-06T15:54:57.034Z"
   },
   {
    "duration": 35,
    "start_time": "2023-09-06T15:54:57.066Z"
   },
   {
    "duration": 31,
    "start_time": "2023-09-06T15:54:57.108Z"
   },
   {
    "duration": 12,
    "start_time": "2023-09-06T15:54:57.141Z"
   },
   {
    "duration": 18,
    "start_time": "2023-09-06T15:54:57.154Z"
   },
   {
    "duration": 68,
    "start_time": "2023-09-06T16:09:42.594Z"
   },
   {
    "duration": 0,
    "start_time": "2023-09-06T16:41:46.610Z"
   },
   {
    "duration": 3,
    "start_time": "2023-09-06T16:41:51.839Z"
   },
   {
    "duration": 121,
    "start_time": "2023-09-06T16:41:51.844Z"
   },
   {
    "duration": 26,
    "start_time": "2023-09-06T16:41:51.966Z"
   },
   {
    "duration": 43,
    "start_time": "2023-09-06T16:41:52.001Z"
   },
   {
    "duration": 24,
    "start_time": "2023-09-06T16:41:52.048Z"
   },
   {
    "duration": 20,
    "start_time": "2023-09-06T16:41:52.073Z"
   },
   {
    "duration": 15,
    "start_time": "2023-09-06T16:41:52.095Z"
   },
   {
    "duration": 30,
    "start_time": "2023-09-06T16:41:52.112Z"
   },
   {
    "duration": 33,
    "start_time": "2023-09-06T16:41:52.144Z"
   },
   {
    "duration": 21,
    "start_time": "2023-09-06T16:41:52.180Z"
   },
   {
    "duration": 34,
    "start_time": "2023-09-06T16:41:52.203Z"
   },
   {
    "duration": 28,
    "start_time": "2023-09-06T16:41:52.240Z"
   },
   {
    "duration": 289,
    "start_time": "2023-09-06T16:41:52.270Z"
   },
   {
    "duration": 18,
    "start_time": "2023-09-06T16:41:52.562Z"
   },
   {
    "duration": 11,
    "start_time": "2023-09-06T16:41:52.591Z"
   },
   {
    "duration": 1446,
    "start_time": "2023-09-06T16:41:52.603Z"
   },
   {
    "duration": 42,
    "start_time": "2023-09-06T16:41:54.051Z"
   },
   {
    "duration": 23,
    "start_time": "2023-09-06T16:41:54.109Z"
   },
   {
    "duration": 1811,
    "start_time": "2023-09-06T16:41:54.139Z"
   },
   {
    "duration": 420,
    "start_time": "2023-09-06T16:41:55.951Z"
   },
   {
    "duration": 565,
    "start_time": "2023-09-06T16:41:56.373Z"
   },
   {
    "duration": 235,
    "start_time": "2023-09-06T16:41:56.945Z"
   },
   {
    "duration": 289,
    "start_time": "2023-09-06T16:41:57.186Z"
   },
   {
    "duration": 2194,
    "start_time": "2023-09-06T16:41:57.477Z"
   },
   {
    "duration": 30,
    "start_time": "2023-09-06T16:41:59.673Z"
   },
   {
    "duration": 57,
    "start_time": "2023-09-06T16:41:59.705Z"
   },
   {
    "duration": 50,
    "start_time": "2023-09-06T16:41:59.764Z"
   },
   {
    "duration": 29,
    "start_time": "2023-09-06T16:41:59.816Z"
   },
   {
    "duration": 18,
    "start_time": "2023-09-06T16:41:59.847Z"
   },
   {
    "duration": 42,
    "start_time": "2023-09-06T16:41:59.867Z"
   },
   {
    "duration": 21,
    "start_time": "2023-09-06T16:41:59.911Z"
   },
   {
    "duration": 25,
    "start_time": "2023-09-06T16:41:59.935Z"
   },
   {
    "duration": 14,
    "start_time": "2023-09-06T16:41:59.962Z"
   },
   {
    "duration": 34,
    "start_time": "2023-09-06T16:41:59.978Z"
   },
   {
    "duration": 38,
    "start_time": "2023-09-06T16:42:00.014Z"
   },
   {
    "duration": 78,
    "start_time": "2023-09-06T16:42:00.054Z"
   },
   {
    "duration": 302,
    "start_time": "2023-09-06T16:50:35.476Z"
   },
   {
    "duration": 13,
    "start_time": "2023-09-06T16:50:46.606Z"
   },
   {
    "duration": 117,
    "start_time": "2023-09-06T16:50:46.621Z"
   },
   {
    "duration": 15,
    "start_time": "2023-09-06T16:50:46.740Z"
   },
   {
    "duration": 21,
    "start_time": "2023-09-06T16:50:46.757Z"
   },
   {
    "duration": 44,
    "start_time": "2023-09-06T16:50:46.781Z"
   },
   {
    "duration": 36,
    "start_time": "2023-09-06T16:50:46.827Z"
   },
   {
    "duration": 85,
    "start_time": "2023-09-06T16:50:46.865Z"
   },
   {
    "duration": 7,
    "start_time": "2023-09-06T16:50:46.952Z"
   },
   {
    "duration": 12,
    "start_time": "2023-09-06T16:50:46.960Z"
   },
   {
    "duration": 53,
    "start_time": "2023-09-06T16:50:46.974Z"
   },
   {
    "duration": 26,
    "start_time": "2023-09-06T16:50:47.029Z"
   },
   {
    "duration": 18,
    "start_time": "2023-09-06T16:50:47.057Z"
   },
   {
    "duration": 258,
    "start_time": "2023-09-06T16:50:47.077Z"
   },
   {
    "duration": 24,
    "start_time": "2023-09-06T16:50:47.339Z"
   },
   {
    "duration": 28,
    "start_time": "2023-09-06T16:50:47.365Z"
   },
   {
    "duration": 1270,
    "start_time": "2023-09-06T16:50:47.401Z"
   },
   {
    "duration": 28,
    "start_time": "2023-09-06T16:50:48.673Z"
   },
   {
    "duration": 8,
    "start_time": "2023-09-06T16:50:48.702Z"
   },
   {
    "duration": 1327,
    "start_time": "2023-09-06T16:50:48.716Z"
   },
   {
    "duration": 291,
    "start_time": "2023-09-06T16:50:50.045Z"
   },
   {
    "duration": 176,
    "start_time": "2023-09-06T16:50:50.337Z"
   },
   {
    "duration": 205,
    "start_time": "2023-09-06T16:50:50.518Z"
   },
   {
    "duration": 1835,
    "start_time": "2023-09-06T16:50:50.728Z"
   },
   {
    "duration": 29,
    "start_time": "2023-09-06T16:50:52.565Z"
   },
   {
    "duration": 26,
    "start_time": "2023-09-06T16:50:52.596Z"
   },
   {
    "duration": 32,
    "start_time": "2023-09-06T16:50:52.624Z"
   },
   {
    "duration": 63,
    "start_time": "2023-09-06T16:50:52.665Z"
   },
   {
    "duration": 18,
    "start_time": "2023-09-06T16:50:52.735Z"
   },
   {
    "duration": 18,
    "start_time": "2023-09-06T16:50:52.755Z"
   },
   {
    "duration": 41,
    "start_time": "2023-09-06T16:50:52.774Z"
   },
   {
    "duration": 19,
    "start_time": "2023-09-06T16:50:52.827Z"
   },
   {
    "duration": 20,
    "start_time": "2023-09-06T16:50:52.848Z"
   },
   {
    "duration": 30,
    "start_time": "2023-09-06T16:50:52.870Z"
   },
   {
    "duration": 18,
    "start_time": "2023-09-06T16:50:52.914Z"
   },
   {
    "duration": 10,
    "start_time": "2023-09-06T16:50:52.934Z"
   },
   {
    "duration": 340,
    "start_time": "2023-09-06T18:20:19.332Z"
   },
   {
    "duration": 188,
    "start_time": "2023-09-06T18:20:38.317Z"
   },
   {
    "duration": 773,
    "start_time": "2023-09-06T18:23:24.838Z"
   },
   {
    "duration": 358,
    "start_time": "2023-09-06T18:23:39.622Z"
   },
   {
    "duration": 22,
    "start_time": "2023-09-06T18:27:49.328Z"
   },
   {
    "duration": 15,
    "start_time": "2023-09-06T18:28:12.230Z"
   },
   {
    "duration": 5,
    "start_time": "2023-09-06T18:28:22.220Z"
   },
   {
    "duration": 115,
    "start_time": "2023-09-06T18:28:22.228Z"
   },
   {
    "duration": 16,
    "start_time": "2023-09-06T18:28:22.345Z"
   },
   {
    "duration": 51,
    "start_time": "2023-09-06T18:28:22.363Z"
   },
   {
    "duration": 21,
    "start_time": "2023-09-06T18:28:22.418Z"
   },
   {
    "duration": 17,
    "start_time": "2023-09-06T18:28:22.441Z"
   },
   {
    "duration": 8,
    "start_time": "2023-09-06T18:28:22.460Z"
   },
   {
    "duration": 21,
    "start_time": "2023-09-06T18:28:22.470Z"
   },
   {
    "duration": 14,
    "start_time": "2023-09-06T18:28:22.494Z"
   },
   {
    "duration": 11,
    "start_time": "2023-09-06T18:28:22.511Z"
   },
   {
    "duration": 27,
    "start_time": "2023-09-06T18:28:22.525Z"
   },
   {
    "duration": 44,
    "start_time": "2023-09-06T18:28:22.554Z"
   },
   {
    "duration": 253,
    "start_time": "2023-09-06T18:28:22.601Z"
   },
   {
    "duration": 49,
    "start_time": "2023-09-06T18:28:22.858Z"
   },
   {
    "duration": 21,
    "start_time": "2023-09-06T18:28:22.917Z"
   },
   {
    "duration": 1313,
    "start_time": "2023-09-06T18:28:22.940Z"
   },
   {
    "duration": 38,
    "start_time": "2023-09-06T18:28:24.255Z"
   },
   {
    "duration": 23,
    "start_time": "2023-09-06T18:28:24.295Z"
   },
   {
    "duration": 1328,
    "start_time": "2023-09-06T18:28:24.321Z"
   },
   {
    "duration": 391,
    "start_time": "2023-09-06T18:28:25.652Z"
   },
   {
    "duration": 247,
    "start_time": "2023-09-06T18:28:26.046Z"
   },
   {
    "duration": 250,
    "start_time": "2023-09-06T18:28:26.304Z"
   },
   {
    "duration": 2145,
    "start_time": "2023-09-06T18:28:26.557Z"
   },
   {
    "duration": 24,
    "start_time": "2023-09-06T18:28:28.704Z"
   },
   {
    "duration": 26,
    "start_time": "2023-09-06T18:28:28.729Z"
   },
   {
    "duration": 39,
    "start_time": "2023-09-06T18:28:28.757Z"
   },
   {
    "duration": 24,
    "start_time": "2023-09-06T18:28:28.801Z"
   },
   {
    "duration": 28,
    "start_time": "2023-09-06T18:28:28.828Z"
   },
   {
    "duration": 24,
    "start_time": "2023-09-06T18:28:28.858Z"
   },
   {
    "duration": 59,
    "start_time": "2023-09-06T18:28:28.884Z"
   },
   {
    "duration": 26,
    "start_time": "2023-09-06T18:28:28.948Z"
   },
   {
    "duration": 22,
    "start_time": "2023-09-06T18:28:28.976Z"
   },
   {
    "duration": 32,
    "start_time": "2023-09-06T18:28:29.000Z"
   },
   {
    "duration": 17,
    "start_time": "2023-09-06T18:28:29.041Z"
   },
   {
    "duration": 10,
    "start_time": "2023-09-06T18:28:29.060Z"
   },
   {
    "duration": 12,
    "start_time": "2023-09-06T18:29:15.518Z"
   },
   {
    "duration": 139,
    "start_time": "2023-09-06T18:29:15.534Z"
   },
   {
    "duration": 30,
    "start_time": "2023-09-06T18:29:15.676Z"
   },
   {
    "duration": 40,
    "start_time": "2023-09-06T18:29:15.708Z"
   },
   {
    "duration": 16,
    "start_time": "2023-09-06T18:29:15.751Z"
   },
   {
    "duration": 30,
    "start_time": "2023-09-06T18:29:15.769Z"
   },
   {
    "duration": 13,
    "start_time": "2023-09-06T18:29:15.801Z"
   },
   {
    "duration": 16,
    "start_time": "2023-09-06T18:29:15.817Z"
   },
   {
    "duration": 13,
    "start_time": "2023-09-06T18:29:15.836Z"
   },
   {
    "duration": 18,
    "start_time": "2023-09-06T18:29:15.851Z"
   },
   {
    "duration": 50,
    "start_time": "2023-09-06T18:29:15.870Z"
   },
   {
    "duration": 29,
    "start_time": "2023-09-06T18:29:15.922Z"
   },
   {
    "duration": 232,
    "start_time": "2023-09-06T18:29:15.953Z"
   },
   {
    "duration": 50,
    "start_time": "2023-09-06T18:29:16.189Z"
   },
   {
    "duration": 8,
    "start_time": "2023-09-06T18:29:16.241Z"
   },
   {
    "duration": 1398,
    "start_time": "2023-09-06T18:29:16.250Z"
   },
   {
    "duration": 23,
    "start_time": "2023-09-06T18:29:17.650Z"
   },
   {
    "duration": 23,
    "start_time": "2023-09-06T18:29:17.675Z"
   },
   {
    "duration": 1391,
    "start_time": "2023-09-06T18:29:17.702Z"
   },
   {
    "duration": 345,
    "start_time": "2023-09-06T18:29:19.101Z"
   },
   {
    "duration": 191,
    "start_time": "2023-09-06T18:29:19.448Z"
   },
   {
    "duration": 190,
    "start_time": "2023-09-06T18:29:19.641Z"
   },
   {
    "duration": 1933,
    "start_time": "2023-09-06T18:29:19.833Z"
   },
   {
    "duration": 51,
    "start_time": "2023-09-06T18:29:21.767Z"
   },
   {
    "duration": 22,
    "start_time": "2023-09-06T18:29:21.826Z"
   },
   {
    "duration": 16,
    "start_time": "2023-09-06T18:29:21.849Z"
   },
   {
    "duration": 31,
    "start_time": "2023-09-06T18:29:21.867Z"
   },
   {
    "duration": 28,
    "start_time": "2023-09-06T18:29:21.902Z"
   },
   {
    "duration": 17,
    "start_time": "2023-09-06T18:29:21.938Z"
   },
   {
    "duration": 19,
    "start_time": "2023-09-06T18:29:21.957Z"
   },
   {
    "duration": 32,
    "start_time": "2023-09-06T18:29:21.987Z"
   },
   {
    "duration": 21,
    "start_time": "2023-09-06T18:29:22.025Z"
   },
   {
    "duration": 15,
    "start_time": "2023-09-06T18:29:22.048Z"
   },
   {
    "duration": 37,
    "start_time": "2023-09-06T18:29:22.065Z"
   },
   {
    "duration": 21,
    "start_time": "2023-09-06T18:29:22.112Z"
   },
   {
    "duration": 21,
    "start_time": "2023-09-06T18:40:47.832Z"
   },
   {
    "duration": 16,
    "start_time": "2023-09-06T18:40:59.642Z"
   },
   {
    "duration": 15,
    "start_time": "2023-09-06T18:41:11.419Z"
   },
   {
    "duration": 15,
    "start_time": "2023-09-06T18:42:39.534Z"
   },
   {
    "duration": 3,
    "start_time": "2023-09-06T18:42:42.362Z"
   },
   {
    "duration": 117,
    "start_time": "2023-09-06T18:42:42.367Z"
   },
   {
    "duration": 24,
    "start_time": "2023-09-06T18:42:42.499Z"
   },
   {
    "duration": 16,
    "start_time": "2023-09-06T18:42:42.536Z"
   },
   {
    "duration": 11,
    "start_time": "2023-09-06T18:42:42.554Z"
   },
   {
    "duration": 11,
    "start_time": "2023-09-06T18:42:42.567Z"
   },
   {
    "duration": 16,
    "start_time": "2023-09-06T18:42:42.580Z"
   },
   {
    "duration": 10,
    "start_time": "2023-09-06T18:42:42.600Z"
   },
   {
    "duration": 29,
    "start_time": "2023-09-06T18:42:42.613Z"
   },
   {
    "duration": 7,
    "start_time": "2023-09-06T18:42:42.643Z"
   },
   {
    "duration": 20,
    "start_time": "2023-09-06T18:42:42.651Z"
   },
   {
    "duration": 26,
    "start_time": "2023-09-06T18:42:42.672Z"
   },
   {
    "duration": 220,
    "start_time": "2023-09-06T18:42:42.699Z"
   },
   {
    "duration": 23,
    "start_time": "2023-09-06T18:42:42.925Z"
   },
   {
    "duration": 7,
    "start_time": "2023-09-06T18:42:42.949Z"
   },
   {
    "duration": 1267,
    "start_time": "2023-09-06T18:42:42.957Z"
   },
   {
    "duration": 22,
    "start_time": "2023-09-06T18:42:44.227Z"
   },
   {
    "duration": 8,
    "start_time": "2023-09-06T18:42:44.251Z"
   },
   {
    "duration": 6,
    "start_time": "2023-09-06T18:42:44.260Z"
   },
   {
    "duration": 1132,
    "start_time": "2023-09-06T18:42:44.267Z"
   },
   {
    "duration": 329,
    "start_time": "2023-09-06T18:42:45.401Z"
   },
   {
    "duration": 192,
    "start_time": "2023-09-06T18:42:45.733Z"
   },
   {
    "duration": 201,
    "start_time": "2023-09-06T18:42:45.934Z"
   },
   {
    "duration": 1914,
    "start_time": "2023-09-06T18:42:46.139Z"
   },
   {
    "duration": 14,
    "start_time": "2023-09-06T18:42:48.054Z"
   },
   {
    "duration": 509,
    "start_time": "2023-09-06T18:42:48.081Z"
   },
   {
    "duration": 314,
    "start_time": "2023-09-06T18:42:48.592Z"
   },
   {
    "duration": 236,
    "start_time": "2023-09-06T18:42:48.908Z"
   },
   {
    "duration": 457,
    "start_time": "2023-09-06T18:42:49.146Z"
   },
   {
    "duration": 365,
    "start_time": "2023-09-06T18:42:49.606Z"
   },
   {
    "duration": 395,
    "start_time": "2023-09-06T18:42:49.973Z"
   },
   {
    "duration": 672,
    "start_time": "2023-09-06T18:42:50.370Z"
   },
   {
    "duration": 527,
    "start_time": "2023-09-06T18:42:51.044Z"
   },
   {
    "duration": 361,
    "start_time": "2023-09-06T18:42:51.573Z"
   },
   {
    "duration": 392,
    "start_time": "2023-09-06T18:42:51.936Z"
   },
   {
    "duration": 93,
    "start_time": "2023-09-06T18:42:52.330Z"
   },
   {
    "duration": 2,
    "start_time": "2023-09-06T18:43:27.739Z"
   },
   {
    "duration": 135,
    "start_time": "2023-09-06T18:43:27.743Z"
   },
   {
    "duration": 29,
    "start_time": "2023-09-06T18:43:27.880Z"
   },
   {
    "duration": 33,
    "start_time": "2023-09-06T18:43:27.911Z"
   },
   {
    "duration": 18,
    "start_time": "2023-09-06T18:43:27.947Z"
   },
   {
    "duration": 58,
    "start_time": "2023-09-06T18:43:27.966Z"
   },
   {
    "duration": 17,
    "start_time": "2023-09-06T18:43:28.026Z"
   },
   {
    "duration": 46,
    "start_time": "2023-09-06T18:43:28.045Z"
   },
   {
    "duration": 30,
    "start_time": "2023-09-06T18:43:28.093Z"
   },
   {
    "duration": 20,
    "start_time": "2023-09-06T18:43:28.125Z"
   },
   {
    "duration": 60,
    "start_time": "2023-09-06T18:43:28.147Z"
   },
   {
    "duration": 25,
    "start_time": "2023-09-06T18:43:28.208Z"
   },
   {
    "duration": 223,
    "start_time": "2023-09-06T18:43:28.235Z"
   },
   {
    "duration": 26,
    "start_time": "2023-09-06T18:43:28.460Z"
   },
   {
    "duration": 18,
    "start_time": "2023-09-06T18:43:28.490Z"
   },
   {
    "duration": 1278,
    "start_time": "2023-09-06T18:43:28.513Z"
   },
   {
    "duration": 22,
    "start_time": "2023-09-06T18:43:29.793Z"
   },
   {
    "duration": 20,
    "start_time": "2023-09-06T18:43:29.817Z"
   },
   {
    "duration": 20,
    "start_time": "2023-09-06T18:43:29.839Z"
   },
   {
    "duration": 1137,
    "start_time": "2023-09-06T18:43:29.860Z"
   },
   {
    "duration": 239,
    "start_time": "2023-09-06T18:43:31.003Z"
   },
   {
    "duration": 191,
    "start_time": "2023-09-06T18:43:31.244Z"
   },
   {
    "duration": 176,
    "start_time": "2023-09-06T18:43:31.437Z"
   },
   {
    "duration": 1715,
    "start_time": "2023-09-06T18:43:31.620Z"
   },
   {
    "duration": 16,
    "start_time": "2023-09-06T18:43:33.337Z"
   },
   {
    "duration": 47,
    "start_time": "2023-09-06T18:43:33.355Z"
   },
   {
    "duration": 21,
    "start_time": "2023-09-06T18:43:33.403Z"
   },
   {
    "duration": 14,
    "start_time": "2023-09-06T18:43:33.426Z"
   },
   {
    "duration": 16,
    "start_time": "2023-09-06T18:43:33.442Z"
   },
   {
    "duration": 49,
    "start_time": "2023-09-06T18:43:33.460Z"
   },
   {
    "duration": 18,
    "start_time": "2023-09-06T18:43:33.511Z"
   },
   {
    "duration": 27,
    "start_time": "2023-09-06T18:43:33.530Z"
   },
   {
    "duration": 12,
    "start_time": "2023-09-06T18:43:33.559Z"
   },
   {
    "duration": 40,
    "start_time": "2023-09-06T18:43:33.573Z"
   },
   {
    "duration": 10,
    "start_time": "2023-09-06T18:43:33.616Z"
   },
   {
    "duration": 22,
    "start_time": "2023-09-06T18:43:33.627Z"
   },
   {
    "duration": 118,
    "start_time": "2023-09-06T18:54:43.133Z"
   },
   {
    "duration": 5,
    "start_time": "2023-09-06T18:54:45.515Z"
   },
   {
    "duration": 114,
    "start_time": "2023-09-06T18:54:45.523Z"
   },
   {
    "duration": 14,
    "start_time": "2023-09-06T18:54:45.638Z"
   },
   {
    "duration": 17,
    "start_time": "2023-09-06T18:54:45.653Z"
   },
   {
    "duration": 11,
    "start_time": "2023-09-06T18:54:45.673Z"
   },
   {
    "duration": 44,
    "start_time": "2023-09-06T18:54:45.686Z"
   },
   {
    "duration": 6,
    "start_time": "2023-09-06T18:54:45.732Z"
   },
   {
    "duration": 13,
    "start_time": "2023-09-06T18:54:45.739Z"
   },
   {
    "duration": 19,
    "start_time": "2023-09-06T18:54:45.754Z"
   },
   {
    "duration": 15,
    "start_time": "2023-09-06T18:54:45.774Z"
   },
   {
    "duration": 35,
    "start_time": "2023-09-06T18:54:45.796Z"
   },
   {
    "duration": 16,
    "start_time": "2023-09-06T18:54:45.833Z"
   },
   {
    "duration": 226,
    "start_time": "2023-09-06T18:54:45.851Z"
   },
   {
    "duration": 35,
    "start_time": "2023-09-06T18:54:46.079Z"
   },
   {
    "duration": 18,
    "start_time": "2023-09-06T18:54:46.117Z"
   },
   {
    "duration": 1338,
    "start_time": "2023-09-06T18:54:46.136Z"
   },
   {
    "duration": 33,
    "start_time": "2023-09-06T18:54:47.476Z"
   },
   {
    "duration": 8,
    "start_time": "2023-09-06T18:54:47.511Z"
   },
   {
    "duration": 1101,
    "start_time": "2023-09-06T18:54:47.521Z"
   },
   {
    "duration": 222,
    "start_time": "2023-09-06T18:54:48.629Z"
   },
   {
    "duration": 173,
    "start_time": "2023-09-06T18:54:48.853Z"
   },
   {
    "duration": 174,
    "start_time": "2023-09-06T18:54:49.028Z"
   },
   {
    "duration": 1793,
    "start_time": "2023-09-06T18:54:49.204Z"
   },
   {
    "duration": 124,
    "start_time": "2023-09-06T18:54:50.999Z"
   },
   {
    "duration": 0,
    "start_time": "2023-09-06T18:54:51.125Z"
   },
   {
    "duration": 0,
    "start_time": "2023-09-06T18:54:51.126Z"
   },
   {
    "duration": 0,
    "start_time": "2023-09-06T18:54:51.128Z"
   },
   {
    "duration": 0,
    "start_time": "2023-09-06T18:54:51.129Z"
   },
   {
    "duration": 0,
    "start_time": "2023-09-06T18:54:51.131Z"
   },
   {
    "duration": 0,
    "start_time": "2023-09-06T18:54:51.132Z"
   },
   {
    "duration": 0,
    "start_time": "2023-09-06T18:54:51.133Z"
   },
   {
    "duration": 0,
    "start_time": "2023-09-06T18:54:51.135Z"
   },
   {
    "duration": 0,
    "start_time": "2023-09-06T18:54:51.136Z"
   },
   {
    "duration": 1,
    "start_time": "2023-09-06T18:54:51.137Z"
   },
   {
    "duration": 0,
    "start_time": "2023-09-06T18:54:51.138Z"
   },
   {
    "duration": 15,
    "start_time": "2023-09-06T18:56:54.125Z"
   },
   {
    "duration": 23,
    "start_time": "2023-09-06T18:57:30.534Z"
   },
   {
    "duration": 21,
    "start_time": "2023-09-06T18:57:43.731Z"
   },
   {
    "duration": 16,
    "start_time": "2023-09-06T18:57:59.433Z"
   },
   {
    "duration": 15,
    "start_time": "2023-09-06T18:58:29.745Z"
   },
   {
    "duration": 14,
    "start_time": "2023-09-06T19:05:12.141Z"
   },
   {
    "duration": 41,
    "start_time": "2023-09-06T19:07:44.474Z"
   },
   {
    "duration": 48,
    "start_time": "2023-09-06T19:09:27.072Z"
   },
   {
    "duration": 32,
    "start_time": "2023-09-06T19:10:14.668Z"
   },
   {
    "duration": 20,
    "start_time": "2023-09-06T19:10:23.410Z"
   },
   {
    "duration": 24,
    "start_time": "2023-09-06T19:11:05.051Z"
   },
   {
    "duration": 73,
    "start_time": "2023-09-06T19:11:56.129Z"
   },
   {
    "duration": 1251,
    "start_time": "2023-09-06T19:38:23.274Z"
   },
   {
    "duration": 110,
    "start_time": "2023-09-06T19:38:24.533Z"
   },
   {
    "duration": 13,
    "start_time": "2023-09-06T19:38:24.645Z"
   },
   {
    "duration": 18,
    "start_time": "2023-09-06T19:38:24.660Z"
   },
   {
    "duration": 33,
    "start_time": "2023-09-06T19:38:24.688Z"
   },
   {
    "duration": 16,
    "start_time": "2023-09-06T19:38:24.727Z"
   },
   {
    "duration": 16,
    "start_time": "2023-09-06T19:38:24.745Z"
   },
   {
    "duration": 36,
    "start_time": "2023-09-06T19:38:24.763Z"
   },
   {
    "duration": 29,
    "start_time": "2023-09-06T19:38:24.801Z"
   },
   {
    "duration": 35,
    "start_time": "2023-09-06T19:38:24.835Z"
   },
   {
    "duration": 34,
    "start_time": "2023-09-06T19:38:24.871Z"
   },
   {
    "duration": 32,
    "start_time": "2023-09-06T19:38:24.906Z"
   },
   {
    "duration": 286,
    "start_time": "2023-09-06T19:38:24.940Z"
   },
   {
    "duration": 28,
    "start_time": "2023-09-06T19:38:25.228Z"
   },
   {
    "duration": 11,
    "start_time": "2023-09-06T19:38:25.258Z"
   },
   {
    "duration": 1191,
    "start_time": "2023-09-06T19:38:25.271Z"
   },
   {
    "duration": 35,
    "start_time": "2023-09-06T19:38:26.464Z"
   },
   {
    "duration": 10,
    "start_time": "2023-09-06T19:38:26.505Z"
   },
   {
    "duration": 1276,
    "start_time": "2023-09-06T19:38:26.516Z"
   },
   {
    "duration": 391,
    "start_time": "2023-09-06T19:38:27.796Z"
   },
   {
    "duration": 174,
    "start_time": "2023-09-06T19:38:28.189Z"
   },
   {
    "duration": 202,
    "start_time": "2023-09-06T19:38:28.365Z"
   },
   {
    "duration": 1872,
    "start_time": "2023-09-06T19:38:28.569Z"
   },
   {
    "duration": 23,
    "start_time": "2023-09-06T19:38:30.443Z"
   },
   {
    "duration": 55,
    "start_time": "2023-09-06T19:38:30.467Z"
   },
   {
    "duration": 33,
    "start_time": "2023-09-06T19:38:30.529Z"
   },
   {
    "duration": 45,
    "start_time": "2023-09-06T19:38:30.565Z"
   },
   {
    "duration": 65,
    "start_time": "2023-09-06T19:38:30.614Z"
   },
   {
    "duration": 45,
    "start_time": "2023-09-06T19:38:30.692Z"
   },
   {
    "duration": 54,
    "start_time": "2023-09-06T19:38:30.739Z"
   },
   {
    "duration": 73,
    "start_time": "2023-09-06T19:38:30.795Z"
   },
   {
    "duration": 72,
    "start_time": "2023-09-06T19:38:30.869Z"
   },
   {
    "duration": 84,
    "start_time": "2023-09-06T19:38:30.943Z"
   },
   {
    "duration": 27,
    "start_time": "2023-09-06T19:38:31.033Z"
   },
   {
    "duration": 47,
    "start_time": "2023-09-06T19:38:31.061Z"
   },
   {
    "duration": 41,
    "start_time": "2023-09-06T19:38:31.110Z"
   },
   {
    "duration": 122,
    "start_time": "2023-09-06T19:39:05.957Z"
   },
   {
    "duration": 1363,
    "start_time": "2023-09-06T19:40:59.060Z"
   },
   {
    "duration": 138,
    "start_time": "2023-09-06T19:41:00.429Z"
   },
   {
    "duration": 41,
    "start_time": "2023-09-06T19:41:00.568Z"
   },
   {
    "duration": 24,
    "start_time": "2023-09-06T19:41:00.616Z"
   },
   {
    "duration": 22,
    "start_time": "2023-09-06T19:41:00.643Z"
   },
   {
    "duration": 72,
    "start_time": "2023-09-06T19:41:00.666Z"
   },
   {
    "duration": 38,
    "start_time": "2023-09-06T19:41:00.740Z"
   },
   {
    "duration": 78,
    "start_time": "2023-09-06T19:41:00.780Z"
   },
   {
    "duration": 160,
    "start_time": "2023-09-06T19:41:00.859Z"
   },
   {
    "duration": 40,
    "start_time": "2023-09-06T19:41:01.025Z"
   },
   {
    "duration": 71,
    "start_time": "2023-09-06T19:41:01.066Z"
   },
   {
    "duration": 21,
    "start_time": "2023-09-06T19:41:01.138Z"
   },
   {
    "duration": 334,
    "start_time": "2023-09-06T19:41:01.161Z"
   },
   {
    "duration": 27,
    "start_time": "2023-09-06T19:41:01.508Z"
   },
   {
    "duration": 473,
    "start_time": "2023-09-06T19:41:01.537Z"
   },
   {
    "duration": 1357,
    "start_time": "2023-09-06T19:41:02.012Z"
   },
   {
    "duration": 29,
    "start_time": "2023-09-06T19:41:03.371Z"
   },
   {
    "duration": 138,
    "start_time": "2023-09-06T19:41:03.406Z"
   },
   {
    "duration": 1144,
    "start_time": "2023-09-06T19:41:03.545Z"
   },
   {
    "duration": 353,
    "start_time": "2023-09-06T19:41:04.691Z"
   },
   {
    "duration": 191,
    "start_time": "2023-09-06T19:41:05.047Z"
   },
   {
    "duration": 206,
    "start_time": "2023-09-06T19:41:05.243Z"
   },
   {
    "duration": 1900,
    "start_time": "2023-09-06T19:41:05.452Z"
   },
   {
    "duration": 52,
    "start_time": "2023-09-06T19:41:07.354Z"
   },
   {
    "duration": 19,
    "start_time": "2023-09-06T19:41:07.408Z"
   },
   {
    "duration": 52,
    "start_time": "2023-09-06T19:41:07.431Z"
   },
   {
    "duration": 45,
    "start_time": "2023-09-06T19:41:07.485Z"
   },
   {
    "duration": 45,
    "start_time": "2023-09-06T19:41:07.532Z"
   },
   {
    "duration": 57,
    "start_time": "2023-09-06T19:41:07.579Z"
   },
   {
    "duration": 17,
    "start_time": "2023-09-06T19:41:07.638Z"
   },
   {
    "duration": 62,
    "start_time": "2023-09-06T19:41:07.657Z"
   },
   {
    "duration": 36,
    "start_time": "2023-09-06T19:41:07.728Z"
   },
   {
    "duration": 19,
    "start_time": "2023-09-06T19:41:07.766Z"
   },
   {
    "duration": 36,
    "start_time": "2023-09-06T19:41:07.791Z"
   },
   {
    "duration": 17,
    "start_time": "2023-09-06T19:41:07.829Z"
   },
   {
    "duration": 14,
    "start_time": "2023-09-06T19:41:07.850Z"
   },
   {
    "duration": 1204,
    "start_time": "2023-09-06T19:42:12.619Z"
   },
   {
    "duration": 99,
    "start_time": "2023-09-06T19:42:13.827Z"
   },
   {
    "duration": 143,
    "start_time": "2023-09-06T19:42:13.927Z"
   },
   {
    "duration": 163,
    "start_time": "2023-09-06T19:42:14.072Z"
   },
   {
    "duration": 188,
    "start_time": "2023-09-06T19:42:14.238Z"
   },
   {
    "duration": 200,
    "start_time": "2023-09-06T19:42:14.427Z"
   },
   {
    "duration": 142,
    "start_time": "2023-09-06T19:42:14.629Z"
   },
   {
    "duration": 63,
    "start_time": "2023-09-06T19:42:14.773Z"
   },
   {
    "duration": 31,
    "start_time": "2023-09-06T19:42:14.837Z"
   },
   {
    "duration": 66,
    "start_time": "2023-09-06T19:42:14.869Z"
   },
   {
    "duration": 32,
    "start_time": "2023-09-06T19:42:14.937Z"
   },
   {
    "duration": 18,
    "start_time": "2023-09-06T19:42:14.971Z"
   },
   {
    "duration": 331,
    "start_time": "2023-09-06T19:42:14.991Z"
   },
   {
    "duration": 29,
    "start_time": "2023-09-06T19:42:15.325Z"
   },
   {
    "duration": 268,
    "start_time": "2023-09-06T19:42:15.356Z"
   },
   {
    "duration": 1308,
    "start_time": "2023-09-06T19:42:15.629Z"
   },
   {
    "duration": 22,
    "start_time": "2023-09-06T19:42:16.944Z"
   },
   {
    "duration": 35,
    "start_time": "2023-09-06T19:42:16.968Z"
   },
   {
    "duration": 1210,
    "start_time": "2023-09-06T19:42:17.007Z"
   },
   {
    "duration": 331,
    "start_time": "2023-09-06T19:42:18.219Z"
   },
   {
    "duration": 415,
    "start_time": "2023-09-06T19:42:18.552Z"
   },
   {
    "duration": 339,
    "start_time": "2023-09-06T19:42:18.968Z"
   },
   {
    "duration": 1909,
    "start_time": "2023-09-06T19:42:19.310Z"
   },
   {
    "duration": 26,
    "start_time": "2023-09-06T19:42:21.228Z"
   },
   {
    "duration": 27,
    "start_time": "2023-09-06T19:42:21.256Z"
   },
   {
    "duration": 34,
    "start_time": "2023-09-06T19:42:21.284Z"
   },
   {
    "duration": 39,
    "start_time": "2023-09-06T19:42:21.320Z"
   },
   {
    "duration": 53,
    "start_time": "2023-09-06T19:42:21.361Z"
   },
   {
    "duration": 25,
    "start_time": "2023-09-06T19:42:21.416Z"
   },
   {
    "duration": 12,
    "start_time": "2023-09-06T19:42:21.443Z"
   },
   {
    "duration": 27,
    "start_time": "2023-09-06T19:42:21.457Z"
   },
   {
    "duration": 34,
    "start_time": "2023-09-06T19:42:21.490Z"
   },
   {
    "duration": 15,
    "start_time": "2023-09-06T19:42:21.529Z"
   },
   {
    "duration": 13,
    "start_time": "2023-09-06T19:42:21.546Z"
   },
   {
    "duration": 7,
    "start_time": "2023-09-06T19:42:21.561Z"
   },
   {
    "duration": 20,
    "start_time": "2023-09-06T19:42:21.570Z"
   },
   {
    "duration": 3381,
    "start_time": "2023-09-07T14:54:05.937Z"
   },
   {
    "duration": 43,
    "start_time": "2023-09-07T17:51:42.092Z"
   },
   {
    "duration": 3147,
    "start_time": "2023-09-07T17:51:49.309Z"
   },
   {
    "duration": 1289,
    "start_time": "2023-09-07T17:51:54.417Z"
   },
   {
    "duration": 59,
    "start_time": "2023-09-07T17:53:21.637Z"
   },
   {
    "duration": 3,
    "start_time": "2023-09-07T17:53:26.095Z"
   },
   {
    "duration": 153,
    "start_time": "2023-09-07T17:53:26.101Z"
   },
   {
    "duration": 13,
    "start_time": "2023-09-07T17:53:26.256Z"
   },
   {
    "duration": 18,
    "start_time": "2023-09-07T17:53:26.271Z"
   },
   {
    "duration": 9,
    "start_time": "2023-09-07T17:53:26.291Z"
   },
   {
    "duration": 2019,
    "start_time": "2023-09-07T17:53:26.302Z"
   },
   {
    "duration": 931,
    "start_time": "2023-09-07T17:53:28.324Z"
   },
   {
    "duration": 12,
    "start_time": "2023-09-07T17:53:29.256Z"
   },
   {
    "duration": 7,
    "start_time": "2023-09-07T17:53:29.270Z"
   },
   {
    "duration": 6,
    "start_time": "2023-09-07T17:53:29.279Z"
   },
   {
    "duration": 7,
    "start_time": "2023-09-07T17:53:29.286Z"
   },
   {
    "duration": 7,
    "start_time": "2023-09-07T17:53:29.295Z"
   },
   {
    "duration": 47,
    "start_time": "2023-09-07T17:53:29.304Z"
   },
   {
    "duration": 16,
    "start_time": "2023-09-07T17:53:29.355Z"
   },
   {
    "duration": 194,
    "start_time": "2023-09-07T17:53:29.373Z"
   },
   {
    "duration": 14,
    "start_time": "2023-09-07T17:53:29.569Z"
   },
   {
    "duration": 6,
    "start_time": "2023-09-07T17:53:29.585Z"
   },
   {
    "duration": 986,
    "start_time": "2023-09-07T17:53:29.593Z"
   },
   {
    "duration": 17,
    "start_time": "2023-09-07T17:53:30.581Z"
   },
   {
    "duration": 26,
    "start_time": "2023-09-07T17:53:30.600Z"
   },
   {
    "duration": 990,
    "start_time": "2023-09-07T17:53:30.628Z"
   },
   {
    "duration": 190,
    "start_time": "2023-09-07T17:53:31.619Z"
   },
   {
    "duration": 131,
    "start_time": "2023-09-07T17:53:31.810Z"
   },
   {
    "duration": 162,
    "start_time": "2023-09-07T17:53:31.943Z"
   },
   {
    "duration": 1455,
    "start_time": "2023-09-07T17:53:32.106Z"
   },
   {
    "duration": 18,
    "start_time": "2023-09-07T17:53:33.563Z"
   },
   {
    "duration": 18,
    "start_time": "2023-09-07T17:53:33.583Z"
   },
   {
    "duration": 35,
    "start_time": "2023-09-07T17:53:33.602Z"
   },
   {
    "duration": 25,
    "start_time": "2023-09-07T17:53:33.638Z"
   },
   {
    "duration": 20,
    "start_time": "2023-09-07T17:53:33.665Z"
   },
   {
    "duration": 15,
    "start_time": "2023-09-07T17:53:33.687Z"
   },
   {
    "duration": 11,
    "start_time": "2023-09-07T17:53:33.703Z"
   },
   {
    "duration": 18,
    "start_time": "2023-09-07T17:53:33.716Z"
   },
   {
    "duration": 27,
    "start_time": "2023-09-07T17:53:33.736Z"
   },
   {
    "duration": 11,
    "start_time": "2023-09-07T17:53:33.765Z"
   },
   {
    "duration": 11,
    "start_time": "2023-09-07T17:53:33.777Z"
   },
   {
    "duration": 10,
    "start_time": "2023-09-07T17:53:33.789Z"
   },
   {
    "duration": 12,
    "start_time": "2023-09-07T17:53:33.800Z"
   },
   {
    "duration": 1139,
    "start_time": "2023-09-07T18:09:49.952Z"
   },
   {
    "duration": 82,
    "start_time": "2023-09-07T18:09:51.092Z"
   },
   {
    "duration": 13,
    "start_time": "2023-09-07T18:09:51.175Z"
   },
   {
    "duration": 31,
    "start_time": "2023-09-07T18:09:51.190Z"
   },
   {
    "duration": 39,
    "start_time": "2023-09-07T18:09:51.223Z"
   },
   {
    "duration": 2110,
    "start_time": "2023-09-07T18:09:51.264Z"
   },
   {
    "duration": 891,
    "start_time": "2023-09-07T18:09:53.376Z"
   },
   {
    "duration": 12,
    "start_time": "2023-09-07T18:09:54.268Z"
   },
   {
    "duration": 20,
    "start_time": "2023-09-07T18:09:54.282Z"
   },
   {
    "duration": 16,
    "start_time": "2023-09-07T18:09:54.305Z"
   },
   {
    "duration": 21,
    "start_time": "2023-09-07T18:09:54.322Z"
   },
   {
    "duration": 18,
    "start_time": "2023-09-07T18:09:54.345Z"
   },
   {
    "duration": 37,
    "start_time": "2023-09-07T18:09:54.365Z"
   },
   {
    "duration": 23,
    "start_time": "2023-09-07T18:09:54.404Z"
   },
   {
    "duration": 235,
    "start_time": "2023-09-07T18:09:54.428Z"
   },
   {
    "duration": 16,
    "start_time": "2023-09-07T18:09:54.665Z"
   },
   {
    "duration": 6,
    "start_time": "2023-09-07T18:09:54.682Z"
   },
   {
    "duration": 947,
    "start_time": "2023-09-07T18:09:54.690Z"
   },
   {
    "duration": 25,
    "start_time": "2023-09-07T18:09:55.639Z"
   },
   {
    "duration": 6,
    "start_time": "2023-09-07T18:09:55.666Z"
   },
   {
    "duration": 1014,
    "start_time": "2023-09-07T18:09:55.674Z"
   },
   {
    "duration": 184,
    "start_time": "2023-09-07T18:09:56.690Z"
   },
   {
    "duration": 136,
    "start_time": "2023-09-07T18:09:56.875Z"
   },
   {
    "duration": 139,
    "start_time": "2023-09-07T18:09:57.012Z"
   },
   {
    "duration": 1390,
    "start_time": "2023-09-07T18:09:57.152Z"
   },
   {
    "duration": 19,
    "start_time": "2023-09-07T18:09:58.550Z"
   },
   {
    "duration": 12,
    "start_time": "2023-09-07T18:09:58.570Z"
   },
   {
    "duration": 18,
    "start_time": "2023-09-07T18:09:58.585Z"
   },
   {
    "duration": 12,
    "start_time": "2023-09-07T18:09:58.604Z"
   },
   {
    "duration": 36,
    "start_time": "2023-09-07T18:09:58.618Z"
   },
   {
    "duration": 16,
    "start_time": "2023-09-07T18:09:58.656Z"
   },
   {
    "duration": 24,
    "start_time": "2023-09-07T18:09:58.674Z"
   },
   {
    "duration": 38,
    "start_time": "2023-09-07T18:09:58.700Z"
   },
   {
    "duration": 19,
    "start_time": "2023-09-07T18:09:58.740Z"
   },
   {
    "duration": 19,
    "start_time": "2023-09-07T18:09:58.761Z"
   },
   {
    "duration": 17,
    "start_time": "2023-09-07T18:09:58.782Z"
   },
   {
    "duration": 18,
    "start_time": "2023-09-07T18:09:58.800Z"
   },
   {
    "duration": 8,
    "start_time": "2023-09-07T18:09:58.819Z"
   },
   {
    "duration": 1555,
    "start_time": "2023-09-09T19:10:13.946Z"
   },
   {
    "duration": 150,
    "start_time": "2023-09-09T19:10:15.503Z"
   },
   {
    "duration": 24,
    "start_time": "2023-09-09T19:10:15.654Z"
   },
   {
    "duration": 56,
    "start_time": "2023-09-09T19:10:15.680Z"
   },
   {
    "duration": 24,
    "start_time": "2023-09-09T19:10:15.738Z"
   },
   {
    "duration": 3338,
    "start_time": "2023-09-09T19:10:15.764Z"
   },
   {
    "duration": 923,
    "start_time": "2023-09-09T19:10:19.104Z"
   },
   {
    "duration": 34,
    "start_time": "2023-09-09T19:10:20.029Z"
   },
   {
    "duration": 28,
    "start_time": "2023-09-09T19:10:20.071Z"
   },
   {
    "duration": 37,
    "start_time": "2023-09-09T19:10:20.103Z"
   },
   {
    "duration": 31,
    "start_time": "2023-09-09T19:10:20.141Z"
   },
   {
    "duration": 25,
    "start_time": "2023-09-09T19:10:20.174Z"
   },
   {
    "duration": 67,
    "start_time": "2023-09-09T19:10:20.200Z"
   },
   {
    "duration": 23,
    "start_time": "2023-09-09T19:10:20.269Z"
   },
   {
    "duration": 230,
    "start_time": "2023-09-09T19:10:20.293Z"
   },
   {
    "duration": 27,
    "start_time": "2023-09-09T19:10:20.525Z"
   },
   {
    "duration": 18,
    "start_time": "2023-09-09T19:10:20.554Z"
   },
   {
    "duration": 1141,
    "start_time": "2023-09-09T19:10:20.573Z"
   },
   {
    "duration": 32,
    "start_time": "2023-09-09T19:10:21.716Z"
   },
   {
    "duration": 21,
    "start_time": "2023-09-09T19:10:21.750Z"
   },
   {
    "duration": 1156,
    "start_time": "2023-09-09T19:10:21.773Z"
   },
   {
    "duration": 256,
    "start_time": "2023-09-09T19:10:22.931Z"
   },
   {
    "duration": 172,
    "start_time": "2023-09-09T19:10:23.189Z"
   },
   {
    "duration": 170,
    "start_time": "2023-09-09T19:10:23.363Z"
   },
   {
    "duration": 1860,
    "start_time": "2023-09-09T19:10:23.535Z"
   },
   {
    "duration": 21,
    "start_time": "2023-09-09T19:10:25.398Z"
   },
   {
    "duration": 58,
    "start_time": "2023-09-09T19:10:25.421Z"
   },
   {
    "duration": 51,
    "start_time": "2023-09-09T19:10:25.481Z"
   },
   {
    "duration": 43,
    "start_time": "2023-09-09T19:10:25.534Z"
   },
   {
    "duration": 17,
    "start_time": "2023-09-09T19:10:25.579Z"
   },
   {
    "duration": 24,
    "start_time": "2023-09-09T19:10:25.598Z"
   },
   {
    "duration": 67,
    "start_time": "2023-09-09T19:10:25.624Z"
   },
   {
    "duration": 14,
    "start_time": "2023-09-09T19:10:25.692Z"
   },
   {
    "duration": 59,
    "start_time": "2023-09-09T19:10:25.707Z"
   },
   {
    "duration": 17,
    "start_time": "2023-09-09T19:10:25.768Z"
   },
   {
    "duration": 32,
    "start_time": "2023-09-09T19:10:25.786Z"
   },
   {
    "duration": 22,
    "start_time": "2023-09-09T19:10:25.819Z"
   },
   {
    "duration": 19,
    "start_time": "2023-09-09T19:10:25.842Z"
   },
   {
    "duration": 48,
    "start_time": "2023-09-26T11:15:17.319Z"
   },
   {
    "duration": 1373,
    "start_time": "2023-09-26T11:15:29.090Z"
   },
   {
    "duration": 165,
    "start_time": "2023-09-26T11:15:31.093Z"
   },
   {
    "duration": 73,
    "start_time": "2023-09-26T11:19:23.959Z"
   },
   {
    "duration": 3,
    "start_time": "2023-09-26T11:19:33.902Z"
   },
   {
    "duration": 80,
    "start_time": "2023-09-26T11:19:34.493Z"
   },
   {
    "duration": 20,
    "start_time": "2023-09-26T11:19:37.924Z"
   },
   {
    "duration": 2269,
    "start_time": "2023-09-26T11:19:44.326Z"
   },
   {
    "duration": 17,
    "start_time": "2023-09-26T11:20:00.936Z"
   },
   {
    "duration": 19,
    "start_time": "2023-09-26T11:20:47.958Z"
   },
   {
    "duration": 23,
    "start_time": "2023-09-26T11:20:56.713Z"
   },
   {
    "duration": 20,
    "start_time": "2023-09-26T11:22:23.469Z"
   },
   {
    "duration": 21,
    "start_time": "2023-09-26T11:22:33.869Z"
   },
   {
    "duration": 111,
    "start_time": "2023-09-26T11:22:53.724Z"
   },
   {
    "duration": 37,
    "start_time": "2023-09-26T11:23:07.395Z"
   },
   {
    "duration": 34,
    "start_time": "2023-09-26T11:24:03.466Z"
   },
   {
    "duration": 35,
    "start_time": "2023-09-26T11:24:10.011Z"
   },
   {
    "duration": 27,
    "start_time": "2023-09-26T11:25:01.267Z"
   },
   {
    "duration": 28,
    "start_time": "2023-09-26T11:25:23.387Z"
   },
   {
    "duration": 33,
    "start_time": "2023-09-26T11:25:45.745Z"
   },
   {
    "duration": 15,
    "start_time": "2023-09-26T11:26:30.596Z"
   },
   {
    "duration": 25,
    "start_time": "2023-09-26T11:26:49.819Z"
   },
   {
    "duration": 29,
    "start_time": "2023-09-26T11:27:01.175Z"
   },
   {
    "duration": 31,
    "start_time": "2023-09-26T11:27:22.733Z"
   },
   {
    "duration": 14,
    "start_time": "2023-09-26T11:27:42.933Z"
   },
   {
    "duration": 19,
    "start_time": "2023-09-26T11:28:28.067Z"
   },
   {
    "duration": 22,
    "start_time": "2023-09-26T11:28:39.006Z"
   },
   {
    "duration": 15,
    "start_time": "2023-09-26T11:28:46.541Z"
   },
   {
    "duration": 19,
    "start_time": "2023-09-26T11:33:23.557Z"
   },
   {
    "duration": 16,
    "start_time": "2023-09-26T11:33:44.466Z"
   },
   {
    "duration": 16,
    "start_time": "2023-09-26T12:05:23.331Z"
   },
   {
    "duration": 30,
    "start_time": "2023-09-26T12:06:37.741Z"
   },
   {
    "duration": 22,
    "start_time": "2023-09-26T12:07:06.077Z"
   },
   {
    "duration": 24,
    "start_time": "2023-09-26T12:07:11.438Z"
   },
   {
    "duration": 20,
    "start_time": "2023-09-26T12:07:22.638Z"
   },
   {
    "duration": 4,
    "start_time": "2023-09-26T12:07:28.575Z"
   },
   {
    "duration": 177,
    "start_time": "2023-09-26T12:07:28.586Z"
   },
   {
    "duration": 27,
    "start_time": "2023-09-26T12:07:28.766Z"
   },
   {
    "duration": 28,
    "start_time": "2023-09-26T12:07:28.796Z"
   },
   {
    "duration": 16,
    "start_time": "2023-09-26T12:07:28.826Z"
   },
   {
    "duration": 5950,
    "start_time": "2023-09-26T12:07:28.845Z"
   },
   {
    "duration": 1275,
    "start_time": "2023-09-26T12:07:34.798Z"
   },
   {
    "duration": 25,
    "start_time": "2023-09-26T12:07:36.075Z"
   },
   {
    "duration": 27,
    "start_time": "2023-09-26T12:07:36.102Z"
   },
   {
    "duration": 48,
    "start_time": "2023-09-26T12:07:36.132Z"
   },
   {
    "duration": 59,
    "start_time": "2023-09-26T12:07:36.182Z"
   },
   {
    "duration": 26,
    "start_time": "2023-09-26T12:07:36.243Z"
   },
   {
    "duration": 48,
    "start_time": "2023-09-26T12:07:36.271Z"
   },
   {
    "duration": 37,
    "start_time": "2023-09-26T12:07:36.321Z"
   },
   {
    "duration": 244,
    "start_time": "2023-09-26T12:07:36.363Z"
   },
   {
    "duration": 27,
    "start_time": "2023-09-26T12:07:36.610Z"
   },
   {
    "duration": 10,
    "start_time": "2023-09-26T12:07:36.640Z"
   },
   {
    "duration": 1489,
    "start_time": "2023-09-26T12:07:36.651Z"
   },
   {
    "duration": 39,
    "start_time": "2023-09-26T12:07:38.142Z"
   },
   {
    "duration": 17,
    "start_time": "2023-09-26T12:07:38.184Z"
   },
   {
    "duration": 1152,
    "start_time": "2023-09-26T12:07:38.204Z"
   },
   {
    "duration": 240,
    "start_time": "2023-09-26T12:07:39.357Z"
   },
   {
    "duration": 220,
    "start_time": "2023-09-26T12:07:39.599Z"
   },
   {
    "duration": 210,
    "start_time": "2023-09-26T12:07:39.821Z"
   },
   {
    "duration": 1679,
    "start_time": "2023-09-26T12:07:40.034Z"
   },
   {
    "duration": 37,
    "start_time": "2023-09-26T12:07:41.716Z"
   },
   {
    "duration": 33,
    "start_time": "2023-09-26T12:07:41.756Z"
   },
   {
    "duration": 27,
    "start_time": "2023-09-26T12:07:41.791Z"
   },
   {
    "duration": 23,
    "start_time": "2023-09-26T12:07:41.821Z"
   },
   {
    "duration": 53,
    "start_time": "2023-09-26T12:07:41.846Z"
   },
   {
    "duration": 23,
    "start_time": "2023-09-26T12:07:41.903Z"
   },
   {
    "duration": 19,
    "start_time": "2023-09-26T12:07:41.928Z"
   },
   {
    "duration": 45,
    "start_time": "2023-09-26T12:07:41.950Z"
   },
   {
    "duration": 42,
    "start_time": "2023-09-26T12:07:41.997Z"
   },
   {
    "duration": 23,
    "start_time": "2023-09-26T12:07:42.041Z"
   },
   {
    "duration": 25,
    "start_time": "2023-09-26T12:07:42.066Z"
   },
   {
    "duration": 12,
    "start_time": "2023-09-26T12:07:42.093Z"
   },
   {
    "duration": 20,
    "start_time": "2023-09-26T12:07:42.107Z"
   }
  ],
  "kernelspec": {
   "display_name": "Python 3 (ipykernel)",
   "language": "python",
   "name": "python3"
  },
  "language_info": {
   "codemirror_mode": {
    "name": "ipython",
    "version": 3
   },
   "file_extension": ".py",
   "mimetype": "text/x-python",
   "name": "python",
   "nbconvert_exporter": "python",
   "pygments_lexer": "ipython3",
   "version": "3.9.5"
  },
  "toc": {
   "base_numbering": 1,
   "nav_menu": {},
   "number_sections": true,
   "sideBar": true,
   "skip_h1_title": true,
   "title_cell": "Table of Contents",
   "title_sidebar": "Contents",
   "toc_cell": false,
   "toc_position": {},
   "toc_section_display": true,
   "toc_window_display": false
  }
 },
 "nbformat": 4,
 "nbformat_minor": 2
}
