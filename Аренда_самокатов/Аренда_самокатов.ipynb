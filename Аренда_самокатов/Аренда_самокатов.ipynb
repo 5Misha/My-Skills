{
 "cells": [
  {
   "cell_type": "markdown",
   "id": "2249128a",
   "metadata": {},
   "source": [
    "# Анализ сервиса аренды самокатов GoFast #"
   ]
  },
  {
   "cell_type": "markdown",
   "id": "44d613ae",
   "metadata": {},
   "source": [
    "# Задача проекта #"
   ]
  },
  {
   "cell_type": "markdown",
   "id": "75254b72",
   "metadata": {},
   "source": [
    "У нас есть данные популярного сервиса аренды самокатов GoFast о некоторых пользователях из разных городов, а также об их поездках. Нужно проанализировать данные и проверить некоторые гипотезы, которые могут помочь бизнесу вырасти. Узнать, есть ли отличия между информацией от людей, которые купили подписку, и тех, кто этого не сделал."
   ]
  },
  {
   "cell_type": "markdown",
   "id": "c42cbe00",
   "metadata": {},
   "source": [
    "## Загрузка данных ##"
   ]
  },
  {
   "cell_type": "markdown",
   "id": "7e52d43e",
   "metadata": {},
   "source": [
    "Импортируем нужные для анализа библиотеки"
   ]
  },
  {
   "cell_type": "code",
   "execution_count": 1,
   "id": "8a4939e7",
   "metadata": {},
   "outputs": [],
   "source": [
    "import os\n",
    "import pandas as pd\n",
    "import numpy as np \n",
    "import scipy.stats as st # эта и ниже библиотеки понадобятся нам ближе к концу\n",
    "from scipy.stats import binom, poisson\n",
    "from matplotlib import pyplot as plt\n",
    "from math import sqrt\n",
    "from scipy import stats as st\n"
   ]
  },
  {
   "cell_type": "markdown",
   "id": "1893ef5d",
   "metadata": {},
   "source": [
    "Считаем и посмотрим CSV-файлы с данными сервиса аренды самокатов GoFast"
   ]
  },
  {
   "cell_type": "code",
   "execution_count": 2,
   "id": "eff9f206",
   "metadata": {},
   "outputs": [
    {
     "data": {
      "text/html": [
       "<div>\n",
       "<style scoped>\n",
       "    .dataframe tbody tr th:only-of-type {\n",
       "        vertical-align: middle;\n",
       "    }\n",
       "\n",
       "    .dataframe tbody tr th {\n",
       "        vertical-align: top;\n",
       "    }\n",
       "\n",
       "    .dataframe thead th {\n",
       "        text-align: right;\n",
       "    }\n",
       "</style>\n",
       "<table border=\"1\" class=\"dataframe\">\n",
       "  <thead>\n",
       "    <tr style=\"text-align: right;\">\n",
       "      <th></th>\n",
       "      <th>user_id</th>\n",
       "      <th>name</th>\n",
       "      <th>age</th>\n",
       "      <th>city</th>\n",
       "      <th>subscription_type</th>\n",
       "    </tr>\n",
       "  </thead>\n",
       "  <tbody>\n",
       "    <tr>\n",
       "      <th>0</th>\n",
       "      <td>1</td>\n",
       "      <td>Кира</td>\n",
       "      <td>22</td>\n",
       "      <td>Тюмень</td>\n",
       "      <td>ultra</td>\n",
       "    </tr>\n",
       "    <tr>\n",
       "      <th>1</th>\n",
       "      <td>2</td>\n",
       "      <td>Станислав</td>\n",
       "      <td>31</td>\n",
       "      <td>Омск</td>\n",
       "      <td>ultra</td>\n",
       "    </tr>\n",
       "    <tr>\n",
       "      <th>2</th>\n",
       "      <td>3</td>\n",
       "      <td>Алексей</td>\n",
       "      <td>20</td>\n",
       "      <td>Москва</td>\n",
       "      <td>ultra</td>\n",
       "    </tr>\n",
       "    <tr>\n",
       "      <th>3</th>\n",
       "      <td>4</td>\n",
       "      <td>Константин</td>\n",
       "      <td>26</td>\n",
       "      <td>Ростов-на-Дону</td>\n",
       "      <td>ultra</td>\n",
       "    </tr>\n",
       "    <tr>\n",
       "      <th>4</th>\n",
       "      <td>5</td>\n",
       "      <td>Адель</td>\n",
       "      <td>28</td>\n",
       "      <td>Омск</td>\n",
       "      <td>ultra</td>\n",
       "    </tr>\n",
       "  </tbody>\n",
       "</table>\n",
       "</div>"
      ],
      "text/plain": [
       "   user_id        name  age            city subscription_type\n",
       "0        1        Кира   22          Тюмень             ultra\n",
       "1        2   Станислав   31            Омск             ultra\n",
       "2        3     Алексей   20          Москва             ultra\n",
       "3        4  Константин   26  Ростов-на-Дону             ultra\n",
       "4        5       Адель   28            Омск             ultra"
      ]
     },
     "metadata": {},
     "output_type": "display_data"
    },
    {
     "name": "stdout",
     "output_type": "stream",
     "text": [
      "(1565, 5)\n"
     ]
    },
    {
     "data": {
      "text/html": [
       "<div>\n",
       "<style scoped>\n",
       "    .dataframe tbody tr th:only-of-type {\n",
       "        vertical-align: middle;\n",
       "    }\n",
       "\n",
       "    .dataframe tbody tr th {\n",
       "        vertical-align: top;\n",
       "    }\n",
       "\n",
       "    .dataframe thead th {\n",
       "        text-align: right;\n",
       "    }\n",
       "</style>\n",
       "<table border=\"1\" class=\"dataframe\">\n",
       "  <thead>\n",
       "    <tr style=\"text-align: right;\">\n",
       "      <th></th>\n",
       "      <th>user_id</th>\n",
       "      <th>distance</th>\n",
       "      <th>duration</th>\n",
       "      <th>date</th>\n",
       "    </tr>\n",
       "  </thead>\n",
       "  <tbody>\n",
       "    <tr>\n",
       "      <th>0</th>\n",
       "      <td>1</td>\n",
       "      <td>4409.919140</td>\n",
       "      <td>25.599769</td>\n",
       "      <td>2021-01-01</td>\n",
       "    </tr>\n",
       "    <tr>\n",
       "      <th>1</th>\n",
       "      <td>1</td>\n",
       "      <td>2617.592153</td>\n",
       "      <td>15.816871</td>\n",
       "      <td>2021-01-18</td>\n",
       "    </tr>\n",
       "    <tr>\n",
       "      <th>2</th>\n",
       "      <td>1</td>\n",
       "      <td>754.159807</td>\n",
       "      <td>6.232113</td>\n",
       "      <td>2021-04-20</td>\n",
       "    </tr>\n",
       "    <tr>\n",
       "      <th>3</th>\n",
       "      <td>1</td>\n",
       "      <td>2694.783254</td>\n",
       "      <td>18.511000</td>\n",
       "      <td>2021-08-11</td>\n",
       "    </tr>\n",
       "    <tr>\n",
       "      <th>4</th>\n",
       "      <td>1</td>\n",
       "      <td>4028.687306</td>\n",
       "      <td>26.265803</td>\n",
       "      <td>2021-08-28</td>\n",
       "    </tr>\n",
       "  </tbody>\n",
       "</table>\n",
       "</div>"
      ],
      "text/plain": [
       "   user_id     distance   duration       date\n",
       "0        1  4409.919140  25.599769 2021-01-01\n",
       "1        1  2617.592153  15.816871 2021-01-18\n",
       "2        1   754.159807   6.232113 2021-04-20\n",
       "3        1  2694.783254  18.511000 2021-08-11\n",
       "4        1  4028.687306  26.265803 2021-08-28"
      ]
     },
     "metadata": {},
     "output_type": "display_data"
    },
    {
     "name": "stdout",
     "output_type": "stream",
     "text": [
      "(18068, 4)\n"
     ]
    },
    {
     "data": {
      "text/html": [
       "<div>\n",
       "<style scoped>\n",
       "    .dataframe tbody tr th:only-of-type {\n",
       "        vertical-align: middle;\n",
       "    }\n",
       "\n",
       "    .dataframe tbody tr th {\n",
       "        vertical-align: top;\n",
       "    }\n",
       "\n",
       "    .dataframe thead th {\n",
       "        text-align: right;\n",
       "    }\n",
       "</style>\n",
       "<table border=\"1\" class=\"dataframe\">\n",
       "  <thead>\n",
       "    <tr style=\"text-align: right;\">\n",
       "      <th></th>\n",
       "      <th>subscription_type</th>\n",
       "      <th>minute_price</th>\n",
       "      <th>start_ride_price</th>\n",
       "      <th>subscription_fee</th>\n",
       "    </tr>\n",
       "  </thead>\n",
       "  <tbody>\n",
       "    <tr>\n",
       "      <th>0</th>\n",
       "      <td>free</td>\n",
       "      <td>8</td>\n",
       "      <td>50</td>\n",
       "      <td>0</td>\n",
       "    </tr>\n",
       "    <tr>\n",
       "      <th>1</th>\n",
       "      <td>ultra</td>\n",
       "      <td>6</td>\n",
       "      <td>0</td>\n",
       "      <td>199</td>\n",
       "    </tr>\n",
       "  </tbody>\n",
       "</table>\n",
       "</div>"
      ],
      "text/plain": [
       "  subscription_type  minute_price  start_ride_price  subscription_fee\n",
       "0              free             8                50                 0\n",
       "1             ultra             6                 0               199"
      ]
     },
     "metadata": {},
     "output_type": "display_data"
    },
    {
     "name": "stdout",
     "output_type": "stream",
     "text": [
      "(2, 4)\n"
     ]
    }
   ],
   "source": [
    "if os.path.exists('users_go.csv') and os.path.exists('rides_go.csv') and os.path.exists('subscriptions_go.csv'):\n",
    "    user = pd.read_csv('users_go.csv')\n",
    "    display(user.head())\n",
    "    print(user.shape)\n",
    "    rides = pd.read_csv('rides_go.csv', parse_dates=['date'])\n",
    "    display(rides.head())\n",
    "    print(rides.shape)\n",
    "    subscriptions = pd.read_csv('subscriptions_go.csv')\n",
    "    display(subscriptions.head())\n",
    "    print(subscriptions.shape)\n",
    "    \n",
    "elif os.path.exists('/datasets/users_go.csv') and os.path.exists('rides_go.csv') and os.path.exists('subscriptions_go.csv'):\n",
    "    user = pd.read_csv('/datasets/users_go.csv')\n",
    "    display(user.head())\n",
    "    print(user.shape)\n",
    "    rides = pd.read_csv('/datasets/rides_go.csv', parse_dates=['date'])\n",
    "    display(rides.head())\n",
    "    print(rides.shape)\n",
    "    subscriptions = pd.read_csv('/datasets/subscriptions_go.csv')\n",
    "    display(subscriptions.head())\n",
    "    print(subscriptions.shape)\n",
    "    \n",
    "else:\n",
    "    print('File read error')"
   ]
  },
  {
   "cell_type": "markdown",
   "id": "b073bb39",
   "metadata": {},
   "source": [
    "На первый взгляд все понятно, нет чего-то выделяющегося, кроме данных в таблице rides. Стобец distance и duration имеет много значений после точки, но это легко будет исправить. И столбик date имеет тип object"
   ]
  },
  {
   "cell_type": "markdown",
   "id": "e95ebca7",
   "metadata": {},
   "source": [
    "## Предобработка данных"
   ]
  },
  {
   "cell_type": "code",
   "execution_count": 3,
   "id": "767ee011",
   "metadata": {},
   "outputs": [
    {
     "name": "stdout",
     "output_type": "stream",
     "text": [
      "<class 'pandas.core.frame.DataFrame'>\n",
      "RangeIndex: 18068 entries, 0 to 18067\n",
      "Data columns (total 4 columns):\n",
      " #   Column    Non-Null Count  Dtype         \n",
      "---  ------    --------------  -----         \n",
      " 0   user_id   18068 non-null  int64         \n",
      " 1   distance  18068 non-null  float64       \n",
      " 2   duration  18068 non-null  float64       \n",
      " 3   date      18068 non-null  datetime64[ns]\n",
      "dtypes: datetime64[ns](1), float64(2), int64(1)\n",
      "memory usage: 564.8 KB\n"
     ]
    }
   ],
   "source": [
    "rides.info()"
   ]
  },
  {
   "cell_type": "markdown",
   "id": "c1a3a066",
   "metadata": {},
   "source": [
    "Сначала округлим значения в столбцах distance и duration(округлим его в большую сторону, т.к. это понадобится потом в проекте) таблицы rides и поменяем типы данных со столбцом date"
   ]
  },
  {
   "cell_type": "code",
   "execution_count": 4,
   "id": "456c90b8",
   "metadata": {
    "scrolled": true
   },
   "outputs": [],
   "source": [
    "rides['distance'] = rides['distance'].round()\n",
    "rides['duration'] = np.ceil(rides['duration']) \n",
    "rides['distance'] = rides['distance'].astype('int')\n",
    "rides['duration'] = rides['duration'].astype('int')"
   ]
  },
  {
   "cell_type": "code",
   "execution_count": 5,
   "id": "45d1dedf",
   "metadata": {},
   "outputs": [
    {
     "name": "stdout",
     "output_type": "stream",
     "text": [
      "<class 'pandas.core.frame.DataFrame'>\n",
      "RangeIndex: 18068 entries, 0 to 18067\n",
      "Data columns (total 4 columns):\n",
      " #   Column    Non-Null Count  Dtype         \n",
      "---  ------    --------------  -----         \n",
      " 0   user_id   18068 non-null  int64         \n",
      " 1   distance  18068 non-null  int32         \n",
      " 2   duration  18068 non-null  int32         \n",
      " 3   date      18068 non-null  datetime64[ns]\n",
      "dtypes: datetime64[ns](1), int32(2), int64(1)\n",
      "memory usage: 423.6 KB\n"
     ]
    }
   ],
   "source": [
    "rides.info()"
   ]
  },
  {
   "cell_type": "code",
   "execution_count": 6,
   "id": "2bee821d",
   "metadata": {},
   "outputs": [],
   "source": [
    "rides['month'] = rides['date'].dt.month # создали столбец с месяцем"
   ]
  },
  {
   "cell_type": "markdown",
   "id": "5f9ef573",
   "metadata": {},
   "source": [
    "Посмотрим на пропуски"
   ]
  },
  {
   "cell_type": "code",
   "execution_count": 7,
   "id": "6190a06c",
   "metadata": {},
   "outputs": [
    {
     "name": "stdout",
     "output_type": "stream",
     "text": [
      "user_id              0\n",
      "name                 0\n",
      "age                  0\n",
      "city                 0\n",
      "subscription_type    0\n",
      "dtype: int64\n",
      "\n",
      "user_id     0\n",
      "distance    0\n",
      "duration    0\n",
      "date        0\n",
      "month       0\n",
      "dtype: int64\n",
      "\n",
      "subscription_type    0\n",
      "minute_price         0\n",
      "start_ride_price     0\n",
      "subscription_fee     0\n",
      "dtype: int64\n"
     ]
    }
   ],
   "source": [
    "print(user.isna().sum())\n",
    "print()\n",
    "print(rides.isna().sum())\n",
    "print()\n",
    "print(subscriptions.isna().sum())"
   ]
  },
  {
   "cell_type": "markdown",
   "id": "b195fa14",
   "metadata": {},
   "source": [
    "Пропусков не замечено. Проверим дубликаты"
   ]
  },
  {
   "cell_type": "code",
   "execution_count": 8,
   "id": "d03bda7d",
   "metadata": {},
   "outputs": [
    {
     "name": "stdout",
     "output_type": "stream",
     "text": [
      "1565\n",
      "1534\n"
     ]
    }
   ],
   "source": [
    "print(len(user['user_id']))\n",
    "user = user.drop_duplicates().reset_index(drop=True)\n",
    "print(len(user['user_id']))"
   ]
  },
  {
   "cell_type": "markdown",
   "id": "dfa4bbe4",
   "metadata": {},
   "source": [
    "удалили 31 кол-во очевидных дубликатов"
   ]
  },
  {
   "cell_type": "code",
   "execution_count": 9,
   "id": "6ab83dee",
   "metadata": {},
   "outputs": [
    {
     "data": {
      "text/plain": [
       "array([26, 16,  7, 19, 27, 17, 15, 24, 18, 10, 25, 12, 21, 14, 13, 22, 20,\n",
       "       23, 28, 36, 34, 11,  6, 31, 33,  8, 29, 39, 32, 30,  9,  5, 37, 35,\n",
       "       40, 38, 41,  4,  1,  3])"
      ]
     },
     "execution_count": 9,
     "metadata": {},
     "output_type": "execute_result"
    }
   ],
   "source": [
    "rides['duration'].unique()"
   ]
  },
  {
   "cell_type": "markdown",
   "id": "9e7f1c66",
   "metadata": {},
   "source": [
    "Аномалий со временем поездок нет"
   ]
  },
  {
   "cell_type": "markdown",
   "id": "8dc17d4f",
   "metadata": {},
   "source": [
    "На данном шаге мы предобработали данные, округлив некоторые значения, изменив тип дынных, создав новый столбец с месяцем и удалив дубликаты. Все это поможет нам с дальнейшей работой над проектом"
   ]
  },
  {
   "cell_type": "markdown",
   "id": "212593c7",
   "metadata": {},
   "source": [
    "## Исследовательский анализ данных"
   ]
  },
  {
   "cell_type": "code",
   "execution_count": 10,
   "id": "e3a4274c",
   "metadata": {},
   "outputs": [
    {
     "data": {
      "image/png": "[encoded data removed]",
      "text/plain": [
       "<Figure size 864x432 with 1 Axes>"
      ]
     },
     "metadata": {
      "needs_background": "light"
     },
     "output_type": "display_data"
    }
   ],
   "source": [
    "#частота встречаемости городов\n",
    "user['city'].hist(bins=16, figsize=(12,6))\n",
    "plt.xlabel('Город')\n",
    "plt.ylabel('Кол-во человек')\n",
    "plt.title('Кол-во людей в городах, которые используют аренду самокатов');"
   ]
  },
  {
   "cell_type": "markdown",
   "id": "c3b019db",
   "metadata": {},
   "source": [
    "по гистограмме видно, что больше всего зарегистрировано людей из Пятигорска. А так, все значения достаточно близки и находятся в районе 190"
   ]
  },
  {
   "cell_type": "code",
   "execution_count": 11,
   "id": "d44a7ab2",
   "metadata": {},
   "outputs": [
    {
     "name": "stdout",
     "output_type": "stream",
     "text": [
      "                   user_id  name  age  city\n",
      "subscription_type                          \n",
      "free                   835   835  835   835\n",
      "ultra                  699   699  699   699\n"
     ]
    },
    {
     "data": {
      "image/png": "[encoded data removed]",
      "text/plain": [
       "<Figure size 432x288 with 1 Axes>"
      ]
     },
     "metadata": {},
     "output_type": "display_data"
    }
   ],
   "source": [
    "# соотношение пользователей с подпиской и без подписки\n",
    "q = user.groupby('subscription_type').count()\n",
    "print(q)\n",
    "sizes = [835, 699]  # Пример значений столбцов \"free\" и \"ultra\"\n",
    "labels = ['free', 'ultra']\n",
    "plt.pie(sizes, labels=labels, autopct='%1.1f%%')\n",
    "plt.title('Распределение подписок')\n",
    "plt.show()"
   ]
  },
  {
   "cell_type": "markdown",
   "id": "d0ed9335",
   "metadata": {},
   "source": [
    "Людей без подписки практически на 10 % больше, чем с подпиской"
   ]
  },
  {
   "cell_type": "code",
   "execution_count": 12,
   "id": "99f9ad0f",
   "metadata": {},
   "outputs": [
    {
     "data": {
      "text/plain": [
       "count    1534.000000\n",
       "mean       24.903520\n",
       "std         4.572367\n",
       "min        12.000000\n",
       "25%        22.000000\n",
       "50%        25.000000\n",
       "75%        28.000000\n",
       "max        43.000000\n",
       "Name: age, dtype: float64"
      ]
     },
     "execution_count": 12,
     "metadata": {},
     "output_type": "execute_result"
    },
    {
     "data": {
      "image/png": "[encoded data removed]",
      "text/plain": [
       "<Figure size 432x288 with 1 Axes>"
      ]
     },
     "metadata": {
      "needs_background": "light"
     },
     "output_type": "display_data"
    }
   ],
   "source": [
    "# возраст пользователей\n",
    "user['age'].hist()\n",
    "plt.xlabel('Возраст')\n",
    "plt.ylabel('Кол-во человек')\n",
    "plt.title('Возраст людей')\n",
    "user['age'].describe()"
   ]
  },
  {
   "cell_type": "markdown",
   "id": "0207e0d6",
   "metadata": {},
   "source": [
    "похоже на нормальное распределение, что достаточно логично. Больше всего зарегестрированных людей в возрасте 25 лет. 50 % значений лежат в промежутке от 22 до 28 лет. Бывают клиенты 12 и 43 лет"
   ]
  },
  {
   "cell_type": "code",
   "execution_count": 13,
   "id": "d7061c9d",
   "metadata": {},
   "outputs": [
    {
     "data": {
      "text/plain": [
       "Text(0.5, 1.0, 'Расстояние, которе проехал пользователь')"
      ]
     },
     "execution_count": 13,
     "metadata": {},
     "output_type": "execute_result"
    },
    {
     "data": {
      "image/png": "[encoded data removed]",
      "text/plain": [
       "<Figure size 432x288 with 1 Axes>"
      ]
     },
     "metadata": {
      "needs_background": "light"
     },
     "output_type": "display_data"
    }
   ],
   "source": [
    "#  расстояние, которое пользователь преодолел за одну поездку\n",
    "rides['distance'].hist()\n",
    "plt.xlabel('Расстояние')\n",
    "plt.ylabel('Кол-во человек')\n",
    "plt.title('Расстояние, которе проехал пользователь')"
   ]
  },
  {
   "cell_type": "markdown",
   "id": "3755d644",
   "metadata": {},
   "source": [
    "Чаще всего люди осуществляют поездки на дистанции около 3 км. На гистограмме заметен резкий переход кол-ва поездок от 2 км до 3 км."
   ]
  },
  {
   "cell_type": "code",
   "execution_count": 14,
   "id": "8aa8bfe0",
   "metadata": {
    "scrolled": true
   },
   "outputs": [
    {
     "data": {
      "image/png": "[encoded data removed]",
      "text/plain": [
       "<Figure size 432x288 with 1 Axes>"
      ]
     },
     "metadata": {
      "needs_background": "light"
     },
     "output_type": "display_data"
    }
   ],
   "source": [
    "rides['duration'].hist()\n",
    "plt.xlabel('Длительность поездки в минутах')\n",
    "plt.ylabel('Кол-во человек')\n",
    "plt.title('продолжительность поездок');"
   ]
  },
  {
   "cell_type": "markdown",
   "id": "8b2e8aa4",
   "metadata": {},
   "source": [
    "Похоже на гистограмму с дистанцией, что логично, т.к. они связаны между собой. Самые частые поезди от 15 до 20 минут"
   ]
  },
  {
   "cell_type": "markdown",
   "id": "029928f0",
   "metadata": {},
   "source": [
    "По информации о пользователях и поездках можно сказать, что данные удобные, т.к. гистограммы имеют нормальное распределение, а столбцы subscription_type и city не имеют значений, которые сильно выделяются"
   ]
  },
  {
   "cell_type": "markdown",
   "id": "4ef51331",
   "metadata": {},
   "source": [
    "## Объединение данных"
   ]
  },
  {
   "cell_type": "markdown",
   "id": "dcd057a2",
   "metadata": {},
   "source": [
    "Для удобной работы, соединим три таблицы в один датафрейм и создадим отдельные - с подписками и без"
   ]
  },
  {
   "cell_type": "code",
   "execution_count": 15,
   "id": "6bf288b5",
   "metadata": {},
   "outputs": [
    {
     "name": "stdout",
     "output_type": "stream",
     "text": [
      "Длина до: 18068\n",
      "Длина после: 18068\n",
      "\n",
      "Кол-во пропусков в столбцах:\n",
      "user_id              0\n",
      "name                 0\n",
      "age                  0\n",
      "city                 0\n",
      "subscription_type    0\n",
      "distance             0\n",
      "duration             0\n",
      "date                 0\n",
      "month                0\n",
      "minute_price         0\n",
      "start_ride_price     0\n",
      "subscription_fee     0\n",
      "dtype: int64\n",
      "\n"
     ]
    },
    {
     "data": {
      "text/html": [
       "<div>\n",
       "<style scoped>\n",
       "    .dataframe tbody tr th:only-of-type {\n",
       "        vertical-align: middle;\n",
       "    }\n",
       "\n",
       "    .dataframe tbody tr th {\n",
       "        vertical-align: top;\n",
       "    }\n",
       "\n",
       "    .dataframe thead th {\n",
       "        text-align: right;\n",
       "    }\n",
       "</style>\n",
       "<table border=\"1\" class=\"dataframe\">\n",
       "  <thead>\n",
       "    <tr style=\"text-align: right;\">\n",
       "      <th></th>\n",
       "      <th>user_id</th>\n",
       "      <th>name</th>\n",
       "      <th>age</th>\n",
       "      <th>city</th>\n",
       "      <th>subscription_type</th>\n",
       "      <th>distance</th>\n",
       "      <th>duration</th>\n",
       "      <th>date</th>\n",
       "      <th>month</th>\n",
       "      <th>minute_price</th>\n",
       "      <th>start_ride_price</th>\n",
       "      <th>subscription_fee</th>\n",
       "    </tr>\n",
       "  </thead>\n",
       "  <tbody>\n",
       "    <tr>\n",
       "      <th>0</th>\n",
       "      <td>1</td>\n",
       "      <td>Кира</td>\n",
       "      <td>22</td>\n",
       "      <td>Тюмень</td>\n",
       "      <td>ultra</td>\n",
       "      <td>4410</td>\n",
       "      <td>26</td>\n",
       "      <td>2021-01-01</td>\n",
       "      <td>1</td>\n",
       "      <td>6</td>\n",
       "      <td>0</td>\n",
       "      <td>199</td>\n",
       "    </tr>\n",
       "    <tr>\n",
       "      <th>1</th>\n",
       "      <td>1</td>\n",
       "      <td>Кира</td>\n",
       "      <td>22</td>\n",
       "      <td>Тюмень</td>\n",
       "      <td>ultra</td>\n",
       "      <td>2618</td>\n",
       "      <td>16</td>\n",
       "      <td>2021-01-18</td>\n",
       "      <td>1</td>\n",
       "      <td>6</td>\n",
       "      <td>0</td>\n",
       "      <td>199</td>\n",
       "    </tr>\n",
       "    <tr>\n",
       "      <th>2</th>\n",
       "      <td>1</td>\n",
       "      <td>Кира</td>\n",
       "      <td>22</td>\n",
       "      <td>Тюмень</td>\n",
       "      <td>ultra</td>\n",
       "      <td>754</td>\n",
       "      <td>7</td>\n",
       "      <td>2021-04-20</td>\n",
       "      <td>4</td>\n",
       "      <td>6</td>\n",
       "      <td>0</td>\n",
       "      <td>199</td>\n",
       "    </tr>\n",
       "    <tr>\n",
       "      <th>3</th>\n",
       "      <td>1</td>\n",
       "      <td>Кира</td>\n",
       "      <td>22</td>\n",
       "      <td>Тюмень</td>\n",
       "      <td>ultra</td>\n",
       "      <td>2695</td>\n",
       "      <td>19</td>\n",
       "      <td>2021-08-11</td>\n",
       "      <td>8</td>\n",
       "      <td>6</td>\n",
       "      <td>0</td>\n",
       "      <td>199</td>\n",
       "    </tr>\n",
       "    <tr>\n",
       "      <th>4</th>\n",
       "      <td>1</td>\n",
       "      <td>Кира</td>\n",
       "      <td>22</td>\n",
       "      <td>Тюмень</td>\n",
       "      <td>ultra</td>\n",
       "      <td>4029</td>\n",
       "      <td>27</td>\n",
       "      <td>2021-08-28</td>\n",
       "      <td>8</td>\n",
       "      <td>6</td>\n",
       "      <td>0</td>\n",
       "      <td>199</td>\n",
       "    </tr>\n",
       "  </tbody>\n",
       "</table>\n",
       "</div>"
      ],
      "text/plain": [
       "   user_id  name  age    city subscription_type  distance  duration  \\\n",
       "0        1  Кира   22  Тюмень             ultra      4410        26   \n",
       "1        1  Кира   22  Тюмень             ultra      2618        16   \n",
       "2        1  Кира   22  Тюмень             ultra       754         7   \n",
       "3        1  Кира   22  Тюмень             ultra      2695        19   \n",
       "4        1  Кира   22  Тюмень             ultra      4029        27   \n",
       "\n",
       "        date  month  minute_price  start_ride_price  subscription_fee  \n",
       "0 2021-01-01      1             6                 0               199  \n",
       "1 2021-01-18      1             6                 0               199  \n",
       "2 2021-04-20      4             6                 0               199  \n",
       "3 2021-08-11      8             6                 0               199  \n",
       "4 2021-08-28      8             6                 0               199  "
      ]
     },
     "execution_count": 15,
     "metadata": {},
     "output_type": "execute_result"
    }
   ],
   "source": [
    "print('Длина до:', len(rides['user_id'])) # возьмем таблицу с наибольшим числом строк, т.к. в новой должно оказаться столько же\n",
    "general = user.merge(rides, on = 'user_id', how = 'left') # создаем общую таблицу из двух первых\n",
    "general = general.merge(subscriptions, on = 'subscription_type', how = 'left') # и из прошлой и третьей таблицы создаем общую из 3\n",
    "print('Длина после:', len(general['user_id']))\n",
    "print()\n",
    "print('Кол-во пропусков в столбцах:')\n",
    "print(general.isna().sum())\n",
    "print()\n",
    "general.head()"
   ]
  },
  {
   "cell_type": "code",
   "execution_count": 16,
   "id": "ef39cca3",
   "metadata": {},
   "outputs": [
    {
     "data": {
      "text/html": [
       "<div>\n",
       "<style scoped>\n",
       "    .dataframe tbody tr th:only-of-type {\n",
       "        vertical-align: middle;\n",
       "    }\n",
       "\n",
       "    .dataframe tbody tr th {\n",
       "        vertical-align: top;\n",
       "    }\n",
       "\n",
       "    .dataframe thead th {\n",
       "        text-align: right;\n",
       "    }\n",
       "</style>\n",
       "<table border=\"1\" class=\"dataframe\">\n",
       "  <thead>\n",
       "    <tr style=\"text-align: right;\">\n",
       "      <th></th>\n",
       "      <th>user_id</th>\n",
       "      <th>name</th>\n",
       "      <th>age</th>\n",
       "      <th>city</th>\n",
       "      <th>subscription_type</th>\n",
       "      <th>distance</th>\n",
       "      <th>duration</th>\n",
       "      <th>date</th>\n",
       "      <th>month</th>\n",
       "      <th>minute_price</th>\n",
       "      <th>start_ride_price</th>\n",
       "      <th>subscription_fee</th>\n",
       "    </tr>\n",
       "  </thead>\n",
       "  <tbody>\n",
       "    <tr>\n",
       "      <th>0</th>\n",
       "      <td>1</td>\n",
       "      <td>Кира</td>\n",
       "      <td>22</td>\n",
       "      <td>Тюмень</td>\n",
       "      <td>ultra</td>\n",
       "      <td>4410</td>\n",
       "      <td>26</td>\n",
       "      <td>2021-01-01</td>\n",
       "      <td>1</td>\n",
       "      <td>6</td>\n",
       "      <td>0</td>\n",
       "      <td>199</td>\n",
       "    </tr>\n",
       "    <tr>\n",
       "      <th>1</th>\n",
       "      <td>1</td>\n",
       "      <td>Кира</td>\n",
       "      <td>22</td>\n",
       "      <td>Тюмень</td>\n",
       "      <td>ultra</td>\n",
       "      <td>2618</td>\n",
       "      <td>16</td>\n",
       "      <td>2021-01-18</td>\n",
       "      <td>1</td>\n",
       "      <td>6</td>\n",
       "      <td>0</td>\n",
       "      <td>199</td>\n",
       "    </tr>\n",
       "    <tr>\n",
       "      <th>2</th>\n",
       "      <td>1</td>\n",
       "      <td>Кира</td>\n",
       "      <td>22</td>\n",
       "      <td>Тюмень</td>\n",
       "      <td>ultra</td>\n",
       "      <td>754</td>\n",
       "      <td>7</td>\n",
       "      <td>2021-04-20</td>\n",
       "      <td>4</td>\n",
       "      <td>6</td>\n",
       "      <td>0</td>\n",
       "      <td>199</td>\n",
       "    </tr>\n",
       "    <tr>\n",
       "      <th>3</th>\n",
       "      <td>1</td>\n",
       "      <td>Кира</td>\n",
       "      <td>22</td>\n",
       "      <td>Тюмень</td>\n",
       "      <td>ultra</td>\n",
       "      <td>2695</td>\n",
       "      <td>19</td>\n",
       "      <td>2021-08-11</td>\n",
       "      <td>8</td>\n",
       "      <td>6</td>\n",
       "      <td>0</td>\n",
       "      <td>199</td>\n",
       "    </tr>\n",
       "    <tr>\n",
       "      <th>4</th>\n",
       "      <td>1</td>\n",
       "      <td>Кира</td>\n",
       "      <td>22</td>\n",
       "      <td>Тюмень</td>\n",
       "      <td>ultra</td>\n",
       "      <td>4029</td>\n",
       "      <td>27</td>\n",
       "      <td>2021-08-28</td>\n",
       "      <td>8</td>\n",
       "      <td>6</td>\n",
       "      <td>0</td>\n",
       "      <td>199</td>\n",
       "    </tr>\n",
       "  </tbody>\n",
       "</table>\n",
       "</div>"
      ],
      "text/plain": [
       "   user_id  name  age    city subscription_type  distance  duration  \\\n",
       "0        1  Кира   22  Тюмень             ultra      4410        26   \n",
       "1        1  Кира   22  Тюмень             ultra      2618        16   \n",
       "2        1  Кира   22  Тюмень             ultra       754         7   \n",
       "3        1  Кира   22  Тюмень             ultra      2695        19   \n",
       "4        1  Кира   22  Тюмень             ultra      4029        27   \n",
       "\n",
       "        date  month  minute_price  start_ride_price  subscription_fee  \n",
       "0 2021-01-01      1             6                 0               199  \n",
       "1 2021-01-18      1             6                 0               199  \n",
       "2 2021-04-20      4             6                 0               199  \n",
       "3 2021-08-11      8             6                 0               199  \n",
       "4 2021-08-28      8             6                 0               199  "
      ]
     },
     "execution_count": 16,
     "metadata": {},
     "output_type": "execute_result"
    }
   ],
   "source": [
    "with_ultra = general.query('subscription_type == \"ultra\"') #таблица с платными подписками\n",
    "with_ultra = with_ultra.reset_index(drop=True)\n",
    "with_ultra.head()"
   ]
  },
  {
   "cell_type": "code",
   "execution_count": 17,
   "id": "0f5ed1db",
   "metadata": {},
   "outputs": [
    {
     "data": {
      "text/html": [
       "<div>\n",
       "<style scoped>\n",
       "    .dataframe tbody tr th:only-of-type {\n",
       "        vertical-align: middle;\n",
       "    }\n",
       "\n",
       "    .dataframe tbody tr th {\n",
       "        vertical-align: top;\n",
       "    }\n",
       "\n",
       "    .dataframe thead th {\n",
       "        text-align: right;\n",
       "    }\n",
       "</style>\n",
       "<table border=\"1\" class=\"dataframe\">\n",
       "  <thead>\n",
       "    <tr style=\"text-align: right;\">\n",
       "      <th></th>\n",
       "      <th>user_id</th>\n",
       "      <th>name</th>\n",
       "      <th>age</th>\n",
       "      <th>city</th>\n",
       "      <th>subscription_type</th>\n",
       "      <th>distance</th>\n",
       "      <th>duration</th>\n",
       "      <th>date</th>\n",
       "      <th>month</th>\n",
       "      <th>minute_price</th>\n",
       "      <th>start_ride_price</th>\n",
       "      <th>subscription_fee</th>\n",
       "    </tr>\n",
       "  </thead>\n",
       "  <tbody>\n",
       "    <tr>\n",
       "      <th>0</th>\n",
       "      <td>700</td>\n",
       "      <td>Айдар</td>\n",
       "      <td>22</td>\n",
       "      <td>Омск</td>\n",
       "      <td>free</td>\n",
       "      <td>2516</td>\n",
       "      <td>15</td>\n",
       "      <td>2021-01-02</td>\n",
       "      <td>1</td>\n",
       "      <td>8</td>\n",
       "      <td>50</td>\n",
       "      <td>0</td>\n",
       "    </tr>\n",
       "    <tr>\n",
       "      <th>1</th>\n",
       "      <td>700</td>\n",
       "      <td>Айдар</td>\n",
       "      <td>22</td>\n",
       "      <td>Омск</td>\n",
       "      <td>free</td>\n",
       "      <td>847</td>\n",
       "      <td>17</td>\n",
       "      <td>2021-02-01</td>\n",
       "      <td>2</td>\n",
       "      <td>8</td>\n",
       "      <td>50</td>\n",
       "      <td>0</td>\n",
       "    </tr>\n",
       "    <tr>\n",
       "      <th>2</th>\n",
       "      <td>700</td>\n",
       "      <td>Айдар</td>\n",
       "      <td>22</td>\n",
       "      <td>Омск</td>\n",
       "      <td>free</td>\n",
       "      <td>4004</td>\n",
       "      <td>21</td>\n",
       "      <td>2021-02-04</td>\n",
       "      <td>2</td>\n",
       "      <td>8</td>\n",
       "      <td>50</td>\n",
       "      <td>0</td>\n",
       "    </tr>\n",
       "    <tr>\n",
       "      <th>3</th>\n",
       "      <td>700</td>\n",
       "      <td>Айдар</td>\n",
       "      <td>22</td>\n",
       "      <td>Омск</td>\n",
       "      <td>free</td>\n",
       "      <td>1206</td>\n",
       "      <td>10</td>\n",
       "      <td>2021-02-10</td>\n",
       "      <td>2</td>\n",
       "      <td>8</td>\n",
       "      <td>50</td>\n",
       "      <td>0</td>\n",
       "    </tr>\n",
       "    <tr>\n",
       "      <th>4</th>\n",
       "      <td>700</td>\n",
       "      <td>Айдар</td>\n",
       "      <td>22</td>\n",
       "      <td>Омск</td>\n",
       "      <td>free</td>\n",
       "      <td>3047</td>\n",
       "      <td>18</td>\n",
       "      <td>2021-02-14</td>\n",
       "      <td>2</td>\n",
       "      <td>8</td>\n",
       "      <td>50</td>\n",
       "      <td>0</td>\n",
       "    </tr>\n",
       "  </tbody>\n",
       "</table>\n",
       "</div>"
      ],
      "text/plain": [
       "   user_id   name  age  city subscription_type  distance  duration       date  \\\n",
       "0      700  Айдар   22  Омск              free      2516        15 2021-01-02   \n",
       "1      700  Айдар   22  Омск              free       847        17 2021-02-01   \n",
       "2      700  Айдар   22  Омск              free      4004        21 2021-02-04   \n",
       "3      700  Айдар   22  Омск              free      1206        10 2021-02-10   \n",
       "4      700  Айдар   22  Омск              free      3047        18 2021-02-14   \n",
       "\n",
       "   month  minute_price  start_ride_price  subscription_fee  \n",
       "0      1             8                50                 0  \n",
       "1      2             8                50                 0  \n",
       "2      2             8                50                 0  \n",
       "3      2             8                50                 0  \n",
       "4      2             8                50                 0  "
      ]
     },
     "execution_count": 17,
     "metadata": {},
     "output_type": "execute_result"
    }
   ],
   "source": [
    "with_free = general.query('subscription_type == \"free\"') #таблица с бесплатными подписками\n",
    "with_free = with_free.reset_index(drop=True)\n",
    "with_free.head()"
   ]
  },
  {
   "cell_type": "markdown",
   "id": "6536c953",
   "metadata": {},
   "source": [
    "Посмотрим на информацию о расстоянии и времени поездок для пользователей обеих категорий"
   ]
  },
  {
   "cell_type": "code",
   "execution_count": 18,
   "id": "bc756d48",
   "metadata": {},
   "outputs": [
    {
     "data": {
      "image/png": "[encoded data removed]",
      "text/plain": [
       "<Figure size 432x288 with 1 Axes>"
      ]
     },
     "metadata": {
      "needs_background": "light"
     },
     "output_type": "display_data"
    }
   ],
   "source": [
    "ax = with_ultra.plot(\n",
    "    kind='hist',\n",
    "    y='distance',\n",
    "    histtype='step',\n",
    "    bins=25,\n",
    "    linewidth=5,\n",
    "    alpha=0.7,\n",
    "    label='ultra',\n",
    ")\n",
    "with_free.plot(\n",
    "    kind='hist',\n",
    "    y='distance',\n",
    "    histtype='step',\n",
    "    bins=25,\n",
    "    linewidth=5,\n",
    "    alpha=0.7,\n",
    "    label='free',\n",
    "    ax=ax,\n",
    "    grid=True,\n",
    "    legend=True,\n",
    ") \n",
    "ax.set_xlabel('Расстояние в метрах')\n",
    "ax.set_ylabel('Количество')\n",
    "ax.set_title('Распределение длины поездок');"
   ]
  },
  {
   "cell_type": "code",
   "execution_count": 19,
   "id": "8de1b63b",
   "metadata": {},
   "outputs": [
    {
     "data": {
      "image/png": "[encoded data removed]",
      "text/plain": [
       "<Figure size 432x288 with 1 Axes>"
      ]
     },
     "metadata": {
      "needs_background": "light"
     },
     "output_type": "display_data"
    }
   ],
   "source": [
    "ax = with_ultra.plot(\n",
    "    kind='hist',\n",
    "    y='duration',\n",
    "    histtype='step',\n",
    "    bins=25,\n",
    "    linewidth=5,\n",
    "    alpha=0.7,\n",
    "    label='ultra',\n",
    ")\n",
    "with_free.plot(\n",
    "    kind='hist',\n",
    "    y='duration',\n",
    "    histtype='step',\n",
    "    bins=25,\n",
    "    linewidth=5,\n",
    "    alpha=0.7,\n",
    "    label='free',\n",
    "    ax=ax,\n",
    "    grid=True,\n",
    "    legend=True,\n",
    ") \n",
    "ax.set_xlabel('Длительность поездки в минутах')\n",
    "ax.set_ylabel('Количество')\n",
    "ax.set_title('Распределение длительности поездок');"
   ]
  },
  {
   "cell_type": "markdown",
   "id": "5a920ef4",
   "metadata": {},
   "source": [
    "На обоих графиках заметно, что расстояние и длительность поездок у людей с подпиской и без очень похожи. Просто кол-во людей с подпиской меньше, поэтому синия кривая линия ниже"
   ]
  },
  {
   "cell_type": "markdown",
   "id": "402d620f",
   "metadata": {},
   "source": [
    "## Подсчёт выручки"
   ]
  },
  {
   "cell_type": "markdown",
   "id": "6b3c4845",
   "metadata": {},
   "source": [
    "Создадим датафрейм с агрегированными данными о поездках на основе general и добавим столбец с помесячной выручкой"
   ]
  },
  {
   "cell_type": "code",
   "execution_count": 20,
   "id": "a6640214",
   "metadata": {},
   "outputs": [
    {
     "data": {
      "text/html": [
       "<div>\n",
       "<style scoped>\n",
       "    .dataframe tbody tr th:only-of-type {\n",
       "        vertical-align: middle;\n",
       "    }\n",
       "\n",
       "    .dataframe tbody tr th {\n",
       "        vertical-align: top;\n",
       "    }\n",
       "\n",
       "    .dataframe thead th {\n",
       "        text-align: right;\n",
       "    }\n",
       "</style>\n",
       "<table border=\"1\" class=\"dataframe\">\n",
       "  <thead>\n",
       "    <tr style=\"text-align: right;\">\n",
       "      <th></th>\n",
       "      <th>user_id</th>\n",
       "      <th>month</th>\n",
       "      <th>sum_distance</th>\n",
       "      <th>sum_duration</th>\n",
       "      <th>count_rides</th>\n",
       "      <th>subscription_type</th>\n",
       "      <th>minute_price</th>\n",
       "      <th>start_ride_price</th>\n",
       "      <th>subscription_fee</th>\n",
       "    </tr>\n",
       "  </thead>\n",
       "  <tbody>\n",
       "    <tr>\n",
       "      <th>0</th>\n",
       "      <td>1</td>\n",
       "      <td>1</td>\n",
       "      <td>7028</td>\n",
       "      <td>42</td>\n",
       "      <td>2</td>\n",
       "      <td>ultra</td>\n",
       "      <td>6</td>\n",
       "      <td>0</td>\n",
       "      <td>199</td>\n",
       "    </tr>\n",
       "    <tr>\n",
       "      <th>1</th>\n",
       "      <td>1</td>\n",
       "      <td>4</td>\n",
       "      <td>754</td>\n",
       "      <td>7</td>\n",
       "      <td>1</td>\n",
       "      <td>ultra</td>\n",
       "      <td>6</td>\n",
       "      <td>0</td>\n",
       "      <td>199</td>\n",
       "    </tr>\n",
       "    <tr>\n",
       "      <th>2</th>\n",
       "      <td>1</td>\n",
       "      <td>8</td>\n",
       "      <td>6724</td>\n",
       "      <td>46</td>\n",
       "      <td>2</td>\n",
       "      <td>ultra</td>\n",
       "      <td>6</td>\n",
       "      <td>0</td>\n",
       "      <td>199</td>\n",
       "    </tr>\n",
       "    <tr>\n",
       "      <th>3</th>\n",
       "      <td>1</td>\n",
       "      <td>10</td>\n",
       "      <td>5810</td>\n",
       "      <td>32</td>\n",
       "      <td>2</td>\n",
       "      <td>ultra</td>\n",
       "      <td>6</td>\n",
       "      <td>0</td>\n",
       "      <td>199</td>\n",
       "    </tr>\n",
       "    <tr>\n",
       "      <th>4</th>\n",
       "      <td>1</td>\n",
       "      <td>11</td>\n",
       "      <td>7004</td>\n",
       "      <td>56</td>\n",
       "      <td>3</td>\n",
       "      <td>ultra</td>\n",
       "      <td>6</td>\n",
       "      <td>0</td>\n",
       "      <td>199</td>\n",
       "    </tr>\n",
       "  </tbody>\n",
       "</table>\n",
       "</div>"
      ],
      "text/plain": [
       "   user_id  month  sum_distance  sum_duration  count_rides subscription_type  \\\n",
       "0        1      1          7028            42            2             ultra   \n",
       "1        1      4           754             7            1             ultra   \n",
       "2        1      8          6724            46            2             ultra   \n",
       "3        1     10          5810            32            2             ultra   \n",
       "4        1     11          7004            56            3             ultra   \n",
       "\n",
       "   minute_price  start_ride_price  subscription_fee  \n",
       "0             6                 0               199  \n",
       "1             6                 0               199  \n",
       "2             6                 0               199  \n",
       "3             6                 0               199  \n",
       "4             6                 0               199  "
      ]
     },
     "metadata": {},
     "output_type": "display_data"
    },
    {
     "name": "stdout",
     "output_type": "stream",
     "text": [
      "11331\n"
     ]
    },
    {
     "data": {
      "text/html": [
       "<div>\n",
       "<style scoped>\n",
       "    .dataframe tbody tr th:only-of-type {\n",
       "        vertical-align: middle;\n",
       "    }\n",
       "\n",
       "    .dataframe tbody tr th {\n",
       "        vertical-align: top;\n",
       "    }\n",
       "\n",
       "    .dataframe thead th {\n",
       "        text-align: right;\n",
       "    }\n",
       "</style>\n",
       "<table border=\"1\" class=\"dataframe\">\n",
       "  <thead>\n",
       "    <tr style=\"text-align: right;\">\n",
       "      <th></th>\n",
       "      <th>user_id</th>\n",
       "      <th>month</th>\n",
       "      <th>sum_distance</th>\n",
       "      <th>sum_duration</th>\n",
       "      <th>count_rides</th>\n",
       "      <th>subscription_type</th>\n",
       "      <th>minute_price</th>\n",
       "      <th>start_ride_price</th>\n",
       "      <th>subscription_fee</th>\n",
       "      <th>money</th>\n",
       "    </tr>\n",
       "  </thead>\n",
       "  <tbody>\n",
       "    <tr>\n",
       "      <th>0</th>\n",
       "      <td>1</td>\n",
       "      <td>1</td>\n",
       "      <td>7028</td>\n",
       "      <td>42</td>\n",
       "      <td>2</td>\n",
       "      <td>ultra</td>\n",
       "      <td>6</td>\n",
       "      <td>0</td>\n",
       "      <td>199</td>\n",
       "      <td>451</td>\n",
       "    </tr>\n",
       "    <tr>\n",
       "      <th>1</th>\n",
       "      <td>1</td>\n",
       "      <td>4</td>\n",
       "      <td>754</td>\n",
       "      <td>7</td>\n",
       "      <td>1</td>\n",
       "      <td>ultra</td>\n",
       "      <td>6</td>\n",
       "      <td>0</td>\n",
       "      <td>199</td>\n",
       "      <td>241</td>\n",
       "    </tr>\n",
       "    <tr>\n",
       "      <th>2</th>\n",
       "      <td>1</td>\n",
       "      <td>8</td>\n",
       "      <td>6724</td>\n",
       "      <td>46</td>\n",
       "      <td>2</td>\n",
       "      <td>ultra</td>\n",
       "      <td>6</td>\n",
       "      <td>0</td>\n",
       "      <td>199</td>\n",
       "      <td>475</td>\n",
       "    </tr>\n",
       "    <tr>\n",
       "      <th>3</th>\n",
       "      <td>1</td>\n",
       "      <td>10</td>\n",
       "      <td>5810</td>\n",
       "      <td>32</td>\n",
       "      <td>2</td>\n",
       "      <td>ultra</td>\n",
       "      <td>6</td>\n",
       "      <td>0</td>\n",
       "      <td>199</td>\n",
       "      <td>391</td>\n",
       "    </tr>\n",
       "    <tr>\n",
       "      <th>4</th>\n",
       "      <td>1</td>\n",
       "      <td>11</td>\n",
       "      <td>7004</td>\n",
       "      <td>56</td>\n",
       "      <td>3</td>\n",
       "      <td>ultra</td>\n",
       "      <td>6</td>\n",
       "      <td>0</td>\n",
       "      <td>199</td>\n",
       "      <td>535</td>\n",
       "    </tr>\n",
       "  </tbody>\n",
       "</table>\n",
       "</div>"
      ],
      "text/plain": [
       "   user_id  month  sum_distance  sum_duration  count_rides subscription_type  \\\n",
       "0        1      1          7028            42            2             ultra   \n",
       "1        1      4           754             7            1             ultra   \n",
       "2        1      8          6724            46            2             ultra   \n",
       "3        1     10          5810            32            2             ultra   \n",
       "4        1     11          7004            56            3             ultra   \n",
       "\n",
       "   minute_price  start_ride_price  subscription_fee  money  \n",
       "0             6                 0               199    451  \n",
       "1             6                 0               199    241  \n",
       "2             6                 0               199    475  \n",
       "3             6                 0               199    391  \n",
       "4             6                 0               199    535  "
      ]
     },
     "metadata": {},
     "output_type": "display_data"
    },
    {
     "name": "stdout",
     "output_type": "stream",
     "text": [
      "11331\n"
     ]
    }
   ],
   "source": [
    "general_plus = general.groupby(['user_id', 'month']\n",
    "                            ).agg({'distance':'sum', 'duration':['sum', 'count'],\n",
    "                                   'subscription_type':'first',\n",
    "                                   'minute_price':'first',\n",
    "                                   'start_ride_price':'first',\n",
    "                                   'subscription_fee':'first'})\n",
    "\n",
    "general_plus.columns = ['sum_distance', 'sum_duration', 'count_rides',\n",
    "                          'subscription_type', 'minute_price',\n",
    "                          'start_ride_price', 'subscription_fee']\n",
    "general_plus.reset_index(inplace=True)\n",
    "\n",
    "display(general_plus.head())\n",
    "print(general_plus.shape[0])\n",
    "\n",
    "# добавим столбик с помесячной выручкой\n",
    "general_plus['money'] = general_plus['start_ride_price'] * general_plus['count_rides'] + general_plus['minute_price'] * general_plus['sum_duration'] + general_plus['subscription_fee']\n",
    "display(general_plus.head())\n",
    "print(general_plus.shape[0])"
   ]
  },
  {
   "cell_type": "markdown",
   "id": "61a5b622",
   "metadata": {},
   "source": [
    "Получилась таблица, отсортированная по user_id и month, с общей дистанцией, временем и кол-ом поездок за каждый месяц пользователей. Еще в ней есть информация о типе подписки, ее стоймости и стоймости за каждую минуту пути. Эта таблица поможет нам проперить гипотезы."
   ]
  },
  {
   "cell_type": "markdown",
   "id": "41545ac0",
   "metadata": {},
   "source": [
    "## Проверка гипотез"
   ]
  },
  {
   "cell_type": "markdown",
   "id": "536fb58a",
   "metadata": {},
   "source": [
    "Проверим тратят ли пользователи с подпиской больше времени на поездки? Для этого возьмем за нулевую гипотезу, что среднее время поездок одинаковое. Альтернативная гипотеза: пользователи с подпиской тратят больше времени на поездки"
   ]
  },
  {
   "cell_type": "code",
   "execution_count": 21,
   "id": "23ea867b",
   "metadata": {},
   "outputs": [
    {
     "name": "stdout",
     "output_type": "stream",
     "text": [
      "19.037692307692307\n",
      "17.890992392807746\n",
      "p-value: 2.495945372073663e-34\n",
      "Отвергаем нулевую гипотезу\n"
     ]
    }
   ],
   "source": [
    "print(with_ultra['duration'].mean())\n",
    "print(with_free['duration'].mean())\n",
    "\n",
    "with_ultra_dur = with_ultra['duration']\n",
    "with_free_dur = with_free['duration']   \n",
    "alpha = 0.05 # уровень статистической значимости\n",
    "results = st.ttest_ind(with_ultra_dur, with_free_dur, alternative='greater')     \n",
    "print(f'p-value: {results.pvalue}')     \n",
    "if results.pvalue < alpha:\n",
    "    print('Отвергаем нулевую гипотезу')\n",
    "else:\n",
    "    print('Нет оснований отвергнуть нулевую гипотезу')"
   ]
  },
  {
   "cell_type": "markdown",
   "id": "23c14815",
   "metadata": {},
   "source": [
    "если мы отвергнули нулевую гипотезу, то это значит, что пользователи с подпиской тратят больше своего времени на поездки."
   ]
  },
  {
   "cell_type": "markdown",
   "id": "35a0cef2",
   "metadata": {},
   "source": [
    "Теперь проверим гипотезу о том, что среднее расстояние, которое проезжают пользователи с подпиской за одну поездку, не превышает \n",
    "3130 метров. Нулевая гипотеза: среднее расстояние, которое проезжают пользователи с подпиской за одну поездку, равно 3130 метров. Альтернативная: пользователи с подпиской проезжают в среднем за одну поездку больше 3130 м"
   ]
  },
  {
   "cell_type": "code",
   "execution_count": 22,
   "id": "3a0e8d5d",
   "metadata": {},
   "outputs": [
    {
     "name": "stdout",
     "output_type": "stream",
     "text": [
      "3115.4433846153847\n",
      "p-значение: 0.9195649894697724\n",
      "Не отвергаем нулевую гипотезу\n"
     ]
    }
   ],
   "source": [
    "print(with_ultra['distance'].mean())\n",
    "\n",
    "with_ultra_dist = with_ultra['distance']\n",
    "prev_screens_value = 3130\n",
    "alpha = 0.05\n",
    "results = st.ttest_1samp(\n",
    "    with_ultra_dist, \n",
    "    prev_screens_value,\n",
    "    alternative = 'greater'\n",
    "      )\n",
    "print('p-значение:', results.pvalue)\n",
    "\n",
    "if (results.pvalue < alpha):\n",
    "    print('Отвергаем нулевую гипотезу')\n",
    "else:\n",
    "    print('Не отвергаем нулевую гипотезу') "
   ]
  },
  {
   "cell_type": "markdown",
   "id": "f07f2aa6",
   "metadata": {},
   "source": [
    "Из этого следует, что среднее расстояние, которое проезжают пользователи с подпиской за одну поездку, не превышает \n",
    "3130 метров. А это означает, что оптимальное значение с точки зрения износа самоката не превышается."
   ]
  },
  {
   "cell_type": "markdown",
   "id": "529d05b1",
   "metadata": {},
   "source": [
    "Давайте узнаем будет ли помесячная выручка от пользователей с подпиской по месяцам выше, чем выручка от пользователей без подписки? Для этого нулевая гипотеза будет такой: помесячная выручка по месяцам у двух групп будет одинакова. Альтернативная: у людей с подпиской будет выручка в среднем больше."
   ]
  },
  {
   "cell_type": "code",
   "execution_count": 23,
   "id": "67959f42",
   "metadata": {},
   "outputs": [
    {
     "name": "stdout",
     "output_type": "stream",
     "text": [
      "p-value: 1.8850394384715216e-31\n",
      "Отвергаем нулевую гипотезу\n"
     ]
    }
   ],
   "source": [
    "easy_money_ultra = general_plus[general_plus['subscription_type'] == 'ultra']['money']\n",
    "easy_money_free = general_plus[general_plus['subscription_type'] == 'free']['money']\n",
    "alpha = 0.05\n",
    "\n",
    "results = st.ttest_ind(easy_money_ultra, easy_money_free, alternative='greater')  \n",
    "print(f'p-value: {results.pvalue}')     \n",
    "if results.pvalue < alpha:\n",
    "    print('Отвергаем нулевую гипотезу')\n",
    "else:\n",
    "    print('Нет оснований отвергнуть нулевую гипотезу')"
   ]
  },
  {
   "cell_type": "markdown",
   "id": "aff23eca",
   "metadata": {},
   "source": [
    "Это означает, что компании будет выгоднее иметь больше клиентов с подпиской, чем без."
   ]
  },
  {
   "cell_type": "markdown",
   "id": "f51b58a0",
   "metadata": {},
   "source": [
    "Техническая команда сервиса обновила сервера, с которыми взаимодействует мобильное приложение и она надеется, что из-за этого количество обращений в техподдержку значимо снизится. Некоторый файл содержит для каждого пользователя данные о количестве обращений до обновления и после него. Для проверки этой гипотезы нам понадобится метод scipy.stats.ttest_rel, тк у нас есть две зависимые выборки, которые нужно проверить на равенство среднего значения до и после изменения. Нам надо будет проверить односторонную гипотезу с параметром alternative = 'less', т.к. кол-во обращений должно по задумке снизиться"
   ]
  },
  {
   "cell_type": "markdown",
   "id": "61bfc99f",
   "metadata": {},
   "source": [
    "Результаты проперки гипотез получились следующие: пользователи с подпиской тратят больше своего времени на поездки. Пользователи не превышают оптимальное значение с точки зрения износа самоката. И компании выгоднее иметь больше клиентов с подпиской, чем без."
   ]
  },
  {
   "cell_type": "markdown",
   "id": "61213c5e",
   "metadata": {},
   "source": [
    "## Распределения"
   ]
  },
  {
   "cell_type": "markdown",
   "id": "68b293d6",
   "metadata": {},
   "source": [
    "Нужно выяснить, какое минимальное кол-во промокодов нужно разослать, если каждый 10 пользователь продлит ее в будущем, чтобы в итоге минимум 100 пользователей ее продлили. При этом вероятность не выполнить план была примерно 5%. Для этого посчитаем параметры распределения, описывающего эту ситуацию, построим график распределения и сформулируем ответ на вопрос о количестве промокодов."
   ]
  },
  {
   "cell_type": "code",
   "execution_count": 24,
   "id": "95cd1d51",
   "metadata": {
    "scrolled": true
   },
   "outputs": [
    {
     "name": "stdout",
     "output_type": "stream",
     "text": [
      "841\n"
     ]
    },
    {
     "data": {
      "image/png": "[encoded data removed]",
      "text/plain": [
       "<Figure size 432x288 with 1 Axes>"
      ]
     },
     "metadata": {
      "needs_background": "light"
     },
     "output_type": "display_data"
    }
   ],
   "source": [
    "# найдем минимальное кол-во промокодов, которые нужно разослать, чтобы вероятность не выполнить план была примерно 5%\n",
    "p = 0.1 # вероятность успеха (продления подписки)\n",
    "threshold = 100 # сколько подписок нужно\n",
    "target_prob = 0.05 # вероятность не выполнить план\n",
    "w = 1 # переменная, хранящая минимальную разницу\n",
    "n = 0 # переменная, которая хранит кол-во экспериментов\n",
    "for N in range(1, 1000):\n",
    "    lamba = N * p\n",
    "    q = 1 - poisson.cdf(threshold - 1, lamba)\n",
    "    if abs(q - 0.05) < w:\n",
    "        w = abs(q - 0.05)\n",
    "        n = N \n",
    "print(n)\n",
    "# теперь построим гистограмму распределения\n",
    "np.seterr(divide = 'ignore')\n",
    "p = 0.1\n",
    "\n",
    "from scipy.stats import binom\n",
    "\n",
    "distr = []\n",
    "\n",
    "for k in range(0, n + 1):\n",
    "    current_value = binom.pmf(k, n, p)\n",
    "    distr.append(current_value)\n",
    "    \n",
    "plt.bar(range(0, n + 1), distr)\n",
    "plt.title('Распределение вероятности')\n",
    "plt.show();"
   ]
  },
  {
   "cell_type": "markdown",
   "id": "75269543",
   "metadata": {},
   "source": [
    "Для того чтобы получить минимальное количество подписок, нужно разослать примерно 841 промокод"
   ]
  },
  {
   "cell_type": "markdown",
   "id": "ecc723f6",
   "metadata": {},
   "source": [
    "Оценим вероятность того, что уведомление откроют не более 399,5 тыс. пользователей. При условии, что уведомления открывают около 40 % получивших клиентов, а отдел планирует разослать 1 млн уведомлений."
   ]
  },
  {
   "cell_type": "code",
   "execution_count": 25,
   "id": "61c95d84",
   "metadata": {},
   "outputs": [
    {
     "name": "stdout",
     "output_type": "stream",
     "text": [
      "0.15371708296369768\n"
     ]
    }
   ],
   "source": [
    "n = 1000000\n",
    "p = 0.4\n",
    "mu = n * p\n",
    "sigma = sqrt(n * p * (1 - p))\n",
    "distr = st.norm(mu, sigma) \n",
    "result = distr.cdf(399500)\n",
    "print(result)"
   ]
  },
  {
   "cell_type": "markdown",
   "id": "b6291fa0",
   "metadata": {},
   "source": [
    "вероятность того, что уведомление откроют не более 399,5 тыс. пользователей приблизительно равна 15%"
   ]
  },
  {
   "cell_type": "markdown",
   "id": "ee5aa5a0",
   "metadata": {},
   "source": [
    "## Общий вывод ##"
   ]
  },
  {
   "cell_type": "markdown",
   "id": "7d6edca0",
   "metadata": {},
   "source": [
    "В данном проекте мы проанализировали данные аренды самокатов сервиса GoFast, в которых было три таблицы с данными о пользователях(user_id - уникальный идентификатор пользователя, name - имя пользователя, age - возраст, city - город, subscription_type - тип подписки), поездках(user_id - уникальный идентификатор пользователя, distance - расстояние, duration - продолжительность сессии, date - дата совершения поездки) и подписках(subscription_type - тип подписки, minute_price - стоимость одной минуты поездки по данной подписке, start_ride_price - стоимость начала поездки, subscription_fee - стоимость ежемесячного платежа). Для этого мы ознакомились и сохранили эти данные в датафреймы. После этого занялись предобработкой данных, в которой создали новый столбец с номером месяца на основе столбца date, приведя его в тип date. Обработали дубликаты. Сделали исследовательский анализ данных, описав и визуализировав общую информацию о пользователях и поездках. Затем объединили данные о пользователях, поездках и подписках в один датафрейм. Создали еще пару таблиц с подписками и без. Визуализировали информацию о расстоянии и времени поездок для пользователей обеих категорий. Посчитали выручки с помесячной выручкой, которую принёс каждый пользователь. После этого проверили некоторые гипотезы, как: тратят ли пользователи с подпиской больше времени на поездки, среднее расстояние, которое проезжают пользователи с подпиской за одну поездку, не превышает ли оно 3130 метров, будет ли помесячная выручка от пользователей с подпиской по месяцам выше, чем выручка от пользователей без подписки. Помогли провести акцию с раздачей промокодов и разослать клиентам push-уведомления в мобильном приложении."
   ]
  }
 ],
 "metadata": {
  "ExecuteTimeLog": [
   {
    "duration": 423,
    "start_time": "2023-08-25T11:33:06.024Z"
   },
   {
    "duration": 201,
    "start_time": "2023-08-25T11:39:14.597Z"
   },
   {
    "duration": 3,
    "start_time": "2023-08-25T11:39:19.311Z"
   },
   {
    "duration": 76,
    "start_time": "2023-08-25T11:39:19.316Z"
   },
   {
    "duration": 74,
    "start_time": "2023-08-25T11:39:42.334Z"
   },
   {
    "duration": 76,
    "start_time": "2023-08-25T11:40:49.638Z"
   },
   {
    "duration": 97,
    "start_time": "2023-08-25T11:41:21.013Z"
   },
   {
    "duration": 88,
    "start_time": "2023-08-25T11:42:30.455Z"
   },
   {
    "duration": 99,
    "start_time": "2023-08-25T11:52:37.891Z"
   },
   {
    "duration": 84,
    "start_time": "2023-08-25T11:54:42.826Z"
   },
   {
    "duration": 16,
    "start_time": "2023-08-25T12:03:28.028Z"
   },
   {
    "duration": 64,
    "start_time": "2023-08-25T12:03:54.475Z"
   },
   {
    "duration": 3,
    "start_time": "2023-08-25T12:04:32.060Z"
   },
   {
    "duration": 101,
    "start_time": "2023-08-25T12:04:32.064Z"
   },
   {
    "duration": 24,
    "start_time": "2023-08-25T12:04:32.167Z"
   },
   {
    "duration": 100,
    "start_time": "2023-08-25T12:05:38.846Z"
   },
   {
    "duration": 101,
    "start_time": "2023-08-25T12:05:57.900Z"
   },
   {
    "duration": 846,
    "start_time": "2023-08-25T12:35:44.741Z"
   },
   {
    "duration": 7,
    "start_time": "2023-08-25T12:36:34.750Z"
   },
   {
    "duration": 2,
    "start_time": "2023-08-25T12:36:38.897Z"
   },
   {
    "duration": 107,
    "start_time": "2023-08-25T12:36:38.901Z"
   },
   {
    "duration": 15,
    "start_time": "2023-08-25T12:36:39.010Z"
   },
   {
    "duration": 26,
    "start_time": "2023-08-25T12:36:39.027Z"
   },
   {
    "duration": 7,
    "start_time": "2023-08-25T12:36:45.679Z"
   },
   {
    "duration": 669,
    "start_time": "2023-08-25T12:37:06.477Z"
   },
   {
    "duration": 3,
    "start_time": "2023-08-25T12:37:21.532Z"
   },
   {
    "duration": 122,
    "start_time": "2023-08-25T12:37:21.536Z"
   },
   {
    "duration": 17,
    "start_time": "2023-08-25T12:37:21.660Z"
   },
   {
    "duration": 748,
    "start_time": "2023-08-25T12:37:21.679Z"
   },
   {
    "duration": 1121,
    "start_time": "2023-08-25T12:39:19.990Z"
   },
   {
    "duration": 14,
    "start_time": "2023-08-25T12:41:14.690Z"
   },
   {
    "duration": 18,
    "start_time": "2023-08-25T12:41:29.099Z"
   },
   {
    "duration": 10,
    "start_time": "2023-08-25T12:44:16.801Z"
   },
   {
    "duration": 3,
    "start_time": "2023-08-25T12:44:24.998Z"
   },
   {
    "duration": 113,
    "start_time": "2023-08-25T12:44:25.003Z"
   },
   {
    "duration": 13,
    "start_time": "2023-08-25T12:44:25.117Z"
   },
   {
    "duration": 8,
    "start_time": "2023-08-25T12:44:25.131Z"
   },
   {
    "duration": 6,
    "start_time": "2023-08-25T12:57:06.879Z"
   },
   {
    "duration": 7,
    "start_time": "2023-08-25T13:07:36.709Z"
   },
   {
    "duration": 7,
    "start_time": "2023-08-25T13:09:54.100Z"
   },
   {
    "duration": 9,
    "start_time": "2023-08-25T13:10:17.870Z"
   },
   {
    "duration": 9,
    "start_time": "2023-08-25T13:23:15.365Z"
   },
   {
    "duration": 6,
    "start_time": "2023-08-25T13:27:06.884Z"
   },
   {
    "duration": 7,
    "start_time": "2023-08-25T13:30:42.647Z"
   },
   {
    "duration": 8,
    "start_time": "2023-08-25T13:47:51.388Z"
   },
   {
    "duration": 2,
    "start_time": "2023-08-25T13:48:03.492Z"
   },
   {
    "duration": 104,
    "start_time": "2023-08-25T13:48:03.496Z"
   },
   {
    "duration": 9,
    "start_time": "2023-08-25T13:48:03.601Z"
   },
   {
    "duration": 11,
    "start_time": "2023-08-25T13:48:03.611Z"
   },
   {
    "duration": 19,
    "start_time": "2023-08-25T13:48:03.624Z"
   },
   {
    "duration": 5,
    "start_time": "2023-08-25T13:48:03.652Z"
   },
   {
    "duration": 9,
    "start_time": "2023-08-25T13:49:20.582Z"
   },
   {
    "duration": 3,
    "start_time": "2023-08-25T13:49:25.472Z"
   },
   {
    "duration": 119,
    "start_time": "2023-08-25T13:49:25.476Z"
   },
   {
    "duration": 8,
    "start_time": "2023-08-25T13:49:25.596Z"
   },
   {
    "duration": 25,
    "start_time": "2023-08-25T13:49:25.606Z"
   },
   {
    "duration": 18,
    "start_time": "2023-08-25T13:49:25.632Z"
   },
   {
    "duration": 4,
    "start_time": "2023-08-25T13:49:25.652Z"
   },
   {
    "duration": 92,
    "start_time": "2023-08-25T13:51:32.241Z"
   },
   {
    "duration": 10,
    "start_time": "2023-08-25T13:51:53.443Z"
   },
   {
    "duration": 14,
    "start_time": "2023-08-25T13:52:51.075Z"
   },
   {
    "duration": 16,
    "start_time": "2023-08-25T13:53:06.129Z"
   },
   {
    "duration": 13,
    "start_time": "2023-08-25T13:53:28.374Z"
   },
   {
    "duration": 14,
    "start_time": "2023-08-25T13:56:12.747Z"
   },
   {
    "duration": 7,
    "start_time": "2023-08-25T13:56:38.944Z"
   },
   {
    "duration": 3,
    "start_time": "2023-08-25T13:56:42.838Z"
   },
   {
    "duration": 125,
    "start_time": "2023-08-25T13:56:42.843Z"
   },
   {
    "duration": 8,
    "start_time": "2023-08-25T13:56:42.970Z"
   },
   {
    "duration": 19,
    "start_time": "2023-08-25T13:56:42.979Z"
   },
   {
    "duration": 26,
    "start_time": "2023-08-25T13:56:43.000Z"
   },
   {
    "duration": 6,
    "start_time": "2023-08-25T13:56:43.028Z"
   },
   {
    "duration": 111,
    "start_time": "2023-08-25T13:57:39.577Z"
   },
   {
    "duration": 9,
    "start_time": "2023-08-25T14:03:38.020Z"
   },
   {
    "duration": 7,
    "start_time": "2023-08-25T14:04:59.710Z"
   },
   {
    "duration": 12,
    "start_time": "2023-08-25T16:18:43.970Z"
   },
   {
    "duration": 9,
    "start_time": "2023-08-25T16:19:31.081Z"
   },
   {
    "duration": 6,
    "start_time": "2023-08-25T16:20:09.503Z"
   },
   {
    "duration": 6,
    "start_time": "2023-08-25T16:21:14.749Z"
   },
   {
    "duration": 6,
    "start_time": "2023-08-25T16:25:18.729Z"
   },
   {
    "duration": 117,
    "start_time": "2023-08-25T16:26:38.652Z"
   },
   {
    "duration": 376,
    "start_time": "2023-08-25T16:26:43.726Z"
   },
   {
    "duration": 128,
    "start_time": "2023-08-25T16:27:03.029Z"
   },
   {
    "duration": 140,
    "start_time": "2023-08-25T16:27:13.628Z"
   },
   {
    "duration": 138,
    "start_time": "2023-08-25T16:27:17.578Z"
   },
   {
    "duration": 135,
    "start_time": "2023-08-25T16:27:25.965Z"
   },
   {
    "duration": 146,
    "start_time": "2023-08-25T16:28:02.995Z"
   },
   {
    "duration": 147,
    "start_time": "2023-08-25T16:29:02.341Z"
   },
   {
    "duration": 136,
    "start_time": "2023-08-25T16:29:09.478Z"
   },
   {
    "duration": 140,
    "start_time": "2023-08-25T16:29:14.244Z"
   },
   {
    "duration": 156,
    "start_time": "2023-08-25T16:32:37.411Z"
   },
   {
    "duration": 121,
    "start_time": "2023-08-25T16:55:13.497Z"
   },
   {
    "duration": 117,
    "start_time": "2023-08-25T16:55:19.738Z"
   },
   {
    "duration": 119,
    "start_time": "2023-08-25T16:55:54.465Z"
   },
   {
    "duration": 135,
    "start_time": "2023-08-25T16:56:18.361Z"
   },
   {
    "duration": 101,
    "start_time": "2023-08-25T16:57:17.022Z"
   },
   {
    "duration": 107,
    "start_time": "2023-08-25T16:58:41.227Z"
   },
   {
    "duration": 113,
    "start_time": "2023-08-25T16:58:52.413Z"
   },
   {
    "duration": 110,
    "start_time": "2023-08-25T16:59:12.271Z"
   },
   {
    "duration": 128,
    "start_time": "2023-08-25T17:03:19.957Z"
   },
   {
    "duration": 80,
    "start_time": "2023-08-25T17:05:35.513Z"
   },
   {
    "duration": 153,
    "start_time": "2023-08-25T17:06:28.183Z"
   },
   {
    "duration": 5,
    "start_time": "2023-08-25T17:13:02.561Z"
   },
   {
    "duration": 609,
    "start_time": "2023-08-25T17:13:33.611Z"
   },
   {
    "duration": 685,
    "start_time": "2023-08-25T17:13:39.961Z"
   },
   {
    "duration": 10,
    "start_time": "2023-08-25T17:13:55.022Z"
   },
   {
    "duration": 4,
    "start_time": "2023-08-25T17:15:24.553Z"
   },
   {
    "duration": 184,
    "start_time": "2023-08-25T17:15:24.572Z"
   },
   {
    "duration": 7,
    "start_time": "2023-08-25T17:15:24.758Z"
   },
   {
    "duration": 21,
    "start_time": "2023-08-25T17:15:24.767Z"
   },
   {
    "duration": 5,
    "start_time": "2023-08-25T17:15:24.790Z"
   },
   {
    "duration": 8,
    "start_time": "2023-08-25T17:15:24.797Z"
   },
   {
    "duration": 11,
    "start_time": "2023-08-25T17:15:24.807Z"
   },
   {
    "duration": 190,
    "start_time": "2023-08-25T17:15:24.820Z"
   },
   {
    "duration": 127,
    "start_time": "2023-08-25T17:15:25.012Z"
   },
   {
    "duration": 151,
    "start_time": "2023-08-25T17:15:25.141Z"
   },
   {
    "duration": 142,
    "start_time": "2023-08-25T17:15:25.294Z"
   },
   {
    "duration": 12,
    "start_time": "2023-08-25T17:15:48.345Z"
   },
   {
    "duration": 3,
    "start_time": "2023-08-25T17:15:51.838Z"
   },
   {
    "duration": 111,
    "start_time": "2023-08-25T17:15:51.843Z"
   },
   {
    "duration": 9,
    "start_time": "2023-08-25T17:15:51.955Z"
   },
   {
    "duration": 20,
    "start_time": "2023-08-25T17:15:51.966Z"
   },
   {
    "duration": 5,
    "start_time": "2023-08-25T17:15:51.987Z"
   },
   {
    "duration": 8,
    "start_time": "2023-08-25T17:15:51.994Z"
   },
   {
    "duration": 6,
    "start_time": "2023-08-25T17:15:52.003Z"
   },
   {
    "duration": 178,
    "start_time": "2023-08-25T17:15:52.010Z"
   },
   {
    "duration": 125,
    "start_time": "2023-08-25T17:15:52.191Z"
   },
   {
    "duration": 154,
    "start_time": "2023-08-25T17:15:52.318Z"
   },
   {
    "duration": 157,
    "start_time": "2023-08-25T17:15:52.474Z"
   },
   {
    "duration": 9,
    "start_time": "2023-08-25T17:17:06.193Z"
   },
   {
    "duration": 5,
    "start_time": "2023-08-25T17:17:26.845Z"
   },
   {
    "duration": 11,
    "start_time": "2023-08-25T17:18:32.762Z"
   },
   {
    "duration": 3,
    "start_time": "2023-08-25T17:18:37.085Z"
   },
   {
    "duration": 104,
    "start_time": "2023-08-25T17:18:37.090Z"
   },
   {
    "duration": 12,
    "start_time": "2023-08-25T17:18:37.196Z"
   },
   {
    "duration": 16,
    "start_time": "2023-08-25T17:18:37.210Z"
   },
   {
    "duration": 25,
    "start_time": "2023-08-25T17:18:37.227Z"
   },
   {
    "duration": 12,
    "start_time": "2023-08-25T17:18:37.254Z"
   },
   {
    "duration": 9,
    "start_time": "2023-08-25T17:18:37.267Z"
   },
   {
    "duration": 152,
    "start_time": "2023-08-25T17:18:37.277Z"
   },
   {
    "duration": 110,
    "start_time": "2023-08-25T17:18:37.431Z"
   },
   {
    "duration": 131,
    "start_time": "2023-08-25T17:18:37.552Z"
   },
   {
    "duration": 215,
    "start_time": "2023-08-25T17:18:37.684Z"
   },
   {
    "duration": 3,
    "start_time": "2023-08-25T17:22:07.519Z"
   },
   {
    "duration": 110,
    "start_time": "2023-08-25T17:22:07.524Z"
   },
   {
    "duration": 21,
    "start_time": "2023-08-25T17:22:07.636Z"
   },
   {
    "duration": 18,
    "start_time": "2023-08-25T17:22:07.659Z"
   },
   {
    "duration": 5,
    "start_time": "2023-08-25T17:22:07.679Z"
   },
   {
    "duration": 7,
    "start_time": "2023-08-25T17:22:07.685Z"
   },
   {
    "duration": 7,
    "start_time": "2023-08-25T17:22:07.694Z"
   },
   {
    "duration": 178,
    "start_time": "2023-08-25T17:22:07.703Z"
   },
   {
    "duration": 121,
    "start_time": "2023-08-25T17:22:07.883Z"
   },
   {
    "duration": 134,
    "start_time": "2023-08-25T17:22:08.006Z"
   },
   {
    "duration": 167,
    "start_time": "2023-08-25T17:22:08.142Z"
   },
   {
    "duration": 3,
    "start_time": "2023-08-25T17:22:31.919Z"
   },
   {
    "duration": 111,
    "start_time": "2023-08-25T17:22:31.925Z"
   },
   {
    "duration": 24,
    "start_time": "2023-08-25T17:22:32.037Z"
   },
   {
    "duration": 27,
    "start_time": "2023-08-25T17:22:32.063Z"
   },
   {
    "duration": 18,
    "start_time": "2023-08-25T17:22:32.093Z"
   },
   {
    "duration": 14,
    "start_time": "2023-08-25T17:22:32.113Z"
   },
   {
    "duration": 18,
    "start_time": "2023-08-25T17:22:32.129Z"
   },
   {
    "duration": 185,
    "start_time": "2023-08-25T17:22:32.148Z"
   },
   {
    "duration": 144,
    "start_time": "2023-08-25T17:22:32.337Z"
   },
   {
    "duration": 176,
    "start_time": "2023-08-25T17:22:32.483Z"
   },
   {
    "duration": 150,
    "start_time": "2023-08-25T17:22:32.661Z"
   },
   {
    "duration": 4,
    "start_time": "2023-08-25T17:23:51.112Z"
   },
   {
    "duration": 190,
    "start_time": "2023-08-25T17:37:19.166Z"
   },
   {
    "duration": 70,
    "start_time": "2023-08-25T17:38:35.071Z"
   },
   {
    "duration": 452,
    "start_time": "2023-08-26T05:49:23.943Z"
   },
   {
    "duration": 239,
    "start_time": "2023-08-26T05:49:24.397Z"
   },
   {
    "duration": 16,
    "start_time": "2023-08-26T05:49:24.638Z"
   },
   {
    "duration": 36,
    "start_time": "2023-08-26T05:49:24.657Z"
   },
   {
    "duration": 7,
    "start_time": "2023-08-26T05:49:24.696Z"
   },
   {
    "duration": 20,
    "start_time": "2023-08-26T05:49:24.706Z"
   },
   {
    "duration": 12,
    "start_time": "2023-08-26T05:49:24.729Z"
   },
   {
    "duration": 810,
    "start_time": "2023-08-26T05:49:24.744Z"
   },
   {
    "duration": 156,
    "start_time": "2023-08-26T05:49:25.556Z"
   },
   {
    "duration": 203,
    "start_time": "2023-08-26T05:49:25.715Z"
   },
   {
    "duration": 286,
    "start_time": "2023-08-26T05:49:25.921Z"
   },
   {
    "duration": 218,
    "start_time": "2023-08-26T05:49:26.209Z"
   },
   {
    "duration": 3,
    "start_time": "2023-08-26T05:50:19.887Z"
   },
   {
    "duration": 122,
    "start_time": "2023-08-26T05:50:19.893Z"
   },
   {
    "duration": 16,
    "start_time": "2023-08-26T05:50:20.017Z"
   },
   {
    "duration": 15,
    "start_time": "2023-08-26T05:50:20.035Z"
   },
   {
    "duration": 14,
    "start_time": "2023-08-26T05:50:20.080Z"
   },
   {
    "duration": 20,
    "start_time": "2023-08-26T05:50:20.096Z"
   },
   {
    "duration": 23,
    "start_time": "2023-08-26T05:50:20.119Z"
   },
   {
    "duration": 28,
    "start_time": "2023-08-26T05:50:20.144Z"
   },
   {
    "duration": 166,
    "start_time": "2023-08-26T05:50:20.173Z"
   },
   {
    "duration": 157,
    "start_time": "2023-08-26T05:50:20.342Z"
   },
   {
    "duration": 182,
    "start_time": "2023-08-26T05:50:20.501Z"
   },
   {
    "duration": 172,
    "start_time": "2023-08-26T05:50:20.685Z"
   },
   {
    "duration": 179,
    "start_time": "2023-08-26T05:50:20.859Z"
   },
   {
    "duration": 7,
    "start_time": "2023-08-26T05:51:55.457Z"
   },
   {
    "duration": 125,
    "start_time": "2023-08-26T06:01:45.330Z"
   },
   {
    "duration": 3,
    "start_time": "2023-08-26T06:01:49.518Z"
   },
   {
    "duration": 107,
    "start_time": "2023-08-26T06:01:49.523Z"
   },
   {
    "duration": 11,
    "start_time": "2023-08-26T06:01:49.631Z"
   },
   {
    "duration": 9,
    "start_time": "2023-08-26T06:01:49.643Z"
   },
   {
    "duration": 27,
    "start_time": "2023-08-26T06:01:49.654Z"
   },
   {
    "duration": 5,
    "start_time": "2023-08-26T06:01:49.683Z"
   },
   {
    "duration": 9,
    "start_time": "2023-08-26T06:01:49.689Z"
   },
   {
    "duration": 5,
    "start_time": "2023-08-26T06:01:49.700Z"
   },
   {
    "duration": 178,
    "start_time": "2023-08-26T06:01:49.706Z"
   },
   {
    "duration": 123,
    "start_time": "2023-08-26T06:01:49.886Z"
   },
   {
    "duration": 159,
    "start_time": "2023-08-26T06:01:50.011Z"
   },
   {
    "duration": 154,
    "start_time": "2023-08-26T06:01:50.172Z"
   },
   {
    "duration": 189,
    "start_time": "2023-08-26T06:01:50.328Z"
   },
   {
    "duration": 150,
    "start_time": "2023-08-26T06:03:40.822Z"
   },
   {
    "duration": 158,
    "start_time": "2023-08-26T06:05:34.925Z"
   },
   {
    "duration": 155,
    "start_time": "2023-08-26T06:05:58.519Z"
   },
   {
    "duration": 3,
    "start_time": "2023-08-26T06:06:04.130Z"
   },
   {
    "duration": 123,
    "start_time": "2023-08-26T06:06:04.134Z"
   },
   {
    "duration": 15,
    "start_time": "2023-08-26T06:06:04.258Z"
   },
   {
    "duration": 12,
    "start_time": "2023-08-26T06:06:04.280Z"
   },
   {
    "duration": 12,
    "start_time": "2023-08-26T06:06:04.294Z"
   },
   {
    "duration": 6,
    "start_time": "2023-08-26T06:06:04.308Z"
   },
   {
    "duration": 11,
    "start_time": "2023-08-26T06:06:04.316Z"
   },
   {
    "duration": 7,
    "start_time": "2023-08-26T06:06:04.329Z"
   },
   {
    "duration": 214,
    "start_time": "2023-08-26T06:06:04.338Z"
   },
   {
    "duration": 131,
    "start_time": "2023-08-26T06:06:04.554Z"
   },
   {
    "duration": 161,
    "start_time": "2023-08-26T06:06:04.687Z"
   },
   {
    "duration": 176,
    "start_time": "2023-08-26T06:06:04.850Z"
   },
   {
    "duration": 129,
    "start_time": "2023-08-26T06:06:05.028Z"
   },
   {
    "duration": 146,
    "start_time": "2023-08-26T06:06:31.393Z"
   },
   {
    "duration": 160,
    "start_time": "2023-08-26T06:06:45.156Z"
   },
   {
    "duration": 212,
    "start_time": "2023-08-26T06:06:58.737Z"
   },
   {
    "duration": 141,
    "start_time": "2023-08-26T06:10:49.437Z"
   },
   {
    "duration": 85,
    "start_time": "2023-08-26T06:11:47.576Z"
   },
   {
    "duration": 88,
    "start_time": "2023-08-26T06:25:41.391Z"
   },
   {
    "duration": 7,
    "start_time": "2023-08-26T06:25:49.172Z"
   },
   {
    "duration": 8,
    "start_time": "2023-08-26T06:26:19.244Z"
   },
   {
    "duration": 3,
    "start_time": "2023-08-26T06:27:13.130Z"
   },
   {
    "duration": 117,
    "start_time": "2023-08-26T06:27:13.135Z"
   },
   {
    "duration": 12,
    "start_time": "2023-08-26T06:27:13.254Z"
   },
   {
    "duration": 23,
    "start_time": "2023-08-26T06:27:13.268Z"
   },
   {
    "duration": 13,
    "start_time": "2023-08-26T06:27:13.293Z"
   },
   {
    "duration": 15,
    "start_time": "2023-08-26T06:27:13.308Z"
   },
   {
    "duration": 21,
    "start_time": "2023-08-26T06:27:13.325Z"
   },
   {
    "duration": 10,
    "start_time": "2023-08-26T06:27:13.348Z"
   },
   {
    "duration": 189,
    "start_time": "2023-08-26T06:27:13.360Z"
   },
   {
    "duration": 139,
    "start_time": "2023-08-26T06:27:13.551Z"
   },
   {
    "duration": 160,
    "start_time": "2023-08-26T06:27:13.692Z"
   },
   {
    "duration": 157,
    "start_time": "2023-08-26T06:27:13.854Z"
   },
   {
    "duration": 160,
    "start_time": "2023-08-26T06:27:14.012Z"
   },
   {
    "duration": 8,
    "start_time": "2023-08-26T06:27:14.180Z"
   },
   {
    "duration": 161,
    "start_time": "2023-08-26T06:27:14.190Z"
   },
   {
    "duration": 123,
    "start_time": "2023-08-26T06:29:45.421Z"
   },
   {
    "duration": 143,
    "start_time": "2023-08-26T06:30:46.368Z"
   },
   {
    "duration": 130,
    "start_time": "2023-08-26T06:31:20.742Z"
   },
   {
    "duration": 121,
    "start_time": "2023-08-26T06:31:49.538Z"
   },
   {
    "duration": 3,
    "start_time": "2023-08-26T06:31:53.037Z"
   },
   {
    "duration": 113,
    "start_time": "2023-08-26T06:31:53.043Z"
   },
   {
    "duration": 11,
    "start_time": "2023-08-26T06:31:53.157Z"
   },
   {
    "duration": 26,
    "start_time": "2023-08-26T06:31:53.170Z"
   },
   {
    "duration": 13,
    "start_time": "2023-08-26T06:31:53.202Z"
   },
   {
    "duration": 6,
    "start_time": "2023-08-26T06:31:53.217Z"
   },
   {
    "duration": 9,
    "start_time": "2023-08-26T06:31:53.225Z"
   },
   {
    "duration": 6,
    "start_time": "2023-08-26T06:31:53.236Z"
   },
   {
    "duration": 199,
    "start_time": "2023-08-26T06:31:53.243Z"
   },
   {
    "duration": 221,
    "start_time": "2023-08-26T06:31:53.443Z"
   },
   {
    "duration": 163,
    "start_time": "2023-08-26T06:31:53.666Z"
   },
   {
    "duration": 146,
    "start_time": "2023-08-26T06:31:53.831Z"
   },
   {
    "duration": 150,
    "start_time": "2023-08-26T06:31:53.980Z"
   },
   {
    "duration": 8,
    "start_time": "2023-08-26T06:31:54.132Z"
   },
   {
    "duration": 146,
    "start_time": "2023-08-26T06:31:54.141Z"
   },
   {
    "duration": 135,
    "start_time": "2023-08-26T06:31:54.292Z"
   },
   {
    "duration": 143,
    "start_time": "2023-08-26T06:31:54.429Z"
   },
   {
    "duration": 7,
    "start_time": "2023-08-26T06:34:16.497Z"
   },
   {
    "duration": 24,
    "start_time": "2023-08-26T07:17:45.020Z"
   },
   {
    "duration": 19,
    "start_time": "2023-08-26T07:19:39.972Z"
   },
   {
    "duration": 4579,
    "start_time": "2023-08-26T07:19:44.522Z"
   },
   {
    "duration": 4,
    "start_time": "2023-08-26T07:20:26.924Z"
   },
   {
    "duration": 109,
    "start_time": "2023-08-26T07:20:26.930Z"
   },
   {
    "duration": 12,
    "start_time": "2023-08-26T07:20:27.041Z"
   },
   {
    "duration": 25,
    "start_time": "2023-08-26T07:20:27.055Z"
   },
   {
    "duration": 21,
    "start_time": "2023-08-26T07:20:27.086Z"
   },
   {
    "duration": 5,
    "start_time": "2023-08-26T07:20:27.109Z"
   },
   {
    "duration": 19,
    "start_time": "2023-08-26T07:20:27.116Z"
   },
   {
    "duration": 38,
    "start_time": "2023-08-26T07:20:27.137Z"
   },
   {
    "duration": 221,
    "start_time": "2023-08-26T07:20:27.177Z"
   },
   {
    "duration": 122,
    "start_time": "2023-08-26T07:20:27.400Z"
   },
   {
    "duration": 173,
    "start_time": "2023-08-26T07:20:27.523Z"
   },
   {
    "duration": 161,
    "start_time": "2023-08-26T07:20:27.698Z"
   },
   {
    "duration": 157,
    "start_time": "2023-08-26T07:20:27.861Z"
   },
   {
    "duration": 8,
    "start_time": "2023-08-26T07:20:28.021Z"
   },
   {
    "duration": 171,
    "start_time": "2023-08-26T07:20:28.031Z"
   },
   {
    "duration": 140,
    "start_time": "2023-08-26T07:20:28.204Z"
   },
   {
    "duration": 9,
    "start_time": "2023-08-26T07:20:28.345Z"
   },
   {
    "duration": 58,
    "start_time": "2023-08-26T07:20:28.355Z"
   },
   {
    "duration": 43,
    "start_time": "2023-08-26T07:24:49.543Z"
   },
   {
    "duration": 4,
    "start_time": "2023-08-26T07:27:41.925Z"
   },
   {
    "duration": 152,
    "start_time": "2023-08-26T07:27:41.932Z"
   },
   {
    "duration": 21,
    "start_time": "2023-08-26T07:27:42.086Z"
   },
   {
    "duration": 16,
    "start_time": "2023-08-26T07:27:42.110Z"
   },
   {
    "duration": 21,
    "start_time": "2023-08-26T07:27:42.130Z"
   },
   {
    "duration": 8,
    "start_time": "2023-08-26T07:27:42.153Z"
   },
   {
    "duration": 32,
    "start_time": "2023-08-26T07:27:42.163Z"
   },
   {
    "duration": 10,
    "start_time": "2023-08-26T07:27:42.199Z"
   },
   {
    "duration": 224,
    "start_time": "2023-08-26T07:27:42.211Z"
   },
   {
    "duration": 256,
    "start_time": "2023-08-26T07:27:42.437Z"
   },
   {
    "duration": 172,
    "start_time": "2023-08-26T07:27:42.695Z"
   },
   {
    "duration": 207,
    "start_time": "2023-08-26T07:27:42.869Z"
   },
   {
    "duration": 188,
    "start_time": "2023-08-26T07:27:43.083Z"
   },
   {
    "duration": 18,
    "start_time": "2023-08-26T07:27:43.275Z"
   },
   {
    "duration": 132,
    "start_time": "2023-08-26T07:27:43.296Z"
   },
   {
    "duration": 146,
    "start_time": "2023-08-26T07:27:43.430Z"
   },
   {
    "duration": 16,
    "start_time": "2023-08-26T07:27:43.577Z"
   },
   {
    "duration": 32,
    "start_time": "2023-08-26T07:27:43.599Z"
   },
   {
    "duration": 31,
    "start_time": "2023-08-26T07:27:43.633Z"
   },
   {
    "duration": 3,
    "start_time": "2023-08-26T07:27:58.561Z"
   },
   {
    "duration": 142,
    "start_time": "2023-08-26T07:27:58.567Z"
   },
   {
    "duration": 13,
    "start_time": "2023-08-26T07:27:58.710Z"
   },
   {
    "duration": 16,
    "start_time": "2023-08-26T07:27:58.726Z"
   },
   {
    "duration": 18,
    "start_time": "2023-08-26T07:27:58.745Z"
   },
   {
    "duration": 13,
    "start_time": "2023-08-26T07:27:58.783Z"
   },
   {
    "duration": 16,
    "start_time": "2023-08-26T07:27:58.800Z"
   },
   {
    "duration": 8,
    "start_time": "2023-08-26T07:27:58.819Z"
   },
   {
    "duration": 237,
    "start_time": "2023-08-26T07:27:58.829Z"
   },
   {
    "duration": 160,
    "start_time": "2023-08-26T07:27:59.068Z"
   },
   {
    "duration": 177,
    "start_time": "2023-08-26T07:27:59.230Z"
   },
   {
    "duration": 178,
    "start_time": "2023-08-26T07:27:59.409Z"
   },
   {
    "duration": 174,
    "start_time": "2023-08-26T07:27:59.589Z"
   },
   {
    "duration": 23,
    "start_time": "2023-08-26T07:27:59.767Z"
   },
   {
    "duration": 135,
    "start_time": "2023-08-26T07:27:59.792Z"
   },
   {
    "duration": 183,
    "start_time": "2023-08-26T07:27:59.929Z"
   },
   {
    "duration": 14,
    "start_time": "2023-08-26T07:28:00.116Z"
   },
   {
    "duration": 47,
    "start_time": "2023-08-26T07:28:00.132Z"
   },
   {
    "duration": 29,
    "start_time": "2023-08-26T07:28:00.183Z"
   },
   {
    "duration": 24,
    "start_time": "2023-08-26T07:29:15.502Z"
   },
   {
    "duration": 3,
    "start_time": "2023-08-26T07:29:17.714Z"
   },
   {
    "duration": 143,
    "start_time": "2023-08-26T07:29:17.720Z"
   },
   {
    "duration": 19,
    "start_time": "2023-08-26T07:29:17.866Z"
   },
   {
    "duration": 30,
    "start_time": "2023-08-26T07:29:17.887Z"
   },
   {
    "duration": 30,
    "start_time": "2023-08-26T07:29:17.921Z"
   },
   {
    "duration": 10,
    "start_time": "2023-08-26T07:29:17.953Z"
   },
   {
    "duration": 43,
    "start_time": "2023-08-26T07:29:17.966Z"
   },
   {
    "duration": 29,
    "start_time": "2023-08-26T07:29:18.011Z"
   },
   {
    "duration": 205,
    "start_time": "2023-08-26T07:29:18.042Z"
   },
   {
    "duration": 201,
    "start_time": "2023-08-26T07:29:18.250Z"
   },
   {
    "duration": 241,
    "start_time": "2023-08-26T07:29:18.456Z"
   },
   {
    "duration": 167,
    "start_time": "2023-08-26T07:29:18.700Z"
   },
   {
    "duration": 180,
    "start_time": "2023-08-26T07:29:18.869Z"
   },
   {
    "duration": 10,
    "start_time": "2023-08-26T07:29:19.054Z"
   },
   {
    "duration": 296,
    "start_time": "2023-08-26T07:29:19.066Z"
   },
   {
    "duration": 223,
    "start_time": "2023-08-26T07:29:19.364Z"
   },
   {
    "duration": 10,
    "start_time": "2023-08-26T07:29:19.590Z"
   },
   {
    "duration": 29,
    "start_time": "2023-08-26T07:29:19.602Z"
   },
   {
    "duration": 54,
    "start_time": "2023-08-26T07:29:19.633Z"
   },
   {
    "duration": 33,
    "start_time": "2023-08-26T07:29:19.689Z"
   },
   {
    "duration": 3,
    "start_time": "2023-08-26T07:31:27.823Z"
   },
   {
    "duration": 113,
    "start_time": "2023-08-26T07:31:27.828Z"
   },
   {
    "duration": 11,
    "start_time": "2023-08-26T07:31:27.943Z"
   },
   {
    "duration": 16,
    "start_time": "2023-08-26T07:31:27.956Z"
   },
   {
    "duration": 47,
    "start_time": "2023-08-26T07:31:27.974Z"
   },
   {
    "duration": 7,
    "start_time": "2023-08-26T07:31:28.023Z"
   },
   {
    "duration": 29,
    "start_time": "2023-08-26T07:31:28.032Z"
   },
   {
    "duration": 7,
    "start_time": "2023-08-26T07:31:28.063Z"
   },
   {
    "duration": 182,
    "start_time": "2023-08-26T07:31:28.072Z"
   },
   {
    "duration": 140,
    "start_time": "2023-08-26T07:31:28.257Z"
   },
   {
    "duration": 176,
    "start_time": "2023-08-26T07:31:28.399Z"
   },
   {
    "duration": 164,
    "start_time": "2023-08-26T07:31:28.578Z"
   },
   {
    "duration": 169,
    "start_time": "2023-08-26T07:31:28.744Z"
   },
   {
    "duration": 7,
    "start_time": "2023-08-26T07:31:28.914Z"
   },
   {
    "duration": 140,
    "start_time": "2023-08-26T07:31:28.923Z"
   },
   {
    "duration": 150,
    "start_time": "2023-08-26T07:31:29.065Z"
   },
   {
    "duration": 9,
    "start_time": "2023-08-26T07:31:29.217Z"
   },
   {
    "duration": 35,
    "start_time": "2023-08-26T07:31:29.228Z"
   },
   {
    "duration": 40,
    "start_time": "2023-08-26T07:31:29.266Z"
   },
   {
    "duration": 35,
    "start_time": "2023-08-26T07:31:29.308Z"
   },
   {
    "duration": 298,
    "start_time": "2023-08-26T07:40:34.951Z"
   },
   {
    "duration": 313,
    "start_time": "2023-08-26T07:42:07.834Z"
   },
   {
    "duration": 318,
    "start_time": "2023-08-26T07:42:13.854Z"
   },
   {
    "duration": 286,
    "start_time": "2023-08-26T07:42:20.429Z"
   },
   {
    "duration": 257,
    "start_time": "2023-08-26T07:42:23.668Z"
   },
   {
    "duration": 241,
    "start_time": "2023-08-26T07:42:28.102Z"
   },
   {
    "duration": 264,
    "start_time": "2023-08-26T07:43:45.606Z"
   },
   {
    "duration": 43,
    "start_time": "2023-08-26T10:26:30.295Z"
   },
   {
    "duration": 376,
    "start_time": "2023-08-26T10:26:47.078Z"
   },
   {
    "duration": 283,
    "start_time": "2023-08-26T10:26:47.461Z"
   },
   {
    "duration": 14,
    "start_time": "2023-08-26T10:26:47.745Z"
   },
   {
    "duration": 12,
    "start_time": "2023-08-26T10:26:47.765Z"
   },
   {
    "duration": 14,
    "start_time": "2023-08-26T10:26:47.779Z"
   },
   {
    "duration": 6,
    "start_time": "2023-08-26T10:26:47.795Z"
   },
   {
    "duration": 25,
    "start_time": "2023-08-26T10:26:47.802Z"
   },
   {
    "duration": 6,
    "start_time": "2023-08-26T10:26:47.829Z"
   },
   {
    "duration": 566,
    "start_time": "2023-08-26T10:26:47.836Z"
   },
   {
    "duration": 120,
    "start_time": "2023-08-26T10:26:48.404Z"
   },
   {
    "duration": 147,
    "start_time": "2023-08-26T10:26:48.526Z"
   },
   {
    "duration": 122,
    "start_time": "2023-08-26T10:26:48.679Z"
   },
   {
    "duration": 184,
    "start_time": "2023-08-26T10:26:48.803Z"
   },
   {
    "duration": 8,
    "start_time": "2023-08-26T10:26:48.990Z"
   },
   {
    "duration": 124,
    "start_time": "2023-08-26T10:26:48.999Z"
   },
   {
    "duration": 118,
    "start_time": "2023-08-26T10:26:49.125Z"
   },
   {
    "duration": 12,
    "start_time": "2023-08-26T10:26:49.245Z"
   },
   {
    "duration": 39,
    "start_time": "2023-08-26T10:26:49.263Z"
   },
   {
    "duration": 14,
    "start_time": "2023-08-26T10:26:49.303Z"
   },
   {
    "duration": 16,
    "start_time": "2023-08-26T10:26:49.318Z"
   },
   {
    "duration": 232,
    "start_time": "2023-08-26T10:26:49.336Z"
   },
   {
    "duration": 2,
    "start_time": "2023-08-26T10:27:27.341Z"
   },
   {
    "duration": 117,
    "start_time": "2023-08-26T10:27:27.345Z"
   },
   {
    "duration": 15,
    "start_time": "2023-08-26T10:27:27.467Z"
   },
   {
    "duration": 8,
    "start_time": "2023-08-26T10:27:27.484Z"
   },
   {
    "duration": 9,
    "start_time": "2023-08-26T10:27:27.494Z"
   },
   {
    "duration": 4,
    "start_time": "2023-08-26T10:27:27.504Z"
   },
   {
    "duration": 8,
    "start_time": "2023-08-26T10:27:27.510Z"
   },
   {
    "duration": 5,
    "start_time": "2023-08-26T10:27:27.519Z"
   },
   {
    "duration": 169,
    "start_time": "2023-08-26T10:27:27.526Z"
   },
   {
    "duration": 110,
    "start_time": "2023-08-26T10:27:27.697Z"
   },
   {
    "duration": 132,
    "start_time": "2023-08-26T10:27:27.809Z"
   },
   {
    "duration": 143,
    "start_time": "2023-08-26T10:27:27.942Z"
   },
   {
    "duration": 130,
    "start_time": "2023-08-26T10:27:28.087Z"
   },
   {
    "duration": 7,
    "start_time": "2023-08-26T10:27:28.219Z"
   },
   {
    "duration": 121,
    "start_time": "2023-08-26T10:27:28.227Z"
   },
   {
    "duration": 186,
    "start_time": "2023-08-26T10:27:28.349Z"
   },
   {
    "duration": 6,
    "start_time": "2023-08-26T10:27:28.537Z"
   },
   {
    "duration": 48,
    "start_time": "2023-08-26T10:27:28.545Z"
   },
   {
    "duration": 20,
    "start_time": "2023-08-26T10:27:28.594Z"
   },
   {
    "duration": 14,
    "start_time": "2023-08-26T10:27:28.616Z"
   },
   {
    "duration": 234,
    "start_time": "2023-08-26T10:27:28.631Z"
   },
   {
    "duration": 3,
    "start_time": "2023-08-26T10:28:17.178Z"
   },
   {
    "duration": 106,
    "start_time": "2023-08-26T10:28:17.183Z"
   },
   {
    "duration": 10,
    "start_time": "2023-08-26T10:28:17.291Z"
   },
   {
    "duration": 10,
    "start_time": "2023-08-26T10:28:17.302Z"
   },
   {
    "duration": 10,
    "start_time": "2023-08-26T10:28:17.314Z"
   },
   {
    "duration": 31,
    "start_time": "2023-08-26T10:28:17.326Z"
   },
   {
    "duration": 34,
    "start_time": "2023-08-26T10:28:17.358Z"
   },
   {
    "duration": 12,
    "start_time": "2023-08-26T10:28:17.394Z"
   },
   {
    "duration": 141,
    "start_time": "2023-08-26T10:28:17.407Z"
   },
   {
    "duration": 128,
    "start_time": "2023-08-26T10:28:17.555Z"
   },
   {
    "duration": 145,
    "start_time": "2023-08-26T10:28:17.685Z"
   },
   {
    "duration": 155,
    "start_time": "2023-08-26T10:28:17.832Z"
   },
   {
    "duration": 128,
    "start_time": "2023-08-26T10:28:17.991Z"
   },
   {
    "duration": 9,
    "start_time": "2023-08-26T10:28:18.121Z"
   },
   {
    "duration": 145,
    "start_time": "2023-08-26T10:28:18.131Z"
   },
   {
    "duration": 121,
    "start_time": "2023-08-26T10:28:18.282Z"
   },
   {
    "duration": 7,
    "start_time": "2023-08-26T10:28:18.405Z"
   },
   {
    "duration": 60,
    "start_time": "2023-08-26T10:28:18.414Z"
   },
   {
    "duration": 19,
    "start_time": "2023-08-26T10:28:18.481Z"
   },
   {
    "duration": 15,
    "start_time": "2023-08-26T10:28:18.501Z"
   },
   {
    "duration": 221,
    "start_time": "2023-08-26T10:28:18.518Z"
   },
   {
    "duration": 209,
    "start_time": "2023-08-26T10:30:10.117Z"
   },
   {
    "duration": 4,
    "start_time": "2023-08-26T10:30:13.246Z"
   },
   {
    "duration": 133,
    "start_time": "2023-08-26T10:30:13.252Z"
   },
   {
    "duration": 11,
    "start_time": "2023-08-26T10:30:13.386Z"
   },
   {
    "duration": 13,
    "start_time": "2023-08-26T10:30:13.399Z"
   },
   {
    "duration": 13,
    "start_time": "2023-08-26T10:30:13.414Z"
   },
   {
    "duration": 26,
    "start_time": "2023-08-26T10:30:13.429Z"
   },
   {
    "duration": 90,
    "start_time": "2023-08-26T10:30:13.456Z"
   },
   {
    "duration": 8,
    "start_time": "2023-08-26T10:30:13.549Z"
   },
   {
    "duration": 153,
    "start_time": "2023-08-26T10:30:13.559Z"
   },
   {
    "duration": 120,
    "start_time": "2023-08-26T10:30:13.714Z"
   },
   {
    "duration": 153,
    "start_time": "2023-08-26T10:30:13.835Z"
   },
   {
    "duration": 125,
    "start_time": "2023-08-26T10:30:13.990Z"
   },
   {
    "duration": 142,
    "start_time": "2023-08-26T10:30:14.116Z"
   },
   {
    "duration": 11,
    "start_time": "2023-08-26T10:30:14.261Z"
   },
   {
    "duration": 131,
    "start_time": "2023-08-26T10:30:14.273Z"
   },
   {
    "duration": 138,
    "start_time": "2023-08-26T10:30:14.406Z"
   },
   {
    "duration": 11,
    "start_time": "2023-08-26T10:30:14.546Z"
   },
   {
    "duration": 36,
    "start_time": "2023-08-26T10:30:14.558Z"
   },
   {
    "duration": 15,
    "start_time": "2023-08-26T10:30:14.596Z"
   },
   {
    "duration": 13,
    "start_time": "2023-08-26T10:30:14.613Z"
   },
   {
    "duration": 229,
    "start_time": "2023-08-26T10:30:14.627Z"
   },
   {
    "duration": 231,
    "start_time": "2023-08-26T10:30:14.858Z"
   },
   {
    "duration": 2,
    "start_time": "2023-08-26T10:30:38.278Z"
   },
   {
    "duration": 142,
    "start_time": "2023-08-26T10:30:38.286Z"
   },
   {
    "duration": 12,
    "start_time": "2023-08-26T10:30:38.429Z"
   },
   {
    "duration": 38,
    "start_time": "2023-08-26T10:30:38.443Z"
   },
   {
    "duration": 18,
    "start_time": "2023-08-26T10:30:38.484Z"
   },
   {
    "duration": 12,
    "start_time": "2023-08-26T10:30:38.503Z"
   },
   {
    "duration": 13,
    "start_time": "2023-08-26T10:30:38.516Z"
   },
   {
    "duration": 7,
    "start_time": "2023-08-26T10:30:38.531Z"
   },
   {
    "duration": 160,
    "start_time": "2023-08-26T10:30:38.540Z"
   },
   {
    "duration": 132,
    "start_time": "2023-08-26T10:30:38.702Z"
   },
   {
    "duration": 245,
    "start_time": "2023-08-26T10:30:38.836Z"
   },
   {
    "duration": 163,
    "start_time": "2023-08-26T10:30:39.082Z"
   },
   {
    "duration": 146,
    "start_time": "2023-08-26T10:30:39.249Z"
   },
   {
    "duration": 7,
    "start_time": "2023-08-26T10:30:39.397Z"
   },
   {
    "duration": 152,
    "start_time": "2023-08-26T10:30:39.405Z"
   },
   {
    "duration": 127,
    "start_time": "2023-08-26T10:30:39.562Z"
   },
   {
    "duration": 7,
    "start_time": "2023-08-26T10:30:39.690Z"
   },
   {
    "duration": 28,
    "start_time": "2023-08-26T10:30:39.699Z"
   },
   {
    "duration": 18,
    "start_time": "2023-08-26T10:30:39.729Z"
   },
   {
    "duration": 16,
    "start_time": "2023-08-26T10:30:39.751Z"
   },
   {
    "duration": 242,
    "start_time": "2023-08-26T10:30:39.769Z"
   },
   {
    "duration": 227,
    "start_time": "2023-08-26T10:30:40.013Z"
   },
   {
    "duration": 3,
    "start_time": "2023-08-26T10:31:54.286Z"
   },
   {
    "duration": 138,
    "start_time": "2023-08-26T10:31:54.291Z"
   },
   {
    "duration": 11,
    "start_time": "2023-08-26T10:31:54.431Z"
   },
   {
    "duration": 15,
    "start_time": "2023-08-26T10:31:54.444Z"
   },
   {
    "duration": 16,
    "start_time": "2023-08-26T10:31:54.461Z"
   },
   {
    "duration": 18,
    "start_time": "2023-08-26T10:31:54.479Z"
   },
   {
    "duration": 14,
    "start_time": "2023-08-26T10:31:54.498Z"
   },
   {
    "duration": 7,
    "start_time": "2023-08-26T10:31:54.514Z"
   },
   {
    "duration": 180,
    "start_time": "2023-08-26T10:31:54.522Z"
   },
   {
    "duration": 120,
    "start_time": "2023-08-26T10:31:54.704Z"
   },
   {
    "duration": 143,
    "start_time": "2023-08-26T10:31:54.826Z"
   },
   {
    "duration": 150,
    "start_time": "2023-08-26T10:31:54.970Z"
   },
   {
    "duration": 160,
    "start_time": "2023-08-26T10:31:55.122Z"
   },
   {
    "duration": 9,
    "start_time": "2023-08-26T10:31:55.285Z"
   },
   {
    "duration": 127,
    "start_time": "2023-08-26T10:31:55.295Z"
   },
   {
    "duration": 254,
    "start_time": "2023-08-26T10:31:55.431Z"
   },
   {
    "duration": 8,
    "start_time": "2023-08-26T10:31:55.690Z"
   },
   {
    "duration": 37,
    "start_time": "2023-08-26T10:31:55.701Z"
   },
   {
    "duration": 32,
    "start_time": "2023-08-26T10:31:55.740Z"
   },
   {
    "duration": 26,
    "start_time": "2023-08-26T10:31:55.774Z"
   },
   {
    "duration": 255,
    "start_time": "2023-08-26T10:31:55.802Z"
   },
   {
    "duration": 269,
    "start_time": "2023-08-26T10:31:56.059Z"
   },
   {
    "duration": 3,
    "start_time": "2023-08-26T10:32:28.984Z"
   },
   {
    "duration": 129,
    "start_time": "2023-08-26T10:32:28.989Z"
   },
   {
    "duration": 14,
    "start_time": "2023-08-26T10:32:29.120Z"
   },
   {
    "duration": 11,
    "start_time": "2023-08-26T10:32:29.136Z"
   },
   {
    "duration": 11,
    "start_time": "2023-08-26T10:32:29.150Z"
   },
   {
    "duration": 15,
    "start_time": "2023-08-26T10:32:29.165Z"
   },
   {
    "duration": 11,
    "start_time": "2023-08-26T10:32:29.182Z"
   },
   {
    "duration": 7,
    "start_time": "2023-08-26T10:32:29.195Z"
   },
   {
    "duration": 162,
    "start_time": "2023-08-26T10:32:29.203Z"
   },
   {
    "duration": 127,
    "start_time": "2023-08-26T10:32:29.366Z"
   },
   {
    "duration": 136,
    "start_time": "2023-08-26T10:32:29.494Z"
   },
   {
    "duration": 143,
    "start_time": "2023-08-26T10:32:29.632Z"
   },
   {
    "duration": 135,
    "start_time": "2023-08-26T10:32:29.783Z"
   },
   {
    "duration": 7,
    "start_time": "2023-08-26T10:32:29.921Z"
   },
   {
    "duration": 127,
    "start_time": "2023-08-26T10:32:29.929Z"
   },
   {
    "duration": 140,
    "start_time": "2023-08-26T10:32:30.058Z"
   },
   {
    "duration": 8,
    "start_time": "2023-08-26T10:32:30.200Z"
   },
   {
    "duration": 74,
    "start_time": "2023-08-26T10:32:30.210Z"
   },
   {
    "duration": 75,
    "start_time": "2023-08-26T10:32:30.288Z"
   },
   {
    "duration": 53,
    "start_time": "2023-08-26T10:32:30.364Z"
   },
   {
    "duration": 293,
    "start_time": "2023-08-26T10:32:30.419Z"
   },
   {
    "duration": 256,
    "start_time": "2023-08-26T10:32:30.714Z"
   },
   {
    "duration": 3,
    "start_time": "2023-08-26T10:33:15.938Z"
   },
   {
    "duration": 149,
    "start_time": "2023-08-26T10:33:15.944Z"
   },
   {
    "duration": 15,
    "start_time": "2023-08-26T10:33:16.095Z"
   },
   {
    "duration": 11,
    "start_time": "2023-08-26T10:33:16.112Z"
   },
   {
    "duration": 11,
    "start_time": "2023-08-26T10:33:16.125Z"
   },
   {
    "duration": 6,
    "start_time": "2023-08-26T10:33:16.155Z"
   },
   {
    "duration": 13,
    "start_time": "2023-08-26T10:33:16.163Z"
   },
   {
    "duration": 10,
    "start_time": "2023-08-26T10:33:16.183Z"
   },
   {
    "duration": 192,
    "start_time": "2023-08-26T10:33:16.195Z"
   },
   {
    "duration": 119,
    "start_time": "2023-08-26T10:33:16.388Z"
   },
   {
    "duration": 254,
    "start_time": "2023-08-26T10:33:16.509Z"
   },
   {
    "duration": 128,
    "start_time": "2023-08-26T10:33:16.766Z"
   },
   {
    "duration": 138,
    "start_time": "2023-08-26T10:33:16.895Z"
   },
   {
    "duration": 6,
    "start_time": "2023-08-26T10:33:17.034Z"
   },
   {
    "duration": 118,
    "start_time": "2023-08-26T10:33:17.042Z"
   },
   {
    "duration": 125,
    "start_time": "2023-08-26T10:33:17.162Z"
   },
   {
    "duration": 7,
    "start_time": "2023-08-26T10:33:17.289Z"
   },
   {
    "duration": 21,
    "start_time": "2023-08-26T10:33:17.297Z"
   },
   {
    "duration": 38,
    "start_time": "2023-08-26T10:33:17.319Z"
   },
   {
    "duration": 26,
    "start_time": "2023-08-26T10:33:17.358Z"
   },
   {
    "duration": 218,
    "start_time": "2023-08-26T10:33:17.386Z"
   },
   {
    "duration": 213,
    "start_time": "2023-08-26T10:33:17.605Z"
   },
   {
    "duration": 3,
    "start_time": "2023-08-26T10:33:28.242Z"
   },
   {
    "duration": 128,
    "start_time": "2023-08-26T10:33:28.246Z"
   },
   {
    "duration": 13,
    "start_time": "2023-08-26T10:33:28.375Z"
   },
   {
    "duration": 11,
    "start_time": "2023-08-26T10:33:28.390Z"
   },
   {
    "duration": 10,
    "start_time": "2023-08-26T10:33:28.403Z"
   },
   {
    "duration": 5,
    "start_time": "2023-08-26T10:33:28.414Z"
   },
   {
    "duration": 7,
    "start_time": "2023-08-26T10:33:28.421Z"
   },
   {
    "duration": 27,
    "start_time": "2023-08-26T10:33:28.430Z"
   },
   {
    "duration": 160,
    "start_time": "2023-08-26T10:33:28.458Z"
   },
   {
    "duration": 106,
    "start_time": "2023-08-26T10:33:28.619Z"
   },
   {
    "duration": 142,
    "start_time": "2023-08-26T10:33:28.727Z"
   },
   {
    "duration": 131,
    "start_time": "2023-08-26T10:33:28.870Z"
   },
   {
    "duration": 136,
    "start_time": "2023-08-26T10:33:29.002Z"
   },
   {
    "duration": 12,
    "start_time": "2023-08-26T10:33:29.141Z"
   },
   {
    "duration": 124,
    "start_time": "2023-08-26T10:33:29.155Z"
   },
   {
    "duration": 117,
    "start_time": "2023-08-26T10:33:29.282Z"
   },
   {
    "duration": 6,
    "start_time": "2023-08-26T10:33:29.400Z"
   },
   {
    "duration": 57,
    "start_time": "2023-08-26T10:33:29.407Z"
   },
   {
    "duration": 24,
    "start_time": "2023-08-26T10:33:29.471Z"
   },
   {
    "duration": 15,
    "start_time": "2023-08-26T10:33:29.496Z"
   },
   {
    "duration": 196,
    "start_time": "2023-08-26T10:33:29.512Z"
   },
   {
    "duration": 218,
    "start_time": "2023-08-26T10:33:29.709Z"
   },
   {
    "duration": 3,
    "start_time": "2023-08-26T10:33:38.780Z"
   },
   {
    "duration": 117,
    "start_time": "2023-08-26T10:33:38.785Z"
   },
   {
    "duration": 10,
    "start_time": "2023-08-26T10:33:38.903Z"
   },
   {
    "duration": 18,
    "start_time": "2023-08-26T10:33:38.914Z"
   },
   {
    "duration": 11,
    "start_time": "2023-08-26T10:33:38.934Z"
   },
   {
    "duration": 5,
    "start_time": "2023-08-26T10:33:38.946Z"
   },
   {
    "duration": 11,
    "start_time": "2023-08-26T10:33:38.952Z"
   },
   {
    "duration": 27,
    "start_time": "2023-08-26T10:33:38.964Z"
   },
   {
    "duration": 294,
    "start_time": "2023-08-26T10:33:38.993Z"
   },
   {
    "duration": 110,
    "start_time": "2023-08-26T10:33:39.288Z"
   },
   {
    "duration": 134,
    "start_time": "2023-08-26T10:33:39.399Z"
   },
   {
    "duration": 145,
    "start_time": "2023-08-26T10:33:39.535Z"
   },
   {
    "duration": 131,
    "start_time": "2023-08-26T10:33:39.682Z"
   },
   {
    "duration": 7,
    "start_time": "2023-08-26T10:33:39.815Z"
   },
   {
    "duration": 137,
    "start_time": "2023-08-26T10:33:39.824Z"
   },
   {
    "duration": 170,
    "start_time": "2023-08-26T10:33:39.963Z"
   },
   {
    "duration": 6,
    "start_time": "2023-08-26T10:33:40.135Z"
   },
   {
    "duration": 30,
    "start_time": "2023-08-26T10:33:40.155Z"
   },
   {
    "duration": 16,
    "start_time": "2023-08-26T10:33:40.187Z"
   },
   {
    "duration": 14,
    "start_time": "2023-08-26T10:33:40.204Z"
   },
   {
    "duration": 248,
    "start_time": "2023-08-26T10:33:40.220Z"
   },
   {
    "duration": 232,
    "start_time": "2023-08-26T10:33:40.469Z"
   },
   {
    "duration": 9,
    "start_time": "2023-08-26T10:33:59.563Z"
   },
   {
    "duration": 101,
    "start_time": "2023-08-26T10:33:59.575Z"
   },
   {
    "duration": 14,
    "start_time": "2023-08-26T10:33:59.678Z"
   },
   {
    "duration": 9,
    "start_time": "2023-08-26T10:33:59.693Z"
   },
   {
    "duration": 23,
    "start_time": "2023-08-26T10:33:59.704Z"
   },
   {
    "duration": 36,
    "start_time": "2023-08-26T10:33:59.729Z"
   },
   {
    "duration": 11,
    "start_time": "2023-08-26T10:33:59.773Z"
   },
   {
    "duration": 6,
    "start_time": "2023-08-26T10:33:59.785Z"
   },
   {
    "duration": 142,
    "start_time": "2023-08-26T10:33:59.792Z"
   },
   {
    "duration": 137,
    "start_time": "2023-08-26T10:33:59.936Z"
   },
   {
    "duration": 127,
    "start_time": "2023-08-26T10:34:00.075Z"
   },
   {
    "duration": 128,
    "start_time": "2023-08-26T10:34:00.204Z"
   },
   {
    "duration": 144,
    "start_time": "2023-08-26T10:34:00.334Z"
   },
   {
    "duration": 11,
    "start_time": "2023-08-26T10:34:00.481Z"
   },
   {
    "duration": 154,
    "start_time": "2023-08-26T10:34:00.493Z"
   },
   {
    "duration": 134,
    "start_time": "2023-08-26T10:34:00.648Z"
   },
   {
    "duration": 6,
    "start_time": "2023-08-26T10:34:00.784Z"
   },
   {
    "duration": 80,
    "start_time": "2023-08-26T10:34:00.792Z"
   },
   {
    "duration": 16,
    "start_time": "2023-08-26T10:34:00.879Z"
   },
   {
    "duration": 63,
    "start_time": "2023-08-26T10:34:00.897Z"
   },
   {
    "duration": 255,
    "start_time": "2023-08-26T10:34:00.961Z"
   },
   {
    "duration": 210,
    "start_time": "2023-08-26T10:34:01.218Z"
   },
   {
    "duration": 4,
    "start_time": "2023-08-26T10:59:56.270Z"
   },
   {
    "duration": 137,
    "start_time": "2023-08-26T10:59:56.275Z"
   },
   {
    "duration": 10,
    "start_time": "2023-08-26T10:59:56.413Z"
   },
   {
    "duration": 10,
    "start_time": "2023-08-26T10:59:56.424Z"
   },
   {
    "duration": 16,
    "start_time": "2023-08-26T10:59:56.436Z"
   },
   {
    "duration": 16,
    "start_time": "2023-08-26T10:59:56.454Z"
   },
   {
    "duration": 29,
    "start_time": "2023-08-26T10:59:56.471Z"
   },
   {
    "duration": 9,
    "start_time": "2023-08-26T10:59:56.502Z"
   },
   {
    "duration": 167,
    "start_time": "2023-08-26T10:59:56.513Z"
   },
   {
    "duration": 247,
    "start_time": "2023-08-26T10:59:56.688Z"
   },
   {
    "duration": 150,
    "start_time": "2023-08-26T10:59:56.937Z"
   },
   {
    "duration": 122,
    "start_time": "2023-08-26T10:59:57.092Z"
   },
   {
    "duration": 130,
    "start_time": "2023-08-26T10:59:57.215Z"
   },
   {
    "duration": 8,
    "start_time": "2023-08-26T10:59:57.350Z"
   },
   {
    "duration": 128,
    "start_time": "2023-08-26T10:59:57.363Z"
   },
   {
    "duration": 120,
    "start_time": "2023-08-26T10:59:57.492Z"
   },
   {
    "duration": 6,
    "start_time": "2023-08-26T10:59:57.613Z"
   },
   {
    "duration": 42,
    "start_time": "2023-08-26T10:59:57.620Z"
   },
   {
    "duration": 24,
    "start_time": "2023-08-26T10:59:57.665Z"
   },
   {
    "duration": 17,
    "start_time": "2023-08-26T10:59:57.691Z"
   },
   {
    "duration": 201,
    "start_time": "2023-08-26T10:59:57.710Z"
   },
   {
    "duration": 232,
    "start_time": "2023-08-26T10:59:57.913Z"
   },
   {
    "duration": 17,
    "start_time": "2023-08-26T10:59:58.147Z"
   },
   {
    "duration": 3,
    "start_time": "2023-08-26T11:01:06.151Z"
   },
   {
    "duration": 158,
    "start_time": "2023-08-26T11:01:06.157Z"
   },
   {
    "duration": 12,
    "start_time": "2023-08-26T11:01:06.316Z"
   },
   {
    "duration": 59,
    "start_time": "2023-08-26T11:01:06.330Z"
   },
   {
    "duration": 11,
    "start_time": "2023-08-26T11:01:06.391Z"
   },
   {
    "duration": 23,
    "start_time": "2023-08-26T11:01:06.406Z"
   },
   {
    "duration": 36,
    "start_time": "2023-08-26T11:01:06.431Z"
   },
   {
    "duration": 29,
    "start_time": "2023-08-26T11:01:06.468Z"
   },
   {
    "duration": 186,
    "start_time": "2023-08-26T11:01:06.499Z"
   },
   {
    "duration": 127,
    "start_time": "2023-08-26T11:01:06.687Z"
   },
   {
    "duration": 162,
    "start_time": "2023-08-26T11:01:06.816Z"
   },
   {
    "duration": 143,
    "start_time": "2023-08-26T11:01:06.983Z"
   },
   {
    "duration": 163,
    "start_time": "2023-08-26T11:01:07.127Z"
   },
   {
    "duration": 9,
    "start_time": "2023-08-26T11:01:07.292Z"
   },
   {
    "duration": 152,
    "start_time": "2023-08-26T11:01:07.303Z"
   },
   {
    "duration": 146,
    "start_time": "2023-08-26T11:01:07.456Z"
   },
   {
    "duration": 7,
    "start_time": "2023-08-26T11:01:07.604Z"
   },
   {
    "duration": 51,
    "start_time": "2023-08-26T11:01:07.613Z"
   },
   {
    "duration": 19,
    "start_time": "2023-08-26T11:01:07.665Z"
   },
   {
    "duration": 21,
    "start_time": "2023-08-26T11:01:07.688Z"
   },
   {
    "duration": 231,
    "start_time": "2023-08-26T11:01:07.711Z"
   },
   {
    "duration": 263,
    "start_time": "2023-08-26T11:01:07.949Z"
   },
   {
    "duration": 8,
    "start_time": "2023-08-26T11:01:08.214Z"
   },
   {
    "duration": 3,
    "start_time": "2023-08-26T11:10:40.308Z"
   },
   {
    "duration": 150,
    "start_time": "2023-08-26T11:10:40.313Z"
   },
   {
    "duration": 13,
    "start_time": "2023-08-26T11:10:40.465Z"
   },
   {
    "duration": 25,
    "start_time": "2023-08-26T11:10:40.480Z"
   },
   {
    "duration": 13,
    "start_time": "2023-08-26T11:10:40.507Z"
   },
   {
    "duration": 6,
    "start_time": "2023-08-26T11:10:40.521Z"
   },
   {
    "duration": 9,
    "start_time": "2023-08-26T11:10:40.529Z"
   },
   {
    "duration": 12,
    "start_time": "2023-08-26T11:10:40.550Z"
   },
   {
    "duration": 170,
    "start_time": "2023-08-26T11:10:40.564Z"
   },
   {
    "duration": 127,
    "start_time": "2023-08-26T11:10:40.736Z"
   },
   {
    "duration": 142,
    "start_time": "2023-08-26T11:10:40.871Z"
   },
   {
    "duration": 146,
    "start_time": "2023-08-26T11:10:41.014Z"
   },
   {
    "duration": 352,
    "start_time": "2023-08-26T11:10:41.167Z"
   },
   {
    "duration": 8,
    "start_time": "2023-08-26T11:10:41.522Z"
   },
   {
    "duration": 137,
    "start_time": "2023-08-26T11:10:41.532Z"
   },
   {
    "duration": 135,
    "start_time": "2023-08-26T11:10:41.671Z"
   },
   {
    "duration": 6,
    "start_time": "2023-08-26T11:10:41.808Z"
   },
   {
    "duration": 20,
    "start_time": "2023-08-26T11:10:41.816Z"
   },
   {
    "duration": 19,
    "start_time": "2023-08-26T11:10:41.850Z"
   },
   {
    "duration": 17,
    "start_time": "2023-08-26T11:10:41.871Z"
   },
   {
    "duration": 235,
    "start_time": "2023-08-26T11:10:41.889Z"
   },
   {
    "duration": 231,
    "start_time": "2023-08-26T11:10:42.126Z"
   },
   {
    "duration": 49,
    "start_time": "2023-08-26T11:10:42.362Z"
   },
   {
    "duration": 3,
    "start_time": "2023-08-26T11:12:00.697Z"
   },
   {
    "duration": 161,
    "start_time": "2023-08-26T11:12:00.701Z"
   },
   {
    "duration": 20,
    "start_time": "2023-08-26T11:12:00.867Z"
   },
   {
    "duration": 47,
    "start_time": "2023-08-26T11:12:00.888Z"
   },
   {
    "duration": 54,
    "start_time": "2023-08-26T11:12:00.937Z"
   },
   {
    "duration": 34,
    "start_time": "2023-08-26T11:12:00.992Z"
   },
   {
    "duration": 47,
    "start_time": "2023-08-26T11:12:01.027Z"
   },
   {
    "duration": 44,
    "start_time": "2023-08-26T11:12:01.082Z"
   },
   {
    "duration": 194,
    "start_time": "2023-08-26T11:12:01.128Z"
   },
   {
    "duration": 118,
    "start_time": "2023-08-26T11:12:01.323Z"
   },
   {
    "duration": 154,
    "start_time": "2023-08-26T11:12:01.443Z"
   },
   {
    "duration": 138,
    "start_time": "2023-08-26T11:12:01.599Z"
   },
   {
    "duration": 166,
    "start_time": "2023-08-26T11:12:01.739Z"
   },
   {
    "duration": 7,
    "start_time": "2023-08-26T11:12:01.908Z"
   },
   {
    "duration": 179,
    "start_time": "2023-08-26T11:12:01.917Z"
   },
   {
    "duration": 133,
    "start_time": "2023-08-26T11:12:02.098Z"
   },
   {
    "duration": 7,
    "start_time": "2023-08-26T11:12:02.233Z"
   },
   {
    "duration": 70,
    "start_time": "2023-08-26T11:12:02.241Z"
   },
   {
    "duration": 18,
    "start_time": "2023-08-26T11:12:02.313Z"
   },
   {
    "duration": 40,
    "start_time": "2023-08-26T11:12:02.333Z"
   },
   {
    "duration": 274,
    "start_time": "2023-08-26T11:12:02.379Z"
   },
   {
    "duration": 229,
    "start_time": "2023-08-26T11:12:02.663Z"
   },
   {
    "duration": 17,
    "start_time": "2023-08-26T11:12:02.895Z"
   },
   {
    "duration": 3,
    "start_time": "2023-08-26T11:19:27.496Z"
   },
   {
    "duration": 128,
    "start_time": "2023-08-26T11:19:27.501Z"
   },
   {
    "duration": 10,
    "start_time": "2023-08-26T11:19:27.631Z"
   },
   {
    "duration": 21,
    "start_time": "2023-08-26T11:19:27.643Z"
   },
   {
    "duration": 10,
    "start_time": "2023-08-26T11:19:27.665Z"
   },
   {
    "duration": 5,
    "start_time": "2023-08-26T11:19:27.677Z"
   },
   {
    "duration": 9,
    "start_time": "2023-08-26T11:19:27.684Z"
   },
   {
    "duration": 6,
    "start_time": "2023-08-26T11:19:27.694Z"
   },
   {
    "duration": 170,
    "start_time": "2023-08-26T11:19:27.701Z"
   },
   {
    "duration": 113,
    "start_time": "2023-08-26T11:19:27.878Z"
   },
   {
    "duration": 134,
    "start_time": "2023-08-26T11:19:27.992Z"
   },
   {
    "duration": 158,
    "start_time": "2023-08-26T11:19:28.127Z"
   },
   {
    "duration": 128,
    "start_time": "2023-08-26T11:19:28.287Z"
   },
   {
    "duration": 8,
    "start_time": "2023-08-26T11:19:28.416Z"
   },
   {
    "duration": 156,
    "start_time": "2023-08-26T11:19:28.425Z"
   },
   {
    "duration": 109,
    "start_time": "2023-08-26T11:19:28.583Z"
   },
   {
    "duration": 6,
    "start_time": "2023-08-26T11:19:28.695Z"
   },
   {
    "duration": 23,
    "start_time": "2023-08-26T11:19:28.703Z"
   },
   {
    "duration": 45,
    "start_time": "2023-08-26T11:19:28.728Z"
   },
   {
    "duration": 20,
    "start_time": "2023-08-26T11:19:28.775Z"
   },
   {
    "duration": 215,
    "start_time": "2023-08-26T11:19:28.797Z"
   },
   {
    "duration": 241,
    "start_time": "2023-08-26T11:19:29.014Z"
   },
   {
    "duration": 20,
    "start_time": "2023-08-26T11:19:29.257Z"
   },
   {
    "duration": 3,
    "start_time": "2023-08-26T11:19:29.279Z"
   },
   {
    "duration": 2,
    "start_time": "2023-08-26T11:19:41.999Z"
   },
   {
    "duration": 129,
    "start_time": "2023-08-26T11:19:42.004Z"
   },
   {
    "duration": 12,
    "start_time": "2023-08-26T11:19:42.135Z"
   },
   {
    "duration": 31,
    "start_time": "2023-08-26T11:19:42.149Z"
   },
   {
    "duration": 11,
    "start_time": "2023-08-26T11:19:42.181Z"
   },
   {
    "duration": 9,
    "start_time": "2023-08-26T11:19:42.193Z"
   },
   {
    "duration": 10,
    "start_time": "2023-08-26T11:19:42.204Z"
   },
   {
    "duration": 8,
    "start_time": "2023-08-26T11:19:42.216Z"
   },
   {
    "duration": 238,
    "start_time": "2023-08-26T11:19:42.226Z"
   },
   {
    "duration": 370,
    "start_time": "2023-08-26T11:19:42.475Z"
   },
   {
    "duration": 166,
    "start_time": "2023-08-26T11:19:42.846Z"
   },
   {
    "duration": 173,
    "start_time": "2023-08-26T11:19:43.014Z"
   },
   {
    "duration": 159,
    "start_time": "2023-08-26T11:19:43.191Z"
   },
   {
    "duration": 7,
    "start_time": "2023-08-26T11:19:43.352Z"
   },
   {
    "duration": 166,
    "start_time": "2023-08-26T11:19:43.360Z"
   },
   {
    "duration": 139,
    "start_time": "2023-08-26T11:19:43.528Z"
   },
   {
    "duration": 11,
    "start_time": "2023-08-26T11:19:43.668Z"
   },
   {
    "duration": 28,
    "start_time": "2023-08-26T11:19:43.684Z"
   },
   {
    "duration": 19,
    "start_time": "2023-08-26T11:19:43.714Z"
   },
   {
    "duration": 27,
    "start_time": "2023-08-26T11:19:43.734Z"
   },
   {
    "duration": 271,
    "start_time": "2023-08-26T11:19:43.762Z"
   },
   {
    "duration": 270,
    "start_time": "2023-08-26T11:19:44.035Z"
   },
   {
    "duration": 28,
    "start_time": "2023-08-26T11:19:44.307Z"
   },
   {
    "duration": 32,
    "start_time": "2023-08-26T11:19:44.337Z"
   },
   {
    "duration": 366,
    "start_time": "2023-08-26T16:36:36.093Z"
   },
   {
    "duration": 3,
    "start_time": "2023-08-26T16:38:49.104Z"
   },
   {
    "duration": 583,
    "start_time": "2023-08-26T16:38:49.109Z"
   },
   {
    "duration": 10,
    "start_time": "2023-08-26T16:38:49.694Z"
   },
   {
    "duration": 24,
    "start_time": "2023-08-26T16:38:49.705Z"
   },
   {
    "duration": 13,
    "start_time": "2023-08-26T16:38:49.732Z"
   },
   {
    "duration": 5,
    "start_time": "2023-08-26T16:38:49.747Z"
   },
   {
    "duration": 22,
    "start_time": "2023-08-26T16:38:49.753Z"
   },
   {
    "duration": 16,
    "start_time": "2023-08-26T16:38:49.777Z"
   },
   {
    "duration": 443,
    "start_time": "2023-08-26T16:38:49.794Z"
   },
   {
    "duration": 130,
    "start_time": "2023-08-26T16:38:50.239Z"
   },
   {
    "duration": 156,
    "start_time": "2023-08-26T16:38:50.371Z"
   },
   {
    "duration": 146,
    "start_time": "2023-08-26T16:38:50.528Z"
   },
   {
    "duration": 140,
    "start_time": "2023-08-26T16:38:50.676Z"
   },
   {
    "duration": 9,
    "start_time": "2023-08-26T16:38:50.818Z"
   },
   {
    "duration": 206,
    "start_time": "2023-08-26T16:38:50.829Z"
   },
   {
    "duration": 147,
    "start_time": "2023-08-26T16:38:51.037Z"
   },
   {
    "duration": 7,
    "start_time": "2023-08-26T16:38:51.186Z"
   },
   {
    "duration": 45,
    "start_time": "2023-08-26T16:38:51.194Z"
   },
   {
    "duration": 16,
    "start_time": "2023-08-26T16:38:51.240Z"
   },
   {
    "duration": 20,
    "start_time": "2023-08-26T16:38:51.258Z"
   },
   {
    "duration": 221,
    "start_time": "2023-08-26T16:38:51.281Z"
   },
   {
    "duration": 226,
    "start_time": "2023-08-26T16:38:51.505Z"
   },
   {
    "duration": 20,
    "start_time": "2023-08-26T16:38:51.733Z"
   },
   {
    "duration": 25,
    "start_time": "2023-08-26T16:38:51.755Z"
   },
   {
    "duration": 3,
    "start_time": "2023-08-26T17:11:25.745Z"
   },
   {
    "duration": 114,
    "start_time": "2023-08-26T17:11:25.750Z"
   },
   {
    "duration": 11,
    "start_time": "2023-08-26T17:11:25.865Z"
   },
   {
    "duration": 9,
    "start_time": "2023-08-26T17:11:25.877Z"
   },
   {
    "duration": 10,
    "start_time": "2023-08-26T17:11:25.888Z"
   },
   {
    "duration": 4,
    "start_time": "2023-08-26T17:11:25.899Z"
   },
   {
    "duration": 8,
    "start_time": "2023-08-26T17:11:25.905Z"
   },
   {
    "duration": 6,
    "start_time": "2023-08-26T17:11:25.914Z"
   },
   {
    "duration": 197,
    "start_time": "2023-08-26T17:11:25.921Z"
   },
   {
    "duration": 125,
    "start_time": "2023-08-26T17:11:26.120Z"
   },
   {
    "duration": 153,
    "start_time": "2023-08-26T17:11:26.247Z"
   },
   {
    "duration": 140,
    "start_time": "2023-08-26T17:11:26.402Z"
   },
   {
    "duration": 141,
    "start_time": "2023-08-26T17:11:26.544Z"
   },
   {
    "duration": 7,
    "start_time": "2023-08-26T17:11:26.688Z"
   },
   {
    "duration": 152,
    "start_time": "2023-08-26T17:11:26.697Z"
   },
   {
    "duration": 148,
    "start_time": "2023-08-26T17:11:26.851Z"
   },
   {
    "duration": 7,
    "start_time": "2023-08-26T17:11:27.001Z"
   },
   {
    "duration": 25,
    "start_time": "2023-08-26T17:11:27.009Z"
   },
   {
    "duration": 36,
    "start_time": "2023-08-26T17:11:27.035Z"
   },
   {
    "duration": 15,
    "start_time": "2023-08-26T17:11:27.073Z"
   },
   {
    "duration": 313,
    "start_time": "2023-08-26T17:11:27.089Z"
   },
   {
    "duration": 235,
    "start_time": "2023-08-26T17:11:27.404Z"
   },
   {
    "duration": 28,
    "start_time": "2023-08-26T17:11:27.640Z"
   },
   {
    "duration": 12,
    "start_time": "2023-08-26T17:11:27.670Z"
   },
   {
    "duration": 87,
    "start_time": "2023-08-26T17:11:27.684Z"
   },
   {
    "duration": 4,
    "start_time": "2023-08-26T17:11:54.930Z"
   },
   {
    "duration": 115,
    "start_time": "2023-08-26T17:11:54.936Z"
   },
   {
    "duration": 10,
    "start_time": "2023-08-26T17:11:55.053Z"
   },
   {
    "duration": 18,
    "start_time": "2023-08-26T17:11:55.064Z"
   },
   {
    "duration": 15,
    "start_time": "2023-08-26T17:11:55.084Z"
   },
   {
    "duration": 4,
    "start_time": "2023-08-26T17:11:55.100Z"
   },
   {
    "duration": 17,
    "start_time": "2023-08-26T17:11:55.106Z"
   },
   {
    "duration": 27,
    "start_time": "2023-08-26T17:11:55.125Z"
   },
   {
    "duration": 166,
    "start_time": "2023-08-26T17:11:55.153Z"
   },
   {
    "duration": 113,
    "start_time": "2023-08-26T17:11:55.321Z"
   },
   {
    "duration": 141,
    "start_time": "2023-08-26T17:11:55.436Z"
   },
   {
    "duration": 143,
    "start_time": "2023-08-26T17:11:55.578Z"
   },
   {
    "duration": 144,
    "start_time": "2023-08-26T17:11:55.723Z"
   },
   {
    "duration": 9,
    "start_time": "2023-08-26T17:11:55.869Z"
   },
   {
    "duration": 147,
    "start_time": "2023-08-26T17:11:55.880Z"
   },
   {
    "duration": 148,
    "start_time": "2023-08-26T17:11:56.029Z"
   },
   {
    "duration": 6,
    "start_time": "2023-08-26T17:11:56.179Z"
   },
   {
    "duration": 30,
    "start_time": "2023-08-26T17:11:56.187Z"
   },
   {
    "duration": 16,
    "start_time": "2023-08-26T17:11:56.219Z"
   },
   {
    "duration": 38,
    "start_time": "2023-08-26T17:11:56.237Z"
   },
   {
    "duration": 226,
    "start_time": "2023-08-26T17:11:56.276Z"
   },
   {
    "duration": 236,
    "start_time": "2023-08-26T17:11:56.504Z"
   },
   {
    "duration": 26,
    "start_time": "2023-08-26T17:11:56.742Z"
   },
   {
    "duration": 14,
    "start_time": "2023-08-26T17:11:56.769Z"
   },
   {
    "duration": 19,
    "start_time": "2023-08-26T17:11:56.784Z"
   },
   {
    "duration": 3,
    "start_time": "2023-08-26T17:12:28.382Z"
   },
   {
    "duration": 127,
    "start_time": "2023-08-26T17:12:28.387Z"
   },
   {
    "duration": 11,
    "start_time": "2023-08-26T17:12:28.515Z"
   },
   {
    "duration": 22,
    "start_time": "2023-08-26T17:12:28.527Z"
   },
   {
    "duration": 16,
    "start_time": "2023-08-26T17:12:28.551Z"
   },
   {
    "duration": 9,
    "start_time": "2023-08-26T17:12:28.568Z"
   },
   {
    "duration": 13,
    "start_time": "2023-08-26T17:12:28.579Z"
   },
   {
    "duration": 11,
    "start_time": "2023-08-26T17:12:28.593Z"
   },
   {
    "duration": 270,
    "start_time": "2023-08-26T17:12:28.605Z"
   },
   {
    "duration": 124,
    "start_time": "2023-08-26T17:12:28.877Z"
   },
   {
    "duration": 149,
    "start_time": "2023-08-26T17:12:29.003Z"
   },
   {
    "duration": 143,
    "start_time": "2023-08-26T17:12:29.154Z"
   },
   {
    "duration": 154,
    "start_time": "2023-08-26T17:12:29.298Z"
   },
   {
    "duration": 15,
    "start_time": "2023-08-26T17:12:29.454Z"
   },
   {
    "duration": 137,
    "start_time": "2023-08-26T17:12:29.471Z"
   },
   {
    "duration": 145,
    "start_time": "2023-08-26T17:12:29.610Z"
   },
   {
    "duration": 14,
    "start_time": "2023-08-26T17:12:29.757Z"
   },
   {
    "duration": 23,
    "start_time": "2023-08-26T17:12:29.773Z"
   },
   {
    "duration": 17,
    "start_time": "2023-08-26T17:12:29.798Z"
   },
   {
    "duration": 16,
    "start_time": "2023-08-26T17:12:29.816Z"
   },
   {
    "duration": 259,
    "start_time": "2023-08-26T17:12:29.834Z"
   },
   {
    "duration": 248,
    "start_time": "2023-08-26T17:12:30.095Z"
   },
   {
    "duration": 33,
    "start_time": "2023-08-26T17:12:30.344Z"
   },
   {
    "duration": 328,
    "start_time": "2023-08-26T17:12:30.378Z"
   },
   {
    "duration": 145,
    "start_time": "2023-08-26T17:12:30.707Z"
   },
   {
    "duration": 3,
    "start_time": "2023-08-26T17:15:41.736Z"
   },
   {
    "duration": 106,
    "start_time": "2023-08-26T17:15:41.742Z"
   },
   {
    "duration": 11,
    "start_time": "2023-08-26T17:15:41.850Z"
   },
   {
    "duration": 11,
    "start_time": "2023-08-26T17:15:41.863Z"
   },
   {
    "duration": 12,
    "start_time": "2023-08-26T17:15:41.875Z"
   },
   {
    "duration": 4,
    "start_time": "2023-08-26T17:15:41.888Z"
   },
   {
    "duration": 8,
    "start_time": "2023-08-26T17:15:41.894Z"
   },
   {
    "duration": 9,
    "start_time": "2023-08-26T17:15:41.903Z"
   },
   {
    "duration": 168,
    "start_time": "2023-08-26T17:15:41.914Z"
   },
   {
    "duration": 123,
    "start_time": "2023-08-26T17:15:42.085Z"
   },
   {
    "duration": 257,
    "start_time": "2023-08-26T17:15:42.210Z"
   },
   {
    "duration": 138,
    "start_time": "2023-08-26T17:15:42.468Z"
   },
   {
    "duration": 148,
    "start_time": "2023-08-26T17:15:42.608Z"
   },
   {
    "duration": 14,
    "start_time": "2023-08-26T17:15:42.758Z"
   },
   {
    "duration": 148,
    "start_time": "2023-08-26T17:15:42.773Z"
   },
   {
    "duration": 146,
    "start_time": "2023-08-26T17:15:42.923Z"
   },
   {
    "duration": 7,
    "start_time": "2023-08-26T17:15:43.070Z"
   },
   {
    "duration": 25,
    "start_time": "2023-08-26T17:15:43.078Z"
   },
   {
    "duration": 16,
    "start_time": "2023-08-26T17:15:43.104Z"
   },
   {
    "duration": 15,
    "start_time": "2023-08-26T17:15:43.122Z"
   },
   {
    "duration": 261,
    "start_time": "2023-08-26T17:15:43.138Z"
   },
   {
    "duration": 221,
    "start_time": "2023-08-26T17:15:43.401Z"
   },
   {
    "duration": 18,
    "start_time": "2023-08-26T17:15:43.623Z"
   },
   {
    "duration": 25,
    "start_time": "2023-08-26T17:15:43.642Z"
   },
   {
    "duration": 22,
    "start_time": "2023-08-26T17:15:43.669Z"
   },
   {
    "duration": 2,
    "start_time": "2023-08-26T17:27:04.133Z"
   },
   {
    "duration": 107,
    "start_time": "2023-08-26T17:27:04.137Z"
   },
   {
    "duration": 9,
    "start_time": "2023-08-26T17:27:04.246Z"
   },
   {
    "duration": 14,
    "start_time": "2023-08-26T17:27:04.257Z"
   },
   {
    "duration": 22,
    "start_time": "2023-08-26T17:27:04.273Z"
   },
   {
    "duration": 4,
    "start_time": "2023-08-26T17:27:04.297Z"
   },
   {
    "duration": 14,
    "start_time": "2023-08-26T17:27:04.303Z"
   },
   {
    "duration": 7,
    "start_time": "2023-08-26T17:27:04.318Z"
   },
   {
    "duration": 161,
    "start_time": "2023-08-26T17:27:04.327Z"
   },
   {
    "duration": 127,
    "start_time": "2023-08-26T17:27:04.491Z"
   },
   {
    "duration": 139,
    "start_time": "2023-08-26T17:27:04.619Z"
   },
   {
    "duration": 138,
    "start_time": "2023-08-26T17:27:04.766Z"
   },
   {
    "duration": 137,
    "start_time": "2023-08-26T17:27:04.906Z"
   },
   {
    "duration": 7,
    "start_time": "2023-08-26T17:27:05.045Z"
   },
   {
    "duration": 148,
    "start_time": "2023-08-26T17:27:05.053Z"
   },
   {
    "duration": 265,
    "start_time": "2023-08-26T17:27:05.203Z"
   },
   {
    "duration": 6,
    "start_time": "2023-08-26T17:27:05.470Z"
   },
   {
    "duration": 24,
    "start_time": "2023-08-26T17:27:05.477Z"
   },
   {
    "duration": 16,
    "start_time": "2023-08-26T17:27:05.503Z"
   },
   {
    "duration": 19,
    "start_time": "2023-08-26T17:27:05.520Z"
   },
   {
    "duration": 245,
    "start_time": "2023-08-26T17:27:05.541Z"
   },
   {
    "duration": 234,
    "start_time": "2023-08-26T17:27:05.788Z"
   },
   {
    "duration": 19,
    "start_time": "2023-08-26T17:27:06.024Z"
   },
   {
    "duration": 25,
    "start_time": "2023-08-26T17:27:06.045Z"
   },
   {
    "duration": 73,
    "start_time": "2023-08-26T17:27:06.072Z"
   },
   {
    "duration": 3,
    "start_time": "2023-08-26T17:36:26.388Z"
   },
   {
    "duration": 107,
    "start_time": "2023-08-26T17:36:26.393Z"
   },
   {
    "duration": 11,
    "start_time": "2023-08-26T17:36:26.502Z"
   },
   {
    "duration": 11,
    "start_time": "2023-08-26T17:36:26.515Z"
   },
   {
    "duration": 41,
    "start_time": "2023-08-26T17:36:26.529Z"
   },
   {
    "duration": 5,
    "start_time": "2023-08-26T17:36:26.572Z"
   },
   {
    "duration": 8,
    "start_time": "2023-08-26T17:36:26.579Z"
   },
   {
    "duration": 6,
    "start_time": "2023-08-26T17:36:26.588Z"
   },
   {
    "duration": 182,
    "start_time": "2023-08-26T17:36:26.595Z"
   },
   {
    "duration": 128,
    "start_time": "2023-08-26T17:36:26.779Z"
   },
   {
    "duration": 140,
    "start_time": "2023-08-26T17:36:26.909Z"
   },
   {
    "duration": 143,
    "start_time": "2023-08-26T17:36:27.051Z"
   },
   {
    "duration": 146,
    "start_time": "2023-08-26T17:36:27.196Z"
   },
   {
    "duration": 7,
    "start_time": "2023-08-26T17:36:27.345Z"
   },
   {
    "duration": 152,
    "start_time": "2023-08-26T17:36:27.353Z"
   },
   {
    "duration": 144,
    "start_time": "2023-08-26T17:36:27.507Z"
   },
   {
    "duration": 16,
    "start_time": "2023-08-26T17:36:27.653Z"
   },
   {
    "duration": 32,
    "start_time": "2023-08-26T17:36:27.670Z"
   },
   {
    "duration": 19,
    "start_time": "2023-08-26T17:36:27.704Z"
   },
   {
    "duration": 17,
    "start_time": "2023-08-26T17:36:27.724Z"
   },
   {
    "duration": 249,
    "start_time": "2023-08-26T17:36:27.743Z"
   },
   {
    "duration": 231,
    "start_time": "2023-08-26T17:36:27.993Z"
   },
   {
    "duration": 21,
    "start_time": "2023-08-26T17:36:28.225Z"
   },
   {
    "duration": 28,
    "start_time": "2023-08-26T17:36:28.248Z"
   },
   {
    "duration": 43,
    "start_time": "2023-08-26T17:36:28.278Z"
   },
   {
    "duration": 372,
    "start_time": "2023-08-27T06:02:41.990Z"
   },
   {
    "duration": 342,
    "start_time": "2023-08-27T06:02:42.364Z"
   },
   {
    "duration": 12,
    "start_time": "2023-08-27T06:02:42.707Z"
   },
   {
    "duration": 17,
    "start_time": "2023-08-27T06:02:42.721Z"
   },
   {
    "duration": 26,
    "start_time": "2023-08-27T06:02:42.740Z"
   },
   {
    "duration": 17,
    "start_time": "2023-08-27T06:02:42.767Z"
   },
   {
    "duration": 10,
    "start_time": "2023-08-27T06:02:42.786Z"
   },
   {
    "duration": 15,
    "start_time": "2023-08-27T06:02:42.797Z"
   },
   {
    "duration": 598,
    "start_time": "2023-08-27T06:02:42.814Z"
   },
   {
    "duration": 124,
    "start_time": "2023-08-27T06:02:43.413Z"
   },
   {
    "duration": 150,
    "start_time": "2023-08-27T06:02:43.538Z"
   },
   {
    "duration": 147,
    "start_time": "2023-08-27T06:02:43.689Z"
   },
   {
    "duration": 229,
    "start_time": "2023-08-27T06:02:43.838Z"
   },
   {
    "duration": 11,
    "start_time": "2023-08-27T06:02:44.071Z"
   },
   {
    "duration": 164,
    "start_time": "2023-08-27T06:02:44.084Z"
   },
   {
    "duration": 147,
    "start_time": "2023-08-27T06:02:44.250Z"
   },
   {
    "duration": 7,
    "start_time": "2023-08-27T06:02:44.399Z"
   },
   {
    "duration": 28,
    "start_time": "2023-08-27T06:02:44.407Z"
   },
   {
    "duration": 37,
    "start_time": "2023-08-27T06:02:44.436Z"
   },
   {
    "duration": 17,
    "start_time": "2023-08-27T06:02:44.475Z"
   },
   {
    "duration": 249,
    "start_time": "2023-08-27T06:02:44.494Z"
   },
   {
    "duration": 228,
    "start_time": "2023-08-27T06:02:44.745Z"
   },
   {
    "duration": 20,
    "start_time": "2023-08-27T06:02:44.975Z"
   },
   {
    "duration": 16,
    "start_time": "2023-08-27T06:02:44.996Z"
   },
   {
    "duration": 67,
    "start_time": "2023-08-27T06:02:45.014Z"
   },
   {
    "duration": 6,
    "start_time": "2023-08-27T06:37:14.686Z"
   },
   {
    "duration": 5,
    "start_time": "2023-08-27T06:37:21.629Z"
   },
   {
    "duration": 3,
    "start_time": "2023-08-27T06:37:24.757Z"
   },
   {
    "duration": 109,
    "start_time": "2023-08-27T06:37:24.762Z"
   },
   {
    "duration": 9,
    "start_time": "2023-08-27T06:37:24.873Z"
   },
   {
    "duration": 9,
    "start_time": "2023-08-27T06:37:24.884Z"
   },
   {
    "duration": 10,
    "start_time": "2023-08-27T06:37:24.895Z"
   },
   {
    "duration": 38,
    "start_time": "2023-08-27T06:37:24.907Z"
   },
   {
    "duration": 63,
    "start_time": "2023-08-27T06:37:24.947Z"
   },
   {
    "duration": 24,
    "start_time": "2023-08-27T06:37:25.012Z"
   },
   {
    "duration": 174,
    "start_time": "2023-08-27T06:37:25.037Z"
   },
   {
    "duration": 133,
    "start_time": "2023-08-27T06:37:25.213Z"
   },
   {
    "duration": 157,
    "start_time": "2023-08-27T06:37:25.348Z"
   },
   {
    "duration": 142,
    "start_time": "2023-08-27T06:37:25.507Z"
   },
   {
    "duration": 132,
    "start_time": "2023-08-27T06:37:25.658Z"
   },
   {
    "duration": 7,
    "start_time": "2023-08-27T06:37:25.793Z"
   },
   {
    "duration": 147,
    "start_time": "2023-08-27T06:37:25.801Z"
   },
   {
    "duration": 227,
    "start_time": "2023-08-27T06:37:25.950Z"
   },
   {
    "duration": 7,
    "start_time": "2023-08-27T06:37:26.179Z"
   },
   {
    "duration": 27,
    "start_time": "2023-08-27T06:37:26.187Z"
   },
   {
    "duration": 17,
    "start_time": "2023-08-27T06:37:26.215Z"
   },
   {
    "duration": 40,
    "start_time": "2023-08-27T06:37:26.233Z"
   },
   {
    "duration": 224,
    "start_time": "2023-08-27T06:37:26.274Z"
   },
   {
    "duration": 227,
    "start_time": "2023-08-27T06:37:26.499Z"
   },
   {
    "duration": 32,
    "start_time": "2023-08-27T06:37:26.728Z"
   },
   {
    "duration": 14,
    "start_time": "2023-08-27T06:37:26.762Z"
   },
   {
    "duration": 28,
    "start_time": "2023-08-27T06:37:26.778Z"
   },
   {
    "duration": 5,
    "start_time": "2023-08-27T06:37:26.807Z"
   },
   {
    "duration": 383,
    "start_time": "2023-08-27T07:03:22.091Z"
   },
   {
    "duration": 105,
    "start_time": "2023-08-27T07:03:22.476Z"
   },
   {
    "duration": 11,
    "start_time": "2023-08-27T07:03:22.582Z"
   },
   {
    "duration": 16,
    "start_time": "2023-08-27T07:03:22.599Z"
   },
   {
    "duration": 12,
    "start_time": "2023-08-27T07:03:22.617Z"
   },
   {
    "duration": 29,
    "start_time": "2023-08-27T07:03:22.632Z"
   },
   {
    "duration": 19,
    "start_time": "2023-08-27T07:03:22.662Z"
   },
   {
    "duration": 7,
    "start_time": "2023-08-27T07:03:22.683Z"
   },
   {
    "duration": 175,
    "start_time": "2023-08-27T07:03:22.692Z"
   },
   {
    "duration": 127,
    "start_time": "2023-08-27T07:03:22.869Z"
   },
   {
    "duration": 257,
    "start_time": "2023-08-27T07:03:22.998Z"
   },
   {
    "duration": 146,
    "start_time": "2023-08-27T07:03:23.259Z"
   },
   {
    "duration": 147,
    "start_time": "2023-08-27T07:03:23.407Z"
   },
   {
    "duration": 8,
    "start_time": "2023-08-27T07:03:23.558Z"
   },
   {
    "duration": 160,
    "start_time": "2023-08-27T07:03:23.568Z"
   },
   {
    "duration": 157,
    "start_time": "2023-08-27T07:03:23.730Z"
   },
   {
    "duration": 7,
    "start_time": "2023-08-27T07:03:23.889Z"
   },
   {
    "duration": 31,
    "start_time": "2023-08-27T07:03:23.897Z"
   },
   {
    "duration": 33,
    "start_time": "2023-08-27T07:03:23.930Z"
   },
   {
    "duration": 16,
    "start_time": "2023-08-27T07:03:23.965Z"
   },
   {
    "duration": 302,
    "start_time": "2023-08-27T07:03:23.983Z"
   },
   {
    "duration": 236,
    "start_time": "2023-08-27T07:03:24.287Z"
   },
   {
    "duration": 19,
    "start_time": "2023-08-27T07:03:24.525Z"
   },
   {
    "duration": 14,
    "start_time": "2023-08-27T07:03:24.559Z"
   },
   {
    "duration": 24,
    "start_time": "2023-08-27T07:03:24.575Z"
   },
   {
    "duration": 119,
    "start_time": "2023-08-27T07:03:24.601Z"
   },
   {
    "duration": 3,
    "start_time": "2023-08-27T07:03:45.243Z"
   },
   {
    "duration": 118,
    "start_time": "2023-08-27T07:03:45.249Z"
   },
   {
    "duration": 14,
    "start_time": "2023-08-27T07:03:45.369Z"
   },
   {
    "duration": 12,
    "start_time": "2023-08-27T07:03:45.385Z"
   },
   {
    "duration": 15,
    "start_time": "2023-08-27T07:03:45.400Z"
   },
   {
    "duration": 6,
    "start_time": "2023-08-27T07:03:45.417Z"
   },
   {
    "duration": 41,
    "start_time": "2023-08-27T07:03:45.424Z"
   },
   {
    "duration": 6,
    "start_time": "2023-08-27T07:03:45.467Z"
   },
   {
    "duration": 179,
    "start_time": "2023-08-27T07:03:45.475Z"
   },
   {
    "duration": 128,
    "start_time": "2023-08-27T07:03:45.656Z"
   },
   {
    "duration": 155,
    "start_time": "2023-08-27T07:03:45.786Z"
   },
   {
    "duration": 163,
    "start_time": "2023-08-27T07:03:45.943Z"
   },
   {
    "duration": 263,
    "start_time": "2023-08-27T07:03:46.108Z"
   },
   {
    "duration": 8,
    "start_time": "2023-08-27T07:03:46.374Z"
   },
   {
    "duration": 167,
    "start_time": "2023-08-27T07:03:46.383Z"
   },
   {
    "duration": 148,
    "start_time": "2023-08-27T07:03:46.551Z"
   },
   {
    "duration": 6,
    "start_time": "2023-08-27T07:03:46.701Z"
   },
   {
    "duration": 32,
    "start_time": "2023-08-27T07:03:46.709Z"
   },
   {
    "duration": 33,
    "start_time": "2023-08-27T07:03:46.744Z"
   },
   {
    "duration": 15,
    "start_time": "2023-08-27T07:03:46.779Z"
   },
   {
    "duration": 239,
    "start_time": "2023-08-27T07:03:46.796Z"
   },
   {
    "duration": 235,
    "start_time": "2023-08-27T07:03:47.037Z"
   },
   {
    "duration": 20,
    "start_time": "2023-08-27T07:03:47.274Z"
   },
   {
    "duration": 13,
    "start_time": "2023-08-27T07:03:47.296Z"
   },
   {
    "duration": 50,
    "start_time": "2023-08-27T07:03:47.310Z"
   },
   {
    "duration": 7,
    "start_time": "2023-08-27T07:03:47.363Z"
   },
   {
    "duration": 3,
    "start_time": "2023-08-27T07:04:14.391Z"
   },
   {
    "duration": 122,
    "start_time": "2023-08-27T07:04:14.396Z"
   },
   {
    "duration": 10,
    "start_time": "2023-08-27T07:04:14.520Z"
   },
   {
    "duration": 17,
    "start_time": "2023-08-27T07:04:14.532Z"
   },
   {
    "duration": 18,
    "start_time": "2023-08-27T07:04:14.551Z"
   },
   {
    "duration": 5,
    "start_time": "2023-08-27T07:04:14.571Z"
   },
   {
    "duration": 10,
    "start_time": "2023-08-27T07:04:14.578Z"
   },
   {
    "duration": 6,
    "start_time": "2023-08-27T07:04:14.590Z"
   },
   {
    "duration": 192,
    "start_time": "2023-08-27T07:04:14.597Z"
   },
   {
    "duration": 120,
    "start_time": "2023-08-27T07:04:14.792Z"
   },
   {
    "duration": 150,
    "start_time": "2023-08-27T07:04:14.914Z"
   },
   {
    "duration": 144,
    "start_time": "2023-08-27T07:04:15.066Z"
   },
   {
    "duration": 171,
    "start_time": "2023-08-27T07:04:15.212Z"
   },
   {
    "duration": 9,
    "start_time": "2023-08-27T07:04:15.386Z"
   },
   {
    "duration": 157,
    "start_time": "2023-08-27T07:04:15.397Z"
   },
   {
    "duration": 148,
    "start_time": "2023-08-27T07:04:15.560Z"
   },
   {
    "duration": 7,
    "start_time": "2023-08-27T07:04:15.710Z"
   },
   {
    "duration": 36,
    "start_time": "2023-08-27T07:04:15.718Z"
   },
   {
    "duration": 18,
    "start_time": "2023-08-27T07:04:15.756Z"
   },
   {
    "duration": 14,
    "start_time": "2023-08-27T07:04:15.776Z"
   },
   {
    "duration": 236,
    "start_time": "2023-08-27T07:04:15.792Z"
   },
   {
    "duration": 358,
    "start_time": "2023-08-27T07:04:16.030Z"
   },
   {
    "duration": 18,
    "start_time": "2023-08-27T07:04:16.390Z"
   },
   {
    "duration": 22,
    "start_time": "2023-08-27T07:04:16.409Z"
   },
   {
    "duration": 39,
    "start_time": "2023-08-27T07:04:16.432Z"
   },
   {
    "duration": 7,
    "start_time": "2023-08-27T07:04:16.473Z"
   },
   {
    "duration": 3,
    "start_time": "2023-08-27T07:04:42.815Z"
   },
   {
    "duration": 129,
    "start_time": "2023-08-27T07:04:42.820Z"
   },
   {
    "duration": 11,
    "start_time": "2023-08-27T07:04:42.951Z"
   },
   {
    "duration": 12,
    "start_time": "2023-08-27T07:04:42.964Z"
   },
   {
    "duration": 12,
    "start_time": "2023-08-27T07:04:42.978Z"
   },
   {
    "duration": 6,
    "start_time": "2023-08-27T07:04:42.991Z"
   },
   {
    "duration": 16,
    "start_time": "2023-08-27T07:04:42.999Z"
   },
   {
    "duration": 7,
    "start_time": "2023-08-27T07:04:43.017Z"
   },
   {
    "duration": 208,
    "start_time": "2023-08-27T07:04:43.026Z"
   },
   {
    "duration": 126,
    "start_time": "2023-08-27T07:04:43.235Z"
   },
   {
    "duration": 155,
    "start_time": "2023-08-27T07:04:43.363Z"
   },
   {
    "duration": 145,
    "start_time": "2023-08-27T07:04:43.520Z"
   },
   {
    "duration": 154,
    "start_time": "2023-08-27T07:04:43.667Z"
   },
   {
    "duration": 7,
    "start_time": "2023-08-27T07:04:43.824Z"
   },
   {
    "duration": 162,
    "start_time": "2023-08-27T07:04:43.833Z"
   },
   {
    "duration": 201,
    "start_time": "2023-08-27T07:04:43.997Z"
   },
   {
    "duration": 10,
    "start_time": "2023-08-27T07:04:44.201Z"
   },
   {
    "duration": 49,
    "start_time": "2023-08-27T07:04:44.213Z"
   },
   {
    "duration": 35,
    "start_time": "2023-08-27T07:04:44.264Z"
   },
   {
    "duration": 73,
    "start_time": "2023-08-27T07:04:44.301Z"
   },
   {
    "duration": 268,
    "start_time": "2023-08-27T07:04:44.376Z"
   },
   {
    "duration": 253,
    "start_time": "2023-08-27T07:04:44.646Z"
   },
   {
    "duration": 22,
    "start_time": "2023-08-27T07:04:44.901Z"
   },
   {
    "duration": 14,
    "start_time": "2023-08-27T07:04:44.924Z"
   },
   {
    "duration": 30,
    "start_time": "2023-08-27T07:04:44.960Z"
   },
   {
    "duration": 7,
    "start_time": "2023-08-27T07:04:44.992Z"
   },
   {
    "duration": 3,
    "start_time": "2023-08-27T07:05:07.080Z"
   },
   {
    "duration": 113,
    "start_time": "2023-08-27T07:05:07.085Z"
   },
   {
    "duration": 11,
    "start_time": "2023-08-27T07:05:07.200Z"
   },
   {
    "duration": 43,
    "start_time": "2023-08-27T07:05:07.213Z"
   },
   {
    "duration": 18,
    "start_time": "2023-08-27T07:05:07.259Z"
   },
   {
    "duration": 14,
    "start_time": "2023-08-27T07:05:07.279Z"
   },
   {
    "duration": 11,
    "start_time": "2023-08-27T07:05:07.295Z"
   },
   {
    "duration": 8,
    "start_time": "2023-08-27T07:05:07.308Z"
   },
   {
    "duration": 172,
    "start_time": "2023-08-27T07:05:07.318Z"
   },
   {
    "duration": 133,
    "start_time": "2023-08-27T07:05:07.492Z"
   },
   {
    "duration": 155,
    "start_time": "2023-08-27T07:05:07.627Z"
   },
   {
    "duration": 158,
    "start_time": "2023-08-27T07:05:07.784Z"
   },
   {
    "duration": 161,
    "start_time": "2023-08-27T07:05:07.943Z"
   },
   {
    "duration": 7,
    "start_time": "2023-08-27T07:05:08.107Z"
   },
   {
    "duration": 304,
    "start_time": "2023-08-27T07:05:08.116Z"
   },
   {
    "duration": 149,
    "start_time": "2023-08-27T07:05:08.422Z"
   },
   {
    "duration": 7,
    "start_time": "2023-08-27T07:05:08.573Z"
   },
   {
    "duration": 28,
    "start_time": "2023-08-27T07:05:08.581Z"
   },
   {
    "duration": 17,
    "start_time": "2023-08-27T07:05:08.611Z"
   },
   {
    "duration": 36,
    "start_time": "2023-08-27T07:05:08.630Z"
   },
   {
    "duration": 243,
    "start_time": "2023-08-27T07:05:08.668Z"
   },
   {
    "duration": 250,
    "start_time": "2023-08-27T07:05:08.912Z"
   },
   {
    "duration": 22,
    "start_time": "2023-08-27T07:05:09.164Z"
   },
   {
    "duration": 14,
    "start_time": "2023-08-27T07:05:09.188Z"
   },
   {
    "duration": 32,
    "start_time": "2023-08-27T07:05:09.204Z"
   },
   {
    "duration": 7,
    "start_time": "2023-08-27T07:05:09.260Z"
   },
   {
    "duration": 109,
    "start_time": "2023-08-27T07:10:48.725Z"
   },
   {
    "duration": 3,
    "start_time": "2023-08-27T08:17:46.542Z"
   },
   {
    "duration": 109,
    "start_time": "2023-08-27T08:17:46.548Z"
   },
   {
    "duration": 11,
    "start_time": "2023-08-27T08:17:46.659Z"
   },
   {
    "duration": 17,
    "start_time": "2023-08-27T08:17:46.672Z"
   },
   {
    "duration": 12,
    "start_time": "2023-08-27T08:17:46.691Z"
   },
   {
    "duration": 5,
    "start_time": "2023-08-27T08:17:46.705Z"
   },
   {
    "duration": 26,
    "start_time": "2023-08-27T08:17:46.711Z"
   },
   {
    "duration": 20,
    "start_time": "2023-08-27T08:17:46.739Z"
   },
   {
    "duration": 163,
    "start_time": "2023-08-27T08:17:46.761Z"
   },
   {
    "duration": 124,
    "start_time": "2023-08-27T08:17:46.926Z"
   },
   {
    "duration": 160,
    "start_time": "2023-08-27T08:17:47.059Z"
   },
   {
    "duration": 150,
    "start_time": "2023-08-27T08:17:47.221Z"
   },
   {
    "duration": 149,
    "start_time": "2023-08-27T08:17:47.373Z"
   },
   {
    "duration": 7,
    "start_time": "2023-08-27T08:17:47.524Z"
   },
   {
    "duration": 157,
    "start_time": "2023-08-27T08:17:47.533Z"
   },
   {
    "duration": 161,
    "start_time": "2023-08-27T08:17:47.691Z"
   },
   {
    "duration": 10,
    "start_time": "2023-08-27T08:17:47.854Z"
   },
   {
    "duration": 26,
    "start_time": "2023-08-27T08:17:47.866Z"
   },
   {
    "duration": 17,
    "start_time": "2023-08-27T08:17:47.894Z"
   },
   {
    "duration": 17,
    "start_time": "2023-08-27T08:17:47.913Z"
   },
   {
    "duration": 277,
    "start_time": "2023-08-27T08:17:47.931Z"
   },
   {
    "duration": 243,
    "start_time": "2023-08-27T08:17:48.210Z"
   },
   {
    "duration": 20,
    "start_time": "2023-08-27T08:17:48.459Z"
   },
   {
    "duration": 13,
    "start_time": "2023-08-27T08:17:48.481Z"
   },
   {
    "duration": 26,
    "start_time": "2023-08-27T08:17:48.496Z"
   },
   {
    "duration": 127,
    "start_time": "2023-08-27T08:17:48.524Z"
   },
   {
    "duration": 0,
    "start_time": "2023-08-27T08:17:48.653Z"
   },
   {
    "duration": 117,
    "start_time": "2023-08-27T08:18:43.372Z"
   },
   {
    "duration": 4,
    "start_time": "2023-08-27T08:19:38.815Z"
   },
   {
    "duration": 110,
    "start_time": "2023-08-27T08:19:38.821Z"
   },
   {
    "duration": 11,
    "start_time": "2023-08-27T08:19:38.933Z"
   },
   {
    "duration": 18,
    "start_time": "2023-08-27T08:19:38.946Z"
   },
   {
    "duration": 11,
    "start_time": "2023-08-27T08:19:38.967Z"
   },
   {
    "duration": 5,
    "start_time": "2023-08-27T08:19:38.980Z"
   },
   {
    "duration": 9,
    "start_time": "2023-08-27T08:19:38.987Z"
   },
   {
    "duration": 13,
    "start_time": "2023-08-27T08:19:38.998Z"
   },
   {
    "duration": 190,
    "start_time": "2023-08-27T08:19:39.012Z"
   },
   {
    "duration": 126,
    "start_time": "2023-08-27T08:19:39.204Z"
   },
   {
    "duration": 155,
    "start_time": "2023-08-27T08:19:39.332Z"
   },
   {
    "duration": 152,
    "start_time": "2023-08-27T08:19:39.489Z"
   },
   {
    "duration": 305,
    "start_time": "2023-08-27T08:19:39.643Z"
   },
   {
    "duration": 9,
    "start_time": "2023-08-27T08:19:39.959Z"
   },
   {
    "duration": 156,
    "start_time": "2023-08-27T08:19:39.969Z"
   },
   {
    "duration": 151,
    "start_time": "2023-08-27T08:19:40.126Z"
   },
   {
    "duration": 8,
    "start_time": "2023-08-27T08:19:40.279Z"
   },
   {
    "duration": 35,
    "start_time": "2023-08-27T08:19:40.288Z"
   },
   {
    "duration": 18,
    "start_time": "2023-08-27T08:19:40.324Z"
   },
   {
    "duration": 31,
    "start_time": "2023-08-27T08:19:40.343Z"
   },
   {
    "duration": 230,
    "start_time": "2023-08-27T08:19:40.376Z"
   },
   {
    "duration": 241,
    "start_time": "2023-08-27T08:19:40.608Z"
   },
   {
    "duration": 24,
    "start_time": "2023-08-27T08:19:40.851Z"
   },
   {
    "duration": 13,
    "start_time": "2023-08-27T08:19:40.877Z"
   },
   {
    "duration": 24,
    "start_time": "2023-08-27T08:19:40.892Z"
   },
   {
    "duration": 7,
    "start_time": "2023-08-27T08:19:40.918Z"
   },
   {
    "duration": 6,
    "start_time": "2023-08-27T08:19:40.960Z"
   },
   {
    "duration": 3,
    "start_time": "2023-08-27T08:20:04.473Z"
   },
   {
    "duration": 118,
    "start_time": "2023-08-27T08:20:04.478Z"
   },
   {
    "duration": 10,
    "start_time": "2023-08-27T08:20:04.598Z"
   },
   {
    "duration": 16,
    "start_time": "2023-08-27T08:20:04.610Z"
   },
   {
    "duration": 31,
    "start_time": "2023-08-27T08:20:04.628Z"
   },
   {
    "duration": 6,
    "start_time": "2023-08-27T08:20:04.661Z"
   },
   {
    "duration": 11,
    "start_time": "2023-08-27T08:20:04.669Z"
   },
   {
    "duration": 7,
    "start_time": "2023-08-27T08:20:04.682Z"
   },
   {
    "duration": 190,
    "start_time": "2023-08-27T08:20:04.690Z"
   },
   {
    "duration": 123,
    "start_time": "2023-08-27T08:20:04.882Z"
   },
   {
    "duration": 157,
    "start_time": "2023-08-27T08:20:05.007Z"
   },
   {
    "duration": 152,
    "start_time": "2023-08-27T08:20:05.165Z"
   },
   {
    "duration": 149,
    "start_time": "2023-08-27T08:20:05.320Z"
   },
   {
    "duration": 8,
    "start_time": "2023-08-27T08:20:05.473Z"
   },
   {
    "duration": 154,
    "start_time": "2023-08-27T08:20:05.483Z"
   },
   {
    "duration": 150,
    "start_time": "2023-08-27T08:20:05.639Z"
   },
   {
    "duration": 8,
    "start_time": "2023-08-27T08:20:05.790Z"
   },
   {
    "duration": 37,
    "start_time": "2023-08-27T08:20:05.799Z"
   },
   {
    "duration": 32,
    "start_time": "2023-08-27T08:20:05.837Z"
   },
   {
    "duration": 16,
    "start_time": "2023-08-27T08:20:05.871Z"
   },
   {
    "duration": 243,
    "start_time": "2023-08-27T08:20:05.889Z"
   },
   {
    "duration": 246,
    "start_time": "2023-08-27T08:20:06.134Z"
   },
   {
    "duration": 20,
    "start_time": "2023-08-27T08:20:06.381Z"
   },
   {
    "duration": 16,
    "start_time": "2023-08-27T08:20:06.403Z"
   },
   {
    "duration": 49,
    "start_time": "2023-08-27T08:20:06.420Z"
   },
   {
    "duration": 7,
    "start_time": "2023-08-27T08:20:06.471Z"
   },
   {
    "duration": 9,
    "start_time": "2023-08-27T08:20:06.480Z"
   },
   {
    "duration": 3,
    "start_time": "2023-08-27T08:21:47.668Z"
   },
   {
    "duration": 121,
    "start_time": "2023-08-27T08:21:47.674Z"
   },
   {
    "duration": 12,
    "start_time": "2023-08-27T08:21:47.797Z"
   },
   {
    "duration": 10,
    "start_time": "2023-08-27T08:21:47.811Z"
   },
   {
    "duration": 41,
    "start_time": "2023-08-27T08:21:47.824Z"
   },
   {
    "duration": 5,
    "start_time": "2023-08-27T08:21:47.867Z"
   },
   {
    "duration": 11,
    "start_time": "2023-08-27T08:21:47.874Z"
   },
   {
    "duration": 10,
    "start_time": "2023-08-27T08:21:47.887Z"
   },
   {
    "duration": 195,
    "start_time": "2023-08-27T08:21:47.899Z"
   },
   {
    "duration": 126,
    "start_time": "2023-08-27T08:21:48.096Z"
   },
   {
    "duration": 154,
    "start_time": "2023-08-27T08:21:48.223Z"
   },
   {
    "duration": 146,
    "start_time": "2023-08-27T08:21:48.379Z"
   },
   {
    "duration": 143,
    "start_time": "2023-08-27T08:21:48.527Z"
   },
   {
    "duration": 8,
    "start_time": "2023-08-27T08:21:48.674Z"
   },
   {
    "duration": 339,
    "start_time": "2023-08-27T08:21:48.684Z"
   },
   {
    "duration": 158,
    "start_time": "2023-08-27T08:21:49.026Z"
   },
   {
    "duration": 7,
    "start_time": "2023-08-27T08:21:49.186Z"
   },
   {
    "duration": 42,
    "start_time": "2023-08-27T08:21:49.195Z"
   },
   {
    "duration": 24,
    "start_time": "2023-08-27T08:21:49.239Z"
   },
   {
    "duration": 16,
    "start_time": "2023-08-27T08:21:49.265Z"
   },
   {
    "duration": 243,
    "start_time": "2023-08-27T08:21:49.283Z"
   },
   {
    "duration": 260,
    "start_time": "2023-08-27T08:21:49.528Z"
   },
   {
    "duration": 23,
    "start_time": "2023-08-27T08:21:49.790Z"
   },
   {
    "duration": 12,
    "start_time": "2023-08-27T08:21:49.815Z"
   },
   {
    "duration": 50,
    "start_time": "2023-08-27T08:21:49.828Z"
   },
   {
    "duration": 6,
    "start_time": "2023-08-27T08:21:49.880Z"
   },
   {
    "duration": 16,
    "start_time": "2023-08-27T08:21:49.888Z"
   },
   {
    "duration": 4,
    "start_time": "2023-08-27T08:22:24.244Z"
   },
   {
    "duration": 141,
    "start_time": "2023-08-27T08:22:24.250Z"
   },
   {
    "duration": 12,
    "start_time": "2023-08-27T08:22:24.393Z"
   },
   {
    "duration": 28,
    "start_time": "2023-08-27T08:22:24.408Z"
   },
   {
    "duration": 23,
    "start_time": "2023-08-27T08:22:24.438Z"
   },
   {
    "duration": 6,
    "start_time": "2023-08-27T08:22:24.463Z"
   },
   {
    "duration": 24,
    "start_time": "2023-08-27T08:22:24.471Z"
   },
   {
    "duration": 6,
    "start_time": "2023-08-27T08:22:24.497Z"
   },
   {
    "duration": 174,
    "start_time": "2023-08-27T08:22:24.505Z"
   },
   {
    "duration": 136,
    "start_time": "2023-08-27T08:22:24.681Z"
   },
   {
    "duration": 155,
    "start_time": "2023-08-27T08:22:24.819Z"
   },
   {
    "duration": 151,
    "start_time": "2023-08-27T08:22:24.976Z"
   },
   {
    "duration": 151,
    "start_time": "2023-08-27T08:22:25.129Z"
   },
   {
    "duration": 10,
    "start_time": "2023-08-27T08:22:25.283Z"
   },
   {
    "duration": 181,
    "start_time": "2023-08-27T08:22:25.295Z"
   },
   {
    "duration": 151,
    "start_time": "2023-08-27T08:22:25.478Z"
   },
   {
    "duration": 7,
    "start_time": "2023-08-27T08:22:25.630Z"
   },
   {
    "duration": 37,
    "start_time": "2023-08-27T08:22:25.639Z"
   },
   {
    "duration": 16,
    "start_time": "2023-08-27T08:22:25.678Z"
   },
   {
    "duration": 16,
    "start_time": "2023-08-27T08:22:25.696Z"
   },
   {
    "duration": 273,
    "start_time": "2023-08-27T08:22:25.713Z"
   },
   {
    "duration": 238,
    "start_time": "2023-08-27T08:22:25.988Z"
   },
   {
    "duration": 20,
    "start_time": "2023-08-27T08:22:26.228Z"
   },
   {
    "duration": 20,
    "start_time": "2023-08-27T08:22:26.250Z"
   },
   {
    "duration": 25,
    "start_time": "2023-08-27T08:22:26.271Z"
   },
   {
    "duration": 6,
    "start_time": "2023-08-27T08:22:26.298Z"
   },
   {
    "duration": 13,
    "start_time": "2023-08-27T08:22:26.306Z"
   },
   {
    "duration": 5,
    "start_time": "2023-08-27T08:22:34.170Z"
   },
   {
    "duration": 127,
    "start_time": "2023-08-27T08:22:34.177Z"
   },
   {
    "duration": 13,
    "start_time": "2023-08-27T08:22:34.307Z"
   },
   {
    "duration": 39,
    "start_time": "2023-08-27T08:22:34.322Z"
   },
   {
    "duration": 12,
    "start_time": "2023-08-27T08:22:34.363Z"
   },
   {
    "duration": 8,
    "start_time": "2023-08-27T08:22:34.376Z"
   },
   {
    "duration": 9,
    "start_time": "2023-08-27T08:22:34.386Z"
   },
   {
    "duration": 7,
    "start_time": "2023-08-27T08:22:34.396Z"
   },
   {
    "duration": 179,
    "start_time": "2023-08-27T08:22:34.405Z"
   },
   {
    "duration": 129,
    "start_time": "2023-08-27T08:22:34.585Z"
   },
   {
    "duration": 153,
    "start_time": "2023-08-27T08:22:34.717Z"
   },
   {
    "duration": 142,
    "start_time": "2023-08-27T08:22:34.872Z"
   },
   {
    "duration": 146,
    "start_time": "2023-08-27T08:22:35.016Z"
   },
   {
    "duration": 7,
    "start_time": "2023-08-27T08:22:35.166Z"
   },
   {
    "duration": 159,
    "start_time": "2023-08-27T08:22:35.175Z"
   },
   {
    "duration": 155,
    "start_time": "2023-08-27T08:22:35.337Z"
   },
   {
    "duration": 7,
    "start_time": "2023-08-27T08:22:35.493Z"
   },
   {
    "duration": 61,
    "start_time": "2023-08-27T08:22:35.502Z"
   },
   {
    "duration": 16,
    "start_time": "2023-08-27T08:22:35.565Z"
   },
   {
    "duration": 16,
    "start_time": "2023-08-27T08:22:35.583Z"
   },
   {
    "duration": 240,
    "start_time": "2023-08-27T08:22:35.601Z"
   },
   {
    "duration": 240,
    "start_time": "2023-08-27T08:22:35.843Z"
   },
   {
    "duration": 20,
    "start_time": "2023-08-27T08:22:36.085Z"
   },
   {
    "duration": 26,
    "start_time": "2023-08-27T08:22:36.107Z"
   },
   {
    "duration": 38,
    "start_time": "2023-08-27T08:22:36.134Z"
   },
   {
    "duration": 14,
    "start_time": "2023-08-27T08:22:36.173Z"
   },
   {
    "duration": 15,
    "start_time": "2023-08-27T08:22:36.189Z"
   },
   {
    "duration": 3,
    "start_time": "2023-08-27T09:23:54.634Z"
   },
   {
    "duration": 135,
    "start_time": "2023-08-27T09:23:54.640Z"
   },
   {
    "duration": 11,
    "start_time": "2023-08-27T09:23:54.778Z"
   },
   {
    "duration": 41,
    "start_time": "2023-08-27T09:23:54.791Z"
   },
   {
    "duration": 15,
    "start_time": "2023-08-27T09:23:54.835Z"
   },
   {
    "duration": 4,
    "start_time": "2023-08-27T09:23:54.852Z"
   },
   {
    "duration": 19,
    "start_time": "2023-08-27T09:23:54.859Z"
   },
   {
    "duration": 7,
    "start_time": "2023-08-27T09:23:54.880Z"
   },
   {
    "duration": 436,
    "start_time": "2023-08-27T09:23:54.889Z"
   },
   {
    "duration": 149,
    "start_time": "2023-08-27T09:23:55.327Z"
   },
   {
    "duration": 158,
    "start_time": "2023-08-27T09:23:55.478Z"
   },
   {
    "duration": 162,
    "start_time": "2023-08-27T09:23:55.638Z"
   },
   {
    "duration": 163,
    "start_time": "2023-08-27T09:23:55.802Z"
   },
   {
    "duration": 12,
    "start_time": "2023-08-27T09:23:55.969Z"
   },
   {
    "duration": 165,
    "start_time": "2023-08-27T09:23:55.983Z"
   },
   {
    "duration": 172,
    "start_time": "2023-08-27T09:23:56.150Z"
   },
   {
    "duration": 8,
    "start_time": "2023-08-27T09:23:56.324Z"
   },
   {
    "duration": 46,
    "start_time": "2023-08-27T09:23:56.334Z"
   },
   {
    "duration": 21,
    "start_time": "2023-08-27T09:23:56.381Z"
   },
   {
    "duration": 19,
    "start_time": "2023-08-27T09:23:56.404Z"
   },
   {
    "duration": 290,
    "start_time": "2023-08-27T09:23:56.426Z"
   },
   {
    "duration": 247,
    "start_time": "2023-08-27T09:23:56.717Z"
   },
   {
    "duration": 27,
    "start_time": "2023-08-27T09:23:56.966Z"
   },
   {
    "duration": 18,
    "start_time": "2023-08-27T09:23:56.995Z"
   },
   {
    "duration": 34,
    "start_time": "2023-08-27T09:23:57.015Z"
   },
   {
    "duration": 9,
    "start_time": "2023-08-27T09:23:57.061Z"
   },
   {
    "duration": 11,
    "start_time": "2023-08-27T09:23:57.072Z"
   },
   {
    "duration": 23,
    "start_time": "2023-08-27T09:23:57.085Z"
   },
   {
    "duration": 3,
    "start_time": "2023-08-27T09:25:06.747Z"
   },
   {
    "duration": 125,
    "start_time": "2023-08-27T09:25:06.752Z"
   },
   {
    "duration": 15,
    "start_time": "2023-08-27T09:25:06.879Z"
   },
   {
    "duration": 15,
    "start_time": "2023-08-27T09:25:06.896Z"
   },
   {
    "duration": 13,
    "start_time": "2023-08-27T09:25:06.914Z"
   },
   {
    "duration": 32,
    "start_time": "2023-08-27T09:25:06.929Z"
   },
   {
    "duration": 15,
    "start_time": "2023-08-27T09:25:06.965Z"
   },
   {
    "duration": 9,
    "start_time": "2023-08-27T09:25:06.982Z"
   },
   {
    "duration": 189,
    "start_time": "2023-08-27T09:25:06.993Z"
   },
   {
    "duration": 134,
    "start_time": "2023-08-27T09:25:07.183Z"
   },
   {
    "duration": 162,
    "start_time": "2023-08-27T09:25:07.319Z"
   },
   {
    "duration": 157,
    "start_time": "2023-08-27T09:25:07.483Z"
   },
   {
    "duration": 161,
    "start_time": "2023-08-27T09:25:07.643Z"
   },
   {
    "duration": 8,
    "start_time": "2023-08-27T09:25:07.807Z"
   },
   {
    "duration": 172,
    "start_time": "2023-08-27T09:25:07.817Z"
   },
   {
    "duration": 163,
    "start_time": "2023-08-27T09:25:07.991Z"
   },
   {
    "duration": 10,
    "start_time": "2023-08-27T09:25:08.158Z"
   },
   {
    "duration": 33,
    "start_time": "2023-08-27T09:25:08.176Z"
   },
   {
    "duration": 17,
    "start_time": "2023-08-27T09:25:08.211Z"
   },
   {
    "duration": 32,
    "start_time": "2023-08-27T09:25:08.230Z"
   },
   {
    "duration": 242,
    "start_time": "2023-08-27T09:25:08.266Z"
   },
   {
    "duration": 265,
    "start_time": "2023-08-27T09:25:08.509Z"
   },
   {
    "duration": 22,
    "start_time": "2023-08-27T09:25:08.776Z"
   },
   {
    "duration": 14,
    "start_time": "2023-08-27T09:25:08.799Z"
   },
   {
    "duration": 47,
    "start_time": "2023-08-27T09:25:08.815Z"
   },
   {
    "duration": 12,
    "start_time": "2023-08-27T09:25:08.864Z"
   },
   {
    "duration": 7,
    "start_time": "2023-08-27T09:25:08.879Z"
   },
   {
    "duration": 24,
    "start_time": "2023-08-27T09:25:08.888Z"
   },
   {
    "duration": 3,
    "start_time": "2023-08-27T09:28:56.235Z"
   },
   {
    "duration": 136,
    "start_time": "2023-08-27T09:28:56.240Z"
   },
   {
    "duration": 11,
    "start_time": "2023-08-27T09:28:56.378Z"
   },
   {
    "duration": 33,
    "start_time": "2023-08-27T09:28:56.391Z"
   },
   {
    "duration": 27,
    "start_time": "2023-08-27T09:28:56.428Z"
   },
   {
    "duration": 8,
    "start_time": "2023-08-27T09:28:56.457Z"
   },
   {
    "duration": 20,
    "start_time": "2023-08-27T09:28:56.468Z"
   },
   {
    "duration": 31,
    "start_time": "2023-08-27T09:28:56.490Z"
   },
   {
    "duration": 195,
    "start_time": "2023-08-27T09:28:56.523Z"
   },
   {
    "duration": 145,
    "start_time": "2023-08-27T09:28:56.720Z"
   },
   {
    "duration": 174,
    "start_time": "2023-08-27T09:28:56.867Z"
   },
   {
    "duration": 169,
    "start_time": "2023-08-27T09:28:57.043Z"
   },
   {
    "duration": 166,
    "start_time": "2023-08-27T09:28:57.214Z"
   },
   {
    "duration": 10,
    "start_time": "2023-08-27T09:28:57.385Z"
   },
   {
    "duration": 181,
    "start_time": "2023-08-27T09:28:57.397Z"
   },
   {
    "duration": 156,
    "start_time": "2023-08-27T09:28:57.580Z"
   },
   {
    "duration": 8,
    "start_time": "2023-08-27T09:28:57.738Z"
   },
   {
    "duration": 37,
    "start_time": "2023-08-27T09:28:57.759Z"
   },
   {
    "duration": 19,
    "start_time": "2023-08-27T09:28:57.798Z"
   },
   {
    "duration": 25,
    "start_time": "2023-08-27T09:28:57.819Z"
   },
   {
    "duration": 481,
    "start_time": "2023-08-27T09:28:57.859Z"
   },
   {
    "duration": 252,
    "start_time": "2023-08-27T09:28:58.342Z"
   },
   {
    "duration": 20,
    "start_time": "2023-08-27T09:28:58.596Z"
   },
   {
    "duration": 13,
    "start_time": "2023-08-27T09:28:58.617Z"
   },
   {
    "duration": 78,
    "start_time": "2023-08-27T09:28:58.632Z"
   },
   {
    "duration": 7,
    "start_time": "2023-08-27T09:28:58.712Z"
   },
   {
    "duration": 7,
    "start_time": "2023-08-27T09:28:58.721Z"
   },
   {
    "duration": 22,
    "start_time": "2023-08-27T09:28:58.730Z"
   },
   {
    "duration": 3,
    "start_time": "2023-08-27T09:29:21.837Z"
   },
   {
    "duration": 113,
    "start_time": "2023-08-27T09:29:21.842Z"
   },
   {
    "duration": 20,
    "start_time": "2023-08-27T09:29:21.957Z"
   },
   {
    "duration": 10,
    "start_time": "2023-08-27T09:29:21.979Z"
   },
   {
    "duration": 12,
    "start_time": "2023-08-27T09:29:21.992Z"
   },
   {
    "duration": 26,
    "start_time": "2023-08-27T09:29:22.006Z"
   },
   {
    "duration": 11,
    "start_time": "2023-08-27T09:29:22.034Z"
   },
   {
    "duration": 28,
    "start_time": "2023-08-27T09:29:22.047Z"
   },
   {
    "duration": 174,
    "start_time": "2023-08-27T09:29:22.078Z"
   },
   {
    "duration": 132,
    "start_time": "2023-08-27T09:29:22.253Z"
   },
   {
    "duration": 168,
    "start_time": "2023-08-27T09:29:22.387Z"
   },
   {
    "duration": 147,
    "start_time": "2023-08-27T09:29:22.559Z"
   },
   {
    "duration": 170,
    "start_time": "2023-08-27T09:29:22.708Z"
   },
   {
    "duration": 10,
    "start_time": "2023-08-27T09:29:22.882Z"
   },
   {
    "duration": 256,
    "start_time": "2023-08-27T09:29:22.894Z"
   },
   {
    "duration": 174,
    "start_time": "2023-08-27T09:29:23.152Z"
   },
   {
    "duration": 9,
    "start_time": "2023-08-27T09:29:23.328Z"
   },
   {
    "duration": 43,
    "start_time": "2023-08-27T09:29:23.339Z"
   },
   {
    "duration": 20,
    "start_time": "2023-08-27T09:29:23.384Z"
   },
   {
    "duration": 18,
    "start_time": "2023-08-27T09:29:23.406Z"
   },
   {
    "duration": 269,
    "start_time": "2023-08-27T09:29:23.425Z"
   },
   {
    "duration": 265,
    "start_time": "2023-08-27T09:29:23.696Z"
   },
   {
    "duration": 30,
    "start_time": "2023-08-27T09:29:23.963Z"
   },
   {
    "duration": 29,
    "start_time": "2023-08-27T09:29:23.994Z"
   },
   {
    "duration": 55,
    "start_time": "2023-08-27T09:29:24.026Z"
   },
   {
    "duration": 11,
    "start_time": "2023-08-27T09:29:24.086Z"
   },
   {
    "duration": 15,
    "start_time": "2023-08-27T09:29:24.099Z"
   },
   {
    "duration": 21,
    "start_time": "2023-08-27T09:29:24.117Z"
   },
   {
    "duration": 4,
    "start_time": "2023-08-27T09:29:32.615Z"
   },
   {
    "duration": 131,
    "start_time": "2023-08-27T09:29:32.622Z"
   },
   {
    "duration": 17,
    "start_time": "2023-08-27T09:29:32.754Z"
   },
   {
    "duration": 24,
    "start_time": "2023-08-27T09:29:32.773Z"
   },
   {
    "duration": 11,
    "start_time": "2023-08-27T09:29:32.800Z"
   },
   {
    "duration": 9,
    "start_time": "2023-08-27T09:29:32.813Z"
   },
   {
    "duration": 15,
    "start_time": "2023-08-27T09:29:32.824Z"
   },
   {
    "duration": 7,
    "start_time": "2023-08-27T09:29:32.841Z"
   },
   {
    "duration": 182,
    "start_time": "2023-08-27T09:29:32.850Z"
   },
   {
    "duration": 149,
    "start_time": "2023-08-27T09:29:33.034Z"
   },
   {
    "duration": 154,
    "start_time": "2023-08-27T09:29:33.185Z"
   },
   {
    "duration": 180,
    "start_time": "2023-08-27T09:29:33.341Z"
   },
   {
    "duration": 163,
    "start_time": "2023-08-27T09:29:33.523Z"
   },
   {
    "duration": 8,
    "start_time": "2023-08-27T09:29:33.690Z"
   },
   {
    "duration": 154,
    "start_time": "2023-08-27T09:29:33.700Z"
   },
   {
    "duration": 173,
    "start_time": "2023-08-27T09:29:33.858Z"
   },
   {
    "duration": 9,
    "start_time": "2023-08-27T09:29:34.034Z"
   },
   {
    "duration": 54,
    "start_time": "2023-08-27T09:29:34.045Z"
   },
   {
    "duration": 22,
    "start_time": "2023-08-27T09:29:34.101Z"
   },
   {
    "duration": 43,
    "start_time": "2023-08-27T09:29:34.125Z"
   },
   {
    "duration": 300,
    "start_time": "2023-08-27T09:29:34.171Z"
   },
   {
    "duration": 245,
    "start_time": "2023-08-27T09:29:34.473Z"
   },
   {
    "duration": 21,
    "start_time": "2023-08-27T09:29:34.720Z"
   },
   {
    "duration": 16,
    "start_time": "2023-08-27T09:29:34.759Z"
   },
   {
    "duration": 26,
    "start_time": "2023-08-27T09:29:34.777Z"
   },
   {
    "duration": 17,
    "start_time": "2023-08-27T09:29:34.805Z"
   },
   {
    "duration": 13,
    "start_time": "2023-08-27T09:29:34.824Z"
   },
   {
    "duration": 33,
    "start_time": "2023-08-27T09:29:34.839Z"
   },
   {
    "duration": 874,
    "start_time": "2023-08-27T13:43:41.746Z"
   },
   {
    "duration": 584,
    "start_time": "2023-08-27T13:43:42.622Z"
   },
   {
    "duration": 11,
    "start_time": "2023-08-27T13:43:43.208Z"
   },
   {
    "duration": 10,
    "start_time": "2023-08-27T13:43:43.221Z"
   },
   {
    "duration": 34,
    "start_time": "2023-08-27T13:43:43.233Z"
   },
   {
    "duration": 12,
    "start_time": "2023-08-27T13:43:43.269Z"
   },
   {
    "duration": 10,
    "start_time": "2023-08-27T13:43:43.283Z"
   },
   {
    "duration": 7,
    "start_time": "2023-08-27T13:43:43.295Z"
   },
   {
    "duration": 657,
    "start_time": "2023-08-27T13:43:43.304Z"
   },
   {
    "duration": 143,
    "start_time": "2023-08-27T13:43:43.964Z"
   },
   {
    "duration": 197,
    "start_time": "2023-08-27T13:43:44.109Z"
   },
   {
    "duration": 161,
    "start_time": "2023-08-27T13:43:44.308Z"
   },
   {
    "duration": 148,
    "start_time": "2023-08-27T13:43:44.470Z"
   },
   {
    "duration": 9,
    "start_time": "2023-08-27T13:43:44.621Z"
   },
   {
    "duration": 157,
    "start_time": "2023-08-27T13:43:44.632Z"
   },
   {
    "duration": 144,
    "start_time": "2023-08-27T13:43:44.791Z"
   },
   {
    "duration": 7,
    "start_time": "2023-08-27T13:43:44.936Z"
   },
   {
    "duration": 38,
    "start_time": "2023-08-27T13:43:44.944Z"
   },
   {
    "duration": 16,
    "start_time": "2023-08-27T13:43:44.984Z"
   },
   {
    "duration": 16,
    "start_time": "2023-08-27T13:43:45.002Z"
   },
   {
    "duration": 248,
    "start_time": "2023-08-27T13:43:45.020Z"
   },
   {
    "duration": 237,
    "start_time": "2023-08-27T13:43:45.269Z"
   },
   {
    "duration": 19,
    "start_time": "2023-08-27T13:43:45.508Z"
   },
   {
    "duration": 37,
    "start_time": "2023-08-27T13:43:45.528Z"
   },
   {
    "duration": 115,
    "start_time": "2023-08-27T13:43:45.567Z"
   },
   {
    "duration": 7,
    "start_time": "2023-08-27T13:43:45.683Z"
   },
   {
    "duration": 17,
    "start_time": "2023-08-27T13:43:45.691Z"
   },
   {
    "duration": 20,
    "start_time": "2023-08-27T13:43:45.709Z"
   },
   {
    "duration": 110,
    "start_time": "2023-08-27T13:43:45.731Z"
   },
   {
    "duration": 3,
    "start_time": "2023-08-27T13:44:12.542Z"
   },
   {
    "duration": 109,
    "start_time": "2023-08-27T13:44:12.547Z"
   },
   {
    "duration": 11,
    "start_time": "2023-08-27T13:44:12.658Z"
   },
   {
    "duration": 18,
    "start_time": "2023-08-27T13:44:12.672Z"
   },
   {
    "duration": 16,
    "start_time": "2023-08-27T13:44:12.693Z"
   },
   {
    "duration": 5,
    "start_time": "2023-08-27T13:44:12.711Z"
   },
   {
    "duration": 11,
    "start_time": "2023-08-27T13:44:12.717Z"
   },
   {
    "duration": 7,
    "start_time": "2023-08-27T13:44:12.730Z"
   },
   {
    "duration": 167,
    "start_time": "2023-08-27T13:44:12.758Z"
   },
   {
    "duration": 132,
    "start_time": "2023-08-27T13:44:12.927Z"
   },
   {
    "duration": 163,
    "start_time": "2023-08-27T13:44:13.061Z"
   },
   {
    "duration": 150,
    "start_time": "2023-08-27T13:44:13.226Z"
   },
   {
    "duration": 144,
    "start_time": "2023-08-27T13:44:13.378Z"
   },
   {
    "duration": 7,
    "start_time": "2023-08-27T13:44:13.526Z"
   },
   {
    "duration": 150,
    "start_time": "2023-08-27T13:44:13.535Z"
   },
   {
    "duration": 150,
    "start_time": "2023-08-27T13:44:13.688Z"
   },
   {
    "duration": 20,
    "start_time": "2023-08-27T13:44:13.840Z"
   },
   {
    "duration": 24,
    "start_time": "2023-08-27T13:44:13.861Z"
   },
   {
    "duration": 17,
    "start_time": "2023-08-27T13:44:13.887Z"
   },
   {
    "duration": 16,
    "start_time": "2023-08-27T13:44:13.906Z"
   },
   {
    "duration": 301,
    "start_time": "2023-08-27T13:44:13.924Z"
   },
   {
    "duration": 248,
    "start_time": "2023-08-27T13:44:14.227Z"
   },
   {
    "duration": 22,
    "start_time": "2023-08-27T13:44:14.477Z"
   },
   {
    "duration": 11,
    "start_time": "2023-08-27T13:44:14.501Z"
   },
   {
    "duration": 49,
    "start_time": "2023-08-27T13:44:14.513Z"
   },
   {
    "duration": 7,
    "start_time": "2023-08-27T13:44:14.563Z"
   },
   {
    "duration": 12,
    "start_time": "2023-08-27T13:44:14.571Z"
   },
   {
    "duration": 13,
    "start_time": "2023-08-27T13:44:14.584Z"
   },
   {
    "duration": 13,
    "start_time": "2023-08-27T13:44:14.598Z"
   },
   {
    "duration": 4,
    "start_time": "2023-08-27T13:44:35.022Z"
   },
   {
    "duration": 109,
    "start_time": "2023-08-27T13:44:35.028Z"
   },
   {
    "duration": 12,
    "start_time": "2023-08-27T13:44:35.138Z"
   },
   {
    "duration": 24,
    "start_time": "2023-08-27T13:44:35.151Z"
   },
   {
    "duration": 13,
    "start_time": "2023-08-27T13:44:35.178Z"
   },
   {
    "duration": 6,
    "start_time": "2023-08-27T13:44:35.193Z"
   },
   {
    "duration": 11,
    "start_time": "2023-08-27T13:44:35.201Z"
   },
   {
    "duration": 10,
    "start_time": "2023-08-27T13:44:35.214Z"
   },
   {
    "duration": 185,
    "start_time": "2023-08-27T13:44:35.225Z"
   },
   {
    "duration": 128,
    "start_time": "2023-08-27T13:44:35.413Z"
   },
   {
    "duration": 249,
    "start_time": "2023-08-27T13:44:35.543Z"
   },
   {
    "duration": 148,
    "start_time": "2023-08-27T13:44:35.794Z"
   },
   {
    "duration": 158,
    "start_time": "2023-08-27T13:44:35.944Z"
   },
   {
    "duration": 7,
    "start_time": "2023-08-27T13:44:36.105Z"
   },
   {
    "duration": 142,
    "start_time": "2023-08-27T13:44:36.114Z"
   },
   {
    "duration": 147,
    "start_time": "2023-08-27T13:44:36.259Z"
   },
   {
    "duration": 6,
    "start_time": "2023-08-27T13:44:36.408Z"
   },
   {
    "duration": 63,
    "start_time": "2023-08-27T13:44:36.416Z"
   },
   {
    "duration": 17,
    "start_time": "2023-08-27T13:44:36.481Z"
   },
   {
    "duration": 16,
    "start_time": "2023-08-27T13:44:36.499Z"
   },
   {
    "duration": 235,
    "start_time": "2023-08-27T13:44:36.516Z"
   },
   {
    "duration": 233,
    "start_time": "2023-08-27T13:44:36.753Z"
   },
   {
    "duration": 19,
    "start_time": "2023-08-27T13:44:36.987Z"
   },
   {
    "duration": 12,
    "start_time": "2023-08-27T13:44:37.007Z"
   },
   {
    "duration": 44,
    "start_time": "2023-08-27T13:44:37.021Z"
   },
   {
    "duration": 7,
    "start_time": "2023-08-27T13:44:37.067Z"
   },
   {
    "duration": 9,
    "start_time": "2023-08-27T13:44:37.076Z"
   },
   {
    "duration": 26,
    "start_time": "2023-08-27T13:44:37.087Z"
   },
   {
    "duration": 152,
    "start_time": "2023-08-27T13:44:37.115Z"
   },
   {
    "duration": 3,
    "start_time": "2023-08-27T13:45:07.210Z"
   },
   {
    "duration": 110,
    "start_time": "2023-08-27T13:45:07.215Z"
   },
   {
    "duration": 10,
    "start_time": "2023-08-27T13:45:07.327Z"
   },
   {
    "duration": 23,
    "start_time": "2023-08-27T13:45:07.339Z"
   },
   {
    "duration": 13,
    "start_time": "2023-08-27T13:45:07.365Z"
   },
   {
    "duration": 5,
    "start_time": "2023-08-27T13:45:07.380Z"
   },
   {
    "duration": 15,
    "start_time": "2023-08-27T13:45:07.386Z"
   },
   {
    "duration": 14,
    "start_time": "2023-08-27T13:45:07.402Z"
   },
   {
    "duration": 180,
    "start_time": "2023-08-27T13:45:07.418Z"
   },
   {
    "duration": 129,
    "start_time": "2023-08-27T13:45:07.599Z"
   },
   {
    "duration": 160,
    "start_time": "2023-08-27T13:45:07.730Z"
   },
   {
    "duration": 151,
    "start_time": "2023-08-27T13:45:07.891Z"
   },
   {
    "duration": 266,
    "start_time": "2023-08-27T13:45:08.044Z"
   },
   {
    "duration": 7,
    "start_time": "2023-08-27T13:45:08.313Z"
   },
   {
    "duration": 150,
    "start_time": "2023-08-27T13:45:08.321Z"
   },
   {
    "duration": 153,
    "start_time": "2023-08-27T13:45:08.473Z"
   },
   {
    "duration": 8,
    "start_time": "2023-08-27T13:45:08.627Z"
   },
   {
    "duration": 42,
    "start_time": "2023-08-27T13:45:08.637Z"
   },
   {
    "duration": 18,
    "start_time": "2023-08-27T13:45:08.681Z"
   },
   {
    "duration": 17,
    "start_time": "2023-08-27T13:45:08.701Z"
   },
   {
    "duration": 247,
    "start_time": "2023-08-27T13:45:08.719Z"
   },
   {
    "duration": 236,
    "start_time": "2023-08-27T13:45:08.967Z"
   },
   {
    "duration": 21,
    "start_time": "2023-08-27T13:45:09.205Z"
   },
   {
    "duration": 12,
    "start_time": "2023-08-27T13:45:09.228Z"
   },
   {
    "duration": 42,
    "start_time": "2023-08-27T13:45:09.242Z"
   },
   {
    "duration": 6,
    "start_time": "2023-08-27T13:45:09.285Z"
   },
   {
    "duration": 7,
    "start_time": "2023-08-27T13:45:09.293Z"
   },
   {
    "duration": 21,
    "start_time": "2023-08-27T13:45:09.302Z"
   },
   {
    "duration": 158,
    "start_time": "2023-08-27T13:45:09.324Z"
   },
   {
    "duration": 4,
    "start_time": "2023-08-27T13:45:16.094Z"
   },
   {
    "duration": 120,
    "start_time": "2023-08-27T13:45:16.100Z"
   },
   {
    "duration": 11,
    "start_time": "2023-08-27T13:45:16.222Z"
   },
   {
    "duration": 25,
    "start_time": "2023-08-27T13:45:16.234Z"
   },
   {
    "duration": 12,
    "start_time": "2023-08-27T13:45:16.262Z"
   },
   {
    "duration": 5,
    "start_time": "2023-08-27T13:45:16.276Z"
   },
   {
    "duration": 19,
    "start_time": "2023-08-27T13:45:16.282Z"
   },
   {
    "duration": 25,
    "start_time": "2023-08-27T13:45:16.302Z"
   },
   {
    "duration": 179,
    "start_time": "2023-08-27T13:45:16.328Z"
   },
   {
    "duration": 119,
    "start_time": "2023-08-27T13:45:16.509Z"
   },
   {
    "duration": 158,
    "start_time": "2023-08-27T13:45:16.630Z"
   },
   {
    "duration": 145,
    "start_time": "2023-08-27T13:45:16.790Z"
   },
   {
    "duration": 142,
    "start_time": "2023-08-27T13:45:16.939Z"
   },
   {
    "duration": 7,
    "start_time": "2023-08-27T13:45:17.082Z"
   },
   {
    "duration": 153,
    "start_time": "2023-08-27T13:45:17.091Z"
   },
   {
    "duration": 142,
    "start_time": "2023-08-27T13:45:17.246Z"
   },
   {
    "duration": 7,
    "start_time": "2023-08-27T13:45:17.390Z"
   },
   {
    "duration": 27,
    "start_time": "2023-08-27T13:45:17.399Z"
   },
   {
    "duration": 38,
    "start_time": "2023-08-27T13:45:17.428Z"
   },
   {
    "duration": 17,
    "start_time": "2023-08-27T13:45:17.468Z"
   },
   {
    "duration": 343,
    "start_time": "2023-08-27T13:45:17.486Z"
   },
   {
    "duration": 243,
    "start_time": "2023-08-27T13:45:17.831Z"
   },
   {
    "duration": 20,
    "start_time": "2023-08-27T13:45:18.076Z"
   },
   {
    "duration": 12,
    "start_time": "2023-08-27T13:45:18.098Z"
   },
   {
    "duration": 48,
    "start_time": "2023-08-27T13:45:18.112Z"
   },
   {
    "duration": 7,
    "start_time": "2023-08-27T13:45:18.162Z"
   },
   {
    "duration": 8,
    "start_time": "2023-08-27T13:45:18.170Z"
   },
   {
    "duration": 18,
    "start_time": "2023-08-27T13:45:18.179Z"
   },
   {
    "duration": 134,
    "start_time": "2023-08-27T13:45:18.199Z"
   },
   {
    "duration": 3,
    "start_time": "2023-08-27T13:58:13.548Z"
   },
   {
    "duration": 113,
    "start_time": "2023-08-27T13:58:13.553Z"
   },
   {
    "duration": 10,
    "start_time": "2023-08-27T13:58:13.668Z"
   },
   {
    "duration": 15,
    "start_time": "2023-08-27T13:58:13.679Z"
   },
   {
    "duration": 22,
    "start_time": "2023-08-27T13:58:13.696Z"
   },
   {
    "duration": 6,
    "start_time": "2023-08-27T13:58:13.719Z"
   },
   {
    "duration": 20,
    "start_time": "2023-08-27T13:58:13.726Z"
   },
   {
    "duration": 14,
    "start_time": "2023-08-27T13:58:13.748Z"
   },
   {
    "duration": 160,
    "start_time": "2023-08-27T13:58:13.763Z"
   },
   {
    "duration": 129,
    "start_time": "2023-08-27T13:58:13.924Z"
   },
   {
    "duration": 210,
    "start_time": "2023-08-27T13:58:14.059Z"
   },
   {
    "duration": 162,
    "start_time": "2023-08-27T13:58:14.271Z"
   },
   {
    "duration": 137,
    "start_time": "2023-08-27T13:58:14.435Z"
   },
   {
    "duration": 7,
    "start_time": "2023-08-27T13:58:14.574Z"
   },
   {
    "duration": 155,
    "start_time": "2023-08-27T13:58:14.583Z"
   },
   {
    "duration": 153,
    "start_time": "2023-08-27T13:58:14.740Z"
   },
   {
    "duration": 6,
    "start_time": "2023-08-27T13:58:14.895Z"
   },
   {
    "duration": 29,
    "start_time": "2023-08-27T13:58:14.903Z"
   },
   {
    "duration": 33,
    "start_time": "2023-08-27T13:58:14.934Z"
   },
   {
    "duration": 16,
    "start_time": "2023-08-27T13:58:14.969Z"
   },
   {
    "duration": 239,
    "start_time": "2023-08-27T13:58:14.986Z"
   },
   {
    "duration": 247,
    "start_time": "2023-08-27T13:58:15.226Z"
   },
   {
    "duration": 20,
    "start_time": "2023-08-27T13:58:15.474Z"
   },
   {
    "duration": 13,
    "start_time": "2023-08-27T13:58:15.495Z"
   },
   {
    "duration": 50,
    "start_time": "2023-08-27T13:58:15.509Z"
   },
   {
    "duration": 7,
    "start_time": "2023-08-27T13:58:15.561Z"
   },
   {
    "duration": 19,
    "start_time": "2023-08-27T13:58:15.570Z"
   },
   {
    "duration": 20,
    "start_time": "2023-08-27T13:58:15.591Z"
   },
   {
    "duration": 114,
    "start_time": "2023-08-27T13:58:15.613Z"
   },
   {
    "duration": 3,
    "start_time": "2023-08-27T13:58:24.635Z"
   },
   {
    "duration": 120,
    "start_time": "2023-08-27T13:58:24.640Z"
   },
   {
    "duration": 11,
    "start_time": "2023-08-27T13:58:24.761Z"
   },
   {
    "duration": 36,
    "start_time": "2023-08-27T13:58:24.773Z"
   },
   {
    "duration": 11,
    "start_time": "2023-08-27T13:58:24.812Z"
   },
   {
    "duration": 6,
    "start_time": "2023-08-27T13:58:24.825Z"
   },
   {
    "duration": 9,
    "start_time": "2023-08-27T13:58:24.832Z"
   },
   {
    "duration": 6,
    "start_time": "2023-08-27T13:58:24.842Z"
   },
   {
    "duration": 164,
    "start_time": "2023-08-27T13:58:24.859Z"
   },
   {
    "duration": 120,
    "start_time": "2023-08-27T13:58:25.025Z"
   },
   {
    "duration": 296,
    "start_time": "2023-08-27T13:58:25.147Z"
   },
   {
    "duration": 147,
    "start_time": "2023-08-27T13:58:25.445Z"
   },
   {
    "duration": 144,
    "start_time": "2023-08-27T13:58:25.594Z"
   },
   {
    "duration": 19,
    "start_time": "2023-08-27T13:58:25.740Z"
   },
   {
    "duration": 137,
    "start_time": "2023-08-27T13:58:25.761Z"
   },
   {
    "duration": 151,
    "start_time": "2023-08-27T13:58:25.899Z"
   },
   {
    "duration": 8,
    "start_time": "2023-08-27T13:58:26.058Z"
   },
   {
    "duration": 37,
    "start_time": "2023-08-27T13:58:26.067Z"
   },
   {
    "duration": 19,
    "start_time": "2023-08-27T13:58:26.105Z"
   },
   {
    "duration": 16,
    "start_time": "2023-08-27T13:58:26.126Z"
   },
   {
    "duration": 243,
    "start_time": "2023-08-27T13:58:26.143Z"
   },
   {
    "duration": 221,
    "start_time": "2023-08-27T13:58:26.387Z"
   },
   {
    "duration": 20,
    "start_time": "2023-08-27T13:58:26.610Z"
   },
   {
    "duration": 33,
    "start_time": "2023-08-27T13:58:26.632Z"
   },
   {
    "duration": 42,
    "start_time": "2023-08-27T13:58:26.666Z"
   },
   {
    "duration": 24,
    "start_time": "2023-08-27T13:58:26.709Z"
   },
   {
    "duration": 19,
    "start_time": "2023-08-27T13:58:26.735Z"
   },
   {
    "duration": 43,
    "start_time": "2023-08-27T13:58:26.756Z"
   },
   {
    "duration": 11,
    "start_time": "2023-08-27T13:58:26.801Z"
   },
   {
    "duration": 3,
    "start_time": "2023-08-27T13:59:22.246Z"
   },
   {
    "duration": 108,
    "start_time": "2023-08-27T13:59:22.251Z"
   },
   {
    "duration": 11,
    "start_time": "2023-08-27T13:59:22.361Z"
   },
   {
    "duration": 31,
    "start_time": "2023-08-27T13:59:22.373Z"
   },
   {
    "duration": 13,
    "start_time": "2023-08-27T13:59:22.406Z"
   },
   {
    "duration": 11,
    "start_time": "2023-08-27T13:59:22.421Z"
   },
   {
    "duration": 14,
    "start_time": "2023-08-27T13:59:22.433Z"
   },
   {
    "duration": 10,
    "start_time": "2023-08-27T13:59:22.449Z"
   },
   {
    "duration": 156,
    "start_time": "2023-08-27T13:59:22.460Z"
   },
   {
    "duration": 125,
    "start_time": "2023-08-27T13:59:22.618Z"
   },
   {
    "duration": 160,
    "start_time": "2023-08-27T13:59:22.745Z"
   },
   {
    "duration": 155,
    "start_time": "2023-08-27T13:59:22.907Z"
   },
   {
    "duration": 163,
    "start_time": "2023-08-27T13:59:23.065Z"
   },
   {
    "duration": 8,
    "start_time": "2023-08-27T13:59:23.231Z"
   },
   {
    "duration": 148,
    "start_time": "2023-08-27T13:59:23.240Z"
   },
   {
    "duration": 143,
    "start_time": "2023-08-27T13:59:23.390Z"
   },
   {
    "duration": 6,
    "start_time": "2023-08-27T13:59:23.535Z"
   },
   {
    "duration": 36,
    "start_time": "2023-08-27T13:59:23.543Z"
   },
   {
    "duration": 19,
    "start_time": "2023-08-27T13:59:23.581Z"
   },
   {
    "duration": 14,
    "start_time": "2023-08-27T13:59:23.602Z"
   },
   {
    "duration": 273,
    "start_time": "2023-08-27T13:59:23.618Z"
   },
   {
    "duration": 268,
    "start_time": "2023-08-27T13:59:23.893Z"
   },
   {
    "duration": 24,
    "start_time": "2023-08-27T13:59:24.163Z"
   },
   {
    "duration": 115,
    "start_time": "2023-08-27T13:59:24.189Z"
   },
   {
    "duration": 55,
    "start_time": "2023-08-27T13:59:24.306Z"
   },
   {
    "duration": 6,
    "start_time": "2023-08-27T13:59:24.363Z"
   },
   {
    "duration": 32,
    "start_time": "2023-08-27T13:59:24.370Z"
   },
   {
    "duration": 28,
    "start_time": "2023-08-27T13:59:24.404Z"
   },
   {
    "duration": 14,
    "start_time": "2023-08-27T13:59:24.434Z"
   },
   {
    "duration": 4,
    "start_time": "2023-08-27T14:00:23.534Z"
   },
   {
    "duration": 105,
    "start_time": "2023-08-27T14:00:23.540Z"
   },
   {
    "duration": 11,
    "start_time": "2023-08-27T14:00:23.646Z"
   },
   {
    "duration": 12,
    "start_time": "2023-08-27T14:00:23.658Z"
   },
   {
    "duration": 16,
    "start_time": "2023-08-27T14:00:23.672Z"
   },
   {
    "duration": 4,
    "start_time": "2023-08-27T14:00:23.690Z"
   },
   {
    "duration": 12,
    "start_time": "2023-08-27T14:00:23.696Z"
   },
   {
    "duration": 10,
    "start_time": "2023-08-27T14:00:23.710Z"
   },
   {
    "duration": 328,
    "start_time": "2023-08-27T14:00:23.722Z"
   },
   {
    "duration": 173,
    "start_time": "2023-08-27T14:00:24.052Z"
   },
   {
    "duration": 186,
    "start_time": "2023-08-27T14:00:24.227Z"
   },
   {
    "duration": 149,
    "start_time": "2023-08-27T14:00:24.415Z"
   },
   {
    "duration": 151,
    "start_time": "2023-08-27T14:00:24.565Z"
   },
   {
    "duration": 7,
    "start_time": "2023-08-27T14:00:24.719Z"
   },
   {
    "duration": 158,
    "start_time": "2023-08-27T14:00:24.728Z"
   },
   {
    "duration": 158,
    "start_time": "2023-08-27T14:00:24.887Z"
   },
   {
    "duration": 13,
    "start_time": "2023-08-27T14:00:25.046Z"
   },
   {
    "duration": 31,
    "start_time": "2023-08-27T14:00:25.061Z"
   },
   {
    "duration": 19,
    "start_time": "2023-08-27T14:00:25.094Z"
   },
   {
    "duration": 44,
    "start_time": "2023-08-27T14:00:25.115Z"
   },
   {
    "duration": 254,
    "start_time": "2023-08-27T14:00:25.161Z"
   },
   {
    "duration": 226,
    "start_time": "2023-08-27T14:00:25.417Z"
   },
   {
    "duration": 31,
    "start_time": "2023-08-27T14:00:25.645Z"
   },
   {
    "duration": 12,
    "start_time": "2023-08-27T14:00:25.678Z"
   },
   {
    "duration": 26,
    "start_time": "2023-08-27T14:00:25.692Z"
   },
   {
    "duration": 7,
    "start_time": "2023-08-27T14:00:25.721Z"
   },
   {
    "duration": 33,
    "start_time": "2023-08-27T14:00:25.729Z"
   },
   {
    "duration": 24,
    "start_time": "2023-08-27T14:00:25.764Z"
   },
   {
    "duration": 123,
    "start_time": "2023-08-27T14:00:25.789Z"
   },
   {
    "duration": 3,
    "start_time": "2023-08-27T14:03:01.218Z"
   },
   {
    "duration": 155,
    "start_time": "2023-08-27T14:03:01.223Z"
   },
   {
    "duration": 11,
    "start_time": "2023-08-27T14:03:01.379Z"
   },
   {
    "duration": 35,
    "start_time": "2023-08-27T14:03:01.391Z"
   },
   {
    "duration": 45,
    "start_time": "2023-08-27T14:03:01.428Z"
   },
   {
    "duration": 45,
    "start_time": "2023-08-27T14:03:01.474Z"
   },
   {
    "duration": 69,
    "start_time": "2023-08-27T14:03:01.521Z"
   },
   {
    "duration": 69,
    "start_time": "2023-08-27T14:03:01.592Z"
   },
   {
    "duration": 225,
    "start_time": "2023-08-27T14:03:01.663Z"
   },
   {
    "duration": 126,
    "start_time": "2023-08-27T14:03:01.890Z"
   },
   {
    "duration": 162,
    "start_time": "2023-08-27T14:03:02.017Z"
   },
   {
    "duration": 158,
    "start_time": "2023-08-27T14:03:02.181Z"
   },
   {
    "duration": 156,
    "start_time": "2023-08-27T14:03:02.341Z"
   },
   {
    "duration": 8,
    "start_time": "2023-08-27T14:03:02.500Z"
   },
   {
    "duration": 166,
    "start_time": "2023-08-27T14:03:02.509Z"
   },
   {
    "duration": 146,
    "start_time": "2023-08-27T14:03:02.677Z"
   },
   {
    "duration": 7,
    "start_time": "2023-08-27T14:03:02.824Z"
   },
   {
    "duration": 45,
    "start_time": "2023-08-27T14:03:02.832Z"
   },
   {
    "duration": 51,
    "start_time": "2023-08-27T14:03:02.880Z"
   },
   {
    "duration": 43,
    "start_time": "2023-08-27T14:03:02.932Z"
   },
   {
    "duration": 246,
    "start_time": "2023-08-27T14:03:02.976Z"
   },
   {
    "duration": 238,
    "start_time": "2023-08-27T14:03:03.224Z"
   },
   {
    "duration": 20,
    "start_time": "2023-08-27T14:03:03.465Z"
   },
   {
    "duration": 12,
    "start_time": "2023-08-27T14:03:03.487Z"
   },
   {
    "duration": 28,
    "start_time": "2023-08-27T14:03:03.501Z"
   },
   {
    "duration": 35,
    "start_time": "2023-08-27T14:03:03.530Z"
   },
   {
    "duration": 6,
    "start_time": "2023-08-27T14:03:03.566Z"
   },
   {
    "duration": 16,
    "start_time": "2023-08-27T14:03:03.573Z"
   },
   {
    "duration": 197,
    "start_time": "2023-08-27T14:03:03.591Z"
   },
   {
    "duration": 3,
    "start_time": "2023-08-27T14:05:55.051Z"
   },
   {
    "duration": 102,
    "start_time": "2023-08-27T14:05:55.057Z"
   },
   {
    "duration": 10,
    "start_time": "2023-08-27T14:05:55.160Z"
   },
   {
    "duration": 9,
    "start_time": "2023-08-27T14:05:55.172Z"
   },
   {
    "duration": 10,
    "start_time": "2023-08-27T14:05:55.183Z"
   },
   {
    "duration": 10,
    "start_time": "2023-08-27T14:05:55.195Z"
   },
   {
    "duration": 9,
    "start_time": "2023-08-27T14:05:55.206Z"
   },
   {
    "duration": 13,
    "start_time": "2023-08-27T14:05:55.216Z"
   },
   {
    "duration": 195,
    "start_time": "2023-08-27T14:05:55.231Z"
   },
   {
    "duration": 295,
    "start_time": "2023-08-27T14:05:55.427Z"
   },
   {
    "duration": 147,
    "start_time": "2023-08-27T14:05:55.724Z"
   },
   {
    "duration": 140,
    "start_time": "2023-08-27T14:05:55.873Z"
   },
   {
    "duration": 159,
    "start_time": "2023-08-27T14:05:56.015Z"
   },
   {
    "duration": 7,
    "start_time": "2023-08-27T14:05:56.177Z"
   },
   {
    "duration": 146,
    "start_time": "2023-08-27T14:05:56.186Z"
   },
   {
    "duration": 150,
    "start_time": "2023-08-27T14:05:56.334Z"
   },
   {
    "duration": 7,
    "start_time": "2023-08-27T14:05:56.486Z"
   },
   {
    "duration": 24,
    "start_time": "2023-08-27T14:05:56.495Z"
   },
   {
    "duration": 40,
    "start_time": "2023-08-27T14:05:56.521Z"
   },
   {
    "duration": 17,
    "start_time": "2023-08-27T14:05:56.563Z"
   },
   {
    "duration": 239,
    "start_time": "2023-08-27T14:05:56.581Z"
   },
   {
    "duration": 239,
    "start_time": "2023-08-27T14:05:56.821Z"
   },
   {
    "duration": 22,
    "start_time": "2023-08-27T14:05:57.062Z"
   },
   {
    "duration": 13,
    "start_time": "2023-08-27T14:05:57.085Z"
   },
   {
    "duration": 25,
    "start_time": "2023-08-27T14:05:57.099Z"
   },
   {
    "duration": 36,
    "start_time": "2023-08-27T14:05:57.125Z"
   },
   {
    "duration": 6,
    "start_time": "2023-08-27T14:05:57.162Z"
   },
   {
    "duration": 14,
    "start_time": "2023-08-27T14:05:57.170Z"
   },
   {
    "duration": 117,
    "start_time": "2023-08-27T14:05:57.185Z"
   },
   {
    "duration": 3,
    "start_time": "2023-08-27T14:06:03.550Z"
   },
   {
    "duration": 105,
    "start_time": "2023-08-27T14:06:03.555Z"
   },
   {
    "duration": 11,
    "start_time": "2023-08-27T14:06:03.662Z"
   },
   {
    "duration": 17,
    "start_time": "2023-08-27T14:06:03.675Z"
   },
   {
    "duration": 10,
    "start_time": "2023-08-27T14:06:03.694Z"
   },
   {
    "duration": 7,
    "start_time": "2023-08-27T14:06:03.706Z"
   },
   {
    "duration": 52,
    "start_time": "2023-08-27T14:06:03.715Z"
   },
   {
    "duration": 20,
    "start_time": "2023-08-27T14:06:03.768Z"
   },
   {
    "duration": 153,
    "start_time": "2023-08-27T14:06:03.789Z"
   },
   {
    "duration": 156,
    "start_time": "2023-08-27T14:06:03.945Z"
   },
   {
    "duration": 199,
    "start_time": "2023-08-27T14:06:04.103Z"
   },
   {
    "duration": 149,
    "start_time": "2023-08-27T14:06:04.304Z"
   },
   {
    "duration": 150,
    "start_time": "2023-08-27T14:06:04.455Z"
   },
   {
    "duration": 8,
    "start_time": "2023-08-27T14:06:04.607Z"
   },
   {
    "duration": 155,
    "start_time": "2023-08-27T14:06:04.616Z"
   },
   {
    "duration": 142,
    "start_time": "2023-08-27T14:06:04.772Z"
   },
   {
    "duration": 7,
    "start_time": "2023-08-27T14:06:04.915Z"
   },
   {
    "duration": 40,
    "start_time": "2023-08-27T14:06:04.924Z"
   },
   {
    "duration": 19,
    "start_time": "2023-08-27T14:06:04.966Z"
   },
   {
    "duration": 15,
    "start_time": "2023-08-27T14:06:04.986Z"
   },
   {
    "duration": 236,
    "start_time": "2023-08-27T14:06:05.003Z"
   },
   {
    "duration": 248,
    "start_time": "2023-08-27T14:06:05.241Z"
   },
   {
    "duration": 19,
    "start_time": "2023-08-27T14:06:05.490Z"
   },
   {
    "duration": 15,
    "start_time": "2023-08-27T14:06:05.511Z"
   },
   {
    "duration": 44,
    "start_time": "2023-08-27T14:06:05.528Z"
   },
   {
    "duration": 7,
    "start_time": "2023-08-27T14:06:05.574Z"
   },
   {
    "duration": 17,
    "start_time": "2023-08-27T14:06:05.582Z"
   },
   {
    "duration": 30,
    "start_time": "2023-08-27T14:06:05.602Z"
   },
   {
    "duration": 171,
    "start_time": "2023-08-27T14:06:05.634Z"
   },
   {
    "duration": 4,
    "start_time": "2023-08-27T14:06:33.782Z"
   },
   {
    "duration": 117,
    "start_time": "2023-08-27T14:06:33.789Z"
   },
   {
    "duration": 11,
    "start_time": "2023-08-27T14:06:33.908Z"
   },
   {
    "duration": 13,
    "start_time": "2023-08-27T14:06:33.921Z"
   },
   {
    "duration": 31,
    "start_time": "2023-08-27T14:06:33.936Z"
   },
   {
    "duration": 38,
    "start_time": "2023-08-27T14:06:33.969Z"
   },
   {
    "duration": 18,
    "start_time": "2023-08-27T14:06:34.009Z"
   },
   {
    "duration": 12,
    "start_time": "2023-08-27T14:06:34.030Z"
   },
   {
    "duration": 215,
    "start_time": "2023-08-27T14:06:34.044Z"
   },
   {
    "duration": 157,
    "start_time": "2023-08-27T14:06:34.261Z"
   },
   {
    "duration": 161,
    "start_time": "2023-08-27T14:06:34.420Z"
   },
   {
    "duration": 155,
    "start_time": "2023-08-27T14:06:34.583Z"
   },
   {
    "duration": 155,
    "start_time": "2023-08-27T14:06:34.740Z"
   },
   {
    "duration": 7,
    "start_time": "2023-08-27T14:06:34.899Z"
   },
   {
    "duration": 364,
    "start_time": "2023-08-27T14:06:34.908Z"
   },
   {
    "duration": 168,
    "start_time": "2023-08-27T14:06:35.274Z"
   },
   {
    "duration": 7,
    "start_time": "2023-08-27T14:06:35.444Z"
   },
   {
    "duration": 45,
    "start_time": "2023-08-27T14:06:35.459Z"
   },
   {
    "duration": 19,
    "start_time": "2023-08-27T14:06:35.506Z"
   },
   {
    "duration": 17,
    "start_time": "2023-08-27T14:06:35.526Z"
   },
   {
    "duration": 265,
    "start_time": "2023-08-27T14:06:35.545Z"
   },
   {
    "duration": 248,
    "start_time": "2023-08-27T14:06:35.812Z"
   },
   {
    "duration": 22,
    "start_time": "2023-08-27T14:06:36.077Z"
   },
   {
    "duration": 15,
    "start_time": "2023-08-27T14:06:36.100Z"
   },
   {
    "duration": 42,
    "start_time": "2023-08-27T14:06:36.117Z"
   },
   {
    "duration": 8,
    "start_time": "2023-08-27T14:06:36.161Z"
   },
   {
    "duration": 18,
    "start_time": "2023-08-27T14:06:36.170Z"
   },
   {
    "duration": 34,
    "start_time": "2023-08-27T14:06:36.190Z"
   },
   {
    "duration": 193,
    "start_time": "2023-08-27T14:06:36.226Z"
   },
   {
    "duration": 3,
    "start_time": "2023-08-27T14:06:45.370Z"
   },
   {
    "duration": 115,
    "start_time": "2023-08-27T14:06:45.375Z"
   },
   {
    "duration": 10,
    "start_time": "2023-08-27T14:06:45.492Z"
   },
   {
    "duration": 12,
    "start_time": "2023-08-27T14:06:45.504Z"
   },
   {
    "duration": 11,
    "start_time": "2023-08-27T14:06:45.518Z"
   },
   {
    "duration": 7,
    "start_time": "2023-08-27T14:06:45.559Z"
   },
   {
    "duration": 10,
    "start_time": "2023-08-27T14:06:45.568Z"
   },
   {
    "duration": 7,
    "start_time": "2023-08-27T14:06:45.580Z"
   },
   {
    "duration": 183,
    "start_time": "2023-08-27T14:06:45.589Z"
   },
   {
    "duration": 124,
    "start_time": "2023-08-27T14:06:45.773Z"
   },
   {
    "duration": 152,
    "start_time": "2023-08-27T14:06:45.899Z"
   },
   {
    "duration": 144,
    "start_time": "2023-08-27T14:06:46.060Z"
   },
   {
    "duration": 138,
    "start_time": "2023-08-27T14:06:46.206Z"
   },
   {
    "duration": 16,
    "start_time": "2023-08-27T14:06:46.346Z"
   },
   {
    "duration": 151,
    "start_time": "2023-08-27T14:06:46.364Z"
   },
   {
    "duration": 160,
    "start_time": "2023-08-27T14:06:46.517Z"
   },
   {
    "duration": 7,
    "start_time": "2023-08-27T14:06:46.679Z"
   },
   {
    "duration": 25,
    "start_time": "2023-08-27T14:06:46.688Z"
   },
   {
    "duration": 19,
    "start_time": "2023-08-27T14:06:46.714Z"
   },
   {
    "duration": 17,
    "start_time": "2023-08-27T14:06:46.760Z"
   },
   {
    "duration": 249,
    "start_time": "2023-08-27T14:06:46.778Z"
   },
   {
    "duration": 241,
    "start_time": "2023-08-27T14:06:47.029Z"
   },
   {
    "duration": 19,
    "start_time": "2023-08-27T14:06:47.272Z"
   },
   {
    "duration": 13,
    "start_time": "2023-08-27T14:06:47.292Z"
   },
   {
    "duration": 24,
    "start_time": "2023-08-27T14:06:47.307Z"
   },
   {
    "duration": 7,
    "start_time": "2023-08-27T14:06:47.360Z"
   },
   {
    "duration": 6,
    "start_time": "2023-08-27T14:06:47.368Z"
   },
   {
    "duration": 14,
    "start_time": "2023-08-27T14:06:47.375Z"
   },
   {
    "duration": 196,
    "start_time": "2023-08-27T14:06:47.390Z"
   },
   {
    "duration": 4,
    "start_time": "2023-08-27T14:09:28.626Z"
   },
   {
    "duration": 111,
    "start_time": "2023-08-27T14:09:28.633Z"
   },
   {
    "duration": 11,
    "start_time": "2023-08-27T14:09:28.745Z"
   },
   {
    "duration": 9,
    "start_time": "2023-08-27T14:09:28.758Z"
   },
   {
    "duration": 10,
    "start_time": "2023-08-27T14:09:28.769Z"
   },
   {
    "duration": 5,
    "start_time": "2023-08-27T14:09:28.781Z"
   },
   {
    "duration": 9,
    "start_time": "2023-08-27T14:09:28.787Z"
   },
   {
    "duration": 8,
    "start_time": "2023-08-27T14:09:28.797Z"
   },
   {
    "duration": 199,
    "start_time": "2023-08-27T14:09:28.806Z"
   },
   {
    "duration": 154,
    "start_time": "2023-08-27T14:09:29.007Z"
   },
   {
    "duration": 175,
    "start_time": "2023-08-27T14:09:29.163Z"
   },
   {
    "duration": 163,
    "start_time": "2023-08-27T14:09:29.340Z"
   },
   {
    "duration": 157,
    "start_time": "2023-08-27T14:09:29.505Z"
   },
   {
    "duration": 7,
    "start_time": "2023-08-27T14:09:29.665Z"
   },
   {
    "duration": 150,
    "start_time": "2023-08-27T14:09:29.674Z"
   },
   {
    "duration": 154,
    "start_time": "2023-08-27T14:09:29.825Z"
   },
   {
    "duration": 7,
    "start_time": "2023-08-27T14:09:29.980Z"
   },
   {
    "duration": 26,
    "start_time": "2023-08-27T14:09:29.989Z"
   },
   {
    "duration": 18,
    "start_time": "2023-08-27T14:09:30.017Z"
   },
   {
    "duration": 34,
    "start_time": "2023-08-27T14:09:30.060Z"
   },
   {
    "duration": 243,
    "start_time": "2023-08-27T14:09:30.095Z"
   },
   {
    "duration": 240,
    "start_time": "2023-08-27T14:09:30.340Z"
   },
   {
    "duration": 20,
    "start_time": "2023-08-27T14:09:30.582Z"
   },
   {
    "duration": 49,
    "start_time": "2023-08-27T14:09:30.603Z"
   },
   {
    "duration": 69,
    "start_time": "2023-08-27T14:09:30.654Z"
   },
   {
    "duration": 9,
    "start_time": "2023-08-27T14:09:30.725Z"
   },
   {
    "duration": 43,
    "start_time": "2023-08-27T14:09:30.737Z"
   },
   {
    "duration": 53,
    "start_time": "2023-08-27T14:09:30.783Z"
   },
   {
    "duration": 326,
    "start_time": "2023-08-27T14:09:30.839Z"
   },
   {
    "duration": 3,
    "start_time": "2023-08-27T14:12:24.887Z"
   },
   {
    "duration": 127,
    "start_time": "2023-08-27T14:12:24.892Z"
   },
   {
    "duration": 12,
    "start_time": "2023-08-27T14:12:25.020Z"
   },
   {
    "duration": 60,
    "start_time": "2023-08-27T14:12:25.033Z"
   },
   {
    "duration": 41,
    "start_time": "2023-08-27T14:12:25.095Z"
   },
   {
    "duration": 11,
    "start_time": "2023-08-27T14:12:25.139Z"
   },
   {
    "duration": 30,
    "start_time": "2023-08-27T14:12:25.152Z"
   },
   {
    "duration": 32,
    "start_time": "2023-08-27T14:12:25.184Z"
   },
   {
    "duration": 196,
    "start_time": "2023-08-27T14:12:25.219Z"
   },
   {
    "duration": 384,
    "start_time": "2023-08-27T14:12:25.417Z"
   },
   {
    "duration": 145,
    "start_time": "2023-08-27T14:12:25.803Z"
   },
   {
    "duration": 161,
    "start_time": "2023-08-27T14:12:25.950Z"
   },
   {
    "duration": 161,
    "start_time": "2023-08-27T14:12:26.113Z"
   },
   {
    "duration": 7,
    "start_time": "2023-08-27T14:12:26.278Z"
   },
   {
    "duration": 146,
    "start_time": "2023-08-27T14:12:26.287Z"
   },
   {
    "duration": 153,
    "start_time": "2023-08-27T14:12:26.434Z"
   },
   {
    "duration": 6,
    "start_time": "2023-08-27T14:12:26.589Z"
   },
   {
    "duration": 27,
    "start_time": "2023-08-27T14:12:26.597Z"
   },
   {
    "duration": 34,
    "start_time": "2023-08-27T14:12:26.626Z"
   },
   {
    "duration": 16,
    "start_time": "2023-08-27T14:12:26.662Z"
   },
   {
    "duration": 244,
    "start_time": "2023-08-27T14:12:26.680Z"
   },
   {
    "duration": 237,
    "start_time": "2023-08-27T14:12:26.926Z"
   },
   {
    "duration": 20,
    "start_time": "2023-08-27T14:12:27.164Z"
   },
   {
    "duration": 13,
    "start_time": "2023-08-27T14:12:27.186Z"
   },
   {
    "duration": 26,
    "start_time": "2023-08-27T14:12:27.201Z"
   },
   {
    "duration": 11,
    "start_time": "2023-08-27T14:12:27.271Z"
   },
   {
    "duration": 6,
    "start_time": "2023-08-27T14:12:27.284Z"
   },
   {
    "duration": 14,
    "start_time": "2023-08-27T14:12:27.292Z"
   },
   {
    "duration": 296,
    "start_time": "2023-08-27T14:12:27.308Z"
   },
   {
    "duration": 4,
    "start_time": "2023-08-27T14:12:37.982Z"
   },
   {
    "duration": 120,
    "start_time": "2023-08-27T14:12:37.988Z"
   },
   {
    "duration": 10,
    "start_time": "2023-08-27T14:12:38.110Z"
   },
   {
    "duration": 30,
    "start_time": "2023-08-27T14:12:38.122Z"
   },
   {
    "duration": 23,
    "start_time": "2023-08-27T14:12:38.155Z"
   },
   {
    "duration": 9,
    "start_time": "2023-08-27T14:12:38.180Z"
   },
   {
    "duration": 14,
    "start_time": "2023-08-27T14:12:38.191Z"
   },
   {
    "duration": 8,
    "start_time": "2023-08-27T14:12:38.207Z"
   },
   {
    "duration": 169,
    "start_time": "2023-08-27T14:12:38.217Z"
   },
   {
    "duration": 128,
    "start_time": "2023-08-27T14:12:38.388Z"
   },
   {
    "duration": 152,
    "start_time": "2023-08-27T14:12:38.517Z"
   },
   {
    "duration": 148,
    "start_time": "2023-08-27T14:12:38.671Z"
   },
   {
    "duration": 148,
    "start_time": "2023-08-27T14:12:38.821Z"
   },
   {
    "duration": 7,
    "start_time": "2023-08-27T14:12:38.972Z"
   },
   {
    "duration": 156,
    "start_time": "2023-08-27T14:12:38.981Z"
   },
   {
    "duration": 159,
    "start_time": "2023-08-27T14:12:39.139Z"
   },
   {
    "duration": 8,
    "start_time": "2023-08-27T14:12:39.300Z"
   },
   {
    "duration": 25,
    "start_time": "2023-08-27T14:12:39.309Z"
   },
   {
    "duration": 39,
    "start_time": "2023-08-27T14:12:39.336Z"
   },
   {
    "duration": 16,
    "start_time": "2023-08-27T14:12:39.377Z"
   },
   {
    "duration": 242,
    "start_time": "2023-08-27T14:12:39.395Z"
   },
   {
    "duration": 237,
    "start_time": "2023-08-27T14:12:39.639Z"
   },
   {
    "duration": 20,
    "start_time": "2023-08-27T14:12:39.878Z"
   },
   {
    "duration": 12,
    "start_time": "2023-08-27T14:12:39.899Z"
   },
   {
    "duration": 49,
    "start_time": "2023-08-27T14:12:39.912Z"
   },
   {
    "duration": 6,
    "start_time": "2023-08-27T14:12:39.963Z"
   },
   {
    "duration": 10,
    "start_time": "2023-08-27T14:12:39.971Z"
   },
   {
    "duration": 25,
    "start_time": "2023-08-27T14:12:39.983Z"
   },
   {
    "duration": 282,
    "start_time": "2023-08-27T14:12:40.010Z"
   },
   {
    "duration": 3,
    "start_time": "2023-08-27T14:13:56.822Z"
   },
   {
    "duration": 109,
    "start_time": "2023-08-27T14:13:56.827Z"
   },
   {
    "duration": 13,
    "start_time": "2023-08-27T14:13:56.938Z"
   },
   {
    "duration": 11,
    "start_time": "2023-08-27T14:13:56.953Z"
   },
   {
    "duration": 18,
    "start_time": "2023-08-27T14:13:56.967Z"
   },
   {
    "duration": 20,
    "start_time": "2023-08-27T14:13:56.987Z"
   },
   {
    "duration": 10,
    "start_time": "2023-08-27T14:13:57.009Z"
   },
   {
    "duration": 7,
    "start_time": "2023-08-27T14:13:57.021Z"
   },
   {
    "duration": 177,
    "start_time": "2023-08-27T14:13:57.030Z"
   },
   {
    "duration": 135,
    "start_time": "2023-08-27T14:13:57.208Z"
   },
   {
    "duration": 159,
    "start_time": "2023-08-27T14:13:57.344Z"
   },
   {
    "duration": 146,
    "start_time": "2023-08-27T14:13:57.505Z"
   },
   {
    "duration": 153,
    "start_time": "2023-08-27T14:13:57.653Z"
   },
   {
    "duration": 8,
    "start_time": "2023-08-27T14:13:57.809Z"
   },
   {
    "duration": 164,
    "start_time": "2023-08-27T14:13:57.818Z"
   },
   {
    "duration": 178,
    "start_time": "2023-08-27T14:13:57.983Z"
   },
   {
    "duration": 8,
    "start_time": "2023-08-27T14:13:58.163Z"
   },
   {
    "duration": 31,
    "start_time": "2023-08-27T14:13:58.172Z"
   },
   {
    "duration": 23,
    "start_time": "2023-08-27T14:13:58.205Z"
   },
   {
    "duration": 47,
    "start_time": "2023-08-27T14:13:58.230Z"
   },
   {
    "duration": 269,
    "start_time": "2023-08-27T14:13:58.279Z"
   },
   {
    "duration": 264,
    "start_time": "2023-08-27T14:13:58.549Z"
   },
   {
    "duration": 21,
    "start_time": "2023-08-27T14:13:58.815Z"
   },
   {
    "duration": 31,
    "start_time": "2023-08-27T14:13:58.838Z"
   },
   {
    "duration": 26,
    "start_time": "2023-08-27T14:13:58.871Z"
   },
   {
    "duration": 7,
    "start_time": "2023-08-27T14:13:58.899Z"
   },
   {
    "duration": 9,
    "start_time": "2023-08-27T14:13:58.908Z"
   },
   {
    "duration": 46,
    "start_time": "2023-08-27T14:13:58.919Z"
   },
   {
    "duration": 422,
    "start_time": "2023-08-27T14:13:58.967Z"
   },
   {
    "duration": 4,
    "start_time": "2023-08-27T14:18:57.552Z"
   },
   {
    "duration": 114,
    "start_time": "2023-08-27T14:18:57.558Z"
   },
   {
    "duration": 12,
    "start_time": "2023-08-27T14:18:57.674Z"
   },
   {
    "duration": 15,
    "start_time": "2023-08-27T14:18:57.687Z"
   },
   {
    "duration": 13,
    "start_time": "2023-08-27T14:18:57.705Z"
   },
   {
    "duration": 15,
    "start_time": "2023-08-27T14:18:57.720Z"
   },
   {
    "duration": 27,
    "start_time": "2023-08-27T14:18:57.737Z"
   },
   {
    "duration": 7,
    "start_time": "2023-08-27T14:18:57.766Z"
   },
   {
    "duration": 176,
    "start_time": "2023-08-27T14:18:57.775Z"
   },
   {
    "duration": 153,
    "start_time": "2023-08-27T14:18:57.953Z"
   },
   {
    "duration": 166,
    "start_time": "2023-08-27T14:18:58.109Z"
   },
   {
    "duration": 150,
    "start_time": "2023-08-27T14:18:58.277Z"
   },
   {
    "duration": 145,
    "start_time": "2023-08-27T14:18:58.428Z"
   },
   {
    "duration": 7,
    "start_time": "2023-08-27T14:18:58.576Z"
   },
   {
    "duration": 157,
    "start_time": "2023-08-27T14:18:58.585Z"
   },
   {
    "duration": 149,
    "start_time": "2023-08-27T14:18:58.743Z"
   },
   {
    "duration": 8,
    "start_time": "2023-08-27T14:18:58.894Z"
   },
   {
    "duration": 24,
    "start_time": "2023-08-27T14:18:58.904Z"
   },
   {
    "duration": 37,
    "start_time": "2023-08-27T14:18:58.930Z"
   },
   {
    "duration": 15,
    "start_time": "2023-08-27T14:18:58.969Z"
   },
   {
    "duration": 243,
    "start_time": "2023-08-27T14:18:58.985Z"
   },
   {
    "duration": 233,
    "start_time": "2023-08-27T14:18:59.230Z"
   },
   {
    "duration": 19,
    "start_time": "2023-08-27T14:18:59.464Z"
   },
   {
    "duration": 12,
    "start_time": "2023-08-27T14:18:59.485Z"
   },
   {
    "duration": 35,
    "start_time": "2023-08-27T14:18:59.499Z"
   },
   {
    "duration": 23,
    "start_time": "2023-08-27T14:18:59.536Z"
   },
   {
    "duration": 6,
    "start_time": "2023-08-27T14:18:59.561Z"
   },
   {
    "duration": 20,
    "start_time": "2023-08-27T14:18:59.569Z"
   },
   {
    "duration": 288,
    "start_time": "2023-08-27T14:18:59.591Z"
   },
   {
    "duration": 4,
    "start_time": "2023-08-27T14:19:25.573Z"
   },
   {
    "duration": 115,
    "start_time": "2023-08-27T14:19:25.579Z"
   },
   {
    "duration": 12,
    "start_time": "2023-08-27T14:19:25.696Z"
   },
   {
    "duration": 10,
    "start_time": "2023-08-27T14:19:25.710Z"
   },
   {
    "duration": 42,
    "start_time": "2023-08-27T14:19:25.722Z"
   },
   {
    "duration": 5,
    "start_time": "2023-08-27T14:19:25.765Z"
   },
   {
    "duration": 9,
    "start_time": "2023-08-27T14:19:25.771Z"
   },
   {
    "duration": 6,
    "start_time": "2023-08-27T14:19:25.782Z"
   },
   {
    "duration": 182,
    "start_time": "2023-08-27T14:19:25.789Z"
   },
   {
    "duration": 136,
    "start_time": "2023-08-27T14:19:25.973Z"
   },
   {
    "duration": 154,
    "start_time": "2023-08-27T14:19:26.111Z"
   },
   {
    "duration": 150,
    "start_time": "2023-08-27T14:19:26.267Z"
   },
   {
    "duration": 140,
    "start_time": "2023-08-27T14:19:26.419Z"
   },
   {
    "duration": 7,
    "start_time": "2023-08-27T14:19:26.562Z"
   },
   {
    "duration": 142,
    "start_time": "2023-08-27T14:19:26.570Z"
   },
   {
    "duration": 147,
    "start_time": "2023-08-27T14:19:26.715Z"
   },
   {
    "duration": 7,
    "start_time": "2023-08-27T14:19:26.864Z"
   },
   {
    "duration": 25,
    "start_time": "2023-08-27T14:19:26.873Z"
   },
   {
    "duration": 16,
    "start_time": "2023-08-27T14:19:26.900Z"
   },
   {
    "duration": 45,
    "start_time": "2023-08-27T14:19:26.918Z"
   },
   {
    "duration": 232,
    "start_time": "2023-08-27T14:19:26.966Z"
   },
   {
    "duration": 231,
    "start_time": "2023-08-27T14:19:27.201Z"
   },
   {
    "duration": 31,
    "start_time": "2023-08-27T14:19:27.434Z"
   },
   {
    "duration": 14,
    "start_time": "2023-08-27T14:19:27.467Z"
   },
   {
    "duration": 31,
    "start_time": "2023-08-27T14:19:27.483Z"
   },
   {
    "duration": 7,
    "start_time": "2023-08-27T14:19:27.516Z"
   },
   {
    "duration": 9,
    "start_time": "2023-08-27T14:19:27.525Z"
   },
   {
    "duration": 12,
    "start_time": "2023-08-27T14:19:27.559Z"
   },
   {
    "duration": 286,
    "start_time": "2023-08-27T14:19:27.573Z"
   },
   {
    "duration": 4,
    "start_time": "2023-08-27T14:19:43.447Z"
   },
   {
    "duration": 128,
    "start_time": "2023-08-27T14:19:43.453Z"
   },
   {
    "duration": 11,
    "start_time": "2023-08-27T14:19:43.583Z"
   },
   {
    "duration": 15,
    "start_time": "2023-08-27T14:19:43.595Z"
   },
   {
    "duration": 15,
    "start_time": "2023-08-27T14:19:43.612Z"
   },
   {
    "duration": 5,
    "start_time": "2023-08-27T14:19:43.629Z"
   },
   {
    "duration": 30,
    "start_time": "2023-08-27T14:19:43.636Z"
   },
   {
    "duration": 14,
    "start_time": "2023-08-27T14:19:43.668Z"
   },
   {
    "duration": 167,
    "start_time": "2023-08-27T14:19:43.684Z"
   },
   {
    "duration": 122,
    "start_time": "2023-08-27T14:19:43.853Z"
   },
   {
    "duration": 182,
    "start_time": "2023-08-27T14:19:43.976Z"
   },
   {
    "duration": 199,
    "start_time": "2023-08-27T14:19:44.160Z"
   },
   {
    "duration": 139,
    "start_time": "2023-08-27T14:19:44.361Z"
   },
   {
    "duration": 8,
    "start_time": "2023-08-27T14:19:44.502Z"
   },
   {
    "duration": 162,
    "start_time": "2023-08-27T14:19:44.511Z"
   },
   {
    "duration": 155,
    "start_time": "2023-08-27T14:19:44.676Z"
   },
   {
    "duration": 8,
    "start_time": "2023-08-27T14:19:44.833Z"
   },
   {
    "duration": 36,
    "start_time": "2023-08-27T14:19:44.843Z"
   },
   {
    "duration": 18,
    "start_time": "2023-08-27T14:19:44.881Z"
   },
   {
    "duration": 19,
    "start_time": "2023-08-27T14:19:44.901Z"
   },
   {
    "duration": 253,
    "start_time": "2023-08-27T14:19:44.922Z"
   },
   {
    "duration": 241,
    "start_time": "2023-08-27T14:19:45.176Z"
   },
   {
    "duration": 20,
    "start_time": "2023-08-27T14:19:45.419Z"
   },
   {
    "duration": 27,
    "start_time": "2023-08-27T14:19:45.441Z"
   },
   {
    "duration": 31,
    "start_time": "2023-08-27T14:19:45.469Z"
   },
   {
    "duration": 7,
    "start_time": "2023-08-27T14:19:45.501Z"
   },
   {
    "duration": 8,
    "start_time": "2023-08-27T14:19:45.510Z"
   },
   {
    "duration": 19,
    "start_time": "2023-08-27T14:19:45.520Z"
   },
   {
    "duration": 315,
    "start_time": "2023-08-27T14:19:45.558Z"
   },
   {
    "duration": 4,
    "start_time": "2023-08-27T14:43:09.878Z"
   },
   {
    "duration": 111,
    "start_time": "2023-08-27T14:43:09.883Z"
   },
   {
    "duration": 9,
    "start_time": "2023-08-27T14:43:09.996Z"
   },
   {
    "duration": 14,
    "start_time": "2023-08-27T14:43:10.007Z"
   },
   {
    "duration": 23,
    "start_time": "2023-08-27T14:43:10.023Z"
   },
   {
    "duration": 23,
    "start_time": "2023-08-27T14:43:10.060Z"
   },
   {
    "duration": 31,
    "start_time": "2023-08-27T14:43:10.085Z"
   },
   {
    "duration": 16,
    "start_time": "2023-08-27T14:43:10.118Z"
   },
   {
    "duration": 178,
    "start_time": "2023-08-27T14:43:10.137Z"
   },
   {
    "duration": 420,
    "start_time": "2023-08-27T14:43:10.316Z"
   },
   {
    "duration": 147,
    "start_time": "2023-08-27T14:43:10.738Z"
   },
   {
    "duration": 147,
    "start_time": "2023-08-27T14:43:10.886Z"
   },
   {
    "duration": 141,
    "start_time": "2023-08-27T14:43:11.035Z"
   },
   {
    "duration": 7,
    "start_time": "2023-08-27T14:43:11.178Z"
   },
   {
    "duration": 154,
    "start_time": "2023-08-27T14:43:11.187Z"
   },
   {
    "duration": 142,
    "start_time": "2023-08-27T14:43:11.345Z"
   },
   {
    "duration": 7,
    "start_time": "2023-08-27T14:43:11.489Z"
   },
   {
    "duration": 29,
    "start_time": "2023-08-27T14:43:11.498Z"
   },
   {
    "duration": 34,
    "start_time": "2023-08-27T14:43:11.528Z"
   },
   {
    "duration": 16,
    "start_time": "2023-08-27T14:43:11.564Z"
   },
   {
    "duration": 236,
    "start_time": "2023-08-27T14:43:11.582Z"
   },
   {
    "duration": 265,
    "start_time": "2023-08-27T14:43:11.820Z"
   },
   {
    "duration": 19,
    "start_time": "2023-08-27T14:43:12.087Z"
   },
   {
    "duration": 11,
    "start_time": "2023-08-27T14:43:12.108Z"
   },
   {
    "duration": 49,
    "start_time": "2023-08-27T14:43:12.120Z"
   },
   {
    "duration": 6,
    "start_time": "2023-08-27T14:43:12.171Z"
   },
   {
    "duration": 6,
    "start_time": "2023-08-27T14:43:12.179Z"
   },
   {
    "duration": 13,
    "start_time": "2023-08-27T14:43:12.187Z"
   },
   {
    "duration": 1278,
    "start_time": "2023-08-27T14:43:12.202Z"
   },
   {
    "duration": 3,
    "start_time": "2023-08-27T14:45:06.425Z"
   },
   {
    "duration": 107,
    "start_time": "2023-08-27T14:45:06.430Z"
   },
   {
    "duration": 11,
    "start_time": "2023-08-27T14:45:06.539Z"
   },
   {
    "duration": 15,
    "start_time": "2023-08-27T14:45:06.552Z"
   },
   {
    "duration": 10,
    "start_time": "2023-08-27T14:45:06.569Z"
   },
   {
    "duration": 5,
    "start_time": "2023-08-27T14:45:06.581Z"
   },
   {
    "duration": 23,
    "start_time": "2023-08-27T14:45:06.587Z"
   },
   {
    "duration": 13,
    "start_time": "2023-08-27T14:45:06.612Z"
   },
   {
    "duration": 179,
    "start_time": "2023-08-27T14:45:06.627Z"
   },
   {
    "duration": 121,
    "start_time": "2023-08-27T14:45:06.809Z"
   },
   {
    "duration": 162,
    "start_time": "2023-08-27T14:45:06.932Z"
   },
   {
    "duration": 149,
    "start_time": "2023-08-27T14:45:07.097Z"
   },
   {
    "duration": 146,
    "start_time": "2023-08-27T14:45:07.248Z"
   },
   {
    "duration": 8,
    "start_time": "2023-08-27T14:45:07.396Z"
   },
   {
    "duration": 165,
    "start_time": "2023-08-27T14:45:07.405Z"
   },
   {
    "duration": 151,
    "start_time": "2023-08-27T14:45:07.572Z"
   },
   {
    "duration": 7,
    "start_time": "2023-08-27T14:45:07.724Z"
   },
   {
    "duration": 36,
    "start_time": "2023-08-27T14:45:07.733Z"
   },
   {
    "duration": 17,
    "start_time": "2023-08-27T14:45:07.771Z"
   },
   {
    "duration": 17,
    "start_time": "2023-08-27T14:45:07.790Z"
   },
   {
    "duration": 586,
    "start_time": "2023-08-27T14:45:07.808Z"
   },
   {
    "duration": 237,
    "start_time": "2023-08-27T14:45:08.395Z"
   },
   {
    "duration": 38,
    "start_time": "2023-08-27T14:45:08.634Z"
   },
   {
    "duration": 12,
    "start_time": "2023-08-27T14:45:08.674Z"
   },
   {
    "duration": 34,
    "start_time": "2023-08-27T14:45:08.688Z"
   },
   {
    "duration": 6,
    "start_time": "2023-08-27T14:45:08.724Z"
   },
   {
    "duration": 9,
    "start_time": "2023-08-27T14:45:08.732Z"
   },
   {
    "duration": 15,
    "start_time": "2023-08-27T14:45:08.758Z"
   },
   {
    "duration": 273,
    "start_time": "2023-08-27T14:45:08.775Z"
   },
   {
    "duration": 3,
    "start_time": "2023-08-27T14:46:03.621Z"
   },
   {
    "duration": 110,
    "start_time": "2023-08-27T14:46:03.626Z"
   },
   {
    "duration": 11,
    "start_time": "2023-08-27T14:46:03.737Z"
   },
   {
    "duration": 13,
    "start_time": "2023-08-27T14:46:03.750Z"
   },
   {
    "duration": 10,
    "start_time": "2023-08-27T14:46:03.765Z"
   },
   {
    "duration": 5,
    "start_time": "2023-08-27T14:46:03.777Z"
   },
   {
    "duration": 16,
    "start_time": "2023-08-27T14:46:03.783Z"
   },
   {
    "duration": 14,
    "start_time": "2023-08-27T14:46:03.801Z"
   },
   {
    "duration": 179,
    "start_time": "2023-08-27T14:46:03.817Z"
   },
   {
    "duration": 153,
    "start_time": "2023-08-27T14:46:03.998Z"
   },
   {
    "duration": 182,
    "start_time": "2023-08-27T14:46:04.153Z"
   },
   {
    "duration": 141,
    "start_time": "2023-08-27T14:46:04.337Z"
   },
   {
    "duration": 138,
    "start_time": "2023-08-27T14:46:04.480Z"
   },
   {
    "duration": 8,
    "start_time": "2023-08-27T14:46:04.621Z"
   },
   {
    "duration": 158,
    "start_time": "2023-08-27T14:46:04.631Z"
   },
   {
    "duration": 146,
    "start_time": "2023-08-27T14:46:04.790Z"
   },
   {
    "duration": 7,
    "start_time": "2023-08-27T14:46:04.938Z"
   },
   {
    "duration": 38,
    "start_time": "2023-08-27T14:46:04.946Z"
   },
   {
    "duration": 17,
    "start_time": "2023-08-27T14:46:04.986Z"
   },
   {
    "duration": 17,
    "start_time": "2023-08-27T14:46:05.005Z"
   },
   {
    "duration": 251,
    "start_time": "2023-08-27T14:46:05.023Z"
   },
   {
    "duration": 241,
    "start_time": "2023-08-27T14:46:05.276Z"
   },
   {
    "duration": 19,
    "start_time": "2023-08-27T14:46:05.518Z"
   },
   {
    "duration": 26,
    "start_time": "2023-08-27T14:46:05.538Z"
   },
   {
    "duration": 36,
    "start_time": "2023-08-27T14:46:05.565Z"
   },
   {
    "duration": 6,
    "start_time": "2023-08-27T14:46:05.603Z"
   },
   {
    "duration": 6,
    "start_time": "2023-08-27T14:46:05.611Z"
   },
   {
    "duration": 16,
    "start_time": "2023-08-27T14:46:05.618Z"
   },
   {
    "duration": 553,
    "start_time": "2023-08-27T14:46:05.635Z"
   },
   {
    "duration": 5,
    "start_time": "2023-08-27T14:46:22.840Z"
   },
   {
    "duration": 107,
    "start_time": "2023-08-27T14:46:22.847Z"
   },
   {
    "duration": 12,
    "start_time": "2023-08-27T14:46:22.956Z"
   },
   {
    "duration": 15,
    "start_time": "2023-08-27T14:46:22.970Z"
   },
   {
    "duration": 14,
    "start_time": "2023-08-27T14:46:22.987Z"
   },
   {
    "duration": 6,
    "start_time": "2023-08-27T14:46:23.004Z"
   },
   {
    "duration": 11,
    "start_time": "2023-08-27T14:46:23.011Z"
   },
   {
    "duration": 37,
    "start_time": "2023-08-27T14:46:23.024Z"
   },
   {
    "duration": 192,
    "start_time": "2023-08-27T14:46:23.063Z"
   },
   {
    "duration": 146,
    "start_time": "2023-08-27T14:46:23.257Z"
   },
   {
    "duration": 145,
    "start_time": "2023-08-27T14:46:23.405Z"
   },
   {
    "duration": 140,
    "start_time": "2023-08-27T14:46:23.558Z"
   },
   {
    "duration": 143,
    "start_time": "2023-08-27T14:46:23.699Z"
   },
   {
    "duration": 15,
    "start_time": "2023-08-27T14:46:23.844Z"
   },
   {
    "duration": 145,
    "start_time": "2023-08-27T14:46:23.861Z"
   },
   {
    "duration": 197,
    "start_time": "2023-08-27T14:46:24.008Z"
   },
   {
    "duration": 10,
    "start_time": "2023-08-27T14:46:24.207Z"
   },
   {
    "duration": 46,
    "start_time": "2023-08-27T14:46:24.219Z"
   },
   {
    "duration": 22,
    "start_time": "2023-08-27T14:46:24.267Z"
   },
   {
    "duration": 22,
    "start_time": "2023-08-27T14:46:24.291Z"
   },
   {
    "duration": 255,
    "start_time": "2023-08-27T14:46:24.314Z"
   },
   {
    "duration": 240,
    "start_time": "2023-08-27T14:46:24.572Z"
   },
   {
    "duration": 21,
    "start_time": "2023-08-27T14:46:24.815Z"
   },
   {
    "duration": 33,
    "start_time": "2023-08-27T14:46:24.838Z"
   },
   {
    "duration": 33,
    "start_time": "2023-08-27T14:46:24.873Z"
   },
   {
    "duration": 8,
    "start_time": "2023-08-27T14:46:24.908Z"
   },
   {
    "duration": 26,
    "start_time": "2023-08-27T14:46:24.918Z"
   },
   {
    "duration": 13,
    "start_time": "2023-08-27T14:46:24.960Z"
   },
   {
    "duration": 151,
    "start_time": "2023-08-27T14:46:24.974Z"
   },
   {
    "duration": 3,
    "start_time": "2023-08-27T14:46:33.854Z"
   },
   {
    "duration": 126,
    "start_time": "2023-08-27T14:46:33.859Z"
   },
   {
    "duration": 13,
    "start_time": "2023-08-27T14:46:33.987Z"
   },
   {
    "duration": 10,
    "start_time": "2023-08-27T14:46:34.002Z"
   },
   {
    "duration": 12,
    "start_time": "2023-08-27T14:46:34.014Z"
   },
   {
    "duration": 35,
    "start_time": "2023-08-27T14:46:34.028Z"
   },
   {
    "duration": 33,
    "start_time": "2023-08-27T14:46:34.065Z"
   },
   {
    "duration": 20,
    "start_time": "2023-08-27T14:46:34.100Z"
   },
   {
    "duration": 211,
    "start_time": "2023-08-27T14:46:34.123Z"
   },
   {
    "duration": 127,
    "start_time": "2023-08-27T14:46:34.336Z"
   },
   {
    "duration": 149,
    "start_time": "2023-08-27T14:46:34.465Z"
   },
   {
    "duration": 145,
    "start_time": "2023-08-27T14:46:34.616Z"
   },
   {
    "duration": 150,
    "start_time": "2023-08-27T14:46:34.762Z"
   },
   {
    "duration": 8,
    "start_time": "2023-08-27T14:46:34.915Z"
   },
   {
    "duration": 149,
    "start_time": "2023-08-27T14:46:34.924Z"
   },
   {
    "duration": 159,
    "start_time": "2023-08-27T14:46:35.074Z"
   },
   {
    "duration": 7,
    "start_time": "2023-08-27T14:46:35.235Z"
   },
   {
    "duration": 37,
    "start_time": "2023-08-27T14:46:35.244Z"
   },
   {
    "duration": 18,
    "start_time": "2023-08-27T14:46:35.283Z"
   },
   {
    "duration": 17,
    "start_time": "2023-08-27T14:46:35.303Z"
   },
   {
    "duration": 243,
    "start_time": "2023-08-27T14:46:35.322Z"
   },
   {
    "duration": 239,
    "start_time": "2023-08-27T14:46:35.567Z"
   },
   {
    "duration": 20,
    "start_time": "2023-08-27T14:46:35.808Z"
   },
   {
    "duration": 30,
    "start_time": "2023-08-27T14:46:35.830Z"
   },
   {
    "duration": 29,
    "start_time": "2023-08-27T14:46:35.862Z"
   },
   {
    "duration": 8,
    "start_time": "2023-08-27T14:46:35.893Z"
   },
   {
    "duration": 11,
    "start_time": "2023-08-27T14:46:35.903Z"
   },
   {
    "duration": 24,
    "start_time": "2023-08-27T14:46:35.916Z"
   },
   {
    "duration": 1334,
    "start_time": "2023-08-27T14:46:35.959Z"
   },
   {
    "duration": 3,
    "start_time": "2023-08-27T14:46:48.649Z"
   },
   {
    "duration": 111,
    "start_time": "2023-08-27T14:46:48.655Z"
   },
   {
    "duration": 9,
    "start_time": "2023-08-27T14:46:48.768Z"
   },
   {
    "duration": 9,
    "start_time": "2023-08-27T14:46:48.779Z"
   },
   {
    "duration": 10,
    "start_time": "2023-08-27T14:46:48.790Z"
   },
   {
    "duration": 5,
    "start_time": "2023-08-27T14:46:48.801Z"
   },
   {
    "duration": 19,
    "start_time": "2023-08-27T14:46:48.808Z"
   },
   {
    "duration": 31,
    "start_time": "2023-08-27T14:46:48.828Z"
   },
   {
    "duration": 166,
    "start_time": "2023-08-27T14:46:48.861Z"
   },
   {
    "duration": 119,
    "start_time": "2023-08-27T14:46:49.029Z"
   },
   {
    "duration": 156,
    "start_time": "2023-08-27T14:46:49.150Z"
   },
   {
    "duration": 139,
    "start_time": "2023-08-27T14:46:49.308Z"
   },
   {
    "duration": 140,
    "start_time": "2023-08-27T14:46:49.449Z"
   },
   {
    "duration": 7,
    "start_time": "2023-08-27T14:46:49.592Z"
   },
   {
    "duration": 144,
    "start_time": "2023-08-27T14:46:49.601Z"
   },
   {
    "duration": 151,
    "start_time": "2023-08-27T14:46:49.747Z"
   },
   {
    "duration": 7,
    "start_time": "2023-08-27T14:46:49.899Z"
   },
   {
    "duration": 25,
    "start_time": "2023-08-27T14:46:49.907Z"
   },
   {
    "duration": 31,
    "start_time": "2023-08-27T14:46:49.934Z"
   },
   {
    "duration": 16,
    "start_time": "2023-08-27T14:46:49.967Z"
   },
   {
    "duration": 241,
    "start_time": "2023-08-27T14:46:49.985Z"
   },
   {
    "duration": 252,
    "start_time": "2023-08-27T14:46:50.228Z"
   },
   {
    "duration": 19,
    "start_time": "2023-08-27T14:46:50.482Z"
   },
   {
    "duration": 11,
    "start_time": "2023-08-27T14:46:50.503Z"
   },
   {
    "duration": 47,
    "start_time": "2023-08-27T14:46:50.515Z"
   },
   {
    "duration": 6,
    "start_time": "2023-08-27T14:46:50.564Z"
   },
   {
    "duration": 10,
    "start_time": "2023-08-27T14:46:50.572Z"
   },
   {
    "duration": 13,
    "start_time": "2023-08-27T14:46:50.584Z"
   },
   {
    "duration": 1210,
    "start_time": "2023-08-27T14:46:50.598Z"
   },
   {
    "duration": 3,
    "start_time": "2023-08-27T14:47:20.638Z"
   },
   {
    "duration": 115,
    "start_time": "2023-08-27T14:47:20.643Z"
   },
   {
    "duration": 10,
    "start_time": "2023-08-27T14:47:20.759Z"
   },
   {
    "duration": 16,
    "start_time": "2023-08-27T14:47:20.771Z"
   },
   {
    "duration": 11,
    "start_time": "2023-08-27T14:47:20.789Z"
   },
   {
    "duration": 27,
    "start_time": "2023-08-27T14:47:20.802Z"
   },
   {
    "duration": 31,
    "start_time": "2023-08-27T14:47:20.830Z"
   },
   {
    "duration": 7,
    "start_time": "2023-08-27T14:47:20.863Z"
   },
   {
    "duration": 169,
    "start_time": "2023-08-27T14:47:20.872Z"
   },
   {
    "duration": 125,
    "start_time": "2023-08-27T14:47:21.043Z"
   },
   {
    "duration": 158,
    "start_time": "2023-08-27T14:47:21.170Z"
   },
   {
    "duration": 146,
    "start_time": "2023-08-27T14:47:21.330Z"
   },
   {
    "duration": 143,
    "start_time": "2023-08-27T14:47:21.478Z"
   },
   {
    "duration": 7,
    "start_time": "2023-08-27T14:47:21.624Z"
   },
   {
    "duration": 638,
    "start_time": "2023-08-27T14:47:21.633Z"
   },
   {
    "duration": 155,
    "start_time": "2023-08-27T14:47:22.272Z"
   },
   {
    "duration": 8,
    "start_time": "2023-08-27T14:47:22.428Z"
   },
   {
    "duration": 62,
    "start_time": "2023-08-27T14:47:22.438Z"
   },
   {
    "duration": 18,
    "start_time": "2023-08-27T14:47:22.502Z"
   },
   {
    "duration": 18,
    "start_time": "2023-08-27T14:47:22.522Z"
   },
   {
    "duration": 238,
    "start_time": "2023-08-27T14:47:22.541Z"
   },
   {
    "duration": 293,
    "start_time": "2023-08-27T14:47:22.780Z"
   },
   {
    "duration": 30,
    "start_time": "2023-08-27T14:47:23.076Z"
   },
   {
    "duration": 18,
    "start_time": "2023-08-27T14:47:23.108Z"
   },
   {
    "duration": 47,
    "start_time": "2023-08-27T14:47:23.128Z"
   },
   {
    "duration": 8,
    "start_time": "2023-08-27T14:47:23.176Z"
   },
   {
    "duration": 23,
    "start_time": "2023-08-27T14:47:23.186Z"
   },
   {
    "duration": 38,
    "start_time": "2023-08-27T14:47:23.210Z"
   },
   {
    "duration": 15,
    "start_time": "2023-08-27T14:47:23.249Z"
   },
   {
    "duration": 3,
    "start_time": "2023-08-27T14:47:58.975Z"
   },
   {
    "duration": 103,
    "start_time": "2023-08-27T14:47:58.981Z"
   },
   {
    "duration": 13,
    "start_time": "2023-08-27T14:47:59.085Z"
   },
   {
    "duration": 14,
    "start_time": "2023-08-27T14:47:59.100Z"
   },
   {
    "duration": 12,
    "start_time": "2023-08-27T14:47:59.117Z"
   },
   {
    "duration": 6,
    "start_time": "2023-08-27T14:47:59.160Z"
   },
   {
    "duration": 18,
    "start_time": "2023-08-27T14:47:59.167Z"
   },
   {
    "duration": 15,
    "start_time": "2023-08-27T14:47:59.187Z"
   },
   {
    "duration": 177,
    "start_time": "2023-08-27T14:47:59.203Z"
   },
   {
    "duration": 126,
    "start_time": "2023-08-27T14:47:59.382Z"
   },
   {
    "duration": 144,
    "start_time": "2023-08-27T14:47:59.510Z"
   },
   {
    "duration": 139,
    "start_time": "2023-08-27T14:47:59.666Z"
   },
   {
    "duration": 144,
    "start_time": "2023-08-27T14:47:59.807Z"
   },
   {
    "duration": 9,
    "start_time": "2023-08-27T14:47:59.958Z"
   },
   {
    "duration": 162,
    "start_time": "2023-08-27T14:47:59.969Z"
   },
   {
    "duration": 154,
    "start_time": "2023-08-27T14:48:00.133Z"
   },
   {
    "duration": 7,
    "start_time": "2023-08-27T14:48:00.289Z"
   },
   {
    "duration": 39,
    "start_time": "2023-08-27T14:48:00.298Z"
   },
   {
    "duration": 26,
    "start_time": "2023-08-27T14:48:00.338Z"
   },
   {
    "duration": 43,
    "start_time": "2023-08-27T14:48:00.366Z"
   },
   {
    "duration": 254,
    "start_time": "2023-08-27T14:48:00.411Z"
   },
   {
    "duration": 246,
    "start_time": "2023-08-27T14:48:00.667Z"
   },
   {
    "duration": 20,
    "start_time": "2023-08-27T14:48:00.915Z"
   },
   {
    "duration": 28,
    "start_time": "2023-08-27T14:48:00.937Z"
   },
   {
    "duration": 65,
    "start_time": "2023-08-27T14:48:00.967Z"
   },
   {
    "duration": 25,
    "start_time": "2023-08-27T14:48:01.034Z"
   },
   {
    "duration": 20,
    "start_time": "2023-08-27T14:48:01.061Z"
   },
   {
    "duration": 37,
    "start_time": "2023-08-27T14:48:01.082Z"
   },
   {
    "duration": 1256,
    "start_time": "2023-08-27T14:48:01.121Z"
   },
   {
    "duration": 3,
    "start_time": "2023-08-27T14:48:13.563Z"
   },
   {
    "duration": 108,
    "start_time": "2023-08-27T14:48:13.568Z"
   },
   {
    "duration": 11,
    "start_time": "2023-08-27T14:48:13.678Z"
   },
   {
    "duration": 21,
    "start_time": "2023-08-27T14:48:13.691Z"
   },
   {
    "duration": 21,
    "start_time": "2023-08-27T14:48:13.715Z"
   },
   {
    "duration": 14,
    "start_time": "2023-08-27T14:48:13.738Z"
   },
   {
    "duration": 27,
    "start_time": "2023-08-27T14:48:13.754Z"
   },
   {
    "duration": 7,
    "start_time": "2023-08-27T14:48:13.783Z"
   },
   {
    "duration": 199,
    "start_time": "2023-08-27T14:48:13.791Z"
   },
   {
    "duration": 160,
    "start_time": "2023-08-27T14:48:13.992Z"
   },
   {
    "duration": 227,
    "start_time": "2023-08-27T14:48:14.154Z"
   },
   {
    "duration": 152,
    "start_time": "2023-08-27T14:48:14.383Z"
   },
   {
    "duration": 170,
    "start_time": "2023-08-27T14:48:14.536Z"
   },
   {
    "duration": 9,
    "start_time": "2023-08-27T14:48:14.709Z"
   },
   {
    "duration": 199,
    "start_time": "2023-08-27T14:48:14.720Z"
   },
   {
    "duration": 156,
    "start_time": "2023-08-27T14:48:14.921Z"
   },
   {
    "duration": 8,
    "start_time": "2023-08-27T14:48:15.079Z"
   },
   {
    "duration": 204,
    "start_time": "2023-08-27T14:48:15.088Z"
   },
   {
    "duration": 62,
    "start_time": "2023-08-27T14:48:15.294Z"
   },
   {
    "duration": 22,
    "start_time": "2023-08-27T14:48:15.358Z"
   },
   {
    "duration": 274,
    "start_time": "2023-08-27T14:48:15.382Z"
   },
   {
    "duration": 242,
    "start_time": "2023-08-27T14:48:15.659Z"
   },
   {
    "duration": 18,
    "start_time": "2023-08-27T14:48:15.903Z"
   },
   {
    "duration": 25,
    "start_time": "2023-08-27T14:48:15.924Z"
   },
   {
    "duration": 64,
    "start_time": "2023-08-27T14:48:15.958Z"
   },
   {
    "duration": 11,
    "start_time": "2023-08-27T14:48:16.024Z"
   },
   {
    "duration": 11,
    "start_time": "2023-08-27T14:48:16.036Z"
   },
   {
    "duration": 31,
    "start_time": "2023-08-27T14:48:16.049Z"
   },
   {
    "duration": 1809,
    "start_time": "2023-08-27T14:48:16.082Z"
   },
   {
    "duration": 5,
    "start_time": "2023-08-27T14:56:54.286Z"
   },
   {
    "duration": 117,
    "start_time": "2023-08-27T14:56:54.294Z"
   },
   {
    "duration": 11,
    "start_time": "2023-08-27T14:56:54.412Z"
   },
   {
    "duration": 10,
    "start_time": "2023-08-27T14:56:54.425Z"
   },
   {
    "duration": 29,
    "start_time": "2023-08-27T14:56:54.437Z"
   },
   {
    "duration": 7,
    "start_time": "2023-08-27T14:56:54.468Z"
   },
   {
    "duration": 12,
    "start_time": "2023-08-27T14:56:54.477Z"
   },
   {
    "duration": 7,
    "start_time": "2023-08-27T14:56:54.491Z"
   },
   {
    "duration": 182,
    "start_time": "2023-08-27T14:56:54.500Z"
   },
   {
    "duration": 133,
    "start_time": "2023-08-27T14:56:54.685Z"
   },
   {
    "duration": 165,
    "start_time": "2023-08-27T14:56:54.820Z"
   },
   {
    "duration": 159,
    "start_time": "2023-08-27T14:56:54.987Z"
   },
   {
    "duration": 168,
    "start_time": "2023-08-27T14:56:55.148Z"
   },
   {
    "duration": 10,
    "start_time": "2023-08-27T14:56:55.318Z"
   },
   {
    "duration": 163,
    "start_time": "2023-08-27T14:56:55.330Z"
   },
   {
    "duration": 150,
    "start_time": "2023-08-27T14:56:55.495Z"
   },
   {
    "duration": 18,
    "start_time": "2023-08-27T14:56:55.646Z"
   },
   {
    "duration": 26,
    "start_time": "2023-08-27T14:56:55.666Z"
   },
   {
    "duration": 18,
    "start_time": "2023-08-27T14:56:55.694Z"
   },
   {
    "duration": 47,
    "start_time": "2023-08-27T14:56:55.714Z"
   },
   {
    "duration": 239,
    "start_time": "2023-08-27T14:56:55.762Z"
   },
   {
    "duration": 278,
    "start_time": "2023-08-27T14:56:56.002Z"
   },
   {
    "duration": 19,
    "start_time": "2023-08-27T14:56:56.282Z"
   },
   {
    "duration": 12,
    "start_time": "2023-08-27T14:56:56.303Z"
   },
   {
    "duration": 52,
    "start_time": "2023-08-27T14:56:56.316Z"
   },
   {
    "duration": 7,
    "start_time": "2023-08-27T14:56:56.370Z"
   },
   {
    "duration": 6,
    "start_time": "2023-08-27T14:56:56.379Z"
   },
   {
    "duration": 14,
    "start_time": "2023-08-27T14:56:56.389Z"
   },
   {
    "duration": 286,
    "start_time": "2023-08-27T14:56:56.405Z"
   },
   {
    "duration": 3,
    "start_time": "2023-08-27T14:59:21.297Z"
   },
   {
    "duration": 107,
    "start_time": "2023-08-27T14:59:21.302Z"
   },
   {
    "duration": 11,
    "start_time": "2023-08-27T14:59:21.411Z"
   },
   {
    "duration": 9,
    "start_time": "2023-08-27T14:59:21.423Z"
   },
   {
    "duration": 25,
    "start_time": "2023-08-27T14:59:21.434Z"
   },
   {
    "duration": 4,
    "start_time": "2023-08-27T14:59:21.461Z"
   },
   {
    "duration": 13,
    "start_time": "2023-08-27T14:59:21.467Z"
   },
   {
    "duration": 8,
    "start_time": "2023-08-27T14:59:21.482Z"
   },
   {
    "duration": 170,
    "start_time": "2023-08-27T14:59:21.491Z"
   },
   {
    "duration": 123,
    "start_time": "2023-08-27T14:59:21.663Z"
   },
   {
    "duration": 145,
    "start_time": "2023-08-27T14:59:21.788Z"
   },
   {
    "duration": 147,
    "start_time": "2023-08-27T14:59:21.935Z"
   },
   {
    "duration": 139,
    "start_time": "2023-08-27T14:59:22.083Z"
   },
   {
    "duration": 8,
    "start_time": "2023-08-27T14:59:22.225Z"
   },
   {
    "duration": 150,
    "start_time": "2023-08-27T14:59:22.234Z"
   },
   {
    "duration": 154,
    "start_time": "2023-08-27T14:59:22.386Z"
   },
   {
    "duration": 7,
    "start_time": "2023-08-27T14:59:22.542Z"
   },
   {
    "duration": 24,
    "start_time": "2023-08-27T14:59:22.560Z"
   },
   {
    "duration": 17,
    "start_time": "2023-08-27T14:59:22.585Z"
   },
   {
    "duration": 16,
    "start_time": "2023-08-27T14:59:22.603Z"
   },
   {
    "duration": 245,
    "start_time": "2023-08-27T14:59:22.621Z"
   },
   {
    "duration": 242,
    "start_time": "2023-08-27T14:59:22.869Z"
   },
   {
    "duration": 21,
    "start_time": "2023-08-27T14:59:23.113Z"
   },
   {
    "duration": 31,
    "start_time": "2023-08-27T14:59:23.136Z"
   },
   {
    "duration": 26,
    "start_time": "2023-08-27T14:59:23.168Z"
   },
   {
    "duration": 7,
    "start_time": "2023-08-27T14:59:23.196Z"
   },
   {
    "duration": 19,
    "start_time": "2023-08-27T14:59:23.205Z"
   },
   {
    "duration": 34,
    "start_time": "2023-08-27T14:59:23.226Z"
   },
   {
    "duration": 1307,
    "start_time": "2023-08-27T14:59:23.262Z"
   },
   {
    "duration": 3,
    "start_time": "2023-08-27T14:59:55.044Z"
   },
   {
    "duration": 129,
    "start_time": "2023-08-27T14:59:55.049Z"
   },
   {
    "duration": 12,
    "start_time": "2023-08-27T14:59:55.180Z"
   },
   {
    "duration": 12,
    "start_time": "2023-08-27T14:59:55.194Z"
   },
   {
    "duration": 13,
    "start_time": "2023-08-27T14:59:55.209Z"
   },
   {
    "duration": 7,
    "start_time": "2023-08-27T14:59:55.224Z"
   },
   {
    "duration": 10,
    "start_time": "2023-08-27T14:59:55.259Z"
   },
   {
    "duration": 31,
    "start_time": "2023-08-27T14:59:55.272Z"
   },
   {
    "duration": 168,
    "start_time": "2023-08-27T14:59:55.305Z"
   },
   {
    "duration": 136,
    "start_time": "2023-08-27T14:59:55.474Z"
   },
   {
    "duration": 150,
    "start_time": "2023-08-27T14:59:55.612Z"
   },
   {
    "duration": 148,
    "start_time": "2023-08-27T14:59:55.764Z"
   },
   {
    "duration": 155,
    "start_time": "2023-08-27T14:59:55.914Z"
   },
   {
    "duration": 9,
    "start_time": "2023-08-27T14:59:56.073Z"
   },
   {
    "duration": 159,
    "start_time": "2023-08-27T14:59:56.085Z"
   },
   {
    "duration": 171,
    "start_time": "2023-08-27T14:59:56.246Z"
   },
   {
    "duration": 8,
    "start_time": "2023-08-27T14:59:56.420Z"
   },
   {
    "duration": 43,
    "start_time": "2023-08-27T14:59:56.430Z"
   },
   {
    "duration": 18,
    "start_time": "2023-08-27T14:59:56.475Z"
   },
   {
    "duration": 19,
    "start_time": "2023-08-27T14:59:56.495Z"
   },
   {
    "duration": 247,
    "start_time": "2023-08-27T14:59:56.515Z"
   },
   {
    "duration": 231,
    "start_time": "2023-08-27T14:59:56.764Z"
   },
   {
    "duration": 20,
    "start_time": "2023-08-27T14:59:56.996Z"
   },
   {
    "duration": 12,
    "start_time": "2023-08-27T14:59:57.018Z"
   },
   {
    "duration": 48,
    "start_time": "2023-08-27T14:59:57.032Z"
   },
   {
    "duration": 6,
    "start_time": "2023-08-27T14:59:57.082Z"
   },
   {
    "duration": 10,
    "start_time": "2023-08-27T14:59:57.090Z"
   },
   {
    "duration": 12,
    "start_time": "2023-08-27T14:59:57.101Z"
   },
   {
    "duration": 1913,
    "start_time": "2023-08-27T14:59:57.115Z"
   },
   {
    "duration": 3,
    "start_time": "2023-08-27T15:04:06.543Z"
   },
   {
    "duration": 113,
    "start_time": "2023-08-27T15:04:06.548Z"
   },
   {
    "duration": 11,
    "start_time": "2023-08-27T15:04:06.662Z"
   },
   {
    "duration": 11,
    "start_time": "2023-08-27T15:04:06.675Z"
   },
   {
    "duration": 12,
    "start_time": "2023-08-27T15:04:06.689Z"
   },
   {
    "duration": 5,
    "start_time": "2023-08-27T15:04:06.702Z"
   },
   {
    "duration": 9,
    "start_time": "2023-08-27T15:04:06.709Z"
   },
   {
    "duration": 14,
    "start_time": "2023-08-27T15:04:06.720Z"
   },
   {
    "duration": 171,
    "start_time": "2023-08-27T15:04:06.759Z"
   },
   {
    "duration": 129,
    "start_time": "2023-08-27T15:04:06.932Z"
   },
   {
    "duration": 152,
    "start_time": "2023-08-27T15:04:07.063Z"
   },
   {
    "duration": 149,
    "start_time": "2023-08-27T15:04:07.217Z"
   },
   {
    "duration": 144,
    "start_time": "2023-08-27T15:04:07.368Z"
   },
   {
    "duration": 7,
    "start_time": "2023-08-27T15:04:07.515Z"
   },
   {
    "duration": 171,
    "start_time": "2023-08-27T15:04:07.526Z"
   },
   {
    "duration": 150,
    "start_time": "2023-08-27T15:04:07.699Z"
   },
   {
    "duration": 16,
    "start_time": "2023-08-27T15:04:07.850Z"
   },
   {
    "duration": 28,
    "start_time": "2023-08-27T15:04:07.867Z"
   },
   {
    "duration": 18,
    "start_time": "2023-08-27T15:04:07.897Z"
   },
   {
    "duration": 17,
    "start_time": "2023-08-27T15:04:07.917Z"
   },
   {
    "duration": 251,
    "start_time": "2023-08-27T15:04:07.960Z"
   },
   {
    "duration": 237,
    "start_time": "2023-08-27T15:04:08.213Z"
   },
   {
    "duration": 25,
    "start_time": "2023-08-27T15:04:08.452Z"
   },
   {
    "duration": 14,
    "start_time": "2023-08-27T15:04:08.479Z"
   },
   {
    "duration": 41,
    "start_time": "2023-08-27T15:04:08.495Z"
   },
   {
    "duration": 7,
    "start_time": "2023-08-27T15:04:08.538Z"
   },
   {
    "duration": 5,
    "start_time": "2023-08-27T15:04:08.560Z"
   },
   {
    "duration": 12,
    "start_time": "2023-08-27T15:04:08.567Z"
   },
   {
    "duration": 101,
    "start_time": "2023-08-27T15:04:08.581Z"
   },
   {
    "duration": 3,
    "start_time": "2023-08-27T15:04:40.433Z"
   },
   {
    "duration": 110,
    "start_time": "2023-08-27T15:04:40.438Z"
   },
   {
    "duration": 14,
    "start_time": "2023-08-27T15:04:40.550Z"
   },
   {
    "duration": 12,
    "start_time": "2023-08-27T15:04:40.566Z"
   },
   {
    "duration": 11,
    "start_time": "2023-08-27T15:04:40.580Z"
   },
   {
    "duration": 5,
    "start_time": "2023-08-27T15:04:40.593Z"
   },
   {
    "duration": 11,
    "start_time": "2023-08-27T15:04:40.599Z"
   },
   {
    "duration": 6,
    "start_time": "2023-08-27T15:04:40.612Z"
   },
   {
    "duration": 200,
    "start_time": "2023-08-27T15:04:40.620Z"
   },
   {
    "duration": 122,
    "start_time": "2023-08-27T15:04:40.823Z"
   },
   {
    "duration": 156,
    "start_time": "2023-08-27T15:04:40.946Z"
   },
   {
    "duration": 140,
    "start_time": "2023-08-27T15:04:41.104Z"
   },
   {
    "duration": 159,
    "start_time": "2023-08-27T15:04:41.245Z"
   },
   {
    "duration": 9,
    "start_time": "2023-08-27T15:04:41.405Z"
   },
   {
    "duration": 151,
    "start_time": "2023-08-27T15:04:41.415Z"
   },
   {
    "duration": 147,
    "start_time": "2023-08-27T15:04:41.568Z"
   },
   {
    "duration": 8,
    "start_time": "2023-08-27T15:04:41.717Z"
   },
   {
    "duration": 36,
    "start_time": "2023-08-27T15:04:41.726Z"
   },
   {
    "duration": 18,
    "start_time": "2023-08-27T15:04:41.764Z"
   },
   {
    "duration": 15,
    "start_time": "2023-08-27T15:04:41.784Z"
   },
   {
    "duration": 250,
    "start_time": "2023-08-27T15:04:41.801Z"
   },
   {
    "duration": 245,
    "start_time": "2023-08-27T15:04:42.053Z"
   },
   {
    "duration": 20,
    "start_time": "2023-08-27T15:04:42.300Z"
   },
   {
    "duration": 13,
    "start_time": "2023-08-27T15:04:42.322Z"
   },
   {
    "duration": 27,
    "start_time": "2023-08-27T15:04:42.360Z"
   },
   {
    "duration": 7,
    "start_time": "2023-08-27T15:04:42.389Z"
   },
   {
    "duration": 7,
    "start_time": "2023-08-27T15:04:42.397Z"
   },
   {
    "duration": 11,
    "start_time": "2023-08-27T15:04:42.407Z"
   },
   {
    "duration": 115,
    "start_time": "2023-08-27T15:04:42.420Z"
   },
   {
    "duration": 3,
    "start_time": "2023-08-27T15:04:45.316Z"
   },
   {
    "duration": 113,
    "start_time": "2023-08-27T15:04:45.321Z"
   },
   {
    "duration": 13,
    "start_time": "2023-08-27T15:04:45.435Z"
   },
   {
    "duration": 13,
    "start_time": "2023-08-27T15:04:45.450Z"
   },
   {
    "duration": 11,
    "start_time": "2023-08-27T15:04:45.465Z"
   },
   {
    "duration": 6,
    "start_time": "2023-08-27T15:04:45.477Z"
   },
   {
    "duration": 22,
    "start_time": "2023-08-27T15:04:45.484Z"
   },
   {
    "duration": 31,
    "start_time": "2023-08-27T15:04:45.507Z"
   },
   {
    "duration": 182,
    "start_time": "2023-08-27T15:04:45.540Z"
   },
   {
    "duration": 134,
    "start_time": "2023-08-27T15:04:45.725Z"
   },
   {
    "duration": 160,
    "start_time": "2023-08-27T15:04:45.861Z"
   },
   {
    "duration": 161,
    "start_time": "2023-08-27T15:04:46.023Z"
   },
   {
    "duration": 141,
    "start_time": "2023-08-27T15:04:46.186Z"
   },
   {
    "duration": 7,
    "start_time": "2023-08-27T15:04:46.329Z"
   },
   {
    "duration": 144,
    "start_time": "2023-08-27T15:04:46.338Z"
   },
   {
    "duration": 157,
    "start_time": "2023-08-27T15:04:46.484Z"
   },
   {
    "duration": 8,
    "start_time": "2023-08-27T15:04:46.643Z"
   },
   {
    "duration": 34,
    "start_time": "2023-08-27T15:04:46.659Z"
   },
   {
    "duration": 20,
    "start_time": "2023-08-27T15:04:46.695Z"
   },
   {
    "duration": 17,
    "start_time": "2023-08-27T15:04:46.717Z"
   },
   {
    "duration": 247,
    "start_time": "2023-08-27T15:04:46.736Z"
   },
   {
    "duration": 237,
    "start_time": "2023-08-27T15:04:46.986Z"
   },
   {
    "duration": 19,
    "start_time": "2023-08-27T15:04:47.224Z"
   },
   {
    "duration": 25,
    "start_time": "2023-08-27T15:04:47.245Z"
   },
   {
    "duration": 33,
    "start_time": "2023-08-27T15:04:47.271Z"
   },
   {
    "duration": 6,
    "start_time": "2023-08-27T15:04:47.306Z"
   },
   {
    "duration": 24,
    "start_time": "2023-08-27T15:04:47.314Z"
   },
   {
    "duration": 24,
    "start_time": "2023-08-27T15:04:47.342Z"
   },
   {
    "duration": 108,
    "start_time": "2023-08-27T15:04:47.367Z"
   },
   {
    "duration": 3,
    "start_time": "2023-08-27T15:04:59.003Z"
   },
   {
    "duration": 114,
    "start_time": "2023-08-27T15:04:59.008Z"
   },
   {
    "duration": 10,
    "start_time": "2023-08-27T15:04:59.124Z"
   },
   {
    "duration": 23,
    "start_time": "2023-08-27T15:04:59.136Z"
   },
   {
    "duration": 12,
    "start_time": "2023-08-27T15:04:59.161Z"
   },
   {
    "duration": 6,
    "start_time": "2023-08-27T15:04:59.175Z"
   },
   {
    "duration": 14,
    "start_time": "2023-08-27T15:04:59.182Z"
   },
   {
    "duration": 7,
    "start_time": "2023-08-27T15:04:59.197Z"
   },
   {
    "duration": 185,
    "start_time": "2023-08-27T15:04:59.205Z"
   },
   {
    "duration": 118,
    "start_time": "2023-08-27T15:04:59.392Z"
   },
   {
    "duration": 155,
    "start_time": "2023-08-27T15:04:59.512Z"
   },
   {
    "duration": 152,
    "start_time": "2023-08-27T15:04:59.669Z"
   },
   {
    "duration": 151,
    "start_time": "2023-08-27T15:04:59.822Z"
   },
   {
    "duration": 8,
    "start_time": "2023-08-27T15:04:59.976Z"
   },
   {
    "duration": 154,
    "start_time": "2023-08-27T15:04:59.986Z"
   },
   {
    "duration": 154,
    "start_time": "2023-08-27T15:05:00.142Z"
   },
   {
    "duration": 7,
    "start_time": "2023-08-27T15:05:00.298Z"
   },
   {
    "duration": 75,
    "start_time": "2023-08-27T15:05:00.307Z"
   },
   {
    "duration": 97,
    "start_time": "2023-08-27T15:05:00.384Z"
   },
   {
    "duration": 44,
    "start_time": "2023-08-27T15:05:00.483Z"
   },
   {
    "duration": 258,
    "start_time": "2023-08-27T15:05:00.529Z"
   },
   {
    "duration": 254,
    "start_time": "2023-08-27T15:05:00.788Z"
   },
   {
    "duration": 30,
    "start_time": "2023-08-27T15:05:01.044Z"
   },
   {
    "duration": 18,
    "start_time": "2023-08-27T15:05:01.076Z"
   },
   {
    "duration": 65,
    "start_time": "2023-08-27T15:05:01.096Z"
   },
   {
    "duration": 55,
    "start_time": "2023-08-27T15:05:01.162Z"
   },
   {
    "duration": 82,
    "start_time": "2023-08-27T15:05:01.219Z"
   },
   {
    "duration": 50,
    "start_time": "2023-08-27T15:05:01.303Z"
   },
   {
    "duration": 2062,
    "start_time": "2023-08-27T15:05:01.355Z"
   },
   {
    "duration": 3,
    "start_time": "2023-08-27T15:05:26.354Z"
   },
   {
    "duration": 127,
    "start_time": "2023-08-27T15:05:26.359Z"
   },
   {
    "duration": 14,
    "start_time": "2023-08-27T15:05:26.489Z"
   },
   {
    "duration": 14,
    "start_time": "2023-08-27T15:05:26.505Z"
   },
   {
    "duration": 38,
    "start_time": "2023-08-27T15:05:26.522Z"
   },
   {
    "duration": 7,
    "start_time": "2023-08-27T15:05:26.562Z"
   },
   {
    "duration": 13,
    "start_time": "2023-08-27T15:05:26.571Z"
   },
   {
    "duration": 15,
    "start_time": "2023-08-27T15:05:26.586Z"
   },
   {
    "duration": 200,
    "start_time": "2023-08-27T15:05:26.604Z"
   },
   {
    "duration": 149,
    "start_time": "2023-08-27T15:05:26.806Z"
   },
   {
    "duration": 159,
    "start_time": "2023-08-27T15:05:26.956Z"
   },
   {
    "duration": 145,
    "start_time": "2023-08-27T15:05:27.117Z"
   },
   {
    "duration": 151,
    "start_time": "2023-08-27T15:05:27.264Z"
   },
   {
    "duration": 9,
    "start_time": "2023-08-27T15:05:27.418Z"
   },
   {
    "duration": 154,
    "start_time": "2023-08-27T15:05:27.428Z"
   },
   {
    "duration": 150,
    "start_time": "2023-08-27T15:05:27.584Z"
   },
   {
    "duration": 8,
    "start_time": "2023-08-27T15:05:27.736Z"
   },
   {
    "duration": 35,
    "start_time": "2023-08-27T15:05:27.746Z"
   },
   {
    "duration": 17,
    "start_time": "2023-08-27T15:05:27.783Z"
   },
   {
    "duration": 21,
    "start_time": "2023-08-27T15:05:27.801Z"
   },
   {
    "duration": 256,
    "start_time": "2023-08-27T15:05:27.824Z"
   },
   {
    "duration": 238,
    "start_time": "2023-08-27T15:05:28.082Z"
   },
   {
    "duration": 20,
    "start_time": "2023-08-27T15:05:28.322Z"
   },
   {
    "duration": 30,
    "start_time": "2023-08-27T15:05:28.345Z"
   },
   {
    "duration": 26,
    "start_time": "2023-08-27T15:05:28.377Z"
   },
   {
    "duration": 7,
    "start_time": "2023-08-27T15:05:28.404Z"
   },
   {
    "duration": 6,
    "start_time": "2023-08-27T15:05:28.413Z"
   },
   {
    "duration": 39,
    "start_time": "2023-08-27T15:05:28.421Z"
   },
   {
    "duration": 1290,
    "start_time": "2023-08-27T15:05:28.462Z"
   },
   {
    "duration": 4,
    "start_time": "2023-08-27T15:05:36.182Z"
   },
   {
    "duration": 119,
    "start_time": "2023-08-27T15:05:36.188Z"
   },
   {
    "duration": 11,
    "start_time": "2023-08-27T15:05:36.310Z"
   },
   {
    "duration": 11,
    "start_time": "2023-08-27T15:05:36.323Z"
   },
   {
    "duration": 32,
    "start_time": "2023-08-27T15:05:36.336Z"
   },
   {
    "duration": 5,
    "start_time": "2023-08-27T15:05:36.369Z"
   },
   {
    "duration": 12,
    "start_time": "2023-08-27T15:05:36.376Z"
   },
   {
    "duration": 6,
    "start_time": "2023-08-27T15:05:36.390Z"
   },
   {
    "duration": 197,
    "start_time": "2023-08-27T15:05:36.397Z"
   },
   {
    "duration": 132,
    "start_time": "2023-08-27T15:05:36.595Z"
   },
   {
    "duration": 147,
    "start_time": "2023-08-27T15:05:36.729Z"
   },
   {
    "duration": 148,
    "start_time": "2023-08-27T15:05:36.878Z"
   },
   {
    "duration": 148,
    "start_time": "2023-08-27T15:05:37.028Z"
   },
   {
    "duration": 9,
    "start_time": "2023-08-27T15:05:37.179Z"
   },
   {
    "duration": 164,
    "start_time": "2023-08-27T15:05:37.190Z"
   },
   {
    "duration": 159,
    "start_time": "2023-08-27T15:05:37.359Z"
   },
   {
    "duration": 8,
    "start_time": "2023-08-27T15:05:37.520Z"
   },
   {
    "duration": 41,
    "start_time": "2023-08-27T15:05:37.530Z"
   },
   {
    "duration": 21,
    "start_time": "2023-08-27T15:05:37.573Z"
   },
   {
    "duration": 17,
    "start_time": "2023-08-27T15:05:37.595Z"
   },
   {
    "duration": 282,
    "start_time": "2023-08-27T15:05:37.614Z"
   },
   {
    "duration": 247,
    "start_time": "2023-08-27T15:05:37.898Z"
   },
   {
    "duration": 25,
    "start_time": "2023-08-27T15:05:38.146Z"
   },
   {
    "duration": 16,
    "start_time": "2023-08-27T15:05:38.172Z"
   },
   {
    "duration": 28,
    "start_time": "2023-08-27T15:05:38.190Z"
   },
   {
    "duration": 7,
    "start_time": "2023-08-27T15:05:38.220Z"
   },
   {
    "duration": 54,
    "start_time": "2023-08-27T15:05:38.229Z"
   },
   {
    "duration": 14,
    "start_time": "2023-08-27T15:05:38.285Z"
   },
   {
    "duration": 1436,
    "start_time": "2023-08-27T15:05:38.301Z"
   },
   {
    "duration": 4,
    "start_time": "2023-08-27T15:07:13.846Z"
   },
   {
    "duration": 233,
    "start_time": "2023-08-27T15:07:13.853Z"
   },
   {
    "duration": 18,
    "start_time": "2023-08-27T15:07:14.088Z"
   },
   {
    "duration": 23,
    "start_time": "2023-08-27T15:07:14.108Z"
   },
   {
    "duration": 38,
    "start_time": "2023-08-27T15:07:14.135Z"
   },
   {
    "duration": 6,
    "start_time": "2023-08-27T15:07:14.175Z"
   },
   {
    "duration": 13,
    "start_time": "2023-08-27T15:07:14.184Z"
   },
   {
    "duration": 8,
    "start_time": "2023-08-27T15:07:14.200Z"
   },
   {
    "duration": 229,
    "start_time": "2023-08-27T15:07:14.210Z"
   },
   {
    "duration": 141,
    "start_time": "2023-08-27T15:07:14.442Z"
   },
   {
    "duration": 169,
    "start_time": "2023-08-27T15:07:14.585Z"
   },
   {
    "duration": 155,
    "start_time": "2023-08-27T15:07:14.756Z"
   },
   {
    "duration": 161,
    "start_time": "2023-08-27T15:07:14.913Z"
   },
   {
    "duration": 10,
    "start_time": "2023-08-27T15:07:15.078Z"
   },
   {
    "duration": 171,
    "start_time": "2023-08-27T15:07:15.090Z"
   },
   {
    "duration": 178,
    "start_time": "2023-08-27T15:07:15.263Z"
   },
   {
    "duration": 19,
    "start_time": "2023-08-27T15:07:15.443Z"
   },
   {
    "duration": 65,
    "start_time": "2023-08-27T15:07:15.464Z"
   },
   {
    "duration": 22,
    "start_time": "2023-08-27T15:07:15.531Z"
   },
   {
    "duration": 36,
    "start_time": "2023-08-27T15:07:15.555Z"
   },
   {
    "duration": 260,
    "start_time": "2023-08-27T15:07:15.593Z"
   },
   {
    "duration": 244,
    "start_time": "2023-08-27T15:07:15.860Z"
   },
   {
    "duration": 21,
    "start_time": "2023-08-27T15:07:16.105Z"
   },
   {
    "duration": 32,
    "start_time": "2023-08-27T15:07:16.128Z"
   },
   {
    "duration": 38,
    "start_time": "2023-08-27T15:07:16.162Z"
   },
   {
    "duration": 8,
    "start_time": "2023-08-27T15:07:16.202Z"
   },
   {
    "duration": 18,
    "start_time": "2023-08-27T15:07:16.212Z"
   },
   {
    "duration": 26,
    "start_time": "2023-08-27T15:07:16.232Z"
   },
   {
    "duration": 2355,
    "start_time": "2023-08-27T15:07:16.259Z"
   },
   {
    "duration": 3,
    "start_time": "2023-08-27T15:14:47.566Z"
   },
   {
    "duration": 112,
    "start_time": "2023-08-27T15:14:47.571Z"
   },
   {
    "duration": 10,
    "start_time": "2023-08-27T15:14:47.685Z"
   },
   {
    "duration": 11,
    "start_time": "2023-08-27T15:14:47.696Z"
   },
   {
    "duration": 11,
    "start_time": "2023-08-27T15:14:47.709Z"
   },
   {
    "duration": 37,
    "start_time": "2023-08-27T15:14:47.722Z"
   },
   {
    "duration": 10,
    "start_time": "2023-08-27T15:14:47.761Z"
   },
   {
    "duration": 6,
    "start_time": "2023-08-27T15:14:47.772Z"
   },
   {
    "duration": 179,
    "start_time": "2023-08-27T15:14:47.780Z"
   },
   {
    "duration": 129,
    "start_time": "2023-08-27T15:14:47.961Z"
   },
   {
    "duration": 156,
    "start_time": "2023-08-27T15:14:48.092Z"
   },
   {
    "duration": 146,
    "start_time": "2023-08-27T15:14:48.249Z"
   },
   {
    "duration": 145,
    "start_time": "2023-08-27T15:14:48.397Z"
   },
   {
    "duration": 19,
    "start_time": "2023-08-27T15:14:48.545Z"
   },
   {
    "duration": 149,
    "start_time": "2023-08-27T15:14:48.566Z"
   },
   {
    "duration": 157,
    "start_time": "2023-08-27T15:14:48.716Z"
   },
   {
    "duration": 7,
    "start_time": "2023-08-27T15:14:48.875Z"
   },
   {
    "duration": 46,
    "start_time": "2023-08-27T15:14:48.884Z"
   },
   {
    "duration": 18,
    "start_time": "2023-08-27T15:14:48.932Z"
   },
   {
    "duration": 20,
    "start_time": "2023-08-27T15:14:48.951Z"
   },
   {
    "duration": 230,
    "start_time": "2023-08-27T15:14:48.973Z"
   },
   {
    "duration": 237,
    "start_time": "2023-08-27T15:14:49.205Z"
   },
   {
    "duration": 27,
    "start_time": "2023-08-27T15:14:49.444Z"
   },
   {
    "duration": 12,
    "start_time": "2023-08-27T15:14:49.473Z"
   },
   {
    "duration": 29,
    "start_time": "2023-08-27T15:14:49.486Z"
   },
   {
    "duration": 7,
    "start_time": "2023-08-27T15:14:49.517Z"
   },
   {
    "duration": 9,
    "start_time": "2023-08-27T15:14:49.525Z"
   },
   {
    "duration": 18,
    "start_time": "2023-08-27T15:14:49.558Z"
   },
   {
    "duration": 1417,
    "start_time": "2023-08-27T15:14:49.577Z"
   },
   {
    "duration": 4,
    "start_time": "2023-08-27T15:15:16.961Z"
   },
   {
    "duration": 128,
    "start_time": "2023-08-27T15:15:16.967Z"
   },
   {
    "duration": 12,
    "start_time": "2023-08-27T15:15:17.097Z"
   },
   {
    "duration": 45,
    "start_time": "2023-08-27T15:15:17.111Z"
   },
   {
    "duration": 25,
    "start_time": "2023-08-27T15:15:17.159Z"
   },
   {
    "duration": 28,
    "start_time": "2023-08-27T15:15:17.185Z"
   },
   {
    "duration": 50,
    "start_time": "2023-08-27T15:15:17.215Z"
   },
   {
    "duration": 35,
    "start_time": "2023-08-27T15:15:17.266Z"
   },
   {
    "duration": 168,
    "start_time": "2023-08-27T15:15:17.303Z"
   },
   {
    "duration": 133,
    "start_time": "2023-08-27T15:15:17.473Z"
   },
   {
    "duration": 152,
    "start_time": "2023-08-27T15:15:17.609Z"
   },
   {
    "duration": 154,
    "start_time": "2023-08-27T15:15:17.763Z"
   },
   {
    "duration": 155,
    "start_time": "2023-08-27T15:15:17.918Z"
   },
   {
    "duration": 8,
    "start_time": "2023-08-27T15:15:18.077Z"
   },
   {
    "duration": 156,
    "start_time": "2023-08-27T15:15:18.086Z"
   },
   {
    "duration": 149,
    "start_time": "2023-08-27T15:15:18.244Z"
   },
   {
    "duration": 7,
    "start_time": "2023-08-27T15:15:18.395Z"
   },
   {
    "duration": 42,
    "start_time": "2023-08-27T15:15:18.404Z"
   },
   {
    "duration": 21,
    "start_time": "2023-08-27T15:15:18.448Z"
   },
   {
    "duration": 18,
    "start_time": "2023-08-27T15:15:18.471Z"
   },
   {
    "duration": 232,
    "start_time": "2023-08-27T15:15:18.491Z"
   },
   {
    "duration": 234,
    "start_time": "2023-08-27T15:15:18.725Z"
   },
   {
    "duration": 19,
    "start_time": "2023-08-27T15:15:18.961Z"
   },
   {
    "duration": 12,
    "start_time": "2023-08-27T15:15:18.982Z"
   },
   {
    "duration": 25,
    "start_time": "2023-08-27T15:15:18.996Z"
   },
   {
    "duration": 6,
    "start_time": "2023-08-27T15:15:19.023Z"
   },
   {
    "duration": 13,
    "start_time": "2023-08-27T15:15:19.059Z"
   },
   {
    "duration": 15,
    "start_time": "2023-08-27T15:15:19.074Z"
   },
   {
    "duration": 1461,
    "start_time": "2023-08-27T15:15:19.091Z"
   },
   {
    "duration": 3,
    "start_time": "2023-08-27T15:17:04.712Z"
   },
   {
    "duration": 109,
    "start_time": "2023-08-27T15:17:04.717Z"
   },
   {
    "duration": 11,
    "start_time": "2023-08-27T15:17:04.828Z"
   },
   {
    "duration": 20,
    "start_time": "2023-08-27T15:17:04.840Z"
   },
   {
    "duration": 24,
    "start_time": "2023-08-27T15:17:04.863Z"
   },
   {
    "duration": 5,
    "start_time": "2023-08-27T15:17:04.890Z"
   },
   {
    "duration": 17,
    "start_time": "2023-08-27T15:17:04.897Z"
   },
   {
    "duration": 24,
    "start_time": "2023-08-27T15:17:04.915Z"
   },
   {
    "duration": 182,
    "start_time": "2023-08-27T15:17:04.941Z"
   },
   {
    "duration": 126,
    "start_time": "2023-08-27T15:17:05.125Z"
   },
   {
    "duration": 160,
    "start_time": "2023-08-27T15:17:05.258Z"
   },
   {
    "duration": 148,
    "start_time": "2023-08-27T15:17:05.420Z"
   },
   {
    "duration": 164,
    "start_time": "2023-08-27T15:17:05.570Z"
   },
   {
    "duration": 9,
    "start_time": "2023-08-27T15:17:05.738Z"
   },
   {
    "duration": 157,
    "start_time": "2023-08-27T15:17:05.759Z"
   },
   {
    "duration": 156,
    "start_time": "2023-08-27T15:17:05.918Z"
   },
   {
    "duration": 9,
    "start_time": "2023-08-27T15:17:06.076Z"
   },
   {
    "duration": 28,
    "start_time": "2023-08-27T15:17:06.087Z"
   },
   {
    "duration": 43,
    "start_time": "2023-08-27T15:17:06.116Z"
   },
   {
    "duration": 18,
    "start_time": "2023-08-27T15:17:06.161Z"
   },
   {
    "duration": 240,
    "start_time": "2023-08-27T15:17:06.181Z"
   },
   {
    "duration": 237,
    "start_time": "2023-08-27T15:17:06.422Z"
   },
   {
    "duration": 21,
    "start_time": "2023-08-27T15:17:06.661Z"
   },
   {
    "duration": 13,
    "start_time": "2023-08-27T15:17:06.684Z"
   },
   {
    "duration": 27,
    "start_time": "2023-08-27T15:17:06.699Z"
   },
   {
    "duration": 9,
    "start_time": "2023-08-27T15:17:06.758Z"
   },
   {
    "duration": 12,
    "start_time": "2023-08-27T15:17:06.769Z"
   },
   {
    "duration": 11,
    "start_time": "2023-08-27T15:17:06.783Z"
   },
   {
    "duration": 2476,
    "start_time": "2023-08-27T15:17:06.796Z"
   },
   {
    "duration": 138,
    "start_time": "2023-08-27T15:22:50.906Z"
   },
   {
    "duration": 4,
    "start_time": "2023-08-27T15:22:56.898Z"
   },
   {
    "duration": 112,
    "start_time": "2023-08-27T15:22:56.904Z"
   },
   {
    "duration": 11,
    "start_time": "2023-08-27T15:22:57.018Z"
   },
   {
    "duration": 28,
    "start_time": "2023-08-27T15:22:57.031Z"
   },
   {
    "duration": 13,
    "start_time": "2023-08-27T15:22:57.061Z"
   },
   {
    "duration": 6,
    "start_time": "2023-08-27T15:22:57.076Z"
   },
   {
    "duration": 11,
    "start_time": "2023-08-27T15:22:57.085Z"
   },
   {
    "duration": 14,
    "start_time": "2023-08-27T15:22:57.098Z"
   },
   {
    "duration": 219,
    "start_time": "2023-08-27T15:22:57.115Z"
   },
   {
    "duration": 139,
    "start_time": "2023-08-27T15:22:57.336Z"
   },
   {
    "duration": 369,
    "start_time": "2023-08-27T15:22:57.478Z"
   },
   {
    "duration": 151,
    "start_time": "2023-08-27T15:22:57.848Z"
   },
   {
    "duration": 160,
    "start_time": "2023-08-27T15:22:58.001Z"
   },
   {
    "duration": 9,
    "start_time": "2023-08-27T15:22:58.164Z"
   },
   {
    "duration": 157,
    "start_time": "2023-08-27T15:22:58.175Z"
   },
   {
    "duration": 153,
    "start_time": "2023-08-27T15:22:58.333Z"
   },
   {
    "duration": 8,
    "start_time": "2023-08-27T15:22:58.488Z"
   },
   {
    "duration": 34,
    "start_time": "2023-08-27T15:22:58.497Z"
   },
   {
    "duration": 29,
    "start_time": "2023-08-27T15:22:58.533Z"
   },
   {
    "duration": 17,
    "start_time": "2023-08-27T15:22:58.564Z"
   },
   {
    "duration": 240,
    "start_time": "2023-08-27T15:22:58.583Z"
   },
   {
    "duration": 237,
    "start_time": "2023-08-27T15:22:58.825Z"
   },
   {
    "duration": 22,
    "start_time": "2023-08-27T15:22:59.064Z"
   },
   {
    "duration": 13,
    "start_time": "2023-08-27T15:22:59.087Z"
   },
   {
    "duration": 28,
    "start_time": "2023-08-27T15:22:59.102Z"
   },
   {
    "duration": 31,
    "start_time": "2023-08-27T15:22:59.132Z"
   },
   {
    "duration": 8,
    "start_time": "2023-08-27T15:22:59.166Z"
   },
   {
    "duration": 19,
    "start_time": "2023-08-27T15:22:59.176Z"
   },
   {
    "duration": 116,
    "start_time": "2023-08-27T15:22:59.198Z"
   },
   {
    "duration": 3,
    "start_time": "2023-08-27T15:23:22.821Z"
   },
   {
    "duration": 108,
    "start_time": "2023-08-27T15:23:22.827Z"
   },
   {
    "duration": 11,
    "start_time": "2023-08-27T15:23:22.937Z"
   },
   {
    "duration": 11,
    "start_time": "2023-08-27T15:23:22.950Z"
   },
   {
    "duration": 13,
    "start_time": "2023-08-27T15:23:22.964Z"
   },
   {
    "duration": 5,
    "start_time": "2023-08-27T15:23:22.979Z"
   },
   {
    "duration": 12,
    "start_time": "2023-08-27T15:23:22.986Z"
   },
   {
    "duration": 8,
    "start_time": "2023-08-27T15:23:22.999Z"
   },
   {
    "duration": 208,
    "start_time": "2023-08-27T15:23:23.008Z"
   },
   {
    "duration": 129,
    "start_time": "2023-08-27T15:23:23.218Z"
   },
   {
    "duration": 161,
    "start_time": "2023-08-27T15:23:23.349Z"
   },
   {
    "duration": 151,
    "start_time": "2023-08-27T15:23:23.511Z"
   },
   {
    "duration": 160,
    "start_time": "2023-08-27T15:23:23.663Z"
   },
   {
    "duration": 8,
    "start_time": "2023-08-27T15:23:23.826Z"
   },
   {
    "duration": 177,
    "start_time": "2023-08-27T15:23:23.835Z"
   },
   {
    "duration": 195,
    "start_time": "2023-08-27T15:23:24.014Z"
   },
   {
    "duration": 10,
    "start_time": "2023-08-27T15:23:24.211Z"
   },
   {
    "duration": 48,
    "start_time": "2023-08-27T15:23:24.224Z"
   },
   {
    "duration": 24,
    "start_time": "2023-08-27T15:23:24.274Z"
   },
   {
    "duration": 26,
    "start_time": "2023-08-27T15:23:24.299Z"
   },
   {
    "duration": 285,
    "start_time": "2023-08-27T15:23:24.327Z"
   },
   {
    "duration": 264,
    "start_time": "2023-08-27T15:23:24.614Z"
   },
   {
    "duration": 19,
    "start_time": "2023-08-27T15:23:24.879Z"
   },
   {
    "duration": 30,
    "start_time": "2023-08-27T15:23:24.900Z"
   },
   {
    "duration": 36,
    "start_time": "2023-08-27T15:23:24.932Z"
   },
   {
    "duration": 9,
    "start_time": "2023-08-27T15:23:24.969Z"
   },
   {
    "duration": 31,
    "start_time": "2023-08-27T15:23:24.980Z"
   },
   {
    "duration": 29,
    "start_time": "2023-08-27T15:23:25.013Z"
   },
   {
    "duration": 1517,
    "start_time": "2023-08-27T15:23:25.045Z"
   },
   {
    "duration": 1438,
    "start_time": "2023-08-27T16:56:24.477Z"
   },
   {
    "duration": 338,
    "start_time": "2023-08-27T16:56:25.918Z"
   },
   {
    "duration": 14,
    "start_time": "2023-08-27T16:56:26.258Z"
   },
   {
    "duration": 25,
    "start_time": "2023-08-27T16:56:26.274Z"
   },
   {
    "duration": 10,
    "start_time": "2023-08-27T16:56:26.301Z"
   },
   {
    "duration": 6,
    "start_time": "2023-08-27T16:56:26.313Z"
   },
   {
    "duration": 34,
    "start_time": "2023-08-27T16:56:26.320Z"
   },
   {
    "duration": 8,
    "start_time": "2023-08-27T16:56:26.359Z"
   },
   {
    "duration": 195,
    "start_time": "2023-08-27T16:56:26.369Z"
   },
   {
    "duration": 133,
    "start_time": "2023-08-27T16:56:26.566Z"
   },
   {
    "duration": 170,
    "start_time": "2023-08-27T16:56:26.702Z"
   },
   {
    "duration": 158,
    "start_time": "2023-08-27T16:56:26.874Z"
   },
   {
    "duration": 168,
    "start_time": "2023-08-27T16:56:27.034Z"
   },
   {
    "duration": 10,
    "start_time": "2023-08-27T16:56:27.206Z"
   },
   {
    "duration": 168,
    "start_time": "2023-08-27T16:56:27.218Z"
   },
   {
    "duration": 182,
    "start_time": "2023-08-27T16:56:27.388Z"
   },
   {
    "duration": 8,
    "start_time": "2023-08-27T16:56:27.571Z"
   },
   {
    "duration": 31,
    "start_time": "2023-08-27T16:56:27.581Z"
   },
   {
    "duration": 54,
    "start_time": "2023-08-27T16:56:27.613Z"
   },
   {
    "duration": 20,
    "start_time": "2023-08-27T16:56:27.668Z"
   },
   {
    "duration": 287,
    "start_time": "2023-08-27T16:56:27.690Z"
   },
   {
    "duration": 290,
    "start_time": "2023-08-27T16:56:27.979Z"
   },
   {
    "duration": 29,
    "start_time": "2023-08-27T16:56:28.271Z"
   },
   {
    "duration": 16,
    "start_time": "2023-08-27T16:56:28.302Z"
   },
   {
    "duration": 57,
    "start_time": "2023-08-27T16:56:28.320Z"
   },
   {
    "duration": 8,
    "start_time": "2023-08-27T16:56:28.379Z"
   },
   {
    "duration": 7,
    "start_time": "2023-08-27T16:56:28.389Z"
   },
   {
    "duration": 13,
    "start_time": "2023-08-27T16:56:28.399Z"
   },
   {
    "duration": 153,
    "start_time": "2023-08-27T16:56:28.413Z"
   },
   {
    "duration": 0,
    "start_time": "2023-08-27T16:56:28.568Z"
   },
   {
    "duration": 3,
    "start_time": "2023-08-27T16:58:31.271Z"
   },
   {
    "duration": 140,
    "start_time": "2023-08-27T16:58:31.277Z"
   },
   {
    "duration": 15,
    "start_time": "2023-08-27T16:58:31.420Z"
   },
   {
    "duration": 26,
    "start_time": "2023-08-27T16:58:31.436Z"
   },
   {
    "duration": 30,
    "start_time": "2023-08-27T16:58:31.465Z"
   },
   {
    "duration": 18,
    "start_time": "2023-08-27T16:58:31.497Z"
   },
   {
    "duration": 34,
    "start_time": "2023-08-27T16:58:31.517Z"
   },
   {
    "duration": 28,
    "start_time": "2023-08-27T16:58:31.553Z"
   },
   {
    "duration": 217,
    "start_time": "2023-08-27T16:58:31.583Z"
   },
   {
    "duration": 201,
    "start_time": "2023-08-27T16:58:31.801Z"
   },
   {
    "duration": 170,
    "start_time": "2023-08-27T16:58:32.004Z"
   },
   {
    "duration": 178,
    "start_time": "2023-08-27T16:58:32.176Z"
   },
   {
    "duration": 188,
    "start_time": "2023-08-27T16:58:32.363Z"
   },
   {
    "duration": 16,
    "start_time": "2023-08-27T16:58:32.557Z"
   },
   {
    "duration": 160,
    "start_time": "2023-08-27T16:58:32.575Z"
   },
   {
    "duration": 162,
    "start_time": "2023-08-27T16:58:32.737Z"
   },
   {
    "duration": 7,
    "start_time": "2023-08-27T16:58:32.901Z"
   },
   {
    "duration": 161,
    "start_time": "2023-08-27T16:58:32.910Z"
   },
   {
    "duration": 45,
    "start_time": "2023-08-27T16:58:33.072Z"
   },
   {
    "duration": 38,
    "start_time": "2023-08-27T16:58:33.119Z"
   },
   {
    "duration": 257,
    "start_time": "2023-08-27T16:58:33.159Z"
   },
   {
    "duration": 264,
    "start_time": "2023-08-27T16:58:33.418Z"
   },
   {
    "duration": 21,
    "start_time": "2023-08-27T16:58:33.684Z"
   },
   {
    "duration": 14,
    "start_time": "2023-08-27T16:58:33.707Z"
   },
   {
    "duration": 53,
    "start_time": "2023-08-27T16:58:33.722Z"
   },
   {
    "duration": 7,
    "start_time": "2023-08-27T16:58:33.777Z"
   },
   {
    "duration": 7,
    "start_time": "2023-08-27T16:58:33.786Z"
   },
   {
    "duration": 16,
    "start_time": "2023-08-27T16:58:33.795Z"
   },
   {
    "duration": 49,
    "start_time": "2023-08-27T16:58:33.813Z"
   },
   {
    "duration": 11,
    "start_time": "2023-08-27T17:05:44.945Z"
   },
   {
    "duration": 121,
    "start_time": "2023-08-27T17:05:44.960Z"
   },
   {
    "duration": 22,
    "start_time": "2023-08-27T17:05:45.083Z"
   },
   {
    "duration": 16,
    "start_time": "2023-08-27T17:05:45.108Z"
   },
   {
    "duration": 31,
    "start_time": "2023-08-27T17:05:45.126Z"
   },
   {
    "duration": 5,
    "start_time": "2023-08-27T17:05:45.161Z"
   },
   {
    "duration": 19,
    "start_time": "2023-08-27T17:05:45.168Z"
   },
   {
    "duration": 15,
    "start_time": "2023-08-27T17:05:45.189Z"
   },
   {
    "duration": 187,
    "start_time": "2023-08-27T17:05:45.205Z"
   },
   {
    "duration": 173,
    "start_time": "2023-08-27T17:05:45.395Z"
   },
   {
    "duration": 197,
    "start_time": "2023-08-27T17:05:45.570Z"
   },
   {
    "duration": 253,
    "start_time": "2023-08-27T17:05:45.770Z"
   },
   {
    "duration": 186,
    "start_time": "2023-08-27T17:05:46.025Z"
   },
   {
    "duration": 9,
    "start_time": "2023-08-27T17:05:46.213Z"
   },
   {
    "duration": 162,
    "start_time": "2023-08-27T17:05:46.224Z"
   },
   {
    "duration": 181,
    "start_time": "2023-08-27T17:05:46.388Z"
   },
   {
    "duration": 8,
    "start_time": "2023-08-27T17:05:46.571Z"
   },
   {
    "duration": 23,
    "start_time": "2023-08-27T17:05:46.581Z"
   },
   {
    "duration": 16,
    "start_time": "2023-08-27T17:05:46.606Z"
   },
   {
    "duration": 52,
    "start_time": "2023-08-27T17:05:46.623Z"
   },
   {
    "duration": 261,
    "start_time": "2023-08-27T17:05:46.677Z"
   },
   {
    "duration": 254,
    "start_time": "2023-08-27T17:05:46.939Z"
   },
   {
    "duration": 20,
    "start_time": "2023-08-27T17:05:47.195Z"
   },
   {
    "duration": 37,
    "start_time": "2023-08-27T17:05:47.217Z"
   },
   {
    "duration": 28,
    "start_time": "2023-08-27T17:05:47.256Z"
   },
   {
    "duration": 7,
    "start_time": "2023-08-27T17:05:47.286Z"
   },
   {
    "duration": 6,
    "start_time": "2023-08-27T17:05:47.295Z"
   },
   {
    "duration": 17,
    "start_time": "2023-08-27T17:05:47.303Z"
   },
   {
    "duration": 45,
    "start_time": "2023-08-27T17:05:47.321Z"
   },
   {
    "duration": 0,
    "start_time": "2023-08-27T17:05:47.368Z"
   },
   {
    "duration": 4,
    "start_time": "2023-08-27T17:07:48.699Z"
   },
   {
    "duration": 118,
    "start_time": "2023-08-27T17:07:48.706Z"
   },
   {
    "duration": 12,
    "start_time": "2023-08-27T17:07:48.825Z"
   },
   {
    "duration": 21,
    "start_time": "2023-08-27T17:07:48.839Z"
   },
   {
    "duration": 14,
    "start_time": "2023-08-27T17:07:48.862Z"
   },
   {
    "duration": 6,
    "start_time": "2023-08-27T17:07:48.878Z"
   },
   {
    "duration": 9,
    "start_time": "2023-08-27T17:07:48.886Z"
   },
   {
    "duration": 6,
    "start_time": "2023-08-27T17:07:48.897Z"
   },
   {
    "duration": 214,
    "start_time": "2023-08-27T17:07:48.905Z"
   },
   {
    "duration": 149,
    "start_time": "2023-08-27T17:07:49.120Z"
   },
   {
    "duration": 169,
    "start_time": "2023-08-27T17:07:49.271Z"
   },
   {
    "duration": 165,
    "start_time": "2023-08-27T17:07:49.442Z"
   },
   {
    "duration": 166,
    "start_time": "2023-08-27T17:07:49.609Z"
   },
   {
    "duration": 8,
    "start_time": "2023-08-27T17:07:49.778Z"
   },
   {
    "duration": 183,
    "start_time": "2023-08-27T17:07:49.789Z"
   },
   {
    "duration": 266,
    "start_time": "2023-08-27T17:07:49.973Z"
   },
   {
    "duration": 13,
    "start_time": "2023-08-27T17:07:50.240Z"
   },
   {
    "duration": 35,
    "start_time": "2023-08-27T17:07:50.261Z"
   },
   {
    "duration": 24,
    "start_time": "2023-08-27T17:07:50.298Z"
   },
   {
    "duration": 38,
    "start_time": "2023-08-27T17:07:50.324Z"
   },
   {
    "duration": 265,
    "start_time": "2023-08-27T17:07:50.365Z"
   },
   {
    "duration": 251,
    "start_time": "2023-08-27T17:07:50.633Z"
   },
   {
    "duration": 19,
    "start_time": "2023-08-27T17:07:50.886Z"
   },
   {
    "duration": 13,
    "start_time": "2023-08-27T17:07:50.906Z"
   },
   {
    "duration": 60,
    "start_time": "2023-08-27T17:07:50.920Z"
   },
   {
    "duration": 8,
    "start_time": "2023-08-27T17:07:50.982Z"
   },
   {
    "duration": 31,
    "start_time": "2023-08-27T17:07:50.991Z"
   },
   {
    "duration": 12,
    "start_time": "2023-08-27T17:07:51.025Z"
   },
   {
    "duration": 1618,
    "start_time": "2023-08-27T17:07:51.039Z"
   },
   {
    "duration": 7,
    "start_time": "2023-08-27T17:07:52.660Z"
   },
   {
    "duration": 3,
    "start_time": "2023-08-27T17:08:53.524Z"
   },
   {
    "duration": 130,
    "start_time": "2023-08-27T17:08:53.530Z"
   },
   {
    "duration": 11,
    "start_time": "2023-08-27T17:08:53.662Z"
   },
   {
    "duration": 15,
    "start_time": "2023-08-27T17:08:53.675Z"
   },
   {
    "duration": 12,
    "start_time": "2023-08-27T17:08:53.693Z"
   },
   {
    "duration": 6,
    "start_time": "2023-08-27T17:08:53.707Z"
   },
   {
    "duration": 10,
    "start_time": "2023-08-27T17:08:53.714Z"
   },
   {
    "duration": 31,
    "start_time": "2023-08-27T17:08:53.725Z"
   },
   {
    "duration": 181,
    "start_time": "2023-08-27T17:08:53.758Z"
   },
   {
    "duration": 141,
    "start_time": "2023-08-27T17:08:53.941Z"
   },
   {
    "duration": 185,
    "start_time": "2023-08-27T17:08:54.084Z"
   },
   {
    "duration": 179,
    "start_time": "2023-08-27T17:08:54.270Z"
   },
   {
    "duration": 166,
    "start_time": "2023-08-27T17:08:54.451Z"
   },
   {
    "duration": 7,
    "start_time": "2023-08-27T17:08:54.620Z"
   },
   {
    "duration": 177,
    "start_time": "2023-08-27T17:08:54.629Z"
   },
   {
    "duration": 165,
    "start_time": "2023-08-27T17:08:54.807Z"
   },
   {
    "duration": 8,
    "start_time": "2023-08-27T17:08:54.974Z"
   },
   {
    "duration": 40,
    "start_time": "2023-08-27T17:08:54.983Z"
   },
   {
    "duration": 38,
    "start_time": "2023-08-27T17:08:55.025Z"
   },
   {
    "duration": 21,
    "start_time": "2023-08-27T17:08:55.065Z"
   },
   {
    "duration": 297,
    "start_time": "2023-08-27T17:08:55.088Z"
   },
   {
    "duration": 371,
    "start_time": "2023-08-27T17:08:55.387Z"
   },
   {
    "duration": 28,
    "start_time": "2023-08-27T17:08:55.762Z"
   },
   {
    "duration": 14,
    "start_time": "2023-08-27T17:08:55.792Z"
   },
   {
    "duration": 54,
    "start_time": "2023-08-27T17:08:55.808Z"
   },
   {
    "duration": 10,
    "start_time": "2023-08-27T17:08:55.864Z"
   },
   {
    "duration": 11,
    "start_time": "2023-08-27T17:08:55.876Z"
   },
   {
    "duration": 18,
    "start_time": "2023-08-27T17:08:55.889Z"
   },
   {
    "duration": 1667,
    "start_time": "2023-08-27T17:08:55.909Z"
   },
   {
    "duration": 5,
    "start_time": "2023-08-27T17:08:57.578Z"
   },
   {
    "duration": 4,
    "start_time": "2023-08-27T17:22:57.880Z"
   },
   {
    "duration": 133,
    "start_time": "2023-08-27T17:22:57.886Z"
   },
   {
    "duration": 11,
    "start_time": "2023-08-27T17:22:58.020Z"
   },
   {
    "duration": 37,
    "start_time": "2023-08-27T17:22:58.033Z"
   },
   {
    "duration": 15,
    "start_time": "2023-08-27T17:22:58.073Z"
   },
   {
    "duration": 14,
    "start_time": "2023-08-27T17:22:58.090Z"
   },
   {
    "duration": 12,
    "start_time": "2023-08-27T17:22:58.106Z"
   },
   {
    "duration": 11,
    "start_time": "2023-08-27T17:22:58.120Z"
   },
   {
    "duration": 204,
    "start_time": "2023-08-27T17:22:58.133Z"
   },
   {
    "duration": 361,
    "start_time": "2023-08-27T17:22:58.339Z"
   },
   {
    "duration": 202,
    "start_time": "2023-08-27T17:22:58.702Z"
   },
   {
    "duration": 188,
    "start_time": "2023-08-27T17:22:58.905Z"
   },
   {
    "duration": 195,
    "start_time": "2023-08-27T17:22:59.095Z"
   },
   {
    "duration": 7,
    "start_time": "2023-08-27T17:22:59.293Z"
   },
   {
    "duration": 185,
    "start_time": "2023-08-27T17:22:59.302Z"
   },
   {
    "duration": 193,
    "start_time": "2023-08-27T17:22:59.488Z"
   },
   {
    "duration": 8,
    "start_time": "2023-08-27T17:22:59.683Z"
   },
   {
    "duration": 29,
    "start_time": "2023-08-27T17:22:59.693Z"
   },
   {
    "duration": 49,
    "start_time": "2023-08-27T17:22:59.723Z"
   },
   {
    "duration": 25,
    "start_time": "2023-08-27T17:22:59.786Z"
   },
   {
    "duration": 294,
    "start_time": "2023-08-27T17:22:59.813Z"
   },
   {
    "duration": 310,
    "start_time": "2023-08-27T17:23:00.109Z"
   },
   {
    "duration": 47,
    "start_time": "2023-08-27T17:23:00.421Z"
   },
   {
    "duration": 24,
    "start_time": "2023-08-27T17:23:00.473Z"
   },
   {
    "duration": 43,
    "start_time": "2023-08-27T17:23:00.499Z"
   },
   {
    "duration": 22,
    "start_time": "2023-08-27T17:23:00.544Z"
   },
   {
    "duration": 17,
    "start_time": "2023-08-27T17:23:00.569Z"
   },
   {
    "duration": 36,
    "start_time": "2023-08-27T17:23:00.589Z"
   },
   {
    "duration": 1987,
    "start_time": "2023-08-27T17:23:00.628Z"
   },
   {
    "duration": 6,
    "start_time": "2023-08-27T17:23:02.617Z"
   },
   {
    "duration": 4,
    "start_time": "2023-08-27T17:34:29.009Z"
   },
   {
    "duration": 169,
    "start_time": "2023-08-27T17:34:29.015Z"
   },
   {
    "duration": 13,
    "start_time": "2023-08-27T17:34:29.186Z"
   },
   {
    "duration": 13,
    "start_time": "2023-08-27T17:34:29.200Z"
   },
   {
    "duration": 11,
    "start_time": "2023-08-27T17:34:29.216Z"
   },
   {
    "duration": 5,
    "start_time": "2023-08-27T17:34:29.228Z"
   },
   {
    "duration": 23,
    "start_time": "2023-08-27T17:34:29.234Z"
   },
   {
    "duration": 18,
    "start_time": "2023-08-27T17:34:29.262Z"
   },
   {
    "duration": 203,
    "start_time": "2023-08-27T17:34:29.282Z"
   },
   {
    "duration": 140,
    "start_time": "2023-08-27T17:34:29.487Z"
   },
   {
    "duration": 178,
    "start_time": "2023-08-27T17:34:29.629Z"
   },
   {
    "duration": 178,
    "start_time": "2023-08-27T17:34:29.809Z"
   },
   {
    "duration": 187,
    "start_time": "2023-08-27T17:34:29.989Z"
   },
   {
    "duration": 8,
    "start_time": "2023-08-27T17:34:30.182Z"
   },
   {
    "duration": 197,
    "start_time": "2023-08-27T17:34:30.192Z"
   },
   {
    "duration": 190,
    "start_time": "2023-08-27T17:34:30.391Z"
   },
   {
    "duration": 8,
    "start_time": "2023-08-27T17:34:30.583Z"
   },
   {
    "duration": 98,
    "start_time": "2023-08-27T17:34:30.593Z"
   },
   {
    "duration": 29,
    "start_time": "2023-08-27T17:34:30.693Z"
   },
   {
    "duration": 59,
    "start_time": "2023-08-27T17:34:30.724Z"
   },
   {
    "duration": 308,
    "start_time": "2023-08-27T17:34:30.785Z"
   },
   {
    "duration": 290,
    "start_time": "2023-08-27T17:34:31.095Z"
   },
   {
    "duration": 21,
    "start_time": "2023-08-27T17:34:31.387Z"
   },
   {
    "duration": 29,
    "start_time": "2023-08-27T17:34:31.410Z"
   },
   {
    "duration": 68,
    "start_time": "2023-08-27T17:34:31.441Z"
   },
   {
    "duration": 41,
    "start_time": "2023-08-27T17:34:31.511Z"
   },
   {
    "duration": 37,
    "start_time": "2023-08-27T17:34:31.560Z"
   },
   {
    "duration": 87,
    "start_time": "2023-08-27T17:34:31.599Z"
   },
   {
    "duration": 1918,
    "start_time": "2023-08-27T17:34:31.688Z"
   },
   {
    "duration": 1879,
    "start_time": "2023-08-27T17:40:40.019Z"
   },
   {
    "duration": 339,
    "start_time": "2023-08-27T17:40:41.901Z"
   },
   {
    "duration": 12,
    "start_time": "2023-08-27T17:40:42.242Z"
   },
   {
    "duration": 12,
    "start_time": "2023-08-27T17:40:42.258Z"
   },
   {
    "duration": 11,
    "start_time": "2023-08-27T17:40:42.272Z"
   },
   {
    "duration": 8,
    "start_time": "2023-08-27T17:40:42.285Z"
   },
   {
    "duration": 9,
    "start_time": "2023-08-27T17:40:42.295Z"
   },
   {
    "duration": 6,
    "start_time": "2023-08-27T17:40:42.306Z"
   },
   {
    "duration": 229,
    "start_time": "2023-08-27T17:40:42.314Z"
   },
   {
    "duration": 132,
    "start_time": "2023-08-27T17:40:42.544Z"
   },
   {
    "duration": 165,
    "start_time": "2023-08-27T17:40:42.677Z"
   },
   {
    "duration": 158,
    "start_time": "2023-08-27T17:40:42.847Z"
   },
   {
    "duration": 155,
    "start_time": "2023-08-27T17:40:43.007Z"
   },
   {
    "duration": 11,
    "start_time": "2023-08-27T17:40:43.167Z"
   },
   {
    "duration": 164,
    "start_time": "2023-08-27T17:40:43.180Z"
   },
   {
    "duration": 157,
    "start_time": "2023-08-27T17:40:43.345Z"
   },
   {
    "duration": 7,
    "start_time": "2023-08-27T17:40:43.504Z"
   },
   {
    "duration": 50,
    "start_time": "2023-08-27T17:40:43.512Z"
   },
   {
    "duration": 25,
    "start_time": "2023-08-27T17:40:43.564Z"
   },
   {
    "duration": 17,
    "start_time": "2023-08-27T17:40:43.591Z"
   },
   {
    "duration": 282,
    "start_time": "2023-08-27T17:40:43.610Z"
   },
   {
    "duration": 263,
    "start_time": "2023-08-27T17:40:43.895Z"
   },
   {
    "duration": 20,
    "start_time": "2023-08-27T17:40:44.162Z"
   },
   {
    "duration": 12,
    "start_time": "2023-08-27T17:40:44.183Z"
   },
   {
    "duration": 25,
    "start_time": "2023-08-27T17:40:44.197Z"
   },
   {
    "duration": 38,
    "start_time": "2023-08-27T17:40:44.224Z"
   },
   {
    "duration": 9,
    "start_time": "2023-08-27T17:40:44.264Z"
   },
   {
    "duration": 15,
    "start_time": "2023-08-27T17:40:44.274Z"
   },
   {
    "duration": 1715,
    "start_time": "2023-08-27T17:40:44.291Z"
   },
   {
    "duration": 1294,
    "start_time": "2023-08-27T18:05:30.485Z"
   },
   {
    "duration": 436,
    "start_time": "2023-08-27T18:05:31.795Z"
   },
   {
    "duration": 13,
    "start_time": "2023-08-27T18:05:32.233Z"
   },
   {
    "duration": 59,
    "start_time": "2023-08-27T18:05:32.249Z"
   },
   {
    "duration": 27,
    "start_time": "2023-08-27T18:05:32.311Z"
   },
   {
    "duration": 10,
    "start_time": "2023-08-27T18:05:32.340Z"
   },
   {
    "duration": 27,
    "start_time": "2023-08-27T18:05:32.353Z"
   },
   {
    "duration": 14,
    "start_time": "2023-08-27T18:05:32.387Z"
   },
   {
    "duration": 346,
    "start_time": "2023-08-27T18:05:32.406Z"
   },
   {
    "duration": 198,
    "start_time": "2023-08-27T18:05:32.764Z"
   },
   {
    "duration": 179,
    "start_time": "2023-08-27T18:05:32.963Z"
   },
   {
    "duration": 186,
    "start_time": "2023-08-27T18:05:33.148Z"
   },
   {
    "duration": 190,
    "start_time": "2023-08-27T18:05:33.336Z"
   },
   {
    "duration": 10,
    "start_time": "2023-08-27T18:05:33.530Z"
   },
   {
    "duration": 184,
    "start_time": "2023-08-27T18:05:33.548Z"
   },
   {
    "duration": 185,
    "start_time": "2023-08-27T18:05:33.733Z"
   },
   {
    "duration": 8,
    "start_time": "2023-08-27T18:05:33.920Z"
   },
   {
    "duration": 94,
    "start_time": "2023-08-27T18:05:33.930Z"
   },
   {
    "duration": 51,
    "start_time": "2023-08-27T18:05:34.029Z"
   },
   {
    "duration": 37,
    "start_time": "2023-08-27T18:05:34.082Z"
   },
   {
    "duration": 314,
    "start_time": "2023-08-27T18:05:34.121Z"
   },
   {
    "duration": 320,
    "start_time": "2023-08-27T18:05:34.437Z"
   },
   {
    "duration": 36,
    "start_time": "2023-08-27T18:05:34.770Z"
   },
   {
    "duration": 16,
    "start_time": "2023-08-27T18:05:34.808Z"
   },
   {
    "duration": 65,
    "start_time": "2023-08-27T18:05:34.826Z"
   },
   {
    "duration": 8,
    "start_time": "2023-08-27T18:05:34.893Z"
   },
   {
    "duration": 26,
    "start_time": "2023-08-27T18:05:34.904Z"
   },
   {
    "duration": 89,
    "start_time": "2023-08-27T18:05:34.932Z"
   },
   {
    "duration": 1994,
    "start_time": "2023-08-27T18:05:35.023Z"
   },
   {
    "duration": 200,
    "start_time": "2023-08-27T18:05:37.019Z"
   },
   {
    "duration": 2787,
    "start_time": "2023-08-27T18:26:03.917Z"
   },
   {
    "duration": 333,
    "start_time": "2023-08-27T18:26:06.706Z"
   },
   {
    "duration": 19,
    "start_time": "2023-08-27T18:26:07.041Z"
   },
   {
    "duration": 29,
    "start_time": "2023-08-27T18:26:07.061Z"
   },
   {
    "duration": 12,
    "start_time": "2023-08-27T18:26:07.094Z"
   },
   {
    "duration": 8,
    "start_time": "2023-08-27T18:26:07.108Z"
   },
   {
    "duration": 23,
    "start_time": "2023-08-27T18:26:07.118Z"
   },
   {
    "duration": 10,
    "start_time": "2023-08-27T18:26:07.156Z"
   },
   {
    "duration": 207,
    "start_time": "2023-08-27T18:26:07.169Z"
   },
   {
    "duration": 144,
    "start_time": "2023-08-27T18:26:07.378Z"
   },
   {
    "duration": 206,
    "start_time": "2023-08-27T18:26:07.524Z"
   },
   {
    "duration": 161,
    "start_time": "2023-08-27T18:26:07.732Z"
   },
   {
    "duration": 194,
    "start_time": "2023-08-27T18:26:07.895Z"
   },
   {
    "duration": 12,
    "start_time": "2023-08-27T18:26:08.093Z"
   },
   {
    "duration": 173,
    "start_time": "2023-08-27T18:26:08.107Z"
   },
   {
    "duration": 187,
    "start_time": "2023-08-27T18:26:08.282Z"
   },
   {
    "duration": 9,
    "start_time": "2023-08-27T18:26:08.472Z"
   },
   {
    "duration": 27,
    "start_time": "2023-08-27T18:26:08.484Z"
   },
   {
    "duration": 51,
    "start_time": "2023-08-27T18:26:08.513Z"
   },
   {
    "duration": 24,
    "start_time": "2023-08-27T18:26:08.565Z"
   },
   {
    "duration": 294,
    "start_time": "2023-08-27T18:26:08.591Z"
   },
   {
    "duration": 283,
    "start_time": "2023-08-27T18:26:08.887Z"
   },
   {
    "duration": 20,
    "start_time": "2023-08-27T18:26:09.172Z"
   },
   {
    "duration": 21,
    "start_time": "2023-08-27T18:26:09.195Z"
   },
   {
    "duration": 61,
    "start_time": "2023-08-27T18:26:09.218Z"
   },
   {
    "duration": 9,
    "start_time": "2023-08-27T18:26:09.281Z"
   },
   {
    "duration": 8,
    "start_time": "2023-08-27T18:26:09.292Z"
   },
   {
    "duration": 48,
    "start_time": "2023-08-27T18:26:09.303Z"
   },
   {
    "duration": 1942,
    "start_time": "2023-08-27T18:26:09.353Z"
   },
   {
    "duration": 303,
    "start_time": "2023-08-27T18:26:11.297Z"
   },
   {
    "duration": 6,
    "start_time": "2023-08-27T18:26:52.947Z"
   },
   {
    "duration": 180,
    "start_time": "2023-08-27T18:26:52.958Z"
   },
   {
    "duration": 17,
    "start_time": "2023-08-27T18:26:53.140Z"
   },
   {
    "duration": 28,
    "start_time": "2023-08-27T18:26:53.159Z"
   },
   {
    "duration": 18,
    "start_time": "2023-08-27T18:26:53.191Z"
   },
   {
    "duration": 8,
    "start_time": "2023-08-27T18:26:53.211Z"
   },
   {
    "duration": 37,
    "start_time": "2023-08-27T18:26:53.221Z"
   },
   {
    "duration": 12,
    "start_time": "2023-08-27T18:26:53.263Z"
   },
   {
    "duration": 323,
    "start_time": "2023-08-27T18:26:53.279Z"
   },
   {
    "duration": 156,
    "start_time": "2023-08-27T18:26:53.604Z"
   },
   {
    "duration": 168,
    "start_time": "2023-08-27T18:26:53.771Z"
   },
   {
    "duration": 247,
    "start_time": "2023-08-27T18:26:53.941Z"
   },
   {
    "duration": 180,
    "start_time": "2023-08-27T18:26:54.192Z"
   },
   {
    "duration": 9,
    "start_time": "2023-08-27T18:26:54.374Z"
   },
   {
    "duration": 191,
    "start_time": "2023-08-27T18:26:54.384Z"
   },
   {
    "duration": 171,
    "start_time": "2023-08-27T18:26:54.577Z"
   },
   {
    "duration": 13,
    "start_time": "2023-08-27T18:26:54.753Z"
   },
   {
    "duration": 71,
    "start_time": "2023-08-27T18:26:54.772Z"
   },
   {
    "duration": 50,
    "start_time": "2023-08-27T18:26:54.845Z"
   },
   {
    "duration": 88,
    "start_time": "2023-08-27T18:26:54.898Z"
   },
   {
    "duration": 387,
    "start_time": "2023-08-27T18:26:54.989Z"
   },
   {
    "duration": 378,
    "start_time": "2023-08-27T18:26:55.378Z"
   },
   {
    "duration": 33,
    "start_time": "2023-08-27T18:26:55.760Z"
   },
   {
    "duration": 21,
    "start_time": "2023-08-27T18:26:55.796Z"
   },
   {
    "duration": 58,
    "start_time": "2023-08-27T18:26:55.819Z"
   },
   {
    "duration": 9,
    "start_time": "2023-08-27T18:26:55.879Z"
   },
   {
    "duration": 18,
    "start_time": "2023-08-27T18:26:55.890Z"
   },
   {
    "duration": 38,
    "start_time": "2023-08-27T18:26:55.913Z"
   },
   {
    "duration": 1879,
    "start_time": "2023-08-27T18:26:55.953Z"
   },
   {
    "duration": 1229,
    "start_time": "2023-08-27T18:29:52.570Z"
   },
   {
    "duration": 185,
    "start_time": "2023-08-27T18:29:53.802Z"
   },
   {
    "duration": 11,
    "start_time": "2023-08-27T18:29:53.989Z"
   },
   {
    "duration": 12,
    "start_time": "2023-08-27T18:29:54.002Z"
   },
   {
    "duration": 36,
    "start_time": "2023-08-27T18:29:54.017Z"
   },
   {
    "duration": 13,
    "start_time": "2023-08-27T18:29:54.061Z"
   },
   {
    "duration": 52,
    "start_time": "2023-08-27T18:29:54.076Z"
   },
   {
    "duration": 9,
    "start_time": "2023-08-27T18:29:54.131Z"
   },
   {
    "duration": 194,
    "start_time": "2023-08-27T18:29:54.143Z"
   },
   {
    "duration": 174,
    "start_time": "2023-08-27T18:29:54.339Z"
   },
   {
    "duration": 180,
    "start_time": "2023-08-27T18:29:54.515Z"
   },
   {
    "duration": 177,
    "start_time": "2023-08-27T18:29:54.697Z"
   },
   {
    "duration": 198,
    "start_time": "2023-08-27T18:29:54.877Z"
   },
   {
    "duration": 12,
    "start_time": "2023-08-27T18:29:55.079Z"
   },
   {
    "duration": 187,
    "start_time": "2023-08-27T18:29:55.093Z"
   },
   {
    "duration": 228,
    "start_time": "2023-08-27T18:29:55.283Z"
   },
   {
    "duration": 10,
    "start_time": "2023-08-27T18:29:55.514Z"
   },
   {
    "duration": 45,
    "start_time": "2023-08-27T18:29:55.528Z"
   },
   {
    "duration": 29,
    "start_time": "2023-08-27T18:29:55.575Z"
   },
   {
    "duration": 21,
    "start_time": "2023-08-27T18:29:55.606Z"
   },
   {
    "duration": 283,
    "start_time": "2023-08-27T18:29:55.648Z"
   },
   {
    "duration": 278,
    "start_time": "2023-08-27T18:29:55.932Z"
   },
   {
    "duration": 48,
    "start_time": "2023-08-27T18:29:56.212Z"
   },
   {
    "duration": 19,
    "start_time": "2023-08-27T18:29:56.261Z"
   },
   {
    "duration": 46,
    "start_time": "2023-08-27T18:29:56.281Z"
   },
   {
    "duration": 6,
    "start_time": "2023-08-27T18:29:56.329Z"
   },
   {
    "duration": 38,
    "start_time": "2023-08-27T18:29:56.337Z"
   },
   {
    "duration": 23,
    "start_time": "2023-08-27T18:29:56.377Z"
   },
   {
    "duration": 1708,
    "start_time": "2023-08-27T18:29:56.403Z"
   },
   {
    "duration": 7,
    "start_time": "2023-08-27T18:29:58.113Z"
   },
   {
    "duration": 4,
    "start_time": "2023-08-27T18:38:05.944Z"
   },
   {
    "duration": 3,
    "start_time": "2023-08-27T18:38:14.965Z"
   },
   {
    "duration": 87,
    "start_time": "2023-08-27T19:02:34.502Z"
   },
   {
    "duration": 3,
    "start_time": "2023-08-27T20:00:47.088Z"
   },
   {
    "duration": 129,
    "start_time": "2023-08-27T20:00:47.093Z"
   },
   {
    "duration": 12,
    "start_time": "2023-08-27T20:00:47.224Z"
   },
   {
    "duration": 21,
    "start_time": "2023-08-27T20:00:47.238Z"
   },
   {
    "duration": 12,
    "start_time": "2023-08-27T20:00:47.263Z"
   },
   {
    "duration": 6,
    "start_time": "2023-08-27T20:00:47.277Z"
   },
   {
    "duration": 10,
    "start_time": "2023-08-27T20:00:47.285Z"
   },
   {
    "duration": 7,
    "start_time": "2023-08-27T20:00:47.297Z"
   },
   {
    "duration": 212,
    "start_time": "2023-08-27T20:00:47.306Z"
   },
   {
    "duration": 146,
    "start_time": "2023-08-27T20:00:47.520Z"
   },
   {
    "duration": 271,
    "start_time": "2023-08-27T20:00:47.667Z"
   },
   {
    "duration": 184,
    "start_time": "2023-08-27T20:00:47.940Z"
   },
   {
    "duration": 161,
    "start_time": "2023-08-27T20:00:48.126Z"
   },
   {
    "duration": 7,
    "start_time": "2023-08-27T20:00:48.290Z"
   },
   {
    "duration": 164,
    "start_time": "2023-08-27T20:00:48.299Z"
   },
   {
    "duration": 151,
    "start_time": "2023-08-27T20:00:48.464Z"
   },
   {
    "duration": 9,
    "start_time": "2023-08-27T20:00:48.618Z"
   },
   {
    "duration": 54,
    "start_time": "2023-08-27T20:00:48.628Z"
   },
   {
    "duration": 21,
    "start_time": "2023-08-27T20:00:48.684Z"
   },
   {
    "duration": 52,
    "start_time": "2023-08-27T20:00:48.706Z"
   },
   {
    "duration": 237,
    "start_time": "2023-08-27T20:00:48.760Z"
   },
   {
    "duration": 273,
    "start_time": "2023-08-27T20:00:48.998Z"
   },
   {
    "duration": 28,
    "start_time": "2023-08-27T20:00:49.272Z"
   },
   {
    "duration": 12,
    "start_time": "2023-08-27T20:00:49.302Z"
   },
   {
    "duration": 54,
    "start_time": "2023-08-27T20:00:49.316Z"
   },
   {
    "duration": 7,
    "start_time": "2023-08-27T20:00:49.372Z"
   },
   {
    "duration": 7,
    "start_time": "2023-08-27T20:00:49.381Z"
   },
   {
    "duration": 12,
    "start_time": "2023-08-27T20:00:49.390Z"
   },
   {
    "duration": 1768,
    "start_time": "2023-08-27T20:00:49.404Z"
   },
   {
    "duration": 6,
    "start_time": "2023-08-27T20:00:51.174Z"
   },
   {
    "duration": 1205,
    "start_time": "2023-08-27T20:03:34.445Z"
   },
   {
    "duration": 181,
    "start_time": "2023-08-27T20:03:35.653Z"
   },
   {
    "duration": 13,
    "start_time": "2023-08-27T20:03:35.836Z"
   },
   {
    "duration": 12,
    "start_time": "2023-08-27T20:03:35.850Z"
   },
   {
    "duration": 13,
    "start_time": "2023-08-27T20:03:35.864Z"
   },
   {
    "duration": 5,
    "start_time": "2023-08-27T20:03:35.879Z"
   },
   {
    "duration": 10,
    "start_time": "2023-08-27T20:03:35.886Z"
   },
   {
    "duration": 18,
    "start_time": "2023-08-27T20:03:35.898Z"
   },
   {
    "duration": 221,
    "start_time": "2023-08-27T20:03:35.918Z"
   },
   {
    "duration": 135,
    "start_time": "2023-08-27T20:03:36.147Z"
   },
   {
    "duration": 156,
    "start_time": "2023-08-27T20:03:36.284Z"
   },
   {
    "duration": 163,
    "start_time": "2023-08-27T20:03:36.447Z"
   },
   {
    "duration": 154,
    "start_time": "2023-08-27T20:03:36.612Z"
   },
   {
    "duration": 9,
    "start_time": "2023-08-27T20:03:36.769Z"
   },
   {
    "duration": 177,
    "start_time": "2023-08-27T20:03:36.780Z"
   },
   {
    "duration": 177,
    "start_time": "2023-08-27T20:03:36.959Z"
   },
   {
    "duration": 13,
    "start_time": "2023-08-27T20:03:37.139Z"
   },
   {
    "duration": 26,
    "start_time": "2023-08-27T20:03:37.155Z"
   },
   {
    "duration": 18,
    "start_time": "2023-08-27T20:03:37.182Z"
   },
   {
    "duration": 17,
    "start_time": "2023-08-27T20:03:37.201Z"
   },
   {
    "duration": 247,
    "start_time": "2023-08-27T20:03:37.246Z"
   },
   {
    "duration": 252,
    "start_time": "2023-08-27T20:03:37.495Z"
   },
   {
    "duration": 21,
    "start_time": "2023-08-27T20:03:37.749Z"
   },
   {
    "duration": 13,
    "start_time": "2023-08-27T20:03:37.773Z"
   },
   {
    "duration": 58,
    "start_time": "2023-08-27T20:03:37.788Z"
   },
   {
    "duration": 8,
    "start_time": "2023-08-27T20:03:37.848Z"
   },
   {
    "duration": 16,
    "start_time": "2023-08-27T20:03:37.858Z"
   },
   {
    "duration": 13,
    "start_time": "2023-08-27T20:03:37.875Z"
   },
   {
    "duration": 1621,
    "start_time": "2023-08-27T20:03:37.890Z"
   },
   {
    "duration": 5,
    "start_time": "2023-08-27T20:03:39.513Z"
   },
   {
    "duration": 1245,
    "start_time": "2023-08-27T20:21:52.630Z"
   },
   {
    "duration": 293,
    "start_time": "2023-08-27T20:21:53.877Z"
   },
   {
    "duration": 8,
    "start_time": "2023-08-27T20:21:54.172Z"
   },
   {
    "duration": 8,
    "start_time": "2023-08-27T20:21:54.182Z"
   },
   {
    "duration": 15,
    "start_time": "2023-08-27T20:21:54.191Z"
   },
   {
    "duration": 4,
    "start_time": "2023-08-27T20:21:54.207Z"
   },
   {
    "duration": 18,
    "start_time": "2023-08-27T20:21:54.212Z"
   },
   {
    "duration": 18,
    "start_time": "2023-08-27T20:21:54.231Z"
   },
   {
    "duration": 139,
    "start_time": "2023-08-27T20:21:54.251Z"
   },
   {
    "duration": 111,
    "start_time": "2023-08-27T20:21:54.392Z"
   },
   {
    "duration": 119,
    "start_time": "2023-08-27T20:21:54.505Z"
   },
   {
    "duration": 125,
    "start_time": "2023-08-27T20:21:54.626Z"
   },
   {
    "duration": 117,
    "start_time": "2023-08-27T20:21:54.752Z"
   },
   {
    "duration": 7,
    "start_time": "2023-08-27T20:21:54.870Z"
   },
   {
    "duration": 121,
    "start_time": "2023-08-27T20:21:54.879Z"
   },
   {
    "duration": 124,
    "start_time": "2023-08-27T20:21:55.001Z"
   },
   {
    "duration": 7,
    "start_time": "2023-08-27T20:21:55.127Z"
   },
   {
    "duration": 31,
    "start_time": "2023-08-27T20:21:55.135Z"
   },
   {
    "duration": 13,
    "start_time": "2023-08-27T20:21:55.168Z"
   },
   {
    "duration": 13,
    "start_time": "2023-08-27T20:21:55.182Z"
   },
   {
    "duration": 209,
    "start_time": "2023-08-27T20:21:55.196Z"
   },
   {
    "duration": 192,
    "start_time": "2023-08-27T20:21:55.407Z"
   },
   {
    "duration": 16,
    "start_time": "2023-08-27T20:21:55.600Z"
   },
   {
    "duration": 10,
    "start_time": "2023-08-27T20:21:55.618Z"
   },
   {
    "duration": 20,
    "start_time": "2023-08-27T20:21:55.649Z"
   },
   {
    "duration": 8,
    "start_time": "2023-08-27T20:21:55.670Z"
   },
   {
    "duration": 5,
    "start_time": "2023-08-27T20:21:55.679Z"
   },
   {
    "duration": 10,
    "start_time": "2023-08-27T20:21:55.686Z"
   },
   {
    "duration": 1374,
    "start_time": "2023-08-27T20:21:55.698Z"
   },
   {
    "duration": 5,
    "start_time": "2023-08-27T20:21:57.074Z"
   },
   {
    "duration": 1299,
    "start_time": "2023-08-28T03:41:52.456Z"
   },
   {
    "duration": 327,
    "start_time": "2023-08-28T03:41:53.760Z"
   },
   {
    "duration": 12,
    "start_time": "2023-08-28T03:41:54.089Z"
   },
   {
    "duration": 13,
    "start_time": "2023-08-28T03:41:54.102Z"
   },
   {
    "duration": 19,
    "start_time": "2023-08-28T03:41:54.116Z"
   },
   {
    "duration": 6,
    "start_time": "2023-08-28T03:41:54.136Z"
   },
   {
    "duration": 10,
    "start_time": "2023-08-28T03:41:54.144Z"
   },
   {
    "duration": 7,
    "start_time": "2023-08-28T03:41:54.156Z"
   },
   {
    "duration": 197,
    "start_time": "2023-08-28T03:41:54.202Z"
   },
   {
    "duration": 153,
    "start_time": "2023-08-28T03:41:54.400Z"
   },
   {
    "duration": 227,
    "start_time": "2023-08-28T03:41:54.555Z"
   },
   {
    "duration": 211,
    "start_time": "2023-08-28T03:41:54.784Z"
   },
   {
    "duration": 151,
    "start_time": "2023-08-28T03:41:55.000Z"
   },
   {
    "duration": 3,
    "start_time": "2023-08-28T03:41:55.153Z"
   },
   {
    "duration": 160,
    "start_time": "2023-08-28T03:41:55.158Z"
   },
   {
    "duration": 159,
    "start_time": "2023-08-28T03:41:55.320Z"
   },
   {
    "duration": 3,
    "start_time": "2023-08-28T03:41:55.481Z"
   },
   {
    "duration": 50,
    "start_time": "2023-08-28T03:41:55.486Z"
   },
   {
    "duration": 27,
    "start_time": "2023-08-28T03:41:55.538Z"
   },
   {
    "duration": 44,
    "start_time": "2023-08-28T03:41:55.568Z"
   },
   {
    "duration": 251,
    "start_time": "2023-08-28T03:41:55.614Z"
   },
   {
    "duration": 256,
    "start_time": "2023-08-28T03:41:55.868Z"
   },
   {
    "duration": 21,
    "start_time": "2023-08-28T03:41:56.126Z"
   },
   {
    "duration": 15,
    "start_time": "2023-08-28T03:41:56.149Z"
   },
   {
    "duration": 56,
    "start_time": "2023-08-28T03:41:56.166Z"
   },
   {
    "duration": 7,
    "start_time": "2023-08-28T03:41:56.224Z"
   },
   {
    "duration": 10,
    "start_time": "2023-08-28T03:41:56.234Z"
   },
   {
    "duration": 15,
    "start_time": "2023-08-28T03:41:56.246Z"
   },
   {
    "duration": 1585,
    "start_time": "2023-08-28T03:41:56.263Z"
   },
   {
    "duration": 6,
    "start_time": "2023-08-28T03:41:57.850Z"
   },
   {
    "duration": 1353,
    "start_time": "2023-08-28T03:42:15.636Z"
   },
   {
    "duration": 180,
    "start_time": "2023-08-28T03:42:16.991Z"
   },
   {
    "duration": 11,
    "start_time": "2023-08-28T03:42:17.173Z"
   },
   {
    "duration": 24,
    "start_time": "2023-08-28T03:42:17.186Z"
   },
   {
    "duration": 11,
    "start_time": "2023-08-28T03:42:17.211Z"
   },
   {
    "duration": 14,
    "start_time": "2023-08-28T03:42:17.223Z"
   },
   {
    "duration": 9,
    "start_time": "2023-08-28T03:42:17.239Z"
   },
   {
    "duration": 6,
    "start_time": "2023-08-28T03:42:17.250Z"
   },
   {
    "duration": 218,
    "start_time": "2023-08-28T03:42:17.258Z"
   },
   {
    "duration": 137,
    "start_time": "2023-08-28T03:42:17.478Z"
   },
   {
    "duration": 176,
    "start_time": "2023-08-28T03:42:17.617Z"
   },
   {
    "duration": 156,
    "start_time": "2023-08-28T03:42:17.796Z"
   },
   {
    "duration": 152,
    "start_time": "2023-08-28T03:42:17.954Z"
   },
   {
    "duration": 10,
    "start_time": "2023-08-28T03:42:18.108Z"
   },
   {
    "duration": 164,
    "start_time": "2023-08-28T03:42:18.120Z"
   },
   {
    "duration": 168,
    "start_time": "2023-08-28T03:42:18.286Z"
   },
   {
    "duration": 7,
    "start_time": "2023-08-28T03:42:18.456Z"
   },
   {
    "duration": 47,
    "start_time": "2023-08-28T03:42:18.465Z"
   },
   {
    "duration": 19,
    "start_time": "2023-08-28T03:42:18.514Z"
   },
   {
    "duration": 25,
    "start_time": "2023-08-28T03:42:18.535Z"
   },
   {
    "duration": 319,
    "start_time": "2023-08-28T03:42:18.562Z"
   },
   {
    "duration": 237,
    "start_time": "2023-08-28T03:42:18.883Z"
   },
   {
    "duration": 20,
    "start_time": "2023-08-28T03:42:19.121Z"
   },
   {
    "duration": 14,
    "start_time": "2023-08-28T03:42:19.142Z"
   },
   {
    "duration": 59,
    "start_time": "2023-08-28T03:42:19.158Z"
   },
   {
    "duration": 7,
    "start_time": "2023-08-28T03:42:19.219Z"
   },
   {
    "duration": 18,
    "start_time": "2023-08-28T03:42:19.227Z"
   },
   {
    "duration": 12,
    "start_time": "2023-08-28T03:42:19.248Z"
   },
   {
    "duration": 1567,
    "start_time": "2023-08-28T03:42:19.262Z"
   },
   {
    "duration": 6,
    "start_time": "2023-08-28T03:42:20.831Z"
   },
   {
    "duration": 1118,
    "start_time": "2023-08-28T03:45:35.769Z"
   },
   {
    "duration": 163,
    "start_time": "2023-08-28T03:45:36.889Z"
   },
   {
    "duration": 12,
    "start_time": "2023-08-28T03:45:37.054Z"
   },
   {
    "duration": 31,
    "start_time": "2023-08-28T03:45:37.068Z"
   },
   {
    "duration": 11,
    "start_time": "2023-08-28T03:45:37.102Z"
   },
   {
    "duration": 6,
    "start_time": "2023-08-28T03:45:37.115Z"
   },
   {
    "duration": 19,
    "start_time": "2023-08-28T03:45:37.123Z"
   },
   {
    "duration": 18,
    "start_time": "2023-08-28T03:45:37.144Z"
   },
   {
    "duration": 180,
    "start_time": "2023-08-28T03:45:37.163Z"
   },
   {
    "duration": 182,
    "start_time": "2023-08-28T03:45:37.346Z"
   },
   {
    "duration": 160,
    "start_time": "2023-08-28T03:45:37.530Z"
   },
   {
    "duration": 143,
    "start_time": "2023-08-28T03:45:37.692Z"
   },
   {
    "duration": 159,
    "start_time": "2023-08-28T03:45:37.836Z"
   },
   {
    "duration": 8,
    "start_time": "2023-08-28T03:45:38.002Z"
   },
   {
    "duration": 153,
    "start_time": "2023-08-28T03:45:38.012Z"
   },
   {
    "duration": 145,
    "start_time": "2023-08-28T03:45:38.166Z"
   },
   {
    "duration": 6,
    "start_time": "2023-08-28T03:45:38.313Z"
   },
   {
    "duration": 25,
    "start_time": "2023-08-28T03:45:38.321Z"
   },
   {
    "duration": 16,
    "start_time": "2023-08-28T03:45:38.348Z"
   },
   {
    "duration": 47,
    "start_time": "2023-08-28T03:45:38.366Z"
   },
   {
    "duration": 254,
    "start_time": "2023-08-28T03:45:38.414Z"
   },
   {
    "duration": 238,
    "start_time": "2023-08-28T03:45:38.670Z"
   },
   {
    "duration": 19,
    "start_time": "2023-08-28T03:45:38.910Z"
   },
   {
    "duration": 13,
    "start_time": "2023-08-28T03:45:38.930Z"
   },
   {
    "duration": 1490,
    "start_time": "2023-08-28T03:45:38.945Z"
   },
   {
    "duration": 0,
    "start_time": "2023-08-28T03:45:40.437Z"
   },
   {
    "duration": 0,
    "start_time": "2023-08-28T03:45:40.438Z"
   },
   {
    "duration": 0,
    "start_time": "2023-08-28T03:45:40.440Z"
   },
   {
    "duration": 0,
    "start_time": "2023-08-28T03:45:40.440Z"
   },
   {
    "duration": 0,
    "start_time": "2023-08-28T03:45:40.442Z"
   },
   {
    "duration": 1052,
    "start_time": "2023-08-28T03:45:59.821Z"
   },
   {
    "duration": 182,
    "start_time": "2023-08-28T03:46:00.876Z"
   },
   {
    "duration": 13,
    "start_time": "2023-08-28T03:46:01.060Z"
   },
   {
    "duration": 79,
    "start_time": "2023-08-28T03:46:01.075Z"
   },
   {
    "duration": 33,
    "start_time": "2023-08-28T03:46:01.157Z"
   },
   {
    "duration": 181,
    "start_time": "2023-08-28T03:46:01.192Z"
   },
   {
    "duration": 43,
    "start_time": "2023-08-28T03:46:01.375Z"
   },
   {
    "duration": 38,
    "start_time": "2023-08-28T03:46:01.420Z"
   },
   {
    "duration": 229,
    "start_time": "2023-08-28T03:46:01.460Z"
   },
   {
    "duration": 141,
    "start_time": "2023-08-28T03:46:01.691Z"
   },
   {
    "duration": 172,
    "start_time": "2023-08-28T03:46:01.834Z"
   },
   {
    "duration": 154,
    "start_time": "2023-08-28T03:46:02.008Z"
   },
   {
    "duration": 159,
    "start_time": "2023-08-28T03:46:02.164Z"
   },
   {
    "duration": 9,
    "start_time": "2023-08-28T03:46:02.326Z"
   },
   {
    "duration": 198,
    "start_time": "2023-08-28T03:46:02.337Z"
   },
   {
    "duration": 193,
    "start_time": "2023-08-28T03:46:02.537Z"
   },
   {
    "duration": 7,
    "start_time": "2023-08-28T03:46:02.733Z"
   },
   {
    "duration": 36,
    "start_time": "2023-08-28T03:46:02.741Z"
   },
   {
    "duration": 39,
    "start_time": "2023-08-28T03:46:02.779Z"
   },
   {
    "duration": 17,
    "start_time": "2023-08-28T03:46:02.820Z"
   },
   {
    "duration": 249,
    "start_time": "2023-08-28T03:46:02.839Z"
   },
   {
    "duration": 259,
    "start_time": "2023-08-28T03:46:03.090Z"
   },
   {
    "duration": 19,
    "start_time": "2023-08-28T03:46:03.350Z"
   },
   {
    "duration": 97,
    "start_time": "2023-08-28T03:46:03.371Z"
   },
   {
    "duration": 207,
    "start_time": "2023-08-28T03:46:03.470Z"
   },
   {
    "duration": 15,
    "start_time": "2023-08-28T03:46:03.679Z"
   },
   {
    "duration": 14,
    "start_time": "2023-08-28T03:46:03.696Z"
   },
   {
    "duration": 55,
    "start_time": "2023-08-28T03:46:03.712Z"
   },
   {
    "duration": 1675,
    "start_time": "2023-08-28T03:46:03.769Z"
   },
   {
    "duration": 6,
    "start_time": "2023-08-28T03:46:05.446Z"
   },
   {
    "duration": 33,
    "start_time": "2023-08-28T03:48:31.350Z"
   },
   {
    "duration": 1167,
    "start_time": "2023-08-28T03:50:21.776Z"
   },
   {
    "duration": 191,
    "start_time": "2023-08-28T03:50:22.946Z"
   },
   {
    "duration": 15,
    "start_time": "2023-08-28T03:50:23.139Z"
   },
   {
    "duration": 45,
    "start_time": "2023-08-28T03:50:23.156Z"
   },
   {
    "duration": 12,
    "start_time": "2023-08-28T03:50:23.204Z"
   },
   {
    "duration": 12,
    "start_time": "2023-08-28T03:50:23.218Z"
   },
   {
    "duration": 18,
    "start_time": "2023-08-28T03:50:23.232Z"
   },
   {
    "duration": 11,
    "start_time": "2023-08-28T03:50:23.251Z"
   },
   {
    "duration": 204,
    "start_time": "2023-08-28T03:50:23.264Z"
   },
   {
    "duration": 138,
    "start_time": "2023-08-28T03:50:23.470Z"
   },
   {
    "duration": 163,
    "start_time": "2023-08-28T03:50:23.610Z"
   },
   {
    "duration": 156,
    "start_time": "2023-08-28T03:50:23.775Z"
   },
   {
    "duration": 160,
    "start_time": "2023-08-28T03:50:23.932Z"
   },
   {
    "duration": 14,
    "start_time": "2023-08-28T03:50:24.095Z"
   },
   {
    "duration": 198,
    "start_time": "2023-08-28T03:50:24.111Z"
   },
   {
    "duration": 170,
    "start_time": "2023-08-28T03:50:24.311Z"
   },
   {
    "duration": 18,
    "start_time": "2023-08-28T03:50:24.483Z"
   },
   {
    "duration": 29,
    "start_time": "2023-08-28T03:50:24.504Z"
   },
   {
    "duration": 32,
    "start_time": "2023-08-28T03:50:24.535Z"
   },
   {
    "duration": 48,
    "start_time": "2023-08-28T03:50:24.569Z"
   },
   {
    "duration": 306,
    "start_time": "2023-08-28T03:50:24.619Z"
   },
   {
    "duration": 266,
    "start_time": "2023-08-28T03:50:24.926Z"
   },
   {
    "duration": 3,
    "start_time": "2023-08-28T03:50:25.201Z"
   },
   {
    "duration": 128,
    "start_time": "2023-08-28T03:50:25.205Z"
   },
   {
    "duration": 0,
    "start_time": "2023-08-28T03:50:25.335Z"
   },
   {
    "duration": 0,
    "start_time": "2023-08-28T03:50:25.337Z"
   },
   {
    "duration": 0,
    "start_time": "2023-08-28T03:50:25.339Z"
   },
   {
    "duration": 0,
    "start_time": "2023-08-28T03:50:25.341Z"
   },
   {
    "duration": 0,
    "start_time": "2023-08-28T03:50:25.342Z"
   },
   {
    "duration": 0,
    "start_time": "2023-08-28T03:50:25.344Z"
   },
   {
    "duration": 0,
    "start_time": "2023-08-28T03:50:25.346Z"
   },
   {
    "duration": 0,
    "start_time": "2023-08-28T03:50:25.348Z"
   },
   {
    "duration": 1101,
    "start_time": "2023-08-28T03:50:42.506Z"
   },
   {
    "duration": 179,
    "start_time": "2023-08-28T03:50:43.610Z"
   },
   {
    "duration": 13,
    "start_time": "2023-08-28T03:50:43.791Z"
   },
   {
    "duration": 28,
    "start_time": "2023-08-28T03:50:43.806Z"
   },
   {
    "duration": 11,
    "start_time": "2023-08-28T03:50:43.836Z"
   },
   {
    "duration": 8,
    "start_time": "2023-08-28T03:50:43.849Z"
   },
   {
    "duration": 14,
    "start_time": "2023-08-28T03:50:43.858Z"
   },
   {
    "duration": 19,
    "start_time": "2023-08-28T03:50:43.874Z"
   },
   {
    "duration": 186,
    "start_time": "2023-08-28T03:50:43.895Z"
   },
   {
    "duration": 132,
    "start_time": "2023-08-28T03:50:44.082Z"
   },
   {
    "duration": 186,
    "start_time": "2023-08-28T03:50:44.215Z"
   },
   {
    "duration": 181,
    "start_time": "2023-08-28T03:50:44.403Z"
   },
   {
    "duration": 214,
    "start_time": "2023-08-28T03:50:44.587Z"
   },
   {
    "duration": 10,
    "start_time": "2023-08-28T03:50:44.804Z"
   },
   {
    "duration": 162,
    "start_time": "2023-08-28T03:50:44.816Z"
   },
   {
    "duration": 162,
    "start_time": "2023-08-28T03:50:44.979Z"
   },
   {
    "duration": 7,
    "start_time": "2023-08-28T03:50:45.143Z"
   },
   {
    "duration": 31,
    "start_time": "2023-08-28T03:50:45.152Z"
   },
   {
    "duration": 33,
    "start_time": "2023-08-28T03:50:45.184Z"
   },
   {
    "duration": 16,
    "start_time": "2023-08-28T03:50:45.219Z"
   },
   {
    "duration": 273,
    "start_time": "2023-08-28T03:50:45.238Z"
   },
   {
    "duration": 270,
    "start_time": "2023-08-28T03:50:45.514Z"
   },
   {
    "duration": 3,
    "start_time": "2023-08-28T03:50:45.785Z"
   },
   {
    "duration": 33,
    "start_time": "2023-08-28T03:50:45.801Z"
   },
   {
    "duration": 2,
    "start_time": "2023-08-28T03:50:45.836Z"
   },
   {
    "duration": 19,
    "start_time": "2023-08-28T03:50:45.840Z"
   },
   {
    "duration": 7,
    "start_time": "2023-08-28T03:50:45.861Z"
   },
   {
    "duration": 35,
    "start_time": "2023-08-28T03:50:45.870Z"
   },
   {
    "duration": 8,
    "start_time": "2023-08-28T03:50:45.907Z"
   },
   {
    "duration": 1712,
    "start_time": "2023-08-28T03:50:45.917Z"
   },
   {
    "duration": 0,
    "start_time": "2023-08-28T03:50:47.632Z"
   },
   {
    "duration": 0,
    "start_time": "2023-08-28T03:50:47.633Z"
   },
   {
    "duration": 1166,
    "start_time": "2023-08-28T03:51:41.094Z"
   },
   {
    "duration": 171,
    "start_time": "2023-08-28T03:51:42.262Z"
   },
   {
    "duration": 12,
    "start_time": "2023-08-28T03:51:42.434Z"
   },
   {
    "duration": 28,
    "start_time": "2023-08-28T03:51:42.448Z"
   },
   {
    "duration": 52,
    "start_time": "2023-08-28T03:51:42.479Z"
   },
   {
    "duration": 52,
    "start_time": "2023-08-28T03:51:42.533Z"
   },
   {
    "duration": 52,
    "start_time": "2023-08-28T03:51:42.586Z"
   },
   {
    "duration": 43,
    "start_time": "2023-08-28T03:51:42.640Z"
   },
   {
    "duration": 218,
    "start_time": "2023-08-28T03:51:42.684Z"
   },
   {
    "duration": 131,
    "start_time": "2023-08-28T03:51:42.904Z"
   },
   {
    "duration": 172,
    "start_time": "2023-08-28T03:51:43.037Z"
   },
   {
    "duration": 194,
    "start_time": "2023-08-28T03:51:43.210Z"
   },
   {
    "duration": 188,
    "start_time": "2023-08-28T03:51:43.406Z"
   },
   {
    "duration": 11,
    "start_time": "2023-08-28T03:51:43.602Z"
   },
   {
    "duration": 162,
    "start_time": "2023-08-28T03:51:43.615Z"
   },
   {
    "duration": 193,
    "start_time": "2023-08-28T03:51:43.779Z"
   },
   {
    "duration": 7,
    "start_time": "2023-08-28T03:51:43.974Z"
   },
   {
    "duration": 55,
    "start_time": "2023-08-28T03:51:43.984Z"
   },
   {
    "duration": 26,
    "start_time": "2023-08-28T03:51:44.041Z"
   },
   {
    "duration": 49,
    "start_time": "2023-08-28T03:51:44.069Z"
   },
   {
    "duration": 249,
    "start_time": "2023-08-28T03:51:44.120Z"
   },
   {
    "duration": 264,
    "start_time": "2023-08-28T03:51:44.371Z"
   },
   {
    "duration": 3,
    "start_time": "2023-08-28T03:51:44.637Z"
   },
   {
    "duration": 68,
    "start_time": "2023-08-28T03:51:44.643Z"
   },
   {
    "duration": 3,
    "start_time": "2023-08-28T03:51:44.713Z"
   },
   {
    "duration": 13,
    "start_time": "2023-08-28T03:51:44.718Z"
   },
   {
    "duration": 21,
    "start_time": "2023-08-28T03:51:44.734Z"
   },
   {
    "duration": 17,
    "start_time": "2023-08-28T03:51:44.758Z"
   },
   {
    "duration": 28,
    "start_time": "2023-08-28T03:51:44.778Z"
   },
   {
    "duration": 13,
    "start_time": "2023-08-28T03:51:44.808Z"
   },
   {
    "duration": 1619,
    "start_time": "2023-08-28T03:51:44.825Z"
   },
   {
    "duration": 6,
    "start_time": "2023-08-28T03:51:46.446Z"
   },
   {
    "duration": 1074,
    "start_time": "2023-08-28T03:55:11.510Z"
   },
   {
    "duration": 172,
    "start_time": "2023-08-28T03:55:12.587Z"
   },
   {
    "duration": 17,
    "start_time": "2023-08-28T03:55:12.761Z"
   },
   {
    "duration": 26,
    "start_time": "2023-08-28T03:55:12.779Z"
   },
   {
    "duration": 20,
    "start_time": "2023-08-28T03:55:12.808Z"
   },
   {
    "duration": 24,
    "start_time": "2023-08-28T03:55:12.830Z"
   },
   {
    "duration": 13,
    "start_time": "2023-08-28T03:55:12.856Z"
   },
   {
    "duration": 10,
    "start_time": "2023-08-28T03:55:12.871Z"
   },
   {
    "duration": 171,
    "start_time": "2023-08-28T03:55:12.883Z"
   },
   {
    "duration": 127,
    "start_time": "2023-08-28T03:55:13.056Z"
   },
   {
    "duration": 156,
    "start_time": "2023-08-28T03:55:13.185Z"
   },
   {
    "duration": 150,
    "start_time": "2023-08-28T03:55:13.343Z"
   },
   {
    "duration": 150,
    "start_time": "2023-08-28T03:55:13.495Z"
   },
   {
    "duration": 10,
    "start_time": "2023-08-28T03:55:13.648Z"
   },
   {
    "duration": 152,
    "start_time": "2023-08-28T03:55:13.659Z"
   },
   {
    "duration": 156,
    "start_time": "2023-08-28T03:55:13.813Z"
   },
   {
    "duration": 7,
    "start_time": "2023-08-28T03:55:13.971Z"
   },
   {
    "duration": 47,
    "start_time": "2023-08-28T03:55:13.980Z"
   },
   {
    "duration": 17,
    "start_time": "2023-08-28T03:55:14.029Z"
   },
   {
    "duration": 21,
    "start_time": "2023-08-28T03:55:14.048Z"
   },
   {
    "duration": 270,
    "start_time": "2023-08-28T03:55:14.071Z"
   },
   {
    "duration": 263,
    "start_time": "2023-08-28T03:55:14.343Z"
   },
   {
    "duration": 26,
    "start_time": "2023-08-28T03:55:14.608Z"
   },
   {
    "duration": 3,
    "start_time": "2023-08-28T03:55:14.636Z"
   },
   {
    "duration": 1557,
    "start_time": "2023-08-28T03:55:14.641Z"
   },
   {
    "duration": 0,
    "start_time": "2023-08-28T03:55:16.200Z"
   },
   {
    "duration": 0,
    "start_time": "2023-08-28T03:55:16.202Z"
   },
   {
    "duration": 0,
    "start_time": "2023-08-28T03:55:16.203Z"
   },
   {
    "duration": 0,
    "start_time": "2023-08-28T03:55:16.204Z"
   },
   {
    "duration": 0,
    "start_time": "2023-08-28T03:55:16.205Z"
   },
   {
    "duration": 0,
    "start_time": "2023-08-28T03:55:16.207Z"
   },
   {
    "duration": 0,
    "start_time": "2023-08-28T03:55:16.208Z"
   },
   {
    "duration": 1081,
    "start_time": "2023-08-28T03:55:39.135Z"
   },
   {
    "duration": 172,
    "start_time": "2023-08-28T03:55:40.218Z"
   },
   {
    "duration": 13,
    "start_time": "2023-08-28T03:55:40.391Z"
   },
   {
    "duration": 37,
    "start_time": "2023-08-28T03:55:40.406Z"
   },
   {
    "duration": 22,
    "start_time": "2023-08-28T03:55:40.445Z"
   },
   {
    "duration": 26,
    "start_time": "2023-08-28T03:55:40.469Z"
   },
   {
    "duration": 26,
    "start_time": "2023-08-28T03:55:40.497Z"
   },
   {
    "duration": 40,
    "start_time": "2023-08-28T03:55:40.524Z"
   },
   {
    "duration": 207,
    "start_time": "2023-08-28T03:55:40.566Z"
   },
   {
    "duration": 132,
    "start_time": "2023-08-28T03:55:40.775Z"
   },
   {
    "duration": 174,
    "start_time": "2023-08-28T03:55:40.909Z"
   },
   {
    "duration": 175,
    "start_time": "2023-08-28T03:55:41.085Z"
   },
   {
    "duration": 163,
    "start_time": "2023-08-28T03:55:41.262Z"
   },
   {
    "duration": 10,
    "start_time": "2023-08-28T03:55:41.430Z"
   },
   {
    "duration": 162,
    "start_time": "2023-08-28T03:55:41.442Z"
   },
   {
    "duration": 165,
    "start_time": "2023-08-28T03:55:41.606Z"
   },
   {
    "duration": 7,
    "start_time": "2023-08-28T03:55:41.773Z"
   },
   {
    "duration": 42,
    "start_time": "2023-08-28T03:55:41.782Z"
   },
   {
    "duration": 18,
    "start_time": "2023-08-28T03:55:41.826Z"
   },
   {
    "duration": 19,
    "start_time": "2023-08-28T03:55:41.846Z"
   },
   {
    "duration": 269,
    "start_time": "2023-08-28T03:55:41.867Z"
   },
   {
    "duration": 241,
    "start_time": "2023-08-28T03:55:42.138Z"
   },
   {
    "duration": 28,
    "start_time": "2023-08-28T03:55:42.381Z"
   },
   {
    "duration": 3,
    "start_time": "2023-08-28T03:55:42.410Z"
   },
   {
    "duration": 21,
    "start_time": "2023-08-28T03:55:42.414Z"
   },
   {
    "duration": 1490,
    "start_time": "2023-08-28T03:55:42.437Z"
   },
   {
    "duration": 0,
    "start_time": "2023-08-28T03:55:43.929Z"
   },
   {
    "duration": 0,
    "start_time": "2023-08-28T03:55:43.931Z"
   },
   {
    "duration": 0,
    "start_time": "2023-08-28T03:55:43.932Z"
   },
   {
    "duration": 0,
    "start_time": "2023-08-28T03:55:43.933Z"
   },
   {
    "duration": 0,
    "start_time": "2023-08-28T03:55:43.935Z"
   },
   {
    "duration": 1125,
    "start_time": "2023-08-28T03:56:06.614Z"
   },
   {
    "duration": 178,
    "start_time": "2023-08-28T03:56:07.741Z"
   },
   {
    "duration": 12,
    "start_time": "2023-08-28T03:56:07.921Z"
   },
   {
    "duration": 33,
    "start_time": "2023-08-28T03:56:07.936Z"
   },
   {
    "duration": 34,
    "start_time": "2023-08-28T03:56:07.970Z"
   },
   {
    "duration": 7,
    "start_time": "2023-08-28T03:56:08.007Z"
   },
   {
    "duration": 10,
    "start_time": "2023-08-28T03:56:08.016Z"
   },
   {
    "duration": 20,
    "start_time": "2023-08-28T03:56:08.028Z"
   },
   {
    "duration": 198,
    "start_time": "2023-08-28T03:56:08.049Z"
   },
   {
    "duration": 142,
    "start_time": "2023-08-28T03:56:08.250Z"
   },
   {
    "duration": 173,
    "start_time": "2023-08-28T03:56:08.394Z"
   },
   {
    "duration": 169,
    "start_time": "2023-08-28T03:56:08.569Z"
   },
   {
    "duration": 152,
    "start_time": "2023-08-28T03:56:08.740Z"
   },
   {
    "duration": 15,
    "start_time": "2023-08-28T03:56:08.893Z"
   },
   {
    "duration": 149,
    "start_time": "2023-08-28T03:56:08.909Z"
   },
   {
    "duration": 164,
    "start_time": "2023-08-28T03:56:09.060Z"
   },
   {
    "duration": 8,
    "start_time": "2023-08-28T03:56:09.226Z"
   },
   {
    "duration": 28,
    "start_time": "2023-08-28T03:56:09.236Z"
   },
   {
    "duration": 42,
    "start_time": "2023-08-28T03:56:09.267Z"
   },
   {
    "duration": 16,
    "start_time": "2023-08-28T03:56:09.310Z"
   },
   {
    "duration": 236,
    "start_time": "2023-08-28T03:56:09.328Z"
   },
   {
    "duration": 243,
    "start_time": "2023-08-28T03:56:09.566Z"
   },
   {
    "duration": 18,
    "start_time": "2023-08-28T03:56:09.811Z"
   },
   {
    "duration": 3,
    "start_time": "2023-08-28T03:56:09.831Z"
   },
   {
    "duration": 19,
    "start_time": "2023-08-28T03:56:09.835Z"
   },
   {
    "duration": 50,
    "start_time": "2023-08-28T03:56:09.856Z"
   },
   {
    "duration": 7,
    "start_time": "2023-08-28T03:56:09.908Z"
   },
   {
    "duration": 7,
    "start_time": "2023-08-28T03:56:09.918Z"
   },
   {
    "duration": 15,
    "start_time": "2023-08-28T03:56:09.926Z"
   },
   {
    "duration": 1542,
    "start_time": "2023-08-28T03:56:09.943Z"
   },
   {
    "duration": 6,
    "start_time": "2023-08-28T03:56:11.487Z"
   },
   {
    "duration": 1228,
    "start_time": "2023-08-28T05:24:02.849Z"
   },
   {
    "duration": 303,
    "start_time": "2023-08-28T05:24:04.079Z"
   },
   {
    "duration": 11,
    "start_time": "2023-08-28T05:24:04.384Z"
   },
   {
    "duration": 16,
    "start_time": "2023-08-28T05:24:04.397Z"
   },
   {
    "duration": 33,
    "start_time": "2023-08-28T05:24:04.414Z"
   },
   {
    "duration": 6,
    "start_time": "2023-08-28T05:24:04.448Z"
   },
   {
    "duration": 21,
    "start_time": "2023-08-28T05:24:04.456Z"
   },
   {
    "duration": 7,
    "start_time": "2023-08-28T05:24:04.479Z"
   },
   {
    "duration": 194,
    "start_time": "2023-08-28T05:24:04.488Z"
   },
   {
    "duration": 132,
    "start_time": "2023-08-28T05:24:04.686Z"
   },
   {
    "duration": 161,
    "start_time": "2023-08-28T05:24:04.820Z"
   },
   {
    "duration": 152,
    "start_time": "2023-08-28T05:24:04.983Z"
   },
   {
    "duration": 194,
    "start_time": "2023-08-28T05:24:05.136Z"
   },
   {
    "duration": 14,
    "start_time": "2023-08-28T05:24:05.332Z"
   },
   {
    "duration": 161,
    "start_time": "2023-08-28T05:24:05.348Z"
   },
   {
    "duration": 152,
    "start_time": "2023-08-28T05:24:05.511Z"
   },
   {
    "duration": 7,
    "start_time": "2023-08-28T05:24:05.664Z"
   },
   {
    "duration": 30,
    "start_time": "2023-08-28T05:24:05.672Z"
   },
   {
    "duration": 30,
    "start_time": "2023-08-28T05:24:05.704Z"
   },
   {
    "duration": 25,
    "start_time": "2023-08-28T05:24:05.735Z"
   },
   {
    "duration": 248,
    "start_time": "2023-08-28T05:24:05.762Z"
   },
   {
    "duration": 256,
    "start_time": "2023-08-28T05:24:06.013Z"
   },
   {
    "duration": 19,
    "start_time": "2023-08-28T05:24:06.271Z"
   },
   {
    "duration": 7,
    "start_time": "2023-08-28T05:24:06.292Z"
   },
   {
    "duration": 33,
    "start_time": "2023-08-28T05:24:06.300Z"
   },
   {
    "duration": 31,
    "start_time": "2023-08-28T05:24:06.336Z"
   },
   {
    "duration": 23,
    "start_time": "2023-08-28T05:24:06.368Z"
   },
   {
    "duration": 24,
    "start_time": "2023-08-28T05:24:06.394Z"
   },
   {
    "duration": 14,
    "start_time": "2023-08-28T05:24:06.420Z"
   },
   {
    "duration": 1556,
    "start_time": "2023-08-28T05:24:06.437Z"
   },
   {
    "duration": 6,
    "start_time": "2023-08-28T05:24:07.995Z"
   },
   {
    "duration": 11,
    "start_time": "2023-08-28T05:54:08.052Z"
   },
   {
    "duration": 280,
    "start_time": "2023-08-28T05:59:57.897Z"
   },
   {
    "duration": 176,
    "start_time": "2023-08-28T06:04:39.401Z"
   },
   {
    "duration": 286,
    "start_time": "2023-08-28T06:05:35.868Z"
   },
   {
    "duration": 198,
    "start_time": "2023-08-28T06:06:48.975Z"
   },
   {
    "duration": 177,
    "start_time": "2023-08-28T06:06:54.686Z"
   },
   {
    "duration": 574,
    "start_time": "2023-08-28T06:11:45.839Z"
   },
   {
    "duration": 133,
    "start_time": "2023-08-28T06:13:08.816Z"
   },
   {
    "duration": 4,
    "start_time": "2023-08-28T06:14:38.768Z"
   },
   {
    "duration": 113,
    "start_time": "2023-08-28T06:14:38.774Z"
   },
   {
    "duration": 11,
    "start_time": "2023-08-28T06:14:38.888Z"
   },
   {
    "duration": 6,
    "start_time": "2023-08-28T06:14:38.901Z"
   },
   {
    "duration": 10,
    "start_time": "2023-08-28T06:14:38.908Z"
   },
   {
    "duration": 32,
    "start_time": "2023-08-28T06:14:38.919Z"
   },
   {
    "duration": 9,
    "start_time": "2023-08-28T06:14:38.953Z"
   },
   {
    "duration": 6,
    "start_time": "2023-08-28T06:14:38.964Z"
   },
   {
    "duration": 227,
    "start_time": "2023-08-28T06:14:38.971Z"
   },
   {
    "duration": 589,
    "start_time": "2023-08-28T06:14:39.202Z"
   },
   {
    "duration": 0,
    "start_time": "2023-08-28T06:14:39.793Z"
   },
   {
    "duration": 0,
    "start_time": "2023-08-28T06:14:39.795Z"
   },
   {
    "duration": 0,
    "start_time": "2023-08-28T06:14:39.796Z"
   },
   {
    "duration": 0,
    "start_time": "2023-08-28T06:14:39.797Z"
   },
   {
    "duration": 0,
    "start_time": "2023-08-28T06:14:39.798Z"
   },
   {
    "duration": 0,
    "start_time": "2023-08-28T06:14:39.799Z"
   },
   {
    "duration": 0,
    "start_time": "2023-08-28T06:14:39.801Z"
   },
   {
    "duration": 0,
    "start_time": "2023-08-28T06:14:39.802Z"
   },
   {
    "duration": 0,
    "start_time": "2023-08-28T06:14:39.803Z"
   },
   {
    "duration": 0,
    "start_time": "2023-08-28T06:14:39.804Z"
   },
   {
    "duration": 0,
    "start_time": "2023-08-28T06:14:39.805Z"
   },
   {
    "duration": 0,
    "start_time": "2023-08-28T06:14:39.806Z"
   },
   {
    "duration": 0,
    "start_time": "2023-08-28T06:14:39.808Z"
   },
   {
    "duration": 0,
    "start_time": "2023-08-28T06:14:39.809Z"
   },
   {
    "duration": 0,
    "start_time": "2023-08-28T06:14:39.810Z"
   },
   {
    "duration": 0,
    "start_time": "2023-08-28T06:14:39.811Z"
   },
   {
    "duration": 0,
    "start_time": "2023-08-28T06:14:39.812Z"
   },
   {
    "duration": 0,
    "start_time": "2023-08-28T06:14:39.813Z"
   },
   {
    "duration": 0,
    "start_time": "2023-08-28T06:14:39.847Z"
   },
   {
    "duration": 0,
    "start_time": "2023-08-28T06:14:39.848Z"
   },
   {
    "duration": 0,
    "start_time": "2023-08-28T06:14:39.850Z"
   },
   {
    "duration": 488,
    "start_time": "2023-08-28T06:15:54.577Z"
   },
   {
    "duration": 118,
    "start_time": "2023-08-28T06:16:03.506Z"
   },
   {
    "duration": 494,
    "start_time": "2023-08-28T06:28:34.727Z"
   },
   {
    "duration": 83,
    "start_time": "2023-08-28T06:40:46.500Z"
   },
   {
    "duration": 134,
    "start_time": "2023-08-28T06:44:25.313Z"
   },
   {
    "duration": 94,
    "start_time": "2023-08-28T06:44:44.855Z"
   },
   {
    "duration": 12,
    "start_time": "2023-08-28T06:47:26.836Z"
   },
   {
    "duration": 8,
    "start_time": "2023-08-28T06:47:32.595Z"
   },
   {
    "duration": 8,
    "start_time": "2023-08-28T06:48:03.120Z"
   },
   {
    "duration": 17,
    "start_time": "2023-08-28T06:49:44.463Z"
   },
   {
    "duration": 13,
    "start_time": "2023-08-28T06:51:07.634Z"
   },
   {
    "duration": 1524,
    "start_time": "2023-08-28T06:54:27.663Z"
   },
   {
    "duration": 70,
    "start_time": "2023-08-28T06:54:47.859Z"
   },
   {
    "duration": 74,
    "start_time": "2023-08-28T06:54:55.687Z"
   },
   {
    "duration": 69,
    "start_time": "2023-08-28T06:55:00.665Z"
   },
   {
    "duration": 66,
    "start_time": "2023-08-28T06:55:34.364Z"
   },
   {
    "duration": 90,
    "start_time": "2023-08-28T06:56:00.498Z"
   },
   {
    "duration": 87,
    "start_time": "2023-08-28T06:57:49.512Z"
   },
   {
    "duration": 225,
    "start_time": "2023-08-28T06:58:02.927Z"
   },
   {
    "duration": 4,
    "start_time": "2023-08-28T06:59:06.617Z"
   },
   {
    "duration": 190,
    "start_time": "2023-08-28T06:59:06.623Z"
   },
   {
    "duration": 11,
    "start_time": "2023-08-28T06:59:06.815Z"
   },
   {
    "duration": 109,
    "start_time": "2023-08-28T06:59:06.829Z"
   },
   {
    "duration": 47,
    "start_time": "2023-08-28T06:59:06.940Z"
   },
   {
    "duration": 49,
    "start_time": "2023-08-28T06:59:06.989Z"
   },
   {
    "duration": 24,
    "start_time": "2023-08-28T06:59:07.040Z"
   },
   {
    "duration": 19,
    "start_time": "2023-08-28T06:59:07.066Z"
   },
   {
    "duration": 213,
    "start_time": "2023-08-28T06:59:07.086Z"
   },
   {
    "duration": 92,
    "start_time": "2023-08-28T06:59:07.302Z"
   },
   {
    "duration": 185,
    "start_time": "2023-08-28T06:59:07.396Z"
   },
   {
    "duration": 191,
    "start_time": "2023-08-28T06:59:07.583Z"
   },
   {
    "duration": 171,
    "start_time": "2023-08-28T06:59:07.776Z"
   },
   {
    "duration": 7,
    "start_time": "2023-08-28T06:59:07.949Z"
   },
   {
    "duration": 171,
    "start_time": "2023-08-28T06:59:07.957Z"
   },
   {
    "duration": 150,
    "start_time": "2023-08-28T06:59:08.130Z"
   },
   {
    "duration": 6,
    "start_time": "2023-08-28T06:59:08.282Z"
   },
   {
    "duration": 45,
    "start_time": "2023-08-28T06:59:08.289Z"
   },
   {
    "duration": 21,
    "start_time": "2023-08-28T06:59:08.337Z"
   },
   {
    "duration": 64,
    "start_time": "2023-08-28T06:59:08.359Z"
   },
   {
    "duration": 438,
    "start_time": "2023-08-28T06:59:08.425Z"
   },
   {
    "duration": 282,
    "start_time": "2023-08-28T06:59:08.865Z"
   },
   {
    "duration": 20,
    "start_time": "2023-08-28T06:59:09.148Z"
   },
   {
    "duration": 3,
    "start_time": "2023-08-28T06:59:09.170Z"
   },
   {
    "duration": 23,
    "start_time": "2023-08-28T06:59:09.174Z"
   },
   {
    "duration": 50,
    "start_time": "2023-08-28T06:59:09.199Z"
   },
   {
    "duration": 7,
    "start_time": "2023-08-28T06:59:09.251Z"
   },
   {
    "duration": 28,
    "start_time": "2023-08-28T06:59:09.261Z"
   },
   {
    "duration": 34,
    "start_time": "2023-08-28T06:59:09.290Z"
   },
   {
    "duration": 1690,
    "start_time": "2023-08-28T06:59:09.326Z"
   },
   {
    "duration": 6,
    "start_time": "2023-08-28T06:59:11.018Z"
   },
   {
    "duration": 151,
    "start_time": "2023-08-28T08:09:13.283Z"
   },
   {
    "duration": 107,
    "start_time": "2023-08-28T08:21:03.041Z"
   },
   {
    "duration": 5,
    "start_time": "2023-08-28T08:25:20.115Z"
   },
   {
    "duration": 2012,
    "start_time": "2023-08-28T08:26:25.892Z"
   },
   {
    "duration": 6,
    "start_time": "2023-08-28T08:26:41.538Z"
   },
   {
    "duration": 15,
    "start_time": "2023-08-28T08:27:58.200Z"
   },
   {
    "duration": 16,
    "start_time": "2023-08-28T08:38:09.910Z"
   },
   {
    "duration": 8,
    "start_time": "2023-08-28T08:38:22.624Z"
   },
   {
    "duration": 7,
    "start_time": "2023-08-28T08:39:48.568Z"
   },
   {
    "duration": 4,
    "start_time": "2023-08-28T08:39:55.734Z"
   },
   {
    "duration": 19,
    "start_time": "2023-08-28T08:49:56.565Z"
   },
   {
    "duration": 18,
    "start_time": "2023-08-28T08:50:18.633Z"
   },
   {
    "duration": 17,
    "start_time": "2023-08-28T08:52:26.069Z"
   },
   {
    "duration": 25,
    "start_time": "2023-08-28T08:53:03.531Z"
   },
   {
    "duration": 27,
    "start_time": "2023-08-28T08:53:21.270Z"
   },
   {
    "duration": 30,
    "start_time": "2023-08-28T08:55:25.569Z"
   },
   {
    "duration": 32,
    "start_time": "2023-08-28T08:55:47.681Z"
   },
   {
    "duration": 299,
    "start_time": "2023-08-28T08:56:46.922Z"
   },
   {
    "duration": 30,
    "start_time": "2023-08-28T08:56:56.238Z"
   },
   {
    "duration": 31,
    "start_time": "2023-08-28T08:57:36.656Z"
   },
   {
    "duration": 32,
    "start_time": "2023-08-28T08:58:16.762Z"
   },
   {
    "duration": 32,
    "start_time": "2023-08-28T08:58:23.731Z"
   },
   {
    "duration": 50,
    "start_time": "2023-08-28T11:33:19.453Z"
   },
   {
    "duration": 1554,
    "start_time": "2023-08-28T11:33:27.618Z"
   },
   {
    "duration": 321,
    "start_time": "2023-08-28T11:33:29.175Z"
   },
   {
    "duration": 9,
    "start_time": "2023-08-28T11:33:29.498Z"
   },
   {
    "duration": 50,
    "start_time": "2023-08-28T11:33:29.509Z"
   },
   {
    "duration": 32,
    "start_time": "2023-08-28T11:33:29.561Z"
   },
   {
    "duration": 7,
    "start_time": "2023-08-28T11:33:29.594Z"
   },
   {
    "duration": 8,
    "start_time": "2023-08-28T11:33:29.603Z"
   },
   {
    "duration": 40,
    "start_time": "2023-08-28T11:33:29.613Z"
   },
   {
    "duration": 22,
    "start_time": "2023-08-28T11:33:29.655Z"
   },
   {
    "duration": 210,
    "start_time": "2023-08-28T11:33:29.680Z"
   },
   {
    "duration": 74,
    "start_time": "2023-08-28T11:33:29.892Z"
   },
   {
    "duration": 168,
    "start_time": "2023-08-28T11:33:29.981Z"
   },
   {
    "duration": 147,
    "start_time": "2023-08-28T11:33:30.151Z"
   },
   {
    "duration": 154,
    "start_time": "2023-08-28T11:33:30.300Z"
   },
   {
    "duration": 38,
    "start_time": "2023-08-28T11:33:30.455Z"
   },
   {
    "duration": 21,
    "start_time": "2023-08-28T11:33:30.494Z"
   },
   {
    "duration": 39,
    "start_time": "2023-08-28T11:33:30.517Z"
   },
   {
    "duration": 248,
    "start_time": "2023-08-28T11:33:30.558Z"
   },
   {
    "duration": 220,
    "start_time": "2023-08-28T11:33:30.808Z"
   },
   {
    "duration": 19,
    "start_time": "2023-08-28T11:33:31.030Z"
   },
   {
    "duration": 42,
    "start_time": "2023-08-28T11:33:31.050Z"
   },
   {
    "duration": 49,
    "start_time": "2023-08-28T11:33:31.094Z"
   },
   {
    "duration": 51,
    "start_time": "2023-08-28T11:33:31.145Z"
   },
   {
    "duration": 21,
    "start_time": "2023-08-28T11:33:31.198Z"
   },
   {
    "duration": 36,
    "start_time": "2023-08-28T11:33:31.221Z"
   },
   {
    "duration": 33,
    "start_time": "2023-08-28T11:33:31.259Z"
   },
   {
    "duration": 1532,
    "start_time": "2023-08-28T11:33:31.294Z"
   },
   {
    "duration": 6,
    "start_time": "2023-08-28T11:33:32.829Z"
   },
   {
    "duration": 155,
    "start_time": "2023-08-28T11:36:10.582Z"
   },
   {
    "duration": 184,
    "start_time": "2023-08-28T11:44:11.014Z"
   },
   {
    "duration": 1192,
    "start_time": "2023-08-28T11:47:06.311Z"
   },
   {
    "duration": 171,
    "start_time": "2023-08-28T11:47:07.505Z"
   },
   {
    "duration": 9,
    "start_time": "2023-08-28T11:47:07.678Z"
   },
   {
    "duration": 13,
    "start_time": "2023-08-28T11:47:07.689Z"
   },
   {
    "duration": 17,
    "start_time": "2023-08-28T11:47:07.704Z"
   },
   {
    "duration": 17,
    "start_time": "2023-08-28T11:47:07.723Z"
   },
   {
    "duration": 22,
    "start_time": "2023-08-28T11:47:07.742Z"
   },
   {
    "duration": 24,
    "start_time": "2023-08-28T11:47:07.766Z"
   },
   {
    "duration": 12,
    "start_time": "2023-08-28T11:47:07.791Z"
   },
   {
    "duration": 206,
    "start_time": "2023-08-28T11:47:07.805Z"
   },
   {
    "duration": 87,
    "start_time": "2023-08-28T11:47:08.013Z"
   },
   {
    "duration": 181,
    "start_time": "2023-08-28T11:47:08.102Z"
   },
   {
    "duration": 151,
    "start_time": "2023-08-28T11:47:08.285Z"
   },
   {
    "duration": 167,
    "start_time": "2023-08-28T11:47:08.439Z"
   },
   {
    "duration": 34,
    "start_time": "2023-08-28T11:47:08.608Z"
   },
   {
    "duration": 38,
    "start_time": "2023-08-28T11:47:08.644Z"
   },
   {
    "duration": 15,
    "start_time": "2023-08-28T11:47:08.684Z"
   },
   {
    "duration": 6,
    "start_time": "2023-08-28T11:48:38.022Z"
   },
   {
    "duration": 112,
    "start_time": "2023-08-28T11:48:38.029Z"
   },
   {
    "duration": 11,
    "start_time": "2023-08-28T11:48:38.143Z"
   },
   {
    "duration": 5,
    "start_time": "2023-08-28T11:48:38.156Z"
   },
   {
    "duration": 25,
    "start_time": "2023-08-28T11:48:38.162Z"
   },
   {
    "duration": 5,
    "start_time": "2023-08-28T11:48:38.189Z"
   },
   {
    "duration": 10,
    "start_time": "2023-08-28T11:48:38.196Z"
   },
   {
    "duration": 7,
    "start_time": "2023-08-28T11:48:38.208Z"
   },
   {
    "duration": 5,
    "start_time": "2023-08-28T11:48:38.216Z"
   },
   {
    "duration": 214,
    "start_time": "2023-08-28T11:48:38.223Z"
   },
   {
    "duration": 86,
    "start_time": "2023-08-28T11:48:38.439Z"
   },
   {
    "duration": 207,
    "start_time": "2023-08-28T11:48:38.527Z"
   },
   {
    "duration": 186,
    "start_time": "2023-08-28T11:48:38.736Z"
   },
   {
    "duration": 158,
    "start_time": "2023-08-28T11:48:38.924Z"
   },
   {
    "duration": 35,
    "start_time": "2023-08-28T11:48:39.084Z"
   },
   {
    "duration": 18,
    "start_time": "2023-08-28T11:48:39.120Z"
   },
   {
    "duration": 18,
    "start_time": "2023-08-28T11:48:39.140Z"
   },
   {
    "duration": 88938,
    "start_time": "2023-08-28T11:48:39.160Z"
   },
   {
    "duration": 220,
    "start_time": "2023-08-28T11:50:08.100Z"
   },
   {
    "duration": 19,
    "start_time": "2023-08-28T11:50:08.322Z"
   },
   {
    "duration": 8,
    "start_time": "2023-08-28T11:50:08.342Z"
   },
   {
    "duration": 15,
    "start_time": "2023-08-28T11:50:08.351Z"
   },
   {
    "duration": 23,
    "start_time": "2023-08-28T11:50:08.381Z"
   },
   {
    "duration": 6,
    "start_time": "2023-08-28T11:50:08.406Z"
   },
   {
    "duration": 22,
    "start_time": "2023-08-28T11:50:08.414Z"
   },
   {
    "duration": 20,
    "start_time": "2023-08-28T11:50:08.438Z"
   },
   {
    "duration": 1421,
    "start_time": "2023-08-28T11:50:08.460Z"
   },
   {
    "duration": 6,
    "start_time": "2023-08-28T11:50:09.883Z"
   },
   {
    "duration": 159,
    "start_time": "2023-08-28T11:50:30.124Z"
   },
   {
    "duration": 162,
    "start_time": "2023-08-28T11:50:42.576Z"
   },
   {
    "duration": 143,
    "start_time": "2023-08-28T12:00:31.163Z"
   },
   {
    "duration": 141,
    "start_time": "2023-08-28T12:00:47.392Z"
   },
   {
    "duration": 147,
    "start_time": "2023-08-28T12:01:20.474Z"
   },
   {
    "duration": 139,
    "start_time": "2023-08-28T12:01:33.499Z"
   },
   {
    "duration": 177,
    "start_time": "2023-08-28T12:10:24.007Z"
   },
   {
    "duration": 168,
    "start_time": "2023-08-28T12:23:07.673Z"
   },
   {
    "duration": 160,
    "start_time": "2023-08-28T12:23:20.307Z"
   },
   {
    "duration": 272,
    "start_time": "2023-08-28T12:24:47.046Z"
   },
   {
    "duration": 106,
    "start_time": "2023-08-28T12:25:01.305Z"
   },
   {
    "duration": 168,
    "start_time": "2023-08-28T12:25:08.886Z"
   },
   {
    "duration": 178,
    "start_time": "2023-08-28T12:26:40.947Z"
   },
   {
    "duration": 186,
    "start_time": "2023-08-28T12:27:02.254Z"
   },
   {
    "duration": 184,
    "start_time": "2023-08-28T12:28:45.431Z"
   },
   {
    "duration": 191,
    "start_time": "2023-08-28T12:31:09.310Z"
   },
   {
    "duration": 101,
    "start_time": "2023-08-28T12:51:03.691Z"
   },
   {
    "duration": 153,
    "start_time": "2023-08-28T13:01:07.906Z"
   },
   {
    "duration": 34,
    "start_time": "2023-08-28T13:01:15.954Z"
   },
   {
    "duration": 3,
    "start_time": "2023-08-28T13:02:51.927Z"
   },
   {
    "duration": 33,
    "start_time": "2023-08-28T13:03:25.870Z"
   },
   {
    "duration": 36,
    "start_time": "2023-08-28T13:04:00.986Z"
   },
   {
    "duration": 32,
    "start_time": "2023-08-28T13:04:12.382Z"
   },
   {
    "duration": 2051,
    "start_time": "2023-08-28T13:05:34.370Z"
   },
   {
    "duration": 1902,
    "start_time": "2023-08-28T13:06:26.915Z"
   },
   {
    "duration": 46,
    "start_time": "2023-08-28T13:06:53.137Z"
   },
   {
    "duration": 36,
    "start_time": "2023-08-28T13:07:27.114Z"
   },
   {
    "duration": 54,
    "start_time": "2023-08-28T13:07:47.263Z"
   },
   {
    "duration": 46,
    "start_time": "2023-08-28T13:08:08.085Z"
   },
   {
    "duration": 42,
    "start_time": "2023-08-28T13:08:40.055Z"
   },
   {
    "duration": 54,
    "start_time": "2023-08-28T13:10:19.129Z"
   },
   {
    "duration": 41,
    "start_time": "2023-08-28T13:10:33.792Z"
   },
   {
    "duration": 201,
    "start_time": "2023-08-28T13:12:21.775Z"
   },
   {
    "duration": 4,
    "start_time": "2023-08-28T14:48:46.926Z"
   },
   {
    "duration": 163,
    "start_time": "2023-08-28T14:48:46.932Z"
   },
   {
    "duration": 14,
    "start_time": "2023-08-28T14:48:47.098Z"
   },
   {
    "duration": 8,
    "start_time": "2023-08-28T14:48:47.115Z"
   },
   {
    "duration": 19,
    "start_time": "2023-08-28T14:48:47.125Z"
   },
   {
    "duration": 6,
    "start_time": "2023-08-28T14:48:47.146Z"
   },
   {
    "duration": 35,
    "start_time": "2023-08-28T14:48:47.154Z"
   },
   {
    "duration": 9,
    "start_time": "2023-08-28T14:48:47.192Z"
   },
   {
    "duration": 6,
    "start_time": "2023-08-28T14:48:47.203Z"
   },
   {
    "duration": 254,
    "start_time": "2023-08-28T14:48:47.212Z"
   },
   {
    "duration": 81,
    "start_time": "2023-08-28T14:48:47.468Z"
   },
   {
    "duration": 190,
    "start_time": "2023-08-28T14:48:47.551Z"
   },
   {
    "duration": 157,
    "start_time": "2023-08-28T14:48:47.743Z"
   },
   {
    "duration": 183,
    "start_time": "2023-08-28T14:48:47.902Z"
   },
   {
    "duration": 43,
    "start_time": "2023-08-28T14:48:48.087Z"
   },
   {
    "duration": 23,
    "start_time": "2023-08-28T14:48:48.132Z"
   },
   {
    "duration": 19,
    "start_time": "2023-08-28T14:48:48.182Z"
   },
   {
    "duration": 224,
    "start_time": "2023-08-28T14:48:48.203Z"
   },
   {
    "duration": 1404,
    "start_time": "2023-08-28T14:48:48.429Z"
   },
   {
    "duration": 57,
    "start_time": "2023-08-28T14:48:49.835Z"
   },
   {
    "duration": 3,
    "start_time": "2023-08-28T14:48:49.894Z"
   },
   {
    "duration": 8,
    "start_time": "2023-08-28T14:48:49.898Z"
   },
   {
    "duration": 17,
    "start_time": "2023-08-28T14:48:49.908Z"
   },
   {
    "duration": 11,
    "start_time": "2023-08-28T14:48:49.928Z"
   },
   {
    "duration": 1622,
    "start_time": "2023-08-28T14:48:49.941Z"
   },
   {
    "duration": 5,
    "start_time": "2023-08-28T14:48:51.565Z"
   },
   {
    "duration": 7,
    "start_time": "2023-08-28T14:56:42.665Z"
   },
   {
    "duration": 7,
    "start_time": "2023-08-28T14:56:50.423Z"
   },
   {
    "duration": 7,
    "start_time": "2023-08-28T14:56:55.233Z"
   },
   {
    "duration": 4,
    "start_time": "2023-08-28T14:57:09.138Z"
   },
   {
    "duration": 128,
    "start_time": "2023-08-28T14:57:09.144Z"
   },
   {
    "duration": 10,
    "start_time": "2023-08-28T14:57:09.273Z"
   },
   {
    "duration": 6,
    "start_time": "2023-08-28T14:57:09.285Z"
   },
   {
    "duration": 11,
    "start_time": "2023-08-28T14:57:09.293Z"
   },
   {
    "duration": 4,
    "start_time": "2023-08-28T14:57:09.305Z"
   },
   {
    "duration": 11,
    "start_time": "2023-08-28T14:57:09.311Z"
   },
   {
    "duration": 7,
    "start_time": "2023-08-28T14:57:09.324Z"
   },
   {
    "duration": 12,
    "start_time": "2023-08-28T14:57:09.333Z"
   },
   {
    "duration": 423,
    "start_time": "2023-08-28T14:57:09.348Z"
   },
   {
    "duration": 80,
    "start_time": "2023-08-28T14:57:09.773Z"
   },
   {
    "duration": 176,
    "start_time": "2023-08-28T14:57:09.855Z"
   },
   {
    "duration": 154,
    "start_time": "2023-08-28T14:57:10.034Z"
   },
   {
    "duration": 177,
    "start_time": "2023-08-28T14:57:10.189Z"
   },
   {
    "duration": 35,
    "start_time": "2023-08-28T14:57:10.368Z"
   },
   {
    "duration": 15,
    "start_time": "2023-08-28T14:57:10.404Z"
   },
   {
    "duration": 31,
    "start_time": "2023-08-28T14:57:10.421Z"
   },
   {
    "duration": 198,
    "start_time": "2023-08-28T14:57:10.454Z"
   },
   {
    "duration": 203,
    "start_time": "2023-08-28T14:57:10.654Z"
   },
   {
    "duration": 50,
    "start_time": "2023-08-28T14:57:10.859Z"
   },
   {
    "duration": 3,
    "start_time": "2023-08-28T14:57:10.910Z"
   },
   {
    "duration": 12,
    "start_time": "2023-08-28T14:57:10.914Z"
   },
   {
    "duration": 6,
    "start_time": "2023-08-28T14:57:10.927Z"
   },
   {
    "duration": 9,
    "start_time": "2023-08-28T14:57:10.935Z"
   },
   {
    "duration": 1748,
    "start_time": "2023-08-28T14:57:10.945Z"
   },
   {
    "duration": 6,
    "start_time": "2023-08-28T14:57:12.694Z"
   },
   {
    "duration": 3,
    "start_time": "2023-08-28T14:58:32.248Z"
   },
   {
    "duration": 151,
    "start_time": "2023-08-28T14:58:32.253Z"
   },
   {
    "duration": 11,
    "start_time": "2023-08-28T14:58:32.406Z"
   },
   {
    "duration": 7,
    "start_time": "2023-08-28T14:58:32.419Z"
   },
   {
    "duration": 14,
    "start_time": "2023-08-28T14:58:32.428Z"
   },
   {
    "duration": 38,
    "start_time": "2023-08-28T14:58:32.444Z"
   },
   {
    "duration": 10,
    "start_time": "2023-08-28T14:58:32.484Z"
   },
   {
    "duration": 27,
    "start_time": "2023-08-28T14:58:32.496Z"
   },
   {
    "duration": 24,
    "start_time": "2023-08-28T14:58:32.526Z"
   },
   {
    "duration": 198,
    "start_time": "2023-08-28T14:58:32.552Z"
   },
   {
    "duration": 87,
    "start_time": "2023-08-28T14:58:32.752Z"
   },
   {
    "duration": 175,
    "start_time": "2023-08-28T14:58:32.841Z"
   },
   {
    "duration": 147,
    "start_time": "2023-08-28T14:58:33.017Z"
   },
   {
    "duration": 166,
    "start_time": "2023-08-28T14:58:33.166Z"
   },
   {
    "duration": 30,
    "start_time": "2023-08-28T14:58:33.334Z"
   },
   {
    "duration": 29,
    "start_time": "2023-08-28T14:58:33.366Z"
   },
   {
    "duration": 14,
    "start_time": "2023-08-28T14:58:33.397Z"
   },
   {
    "duration": 193,
    "start_time": "2023-08-28T14:58:33.413Z"
   },
   {
    "duration": 205,
    "start_time": "2023-08-28T14:58:33.608Z"
   },
   {
    "duration": 40,
    "start_time": "2023-08-28T14:58:33.814Z"
   },
   {
    "duration": 3,
    "start_time": "2023-08-28T14:58:33.856Z"
   },
   {
    "duration": 8,
    "start_time": "2023-08-28T14:58:33.881Z"
   },
   {
    "duration": 32,
    "start_time": "2023-08-28T14:58:33.891Z"
   },
   {
    "duration": 26,
    "start_time": "2023-08-28T14:58:33.926Z"
   },
   {
    "duration": 1796,
    "start_time": "2023-08-28T14:58:33.954Z"
   },
   {
    "duration": 7,
    "start_time": "2023-08-28T14:58:35.752Z"
   },
   {
    "duration": 3,
    "start_time": "2023-08-28T14:58:57.864Z"
   },
   {
    "duration": 123,
    "start_time": "2023-08-28T14:58:57.869Z"
   },
   {
    "duration": 10,
    "start_time": "2023-08-28T14:58:57.994Z"
   },
   {
    "duration": 6,
    "start_time": "2023-08-28T14:58:58.006Z"
   },
   {
    "duration": 11,
    "start_time": "2023-08-28T14:58:58.014Z"
   },
   {
    "duration": 5,
    "start_time": "2023-08-28T14:58:58.026Z"
   },
   {
    "duration": 15,
    "start_time": "2023-08-28T14:58:58.032Z"
   },
   {
    "duration": 36,
    "start_time": "2023-08-28T14:58:58.049Z"
   },
   {
    "duration": 10,
    "start_time": "2023-08-28T14:58:58.088Z"
   },
   {
    "duration": 191,
    "start_time": "2023-08-28T14:58:58.100Z"
   },
   {
    "duration": 76,
    "start_time": "2023-08-28T14:58:58.292Z"
   },
   {
    "duration": 188,
    "start_time": "2023-08-28T14:58:58.370Z"
   },
   {
    "duration": 142,
    "start_time": "2023-08-28T14:58:58.560Z"
   },
   {
    "duration": 166,
    "start_time": "2023-08-28T14:58:58.703Z"
   },
   {
    "duration": 37,
    "start_time": "2023-08-28T14:58:58.870Z"
   },
   {
    "duration": 15,
    "start_time": "2023-08-28T14:58:58.909Z"
   },
   {
    "duration": 15,
    "start_time": "2023-08-28T14:58:58.926Z"
   },
   {
    "duration": 204,
    "start_time": "2023-08-28T14:58:58.942Z"
   },
   {
    "duration": 200,
    "start_time": "2023-08-28T14:58:59.148Z"
   },
   {
    "duration": 50,
    "start_time": "2023-08-28T14:58:59.349Z"
   },
   {
    "duration": 3,
    "start_time": "2023-08-28T14:58:59.400Z"
   },
   {
    "duration": 19,
    "start_time": "2023-08-28T14:58:59.404Z"
   },
   {
    "duration": 12,
    "start_time": "2023-08-28T14:58:59.425Z"
   },
   {
    "duration": 10,
    "start_time": "2023-08-28T14:58:59.440Z"
   },
   {
    "duration": 1471,
    "start_time": "2023-08-28T14:58:59.452Z"
   },
   {
    "duration": 6,
    "start_time": "2023-08-28T14:59:00.925Z"
   },
   {
    "duration": 1133,
    "start_time": "2023-08-28T15:09:51.526Z"
   },
   {
    "duration": 176,
    "start_time": "2023-08-28T15:09:52.661Z"
   },
   {
    "duration": 11,
    "start_time": "2023-08-28T15:09:52.841Z"
   },
   {
    "duration": 34,
    "start_time": "2023-08-28T15:09:52.854Z"
   },
   {
    "duration": 14,
    "start_time": "2023-08-28T15:09:52.890Z"
   },
   {
    "duration": 18,
    "start_time": "2023-08-28T15:09:52.906Z"
   },
   {
    "duration": 14,
    "start_time": "2023-08-28T15:09:52.926Z"
   },
   {
    "duration": 25,
    "start_time": "2023-08-28T15:09:52.942Z"
   },
   {
    "duration": 10,
    "start_time": "2023-08-28T15:09:52.969Z"
   },
   {
    "duration": 207,
    "start_time": "2023-08-28T15:09:52.981Z"
   },
   {
    "duration": 96,
    "start_time": "2023-08-28T15:09:53.190Z"
   },
   {
    "duration": 187,
    "start_time": "2023-08-28T15:09:53.288Z"
   },
   {
    "duration": 150,
    "start_time": "2023-08-28T15:09:53.482Z"
   },
   {
    "duration": 163,
    "start_time": "2023-08-28T15:09:53.634Z"
   },
   {
    "duration": 32,
    "start_time": "2023-08-28T15:09:53.799Z"
   },
   {
    "duration": 47,
    "start_time": "2023-08-28T15:09:53.833Z"
   },
   {
    "duration": 31,
    "start_time": "2023-08-28T15:09:53.882Z"
   },
   {
    "duration": 215,
    "start_time": "2023-08-28T15:09:53.914Z"
   },
   {
    "duration": 209,
    "start_time": "2023-08-28T15:09:54.131Z"
   },
   {
    "duration": 60,
    "start_time": "2023-08-28T15:09:54.342Z"
   },
   {
    "duration": 3,
    "start_time": "2023-08-28T15:09:54.404Z"
   },
   {
    "duration": 16,
    "start_time": "2023-08-28T15:09:54.409Z"
   },
   {
    "duration": 12,
    "start_time": "2023-08-28T15:09:54.427Z"
   },
   {
    "duration": 11,
    "start_time": "2023-08-28T15:09:54.440Z"
   },
   {
    "duration": 1613,
    "start_time": "2023-08-28T15:09:54.452Z"
   },
   {
    "duration": 6,
    "start_time": "2023-08-28T15:09:56.067Z"
   },
   {
    "duration": 1098,
    "start_time": "2023-08-28T15:23:43.456Z"
   },
   {
    "duration": 170,
    "start_time": "2023-08-28T15:23:44.556Z"
   },
   {
    "duration": 10,
    "start_time": "2023-08-28T15:23:44.728Z"
   },
   {
    "duration": 6,
    "start_time": "2023-08-28T15:23:44.740Z"
   },
   {
    "duration": 34,
    "start_time": "2023-08-28T15:23:44.747Z"
   },
   {
    "duration": 5,
    "start_time": "2023-08-28T15:23:44.783Z"
   },
   {
    "duration": 15,
    "start_time": "2023-08-28T15:23:44.790Z"
   },
   {
    "duration": 6,
    "start_time": "2023-08-28T15:23:44.807Z"
   },
   {
    "duration": 5,
    "start_time": "2023-08-28T15:23:44.814Z"
   },
   {
    "duration": 222,
    "start_time": "2023-08-28T15:23:44.822Z"
   },
   {
    "duration": 87,
    "start_time": "2023-08-28T15:23:45.045Z"
   },
   {
    "duration": 180,
    "start_time": "2023-08-28T15:23:45.134Z"
   },
   {
    "duration": 170,
    "start_time": "2023-08-28T15:23:45.316Z"
   },
   {
    "duration": 170,
    "start_time": "2023-08-28T15:23:45.488Z"
   },
   {
    "duration": 41,
    "start_time": "2023-08-28T15:23:45.660Z"
   },
   {
    "duration": 20,
    "start_time": "2023-08-28T15:23:45.702Z"
   },
   {
    "duration": 33,
    "start_time": "2023-08-28T15:23:45.723Z"
   },
   {
    "duration": 207,
    "start_time": "2023-08-28T15:23:45.758Z"
   },
   {
    "duration": 190,
    "start_time": "2023-08-28T15:23:45.967Z"
   },
   {
    "duration": 45,
    "start_time": "2023-08-28T15:23:46.159Z"
   },
   {
    "duration": 4,
    "start_time": "2023-08-28T15:23:46.206Z"
   },
   {
    "duration": 38,
    "start_time": "2023-08-28T15:23:46.211Z"
   },
   {
    "duration": 14,
    "start_time": "2023-08-28T15:23:46.251Z"
   },
   {
    "duration": 19,
    "start_time": "2023-08-28T15:23:46.267Z"
   },
   {
    "duration": 1708,
    "start_time": "2023-08-28T15:23:46.288Z"
   },
   {
    "duration": 7,
    "start_time": "2023-08-28T15:23:47.998Z"
   },
   {
    "duration": 1281,
    "start_time": "2023-08-28T15:38:55.869Z"
   },
   {
    "duration": 190,
    "start_time": "2023-08-28T15:38:57.152Z"
   },
   {
    "duration": 12,
    "start_time": "2023-08-28T15:38:57.344Z"
   },
   {
    "duration": 12,
    "start_time": "2023-08-28T15:38:57.358Z"
   },
   {
    "duration": 34,
    "start_time": "2023-08-28T15:38:57.372Z"
   },
   {
    "duration": 16,
    "start_time": "2023-08-28T15:38:57.408Z"
   },
   {
    "duration": 37,
    "start_time": "2023-08-28T15:38:57.426Z"
   },
   {
    "duration": 6,
    "start_time": "2023-08-28T15:38:57.465Z"
   },
   {
    "duration": 5,
    "start_time": "2023-08-28T15:38:57.473Z"
   },
   {
    "duration": 205,
    "start_time": "2023-08-28T15:38:57.480Z"
   },
   {
    "duration": 75,
    "start_time": "2023-08-28T15:38:57.687Z"
   },
   {
    "duration": 186,
    "start_time": "2023-08-28T15:38:57.764Z"
   },
   {
    "duration": 181,
    "start_time": "2023-08-28T15:38:57.952Z"
   },
   {
    "duration": 179,
    "start_time": "2023-08-28T15:38:58.135Z"
   },
   {
    "duration": 34,
    "start_time": "2023-08-28T15:38:58.316Z"
   },
   {
    "duration": 36,
    "start_time": "2023-08-28T15:38:58.351Z"
   },
   {
    "duration": 16,
    "start_time": "2023-08-28T15:38:58.388Z"
   },
   {
    "duration": 202,
    "start_time": "2023-08-28T15:38:58.405Z"
   },
   {
    "duration": 208,
    "start_time": "2023-08-28T15:38:58.608Z"
   },
   {
    "duration": 44,
    "start_time": "2023-08-28T15:38:58.818Z"
   },
   {
    "duration": 3,
    "start_time": "2023-08-28T15:38:58.881Z"
   },
   {
    "duration": 14,
    "start_time": "2023-08-28T15:38:58.885Z"
   },
   {
    "duration": 6,
    "start_time": "2023-08-28T15:38:58.901Z"
   },
   {
    "duration": 9,
    "start_time": "2023-08-28T15:38:58.909Z"
   },
   {
    "duration": 1609,
    "start_time": "2023-08-28T15:38:58.920Z"
   },
   {
    "duration": 6,
    "start_time": "2023-08-28T15:39:00.531Z"
   },
   {
    "duration": 1008,
    "start_time": "2023-08-28T16:38:11.245Z"
   },
   {
    "duration": 156,
    "start_time": "2023-08-28T16:38:12.255Z"
   },
   {
    "duration": 9,
    "start_time": "2023-08-28T16:38:12.413Z"
   },
   {
    "duration": 8,
    "start_time": "2023-08-28T16:38:12.424Z"
   },
   {
    "duration": 18,
    "start_time": "2023-08-28T16:38:12.434Z"
   },
   {
    "duration": 6,
    "start_time": "2023-08-28T16:38:12.454Z"
   },
   {
    "duration": 19,
    "start_time": "2023-08-28T16:38:12.461Z"
   },
   {
    "duration": 7,
    "start_time": "2023-08-28T16:38:12.482Z"
   },
   {
    "duration": 5,
    "start_time": "2023-08-28T16:38:12.490Z"
   },
   {
    "duration": 185,
    "start_time": "2023-08-28T16:38:12.498Z"
   },
   {
    "duration": 73,
    "start_time": "2023-08-28T16:38:12.684Z"
   },
   {
    "duration": 163,
    "start_time": "2023-08-28T16:38:12.758Z"
   },
   {
    "duration": 144,
    "start_time": "2023-08-28T16:38:12.923Z"
   },
   {
    "duration": 142,
    "start_time": "2023-08-28T16:38:13.068Z"
   },
   {
    "duration": 29,
    "start_time": "2023-08-28T16:38:13.212Z"
   },
   {
    "duration": 16,
    "start_time": "2023-08-28T16:38:13.250Z"
   },
   {
    "duration": 14,
    "start_time": "2023-08-28T16:38:13.267Z"
   },
   {
    "duration": 173,
    "start_time": "2023-08-28T16:38:13.283Z"
   },
   {
    "duration": 175,
    "start_time": "2023-08-28T16:38:13.457Z"
   },
   {
    "duration": 43,
    "start_time": "2023-08-28T16:38:13.633Z"
   },
   {
    "duration": 3,
    "start_time": "2023-08-28T16:38:13.678Z"
   },
   {
    "duration": 21,
    "start_time": "2023-08-28T16:38:13.682Z"
   },
   {
    "duration": 16,
    "start_time": "2023-08-28T16:38:13.704Z"
   },
   {
    "duration": 31,
    "start_time": "2023-08-28T16:38:13.722Z"
   },
   {
    "duration": 1341,
    "start_time": "2023-08-28T16:38:13.754Z"
   },
   {
    "duration": 5,
    "start_time": "2023-08-28T16:38:15.097Z"
   },
   {
    "duration": 46,
    "start_time": "2023-09-03T19:38:55.058Z"
   },
   {
    "duration": 8,
    "start_time": "2023-09-03T19:43:21.095Z"
   },
   {
    "duration": 7,
    "start_time": "2023-09-03T19:45:38.972Z"
   },
   {
    "duration": 68,
    "start_time": "2023-09-06T19:05:42.928Z"
   },
   {
    "duration": 1288,
    "start_time": "2023-09-06T19:05:49.625Z"
   },
   {
    "duration": 490,
    "start_time": "2023-09-06T19:05:50.917Z"
   },
   {
    "duration": 15,
    "start_time": "2023-09-06T19:05:51.409Z"
   },
   {
    "duration": 58,
    "start_time": "2023-09-06T19:05:51.426Z"
   },
   {
    "duration": 30,
    "start_time": "2023-09-06T19:05:51.505Z"
   },
   {
    "duration": 23,
    "start_time": "2023-09-06T19:05:51.539Z"
   },
   {
    "duration": 65,
    "start_time": "2023-09-06T19:05:51.564Z"
   },
   {
    "duration": 38,
    "start_time": "2023-09-06T19:05:51.631Z"
   },
   {
    "duration": 53,
    "start_time": "2023-09-06T19:05:51.671Z"
   },
   {
    "duration": 319,
    "start_time": "2023-09-06T19:05:51.731Z"
   },
   {
    "duration": 112,
    "start_time": "2023-09-06T19:05:52.052Z"
   },
   {
    "duration": 252,
    "start_time": "2023-09-06T19:05:52.166Z"
   },
   {
    "duration": 232,
    "start_time": "2023-09-06T19:05:52.424Z"
   },
   {
    "duration": 235,
    "start_time": "2023-09-06T19:05:52.660Z"
   },
   {
    "duration": 48,
    "start_time": "2023-09-06T19:05:52.896Z"
   },
   {
    "duration": 84,
    "start_time": "2023-09-06T19:05:52.949Z"
   },
   {
    "duration": 32,
    "start_time": "2023-09-06T19:05:53.034Z"
   },
   {
    "duration": 253,
    "start_time": "2023-09-06T19:05:53.068Z"
   },
   {
    "duration": 237,
    "start_time": "2023-09-06T19:05:53.322Z"
   },
   {
    "duration": 88,
    "start_time": "2023-09-06T19:05:53.561Z"
   },
   {
    "duration": 3,
    "start_time": "2023-09-06T19:05:53.651Z"
   },
   {
    "duration": 183,
    "start_time": "2023-09-06T19:05:53.655Z"
   },
   {
    "duration": 160,
    "start_time": "2023-09-06T19:05:53.840Z"
   },
   {
    "duration": 170,
    "start_time": "2023-09-06T19:05:54.002Z"
   },
   {
    "duration": 2166,
    "start_time": "2023-09-06T19:05:54.174Z"
   },
   {
    "duration": 8,
    "start_time": "2023-09-06T19:05:56.347Z"
   },
   {
    "duration": 49,
    "start_time": "2023-11-16T14:43:22.255Z"
   },
   {
    "duration": 1509,
    "start_time": "2023-11-16T14:43:28.115Z"
   },
   {
    "duration": 317,
    "start_time": "2023-11-16T14:43:29.627Z"
   },
   {
    "duration": 14,
    "start_time": "2023-11-16T14:43:29.946Z"
   },
   {
    "duration": 7,
    "start_time": "2023-11-16T14:43:29.963Z"
   },
   {
    "duration": 13,
    "start_time": "2023-11-16T14:43:29.972Z"
   },
   {
    "duration": 6,
    "start_time": "2023-11-16T14:43:29.987Z"
   },
   {
    "duration": 49,
    "start_time": "2023-11-16T14:43:29.995Z"
   },
   {
    "duration": 20,
    "start_time": "2023-11-16T14:43:30.046Z"
   },
   {
    "duration": 28,
    "start_time": "2023-11-16T14:43:30.068Z"
   },
   {
    "duration": 42,
    "start_time": "2023-11-16T14:43:30.100Z"
   },
   {
    "duration": 223,
    "start_time": "2023-11-16T14:43:30.144Z"
   },
   {
    "duration": 98,
    "start_time": "2023-11-16T14:43:30.369Z"
   },
   {
    "duration": 180,
    "start_time": "2023-11-16T14:43:30.469Z"
   },
   {
    "duration": 174,
    "start_time": "2023-11-16T14:43:30.651Z"
   },
   {
    "duration": 179,
    "start_time": "2023-11-16T14:43:30.827Z"
   },
   {
    "duration": 33,
    "start_time": "2023-11-16T14:43:31.008Z"
   },
   {
    "duration": 47,
    "start_time": "2023-11-16T14:43:31.044Z"
   },
   {
    "duration": 65,
    "start_time": "2023-11-16T14:43:31.093Z"
   },
   {
    "duration": 198,
    "start_time": "2023-11-16T14:43:31.160Z"
   },
   {
    "duration": 205,
    "start_time": "2023-11-16T14:43:31.360Z"
   },
   {
    "duration": 46,
    "start_time": "2023-11-16T14:43:31.568Z"
   },
   {
    "duration": 3,
    "start_time": "2023-11-16T14:43:31.617Z"
   },
   {
    "duration": 23,
    "start_time": "2023-11-16T14:43:31.622Z"
   },
   {
    "duration": 37,
    "start_time": "2023-11-16T14:43:31.647Z"
   },
   {
    "duration": 23,
    "start_time": "2023-11-16T14:43:31.685Z"
   },
   {
    "duration": 1578,
    "start_time": "2023-11-16T14:43:31.710Z"
   },
   {
    "duration": 6,
    "start_time": "2023-11-16T14:43:33.290Z"
   },
   {
    "duration": 3,
    "start_time": "2023-11-16T14:44:01.922Z"
   },
   {
    "duration": 145,
    "start_time": "2023-11-16T14:44:01.927Z"
   },
   {
    "duration": 10,
    "start_time": "2023-11-16T14:44:02.073Z"
   },
   {
    "duration": 18,
    "start_time": "2023-11-16T14:44:02.085Z"
   },
   {
    "duration": 34,
    "start_time": "2023-11-16T14:44:02.105Z"
   },
   {
    "duration": 12,
    "start_time": "2023-11-16T14:44:02.140Z"
   },
   {
    "duration": 25,
    "start_time": "2023-11-16T14:44:02.154Z"
   },
   {
    "duration": 12,
    "start_time": "2023-11-16T14:44:02.181Z"
   },
   {
    "duration": 30,
    "start_time": "2023-11-16T14:44:02.195Z"
   },
   {
    "duration": 44,
    "start_time": "2023-11-16T14:44:02.226Z"
   },
   {
    "duration": 13,
    "start_time": "2023-11-16T14:44:40.194Z"
   },
   {
    "duration": 8,
    "start_time": "2023-11-16T14:44:48.479Z"
   },
   {
    "duration": 9,
    "start_time": "2023-11-16T14:45:27.625Z"
   },
   {
    "duration": 8,
    "start_time": "2023-11-16T14:45:53.536Z"
   },
   {
    "duration": 63,
    "start_time": "2023-11-16T14:46:19.001Z"
   },
   {
    "duration": 9,
    "start_time": "2023-11-16T14:47:02.226Z"
   },
   {
    "duration": 14,
    "start_time": "2023-11-16T14:47:08.656Z"
   },
   {
    "duration": 8,
    "start_time": "2023-11-16T14:48:07.423Z"
   },
   {
    "duration": 14,
    "start_time": "2023-11-16T14:48:50.870Z"
   },
   {
    "duration": 6,
    "start_time": "2023-11-16T14:49:02.858Z"
   },
   {
    "duration": 15,
    "start_time": "2023-11-16T14:49:07.212Z"
   },
   {
    "duration": 14,
    "start_time": "2023-11-16T14:49:44.691Z"
   },
   {
    "duration": 14,
    "start_time": "2023-11-16T14:49:56.418Z"
   },
   {
    "duration": 15,
    "start_time": "2023-11-16T14:50:16.045Z"
   },
   {
    "duration": 17,
    "start_time": "2023-11-16T14:50:40.462Z"
   },
   {
    "duration": 12,
    "start_time": "2023-11-16T14:51:16.718Z"
   },
   {
    "duration": 16,
    "start_time": "2023-11-16T16:24:58.900Z"
   },
   {
    "duration": 31,
    "start_time": "2023-11-16T16:25:59.249Z"
   },
   {
    "duration": 32,
    "start_time": "2023-11-16T16:27:23.455Z"
   },
   {
    "duration": 19,
    "start_time": "2023-11-16T16:27:31.292Z"
   },
   {
    "duration": 17,
    "start_time": "2023-11-16T16:28:22.738Z"
   },
   {
    "duration": 14,
    "start_time": "2023-11-16T16:29:04.456Z"
   },
   {
    "duration": 18,
    "start_time": "2023-11-16T16:29:12.738Z"
   },
   {
    "duration": 18,
    "start_time": "2023-11-16T16:29:21.112Z"
   },
   {
    "duration": 18,
    "start_time": "2023-11-16T16:29:44.088Z"
   },
   {
    "duration": 37,
    "start_time": "2023-11-16T16:30:37.241Z"
   },
   {
    "duration": 21,
    "start_time": "2023-11-16T16:30:43.039Z"
   },
   {
    "duration": 19,
    "start_time": "2023-11-16T16:31:06.743Z"
   },
   {
    "duration": 8,
    "start_time": "2023-11-16T16:31:17.888Z"
   },
   {
    "duration": 8,
    "start_time": "2023-11-16T16:31:20.865Z"
   },
   {
    "duration": 300,
    "start_time": "2023-11-16T18:57:47.634Z"
   },
   {
    "duration": 143,
    "start_time": "2023-11-16T18:58:18.514Z"
   },
   {
    "duration": 145,
    "start_time": "2023-11-16T18:58:25.909Z"
   },
   {
    "duration": 312,
    "start_time": "2023-11-16T18:58:30.448Z"
   },
   {
    "duration": 212,
    "start_time": "2023-11-16T18:58:48.716Z"
   },
   {
    "duration": 182,
    "start_time": "2023-11-16T18:58:53.319Z"
   },
   {
    "duration": 172,
    "start_time": "2023-11-16T18:58:57.431Z"
   },
   {
    "duration": 22,
    "start_time": "2023-11-16T19:02:35.575Z"
   },
   {
    "duration": 10,
    "start_time": "2023-11-16T19:03:17.019Z"
   },
   {
    "duration": 341,
    "start_time": "2023-11-16T19:03:40.974Z"
   },
   {
    "duration": 148,
    "start_time": "2023-11-16T19:03:48.053Z"
   },
   {
    "duration": 149,
    "start_time": "2023-11-16T19:04:00.552Z"
   },
   {
    "duration": 136,
    "start_time": "2023-11-16T19:04:03.393Z"
   },
   {
    "duration": 2,
    "start_time": "2023-11-16T19:04:11.941Z"
   },
   {
    "duration": 138,
    "start_time": "2023-11-16T19:06:07.878Z"
   },
   {
    "duration": 3,
    "start_time": "2023-11-16T19:06:48.860Z"
   },
   {
    "duration": 8,
    "start_time": "2023-11-16T19:08:58.331Z"
   },
   {
    "duration": 21,
    "start_time": "2023-11-16T19:09:06.678Z"
   },
   {
    "duration": 10,
    "start_time": "2023-11-16T19:09:14.048Z"
   },
   {
    "duration": 10,
    "start_time": "2023-11-16T19:09:38.149Z"
   },
   {
    "duration": 6,
    "start_time": "2023-11-16T19:19:56.384Z"
   },
   {
    "duration": 18,
    "start_time": "2023-11-16T19:20:00.676Z"
   },
   {
    "duration": 8,
    "start_time": "2023-11-16T19:20:14.093Z"
   },
   {
    "duration": 9,
    "start_time": "2023-11-16T19:20:19.593Z"
   },
   {
    "duration": 14,
    "start_time": "2023-11-16T19:20:24.284Z"
   },
   {
    "duration": 17,
    "start_time": "2023-11-16T19:20:29.012Z"
   },
   {
    "duration": 11,
    "start_time": "2023-11-16T19:20:38.298Z"
   },
   {
    "duration": 13,
    "start_time": "2023-11-16T19:24:49.895Z"
   },
   {
    "duration": 13,
    "start_time": "2023-11-16T19:25:42.421Z"
   },
   {
    "duration": 7,
    "start_time": "2023-11-16T19:25:46.800Z"
   },
   {
    "duration": 1300,
    "start_time": "2023-11-17T11:04:41.794Z"
   },
   {
    "duration": 316,
    "start_time": "2023-11-17T11:04:43.096Z"
   },
   {
    "duration": 10,
    "start_time": "2023-11-17T11:04:43.413Z"
   },
   {
    "duration": 6,
    "start_time": "2023-11-17T11:04:43.424Z"
   },
   {
    "duration": 14,
    "start_time": "2023-11-17T11:04:43.432Z"
   },
   {
    "duration": 6,
    "start_time": "2023-11-17T11:04:43.448Z"
   },
   {
    "duration": 9,
    "start_time": "2023-11-17T11:04:43.455Z"
   },
   {
    "duration": 5,
    "start_time": "2023-11-17T11:04:43.466Z"
   },
   {
    "duration": 40,
    "start_time": "2023-11-17T11:04:43.473Z"
   },
   {
    "duration": 9,
    "start_time": "2023-11-17T11:04:43.516Z"
   },
   {
    "duration": 13,
    "start_time": "2023-11-17T11:04:43.527Z"
   },
   {
    "duration": 3,
    "start_time": "2023-11-17T11:04:43.541Z"
   },
   {
    "duration": 13,
    "start_time": "2023-11-17T11:04:43.545Z"
   },
   {
    "duration": 2,
    "start_time": "2023-11-17T11:04:43.560Z"
   },
   {
    "duration": 3,
    "start_time": "2023-11-17T11:04:43.564Z"
   },
   {
    "duration": 95,
    "start_time": "2023-11-17T11:04:43.569Z"
   },
   {
    "duration": 10,
    "start_time": "2023-11-17T11:46:05.477Z"
   },
   {
    "duration": 187,
    "start_time": "2023-11-17T11:46:16.143Z"
   },
   {
    "duration": 14,
    "start_time": "2023-11-17T11:47:10.432Z"
   },
   {
    "duration": 10,
    "start_time": "2023-11-17T11:48:44.397Z"
   },
   {
    "duration": 305,
    "start_time": "2023-11-17T11:48:48.563Z"
   },
   {
    "duration": 286,
    "start_time": "2023-11-17T11:49:27.768Z"
   },
   {
    "duration": 15,
    "start_time": "2023-11-17T11:49:49.720Z"
   },
   {
    "duration": 15,
    "start_time": "2023-11-17T11:50:07.869Z"
   },
   {
    "duration": 298,
    "start_time": "2023-11-17T11:50:15.919Z"
   },
   {
    "duration": 114,
    "start_time": "2023-11-17T11:51:19.963Z"
   },
   {
    "duration": 14,
    "start_time": "2023-11-17T11:51:26.101Z"
   },
   {
    "duration": 699,
    "start_time": "2023-11-17T11:52:09.245Z"
   },
   {
    "duration": 322,
    "start_time": "2023-11-17T11:53:30.539Z"
   },
   {
    "duration": 152,
    "start_time": "2023-11-17T11:54:16.628Z"
   },
   {
    "duration": 178,
    "start_time": "2023-11-17T11:55:11.951Z"
   },
   {
    "duration": 170,
    "start_time": "2023-11-17T11:55:46.209Z"
   },
   {
    "duration": 12,
    "start_time": "2023-11-17T11:56:59.502Z"
   },
   {
    "duration": 8,
    "start_time": "2023-11-17T11:57:20.714Z"
   },
   {
    "duration": 10,
    "start_time": "2023-11-17T11:57:59.928Z"
   },
   {
    "duration": 21,
    "start_time": "2023-11-17T11:59:01.985Z"
   },
   {
    "duration": 13,
    "start_time": "2023-11-17T11:59:04.826Z"
   },
   {
    "duration": 39,
    "start_time": "2023-11-17T12:01:19.794Z"
   },
   {
    "duration": 30,
    "start_time": "2023-11-17T12:02:40.226Z"
   },
   {
    "duration": 603,
    "start_time": "2023-11-17T12:03:04.703Z"
   },
   {
    "duration": 335,
    "start_time": "2023-11-17T12:03:19.414Z"
   },
   {
    "duration": 33,
    "start_time": "2023-11-17T12:04:09.067Z"
   },
   {
    "duration": 31,
    "start_time": "2023-11-17T12:04:48.081Z"
   },
   {
    "duration": 1518,
    "start_time": "2023-11-17T12:04:52.345Z"
   },
   {
    "duration": 38,
    "start_time": "2023-11-17T12:05:40.310Z"
   },
   {
    "duration": 34,
    "start_time": "2023-11-17T12:06:54.005Z"
   },
   {
    "duration": 34,
    "start_time": "2023-11-17T12:06:57.074Z"
   },
   {
    "duration": 33,
    "start_time": "2023-11-17T12:08:13.734Z"
   },
   {
    "duration": 32,
    "start_time": "2023-11-17T12:08:17.111Z"
   },
   {
    "duration": 30,
    "start_time": "2023-11-17T12:10:41.514Z"
   },
   {
    "duration": 27,
    "start_time": "2023-11-17T12:11:07.085Z"
   },
   {
    "duration": 1983,
    "start_time": "2023-11-17T12:11:47.253Z"
   },
   {
    "duration": 17,
    "start_time": "2023-11-17T12:12:21.850Z"
   },
   {
    "duration": 986,
    "start_time": "2023-11-17T12:12:38.953Z"
   },
   {
    "duration": 1092,
    "start_time": "2023-11-17T12:12:56.806Z"
   },
   {
    "duration": 3,
    "start_time": "2023-11-17T12:13:46.053Z"
   },
   {
    "duration": 207,
    "start_time": "2023-11-17T12:13:46.058Z"
   },
   {
    "duration": 10,
    "start_time": "2023-11-17T12:13:46.266Z"
   },
   {
    "duration": 6,
    "start_time": "2023-11-17T12:13:46.277Z"
   },
   {
    "duration": 18,
    "start_time": "2023-11-17T12:13:46.284Z"
   },
   {
    "duration": 8,
    "start_time": "2023-11-17T12:13:46.304Z"
   },
   {
    "duration": 9,
    "start_time": "2023-11-17T12:13:46.314Z"
   },
   {
    "duration": 6,
    "start_time": "2023-11-17T12:13:46.324Z"
   },
   {
    "duration": 4,
    "start_time": "2023-11-17T12:13:46.332Z"
   },
   {
    "duration": 9,
    "start_time": "2023-11-17T12:13:46.339Z"
   },
   {
    "duration": 12,
    "start_time": "2023-11-17T12:13:46.349Z"
   },
   {
    "duration": 4,
    "start_time": "2023-11-17T12:13:46.363Z"
   },
   {
    "duration": 12,
    "start_time": "2023-11-17T12:13:46.410Z"
   },
   {
    "duration": 3,
    "start_time": "2023-11-17T12:13:46.423Z"
   },
   {
    "duration": 3,
    "start_time": "2023-11-17T12:13:46.427Z"
   },
   {
    "duration": 5,
    "start_time": "2023-11-17T12:13:46.432Z"
   },
   {
    "duration": 14,
    "start_time": "2023-11-17T12:13:46.439Z"
   },
   {
    "duration": 191,
    "start_time": "2023-11-17T12:13:46.455Z"
   },
   {
    "duration": 1124,
    "start_time": "2023-11-17T12:13:46.648Z"
   },
   {
    "duration": 2187,
    "start_time": "2023-11-17T12:14:22.000Z"
   },
   {
    "duration": 1111,
    "start_time": "2023-11-17T12:14:51.349Z"
   },
   {
    "duration": 1189,
    "start_time": "2023-11-17T12:17:46.035Z"
   },
   {
    "duration": 242,
    "start_time": "2023-11-17T12:19:29.992Z"
   },
   {
    "duration": 233,
    "start_time": "2023-11-17T12:19:37.749Z"
   },
   {
    "duration": 175,
    "start_time": "2023-11-17T12:20:39.224Z"
   },
   {
    "duration": 261,
    "start_time": "2023-11-17T12:21:46.615Z"
   },
   {
    "duration": 189,
    "start_time": "2023-11-17T12:21:47.387Z"
   },
   {
    "duration": 11,
    "start_time": "2023-11-17T12:25:56.979Z"
   },
   {
    "duration": 8,
    "start_time": "2023-11-17T12:26:05.281Z"
   },
   {
    "duration": 158,
    "start_time": "2023-11-17T12:26:09.078Z"
   },
   {
    "duration": 2833,
    "start_time": "2023-11-17T12:40:53.354Z"
   },
   {
    "duration": 4339,
    "start_time": "2023-11-17T12:42:55.502Z"
   },
   {
    "duration": 137,
    "start_time": "2023-11-17T12:45:43.299Z"
   },
   {
    "duration": 12,
    "start_time": "2023-11-17T12:54:33.663Z"
   },
   {
    "duration": 8,
    "start_time": "2023-11-17T12:55:51.709Z"
   },
   {
    "duration": 147,
    "start_time": "2023-11-17T12:56:09.131Z"
   },
   {
    "duration": 138,
    "start_time": "2023-11-17T12:56:49.582Z"
   },
   {
    "duration": 12,
    "start_time": "2023-11-17T12:57:43.793Z"
   },
   {
    "duration": 97,
    "start_time": "2023-11-17T12:58:20.620Z"
   },
   {
    "duration": 274,
    "start_time": "2023-11-17T12:58:31.865Z"
   },
   {
    "duration": 141,
    "start_time": "2023-11-17T12:58:42.505Z"
   },
   {
    "duration": 143,
    "start_time": "2023-11-17T12:58:47.220Z"
   },
   {
    "duration": 141,
    "start_time": "2023-11-17T12:58:58.019Z"
   },
   {
    "duration": 146,
    "start_time": "2023-11-17T12:59:02.180Z"
   },
   {
    "duration": 269,
    "start_time": "2023-11-17T12:59:31.590Z"
   },
   {
    "duration": 200,
    "start_time": "2023-11-17T12:59:48.118Z"
   },
   {
    "duration": 211,
    "start_time": "2023-11-17T12:59:53.250Z"
   },
   {
    "duration": 234,
    "start_time": "2023-11-17T13:00:01.891Z"
   },
   {
    "duration": 29341,
    "start_time": "2023-11-17T13:00:53.575Z"
   },
   {
    "duration": 2968,
    "start_time": "2023-11-17T13:02:18.693Z"
   },
   {
    "duration": 5,
    "start_time": "2023-11-17T13:03:39.476Z"
   },
   {
    "duration": 1647,
    "start_time": "2023-11-17T13:05:49.210Z"
   },
   {
    "duration": 1418,
    "start_time": "2023-11-17T13:06:04.613Z"
   },
   {
    "duration": 1634,
    "start_time": "2023-11-17T13:06:21.833Z"
   },
   {
    "duration": 48,
    "start_time": "2023-11-19T06:59:32.188Z"
   },
   {
    "duration": 1389,
    "start_time": "2023-11-19T06:59:39.420Z"
   },
   {
    "duration": 277,
    "start_time": "2023-11-19T06:59:40.811Z"
   },
   {
    "duration": 10,
    "start_time": "2023-11-19T06:59:41.089Z"
   },
   {
    "duration": 6,
    "start_time": "2023-11-19T06:59:41.102Z"
   },
   {
    "duration": 44,
    "start_time": "2023-11-19T06:59:41.109Z"
   },
   {
    "duration": 5,
    "start_time": "2023-11-19T06:59:41.155Z"
   },
   {
    "duration": 9,
    "start_time": "2023-11-19T06:59:41.161Z"
   },
   {
    "duration": 6,
    "start_time": "2023-11-19T06:59:41.171Z"
   },
   {
    "duration": 4,
    "start_time": "2023-11-19T06:59:41.178Z"
   },
   {
    "duration": 7,
    "start_time": "2023-11-19T06:59:41.185Z"
   },
   {
    "duration": 16,
    "start_time": "2023-11-19T06:59:41.193Z"
   },
   {
    "duration": 2,
    "start_time": "2023-11-19T06:59:41.210Z"
   },
   {
    "duration": 45,
    "start_time": "2023-11-19T06:59:41.214Z"
   },
   {
    "duration": 4,
    "start_time": "2023-11-19T06:59:41.260Z"
   },
   {
    "duration": 4,
    "start_time": "2023-11-19T06:59:41.265Z"
   },
   {
    "duration": 9,
    "start_time": "2023-11-19T06:59:41.270Z"
   },
   {
    "duration": 12,
    "start_time": "2023-11-19T06:59:41.280Z"
   },
   {
    "duration": 153,
    "start_time": "2023-11-19T06:59:41.293Z"
   },
   {
    "duration": 168,
    "start_time": "2023-11-19T06:59:41.448Z"
   },
   {
    "duration": 2401,
    "start_time": "2023-11-19T06:59:41.617Z"
   },
   {
    "duration": 102,
    "start_time": "2023-11-19T06:59:44.019Z"
   },
   {
    "duration": 182,
    "start_time": "2023-11-19T06:59:44.122Z"
   },
   {
    "duration": 10,
    "start_time": "2023-11-19T06:59:44.305Z"
   },
   {
    "duration": 171,
    "start_time": "2023-11-19T06:59:44.316Z"
   },
   {
    "duration": 4,
    "start_time": "2023-11-19T06:59:44.489Z"
   },
   {
    "duration": 1427,
    "start_time": "2023-11-19T06:59:44.494Z"
   },
   {
    "duration": 13,
    "start_time": "2023-11-19T06:59:45.923Z"
   },
   {
    "duration": 11,
    "start_time": "2023-11-19T06:59:51.557Z"
   },
   {
    "duration": 110,
    "start_time": "2023-11-19T07:01:55.312Z"
   },
   {
    "duration": 8,
    "start_time": "2023-11-19T07:02:00.669Z"
   },
   {
    "duration": 5,
    "start_time": "2023-11-19T07:02:13.646Z"
   },
   {
    "duration": 4,
    "start_time": "2023-11-19T07:02:45.886Z"
   },
   {
    "duration": 11,
    "start_time": "2023-11-19T07:02:49.256Z"
   },
   {
    "duration": 6,
    "start_time": "2023-11-19T07:02:56.859Z"
   },
   {
    "duration": 4,
    "start_time": "2023-11-19T07:03:23.552Z"
   },
   {
    "duration": 10,
    "start_time": "2023-11-19T08:43:50.222Z"
   },
   {
    "duration": 5,
    "start_time": "2023-11-19T08:43:54.422Z"
   },
   {
    "duration": 3,
    "start_time": "2023-11-19T08:46:20.604Z"
   },
   {
    "duration": 102,
    "start_time": "2023-11-19T08:46:20.609Z"
   },
   {
    "duration": 8,
    "start_time": "2023-11-19T08:46:20.712Z"
   },
   {
    "duration": 13,
    "start_time": "2023-11-19T08:46:20.722Z"
   },
   {
    "duration": 10,
    "start_time": "2023-11-19T08:46:20.736Z"
   },
   {
    "duration": 7,
    "start_time": "2023-11-19T08:46:20.747Z"
   },
   {
    "duration": 7,
    "start_time": "2023-11-19T08:46:20.755Z"
   },
   {
    "duration": 6,
    "start_time": "2023-11-19T08:46:20.763Z"
   },
   {
    "duration": 3,
    "start_time": "2023-11-19T08:46:20.771Z"
   },
   {
    "duration": 8,
    "start_time": "2023-11-19T08:46:20.775Z"
   },
   {
    "duration": 9,
    "start_time": "2023-11-19T08:46:20.784Z"
   },
   {
    "duration": 11,
    "start_time": "2023-11-19T08:46:20.794Z"
   },
   {
    "duration": 13,
    "start_time": "2023-11-19T08:46:20.807Z"
   },
   {
    "duration": 147,
    "start_time": "2023-11-19T08:46:20.821Z"
   },
   {
    "duration": 121,
    "start_time": "2023-11-19T08:46:20.969Z"
   },
   {
    "duration": 11,
    "start_time": "2023-11-19T08:46:21.091Z"
   },
   {
    "duration": 8,
    "start_time": "2023-11-19T08:46:21.104Z"
   },
   {
    "duration": 158,
    "start_time": "2023-11-19T08:46:21.113Z"
   },
   {
    "duration": 241,
    "start_time": "2023-11-19T08:46:21.273Z"
   },
   {
    "duration": 2644,
    "start_time": "2023-11-19T08:46:21.516Z"
   },
   {
    "duration": 158,
    "start_time": "2023-11-19T08:46:24.162Z"
   },
   {
    "duration": 138,
    "start_time": "2023-11-19T08:46:24.322Z"
   },
   {
    "duration": 8,
    "start_time": "2023-11-19T08:46:24.461Z"
   },
   {
    "duration": 196,
    "start_time": "2023-11-19T08:46:24.472Z"
   },
   {
    "duration": 5,
    "start_time": "2023-11-19T08:46:24.670Z"
   },
   {
    "duration": 1539,
    "start_time": "2023-11-19T08:46:24.676Z"
   },
   {
    "duration": 13,
    "start_time": "2023-11-19T08:46:26.217Z"
   },
   {
    "duration": 23,
    "start_time": "2023-11-19T08:46:26.232Z"
   },
   {
    "duration": 7,
    "start_time": "2023-11-19T08:46:26.256Z"
   },
   {
    "duration": 8,
    "start_time": "2023-11-19T08:46:26.264Z"
   },
   {
    "duration": 11,
    "start_time": "2023-11-19T08:47:43.510Z"
   },
   {
    "duration": 4,
    "start_time": "2023-11-19T08:48:02.588Z"
   }
  ],
  "kernelspec": {
   "display_name": "Python 3 (ipykernel)",
   "language": "python",
   "name": "python3"
  },
  "language_info": {
   "codemirror_mode": {
    "name": "ipython",
    "version": 3
   },
   "file_extension": ".py",
   "mimetype": "text/x-python",
   "name": "python",
   "nbconvert_exporter": "python",
   "pygments_lexer": "ipython3",
   "version": "3.9.5"
  },
  "toc": {
   "base_numbering": 1,
   "nav_menu": {},
   "number_sections": true,
   "sideBar": true,
   "skip_h1_title": true,
   "title_cell": "Table of Contents",
   "title_sidebar": "Contents",
   "toc_cell": false,
   "toc_position": {},
   "toc_section_display": true,
   "toc_window_display": false
  }
 },
 "nbformat": 4,
 "nbformat_minor": 5
}
