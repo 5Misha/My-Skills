{
 "cells": [
  {
   "cell_type": "markdown",
   "metadata": {},
   "source": [
    "# Выбор локации для скважины"
   ]
  },
  {
   "cell_type": "markdown",
   "metadata": {},
   "source": [
    "## Описание проекта "
   ]
  },
  {
   "cell_type": "markdown",
   "metadata": {},
   "source": [
    "Допустим, вы работаете в добывающей компании «ГлавРосГосНефть». Нужно решить, где бурить новую скважину.\n",
    "\n",
    "Вам предоставлены пробы нефти в трёх регионах: в каждом 10 000 месторождений, где измерили качество нефти и объём её запасов. Постройте модель машинного обучения, которая поможет определить регион, где добыча принесёт наибольшую прибыль. Проанализируйте возможную прибыль и риски техникой *Bootstrap.*\n",
    "\n",
    "Шаги для выбора локации:\n",
    "\n",
    "- В избранном регионе ищут месторождения, для каждого определяют значения признаков;\n",
    "- Строят модель и оценивают объём запасов;\n",
    "- Выбирают месторождения с самым высокими оценками значений. Количество месторождений зависит от бюджета компании и стоимости разработки одной скважины;\n",
    "- Прибыль равна суммарной прибыли отобранных месторождений."
   ]
  },
  {
   "cell_type": "markdown",
   "metadata": {},
   "source": [
    "## Описание данных"
   ]
  },
  {
   "cell_type": "markdown",
   "metadata": {},
   "source": [
    "Данные геологоразведки трёх регионов находятся в трех файлах:\n",
    "- geo_data_0\n",
    "- geo_data_1\n",
    "- geo_data_2  \n",
    "\n",
    "Каждый файл описывается с помощью пяти столбцов и отвечает за определенный регион:\n",
    "- id — уникальный идентификатор скважины\n",
    "- f0, f1, f2 — три признака точек (неважно, что они означают, но сами признаки значимы)\n",
    "- product — объём запасов в скважине (тыс. баррелей)."
   ]
  },
  {
   "cell_type": "markdown",
   "metadata": {},
   "source": [
    "## Задача проекта"
   ]
  },
  {
   "cell_type": "markdown",
   "metadata": {},
   "source": [
    "Нам предоставлены пробы нефти в трёх регионах и их характеристики для каждой скважины. Нужно построить модель для определения региона, где добыча принесёт наибольшую прибыль, и проанализировать возможную прибыль и риски техникой Bootstrap. Это поможет выбрать лучший регион для бурения новых скважин, который будет удовлетворять условиям:\n",
    "- Для обучения модели подходит только линейная регрессия (остальные — недостаточно предсказуемые).\n",
    "- При разведке региона исследуют 500 точек, из которых с помощью машинного обучения выбирают 200 лучших для разработки.\n",
    "- Бюджет на разработку скважин в регионе — 10 млрд рублей.\n",
    "- При нынешних ценах один баррель сырья приносит 450 рублей дохода. Доход с каждой единицы продукта составляет 450 тыс. рублей, поскольку объём указан в тысячах баррелей.\n",
    "- После оценки рисков нужно оставить лишь те регионы, в которых вероятность убытков меньше 2.5%. Среди них выбирают регион с наибольшей средней прибылью."
   ]
  },
  {
   "cell_type": "markdown",
   "metadata": {},
   "source": [
    "## Установка и импорт библиотек"
   ]
  },
  {
   "cell_type": "code",
   "execution_count": 48,
   "metadata": {},
   "outputs": [
    {
     "name": "stdout",
     "output_type": "stream",
     "text": [
      "Requirement already satisfied: pandas in c:\\users\\zebra\\appdata\\local\\programs\\python\\python39\\lib\\site-packages (2.1.3)\n",
      "Requirement already satisfied: numpy<2,>=1.22.4 in c:\\users\\zebra\\appdata\\local\\programs\\python\\python39\\lib\\site-packages (from pandas) (1.26.2)\n",
      "Requirement already satisfied: python-dateutil>=2.8.2 in c:\\users\\zebra\\appdata\\local\\programs\\python\\python39\\lib\\site-packages (from pandas) (2.8.2)\n",
      "Requirement already satisfied: pytz>=2020.1 in c:\\users\\zebra\\appdata\\local\\programs\\python\\python39\\lib\\site-packages (from pandas) (2021.1)\n",
      "Requirement already satisfied: tzdata>=2022.1 in c:\\users\\zebra\\appdata\\local\\programs\\python\\python39\\lib\\site-packages (from pandas) (2023.3)\n",
      "Requirement already satisfied: six>=1.5 in c:\\users\\zebra\\appdata\\local\\programs\\python\\python39\\lib\\site-packages (from python-dateutil>=2.8.2->pandas) (1.16.0)\n"
     ]
    },
    {
     "name": "stderr",
     "output_type": "stream",
     "text": [
      "\n",
      "[notice] A new release of pip is available: 23.2.1 -> 24.0\n",
      "[notice] To update, run: python.exe -m pip install --upgrade pip\n"
     ]
    },
    {
     "name": "stdout",
     "output_type": "stream",
     "text": [
      "Requirement already satisfied: seaborn in c:\\users\\zebra\\appdata\\local\\programs\\python\\python39\\lib\\site-packages (0.13.0)\n",
      "Requirement already satisfied: numpy!=1.24.0,>=1.20 in c:\\users\\zebra\\appdata\\local\\programs\\python\\python39\\lib\\site-packages (from seaborn) (1.26.2)\n",
      "Requirement already satisfied: pandas>=1.2 in c:\\users\\zebra\\appdata\\local\\programs\\python\\python39\\lib\\site-packages (from seaborn) (2.1.3)\n",
      "Requirement already satisfied: matplotlib!=3.6.1,>=3.3 in c:\\users\\zebra\\appdata\\local\\programs\\python\\python39\\lib\\site-packages (from seaborn) (3.8.2)\n",
      "Requirement already satisfied: contourpy>=1.0.1 in c:\\users\\zebra\\appdata\\local\\programs\\python\\python39\\lib\\site-packages (from matplotlib!=3.6.1,>=3.3->seaborn) (1.2.0)\n",
      "Requirement already satisfied: cycler>=0.10 in c:\\users\\zebra\\appdata\\local\\programs\\python\\python39\\lib\\site-packages (from matplotlib!=3.6.1,>=3.3->seaborn) (0.12.1)\n",
      "Requirement already satisfied: fonttools>=4.22.0 in c:\\users\\zebra\\appdata\\local\\programs\\python\\python39\\lib\\site-packages (from matplotlib!=3.6.1,>=3.3->seaborn) (4.45.1)\n",
      "Requirement already satisfied: kiwisolver>=1.3.1 in c:\\users\\zebra\\appdata\\local\\programs\\python\\python39\\lib\\site-packages (from matplotlib!=3.6.1,>=3.3->seaborn) (1.4.5)\n",
      "Requirement already satisfied: packaging>=20.0 in c:\\users\\zebra\\appdata\\local\\programs\\python\\python39\\lib\\site-packages (from matplotlib!=3.6.1,>=3.3->seaborn) (23.1)\n",
      "Requirement already satisfied: pillow>=8 in c:\\users\\zebra\\appdata\\local\\programs\\python\\python39\\lib\\site-packages (from matplotlib!=3.6.1,>=3.3->seaborn) (8.4.0)\n",
      "Requirement already satisfied: pyparsing>=2.3.1 in c:\\users\\zebra\\appdata\\local\\programs\\python\\python39\\lib\\site-packages (from matplotlib!=3.6.1,>=3.3->seaborn) (2.4.7)\n",
      "Requirement already satisfied: python-dateutil>=2.7 in c:\\users\\zebra\\appdata\\local\\programs\\python\\python39\\lib\\site-packages (from matplotlib!=3.6.1,>=3.3->seaborn) (2.8.2)\n",
      "Requirement already satisfied: importlib-resources>=3.2.0 in c:\\users\\zebra\\appdata\\local\\programs\\python\\python39\\lib\\site-packages (from matplotlib!=3.6.1,>=3.3->seaborn) (6.1.1)\n",
      "Requirement already satisfied: pytz>=2020.1 in c:\\users\\zebra\\appdata\\local\\programs\\python\\python39\\lib\\site-packages (from pandas>=1.2->seaborn) (2021.1)\n",
      "Requirement already satisfied: tzdata>=2022.1 in c:\\users\\zebra\\appdata\\local\\programs\\python\\python39\\lib\\site-packages (from pandas>=1.2->seaborn) (2023.3)\n",
      "Requirement already satisfied: zipp>=3.1.0 in c:\\users\\zebra\\appdata\\local\\programs\\python\\python39\\lib\\site-packages (from importlib-resources>=3.2.0->matplotlib!=3.6.1,>=3.3->seaborn) (3.5.0)\n",
      "Requirement already satisfied: six>=1.5 in c:\\users\\zebra\\appdata\\local\\programs\\python\\python39\\lib\\site-packages (from python-dateutil>=2.7->matplotlib!=3.6.1,>=3.3->seaborn) (1.16.0)\n"
     ]
    },
    {
     "name": "stderr",
     "output_type": "stream",
     "text": [
      "\n",
      "[notice] A new release of pip is available: 23.2.1 -> 24.0\n",
      "[notice] To update, run: python.exe -m pip install --upgrade pip\n"
     ]
    },
    {
     "name": "stdout",
     "output_type": "stream",
     "text": [
      "Requirement already satisfied: matplotlib in c:\\users\\zebra\\appdata\\local\\programs\\python\\python39\\lib\\site-packages (3.8.2)\n",
      "Requirement already satisfied: contourpy>=1.0.1 in c:\\users\\zebra\\appdata\\local\\programs\\python\\python39\\lib\\site-packages (from matplotlib) (1.2.0)\n",
      "Requirement already satisfied: cycler>=0.10 in c:\\users\\zebra\\appdata\\local\\programs\\python\\python39\\lib\\site-packages (from matplotlib) (0.12.1)\n",
      "Requirement already satisfied: fonttools>=4.22.0 in c:\\users\\zebra\\appdata\\local\\programs\\python\\python39\\lib\\site-packages (from matplotlib) (4.45.1)\n",
      "Requirement already satisfied: kiwisolver>=1.3.1 in c:\\users\\zebra\\appdata\\local\\programs\\python\\python39\\lib\\site-packages (from matplotlib) (1.4.5)\n",
      "Requirement already satisfied: numpy<2,>=1.21 in c:\\users\\zebra\\appdata\\local\\programs\\python\\python39\\lib\\site-packages (from matplotlib) (1.26.2)\n",
      "Requirement already satisfied: packaging>=20.0 in c:\\users\\zebra\\appdata\\local\\programs\\python\\python39\\lib\\site-packages (from matplotlib) (23.1)\n",
      "Requirement already satisfied: pillow>=8 in c:\\users\\zebra\\appdata\\local\\programs\\python\\python39\\lib\\site-packages (from matplotlib) (8.4.0)\n",
      "Requirement already satisfied: pyparsing>=2.3.1 in c:\\users\\zebra\\appdata\\local\\programs\\python\\python39\\lib\\site-packages (from matplotlib) (2.4.7)\n",
      "Requirement already satisfied: python-dateutil>=2.7 in c:\\users\\zebra\\appdata\\local\\programs\\python\\python39\\lib\\site-packages (from matplotlib) (2.8.2)\n",
      "Requirement already satisfied: importlib-resources>=3.2.0 in c:\\users\\zebra\\appdata\\local\\programs\\python\\python39\\lib\\site-packages (from matplotlib) (6.1.1)\n",
      "Requirement already satisfied: zipp>=3.1.0 in c:\\users\\zebra\\appdata\\local\\programs\\python\\python39\\lib\\site-packages (from importlib-resources>=3.2.0->matplotlib) (3.5.0)\n",
      "Requirement already satisfied: six>=1.5 in c:\\users\\zebra\\appdata\\local\\programs\\python\\python39\\lib\\site-packages (from python-dateutil>=2.7->matplotlib) (1.16.0)\n"
     ]
    },
    {
     "name": "stderr",
     "output_type": "stream",
     "text": [
      "\n",
      "[notice] A new release of pip is available: 23.2.1 -> 24.0\n",
      "[notice] To update, run: python.exe -m pip install --upgrade pip\n"
     ]
    }
   ],
   "source": [
    "!pip install pandas\n",
    "!pip install seaborn\n",
    "!pip install matplotlib"
   ]
  },
  {
   "cell_type": "code",
   "execution_count": 49,
   "metadata": {},
   "outputs": [],
   "source": [
    "import pandas as pd\n",
    "import numpy as np\n",
    "import seaborn as sns\n",
    "import matplotlib.pyplot as plt\n",
    "# Обучение модели\n",
    "from sklearn.linear_model import LinearRegression\n",
    "from sklearn.model_selection import train_test_split\n",
    "from sklearn.preprocessing import StandardScaler\n",
    "from sklearn.metrics import mean_squared_error"
   ]
  },
  {
   "cell_type": "markdown",
   "metadata": {},
   "source": [
    "## Используемые функции"
   ]
  },
  {
   "cell_type": "code",
   "execution_count": 50,
   "metadata": {},
   "outputs": [],
   "source": [
    "# Оптимизация числовых типов данных\n",
    "def optimize_memory_usage(df: pd.DataFrame, print_size: bool=True) -> pd.DataFrame:\n",
    "    numerics = ['int16', 'int32', 'int64', 'float16', 'float32', 'float64'] # Типы, которые будем проверять на оптимизацию\n",
    "    # Размер занимаемой памяти до оптимизации (в Мб)\n",
    "    before_size = df.memory_usage().sum() / 1024**2    \n",
    "    for column in df.columns:\n",
    "        column_type = df[column].dtypes\n",
    "        if column_type in numerics:\n",
    "            column_min = df[column].min()\n",
    "            column_max = df[column].max()\n",
    "            if str(column_type).startswith('int'):\n",
    "                if column_min > np.iinfo(np.int8).min and column_max < np.iinfo(np.int8).max:\n",
    "                    df[column] = df[column].astype(np.int8)\n",
    "                elif column_min > np.iinfo(np.int16).min and column_max < np.iinfo(np.int16).max:\n",
    "                    df[column] = df[column].astype(np.int16)\n",
    "                elif column_min > np.iinfo(np.int32).min and column_max < np.iinfo(np.int32).max:\n",
    "                    df[column] = df[column].astype(np.int32)\n",
    "                elif column_min > np.iinfo(np.int64).min and column_max < np.iinfo(np.int64).max:\n",
    "                    df[column] = df[column].astype(np.int64)  \n",
    "            else:\n",
    "                if column_min > np.finfo(np.float32).min and column_max < np.finfo(np.float32).max:\n",
    "                    df[column] = df[column].astype(np.float32)\n",
    "                else:\n",
    "                    df[column] = df[column].astype(np.float64)    \n",
    "    # Размер занимаемой памяти после оптимизации (в Мб)\n",
    "    after_size = df.memory_usage().sum() / 1024**2\n",
    "    if print_size: print('Размер использования памяти: до {:5.2f} Mb - после {:5.2f} Mb ({:.1f}%)'\n",
    "                         .format(before_size, after_size, 100 * (before_size - after_size) / before_size))\n",
    "    return df\n",
    "\n",
    "\n",
    "\n",
    "# Вывод различной информации о таблице\n",
    "def analiz(df, dubli):\n",
    "    df.info()\n",
    "    print()\n",
    "    display(df.describe())\n",
    "    print()\n",
    "    print('Кол-во пропусков в таблице')\n",
    "    display(df.isna().sum())\n",
    "    print()\n",
    "    print('Кол-во дубликатов в таблице')\n",
    "    display(df.duplicated().sum())\n",
    "    print()\n",
    "    print('Проверка на неявные дубликаты')\n",
    "    if dubli == None:\n",
    "        print('Нечего проверять')\n",
    "    print()\n",
    "    print()\n",
    "    print()\n",
    "    \n",
    "\n",
    "\n",
    "# Функция для построения гистограмм и ящиков с усами для каждого признака\n",
    "def numbers_plot(df):\n",
    "    sns.set(font_scale=1.2)\n",
    "    df_columns = df.columns\n",
    "    fig, axs = plt.subplots(len(df_columns), 2, figsize=(11, 14))\n",
    "    \n",
    "    for i in range(len(df_columns)):\n",
    "        column = df_columns[i]\n",
    "        sns.histplot(data = df, x = column, ax = axs[i, 0], stat='density', common_norm=False)\n",
    "        axs[i, 0].set_title(column)\n",
    "        \n",
    "        sns.boxplot(x = df[column], ax = axs[i, 1])\n",
    "        axs[i, 1].set_title(column)\n",
    "    \n",
    "    plt.tight_layout()\n",
    "    plt.show()\n",
    "    \n",
    "    \n",
    "    \n",
    "    \n",
    "def borders(df, column):\n",
    "    # Рассчитаем первый и третий квантили\n",
    "    Q1 = df[column].quantile(0.25)\n",
    "    Q3 = df[column].quantile(0.75)\n",
    "    # Межквартальный размех\n",
    "    dQ = Q3 - Q1\n",
    "    # Границы выбросов\n",
    "    Q1_del = Q1 - dQ * 1.5\n",
    "    print('Нижняя граница выбросов: ', Q1_del)\n",
    "    Q3_del = Q3 + dQ * 1.5\n",
    "    print('Верхняя граница выбросов: ', Q3_del)\n",
    "    \n",
    "    \n",
    "    \n",
    "def model(df):\n",
    "    RANDOM_STATE = 42\n",
    "    TEST_SIZE=0.25\n",
    "\n",
    "    X = df.drop('product', axis = 1)\n",
    "    y = df['product']\n",
    "\n",
    "    X_train, X_test, y_train, y_test = train_test_split(X, y, random_state = RANDOM_STATE, test_size = TEST_SIZE)\n",
    "\n",
    "    scaler = StandardScaler()\n",
    "    X_train_scaler = scaler.fit_transform(X_train)\n",
    "    X_test_scaler = scaler.transform(X_test)\n",
    "\n",
    "    model_lr = LinearRegression()\n",
    "    model_lr.fit(X_train, y_train)\n",
    "    \n",
    "\n",
    "    predict = model_lr.predict(X_test)\n",
    "    predict_mean = predict.mean()\n",
    "    print('Среднее предикта: ', predict_mean)\n",
    "\n",
    "    rmse = mean_squared_error(y_test, predict, squared = False)\n",
    "    print('Метрика RMSE: ',rmse)\n",
    "\n",
    "    error = rmse * 100 / predict_mean\n",
    "    print('Процент разброса ошибки: ', error)\n",
    "    \n",
    "    return predict, predict_mean, rmse, error, y_test\n",
    "\n",
    "\n",
    "\n",
    "\n",
    "def profit(df, predict, y_test):\n",
    "    df = df.sort_values(by = predict, ascending = False)\n",
    "    df.reset_index(inplace=True, drop=True)\n",
    "    df = df.loc[0:199, :]\n",
    "    money = ((df[y_test].sum() * 450000) / 10**9) - 10\n",
    "    return money"
   ]
  },
  {
   "cell_type": "markdown",
   "metadata": {},
   "source": [
    "## Загрузка и подготовка данных"
   ]
  },
  {
   "cell_type": "markdown",
   "metadata": {},
   "source": [
    "Разделим этап на несколько подэтапов:\n",
    "- Загрузка данных\n",
    "- Предобработка данных\n",
    "- Исследовательский анализ"
   ]
  },
  {
   "cell_type": "markdown",
   "metadata": {},
   "source": [
    "### Загрузка данных"
   ]
  },
  {
   "cell_type": "markdown",
   "metadata": {},
   "source": [
    "Загрузим и посмотрим на наши данные"
   ]
  },
  {
   "cell_type": "code",
   "execution_count": 51,
   "metadata": {
    "scrolled": true
   },
   "outputs": [
    {
     "name": "stdout",
     "output_type": "stream",
     "text": [
      "<class 'pandas.core.frame.DataFrame'>\n",
      "RangeIndex: 100000 entries, 0 to 99999\n",
      "Data columns (total 5 columns):\n",
      " #   Column   Non-Null Count   Dtype  \n",
      "---  ------   --------------   -----  \n",
      " 0   id       100000 non-null  object \n",
      " 1   f0       100000 non-null  float64\n",
      " 2   f1       100000 non-null  float64\n",
      " 3   f2       100000 non-null  float64\n",
      " 4   product  100000 non-null  float64\n",
      "dtypes: float64(4), object(1)\n",
      "memory usage: 3.8+ MB\n"
     ]
    },
    {
     "data": {
      "text/html": [
       "<div>\n",
       "<style scoped>\n",
       "    .dataframe tbody tr th:only-of-type {\n",
       "        vertical-align: middle;\n",
       "    }\n",
       "\n",
       "    .dataframe tbody tr th {\n",
       "        vertical-align: top;\n",
       "    }\n",
       "\n",
       "    .dataframe thead th {\n",
       "        text-align: right;\n",
       "    }\n",
       "</style>\n",
       "<table border=\"1\" class=\"dataframe\">\n",
       "  <thead>\n",
       "    <tr style=\"text-align: right;\">\n",
       "      <th></th>\n",
       "      <th>id</th>\n",
       "      <th>f0</th>\n",
       "      <th>f1</th>\n",
       "      <th>f2</th>\n",
       "      <th>product</th>\n",
       "    </tr>\n",
       "  </thead>\n",
       "  <tbody>\n",
       "    <tr>\n",
       "      <th>0</th>\n",
       "      <td>txEyH</td>\n",
       "      <td>0.705745</td>\n",
       "      <td>-0.497823</td>\n",
       "      <td>1.221170</td>\n",
       "      <td>105.280062</td>\n",
       "    </tr>\n",
       "    <tr>\n",
       "      <th>1</th>\n",
       "      <td>2acmU</td>\n",
       "      <td>1.334711</td>\n",
       "      <td>-0.340164</td>\n",
       "      <td>4.365080</td>\n",
       "      <td>73.037750</td>\n",
       "    </tr>\n",
       "    <tr>\n",
       "      <th>2</th>\n",
       "      <td>409Wp</td>\n",
       "      <td>1.022732</td>\n",
       "      <td>0.151990</td>\n",
       "      <td>1.419926</td>\n",
       "      <td>85.265647</td>\n",
       "    </tr>\n",
       "    <tr>\n",
       "      <th>3</th>\n",
       "      <td>iJLyR</td>\n",
       "      <td>-0.032172</td>\n",
       "      <td>0.139033</td>\n",
       "      <td>2.978566</td>\n",
       "      <td>168.620776</td>\n",
       "    </tr>\n",
       "    <tr>\n",
       "      <th>4</th>\n",
       "      <td>Xdl7t</td>\n",
       "      <td>1.988431</td>\n",
       "      <td>0.155413</td>\n",
       "      <td>4.751769</td>\n",
       "      <td>154.036647</td>\n",
       "    </tr>\n",
       "  </tbody>\n",
       "</table>\n",
       "</div>"
      ],
      "text/plain": [
       "      id        f0        f1        f2     product\n",
       "0  txEyH  0.705745 -0.497823  1.221170  105.280062\n",
       "1  2acmU  1.334711 -0.340164  4.365080   73.037750\n",
       "2  409Wp  1.022732  0.151990  1.419926   85.265647\n",
       "3  iJLyR -0.032172  0.139033  2.978566  168.620776\n",
       "4  Xdl7t  1.988431  0.155413  4.751769  154.036647"
      ]
     },
     "metadata": {},
     "output_type": "display_data"
    },
    {
     "data": {
      "text/plain": [
       "(100000, 5)"
      ]
     },
     "metadata": {},
     "output_type": "display_data"
    },
    {
     "data": {
      "text/plain": [
       "None"
      ]
     },
     "metadata": {},
     "output_type": "display_data"
    },
    {
     "name": "stdout",
     "output_type": "stream",
     "text": [
      "<class 'pandas.core.frame.DataFrame'>\n",
      "RangeIndex: 100000 entries, 0 to 99999\n",
      "Data columns (total 5 columns):\n",
      " #   Column   Non-Null Count   Dtype  \n",
      "---  ------   --------------   -----  \n",
      " 0   id       100000 non-null  object \n",
      " 1   f0       100000 non-null  float64\n",
      " 2   f1       100000 non-null  float64\n",
      " 3   f2       100000 non-null  float64\n",
      " 4   product  100000 non-null  float64\n",
      "dtypes: float64(4), object(1)\n",
      "memory usage: 3.8+ MB\n"
     ]
    },
    {
     "data": {
      "text/html": [
       "<div>\n",
       "<style scoped>\n",
       "    .dataframe tbody tr th:only-of-type {\n",
       "        vertical-align: middle;\n",
       "    }\n",
       "\n",
       "    .dataframe tbody tr th {\n",
       "        vertical-align: top;\n",
       "    }\n",
       "\n",
       "    .dataframe thead th {\n",
       "        text-align: right;\n",
       "    }\n",
       "</style>\n",
       "<table border=\"1\" class=\"dataframe\">\n",
       "  <thead>\n",
       "    <tr style=\"text-align: right;\">\n",
       "      <th></th>\n",
       "      <th>id</th>\n",
       "      <th>f0</th>\n",
       "      <th>f1</th>\n",
       "      <th>f2</th>\n",
       "      <th>product</th>\n",
       "    </tr>\n",
       "  </thead>\n",
       "  <tbody>\n",
       "    <tr>\n",
       "      <th>0</th>\n",
       "      <td>kBEdx</td>\n",
       "      <td>-15.001348</td>\n",
       "      <td>-8.276000</td>\n",
       "      <td>-0.005876</td>\n",
       "      <td>3.179103</td>\n",
       "    </tr>\n",
       "    <tr>\n",
       "      <th>1</th>\n",
       "      <td>62mP7</td>\n",
       "      <td>14.272088</td>\n",
       "      <td>-3.475083</td>\n",
       "      <td>0.999183</td>\n",
       "      <td>26.953261</td>\n",
       "    </tr>\n",
       "    <tr>\n",
       "      <th>2</th>\n",
       "      <td>vyE1P</td>\n",
       "      <td>6.263187</td>\n",
       "      <td>-5.948386</td>\n",
       "      <td>5.001160</td>\n",
       "      <td>134.766305</td>\n",
       "    </tr>\n",
       "    <tr>\n",
       "      <th>3</th>\n",
       "      <td>KcrkZ</td>\n",
       "      <td>-13.081196</td>\n",
       "      <td>-11.506057</td>\n",
       "      <td>4.999415</td>\n",
       "      <td>137.945408</td>\n",
       "    </tr>\n",
       "    <tr>\n",
       "      <th>4</th>\n",
       "      <td>AHL4O</td>\n",
       "      <td>12.702195</td>\n",
       "      <td>-8.147433</td>\n",
       "      <td>5.004363</td>\n",
       "      <td>134.766305</td>\n",
       "    </tr>\n",
       "  </tbody>\n",
       "</table>\n",
       "</div>"
      ],
      "text/plain": [
       "      id         f0         f1        f2     product\n",
       "0  kBEdx -15.001348  -8.276000 -0.005876    3.179103\n",
       "1  62mP7  14.272088  -3.475083  0.999183   26.953261\n",
       "2  vyE1P   6.263187  -5.948386  5.001160  134.766305\n",
       "3  KcrkZ -13.081196 -11.506057  4.999415  137.945408\n",
       "4  AHL4O  12.702195  -8.147433  5.004363  134.766305"
      ]
     },
     "metadata": {},
     "output_type": "display_data"
    },
    {
     "data": {
      "text/plain": [
       "(100000, 5)"
      ]
     },
     "metadata": {},
     "output_type": "display_data"
    },
    {
     "data": {
      "text/plain": [
       "None"
      ]
     },
     "metadata": {},
     "output_type": "display_data"
    },
    {
     "name": "stdout",
     "output_type": "stream",
     "text": [
      "<class 'pandas.core.frame.DataFrame'>\n",
      "RangeIndex: 100000 entries, 0 to 99999\n",
      "Data columns (total 5 columns):\n",
      " #   Column   Non-Null Count   Dtype  \n",
      "---  ------   --------------   -----  \n",
      " 0   id       100000 non-null  object \n",
      " 1   f0       100000 non-null  float64\n",
      " 2   f1       100000 non-null  float64\n",
      " 3   f2       100000 non-null  float64\n",
      " 4   product  100000 non-null  float64\n",
      "dtypes: float64(4), object(1)\n",
      "memory usage: 3.8+ MB\n"
     ]
    },
    {
     "data": {
      "text/html": [
       "<div>\n",
       "<style scoped>\n",
       "    .dataframe tbody tr th:only-of-type {\n",
       "        vertical-align: middle;\n",
       "    }\n",
       "\n",
       "    .dataframe tbody tr th {\n",
       "        vertical-align: top;\n",
       "    }\n",
       "\n",
       "    .dataframe thead th {\n",
       "        text-align: right;\n",
       "    }\n",
       "</style>\n",
       "<table border=\"1\" class=\"dataframe\">\n",
       "  <thead>\n",
       "    <tr style=\"text-align: right;\">\n",
       "      <th></th>\n",
       "      <th>id</th>\n",
       "      <th>f0</th>\n",
       "      <th>f1</th>\n",
       "      <th>f2</th>\n",
       "      <th>product</th>\n",
       "    </tr>\n",
       "  </thead>\n",
       "  <tbody>\n",
       "    <tr>\n",
       "      <th>0</th>\n",
       "      <td>fwXo0</td>\n",
       "      <td>-1.146987</td>\n",
       "      <td>0.963328</td>\n",
       "      <td>-0.828965</td>\n",
       "      <td>27.758673</td>\n",
       "    </tr>\n",
       "    <tr>\n",
       "      <th>1</th>\n",
       "      <td>WJtFt</td>\n",
       "      <td>0.262778</td>\n",
       "      <td>0.269839</td>\n",
       "      <td>-2.530187</td>\n",
       "      <td>56.069697</td>\n",
       "    </tr>\n",
       "    <tr>\n",
       "      <th>2</th>\n",
       "      <td>ovLUW</td>\n",
       "      <td>0.194587</td>\n",
       "      <td>0.289035</td>\n",
       "      <td>-5.586433</td>\n",
       "      <td>62.871910</td>\n",
       "    </tr>\n",
       "    <tr>\n",
       "      <th>3</th>\n",
       "      <td>q6cA6</td>\n",
       "      <td>2.236060</td>\n",
       "      <td>-0.553760</td>\n",
       "      <td>0.930038</td>\n",
       "      <td>114.572842</td>\n",
       "    </tr>\n",
       "    <tr>\n",
       "      <th>4</th>\n",
       "      <td>WPMUX</td>\n",
       "      <td>-0.515993</td>\n",
       "      <td>1.716266</td>\n",
       "      <td>5.899011</td>\n",
       "      <td>149.600746</td>\n",
       "    </tr>\n",
       "  </tbody>\n",
       "</table>\n",
       "</div>"
      ],
      "text/plain": [
       "      id        f0        f1        f2     product\n",
       "0  fwXo0 -1.146987  0.963328 -0.828965   27.758673\n",
       "1  WJtFt  0.262778  0.269839 -2.530187   56.069697\n",
       "2  ovLUW  0.194587  0.289035 -5.586433   62.871910\n",
       "3  q6cA6  2.236060 -0.553760  0.930038  114.572842\n",
       "4  WPMUX -0.515993  1.716266  5.899011  149.600746"
      ]
     },
     "metadata": {},
     "output_type": "display_data"
    },
    {
     "data": {
      "text/plain": [
       "(100000, 5)"
      ]
     },
     "metadata": {},
     "output_type": "display_data"
    },
    {
     "data": {
      "text/plain": [
       "None"
      ]
     },
     "metadata": {},
     "output_type": "display_data"
    }
   ],
   "source": [
    "# Тренировочная выборка:\n",
    "geo_data_0 = pd.read_csv('geo_data_0.csv')\n",
    "display(geo_data_0.head(), geo_data_0.shape, geo_data_0.info())\n",
    "# Входные признаки тестовой выборки:\n",
    "geo_data_1 = pd.read_csv('geo_data_1.csv')\n",
    "display(geo_data_1.head(), geo_data_1.shape, geo_data_1.info())\n",
    "# Целевой признак тестовой выборки:\n",
    "geo_data_2 = pd.read_csv('geo_data_2.csv')\n",
    "display(geo_data_2.head(), geo_data_2.shape, geo_data_2.info())"
   ]
  },
  {
   "cell_type": "markdown",
   "metadata": {},
   "source": [
    "На первый взгляд в глаза бросается id, так как он состоит из не только из чисел, но и из букв. Это немного неприятно, но с этим ничего не поделать. Следующие три столбца не целые и могут принимать отрицательные значения. Последний столбец тоже не целый, но, видимо, без отрицательных значений. Во всех таблицах у первого столбца тип object, а у остальных float64. Объемы данных достаточно большие, поэтому их стоит оптимизировать с помощью функции optimize_memory_usage(). Этим мы займемся на предобработке данных"
   ]
  },
  {
   "cell_type": "markdown",
   "metadata": {},
   "source": [
    "### Предобработка данных"
   ]
  },
  {
   "cell_type": "code",
   "execution_count": 52,
   "metadata": {},
   "outputs": [
    {
     "name": "stdout",
     "output_type": "stream",
     "text": [
      "Для таблицы: geo_data_0\n",
      "Размер использования памяти: до  3.81 Mb - после  2.29 Mb (40.0%)\n"
     ]
    },
    {
     "data": {
      "text/html": [
       "<div>\n",
       "<style scoped>\n",
       "    .dataframe tbody tr th:only-of-type {\n",
       "        vertical-align: middle;\n",
       "    }\n",
       "\n",
       "    .dataframe tbody tr th {\n",
       "        vertical-align: top;\n",
       "    }\n",
       "\n",
       "    .dataframe thead th {\n",
       "        text-align: right;\n",
       "    }\n",
       "</style>\n",
       "<table border=\"1\" class=\"dataframe\">\n",
       "  <thead>\n",
       "    <tr style=\"text-align: right;\">\n",
       "      <th></th>\n",
       "      <th>id</th>\n",
       "      <th>f0</th>\n",
       "      <th>f1</th>\n",
       "      <th>f2</th>\n",
       "      <th>product</th>\n",
       "    </tr>\n",
       "  </thead>\n",
       "  <tbody>\n",
       "    <tr>\n",
       "      <th>0</th>\n",
       "      <td>txEyH</td>\n",
       "      <td>0.705745</td>\n",
       "      <td>-0.497822</td>\n",
       "      <td>1.221170</td>\n",
       "      <td>105.280060</td>\n",
       "    </tr>\n",
       "    <tr>\n",
       "      <th>1</th>\n",
       "      <td>2acmU</td>\n",
       "      <td>1.334711</td>\n",
       "      <td>-0.340164</td>\n",
       "      <td>4.365080</td>\n",
       "      <td>73.037750</td>\n",
       "    </tr>\n",
       "    <tr>\n",
       "      <th>2</th>\n",
       "      <td>409Wp</td>\n",
       "      <td>1.022732</td>\n",
       "      <td>0.151990</td>\n",
       "      <td>1.419926</td>\n",
       "      <td>85.265648</td>\n",
       "    </tr>\n",
       "    <tr>\n",
       "      <th>3</th>\n",
       "      <td>iJLyR</td>\n",
       "      <td>-0.032172</td>\n",
       "      <td>0.139033</td>\n",
       "      <td>2.978566</td>\n",
       "      <td>168.620773</td>\n",
       "    </tr>\n",
       "    <tr>\n",
       "      <th>4</th>\n",
       "      <td>Xdl7t</td>\n",
       "      <td>1.988431</td>\n",
       "      <td>0.155413</td>\n",
       "      <td>4.751769</td>\n",
       "      <td>154.036652</td>\n",
       "    </tr>\n",
       "    <tr>\n",
       "      <th>...</th>\n",
       "      <td>...</td>\n",
       "      <td>...</td>\n",
       "      <td>...</td>\n",
       "      <td>...</td>\n",
       "      <td>...</td>\n",
       "    </tr>\n",
       "    <tr>\n",
       "      <th>99995</th>\n",
       "      <td>DLsed</td>\n",
       "      <td>0.971957</td>\n",
       "      <td>0.370953</td>\n",
       "      <td>6.075346</td>\n",
       "      <td>110.744026</td>\n",
       "    </tr>\n",
       "    <tr>\n",
       "      <th>99996</th>\n",
       "      <td>QKivN</td>\n",
       "      <td>1.392429</td>\n",
       "      <td>-0.382606</td>\n",
       "      <td>1.273912</td>\n",
       "      <td>122.346840</td>\n",
       "    </tr>\n",
       "    <tr>\n",
       "      <th>99997</th>\n",
       "      <td>3rnvd</td>\n",
       "      <td>1.029585</td>\n",
       "      <td>0.018787</td>\n",
       "      <td>-1.348308</td>\n",
       "      <td>64.375443</td>\n",
       "    </tr>\n",
       "    <tr>\n",
       "      <th>99998</th>\n",
       "      <td>7kl59</td>\n",
       "      <td>0.998163</td>\n",
       "      <td>-0.528582</td>\n",
       "      <td>1.583869</td>\n",
       "      <td>74.040764</td>\n",
       "    </tr>\n",
       "    <tr>\n",
       "      <th>99999</th>\n",
       "      <td>1CWhH</td>\n",
       "      <td>1.764754</td>\n",
       "      <td>-0.266417</td>\n",
       "      <td>5.722849</td>\n",
       "      <td>149.633240</td>\n",
       "    </tr>\n",
       "  </tbody>\n",
       "</table>\n",
       "<p>100000 rows × 5 columns</p>\n",
       "</div>"
      ],
      "text/plain": [
       "          id        f0        f1        f2     product\n",
       "0      txEyH  0.705745 -0.497822  1.221170  105.280060\n",
       "1      2acmU  1.334711 -0.340164  4.365080   73.037750\n",
       "2      409Wp  1.022732  0.151990  1.419926   85.265648\n",
       "3      iJLyR -0.032172  0.139033  2.978566  168.620773\n",
       "4      Xdl7t  1.988431  0.155413  4.751769  154.036652\n",
       "...      ...       ...       ...       ...         ...\n",
       "99995  DLsed  0.971957  0.370953  6.075346  110.744026\n",
       "99996  QKivN  1.392429 -0.382606  1.273912  122.346840\n",
       "99997  3rnvd  1.029585  0.018787 -1.348308   64.375443\n",
       "99998  7kl59  0.998163 -0.528582  1.583869   74.040764\n",
       "99999  1CWhH  1.764754 -0.266417  5.722849  149.633240\n",
       "\n",
       "[100000 rows x 5 columns]"
      ]
     },
     "metadata": {},
     "output_type": "display_data"
    },
    {
     "name": "stdout",
     "output_type": "stream",
     "text": [
      "\n",
      "Для таблицы: geo_data_1\n",
      "Размер использования памяти: до  3.81 Mb - после  2.29 Mb (40.0%)\n"
     ]
    },
    {
     "data": {
      "text/html": [
       "<div>\n",
       "<style scoped>\n",
       "    .dataframe tbody tr th:only-of-type {\n",
       "        vertical-align: middle;\n",
       "    }\n",
       "\n",
       "    .dataframe tbody tr th {\n",
       "        vertical-align: top;\n",
       "    }\n",
       "\n",
       "    .dataframe thead th {\n",
       "        text-align: right;\n",
       "    }\n",
       "</style>\n",
       "<table border=\"1\" class=\"dataframe\">\n",
       "  <thead>\n",
       "    <tr style=\"text-align: right;\">\n",
       "      <th></th>\n",
       "      <th>id</th>\n",
       "      <th>f0</th>\n",
       "      <th>f1</th>\n",
       "      <th>f2</th>\n",
       "      <th>product</th>\n",
       "    </tr>\n",
       "  </thead>\n",
       "  <tbody>\n",
       "    <tr>\n",
       "      <th>0</th>\n",
       "      <td>kBEdx</td>\n",
       "      <td>-15.001348</td>\n",
       "      <td>-8.276000</td>\n",
       "      <td>-0.005876</td>\n",
       "      <td>3.179103</td>\n",
       "    </tr>\n",
       "    <tr>\n",
       "      <th>1</th>\n",
       "      <td>62mP7</td>\n",
       "      <td>14.272088</td>\n",
       "      <td>-3.475083</td>\n",
       "      <td>0.999183</td>\n",
       "      <td>26.953260</td>\n",
       "    </tr>\n",
       "    <tr>\n",
       "      <th>2</th>\n",
       "      <td>vyE1P</td>\n",
       "      <td>6.263187</td>\n",
       "      <td>-5.948386</td>\n",
       "      <td>5.001160</td>\n",
       "      <td>134.766312</td>\n",
       "    </tr>\n",
       "    <tr>\n",
       "      <th>3</th>\n",
       "      <td>KcrkZ</td>\n",
       "      <td>-13.081196</td>\n",
       "      <td>-11.506057</td>\n",
       "      <td>4.999415</td>\n",
       "      <td>137.945404</td>\n",
       "    </tr>\n",
       "    <tr>\n",
       "      <th>4</th>\n",
       "      <td>AHL4O</td>\n",
       "      <td>12.702195</td>\n",
       "      <td>-8.147433</td>\n",
       "      <td>5.004363</td>\n",
       "      <td>134.766312</td>\n",
       "    </tr>\n",
       "    <tr>\n",
       "      <th>...</th>\n",
       "      <td>...</td>\n",
       "      <td>...</td>\n",
       "      <td>...</td>\n",
       "      <td>...</td>\n",
       "      <td>...</td>\n",
       "    </tr>\n",
       "    <tr>\n",
       "      <th>99995</th>\n",
       "      <td>QywKC</td>\n",
       "      <td>9.535638</td>\n",
       "      <td>-6.878139</td>\n",
       "      <td>1.998296</td>\n",
       "      <td>53.906521</td>\n",
       "    </tr>\n",
       "    <tr>\n",
       "      <th>99996</th>\n",
       "      <td>ptvty</td>\n",
       "      <td>-10.160631</td>\n",
       "      <td>-12.558096</td>\n",
       "      <td>5.005580</td>\n",
       "      <td>137.945404</td>\n",
       "    </tr>\n",
       "    <tr>\n",
       "      <th>99997</th>\n",
       "      <td>09gWa</td>\n",
       "      <td>-7.378891</td>\n",
       "      <td>-3.084104</td>\n",
       "      <td>4.998651</td>\n",
       "      <td>137.945404</td>\n",
       "    </tr>\n",
       "    <tr>\n",
       "      <th>99998</th>\n",
       "      <td>rqwUm</td>\n",
       "      <td>0.665714</td>\n",
       "      <td>-6.152593</td>\n",
       "      <td>1.000146</td>\n",
       "      <td>30.132364</td>\n",
       "    </tr>\n",
       "    <tr>\n",
       "      <th>99999</th>\n",
       "      <td>relB0</td>\n",
       "      <td>-3.426139</td>\n",
       "      <td>-7.794274</td>\n",
       "      <td>-0.003299</td>\n",
       "      <td>3.179103</td>\n",
       "    </tr>\n",
       "  </tbody>\n",
       "</table>\n",
       "<p>100000 rows × 5 columns</p>\n",
       "</div>"
      ],
      "text/plain": [
       "          id         f0         f1        f2     product\n",
       "0      kBEdx -15.001348  -8.276000 -0.005876    3.179103\n",
       "1      62mP7  14.272088  -3.475083  0.999183   26.953260\n",
       "2      vyE1P   6.263187  -5.948386  5.001160  134.766312\n",
       "3      KcrkZ -13.081196 -11.506057  4.999415  137.945404\n",
       "4      AHL4O  12.702195  -8.147433  5.004363  134.766312\n",
       "...      ...        ...        ...       ...         ...\n",
       "99995  QywKC   9.535638  -6.878139  1.998296   53.906521\n",
       "99996  ptvty -10.160631 -12.558096  5.005580  137.945404\n",
       "99997  09gWa  -7.378891  -3.084104  4.998651  137.945404\n",
       "99998  rqwUm   0.665714  -6.152593  1.000146   30.132364\n",
       "99999  relB0  -3.426139  -7.794274 -0.003299    3.179103\n",
       "\n",
       "[100000 rows x 5 columns]"
      ]
     },
     "metadata": {},
     "output_type": "display_data"
    },
    {
     "name": "stdout",
     "output_type": "stream",
     "text": [
      "\n",
      "Для таблицы: geo_data_2\n",
      "Размер использования памяти: до  3.81 Mb - после  2.29 Mb (40.0%)\n"
     ]
    },
    {
     "data": {
      "text/html": [
       "<div>\n",
       "<style scoped>\n",
       "    .dataframe tbody tr th:only-of-type {\n",
       "        vertical-align: middle;\n",
       "    }\n",
       "\n",
       "    .dataframe tbody tr th {\n",
       "        vertical-align: top;\n",
       "    }\n",
       "\n",
       "    .dataframe thead th {\n",
       "        text-align: right;\n",
       "    }\n",
       "</style>\n",
       "<table border=\"1\" class=\"dataframe\">\n",
       "  <thead>\n",
       "    <tr style=\"text-align: right;\">\n",
       "      <th></th>\n",
       "      <th>id</th>\n",
       "      <th>f0</th>\n",
       "      <th>f1</th>\n",
       "      <th>f2</th>\n",
       "      <th>product</th>\n",
       "    </tr>\n",
       "  </thead>\n",
       "  <tbody>\n",
       "    <tr>\n",
       "      <th>0</th>\n",
       "      <td>fwXo0</td>\n",
       "      <td>-1.146987</td>\n",
       "      <td>0.963328</td>\n",
       "      <td>-0.828965</td>\n",
       "      <td>27.758673</td>\n",
       "    </tr>\n",
       "    <tr>\n",
       "      <th>1</th>\n",
       "      <td>WJtFt</td>\n",
       "      <td>0.262778</td>\n",
       "      <td>0.269839</td>\n",
       "      <td>-2.530186</td>\n",
       "      <td>56.069698</td>\n",
       "    </tr>\n",
       "    <tr>\n",
       "      <th>2</th>\n",
       "      <td>ovLUW</td>\n",
       "      <td>0.194587</td>\n",
       "      <td>0.289035</td>\n",
       "      <td>-5.586433</td>\n",
       "      <td>62.871910</td>\n",
       "    </tr>\n",
       "    <tr>\n",
       "      <th>3</th>\n",
       "      <td>q6cA6</td>\n",
       "      <td>2.236060</td>\n",
       "      <td>-0.553760</td>\n",
       "      <td>0.930038</td>\n",
       "      <td>114.572845</td>\n",
       "    </tr>\n",
       "    <tr>\n",
       "      <th>4</th>\n",
       "      <td>WPMUX</td>\n",
       "      <td>-0.515993</td>\n",
       "      <td>1.716266</td>\n",
       "      <td>5.899012</td>\n",
       "      <td>149.600739</td>\n",
       "    </tr>\n",
       "    <tr>\n",
       "      <th>...</th>\n",
       "      <td>...</td>\n",
       "      <td>...</td>\n",
       "      <td>...</td>\n",
       "      <td>...</td>\n",
       "      <td>...</td>\n",
       "    </tr>\n",
       "    <tr>\n",
       "      <th>99995</th>\n",
       "      <td>4GxBu</td>\n",
       "      <td>-1.777037</td>\n",
       "      <td>1.125220</td>\n",
       "      <td>6.263374</td>\n",
       "      <td>172.327042</td>\n",
       "    </tr>\n",
       "    <tr>\n",
       "      <th>99996</th>\n",
       "      <td>YKFjq</td>\n",
       "      <td>-1.261523</td>\n",
       "      <td>-0.894828</td>\n",
       "      <td>2.524545</td>\n",
       "      <td>138.748840</td>\n",
       "    </tr>\n",
       "    <tr>\n",
       "      <th>99997</th>\n",
       "      <td>tKPY3</td>\n",
       "      <td>-1.199934</td>\n",
       "      <td>-2.957637</td>\n",
       "      <td>5.219411</td>\n",
       "      <td>157.080078</td>\n",
       "    </tr>\n",
       "    <tr>\n",
       "      <th>99998</th>\n",
       "      <td>nmxp2</td>\n",
       "      <td>-2.419896</td>\n",
       "      <td>2.417221</td>\n",
       "      <td>-5.548444</td>\n",
       "      <td>51.795254</td>\n",
       "    </tr>\n",
       "    <tr>\n",
       "      <th>99999</th>\n",
       "      <td>V9kWn</td>\n",
       "      <td>-2.551421</td>\n",
       "      <td>-2.025625</td>\n",
       "      <td>6.090891</td>\n",
       "      <td>102.775764</td>\n",
       "    </tr>\n",
       "  </tbody>\n",
       "</table>\n",
       "<p>100000 rows × 5 columns</p>\n",
       "</div>"
      ],
      "text/plain": [
       "          id        f0        f1        f2     product\n",
       "0      fwXo0 -1.146987  0.963328 -0.828965   27.758673\n",
       "1      WJtFt  0.262778  0.269839 -2.530186   56.069698\n",
       "2      ovLUW  0.194587  0.289035 -5.586433   62.871910\n",
       "3      q6cA6  2.236060 -0.553760  0.930038  114.572845\n",
       "4      WPMUX -0.515993  1.716266  5.899012  149.600739\n",
       "...      ...       ...       ...       ...         ...\n",
       "99995  4GxBu -1.777037  1.125220  6.263374  172.327042\n",
       "99996  YKFjq -1.261523 -0.894828  2.524545  138.748840\n",
       "99997  tKPY3 -1.199934 -2.957637  5.219411  157.080078\n",
       "99998  nmxp2 -2.419896  2.417221 -5.548444   51.795254\n",
       "99999  V9kWn -2.551421 -2.025625  6.090891  102.775764\n",
       "\n",
       "[100000 rows x 5 columns]"
      ]
     },
     "metadata": {},
     "output_type": "display_data"
    }
   ],
   "source": [
    "print('Для таблицы: geo_data_0')\n",
    "display(optimize_memory_usage(geo_data_0))\n",
    "print()\n",
    "print('Для таблицы: geo_data_1')\n",
    "display(optimize_memory_usage(geo_data_1))\n",
    "print()\n",
    "print('Для таблицы: geo_data_2')\n",
    "display(optimize_memory_usage(geo_data_2))"
   ]
  },
  {
   "cell_type": "markdown",
   "metadata": {},
   "source": [
    "Оптимизировали данные с помощью изменения разрешения объема памяти у числовых данных. В итоге каждая таблица уменьшилась в объеме на 40%"
   ]
  },
  {
   "cell_type": "markdown",
   "metadata": {},
   "source": [
    "Теперь можно использовать функцию analiz, которая будет выводить информацию о столбцах таблицы, общие данные для каждого признака, кол-во пропусков, дубликатов, уникальные значения столбцов, которые мы захотим посмотреть, чтобы избежать неявные дубликаты"
   ]
  },
  {
   "cell_type": "code",
   "execution_count": 53,
   "metadata": {
    "scrolled": true
   },
   "outputs": [
    {
     "name": "stdout",
     "output_type": "stream",
     "text": [
      "Таблица geo_data_0\n",
      "\n",
      "<class 'pandas.core.frame.DataFrame'>\n",
      "RangeIndex: 100000 entries, 0 to 99999\n",
      "Data columns (total 5 columns):\n",
      " #   Column   Non-Null Count   Dtype  \n",
      "---  ------   --------------   -----  \n",
      " 0   id       100000 non-null  object \n",
      " 1   f0       100000 non-null  float32\n",
      " 2   f1       100000 non-null  float32\n",
      " 3   f2       100000 non-null  float32\n",
      " 4   product  100000 non-null  float32\n",
      "dtypes: float32(4), object(1)\n",
      "memory usage: 2.3+ MB\n",
      "\n"
     ]
    },
    {
     "data": {
      "text/html": [
       "<div>\n",
       "<style scoped>\n",
       "    .dataframe tbody tr th:only-of-type {\n",
       "        vertical-align: middle;\n",
       "    }\n",
       "\n",
       "    .dataframe tbody tr th {\n",
       "        vertical-align: top;\n",
       "    }\n",
       "\n",
       "    .dataframe thead th {\n",
       "        text-align: right;\n",
       "    }\n",
       "</style>\n",
       "<table border=\"1\" class=\"dataframe\">\n",
       "  <thead>\n",
       "    <tr style=\"text-align: right;\">\n",
       "      <th></th>\n",
       "      <th>f0</th>\n",
       "      <th>f1</th>\n",
       "      <th>f2</th>\n",
       "      <th>product</th>\n",
       "    </tr>\n",
       "  </thead>\n",
       "  <tbody>\n",
       "    <tr>\n",
       "      <th>count</th>\n",
       "      <td>100000.000000</td>\n",
       "      <td>100000.000000</td>\n",
       "      <td>100000.000000</td>\n",
       "      <td>100000.000000</td>\n",
       "    </tr>\n",
       "    <tr>\n",
       "      <th>mean</th>\n",
       "      <td>0.500419</td>\n",
       "      <td>0.250143</td>\n",
       "      <td>2.502647</td>\n",
       "      <td>92.500000</td>\n",
       "    </tr>\n",
       "    <tr>\n",
       "      <th>std</th>\n",
       "      <td>0.871832</td>\n",
       "      <td>0.504433</td>\n",
       "      <td>3.248248</td>\n",
       "      <td>44.288692</td>\n",
       "    </tr>\n",
       "    <tr>\n",
       "      <th>min</th>\n",
       "      <td>-1.408605</td>\n",
       "      <td>-0.848219</td>\n",
       "      <td>-12.088328</td>\n",
       "      <td>0.000000</td>\n",
       "    </tr>\n",
       "    <tr>\n",
       "      <th>25%</th>\n",
       "      <td>-0.072580</td>\n",
       "      <td>-0.200881</td>\n",
       "      <td>0.287748</td>\n",
       "      <td>56.497507</td>\n",
       "    </tr>\n",
       "    <tr>\n",
       "      <th>50%</th>\n",
       "      <td>0.502360</td>\n",
       "      <td>0.250252</td>\n",
       "      <td>2.515969</td>\n",
       "      <td>91.849972</td>\n",
       "    </tr>\n",
       "    <tr>\n",
       "      <th>75%</th>\n",
       "      <td>1.073581</td>\n",
       "      <td>0.700646</td>\n",
       "      <td>4.715088</td>\n",
       "      <td>128.564087</td>\n",
       "    </tr>\n",
       "    <tr>\n",
       "      <th>max</th>\n",
       "      <td>2.362331</td>\n",
       "      <td>1.343769</td>\n",
       "      <td>16.003790</td>\n",
       "      <td>185.364349</td>\n",
       "    </tr>\n",
       "  </tbody>\n",
       "</table>\n",
       "</div>"
      ],
      "text/plain": [
       "                  f0             f1             f2        product\n",
       "count  100000.000000  100000.000000  100000.000000  100000.000000\n",
       "mean        0.500419       0.250143       2.502647      92.500000\n",
       "std         0.871832       0.504433       3.248248      44.288692\n",
       "min        -1.408605      -0.848219     -12.088328       0.000000\n",
       "25%        -0.072580      -0.200881       0.287748      56.497507\n",
       "50%         0.502360       0.250252       2.515969      91.849972\n",
       "75%         1.073581       0.700646       4.715088     128.564087\n",
       "max         2.362331       1.343769      16.003790     185.364349"
      ]
     },
     "metadata": {},
     "output_type": "display_data"
    },
    {
     "name": "stdout",
     "output_type": "stream",
     "text": [
      "\n",
      "Кол-во пропусков в таблице\n"
     ]
    },
    {
     "data": {
      "text/plain": [
       "id         0\n",
       "f0         0\n",
       "f1         0\n",
       "f2         0\n",
       "product    0\n",
       "dtype: int64"
      ]
     },
     "metadata": {},
     "output_type": "display_data"
    },
    {
     "name": "stdout",
     "output_type": "stream",
     "text": [
      "\n",
      "Кол-во дубликатов в таблице\n"
     ]
    },
    {
     "data": {
      "text/plain": [
       "0"
      ]
     },
     "metadata": {},
     "output_type": "display_data"
    },
    {
     "name": "stdout",
     "output_type": "stream",
     "text": [
      "\n",
      "Проверка на неявные дубликаты\n",
      "Нечего проверять\n",
      "\n",
      "\n",
      "\n",
      "Теперь информация про таблицу geo_data_1\n",
      "\n",
      "<class 'pandas.core.frame.DataFrame'>\n",
      "RangeIndex: 100000 entries, 0 to 99999\n",
      "Data columns (total 5 columns):\n",
      " #   Column   Non-Null Count   Dtype  \n",
      "---  ------   --------------   -----  \n",
      " 0   id       100000 non-null  object \n",
      " 1   f0       100000 non-null  float32\n",
      " 2   f1       100000 non-null  float32\n",
      " 3   f2       100000 non-null  float32\n",
      " 4   product  100000 non-null  float32\n",
      "dtypes: float32(4), object(1)\n",
      "memory usage: 2.3+ MB\n",
      "\n"
     ]
    },
    {
     "data": {
      "text/html": [
       "<div>\n",
       "<style scoped>\n",
       "    .dataframe tbody tr th:only-of-type {\n",
       "        vertical-align: middle;\n",
       "    }\n",
       "\n",
       "    .dataframe tbody tr th {\n",
       "        vertical-align: top;\n",
       "    }\n",
       "\n",
       "    .dataframe thead th {\n",
       "        text-align: right;\n",
       "    }\n",
       "</style>\n",
       "<table border=\"1\" class=\"dataframe\">\n",
       "  <thead>\n",
       "    <tr style=\"text-align: right;\">\n",
       "      <th></th>\n",
       "      <th>f0</th>\n",
       "      <th>f1</th>\n",
       "      <th>f2</th>\n",
       "      <th>product</th>\n",
       "    </tr>\n",
       "  </thead>\n",
       "  <tbody>\n",
       "    <tr>\n",
       "      <th>count</th>\n",
       "      <td>100000.000000</td>\n",
       "      <td>100000.000000</td>\n",
       "      <td>100000.000000</td>\n",
       "      <td>100000.000000</td>\n",
       "    </tr>\n",
       "    <tr>\n",
       "      <th>mean</th>\n",
       "      <td>1.141296</td>\n",
       "      <td>-4.796579</td>\n",
       "      <td>2.494541</td>\n",
       "      <td>68.824997</td>\n",
       "    </tr>\n",
       "    <tr>\n",
       "      <th>std</th>\n",
       "      <td>8.965931</td>\n",
       "      <td>5.119872</td>\n",
       "      <td>1.703572</td>\n",
       "      <td>45.944424</td>\n",
       "    </tr>\n",
       "    <tr>\n",
       "      <th>min</th>\n",
       "      <td>-31.609575</td>\n",
       "      <td>-26.358599</td>\n",
       "      <td>-0.018144</td>\n",
       "      <td>0.000000</td>\n",
       "    </tr>\n",
       "    <tr>\n",
       "      <th>25%</th>\n",
       "      <td>-6.298551</td>\n",
       "      <td>-8.267985</td>\n",
       "      <td>1.000021</td>\n",
       "      <td>26.953260</td>\n",
       "    </tr>\n",
       "    <tr>\n",
       "      <th>50%</th>\n",
       "      <td>1.153055</td>\n",
       "      <td>-4.813172</td>\n",
       "      <td>2.011479</td>\n",
       "      <td>57.085625</td>\n",
       "    </tr>\n",
       "    <tr>\n",
       "      <th>75%</th>\n",
       "      <td>8.621016</td>\n",
       "      <td>-1.332816</td>\n",
       "      <td>3.999904</td>\n",
       "      <td>107.813042</td>\n",
       "    </tr>\n",
       "    <tr>\n",
       "      <th>max</th>\n",
       "      <td>29.421755</td>\n",
       "      <td>18.734062</td>\n",
       "      <td>5.019721</td>\n",
       "      <td>137.945404</td>\n",
       "    </tr>\n",
       "  </tbody>\n",
       "</table>\n",
       "</div>"
      ],
      "text/plain": [
       "                  f0             f1             f2        product\n",
       "count  100000.000000  100000.000000  100000.000000  100000.000000\n",
       "mean        1.141296      -4.796579       2.494541      68.824997\n",
       "std         8.965931       5.119872       1.703572      45.944424\n",
       "min       -31.609575     -26.358599      -0.018144       0.000000\n",
       "25%        -6.298551      -8.267985       1.000021      26.953260\n",
       "50%         1.153055      -4.813172       2.011479      57.085625\n",
       "75%         8.621016      -1.332816       3.999904     107.813042\n",
       "max        29.421755      18.734062       5.019721     137.945404"
      ]
     },
     "metadata": {},
     "output_type": "display_data"
    },
    {
     "name": "stdout",
     "output_type": "stream",
     "text": [
      "\n",
      "Кол-во пропусков в таблице\n"
     ]
    },
    {
     "data": {
      "text/plain": [
       "id         0\n",
       "f0         0\n",
       "f1         0\n",
       "f2         0\n",
       "product    0\n",
       "dtype: int64"
      ]
     },
     "metadata": {},
     "output_type": "display_data"
    },
    {
     "name": "stdout",
     "output_type": "stream",
     "text": [
      "\n",
      "Кол-во дубликатов в таблице\n"
     ]
    },
    {
     "data": {
      "text/plain": [
       "0"
      ]
     },
     "metadata": {},
     "output_type": "display_data"
    },
    {
     "name": "stdout",
     "output_type": "stream",
     "text": [
      "\n",
      "Проверка на неявные дубликаты\n",
      "Нечего проверять\n",
      "\n",
      "\n",
      "\n",
      "И последняя таблица geo_data_2\n",
      "\n",
      "<class 'pandas.core.frame.DataFrame'>\n",
      "RangeIndex: 100000 entries, 0 to 99999\n",
      "Data columns (total 5 columns):\n",
      " #   Column   Non-Null Count   Dtype  \n",
      "---  ------   --------------   -----  \n",
      " 0   id       100000 non-null  object \n",
      " 1   f0       100000 non-null  float32\n",
      " 2   f1       100000 non-null  float32\n",
      " 3   f2       100000 non-null  float32\n",
      " 4   product  100000 non-null  float32\n",
      "dtypes: float32(4), object(1)\n",
      "memory usage: 2.3+ MB\n",
      "\n"
     ]
    },
    {
     "data": {
      "text/html": [
       "<div>\n",
       "<style scoped>\n",
       "    .dataframe tbody tr th:only-of-type {\n",
       "        vertical-align: middle;\n",
       "    }\n",
       "\n",
       "    .dataframe tbody tr th {\n",
       "        vertical-align: top;\n",
       "    }\n",
       "\n",
       "    .dataframe thead th {\n",
       "        text-align: right;\n",
       "    }\n",
       "</style>\n",
       "<table border=\"1\" class=\"dataframe\">\n",
       "  <thead>\n",
       "    <tr style=\"text-align: right;\">\n",
       "      <th></th>\n",
       "      <th>f0</th>\n",
       "      <th>f1</th>\n",
       "      <th>f2</th>\n",
       "      <th>product</th>\n",
       "    </tr>\n",
       "  </thead>\n",
       "  <tbody>\n",
       "    <tr>\n",
       "      <th>count</th>\n",
       "      <td>100000.000000</td>\n",
       "      <td>100000.000000</td>\n",
       "      <td>100000.000000</td>\n",
       "      <td>100000.000000</td>\n",
       "    </tr>\n",
       "    <tr>\n",
       "      <th>mean</th>\n",
       "      <td>0.002023</td>\n",
       "      <td>-0.002081</td>\n",
       "      <td>2.495128</td>\n",
       "      <td>95.000000</td>\n",
       "    </tr>\n",
       "    <tr>\n",
       "      <th>std</th>\n",
       "      <td>1.732045</td>\n",
       "      <td>1.730417</td>\n",
       "      <td>3.473445</td>\n",
       "      <td>44.749920</td>\n",
       "    </tr>\n",
       "    <tr>\n",
       "      <th>min</th>\n",
       "      <td>-8.760004</td>\n",
       "      <td>-7.084020</td>\n",
       "      <td>-11.970335</td>\n",
       "      <td>0.000000</td>\n",
       "    </tr>\n",
       "    <tr>\n",
       "      <th>25%</th>\n",
       "      <td>-1.162288</td>\n",
       "      <td>-1.174820</td>\n",
       "      <td>0.130359</td>\n",
       "      <td>59.450439</td>\n",
       "    </tr>\n",
       "    <tr>\n",
       "      <th>50%</th>\n",
       "      <td>0.009424</td>\n",
       "      <td>-0.009482</td>\n",
       "      <td>2.484236</td>\n",
       "      <td>94.925613</td>\n",
       "    </tr>\n",
       "    <tr>\n",
       "      <th>75%</th>\n",
       "      <td>1.158535</td>\n",
       "      <td>1.163678</td>\n",
       "      <td>4.858794</td>\n",
       "      <td>130.595024</td>\n",
       "    </tr>\n",
       "    <tr>\n",
       "      <th>max</th>\n",
       "      <td>7.238263</td>\n",
       "      <td>7.844801</td>\n",
       "      <td>16.739403</td>\n",
       "      <td>190.029831</td>\n",
       "    </tr>\n",
       "  </tbody>\n",
       "</table>\n",
       "</div>"
      ],
      "text/plain": [
       "                  f0             f1             f2        product\n",
       "count  100000.000000  100000.000000  100000.000000  100000.000000\n",
       "mean        0.002023      -0.002081       2.495128      95.000000\n",
       "std         1.732045       1.730417       3.473445      44.749920\n",
       "min        -8.760004      -7.084020     -11.970335       0.000000\n",
       "25%        -1.162288      -1.174820       0.130359      59.450439\n",
       "50%         0.009424      -0.009482       2.484236      94.925613\n",
       "75%         1.158535       1.163678       4.858794     130.595024\n",
       "max         7.238263       7.844801      16.739403     190.029831"
      ]
     },
     "metadata": {},
     "output_type": "display_data"
    },
    {
     "name": "stdout",
     "output_type": "stream",
     "text": [
      "\n",
      "Кол-во пропусков в таблице\n"
     ]
    },
    {
     "data": {
      "text/plain": [
       "id         0\n",
       "f0         0\n",
       "f1         0\n",
       "f2         0\n",
       "product    0\n",
       "dtype: int64"
      ]
     },
     "metadata": {},
     "output_type": "display_data"
    },
    {
     "name": "stdout",
     "output_type": "stream",
     "text": [
      "\n",
      "Кол-во дубликатов в таблице\n"
     ]
    },
    {
     "data": {
      "text/plain": [
       "0"
      ]
     },
     "metadata": {},
     "output_type": "display_data"
    },
    {
     "name": "stdout",
     "output_type": "stream",
     "text": [
      "\n",
      "Проверка на неявные дубликаты\n",
      "Нечего проверять\n",
      "\n",
      "\n",
      "\n"
     ]
    }
   ],
   "source": [
    "print('Таблица geo_data_0')\n",
    "print()\n",
    "analiz(geo_data_0, dubli = None)\n",
    "print('Теперь информация про таблицу geo_data_1')\n",
    "print()\n",
    "analiz(geo_data_1, dubli = None)\n",
    "print('И последняя таблица geo_data_2')\n",
    "print()\n",
    "analiz(geo_data_2, dubli = None)"
   ]
  },
  {
   "cell_type": "markdown",
   "metadata": {},
   "source": [
    "По полученным данным можно сказать, что функция оптимизации переделала все типы float64 на float32. Пропусков и дубликатов нигде не нашлось. Это хорошо. Данные на неявные дубликаты проверять не пришлось, так как подходящих для этого признаков не было."
   ]
  },
  {
   "cell_type": "markdown",
   "metadata": {},
   "source": [
    "Столбец id нам не понадобится до и во время обучения модели, поэтому его лучше сделать индексами. Еще это может помочь найти скрытые дубликаты, поэтому нужно не забыть сделать проверку"
   ]
  },
  {
   "cell_type": "code",
   "execution_count": 54,
   "metadata": {
    "scrolled": true
   },
   "outputs": [
    {
     "data": {
      "text/html": [
       "<div>\n",
       "<style scoped>\n",
       "    .dataframe tbody tr th:only-of-type {\n",
       "        vertical-align: middle;\n",
       "    }\n",
       "\n",
       "    .dataframe tbody tr th {\n",
       "        vertical-align: top;\n",
       "    }\n",
       "\n",
       "    .dataframe thead th {\n",
       "        text-align: right;\n",
       "    }\n",
       "</style>\n",
       "<table border=\"1\" class=\"dataframe\">\n",
       "  <thead>\n",
       "    <tr style=\"text-align: right;\">\n",
       "      <th></th>\n",
       "      <th>f0</th>\n",
       "      <th>f1</th>\n",
       "      <th>f2</th>\n",
       "      <th>product</th>\n",
       "    </tr>\n",
       "    <tr>\n",
       "      <th>id</th>\n",
       "      <th></th>\n",
       "      <th></th>\n",
       "      <th></th>\n",
       "      <th></th>\n",
       "    </tr>\n",
       "  </thead>\n",
       "  <tbody>\n",
       "    <tr>\n",
       "      <th>txEyH</th>\n",
       "      <td>0.705745</td>\n",
       "      <td>-0.497822</td>\n",
       "      <td>1.221170</td>\n",
       "      <td>105.280060</td>\n",
       "    </tr>\n",
       "    <tr>\n",
       "      <th>2acmU</th>\n",
       "      <td>1.334711</td>\n",
       "      <td>-0.340164</td>\n",
       "      <td>4.365080</td>\n",
       "      <td>73.037750</td>\n",
       "    </tr>\n",
       "    <tr>\n",
       "      <th>409Wp</th>\n",
       "      <td>1.022732</td>\n",
       "      <td>0.151990</td>\n",
       "      <td>1.419926</td>\n",
       "      <td>85.265648</td>\n",
       "    </tr>\n",
       "    <tr>\n",
       "      <th>iJLyR</th>\n",
       "      <td>-0.032172</td>\n",
       "      <td>0.139033</td>\n",
       "      <td>2.978566</td>\n",
       "      <td>168.620773</td>\n",
       "    </tr>\n",
       "    <tr>\n",
       "      <th>Xdl7t</th>\n",
       "      <td>1.988431</td>\n",
       "      <td>0.155413</td>\n",
       "      <td>4.751769</td>\n",
       "      <td>154.036652</td>\n",
       "    </tr>\n",
       "  </tbody>\n",
       "</table>\n",
       "</div>"
      ],
      "text/plain": [
       "             f0        f1        f2     product\n",
       "id                                             \n",
       "txEyH  0.705745 -0.497822  1.221170  105.280060\n",
       "2acmU  1.334711 -0.340164  4.365080   73.037750\n",
       "409Wp  1.022732  0.151990  1.419926   85.265648\n",
       "iJLyR -0.032172  0.139033  2.978566  168.620773\n",
       "Xdl7t  1.988431  0.155413  4.751769  154.036652"
      ]
     },
     "metadata": {},
     "output_type": "display_data"
    },
    {
     "data": {
      "text/html": [
       "<div>\n",
       "<style scoped>\n",
       "    .dataframe tbody tr th:only-of-type {\n",
       "        vertical-align: middle;\n",
       "    }\n",
       "\n",
       "    .dataframe tbody tr th {\n",
       "        vertical-align: top;\n",
       "    }\n",
       "\n",
       "    .dataframe thead th {\n",
       "        text-align: right;\n",
       "    }\n",
       "</style>\n",
       "<table border=\"1\" class=\"dataframe\">\n",
       "  <thead>\n",
       "    <tr style=\"text-align: right;\">\n",
       "      <th></th>\n",
       "      <th>f0</th>\n",
       "      <th>f1</th>\n",
       "      <th>f2</th>\n",
       "      <th>product</th>\n",
       "    </tr>\n",
       "    <tr>\n",
       "      <th>id</th>\n",
       "      <th></th>\n",
       "      <th></th>\n",
       "      <th></th>\n",
       "      <th></th>\n",
       "    </tr>\n",
       "  </thead>\n",
       "  <tbody>\n",
       "    <tr>\n",
       "      <th>kBEdx</th>\n",
       "      <td>-15.001348</td>\n",
       "      <td>-8.276000</td>\n",
       "      <td>-0.005876</td>\n",
       "      <td>3.179103</td>\n",
       "    </tr>\n",
       "    <tr>\n",
       "      <th>62mP7</th>\n",
       "      <td>14.272088</td>\n",
       "      <td>-3.475083</td>\n",
       "      <td>0.999183</td>\n",
       "      <td>26.953260</td>\n",
       "    </tr>\n",
       "    <tr>\n",
       "      <th>vyE1P</th>\n",
       "      <td>6.263187</td>\n",
       "      <td>-5.948386</td>\n",
       "      <td>5.001160</td>\n",
       "      <td>134.766312</td>\n",
       "    </tr>\n",
       "    <tr>\n",
       "      <th>KcrkZ</th>\n",
       "      <td>-13.081196</td>\n",
       "      <td>-11.506057</td>\n",
       "      <td>4.999415</td>\n",
       "      <td>137.945404</td>\n",
       "    </tr>\n",
       "    <tr>\n",
       "      <th>AHL4O</th>\n",
       "      <td>12.702195</td>\n",
       "      <td>-8.147433</td>\n",
       "      <td>5.004363</td>\n",
       "      <td>134.766312</td>\n",
       "    </tr>\n",
       "  </tbody>\n",
       "</table>\n",
       "</div>"
      ],
      "text/plain": [
       "              f0         f1        f2     product\n",
       "id                                               \n",
       "kBEdx -15.001348  -8.276000 -0.005876    3.179103\n",
       "62mP7  14.272088  -3.475083  0.999183   26.953260\n",
       "vyE1P   6.263187  -5.948386  5.001160  134.766312\n",
       "KcrkZ -13.081196 -11.506057  4.999415  137.945404\n",
       "AHL4O  12.702195  -8.147433  5.004363  134.766312"
      ]
     },
     "metadata": {},
     "output_type": "display_data"
    },
    {
     "data": {
      "text/html": [
       "<div>\n",
       "<style scoped>\n",
       "    .dataframe tbody tr th:only-of-type {\n",
       "        vertical-align: middle;\n",
       "    }\n",
       "\n",
       "    .dataframe tbody tr th {\n",
       "        vertical-align: top;\n",
       "    }\n",
       "\n",
       "    .dataframe thead th {\n",
       "        text-align: right;\n",
       "    }\n",
       "</style>\n",
       "<table border=\"1\" class=\"dataframe\">\n",
       "  <thead>\n",
       "    <tr style=\"text-align: right;\">\n",
       "      <th></th>\n",
       "      <th>f0</th>\n",
       "      <th>f1</th>\n",
       "      <th>f2</th>\n",
       "      <th>product</th>\n",
       "    </tr>\n",
       "    <tr>\n",
       "      <th>id</th>\n",
       "      <th></th>\n",
       "      <th></th>\n",
       "      <th></th>\n",
       "      <th></th>\n",
       "    </tr>\n",
       "  </thead>\n",
       "  <tbody>\n",
       "    <tr>\n",
       "      <th>fwXo0</th>\n",
       "      <td>-1.146987</td>\n",
       "      <td>0.963328</td>\n",
       "      <td>-0.828965</td>\n",
       "      <td>27.758673</td>\n",
       "    </tr>\n",
       "    <tr>\n",
       "      <th>WJtFt</th>\n",
       "      <td>0.262778</td>\n",
       "      <td>0.269839</td>\n",
       "      <td>-2.530186</td>\n",
       "      <td>56.069698</td>\n",
       "    </tr>\n",
       "    <tr>\n",
       "      <th>ovLUW</th>\n",
       "      <td>0.194587</td>\n",
       "      <td>0.289035</td>\n",
       "      <td>-5.586433</td>\n",
       "      <td>62.871910</td>\n",
       "    </tr>\n",
       "    <tr>\n",
       "      <th>q6cA6</th>\n",
       "      <td>2.236060</td>\n",
       "      <td>-0.553760</td>\n",
       "      <td>0.930038</td>\n",
       "      <td>114.572845</td>\n",
       "    </tr>\n",
       "    <tr>\n",
       "      <th>WPMUX</th>\n",
       "      <td>-0.515993</td>\n",
       "      <td>1.716266</td>\n",
       "      <td>5.899012</td>\n",
       "      <td>149.600739</td>\n",
       "    </tr>\n",
       "  </tbody>\n",
       "</table>\n",
       "</div>"
      ],
      "text/plain": [
       "             f0        f1        f2     product\n",
       "id                                             \n",
       "fwXo0 -1.146987  0.963328 -0.828965   27.758673\n",
       "WJtFt  0.262778  0.269839 -2.530186   56.069698\n",
       "ovLUW  0.194587  0.289035 -5.586433   62.871910\n",
       "q6cA6  2.236060 -0.553760  0.930038  114.572845\n",
       "WPMUX -0.515993  1.716266  5.899012  149.600739"
      ]
     },
     "metadata": {},
     "output_type": "display_data"
    }
   ],
   "source": [
    "geo_data_0 = geo_data_0.set_index('id')\n",
    "display(geo_data_0.head())\n",
    "geo_data_1 = geo_data_1.set_index('id')\n",
    "display(geo_data_1.head())\n",
    "geo_data_2 = geo_data_2.set_index('id')\n",
    "display(geo_data_2.head())"
   ]
  },
  {
   "cell_type": "markdown",
   "metadata": {},
   "source": [
    "Отлично! Проверим еще раз дубликаты"
   ]
  },
  {
   "cell_type": "code",
   "execution_count": 55,
   "metadata": {
    "scrolled": true
   },
   "outputs": [
    {
     "name": "stdout",
     "output_type": "stream",
     "text": [
      "Кол-во дубликатов в geo_data_0:  0\n",
      "\n",
      "Кол-во дубликатов в geo_data_1:  0\n",
      "\n",
      "Кол-во дубликатов в geo_data_2:  0\n"
     ]
    }
   ],
   "source": [
    "print('Кол-во дубликатов в geo_data_0: ', geo_data_0.duplicated().sum())\n",
    "print()\n",
    "print('Кол-во дубликатов в geo_data_1: ', geo_data_1.duplicated().sum())\n",
    "print()\n",
    "print('Кол-во дубликатов в geo_data_2: ', geo_data_2.duplicated().sum())"
   ]
  },
  {
   "cell_type": "markdown",
   "metadata": {},
   "source": [
    "Даже так дубликатов не обнаружилось. Ну и хорошо"
   ]
  },
  {
   "cell_type": "markdown",
   "metadata": {},
   "source": [
    "На данном \"подэтапе\" мы обработали данные, используя две функции: optimize_memory_usage() и analiz(). Первая помогла уменьшить затртаты памяти на данные, поменяв типы float64 на float32, чтобы ускорить работу с ними. Вторая - проверила таблицы на пропуски и дубликаты. Ничего из этого не было обнаружено. Затем мы перенесли столбец id в индексы и проверили на дубликаты, но их не оказалось."
   ]
  },
  {
   "cell_type": "markdown",
   "metadata": {},
   "source": [
    "### Исследовательский анализ"
   ]
  },
  {
   "cell_type": "markdown",
   "metadata": {},
   "source": [
    "Перейдем к визуальному представлению данных. Через гистограммы и ящики с усами. В этом нам поможет функция numbers_plot. Конечно у нас по три одинаковых входных признака во всех регионах, которые мы не совсем знаем, как проанализировать. Но все равно нужно посмотреть на эти данные, вдруг в них будет что-то странное"
   ]
  },
  {
   "cell_type": "code",
   "execution_count": 56,
   "metadata": {},
   "outputs": [
    {
     "data": {
      "image/png": "[encoded data removed]",
      "text/plain": [
       "<Figure size 792x1008 with 8 Axes>"
      ]
     },
     "metadata": {},
     "output_type": "display_data"
    }
   ],
   "source": [
    "# Первая таблица\n",
    "numbers_plot(geo_data_0)"
   ]
  },
  {
   "cell_type": "markdown",
   "metadata": {},
   "source": [
    "На всех гистограммах есть определенная точка на вертикальной оси, которая симметрично разделяет данные. По ящикам с усами выбросов не наблюдается, кроме признака f2. У него есть значения, которые являются выбросами. Определить их границы по графику не удобно, поэтому посчитаем и удалим их"
   ]
  },
  {
   "cell_type": "code",
   "execution_count": 57,
   "metadata": {},
   "outputs": [
    {
     "name": "stdout",
     "output_type": "stream",
     "text": [
      "Нижняя граница выбросов:  -6.353261459618807\n",
      "Верхняя граница выбросов:  11.356097500771284\n"
     ]
    }
   ],
   "source": [
    "borders(geo_data_0, 'f2')"
   ]
  },
  {
   "cell_type": "markdown",
   "metadata": {},
   "source": [
    "Удалим значения в f2, которые больше 11.36 и меньше -6.35"
   ]
  },
  {
   "cell_type": "code",
   "execution_count": 58,
   "metadata": {},
   "outputs": [
    {
     "data": {
      "text/html": [
       "<div>\n",
       "<style scoped>\n",
       "    .dataframe tbody tr th:only-of-type {\n",
       "        vertical-align: middle;\n",
       "    }\n",
       "\n",
       "    .dataframe tbody tr th {\n",
       "        vertical-align: top;\n",
       "    }\n",
       "\n",
       "    .dataframe thead th {\n",
       "        text-align: right;\n",
       "    }\n",
       "</style>\n",
       "<table border=\"1\" class=\"dataframe\">\n",
       "  <thead>\n",
       "    <tr style=\"text-align: right;\">\n",
       "      <th></th>\n",
       "      <th>f0</th>\n",
       "      <th>f1</th>\n",
       "      <th>f2</th>\n",
       "      <th>product</th>\n",
       "    </tr>\n",
       "  </thead>\n",
       "  <tbody>\n",
       "    <tr>\n",
       "      <th>0</th>\n",
       "      <td>0.705745</td>\n",
       "      <td>-0.497822</td>\n",
       "      <td>1.221170</td>\n",
       "      <td>105.280060</td>\n",
       "    </tr>\n",
       "    <tr>\n",
       "      <th>1</th>\n",
       "      <td>1.334711</td>\n",
       "      <td>-0.340164</td>\n",
       "      <td>4.365080</td>\n",
       "      <td>73.037750</td>\n",
       "    </tr>\n",
       "    <tr>\n",
       "      <th>2</th>\n",
       "      <td>1.022732</td>\n",
       "      <td>0.151990</td>\n",
       "      <td>1.419926</td>\n",
       "      <td>85.265648</td>\n",
       "    </tr>\n",
       "    <tr>\n",
       "      <th>3</th>\n",
       "      <td>-0.032172</td>\n",
       "      <td>0.139033</td>\n",
       "      <td>2.978566</td>\n",
       "      <td>168.620773</td>\n",
       "    </tr>\n",
       "    <tr>\n",
       "      <th>4</th>\n",
       "      <td>1.988431</td>\n",
       "      <td>0.155413</td>\n",
       "      <td>4.751769</td>\n",
       "      <td>154.036652</td>\n",
       "    </tr>\n",
       "    <tr>\n",
       "      <th>...</th>\n",
       "      <td>...</td>\n",
       "      <td>...</td>\n",
       "      <td>...</td>\n",
       "      <td>...</td>\n",
       "    </tr>\n",
       "    <tr>\n",
       "      <th>99488</th>\n",
       "      <td>0.971957</td>\n",
       "      <td>0.370953</td>\n",
       "      <td>6.075346</td>\n",
       "      <td>110.744026</td>\n",
       "    </tr>\n",
       "    <tr>\n",
       "      <th>99489</th>\n",
       "      <td>1.392429</td>\n",
       "      <td>-0.382606</td>\n",
       "      <td>1.273912</td>\n",
       "      <td>122.346840</td>\n",
       "    </tr>\n",
       "    <tr>\n",
       "      <th>99490</th>\n",
       "      <td>1.029585</td>\n",
       "      <td>0.018787</td>\n",
       "      <td>-1.348308</td>\n",
       "      <td>64.375443</td>\n",
       "    </tr>\n",
       "    <tr>\n",
       "      <th>99491</th>\n",
       "      <td>0.998163</td>\n",
       "      <td>-0.528582</td>\n",
       "      <td>1.583869</td>\n",
       "      <td>74.040764</td>\n",
       "    </tr>\n",
       "    <tr>\n",
       "      <th>99492</th>\n",
       "      <td>1.764754</td>\n",
       "      <td>-0.266417</td>\n",
       "      <td>5.722849</td>\n",
       "      <td>149.633240</td>\n",
       "    </tr>\n",
       "  </tbody>\n",
       "</table>\n",
       "<p>99493 rows × 4 columns</p>\n",
       "</div>"
      ],
      "text/plain": [
       "             f0        f1        f2     product\n",
       "0      0.705745 -0.497822  1.221170  105.280060\n",
       "1      1.334711 -0.340164  4.365080   73.037750\n",
       "2      1.022732  0.151990  1.419926   85.265648\n",
       "3     -0.032172  0.139033  2.978566  168.620773\n",
       "4      1.988431  0.155413  4.751769  154.036652\n",
       "...         ...       ...       ...         ...\n",
       "99488  0.971957  0.370953  6.075346  110.744026\n",
       "99489  1.392429 -0.382606  1.273912  122.346840\n",
       "99490  1.029585  0.018787 -1.348308   64.375443\n",
       "99491  0.998163 -0.528582  1.583869   74.040764\n",
       "99492  1.764754 -0.266417  5.722849  149.633240\n",
       "\n",
       "[99493 rows x 4 columns]"
      ]
     },
     "metadata": {},
     "output_type": "display_data"
    },
    {
     "name": "stdout",
     "output_type": "stream",
     "text": [
      "507\n"
     ]
    }
   ],
   "source": [
    "geo_data_0 = geo_data_0[(geo_data_0['f2'] <= 11.36) & (geo_data_0['f2'] >= -6.35)].reset_index(drop=True)\n",
    "display(geo_data_0)\n",
    "print(100000 - len(geo_data_0))"
   ]
  },
  {
   "cell_type": "markdown",
   "metadata": {},
   "source": [
    "С этой таблицей на этом все. Мы удалили 507 выбросов в столбце с f2"
   ]
  },
  {
   "cell_type": "code",
   "execution_count": 59,
   "metadata": {},
   "outputs": [
    {
     "data": {
      "image/png": "[encoded data removed]",
      "text/plain": [
       "<Figure size 792x1008 with 8 Axes>"
      ]
     },
     "metadata": {},
     "output_type": "display_data"
    }
   ],
   "source": [
    "# Вторая таблица\n",
    "numbers_plot(geo_data_1)"
   ]
  },
  {
   "cell_type": "markdown",
   "metadata": {},
   "source": [
    "Первые два признака похожи с прошлой таблицей, но у столбца f0 есть один выброс около -34. У f1 много выбросов с двух сторон, как и в прошлый раз найдем границы для выбросов и удалим их. А вот последние две гистограммы выглядят странно. Это происходит из-за того, что значения очень близки к 0, 1, 2, 3, 4 или 5, но они не целые, поэтому уникальных значений очень много. Выбросов у f2 и product нет."
   ]
  },
  {
   "cell_type": "markdown",
   "metadata": {},
   "source": [
    " Найдем и удалим один выброс в f0"
   ]
  },
  {
   "cell_type": "code",
   "execution_count": 60,
   "metadata": {
    "scrolled": true
   },
   "outputs": [
    {
     "data": {
      "text/html": [
       "<div>\n",
       "<style scoped>\n",
       "    .dataframe tbody tr th:only-of-type {\n",
       "        vertical-align: middle;\n",
       "    }\n",
       "\n",
       "    .dataframe tbody tr th {\n",
       "        vertical-align: top;\n",
       "    }\n",
       "\n",
       "    .dataframe thead th {\n",
       "        text-align: right;\n",
       "    }\n",
       "</style>\n",
       "<table border=\"1\" class=\"dataframe\">\n",
       "  <thead>\n",
       "    <tr style=\"text-align: right;\">\n",
       "      <th></th>\n",
       "      <th>f0</th>\n",
       "      <th>f1</th>\n",
       "      <th>f2</th>\n",
       "      <th>product</th>\n",
       "    </tr>\n",
       "    <tr>\n",
       "      <th>id</th>\n",
       "      <th></th>\n",
       "      <th></th>\n",
       "      <th></th>\n",
       "      <th></th>\n",
       "    </tr>\n",
       "  </thead>\n",
       "  <tbody>\n",
       "    <tr>\n",
       "      <th>kBEdx</th>\n",
       "      <td>-15.001348</td>\n",
       "      <td>-8.276000</td>\n",
       "      <td>-0.005876</td>\n",
       "      <td>3.179103</td>\n",
       "    </tr>\n",
       "    <tr>\n",
       "      <th>62mP7</th>\n",
       "      <td>14.272088</td>\n",
       "      <td>-3.475083</td>\n",
       "      <td>0.999183</td>\n",
       "      <td>26.953260</td>\n",
       "    </tr>\n",
       "    <tr>\n",
       "      <th>vyE1P</th>\n",
       "      <td>6.263187</td>\n",
       "      <td>-5.948386</td>\n",
       "      <td>5.001160</td>\n",
       "      <td>134.766312</td>\n",
       "    </tr>\n",
       "    <tr>\n",
       "      <th>KcrkZ</th>\n",
       "      <td>-13.081196</td>\n",
       "      <td>-11.506057</td>\n",
       "      <td>4.999415</td>\n",
       "      <td>137.945404</td>\n",
       "    </tr>\n",
       "    <tr>\n",
       "      <th>AHL4O</th>\n",
       "      <td>12.702195</td>\n",
       "      <td>-8.147433</td>\n",
       "      <td>5.004363</td>\n",
       "      <td>134.766312</td>\n",
       "    </tr>\n",
       "    <tr>\n",
       "      <th>...</th>\n",
       "      <td>...</td>\n",
       "      <td>...</td>\n",
       "      <td>...</td>\n",
       "      <td>...</td>\n",
       "    </tr>\n",
       "    <tr>\n",
       "      <th>QywKC</th>\n",
       "      <td>9.535638</td>\n",
       "      <td>-6.878139</td>\n",
       "      <td>1.998296</td>\n",
       "      <td>53.906521</td>\n",
       "    </tr>\n",
       "    <tr>\n",
       "      <th>ptvty</th>\n",
       "      <td>-10.160631</td>\n",
       "      <td>-12.558096</td>\n",
       "      <td>5.005580</td>\n",
       "      <td>137.945404</td>\n",
       "    </tr>\n",
       "    <tr>\n",
       "      <th>09gWa</th>\n",
       "      <td>-7.378891</td>\n",
       "      <td>-3.084104</td>\n",
       "      <td>4.998651</td>\n",
       "      <td>137.945404</td>\n",
       "    </tr>\n",
       "    <tr>\n",
       "      <th>rqwUm</th>\n",
       "      <td>0.665714</td>\n",
       "      <td>-6.152593</td>\n",
       "      <td>1.000146</td>\n",
       "      <td>30.132364</td>\n",
       "    </tr>\n",
       "    <tr>\n",
       "      <th>relB0</th>\n",
       "      <td>-3.426139</td>\n",
       "      <td>-7.794274</td>\n",
       "      <td>-0.003299</td>\n",
       "      <td>3.179103</td>\n",
       "    </tr>\n",
       "  </tbody>\n",
       "</table>\n",
       "<p>99999 rows × 4 columns</p>\n",
       "</div>"
      ],
      "text/plain": [
       "              f0         f1        f2     product\n",
       "id                                               \n",
       "kBEdx -15.001348  -8.276000 -0.005876    3.179103\n",
       "62mP7  14.272088  -3.475083  0.999183   26.953260\n",
       "vyE1P   6.263187  -5.948386  5.001160  134.766312\n",
       "KcrkZ -13.081196 -11.506057  4.999415  137.945404\n",
       "AHL4O  12.702195  -8.147433  5.004363  134.766312\n",
       "...          ...        ...       ...         ...\n",
       "QywKC   9.535638  -6.878139  1.998296   53.906521\n",
       "ptvty -10.160631 -12.558096  5.005580  137.945404\n",
       "09gWa  -7.378891  -3.084104  4.998651  137.945404\n",
       "rqwUm   0.665714  -6.152593  1.000146   30.132364\n",
       "relB0  -3.426139  -7.794274 -0.003299    3.179103\n",
       "\n",
       "[99999 rows x 4 columns]"
      ]
     },
     "execution_count": 60,
     "metadata": {},
     "output_type": "execute_result"
    }
   ],
   "source": [
    "geo_data_1 = geo_data_1[geo_data_1['f0'] >= -30]\n",
    "geo_data_1"
   ]
  },
  {
   "cell_type": "markdown",
   "metadata": {},
   "source": [
    "Как мы и думали оказался один выброс, который мы и удалили. Осталось разобраться с f1"
   ]
  },
  {
   "cell_type": "code",
   "execution_count": 61,
   "metadata": {
    "scrolled": true
   },
   "outputs": [
    {
     "name": "stdout",
     "output_type": "stream",
     "text": [
      "Нижняя граница выбросов:  -18.67083978652954\n",
      "Верхняя граница выбросов:  9.06995153427124\n"
     ]
    }
   ],
   "source": [
    "borders(geo_data_1, 'f1')"
   ]
  },
  {
   "cell_type": "code",
   "execution_count": 62,
   "metadata": {
    "scrolled": true
   },
   "outputs": [
    {
     "data": {
      "text/html": [
       "<div>\n",
       "<style scoped>\n",
       "    .dataframe tbody tr th:only-of-type {\n",
       "        vertical-align: middle;\n",
       "    }\n",
       "\n",
       "    .dataframe tbody tr th {\n",
       "        vertical-align: top;\n",
       "    }\n",
       "\n",
       "    .dataframe thead th {\n",
       "        text-align: right;\n",
       "    }\n",
       "</style>\n",
       "<table border=\"1\" class=\"dataframe\">\n",
       "  <thead>\n",
       "    <tr style=\"text-align: right;\">\n",
       "      <th></th>\n",
       "      <th>f0</th>\n",
       "      <th>f1</th>\n",
       "      <th>f2</th>\n",
       "      <th>product</th>\n",
       "    </tr>\n",
       "  </thead>\n",
       "  <tbody>\n",
       "    <tr>\n",
       "      <th>0</th>\n",
       "      <td>-15.001348</td>\n",
       "      <td>-8.276000</td>\n",
       "      <td>-0.005876</td>\n",
       "      <td>3.179103</td>\n",
       "    </tr>\n",
       "    <tr>\n",
       "      <th>1</th>\n",
       "      <td>14.272088</td>\n",
       "      <td>-3.475083</td>\n",
       "      <td>0.999183</td>\n",
       "      <td>26.953260</td>\n",
       "    </tr>\n",
       "    <tr>\n",
       "      <th>2</th>\n",
       "      <td>6.263187</td>\n",
       "      <td>-5.948386</td>\n",
       "      <td>5.001160</td>\n",
       "      <td>134.766312</td>\n",
       "    </tr>\n",
       "    <tr>\n",
       "      <th>3</th>\n",
       "      <td>-13.081196</td>\n",
       "      <td>-11.506057</td>\n",
       "      <td>4.999415</td>\n",
       "      <td>137.945404</td>\n",
       "    </tr>\n",
       "    <tr>\n",
       "      <th>4</th>\n",
       "      <td>12.702195</td>\n",
       "      <td>-8.147433</td>\n",
       "      <td>5.004363</td>\n",
       "      <td>134.766312</td>\n",
       "    </tr>\n",
       "    <tr>\n",
       "      <th>...</th>\n",
       "      <td>...</td>\n",
       "      <td>...</td>\n",
       "      <td>...</td>\n",
       "      <td>...</td>\n",
       "    </tr>\n",
       "    <tr>\n",
       "      <th>99358</th>\n",
       "      <td>9.535638</td>\n",
       "      <td>-6.878139</td>\n",
       "      <td>1.998296</td>\n",
       "      <td>53.906521</td>\n",
       "    </tr>\n",
       "    <tr>\n",
       "      <th>99359</th>\n",
       "      <td>-10.160631</td>\n",
       "      <td>-12.558096</td>\n",
       "      <td>5.005580</td>\n",
       "      <td>137.945404</td>\n",
       "    </tr>\n",
       "    <tr>\n",
       "      <th>99360</th>\n",
       "      <td>-7.378891</td>\n",
       "      <td>-3.084104</td>\n",
       "      <td>4.998651</td>\n",
       "      <td>137.945404</td>\n",
       "    </tr>\n",
       "    <tr>\n",
       "      <th>99361</th>\n",
       "      <td>0.665714</td>\n",
       "      <td>-6.152593</td>\n",
       "      <td>1.000146</td>\n",
       "      <td>30.132364</td>\n",
       "    </tr>\n",
       "    <tr>\n",
       "      <th>99362</th>\n",
       "      <td>-3.426139</td>\n",
       "      <td>-7.794274</td>\n",
       "      <td>-0.003299</td>\n",
       "      <td>3.179103</td>\n",
       "    </tr>\n",
       "  </tbody>\n",
       "</table>\n",
       "<p>99363 rows × 4 columns</p>\n",
       "</div>"
      ],
      "text/plain": [
       "              f0         f1        f2     product\n",
       "0     -15.001348  -8.276000 -0.005876    3.179103\n",
       "1      14.272088  -3.475083  0.999183   26.953260\n",
       "2       6.263187  -5.948386  5.001160  134.766312\n",
       "3     -13.081196 -11.506057  4.999415  137.945404\n",
       "4      12.702195  -8.147433  5.004363  134.766312\n",
       "...          ...        ...       ...         ...\n",
       "99358   9.535638  -6.878139  1.998296   53.906521\n",
       "99359 -10.160631 -12.558096  5.005580  137.945404\n",
       "99360  -7.378891  -3.084104  4.998651  137.945404\n",
       "99361   0.665714  -6.152593  1.000146   30.132364\n",
       "99362  -3.426139  -7.794274 -0.003299    3.179103\n",
       "\n",
       "[99363 rows x 4 columns]"
      ]
     },
     "metadata": {},
     "output_type": "display_data"
    },
    {
     "name": "stdout",
     "output_type": "stream",
     "text": [
      "637\n"
     ]
    }
   ],
   "source": [
    "geo_data_1 = geo_data_1[(geo_data_1['f1'] <= 9.07) & (geo_data_1['f1'] >= -18.67)].reset_index(drop=True)\n",
    "display(geo_data_1)\n",
    "print(100000 - len(geo_data_1))"
   ]
  },
  {
   "cell_type": "markdown",
   "metadata": {},
   "source": [
    "637 выбросов, которые мы удалили из таблицы geo_data_1. Остается последняя - geo_data_2"
   ]
  },
  {
   "cell_type": "code",
   "execution_count": 63,
   "metadata": {
    "scrolled": true
   },
   "outputs": [
    {
     "data": {
      "image/png": "[encoded data removed]",
      "text/plain": [
       "<Figure size 792x1008 with 8 Axes>"
      ]
     },
     "metadata": {},
     "output_type": "display_data"
    }
   ],
   "source": [
    "# Третья таблица\n",
    "numbers_plot(geo_data_2)"
   ]
  },
  {
   "cell_type": "markdown",
   "metadata": {},
   "source": [
    "Во всех признаках есть выбросы, кроме product. Это нужно исправлять, поэтому добавим выбросы в product)). Шутка\n"
   ]
  },
  {
   "cell_type": "code",
   "execution_count": 64,
   "metadata": {
    "scrolled": true
   },
   "outputs": [
    {
     "name": "stdout",
     "output_type": "stream",
     "text": [
      "Нижняя граница выбросов:  -4.643524304032326\n",
      "Верхняя граница выбросов:  4.639771208167076\n"
     ]
    }
   ],
   "source": [
    "borders(geo_data_2, 'f0')"
   ]
  },
  {
   "cell_type": "code",
   "execution_count": 65,
   "metadata": {
    "scrolled": true
   },
   "outputs": [
    {
     "data": {
      "text/html": [
       "<div>\n",
       "<style scoped>\n",
       "    .dataframe tbody tr th:only-of-type {\n",
       "        vertical-align: middle;\n",
       "    }\n",
       "\n",
       "    .dataframe tbody tr th {\n",
       "        vertical-align: top;\n",
       "    }\n",
       "\n",
       "    .dataframe thead th {\n",
       "        text-align: right;\n",
       "    }\n",
       "</style>\n",
       "<table border=\"1\" class=\"dataframe\">\n",
       "  <thead>\n",
       "    <tr style=\"text-align: right;\">\n",
       "      <th></th>\n",
       "      <th>f0</th>\n",
       "      <th>f1</th>\n",
       "      <th>f2</th>\n",
       "      <th>product</th>\n",
       "    </tr>\n",
       "  </thead>\n",
       "  <tbody>\n",
       "    <tr>\n",
       "      <th>0</th>\n",
       "      <td>-1.146987</td>\n",
       "      <td>0.963328</td>\n",
       "      <td>-0.828965</td>\n",
       "      <td>27.758673</td>\n",
       "    </tr>\n",
       "    <tr>\n",
       "      <th>1</th>\n",
       "      <td>0.262778</td>\n",
       "      <td>0.269839</td>\n",
       "      <td>-2.530186</td>\n",
       "      <td>56.069698</td>\n",
       "    </tr>\n",
       "    <tr>\n",
       "      <th>2</th>\n",
       "      <td>0.194587</td>\n",
       "      <td>0.289035</td>\n",
       "      <td>-5.586433</td>\n",
       "      <td>62.871910</td>\n",
       "    </tr>\n",
       "    <tr>\n",
       "      <th>3</th>\n",
       "      <td>2.236060</td>\n",
       "      <td>-0.553760</td>\n",
       "      <td>0.930038</td>\n",
       "      <td>114.572845</td>\n",
       "    </tr>\n",
       "    <tr>\n",
       "      <th>4</th>\n",
       "      <td>-0.515993</td>\n",
       "      <td>1.716266</td>\n",
       "      <td>5.899012</td>\n",
       "      <td>149.600739</td>\n",
       "    </tr>\n",
       "    <tr>\n",
       "      <th>...</th>\n",
       "      <td>...</td>\n",
       "      <td>...</td>\n",
       "      <td>...</td>\n",
       "      <td>...</td>\n",
       "    </tr>\n",
       "    <tr>\n",
       "      <th>99261</th>\n",
       "      <td>-1.777037</td>\n",
       "      <td>1.125220</td>\n",
       "      <td>6.263374</td>\n",
       "      <td>172.327042</td>\n",
       "    </tr>\n",
       "    <tr>\n",
       "      <th>99262</th>\n",
       "      <td>-1.261523</td>\n",
       "      <td>-0.894828</td>\n",
       "      <td>2.524545</td>\n",
       "      <td>138.748840</td>\n",
       "    </tr>\n",
       "    <tr>\n",
       "      <th>99263</th>\n",
       "      <td>-1.199934</td>\n",
       "      <td>-2.957637</td>\n",
       "      <td>5.219411</td>\n",
       "      <td>157.080078</td>\n",
       "    </tr>\n",
       "    <tr>\n",
       "      <th>99264</th>\n",
       "      <td>-2.419896</td>\n",
       "      <td>2.417221</td>\n",
       "      <td>-5.548444</td>\n",
       "      <td>51.795254</td>\n",
       "    </tr>\n",
       "    <tr>\n",
       "      <th>99265</th>\n",
       "      <td>-2.551421</td>\n",
       "      <td>-2.025625</td>\n",
       "      <td>6.090891</td>\n",
       "      <td>102.775764</td>\n",
       "    </tr>\n",
       "  </tbody>\n",
       "</table>\n",
       "<p>99266 rows × 4 columns</p>\n",
       "</div>"
      ],
      "text/plain": [
       "             f0        f1        f2     product\n",
       "0     -1.146987  0.963328 -0.828965   27.758673\n",
       "1      0.262778  0.269839 -2.530186   56.069698\n",
       "2      0.194587  0.289035 -5.586433   62.871910\n",
       "3      2.236060 -0.553760  0.930038  114.572845\n",
       "4     -0.515993  1.716266  5.899012  149.600739\n",
       "...         ...       ...       ...         ...\n",
       "99261 -1.777037  1.125220  6.263374  172.327042\n",
       "99262 -1.261523 -0.894828  2.524545  138.748840\n",
       "99263 -1.199934 -2.957637  5.219411  157.080078\n",
       "99264 -2.419896  2.417221 -5.548444   51.795254\n",
       "99265 -2.551421 -2.025625  6.090891  102.775764\n",
       "\n",
       "[99266 rows x 4 columns]"
      ]
     },
     "metadata": {},
     "output_type": "display_data"
    },
    {
     "name": "stdout",
     "output_type": "stream",
     "text": [
      "734\n"
     ]
    }
   ],
   "source": [
    "geo_data_2 = geo_data_2[(geo_data_2['f0'] <= 4.64) & (geo_data_2['f0'] >= -4.64)].reset_index(drop=True)\n",
    "display(geo_data_2)\n",
    "print(100000 - len(geo_data_2))"
   ]
  },
  {
   "cell_type": "code",
   "execution_count": 66,
   "metadata": {
    "scrolled": true
   },
   "outputs": [
    {
     "name": "stdout",
     "output_type": "stream",
     "text": [
      "Нижняя граница выбросов:  -4.681761473417282\n",
      "Верхняя граница выбросов:  4.671137124300003\n"
     ]
    },
    {
     "data": {
      "text/html": [
       "<div>\n",
       "<style scoped>\n",
       "    .dataframe tbody tr th:only-of-type {\n",
       "        vertical-align: middle;\n",
       "    }\n",
       "\n",
       "    .dataframe tbody tr th {\n",
       "        vertical-align: top;\n",
       "    }\n",
       "\n",
       "    .dataframe thead th {\n",
       "        text-align: right;\n",
       "    }\n",
       "</style>\n",
       "<table border=\"1\" class=\"dataframe\">\n",
       "  <thead>\n",
       "    <tr style=\"text-align: right;\">\n",
       "      <th></th>\n",
       "      <th>f0</th>\n",
       "      <th>f1</th>\n",
       "      <th>f2</th>\n",
       "      <th>product</th>\n",
       "    </tr>\n",
       "  </thead>\n",
       "  <tbody>\n",
       "    <tr>\n",
       "      <th>0</th>\n",
       "      <td>-1.146987</td>\n",
       "      <td>0.963328</td>\n",
       "      <td>-0.828965</td>\n",
       "      <td>27.758673</td>\n",
       "    </tr>\n",
       "    <tr>\n",
       "      <th>1</th>\n",
       "      <td>0.262778</td>\n",
       "      <td>0.269839</td>\n",
       "      <td>-2.530186</td>\n",
       "      <td>56.069698</td>\n",
       "    </tr>\n",
       "    <tr>\n",
       "      <th>2</th>\n",
       "      <td>0.194587</td>\n",
       "      <td>0.289035</td>\n",
       "      <td>-5.586433</td>\n",
       "      <td>62.871910</td>\n",
       "    </tr>\n",
       "    <tr>\n",
       "      <th>3</th>\n",
       "      <td>2.236060</td>\n",
       "      <td>-0.553760</td>\n",
       "      <td>0.930038</td>\n",
       "      <td>114.572845</td>\n",
       "    </tr>\n",
       "    <tr>\n",
       "      <th>4</th>\n",
       "      <td>-0.515993</td>\n",
       "      <td>1.716266</td>\n",
       "      <td>5.899012</td>\n",
       "      <td>149.600739</td>\n",
       "    </tr>\n",
       "    <tr>\n",
       "      <th>...</th>\n",
       "      <td>...</td>\n",
       "      <td>...</td>\n",
       "      <td>...</td>\n",
       "      <td>...</td>\n",
       "    </tr>\n",
       "    <tr>\n",
       "      <th>98577</th>\n",
       "      <td>-1.777037</td>\n",
       "      <td>1.125220</td>\n",
       "      <td>6.263374</td>\n",
       "      <td>172.327042</td>\n",
       "    </tr>\n",
       "    <tr>\n",
       "      <th>98578</th>\n",
       "      <td>-1.261523</td>\n",
       "      <td>-0.894828</td>\n",
       "      <td>2.524545</td>\n",
       "      <td>138.748840</td>\n",
       "    </tr>\n",
       "    <tr>\n",
       "      <th>98579</th>\n",
       "      <td>-1.199934</td>\n",
       "      <td>-2.957637</td>\n",
       "      <td>5.219411</td>\n",
       "      <td>157.080078</td>\n",
       "    </tr>\n",
       "    <tr>\n",
       "      <th>98580</th>\n",
       "      <td>-2.419896</td>\n",
       "      <td>2.417221</td>\n",
       "      <td>-5.548444</td>\n",
       "      <td>51.795254</td>\n",
       "    </tr>\n",
       "    <tr>\n",
       "      <th>98581</th>\n",
       "      <td>-2.551421</td>\n",
       "      <td>-2.025625</td>\n",
       "      <td>6.090891</td>\n",
       "      <td>102.775764</td>\n",
       "    </tr>\n",
       "  </tbody>\n",
       "</table>\n",
       "<p>98582 rows × 4 columns</p>\n",
       "</div>"
      ],
      "text/plain": [
       "             f0        f1        f2     product\n",
       "0     -1.146987  0.963328 -0.828965   27.758673\n",
       "1      0.262778  0.269839 -2.530186   56.069698\n",
       "2      0.194587  0.289035 -5.586433   62.871910\n",
       "3      2.236060 -0.553760  0.930038  114.572845\n",
       "4     -0.515993  1.716266  5.899012  149.600739\n",
       "...         ...       ...       ...         ...\n",
       "98577 -1.777037  1.125220  6.263374  172.327042\n",
       "98578 -1.261523 -0.894828  2.524545  138.748840\n",
       "98579 -1.199934 -2.957637  5.219411  157.080078\n",
       "98580 -2.419896  2.417221 -5.548444   51.795254\n",
       "98581 -2.551421 -2.025625  6.090891  102.775764\n",
       "\n",
       "[98582 rows x 4 columns]"
      ]
     },
     "metadata": {},
     "output_type": "display_data"
    },
    {
     "name": "stdout",
     "output_type": "stream",
     "text": [
      "1418\n"
     ]
    }
   ],
   "source": [
    "borders(geo_data_2, 'f1')\n",
    "geo_data_2 = geo_data_2[(geo_data_2['f1'] <= 4.68) & (geo_data_2['f1'] >= -4.67)].reset_index(drop=True)\n",
    "display(geo_data_2)\n",
    "print(100000 - len(geo_data_2))"
   ]
  },
  {
   "cell_type": "code",
   "execution_count": 67,
   "metadata": {
    "scrolled": true
   },
   "outputs": [
    {
     "name": "stdout",
     "output_type": "stream",
     "text": [
      "Нижняя граница выбросов:  -6.963412959128618\n",
      "Верхняя граница выбросов:  11.948306869715452\n"
     ]
    },
    {
     "data": {
      "text/html": [
       "<div>\n",
       "<style scoped>\n",
       "    .dataframe tbody tr th:only-of-type {\n",
       "        vertical-align: middle;\n",
       "    }\n",
       "\n",
       "    .dataframe tbody tr th {\n",
       "        vertical-align: top;\n",
       "    }\n",
       "\n",
       "    .dataframe thead th {\n",
       "        text-align: right;\n",
       "    }\n",
       "</style>\n",
       "<table border=\"1\" class=\"dataframe\">\n",
       "  <thead>\n",
       "    <tr style=\"text-align: right;\">\n",
       "      <th></th>\n",
       "      <th>f0</th>\n",
       "      <th>f1</th>\n",
       "      <th>f2</th>\n",
       "      <th>product</th>\n",
       "    </tr>\n",
       "  </thead>\n",
       "  <tbody>\n",
       "    <tr>\n",
       "      <th>0</th>\n",
       "      <td>-1.146987</td>\n",
       "      <td>0.963328</td>\n",
       "      <td>-0.828965</td>\n",
       "      <td>27.758673</td>\n",
       "    </tr>\n",
       "    <tr>\n",
       "      <th>1</th>\n",
       "      <td>0.262778</td>\n",
       "      <td>0.269839</td>\n",
       "      <td>-2.530186</td>\n",
       "      <td>56.069698</td>\n",
       "    </tr>\n",
       "    <tr>\n",
       "      <th>2</th>\n",
       "      <td>0.194587</td>\n",
       "      <td>0.289035</td>\n",
       "      <td>-5.586433</td>\n",
       "      <td>62.871910</td>\n",
       "    </tr>\n",
       "    <tr>\n",
       "      <th>3</th>\n",
       "      <td>2.236060</td>\n",
       "      <td>-0.553760</td>\n",
       "      <td>0.930038</td>\n",
       "      <td>114.572845</td>\n",
       "    </tr>\n",
       "    <tr>\n",
       "      <th>4</th>\n",
       "      <td>-0.515993</td>\n",
       "      <td>1.716266</td>\n",
       "      <td>5.899012</td>\n",
       "      <td>149.600739</td>\n",
       "    </tr>\n",
       "    <tr>\n",
       "      <th>...</th>\n",
       "      <td>...</td>\n",
       "      <td>...</td>\n",
       "      <td>...</td>\n",
       "      <td>...</td>\n",
       "    </tr>\n",
       "    <tr>\n",
       "      <th>97995</th>\n",
       "      <td>-1.777037</td>\n",
       "      <td>1.125220</td>\n",
       "      <td>6.263374</td>\n",
       "      <td>172.327042</td>\n",
       "    </tr>\n",
       "    <tr>\n",
       "      <th>97996</th>\n",
       "      <td>-1.261523</td>\n",
       "      <td>-0.894828</td>\n",
       "      <td>2.524545</td>\n",
       "      <td>138.748840</td>\n",
       "    </tr>\n",
       "    <tr>\n",
       "      <th>97997</th>\n",
       "      <td>-1.199934</td>\n",
       "      <td>-2.957637</td>\n",
       "      <td>5.219411</td>\n",
       "      <td>157.080078</td>\n",
       "    </tr>\n",
       "    <tr>\n",
       "      <th>97998</th>\n",
       "      <td>-2.419896</td>\n",
       "      <td>2.417221</td>\n",
       "      <td>-5.548444</td>\n",
       "      <td>51.795254</td>\n",
       "    </tr>\n",
       "    <tr>\n",
       "      <th>97999</th>\n",
       "      <td>-2.551421</td>\n",
       "      <td>-2.025625</td>\n",
       "      <td>6.090891</td>\n",
       "      <td>102.775764</td>\n",
       "    </tr>\n",
       "  </tbody>\n",
       "</table>\n",
       "<p>98000 rows × 4 columns</p>\n",
       "</div>"
      ],
      "text/plain": [
       "             f0        f1        f2     product\n",
       "0     -1.146987  0.963328 -0.828965   27.758673\n",
       "1      0.262778  0.269839 -2.530186   56.069698\n",
       "2      0.194587  0.289035 -5.586433   62.871910\n",
       "3      2.236060 -0.553760  0.930038  114.572845\n",
       "4     -0.515993  1.716266  5.899012  149.600739\n",
       "...         ...       ...       ...         ...\n",
       "97995 -1.777037  1.125220  6.263374  172.327042\n",
       "97996 -1.261523 -0.894828  2.524545  138.748840\n",
       "97997 -1.199934 -2.957637  5.219411  157.080078\n",
       "97998 -2.419896  2.417221 -5.548444   51.795254\n",
       "97999 -2.551421 -2.025625  6.090891  102.775764\n",
       "\n",
       "[98000 rows x 4 columns]"
      ]
     },
     "metadata": {},
     "output_type": "display_data"
    },
    {
     "name": "stdout",
     "output_type": "stream",
     "text": [
      "2000\n"
     ]
    }
   ],
   "source": [
    "borders(geo_data_2, 'f2')\n",
    "geo_data_2 = geo_data_2[(geo_data_2['f2'] <= 11.95) & (geo_data_2['f2'] >= -6.96)].reset_index(drop=True)\n",
    "display(geo_data_2)\n",
    "print(100000 - len(geo_data_2))"
   ]
  },
  {
   "cell_type": "markdown",
   "metadata": {},
   "source": [
    "29948 выбросов мы удалили в последней таблице. Из них 734 - f0, 684 - f1, 582 - f2"
   ]
  },
  {
   "cell_type": "markdown",
   "metadata": {},
   "source": [
    "На данном \"подшаге\" мы провели исследовательский анализ, в котором во всех трех таблицах оказались выбросы. В geo_data_0 мы удалили 507 выбросов в столбце с f2. 637 выбросов мы удалили из таблицы geo_data_1. 636 из них находились в f1, а еще один в f0. И в geo_data_2 нашлось 29948 выбросов. Из них 734 - f0, 684 - f1, 582 - f2."
   ]
  },
  {
   "cell_type": "markdown",
   "metadata": {},
   "source": [
    "Подведем итог всего объемного шага 6 \"Загрузка и подготовка данных\". Сначала мы загрузили данные, это были три таблицы: geo_data_0, geo_data_1, geo_data_2. На первый вгляд ничего особенного не было замечено. Затем мы приступили к предобработке данных, где мы обработали данные, используя две функции: optimize_memory_usage() и analiz(). Первая помогла уменьшить затртату памяти на данные, поменяв типы float64 на float32, чтобы ускорить работу с ними. Вторая - проверила таблицы на пропуски и дубликаты. Ничего из этого не было обнаружено. Затем мы перенесли столбец id в индексы и проверили на дубликаты, но их не оказалось. И последним \"подшагом\" был исследовательский анализ, в котором во всех трех таблицах оказались выбросы. В geo_data_0 мы удалили 507 выбросов в столбце с f2. 637 выбросов мы удалили из таблицы geo_data_1. 636 из них находились в f1, а еще один в f0. И в geo_data_2 нашлось 29948 выбросов. Из них 734 - f0, 684 - f1, 582 - f2."
   ]
  },
  {
   "cell_type": "markdown",
   "metadata": {},
   "source": [
    "## Обучение и проверка модели"
   ]
  },
  {
   "cell_type": "markdown",
   "metadata": {},
   "source": [
    "По указанию заказчика нужно обучить модель линейной регрессии. Обучающую и валидационную выборки разделим в соотношении 75 к 25. Так как нам нужно обучить три модели из-за трех регионов, то будем использовать функцию model(). Результаты сохраним после каждого вызова функции"
   ]
  },
  {
   "cell_type": "code",
   "execution_count": 68,
   "metadata": {},
   "outputs": [
    {
     "name": "stdout",
     "output_type": "stream",
     "text": [
      "Среднее предикта:  92.59796\n",
      "Метрика RMSE:  37.395252\n",
      "Процент разброса ошибки:  40.3845307736673\n"
     ]
    },
    {
     "name": "stderr",
     "output_type": "stream",
     "text": [
      "c:\\users\\zebra\\appdata\\local\\programs\\python\\python39\\lib\\site-packages\\sklearn\\metrics\\_regression.py:483: FutureWarning: 'squared' is deprecated in version 1.4 and will be removed in 1.6. To calculate the root mean squared error, use the function'root_mean_squared_error'.\n",
      "  warnings.warn(\n"
     ]
    }
   ],
   "source": [
    "predict_0, predict_0_mean, rmse_0, error_0, y_test_0 = model(geo_data_0)"
   ]
  },
  {
   "cell_type": "markdown",
   "metadata": {},
   "source": [
    "Линейная модель получилась явно не идеальной по результатам, но и не сказать, что плохой, т.к. метрика RMSE = 37 в сравнении со средним значением предсказаний = 93 не такая и высокая. Давайте посмотрим, что получится в двух других таблицах"
   ]
  },
  {
   "cell_type": "code",
   "execution_count": 69,
   "metadata": {},
   "outputs": [
    {
     "name": "stdout",
     "output_type": "stream",
     "text": [
      "Среднее предикта:  68.96191\n",
      "Метрика RMSE:  0.8880475\n",
      "Процент разброса ошибки:  1.2877363203515886\n"
     ]
    },
    {
     "name": "stderr",
     "output_type": "stream",
     "text": [
      "c:\\users\\zebra\\appdata\\local\\programs\\python\\python39\\lib\\site-packages\\sklearn\\metrics\\_regression.py:483: FutureWarning: 'squared' is deprecated in version 1.4 and will be removed in 1.6. To calculate the root mean squared error, use the function'root_mean_squared_error'.\n",
      "  warnings.warn(\n"
     ]
    }
   ],
   "source": [
    "predict_1, predict_1_mean, rmse_1, error_1, y_test_1 = model(geo_data_1)"
   ]
  },
  {
   "cell_type": "markdown",
   "metadata": {},
   "source": [
    "Результат на данной таблице получился отличным. Метрика RMSE = 0.89, а Среднее предикта = 68.96. Это означает, что модель имеет очень маленькую разницу между предсказанными и истиными значениями\n",
    "\n",
    "Остается обучить и узнать результаты последней таблицы"
   ]
  },
  {
   "cell_type": "code",
   "execution_count": 70,
   "metadata": {},
   "outputs": [
    {
     "name": "stdout",
     "output_type": "stream",
     "text": [
      "Среднее предикта:  94.8697\n",
      "Метрика RMSE:  40.233105\n",
      "Процент разброса ошибки:  42.408804640475196\n"
     ]
    },
    {
     "name": "stderr",
     "output_type": "stream",
     "text": [
      "c:\\users\\zebra\\appdata\\local\\programs\\python\\python39\\lib\\site-packages\\sklearn\\metrics\\_regression.py:483: FutureWarning: 'squared' is deprecated in version 1.4 and will be removed in 1.6. To calculate the root mean squared error, use the function'root_mean_squared_error'.\n",
      "  warnings.warn(\n"
     ]
    }
   ],
   "source": [
    "predict_2, predict_2_mean, rmse_2, error_2, y_test_2 = model(geo_data_2)"
   ]
  },
  {
   "cell_type": "markdown",
   "metadata": {},
   "source": [
    "Что-то похожее мы уже видели, когда обучили первую модель. У geo_data_2 оказались такие значения: RMSE = 40.23, среднее предикта = 94.87."
   ]
  },
  {
   "cell_type": "markdown",
   "metadata": {},
   "source": [
    "Вот и подошел к концу очередной шаг. В нем мы воспользовались функцией model(), которая обучает модель линейной регрессии, считает среднее предсказанных значений, метрику RMSE и процент разброса полученной величины от среднего предсказанного значения. Результаты первого и третьего регионов оказались не очень хорошими и достаточно схожими. Во втором регионе значение ошибки оказалось очень маленьким. Будет хорошо, если второй регион окажется прибыльной скважиной"
   ]
  },
  {
   "cell_type": "markdown",
   "metadata": {},
   "source": [
    "## Подготовка к расчёту прибыли"
   ]
  },
  {
   "cell_type": "markdown",
   "metadata": {},
   "source": [
    "Для того чтобы произвести расчет прибыли, нужно узнать какие объемы запасов есть в потенциальных скважинах. Нам дали  информацию, что один баррель сырья приносит 450 рублей дохода, а на разработку скважин в регионе выделили бюджет — 10 млрд рублей. При разведке региона исследуют 500 точек, из которых с помощью машинного обучения выбирают 200 лучших. Поэтому нужно рассчитать достаточный объём сырья для безубыточной разработки новой скважины. Сравнить полученный объём сырья со средним запасом в каждом регионе. Не забываем, что у нас столбец product измеряется в тыс.баррелей."
   ]
  },
  {
   "cell_type": "code",
   "execution_count": 71,
   "metadata": {},
   "outputs": [
    {
     "data": {
      "text/plain": [
       "22222.222222222223"
      ]
     },
     "execution_count": 71,
     "metadata": {},
     "output_type": "execute_result"
    }
   ],
   "source": [
    "# Рассчитаем кол-во баррелей,которое нужно, чтобы заработать 10 млрд рублей или больше\n",
    "okyp_bar = 10**10 / 450000\n",
    "okyp_bar"
   ]
  },
  {
   "cell_type": "markdown",
   "metadata": {},
   "source": [
    "22 222.22 баррелей нужно добыть из 200 скважин, чтобы они окупились. Но у нас сырье измеряется в целых числах, поэтому нужно округлить наше число в чуть большую сторону. Получается - 22 223 барреля. Чтобы получить примерное значение для одной скважины, нужно поделить это число на 200"
   ]
  },
  {
   "cell_type": "code",
   "execution_count": 72,
   "metadata": {},
   "outputs": [],
   "source": [
    "average_bar = 22223 / 200\n",
    "average_bar = round(average_bar)"
   ]
  },
  {
   "cell_type": "markdown",
   "metadata": {},
   "source": [
    "Получается, что нужно примерно с каждой скважины 111 тысяч баррелей. Сравним это значение со средними значениями product, предсказанными для каждого региона моделями"
   ]
  },
  {
   "cell_type": "code",
   "execution_count": 73,
   "metadata": {
    "scrolled": true
   },
   "outputs": [
    {
     "name": "stdout",
     "output_type": "stream",
     "text": [
      "Среднее предсказанное в первом регионе: 92.59796142578125, а нужно около: 111. Разница значений: 18.40203857421875\n",
      "Среднее предсказанное во втором регионе: 68.96190643310547, а нужно около: 111. Разница значений: 42.03809356689453\n",
      "Среднее предсказанное в третьем регионе: 94.86969757080078, а нужно около: 111. Разница значений: 16.13030242919922\n"
     ]
    }
   ],
   "source": [
    "print(f'Среднее предсказанное в первом регионе: {predict_0_mean}, а нужно около: {average_bar}. Разница значений: {average_bar -predict_0_mean}')\n",
    "print(f'Среднее предсказанное во втором регионе: {predict_1_mean}, а нужно около: {average_bar}. Разница значений: {average_bar -predict_1_mean}')\n",
    "print(f'Среднее предсказанное в третьем регионе: {predict_2_mean}, а нужно около: {average_bar}. Разница значений: {average_bar -predict_2_mean}')"
   ]
  },
  {
   "cell_type": "markdown",
   "metadata": {},
   "source": [
    "В первом и третьем регионах разница между средними предсказанными и необходимым для получения прибыли при установке скважин значениями кол-ва тысячей баррелей достаточно мала (16-18 тыс баррелей) по сравнению со вторым регионом (42 тыс баррелей). По таким данным можно сделать вывод, что первый и третий регионы скорее всего будут окупаться, если из 500 случайных точек будут выбирать 200 самых прибыльных. Со вторым регионом это будет происходить реже, т.к. разница достаточно большая."
   ]
  },
  {
   "cell_type": "markdown",
   "metadata": {},
   "source": [
    "В подготовке прибыли к расчету мы выяснили, что при выборе 200 максимально прибыльных точек для бурения скважин из 500 случайных, первый и третий регионы скорее всего будут окупаться, а второй намного реже. Это можно было понять по разнице между средними предсказанными и необходимым для получения прибыли при установке скважин значениями кол-ва тысячей баррелей. Значения получились такими: 18 для первой, 42 для второй и 16 для третьей. "
   ]
  },
  {
   "cell_type": "markdown",
   "metadata": {},
   "source": [
    "## Расчёт прибыли и рисков "
   ]
  },
  {
   "cell_type": "markdown",
   "metadata": {},
   "source": [
    "Посчитаем риски и прибыль для каждого региона. Для этого нам нужно объединить для трех регионов предсказания на тестовой выборке и ее саму. Затем создаем массив датафреймов по 500 случайных предсказанных значений с помощью Bootstrap из 1000 выборок. и с помощью функции profit считаем прибыль по 200 лучшим тестовым значениям массива. Останется только посчитать 95%-й доверительный интервал и  риск убытков"
   ]
  },
  {
   "cell_type": "markdown",
   "metadata": {},
   "source": [
    "Начнем с объединения тестовой выборки и предсказанных значений в одну таблицу. Посмотрим на них пока отдельно. Для объединения нужно будет predict_0 переделать в датафрейм."
   ]
  },
  {
   "cell_type": "code",
   "execution_count": 74,
   "metadata": {
    "scrolled": true
   },
   "outputs": [
    {
     "data": {
      "text/html": [
       "<div>\n",
       "<style scoped>\n",
       "    .dataframe tbody tr th:only-of-type {\n",
       "        vertical-align: middle;\n",
       "    }\n",
       "\n",
       "    .dataframe tbody tr th {\n",
       "        vertical-align: top;\n",
       "    }\n",
       "\n",
       "    .dataframe thead th {\n",
       "        text-align: right;\n",
       "    }\n",
       "</style>\n",
       "<table border=\"1\" class=\"dataframe\">\n",
       "  <thead>\n",
       "    <tr style=\"text-align: right;\">\n",
       "      <th></th>\n",
       "      <th>0</th>\n",
       "    </tr>\n",
       "  </thead>\n",
       "  <tbody>\n",
       "    <tr>\n",
       "      <th>0</th>\n",
       "      <td>70.465401</td>\n",
       "    </tr>\n",
       "    <tr>\n",
       "      <th>1</th>\n",
       "      <td>106.623650</td>\n",
       "    </tr>\n",
       "    <tr>\n",
       "      <th>2</th>\n",
       "      <td>105.209633</td>\n",
       "    </tr>\n",
       "    <tr>\n",
       "      <th>3</th>\n",
       "      <td>78.424698</td>\n",
       "    </tr>\n",
       "    <tr>\n",
       "      <th>4</th>\n",
       "      <td>79.220215</td>\n",
       "    </tr>\n",
       "    <tr>\n",
       "      <th>...</th>\n",
       "      <td>...</td>\n",
       "    </tr>\n",
       "    <tr>\n",
       "      <th>24869</th>\n",
       "      <td>102.762787</td>\n",
       "    </tr>\n",
       "    <tr>\n",
       "      <th>24870</th>\n",
       "      <td>117.338562</td>\n",
       "    </tr>\n",
       "    <tr>\n",
       "      <th>24871</th>\n",
       "      <td>86.229019</td>\n",
       "    </tr>\n",
       "    <tr>\n",
       "      <th>24872</th>\n",
       "      <td>115.912849</td>\n",
       "    </tr>\n",
       "    <tr>\n",
       "      <th>24873</th>\n",
       "      <td>79.226074</td>\n",
       "    </tr>\n",
       "  </tbody>\n",
       "</table>\n",
       "<p>24874 rows × 1 columns</p>\n",
       "</div>"
      ],
      "text/plain": [
       "                0\n",
       "0       70.465401\n",
       "1      106.623650\n",
       "2      105.209633\n",
       "3       78.424698\n",
       "4       79.220215\n",
       "...           ...\n",
       "24869  102.762787\n",
       "24870  117.338562\n",
       "24871   86.229019\n",
       "24872  115.912849\n",
       "24873   79.226074\n",
       "\n",
       "[24874 rows x 1 columns]"
      ]
     },
     "metadata": {},
     "output_type": "display_data"
    },
    {
     "data": {
      "text/plain": [
       "46085     86.102676\n",
       "92047     99.631142\n",
       "43550    113.096054\n",
       "83156    108.741447\n",
       "60983     53.908081\n",
       "            ...    \n",
       "25043     46.058392\n",
       "47810     31.449265\n",
       "38331     48.171085\n",
       "41958    130.084976\n",
       "7149      76.862885\n",
       "Name: product, Length: 24874, dtype: float32"
      ]
     },
     "metadata": {},
     "output_type": "display_data"
    }
   ],
   "source": [
    "predict_0 = pd.DataFrame(predict_0)\n",
    "display(predict_0)\n",
    "display(y_test_0)"
   ]
  },
  {
   "cell_type": "markdown",
   "metadata": {},
   "source": [
    "После обучения моделей мы не изменяли переменные predict_0 и y_test_0, поэтому их значения будут соответствовать друг другу. Переделаем y_test_0 в датафрейм и обновим его индексы"
   ]
  },
  {
   "cell_type": "code",
   "execution_count": 75,
   "metadata": {
    "scrolled": true
   },
   "outputs": [
    {
     "data": {
      "text/html": [
       "<div>\n",
       "<style scoped>\n",
       "    .dataframe tbody tr th:only-of-type {\n",
       "        vertical-align: middle;\n",
       "    }\n",
       "\n",
       "    .dataframe tbody tr th {\n",
       "        vertical-align: top;\n",
       "    }\n",
       "\n",
       "    .dataframe thead th {\n",
       "        text-align: right;\n",
       "    }\n",
       "</style>\n",
       "<table border=\"1\" class=\"dataframe\">\n",
       "  <thead>\n",
       "    <tr style=\"text-align: right;\">\n",
       "      <th></th>\n",
       "      <th>product</th>\n",
       "    </tr>\n",
       "  </thead>\n",
       "  <tbody>\n",
       "    <tr>\n",
       "      <th>0</th>\n",
       "      <td>86.102676</td>\n",
       "    </tr>\n",
       "    <tr>\n",
       "      <th>1</th>\n",
       "      <td>99.631142</td>\n",
       "    </tr>\n",
       "    <tr>\n",
       "      <th>2</th>\n",
       "      <td>113.096054</td>\n",
       "    </tr>\n",
       "    <tr>\n",
       "      <th>3</th>\n",
       "      <td>108.741447</td>\n",
       "    </tr>\n",
       "    <tr>\n",
       "      <th>4</th>\n",
       "      <td>53.908081</td>\n",
       "    </tr>\n",
       "    <tr>\n",
       "      <th>...</th>\n",
       "      <td>...</td>\n",
       "    </tr>\n",
       "    <tr>\n",
       "      <th>24869</th>\n",
       "      <td>46.058392</td>\n",
       "    </tr>\n",
       "    <tr>\n",
       "      <th>24870</th>\n",
       "      <td>31.449265</td>\n",
       "    </tr>\n",
       "    <tr>\n",
       "      <th>24871</th>\n",
       "      <td>48.171085</td>\n",
       "    </tr>\n",
       "    <tr>\n",
       "      <th>24872</th>\n",
       "      <td>130.084976</td>\n",
       "    </tr>\n",
       "    <tr>\n",
       "      <th>24873</th>\n",
       "      <td>76.862885</td>\n",
       "    </tr>\n",
       "  </tbody>\n",
       "</table>\n",
       "<p>24874 rows × 1 columns</p>\n",
       "</div>"
      ],
      "text/plain": [
       "          product\n",
       "0       86.102676\n",
       "1       99.631142\n",
       "2      113.096054\n",
       "3      108.741447\n",
       "4       53.908081\n",
       "...           ...\n",
       "24869   46.058392\n",
       "24870   31.449265\n",
       "24871   48.171085\n",
       "24872  130.084976\n",
       "24873   76.862885\n",
       "\n",
       "[24874 rows x 1 columns]"
      ]
     },
     "execution_count": 75,
     "metadata": {},
     "output_type": "execute_result"
    }
   ],
   "source": [
    "y_test_0 = pd.DataFrame(y_test_0)\n",
    "y_test_0.reset_index(inplace=True, drop=True)\n",
    "y_test_0"
   ]
  },
  {
   "cell_type": "markdown",
   "metadata": {},
   "source": [
    "Объединяем"
   ]
  },
  {
   "cell_type": "code",
   "execution_count": 76,
   "metadata": {},
   "outputs": [
    {
     "data": {
      "text/html": [
       "<div>\n",
       "<style scoped>\n",
       "    .dataframe tbody tr th:only-of-type {\n",
       "        vertical-align: middle;\n",
       "    }\n",
       "\n",
       "    .dataframe tbody tr th {\n",
       "        vertical-align: top;\n",
       "    }\n",
       "\n",
       "    .dataframe thead th {\n",
       "        text-align: right;\n",
       "    }\n",
       "</style>\n",
       "<table border=\"1\" class=\"dataframe\">\n",
       "  <thead>\n",
       "    <tr style=\"text-align: right;\">\n",
       "      <th></th>\n",
       "      <th>predict_0</th>\n",
       "      <th>y_test_0</th>\n",
       "    </tr>\n",
       "  </thead>\n",
       "  <tbody>\n",
       "    <tr>\n",
       "      <th>0</th>\n",
       "      <td>70.465401</td>\n",
       "      <td>86.102676</td>\n",
       "    </tr>\n",
       "    <tr>\n",
       "      <th>1</th>\n",
       "      <td>106.623650</td>\n",
       "      <td>99.631142</td>\n",
       "    </tr>\n",
       "    <tr>\n",
       "      <th>2</th>\n",
       "      <td>105.209633</td>\n",
       "      <td>113.096054</td>\n",
       "    </tr>\n",
       "    <tr>\n",
       "      <th>3</th>\n",
       "      <td>78.424698</td>\n",
       "      <td>108.741447</td>\n",
       "    </tr>\n",
       "    <tr>\n",
       "      <th>4</th>\n",
       "      <td>79.220215</td>\n",
       "      <td>53.908081</td>\n",
       "    </tr>\n",
       "    <tr>\n",
       "      <th>...</th>\n",
       "      <td>...</td>\n",
       "      <td>...</td>\n",
       "    </tr>\n",
       "    <tr>\n",
       "      <th>24869</th>\n",
       "      <td>102.762787</td>\n",
       "      <td>46.058392</td>\n",
       "    </tr>\n",
       "    <tr>\n",
       "      <th>24870</th>\n",
       "      <td>117.338562</td>\n",
       "      <td>31.449265</td>\n",
       "    </tr>\n",
       "    <tr>\n",
       "      <th>24871</th>\n",
       "      <td>86.229019</td>\n",
       "      <td>48.171085</td>\n",
       "    </tr>\n",
       "    <tr>\n",
       "      <th>24872</th>\n",
       "      <td>115.912849</td>\n",
       "      <td>130.084976</td>\n",
       "    </tr>\n",
       "    <tr>\n",
       "      <th>24873</th>\n",
       "      <td>79.226074</td>\n",
       "      <td>76.862885</td>\n",
       "    </tr>\n",
       "  </tbody>\n",
       "</table>\n",
       "<p>24874 rows × 2 columns</p>\n",
       "</div>"
      ],
      "text/plain": [
       "        predict_0    y_test_0\n",
       "0       70.465401   86.102676\n",
       "1      106.623650   99.631142\n",
       "2      105.209633  113.096054\n",
       "3       78.424698  108.741447\n",
       "4       79.220215   53.908081\n",
       "...           ...         ...\n",
       "24869  102.762787   46.058392\n",
       "24870  117.338562   31.449265\n",
       "24871   86.229019   48.171085\n",
       "24872  115.912849  130.084976\n",
       "24873   79.226074   76.862885\n",
       "\n",
       "[24874 rows x 2 columns]"
      ]
     },
     "execution_count": 76,
     "metadata": {},
     "output_type": "execute_result"
    }
   ],
   "source": [
    "pred_test_0 = predict_0.merge(y_test_0, left_index=True, right_index=True)\n",
    "pred_test_0.columns = ['predict_0', 'y_test_0']\n",
    "pred_test_0"
   ]
  },
  {
   "cell_type": "markdown",
   "metadata": {},
   "source": [
    "Повторим для второго и третьего регионов"
   ]
  },
  {
   "cell_type": "code",
   "execution_count": 77,
   "metadata": {
    "scrolled": true
   },
   "outputs": [
    {
     "data": {
      "text/html": [
       "<div>\n",
       "<style scoped>\n",
       "    .dataframe tbody tr th:only-of-type {\n",
       "        vertical-align: middle;\n",
       "    }\n",
       "\n",
       "    .dataframe tbody tr th {\n",
       "        vertical-align: top;\n",
       "    }\n",
       "\n",
       "    .dataframe thead th {\n",
       "        text-align: right;\n",
       "    }\n",
       "</style>\n",
       "<table border=\"1\" class=\"dataframe\">\n",
       "  <thead>\n",
       "    <tr style=\"text-align: right;\">\n",
       "      <th></th>\n",
       "      <th>predict_1</th>\n",
       "      <th>y_test_1</th>\n",
       "    </tr>\n",
       "  </thead>\n",
       "  <tbody>\n",
       "    <tr>\n",
       "      <th>0</th>\n",
       "      <td>110.580917</td>\n",
       "      <td>110.992149</td>\n",
       "    </tr>\n",
       "    <tr>\n",
       "      <th>1</th>\n",
       "      <td>57.335098</td>\n",
       "      <td>57.085625</td>\n",
       "    </tr>\n",
       "    <tr>\n",
       "      <th>2</th>\n",
       "      <td>2.721462</td>\n",
       "      <td>3.179103</td>\n",
       "    </tr>\n",
       "    <tr>\n",
       "      <th>3</th>\n",
       "      <td>108.409271</td>\n",
       "      <td>107.813042</td>\n",
       "    </tr>\n",
       "    <tr>\n",
       "      <th>4</th>\n",
       "      <td>53.770519</td>\n",
       "      <td>53.906521</td>\n",
       "    </tr>\n",
       "    <tr>\n",
       "      <th>...</th>\n",
       "      <td>...</td>\n",
       "      <td>...</td>\n",
       "    </tr>\n",
       "    <tr>\n",
       "      <th>24836</th>\n",
       "      <td>55.838150</td>\n",
       "      <td>57.085625</td>\n",
       "    </tr>\n",
       "    <tr>\n",
       "      <th>24837</th>\n",
       "      <td>57.414574</td>\n",
       "      <td>57.085625</td>\n",
       "    </tr>\n",
       "    <tr>\n",
       "      <th>24838</th>\n",
       "      <td>30.247604</td>\n",
       "      <td>30.132364</td>\n",
       "    </tr>\n",
       "    <tr>\n",
       "      <th>24839</th>\n",
       "      <td>26.690371</td>\n",
       "      <td>26.953260</td>\n",
       "    </tr>\n",
       "    <tr>\n",
       "      <th>24840</th>\n",
       "      <td>107.593163</td>\n",
       "      <td>107.813042</td>\n",
       "    </tr>\n",
       "  </tbody>\n",
       "</table>\n",
       "<p>24841 rows × 2 columns</p>\n",
       "</div>"
      ],
      "text/plain": [
       "        predict_1    y_test_1\n",
       "0      110.580917  110.992149\n",
       "1       57.335098   57.085625\n",
       "2        2.721462    3.179103\n",
       "3      108.409271  107.813042\n",
       "4       53.770519   53.906521\n",
       "...           ...         ...\n",
       "24836   55.838150   57.085625\n",
       "24837   57.414574   57.085625\n",
       "24838   30.247604   30.132364\n",
       "24839   26.690371   26.953260\n",
       "24840  107.593163  107.813042\n",
       "\n",
       "[24841 rows x 2 columns]"
      ]
     },
     "execution_count": 77,
     "metadata": {},
     "output_type": "execute_result"
    }
   ],
   "source": [
    "predict_1 = pd.DataFrame(predict_1)\n",
    "y_test_1 = pd.DataFrame(y_test_1)\n",
    "y_test_1.reset_index(inplace=True, drop=True)\n",
    "pred_test_1 = predict_1.merge(y_test_1, left_index=True, right_index=True)\n",
    "pred_test_1.columns = ['predict_1', 'y_test_1']\n",
    "pred_test_1"
   ]
  },
  {
   "cell_type": "code",
   "execution_count": 78,
   "metadata": {
    "scrolled": true
   },
   "outputs": [
    {
     "data": {
      "text/html": [
       "<div>\n",
       "<style scoped>\n",
       "    .dataframe tbody tr th:only-of-type {\n",
       "        vertical-align: middle;\n",
       "    }\n",
       "\n",
       "    .dataframe tbody tr th {\n",
       "        vertical-align: top;\n",
       "    }\n",
       "\n",
       "    .dataframe thead th {\n",
       "        text-align: right;\n",
       "    }\n",
       "</style>\n",
       "<table border=\"1\" class=\"dataframe\">\n",
       "  <thead>\n",
       "    <tr style=\"text-align: right;\">\n",
       "      <th></th>\n",
       "      <th>predict_2</th>\n",
       "      <th>y_test_2</th>\n",
       "    </tr>\n",
       "  </thead>\n",
       "  <tbody>\n",
       "    <tr>\n",
       "      <th>0</th>\n",
       "      <td>91.162285</td>\n",
       "      <td>100.127357</td>\n",
       "    </tr>\n",
       "    <tr>\n",
       "      <th>1</th>\n",
       "      <td>103.089539</td>\n",
       "      <td>125.553917</td>\n",
       "    </tr>\n",
       "    <tr>\n",
       "      <th>2</th>\n",
       "      <td>118.556763</td>\n",
       "      <td>141.241531</td>\n",
       "    </tr>\n",
       "    <tr>\n",
       "      <th>3</th>\n",
       "      <td>91.042274</td>\n",
       "      <td>60.086472</td>\n",
       "    </tr>\n",
       "    <tr>\n",
       "      <th>4</th>\n",
       "      <td>82.088966</td>\n",
       "      <td>150.626938</td>\n",
       "    </tr>\n",
       "    <tr>\n",
       "      <th>...</th>\n",
       "      <td>...</td>\n",
       "      <td>...</td>\n",
       "    </tr>\n",
       "    <tr>\n",
       "      <th>24495</th>\n",
       "      <td>77.609680</td>\n",
       "      <td>70.804581</td>\n",
       "    </tr>\n",
       "    <tr>\n",
       "      <th>24496</th>\n",
       "      <td>72.703499</td>\n",
       "      <td>88.376152</td>\n",
       "    </tr>\n",
       "    <tr>\n",
       "      <th>24497</th>\n",
       "      <td>95.710617</td>\n",
       "      <td>81.352753</td>\n",
       "    </tr>\n",
       "    <tr>\n",
       "      <th>24498</th>\n",
       "      <td>117.819565</td>\n",
       "      <td>136.929550</td>\n",
       "    </tr>\n",
       "    <tr>\n",
       "      <th>24499</th>\n",
       "      <td>88.581383</td>\n",
       "      <td>67.119972</td>\n",
       "    </tr>\n",
       "  </tbody>\n",
       "</table>\n",
       "<p>24500 rows × 2 columns</p>\n",
       "</div>"
      ],
      "text/plain": [
       "        predict_2    y_test_2\n",
       "0       91.162285  100.127357\n",
       "1      103.089539  125.553917\n",
       "2      118.556763  141.241531\n",
       "3       91.042274   60.086472\n",
       "4       82.088966  150.626938\n",
       "...           ...         ...\n",
       "24495   77.609680   70.804581\n",
       "24496   72.703499   88.376152\n",
       "24497   95.710617   81.352753\n",
       "24498  117.819565  136.929550\n",
       "24499   88.581383   67.119972\n",
       "\n",
       "[24500 rows x 2 columns]"
      ]
     },
     "execution_count": 78,
     "metadata": {},
     "output_type": "execute_result"
    }
   ],
   "source": [
    "predict_2 = pd.DataFrame(predict_2)\n",
    "y_test_2 = pd.DataFrame(y_test_2)\n",
    "y_test_2.reset_index(inplace=True, drop=True)\n",
    "pred_test_2 = predict_2.merge(y_test_2, left_index=True, right_index=True)\n",
    "pred_test_2.columns = ['predict_2', 'y_test_2']\n",
    "pred_test_2"
   ]
  },
  {
   "cell_type": "markdown",
   "metadata": {},
   "source": [
    "Узнаем значение параметра frac, чтобы создавались массивы из 500 значений"
   ]
  },
  {
   "cell_type": "code",
   "execution_count": 79,
   "metadata": {},
   "outputs": [
    {
     "data": {
      "text/plain": [
       "0.020101310605451474"
      ]
     },
     "execution_count": 79,
     "metadata": {},
     "output_type": "execute_result"
    }
   ],
   "source": [
    "500 / len(predict_0)"
   ]
  },
  {
   "cell_type": "markdown",
   "metadata": {},
   "source": [
    "создаем массив из 1000 датафреймов, в которых по 500 случайных значений "
   ]
  },
  {
   "cell_type": "code",
   "execution_count": 80,
   "metadata": {
    "scrolled": true
   },
   "outputs": [
    {
     "data": {
      "text/plain": [
       "[        predict_0    y_test_0\n",
       " 20962  101.132912  154.664566\n",
       " 11749  131.792313   72.643135\n",
       " 2177   103.490936  107.240341\n",
       " 19876   93.581039   65.682404\n",
       " 11689   80.740662   47.710674\n",
       " ...           ...         ...\n",
       " 22029   94.535431   28.827080\n",
       " 13517  128.579315  130.891937\n",
       " 17127  104.781975  112.682167\n",
       " 341    106.382988  122.392838\n",
       " 3949   103.569687   81.409218\n",
       " \n",
       " [497 rows x 2 columns],\n",
       "         predict_0    y_test_0\n",
       " 14684  146.883179  135.376602\n",
       " 21731   72.028809  104.945084\n",
       " 582     95.826897   96.428032\n",
       " 20600   68.727661   14.877374\n",
       " 5717    43.741604   34.789635\n",
       " ...           ...         ...\n",
       " 10328   74.674950   59.250145\n",
       " 533    159.915527  145.539536\n",
       " 19361   75.283035   46.869755\n",
       " 5265   115.694489   72.417313\n",
       " 1551    99.694656  119.259895\n",
       " \n",
       " [497 rows x 2 columns],\n",
       "         predict_0    y_test_0\n",
       " 693    109.100105  151.757751\n",
       " 23496  125.570038  156.967865\n",
       " 16084   87.587418  124.404617\n",
       " 13724   82.534805   38.436989\n",
       " 21854   99.449211   97.096519\n",
       " ...           ...         ...\n",
       " 17608   82.550003   35.530022\n",
       " 22455  127.624130  159.282318\n",
       " 13759  129.121429  183.552475\n",
       " 6783   111.507904  149.678085\n",
       " 11543   87.806068   76.815697\n",
       " \n",
       " [497 rows x 2 columns]]"
      ]
     },
     "metadata": {},
     "output_type": "display_data"
    }
   ],
   "source": [
    "values = []\n",
    "state = np.random.RandomState(12345)\n",
    "for i in range(1000):\n",
    "    subsample = pred_test_0.sample(frac=0.02, replace=True, random_state=state)\n",
    "    values.append(subsample)\n",
    "display(values[:3])"
   ]
  },
  {
   "cell_type": "markdown",
   "metadata": {},
   "source": [
    "И теперь создаем массив profits, в котором с помощью функции profit будем хранить прибыль лучших 200 значений каждого датафрейма из массива values"
   ]
  },
  {
   "cell_type": "code",
   "execution_count": 81,
   "metadata": {
    "scrolled": true
   },
   "outputs": [
    {
     "data": {
      "text/plain": [
       "[0.17030585937500042, 0.3301894531249996, 0.8433318359374997]"
      ]
     },
     "metadata": {},
     "output_type": "display_data"
    }
   ],
   "source": [
    "profits = []\n",
    "for i in range(1000):\n",
    "    money = profit(values[i], 'predict_0', 'y_test_0' )\n",
    "    profits.append(money)\n",
    "display(profits[:3])"
   ]
  },
  {
   "cell_type": "markdown",
   "metadata": {},
   "source": [
    "Считаем 95%-й доверительный интервал и риск убытков"
   ]
  },
  {
   "cell_type": "code",
   "execution_count": 82,
   "metadata": {},
   "outputs": [
    {
     "name": "stdout",
     "output_type": "stream",
     "text": [
      "-0.09\n",
      "0.94\n",
      "\n",
      "Процент убытков:  5.4 %\n"
     ]
    }
   ],
   "source": [
    "profits = pd.Series(profits)\n",
    "lower = profits.quantile(0.025).round(2)\n",
    "upper = profits.quantile(0.975).round(2)\n",
    "print(lower)\n",
    "print(upper)\n",
    "print()\n",
    "\n",
    "q = (((profits < 0).mean())*100).round(1)\n",
    "print('Процент убытков: ', q, '%')"
   ]
  },
  {
   "cell_type": "markdown",
   "metadata": {},
   "source": [
    "Из 1000 значений оказались 54 убыточных. Это 5.4%, что не удовлетворяет условиям заказчика. Этот регион нам не подходит. Посмотрим на другие"
   ]
  },
  {
   "cell_type": "code",
   "execution_count": 83,
   "metadata": {
    "scrolled": true
   },
   "outputs": [
    {
     "data": {
      "text/plain": [
       "[        predict_1    y_test_1\n",
       " 20962   81.164848   80.859779\n",
       " 11749   -0.736720    0.000000\n",
       " 2177    -1.303916    0.000000\n",
       " 19876   80.266472   80.859779\n",
       " 11689   81.671532   80.859779\n",
       " ...           ...         ...\n",
       " 13517   81.187866   80.859779\n",
       " 17127  138.019165  137.945404\n",
       " 341    110.190254  110.992149\n",
       " 3949   107.971375  107.813042\n",
       " 14684   80.730888   80.859779\n",
       " \n",
       " [497 rows x 2 columns],\n",
       "         predict_1    y_test_1\n",
       " 21731  109.652580  110.992149\n",
       " 582     81.614143   80.859779\n",
       " 20600   30.637224   30.132364\n",
       " 5717    27.524693   26.953260\n",
       " 18761  137.504700  137.945404\n",
       " ...           ...         ...\n",
       " 19361   31.873186   30.132364\n",
       " 5265    27.195671   26.953260\n",
       " 1551   138.903351  137.945404\n",
       " 693     82.440865   84.038887\n",
       " 23496  108.516296  107.813042\n",
       " \n",
       " [497 rows x 2 columns],\n",
       "         predict_1    y_test_1\n",
       " 16084  135.003174  134.766312\n",
       " 13724    1.924183    3.179103\n",
       " 21854  109.061768  110.992149\n",
       " 13447   29.346067   30.132364\n",
       " 7665   137.573425  137.945404\n",
       " ...           ...         ...\n",
       " 11543   29.414049   30.132364\n",
       " 5135   107.900528  107.813042\n",
       " 16411   27.429773   26.953260\n",
       " 8973   109.766708  110.992149\n",
       " 9280    30.453827   30.132364\n",
       " \n",
       " [497 rows x 2 columns]]"
      ]
     },
     "metadata": {},
     "output_type": "display_data"
    }
   ],
   "source": [
    "values = []\n",
    "state = np.random.RandomState(12345)\n",
    "for i in range(1000):\n",
    "    subsample = pred_test_1.sample(frac=0.02, replace=True, random_state=state)\n",
    "    values.append(subsample)\n",
    "display(values[:3])"
   ]
  },
  {
   "cell_type": "code",
   "execution_count": 84,
   "metadata": {
    "scrolled": true
   },
   "outputs": [
    {
     "data": {
      "text/plain": [
       "[0.2879782226562497, 0.23442294921875018, 0.8622687500000001]"
      ]
     },
     "metadata": {},
     "output_type": "display_data"
    }
   ],
   "source": [
    "profits = []\n",
    "for i in range(1000):\n",
    "    money = profit(values[i], 'predict_1', 'y_test_1' )\n",
    "    profits.append(money)\n",
    "display(profits[:3])"
   ]
  },
  {
   "cell_type": "code",
   "execution_count": 85,
   "metadata": {},
   "outputs": [
    {
     "name": "stdout",
     "output_type": "stream",
     "text": [
      "0.040359570312499926\n",
      "0.8302008227539067\n",
      "\n",
      "Процент убытков:  1.5 %\n"
     ]
    }
   ],
   "source": [
    "profits = pd.Series(profits)\n",
    "lower = profits.quantile(0.025)\n",
    "upper = profits.quantile(0.975)\n",
    "print(lower)\n",
    "print(upper)\n",
    "print()\n",
    "\n",
    "q = (((profits < 0).mean())*100).round(1)\n",
    "print('Процент убытков: ', q, '%')"
   ]
  },
  {
   "cell_type": "markdown",
   "metadata": {},
   "source": [
    "А вот тут у нас получилась возможность убытка 1.5%. Это меньше 2.5, поэтому второй регион подходит под условия. Посмотрим на последний регион"
   ]
  },
  {
   "cell_type": "code",
   "execution_count": 86,
   "metadata": {
    "scrolled": true
   },
   "outputs": [
    {
     "data": {
      "text/plain": [
       "[        predict_2    y_test_2\n",
       " 20962   97.395523   73.697807\n",
       " 11749   79.914406  167.209351\n",
       " 2177    58.323830   76.560219\n",
       " 19876   69.593269   85.443687\n",
       " 11689   83.586372   87.471375\n",
       " ...           ...         ...\n",
       " 22029  104.950912  171.095215\n",
       " 13517   73.586411   69.997910\n",
       " 17127  103.801613   81.346252\n",
       " 341     98.522247  102.361412\n",
       " 3949   115.616478  154.292419\n",
       " \n",
       " [490 rows x 2 columns],\n",
       "         predict_2    y_test_2\n",
       " 14684   80.714806  103.514580\n",
       " 21731   90.851707   11.683822\n",
       " 582     90.697365  163.597305\n",
       " 20600   71.171234   26.395811\n",
       " 5717    84.792435   54.034000\n",
       " ...           ...         ...\n",
       " 533     85.500763  151.816040\n",
       " 19361   97.316437  138.514984\n",
       " 5265   125.356567  105.242996\n",
       " 1551   109.406967  179.105927\n",
       " 693     96.010239  115.903290\n",
       " \n",
       " [490 rows x 2 columns],\n",
       "         predict_2    y_test_2\n",
       " 23496   87.185577   27.980444\n",
       " 16084   92.478592  102.761894\n",
       " 13724   67.612007  105.964828\n",
       " 21854  131.104507  153.366318\n",
       " 13447  123.653786   45.263725\n",
       " ...           ...         ...\n",
       " 6783    67.414169   98.707726\n",
       " 11543   76.780502   50.415009\n",
       " 5135    62.328712   58.593788\n",
       " 16411   98.482788   77.198517\n",
       " 8973    62.041534   59.048027\n",
       " \n",
       " [490 rows x 2 columns]]"
      ]
     },
     "metadata": {},
     "output_type": "display_data"
    }
   ],
   "source": [
    "values = []\n",
    "state = np.random.RandomState(12345)\n",
    "for i in range(1000):\n",
    "    subsample = pred_test_2.sample(frac=0.02, replace=True, random_state=state)\n",
    "    values.append(subsample)\n",
    "display(values[:3])"
   ]
  },
  {
   "cell_type": "code",
   "execution_count": 87,
   "metadata": {
    "scrolled": true
   },
   "outputs": [
    {
     "data": {
      "text/plain": [
       "[0.3457707031249999, 0.1103468749999994, 0.38973007812499993]"
      ]
     },
     "metadata": {},
     "output_type": "display_data"
    }
   ],
   "source": [
    "profits = []\n",
    "for i in range(1000):\n",
    "    money = profit(values[i], 'predict_2', 'y_test_2' )\n",
    "    profits.append(money)\n",
    "display(profits[:3])"
   ]
  },
  {
   "cell_type": "code",
   "execution_count": 88,
   "metadata": {
    "scrolled": true
   },
   "outputs": [
    {
     "name": "stdout",
     "output_type": "stream",
     "text": [
      "-0.22733956298828054\n",
      "0.7980232958984368\n",
      "\n",
      "Процент убытков:  13.6 %\n"
     ]
    }
   ],
   "source": [
    "profits = pd.Series(profits)\n",
    "lower = profits.quantile(0.025)\n",
    "upper = profits.quantile(0.975)\n",
    "print(lower)\n",
    "print(upper)\n",
    "print()\n",
    "\n",
    "q = (((profits < 0).mean())*100).round(1)\n",
    "print('Процент убытков: ', q, '%')"
   ]
  },
  {
   "cell_type": "markdown",
   "metadata": {},
   "source": [
    "Из 1000 значений 136 оказались убыточными. Это 13.6%, что не удовлетворяет условиям заказчика"
   ]
  },
  {
   "cell_type": "markdown",
   "metadata": {},
   "source": [
    "На последнем шаге мы посчитали риски и прибыль бурения новых скважин для каждого региона. После оценки рисков нужно оставить лишь те регионы, в которых вероятность убытков меньше 2.5%. У нас таким оказался только один регион: geo_data_1, поэтому не нужно даже выбирать по другим показателям. Шанс убытка при бурении новой скважины оказался 1.5%"
   ]
  },
  {
   "cell_type": "markdown",
   "metadata": {},
   "source": [
    "# Вывод"
   ]
  },
  {
   "cell_type": "markdown",
   "metadata": {},
   "source": [
    "В данном проекте мы помогли нашей компании «ГлавРосГосНефть», которая предоставила пробы нефти в трёх регионах, с выбором места для бурения новой скважины. Для этого нам пришлось проделать несколько шагов:\n",
    "- Загрузка и подготовка данных. Сначала мы загрузили данные, это были три таблицы: geo_data_0, geo_data_1, geo_data_2. На первый вгляд ничего особенного не было замечено. Затем мы приступили к предобработке данных, где мы обработали данные, используя две функции: optimize_memory_usage() и analiz(). Первая помогла уменьшить затртату памяти на данные, поменяв типы float64 на float32, чтобы ускорить работу с ними. Вторая - проверила таблицы на пропуски и дубликаты. Ничего из этого не было обнаружено. Затем мы перенесли столбец id в индексы и проверили на дубликаты, но их не оказалось. И последним \"подшагом\" был исследовательский анализ, в котором во всех трех таблицах оказались выбросы. В geo_data_0 мы удалили 507 выбросов в столбце с f2. 637 выбросов мы удалили из таблицы geo_data_1. 636 из них находились в f1, а еще один в f0. И в geo_data_2 нашлось 29948 выбросов. Из них 734 - f0, 684 - f1, 582 - f2.\n",
    "- Обучение и проверка модели. На данном шаге мы воспользовались функцией model(), которая обучает модель линейной регрессии, считает среднее предсказанных значений, метрику RMSE и процент разброса полученной величины от среднего предсказанного значения. Результаты первого и третьего регионов оказались не очень хорошими и достаточно схожими(Метрика RMSE для первого:  37.395252 и 40.233105 для второго. Во втором регионе значение ошибки оказалось очень маленьким метрика - 0.8880475.\n",
    "- Подготовка к расчёту прибыли. Этот шаг нам помог выяснить, что при выборе 200 максимально прибыльных точек для бурения скважин из 500 случайных, первый и третий регионы скорее всего будут окупаться, а второй намного реже. Это можно было понять по разнице между средними предсказанными и необходимым для получения прибыли при установке скважин значениями кол-ва тысячей баррелей. Значения получились такими: 18 для первой, 42 для второй и 16 для третьей.\n",
    "- Расчёт прибыли и рисков. В нем мы посчитали риски и прибыль бурения новых скважин для каждого региона. После оценки рисков нужно оставить лишь те регионы, в которых вероятность убытков меньше 2.5%. У нас таким оказался только один регион: geo_data_1, поэтому не нужно даже выбирать по другим показателям. Шанс убытка при бурении новой скважины оказался 1.5%\n",
    "\n",
    "Самым оптимальным для бурения новых скважин оказался второй регион с данными из geo_data_1. Он показал лучшие результаты при использовании модели. В подготовке прибыли к расчету регион оказался с самым маленьким значением по среднему кол-ву баррелей в скважинах, но это не помешало в итоговой проверке с помощью Bootstrap и функции profit стать единственным регионом, который смог удовлетворить всем условиям компании."
   ]
  }
 ],
 "metadata": {
  "ExecuteTimeLog": [
   {
    "duration": 49,
    "start_time": "2024-01-05T19:45:33.445Z"
   },
   {
    "duration": 2575,
    "start_time": "2024-01-05T19:46:16.973Z"
   },
   {
    "duration": 373,
    "start_time": "2024-01-05T19:46:19.550Z"
   },
   {
    "duration": 771,
    "start_time": "2024-01-05T19:46:19.925Z"
   },
   {
    "duration": 45,
    "start_time": "2024-01-06T06:51:03.791Z"
   },
   {
    "duration": 2479,
    "start_time": "2024-01-06T06:51:09.854Z"
   },
   {
    "duration": 387,
    "start_time": "2024-01-06T06:51:12.335Z"
   },
   {
    "duration": 390,
    "start_time": "2024-01-06T06:51:12.723Z"
   },
   {
    "duration": 581,
    "start_time": "2024-01-06T06:51:33.783Z"
   },
   {
    "duration": 414,
    "start_time": "2024-01-06T06:51:58.425Z"
   },
   {
    "duration": 2286,
    "start_time": "2024-01-06T07:04:32.197Z"
   },
   {
    "duration": 2,
    "start_time": "2024-01-06T07:04:34.485Z"
   },
   {
    "duration": 20,
    "start_time": "2024-01-06T07:04:34.489Z"
   },
   {
    "duration": 464,
    "start_time": "2024-01-06T07:04:34.511Z"
   },
   {
    "duration": 15,
    "start_time": "2024-01-06T07:04:34.976Z"
   },
   {
    "duration": 2234,
    "start_time": "2024-01-06T07:05:30.277Z"
   },
   {
    "duration": 3,
    "start_time": "2024-01-06T07:05:32.514Z"
   },
   {
    "duration": 12,
    "start_time": "2024-01-06T07:05:32.519Z"
   },
   {
    "duration": 430,
    "start_time": "2024-01-06T07:05:32.532Z"
   },
   {
    "duration": 56,
    "start_time": "2024-01-06T07:05:32.966Z"
   },
   {
    "duration": 422,
    "start_time": "2024-01-06T07:07:06.633Z"
   },
   {
    "duration": 2297,
    "start_time": "2024-01-06T07:07:47.244Z"
   },
   {
    "duration": 2,
    "start_time": "2024-01-06T07:07:49.544Z"
   },
   {
    "duration": 36,
    "start_time": "2024-01-06T07:07:49.548Z"
   },
   {
    "duration": 485,
    "start_time": "2024-01-06T07:07:49.586Z"
   },
   {
    "duration": 55,
    "start_time": "2024-01-06T07:07:50.073Z"
   },
   {
    "duration": 11,
    "start_time": "2024-01-06T07:28:28.464Z"
   },
   {
    "duration": 2292,
    "start_time": "2024-01-06T07:28:33.303Z"
   },
   {
    "duration": 2,
    "start_time": "2024-01-06T07:28:35.597Z"
   },
   {
    "duration": 9,
    "start_time": "2024-01-06T07:28:35.601Z"
   },
   {
    "duration": 479,
    "start_time": "2024-01-06T07:28:35.612Z"
   },
   {
    "duration": 49,
    "start_time": "2024-01-06T07:28:36.092Z"
   },
   {
    "duration": 29,
    "start_time": "2024-01-06T07:28:36.142Z"
   },
   {
    "duration": 99,
    "start_time": "2024-01-06T07:29:01.319Z"
   },
   {
    "duration": 2248,
    "start_time": "2024-01-06T07:32:23.879Z"
   },
   {
    "duration": 3,
    "start_time": "2024-01-06T07:32:26.129Z"
   },
   {
    "duration": 15,
    "start_time": "2024-01-06T07:32:26.133Z"
   },
   {
    "duration": 475,
    "start_time": "2024-01-06T07:32:26.150Z"
   },
   {
    "duration": 73,
    "start_time": "2024-01-06T07:32:26.627Z"
   },
   {
    "duration": 310,
    "start_time": "2024-01-06T07:32:26.701Z"
   },
   {
    "duration": 270,
    "start_time": "2024-01-06T07:36:40.063Z"
   },
   {
    "duration": 2249,
    "start_time": "2024-01-06T07:39:00.422Z"
   },
   {
    "duration": 3,
    "start_time": "2024-01-06T07:39:02.673Z"
   },
   {
    "duration": 22,
    "start_time": "2024-01-06T07:39:02.677Z"
   },
   {
    "duration": 469,
    "start_time": "2024-01-06T07:39:02.700Z"
   },
   {
    "duration": 51,
    "start_time": "2024-01-06T07:39:03.171Z"
   },
   {
    "duration": 292,
    "start_time": "2024-01-06T07:39:03.224Z"
   },
   {
    "duration": 2499,
    "start_time": "2024-01-06T13:17:34.645Z"
   },
   {
    "duration": 399,
    "start_time": "2024-01-06T13:17:37.146Z"
   },
   {
    "duration": 9,
    "start_time": "2024-01-06T13:17:37.547Z"
   },
   {
    "duration": 841,
    "start_time": "2024-01-06T13:17:37.558Z"
   },
   {
    "duration": 66,
    "start_time": "2024-01-06T13:17:38.401Z"
   },
   {
    "duration": 288,
    "start_time": "2024-01-06T13:17:38.469Z"
   },
   {
    "duration": 14,
    "start_time": "2024-01-06T13:38:17.363Z"
   },
   {
    "duration": 2186,
    "start_time": "2024-01-06T13:38:58.587Z"
   },
   {
    "duration": 2,
    "start_time": "2024-01-06T13:39:00.776Z"
   },
   {
    "duration": 51,
    "start_time": "2024-01-06T13:39:00.780Z"
   },
   {
    "duration": 648,
    "start_time": "2024-01-06T13:39:00.833Z"
   },
   {
    "duration": 65,
    "start_time": "2024-01-06T13:39:01.483Z"
   },
   {
    "duration": 263,
    "start_time": "2024-01-06T13:39:01.550Z"
   },
   {
    "duration": 13,
    "start_time": "2024-01-06T13:39:01.814Z"
   },
   {
    "duration": 2171,
    "start_time": "2024-01-06T13:40:34.623Z"
   },
   {
    "duration": 3,
    "start_time": "2024-01-06T13:40:36.796Z"
   },
   {
    "duration": 8,
    "start_time": "2024-01-06T13:40:36.801Z"
   },
   {
    "duration": 474,
    "start_time": "2024-01-06T13:40:36.811Z"
   },
   {
    "duration": 66,
    "start_time": "2024-01-06T13:40:37.286Z"
   },
   {
    "duration": 269,
    "start_time": "2024-01-06T13:40:37.353Z"
   },
   {
    "duration": 50,
    "start_time": "2024-01-06T13:40:37.623Z"
   },
   {
    "duration": 60,
    "start_time": "2024-01-06T13:42:51.027Z"
   },
   {
    "duration": 7,
    "start_time": "2024-01-06T13:42:56.343Z"
   },
   {
    "duration": 26,
    "start_time": "2024-01-06T13:43:38.383Z"
   },
   {
    "duration": 61,
    "start_time": "2024-01-06T13:44:42.579Z"
   },
   {
    "duration": 62,
    "start_time": "2024-01-06T13:45:31.383Z"
   },
   {
    "duration": 61,
    "start_time": "2024-01-06T13:45:54.963Z"
   },
   {
    "duration": 59,
    "start_time": "2024-01-06T13:47:08.427Z"
   },
   {
    "duration": 7,
    "start_time": "2024-01-06T14:19:07.226Z"
   },
   {
    "duration": 2244,
    "start_time": "2024-01-06T14:19:12.874Z"
   },
   {
    "duration": 3,
    "start_time": "2024-01-06T14:19:15.120Z"
   },
   {
    "duration": 14,
    "start_time": "2024-01-06T14:19:15.124Z"
   },
   {
    "duration": 464,
    "start_time": "2024-01-06T14:19:15.140Z"
   },
   {
    "duration": 56,
    "start_time": "2024-01-06T14:19:15.606Z"
   },
   {
    "duration": 263,
    "start_time": "2024-01-06T14:19:15.663Z"
   },
   {
    "duration": 43,
    "start_time": "2024-01-06T14:19:15.927Z"
   },
   {
    "duration": 86,
    "start_time": "2024-01-06T14:19:15.971Z"
   },
   {
    "duration": 9,
    "start_time": "2024-01-06T14:19:16.058Z"
   },
   {
    "duration": 4348,
    "start_time": "2024-01-06T14:20:08.998Z"
   },
   {
    "duration": 852,
    "start_time": "2024-01-06T14:20:13.348Z"
   },
   {
    "duration": 12,
    "start_time": "2024-01-06T14:20:14.202Z"
   },
   {
    "duration": 491,
    "start_time": "2024-01-06T14:20:14.216Z"
   },
   {
    "duration": 66,
    "start_time": "2024-01-06T14:20:14.709Z"
   },
   {
    "duration": 281,
    "start_time": "2024-01-06T14:20:14.777Z"
   },
   {
    "duration": 30,
    "start_time": "2024-01-06T14:20:15.059Z"
   },
   {
    "duration": 114,
    "start_time": "2024-01-06T14:20:15.090Z"
   },
   {
    "duration": 94,
    "start_time": "2024-01-06T14:20:15.205Z"
   },
   {
    "duration": 6469,
    "start_time": "2024-01-06T14:21:04.438Z"
   },
   {
    "duration": 2,
    "start_time": "2024-01-06T14:21:10.910Z"
   },
   {
    "duration": 19,
    "start_time": "2024-01-06T14:21:10.914Z"
   },
   {
    "duration": 452,
    "start_time": "2024-01-06T14:21:10.935Z"
   },
   {
    "duration": 62,
    "start_time": "2024-01-06T14:21:11.389Z"
   },
   {
    "duration": 271,
    "start_time": "2024-01-06T14:21:11.453Z"
   },
   {
    "duration": 45,
    "start_time": "2024-01-06T14:21:11.726Z"
   },
   {
    "duration": 79,
    "start_time": "2024-01-06T14:21:11.773Z"
   },
   {
    "duration": 1576,
    "start_time": "2024-01-06T14:21:11.854Z"
   },
   {
    "duration": 1606,
    "start_time": "2024-01-06T14:23:37.839Z"
   },
   {
    "duration": 1843,
    "start_time": "2024-01-06T14:24:14.131Z"
   },
   {
    "duration": 11,
    "start_time": "2024-01-06T15:13:01.927Z"
   },
   {
    "duration": 13,
    "start_time": "2024-01-06T15:18:06.898Z"
   },
   {
    "duration": 21,
    "start_time": "2024-01-06T15:19:14.594Z"
   },
   {
    "duration": 9,
    "start_time": "2024-01-06T15:19:57.534Z"
   },
   {
    "duration": 7328,
    "start_time": "2024-01-06T15:20:00.785Z"
   },
   {
    "duration": 3,
    "start_time": "2024-01-06T15:20:08.115Z"
   },
   {
    "duration": 13,
    "start_time": "2024-01-06T15:20:08.119Z"
   },
   {
    "duration": 492,
    "start_time": "2024-01-06T15:20:08.133Z"
   },
   {
    "duration": 66,
    "start_time": "2024-01-06T15:20:08.627Z"
   },
   {
    "duration": 308,
    "start_time": "2024-01-06T15:20:08.695Z"
   },
   {
    "duration": 48,
    "start_time": "2024-01-06T15:20:09.004Z"
   },
   {
    "duration": 91,
    "start_time": "2024-01-06T15:20:09.054Z"
   },
   {
    "duration": 1894,
    "start_time": "2024-01-06T15:20:09.147Z"
   },
   {
    "duration": 10,
    "start_time": "2024-01-06T15:20:11.044Z"
   },
   {
    "duration": 236,
    "start_time": "2024-01-06T15:20:11.055Z"
   },
   {
    "duration": 0,
    "start_time": "2024-01-06T15:20:11.293Z"
   },
   {
    "duration": 0,
    "start_time": "2024-01-06T15:20:11.294Z"
   },
   {
    "duration": 169,
    "start_time": "2024-01-06T15:21:24.730Z"
   },
   {
    "duration": 7412,
    "start_time": "2024-01-06T15:22:27.861Z"
   },
   {
    "duration": 3,
    "start_time": "2024-01-06T15:22:35.276Z"
   },
   {
    "duration": 12,
    "start_time": "2024-01-06T15:22:35.281Z"
   },
   {
    "duration": 503,
    "start_time": "2024-01-06T15:22:35.295Z"
   },
   {
    "duration": 70,
    "start_time": "2024-01-06T15:22:35.800Z"
   },
   {
    "duration": 322,
    "start_time": "2024-01-06T15:22:35.871Z"
   },
   {
    "duration": 51,
    "start_time": "2024-01-06T15:22:36.195Z"
   },
   {
    "duration": 73,
    "start_time": "2024-01-06T15:22:36.247Z"
   },
   {
    "duration": 1862,
    "start_time": "2024-01-06T15:22:36.321Z"
   },
   {
    "duration": 10,
    "start_time": "2024-01-06T15:22:38.186Z"
   },
   {
    "duration": 66,
    "start_time": "2024-01-06T15:22:38.198Z"
   },
   {
    "duration": 0,
    "start_time": "2024-01-06T15:22:38.266Z"
   },
   {
    "duration": 0,
    "start_time": "2024-01-06T15:22:38.268Z"
   },
   {
    "duration": 57,
    "start_time": "2024-01-06T15:22:43.909Z"
   },
   {
    "duration": 7383,
    "start_time": "2024-01-06T15:25:18.738Z"
   },
   {
    "duration": 3,
    "start_time": "2024-01-06T15:25:26.123Z"
   },
   {
    "duration": 32,
    "start_time": "2024-01-06T15:25:26.128Z"
   },
   {
    "duration": 533,
    "start_time": "2024-01-06T15:25:26.163Z"
   },
   {
    "duration": 64,
    "start_time": "2024-01-06T15:25:26.698Z"
   },
   {
    "duration": 324,
    "start_time": "2024-01-06T15:25:26.763Z"
   },
   {
    "duration": 31,
    "start_time": "2024-01-06T15:25:27.089Z"
   },
   {
    "duration": 93,
    "start_time": "2024-01-06T15:25:27.122Z"
   },
   {
    "duration": 1910,
    "start_time": "2024-01-06T15:25:27.217Z"
   },
   {
    "duration": 16,
    "start_time": "2024-01-06T15:25:29.130Z"
   },
   {
    "duration": 31,
    "start_time": "2024-01-06T15:25:29.148Z"
   },
   {
    "duration": 1921,
    "start_time": "2024-01-06T15:25:29.181Z"
   },
   {
    "duration": 2050,
    "start_time": "2024-01-06T15:25:31.104Z"
   },
   {
    "duration": 7,
    "start_time": "2024-01-06T15:31:40.057Z"
   },
   {
    "duration": 8,
    "start_time": "2024-01-06T15:31:48.129Z"
   },
   {
    "duration": 6,
    "start_time": "2024-01-06T15:31:55.157Z"
   },
   {
    "duration": 14,
    "start_time": "2024-01-06T15:32:22.849Z"
   },
   {
    "duration": 17,
    "start_time": "2024-01-06T16:08:14.155Z"
   },
   {
    "duration": 8,
    "start_time": "2024-01-06T16:08:21.690Z"
   },
   {
    "duration": 9,
    "start_time": "2024-01-06T16:09:48.006Z"
   },
   {
    "duration": 6782,
    "start_time": "2024-01-06T16:14:17.081Z"
   },
   {
    "duration": 1094,
    "start_time": "2024-01-06T16:14:23.866Z"
   },
   {
    "duration": 12,
    "start_time": "2024-01-06T16:14:24.962Z"
   },
   {
    "duration": 444,
    "start_time": "2024-01-06T16:14:24.975Z"
   },
   {
    "duration": 79,
    "start_time": "2024-01-06T16:14:25.420Z"
   },
   {
    "duration": 296,
    "start_time": "2024-01-06T16:14:25.501Z"
   },
   {
    "duration": 50,
    "start_time": "2024-01-06T16:14:25.798Z"
   },
   {
    "duration": 71,
    "start_time": "2024-01-06T16:14:25.849Z"
   },
   {
    "duration": 1570,
    "start_time": "2024-01-06T16:14:25.921Z"
   },
   {
    "duration": 9,
    "start_time": "2024-01-06T16:14:27.493Z"
   },
   {
    "duration": 14,
    "start_time": "2024-01-06T16:14:27.503Z"
   },
   {
    "duration": 1702,
    "start_time": "2024-01-06T16:14:27.518Z"
   },
   {
    "duration": 6817,
    "start_time": "2024-01-06T16:16:52.145Z"
   },
   {
    "duration": 1108,
    "start_time": "2024-01-06T16:16:58.964Z"
   },
   {
    "duration": 11,
    "start_time": "2024-01-06T16:17:00.074Z"
   },
   {
    "duration": 616,
    "start_time": "2024-01-06T16:17:00.087Z"
   },
   {
    "duration": 68,
    "start_time": "2024-01-06T16:17:00.705Z"
   },
   {
    "duration": 332,
    "start_time": "2024-01-06T16:17:00.774Z"
   },
   {
    "duration": 46,
    "start_time": "2024-01-06T16:17:01.107Z"
   },
   {
    "duration": 77,
    "start_time": "2024-01-06T16:17:01.154Z"
   },
   {
    "duration": 1606,
    "start_time": "2024-01-06T16:17:01.245Z"
   },
   {
    "duration": 9,
    "start_time": "2024-01-06T16:17:02.859Z"
   },
   {
    "duration": 107,
    "start_time": "2024-01-06T16:17:02.869Z"
   },
   {
    "duration": 1833,
    "start_time": "2024-01-06T16:17:02.977Z"
   },
   {
    "duration": 8,
    "start_time": "2024-01-06T16:17:04.811Z"
   },
   {
    "duration": 7409,
    "start_time": "2024-01-06T18:40:39.734Z"
   },
   {
    "duration": 1362,
    "start_time": "2024-01-06T18:40:47.146Z"
   },
   {
    "duration": 12,
    "start_time": "2024-01-06T18:40:48.510Z"
   },
   {
    "duration": 831,
    "start_time": "2024-01-06T18:40:48.525Z"
   },
   {
    "duration": 58,
    "start_time": "2024-01-06T18:40:49.357Z"
   },
   {
    "duration": 375,
    "start_time": "2024-01-06T18:40:49.416Z"
   },
   {
    "duration": 57,
    "start_time": "2024-01-06T18:40:49.794Z"
   },
   {
    "duration": 99,
    "start_time": "2024-01-06T18:40:49.853Z"
   },
   {
    "duration": 1755,
    "start_time": "2024-01-06T18:40:49.954Z"
   },
   {
    "duration": 9,
    "start_time": "2024-01-06T18:40:51.712Z"
   },
   {
    "duration": 26,
    "start_time": "2024-01-06T18:40:51.722Z"
   },
   {
    "duration": 1790,
    "start_time": "2024-01-06T18:40:51.749Z"
   },
   {
    "duration": 9,
    "start_time": "2024-01-06T18:40:53.541Z"
   },
   {
    "duration": 7174,
    "start_time": "2024-01-06T18:42:46.939Z"
   },
   {
    "duration": 1158,
    "start_time": "2024-01-06T18:42:54.115Z"
   },
   {
    "duration": 12,
    "start_time": "2024-01-06T18:42:55.275Z"
   },
   {
    "duration": 479,
    "start_time": "2024-01-06T18:42:55.289Z"
   },
   {
    "duration": 86,
    "start_time": "2024-01-06T18:42:55.771Z"
   },
   {
    "duration": 322,
    "start_time": "2024-01-06T18:42:55.858Z"
   },
   {
    "duration": 41,
    "start_time": "2024-01-06T18:42:56.182Z"
   },
   {
    "duration": 81,
    "start_time": "2024-01-06T18:42:56.241Z"
   },
   {
    "duration": 1622,
    "start_time": "2024-01-06T18:42:56.323Z"
   },
   {
    "duration": 10,
    "start_time": "2024-01-06T18:42:57.947Z"
   },
   {
    "duration": 19,
    "start_time": "2024-01-06T18:42:57.959Z"
   },
   {
    "duration": 1794,
    "start_time": "2024-01-06T18:42:57.980Z"
   },
   {
    "duration": 3,
    "start_time": "2024-01-06T18:42:59.776Z"
   },
   {
    "duration": 11,
    "start_time": "2024-01-06T18:42:59.781Z"
   },
   {
    "duration": 2100,
    "start_time": "2024-01-06T18:42:59.794Z"
   },
   {
    "duration": 149,
    "start_time": "2024-01-06T18:43:54.931Z"
   },
   {
    "duration": 7203,
    "start_time": "2024-01-06T18:44:29.467Z"
   },
   {
    "duration": 4,
    "start_time": "2024-01-06T18:44:36.672Z"
   },
   {
    "duration": 13,
    "start_time": "2024-01-06T18:44:36.677Z"
   },
   {
    "duration": 482,
    "start_time": "2024-01-06T18:44:36.692Z"
   },
   {
    "duration": 76,
    "start_time": "2024-01-06T18:44:37.175Z"
   },
   {
    "duration": 354,
    "start_time": "2024-01-06T18:44:37.253Z"
   },
   {
    "duration": 49,
    "start_time": "2024-01-06T18:44:37.609Z"
   },
   {
    "duration": 87,
    "start_time": "2024-01-06T18:44:37.660Z"
   },
   {
    "duration": 1742,
    "start_time": "2024-01-06T18:44:37.748Z"
   },
   {
    "duration": 11,
    "start_time": "2024-01-06T18:44:39.493Z"
   },
   {
    "duration": 38,
    "start_time": "2024-01-06T18:44:39.506Z"
   },
   {
    "duration": 12,
    "start_time": "2024-01-06T18:44:39.546Z"
   },
   {
    "duration": 1966,
    "start_time": "2024-01-06T18:44:39.561Z"
   },
   {
    "duration": 146,
    "start_time": "2024-01-06T18:44:41.529Z"
   },
   {
    "duration": 3,
    "start_time": "2024-01-06T18:44:41.676Z"
   },
   {
    "duration": 2055,
    "start_time": "2024-01-06T18:44:41.680Z"
   },
   {
    "duration": 1420,
    "start_time": "2024-01-06T18:46:57.379Z"
   },
   {
    "duration": 285,
    "start_time": "2024-01-06T18:47:02.786Z"
   },
   {
    "duration": 148,
    "start_time": "2024-01-06T18:47:22.362Z"
   },
   {
    "duration": 149,
    "start_time": "2024-01-06T18:49:26.758Z"
   },
   {
    "duration": 254,
    "start_time": "2024-01-06T18:49:33.382Z"
   },
   {
    "duration": 168,
    "start_time": "2024-01-06T18:49:49.710Z"
   },
   {
    "duration": 182,
    "start_time": "2024-01-06T18:49:55.594Z"
   },
   {
    "duration": 7248,
    "start_time": "2024-01-06T18:55:20.814Z"
   },
   {
    "duration": 3,
    "start_time": "2024-01-06T18:55:28.065Z"
   },
   {
    "duration": 12,
    "start_time": "2024-01-06T18:55:28.070Z"
   },
   {
    "duration": 500,
    "start_time": "2024-01-06T18:55:28.084Z"
   },
   {
    "duration": 74,
    "start_time": "2024-01-06T18:55:28.585Z"
   },
   {
    "duration": 338,
    "start_time": "2024-01-06T18:55:28.661Z"
   },
   {
    "duration": 59,
    "start_time": "2024-01-06T18:55:29.000Z"
   },
   {
    "duration": 90,
    "start_time": "2024-01-06T18:55:29.061Z"
   },
   {
    "duration": 1394,
    "start_time": "2024-01-06T18:55:29.152Z"
   },
   {
    "duration": 10,
    "start_time": "2024-01-06T18:55:30.548Z"
   },
   {
    "duration": 49,
    "start_time": "2024-01-06T18:55:30.560Z"
   },
   {
    "duration": 40,
    "start_time": "2024-01-06T18:55:30.611Z"
   },
   {
    "duration": 1655,
    "start_time": "2024-01-06T18:55:30.653Z"
   },
   {
    "duration": 175,
    "start_time": "2024-01-06T18:55:32.310Z"
   },
   {
    "duration": 2,
    "start_time": "2024-01-06T18:55:32.487Z"
   },
   {
    "duration": 1420,
    "start_time": "2024-01-06T18:55:32.490Z"
   },
   {
    "duration": 7137,
    "start_time": "2024-01-06T18:56:50.815Z"
   },
   {
    "duration": 4,
    "start_time": "2024-01-06T18:56:57.955Z"
   },
   {
    "duration": 13,
    "start_time": "2024-01-06T18:56:57.960Z"
   },
   {
    "duration": 495,
    "start_time": "2024-01-06T18:56:57.975Z"
   },
   {
    "duration": 75,
    "start_time": "2024-01-06T18:56:58.472Z"
   },
   {
    "duration": 321,
    "start_time": "2024-01-06T18:56:58.549Z"
   },
   {
    "duration": 33,
    "start_time": "2024-01-06T18:56:58.871Z"
   },
   {
    "duration": 96,
    "start_time": "2024-01-06T18:56:58.906Z"
   },
   {
    "duration": 1858,
    "start_time": "2024-01-06T18:56:59.004Z"
   },
   {
    "duration": 9,
    "start_time": "2024-01-06T18:57:00.864Z"
   },
   {
    "duration": 76,
    "start_time": "2024-01-06T18:57:00.875Z"
   },
   {
    "duration": 19,
    "start_time": "2024-01-06T18:57:00.953Z"
   },
   {
    "duration": 1735,
    "start_time": "2024-01-06T18:57:00.974Z"
   },
   {
    "duration": 182,
    "start_time": "2024-01-06T18:57:02.711Z"
   },
   {
    "duration": 3,
    "start_time": "2024-01-06T18:57:02.895Z"
   },
   {
    "duration": 2201,
    "start_time": "2024-01-06T18:57:02.900Z"
   },
   {
    "duration": 7209,
    "start_time": "2024-01-06T19:00:45.650Z"
   },
   {
    "duration": 3,
    "start_time": "2024-01-06T19:00:52.862Z"
   },
   {
    "duration": 14,
    "start_time": "2024-01-06T19:00:52.866Z"
   },
   {
    "duration": 475,
    "start_time": "2024-01-06T19:00:52.883Z"
   },
   {
    "duration": 61,
    "start_time": "2024-01-06T19:00:53.360Z"
   },
   {
    "duration": 347,
    "start_time": "2024-01-06T19:00:53.423Z"
   },
   {
    "duration": 48,
    "start_time": "2024-01-06T19:00:53.772Z"
   },
   {
    "duration": 115,
    "start_time": "2024-01-06T19:00:53.843Z"
   },
   {
    "duration": 2002,
    "start_time": "2024-01-06T19:00:53.960Z"
   },
   {
    "duration": 9,
    "start_time": "2024-01-06T19:00:55.965Z"
   },
   {
    "duration": 22,
    "start_time": "2024-01-06T19:00:55.976Z"
   },
   {
    "duration": 110,
    "start_time": "2024-01-06T19:00:56.001Z"
   },
   {
    "duration": 1750,
    "start_time": "2024-01-06T19:00:56.113Z"
   },
   {
    "duration": 333,
    "start_time": "2024-01-06T19:00:57.865Z"
   },
   {
    "duration": 2,
    "start_time": "2024-01-06T19:00:58.200Z"
   },
   {
    "duration": 1926,
    "start_time": "2024-01-06T19:00:58.203Z"
   },
   {
    "duration": 9,
    "start_time": "2024-01-06T19:01:48.704Z"
   },
   {
    "duration": 7364,
    "start_time": "2024-01-06T19:02:24.869Z"
   },
   {
    "duration": 3,
    "start_time": "2024-01-06T19:02:32.236Z"
   },
   {
    "duration": 72,
    "start_time": "2024-01-06T19:02:32.240Z"
   },
   {
    "duration": 531,
    "start_time": "2024-01-06T19:02:32.315Z"
   },
   {
    "duration": 102,
    "start_time": "2024-01-06T19:02:32.848Z"
   },
   {
    "duration": 375,
    "start_time": "2024-01-06T19:02:32.951Z"
   },
   {
    "duration": 32,
    "start_time": "2024-01-06T19:02:33.343Z"
   },
   {
    "duration": 89,
    "start_time": "2024-01-06T19:02:33.377Z"
   },
   {
    "duration": 1876,
    "start_time": "2024-01-06T19:02:33.468Z"
   },
   {
    "duration": 9,
    "start_time": "2024-01-06T19:02:35.347Z"
   },
   {
    "duration": 63,
    "start_time": "2024-01-06T19:02:35.357Z"
   },
   {
    "duration": 1965,
    "start_time": "2024-01-06T19:02:35.421Z"
   },
   {
    "duration": 167,
    "start_time": "2024-01-06T19:02:37.387Z"
   },
   {
    "duration": 3,
    "start_time": "2024-01-06T19:02:37.556Z"
   },
   {
    "duration": 2109,
    "start_time": "2024-01-06T19:02:37.561Z"
   },
   {
    "duration": 11,
    "start_time": "2024-01-06T19:17:49.888Z"
   },
   {
    "duration": 11,
    "start_time": "2024-01-06T19:18:39.763Z"
   },
   {
    "duration": 10,
    "start_time": "2024-01-06T19:21:28.424Z"
   },
   {
    "duration": 7357,
    "start_time": "2024-01-06T19:21:56.495Z"
   },
   {
    "duration": 4,
    "start_time": "2024-01-06T19:22:03.854Z"
   },
   {
    "duration": 26,
    "start_time": "2024-01-06T19:22:03.860Z"
   },
   {
    "duration": 504,
    "start_time": "2024-01-06T19:22:03.888Z"
   },
   {
    "duration": 74,
    "start_time": "2024-01-06T19:22:04.394Z"
   },
   {
    "duration": 345,
    "start_time": "2024-01-06T19:22:04.470Z"
   },
   {
    "duration": 52,
    "start_time": "2024-01-06T19:22:04.816Z"
   },
   {
    "duration": 92,
    "start_time": "2024-01-06T19:22:04.869Z"
   },
   {
    "duration": 1755,
    "start_time": "2024-01-06T19:22:04.963Z"
   },
   {
    "duration": 10,
    "start_time": "2024-01-06T19:22:06.720Z"
   },
   {
    "duration": 27,
    "start_time": "2024-01-06T19:22:06.731Z"
   },
   {
    "duration": 1975,
    "start_time": "2024-01-06T19:22:06.760Z"
   },
   {
    "duration": 10,
    "start_time": "2024-01-06T19:22:08.741Z"
   },
   {
    "duration": 8,
    "start_time": "2024-01-06T19:22:08.753Z"
   },
   {
    "duration": 2151,
    "start_time": "2024-01-06T19:22:08.763Z"
   },
   {
    "duration": 7318,
    "start_time": "2024-01-06T19:22:27.227Z"
   },
   {
    "duration": 4,
    "start_time": "2024-01-06T19:22:34.548Z"
   },
   {
    "duration": 20,
    "start_time": "2024-01-06T19:22:34.554Z"
   },
   {
    "duration": 477,
    "start_time": "2024-01-06T19:22:34.576Z"
   },
   {
    "duration": 59,
    "start_time": "2024-01-06T19:22:35.055Z"
   },
   {
    "duration": 352,
    "start_time": "2024-01-06T19:22:35.116Z"
   },
   {
    "duration": 35,
    "start_time": "2024-01-06T19:22:35.470Z"
   },
   {
    "duration": 109,
    "start_time": "2024-01-06T19:22:35.507Z"
   },
   {
    "duration": 1878,
    "start_time": "2024-01-06T19:22:35.618Z"
   },
   {
    "duration": 9,
    "start_time": "2024-01-06T19:22:37.498Z"
   },
   {
    "duration": 55,
    "start_time": "2024-01-06T19:22:37.508Z"
   },
   {
    "duration": 2044,
    "start_time": "2024-01-06T19:22:37.565Z"
   },
   {
    "duration": 14,
    "start_time": "2024-01-06T19:22:39.611Z"
   },
   {
    "duration": 22,
    "start_time": "2024-01-06T19:22:39.626Z"
   },
   {
    "duration": 2086,
    "start_time": "2024-01-06T19:22:39.650Z"
   },
   {
    "duration": 7429,
    "start_time": "2024-01-06T19:26:59.207Z"
   },
   {
    "duration": 3,
    "start_time": "2024-01-06T19:27:06.639Z"
   },
   {
    "duration": 14,
    "start_time": "2024-01-06T19:27:06.644Z"
   },
   {
    "duration": 472,
    "start_time": "2024-01-06T19:27:06.660Z"
   },
   {
    "duration": 57,
    "start_time": "2024-01-06T19:27:07.134Z"
   },
   {
    "duration": 350,
    "start_time": "2024-01-06T19:27:07.192Z"
   },
   {
    "duration": 32,
    "start_time": "2024-01-06T19:27:07.544Z"
   },
   {
    "duration": 86,
    "start_time": "2024-01-06T19:27:07.578Z"
   },
   {
    "duration": 1681,
    "start_time": "2024-01-06T19:27:07.665Z"
   },
   {
    "duration": 9,
    "start_time": "2024-01-06T19:27:09.349Z"
   },
   {
    "duration": 49,
    "start_time": "2024-01-06T19:27:09.360Z"
   },
   {
    "duration": 2019,
    "start_time": "2024-01-06T19:27:09.411Z"
   },
   {
    "duration": 19,
    "start_time": "2024-01-06T19:27:11.432Z"
   },
   {
    "duration": 24,
    "start_time": "2024-01-06T19:27:11.452Z"
   },
   {
    "duration": 18,
    "start_time": "2024-01-06T19:27:11.477Z"
   },
   {
    "duration": 2171,
    "start_time": "2024-01-06T19:27:11.496Z"
   },
   {
    "duration": 102,
    "start_time": "2024-01-06T19:39:32.743Z"
   },
   {
    "duration": 7443,
    "start_time": "2024-01-06T19:39:35.566Z"
   },
   {
    "duration": 4,
    "start_time": "2024-01-06T19:39:43.012Z"
   },
   {
    "duration": 19,
    "start_time": "2024-01-06T19:39:43.018Z"
   },
   {
    "duration": 558,
    "start_time": "2024-01-06T19:39:43.039Z"
   },
   {
    "duration": 77,
    "start_time": "2024-01-06T19:39:43.599Z"
   },
   {
    "duration": 382,
    "start_time": "2024-01-06T19:39:43.678Z"
   },
   {
    "duration": 35,
    "start_time": "2024-01-06T19:39:44.062Z"
   },
   {
    "duration": 94,
    "start_time": "2024-01-06T19:39:44.099Z"
   },
   {
    "duration": 1855,
    "start_time": "2024-01-06T19:39:44.194Z"
   },
   {
    "duration": 10,
    "start_time": "2024-01-06T19:39:46.051Z"
   },
   {
    "duration": 40,
    "start_time": "2024-01-06T19:39:46.062Z"
   },
   {
    "duration": 1923,
    "start_time": "2024-01-06T19:39:46.104Z"
   },
   {
    "duration": 26,
    "start_time": "2024-01-06T19:39:48.029Z"
   },
   {
    "duration": 12,
    "start_time": "2024-01-06T19:39:48.057Z"
   },
   {
    "duration": 27,
    "start_time": "2024-01-06T19:39:48.072Z"
   },
   {
    "duration": 2103,
    "start_time": "2024-01-06T19:39:48.102Z"
   },
   {
    "duration": 10,
    "start_time": "2024-01-06T19:39:50.207Z"
   },
   {
    "duration": 7307,
    "start_time": "2024-01-06T19:41:25.751Z"
   },
   {
    "duration": 3,
    "start_time": "2024-01-06T19:41:33.061Z"
   },
   {
    "duration": 19,
    "start_time": "2024-01-06T19:41:33.066Z"
   },
   {
    "duration": 508,
    "start_time": "2024-01-06T19:41:33.087Z"
   },
   {
    "duration": 90,
    "start_time": "2024-01-06T19:41:33.596Z"
   },
   {
    "duration": 326,
    "start_time": "2024-01-06T19:41:33.687Z"
   },
   {
    "duration": 50,
    "start_time": "2024-01-06T19:41:34.015Z"
   },
   {
    "duration": 86,
    "start_time": "2024-01-06T19:41:34.067Z"
   },
   {
    "duration": 1954,
    "start_time": "2024-01-06T19:41:34.154Z"
   },
   {
    "duration": 10,
    "start_time": "2024-01-06T19:41:36.110Z"
   },
   {
    "duration": 31,
    "start_time": "2024-01-06T19:41:36.122Z"
   },
   {
    "duration": 1742,
    "start_time": "2024-01-06T19:41:36.155Z"
   },
   {
    "duration": 14,
    "start_time": "2024-01-06T19:41:37.899Z"
   },
   {
    "duration": 8,
    "start_time": "2024-01-06T19:41:37.915Z"
   },
   {
    "duration": 24,
    "start_time": "2024-01-06T19:41:37.942Z"
   },
   {
    "duration": 2191,
    "start_time": "2024-01-06T19:41:37.967Z"
   },
   {
    "duration": 9,
    "start_time": "2024-01-06T19:41:40.160Z"
   },
   {
    "duration": 10,
    "start_time": "2024-01-06T19:42:19.971Z"
   },
   {
    "duration": 7266,
    "start_time": "2024-01-06T19:42:55.383Z"
   },
   {
    "duration": 3,
    "start_time": "2024-01-06T19:43:02.652Z"
   },
   {
    "duration": 52,
    "start_time": "2024-01-06T19:43:02.657Z"
   },
   {
    "duration": 547,
    "start_time": "2024-01-06T19:43:02.711Z"
   },
   {
    "duration": 60,
    "start_time": "2024-01-06T19:43:03.260Z"
   },
   {
    "duration": 346,
    "start_time": "2024-01-06T19:43:03.343Z"
   },
   {
    "duration": 52,
    "start_time": "2024-01-06T19:43:03.691Z"
   },
   {
    "duration": 78,
    "start_time": "2024-01-06T19:43:03.745Z"
   },
   {
    "duration": 1943,
    "start_time": "2024-01-06T19:43:03.825Z"
   },
   {
    "duration": 8,
    "start_time": "2024-01-06T19:43:05.770Z"
   },
   {
    "duration": 28,
    "start_time": "2024-01-06T19:43:05.780Z"
   },
   {
    "duration": 1664,
    "start_time": "2024-01-06T19:43:05.810Z"
   },
   {
    "duration": 14,
    "start_time": "2024-01-06T19:43:07.475Z"
   },
   {
    "duration": 20,
    "start_time": "2024-01-06T19:43:07.490Z"
   },
   {
    "duration": 23,
    "start_time": "2024-01-06T19:43:07.511Z"
   },
   {
    "duration": 2130,
    "start_time": "2024-01-06T19:43:07.535Z"
   },
   {
    "duration": 9,
    "start_time": "2024-01-06T19:43:09.667Z"
   },
   {
    "duration": 7128,
    "start_time": "2024-01-06T19:45:18.324Z"
   },
   {
    "duration": 3,
    "start_time": "2024-01-06T19:45:25.454Z"
   },
   {
    "duration": 17,
    "start_time": "2024-01-06T19:45:25.458Z"
   },
   {
    "duration": 517,
    "start_time": "2024-01-06T19:45:25.478Z"
   },
   {
    "duration": 71,
    "start_time": "2024-01-06T19:45:25.997Z"
   },
   {
    "duration": 321,
    "start_time": "2024-01-06T19:45:26.069Z"
   },
   {
    "duration": 55,
    "start_time": "2024-01-06T19:45:26.392Z"
   },
   {
    "duration": 66,
    "start_time": "2024-01-06T19:45:26.448Z"
   },
   {
    "duration": 1966,
    "start_time": "2024-01-06T19:45:26.516Z"
   },
   {
    "duration": 9,
    "start_time": "2024-01-06T19:45:28.485Z"
   },
   {
    "duration": 18,
    "start_time": "2024-01-06T19:45:28.495Z"
   },
   {
    "duration": 1688,
    "start_time": "2024-01-06T19:45:28.514Z"
   },
   {
    "duration": 14,
    "start_time": "2024-01-06T19:45:30.204Z"
   },
   {
    "duration": 24,
    "start_time": "2024-01-06T19:45:30.219Z"
   },
   {
    "duration": 60,
    "start_time": "2024-01-06T19:45:30.244Z"
   },
   {
    "duration": 2161,
    "start_time": "2024-01-06T19:45:30.306Z"
   },
   {
    "duration": 7,
    "start_time": "2024-01-06T19:45:32.469Z"
   },
   {
    "duration": 20,
    "start_time": "2024-01-06T19:45:32.478Z"
   },
   {
    "duration": 7243,
    "start_time": "2024-01-06T19:48:02.644Z"
   },
   {
    "duration": 4,
    "start_time": "2024-01-06T19:48:09.890Z"
   },
   {
    "duration": 22,
    "start_time": "2024-01-06T19:48:09.896Z"
   },
   {
    "duration": 480,
    "start_time": "2024-01-06T19:48:09.921Z"
   },
   {
    "duration": 74,
    "start_time": "2024-01-06T19:48:10.402Z"
   },
   {
    "duration": 319,
    "start_time": "2024-01-06T19:48:10.478Z"
   },
   {
    "duration": 49,
    "start_time": "2024-01-06T19:48:10.798Z"
   },
   {
    "duration": 71,
    "start_time": "2024-01-06T19:48:10.849Z"
   },
   {
    "duration": 1964,
    "start_time": "2024-01-06T19:48:10.922Z"
   },
   {
    "duration": 9,
    "start_time": "2024-01-06T19:48:12.888Z"
   },
   {
    "duration": 23,
    "start_time": "2024-01-06T19:48:12.899Z"
   },
   {
    "duration": 1753,
    "start_time": "2024-01-06T19:48:12.924Z"
   },
   {
    "duration": 14,
    "start_time": "2024-01-06T19:48:14.678Z"
   },
   {
    "duration": 8,
    "start_time": "2024-01-06T19:48:14.693Z"
   },
   {
    "duration": 39,
    "start_time": "2024-01-06T19:48:14.703Z"
   },
   {
    "duration": 2118,
    "start_time": "2024-01-06T19:48:14.744Z"
   },
   {
    "duration": 8,
    "start_time": "2024-01-06T19:48:16.864Z"
   },
   {
    "duration": 17,
    "start_time": "2024-01-06T19:48:16.874Z"
   },
   {
    "duration": 9,
    "start_time": "2024-01-06T19:48:53.386Z"
   },
   {
    "duration": 7180,
    "start_time": "2024-01-06T19:49:29.670Z"
   },
   {
    "duration": 3,
    "start_time": "2024-01-06T19:49:36.853Z"
   },
   {
    "duration": 15,
    "start_time": "2024-01-06T19:49:36.857Z"
   },
   {
    "duration": 513,
    "start_time": "2024-01-06T19:49:36.874Z"
   },
   {
    "duration": 71,
    "start_time": "2024-01-06T19:49:37.389Z"
   },
   {
    "duration": 333,
    "start_time": "2024-01-06T19:49:37.462Z"
   },
   {
    "duration": 51,
    "start_time": "2024-01-06T19:49:37.797Z"
   },
   {
    "duration": 71,
    "start_time": "2024-01-06T19:49:37.849Z"
   },
   {
    "duration": 1983,
    "start_time": "2024-01-06T19:49:37.922Z"
   },
   {
    "duration": 8,
    "start_time": "2024-01-06T19:49:39.907Z"
   },
   {
    "duration": 33,
    "start_time": "2024-01-06T19:49:39.917Z"
   },
   {
    "duration": 1878,
    "start_time": "2024-01-06T19:49:39.952Z"
   },
   {
    "duration": 23,
    "start_time": "2024-01-06T19:49:41.832Z"
   },
   {
    "duration": 8,
    "start_time": "2024-01-06T19:49:41.856Z"
   },
   {
    "duration": 17,
    "start_time": "2024-01-06T19:49:41.865Z"
   },
   {
    "duration": 1949,
    "start_time": "2024-01-06T19:49:41.884Z"
   },
   {
    "duration": 8,
    "start_time": "2024-01-06T19:49:43.835Z"
   },
   {
    "duration": 15,
    "start_time": "2024-01-06T19:49:43.845Z"
   },
   {
    "duration": 19,
    "start_time": "2024-01-06T19:49:43.862Z"
   },
   {
    "duration": 19,
    "start_time": "2024-01-06T19:50:34.831Z"
   },
   {
    "duration": 7146,
    "start_time": "2024-01-06T20:01:05.599Z"
   },
   {
    "duration": 3,
    "start_time": "2024-01-06T20:01:12.748Z"
   },
   {
    "duration": 15,
    "start_time": "2024-01-06T20:01:12.753Z"
   },
   {
    "duration": 503,
    "start_time": "2024-01-06T20:01:12.770Z"
   },
   {
    "duration": 77,
    "start_time": "2024-01-06T20:01:13.274Z"
   },
   {
    "duration": 316,
    "start_time": "2024-01-06T20:01:13.353Z"
   },
   {
    "duration": 32,
    "start_time": "2024-01-06T20:01:13.671Z"
   },
   {
    "duration": 103,
    "start_time": "2024-01-06T20:01:13.704Z"
   },
   {
    "duration": 1970,
    "start_time": "2024-01-06T20:01:13.809Z"
   },
   {
    "duration": 8,
    "start_time": "2024-01-06T20:01:15.781Z"
   },
   {
    "duration": 24,
    "start_time": "2024-01-06T20:01:15.791Z"
   },
   {
    "duration": 1788,
    "start_time": "2024-01-06T20:01:15.816Z"
   },
   {
    "duration": 20,
    "start_time": "2024-01-06T20:01:17.607Z"
   },
   {
    "duration": 20,
    "start_time": "2024-01-06T20:01:17.629Z"
   },
   {
    "duration": 39,
    "start_time": "2024-01-06T20:01:17.651Z"
   },
   {
    "duration": 2139,
    "start_time": "2024-01-06T20:01:17.692Z"
   },
   {
    "duration": 16,
    "start_time": "2024-01-06T20:01:19.833Z"
   },
   {
    "duration": 19,
    "start_time": "2024-01-06T20:01:19.850Z"
   },
   {
    "duration": 19,
    "start_time": "2024-01-06T20:01:19.870Z"
   },
   {
    "duration": 18,
    "start_time": "2024-01-06T20:01:19.890Z"
   },
   {
    "duration": 7329,
    "start_time": "2024-01-06T20:01:56.550Z"
   },
   {
    "duration": 1110,
    "start_time": "2024-01-06T20:02:03.881Z"
   },
   {
    "duration": 13,
    "start_time": "2024-01-06T20:02:04.993Z"
   },
   {
    "duration": 486,
    "start_time": "2024-01-06T20:02:05.008Z"
   },
   {
    "duration": 76,
    "start_time": "2024-01-06T20:02:05.495Z"
   },
   {
    "duration": 379,
    "start_time": "2024-01-06T20:02:05.572Z"
   },
   {
    "duration": 37,
    "start_time": "2024-01-06T20:02:05.953Z"
   },
   {
    "duration": 111,
    "start_time": "2024-01-06T20:02:05.992Z"
   },
   {
    "duration": 1725,
    "start_time": "2024-01-06T20:02:06.106Z"
   },
   {
    "duration": 16,
    "start_time": "2024-01-06T20:02:07.833Z"
   },
   {
    "duration": 16,
    "start_time": "2024-01-06T20:02:07.851Z"
   },
   {
    "duration": 1865,
    "start_time": "2024-01-06T20:02:07.869Z"
   },
   {
    "duration": 24,
    "start_time": "2024-01-06T20:02:09.735Z"
   },
   {
    "duration": 46,
    "start_time": "2024-01-06T20:02:09.761Z"
   },
   {
    "duration": 27,
    "start_time": "2024-01-06T20:02:09.808Z"
   },
   {
    "duration": 1973,
    "start_time": "2024-01-06T20:02:09.837Z"
   },
   {
    "duration": 8,
    "start_time": "2024-01-06T20:02:11.812Z"
   },
   {
    "duration": 16,
    "start_time": "2024-01-06T20:02:11.822Z"
   },
   {
    "duration": 19,
    "start_time": "2024-01-06T20:02:11.839Z"
   },
   {
    "duration": 18,
    "start_time": "2024-01-06T20:02:11.860Z"
   },
   {
    "duration": 7146,
    "start_time": "2024-01-06T20:03:16.126Z"
   },
   {
    "duration": 3,
    "start_time": "2024-01-06T20:03:23.275Z"
   },
   {
    "duration": 32,
    "start_time": "2024-01-06T20:03:23.280Z"
   },
   {
    "duration": 550,
    "start_time": "2024-01-06T20:03:23.314Z"
   },
   {
    "duration": 86,
    "start_time": "2024-01-06T20:03:23.865Z"
   },
   {
    "duration": 342,
    "start_time": "2024-01-06T20:03:23.952Z"
   },
   {
    "duration": 48,
    "start_time": "2024-01-06T20:03:24.296Z"
   },
   {
    "duration": 69,
    "start_time": "2024-01-06T20:03:24.346Z"
   },
   {
    "duration": 1749,
    "start_time": "2024-01-06T20:03:24.417Z"
   },
   {
    "duration": 7,
    "start_time": "2024-01-06T20:03:26.169Z"
   },
   {
    "duration": 40,
    "start_time": "2024-01-06T20:03:26.178Z"
   },
   {
    "duration": 1842,
    "start_time": "2024-01-06T20:03:26.219Z"
   },
   {
    "duration": 15,
    "start_time": "2024-01-06T20:03:28.062Z"
   },
   {
    "duration": 19,
    "start_time": "2024-01-06T20:03:28.078Z"
   },
   {
    "duration": 22,
    "start_time": "2024-01-06T20:03:28.099Z"
   },
   {
    "duration": 1983,
    "start_time": "2024-01-06T20:03:28.123Z"
   },
   {
    "duration": 8,
    "start_time": "2024-01-06T20:03:30.108Z"
   },
   {
    "duration": 57,
    "start_time": "2024-01-06T20:03:30.118Z"
   },
   {
    "duration": 40,
    "start_time": "2024-01-06T20:03:30.177Z"
   },
   {
    "duration": 42,
    "start_time": "2024-01-06T20:03:30.219Z"
   },
   {
    "duration": 44,
    "start_time": "2024-01-07T07:31:55.968Z"
   },
   {
    "duration": 7229,
    "start_time": "2024-01-07T07:32:05.220Z"
   },
   {
    "duration": 1271,
    "start_time": "2024-01-07T07:32:12.451Z"
   },
   {
    "duration": 13,
    "start_time": "2024-01-07T07:32:13.723Z"
   },
   {
    "duration": 839,
    "start_time": "2024-01-07T07:32:13.738Z"
   },
   {
    "duration": 58,
    "start_time": "2024-01-07T07:32:14.579Z"
   },
   {
    "duration": 309,
    "start_time": "2024-01-07T07:32:14.638Z"
   },
   {
    "duration": 31,
    "start_time": "2024-01-07T07:32:14.949Z"
   },
   {
    "duration": 93,
    "start_time": "2024-01-07T07:32:14.981Z"
   },
   {
    "duration": 1669,
    "start_time": "2024-01-07T07:32:15.075Z"
   },
   {
    "duration": 8,
    "start_time": "2024-01-07T07:32:16.746Z"
   },
   {
    "duration": 15,
    "start_time": "2024-01-07T07:32:16.756Z"
   },
   {
    "duration": 1752,
    "start_time": "2024-01-07T07:32:16.773Z"
   },
   {
    "duration": 14,
    "start_time": "2024-01-07T07:32:18.526Z"
   },
   {
    "duration": 8,
    "start_time": "2024-01-07T07:32:18.541Z"
   },
   {
    "duration": 15,
    "start_time": "2024-01-07T07:32:18.551Z"
   },
   {
    "duration": 2004,
    "start_time": "2024-01-07T07:32:18.567Z"
   },
   {
    "duration": 7,
    "start_time": "2024-01-07T07:32:20.572Z"
   },
   {
    "duration": 32,
    "start_time": "2024-01-07T07:32:20.581Z"
   },
   {
    "duration": 19,
    "start_time": "2024-01-07T07:32:20.614Z"
   },
   {
    "duration": 18,
    "start_time": "2024-01-07T07:32:20.634Z"
   },
   {
    "duration": 10,
    "start_time": "2024-01-07T07:32:20.653Z"
   },
   {
    "duration": 71,
    "start_time": "2024-01-07T07:32:20.664Z"
   },
   {
    "duration": 0,
    "start_time": "2024-01-07T07:32:20.736Z"
   },
   {
    "duration": 0,
    "start_time": "2024-01-07T07:32:20.737Z"
   },
   {
    "duration": 6990,
    "start_time": "2024-01-07T07:55:02.371Z"
   },
   {
    "duration": 3,
    "start_time": "2024-01-07T07:55:09.364Z"
   },
   {
    "duration": 23,
    "start_time": "2024-01-07T07:55:09.369Z"
   },
   {
    "duration": 498,
    "start_time": "2024-01-07T07:55:09.395Z"
   },
   {
    "duration": 68,
    "start_time": "2024-01-07T07:55:09.895Z"
   },
   {
    "duration": 318,
    "start_time": "2024-01-07T07:55:09.964Z"
   },
   {
    "duration": 50,
    "start_time": "2024-01-07T07:55:10.283Z"
   },
   {
    "duration": 86,
    "start_time": "2024-01-07T07:55:10.335Z"
   },
   {
    "duration": 1686,
    "start_time": "2024-01-07T07:55:10.423Z"
   },
   {
    "duration": 8,
    "start_time": "2024-01-07T07:55:12.113Z"
   },
   {
    "duration": 19,
    "start_time": "2024-01-07T07:55:12.123Z"
   },
   {
    "duration": 1812,
    "start_time": "2024-01-07T07:55:12.143Z"
   },
   {
    "duration": 14,
    "start_time": "2024-01-07T07:55:13.956Z"
   },
   {
    "duration": 8,
    "start_time": "2024-01-07T07:55:13.972Z"
   },
   {
    "duration": 17,
    "start_time": "2024-01-07T07:55:13.981Z"
   },
   {
    "duration": 1997,
    "start_time": "2024-01-07T07:55:14.015Z"
   },
   {
    "duration": 8,
    "start_time": "2024-01-07T07:55:16.014Z"
   },
   {
    "duration": 47,
    "start_time": "2024-01-07T07:55:16.023Z"
   },
   {
    "duration": 17,
    "start_time": "2024-01-07T07:55:16.072Z"
   },
   {
    "duration": 37,
    "start_time": "2024-01-07T07:55:16.091Z"
   },
   {
    "duration": 9,
    "start_time": "2024-01-07T07:55:16.130Z"
   },
   {
    "duration": 345,
    "start_time": "2024-01-07T07:55:16.141Z"
   },
   {
    "duration": 0,
    "start_time": "2024-01-07T07:55:16.487Z"
   },
   {
    "duration": 0,
    "start_time": "2024-01-07T07:55:16.489Z"
   },
   {
    "duration": 6924,
    "start_time": "2024-01-07T07:57:26.075Z"
   },
   {
    "duration": 3,
    "start_time": "2024-01-07T07:57:33.001Z"
   },
   {
    "duration": 14,
    "start_time": "2024-01-07T07:57:33.006Z"
   },
   {
    "duration": 461,
    "start_time": "2024-01-07T07:57:33.022Z"
   },
   {
    "duration": 58,
    "start_time": "2024-01-07T07:57:33.484Z"
   },
   {
    "duration": 308,
    "start_time": "2024-01-07T07:57:33.544Z"
   },
   {
    "duration": 37,
    "start_time": "2024-01-07T07:57:33.853Z"
   },
   {
    "duration": 84,
    "start_time": "2024-01-07T07:57:33.891Z"
   },
   {
    "duration": 1857,
    "start_time": "2024-01-07T07:57:33.977Z"
   },
   {
    "duration": 8,
    "start_time": "2024-01-07T07:57:35.836Z"
   },
   {
    "duration": 17,
    "start_time": "2024-01-07T07:57:35.846Z"
   },
   {
    "duration": 1669,
    "start_time": "2024-01-07T07:57:35.864Z"
   },
   {
    "duration": 14,
    "start_time": "2024-01-07T07:57:37.534Z"
   },
   {
    "duration": 8,
    "start_time": "2024-01-07T07:57:37.549Z"
   },
   {
    "duration": 15,
    "start_time": "2024-01-07T07:57:37.559Z"
   },
   {
    "duration": 1984,
    "start_time": "2024-01-07T07:57:37.576Z"
   },
   {
    "duration": 10,
    "start_time": "2024-01-07T07:57:39.562Z"
   },
   {
    "duration": 19,
    "start_time": "2024-01-07T07:57:39.574Z"
   },
   {
    "duration": 19,
    "start_time": "2024-01-07T07:57:39.615Z"
   },
   {
    "duration": 19,
    "start_time": "2024-01-07T07:57:39.636Z"
   },
   {
    "duration": 11,
    "start_time": "2024-01-07T07:57:39.657Z"
   },
   {
    "duration": 67,
    "start_time": "2024-01-07T07:57:39.669Z"
   },
   {
    "duration": 153,
    "start_time": "2024-01-07T07:57:39.816Z"
   },
   {
    "duration": 0,
    "start_time": "2024-01-07T07:57:39.971Z"
   },
   {
    "duration": 7695,
    "start_time": "2024-01-07T16:19:09.974Z"
   },
   {
    "duration": 1345,
    "start_time": "2024-01-07T16:19:17.671Z"
   },
   {
    "duration": 13,
    "start_time": "2024-01-07T16:19:19.018Z"
   },
   {
    "duration": 861,
    "start_time": "2024-01-07T16:19:19.032Z"
   },
   {
    "duration": 66,
    "start_time": "2024-01-07T16:19:19.896Z"
   },
   {
    "duration": 342,
    "start_time": "2024-01-07T16:19:19.964Z"
   },
   {
    "duration": 66,
    "start_time": "2024-01-07T16:19:20.307Z"
   },
   {
    "duration": 88,
    "start_time": "2024-01-07T16:19:20.375Z"
   },
   {
    "duration": 1759,
    "start_time": "2024-01-07T16:19:20.464Z"
   },
   {
    "duration": 8,
    "start_time": "2024-01-07T16:19:22.224Z"
   },
   {
    "duration": 31,
    "start_time": "2024-01-07T16:19:22.234Z"
   },
   {
    "duration": 1916,
    "start_time": "2024-01-07T16:19:22.267Z"
   },
   {
    "duration": 15,
    "start_time": "2024-01-07T16:19:24.185Z"
   },
   {
    "duration": 19,
    "start_time": "2024-01-07T16:19:24.203Z"
   },
   {
    "duration": 31,
    "start_time": "2024-01-07T16:19:24.223Z"
   },
   {
    "duration": 2188,
    "start_time": "2024-01-07T16:19:24.256Z"
   },
   {
    "duration": 12,
    "start_time": "2024-01-07T16:19:26.446Z"
   },
   {
    "duration": 18,
    "start_time": "2024-01-07T16:19:26.459Z"
   },
   {
    "duration": 19,
    "start_time": "2024-01-07T16:19:26.479Z"
   },
   {
    "duration": 53,
    "start_time": "2024-01-07T16:19:26.500Z"
   },
   {
    "duration": 12,
    "start_time": "2024-01-07T16:19:26.555Z"
   },
   {
    "duration": 383,
    "start_time": "2024-01-07T16:19:26.569Z"
   },
   {
    "duration": 202,
    "start_time": "2024-01-07T16:19:26.957Z"
   },
   {
    "duration": 0,
    "start_time": "2024-01-07T16:19:27.161Z"
   },
   {
    "duration": 30,
    "start_time": "2024-01-07T16:22:09.066Z"
   },
   {
    "duration": 6949,
    "start_time": "2024-01-07T16:29:46.094Z"
   },
   {
    "duration": 3,
    "start_time": "2024-01-07T16:29:53.046Z"
   },
   {
    "duration": 19,
    "start_time": "2024-01-07T16:29:53.051Z"
   },
   {
    "duration": 482,
    "start_time": "2024-01-07T16:29:53.071Z"
   },
   {
    "duration": 57,
    "start_time": "2024-01-07T16:29:53.555Z"
   },
   {
    "duration": 364,
    "start_time": "2024-01-07T16:29:53.613Z"
   },
   {
    "duration": 35,
    "start_time": "2024-01-07T16:29:53.980Z"
   },
   {
    "duration": 101,
    "start_time": "2024-01-07T16:29:54.016Z"
   },
   {
    "duration": 1890,
    "start_time": "2024-01-07T16:29:54.118Z"
   },
   {
    "duration": 9,
    "start_time": "2024-01-07T16:29:56.009Z"
   },
   {
    "duration": 25,
    "start_time": "2024-01-07T16:29:56.019Z"
   },
   {
    "duration": 1805,
    "start_time": "2024-01-07T16:29:56.045Z"
   },
   {
    "duration": 14,
    "start_time": "2024-01-07T16:29:57.852Z"
   },
   {
    "duration": 7,
    "start_time": "2024-01-07T16:29:57.868Z"
   },
   {
    "duration": 21,
    "start_time": "2024-01-07T16:29:57.877Z"
   },
   {
    "duration": 1904,
    "start_time": "2024-01-07T16:29:57.900Z"
   },
   {
    "duration": 9,
    "start_time": "2024-01-07T16:29:59.805Z"
   },
   {
    "duration": 30,
    "start_time": "2024-01-07T16:29:59.815Z"
   },
   {
    "duration": 20,
    "start_time": "2024-01-07T16:29:59.846Z"
   },
   {
    "duration": 20,
    "start_time": "2024-01-07T16:29:59.867Z"
   },
   {
    "duration": 11,
    "start_time": "2024-01-07T16:29:59.888Z"
   },
   {
    "duration": 147,
    "start_time": "2024-01-07T16:29:59.900Z"
   },
   {
    "duration": 31,
    "start_time": "2024-01-07T16:30:22.449Z"
   },
   {
    "duration": 80,
    "start_time": "2024-01-07T18:38:14.299Z"
   },
   {
    "duration": 44,
    "start_time": "2024-01-07T18:38:32.698Z"
   },
   {
    "duration": 28,
    "start_time": "2024-01-07T18:38:42.555Z"
   },
   {
    "duration": 7358,
    "start_time": "2024-01-07T18:39:05.320Z"
   },
   {
    "duration": 3,
    "start_time": "2024-01-07T18:39:12.681Z"
   },
   {
    "duration": 15,
    "start_time": "2024-01-07T18:39:12.686Z"
   },
   {
    "duration": 545,
    "start_time": "2024-01-07T18:39:12.702Z"
   },
   {
    "duration": 55,
    "start_time": "2024-01-07T18:39:13.252Z"
   },
   {
    "duration": 350,
    "start_time": "2024-01-07T18:39:13.308Z"
   },
   {
    "duration": 32,
    "start_time": "2024-01-07T18:39:13.660Z"
   },
   {
    "duration": 93,
    "start_time": "2024-01-07T18:39:13.694Z"
   },
   {
    "duration": 1925,
    "start_time": "2024-01-07T18:39:13.789Z"
   },
   {
    "duration": 9,
    "start_time": "2024-01-07T18:39:15.716Z"
   },
   {
    "duration": 36,
    "start_time": "2024-01-07T18:39:15.727Z"
   },
   {
    "duration": 1959,
    "start_time": "2024-01-07T18:39:15.765Z"
   },
   {
    "duration": 28,
    "start_time": "2024-01-07T18:39:17.726Z"
   },
   {
    "duration": 8,
    "start_time": "2024-01-07T18:39:17.759Z"
   },
   {
    "duration": 34,
    "start_time": "2024-01-07T18:39:17.768Z"
   },
   {
    "duration": 2181,
    "start_time": "2024-01-07T18:39:17.804Z"
   },
   {
    "duration": 8,
    "start_time": "2024-01-07T18:39:19.987Z"
   },
   {
    "duration": 17,
    "start_time": "2024-01-07T18:39:19.997Z"
   },
   {
    "duration": 43,
    "start_time": "2024-01-07T18:39:20.016Z"
   },
   {
    "duration": 20,
    "start_time": "2024-01-07T18:39:20.061Z"
   },
   {
    "duration": 9,
    "start_time": "2024-01-07T18:39:20.083Z"
   },
   {
    "duration": 247,
    "start_time": "2024-01-07T18:39:20.094Z"
   },
   {
    "duration": 30,
    "start_time": "2024-01-07T18:42:38.197Z"
   },
   {
    "duration": 29,
    "start_time": "2024-01-07T18:43:50.442Z"
   },
   {
    "duration": 7042,
    "start_time": "2024-01-07T18:57:53.045Z"
   },
   {
    "duration": 5,
    "start_time": "2024-01-07T18:58:00.089Z"
   },
   {
    "duration": 32,
    "start_time": "2024-01-07T18:58:00.095Z"
   },
   {
    "duration": 513,
    "start_time": "2024-01-07T18:58:00.128Z"
   },
   {
    "duration": 57,
    "start_time": "2024-01-07T18:58:00.643Z"
   },
   {
    "duration": 323,
    "start_time": "2024-01-07T18:58:00.702Z"
   },
   {
    "duration": 34,
    "start_time": "2024-01-07T18:58:01.042Z"
   },
   {
    "duration": 95,
    "start_time": "2024-01-07T18:58:01.078Z"
   },
   {
    "duration": 1708,
    "start_time": "2024-01-07T18:58:01.175Z"
   },
   {
    "duration": 9,
    "start_time": "2024-01-07T18:58:02.885Z"
   },
   {
    "duration": 28,
    "start_time": "2024-01-07T18:58:02.895Z"
   },
   {
    "duration": 1932,
    "start_time": "2024-01-07T18:58:02.925Z"
   },
   {
    "duration": 14,
    "start_time": "2024-01-07T18:58:04.859Z"
   },
   {
    "duration": 20,
    "start_time": "2024-01-07T18:58:04.875Z"
   },
   {
    "duration": 21,
    "start_time": "2024-01-07T18:58:04.897Z"
   },
   {
    "duration": 2083,
    "start_time": "2024-01-07T18:58:04.920Z"
   },
   {
    "duration": 8,
    "start_time": "2024-01-07T18:58:07.005Z"
   },
   {
    "duration": 30,
    "start_time": "2024-01-07T18:58:07.014Z"
   },
   {
    "duration": 20,
    "start_time": "2024-01-07T18:58:07.045Z"
   },
   {
    "duration": 19,
    "start_time": "2024-01-07T18:58:07.067Z"
   },
   {
    "duration": 60,
    "start_time": "2024-01-07T18:58:07.087Z"
   },
   {
    "duration": 7022,
    "start_time": "2024-01-07T18:59:07.002Z"
   },
   {
    "duration": 4,
    "start_time": "2024-01-07T18:59:14.027Z"
   },
   {
    "duration": 16,
    "start_time": "2024-01-07T18:59:14.033Z"
   },
   {
    "duration": 475,
    "start_time": "2024-01-07T18:59:14.051Z"
   },
   {
    "duration": 70,
    "start_time": "2024-01-07T18:59:14.528Z"
   },
   {
    "duration": 318,
    "start_time": "2024-01-07T18:59:14.600Z"
   },
   {
    "duration": 46,
    "start_time": "2024-01-07T18:59:14.920Z"
   },
   {
    "duration": 87,
    "start_time": "2024-01-07T18:59:14.968Z"
   },
   {
    "duration": 1743,
    "start_time": "2024-01-07T18:59:15.057Z"
   },
   {
    "duration": 9,
    "start_time": "2024-01-07T18:59:16.802Z"
   },
   {
    "duration": 17,
    "start_time": "2024-01-07T18:59:16.812Z"
   },
   {
    "duration": 1848,
    "start_time": "2024-01-07T18:59:16.842Z"
   },
   {
    "duration": 14,
    "start_time": "2024-01-07T18:59:18.691Z"
   },
   {
    "duration": 7,
    "start_time": "2024-01-07T18:59:18.708Z"
   },
   {
    "duration": 37,
    "start_time": "2024-01-07T18:59:18.717Z"
   },
   {
    "duration": 2061,
    "start_time": "2024-01-07T18:59:18.756Z"
   },
   {
    "duration": 8,
    "start_time": "2024-01-07T18:59:20.818Z"
   },
   {
    "duration": 25,
    "start_time": "2024-01-07T18:59:20.827Z"
   },
   {
    "duration": 20,
    "start_time": "2024-01-07T18:59:20.853Z"
   },
   {
    "duration": 19,
    "start_time": "2024-01-07T18:59:20.874Z"
   },
   {
    "duration": 154,
    "start_time": "2024-01-07T18:59:20.895Z"
   },
   {
    "duration": 7090,
    "start_time": "2024-01-07T19:00:32.721Z"
   },
   {
    "duration": 4,
    "start_time": "2024-01-07T19:00:39.814Z"
   },
   {
    "duration": 17,
    "start_time": "2024-01-07T19:00:39.820Z"
   },
   {
    "duration": 503,
    "start_time": "2024-01-07T19:00:39.839Z"
   },
   {
    "duration": 62,
    "start_time": "2024-01-07T19:00:40.345Z"
   },
   {
    "duration": 354,
    "start_time": "2024-01-07T19:00:40.408Z"
   },
   {
    "duration": 35,
    "start_time": "2024-01-07T19:00:40.763Z"
   },
   {
    "duration": 92,
    "start_time": "2024-01-07T19:00:40.800Z"
   },
   {
    "duration": 1743,
    "start_time": "2024-01-07T19:00:40.893Z"
   },
   {
    "duration": 10,
    "start_time": "2024-01-07T19:00:42.637Z"
   },
   {
    "duration": 16,
    "start_time": "2024-01-07T19:00:42.648Z"
   },
   {
    "duration": 1894,
    "start_time": "2024-01-07T19:00:42.666Z"
   },
   {
    "duration": 14,
    "start_time": "2024-01-07T19:00:44.561Z"
   },
   {
    "duration": 8,
    "start_time": "2024-01-07T19:00:44.578Z"
   },
   {
    "duration": 15,
    "start_time": "2024-01-07T19:00:44.588Z"
   },
   {
    "duration": 2029,
    "start_time": "2024-01-07T19:00:44.605Z"
   },
   {
    "duration": 12,
    "start_time": "2024-01-07T19:00:46.636Z"
   },
   {
    "duration": 23,
    "start_time": "2024-01-07T19:00:46.649Z"
   },
   {
    "duration": 19,
    "start_time": "2024-01-07T19:00:46.673Z"
   },
   {
    "duration": 20,
    "start_time": "2024-01-07T19:00:46.694Z"
   },
   {
    "duration": 230,
    "start_time": "2024-01-07T19:00:46.716Z"
   },
   {
    "duration": 115,
    "start_time": "2024-01-07T19:00:46.948Z"
   },
   {
    "duration": 7068,
    "start_time": "2024-01-07T19:02:27.915Z"
   },
   {
    "duration": 1381,
    "start_time": "2024-01-07T19:02:34.986Z"
   },
   {
    "duration": 15,
    "start_time": "2024-01-07T19:02:36.369Z"
   },
   {
    "duration": 468,
    "start_time": "2024-01-07T19:02:36.386Z"
   },
   {
    "duration": 55,
    "start_time": "2024-01-07T19:02:36.856Z"
   },
   {
    "duration": 299,
    "start_time": "2024-01-07T19:02:36.912Z"
   },
   {
    "duration": 44,
    "start_time": "2024-01-07T19:02:37.213Z"
   },
   {
    "duration": 88,
    "start_time": "2024-01-07T19:02:37.259Z"
   },
   {
    "duration": 1702,
    "start_time": "2024-01-07T19:02:37.349Z"
   },
   {
    "duration": 9,
    "start_time": "2024-01-07T19:02:39.053Z"
   },
   {
    "duration": 17,
    "start_time": "2024-01-07T19:02:39.063Z"
   },
   {
    "duration": 1783,
    "start_time": "2024-01-07T19:02:39.082Z"
   },
   {
    "duration": 13,
    "start_time": "2024-01-07T19:02:40.866Z"
   },
   {
    "duration": 7,
    "start_time": "2024-01-07T19:02:40.882Z"
   },
   {
    "duration": 34,
    "start_time": "2024-01-07T19:02:40.890Z"
   },
   {
    "duration": 2096,
    "start_time": "2024-01-07T19:02:40.926Z"
   },
   {
    "duration": 8,
    "start_time": "2024-01-07T19:02:43.024Z"
   },
   {
    "duration": 20,
    "start_time": "2024-01-07T19:02:43.034Z"
   },
   {
    "duration": 19,
    "start_time": "2024-01-07T19:02:43.056Z"
   },
   {
    "duration": 20,
    "start_time": "2024-01-07T19:02:43.077Z"
   },
   {
    "duration": 151,
    "start_time": "2024-01-07T19:02:43.099Z"
   },
   {
    "duration": 0,
    "start_time": "2024-01-07T19:02:43.251Z"
   },
   {
    "duration": 28,
    "start_time": "2024-01-07T19:03:27.500Z"
   },
   {
    "duration": 7020,
    "start_time": "2024-01-07T19:08:12.927Z"
   },
   {
    "duration": 4,
    "start_time": "2024-01-07T19:08:19.949Z"
   },
   {
    "duration": 25,
    "start_time": "2024-01-07T19:08:19.955Z"
   },
   {
    "duration": 506,
    "start_time": "2024-01-07T19:08:19.981Z"
   },
   {
    "duration": 86,
    "start_time": "2024-01-07T19:08:20.489Z"
   },
   {
    "duration": 335,
    "start_time": "2024-01-07T19:08:20.577Z"
   },
   {
    "duration": 51,
    "start_time": "2024-01-07T19:08:20.913Z"
   },
   {
    "duration": 83,
    "start_time": "2024-01-07T19:08:20.966Z"
   },
   {
    "duration": 1808,
    "start_time": "2024-01-07T19:08:21.051Z"
   },
   {
    "duration": 10,
    "start_time": "2024-01-07T19:08:22.861Z"
   },
   {
    "duration": 18,
    "start_time": "2024-01-07T19:08:22.873Z"
   },
   {
    "duration": 1733,
    "start_time": "2024-01-07T19:08:22.892Z"
   },
   {
    "duration": 22,
    "start_time": "2024-01-07T19:08:24.626Z"
   },
   {
    "duration": 7,
    "start_time": "2024-01-07T19:08:24.651Z"
   },
   {
    "duration": 54,
    "start_time": "2024-01-07T19:08:24.659Z"
   },
   {
    "duration": 2004,
    "start_time": "2024-01-07T19:08:24.714Z"
   },
   {
    "duration": 10,
    "start_time": "2024-01-07T19:08:26.719Z"
   },
   {
    "duration": 27,
    "start_time": "2024-01-07T19:08:26.731Z"
   },
   {
    "duration": 33,
    "start_time": "2024-01-07T19:08:26.760Z"
   },
   {
    "duration": 49,
    "start_time": "2024-01-07T19:08:26.795Z"
   },
   {
    "duration": 9,
    "start_time": "2024-01-07T19:08:26.846Z"
   },
   {
    "duration": 0,
    "start_time": "2024-01-07T19:08:26.856Z"
   },
   {
    "duration": 215,
    "start_time": "2024-01-07T19:08:35.733Z"
   },
   {
    "duration": 49,
    "start_time": "2024-01-07T19:08:40.796Z"
   },
   {
    "duration": 7157,
    "start_time": "2024-01-07T19:11:03.776Z"
   },
   {
    "duration": 4,
    "start_time": "2024-01-07T19:11:10.935Z"
   },
   {
    "duration": 17,
    "start_time": "2024-01-07T19:11:10.941Z"
   },
   {
    "duration": 481,
    "start_time": "2024-01-07T19:11:10.959Z"
   },
   {
    "duration": 55,
    "start_time": "2024-01-07T19:11:11.443Z"
   },
   {
    "duration": 312,
    "start_time": "2024-01-07T19:11:11.499Z"
   },
   {
    "duration": 53,
    "start_time": "2024-01-07T19:11:11.813Z"
   },
   {
    "duration": 101,
    "start_time": "2024-01-07T19:11:11.868Z"
   },
   {
    "duration": 1839,
    "start_time": "2024-01-07T19:11:11.971Z"
   },
   {
    "duration": 8,
    "start_time": "2024-01-07T19:11:13.812Z"
   },
   {
    "duration": 25,
    "start_time": "2024-01-07T19:11:13.822Z"
   },
   {
    "duration": 1711,
    "start_time": "2024-01-07T19:11:13.848Z"
   },
   {
    "duration": 14,
    "start_time": "2024-01-07T19:11:15.561Z"
   },
   {
    "duration": 8,
    "start_time": "2024-01-07T19:11:15.578Z"
   },
   {
    "duration": 19,
    "start_time": "2024-01-07T19:11:15.588Z"
   },
   {
    "duration": 2102,
    "start_time": "2024-01-07T19:11:15.609Z"
   },
   {
    "duration": 7,
    "start_time": "2024-01-07T19:11:17.713Z"
   },
   {
    "duration": 28,
    "start_time": "2024-01-07T19:11:17.722Z"
   },
   {
    "duration": 22,
    "start_time": "2024-01-07T19:11:17.752Z"
   },
   {
    "duration": 26,
    "start_time": "2024-01-07T19:11:17.776Z"
   },
   {
    "duration": 247,
    "start_time": "2024-01-07T19:11:17.804Z"
   },
   {
    "duration": 0,
    "start_time": "2024-01-07T19:11:18.053Z"
   },
   {
    "duration": 119,
    "start_time": "2024-01-07T19:11:34.928Z"
   },
   {
    "duration": 7012,
    "start_time": "2024-01-07T19:11:57.965Z"
   },
   {
    "duration": 4,
    "start_time": "2024-01-07T19:12:04.979Z"
   },
   {
    "duration": 54,
    "start_time": "2024-01-07T19:12:04.985Z"
   },
   {
    "duration": 539,
    "start_time": "2024-01-07T19:12:05.041Z"
   },
   {
    "duration": 79,
    "start_time": "2024-01-07T19:12:05.582Z"
   },
   {
    "duration": 328,
    "start_time": "2024-01-07T19:12:05.662Z"
   },
   {
    "duration": 56,
    "start_time": "2024-01-07T19:12:05.992Z"
   },
   {
    "duration": 102,
    "start_time": "2024-01-07T19:12:06.050Z"
   },
   {
    "duration": 1910,
    "start_time": "2024-01-07T19:12:06.154Z"
   },
   {
    "duration": 9,
    "start_time": "2024-01-07T19:12:08.068Z"
   },
   {
    "duration": 73,
    "start_time": "2024-01-07T19:12:08.078Z"
   },
   {
    "duration": 1948,
    "start_time": "2024-01-07T19:12:08.152Z"
   },
   {
    "duration": 17,
    "start_time": "2024-01-07T19:12:10.102Z"
   },
   {
    "duration": 25,
    "start_time": "2024-01-07T19:12:10.120Z"
   },
   {
    "duration": 20,
    "start_time": "2024-01-07T19:12:10.147Z"
   },
   {
    "duration": 2016,
    "start_time": "2024-01-07T19:12:10.168Z"
   },
   {
    "duration": 8,
    "start_time": "2024-01-07T19:12:12.186Z"
   },
   {
    "duration": 16,
    "start_time": "2024-01-07T19:12:12.195Z"
   },
   {
    "duration": 35,
    "start_time": "2024-01-07T19:12:12.213Z"
   },
   {
    "duration": 19,
    "start_time": "2024-01-07T19:12:12.250Z"
   },
   {
    "duration": 77,
    "start_time": "2024-01-07T19:12:12.271Z"
   },
   {
    "duration": 212,
    "start_time": "2024-01-07T19:12:12.349Z"
   },
   {
    "duration": 26,
    "start_time": "2024-01-07T19:12:43.088Z"
   },
   {
    "duration": 70,
    "start_time": "2024-01-07T19:12:51.776Z"
   },
   {
    "duration": 26,
    "start_time": "2024-01-07T19:13:19.536Z"
   },
   {
    "duration": 6940,
    "start_time": "2024-01-07T19:39:28.754Z"
   },
   {
    "duration": 1405,
    "start_time": "2024-01-07T19:39:35.697Z"
   },
   {
    "duration": 15,
    "start_time": "2024-01-07T19:39:37.106Z"
   },
   {
    "duration": 476,
    "start_time": "2024-01-07T19:39:37.122Z"
   },
   {
    "duration": 65,
    "start_time": "2024-01-07T19:39:37.600Z"
   },
   {
    "duration": 311,
    "start_time": "2024-01-07T19:39:37.667Z"
   },
   {
    "duration": 31,
    "start_time": "2024-01-07T19:39:37.980Z"
   },
   {
    "duration": 102,
    "start_time": "2024-01-07T19:39:38.013Z"
   },
   {
    "duration": 1765,
    "start_time": "2024-01-07T19:39:38.118Z"
   },
   {
    "duration": 8,
    "start_time": "2024-01-07T19:39:39.884Z"
   },
   {
    "duration": 31,
    "start_time": "2024-01-07T19:39:39.894Z"
   },
   {
    "duration": 1679,
    "start_time": "2024-01-07T19:39:39.926Z"
   },
   {
    "duration": 13,
    "start_time": "2024-01-07T19:39:41.606Z"
   },
   {
    "duration": 17,
    "start_time": "2024-01-07T19:39:41.621Z"
   },
   {
    "duration": 33,
    "start_time": "2024-01-07T19:39:41.642Z"
   },
   {
    "duration": 2050,
    "start_time": "2024-01-07T19:39:41.676Z"
   },
   {
    "duration": 8,
    "start_time": "2024-01-07T19:39:43.728Z"
   },
   {
    "duration": 50,
    "start_time": "2024-01-07T19:39:43.737Z"
   },
   {
    "duration": 19,
    "start_time": "2024-01-07T19:39:43.788Z"
   },
   {
    "duration": 23,
    "start_time": "2024-01-07T19:39:43.809Z"
   },
   {
    "duration": 25,
    "start_time": "2024-01-07T19:39:43.834Z"
   },
   {
    "duration": 189,
    "start_time": "2024-01-07T19:39:43.860Z"
   },
   {
    "duration": 207,
    "start_time": "2024-01-07T19:39:44.052Z"
   },
   {
    "duration": 6841,
    "start_time": "2024-01-08T13:22:46.142Z"
   },
   {
    "duration": 1481,
    "start_time": "2024-01-08T13:22:52.985Z"
   },
   {
    "duration": 16,
    "start_time": "2024-01-08T13:22:54.468Z"
   },
   {
    "duration": 1631,
    "start_time": "2024-01-08T13:22:54.486Z"
   },
   {
    "duration": 56,
    "start_time": "2024-01-08T13:22:56.118Z"
   },
   {
    "duration": 270,
    "start_time": "2024-01-08T13:22:56.175Z"
   },
   {
    "duration": 46,
    "start_time": "2024-01-08T13:22:56.446Z"
   },
   {
    "duration": 81,
    "start_time": "2024-01-08T13:22:56.493Z"
   },
   {
    "duration": 1700,
    "start_time": "2024-01-08T13:22:56.576Z"
   },
   {
    "duration": 7,
    "start_time": "2024-01-08T13:22:58.278Z"
   },
   {
    "duration": 20,
    "start_time": "2024-01-08T13:22:58.287Z"
   },
   {
    "duration": 1610,
    "start_time": "2024-01-08T13:22:58.309Z"
   },
   {
    "duration": 13,
    "start_time": "2024-01-08T13:22:59.921Z"
   },
   {
    "duration": 36,
    "start_time": "2024-01-08T13:22:59.935Z"
   },
   {
    "duration": 64,
    "start_time": "2024-01-08T13:22:59.973Z"
   },
   {
    "duration": 2065,
    "start_time": "2024-01-08T13:23:00.038Z"
   },
   {
    "duration": 7,
    "start_time": "2024-01-08T13:23:02.105Z"
   },
   {
    "duration": 143,
    "start_time": "2024-01-08T13:23:02.113Z"
   },
   {
    "duration": 196,
    "start_time": "2024-01-08T13:23:02.257Z"
   },
   {
    "duration": 211,
    "start_time": "2024-01-08T13:23:02.454Z"
   },
   {
    "duration": 185,
    "start_time": "2024-01-08T13:23:02.667Z"
   },
   {
    "duration": 427,
    "start_time": "2024-01-08T13:23:02.853Z"
   },
   {
    "duration": 200,
    "start_time": "2024-01-08T13:23:03.285Z"
   },
   {
    "duration": 3,
    "start_time": "2024-01-08T13:52:53.502Z"
   },
   {
    "duration": 4,
    "start_time": "2024-01-08T14:04:17.010Z"
   },
   {
    "duration": 4,
    "start_time": "2024-01-08T14:05:15.393Z"
   },
   {
    "duration": 4,
    "start_time": "2024-01-08T14:05:42.293Z"
   },
   {
    "duration": 4,
    "start_time": "2024-01-08T14:06:57.280Z"
   },
   {
    "duration": 4,
    "start_time": "2024-01-08T14:07:23.935Z"
   },
   {
    "duration": 4,
    "start_time": "2024-01-08T14:11:21.052Z"
   },
   {
    "duration": 3,
    "start_time": "2024-01-08T14:13:06.057Z"
   },
   {
    "duration": 4,
    "start_time": "2024-01-08T14:13:55.775Z"
   },
   {
    "duration": 3,
    "start_time": "2024-01-08T14:20:05.541Z"
   },
   {
    "duration": 4,
    "start_time": "2024-01-08T14:21:22.401Z"
   },
   {
    "duration": 4,
    "start_time": "2024-01-08T14:22:34.612Z"
   },
   {
    "duration": 3,
    "start_time": "2024-01-08T14:22:43.992Z"
   },
   {
    "duration": 82,
    "start_time": "2024-01-08T14:23:30.187Z"
   },
   {
    "duration": 6817,
    "start_time": "2024-01-08T14:25:05.356Z"
   },
   {
    "duration": 3,
    "start_time": "2024-01-08T14:25:12.176Z"
   },
   {
    "duration": 35,
    "start_time": "2024-01-08T14:25:12.181Z"
   },
   {
    "duration": 510,
    "start_time": "2024-01-08T14:25:12.218Z"
   },
   {
    "duration": 62,
    "start_time": "2024-01-08T14:25:12.730Z"
   },
   {
    "duration": 313,
    "start_time": "2024-01-08T14:25:12.793Z"
   },
   {
    "duration": 32,
    "start_time": "2024-01-08T14:25:13.107Z"
   },
   {
    "duration": 91,
    "start_time": "2024-01-08T14:25:13.141Z"
   },
   {
    "duration": 1826,
    "start_time": "2024-01-08T14:25:13.234Z"
   },
   {
    "duration": 7,
    "start_time": "2024-01-08T14:25:15.066Z"
   },
   {
    "duration": 54,
    "start_time": "2024-01-08T14:25:15.075Z"
   },
   {
    "duration": 1608,
    "start_time": "2024-01-08T14:25:15.130Z"
   },
   {
    "duration": 13,
    "start_time": "2024-01-08T14:25:16.740Z"
   },
   {
    "duration": 23,
    "start_time": "2024-01-08T14:25:16.756Z"
   },
   {
    "duration": 46,
    "start_time": "2024-01-08T14:25:16.781Z"
   },
   {
    "duration": 1916,
    "start_time": "2024-01-08T14:25:16.828Z"
   },
   {
    "duration": 7,
    "start_time": "2024-01-08T14:25:18.746Z"
   },
   {
    "duration": 25,
    "start_time": "2024-01-08T14:25:18.755Z"
   },
   {
    "duration": 18,
    "start_time": "2024-01-08T14:25:18.782Z"
   },
   {
    "duration": 19,
    "start_time": "2024-01-08T14:25:18.802Z"
   },
   {
    "duration": 154,
    "start_time": "2024-01-08T14:25:18.822Z"
   },
   {
    "duration": 193,
    "start_time": "2024-01-08T14:25:18.977Z"
   },
   {
    "duration": 201,
    "start_time": "2024-01-08T14:25:19.172Z"
   },
   {
    "duration": 94,
    "start_time": "2024-01-08T14:25:19.375Z"
   },
   {
    "duration": 93,
    "start_time": "2024-01-08T14:25:19.475Z"
   },
   {
    "duration": 9,
    "start_time": "2024-01-08T14:25:19.570Z"
   },
   {
    "duration": 3,
    "start_time": "2024-01-08T14:25:24.835Z"
   },
   {
    "duration": 107,
    "start_time": "2024-01-08T14:30:04.927Z"
   },
   {
    "duration": 3,
    "start_time": "2024-01-08T14:30:23.996Z"
   },
   {
    "duration": 3,
    "start_time": "2024-01-08T14:30:33.169Z"
   },
   {
    "duration": 2,
    "start_time": "2024-01-08T14:30:43.066Z"
   },
   {
    "duration": 3,
    "start_time": "2024-01-08T14:30:43.659Z"
   },
   {
    "duration": 4,
    "start_time": "2024-01-08T14:31:36.868Z"
   },
   {
    "duration": 3,
    "start_time": "2024-01-08T14:31:47.453Z"
   },
   {
    "duration": 4,
    "start_time": "2024-01-08T14:32:08.041Z"
   },
   {
    "duration": 4,
    "start_time": "2024-01-08T14:32:54.913Z"
   },
   {
    "duration": 4,
    "start_time": "2024-01-08T14:46:58.329Z"
   },
   {
    "duration": 64,
    "start_time": "2024-01-08T15:19:15.561Z"
   },
   {
    "duration": 3,
    "start_time": "2024-01-08T15:19:20.798Z"
   },
   {
    "duration": 15,
    "start_time": "2024-01-08T15:20:36.152Z"
   },
   {
    "duration": 3,
    "start_time": "2024-01-08T15:21:16.328Z"
   },
   {
    "duration": 18,
    "start_time": "2024-01-08T15:21:16.749Z"
   },
   {
    "duration": 3,
    "start_time": "2024-01-08T15:22:14.196Z"
   },
   {
    "duration": 30,
    "start_time": "2024-01-08T15:22:15.103Z"
   },
   {
    "duration": 3,
    "start_time": "2024-01-08T15:22:24.385Z"
   },
   {
    "duration": 22,
    "start_time": "2024-01-08T15:22:27.621Z"
   },
   {
    "duration": 3,
    "start_time": "2024-01-08T15:26:04.217Z"
   },
   {
    "duration": 22,
    "start_time": "2024-01-08T15:26:04.694Z"
   },
   {
    "duration": 3,
    "start_time": "2024-01-08T15:27:13.543Z"
   },
   {
    "duration": 22,
    "start_time": "2024-01-08T15:27:14.770Z"
   },
   {
    "duration": 6976,
    "start_time": "2024-01-08T15:27:22.199Z"
   },
   {
    "duration": 3,
    "start_time": "2024-01-08T15:27:29.177Z"
   },
   {
    "duration": 73,
    "start_time": "2024-01-08T15:27:29.182Z"
   },
   {
    "duration": 483,
    "start_time": "2024-01-08T15:27:29.257Z"
   },
   {
    "duration": 61,
    "start_time": "2024-01-08T15:27:29.741Z"
   },
   {
    "duration": 306,
    "start_time": "2024-01-08T15:27:29.803Z"
   },
   {
    "duration": 31,
    "start_time": "2024-01-08T15:27:30.111Z"
   },
   {
    "duration": 159,
    "start_time": "2024-01-08T15:27:30.143Z"
   },
   {
    "duration": 1735,
    "start_time": "2024-01-08T15:27:30.303Z"
   },
   {
    "duration": 8,
    "start_time": "2024-01-08T15:27:32.040Z"
   },
   {
    "duration": 47,
    "start_time": "2024-01-08T15:27:32.049Z"
   },
   {
    "duration": 1610,
    "start_time": "2024-01-08T15:27:32.097Z"
   },
   {
    "duration": 14,
    "start_time": "2024-01-08T15:27:33.709Z"
   },
   {
    "duration": 8,
    "start_time": "2024-01-08T15:27:33.724Z"
   },
   {
    "duration": 15,
    "start_time": "2024-01-08T15:27:33.733Z"
   },
   {
    "duration": 1942,
    "start_time": "2024-01-08T15:27:33.749Z"
   },
   {
    "duration": 8,
    "start_time": "2024-01-08T15:27:35.692Z"
   },
   {
    "duration": 20,
    "start_time": "2024-01-08T15:27:35.701Z"
   },
   {
    "duration": 20,
    "start_time": "2024-01-08T15:27:35.723Z"
   },
   {
    "duration": 29,
    "start_time": "2024-01-08T15:27:35.744Z"
   },
   {
    "duration": 26,
    "start_time": "2024-01-08T15:27:35.774Z"
   },
   {
    "duration": 24,
    "start_time": "2024-01-08T15:27:35.967Z"
   },
   {
    "duration": 118,
    "start_time": "2024-01-08T15:27:36.066Z"
   },
   {
    "duration": 3,
    "start_time": "2024-01-08T15:27:36.186Z"
   },
   {
    "duration": 110,
    "start_time": "2024-01-08T15:27:36.271Z"
   },
   {
    "duration": 31,
    "start_time": "2024-01-08T15:27:36.382Z"
   },
   {
    "duration": 12,
    "start_time": "2024-01-08T15:27:36.415Z"
   },
   {
    "duration": 31,
    "start_time": "2024-01-08T15:27:36.430Z"
   },
   {
    "duration": 6795,
    "start_time": "2024-01-08T15:28:09.114Z"
   },
   {
    "duration": 3,
    "start_time": "2024-01-08T15:28:15.912Z"
   },
   {
    "duration": 59,
    "start_time": "2024-01-08T15:28:15.917Z"
   },
   {
    "duration": 505,
    "start_time": "2024-01-08T15:28:15.979Z"
   },
   {
    "duration": 56,
    "start_time": "2024-01-08T15:28:16.485Z"
   },
   {
    "duration": 334,
    "start_time": "2024-01-08T15:28:16.542Z"
   },
   {
    "duration": 30,
    "start_time": "2024-01-08T15:28:16.878Z"
   },
   {
    "duration": 95,
    "start_time": "2024-01-08T15:28:16.910Z"
   },
   {
    "duration": 1838,
    "start_time": "2024-01-08T15:28:17.007Z"
   },
   {
    "duration": 9,
    "start_time": "2024-01-08T15:28:18.847Z"
   },
   {
    "duration": 25,
    "start_time": "2024-01-08T15:28:18.857Z"
   },
   {
    "duration": 1763,
    "start_time": "2024-01-08T15:28:18.884Z"
   },
   {
    "duration": 19,
    "start_time": "2024-01-08T15:28:20.648Z"
   },
   {
    "duration": 8,
    "start_time": "2024-01-08T15:28:20.669Z"
   },
   {
    "duration": 25,
    "start_time": "2024-01-08T15:28:20.678Z"
   },
   {
    "duration": 1794,
    "start_time": "2024-01-08T15:28:20.704Z"
   },
   {
    "duration": 7,
    "start_time": "2024-01-08T15:28:22.500Z"
   },
   {
    "duration": 35,
    "start_time": "2024-01-08T15:28:22.508Z"
   },
   {
    "duration": 18,
    "start_time": "2024-01-08T15:28:22.545Z"
   },
   {
    "duration": 18,
    "start_time": "2024-01-08T15:28:22.566Z"
   },
   {
    "duration": 89,
    "start_time": "2024-01-08T15:28:22.586Z"
   },
   {
    "duration": 112,
    "start_time": "2024-01-08T15:28:22.677Z"
   },
   {
    "duration": 116,
    "start_time": "2024-01-08T15:28:22.870Z"
   },
   {
    "duration": 80,
    "start_time": "2024-01-08T15:28:22.988Z"
   },
   {
    "duration": 120,
    "start_time": "2024-01-08T15:28:23.073Z"
   },
   {
    "duration": 44,
    "start_time": "2024-01-08T15:28:23.194Z"
   },
   {
    "duration": 40,
    "start_time": "2024-01-08T15:28:23.240Z"
   },
   {
    "duration": 63,
    "start_time": "2024-01-08T15:28:23.283Z"
   },
   {
    "duration": 6761,
    "start_time": "2024-01-08T15:29:09.658Z"
   },
   {
    "duration": 3,
    "start_time": "2024-01-08T15:29:16.421Z"
   },
   {
    "duration": 16,
    "start_time": "2024-01-08T15:29:16.426Z"
   },
   {
    "duration": 483,
    "start_time": "2024-01-08T15:29:16.443Z"
   },
   {
    "duration": 65,
    "start_time": "2024-01-08T15:29:16.928Z"
   },
   {
    "duration": 303,
    "start_time": "2024-01-08T15:29:16.995Z"
   },
   {
    "duration": 30,
    "start_time": "2024-01-08T15:29:17.299Z"
   },
   {
    "duration": 90,
    "start_time": "2024-01-08T15:29:17.331Z"
   },
   {
    "duration": 1831,
    "start_time": "2024-01-08T15:29:17.423Z"
   },
   {
    "duration": 12,
    "start_time": "2024-01-08T15:29:19.257Z"
   },
   {
    "duration": 15,
    "start_time": "2024-01-08T15:29:19.270Z"
   },
   {
    "duration": 1713,
    "start_time": "2024-01-08T15:29:19.287Z"
   },
   {
    "duration": 13,
    "start_time": "2024-01-08T15:29:21.001Z"
   },
   {
    "duration": 7,
    "start_time": "2024-01-08T15:29:21.015Z"
   },
   {
    "duration": 13,
    "start_time": "2024-01-08T15:29:21.024Z"
   },
   {
    "duration": 1878,
    "start_time": "2024-01-08T15:29:21.038Z"
   },
   {
    "duration": 7,
    "start_time": "2024-01-08T15:29:22.917Z"
   },
   {
    "duration": 57,
    "start_time": "2024-01-08T15:29:22.926Z"
   },
   {
    "duration": 32,
    "start_time": "2024-01-08T15:29:22.984Z"
   },
   {
    "duration": 19,
    "start_time": "2024-01-08T15:29:23.017Z"
   },
   {
    "duration": 44,
    "start_time": "2024-01-08T15:29:23.038Z"
   },
   {
    "duration": 198,
    "start_time": "2024-01-08T15:29:23.084Z"
   },
   {
    "duration": 194,
    "start_time": "2024-01-08T15:29:23.284Z"
   },
   {
    "duration": 87,
    "start_time": "2024-01-08T15:29:23.480Z"
   },
   {
    "duration": 93,
    "start_time": "2024-01-08T15:29:23.574Z"
   },
   {
    "duration": 5,
    "start_time": "2024-01-08T15:29:23.669Z"
   },
   {
    "duration": 16,
    "start_time": "2024-01-08T15:29:23.676Z"
   },
   {
    "duration": 26,
    "start_time": "2024-01-08T15:29:23.694Z"
   },
   {
    "duration": 6821,
    "start_time": "2024-01-08T15:30:03.715Z"
   },
   {
    "duration": 4,
    "start_time": "2024-01-08T15:30:10.538Z"
   },
   {
    "duration": 16,
    "start_time": "2024-01-08T15:30:10.544Z"
   },
   {
    "duration": 455,
    "start_time": "2024-01-08T15:30:10.562Z"
   },
   {
    "duration": 74,
    "start_time": "2024-01-08T15:30:11.018Z"
   },
   {
    "duration": 311,
    "start_time": "2024-01-08T15:30:11.094Z"
   },
   {
    "duration": 32,
    "start_time": "2024-01-08T15:30:11.407Z"
   },
   {
    "duration": 88,
    "start_time": "2024-01-08T15:30:11.440Z"
   },
   {
    "duration": 1570,
    "start_time": "2024-01-08T15:30:11.529Z"
   },
   {
    "duration": 8,
    "start_time": "2024-01-08T15:30:13.102Z"
   },
   {
    "duration": 34,
    "start_time": "2024-01-08T15:30:13.111Z"
   },
   {
    "duration": 1746,
    "start_time": "2024-01-08T15:30:13.147Z"
   },
   {
    "duration": 14,
    "start_time": "2024-01-08T15:30:14.895Z"
   },
   {
    "duration": 7,
    "start_time": "2024-01-08T15:30:14.911Z"
   },
   {
    "duration": 15,
    "start_time": "2024-01-08T15:30:14.920Z"
   },
   {
    "duration": 1961,
    "start_time": "2024-01-08T15:30:14.937Z"
   },
   {
    "duration": 9,
    "start_time": "2024-01-08T15:30:16.900Z"
   },
   {
    "duration": 20,
    "start_time": "2024-01-08T15:30:16.910Z"
   },
   {
    "duration": 40,
    "start_time": "2024-01-08T15:30:16.932Z"
   },
   {
    "duration": 18,
    "start_time": "2024-01-08T15:30:16.973Z"
   },
   {
    "duration": 78,
    "start_time": "2024-01-08T15:30:16.993Z"
   },
   {
    "duration": 208,
    "start_time": "2024-01-08T15:30:17.072Z"
   },
   {
    "duration": 200,
    "start_time": "2024-01-08T15:30:17.282Z"
   },
   {
    "duration": 87,
    "start_time": "2024-01-08T15:30:17.484Z"
   },
   {
    "duration": 114,
    "start_time": "2024-01-08T15:30:17.573Z"
   },
   {
    "duration": 23,
    "start_time": "2024-01-08T15:30:17.689Z"
   },
   {
    "duration": 32,
    "start_time": "2024-01-08T15:30:17.713Z"
   },
   {
    "duration": 41,
    "start_time": "2024-01-08T15:30:17.748Z"
   },
   {
    "duration": 6760,
    "start_time": "2024-01-08T15:30:40.656Z"
   },
   {
    "duration": 4,
    "start_time": "2024-01-08T15:30:47.419Z"
   },
   {
    "duration": 23,
    "start_time": "2024-01-08T15:30:47.424Z"
   },
   {
    "duration": 456,
    "start_time": "2024-01-08T15:30:47.449Z"
   },
   {
    "duration": 62,
    "start_time": "2024-01-08T15:30:47.907Z"
   },
   {
    "duration": 299,
    "start_time": "2024-01-08T15:30:47.971Z"
   },
   {
    "duration": 32,
    "start_time": "2024-01-08T15:30:48.271Z"
   },
   {
    "duration": 87,
    "start_time": "2024-01-08T15:30:48.304Z"
   },
   {
    "duration": 1643,
    "start_time": "2024-01-08T15:30:48.392Z"
   },
   {
    "duration": 9,
    "start_time": "2024-01-08T15:30:50.038Z"
   },
   {
    "duration": 73,
    "start_time": "2024-01-08T15:30:50.048Z"
   },
   {
    "duration": 1702,
    "start_time": "2024-01-08T15:30:50.123Z"
   },
   {
    "duration": 14,
    "start_time": "2024-01-08T15:30:51.827Z"
   },
   {
    "duration": 21,
    "start_time": "2024-01-08T15:30:51.843Z"
   },
   {
    "duration": 59,
    "start_time": "2024-01-08T15:30:51.867Z"
   },
   {
    "duration": 1864,
    "start_time": "2024-01-08T15:30:51.928Z"
   },
   {
    "duration": 7,
    "start_time": "2024-01-08T15:30:53.794Z"
   },
   {
    "duration": 16,
    "start_time": "2024-01-08T15:30:53.802Z"
   },
   {
    "duration": 16,
    "start_time": "2024-01-08T15:30:53.819Z"
   },
   {
    "duration": 43,
    "start_time": "2024-01-08T15:30:53.836Z"
   },
   {
    "duration": 92,
    "start_time": "2024-01-08T15:30:53.880Z"
   },
   {
    "duration": 114,
    "start_time": "2024-01-08T15:30:53.975Z"
   },
   {
    "duration": 116,
    "start_time": "2024-01-08T15:30:54.169Z"
   },
   {
    "duration": 80,
    "start_time": "2024-01-08T15:30:54.287Z"
   },
   {
    "duration": 4,
    "start_time": "2024-01-08T15:30:54.370Z"
   },
   {
    "duration": 96,
    "start_time": "2024-01-08T15:30:54.376Z"
   },
   {
    "duration": 26,
    "start_time": "2024-01-08T15:30:54.473Z"
   },
   {
    "duration": 49,
    "start_time": "2024-01-08T15:30:54.501Z"
   },
   {
    "duration": 6697,
    "start_time": "2024-01-08T15:37:30.510Z"
   },
   {
    "duration": 4,
    "start_time": "2024-01-08T15:37:37.210Z"
   },
   {
    "duration": 44,
    "start_time": "2024-01-08T15:37:37.215Z"
   },
   {
    "duration": 524,
    "start_time": "2024-01-08T15:37:37.261Z"
   },
   {
    "duration": 54,
    "start_time": "2024-01-08T15:37:37.788Z"
   },
   {
    "duration": 303,
    "start_time": "2024-01-08T15:37:37.844Z"
   },
   {
    "duration": 48,
    "start_time": "2024-01-08T15:37:38.149Z"
   },
   {
    "duration": 82,
    "start_time": "2024-01-08T15:37:38.198Z"
   },
   {
    "duration": 1651,
    "start_time": "2024-01-08T15:37:38.281Z"
   },
   {
    "duration": 8,
    "start_time": "2024-01-08T15:37:39.934Z"
   },
   {
    "duration": 34,
    "start_time": "2024-01-08T15:37:39.943Z"
   },
   {
    "duration": 1762,
    "start_time": "2024-01-08T15:37:39.979Z"
   },
   {
    "duration": 12,
    "start_time": "2024-01-08T15:37:41.743Z"
   },
   {
    "duration": 16,
    "start_time": "2024-01-08T15:37:41.766Z"
   },
   {
    "duration": 35,
    "start_time": "2024-01-08T15:37:41.783Z"
   },
   {
    "duration": 1889,
    "start_time": "2024-01-08T15:37:41.819Z"
   },
   {
    "duration": 8,
    "start_time": "2024-01-08T15:37:43.710Z"
   },
   {
    "duration": 33,
    "start_time": "2024-01-08T15:37:43.720Z"
   },
   {
    "duration": 23,
    "start_time": "2024-01-08T15:37:43.754Z"
   },
   {
    "duration": 18,
    "start_time": "2024-01-08T15:37:43.779Z"
   },
   {
    "duration": 71,
    "start_time": "2024-01-08T15:37:43.799Z"
   },
   {
    "duration": 204,
    "start_time": "2024-01-08T15:37:43.872Z"
   },
   {
    "duration": 201,
    "start_time": "2024-01-08T15:37:44.078Z"
   },
   {
    "duration": 2,
    "start_time": "2024-01-08T15:37:44.282Z"
   },
   {
    "duration": 126,
    "start_time": "2024-01-08T15:37:44.366Z"
   },
   {
    "duration": 30,
    "start_time": "2024-01-08T15:37:44.494Z"
   },
   {
    "duration": 27,
    "start_time": "2024-01-08T15:37:44.526Z"
   },
   {
    "duration": 54,
    "start_time": "2024-01-08T15:37:44.555Z"
   },
   {
    "duration": 6819,
    "start_time": "2024-01-08T15:38:17.846Z"
   },
   {
    "duration": 4,
    "start_time": "2024-01-08T15:38:24.668Z"
   },
   {
    "duration": 17,
    "start_time": "2024-01-08T15:38:24.673Z"
   },
   {
    "duration": 475,
    "start_time": "2024-01-08T15:38:24.691Z"
   },
   {
    "duration": 56,
    "start_time": "2024-01-08T15:38:25.168Z"
   },
   {
    "duration": 311,
    "start_time": "2024-01-08T15:38:25.226Z"
   },
   {
    "duration": 49,
    "start_time": "2024-01-08T15:38:25.538Z"
   },
   {
    "duration": 79,
    "start_time": "2024-01-08T15:38:25.588Z"
   },
   {
    "duration": 1635,
    "start_time": "2024-01-08T15:38:25.669Z"
   },
   {
    "duration": 10,
    "start_time": "2024-01-08T15:38:27.305Z"
   },
   {
    "duration": 17,
    "start_time": "2024-01-08T15:38:27.316Z"
   },
   {
    "duration": 1685,
    "start_time": "2024-01-08T15:38:27.335Z"
   },
   {
    "duration": 12,
    "start_time": "2024-01-08T15:38:29.022Z"
   },
   {
    "duration": 6,
    "start_time": "2024-01-08T15:38:29.037Z"
   },
   {
    "duration": 32,
    "start_time": "2024-01-08T15:38:29.045Z"
   },
   {
    "duration": 1866,
    "start_time": "2024-01-08T15:38:29.079Z"
   },
   {
    "duration": 7,
    "start_time": "2024-01-08T15:38:30.946Z"
   },
   {
    "duration": 50,
    "start_time": "2024-01-08T15:38:30.954Z"
   },
   {
    "duration": 36,
    "start_time": "2024-01-08T15:38:31.005Z"
   },
   {
    "duration": 35,
    "start_time": "2024-01-08T15:38:31.042Z"
   },
   {
    "duration": 89,
    "start_time": "2024-01-08T15:38:31.079Z"
   },
   {
    "duration": 122,
    "start_time": "2024-01-08T15:38:31.170Z"
   },
   {
    "duration": 185,
    "start_time": "2024-01-08T15:38:31.295Z"
   },
   {
    "duration": 186,
    "start_time": "2024-01-08T15:38:31.482Z"
   },
   {
    "duration": 132,
    "start_time": "2024-01-08T15:38:31.669Z"
   },
   {
    "duration": 94,
    "start_time": "2024-01-08T15:38:31.802Z"
   },
   {
    "duration": 152,
    "start_time": "2024-01-08T15:38:31.898Z"
   },
   {
    "duration": 66,
    "start_time": "2024-01-08T15:38:32.052Z"
   },
   {
    "duration": 6800,
    "start_time": "2024-01-08T15:42:09.210Z"
   },
   {
    "duration": 4,
    "start_time": "2024-01-08T15:42:16.013Z"
   },
   {
    "duration": 19,
    "start_time": "2024-01-08T15:42:16.018Z"
   },
   {
    "duration": 468,
    "start_time": "2024-01-08T15:42:16.039Z"
   },
   {
    "duration": 71,
    "start_time": "2024-01-08T15:42:16.509Z"
   },
   {
    "duration": 310,
    "start_time": "2024-01-08T15:42:16.581Z"
   },
   {
    "duration": 31,
    "start_time": "2024-01-08T15:42:16.892Z"
   },
   {
    "duration": 89,
    "start_time": "2024-01-08T15:42:16.924Z"
   },
   {
    "duration": 1701,
    "start_time": "2024-01-08T15:42:17.015Z"
   },
   {
    "duration": 7,
    "start_time": "2024-01-08T15:42:18.717Z"
   },
   {
    "duration": 42,
    "start_time": "2024-01-08T15:42:18.726Z"
   },
   {
    "duration": 1626,
    "start_time": "2024-01-08T15:42:18.770Z"
   },
   {
    "duration": 15,
    "start_time": "2024-01-08T15:42:20.398Z"
   },
   {
    "duration": 9,
    "start_time": "2024-01-08T15:42:20.416Z"
   },
   {
    "duration": 57,
    "start_time": "2024-01-08T15:42:20.427Z"
   },
   {
    "duration": 1950,
    "start_time": "2024-01-08T15:42:20.486Z"
   },
   {
    "duration": 8,
    "start_time": "2024-01-08T15:42:22.438Z"
   },
   {
    "duration": 26,
    "start_time": "2024-01-08T15:42:22.448Z"
   },
   {
    "duration": 18,
    "start_time": "2024-01-08T15:42:22.476Z"
   },
   {
    "duration": 23,
    "start_time": "2024-01-08T15:42:22.496Z"
   },
   {
    "duration": 49,
    "start_time": "2024-01-08T15:42:22.521Z"
   },
   {
    "duration": 208,
    "start_time": "2024-01-08T15:42:22.572Z"
   },
   {
    "duration": 118,
    "start_time": "2024-01-08T15:42:22.866Z"
   },
   {
    "duration": 81,
    "start_time": "2024-01-08T15:42:22.986Z"
   },
   {
    "duration": 98,
    "start_time": "2024-01-08T15:42:23.070Z"
   },
   {
    "duration": 19,
    "start_time": "2024-01-08T15:42:23.169Z"
   },
   {
    "duration": 5,
    "start_time": "2024-01-08T15:42:23.190Z"
   },
   {
    "duration": 38,
    "start_time": "2024-01-08T15:42:23.197Z"
   },
   {
    "duration": 6773,
    "start_time": "2024-01-08T15:43:00.858Z"
   },
   {
    "duration": 4,
    "start_time": "2024-01-08T15:43:07.633Z"
   },
   {
    "duration": 22,
    "start_time": "2024-01-08T15:43:07.639Z"
   },
   {
    "duration": 450,
    "start_time": "2024-01-08T15:43:07.662Z"
   },
   {
    "duration": 72,
    "start_time": "2024-01-08T15:43:08.114Z"
   },
   {
    "duration": 314,
    "start_time": "2024-01-08T15:43:08.188Z"
   },
   {
    "duration": 32,
    "start_time": "2024-01-08T15:43:08.504Z"
   },
   {
    "duration": 91,
    "start_time": "2024-01-08T15:43:08.538Z"
   },
   {
    "duration": 1815,
    "start_time": "2024-01-08T15:43:08.630Z"
   },
   {
    "duration": 8,
    "start_time": "2024-01-08T15:43:10.446Z"
   },
   {
    "duration": 21,
    "start_time": "2024-01-08T15:43:10.455Z"
   },
   {
    "duration": 1596,
    "start_time": "2024-01-08T15:43:10.478Z"
   },
   {
    "duration": 13,
    "start_time": "2024-01-08T15:43:12.075Z"
   },
   {
    "duration": 9,
    "start_time": "2024-01-08T15:43:12.091Z"
   },
   {
    "duration": 51,
    "start_time": "2024-01-08T15:43:12.101Z"
   },
   {
    "duration": 1881,
    "start_time": "2024-01-08T15:43:12.154Z"
   },
   {
    "duration": 7,
    "start_time": "2024-01-08T15:43:14.036Z"
   },
   {
    "duration": 23,
    "start_time": "2024-01-08T15:43:14.045Z"
   },
   {
    "duration": 18,
    "start_time": "2024-01-08T15:43:14.070Z"
   },
   {
    "duration": 23,
    "start_time": "2024-01-08T15:43:14.090Z"
   },
   {
    "duration": 57,
    "start_time": "2024-01-08T15:43:14.114Z"
   },
   {
    "duration": 203,
    "start_time": "2024-01-08T15:43:14.173Z"
   },
   {
    "duration": 198,
    "start_time": "2024-01-08T15:43:14.378Z"
   },
   {
    "duration": 3,
    "start_time": "2024-01-08T15:43:14.578Z"
   },
   {
    "duration": 185,
    "start_time": "2024-01-08T15:43:14.583Z"
   },
   {
    "duration": 16,
    "start_time": "2024-01-08T15:43:14.769Z"
   },
   {
    "duration": 5,
    "start_time": "2024-01-08T15:43:14.786Z"
   },
   {
    "duration": 18,
    "start_time": "2024-01-08T15:43:14.793Z"
   },
   {
    "duration": 3,
    "start_time": "2024-01-08T15:50:12.401Z"
   },
   {
    "duration": 6693,
    "start_time": "2024-01-08T15:50:14.653Z"
   },
   {
    "duration": 4,
    "start_time": "2024-01-08T15:50:21.348Z"
   },
   {
    "duration": 26,
    "start_time": "2024-01-08T15:50:21.353Z"
   },
   {
    "duration": 455,
    "start_time": "2024-01-08T15:50:21.380Z"
   },
   {
    "duration": 57,
    "start_time": "2024-01-08T15:50:21.837Z"
   },
   {
    "duration": 296,
    "start_time": "2024-01-08T15:50:21.895Z"
   },
   {
    "duration": 33,
    "start_time": "2024-01-08T15:50:22.192Z"
   },
   {
    "duration": 88,
    "start_time": "2024-01-08T15:50:22.226Z"
   },
   {
    "duration": 1718,
    "start_time": "2024-01-08T15:50:22.315Z"
   },
   {
    "duration": 8,
    "start_time": "2024-01-08T15:50:24.035Z"
   },
   {
    "duration": 31,
    "start_time": "2024-01-08T15:50:24.044Z"
   },
   {
    "duration": 1561,
    "start_time": "2024-01-08T15:50:24.077Z"
   },
   {
    "duration": 14,
    "start_time": "2024-01-08T15:50:25.640Z"
   },
   {
    "duration": 8,
    "start_time": "2024-01-08T15:50:25.667Z"
   },
   {
    "duration": 25,
    "start_time": "2024-01-08T15:50:25.676Z"
   },
   {
    "duration": 1887,
    "start_time": "2024-01-08T15:50:25.702Z"
   },
   {
    "duration": 7,
    "start_time": "2024-01-08T15:50:27.591Z"
   },
   {
    "duration": 38,
    "start_time": "2024-01-08T15:50:27.600Z"
   },
   {
    "duration": 18,
    "start_time": "2024-01-08T15:50:27.639Z"
   },
   {
    "duration": 18,
    "start_time": "2024-01-08T15:50:27.658Z"
   },
   {
    "duration": 27,
    "start_time": "2024-01-08T15:50:27.677Z"
   },
   {
    "duration": 118,
    "start_time": "2024-01-08T15:50:27.768Z"
   },
   {
    "duration": 192,
    "start_time": "2024-01-08T15:50:27.888Z"
   },
   {
    "duration": 85,
    "start_time": "2024-01-08T15:50:28.082Z"
   },
   {
    "duration": 93,
    "start_time": "2024-01-08T15:50:28.174Z"
   },
   {
    "duration": 7,
    "start_time": "2024-01-08T15:50:28.269Z"
   },
   {
    "duration": 17,
    "start_time": "2024-01-08T15:50:28.278Z"
   },
   {
    "duration": 32,
    "start_time": "2024-01-08T15:50:28.297Z"
   },
   {
    "duration": 6713,
    "start_time": "2024-01-08T15:50:51.722Z"
   },
   {
    "duration": 4,
    "start_time": "2024-01-08T15:50:58.437Z"
   },
   {
    "duration": 18,
    "start_time": "2024-01-08T15:50:58.442Z"
   },
   {
    "duration": 471,
    "start_time": "2024-01-08T15:50:58.462Z"
   },
   {
    "duration": 77,
    "start_time": "2024-01-08T15:50:58.935Z"
   },
   {
    "duration": 298,
    "start_time": "2024-01-08T15:50:59.014Z"
   },
   {
    "duration": 30,
    "start_time": "2024-01-08T15:50:59.314Z"
   },
   {
    "duration": 92,
    "start_time": "2024-01-08T15:50:59.345Z"
   },
   {
    "duration": 1759,
    "start_time": "2024-01-08T15:50:59.439Z"
   },
   {
    "duration": 8,
    "start_time": "2024-01-08T15:51:01.199Z"
   },
   {
    "duration": 38,
    "start_time": "2024-01-08T15:51:01.209Z"
   },
   {
    "duration": 1589,
    "start_time": "2024-01-08T15:51:01.249Z"
   },
   {
    "duration": 13,
    "start_time": "2024-01-08T15:51:02.840Z"
   },
   {
    "duration": 46,
    "start_time": "2024-01-08T15:51:02.855Z"
   },
   {
    "duration": 55,
    "start_time": "2024-01-08T15:51:02.902Z"
   },
   {
    "duration": 1887,
    "start_time": "2024-01-08T15:51:02.959Z"
   },
   {
    "duration": 8,
    "start_time": "2024-01-08T15:51:04.848Z"
   },
   {
    "duration": 48,
    "start_time": "2024-01-08T15:51:04.866Z"
   },
   {
    "duration": 26,
    "start_time": "2024-01-08T15:51:04.916Z"
   },
   {
    "duration": 34,
    "start_time": "2024-01-08T15:51:04.943Z"
   },
   {
    "duration": 187,
    "start_time": "2024-01-08T15:51:04.979Z"
   },
   {
    "duration": 104,
    "start_time": "2024-01-08T15:51:05.168Z"
   },
   {
    "duration": 204,
    "start_time": "2024-01-08T15:51:05.274Z"
   },
   {
    "duration": 89,
    "start_time": "2024-01-08T15:51:05.480Z"
   },
   {
    "duration": 104,
    "start_time": "2024-01-08T15:51:05.571Z"
   },
   {
    "duration": 16,
    "start_time": "2024-01-08T15:51:05.676Z"
   },
   {
    "duration": 11,
    "start_time": "2024-01-08T15:51:05.693Z"
   },
   {
    "duration": 40,
    "start_time": "2024-01-08T15:51:05.705Z"
   },
   {
    "duration": 6801,
    "start_time": "2024-01-08T15:51:33.845Z"
   },
   {
    "duration": 5,
    "start_time": "2024-01-08T15:51:40.648Z"
   },
   {
    "duration": 30,
    "start_time": "2024-01-08T15:51:40.654Z"
   },
   {
    "duration": 480,
    "start_time": "2024-01-08T15:51:40.685Z"
   },
   {
    "duration": 55,
    "start_time": "2024-01-08T15:51:41.166Z"
   },
   {
    "duration": 314,
    "start_time": "2024-01-08T15:51:41.222Z"
   },
   {
    "duration": 50,
    "start_time": "2024-01-08T15:51:41.538Z"
   },
   {
    "duration": 84,
    "start_time": "2024-01-08T15:51:41.590Z"
   },
   {
    "duration": 1767,
    "start_time": "2024-01-08T15:51:41.675Z"
   },
   {
    "duration": 8,
    "start_time": "2024-01-08T15:51:43.446Z"
   },
   {
    "duration": 32,
    "start_time": "2024-01-08T15:51:43.456Z"
   },
   {
    "duration": 1738,
    "start_time": "2024-01-08T15:51:43.490Z"
   },
   {
    "duration": 15,
    "start_time": "2024-01-08T15:51:45.230Z"
   },
   {
    "duration": 96,
    "start_time": "2024-01-08T15:51:45.246Z"
   },
   {
    "duration": 61,
    "start_time": "2024-01-08T15:51:45.343Z"
   },
   {
    "duration": 1820,
    "start_time": "2024-01-08T15:51:45.406Z"
   },
   {
    "duration": 7,
    "start_time": "2024-01-08T15:51:47.228Z"
   },
   {
    "duration": 31,
    "start_time": "2024-01-08T15:51:47.236Z"
   },
   {
    "duration": 24,
    "start_time": "2024-01-08T15:51:47.269Z"
   },
   {
    "duration": 25,
    "start_time": "2024-01-08T15:51:47.294Z"
   },
   {
    "duration": 50,
    "start_time": "2024-01-08T15:51:47.320Z"
   },
   {
    "duration": 207,
    "start_time": "2024-01-08T15:51:47.372Z"
   },
   {
    "duration": 200,
    "start_time": "2024-01-08T15:51:47.581Z"
   },
   {
    "duration": 84,
    "start_time": "2024-01-08T15:51:47.786Z"
   },
   {
    "duration": 93,
    "start_time": "2024-01-08T15:51:47.875Z"
   },
   {
    "duration": 75,
    "start_time": "2024-01-08T15:51:47.969Z"
   },
   {
    "duration": 37,
    "start_time": "2024-01-08T15:51:48.045Z"
   },
   {
    "duration": 84,
    "start_time": "2024-01-08T15:51:48.085Z"
   },
   {
    "duration": 6748,
    "start_time": "2024-01-08T15:52:11.359Z"
   },
   {
    "duration": 4,
    "start_time": "2024-01-08T15:52:18.110Z"
   },
   {
    "duration": 21,
    "start_time": "2024-01-08T15:52:18.115Z"
   },
   {
    "duration": 458,
    "start_time": "2024-01-08T15:52:18.137Z"
   },
   {
    "duration": 51,
    "start_time": "2024-01-08T15:52:18.597Z"
   },
   {
    "duration": 312,
    "start_time": "2024-01-08T15:52:18.666Z"
   },
   {
    "duration": 32,
    "start_time": "2024-01-08T15:52:18.980Z"
   },
   {
    "duration": 82,
    "start_time": "2024-01-08T15:52:19.014Z"
   },
   {
    "duration": 1696,
    "start_time": "2024-01-08T15:52:19.098Z"
   },
   {
    "duration": 7,
    "start_time": "2024-01-08T15:52:20.796Z"
   },
   {
    "duration": 32,
    "start_time": "2024-01-08T15:52:20.804Z"
   },
   {
    "duration": 1664,
    "start_time": "2024-01-08T15:52:20.838Z"
   },
   {
    "duration": 12,
    "start_time": "2024-01-08T15:52:22.504Z"
   },
   {
    "duration": 45,
    "start_time": "2024-01-08T15:52:22.519Z"
   },
   {
    "duration": 49,
    "start_time": "2024-01-08T15:52:22.566Z"
   },
   {
    "duration": 1880,
    "start_time": "2024-01-08T15:52:22.617Z"
   },
   {
    "duration": 7,
    "start_time": "2024-01-08T15:52:24.499Z"
   },
   {
    "duration": 17,
    "start_time": "2024-01-08T15:52:24.507Z"
   },
   {
    "duration": 28,
    "start_time": "2024-01-08T15:52:24.526Z"
   },
   {
    "duration": 20,
    "start_time": "2024-01-08T15:52:24.567Z"
   },
   {
    "duration": 34,
    "start_time": "2024-01-08T15:52:24.589Z"
   },
   {
    "duration": 116,
    "start_time": "2024-01-08T15:52:24.674Z"
   },
   {
    "duration": 116,
    "start_time": "2024-01-08T15:52:24.870Z"
   },
   {
    "duration": 81,
    "start_time": "2024-01-08T15:52:24.988Z"
   },
   {
    "duration": 100,
    "start_time": "2024-01-08T15:52:25.071Z"
   },
   {
    "duration": 38,
    "start_time": "2024-01-08T15:52:25.173Z"
   },
   {
    "duration": 21,
    "start_time": "2024-01-08T15:52:25.212Z"
   },
   {
    "duration": 54,
    "start_time": "2024-01-08T15:52:25.234Z"
   },
   {
    "duration": 6730,
    "start_time": "2024-01-08T15:52:55.395Z"
   },
   {
    "duration": 4,
    "start_time": "2024-01-08T15:53:02.128Z"
   },
   {
    "duration": 73,
    "start_time": "2024-01-08T15:53:02.134Z"
   },
   {
    "duration": 489,
    "start_time": "2024-01-08T15:53:02.209Z"
   },
   {
    "duration": 67,
    "start_time": "2024-01-08T15:53:02.701Z"
   },
   {
    "duration": 300,
    "start_time": "2024-01-08T15:53:02.769Z"
   },
   {
    "duration": 30,
    "start_time": "2024-01-08T15:53:03.070Z"
   },
   {
    "duration": 80,
    "start_time": "2024-01-08T15:53:03.102Z"
   },
   {
    "duration": 1682,
    "start_time": "2024-01-08T15:53:03.184Z"
   },
   {
    "duration": 8,
    "start_time": "2024-01-08T15:53:04.868Z"
   },
   {
    "duration": 26,
    "start_time": "2024-01-08T15:53:04.877Z"
   },
   {
    "duration": 1735,
    "start_time": "2024-01-08T15:53:04.904Z"
   },
   {
    "duration": 12,
    "start_time": "2024-01-08T15:53:06.641Z"
   },
   {
    "duration": 8,
    "start_time": "2024-01-08T15:53:06.666Z"
   },
   {
    "duration": 17,
    "start_time": "2024-01-08T15:53:06.676Z"
   },
   {
    "duration": 1887,
    "start_time": "2024-01-08T15:53:06.694Z"
   },
   {
    "duration": 7,
    "start_time": "2024-01-08T15:53:08.583Z"
   },
   {
    "duration": 20,
    "start_time": "2024-01-08T15:53:08.592Z"
   },
   {
    "duration": 18,
    "start_time": "2024-01-08T15:53:08.613Z"
   },
   {
    "duration": 41,
    "start_time": "2024-01-08T15:53:08.632Z"
   },
   {
    "duration": 95,
    "start_time": "2024-01-08T15:53:08.674Z"
   },
   {
    "duration": 119,
    "start_time": "2024-01-08T15:53:08.771Z"
   },
   {
    "duration": 120,
    "start_time": "2024-01-08T15:53:08.967Z"
   },
   {
    "duration": 2,
    "start_time": "2024-01-08T15:53:09.089Z"
   },
   {
    "duration": 77,
    "start_time": "2024-01-08T15:53:09.094Z"
   },
   {
    "duration": 96,
    "start_time": "2024-01-08T15:53:09.173Z"
   },
   {
    "duration": 17,
    "start_time": "2024-01-08T15:53:09.271Z"
   },
   {
    "duration": 93,
    "start_time": "2024-01-08T15:53:09.289Z"
   },
   {
    "duration": 6757,
    "start_time": "2024-01-08T15:53:36.423Z"
   },
   {
    "duration": 4,
    "start_time": "2024-01-08T15:53:43.182Z"
   },
   {
    "duration": 16,
    "start_time": "2024-01-08T15:53:43.188Z"
   },
   {
    "duration": 465,
    "start_time": "2024-01-08T15:53:43.206Z"
   },
   {
    "duration": 55,
    "start_time": "2024-01-08T15:53:43.673Z"
   },
   {
    "duration": 306,
    "start_time": "2024-01-08T15:53:43.730Z"
   },
   {
    "duration": 45,
    "start_time": "2024-01-08T15:53:44.038Z"
   },
   {
    "duration": 84,
    "start_time": "2024-01-08T15:53:44.084Z"
   },
   {
    "duration": 1682,
    "start_time": "2024-01-08T15:53:44.170Z"
   },
   {
    "duration": 13,
    "start_time": "2024-01-08T15:53:45.854Z"
   },
   {
    "duration": 31,
    "start_time": "2024-01-08T15:53:45.868Z"
   },
   {
    "duration": 1750,
    "start_time": "2024-01-08T15:53:45.900Z"
   },
   {
    "duration": 17,
    "start_time": "2024-01-08T15:53:47.652Z"
   },
   {
    "duration": 10,
    "start_time": "2024-01-08T15:53:47.671Z"
   },
   {
    "duration": 17,
    "start_time": "2024-01-08T15:53:47.682Z"
   },
   {
    "duration": 1911,
    "start_time": "2024-01-08T15:53:47.700Z"
   },
   {
    "duration": 9,
    "start_time": "2024-01-08T15:53:49.613Z"
   },
   {
    "duration": 24,
    "start_time": "2024-01-08T15:53:49.623Z"
   },
   {
    "duration": 27,
    "start_time": "2024-01-08T15:53:49.648Z"
   },
   {
    "duration": 21,
    "start_time": "2024-01-08T15:53:49.676Z"
   },
   {
    "duration": 171,
    "start_time": "2024-01-08T15:53:49.698Z"
   },
   {
    "duration": 114,
    "start_time": "2024-01-08T15:53:49.871Z"
   },
   {
    "duration": 195,
    "start_time": "2024-01-08T15:53:49.987Z"
   },
   {
    "duration": 5,
    "start_time": "2024-01-08T15:53:50.270Z"
   },
   {
    "duration": 97,
    "start_time": "2024-01-08T15:53:50.277Z"
   },
   {
    "duration": 33,
    "start_time": "2024-01-08T15:53:50.376Z"
   },
   {
    "duration": 27,
    "start_time": "2024-01-08T15:53:50.411Z"
   },
   {
    "duration": 74,
    "start_time": "2024-01-08T15:53:50.439Z"
   },
   {
    "duration": 6864,
    "start_time": "2024-01-08T15:56:55.190Z"
   },
   {
    "duration": 3,
    "start_time": "2024-01-08T15:57:02.057Z"
   },
   {
    "duration": 119,
    "start_time": "2024-01-08T15:57:02.062Z"
   },
   {
    "duration": 512,
    "start_time": "2024-01-08T15:57:02.183Z"
   },
   {
    "duration": 79,
    "start_time": "2024-01-08T15:57:02.698Z"
   },
   {
    "duration": 322,
    "start_time": "2024-01-08T15:57:02.778Z"
   },
   {
    "duration": 32,
    "start_time": "2024-01-08T15:57:03.102Z"
   },
   {
    "duration": 109,
    "start_time": "2024-01-08T15:57:03.136Z"
   },
   {
    "duration": 1692,
    "start_time": "2024-01-08T15:57:03.247Z"
   },
   {
    "duration": 10,
    "start_time": "2024-01-08T15:57:04.941Z"
   },
   {
    "duration": 50,
    "start_time": "2024-01-08T15:57:04.954Z"
   },
   {
    "duration": 1825,
    "start_time": "2024-01-08T15:57:05.005Z"
   },
   {
    "duration": 15,
    "start_time": "2024-01-08T15:57:06.831Z"
   },
   {
    "duration": 21,
    "start_time": "2024-01-08T15:57:06.848Z"
   },
   {
    "duration": 28,
    "start_time": "2024-01-08T15:57:06.870Z"
   },
   {
    "duration": 1986,
    "start_time": "2024-01-08T15:57:06.900Z"
   },
   {
    "duration": 9,
    "start_time": "2024-01-08T15:57:08.888Z"
   },
   {
    "duration": 49,
    "start_time": "2024-01-08T15:57:08.899Z"
   },
   {
    "duration": 22,
    "start_time": "2024-01-08T15:57:08.949Z"
   },
   {
    "duration": 25,
    "start_time": "2024-01-08T15:57:08.973Z"
   },
   {
    "duration": 167,
    "start_time": "2024-01-08T15:57:09.000Z"
   },
   {
    "duration": 199,
    "start_time": "2024-01-08T15:57:09.169Z"
   },
   {
    "duration": 29,
    "start_time": "2024-01-08T15:57:09.369Z"
   },
   {
    "duration": 68,
    "start_time": "2024-01-08T15:57:09.400Z"
   },
   {
    "duration": 107,
    "start_time": "2024-01-08T15:57:09.471Z"
   },
   {
    "duration": 46,
    "start_time": "2024-01-08T15:57:09.580Z"
   },
   {
    "duration": 28,
    "start_time": "2024-01-08T15:57:09.628Z"
   },
   {
    "duration": 53,
    "start_time": "2024-01-08T15:57:09.657Z"
   },
   {
    "duration": 6751,
    "start_time": "2024-01-08T15:58:56.534Z"
   },
   {
    "duration": 3,
    "start_time": "2024-01-08T15:59:03.288Z"
   },
   {
    "duration": 31,
    "start_time": "2024-01-08T15:59:03.293Z"
   },
   {
    "duration": 481,
    "start_time": "2024-01-08T15:59:03.326Z"
   },
   {
    "duration": 67,
    "start_time": "2024-01-08T15:59:03.809Z"
   },
   {
    "duration": 277,
    "start_time": "2024-01-08T15:59:03.878Z"
   },
   {
    "duration": 39,
    "start_time": "2024-01-08T15:59:04.156Z"
   },
   {
    "duration": 88,
    "start_time": "2024-01-08T15:59:04.197Z"
   },
   {
    "duration": 1630,
    "start_time": "2024-01-08T15:59:04.286Z"
   },
   {
    "duration": 8,
    "start_time": "2024-01-08T15:59:05.917Z"
   },
   {
    "duration": 24,
    "start_time": "2024-01-08T15:59:05.926Z"
   },
   {
    "duration": 1752,
    "start_time": "2024-01-08T15:59:05.951Z"
   },
   {
    "duration": 14,
    "start_time": "2024-01-08T15:59:07.705Z"
   },
   {
    "duration": 9,
    "start_time": "2024-01-08T15:59:07.721Z"
   },
   {
    "duration": 35,
    "start_time": "2024-01-08T15:59:07.732Z"
   },
   {
    "duration": 2054,
    "start_time": "2024-01-08T15:59:07.769Z"
   },
   {
    "duration": 7,
    "start_time": "2024-01-08T15:59:09.825Z"
   },
   {
    "duration": 23,
    "start_time": "2024-01-08T15:59:09.833Z"
   },
   {
    "duration": 27,
    "start_time": "2024-01-08T15:59:09.866Z"
   },
   {
    "duration": 21,
    "start_time": "2024-01-08T15:59:09.895Z"
   },
   {
    "duration": 61,
    "start_time": "2024-01-08T15:59:09.918Z"
   },
   {
    "duration": 295,
    "start_time": "2024-01-08T15:59:09.980Z"
   },
   {
    "duration": 197,
    "start_time": "2024-01-08T15:59:10.278Z"
   },
   {
    "duration": 111,
    "start_time": "2024-01-08T15:59:10.477Z"
   },
   {
    "duration": 35,
    "start_time": "2024-01-08T15:59:10.590Z"
   },
   {
    "duration": 26,
    "start_time": "2024-01-08T15:59:10.626Z"
   },
   {
    "duration": 39,
    "start_time": "2024-01-08T15:59:10.654Z"
   },
   {
    "duration": 54,
    "start_time": "2024-01-08T15:59:10.695Z"
   },
   {
    "duration": 6883,
    "start_time": "2024-01-08T16:00:22.458Z"
   },
   {
    "duration": 3,
    "start_time": "2024-01-08T16:00:29.344Z"
   },
   {
    "duration": 18,
    "start_time": "2024-01-08T16:00:29.349Z"
   },
   {
    "duration": 434,
    "start_time": "2024-01-08T16:00:29.369Z"
   },
   {
    "duration": 65,
    "start_time": "2024-01-08T16:00:29.805Z"
   },
   {
    "duration": 305,
    "start_time": "2024-01-08T16:00:29.871Z"
   },
   {
    "duration": 31,
    "start_time": "2024-01-08T16:00:30.178Z"
   },
   {
    "duration": 90,
    "start_time": "2024-01-08T16:00:30.211Z"
   },
   {
    "duration": 1789,
    "start_time": "2024-01-08T16:00:30.302Z"
   },
   {
    "duration": 8,
    "start_time": "2024-01-08T16:00:32.093Z"
   },
   {
    "duration": 45,
    "start_time": "2024-01-08T16:00:32.103Z"
   },
   {
    "duration": 1571,
    "start_time": "2024-01-08T16:00:32.149Z"
   },
   {
    "duration": 15,
    "start_time": "2024-01-08T16:00:33.721Z"
   },
   {
    "duration": 17,
    "start_time": "2024-01-08T16:00:33.737Z"
   },
   {
    "duration": 24,
    "start_time": "2024-01-08T16:00:33.755Z"
   },
   {
    "duration": 1901,
    "start_time": "2024-01-08T16:00:33.780Z"
   },
   {
    "duration": 7,
    "start_time": "2024-01-08T16:00:35.682Z"
   },
   {
    "duration": 21,
    "start_time": "2024-01-08T16:00:35.691Z"
   },
   {
    "duration": 28,
    "start_time": "2024-01-08T16:00:35.714Z"
   },
   {
    "duration": 25,
    "start_time": "2024-01-08T16:00:35.743Z"
   },
   {
    "duration": 103,
    "start_time": "2024-01-08T16:00:35.769Z"
   },
   {
    "duration": 114,
    "start_time": "2024-01-08T16:00:35.876Z"
   },
   {
    "duration": 192,
    "start_time": "2024-01-08T16:00:35.992Z"
   },
   {
    "duration": 3,
    "start_time": "2024-01-08T16:00:36.187Z"
   },
   {
    "duration": 107,
    "start_time": "2024-01-08T16:00:36.268Z"
   },
   {
    "duration": 70,
    "start_time": "2024-01-08T16:00:36.376Z"
   },
   {
    "duration": 8,
    "start_time": "2024-01-08T16:00:36.447Z"
   },
   {
    "duration": 40,
    "start_time": "2024-01-08T16:00:36.457Z"
   },
   {
    "duration": 6782,
    "start_time": "2024-01-08T16:01:01.164Z"
   },
   {
    "duration": 4,
    "start_time": "2024-01-08T16:01:07.949Z"
   },
   {
    "duration": 17,
    "start_time": "2024-01-08T16:01:07.954Z"
   },
   {
    "duration": 469,
    "start_time": "2024-01-08T16:01:07.972Z"
   },
   {
    "duration": 56,
    "start_time": "2024-01-08T16:01:08.443Z"
   },
   {
    "duration": 296,
    "start_time": "2024-01-08T16:01:08.501Z"
   },
   {
    "duration": 32,
    "start_time": "2024-01-08T16:01:08.798Z"
   },
   {
    "duration": 92,
    "start_time": "2024-01-08T16:01:08.831Z"
   },
   {
    "duration": 1809,
    "start_time": "2024-01-08T16:01:08.925Z"
   },
   {
    "duration": 9,
    "start_time": "2024-01-08T16:01:10.736Z"
   },
   {
    "duration": 28,
    "start_time": "2024-01-08T16:01:10.746Z"
   },
   {
    "duration": 1665,
    "start_time": "2024-01-08T16:01:10.776Z"
   },
   {
    "duration": 25,
    "start_time": "2024-01-08T16:01:12.443Z"
   },
   {
    "duration": 8,
    "start_time": "2024-01-08T16:01:12.471Z"
   },
   {
    "duration": 28,
    "start_time": "2024-01-08T16:01:12.480Z"
   },
   {
    "duration": 1928,
    "start_time": "2024-01-08T16:01:12.510Z"
   },
   {
    "duration": 8,
    "start_time": "2024-01-08T16:01:14.439Z"
   },
   {
    "duration": 49,
    "start_time": "2024-01-08T16:01:14.448Z"
   },
   {
    "duration": 40,
    "start_time": "2024-01-08T16:01:14.499Z"
   },
   {
    "duration": 50,
    "start_time": "2024-01-08T16:01:14.541Z"
   },
   {
    "duration": 82,
    "start_time": "2024-01-08T16:01:14.593Z"
   },
   {
    "duration": 194,
    "start_time": "2024-01-08T16:01:14.677Z"
   },
   {
    "duration": 201,
    "start_time": "2024-01-08T16:01:14.873Z"
   },
   {
    "duration": 91,
    "start_time": "2024-01-08T16:01:15.076Z"
   },
   {
    "duration": 5,
    "start_time": "2024-01-08T16:01:15.173Z"
   },
   {
    "duration": 54,
    "start_time": "2024-01-08T16:01:15.268Z"
   },
   {
    "duration": 65,
    "start_time": "2024-01-08T16:01:15.324Z"
   },
   {
    "duration": 67,
    "start_time": "2024-01-08T16:01:15.391Z"
   },
   {
    "duration": 6725,
    "start_time": "2024-01-08T16:02:31.497Z"
   },
   {
    "duration": 4,
    "start_time": "2024-01-08T16:02:38.224Z"
   },
   {
    "duration": 17,
    "start_time": "2024-01-08T16:02:38.229Z"
   },
   {
    "duration": 460,
    "start_time": "2024-01-08T16:02:38.247Z"
   },
   {
    "duration": 68,
    "start_time": "2024-01-08T16:02:38.709Z"
   },
   {
    "duration": 327,
    "start_time": "2024-01-08T16:02:38.778Z"
   },
   {
    "duration": 31,
    "start_time": "2024-01-08T16:02:39.106Z"
   },
   {
    "duration": 85,
    "start_time": "2024-01-08T16:02:39.139Z"
   },
   {
    "duration": 1794,
    "start_time": "2024-01-08T16:02:39.226Z"
   },
   {
    "duration": 8,
    "start_time": "2024-01-08T16:02:41.022Z"
   },
   {
    "duration": 27,
    "start_time": "2024-01-08T16:02:41.031Z"
   },
   {
    "duration": 1555,
    "start_time": "2024-01-08T16:02:41.060Z"
   },
   {
    "duration": 13,
    "start_time": "2024-01-08T16:02:42.616Z"
   },
   {
    "duration": 10,
    "start_time": "2024-01-08T16:02:42.631Z"
   },
   {
    "duration": 26,
    "start_time": "2024-01-08T16:02:42.642Z"
   },
   {
    "duration": 1903,
    "start_time": "2024-01-08T16:02:42.670Z"
   },
   {
    "duration": 8,
    "start_time": "2024-01-08T16:02:44.574Z"
   },
   {
    "duration": 22,
    "start_time": "2024-01-08T16:02:44.583Z"
   },
   {
    "duration": 17,
    "start_time": "2024-01-08T16:02:44.607Z"
   },
   {
    "duration": 19,
    "start_time": "2024-01-08T16:02:44.625Z"
   },
   {
    "duration": 123,
    "start_time": "2024-01-08T16:02:44.645Z"
   },
   {
    "duration": 118,
    "start_time": "2024-01-08T16:02:44.770Z"
   },
   {
    "duration": 119,
    "start_time": "2024-01-08T16:02:44.969Z"
   },
   {
    "duration": 177,
    "start_time": "2024-01-08T16:02:45.090Z"
   },
   {
    "duration": 28,
    "start_time": "2024-01-08T16:02:45.268Z"
   },
   {
    "duration": 10,
    "start_time": "2024-01-08T16:02:45.297Z"
   },
   {
    "duration": 44,
    "start_time": "2024-01-08T16:02:45.309Z"
   },
   {
    "duration": 8875,
    "start_time": "2024-01-10T15:45:05.999Z"
   },
   {
    "duration": 1980,
    "start_time": "2024-01-10T15:45:14.878Z"
   },
   {
    "duration": 20,
    "start_time": "2024-01-10T15:45:16.860Z"
   },
   {
    "duration": 1033,
    "start_time": "2024-01-10T15:45:16.881Z"
   },
   {
    "duration": 88,
    "start_time": "2024-01-10T15:45:17.917Z"
   },
   {
    "duration": 418,
    "start_time": "2024-01-10T15:45:18.006Z"
   },
   {
    "duration": 41,
    "start_time": "2024-01-10T15:45:18.430Z"
   },
   {
    "duration": 123,
    "start_time": "2024-01-10T15:45:18.473Z"
   },
   {
    "duration": 2230,
    "start_time": "2024-01-10T15:45:18.598Z"
   },
   {
    "duration": 19,
    "start_time": "2024-01-10T15:45:20.831Z"
   },
   {
    "duration": 26,
    "start_time": "2024-01-10T15:45:20.852Z"
   },
   {
    "duration": 2165,
    "start_time": "2024-01-10T15:45:20.880Z"
   },
   {
    "duration": 16,
    "start_time": "2024-01-10T15:45:23.046Z"
   },
   {
    "duration": 8,
    "start_time": "2024-01-10T15:45:23.065Z"
   },
   {
    "duration": 19,
    "start_time": "2024-01-10T15:45:23.075Z"
   },
   {
    "duration": 2989,
    "start_time": "2024-01-10T15:45:23.095Z"
   },
   {
    "duration": 12,
    "start_time": "2024-01-10T15:45:26.115Z"
   },
   {
    "duration": 29,
    "start_time": "2024-01-10T15:45:26.134Z"
   },
   {
    "duration": 31,
    "start_time": "2024-01-10T15:45:26.165Z"
   },
   {
    "duration": 49,
    "start_time": "2024-01-10T15:45:26.198Z"
   },
   {
    "duration": 182,
    "start_time": "2024-01-10T15:45:26.249Z"
   },
   {
    "duration": 193,
    "start_time": "2024-01-10T15:45:26.434Z"
   },
   {
    "duration": 128,
    "start_time": "2024-01-10T15:45:26.633Z"
   },
   {
    "duration": 4,
    "start_time": "2024-01-10T15:45:26.763Z"
   },
   {
    "duration": 49,
    "start_time": "2024-01-10T15:45:26.777Z"
   },
   {
    "duration": 17,
    "start_time": "2024-01-10T15:45:26.828Z"
   },
   {
    "duration": 142,
    "start_time": "2024-01-10T15:45:26.922Z"
   },
   {
    "duration": 10,
    "start_time": "2024-01-10T15:46:11.934Z"
   },
   {
    "duration": 58,
    "start_time": "2024-01-10T15:47:11.901Z"
   },
   {
    "duration": 8330,
    "start_time": "2024-01-10T15:47:16.366Z"
   },
   {
    "duration": 1758,
    "start_time": "2024-01-10T15:47:24.699Z"
   },
   {
    "duration": 19,
    "start_time": "2024-01-10T15:47:26.459Z"
   },
   {
    "duration": 992,
    "start_time": "2024-01-10T15:47:26.481Z"
   },
   {
    "duration": 97,
    "start_time": "2024-01-10T15:47:27.475Z"
   },
   {
    "duration": 392,
    "start_time": "2024-01-10T15:47:27.574Z"
   },
   {
    "duration": 68,
    "start_time": "2024-01-10T15:47:27.968Z"
   },
   {
    "duration": 108,
    "start_time": "2024-01-10T15:47:28.037Z"
   },
   {
    "duration": 2091,
    "start_time": "2024-01-10T15:47:28.147Z"
   },
   {
    "duration": 10,
    "start_time": "2024-01-10T15:47:30.246Z"
   },
   {
    "duration": 39,
    "start_time": "2024-01-10T15:47:30.258Z"
   },
   {
    "duration": 2170,
    "start_time": "2024-01-10T15:47:30.299Z"
   },
   {
    "duration": 33,
    "start_time": "2024-01-10T15:47:32.472Z"
   },
   {
    "duration": 24,
    "start_time": "2024-01-10T15:47:32.508Z"
   },
   {
    "duration": 25,
    "start_time": "2024-01-10T15:47:32.536Z"
   },
   {
    "duration": 2702,
    "start_time": "2024-01-10T15:47:32.564Z"
   },
   {
    "duration": 9,
    "start_time": "2024-01-10T15:47:35.268Z"
   },
   {
    "duration": 52,
    "start_time": "2024-01-10T15:47:35.280Z"
   },
   {
    "duration": 32,
    "start_time": "2024-01-10T15:47:35.341Z"
   },
   {
    "duration": 32,
    "start_time": "2024-01-10T15:47:35.375Z"
   },
   {
    "duration": 203,
    "start_time": "2024-01-10T15:47:35.423Z"
   },
   {
    "duration": 96,
    "start_time": "2024-01-10T15:47:35.628Z"
   },
   {
    "duration": 194,
    "start_time": "2024-01-10T15:47:35.728Z"
   },
   {
    "duration": 3,
    "start_time": "2024-01-10T15:47:35.925Z"
   },
   {
    "duration": 4,
    "start_time": "2024-01-10T15:47:35.933Z"
   },
   {
    "duration": 89,
    "start_time": "2024-01-10T15:47:35.941Z"
   },
   {
    "duration": 52,
    "start_time": "2024-01-10T15:49:17.838Z"
   },
   {
    "duration": 8309,
    "start_time": "2024-01-10T15:49:21.538Z"
   },
   {
    "duration": 1910,
    "start_time": "2024-01-10T15:49:29.850Z"
   },
   {
    "duration": 20,
    "start_time": "2024-01-10T15:49:31.762Z"
   },
   {
    "duration": 1018,
    "start_time": "2024-01-10T15:49:31.784Z"
   },
   {
    "duration": 73,
    "start_time": "2024-01-10T15:49:32.805Z"
   },
   {
    "duration": 401,
    "start_time": "2024-01-10T15:49:32.880Z"
   },
   {
    "duration": 68,
    "start_time": "2024-01-10T15:49:33.283Z"
   },
   {
    "duration": 101,
    "start_time": "2024-01-10T15:49:33.353Z"
   },
   {
    "duration": 2111,
    "start_time": "2024-01-10T15:49:33.456Z"
   },
   {
    "duration": 11,
    "start_time": "2024-01-10T15:49:35.569Z"
   },
   {
    "duration": 22,
    "start_time": "2024-01-10T15:49:35.582Z"
   },
   {
    "duration": 2069,
    "start_time": "2024-01-10T15:49:35.606Z"
   },
   {
    "duration": 16,
    "start_time": "2024-01-10T15:49:37.677Z"
   },
   {
    "duration": 33,
    "start_time": "2024-01-10T15:49:37.696Z"
   },
   {
    "duration": 19,
    "start_time": "2024-01-10T15:49:37.737Z"
   },
   {
    "duration": 2463,
    "start_time": "2024-01-10T15:49:37.758Z"
   },
   {
    "duration": 14,
    "start_time": "2024-01-10T15:49:40.227Z"
   },
   {
    "duration": 17,
    "start_time": "2024-01-10T15:49:40.243Z"
   },
   {
    "duration": 32,
    "start_time": "2024-01-10T15:49:40.262Z"
   },
   {
    "duration": 31,
    "start_time": "2024-01-10T15:49:40.322Z"
   },
   {
    "duration": 83,
    "start_time": "2024-01-10T15:49:40.356Z"
   },
   {
    "duration": 188,
    "start_time": "2024-01-10T15:49:40.441Z"
   },
   {
    "duration": 123,
    "start_time": "2024-01-10T15:49:40.634Z"
   },
   {
    "duration": 70,
    "start_time": "2024-01-10T15:49:40.761Z"
   },
   {
    "duration": 12,
    "start_time": "2024-01-10T15:49:40.835Z"
   },
   {
    "duration": 90,
    "start_time": "2024-01-10T15:49:40.851Z"
   },
   {
    "duration": 98,
    "start_time": "2024-01-10T15:49:40.942Z"
   },
   {
    "duration": 5,
    "start_time": "2024-01-10T15:50:13.841Z"
   },
   {
    "duration": 7914,
    "start_time": "2024-01-10T16:02:45.570Z"
   },
   {
    "duration": 1668,
    "start_time": "2024-01-10T16:02:53.487Z"
   },
   {
    "duration": 19,
    "start_time": "2024-01-10T16:02:55.157Z"
   },
   {
    "duration": 909,
    "start_time": "2024-01-10T16:02:55.177Z"
   },
   {
    "duration": 67,
    "start_time": "2024-01-10T16:02:56.088Z"
   },
   {
    "duration": 371,
    "start_time": "2024-01-10T16:02:56.156Z"
   },
   {
    "duration": 38,
    "start_time": "2024-01-10T16:02:56.529Z"
   },
   {
    "duration": 111,
    "start_time": "2024-01-10T16:02:56.568Z"
   },
   {
    "duration": 1994,
    "start_time": "2024-01-10T16:02:56.681Z"
   },
   {
    "duration": 9,
    "start_time": "2024-01-10T16:02:58.677Z"
   },
   {
    "duration": 36,
    "start_time": "2024-01-10T16:02:58.688Z"
   },
   {
    "duration": 1920,
    "start_time": "2024-01-10T16:02:58.726Z"
   },
   {
    "duration": 19,
    "start_time": "2024-01-10T16:03:00.648Z"
   },
   {
    "duration": 58,
    "start_time": "2024-01-10T16:03:00.671Z"
   },
   {
    "duration": 42,
    "start_time": "2024-01-10T16:03:00.731Z"
   },
   {
    "duration": 2362,
    "start_time": "2024-01-10T16:03:00.775Z"
   },
   {
    "duration": 9,
    "start_time": "2024-01-10T16:03:03.139Z"
   },
   {
    "duration": 50,
    "start_time": "2024-01-10T16:03:03.149Z"
   },
   {
    "duration": 31,
    "start_time": "2024-01-10T16:03:03.201Z"
   },
   {
    "duration": 39,
    "start_time": "2024-01-10T16:03:03.234Z"
   },
   {
    "duration": 149,
    "start_time": "2024-01-10T16:03:03.275Z"
   },
   {
    "duration": 111,
    "start_time": "2024-01-10T16:03:03.427Z"
   },
   {
    "duration": 194,
    "start_time": "2024-01-10T16:03:03.540Z"
   },
   {
    "duration": 4,
    "start_time": "2024-01-10T16:03:03.736Z"
   },
   {
    "duration": 4,
    "start_time": "2024-01-10T16:03:03.827Z"
   },
   {
    "duration": 92,
    "start_time": "2024-01-10T16:03:03.833Z"
   },
   {
    "duration": 32,
    "start_time": "2024-01-10T16:03:03.926Z"
   },
   {
    "duration": 52,
    "start_time": "2024-01-10T16:06:32.522Z"
   },
   {
    "duration": 7948,
    "start_time": "2024-01-10T16:06:38.604Z"
   },
   {
    "duration": 1524,
    "start_time": "2024-01-10T16:06:46.555Z"
   },
   {
    "duration": 18,
    "start_time": "2024-01-10T16:06:48.081Z"
   },
   {
    "duration": 891,
    "start_time": "2024-01-10T16:06:48.101Z"
   },
   {
    "duration": 79,
    "start_time": "2024-01-10T16:06:48.995Z"
   },
   {
    "duration": 374,
    "start_time": "2024-01-10T16:06:49.075Z"
   },
   {
    "duration": 42,
    "start_time": "2024-01-10T16:06:49.451Z"
   },
   {
    "duration": 129,
    "start_time": "2024-01-10T16:06:49.494Z"
   },
   {
    "duration": 1969,
    "start_time": "2024-01-10T16:06:49.625Z"
   },
   {
    "duration": 10,
    "start_time": "2024-01-10T16:06:51.596Z"
   },
   {
    "duration": 34,
    "start_time": "2024-01-10T16:06:51.608Z"
   },
   {
    "duration": 1976,
    "start_time": "2024-01-10T16:06:51.644Z"
   },
   {
    "duration": 15,
    "start_time": "2024-01-10T16:06:53.622Z"
   },
   {
    "duration": 9,
    "start_time": "2024-01-10T16:06:53.640Z"
   },
   {
    "duration": 18,
    "start_time": "2024-01-10T16:06:53.650Z"
   },
   {
    "duration": 2479,
    "start_time": "2024-01-10T16:06:53.670Z"
   },
   {
    "duration": 9,
    "start_time": "2024-01-10T16:06:56.151Z"
   },
   {
    "duration": 26,
    "start_time": "2024-01-10T16:06:56.161Z"
   },
   {
    "duration": 22,
    "start_time": "2024-01-10T16:06:56.189Z"
   },
   {
    "duration": 23,
    "start_time": "2024-01-10T16:06:56.213Z"
   },
   {
    "duration": 90,
    "start_time": "2024-01-10T16:06:56.238Z"
   },
   {
    "duration": 196,
    "start_time": "2024-01-10T16:06:56.330Z"
   },
   {
    "duration": 28,
    "start_time": "2024-01-10T16:06:56.621Z"
   },
   {
    "duration": 4,
    "start_time": "2024-01-10T16:06:56.651Z"
   },
   {
    "duration": 11,
    "start_time": "2024-01-10T16:06:56.724Z"
   },
   {
    "duration": 4,
    "start_time": "2024-01-10T16:06:56.822Z"
   },
   {
    "duration": 6,
    "start_time": "2024-01-10T16:06:56.828Z"
   },
   {
    "duration": 8198,
    "start_time": "2024-01-10T16:10:00.553Z"
   },
   {
    "duration": 1629,
    "start_time": "2024-01-10T16:10:08.755Z"
   },
   {
    "duration": 19,
    "start_time": "2024-01-10T16:10:10.385Z"
   },
   {
    "duration": 962,
    "start_time": "2024-01-10T16:10:10.406Z"
   },
   {
    "duration": 71,
    "start_time": "2024-01-10T16:10:11.371Z"
   },
   {
    "duration": 397,
    "start_time": "2024-01-10T16:10:11.448Z"
   },
   {
    "duration": 39,
    "start_time": "2024-01-10T16:10:11.846Z"
   },
   {
    "duration": 138,
    "start_time": "2024-01-10T16:10:11.887Z"
   },
   {
    "duration": 2011,
    "start_time": "2024-01-10T16:10:12.028Z"
   },
   {
    "duration": 11,
    "start_time": "2024-01-10T16:10:14.042Z"
   },
   {
    "duration": 26,
    "start_time": "2024-01-10T16:10:14.055Z"
   },
   {
    "duration": 1951,
    "start_time": "2024-01-10T16:10:14.083Z"
   },
   {
    "duration": 15,
    "start_time": "2024-01-10T16:10:16.036Z"
   },
   {
    "duration": 9,
    "start_time": "2024-01-10T16:10:16.055Z"
   },
   {
    "duration": 17,
    "start_time": "2024-01-10T16:10:16.065Z"
   },
   {
    "duration": 2450,
    "start_time": "2024-01-10T16:10:16.084Z"
   },
   {
    "duration": 10,
    "start_time": "2024-01-10T16:10:18.537Z"
   },
   {
    "duration": 31,
    "start_time": "2024-01-10T16:10:18.549Z"
   },
   {
    "duration": 21,
    "start_time": "2024-01-10T16:10:18.581Z"
   },
   {
    "duration": 32,
    "start_time": "2024-01-10T16:10:18.604Z"
   },
   {
    "duration": 31,
    "start_time": "2024-01-10T16:10:18.638Z"
   },
   {
    "duration": 163,
    "start_time": "2024-01-10T16:10:18.671Z"
   },
   {
    "duration": 204,
    "start_time": "2024-01-10T16:10:18.836Z"
   },
   {
    "duration": 3,
    "start_time": "2024-01-10T16:10:19.043Z"
   },
   {
    "duration": 173,
    "start_time": "2024-01-10T16:10:19.048Z"
   },
   {
    "duration": 7,
    "start_time": "2024-01-10T16:10:19.223Z"
   },
   {
    "duration": 37,
    "start_time": "2024-01-10T16:10:19.232Z"
   },
   {
    "duration": 8039,
    "start_time": "2024-01-10T16:10:42.099Z"
   },
   {
    "duration": 1542,
    "start_time": "2024-01-10T16:10:50.141Z"
   },
   {
    "duration": 19,
    "start_time": "2024-01-10T16:10:51.684Z"
   },
   {
    "duration": 941,
    "start_time": "2024-01-10T16:10:51.704Z"
   },
   {
    "duration": 90,
    "start_time": "2024-01-10T16:10:52.648Z"
   },
   {
    "duration": 359,
    "start_time": "2024-01-10T16:10:52.740Z"
   },
   {
    "duration": 61,
    "start_time": "2024-01-10T16:10:53.101Z"
   },
   {
    "duration": 92,
    "start_time": "2024-01-10T16:10:53.164Z"
   },
   {
    "duration": 2259,
    "start_time": "2024-01-10T16:10:53.258Z"
   },
   {
    "duration": 17,
    "start_time": "2024-01-10T16:10:55.519Z"
   },
   {
    "duration": 41,
    "start_time": "2024-01-10T16:10:55.538Z"
   },
   {
    "duration": 1971,
    "start_time": "2024-01-10T16:10:55.580Z"
   },
   {
    "duration": 17,
    "start_time": "2024-01-10T16:10:57.553Z"
   },
   {
    "duration": 65,
    "start_time": "2024-01-10T16:10:57.573Z"
   },
   {
    "duration": 61,
    "start_time": "2024-01-10T16:10:57.640Z"
   },
   {
    "duration": 2413,
    "start_time": "2024-01-10T16:10:57.704Z"
   },
   {
    "duration": 19,
    "start_time": "2024-01-10T16:11:00.119Z"
   },
   {
    "duration": 77,
    "start_time": "2024-01-10T16:11:00.140Z"
   },
   {
    "duration": 93,
    "start_time": "2024-01-10T16:11:00.219Z"
   },
   {
    "duration": 54,
    "start_time": "2024-01-10T16:11:00.314Z"
   },
   {
    "duration": 42,
    "start_time": "2024-01-10T16:11:00.370Z"
   },
   {
    "duration": 211,
    "start_time": "2024-01-10T16:11:00.439Z"
   },
   {
    "duration": 117,
    "start_time": "2024-01-10T16:11:00.724Z"
   },
   {
    "duration": 177,
    "start_time": "2024-01-10T16:11:00.846Z"
   },
   {
    "duration": 81,
    "start_time": "2024-01-10T16:11:01.025Z"
   },
   {
    "duration": 96,
    "start_time": "2024-01-10T16:11:01.108Z"
   },
   {
    "duration": 75,
    "start_time": "2024-01-10T16:11:01.206Z"
   },
   {
    "duration": 8086,
    "start_time": "2024-01-10T16:14:10.661Z"
   },
   {
    "duration": 1560,
    "start_time": "2024-01-10T16:14:18.749Z"
   },
   {
    "duration": 27,
    "start_time": "2024-01-10T16:14:20.311Z"
   },
   {
    "duration": 938,
    "start_time": "2024-01-10T16:14:20.340Z"
   },
   {
    "duration": 75,
    "start_time": "2024-01-10T16:14:21.280Z"
   },
   {
    "duration": 405,
    "start_time": "2024-01-10T16:14:21.357Z"
   },
   {
    "duration": 34,
    "start_time": "2024-01-10T16:14:21.763Z"
   },
   {
    "duration": 105,
    "start_time": "2024-01-10T16:14:21.799Z"
   },
   {
    "duration": 1976,
    "start_time": "2024-01-10T16:14:21.906Z"
   },
   {
    "duration": 11,
    "start_time": "2024-01-10T16:14:23.884Z"
   },
   {
    "duration": 43,
    "start_time": "2024-01-10T16:14:23.897Z"
   },
   {
    "duration": 1978,
    "start_time": "2024-01-10T16:14:23.942Z"
   },
   {
    "duration": 15,
    "start_time": "2024-01-10T16:14:25.932Z"
   },
   {
    "duration": 9,
    "start_time": "2024-01-10T16:14:25.950Z"
   },
   {
    "duration": 18,
    "start_time": "2024-01-10T16:14:25.960Z"
   },
   {
    "duration": 2429,
    "start_time": "2024-01-10T16:14:25.980Z"
   },
   {
    "duration": 8,
    "start_time": "2024-01-10T16:14:28.411Z"
   },
   {
    "duration": 20,
    "start_time": "2024-01-10T16:14:28.421Z"
   },
   {
    "duration": 20,
    "start_time": "2024-01-10T16:14:28.442Z"
   },
   {
    "duration": 21,
    "start_time": "2024-01-10T16:14:28.464Z"
   },
   {
    "duration": 136,
    "start_time": "2024-01-10T16:14:28.486Z"
   },
   {
    "duration": 128,
    "start_time": "2024-01-10T16:14:28.624Z"
   },
   {
    "duration": 188,
    "start_time": "2024-01-10T16:14:28.754Z"
   },
   {
    "duration": 3,
    "start_time": "2024-01-10T16:14:28.945Z"
   },
   {
    "duration": 3,
    "start_time": "2024-01-10T16:14:29.033Z"
   },
   {
    "duration": 89,
    "start_time": "2024-01-10T16:14:29.038Z"
   },
   {
    "duration": 5,
    "start_time": "2024-01-10T16:14:29.131Z"
   },
   {
    "duration": 2853,
    "start_time": "2024-01-10T16:14:29.137Z"
   },
   {
    "duration": 2989,
    "start_time": "2024-01-10T16:14:50.856Z"
   },
   {
    "duration": 4,
    "start_time": "2024-01-10T16:17:10.169Z"
   },
   {
    "duration": 4,
    "start_time": "2024-01-10T16:17:35.204Z"
   },
   {
    "duration": 5,
    "start_time": "2024-01-10T16:18:25.575Z"
   },
   {
    "duration": 5,
    "start_time": "2024-01-10T16:20:48.629Z"
   },
   {
    "duration": 4,
    "start_time": "2024-01-10T16:20:55.650Z"
   },
   {
    "duration": 4,
    "start_time": "2024-01-10T16:21:28.769Z"
   },
   {
    "duration": 4,
    "start_time": "2024-01-10T16:21:35.726Z"
   },
   {
    "duration": 1874,
    "start_time": "2024-01-10T16:21:36.148Z"
   },
   {
    "duration": 1889,
    "start_time": "2024-01-10T16:23:10.641Z"
   },
   {
    "duration": 2185,
    "start_time": "2024-01-10T16:23:19.877Z"
   },
   {
    "duration": 122,
    "start_time": "2024-01-10T16:24:08.928Z"
   },
   {
    "duration": 119,
    "start_time": "2024-01-10T16:26:05.759Z"
   },
   {
    "duration": 1198,
    "start_time": "2024-01-10T16:27:42.939Z"
   },
   {
    "duration": 142,
    "start_time": "2024-01-10T16:30:21.292Z"
   },
   {
    "duration": 325,
    "start_time": "2024-01-10T16:32:39.958Z"
   },
   {
    "duration": 320,
    "start_time": "2024-01-10T16:39:59.620Z"
   },
   {
    "duration": 299,
    "start_time": "2024-01-10T16:40:17.228Z"
   },
   {
    "duration": 16,
    "start_time": "2024-01-10T16:40:25.839Z"
   },
   {
    "duration": 7455,
    "start_time": "2024-01-11T07:38:22.557Z"
   },
   {
    "duration": 1537,
    "start_time": "2024-01-11T07:38:30.014Z"
   },
   {
    "duration": 17,
    "start_time": "2024-01-11T07:38:31.553Z"
   },
   {
    "duration": 864,
    "start_time": "2024-01-11T07:38:31.571Z"
   },
   {
    "duration": 69,
    "start_time": "2024-01-11T07:38:32.438Z"
   },
   {
    "duration": 306,
    "start_time": "2024-01-11T07:38:32.509Z"
   },
   {
    "duration": 32,
    "start_time": "2024-01-11T07:38:32.816Z"
   },
   {
    "duration": 95,
    "start_time": "2024-01-11T07:38:32.849Z"
   },
   {
    "duration": 1829,
    "start_time": "2024-01-11T07:38:32.946Z"
   },
   {
    "duration": 11,
    "start_time": "2024-01-11T07:38:34.777Z"
   },
   {
    "duration": 31,
    "start_time": "2024-01-11T07:38:34.789Z"
   },
   {
    "duration": 1719,
    "start_time": "2024-01-11T07:38:34.822Z"
   },
   {
    "duration": 13,
    "start_time": "2024-01-11T07:38:36.542Z"
   },
   {
    "duration": 18,
    "start_time": "2024-01-11T07:38:36.558Z"
   },
   {
    "duration": 25,
    "start_time": "2024-01-11T07:38:36.578Z"
   },
   {
    "duration": 2068,
    "start_time": "2024-01-11T07:38:36.604Z"
   },
   {
    "duration": 7,
    "start_time": "2024-01-11T07:38:38.674Z"
   },
   {
    "duration": 15,
    "start_time": "2024-01-11T07:38:38.683Z"
   },
   {
    "duration": 18,
    "start_time": "2024-01-11T07:38:38.699Z"
   },
   {
    "duration": 18,
    "start_time": "2024-01-11T07:38:38.718Z"
   },
   {
    "duration": 149,
    "start_time": "2024-01-11T07:38:38.738Z"
   },
   {
    "duration": 196,
    "start_time": "2024-01-11T07:38:38.890Z"
   },
   {
    "duration": 111,
    "start_time": "2024-01-11T07:38:39.088Z"
   },
   {
    "duration": 3,
    "start_time": "2024-01-11T07:38:39.201Z"
   },
   {
    "duration": 99,
    "start_time": "2024-01-11T07:38:39.283Z"
   },
   {
    "duration": 16,
    "start_time": "2024-01-11T07:38:39.384Z"
   },
   {
    "duration": 13,
    "start_time": "2024-01-11T07:38:39.401Z"
   },
   {
    "duration": 1576,
    "start_time": "2024-01-11T07:38:39.416Z"
   },
   {
    "duration": 121,
    "start_time": "2024-01-11T07:38:40.994Z"
   },
   {
    "duration": 2314,
    "start_time": "2024-01-11T07:41:07.471Z"
   },
   {
    "duration": 1027,
    "start_time": "2024-01-11T07:43:15.214Z"
   },
   {
    "duration": 2400,
    "start_time": "2024-01-11T08:01:24.793Z"
   },
   {
    "duration": 891,
    "start_time": "2024-01-11T08:02:00.008Z"
   },
   {
    "duration": 11,
    "start_time": "2024-01-11T08:03:41.426Z"
   },
   {
    "duration": 7338,
    "start_time": "2024-01-11T08:04:02.308Z"
   },
   {
    "duration": 3,
    "start_time": "2024-01-11T08:04:09.649Z"
   },
   {
    "duration": 26,
    "start_time": "2024-01-11T08:04:09.654Z"
   },
   {
    "duration": 467,
    "start_time": "2024-01-11T08:04:09.681Z"
   },
   {
    "duration": 62,
    "start_time": "2024-01-11T08:04:10.150Z"
   },
   {
    "duration": 329,
    "start_time": "2024-01-11T08:04:10.214Z"
   },
   {
    "duration": 56,
    "start_time": "2024-01-11T08:04:10.544Z"
   },
   {
    "duration": 90,
    "start_time": "2024-01-11T08:04:10.601Z"
   },
   {
    "duration": 1845,
    "start_time": "2024-01-11T08:04:10.692Z"
   },
   {
    "duration": 8,
    "start_time": "2024-01-11T08:04:12.538Z"
   },
   {
    "duration": 24,
    "start_time": "2024-01-11T08:04:12.548Z"
   },
   {
    "duration": 1876,
    "start_time": "2024-01-11T08:04:12.573Z"
   },
   {
    "duration": 14,
    "start_time": "2024-01-11T08:04:14.450Z"
   },
   {
    "duration": 20,
    "start_time": "2024-01-11T08:04:14.467Z"
   },
   {
    "duration": 16,
    "start_time": "2024-01-11T08:04:14.488Z"
   },
   {
    "duration": 2075,
    "start_time": "2024-01-11T08:04:14.506Z"
   },
   {
    "duration": 7,
    "start_time": "2024-01-11T08:04:16.583Z"
   },
   {
    "duration": 15,
    "start_time": "2024-01-11T08:04:16.591Z"
   },
   {
    "duration": 18,
    "start_time": "2024-01-11T08:04:16.607Z"
   },
   {
    "duration": 17,
    "start_time": "2024-01-11T08:04:16.626Z"
   },
   {
    "duration": 143,
    "start_time": "2024-01-11T08:04:16.644Z"
   },
   {
    "duration": 112,
    "start_time": "2024-01-11T08:04:16.790Z"
   },
   {
    "duration": 111,
    "start_time": "2024-01-11T08:04:16.986Z"
   },
   {
    "duration": 83,
    "start_time": "2024-01-11T08:04:17.099Z"
   },
   {
    "duration": 4,
    "start_time": "2024-01-11T08:04:17.184Z"
   },
   {
    "duration": 95,
    "start_time": "2024-01-11T08:04:17.190Z"
   },
   {
    "duration": 5,
    "start_time": "2024-01-11T08:04:17.287Z"
   },
   {
    "duration": 1620,
    "start_time": "2024-01-11T08:04:17.293Z"
   },
   {
    "duration": 11,
    "start_time": "2024-01-11T08:04:18.915Z"
   },
   {
    "duration": 936,
    "start_time": "2024-01-11T08:04:41.188Z"
   },
   {
    "duration": 7352,
    "start_time": "2024-01-11T08:08:29.750Z"
   },
   {
    "duration": 4,
    "start_time": "2024-01-11T08:08:37.104Z"
   },
   {
    "duration": 28,
    "start_time": "2024-01-11T08:08:37.109Z"
   },
   {
    "duration": 498,
    "start_time": "2024-01-11T08:08:37.139Z"
   },
   {
    "duration": 87,
    "start_time": "2024-01-11T08:08:37.640Z"
   },
   {
    "duration": 313,
    "start_time": "2024-01-11T08:08:37.728Z"
   },
   {
    "duration": 51,
    "start_time": "2024-01-11T08:08:38.042Z"
   },
   {
    "duration": 69,
    "start_time": "2024-01-11T08:08:38.094Z"
   },
   {
    "duration": 1876,
    "start_time": "2024-01-11T08:08:38.164Z"
   },
   {
    "duration": 9,
    "start_time": "2024-01-11T08:08:40.042Z"
   },
   {
    "duration": 30,
    "start_time": "2024-01-11T08:08:40.052Z"
   },
   {
    "duration": 1747,
    "start_time": "2024-01-11T08:08:40.083Z"
   },
   {
    "duration": 15,
    "start_time": "2024-01-11T08:08:41.832Z"
   },
   {
    "duration": 8,
    "start_time": "2024-01-11T08:08:41.849Z"
   },
   {
    "duration": 39,
    "start_time": "2024-01-11T08:08:41.858Z"
   },
   {
    "duration": 2133,
    "start_time": "2024-01-11T08:08:41.899Z"
   },
   {
    "duration": 8,
    "start_time": "2024-01-11T08:08:44.033Z"
   },
   {
    "duration": 15,
    "start_time": "2024-01-11T08:08:44.043Z"
   },
   {
    "duration": 36,
    "start_time": "2024-01-11T08:08:44.059Z"
   },
   {
    "duration": 20,
    "start_time": "2024-01-11T08:08:44.096Z"
   },
   {
    "duration": 69,
    "start_time": "2024-01-11T08:08:44.117Z"
   },
   {
    "duration": 195,
    "start_time": "2024-01-11T08:08:44.188Z"
   },
   {
    "duration": 114,
    "start_time": "2024-01-11T08:08:44.385Z"
   },
   {
    "duration": 3,
    "start_time": "2024-01-11T08:08:44.501Z"
   },
   {
    "duration": 3,
    "start_time": "2024-01-11T08:08:44.584Z"
   },
   {
    "duration": 95,
    "start_time": "2024-01-11T08:08:44.589Z"
   },
   {
    "duration": 17,
    "start_time": "2024-01-11T08:08:44.686Z"
   },
   {
    "duration": 1677,
    "start_time": "2024-01-11T08:08:44.704Z"
   },
   {
    "duration": 1072,
    "start_time": "2024-01-11T08:08:46.382Z"
   },
   {
    "duration": 5,
    "start_time": "2024-01-11T08:19:07.048Z"
   },
   {
    "duration": 7213,
    "start_time": "2024-01-11T08:26:09.247Z"
   },
   {
    "duration": 4,
    "start_time": "2024-01-11T08:26:16.462Z"
   },
   {
    "duration": 26,
    "start_time": "2024-01-11T08:26:16.468Z"
   },
   {
    "duration": 471,
    "start_time": "2024-01-11T08:26:16.496Z"
   },
   {
    "duration": 59,
    "start_time": "2024-01-11T08:26:16.969Z"
   },
   {
    "duration": 304,
    "start_time": "2024-01-11T08:26:17.029Z"
   },
   {
    "duration": 56,
    "start_time": "2024-01-11T08:26:17.335Z"
   },
   {
    "duration": 68,
    "start_time": "2024-01-11T08:26:17.393Z"
   },
   {
    "duration": 1752,
    "start_time": "2024-01-11T08:26:17.462Z"
   },
   {
    "duration": 3,
    "start_time": "2024-01-11T08:26:19.216Z"
   },
   {
    "duration": 5,
    "start_time": "2024-01-11T08:26:19.220Z"
   },
   {
    "duration": 1842,
    "start_time": "2024-01-11T08:26:19.227Z"
   },
   {
    "duration": 2,
    "start_time": "2024-01-11T08:26:21.071Z"
   },
   {
    "duration": 22,
    "start_time": "2024-01-11T08:26:21.083Z"
   },
   {
    "duration": 10,
    "start_time": "2024-01-11T08:26:21.106Z"
   },
   {
    "duration": 2078,
    "start_time": "2024-01-11T08:26:21.117Z"
   },
   {
    "duration": 3,
    "start_time": "2024-01-11T08:26:23.196Z"
   },
   {
    "duration": 3,
    "start_time": "2024-01-11T08:26:23.200Z"
   },
   {
    "duration": 4,
    "start_time": "2024-01-11T08:26:23.205Z"
   },
   {
    "duration": 13,
    "start_time": "2024-01-11T08:26:23.210Z"
   },
   {
    "duration": 257,
    "start_time": "2024-01-11T08:26:23.225Z"
   },
   {
    "duration": 201,
    "start_time": "2024-01-11T08:26:23.484Z"
   },
   {
    "duration": 206,
    "start_time": "2024-01-11T08:26:23.687Z"
   },
   {
    "duration": 87,
    "start_time": "2024-01-11T08:26:23.895Z"
   },
   {
    "duration": 5,
    "start_time": "2024-01-11T08:26:23.984Z"
   },
   {
    "duration": 13,
    "start_time": "2024-01-11T08:26:23.990Z"
   },
   {
    "duration": 9,
    "start_time": "2024-01-11T08:26:24.005Z"
   },
   {
    "duration": 1586,
    "start_time": "2024-01-11T08:26:24.015Z"
   },
   {
    "duration": 961,
    "start_time": "2024-01-11T08:26:25.603Z"
   },
   {
    "duration": 6,
    "start_time": "2024-01-11T08:26:26.565Z"
   },
   {
    "duration": 6952,
    "start_time": "2024-01-11T08:27:50.528Z"
   },
   {
    "duration": 1361,
    "start_time": "2024-01-11T08:27:57.483Z"
   },
   {
    "duration": 17,
    "start_time": "2024-01-11T08:27:58.848Z"
   },
   {
    "duration": 439,
    "start_time": "2024-01-11T08:27:58.868Z"
   },
   {
    "duration": 80,
    "start_time": "2024-01-11T08:27:59.309Z"
   },
   {
    "duration": 313,
    "start_time": "2024-01-11T08:27:59.391Z"
   },
   {
    "duration": 32,
    "start_time": "2024-01-11T08:27:59.706Z"
   },
   {
    "duration": 98,
    "start_time": "2024-01-11T08:27:59.740Z"
   },
   {
    "duration": 1777,
    "start_time": "2024-01-11T08:27:59.840Z"
   },
   {
    "duration": 3,
    "start_time": "2024-01-11T08:28:01.618Z"
   },
   {
    "duration": 28,
    "start_time": "2024-01-11T08:28:01.622Z"
   },
   {
    "duration": 1684,
    "start_time": "2024-01-11T08:28:01.651Z"
   },
   {
    "duration": 3,
    "start_time": "2024-01-11T08:28:03.338Z"
   },
   {
    "duration": 30,
    "start_time": "2024-01-11T08:28:03.342Z"
   },
   {
    "duration": 18,
    "start_time": "2024-01-11T08:28:03.373Z"
   },
   {
    "duration": 2039,
    "start_time": "2024-01-11T08:28:03.393Z"
   },
   {
    "duration": 2,
    "start_time": "2024-01-11T08:28:05.434Z"
   },
   {
    "duration": 12,
    "start_time": "2024-01-11T08:28:05.437Z"
   },
   {
    "duration": 7,
    "start_time": "2024-01-11T08:28:05.450Z"
   },
   {
    "duration": 3,
    "start_time": "2024-01-11T08:28:05.458Z"
   },
   {
    "duration": 122,
    "start_time": "2024-01-11T08:28:05.463Z"
   },
   {
    "duration": 202,
    "start_time": "2024-01-11T08:28:05.587Z"
   },
   {
    "duration": 192,
    "start_time": "2024-01-11T08:28:05.791Z"
   },
   {
    "duration": 2,
    "start_time": "2024-01-11T08:28:05.985Z"
   },
   {
    "duration": 94,
    "start_time": "2024-01-11T08:28:05.989Z"
   },
   {
    "duration": 6,
    "start_time": "2024-01-11T08:28:06.085Z"
   },
   {
    "duration": 5,
    "start_time": "2024-01-11T08:28:06.092Z"
   },
   {
    "duration": 1563,
    "start_time": "2024-01-11T08:28:06.099Z"
   },
   {
    "duration": 1051,
    "start_time": "2024-01-11T08:28:07.663Z"
   },
   {
    "duration": 6,
    "start_time": "2024-01-11T08:28:08.715Z"
   },
   {
    "duration": 7202,
    "start_time": "2024-01-11T08:32:55.856Z"
   },
   {
    "duration": 4,
    "start_time": "2024-01-11T08:33:03.061Z"
   },
   {
    "duration": 20,
    "start_time": "2024-01-11T08:33:03.067Z"
   },
   {
    "duration": 485,
    "start_time": "2024-01-11T08:33:03.089Z"
   },
   {
    "duration": 59,
    "start_time": "2024-01-11T08:33:03.582Z"
   },
   {
    "duration": 320,
    "start_time": "2024-01-11T08:33:03.643Z"
   },
   {
    "duration": 32,
    "start_time": "2024-01-11T08:33:03.981Z"
   },
   {
    "duration": 87,
    "start_time": "2024-01-11T08:33:04.014Z"
   },
   {
    "duration": 1730,
    "start_time": "2024-01-11T08:33:04.103Z"
   },
   {
    "duration": 3,
    "start_time": "2024-01-11T08:33:05.835Z"
   },
   {
    "duration": 5,
    "start_time": "2024-01-11T08:33:05.839Z"
   },
   {
    "duration": 1836,
    "start_time": "2024-01-11T08:33:05.846Z"
   },
   {
    "duration": 2,
    "start_time": "2024-01-11T08:33:07.683Z"
   },
   {
    "duration": 5,
    "start_time": "2024-01-11T08:33:07.687Z"
   },
   {
    "duration": 5,
    "start_time": "2024-01-11T08:33:07.694Z"
   },
   {
    "duration": 2091,
    "start_time": "2024-01-11T08:33:07.700Z"
   },
   {
    "duration": 2,
    "start_time": "2024-01-11T08:33:09.793Z"
   },
   {
    "duration": 7,
    "start_time": "2024-01-11T08:33:09.796Z"
   },
   {
    "duration": 17,
    "start_time": "2024-01-11T08:33:09.804Z"
   },
   {
    "duration": 7,
    "start_time": "2024-01-11T08:33:09.823Z"
   },
   {
    "duration": 152,
    "start_time": "2024-01-11T08:33:09.831Z"
   },
   {
    "duration": 204,
    "start_time": "2024-01-11T08:33:09.986Z"
   },
   {
    "duration": 109,
    "start_time": "2024-01-11T08:33:10.281Z"
   },
   {
    "duration": 92,
    "start_time": "2024-01-11T08:33:10.391Z"
   },
   {
    "duration": 7,
    "start_time": "2024-01-11T08:33:10.484Z"
   },
   {
    "duration": 7,
    "start_time": "2024-01-11T08:33:10.493Z"
   },
   {
    "duration": 5,
    "start_time": "2024-01-11T08:33:10.501Z"
   },
   {
    "duration": 1535,
    "start_time": "2024-01-11T08:33:10.507Z"
   },
   {
    "duration": 124,
    "start_time": "2024-01-11T08:33:12.043Z"
   },
   {
    "duration": 0,
    "start_time": "2024-01-11T08:33:12.168Z"
   },
   {
    "duration": 7061,
    "start_time": "2024-01-11T08:34:45.329Z"
   },
   {
    "duration": 4,
    "start_time": "2024-01-11T08:34:52.393Z"
   },
   {
    "duration": 18,
    "start_time": "2024-01-11T08:34:52.399Z"
   },
   {
    "duration": 498,
    "start_time": "2024-01-11T08:34:52.419Z"
   },
   {
    "duration": 77,
    "start_time": "2024-01-11T08:34:52.919Z"
   },
   {
    "duration": 315,
    "start_time": "2024-01-11T08:34:52.997Z"
   },
   {
    "duration": 33,
    "start_time": "2024-01-11T08:34:53.313Z"
   },
   {
    "duration": 89,
    "start_time": "2024-01-11T08:34:53.347Z"
   },
   {
    "duration": 1772,
    "start_time": "2024-01-11T08:34:53.437Z"
   },
   {
    "duration": 3,
    "start_time": "2024-01-11T08:34:55.211Z"
   },
   {
    "duration": 3,
    "start_time": "2024-01-11T08:34:55.216Z"
   },
   {
    "duration": 1848,
    "start_time": "2024-01-11T08:34:55.221Z"
   },
   {
    "duration": 3,
    "start_time": "2024-01-11T08:34:57.070Z"
   },
   {
    "duration": 24,
    "start_time": "2024-01-11T08:34:57.081Z"
   },
   {
    "duration": 34,
    "start_time": "2024-01-11T08:34:57.107Z"
   },
   {
    "duration": 2041,
    "start_time": "2024-01-11T08:34:57.143Z"
   },
   {
    "duration": 2,
    "start_time": "2024-01-11T08:34:59.186Z"
   },
   {
    "duration": 26,
    "start_time": "2024-01-11T08:34:59.190Z"
   },
   {
    "duration": 19,
    "start_time": "2024-01-11T08:34:59.217Z"
   },
   {
    "duration": 16,
    "start_time": "2024-01-11T08:34:59.238Z"
   },
   {
    "duration": 133,
    "start_time": "2024-01-11T08:34:59.256Z"
   },
   {
    "duration": 192,
    "start_time": "2024-01-11T08:34:59.391Z"
   },
   {
    "duration": 204,
    "start_time": "2024-01-11T08:34:59.585Z"
   },
   {
    "duration": 3,
    "start_time": "2024-01-11T08:34:59.790Z"
   },
   {
    "duration": 110,
    "start_time": "2024-01-11T08:34:59.795Z"
   },
   {
    "duration": 38,
    "start_time": "2024-01-11T08:34:59.906Z"
   },
   {
    "duration": 54,
    "start_time": "2024-01-11T08:34:59.945Z"
   },
   {
    "duration": 1579,
    "start_time": "2024-01-11T08:35:00.001Z"
   },
   {
    "duration": 998,
    "start_time": "2024-01-11T08:35:01.581Z"
   },
   {
    "duration": 7,
    "start_time": "2024-01-11T08:35:02.582Z"
   },
   {
    "duration": 5,
    "start_time": "2024-01-11T09:33:11.495Z"
   },
   {
    "duration": 4,
    "start_time": "2024-01-11T09:34:15.154Z"
   },
   {
    "duration": 9,
    "start_time": "2024-01-11T09:34:20.171Z"
   },
   {
    "duration": 15,
    "start_time": "2024-01-11T09:35:07.684Z"
   },
   {
    "duration": 7178,
    "start_time": "2024-01-11T09:38:43.237Z"
   },
   {
    "duration": 4,
    "start_time": "2024-01-11T09:38:50.417Z"
   },
   {
    "duration": 17,
    "start_time": "2024-01-11T09:38:50.423Z"
   },
   {
    "duration": 467,
    "start_time": "2024-01-11T09:38:50.441Z"
   },
   {
    "duration": 73,
    "start_time": "2024-01-11T09:38:50.910Z"
   },
   {
    "duration": 301,
    "start_time": "2024-01-11T09:38:50.984Z"
   },
   {
    "duration": 32,
    "start_time": "2024-01-11T09:38:51.287Z"
   },
   {
    "duration": 85,
    "start_time": "2024-01-11T09:38:51.321Z"
   },
   {
    "duration": 1834,
    "start_time": "2024-01-11T09:38:51.408Z"
   },
   {
    "duration": 2,
    "start_time": "2024-01-11T09:38:53.244Z"
   },
   {
    "duration": 9,
    "start_time": "2024-01-11T09:38:53.248Z"
   },
   {
    "duration": 1828,
    "start_time": "2024-01-11T09:38:53.258Z"
   },
   {
    "duration": 3,
    "start_time": "2024-01-11T09:38:55.087Z"
   },
   {
    "duration": 3,
    "start_time": "2024-01-11T09:38:55.092Z"
   },
   {
    "duration": 6,
    "start_time": "2024-01-11T09:38:55.096Z"
   },
   {
    "duration": 1943,
    "start_time": "2024-01-11T09:38:55.104Z"
   },
   {
    "duration": 3,
    "start_time": "2024-01-11T09:38:57.048Z"
   },
   {
    "duration": 4,
    "start_time": "2024-01-11T09:38:57.053Z"
   },
   {
    "duration": 3,
    "start_time": "2024-01-11T09:38:57.058Z"
   },
   {
    "duration": 19,
    "start_time": "2024-01-11T09:38:57.063Z"
   },
   {
    "duration": 205,
    "start_time": "2024-01-11T09:38:57.083Z"
   },
   {
    "duration": 200,
    "start_time": "2024-01-11T09:38:57.290Z"
   },
   {
    "duration": 193,
    "start_time": "2024-01-11T09:38:57.492Z"
   },
   {
    "duration": 4,
    "start_time": "2024-01-11T09:38:57.687Z"
   },
   {
    "duration": 3,
    "start_time": "2024-01-11T09:38:57.782Z"
   },
   {
    "duration": 12,
    "start_time": "2024-01-11T09:38:57.786Z"
   },
   {
    "duration": 12,
    "start_time": "2024-01-11T09:38:57.800Z"
   },
   {
    "duration": 7,
    "start_time": "2024-01-11T09:38:57.813Z"
   },
   {
    "duration": 1702,
    "start_time": "2024-01-11T09:38:57.821Z"
   },
   {
    "duration": 959,
    "start_time": "2024-01-11T09:38:59.524Z"
   },
   {
    "duration": 5,
    "start_time": "2024-01-11T09:39:00.485Z"
   },
   {
    "duration": 4,
    "start_time": "2024-01-11T09:40:30.629Z"
   },
   {
    "duration": 8,
    "start_time": "2024-01-11T09:40:36.345Z"
   },
   {
    "duration": 4,
    "start_time": "2024-01-11T09:42:49.317Z"
   },
   {
    "duration": 9,
    "start_time": "2024-01-11T09:42:54.965Z"
   },
   {
    "duration": 12,
    "start_time": "2024-01-11T09:46:25.121Z"
   },
   {
    "duration": 11,
    "start_time": "2024-01-11T09:48:37.845Z"
   },
   {
    "duration": 9,
    "start_time": "2024-01-11T09:50:27.794Z"
   },
   {
    "duration": 12,
    "start_time": "2024-01-11T09:50:33.586Z"
   },
   {
    "duration": 12,
    "start_time": "2024-01-11T09:51:58.802Z"
   },
   {
    "duration": 7221,
    "start_time": "2024-01-11T10:03:22.805Z"
   },
   {
    "duration": 4,
    "start_time": "2024-01-11T10:03:30.029Z"
   },
   {
    "duration": 31,
    "start_time": "2024-01-11T10:03:30.034Z"
   },
   {
    "duration": 521,
    "start_time": "2024-01-11T10:03:30.067Z"
   },
   {
    "duration": 62,
    "start_time": "2024-01-11T10:03:30.590Z"
   },
   {
    "duration": 359,
    "start_time": "2024-01-11T10:03:30.654Z"
   },
   {
    "duration": 35,
    "start_time": "2024-01-11T10:03:31.014Z"
   },
   {
    "duration": 89,
    "start_time": "2024-01-11T10:03:31.050Z"
   },
   {
    "duration": 1775,
    "start_time": "2024-01-11T10:03:31.140Z"
   },
   {
    "duration": 3,
    "start_time": "2024-01-11T10:03:32.916Z"
   },
   {
    "duration": 12,
    "start_time": "2024-01-11T10:03:32.920Z"
   },
   {
    "duration": 1890,
    "start_time": "2024-01-11T10:03:32.934Z"
   },
   {
    "duration": 2,
    "start_time": "2024-01-11T10:03:34.825Z"
   },
   {
    "duration": 11,
    "start_time": "2024-01-11T10:03:34.830Z"
   },
   {
    "duration": 8,
    "start_time": "2024-01-11T10:03:34.842Z"
   },
   {
    "duration": 2024,
    "start_time": "2024-01-11T10:03:34.852Z"
   },
   {
    "duration": 4,
    "start_time": "2024-01-11T10:03:36.878Z"
   },
   {
    "duration": 13,
    "start_time": "2024-01-11T10:03:36.883Z"
   },
   {
    "duration": 6,
    "start_time": "2024-01-11T10:03:36.898Z"
   },
   {
    "duration": 3,
    "start_time": "2024-01-11T10:03:36.905Z"
   },
   {
    "duration": 173,
    "start_time": "2024-01-11T10:03:36.910Z"
   },
   {
    "duration": 200,
    "start_time": "2024-01-11T10:03:37.085Z"
   },
   {
    "duration": 199,
    "start_time": "2024-01-11T10:03:37.287Z"
   },
   {
    "duration": 3,
    "start_time": "2024-01-11T10:03:37.488Z"
   },
   {
    "duration": 4,
    "start_time": "2024-01-11T10:03:37.583Z"
   },
   {
    "duration": 15,
    "start_time": "2024-01-11T10:03:37.589Z"
   },
   {
    "duration": 19,
    "start_time": "2024-01-11T10:03:37.605Z"
   },
   {
    "duration": 8,
    "start_time": "2024-01-11T10:03:37.625Z"
   },
   {
    "duration": 15,
    "start_time": "2024-01-11T10:03:37.635Z"
   },
   {
    "duration": 23,
    "start_time": "2024-01-11T10:03:37.651Z"
   },
   {
    "duration": 17,
    "start_time": "2024-01-11T10:03:37.675Z"
   },
   {
    "duration": 4,
    "start_time": "2024-01-11T10:03:37.693Z"
   },
   {
    "duration": 2014,
    "start_time": "2024-01-11T10:03:37.698Z"
   },
   {
    "duration": 922,
    "start_time": "2024-01-11T10:03:39.714Z"
   },
   {
    "duration": 7,
    "start_time": "2024-01-11T10:03:40.638Z"
   },
   {
    "duration": 503,
    "start_time": "2024-01-11T10:06:53.296Z"
   },
   {
    "duration": 6,
    "start_time": "2024-01-11T10:06:59.435Z"
   },
   {
    "duration": 7414,
    "start_time": "2024-01-11T10:11:07.209Z"
   },
   {
    "duration": 4,
    "start_time": "2024-01-11T10:11:14.625Z"
   },
   {
    "duration": 17,
    "start_time": "2024-01-11T10:11:14.631Z"
   },
   {
    "duration": 460,
    "start_time": "2024-01-11T10:11:14.650Z"
   },
   {
    "duration": 72,
    "start_time": "2024-01-11T10:11:15.112Z"
   },
   {
    "duration": 329,
    "start_time": "2024-01-11T10:11:15.185Z"
   },
   {
    "duration": 35,
    "start_time": "2024-01-11T10:11:15.516Z"
   },
   {
    "duration": 91,
    "start_time": "2024-01-11T10:11:15.552Z"
   },
   {
    "duration": 1871,
    "start_time": "2024-01-11T10:11:15.644Z"
   },
   {
    "duration": 2,
    "start_time": "2024-01-11T10:11:17.517Z"
   },
   {
    "duration": 3,
    "start_time": "2024-01-11T10:11:17.521Z"
   },
   {
    "duration": 1824,
    "start_time": "2024-01-11T10:11:17.526Z"
   },
   {
    "duration": 2,
    "start_time": "2024-01-11T10:11:19.352Z"
   },
   {
    "duration": 2,
    "start_time": "2024-01-11T10:11:19.358Z"
   },
   {
    "duration": 11,
    "start_time": "2024-01-11T10:11:19.361Z"
   },
   {
    "duration": 1922,
    "start_time": "2024-01-11T10:11:19.373Z"
   },
   {
    "duration": 3,
    "start_time": "2024-01-11T10:11:21.296Z"
   },
   {
    "duration": 6,
    "start_time": "2024-01-11T10:11:21.300Z"
   },
   {
    "duration": 5,
    "start_time": "2024-01-11T10:11:21.308Z"
   },
   {
    "duration": 10,
    "start_time": "2024-01-11T10:11:21.314Z"
   },
   {
    "duration": 157,
    "start_time": "2024-01-11T10:11:21.326Z"
   },
   {
    "duration": 198,
    "start_time": "2024-01-11T10:11:21.485Z"
   },
   {
    "duration": 196,
    "start_time": "2024-01-11T10:11:21.686Z"
   },
   {
    "duration": 4,
    "start_time": "2024-01-11T10:11:21.884Z"
   },
   {
    "duration": 92,
    "start_time": "2024-01-11T10:11:21.890Z"
   },
   {
    "duration": 11,
    "start_time": "2024-01-11T10:11:21.984Z"
   },
   {
    "duration": 11,
    "start_time": "2024-01-11T10:11:21.996Z"
   },
   {
    "duration": 8,
    "start_time": "2024-01-11T10:11:22.009Z"
   },
   {
    "duration": 10,
    "start_time": "2024-01-11T10:11:22.018Z"
   },
   {
    "duration": 10,
    "start_time": "2024-01-11T10:11:22.030Z"
   },
   {
    "duration": 42,
    "start_time": "2024-01-11T10:11:22.041Z"
   },
   {
    "duration": 4,
    "start_time": "2024-01-11T10:11:22.085Z"
   },
   {
    "duration": 2146,
    "start_time": "2024-01-11T10:11:22.090Z"
   },
   {
    "duration": 1361,
    "start_time": "2024-01-11T10:11:24.238Z"
   },
   {
    "duration": 0,
    "start_time": "2024-01-11T10:11:25.600Z"
   },
   {
    "duration": 8047,
    "start_time": "2024-01-11T10:11:50.662Z"
   },
   {
    "duration": 4,
    "start_time": "2024-01-11T10:11:58.711Z"
   },
   {
    "duration": 18,
    "start_time": "2024-01-11T10:11:58.717Z"
   },
   {
    "duration": 464,
    "start_time": "2024-01-11T10:11:58.737Z"
   },
   {
    "duration": 82,
    "start_time": "2024-01-11T10:11:59.203Z"
   },
   {
    "duration": 317,
    "start_time": "2024-01-11T10:11:59.287Z"
   },
   {
    "duration": 33,
    "start_time": "2024-01-11T10:11:59.605Z"
   },
   {
    "duration": 86,
    "start_time": "2024-01-11T10:11:59.639Z"
   },
   {
    "duration": 1711,
    "start_time": "2024-01-11T10:11:59.727Z"
   },
   {
    "duration": 3,
    "start_time": "2024-01-11T10:12:01.439Z"
   },
   {
    "duration": 31,
    "start_time": "2024-01-11T10:12:01.444Z"
   },
   {
    "duration": 1909,
    "start_time": "2024-01-11T10:12:01.477Z"
   },
   {
    "duration": 3,
    "start_time": "2024-01-11T10:12:03.387Z"
   },
   {
    "duration": 4,
    "start_time": "2024-01-11T10:12:03.392Z"
   },
   {
    "duration": 3,
    "start_time": "2024-01-11T10:12:03.398Z"
   },
   {
    "duration": 2070,
    "start_time": "2024-01-11T10:12:03.403Z"
   },
   {
    "duration": 2,
    "start_time": "2024-01-11T10:12:05.475Z"
   },
   {
    "duration": 4,
    "start_time": "2024-01-11T10:12:05.478Z"
   },
   {
    "duration": 9,
    "start_time": "2024-01-11T10:12:05.484Z"
   },
   {
    "duration": 9,
    "start_time": "2024-01-11T10:12:05.494Z"
   },
   {
    "duration": 180,
    "start_time": "2024-01-11T10:12:05.504Z"
   },
   {
    "duration": 197,
    "start_time": "2024-01-11T10:12:05.686Z"
   },
   {
    "duration": 197,
    "start_time": "2024-01-11T10:12:05.886Z"
   },
   {
    "duration": 4,
    "start_time": "2024-01-11T10:12:06.087Z"
   },
   {
    "duration": 3,
    "start_time": "2024-01-11T10:12:06.182Z"
   },
   {
    "duration": 5,
    "start_time": "2024-01-11T10:12:06.186Z"
   },
   {
    "duration": 12,
    "start_time": "2024-01-11T10:12:06.193Z"
   },
   {
    "duration": 14,
    "start_time": "2024-01-11T10:12:06.206Z"
   },
   {
    "duration": 10,
    "start_time": "2024-01-11T10:12:06.222Z"
   },
   {
    "duration": 11,
    "start_time": "2024-01-11T10:12:06.233Z"
   },
   {
    "duration": 43,
    "start_time": "2024-01-11T10:12:06.246Z"
   },
   {
    "duration": 3,
    "start_time": "2024-01-11T10:12:06.291Z"
   },
   {
    "duration": 2000,
    "start_time": "2024-01-11T10:12:06.295Z"
   },
   {
    "duration": 549,
    "start_time": "2024-01-11T10:12:08.296Z"
   },
   {
    "duration": 6,
    "start_time": "2024-01-11T10:12:08.846Z"
   },
   {
    "duration": 7114,
    "start_time": "2024-01-11T10:13:54.154Z"
   },
   {
    "duration": 4,
    "start_time": "2024-01-11T10:14:01.271Z"
   },
   {
    "duration": 31,
    "start_time": "2024-01-11T10:14:01.277Z"
   },
   {
    "duration": 500,
    "start_time": "2024-01-11T10:14:01.309Z"
   },
   {
    "duration": 78,
    "start_time": "2024-01-11T10:14:01.811Z"
   },
   {
    "duration": 316,
    "start_time": "2024-01-11T10:14:01.891Z"
   },
   {
    "duration": 35,
    "start_time": "2024-01-11T10:14:02.208Z"
   },
   {
    "duration": 93,
    "start_time": "2024-01-11T10:14:02.245Z"
   },
   {
    "duration": 1899,
    "start_time": "2024-01-11T10:14:02.340Z"
   },
   {
    "duration": 3,
    "start_time": "2024-01-11T10:14:04.241Z"
   },
   {
    "duration": 4,
    "start_time": "2024-01-11T10:14:04.246Z"
   },
   {
    "duration": 1731,
    "start_time": "2024-01-11T10:14:04.251Z"
   },
   {
    "duration": 2,
    "start_time": "2024-01-11T10:14:05.983Z"
   },
   {
    "duration": 6,
    "start_time": "2024-01-11T10:14:05.988Z"
   },
   {
    "duration": 6,
    "start_time": "2024-01-11T10:14:05.995Z"
   },
   {
    "duration": 2060,
    "start_time": "2024-01-11T10:14:06.003Z"
   },
   {
    "duration": 2,
    "start_time": "2024-01-11T10:14:08.065Z"
   },
   {
    "duration": 12,
    "start_time": "2024-01-11T10:14:08.069Z"
   },
   {
    "duration": 2,
    "start_time": "2024-01-11T10:14:08.083Z"
   },
   {
    "duration": 7,
    "start_time": "2024-01-11T10:14:08.086Z"
   },
   {
    "duration": 89,
    "start_time": "2024-01-11T10:14:08.094Z"
   },
   {
    "duration": 198,
    "start_time": "2024-01-11T10:14:08.185Z"
   },
   {
    "duration": 198,
    "start_time": "2024-01-11T10:14:08.385Z"
   },
   {
    "duration": 4,
    "start_time": "2024-01-11T10:14:08.585Z"
   },
   {
    "duration": 95,
    "start_time": "2024-01-11T10:14:08.591Z"
   },
   {
    "duration": 8,
    "start_time": "2024-01-11T10:14:08.687Z"
   },
   {
    "duration": 14,
    "start_time": "2024-01-11T10:14:08.697Z"
   },
   {
    "duration": 14,
    "start_time": "2024-01-11T10:14:08.713Z"
   },
   {
    "duration": 17,
    "start_time": "2024-01-11T10:14:08.729Z"
   },
   {
    "duration": 18,
    "start_time": "2024-01-11T10:14:08.747Z"
   },
   {
    "duration": 23,
    "start_time": "2024-01-11T10:14:08.766Z"
   },
   {
    "duration": 4,
    "start_time": "2024-01-11T10:14:08.790Z"
   },
   {
    "duration": 2043,
    "start_time": "2024-01-11T10:14:08.795Z"
   },
   {
    "duration": 994,
    "start_time": "2024-01-11T10:14:10.840Z"
   },
   {
    "duration": 7,
    "start_time": "2024-01-11T10:14:11.836Z"
   },
   {
    "duration": 7161,
    "start_time": "2024-01-11T10:15:06.772Z"
   },
   {
    "duration": 4,
    "start_time": "2024-01-11T10:15:13.935Z"
   },
   {
    "duration": 18,
    "start_time": "2024-01-11T10:15:13.941Z"
   },
   {
    "duration": 468,
    "start_time": "2024-01-11T10:15:13.960Z"
   },
   {
    "duration": 65,
    "start_time": "2024-01-11T10:15:14.430Z"
   },
   {
    "duration": 314,
    "start_time": "2024-01-11T10:15:14.496Z"
   },
   {
    "duration": 35,
    "start_time": "2024-01-11T10:15:14.811Z"
   },
   {
    "duration": 88,
    "start_time": "2024-01-11T10:15:14.848Z"
   },
   {
    "duration": 1912,
    "start_time": "2024-01-11T10:15:14.937Z"
   },
   {
    "duration": 2,
    "start_time": "2024-01-11T10:15:16.851Z"
   },
   {
    "duration": 3,
    "start_time": "2024-01-11T10:15:16.855Z"
   },
   {
    "duration": 1806,
    "start_time": "2024-01-11T10:15:16.860Z"
   },
   {
    "duration": 2,
    "start_time": "2024-01-11T10:15:18.667Z"
   },
   {
    "duration": 21,
    "start_time": "2024-01-11T10:15:18.672Z"
   },
   {
    "duration": 11,
    "start_time": "2024-01-11T10:15:18.694Z"
   },
   {
    "duration": 2076,
    "start_time": "2024-01-11T10:15:18.707Z"
   },
   {
    "duration": 3,
    "start_time": "2024-01-11T10:15:20.784Z"
   },
   {
    "duration": 6,
    "start_time": "2024-01-11T10:15:20.788Z"
   },
   {
    "duration": 5,
    "start_time": "2024-01-11T10:15:20.795Z"
   },
   {
    "duration": 21,
    "start_time": "2024-01-11T10:15:20.802Z"
   },
   {
    "duration": 160,
    "start_time": "2024-01-11T10:15:20.824Z"
   },
   {
    "duration": 197,
    "start_time": "2024-01-11T10:15:20.986Z"
   },
   {
    "duration": 200,
    "start_time": "2024-01-11T10:15:21.188Z"
   },
   {
    "duration": 91,
    "start_time": "2024-01-11T10:15:21.391Z"
   },
   {
    "duration": 3,
    "start_time": "2024-01-11T10:15:21.484Z"
   },
   {
    "duration": 10,
    "start_time": "2024-01-11T10:15:21.488Z"
   },
   {
    "duration": 25,
    "start_time": "2024-01-11T10:15:21.499Z"
   },
   {
    "duration": 8,
    "start_time": "2024-01-11T10:15:21.526Z"
   },
   {
    "duration": 11,
    "start_time": "2024-01-11T10:15:21.535Z"
   },
   {
    "duration": 11,
    "start_time": "2024-01-11T10:15:21.547Z"
   },
   {
    "duration": 32,
    "start_time": "2024-01-11T10:15:21.560Z"
   },
   {
    "duration": 4,
    "start_time": "2024-01-11T10:15:21.593Z"
   },
   {
    "duration": 2074,
    "start_time": "2024-01-11T10:15:21.598Z"
   },
   {
    "duration": 550,
    "start_time": "2024-01-11T10:15:23.674Z"
   },
   {
    "duration": 6,
    "start_time": "2024-01-11T10:15:24.226Z"
   },
   {
    "duration": 7173,
    "start_time": "2024-01-11T12:11:47.370Z"
   },
   {
    "duration": 4,
    "start_time": "2024-01-11T12:11:54.546Z"
   },
   {
    "duration": 20,
    "start_time": "2024-01-11T12:11:54.552Z"
   },
   {
    "duration": 475,
    "start_time": "2024-01-11T12:11:54.573Z"
   },
   {
    "duration": 68,
    "start_time": "2024-01-11T12:11:55.051Z"
   },
   {
    "duration": 323,
    "start_time": "2024-01-11T12:11:55.121Z"
   },
   {
    "duration": 53,
    "start_time": "2024-01-11T12:11:55.446Z"
   },
   {
    "duration": 65,
    "start_time": "2024-01-11T12:11:55.501Z"
   },
   {
    "duration": 1720,
    "start_time": "2024-01-11T12:11:55.582Z"
   },
   {
    "duration": 3,
    "start_time": "2024-01-11T12:11:57.303Z"
   },
   {
    "duration": 5,
    "start_time": "2024-01-11T12:11:57.307Z"
   },
   {
    "duration": 1866,
    "start_time": "2024-01-11T12:11:57.314Z"
   },
   {
    "duration": 3,
    "start_time": "2024-01-11T12:11:59.182Z"
   },
   {
    "duration": 3,
    "start_time": "2024-01-11T12:11:59.187Z"
   },
   {
    "duration": 8,
    "start_time": "2024-01-11T12:11:59.192Z"
   },
   {
    "duration": 2067,
    "start_time": "2024-01-11T12:11:59.201Z"
   },
   {
    "duration": 2,
    "start_time": "2024-01-11T12:12:01.270Z"
   },
   {
    "duration": 32,
    "start_time": "2024-01-11T12:12:01.273Z"
   },
   {
    "duration": 17,
    "start_time": "2024-01-11T12:12:01.306Z"
   },
   {
    "duration": 17,
    "start_time": "2024-01-11T12:12:01.324Z"
   },
   {
    "duration": 246,
    "start_time": "2024-01-11T12:12:01.343Z"
   },
   {
    "duration": 192,
    "start_time": "2024-01-11T12:12:01.591Z"
   },
   {
    "duration": 198,
    "start_time": "2024-01-11T12:12:01.785Z"
   },
   {
    "duration": 97,
    "start_time": "2024-01-11T12:12:01.985Z"
   },
   {
    "duration": 2,
    "start_time": "2024-01-11T12:12:02.084Z"
   },
   {
    "duration": 35,
    "start_time": "2024-01-11T12:12:02.087Z"
   },
   {
    "duration": 33,
    "start_time": "2024-01-11T12:12:02.123Z"
   },
   {
    "duration": 17,
    "start_time": "2024-01-11T12:12:02.158Z"
   },
   {
    "duration": 31,
    "start_time": "2024-01-11T12:12:02.177Z"
   },
   {
    "duration": 24,
    "start_time": "2024-01-11T12:12:02.209Z"
   },
   {
    "duration": 37,
    "start_time": "2024-01-11T12:12:02.234Z"
   },
   {
    "duration": 12,
    "start_time": "2024-01-11T12:12:02.272Z"
   },
   {
    "duration": 2054,
    "start_time": "2024-01-11T12:12:02.285Z"
   },
   {
    "duration": 7673,
    "start_time": "2024-01-11T12:12:04.341Z"
   },
   {
    "duration": 6,
    "start_time": "2024-01-11T12:12:12.015Z"
   },
   {
    "duration": 7151,
    "start_time": "2024-01-11T12:14:24.509Z"
   },
   {
    "duration": 4,
    "start_time": "2024-01-11T12:14:31.662Z"
   },
   {
    "duration": 90,
    "start_time": "2024-01-11T12:14:31.667Z"
   },
   {
    "duration": 510,
    "start_time": "2024-01-11T12:14:31.759Z"
   },
   {
    "duration": 56,
    "start_time": "2024-01-11T12:14:32.271Z"
   },
   {
    "duration": 334,
    "start_time": "2024-01-11T12:14:32.329Z"
   },
   {
    "duration": 46,
    "start_time": "2024-01-11T12:14:32.665Z"
   },
   {
    "duration": 87,
    "start_time": "2024-01-11T12:14:32.713Z"
   },
   {
    "duration": 1930,
    "start_time": "2024-01-11T12:14:32.801Z"
   },
   {
    "duration": 2,
    "start_time": "2024-01-11T12:14:34.734Z"
   },
   {
    "duration": 3,
    "start_time": "2024-01-11T12:14:34.737Z"
   },
   {
    "duration": 1796,
    "start_time": "2024-01-11T12:14:34.742Z"
   },
   {
    "duration": 3,
    "start_time": "2024-01-11T12:14:36.539Z"
   },
   {
    "duration": 5,
    "start_time": "2024-01-11T12:14:36.543Z"
   },
   {
    "duration": 7,
    "start_time": "2024-01-11T12:14:36.550Z"
   },
   {
    "duration": 1920,
    "start_time": "2024-01-11T12:14:36.558Z"
   },
   {
    "duration": 3,
    "start_time": "2024-01-11T12:14:38.480Z"
   },
   {
    "duration": 3,
    "start_time": "2024-01-11T12:14:38.485Z"
   },
   {
    "duration": 4,
    "start_time": "2024-01-11T12:14:38.490Z"
   },
   {
    "duration": 5,
    "start_time": "2024-01-11T12:14:38.495Z"
   },
   {
    "duration": 182,
    "start_time": "2024-01-11T12:14:38.501Z"
   },
   {
    "duration": 198,
    "start_time": "2024-01-11T12:14:38.685Z"
   },
   {
    "duration": 201,
    "start_time": "2024-01-11T12:14:38.886Z"
   },
   {
    "duration": 6,
    "start_time": "2024-01-11T12:14:39.089Z"
   },
   {
    "duration": 92,
    "start_time": "2024-01-11T12:14:39.097Z"
   },
   {
    "duration": 14,
    "start_time": "2024-01-11T12:14:39.190Z"
   },
   {
    "duration": 18,
    "start_time": "2024-01-11T12:14:39.205Z"
   },
   {
    "duration": 15,
    "start_time": "2024-01-11T12:14:39.226Z"
   },
   {
    "duration": 22,
    "start_time": "2024-01-11T12:14:39.242Z"
   },
   {
    "duration": 12,
    "start_time": "2024-01-11T12:14:39.266Z"
   },
   {
    "duration": 11,
    "start_time": "2024-01-11T12:14:39.279Z"
   },
   {
    "duration": 3,
    "start_time": "2024-01-11T12:14:39.291Z"
   },
   {
    "duration": 2093,
    "start_time": "2024-01-11T12:14:39.295Z"
   },
   {
    "duration": 559,
    "start_time": "2024-01-11T12:14:41.390Z"
   },
   {
    "duration": 5,
    "start_time": "2024-01-11T12:14:41.951Z"
   },
   {
    "duration": 7175,
    "start_time": "2024-01-11T12:17:10.569Z"
   },
   {
    "duration": 4,
    "start_time": "2024-01-11T12:17:17.746Z"
   },
   {
    "duration": 18,
    "start_time": "2024-01-11T12:17:17.752Z"
   },
   {
    "duration": 511,
    "start_time": "2024-01-11T12:17:17.772Z"
   },
   {
    "duration": 55,
    "start_time": "2024-01-11T12:17:18.284Z"
   },
   {
    "duration": 309,
    "start_time": "2024-01-11T12:17:18.340Z"
   },
   {
    "duration": 52,
    "start_time": "2024-01-11T12:17:18.650Z"
   },
   {
    "duration": 66,
    "start_time": "2024-01-11T12:17:18.703Z"
   },
   {
    "duration": 1737,
    "start_time": "2024-01-11T12:17:18.782Z"
   },
   {
    "duration": 2,
    "start_time": "2024-01-11T12:17:20.522Z"
   },
   {
    "duration": 10,
    "start_time": "2024-01-11T12:17:20.526Z"
   },
   {
    "duration": 1883,
    "start_time": "2024-01-11T12:17:20.538Z"
   },
   {
    "duration": 2,
    "start_time": "2024-01-11T12:17:22.423Z"
   },
   {
    "duration": 6,
    "start_time": "2024-01-11T12:17:22.426Z"
   },
   {
    "duration": 13,
    "start_time": "2024-01-11T12:17:22.433Z"
   },
   {
    "duration": 2054,
    "start_time": "2024-01-11T12:17:22.448Z"
   },
   {
    "duration": 3,
    "start_time": "2024-01-11T12:17:24.503Z"
   },
   {
    "duration": 4,
    "start_time": "2024-01-11T12:17:24.507Z"
   },
   {
    "duration": 11,
    "start_time": "2024-01-11T12:17:24.512Z"
   },
   {
    "duration": 16,
    "start_time": "2024-01-11T12:17:24.524Z"
   },
   {
    "duration": 245,
    "start_time": "2024-01-11T12:17:24.542Z"
   },
   {
    "duration": 207,
    "start_time": "2024-01-11T12:17:24.788Z"
   },
   {
    "duration": 110,
    "start_time": "2024-01-11T12:17:25.083Z"
   },
   {
    "duration": 3,
    "start_time": "2024-01-11T12:17:25.283Z"
   },
   {
    "duration": 18,
    "start_time": "2024-01-11T12:17:25.287Z"
   },
   {
    "duration": 8,
    "start_time": "2024-01-11T12:17:25.307Z"
   },
   {
    "duration": 13,
    "start_time": "2024-01-11T12:17:25.316Z"
   },
   {
    "duration": 12,
    "start_time": "2024-01-11T12:17:25.331Z"
   },
   {
    "duration": 11,
    "start_time": "2024-01-11T12:17:25.345Z"
   },
   {
    "duration": 28,
    "start_time": "2024-01-11T12:17:25.357Z"
   },
   {
    "duration": 14,
    "start_time": "2024-01-11T12:17:25.387Z"
   },
   {
    "duration": 6,
    "start_time": "2024-01-11T12:17:25.402Z"
   },
   {
    "duration": 2051,
    "start_time": "2024-01-11T12:17:25.410Z"
   },
   {
    "duration": 573,
    "start_time": "2024-01-11T12:17:27.463Z"
   },
   {
    "duration": 5,
    "start_time": "2024-01-11T12:17:28.037Z"
   },
   {
    "duration": 7152,
    "start_time": "2024-01-11T12:27:05.270Z"
   },
   {
    "duration": 5,
    "start_time": "2024-01-11T12:27:12.424Z"
   },
   {
    "duration": 18,
    "start_time": "2024-01-11T12:27:12.430Z"
   },
   {
    "duration": 482,
    "start_time": "2024-01-11T12:27:12.449Z"
   },
   {
    "duration": 65,
    "start_time": "2024-01-11T12:27:12.933Z"
   },
   {
    "duration": 324,
    "start_time": "2024-01-11T12:27:12.999Z"
   },
   {
    "duration": 33,
    "start_time": "2024-01-11T12:27:13.325Z"
   },
   {
    "duration": 86,
    "start_time": "2024-01-11T12:27:13.359Z"
   },
   {
    "duration": 1883,
    "start_time": "2024-01-11T12:27:13.446Z"
   },
   {
    "duration": 3,
    "start_time": "2024-01-11T12:27:15.330Z"
   },
   {
    "duration": 11,
    "start_time": "2024-01-11T12:27:15.334Z"
   },
   {
    "duration": 1716,
    "start_time": "2024-01-11T12:27:15.346Z"
   },
   {
    "duration": 3,
    "start_time": "2024-01-11T12:27:17.063Z"
   },
   {
    "duration": 2,
    "start_time": "2024-01-11T12:27:17.068Z"
   },
   {
    "duration": 3,
    "start_time": "2024-01-11T12:27:17.082Z"
   },
   {
    "duration": 2111,
    "start_time": "2024-01-11T12:27:17.086Z"
   },
   {
    "duration": 2,
    "start_time": "2024-01-11T12:27:19.199Z"
   },
   {
    "duration": 11,
    "start_time": "2024-01-11T12:27:19.203Z"
   },
   {
    "duration": 5,
    "start_time": "2024-01-11T12:27:19.215Z"
   },
   {
    "duration": 4,
    "start_time": "2024-01-11T12:27:19.221Z"
   },
   {
    "duration": 162,
    "start_time": "2024-01-11T12:27:19.226Z"
   },
   {
    "duration": 198,
    "start_time": "2024-01-11T12:27:19.391Z"
   },
   {
    "duration": 195,
    "start_time": "2024-01-11T12:27:19.591Z"
   },
   {
    "duration": 84,
    "start_time": "2024-01-11T12:27:19.799Z"
   },
   {
    "duration": 4,
    "start_time": "2024-01-11T12:27:19.885Z"
   },
   {
    "duration": 6,
    "start_time": "2024-01-11T12:27:19.891Z"
   },
   {
    "duration": 11,
    "start_time": "2024-01-11T12:27:19.898Z"
   },
   {
    "duration": 8,
    "start_time": "2024-01-11T12:27:19.910Z"
   },
   {
    "duration": 22,
    "start_time": "2024-01-11T12:27:19.920Z"
   },
   {
    "duration": 41,
    "start_time": "2024-01-11T12:27:19.944Z"
   },
   {
    "duration": 13,
    "start_time": "2024-01-11T12:27:19.987Z"
   },
   {
    "duration": 3,
    "start_time": "2024-01-11T12:27:20.001Z"
   },
   {
    "duration": 1990,
    "start_time": "2024-01-11T12:27:20.005Z"
   },
   {
    "duration": 16,
    "start_time": "2024-01-11T12:27:21.996Z"
   },
   {
    "duration": 0,
    "start_time": "2024-01-11T12:27:22.013Z"
   },
   {
    "duration": 0,
    "start_time": "2024-01-11T12:27:22.014Z"
   },
   {
    "duration": 7765,
    "start_time": "2024-01-11T12:29:12.806Z"
   },
   {
    "duration": 4,
    "start_time": "2024-01-11T12:29:20.573Z"
   },
   {
    "duration": 23,
    "start_time": "2024-01-11T12:29:20.579Z"
   },
   {
    "duration": 513,
    "start_time": "2024-01-11T12:29:20.604Z"
   },
   {
    "duration": 79,
    "start_time": "2024-01-11T12:29:21.119Z"
   },
   {
    "duration": 389,
    "start_time": "2024-01-11T12:29:21.200Z"
   },
   {
    "duration": 36,
    "start_time": "2024-01-11T12:29:21.591Z"
   },
   {
    "duration": 98,
    "start_time": "2024-01-11T12:29:21.628Z"
   },
   {
    "duration": 2022,
    "start_time": "2024-01-11T12:29:21.728Z"
   },
   {
    "duration": 2,
    "start_time": "2024-01-11T12:29:23.752Z"
   },
   {
    "duration": 31,
    "start_time": "2024-01-11T12:29:23.756Z"
   },
   {
    "duration": 2046,
    "start_time": "2024-01-11T12:29:23.788Z"
   },
   {
    "duration": 3,
    "start_time": "2024-01-11T12:29:25.835Z"
   },
   {
    "duration": 6,
    "start_time": "2024-01-11T12:29:25.841Z"
   },
   {
    "duration": 3,
    "start_time": "2024-01-11T12:29:25.849Z"
   },
   {
    "duration": 2093,
    "start_time": "2024-01-11T12:29:25.854Z"
   },
   {
    "duration": 2,
    "start_time": "2024-01-11T12:29:27.949Z"
   },
   {
    "duration": 13,
    "start_time": "2024-01-11T12:29:27.952Z"
   },
   {
    "duration": 15,
    "start_time": "2024-01-11T12:29:27.966Z"
   },
   {
    "duration": 11,
    "start_time": "2024-01-11T12:29:27.982Z"
   },
   {
    "duration": 188,
    "start_time": "2024-01-11T12:29:27.995Z"
   },
   {
    "duration": 198,
    "start_time": "2024-01-11T12:29:28.184Z"
   },
   {
    "duration": 101,
    "start_time": "2024-01-11T12:29:28.384Z"
   },
   {
    "duration": 4,
    "start_time": "2024-01-11T12:29:28.487Z"
   },
   {
    "duration": 5,
    "start_time": "2024-01-11T12:29:28.584Z"
   },
   {
    "duration": 6,
    "start_time": "2024-01-11T12:29:28.591Z"
   },
   {
    "duration": 17,
    "start_time": "2024-01-11T12:29:28.598Z"
   },
   {
    "duration": 10,
    "start_time": "2024-01-11T12:29:28.617Z"
   },
   {
    "duration": 20,
    "start_time": "2024-01-11T12:29:28.629Z"
   },
   {
    "duration": 37,
    "start_time": "2024-01-11T12:29:28.651Z"
   },
   {
    "duration": 161,
    "start_time": "2024-01-11T12:29:28.690Z"
   },
   {
    "duration": 12,
    "start_time": "2024-01-11T12:29:28.852Z"
   },
   {
    "duration": 2077,
    "start_time": "2024-01-11T12:29:28.865Z"
   },
   {
    "duration": 15,
    "start_time": "2024-01-11T12:29:30.944Z"
   },
   {
    "duration": 0,
    "start_time": "2024-01-11T12:29:30.961Z"
   },
   {
    "duration": 0,
    "start_time": "2024-01-11T12:29:30.962Z"
   },
   {
    "duration": 7549,
    "start_time": "2024-01-11T12:31:08.935Z"
   },
   {
    "duration": 4,
    "start_time": "2024-01-11T12:31:16.487Z"
   },
   {
    "duration": 20,
    "start_time": "2024-01-11T12:31:16.493Z"
   },
   {
    "duration": 503,
    "start_time": "2024-01-11T12:31:16.515Z"
   },
   {
    "duration": 69,
    "start_time": "2024-01-11T12:31:17.020Z"
   },
   {
    "duration": 326,
    "start_time": "2024-01-11T12:31:17.091Z"
   },
   {
    "duration": 33,
    "start_time": "2024-01-11T12:31:17.418Z"
   },
   {
    "duration": 90,
    "start_time": "2024-01-11T12:31:17.453Z"
   },
   {
    "duration": 1755,
    "start_time": "2024-01-11T12:31:17.545Z"
   },
   {
    "duration": 2,
    "start_time": "2024-01-11T12:31:19.303Z"
   },
   {
    "duration": 10,
    "start_time": "2024-01-11T12:31:19.307Z"
   },
   {
    "duration": 1825,
    "start_time": "2024-01-11T12:31:19.318Z"
   },
   {
    "duration": 2,
    "start_time": "2024-01-11T12:31:21.145Z"
   },
   {
    "duration": 12,
    "start_time": "2024-01-11T12:31:21.148Z"
   },
   {
    "duration": 15,
    "start_time": "2024-01-11T12:31:21.161Z"
   },
   {
    "duration": 2118,
    "start_time": "2024-01-11T12:31:21.177Z"
   },
   {
    "duration": 2,
    "start_time": "2024-01-11T12:31:23.297Z"
   },
   {
    "duration": 17,
    "start_time": "2024-01-11T12:31:23.300Z"
   },
   {
    "duration": 15,
    "start_time": "2024-01-11T12:31:23.320Z"
   },
   {
    "duration": 25,
    "start_time": "2024-01-11T12:31:23.337Z"
   },
   {
    "duration": 227,
    "start_time": "2024-01-11T12:31:23.363Z"
   },
   {
    "duration": 193,
    "start_time": "2024-01-11T12:31:23.592Z"
   },
   {
    "duration": 196,
    "start_time": "2024-01-11T12:31:23.788Z"
   },
   {
    "duration": 4,
    "start_time": "2024-01-11T12:31:23.986Z"
   },
   {
    "duration": 3,
    "start_time": "2024-01-11T12:31:24.082Z"
   },
   {
    "duration": 9,
    "start_time": "2024-01-11T12:31:24.087Z"
   },
   {
    "duration": 30,
    "start_time": "2024-01-11T12:31:24.098Z"
   },
   {
    "duration": 9,
    "start_time": "2024-01-11T12:31:24.131Z"
   },
   {
    "duration": 21,
    "start_time": "2024-01-11T12:31:24.141Z"
   },
   {
    "duration": 23,
    "start_time": "2024-01-11T12:31:24.164Z"
   },
   {
    "duration": 38,
    "start_time": "2024-01-11T12:31:24.188Z"
   },
   {
    "duration": 19,
    "start_time": "2024-01-11T12:31:24.228Z"
   },
   {
    "duration": 2087,
    "start_time": "2024-01-11T12:31:24.248Z"
   },
   {
    "duration": 562,
    "start_time": "2024-01-11T12:31:26.337Z"
   },
   {
    "duration": 5,
    "start_time": "2024-01-11T12:31:26.901Z"
   },
   {
    "duration": 2093,
    "start_time": "2024-01-11T12:31:26.907Z"
   },
   {
    "duration": 17,
    "start_time": "2024-01-11T12:32:11.909Z"
   },
   {
    "duration": 8331,
    "start_time": "2024-01-11T12:32:14.534Z"
   },
   {
    "duration": 3,
    "start_time": "2024-01-11T12:32:22.868Z"
   },
   {
    "duration": 25,
    "start_time": "2024-01-11T12:32:22.873Z"
   },
   {
    "duration": 510,
    "start_time": "2024-01-11T12:32:22.900Z"
   },
   {
    "duration": 79,
    "start_time": "2024-01-11T12:32:23.412Z"
   },
   {
    "duration": 337,
    "start_time": "2024-01-11T12:32:23.492Z"
   },
   {
    "duration": 60,
    "start_time": "2024-01-11T12:32:23.831Z"
   },
   {
    "duration": 73,
    "start_time": "2024-01-11T12:32:23.892Z"
   },
   {
    "duration": 2051,
    "start_time": "2024-01-11T12:32:23.967Z"
   },
   {
    "duration": 2,
    "start_time": "2024-01-11T12:32:26.020Z"
   },
   {
    "duration": 17,
    "start_time": "2024-01-11T12:32:26.024Z"
   },
   {
    "duration": 1840,
    "start_time": "2024-01-11T12:32:26.042Z"
   },
   {
    "duration": 3,
    "start_time": "2024-01-11T12:32:27.884Z"
   },
   {
    "duration": 3,
    "start_time": "2024-01-11T12:32:27.891Z"
   },
   {
    "duration": 3,
    "start_time": "2024-01-11T12:32:27.896Z"
   },
   {
    "duration": 2264,
    "start_time": "2024-01-11T12:32:27.900Z"
   },
   {
    "duration": 2,
    "start_time": "2024-01-11T12:32:30.166Z"
   },
   {
    "duration": 49,
    "start_time": "2024-01-11T12:32:30.169Z"
   },
   {
    "duration": 61,
    "start_time": "2024-01-11T12:32:30.219Z"
   },
   {
    "duration": 38,
    "start_time": "2024-01-11T12:32:30.282Z"
   },
   {
    "duration": 265,
    "start_time": "2024-01-11T12:32:30.322Z"
   },
   {
    "duration": 195,
    "start_time": "2024-01-11T12:32:30.589Z"
   },
   {
    "duration": 204,
    "start_time": "2024-01-11T12:32:30.787Z"
   },
   {
    "duration": 3,
    "start_time": "2024-01-11T12:32:31.082Z"
   },
   {
    "duration": 42,
    "start_time": "2024-01-11T12:32:31.086Z"
   },
   {
    "duration": 31,
    "start_time": "2024-01-11T12:32:31.130Z"
   },
   {
    "duration": 54,
    "start_time": "2024-01-11T12:32:31.163Z"
   },
   {
    "duration": 64,
    "start_time": "2024-01-11T12:32:31.219Z"
   },
   {
    "duration": 103,
    "start_time": "2024-01-11T12:32:31.286Z"
   },
   {
    "duration": 37,
    "start_time": "2024-01-11T12:32:31.391Z"
   },
   {
    "duration": 17,
    "start_time": "2024-01-11T12:32:31.429Z"
   },
   {
    "duration": 6,
    "start_time": "2024-01-11T12:32:31.448Z"
   },
   {
    "duration": 2254,
    "start_time": "2024-01-11T12:32:31.456Z"
   },
   {
    "duration": 738,
    "start_time": "2024-01-11T12:32:33.712Z"
   },
   {
    "duration": 7,
    "start_time": "2024-01-11T12:32:34.451Z"
   },
   {
    "duration": 2204,
    "start_time": "2024-01-11T12:32:34.459Z"
   },
   {
    "duration": 7110,
    "start_time": "2024-01-11T12:39:44.352Z"
   },
   {
    "duration": 4,
    "start_time": "2024-01-11T12:39:51.464Z"
   },
   {
    "duration": 32,
    "start_time": "2024-01-11T12:39:51.470Z"
   },
   {
    "duration": 494,
    "start_time": "2024-01-11T12:39:51.503Z"
   },
   {
    "duration": 60,
    "start_time": "2024-01-11T12:39:51.999Z"
   },
   {
    "duration": 326,
    "start_time": "2024-01-11T12:39:52.083Z"
   },
   {
    "duration": 35,
    "start_time": "2024-01-11T12:39:52.411Z"
   },
   {
    "duration": 102,
    "start_time": "2024-01-11T12:39:52.448Z"
   },
   {
    "duration": 1795,
    "start_time": "2024-01-11T12:39:52.552Z"
   },
   {
    "duration": 3,
    "start_time": "2024-01-11T12:39:54.348Z"
   },
   {
    "duration": 5,
    "start_time": "2024-01-11T12:39:54.352Z"
   },
   {
    "duration": 1821,
    "start_time": "2024-01-11T12:39:54.359Z"
   },
   {
    "duration": 2,
    "start_time": "2024-01-11T12:39:56.182Z"
   },
   {
    "duration": 3,
    "start_time": "2024-01-11T12:39:56.186Z"
   },
   {
    "duration": 11,
    "start_time": "2024-01-11T12:39:56.190Z"
   },
   {
    "duration": 2036,
    "start_time": "2024-01-11T12:39:56.202Z"
   },
   {
    "duration": 2,
    "start_time": "2024-01-11T12:39:58.240Z"
   },
   {
    "duration": 15,
    "start_time": "2024-01-11T12:39:58.244Z"
   },
   {
    "duration": 8,
    "start_time": "2024-01-11T12:39:58.260Z"
   },
   {
    "duration": 6,
    "start_time": "2024-01-11T12:39:58.269Z"
   },
   {
    "duration": 306,
    "start_time": "2024-01-11T12:39:58.276Z"
   },
   {
    "duration": 200,
    "start_time": "2024-01-11T12:39:58.584Z"
   },
   {
    "duration": 197,
    "start_time": "2024-01-11T12:39:58.787Z"
   },
   {
    "duration": 3,
    "start_time": "2024-01-11T12:39:58.987Z"
   },
   {
    "duration": 3,
    "start_time": "2024-01-11T12:39:59.082Z"
   },
   {
    "duration": 6,
    "start_time": "2024-01-11T12:39:59.086Z"
   },
   {
    "duration": 13,
    "start_time": "2024-01-11T12:39:59.093Z"
   },
   {
    "duration": 12,
    "start_time": "2024-01-11T12:39:59.107Z"
   },
   {
    "duration": 11,
    "start_time": "2024-01-11T12:39:59.120Z"
   },
   {
    "duration": 13,
    "start_time": "2024-01-11T12:39:59.132Z"
   },
   {
    "duration": 44,
    "start_time": "2024-01-11T12:39:59.146Z"
   },
   {
    "duration": 13,
    "start_time": "2024-01-11T12:39:59.191Z"
   },
   {
    "duration": 2006,
    "start_time": "2024-01-11T12:39:59.206Z"
   },
   {
    "duration": 569,
    "start_time": "2024-01-11T12:40:01.213Z"
   },
   {
    "duration": 6,
    "start_time": "2024-01-11T12:40:01.783Z"
   },
   {
    "duration": 2083,
    "start_time": "2024-01-11T12:40:01.790Z"
   },
   {
    "duration": 552,
    "start_time": "2024-01-11T12:40:03.875Z"
   },
   {
    "duration": 6,
    "start_time": "2024-01-11T12:40:35.489Z"
   },
   {
    "duration": 2184,
    "start_time": "2024-01-11T12:42:33.231Z"
   },
   {
    "duration": 580,
    "start_time": "2024-01-11T12:42:35.416Z"
   },
   {
    "duration": 6,
    "start_time": "2024-01-11T12:42:35.998Z"
   },
   {
    "duration": 13761,
    "start_time": "2024-01-11T12:54:56.228Z"
   },
   {
    "duration": 4,
    "start_time": "2024-01-11T12:55:09.991Z"
   },
   {
    "duration": 18,
    "start_time": "2024-01-11T12:55:09.997Z"
   },
   {
    "duration": 518,
    "start_time": "2024-01-11T12:55:10.017Z"
   },
   {
    "duration": 72,
    "start_time": "2024-01-11T12:55:10.536Z"
   },
   {
    "duration": 321,
    "start_time": "2024-01-11T12:55:10.610Z"
   },
   {
    "duration": 53,
    "start_time": "2024-01-11T12:55:10.932Z"
   },
   {
    "duration": 67,
    "start_time": "2024-01-11T12:55:10.986Z"
   },
   {
    "duration": 1767,
    "start_time": "2024-01-11T12:55:11.055Z"
   },
   {
    "duration": 3,
    "start_time": "2024-01-11T12:55:12.825Z"
   },
   {
    "duration": 18,
    "start_time": "2024-01-11T12:55:12.829Z"
   },
   {
    "duration": 1819,
    "start_time": "2024-01-11T12:55:12.848Z"
   },
   {
    "duration": 2,
    "start_time": "2024-01-11T12:55:14.669Z"
   },
   {
    "duration": 14,
    "start_time": "2024-01-11T12:55:14.682Z"
   },
   {
    "duration": 10,
    "start_time": "2024-01-11T12:55:14.697Z"
   },
   {
    "duration": 2074,
    "start_time": "2024-01-11T12:55:14.708Z"
   },
   {
    "duration": 2,
    "start_time": "2024-01-11T12:55:16.784Z"
   },
   {
    "duration": 7,
    "start_time": "2024-01-11T12:55:16.788Z"
   },
   {
    "duration": 31,
    "start_time": "2024-01-11T12:55:16.797Z"
   },
   {
    "duration": 5,
    "start_time": "2024-01-11T12:55:16.829Z"
   },
   {
    "duration": 246,
    "start_time": "2024-01-11T12:55:16.836Z"
   },
   {
    "duration": 199,
    "start_time": "2024-01-11T12:55:17.084Z"
   },
   {
    "duration": 200,
    "start_time": "2024-01-11T12:55:17.285Z"
   },
   {
    "duration": 7,
    "start_time": "2024-01-11T12:55:17.487Z"
   },
   {
    "duration": 86,
    "start_time": "2024-01-11T12:55:17.497Z"
   },
   {
    "duration": 11,
    "start_time": "2024-01-11T12:55:17.585Z"
   },
   {
    "duration": 11,
    "start_time": "2024-01-11T12:55:17.598Z"
   },
   {
    "duration": 10,
    "start_time": "2024-01-11T12:55:17.614Z"
   },
   {
    "duration": 15,
    "start_time": "2024-01-11T12:55:17.626Z"
   },
   {
    "duration": 41,
    "start_time": "2024-01-11T12:55:17.642Z"
   },
   {
    "duration": 13,
    "start_time": "2024-01-11T12:55:17.684Z"
   },
   {
    "duration": 11,
    "start_time": "2024-01-11T12:55:17.698Z"
   },
   {
    "duration": 2028,
    "start_time": "2024-01-11T12:55:17.710Z"
   },
   {
    "duration": 580,
    "start_time": "2024-01-11T12:55:19.740Z"
   },
   {
    "duration": 6,
    "start_time": "2024-01-11T12:55:20.321Z"
   },
   {
    "duration": 2095,
    "start_time": "2024-01-11T12:55:20.328Z"
   },
   {
    "duration": 562,
    "start_time": "2024-01-11T12:55:22.425Z"
   },
   {
    "duration": 6,
    "start_time": "2024-01-11T12:55:22.988Z"
   },
   {
    "duration": 2114,
    "start_time": "2024-01-11T12:55:22.995Z"
   },
   {
    "duration": 533,
    "start_time": "2024-01-11T12:55:25.111Z"
   },
   {
    "duration": 6,
    "start_time": "2024-01-11T12:55:25.646Z"
   },
   {
    "duration": 8278,
    "start_time": "2024-01-11T14:10:04.427Z"
   },
   {
    "duration": 1602,
    "start_time": "2024-01-11T14:10:12.707Z"
   },
   {
    "duration": 19,
    "start_time": "2024-01-11T14:10:14.311Z"
   },
   {
    "duration": 540,
    "start_time": "2024-01-11T14:10:14.331Z"
   },
   {
    "duration": 69,
    "start_time": "2024-01-11T14:10:14.873Z"
   },
   {
    "duration": 389,
    "start_time": "2024-01-11T14:10:14.944Z"
   },
   {
    "duration": 57,
    "start_time": "2024-01-11T14:10:15.335Z"
   },
   {
    "duration": 83,
    "start_time": "2024-01-11T14:10:15.393Z"
   },
   {
    "duration": 1917,
    "start_time": "2024-01-11T14:10:15.482Z"
   },
   {
    "duration": 9,
    "start_time": "2024-01-11T14:10:17.401Z"
   },
   {
    "duration": 18,
    "start_time": "2024-01-11T14:10:17.411Z"
   },
   {
    "duration": 1898,
    "start_time": "2024-01-11T14:10:17.431Z"
   },
   {
    "duration": 15,
    "start_time": "2024-01-11T14:10:19.331Z"
   },
   {
    "duration": 8,
    "start_time": "2024-01-11T14:10:19.348Z"
   },
   {
    "duration": 44,
    "start_time": "2024-01-11T14:10:19.357Z"
   },
   {
    "duration": 2328,
    "start_time": "2024-01-11T14:10:19.403Z"
   },
   {
    "duration": 9,
    "start_time": "2024-01-11T14:10:21.732Z"
   },
   {
    "duration": 17,
    "start_time": "2024-01-11T14:10:21.742Z"
   },
   {
    "duration": 37,
    "start_time": "2024-01-11T14:10:21.760Z"
   },
   {
    "duration": 22,
    "start_time": "2024-01-11T14:10:21.800Z"
   },
   {
    "duration": 63,
    "start_time": "2024-01-11T14:10:21.824Z"
   },
   {
    "duration": 182,
    "start_time": "2024-01-11T14:10:21.901Z"
   },
   {
    "duration": 123,
    "start_time": "2024-01-11T14:10:22.086Z"
   },
   {
    "duration": 79,
    "start_time": "2024-01-11T14:10:22.210Z"
   },
   {
    "duration": 5,
    "start_time": "2024-01-11T14:10:22.296Z"
   },
   {
    "duration": 82,
    "start_time": "2024-01-11T14:10:22.306Z"
   },
   {
    "duration": 17,
    "start_time": "2024-01-11T14:10:22.390Z"
   },
   {
    "duration": 23,
    "start_time": "2024-01-11T14:10:22.409Z"
   },
   {
    "duration": 17,
    "start_time": "2024-01-11T14:10:22.434Z"
   },
   {
    "duration": 40,
    "start_time": "2024-01-11T14:10:22.453Z"
   },
   {
    "duration": 20,
    "start_time": "2024-01-11T14:10:22.495Z"
   },
   {
    "duration": 16,
    "start_time": "2024-01-11T14:10:22.517Z"
   },
   {
    "duration": 2215,
    "start_time": "2024-01-11T14:10:22.534Z"
   },
   {
    "duration": 603,
    "start_time": "2024-01-11T14:10:24.750Z"
   },
   {
    "duration": 6,
    "start_time": "2024-01-11T14:10:25.354Z"
   },
   {
    "duration": 2313,
    "start_time": "2024-01-11T14:10:25.362Z"
   },
   {
    "duration": 677,
    "start_time": "2024-01-11T14:10:27.677Z"
   },
   {
    "duration": 6,
    "start_time": "2024-01-11T14:10:28.355Z"
   },
   {
    "duration": 2363,
    "start_time": "2024-01-11T14:10:28.362Z"
   },
   {
    "duration": 605,
    "start_time": "2024-01-11T14:10:30.726Z"
   },
   {
    "duration": 5,
    "start_time": "2024-01-11T14:10:31.335Z"
   },
   {
    "duration": 7,
    "start_time": "2024-01-11T14:55:17.008Z"
   },
   {
    "duration": 5,
    "start_time": "2024-01-11T14:55:23.889Z"
   },
   {
    "duration": 5,
    "start_time": "2024-01-11T14:55:41.413Z"
   },
   {
    "duration": 6,
    "start_time": "2024-01-11T14:59:09.606Z"
   },
   {
    "duration": 4,
    "start_time": "2024-01-11T14:59:25.128Z"
   },
   {
    "duration": 2,
    "start_time": "2024-01-11T15:00:29.408Z"
   },
   {
    "duration": 4,
    "start_time": "2024-01-11T15:02:15.764Z"
   },
   {
    "duration": 6,
    "start_time": "2024-01-11T15:07:24.913Z"
   },
   {
    "duration": 7,
    "start_time": "2024-01-11T15:08:00.218Z"
   },
   {
    "duration": 8,
    "start_time": "2024-01-11T15:08:12.578Z"
   },
   {
    "duration": 80,
    "start_time": "2024-01-11T15:10:38.020Z"
   },
   {
    "duration": 8,
    "start_time": "2024-01-11T15:11:02.868Z"
   },
   {
    "duration": 7,
    "start_time": "2024-01-11T15:12:16.481Z"
   },
   {
    "duration": 7,
    "start_time": "2024-01-11T15:13:16.043Z"
   },
   {
    "duration": 7,
    "start_time": "2024-01-11T15:13:28.424Z"
   },
   {
    "duration": 8,
    "start_time": "2024-01-11T15:14:14.857Z"
   },
   {
    "duration": 7692,
    "start_time": "2024-01-11T15:14:27.195Z"
   },
   {
    "duration": 4,
    "start_time": "2024-01-11T15:14:34.890Z"
   },
   {
    "duration": 30,
    "start_time": "2024-01-11T15:14:34.897Z"
   },
   {
    "duration": 512,
    "start_time": "2024-01-11T15:14:34.929Z"
   },
   {
    "duration": 73,
    "start_time": "2024-01-11T15:14:35.443Z"
   },
   {
    "duration": 323,
    "start_time": "2024-01-11T15:14:35.518Z"
   },
   {
    "duration": 54,
    "start_time": "2024-01-11T15:14:35.843Z"
   },
   {
    "duration": 85,
    "start_time": "2024-01-11T15:14:35.899Z"
   },
   {
    "duration": 1903,
    "start_time": "2024-01-11T15:14:35.986Z"
   },
   {
    "duration": 8,
    "start_time": "2024-01-11T15:14:37.891Z"
   },
   {
    "duration": 17,
    "start_time": "2024-01-11T15:14:37.901Z"
   },
   {
    "duration": 1817,
    "start_time": "2024-01-11T15:14:37.919Z"
   },
   {
    "duration": 15,
    "start_time": "2024-01-11T15:14:39.737Z"
   },
   {
    "duration": 7,
    "start_time": "2024-01-11T15:14:39.755Z"
   },
   {
    "duration": 30,
    "start_time": "2024-01-11T15:14:39.764Z"
   },
   {
    "duration": 2206,
    "start_time": "2024-01-11T15:14:39.796Z"
   },
   {
    "duration": 8,
    "start_time": "2024-01-11T15:14:42.003Z"
   },
   {
    "duration": 16,
    "start_time": "2024-01-11T15:14:42.013Z"
   },
   {
    "duration": 21,
    "start_time": "2024-01-11T15:14:42.030Z"
   },
   {
    "duration": 43,
    "start_time": "2024-01-11T15:14:42.052Z"
   },
   {
    "duration": 87,
    "start_time": "2024-01-11T15:14:42.097Z"
   },
   {
    "duration": 115,
    "start_time": "2024-01-11T15:14:42.187Z"
   },
   {
    "duration": 114,
    "start_time": "2024-01-11T15:14:42.386Z"
   },
   {
    "duration": 4,
    "start_time": "2024-01-11T15:14:42.502Z"
   },
   {
    "duration": 10,
    "start_time": "2024-01-11T15:14:42.583Z"
   },
   {
    "duration": 90,
    "start_time": "2024-01-11T15:14:42.595Z"
   },
   {
    "duration": 14,
    "start_time": "2024-01-11T15:14:42.686Z"
   },
   {
    "duration": 9,
    "start_time": "2024-01-11T15:14:42.701Z"
   },
   {
    "duration": 11,
    "start_time": "2024-01-11T15:14:42.712Z"
   },
   {
    "duration": 13,
    "start_time": "2024-01-11T15:14:42.724Z"
   },
   {
    "duration": 47,
    "start_time": "2024-01-11T15:14:42.738Z"
   },
   {
    "duration": 4,
    "start_time": "2024-01-11T15:14:42.786Z"
   },
   {
    "duration": 2108,
    "start_time": "2024-01-11T15:14:42.791Z"
   },
   {
    "duration": 582,
    "start_time": "2024-01-11T15:14:44.901Z"
   },
   {
    "duration": 8,
    "start_time": "2024-01-11T15:14:45.484Z"
   },
   {
    "duration": 2176,
    "start_time": "2024-01-11T15:14:45.493Z"
   },
   {
    "duration": 564,
    "start_time": "2024-01-11T15:14:47.671Z"
   },
   {
    "duration": 7,
    "start_time": "2024-01-11T15:14:48.236Z"
   },
   {
    "duration": 2082,
    "start_time": "2024-01-11T15:14:48.245Z"
   },
   {
    "duration": 571,
    "start_time": "2024-01-11T15:14:50.329Z"
   },
   {
    "duration": 6,
    "start_time": "2024-01-11T15:14:50.903Z"
   },
   {
    "duration": 7,
    "start_time": "2024-01-11T15:16:13.520Z"
   },
   {
    "duration": 7656,
    "start_time": "2024-01-11T15:16:16.548Z"
   },
   {
    "duration": 4,
    "start_time": "2024-01-11T15:16:24.206Z"
   },
   {
    "duration": 46,
    "start_time": "2024-01-11T15:16:24.212Z"
   },
   {
    "duration": 534,
    "start_time": "2024-01-11T15:16:24.260Z"
   },
   {
    "duration": 59,
    "start_time": "2024-01-11T15:16:24.797Z"
   },
   {
    "duration": 364,
    "start_time": "2024-01-11T15:16:24.857Z"
   },
   {
    "duration": 36,
    "start_time": "2024-01-11T15:16:25.223Z"
   },
   {
    "duration": 94,
    "start_time": "2024-01-11T15:16:25.261Z"
   },
   {
    "duration": 1922,
    "start_time": "2024-01-11T15:16:25.357Z"
   },
   {
    "duration": 9,
    "start_time": "2024-01-11T15:16:27.282Z"
   },
   {
    "duration": 19,
    "start_time": "2024-01-11T15:16:27.292Z"
   },
   {
    "duration": 1976,
    "start_time": "2024-01-11T15:16:27.313Z"
   },
   {
    "duration": 15,
    "start_time": "2024-01-11T15:16:29.291Z"
   },
   {
    "duration": 8,
    "start_time": "2024-01-11T15:16:29.310Z"
   },
   {
    "duration": 16,
    "start_time": "2024-01-11T15:16:29.319Z"
   },
   {
    "duration": 2189,
    "start_time": "2024-01-11T15:16:29.337Z"
   },
   {
    "duration": 8,
    "start_time": "2024-01-11T15:16:31.528Z"
   },
   {
    "duration": 53,
    "start_time": "2024-01-11T15:16:31.538Z"
   },
   {
    "duration": 35,
    "start_time": "2024-01-11T15:16:31.593Z"
   },
   {
    "duration": 22,
    "start_time": "2024-01-11T15:16:31.629Z"
   },
   {
    "duration": 42,
    "start_time": "2024-01-11T15:16:31.652Z"
   },
   {
    "duration": 197,
    "start_time": "2024-01-11T15:16:31.785Z"
   },
   {
    "duration": 118,
    "start_time": "2024-01-11T15:16:31.984Z"
   },
   {
    "duration": 79,
    "start_time": "2024-01-11T15:16:32.104Z"
   },
   {
    "duration": 101,
    "start_time": "2024-01-11T15:16:32.187Z"
   },
   {
    "duration": 11,
    "start_time": "2024-01-11T15:16:32.290Z"
   },
   {
    "duration": 10,
    "start_time": "2024-01-11T15:16:32.303Z"
   },
   {
    "duration": 9,
    "start_time": "2024-01-11T15:16:32.315Z"
   },
   {
    "duration": 12,
    "start_time": "2024-01-11T15:16:32.325Z"
   },
   {
    "duration": 21,
    "start_time": "2024-01-11T15:16:32.338Z"
   },
   {
    "duration": 29,
    "start_time": "2024-01-11T15:16:32.361Z"
   },
   {
    "duration": 5,
    "start_time": "2024-01-11T15:16:32.392Z"
   },
   {
    "duration": 2137,
    "start_time": "2024-01-11T15:16:32.399Z"
   },
   {
    "duration": 572,
    "start_time": "2024-01-11T15:16:34.538Z"
   },
   {
    "duration": 7,
    "start_time": "2024-01-11T15:16:35.112Z"
   },
   {
    "duration": 2192,
    "start_time": "2024-01-11T15:16:35.121Z"
   },
   {
    "duration": 561,
    "start_time": "2024-01-11T15:16:37.315Z"
   },
   {
    "duration": 7,
    "start_time": "2024-01-11T15:16:37.878Z"
   },
   {
    "duration": 2091,
    "start_time": "2024-01-11T15:16:37.887Z"
   },
   {
    "duration": 563,
    "start_time": "2024-01-11T15:16:39.980Z"
   },
   {
    "duration": 8,
    "start_time": "2024-01-11T15:16:40.546Z"
   },
   {
    "duration": 5,
    "start_time": "2024-01-11T18:51:14.671Z"
   },
   {
    "duration": 105,
    "start_time": "2024-01-11T18:56:53.334Z"
   },
   {
    "duration": 8,
    "start_time": "2024-01-11T18:57:06.280Z"
   },
   {
    "duration": 4,
    "start_time": "2024-01-11T18:59:22.293Z"
   },
   {
    "duration": 11,
    "start_time": "2024-01-11T19:01:14.512Z"
   },
   {
    "duration": 4,
    "start_time": "2024-01-11T19:01:25.222Z"
   },
   {
    "duration": 5,
    "start_time": "2024-01-11T19:08:49.744Z"
   },
   {
    "duration": 5,
    "start_time": "2024-01-11T19:09:03.425Z"
   },
   {
    "duration": 7478,
    "start_time": "2024-01-12T07:21:11.652Z"
   },
   {
    "duration": 1554,
    "start_time": "2024-01-12T07:21:19.132Z"
   },
   {
    "duration": 18,
    "start_time": "2024-01-12T07:21:20.688Z"
   },
   {
    "duration": 859,
    "start_time": "2024-01-12T07:21:20.707Z"
   },
   {
    "duration": 58,
    "start_time": "2024-01-12T07:21:21.568Z"
   },
   {
    "duration": 307,
    "start_time": "2024-01-12T07:21:21.628Z"
   },
   {
    "duration": 32,
    "start_time": "2024-01-12T07:21:21.937Z"
   },
   {
    "duration": 100,
    "start_time": "2024-01-12T07:21:21.971Z"
   },
   {
    "duration": 1814,
    "start_time": "2024-01-12T07:21:22.073Z"
   },
   {
    "duration": 8,
    "start_time": "2024-01-12T07:21:23.889Z"
   },
   {
    "duration": 24,
    "start_time": "2024-01-12T07:21:23.899Z"
   },
   {
    "duration": 1721,
    "start_time": "2024-01-12T07:21:23.924Z"
   },
   {
    "duration": 15,
    "start_time": "2024-01-12T07:21:25.647Z"
   },
   {
    "duration": 32,
    "start_time": "2024-01-12T07:21:25.665Z"
   },
   {
    "duration": 23,
    "start_time": "2024-01-12T07:21:25.698Z"
   },
   {
    "duration": 2075,
    "start_time": "2024-01-12T07:21:25.724Z"
   },
   {
    "duration": 7,
    "start_time": "2024-01-12T07:21:27.801Z"
   },
   {
    "duration": 15,
    "start_time": "2024-01-12T07:21:27.809Z"
   },
   {
    "duration": 17,
    "start_time": "2024-01-12T07:21:27.826Z"
   },
   {
    "duration": 18,
    "start_time": "2024-01-12T07:21:27.845Z"
   },
   {
    "duration": 54,
    "start_time": "2024-01-12T07:21:27.864Z"
   },
   {
    "duration": 212,
    "start_time": "2024-01-12T07:21:27.920Z"
   },
   {
    "duration": 194,
    "start_time": "2024-01-12T07:21:28.134Z"
   },
   {
    "duration": 85,
    "start_time": "2024-01-12T07:21:28.330Z"
   },
   {
    "duration": 96,
    "start_time": "2024-01-12T07:21:28.418Z"
   },
   {
    "duration": 4,
    "start_time": "2024-01-12T07:21:28.516Z"
   },
   {
    "duration": 25,
    "start_time": "2024-01-12T07:21:28.522Z"
   },
   {
    "duration": 8,
    "start_time": "2024-01-12T07:21:28.548Z"
   },
   {
    "duration": 15,
    "start_time": "2024-01-12T07:21:28.558Z"
   },
   {
    "duration": 13,
    "start_time": "2024-01-12T07:21:28.575Z"
   },
   {
    "duration": 28,
    "start_time": "2024-01-12T07:21:28.590Z"
   },
   {
    "duration": 4,
    "start_time": "2024-01-12T07:21:28.620Z"
   },
   {
    "duration": 2069,
    "start_time": "2024-01-12T07:21:28.625Z"
   },
   {
    "duration": 669,
    "start_time": "2024-01-12T07:21:30.695Z"
   },
   {
    "duration": 8,
    "start_time": "2024-01-12T07:21:31.365Z"
   },
   {
    "duration": 2045,
    "start_time": "2024-01-12T07:21:31.375Z"
   },
   {
    "duration": 573,
    "start_time": "2024-01-12T07:21:33.421Z"
   },
   {
    "duration": 8,
    "start_time": "2024-01-12T07:21:33.995Z"
   },
   {
    "duration": 2064,
    "start_time": "2024-01-12T07:21:34.004Z"
   },
   {
    "duration": 579,
    "start_time": "2024-01-12T07:21:36.070Z"
   },
   {
    "duration": 7,
    "start_time": "2024-01-12T07:21:36.653Z"
   },
   {
    "duration": 7134,
    "start_time": "2024-01-13T13:38:44.031Z"
   },
   {
    "duration": 1552,
    "start_time": "2024-01-13T13:38:51.167Z"
   },
   {
    "duration": 17,
    "start_time": "2024-01-13T13:38:52.721Z"
   },
   {
    "duration": 1628,
    "start_time": "2024-01-13T13:38:52.739Z"
   },
   {
    "duration": 55,
    "start_time": "2024-01-13T13:38:54.369Z"
   },
   {
    "duration": 295,
    "start_time": "2024-01-13T13:38:54.425Z"
   },
   {
    "duration": 51,
    "start_time": "2024-01-13T13:38:54.721Z"
   },
   {
    "duration": 81,
    "start_time": "2024-01-13T13:38:54.774Z"
   },
   {
    "duration": 1677,
    "start_time": "2024-01-13T13:38:54.857Z"
   },
   {
    "duration": 8,
    "start_time": "2024-01-13T13:38:56.536Z"
   },
   {
    "duration": 25,
    "start_time": "2024-01-13T13:38:56.545Z"
   },
   {
    "duration": 1654,
    "start_time": "2024-01-13T13:38:56.571Z"
   },
   {
    "duration": 13,
    "start_time": "2024-01-13T13:38:58.227Z"
   },
   {
    "duration": 19,
    "start_time": "2024-01-13T13:38:58.242Z"
   },
   {
    "duration": 17,
    "start_time": "2024-01-13T13:38:58.262Z"
   },
   {
    "duration": 2015,
    "start_time": "2024-01-13T13:38:58.281Z"
   },
   {
    "duration": 8,
    "start_time": "2024-01-13T13:39:00.297Z"
   },
   {
    "duration": 40,
    "start_time": "2024-01-13T13:39:00.306Z"
   },
   {
    "duration": 23,
    "start_time": "2024-01-13T13:39:00.347Z"
   },
   {
    "duration": 30,
    "start_time": "2024-01-13T13:39:00.372Z"
   },
   {
    "duration": 62,
    "start_time": "2024-01-13T13:39:00.403Z"
   },
   {
    "duration": 200,
    "start_time": "2024-01-13T13:39:00.558Z"
   },
   {
    "duration": 115,
    "start_time": "2024-01-13T13:39:00.760Z"
   },
   {
    "duration": 87,
    "start_time": "2024-01-13T13:39:00.878Z"
   },
   {
    "duration": 2,
    "start_time": "2024-01-13T13:39:01.057Z"
   },
   {
    "duration": 34,
    "start_time": "2024-01-13T13:39:01.060Z"
   },
   {
    "duration": 41,
    "start_time": "2024-01-13T13:39:01.095Z"
   },
   {
    "duration": 33,
    "start_time": "2024-01-13T13:39:01.138Z"
   },
   {
    "duration": 48,
    "start_time": "2024-01-13T13:39:01.172Z"
   },
   {
    "duration": 32,
    "start_time": "2024-01-13T13:39:01.222Z"
   },
   {
    "duration": 21,
    "start_time": "2024-01-13T13:39:01.255Z"
   },
   {
    "duration": 26,
    "start_time": "2024-01-13T13:39:01.277Z"
   },
   {
    "duration": 1968,
    "start_time": "2024-01-13T13:39:01.304Z"
   },
   {
    "duration": 542,
    "start_time": "2024-01-13T13:39:03.273Z"
   },
   {
    "duration": 7,
    "start_time": "2024-01-13T13:39:03.816Z"
   },
   {
    "duration": 2081,
    "start_time": "2024-01-13T13:39:03.825Z"
   },
   {
    "duration": 527,
    "start_time": "2024-01-13T13:39:05.908Z"
   },
   {
    "duration": 7,
    "start_time": "2024-01-13T13:39:06.436Z"
   },
   {
    "duration": 1898,
    "start_time": "2024-01-13T13:39:06.444Z"
   },
   {
    "duration": 527,
    "start_time": "2024-01-13T13:39:08.355Z"
   },
   {
    "duration": 7,
    "start_time": "2024-01-13T13:39:08.885Z"
   },
   {
    "duration": 6820,
    "start_time": "2024-01-13T13:41:34.125Z"
   },
   {
    "duration": 4,
    "start_time": "2024-01-13T13:41:40.947Z"
   },
   {
    "duration": 17,
    "start_time": "2024-01-13T13:41:40.953Z"
   },
   {
    "duration": 457,
    "start_time": "2024-01-13T13:41:40.971Z"
   },
   {
    "duration": 63,
    "start_time": "2024-01-13T13:41:41.430Z"
   },
   {
    "duration": 303,
    "start_time": "2024-01-13T13:41:41.494Z"
   },
   {
    "duration": 30,
    "start_time": "2024-01-13T13:41:41.799Z"
   },
   {
    "duration": 87,
    "start_time": "2024-01-13T13:41:41.830Z"
   },
   {
    "duration": 1819,
    "start_time": "2024-01-13T13:41:41.919Z"
   },
   {
    "duration": 17,
    "start_time": "2024-01-13T13:41:43.740Z"
   },
   {
    "duration": 17,
    "start_time": "2024-01-13T13:41:43.759Z"
   },
   {
    "duration": 1699,
    "start_time": "2024-01-13T13:41:43.778Z"
   },
   {
    "duration": 19,
    "start_time": "2024-01-13T13:41:45.479Z"
   },
   {
    "duration": 15,
    "start_time": "2024-01-13T13:41:45.501Z"
   },
   {
    "duration": 15,
    "start_time": "2024-01-13T13:41:45.517Z"
   },
   {
    "duration": 1954,
    "start_time": "2024-01-13T13:41:45.534Z"
   },
   {
    "duration": 7,
    "start_time": "2024-01-13T13:41:47.489Z"
   },
   {
    "duration": 16,
    "start_time": "2024-01-13T13:41:47.497Z"
   },
   {
    "duration": 18,
    "start_time": "2024-01-13T13:41:47.514Z"
   },
   {
    "duration": 40,
    "start_time": "2024-01-13T13:41:47.534Z"
   },
   {
    "duration": 88,
    "start_time": "2024-01-13T13:41:47.576Z"
   },
   {
    "duration": 103,
    "start_time": "2024-01-13T13:41:47.756Z"
   },
   {
    "duration": 115,
    "start_time": "2024-01-13T13:41:47.861Z"
   },
   {
    "duration": 80,
    "start_time": "2024-01-13T13:41:47.978Z"
   },
   {
    "duration": 3,
    "start_time": "2024-01-13T13:41:48.061Z"
   },
   {
    "duration": 95,
    "start_time": "2024-01-13T13:41:48.065Z"
   },
   {
    "duration": 11,
    "start_time": "2024-01-13T13:41:48.162Z"
   },
   {
    "duration": 9,
    "start_time": "2024-01-13T13:41:48.174Z"
   },
   {
    "duration": 11,
    "start_time": "2024-01-13T13:41:48.185Z"
   },
   {
    "duration": 12,
    "start_time": "2024-01-13T13:41:48.197Z"
   },
   {
    "duration": 47,
    "start_time": "2024-01-13T13:41:48.210Z"
   },
   {
    "duration": 4,
    "start_time": "2024-01-13T13:41:48.258Z"
   },
   {
    "duration": 1966,
    "start_time": "2024-01-13T13:41:48.263Z"
   },
   {
    "duration": 525,
    "start_time": "2024-01-13T13:41:50.230Z"
   },
   {
    "duration": 8,
    "start_time": "2024-01-13T13:41:50.757Z"
   },
   {
    "duration": 2032,
    "start_time": "2024-01-13T13:41:50.766Z"
   },
   {
    "duration": 511,
    "start_time": "2024-01-13T13:41:52.799Z"
   },
   {
    "duration": 7,
    "start_time": "2024-01-13T13:41:53.312Z"
   },
   {
    "duration": 1909,
    "start_time": "2024-01-13T13:41:53.320Z"
   },
   {
    "duration": 515,
    "start_time": "2024-01-13T13:41:55.231Z"
   },
   {
    "duration": 8,
    "start_time": "2024-01-13T13:41:55.755Z"
   },
   {
    "duration": 8,
    "start_time": "2024-01-13T13:44:18.129Z"
   },
   {
    "duration": 60,
    "start_time": "2024-01-13T13:45:42.020Z"
   },
   {
    "duration": 11,
    "start_time": "2024-01-13T13:46:13.580Z"
   },
   {
    "duration": 66,
    "start_time": "2024-01-13T13:46:33.203Z"
   },
   {
    "duration": 8,
    "start_time": "2024-01-13T13:46:44.645Z"
   },
   {
    "duration": 111,
    "start_time": "2024-01-13T13:48:46.956Z"
   },
   {
    "duration": 7034,
    "start_time": "2024-01-13T13:49:02.154Z"
   },
   {
    "duration": 4,
    "start_time": "2024-01-13T13:49:09.190Z"
   },
   {
    "duration": 18,
    "start_time": "2024-01-13T13:49:09.196Z"
   },
   {
    "duration": 485,
    "start_time": "2024-01-13T13:49:09.216Z"
   },
   {
    "duration": 70,
    "start_time": "2024-01-13T13:49:09.704Z"
   },
   {
    "duration": 324,
    "start_time": "2024-01-13T13:49:09.775Z"
   },
   {
    "duration": 33,
    "start_time": "2024-01-13T13:49:10.101Z"
   },
   {
    "duration": 92,
    "start_time": "2024-01-13T13:49:10.135Z"
   },
   {
    "duration": 1876,
    "start_time": "2024-01-13T13:49:10.228Z"
   },
   {
    "duration": 9,
    "start_time": "2024-01-13T13:49:12.105Z"
   },
   {
    "duration": 26,
    "start_time": "2024-01-13T13:49:12.115Z"
   },
   {
    "duration": 1673,
    "start_time": "2024-01-13T13:49:12.142Z"
   },
   {
    "duration": 14,
    "start_time": "2024-01-13T13:49:13.817Z"
   },
   {
    "duration": 27,
    "start_time": "2024-01-13T13:49:13.833Z"
   },
   {
    "duration": 17,
    "start_time": "2024-01-13T13:49:13.861Z"
   },
   {
    "duration": 2022,
    "start_time": "2024-01-13T13:49:13.880Z"
   },
   {
    "duration": 7,
    "start_time": "2024-01-13T13:49:15.904Z"
   },
   {
    "duration": 17,
    "start_time": "2024-01-13T13:49:15.913Z"
   },
   {
    "duration": 35,
    "start_time": "2024-01-13T13:49:15.931Z"
   },
   {
    "duration": 18,
    "start_time": "2024-01-13T13:49:15.968Z"
   },
   {
    "duration": 71,
    "start_time": "2024-01-13T13:49:15.988Z"
   },
   {
    "duration": 114,
    "start_time": "2024-01-13T13:49:16.061Z"
   },
   {
    "duration": 111,
    "start_time": "2024-01-13T13:49:16.257Z"
   },
   {
    "duration": 89,
    "start_time": "2024-01-13T13:49:16.370Z"
   },
   {
    "duration": 92,
    "start_time": "2024-01-13T13:49:16.464Z"
   },
   {
    "duration": 10,
    "start_time": "2024-01-13T13:49:16.558Z"
   },
   {
    "duration": 15,
    "start_time": "2024-01-13T13:49:16.569Z"
   },
   {
    "duration": 11,
    "start_time": "2024-01-13T13:49:16.586Z"
   },
   {
    "duration": 30,
    "start_time": "2024-01-13T13:49:16.599Z"
   },
   {
    "duration": 26,
    "start_time": "2024-01-13T13:49:16.630Z"
   },
   {
    "duration": 18,
    "start_time": "2024-01-13T13:49:16.657Z"
   },
   {
    "duration": 3,
    "start_time": "2024-01-13T13:49:16.677Z"
   },
   {
    "duration": 2142,
    "start_time": "2024-01-13T13:49:16.682Z"
   },
   {
    "duration": 516,
    "start_time": "2024-01-13T13:49:18.825Z"
   },
   {
    "duration": 21,
    "start_time": "2024-01-13T13:49:19.343Z"
   },
   {
    "duration": 0,
    "start_time": "2024-01-13T13:49:19.365Z"
   },
   {
    "duration": 0,
    "start_time": "2024-01-13T13:49:19.367Z"
   },
   {
    "duration": 0,
    "start_time": "2024-01-13T13:49:19.368Z"
   },
   {
    "duration": 0,
    "start_time": "2024-01-13T13:49:19.369Z"
   },
   {
    "duration": 0,
    "start_time": "2024-01-13T13:49:19.370Z"
   },
   {
    "duration": 0,
    "start_time": "2024-01-13T13:49:19.371Z"
   },
   {
    "duration": 12,
    "start_time": "2024-01-13T13:49:59.640Z"
   },
   {
    "duration": 13,
    "start_time": "2024-01-13T13:51:57.897Z"
   },
   {
    "duration": 3,
    "start_time": "2024-01-13T13:52:42.729Z"
   },
   {
    "duration": 7,
    "start_time": "2024-01-13T13:52:55.038Z"
   },
   {
    "duration": 6936,
    "start_time": "2024-01-13T13:52:59.106Z"
   },
   {
    "duration": 4,
    "start_time": "2024-01-13T13:53:06.044Z"
   },
   {
    "duration": 19,
    "start_time": "2024-01-13T13:53:06.050Z"
   },
   {
    "duration": 463,
    "start_time": "2024-01-13T13:53:06.070Z"
   },
   {
    "duration": 64,
    "start_time": "2024-01-13T13:53:06.535Z"
   },
   {
    "duration": 312,
    "start_time": "2024-01-13T13:53:06.600Z"
   },
   {
    "duration": 67,
    "start_time": "2024-01-13T13:53:06.914Z"
   },
   {
    "duration": 87,
    "start_time": "2024-01-13T13:53:06.982Z"
   },
   {
    "duration": 1824,
    "start_time": "2024-01-13T13:53:07.070Z"
   },
   {
    "duration": 8,
    "start_time": "2024-01-13T13:53:08.895Z"
   },
   {
    "duration": 16,
    "start_time": "2024-01-13T13:53:08.905Z"
   },
   {
    "duration": 1775,
    "start_time": "2024-01-13T13:53:08.923Z"
   },
   {
    "duration": 13,
    "start_time": "2024-01-13T13:53:10.700Z"
   },
   {
    "duration": 8,
    "start_time": "2024-01-13T13:53:10.716Z"
   },
   {
    "duration": 34,
    "start_time": "2024-01-13T13:53:10.726Z"
   },
   {
    "duration": 2026,
    "start_time": "2024-01-13T13:53:10.761Z"
   },
   {
    "duration": 7,
    "start_time": "2024-01-13T13:53:12.789Z"
   },
   {
    "duration": 17,
    "start_time": "2024-01-13T13:53:12.797Z"
   },
   {
    "duration": 17,
    "start_time": "2024-01-13T13:53:12.815Z"
   },
   {
    "duration": 18,
    "start_time": "2024-01-13T13:53:12.856Z"
   },
   {
    "duration": 86,
    "start_time": "2024-01-13T13:53:12.875Z"
   },
   {
    "duration": 195,
    "start_time": "2024-01-13T13:53:12.962Z"
   },
   {
    "duration": 120,
    "start_time": "2024-01-13T13:53:13.159Z"
   },
   {
    "duration": 74,
    "start_time": "2024-01-13T13:53:13.284Z"
   },
   {
    "duration": 4,
    "start_time": "2024-01-13T13:53:13.361Z"
   },
   {
    "duration": 5,
    "start_time": "2024-01-13T13:53:13.457Z"
   },
   {
    "duration": 13,
    "start_time": "2024-01-13T13:53:13.463Z"
   },
   {
    "duration": 10,
    "start_time": "2024-01-13T13:53:13.477Z"
   },
   {
    "duration": 10,
    "start_time": "2024-01-13T13:53:13.489Z"
   },
   {
    "duration": 11,
    "start_time": "2024-01-13T13:53:13.500Z"
   },
   {
    "duration": 48,
    "start_time": "2024-01-13T13:53:13.512Z"
   },
   {
    "duration": 4,
    "start_time": "2024-01-13T13:53:13.561Z"
   },
   {
    "duration": 1925,
    "start_time": "2024-01-13T13:53:13.566Z"
   },
   {
    "duration": 545,
    "start_time": "2024-01-13T13:53:15.493Z"
   },
   {
    "duration": 7,
    "start_time": "2024-01-13T13:53:16.039Z"
   },
   {
    "duration": 2254,
    "start_time": "2024-01-13T13:53:16.055Z"
   },
   {
    "duration": 527,
    "start_time": "2024-01-13T13:53:18.310Z"
   },
   {
    "duration": 18,
    "start_time": "2024-01-13T13:53:18.838Z"
   },
   {
    "duration": 0,
    "start_time": "2024-01-13T13:53:18.858Z"
   },
   {
    "duration": 0,
    "start_time": "2024-01-13T13:53:18.859Z"
   },
   {
    "duration": 0,
    "start_time": "2024-01-13T13:53:18.860Z"
   },
   {
    "duration": 6,
    "start_time": "2024-01-13T13:53:35.167Z"
   },
   {
    "duration": 7,
    "start_time": "2024-01-13T13:53:40.160Z"
   },
   {
    "duration": 9476,
    "start_time": "2024-04-09T06:03:36.265Z"
   },
   {
    "duration": 1791,
    "start_time": "2024-04-09T06:03:45.743Z"
   },
   {
    "duration": 17,
    "start_time": "2024-04-09T06:03:47.535Z"
   },
   {
    "duration": 1741,
    "start_time": "2024-04-09T06:03:47.554Z"
   },
   {
    "duration": 73,
    "start_time": "2024-04-09T06:03:49.298Z"
   },
   {
    "duration": 398,
    "start_time": "2024-04-09T06:03:49.376Z"
   },
   {
    "duration": 42,
    "start_time": "2024-04-09T06:03:49.778Z"
   },
   {
    "duration": 100,
    "start_time": "2024-04-09T06:03:49.821Z"
   },
   {
    "duration": 3226,
    "start_time": "2024-04-09T06:03:49.922Z"
   },
   {
    "duration": 23,
    "start_time": "2024-04-09T06:03:53.150Z"
   },
   {
    "duration": 30,
    "start_time": "2024-04-09T06:03:53.179Z"
   },
   {
    "duration": 2126,
    "start_time": "2024-04-09T06:03:53.214Z"
   },
   {
    "duration": 39,
    "start_time": "2024-04-09T06:03:55.342Z"
   },
   {
    "duration": 9,
    "start_time": "2024-04-09T06:03:55.389Z"
   },
   {
    "duration": 16,
    "start_time": "2024-04-09T06:03:55.400Z"
   },
   {
    "duration": 2417,
    "start_time": "2024-04-09T06:03:55.418Z"
   },
   {
    "duration": 8,
    "start_time": "2024-04-09T06:03:57.837Z"
   },
   {
    "duration": 53,
    "start_time": "2024-04-09T06:03:57.846Z"
   },
   {
    "duration": 18,
    "start_time": "2024-04-09T06:03:57.901Z"
   },
   {
    "duration": 17,
    "start_time": "2024-04-09T06:03:57.920Z"
   },
   {
    "duration": 132,
    "start_time": "2024-04-09T06:03:57.939Z"
   },
   {
    "duration": 201,
    "start_time": "2024-04-09T06:03:58.075Z"
   },
   {
    "duration": 284,
    "start_time": "2024-04-09T06:03:58.282Z"
   },
   {
    "duration": 7,
    "start_time": "2024-04-09T06:03:58.569Z"
   },
   {
    "duration": 81,
    "start_time": "2024-04-09T06:03:58.582Z"
   },
   {
    "duration": 10,
    "start_time": "2024-04-09T06:03:58.665Z"
   },
   {
    "duration": 11,
    "start_time": "2024-04-09T06:03:58.680Z"
   },
   {
    "duration": 11,
    "start_time": "2024-04-09T06:03:58.692Z"
   },
   {
    "duration": 13,
    "start_time": "2024-04-09T06:03:58.704Z"
   },
   {
    "duration": 50,
    "start_time": "2024-04-09T06:03:58.719Z"
   },
   {
    "duration": 20,
    "start_time": "2024-04-09T06:03:58.774Z"
   },
   {
    "duration": 13,
    "start_time": "2024-04-09T06:03:58.796Z"
   },
   {
    "duration": 2302,
    "start_time": "2024-04-09T06:03:58.811Z"
   },
   {
    "duration": 644,
    "start_time": "2024-04-09T06:04:01.114Z"
   },
   {
    "duration": 15,
    "start_time": "2024-04-09T06:04:01.767Z"
   },
   {
    "duration": 2323,
    "start_time": "2024-04-09T06:04:01.784Z"
   },
   {
    "duration": 607,
    "start_time": "2024-04-09T06:04:04.108Z"
   },
   {
    "duration": 7,
    "start_time": "2024-04-09T06:04:04.717Z"
   },
   {
    "duration": 2184,
    "start_time": "2024-04-09T06:04:04.725Z"
   },
   {
    "duration": 609,
    "start_time": "2024-04-09T06:04:06.910Z"
   },
   {
    "duration": 7,
    "start_time": "2024-04-09T06:04:07.523Z"
   }
  ],
  "kernelspec": {
   "display_name": "Python 3 (ipykernel)",
   "language": "python",
   "name": "python3"
  },
  "language_info": {
   "codemirror_mode": {
    "name": "ipython",
    "version": 3
   },
   "file_extension": ".py",
   "mimetype": "text/x-python",
   "name": "python",
   "nbconvert_exporter": "python",
   "pygments_lexer": "ipython3",
   "version": "3.9.5"
  },
  "toc": {
   "base_numbering": 1,
   "nav_menu": {},
   "number_sections": true,
   "sideBar": true,
   "skip_h1_title": true,
   "title_cell": "Table of Contents",
   "title_sidebar": "Contents",
   "toc_cell": false,
   "toc_position": {
    "height": "calc(100% - 180px)",
    "left": "10px",
    "top": "150px",
    "width": "340.341px"
   },
   "toc_section_display": true,
   "toc_window_display": true
  }
 },
 "nbformat": 4,
 "nbformat_minor": 4
}
