{
 "cells": [
  {
   "cell_type": "markdown",
   "id": "8a4ac48b-8309-417a-8494-ddaa6341407e",
   "metadata": {},
   "source": [
    "# Оценка стоимости автомобилей"
   ]
  },
  {
   "cell_type": "markdown",
   "id": "a6798b08-da4c-4437-b6b1-f7d71ef1b901",
   "metadata": {},
   "source": [
    "## Описание проетка"
   ]
  },
  {
   "cell_type": "markdown",
   "id": "fed570ed-6675-4f4f-beee-2e86af63af89",
   "metadata": {},
   "source": [
    "Компания \"Не бит, не крашен\" занимается продажей автомобилей и решила привлечь новых клиентов с помощью создания новой функции. Ее задача предсказывать примерную стоимость автомобиля на основе вводимых пользователем характеристик. Для этого необходимо построить и обучить модель, соответствующую требованиям заказчика, которые включают в себя качество предсказания, время обучения модели и время предсказания модели."
   ]
  },
  {
   "cell_type": "markdown",
   "id": "fa015756-6388-47ea-a267-e1716162ae45",
   "metadata": {},
   "source": [
    "## Описание данных"
   ]
  },
  {
   "cell_type": "markdown",
   "id": "b88046b2-6e3e-4a36-a67a-fa820d6692f3",
   "metadata": {},
   "source": [
    "Данные предоставили в файле с одной таблицей - /datasets/autos.csv.  \n",
    "Рассмотрим его признаки:\n",
    "* DateCrawled — дата скачивания анкеты из базы\n",
    "* VehicleType — тип автомобильного кузова\n",
    "* RegistrationYear — год регистрации автомобиля\n",
    "* Gearbox — тип коробки передач\n",
    "* Power — мощность (л. с.)\n",
    "* Model — модель автомобиля\n",
    "* Kilometer — пробег (км)\n",
    "* RegistrationMonth — месяц регистрации автомобиля\n",
    "* FuelType — тип топлива\n",
    "* Brand — марка автомобиля\n",
    "* Repaired — была машина в ремонте или нет\n",
    "* DateCreated — дата создания анкеты\n",
    "* NumberOfPictures — количество фотографий автомобиля\n",
    "* PostalCode — почтовый индекс владельца анкеты (пользователя)\n",
    "* LastSeen — дата последней активности пользователя\n",
    "* Price — цена (евро). ***Целевой признак***"
   ]
  },
  {
   "cell_type": "markdown",
   "id": "87eaef4e-83e5-471b-a87d-45847600ec51",
   "metadata": {},
   "source": [
    "## Задача проекта"
   ]
  },
  {
   "cell_type": "markdown",
   "id": "2130f8ac-ef92-471e-b9df-99566fdb85e7",
   "metadata": {},
   "source": [
    "На основе имеющихся данных требуется разработать модель, способную прогнозировать цену автомобиля на основе его характеристик. Это обеспечит удобство при продаже или покупке автомобилей и поспособствует привлечению новых клиентов"
   ]
  },
  {
   "cell_type": "markdown",
   "id": "86e53efa-9c22-4784-a915-0b8663b0bfbc",
   "metadata": {},
   "source": [
    "## Установка и импорт библиотек"
   ]
  },
  {
   "cell_type": "code",
   "execution_count": 1,
   "id": "f5dec700-9347-41ed-a474-a8d51fc754b7",
   "metadata": {},
   "outputs": [
    {
     "name": "stdout",
     "output_type": "stream",
     "text": [
      "Requirement already satisfied: pandas in /opt/conda/lib/python3.9/site-packages (1.2.4)\n",
      "Requirement already satisfied: python-dateutil>=2.7.3 in /opt/conda/lib/python3.9/site-packages (from pandas) (2.8.1)\n",
      "Requirement already satisfied: pytz>=2017.3 in /opt/conda/lib/python3.9/site-packages (from pandas) (2021.1)\n",
      "Requirement already satisfied: numpy>=1.16.5 in /opt/conda/lib/python3.9/site-packages (from pandas) (1.21.1)\n",
      "Requirement already satisfied: six>=1.5 in /opt/conda/lib/python3.9/site-packages (from python-dateutil>=2.7.3->pandas) (1.16.0)\n",
      "Name: numpy\n",
      "Version: 1.21.1\n",
      "Summary: NumPy is the fundamental package for array computing with Python.\n",
      "Home-page: https://www.numpy.org\n",
      "Author: Travis E. Oliphant et al.\n",
      "Author-email: None\n",
      "License: BSD\n",
      "Location: /opt/conda/lib/python3.9/site-packages\n",
      "Requires: \n",
      "Required-by: xgboost, transformers, thinc, tensorflow-cpu, tensorboard, statsmodels, spacy, seaborn, scipy, scikit-learn, pyod, pyarrow, patsy, pandas, opt-einsum, numba, matplotlib, lightgbm, Keras-Preprocessing, h5py, gensim, folium, catboost, blis\n",
      "Requirement already satisfied: scikit-learn in /opt/conda/lib/python3.9/site-packages (1.4.1.post1)\n",
      "Requirement already satisfied: joblib>=1.2.0 in /opt/conda/lib/python3.9/site-packages (from scikit-learn) (1.3.2)\n",
      "Requirement already satisfied: threadpoolctl>=2.0.0 in /opt/conda/lib/python3.9/site-packages (from scikit-learn) (3.1.0)\n",
      "Requirement already satisfied: numpy<2.0,>=1.19.5 in /opt/conda/lib/python3.9/site-packages (from scikit-learn) (1.21.1)\n",
      "Requirement already satisfied: scipy>=1.6.0 in /opt/conda/lib/python3.9/site-packages (from scikit-learn) (1.9.1)\n",
      "Requirement already satisfied: lightgbm in /opt/conda/lib/python3.9/site-packages (3.3.1)\n",
      "Requirement already satisfied: numpy in /opt/conda/lib/python3.9/site-packages (from lightgbm) (1.21.1)\n",
      "Requirement already satisfied: wheel in /opt/conda/lib/python3.9/site-packages (from lightgbm) (0.36.2)\n",
      "Requirement already satisfied: scipy in /opt/conda/lib/python3.9/site-packages (from lightgbm) (1.9.1)\n",
      "Requirement already satisfied: scikit-learn!=0.22.0 in /opt/conda/lib/python3.9/site-packages (from lightgbm) (1.4.1.post1)\n",
      "Requirement already satisfied: threadpoolctl>=2.0.0 in /opt/conda/lib/python3.9/site-packages (from scikit-learn!=0.22.0->lightgbm) (3.1.0)\n",
      "Requirement already satisfied: joblib>=1.2.0 in /opt/conda/lib/python3.9/site-packages (from scikit-learn!=0.22.0->lightgbm) (1.3.2)\n"
     ]
    }
   ],
   "source": [
    "!pip install pandas\n",
    "!pip show numpy\n",
    "!pip install -U scikit-learn\n",
    "!pip install lightgbm"
   ]
  },
  {
   "cell_type": "code",
   "execution_count": 2,
   "id": "efbbe70f-0ac7-493b-8770-af9b764d3a52",
   "metadata": {},
   "outputs": [],
   "source": [
    "import pandas as pd\n",
    "import numpy as np\n",
    "import matplotlib.pyplot as plt\n",
    "import seaborn as sns\n",
    "from sklearn.tree import DecisionTreeRegressor\n",
    "from sklearn.metrics import mean_squared_error\n",
    "from sklearn.model_selection import train_test_split, GridSearchCV\n",
    "from sklearn.preprocessing import StandardScaler, OneHotEncoder\n",
    "from sklearn.preprocessing import OrdinalEncoder\n",
    "from sklearn.linear_model import LinearRegression\n",
    "import scipy as sp\n",
    "from sklearn.model_selection import cross_val_score\n",
    "from sklearn.model_selection import  KFold\n",
    "from sklearn.metrics import make_scorer, mean_squared_error\n",
    "from lightgbm import LGBMRegressor\n",
    "import time\n",
    "from sklearn.dummy import DummyRegressor"
   ]
  },
  {
   "cell_type": "markdown",
   "id": "31c0143c-8e12-4e1d-bd50-e836ef196a63",
   "metadata": {},
   "source": [
    "## Используемые функции"
   ]
  },
  {
   "cell_type": "code",
   "execution_count": 3,
   "id": "fea90091-76cb-4c01-9571-9a4bb801c63b",
   "metadata": {},
   "outputs": [],
   "source": [
    "# Вывод различной информации о таблице\n",
    "def analiz(df, cat_per):\n",
    "    df.info()\n",
    "    print()\n",
    "    display(df.describe())\n",
    "    print()\n",
    "    print('Кол-во пропусков в таблице')\n",
    "    display(df.isna().sum())\n",
    "    print()\n",
    "    print('Кол-во дубликатов в таблице')\n",
    "    display(df.duplicated().sum())\n",
    "    print()\n",
    "    print('Проверка на неявные дубликаты')\n",
    "    if len(cat_per) == 0:\n",
    "        print('Нечего проверять')\n",
    "    for i in cat_per:\n",
    "        print(i, df[i].unique())\n",
    "        print()\n",
    "\n",
    "\n",
    "# Оптимизация числовых типов данных\n",
    "def optimize_memory_usage(df: pd.DataFrame, print_size: bool=True) -> pd.DataFrame:\n",
    "    numerics = ['int16', 'int32', 'int64', 'float16', 'float32', 'float64'] # Типы, которые будем проверять на оптимизацию\n",
    "    # Размер занимаемой памяти до оптимизации (в Мб)\n",
    "    before_size = df.memory_usage().sum() / 1024**2    \n",
    "    for column in df.columns:\n",
    "        column_type = df[column].dtypes\n",
    "        if column_type in numerics:\n",
    "            column_min = df[column].min()\n",
    "            column_max = df[column].max()\n",
    "            if str(column_type).startswith('int'):\n",
    "                if column_min > np.iinfo(np.int8).min and column_max < np.iinfo(np.int8).max:\n",
    "                    df[column] = df[column].astype(np.int8)\n",
    "                elif column_min > np.iinfo(np.int16).min and column_max < np.iinfo(np.int16).max:\n",
    "                    df[column] = df[column].astype(np.int16)\n",
    "                elif column_min > np.iinfo(np.int32).min and column_max < np.iinfo(np.int32).max:\n",
    "                    df[column] = df[column].astype(np.int32)\n",
    "                elif column_min > np.iinfo(np.int64).min and column_max < np.iinfo(np.int64).max:\n",
    "                    df[column] = df[column].astype(np.int64)  \n",
    "            else:\n",
    "                if column_min > np.finfo(np.float32).min and column_max < np.finfo(np.float32).max:\n",
    "                    df[column] = df[column].astype(np.float32)\n",
    "                else:\n",
    "                    df[column] = df[column].astype(np.float64)    \n",
    "    # Размер занимаемой памяти после оптимизации (в Мб)\n",
    "    after_size = df.memory_usage().sum() / 1024**2\n",
    "    if print_size: print('Размер использования памяти: до {:5.2f} Mb - после {:5.2f} Mb ({:.1f}%)'\n",
    "                         .format(before_size, after_size, 100 * (before_size - after_size) / before_size))\n",
    "    return df\n",
    "\n",
    "\n",
    "\n",
    "# Функция для построения гистограмм и ящиков с усами для каждого признака\n",
    "def numbers_plot(df, param_hue):\n",
    "    sns.set(font_scale=1.2)\n",
    "    numerical_columns = df.select_dtypes(include='number').columns\n",
    "    fig, axs = plt.subplots(len(numerical_columns), 2, figsize=(11, 14))\n",
    "    \n",
    "    for i in range(len(numerical_columns)):\n",
    "        column = numerical_columns[i]\n",
    "        if column in ['registration_month']:\n",
    "            sns.countplot(data = df, x = column, ax = axs[i, 0])\n",
    "            axs[i, 0].set_title(column)\n",
    "        else:\n",
    "            sns.histplot(data = df, x = column, hue=param_hue, ax = axs[i, 0], stat='density', common_norm=False)\n",
    "            axs[i, 0].set_title(column)\n",
    "        \n",
    "        sns.boxplot(x = df[column], ax = axs[i, 1])\n",
    "        axs[i, 1].set_title(column)\n",
    "    \n",
    "    plt.tight_layout()\n",
    "    plt.show()\n",
    "\n",
    "\n",
    "# Функция для расчета границ выбросов\n",
    "def borders(df, column):\n",
    "    # Рассчитаем первый и третий квантили\n",
    "    Q1 = df[column].quantile(0.25)\n",
    "    Q3 = df[column].quantile(0.75)\n",
    "    # Межквартальный размах\n",
    "    dQ = Q3 - Q1\n",
    "    # Границы выбросов\n",
    "    Q1_del = Q1 - dQ * 1.5\n",
    "    print('Нижняя граница выбросов: ', Q1_del)\n",
    "    Q3_del = Q3 + dQ * 1.5\n",
    "    print('Верхняя граница выбросов: ', Q3_del)\n",
    "\n",
    "\n",
    "\n",
    "# Изображает категориальные признаки в виде столбчатых диаграмм\n",
    "def kategory_col(df, columns):\n",
    "    sns.set(style='whitegrid')\n",
    "    sns.set_palette('pastel')\n",
    "    for column in columns:\n",
    "        count = len(autos[column].unique())\n",
    "        if count > 20:\n",
    "            plt.figure(figsize=(4, 4))\n",
    "            df[column].value_counts().head().plot(kind='pie', autopct='%1.0f%%')\n",
    "            plt.title(f\"Распределение Топ-5 категорий у {column}\")\n",
    "            plt.show()\n",
    "        else:\n",
    "            plt.figure(figsize=(4, 4))\n",
    "            df[column].value_counts().plot(kind='pie', autopct='%1.0f%%')\n",
    "            plt.title(column)\n",
    "            plt.show()"
   ]
  },
  {
   "cell_type": "markdown",
   "id": "4465c2ed-0d0c-41ef-98ec-975dc3214cc7",
   "metadata": {},
   "source": [
    "## Загрузка данных"
   ]
  },
  {
   "cell_type": "markdown",
   "id": "99b904e1-475f-4ed3-92b2-577268e35aa8",
   "metadata": {},
   "source": [
    "Посмотрим на данные, которые нам предоставили"
   ]
  },
  {
   "cell_type": "code",
   "execution_count": 4,
   "id": "59d3693a-b03d-4464-aea1-6534afc65146",
   "metadata": {},
   "outputs": [
    {
     "data": {
      "text/html": [
       "<div>\n",
       "<style scoped>\n",
       "    .dataframe tbody tr th:only-of-type {\n",
       "        vertical-align: middle;\n",
       "    }\n",
       "\n",
       "    .dataframe tbody tr th {\n",
       "        vertical-align: top;\n",
       "    }\n",
       "\n",
       "    .dataframe thead th {\n",
       "        text-align: right;\n",
       "    }\n",
       "</style>\n",
       "<table border=\"1\" class=\"dataframe\">\n",
       "  <thead>\n",
       "    <tr style=\"text-align: right;\">\n",
       "      <th></th>\n",
       "      <th>DateCrawled</th>\n",
       "      <th>Price</th>\n",
       "      <th>VehicleType</th>\n",
       "      <th>RegistrationYear</th>\n",
       "      <th>Gearbox</th>\n",
       "      <th>Power</th>\n",
       "      <th>Model</th>\n",
       "      <th>Kilometer</th>\n",
       "      <th>RegistrationMonth</th>\n",
       "      <th>FuelType</th>\n",
       "      <th>Brand</th>\n",
       "      <th>Repaired</th>\n",
       "      <th>DateCreated</th>\n",
       "      <th>NumberOfPictures</th>\n",
       "      <th>PostalCode</th>\n",
       "      <th>LastSeen</th>\n",
       "    </tr>\n",
       "  </thead>\n",
       "  <tbody>\n",
       "    <tr>\n",
       "      <th>0</th>\n",
       "      <td>2016-03-24 11:52:17</td>\n",
       "      <td>480</td>\n",
       "      <td>NaN</td>\n",
       "      <td>1993</td>\n",
       "      <td>manual</td>\n",
       "      <td>0</td>\n",
       "      <td>golf</td>\n",
       "      <td>150000</td>\n",
       "      <td>0</td>\n",
       "      <td>petrol</td>\n",
       "      <td>volkswagen</td>\n",
       "      <td>NaN</td>\n",
       "      <td>2016-03-24 00:00:00</td>\n",
       "      <td>0</td>\n",
       "      <td>70435</td>\n",
       "      <td>2016-04-07 03:16:57</td>\n",
       "    </tr>\n",
       "    <tr>\n",
       "      <th>1</th>\n",
       "      <td>2016-03-24 10:58:45</td>\n",
       "      <td>18300</td>\n",
       "      <td>coupe</td>\n",
       "      <td>2011</td>\n",
       "      <td>manual</td>\n",
       "      <td>190</td>\n",
       "      <td>NaN</td>\n",
       "      <td>125000</td>\n",
       "      <td>5</td>\n",
       "      <td>gasoline</td>\n",
       "      <td>audi</td>\n",
       "      <td>yes</td>\n",
       "      <td>2016-03-24 00:00:00</td>\n",
       "      <td>0</td>\n",
       "      <td>66954</td>\n",
       "      <td>2016-04-07 01:46:50</td>\n",
       "    </tr>\n",
       "    <tr>\n",
       "      <th>2</th>\n",
       "      <td>2016-03-14 12:52:21</td>\n",
       "      <td>9800</td>\n",
       "      <td>suv</td>\n",
       "      <td>2004</td>\n",
       "      <td>auto</td>\n",
       "      <td>163</td>\n",
       "      <td>grand</td>\n",
       "      <td>125000</td>\n",
       "      <td>8</td>\n",
       "      <td>gasoline</td>\n",
       "      <td>jeep</td>\n",
       "      <td>NaN</td>\n",
       "      <td>2016-03-14 00:00:00</td>\n",
       "      <td>0</td>\n",
       "      <td>90480</td>\n",
       "      <td>2016-04-05 12:47:46</td>\n",
       "    </tr>\n",
       "    <tr>\n",
       "      <th>3</th>\n",
       "      <td>2016-03-17 16:54:04</td>\n",
       "      <td>1500</td>\n",
       "      <td>small</td>\n",
       "      <td>2001</td>\n",
       "      <td>manual</td>\n",
       "      <td>75</td>\n",
       "      <td>golf</td>\n",
       "      <td>150000</td>\n",
       "      <td>6</td>\n",
       "      <td>petrol</td>\n",
       "      <td>volkswagen</td>\n",
       "      <td>no</td>\n",
       "      <td>2016-03-17 00:00:00</td>\n",
       "      <td>0</td>\n",
       "      <td>91074</td>\n",
       "      <td>2016-03-17 17:40:17</td>\n",
       "    </tr>\n",
       "    <tr>\n",
       "      <th>4</th>\n",
       "      <td>2016-03-31 17:25:20</td>\n",
       "      <td>3600</td>\n",
       "      <td>small</td>\n",
       "      <td>2008</td>\n",
       "      <td>manual</td>\n",
       "      <td>69</td>\n",
       "      <td>fabia</td>\n",
       "      <td>90000</td>\n",
       "      <td>7</td>\n",
       "      <td>gasoline</td>\n",
       "      <td>skoda</td>\n",
       "      <td>no</td>\n",
       "      <td>2016-03-31 00:00:00</td>\n",
       "      <td>0</td>\n",
       "      <td>60437</td>\n",
       "      <td>2016-04-06 10:17:21</td>\n",
       "    </tr>\n",
       "  </tbody>\n",
       "</table>\n",
       "</div>"
      ],
      "text/plain": [
       "           DateCrawled  Price VehicleType  RegistrationYear Gearbox  Power  \\\n",
       "0  2016-03-24 11:52:17    480         NaN              1993  manual      0   \n",
       "1  2016-03-24 10:58:45  18300       coupe              2011  manual    190   \n",
       "2  2016-03-14 12:52:21   9800         suv              2004    auto    163   \n",
       "3  2016-03-17 16:54:04   1500       small              2001  manual     75   \n",
       "4  2016-03-31 17:25:20   3600       small              2008  manual     69   \n",
       "\n",
       "   Model  Kilometer  RegistrationMonth  FuelType       Brand Repaired  \\\n",
       "0   golf     150000                  0    petrol  volkswagen      NaN   \n",
       "1    NaN     125000                  5  gasoline        audi      yes   \n",
       "2  grand     125000                  8  gasoline        jeep      NaN   \n",
       "3   golf     150000                  6    petrol  volkswagen       no   \n",
       "4  fabia      90000                  7  gasoline       skoda       no   \n",
       "\n",
       "           DateCreated  NumberOfPictures  PostalCode             LastSeen  \n",
       "0  2016-03-24 00:00:00                 0       70435  2016-04-07 03:16:57  \n",
       "1  2016-03-24 00:00:00                 0       66954  2016-04-07 01:46:50  \n",
       "2  2016-03-14 00:00:00                 0       90480  2016-04-05 12:47:46  \n",
       "3  2016-03-17 00:00:00                 0       91074  2016-03-17 17:40:17  \n",
       "4  2016-03-31 00:00:00                 0       60437  2016-04-06 10:17:21  "
      ]
     },
     "metadata": {},
     "output_type": "display_data"
    },
    {
     "data": {
      "text/plain": [
       "\"\\ntry:\\n    autos = pd.read_csv('autos.csv')\\n    display(autos.head())\\nexcept:\\n    autos = pd.read_csv('/datasets/autos.csv')\\n    display(autos.head())\\n\""
      ]
     },
     "execution_count": 4,
     "metadata": {},
     "output_type": "execute_result"
    }
   ],
   "source": [
    "import os\n",
    "\n",
    "dtf1 = 'autos.csv'\n",
    "dtf2 = '/datasets/autos.csv'\n",
    "\n",
    "if os.path.exists(dtf1):\n",
    "    autos = pd.read_csv(dtf1)\n",
    "    display(autos.head())\n",
    "elif os.path.exists(dtf2):\n",
    "    autos = pd.read_csv(dtf2)\n",
    "    display(autos.head())\n",
    "else:\n",
    "    print('file read error')\n",
    "\n",
    "'''\n",
    "try:\n",
    "    autos = pd.read_csv('autos.csv')\n",
    "    display(autos.head())\n",
    "except:\n",
    "    autos = pd.read_csv('/datasets/autos.csv')\n",
    "    display(autos.head())\n",
    "'''"
   ]
  },
  {
   "cell_type": "markdown",
   "id": "0cb18926-5e73-4cc3-a155-52464d85db3e",
   "metadata": {},
   "source": [
    "На первый взгляд можно подчеркнуть, что названия признаков с большой буквы. Лучше их привести к нижнему регистру. В некоторых столбцах уже видны пропуски. Имеются странные нули в некоторых столбцах, как Power, RegistrationMonth и возможно еще. Видимо это пропуски, которые сделали, чтобы столбик не был типа object. Такие данные можно считать неинформативными. Нас предупреждали, что такое возможно и их нужно будет удалить"
   ]
  },
  {
   "cell_type": "markdown",
   "id": "33a41da7-bfd0-493a-af65-4b02c53f7733",
   "metadata": {},
   "source": [
    "## Предобработка данных"
   ]
  },
  {
   "cell_type": "markdown",
   "id": "2563f36e-675e-49d1-9007-69248355aedd",
   "metadata": {},
   "source": [
    "Для начала приведем к нижнему регистру названия столбиков и заменим слитное написание раздельных слов на _"
   ]
  },
  {
   "cell_type": "code",
   "execution_count": 5,
   "id": "b2ab4ce2-f29c-4a33-b5cc-e722837d7397",
   "metadata": {},
   "outputs": [
    {
     "data": {
      "text/plain": [
       "Index(['date_crawled', 'price', 'vehicle_type', 'registration_year', 'gearbox',\n",
       "       'power', 'model', 'kilometer', 'registration_month', 'fuel_type',\n",
       "       'brand', 'repaired', 'date_created', 'number_of_pictures',\n",
       "       'postal_code', 'lastseen'],\n",
       "      dtype='object')"
      ]
     },
     "execution_count": 5,
     "metadata": {},
     "output_type": "execute_result"
    }
   ],
   "source": [
    "autos.columns = autos.columns.str.lower()\n",
    "autos.columns = ['date_crawled', 'price', 'vehicle_type', 'registration_year', 'gearbox',\n",
    "       'power', 'model', 'kilometer', 'registration_month', 'fuel_type', 'brand',\n",
    "       'repaired', 'date_created', 'number_of_pictures', 'postal_code',\n",
    "       'lastseen']\n",
    "autos.columns"
   ]
  },
  {
   "cell_type": "markdown",
   "id": "779c74cc-91f1-4344-8b05-532862cfb79b",
   "metadata": {},
   "source": [
    "Теперь посмотрим на информацию, типы столбцов, пропуски и дубликаты. таблицы с помощью функции analiz"
   ]
  },
  {
   "cell_type": "code",
   "execution_count": 6,
   "id": "85d5e3cc-65cc-4fd8-92c7-708a07189ea0",
   "metadata": {},
   "outputs": [
    {
     "name": "stdout",
     "output_type": "stream",
     "text": [
      "<class 'pandas.core.frame.DataFrame'>\n",
      "RangeIndex: 354369 entries, 0 to 354368\n",
      "Data columns (total 16 columns):\n",
      " #   Column              Non-Null Count   Dtype \n",
      "---  ------              --------------   ----- \n",
      " 0   date_crawled        354369 non-null  object\n",
      " 1   price               354369 non-null  int64 \n",
      " 2   vehicle_type        316879 non-null  object\n",
      " 3   registration_year   354369 non-null  int64 \n",
      " 4   gearbox             334536 non-null  object\n",
      " 5   power               354369 non-null  int64 \n",
      " 6   model               334664 non-null  object\n",
      " 7   kilometer           354369 non-null  int64 \n",
      " 8   registration_month  354369 non-null  int64 \n",
      " 9   fuel_type           321474 non-null  object\n",
      " 10  brand               354369 non-null  object\n",
      " 11  repaired            283215 non-null  object\n",
      " 12  date_created        354369 non-null  object\n",
      " 13  number_of_pictures  354369 non-null  int64 \n",
      " 14  postal_code         354369 non-null  int64 \n",
      " 15  lastseen            354369 non-null  object\n",
      "dtypes: int64(7), object(9)\n",
      "memory usage: 43.3+ MB\n",
      "\n"
     ]
    },
    {
     "data": {
      "text/html": [
       "<div>\n",
       "<style scoped>\n",
       "    .dataframe tbody tr th:only-of-type {\n",
       "        vertical-align: middle;\n",
       "    }\n",
       "\n",
       "    .dataframe tbody tr th {\n",
       "        vertical-align: top;\n",
       "    }\n",
       "\n",
       "    .dataframe thead th {\n",
       "        text-align: right;\n",
       "    }\n",
       "</style>\n",
       "<table border=\"1\" class=\"dataframe\">\n",
       "  <thead>\n",
       "    <tr style=\"text-align: right;\">\n",
       "      <th></th>\n",
       "      <th>price</th>\n",
       "      <th>registration_year</th>\n",
       "      <th>power</th>\n",
       "      <th>kilometer</th>\n",
       "      <th>registration_month</th>\n",
       "      <th>number_of_pictures</th>\n",
       "      <th>postal_code</th>\n",
       "    </tr>\n",
       "  </thead>\n",
       "  <tbody>\n",
       "    <tr>\n",
       "      <th>count</th>\n",
       "      <td>354369.000000</td>\n",
       "      <td>354369.000000</td>\n",
       "      <td>354369.000000</td>\n",
       "      <td>354369.000000</td>\n",
       "      <td>354369.000000</td>\n",
       "      <td>354369.0</td>\n",
       "      <td>354369.000000</td>\n",
       "    </tr>\n",
       "    <tr>\n",
       "      <th>mean</th>\n",
       "      <td>4416.656776</td>\n",
       "      <td>2004.234448</td>\n",
       "      <td>110.094337</td>\n",
       "      <td>128211.172535</td>\n",
       "      <td>5.714645</td>\n",
       "      <td>0.0</td>\n",
       "      <td>50508.689087</td>\n",
       "    </tr>\n",
       "    <tr>\n",
       "      <th>std</th>\n",
       "      <td>4514.158514</td>\n",
       "      <td>90.227958</td>\n",
       "      <td>189.850405</td>\n",
       "      <td>37905.341530</td>\n",
       "      <td>3.726421</td>\n",
       "      <td>0.0</td>\n",
       "      <td>25783.096248</td>\n",
       "    </tr>\n",
       "    <tr>\n",
       "      <th>min</th>\n",
       "      <td>0.000000</td>\n",
       "      <td>1000.000000</td>\n",
       "      <td>0.000000</td>\n",
       "      <td>5000.000000</td>\n",
       "      <td>0.000000</td>\n",
       "      <td>0.0</td>\n",
       "      <td>1067.000000</td>\n",
       "    </tr>\n",
       "    <tr>\n",
       "      <th>25%</th>\n",
       "      <td>1050.000000</td>\n",
       "      <td>1999.000000</td>\n",
       "      <td>69.000000</td>\n",
       "      <td>125000.000000</td>\n",
       "      <td>3.000000</td>\n",
       "      <td>0.0</td>\n",
       "      <td>30165.000000</td>\n",
       "    </tr>\n",
       "    <tr>\n",
       "      <th>50%</th>\n",
       "      <td>2700.000000</td>\n",
       "      <td>2003.000000</td>\n",
       "      <td>105.000000</td>\n",
       "      <td>150000.000000</td>\n",
       "      <td>6.000000</td>\n",
       "      <td>0.0</td>\n",
       "      <td>49413.000000</td>\n",
       "    </tr>\n",
       "    <tr>\n",
       "      <th>75%</th>\n",
       "      <td>6400.000000</td>\n",
       "      <td>2008.000000</td>\n",
       "      <td>143.000000</td>\n",
       "      <td>150000.000000</td>\n",
       "      <td>9.000000</td>\n",
       "      <td>0.0</td>\n",
       "      <td>71083.000000</td>\n",
       "    </tr>\n",
       "    <tr>\n",
       "      <th>max</th>\n",
       "      <td>20000.000000</td>\n",
       "      <td>9999.000000</td>\n",
       "      <td>20000.000000</td>\n",
       "      <td>150000.000000</td>\n",
       "      <td>12.000000</td>\n",
       "      <td>0.0</td>\n",
       "      <td>99998.000000</td>\n",
       "    </tr>\n",
       "  </tbody>\n",
       "</table>\n",
       "</div>"
      ],
      "text/plain": [
       "               price  registration_year          power      kilometer  \\\n",
       "count  354369.000000      354369.000000  354369.000000  354369.000000   \n",
       "mean     4416.656776        2004.234448     110.094337  128211.172535   \n",
       "std      4514.158514          90.227958     189.850405   37905.341530   \n",
       "min         0.000000        1000.000000       0.000000    5000.000000   \n",
       "25%      1050.000000        1999.000000      69.000000  125000.000000   \n",
       "50%      2700.000000        2003.000000     105.000000  150000.000000   \n",
       "75%      6400.000000        2008.000000     143.000000  150000.000000   \n",
       "max     20000.000000        9999.000000   20000.000000  150000.000000   \n",
       "\n",
       "       registration_month  number_of_pictures    postal_code  \n",
       "count       354369.000000            354369.0  354369.000000  \n",
       "mean             5.714645                 0.0   50508.689087  \n",
       "std              3.726421                 0.0   25783.096248  \n",
       "min              0.000000                 0.0    1067.000000  \n",
       "25%              3.000000                 0.0   30165.000000  \n",
       "50%              6.000000                 0.0   49413.000000  \n",
       "75%              9.000000                 0.0   71083.000000  \n",
       "max             12.000000                 0.0   99998.000000  "
      ]
     },
     "metadata": {},
     "output_type": "display_data"
    },
    {
     "name": "stdout",
     "output_type": "stream",
     "text": [
      "\n",
      "Кол-во пропусков в таблице\n"
     ]
    },
    {
     "data": {
      "text/plain": [
       "date_crawled              0\n",
       "price                     0\n",
       "vehicle_type          37490\n",
       "registration_year         0\n",
       "gearbox               19833\n",
       "power                     0\n",
       "model                 19705\n",
       "kilometer                 0\n",
       "registration_month        0\n",
       "fuel_type             32895\n",
       "brand                     0\n",
       "repaired              71154\n",
       "date_created              0\n",
       "number_of_pictures        0\n",
       "postal_code               0\n",
       "lastseen                  0\n",
       "dtype: int64"
      ]
     },
     "metadata": {},
     "output_type": "display_data"
    },
    {
     "name": "stdout",
     "output_type": "stream",
     "text": [
      "\n",
      "Кол-во дубликатов в таблице\n"
     ]
    },
    {
     "data": {
      "text/plain": [
       "4"
      ]
     },
     "metadata": {},
     "output_type": "display_data"
    },
    {
     "name": "stdout",
     "output_type": "stream",
     "text": [
      "\n",
      "Проверка на неявные дубликаты\n",
      "vehicle_type [nan 'coupe' 'suv' 'small' 'sedan' 'convertible' 'bus' 'wagon' 'other']\n",
      "\n",
      "gearbox ['manual' 'auto' nan]\n",
      "\n",
      "registration_month [ 0  5  8  6  7 10 12 11  2  3  1  4  9]\n",
      "\n",
      "fuel_type ['petrol' 'gasoline' nan 'lpg' 'other' 'hybrid' 'cng' 'electric']\n",
      "\n",
      "brand ['volkswagen' 'audi' 'jeep' 'skoda' 'bmw' 'peugeot' 'ford' 'mazda'\n",
      " 'nissan' 'renault' 'mercedes_benz' 'opel' 'seat' 'citroen' 'honda' 'fiat'\n",
      " 'mini' 'smart' 'hyundai' 'sonstige_autos' 'alfa_romeo' 'subaru' 'volvo'\n",
      " 'mitsubishi' 'kia' 'suzuki' 'lancia' 'toyota' 'chevrolet' 'dacia'\n",
      " 'daihatsu' 'trabant' 'saab' 'chrysler' 'jaguar' 'daewoo' 'porsche'\n",
      " 'rover' 'land_rover' 'lada']\n",
      "\n",
      "repaired [nan 'yes' 'no']\n",
      "\n",
      "number_of_pictures [0]\n",
      "\n",
      "kilometer [150000 125000  90000  40000  30000  70000   5000 100000  60000  20000\n",
      "  80000  50000  10000]\n",
      "\n",
      "registration_year [1993 2011 2004 2001 2008 1995 1980 2014 1998 2005 1910 2016 2007 2009\n",
      " 2002 2018 1997 1990 2017 1981 2003 1994 1991 1984 2006 1999 2012 2010\n",
      " 2000 1992 2013 1996 1985 1989 2015 1982 1976 1983 1973 1111 1969 1971\n",
      " 1987 1986 1988 1970 1965 1945 1925 1974 1979 1955 1978 1972 1968 1977\n",
      " 1961 1960 1966 1975 1963 1964 5000 1954 1958 1967 1959 9999 1956 3200\n",
      " 1000 1941 8888 1500 2200 4100 1962 1929 1957 1940 3000 2066 1949 2019\n",
      " 1937 1951 1800 1953 1234 8000 5300 9000 2900 6000 5900 5911 1933 1400\n",
      " 1950 4000 1948 1952 1200 8500 1932 1255 3700 3800 4800 1942 7000 1935\n",
      " 1936 6500 1923 2290 2500 1930 1001 9450 1944 1943 1934 1938 1688 2800\n",
      " 1253 1928 1919 5555 5600 1600 2222 1039 9996 1300 8455 1931 1915 4500\n",
      " 1920 1602 7800 9229 1947 1927 7100 8200 1946 7500 3500]\n",
      "\n"
     ]
    }
   ],
   "source": [
    "cat_per = ['vehicle_type', 'gearbox', 'registration_month', 'fuel_type', 'brand', 'repaired', 'number_of_pictures', 'kilometer', 'registration_year']\n",
    "analiz(autos, cat_per)"
   ]
  },
  {
   "cell_type": "markdown",
   "id": "a196b227-0353-4798-a84b-f60122a69820",
   "metadata": {},
   "source": [
    "Переделаем столбцы с датой в тип datetime и оптимизируем с помощью функции optimize_memory_usage"
   ]
  },
  {
   "cell_type": "code",
   "execution_count": 7,
   "id": "b92018d3-77b0-4637-bc83-cf433e0e476e",
   "metadata": {},
   "outputs": [
    {
     "name": "stdout",
     "output_type": "stream",
     "text": [
      "<class 'pandas.core.frame.DataFrame'>\n",
      "RangeIndex: 354369 entries, 0 to 354368\n",
      "Data columns (total 16 columns):\n",
      " #   Column              Non-Null Count   Dtype         \n",
      "---  ------              --------------   -----         \n",
      " 0   date_crawled        354369 non-null  datetime64[ns]\n",
      " 1   price               354369 non-null  int64         \n",
      " 2   vehicle_type        316879 non-null  object        \n",
      " 3   registration_year   354369 non-null  int64         \n",
      " 4   gearbox             334536 non-null  object        \n",
      " 5   power               354369 non-null  int64         \n",
      " 6   model               334664 non-null  object        \n",
      " 7   kilometer           354369 non-null  int64         \n",
      " 8   registration_month  354369 non-null  int64         \n",
      " 9   fuel_type           321474 non-null  object        \n",
      " 10  brand               354369 non-null  object        \n",
      " 11  repaired            283215 non-null  object        \n",
      " 12  date_created        354369 non-null  datetime64[ns]\n",
      " 13  number_of_pictures  354369 non-null  int64         \n",
      " 14  postal_code         354369 non-null  int64         \n",
      " 15  lastseen            354369 non-null  datetime64[ns]\n",
      "dtypes: datetime64[ns](3), int64(7), object(6)\n",
      "memory usage: 43.3+ MB\n",
      "None\n",
      "\n",
      "Размер использования памяти: до 43.26 Mb - после 29.74 Mb (31.2%)\n"
     ]
    },
    {
     "data": {
      "text/html": [
       "<div>\n",
       "<style scoped>\n",
       "    .dataframe tbody tr th:only-of-type {\n",
       "        vertical-align: middle;\n",
       "    }\n",
       "\n",
       "    .dataframe tbody tr th {\n",
       "        vertical-align: top;\n",
       "    }\n",
       "\n",
       "    .dataframe thead th {\n",
       "        text-align: right;\n",
       "    }\n",
       "</style>\n",
       "<table border=\"1\" class=\"dataframe\">\n",
       "  <thead>\n",
       "    <tr style=\"text-align: right;\">\n",
       "      <th></th>\n",
       "      <th>date_crawled</th>\n",
       "      <th>price</th>\n",
       "      <th>vehicle_type</th>\n",
       "      <th>registration_year</th>\n",
       "      <th>gearbox</th>\n",
       "      <th>power</th>\n",
       "      <th>model</th>\n",
       "      <th>kilometer</th>\n",
       "      <th>registration_month</th>\n",
       "      <th>fuel_type</th>\n",
       "      <th>brand</th>\n",
       "      <th>repaired</th>\n",
       "      <th>date_created</th>\n",
       "      <th>number_of_pictures</th>\n",
       "      <th>postal_code</th>\n",
       "      <th>lastseen</th>\n",
       "    </tr>\n",
       "  </thead>\n",
       "  <tbody>\n",
       "    <tr>\n",
       "      <th>0</th>\n",
       "      <td>2016-03-24 11:52:17</td>\n",
       "      <td>480</td>\n",
       "      <td>NaN</td>\n",
       "      <td>1993</td>\n",
       "      <td>manual</td>\n",
       "      <td>0</td>\n",
       "      <td>golf</td>\n",
       "      <td>150000</td>\n",
       "      <td>0</td>\n",
       "      <td>petrol</td>\n",
       "      <td>volkswagen</td>\n",
       "      <td>NaN</td>\n",
       "      <td>2016-03-24</td>\n",
       "      <td>0</td>\n",
       "      <td>70435</td>\n",
       "      <td>2016-04-07 03:16:57</td>\n",
       "    </tr>\n",
       "    <tr>\n",
       "      <th>1</th>\n",
       "      <td>2016-03-24 10:58:45</td>\n",
       "      <td>18300</td>\n",
       "      <td>coupe</td>\n",
       "      <td>2011</td>\n",
       "      <td>manual</td>\n",
       "      <td>190</td>\n",
       "      <td>NaN</td>\n",
       "      <td>125000</td>\n",
       "      <td>5</td>\n",
       "      <td>gasoline</td>\n",
       "      <td>audi</td>\n",
       "      <td>yes</td>\n",
       "      <td>2016-03-24</td>\n",
       "      <td>0</td>\n",
       "      <td>66954</td>\n",
       "      <td>2016-04-07 01:46:50</td>\n",
       "    </tr>\n",
       "    <tr>\n",
       "      <th>2</th>\n",
       "      <td>2016-03-14 12:52:21</td>\n",
       "      <td>9800</td>\n",
       "      <td>suv</td>\n",
       "      <td>2004</td>\n",
       "      <td>auto</td>\n",
       "      <td>163</td>\n",
       "      <td>grand</td>\n",
       "      <td>125000</td>\n",
       "      <td>8</td>\n",
       "      <td>gasoline</td>\n",
       "      <td>jeep</td>\n",
       "      <td>NaN</td>\n",
       "      <td>2016-03-14</td>\n",
       "      <td>0</td>\n",
       "      <td>90480</td>\n",
       "      <td>2016-04-05 12:47:46</td>\n",
       "    </tr>\n",
       "    <tr>\n",
       "      <th>3</th>\n",
       "      <td>2016-03-17 16:54:04</td>\n",
       "      <td>1500</td>\n",
       "      <td>small</td>\n",
       "      <td>2001</td>\n",
       "      <td>manual</td>\n",
       "      <td>75</td>\n",
       "      <td>golf</td>\n",
       "      <td>150000</td>\n",
       "      <td>6</td>\n",
       "      <td>petrol</td>\n",
       "      <td>volkswagen</td>\n",
       "      <td>no</td>\n",
       "      <td>2016-03-17</td>\n",
       "      <td>0</td>\n",
       "      <td>91074</td>\n",
       "      <td>2016-03-17 17:40:17</td>\n",
       "    </tr>\n",
       "    <tr>\n",
       "      <th>4</th>\n",
       "      <td>2016-03-31 17:25:20</td>\n",
       "      <td>3600</td>\n",
       "      <td>small</td>\n",
       "      <td>2008</td>\n",
       "      <td>manual</td>\n",
       "      <td>69</td>\n",
       "      <td>fabia</td>\n",
       "      <td>90000</td>\n",
       "      <td>7</td>\n",
       "      <td>gasoline</td>\n",
       "      <td>skoda</td>\n",
       "      <td>no</td>\n",
       "      <td>2016-03-31</td>\n",
       "      <td>0</td>\n",
       "      <td>60437</td>\n",
       "      <td>2016-04-06 10:17:21</td>\n",
       "    </tr>\n",
       "    <tr>\n",
       "      <th>...</th>\n",
       "      <td>...</td>\n",
       "      <td>...</td>\n",
       "      <td>...</td>\n",
       "      <td>...</td>\n",
       "      <td>...</td>\n",
       "      <td>...</td>\n",
       "      <td>...</td>\n",
       "      <td>...</td>\n",
       "      <td>...</td>\n",
       "      <td>...</td>\n",
       "      <td>...</td>\n",
       "      <td>...</td>\n",
       "      <td>...</td>\n",
       "      <td>...</td>\n",
       "      <td>...</td>\n",
       "      <td>...</td>\n",
       "    </tr>\n",
       "    <tr>\n",
       "      <th>354364</th>\n",
       "      <td>2016-03-21 09:50:58</td>\n",
       "      <td>0</td>\n",
       "      <td>NaN</td>\n",
       "      <td>2005</td>\n",
       "      <td>manual</td>\n",
       "      <td>0</td>\n",
       "      <td>colt</td>\n",
       "      <td>150000</td>\n",
       "      <td>7</td>\n",
       "      <td>petrol</td>\n",
       "      <td>mitsubishi</td>\n",
       "      <td>yes</td>\n",
       "      <td>2016-03-21</td>\n",
       "      <td>0</td>\n",
       "      <td>2694</td>\n",
       "      <td>2016-03-21 10:42:49</td>\n",
       "    </tr>\n",
       "    <tr>\n",
       "      <th>354365</th>\n",
       "      <td>2016-03-14 17:48:27</td>\n",
       "      <td>2200</td>\n",
       "      <td>NaN</td>\n",
       "      <td>2005</td>\n",
       "      <td>NaN</td>\n",
       "      <td>0</td>\n",
       "      <td>NaN</td>\n",
       "      <td>20000</td>\n",
       "      <td>1</td>\n",
       "      <td>NaN</td>\n",
       "      <td>sonstige_autos</td>\n",
       "      <td>NaN</td>\n",
       "      <td>2016-03-14</td>\n",
       "      <td>0</td>\n",
       "      <td>39576</td>\n",
       "      <td>2016-04-06 00:46:52</td>\n",
       "    </tr>\n",
       "    <tr>\n",
       "      <th>354366</th>\n",
       "      <td>2016-03-05 19:56:21</td>\n",
       "      <td>1199</td>\n",
       "      <td>convertible</td>\n",
       "      <td>2000</td>\n",
       "      <td>auto</td>\n",
       "      <td>101</td>\n",
       "      <td>fortwo</td>\n",
       "      <td>125000</td>\n",
       "      <td>3</td>\n",
       "      <td>petrol</td>\n",
       "      <td>smart</td>\n",
       "      <td>no</td>\n",
       "      <td>2016-03-05</td>\n",
       "      <td>0</td>\n",
       "      <td>26135</td>\n",
       "      <td>2016-03-11 18:17:12</td>\n",
       "    </tr>\n",
       "    <tr>\n",
       "      <th>354367</th>\n",
       "      <td>2016-03-19 18:57:12</td>\n",
       "      <td>9200</td>\n",
       "      <td>bus</td>\n",
       "      <td>1996</td>\n",
       "      <td>manual</td>\n",
       "      <td>102</td>\n",
       "      <td>transporter</td>\n",
       "      <td>150000</td>\n",
       "      <td>3</td>\n",
       "      <td>gasoline</td>\n",
       "      <td>volkswagen</td>\n",
       "      <td>no</td>\n",
       "      <td>2016-03-19</td>\n",
       "      <td>0</td>\n",
       "      <td>87439</td>\n",
       "      <td>2016-04-07 07:15:26</td>\n",
       "    </tr>\n",
       "    <tr>\n",
       "      <th>354368</th>\n",
       "      <td>2016-03-20 19:41:08</td>\n",
       "      <td>3400</td>\n",
       "      <td>wagon</td>\n",
       "      <td>2002</td>\n",
       "      <td>manual</td>\n",
       "      <td>100</td>\n",
       "      <td>golf</td>\n",
       "      <td>150000</td>\n",
       "      <td>6</td>\n",
       "      <td>gasoline</td>\n",
       "      <td>volkswagen</td>\n",
       "      <td>NaN</td>\n",
       "      <td>2016-03-20</td>\n",
       "      <td>0</td>\n",
       "      <td>40764</td>\n",
       "      <td>2016-03-24 12:45:21</td>\n",
       "    </tr>\n",
       "  </tbody>\n",
       "</table>\n",
       "<p>354369 rows × 16 columns</p>\n",
       "</div>"
      ],
      "text/plain": [
       "              date_crawled  price vehicle_type  registration_year gearbox  \\\n",
       "0      2016-03-24 11:52:17    480          NaN               1993  manual   \n",
       "1      2016-03-24 10:58:45  18300        coupe               2011  manual   \n",
       "2      2016-03-14 12:52:21   9800          suv               2004    auto   \n",
       "3      2016-03-17 16:54:04   1500        small               2001  manual   \n",
       "4      2016-03-31 17:25:20   3600        small               2008  manual   \n",
       "...                    ...    ...          ...                ...     ...   \n",
       "354364 2016-03-21 09:50:58      0          NaN               2005  manual   \n",
       "354365 2016-03-14 17:48:27   2200          NaN               2005     NaN   \n",
       "354366 2016-03-05 19:56:21   1199  convertible               2000    auto   \n",
       "354367 2016-03-19 18:57:12   9200          bus               1996  manual   \n",
       "354368 2016-03-20 19:41:08   3400        wagon               2002  manual   \n",
       "\n",
       "        power        model  kilometer  registration_month fuel_type  \\\n",
       "0           0         golf     150000                   0    petrol   \n",
       "1         190          NaN     125000                   5  gasoline   \n",
       "2         163        grand     125000                   8  gasoline   \n",
       "3          75         golf     150000                   6    petrol   \n",
       "4          69        fabia      90000                   7  gasoline   \n",
       "...       ...          ...        ...                 ...       ...   \n",
       "354364      0         colt     150000                   7    petrol   \n",
       "354365      0          NaN      20000                   1       NaN   \n",
       "354366    101       fortwo     125000                   3    petrol   \n",
       "354367    102  transporter     150000                   3  gasoline   \n",
       "354368    100         golf     150000                   6  gasoline   \n",
       "\n",
       "                 brand repaired date_created  number_of_pictures  postal_code  \\\n",
       "0           volkswagen      NaN   2016-03-24                   0        70435   \n",
       "1                 audi      yes   2016-03-24                   0        66954   \n",
       "2                 jeep      NaN   2016-03-14                   0        90480   \n",
       "3           volkswagen       no   2016-03-17                   0        91074   \n",
       "4                skoda       no   2016-03-31                   0        60437   \n",
       "...                ...      ...          ...                 ...          ...   \n",
       "354364      mitsubishi      yes   2016-03-21                   0         2694   \n",
       "354365  sonstige_autos      NaN   2016-03-14                   0        39576   \n",
       "354366           smart       no   2016-03-05                   0        26135   \n",
       "354367      volkswagen       no   2016-03-19                   0        87439   \n",
       "354368      volkswagen      NaN   2016-03-20                   0        40764   \n",
       "\n",
       "                  lastseen  \n",
       "0      2016-04-07 03:16:57  \n",
       "1      2016-04-07 01:46:50  \n",
       "2      2016-04-05 12:47:46  \n",
       "3      2016-03-17 17:40:17  \n",
       "4      2016-04-06 10:17:21  \n",
       "...                    ...  \n",
       "354364 2016-03-21 10:42:49  \n",
       "354365 2016-04-06 00:46:52  \n",
       "354366 2016-03-11 18:17:12  \n",
       "354367 2016-04-07 07:15:26  \n",
       "354368 2016-03-24 12:45:21  \n",
       "\n",
       "[354369 rows x 16 columns]"
      ]
     },
     "execution_count": 7,
     "metadata": {},
     "output_type": "execute_result"
    }
   ],
   "source": [
    "autos['date_crawled'] = pd.to_datetime(autos['date_crawled'], format='%Y-%m-%d %H:%M:%S')\n",
    "autos['date_created'] = pd.to_datetime(autos['date_created'], format='%Y-%m-%d %H:%M:%S')\n",
    "autos['lastseen'] = pd.to_datetime(autos['lastseen'], format='%Y-%m-%d %H:%M:%S')\n",
    "print(autos.info())\n",
    "print()\n",
    "optimize_memory_usage(autos)"
   ]
  },
  {
   "cell_type": "markdown",
   "id": "e3ada15c-4075-485c-a6c0-9e0df7d60f68",
   "metadata": {},
   "source": [
    "Изменили типы данных у двух столбцов с датами на datetime64[ns]. Оптимизация ничего не упростила. Нам дали очень хорошие данные. Идем дальше"
   ]
  },
  {
   "cell_type": "markdown",
   "id": "01f2f8c0-2c03-4ad2-87bf-18df9873fc4f",
   "metadata": {},
   "source": [
    "С помощью функции describe() мы так же увидли информацию о таблице, но немного другую. Тут уже больше видны выбросы или какие-то нестандартные значеиня. В столбце с годом регистрации автомобиля это 9999 и 1000 годы. В мощности машины - 20000 л.с. слишком много. И самый странный столбец это number_of_pictures, т.к. в нем одни нули. Это очень странно, видимо, его прийдется удалить"
   ]
  },
  {
   "cell_type": "code",
   "execution_count": 8,
   "id": "107f2117-c277-42ab-999b-9398c5f3875d",
   "metadata": {},
   "outputs": [
    {
     "data": {
      "text/html": [
       "<div>\n",
       "<style scoped>\n",
       "    .dataframe tbody tr th:only-of-type {\n",
       "        vertical-align: middle;\n",
       "    }\n",
       "\n",
       "    .dataframe tbody tr th {\n",
       "        vertical-align: top;\n",
       "    }\n",
       "\n",
       "    .dataframe thead th {\n",
       "        text-align: right;\n",
       "    }\n",
       "</style>\n",
       "<table border=\"1\" class=\"dataframe\">\n",
       "  <thead>\n",
       "    <tr style=\"text-align: right;\">\n",
       "      <th></th>\n",
       "      <th>date_crawled</th>\n",
       "      <th>price</th>\n",
       "      <th>vehicle_type</th>\n",
       "      <th>registration_year</th>\n",
       "      <th>gearbox</th>\n",
       "      <th>power</th>\n",
       "      <th>model</th>\n",
       "      <th>kilometer</th>\n",
       "      <th>registration_month</th>\n",
       "      <th>fuel_type</th>\n",
       "      <th>brand</th>\n",
       "      <th>repaired</th>\n",
       "      <th>date_created</th>\n",
       "      <th>postal_code</th>\n",
       "      <th>lastseen</th>\n",
       "    </tr>\n",
       "  </thead>\n",
       "  <tbody>\n",
       "    <tr>\n",
       "      <th>0</th>\n",
       "      <td>2016-03-24 11:52:17</td>\n",
       "      <td>480</td>\n",
       "      <td>NaN</td>\n",
       "      <td>1993</td>\n",
       "      <td>manual</td>\n",
       "      <td>0</td>\n",
       "      <td>golf</td>\n",
       "      <td>150000</td>\n",
       "      <td>0</td>\n",
       "      <td>petrol</td>\n",
       "      <td>volkswagen</td>\n",
       "      <td>NaN</td>\n",
       "      <td>2016-03-24</td>\n",
       "      <td>70435</td>\n",
       "      <td>2016-04-07 03:16:57</td>\n",
       "    </tr>\n",
       "    <tr>\n",
       "      <th>1</th>\n",
       "      <td>2016-03-24 10:58:45</td>\n",
       "      <td>18300</td>\n",
       "      <td>coupe</td>\n",
       "      <td>2011</td>\n",
       "      <td>manual</td>\n",
       "      <td>190</td>\n",
       "      <td>NaN</td>\n",
       "      <td>125000</td>\n",
       "      <td>5</td>\n",
       "      <td>gasoline</td>\n",
       "      <td>audi</td>\n",
       "      <td>yes</td>\n",
       "      <td>2016-03-24</td>\n",
       "      <td>66954</td>\n",
       "      <td>2016-04-07 01:46:50</td>\n",
       "    </tr>\n",
       "    <tr>\n",
       "      <th>2</th>\n",
       "      <td>2016-03-14 12:52:21</td>\n",
       "      <td>9800</td>\n",
       "      <td>suv</td>\n",
       "      <td>2004</td>\n",
       "      <td>auto</td>\n",
       "      <td>163</td>\n",
       "      <td>grand</td>\n",
       "      <td>125000</td>\n",
       "      <td>8</td>\n",
       "      <td>gasoline</td>\n",
       "      <td>jeep</td>\n",
       "      <td>NaN</td>\n",
       "      <td>2016-03-14</td>\n",
       "      <td>90480</td>\n",
       "      <td>2016-04-05 12:47:46</td>\n",
       "    </tr>\n",
       "    <tr>\n",
       "      <th>3</th>\n",
       "      <td>2016-03-17 16:54:04</td>\n",
       "      <td>1500</td>\n",
       "      <td>small</td>\n",
       "      <td>2001</td>\n",
       "      <td>manual</td>\n",
       "      <td>75</td>\n",
       "      <td>golf</td>\n",
       "      <td>150000</td>\n",
       "      <td>6</td>\n",
       "      <td>petrol</td>\n",
       "      <td>volkswagen</td>\n",
       "      <td>no</td>\n",
       "      <td>2016-03-17</td>\n",
       "      <td>91074</td>\n",
       "      <td>2016-03-17 17:40:17</td>\n",
       "    </tr>\n",
       "    <tr>\n",
       "      <th>4</th>\n",
       "      <td>2016-03-31 17:25:20</td>\n",
       "      <td>3600</td>\n",
       "      <td>small</td>\n",
       "      <td>2008</td>\n",
       "      <td>manual</td>\n",
       "      <td>69</td>\n",
       "      <td>fabia</td>\n",
       "      <td>90000</td>\n",
       "      <td>7</td>\n",
       "      <td>gasoline</td>\n",
       "      <td>skoda</td>\n",
       "      <td>no</td>\n",
       "      <td>2016-03-31</td>\n",
       "      <td>60437</td>\n",
       "      <td>2016-04-06 10:17:21</td>\n",
       "    </tr>\n",
       "  </tbody>\n",
       "</table>\n",
       "</div>"
      ],
      "text/plain": [
       "         date_crawled  price vehicle_type  registration_year gearbox  power  \\\n",
       "0 2016-03-24 11:52:17    480          NaN               1993  manual      0   \n",
       "1 2016-03-24 10:58:45  18300        coupe               2011  manual    190   \n",
       "2 2016-03-14 12:52:21   9800          suv               2004    auto    163   \n",
       "3 2016-03-17 16:54:04   1500        small               2001  manual     75   \n",
       "4 2016-03-31 17:25:20   3600        small               2008  manual     69   \n",
       "\n",
       "   model  kilometer  registration_month fuel_type       brand repaired  \\\n",
       "0   golf     150000                   0    petrol  volkswagen      NaN   \n",
       "1    NaN     125000                   5  gasoline        audi      yes   \n",
       "2  grand     125000                   8  gasoline        jeep      NaN   \n",
       "3   golf     150000                   6    petrol  volkswagen       no   \n",
       "4  fabia      90000                   7  gasoline       skoda       no   \n",
       "\n",
       "  date_created  postal_code            lastseen  \n",
       "0   2016-03-24        70435 2016-04-07 03:16:57  \n",
       "1   2016-03-24        66954 2016-04-07 01:46:50  \n",
       "2   2016-03-14        90480 2016-04-05 12:47:46  \n",
       "3   2016-03-17        91074 2016-03-17 17:40:17  \n",
       "4   2016-03-31        60437 2016-04-06 10:17:21  "
      ]
     },
     "execution_count": 8,
     "metadata": {},
     "output_type": "execute_result"
    }
   ],
   "source": [
    "autos = autos.drop('number_of_pictures', axis = 1)\n",
    "autos.head()"
   ]
  },
  {
   "cell_type": "markdown",
   "id": "2b73c2ea",
   "metadata": {},
   "source": [
    "Удалим неявные дубликаты, которые можно было заметить в уникальных значениях признаков в fuel_type это 'gasoline' и 'petrol', а в model - 'rangerover' и 'range_rover'"
   ]
  },
  {
   "cell_type": "code",
   "execution_count": 9,
   "id": "57d3ad61",
   "metadata": {},
   "outputs": [],
   "source": [
    "autos['fuel_type'] = autos['fuel_type'].replace({'gasoline': 'petrol'})\n",
    "autos['model'] = autos['fuel_type'].replace({'rangerover': 'range_rover'})"
   ]
  },
  {
   "cell_type": "markdown",
   "id": "348d55b6-b9c7-403e-a2ca-4cba4f3d3a44",
   "metadata": {},
   "source": [
    "Перейдем к пропускам. Тут их достаточно много. В vehicle_type - 37490, gearbox - 19833, model - 19705, fuel_type - 32895, repaired - 71154. Чтобы определить, что с ними делать, посмотрим на то сколько процентов от общего кол-ва данных они занимают"
   ]
  },
  {
   "cell_type": "code",
   "execution_count": 10,
   "id": "5f582347-d1a4-47af-ba86-249b6042a822",
   "metadata": {},
   "outputs": [
    {
     "name": "stdout",
     "output_type": "stream",
     "text": [
      "vehicle_type_pr: 10.57936783409384\n",
      "gearbox_pr: 5.596708515699737\n",
      "model_pr: 5.560587974681758\n",
      "fuel_type_pr: 9.282696849893755\n",
      "repaired_pr: 20.07907012182217\n"
     ]
    }
   ],
   "source": [
    "all = len(autos)\n",
    "\n",
    "vehicle_type = 37490\n",
    "vehicle_type_pr = vehicle_type * 100 / all\n",
    "print(f\"vehicle_type_pr: {vehicle_type_pr}\")\n",
    "\n",
    "gearbox = 19833\n",
    "gearbox_pr = gearbox * 100 / all\n",
    "print(f\"gearbox_pr: {gearbox_pr}\")\n",
    "\n",
    "model = 19705\n",
    "model_pr = model * 100 / all\n",
    "print(f\"model_pr: {model_pr}\")\n",
    "\n",
    "fuel_type = 32895\n",
    "fuel_type_pr = fuel_type * 100 / all\n",
    "print(f\"fuel_type_pr: {fuel_type_pr}\")\n",
    "\n",
    "repaired = 71154\n",
    "repaired_pr = repaired * 100 / all\n",
    "print(f\"repaired_pr: {repaired_pr}\")"
   ]
  },
  {
   "cell_type": "markdown",
   "id": "55d288ea-28d0-40ed-b378-2c26f662a25c",
   "metadata": {},
   "source": [
    "В vehicle_type достаточно много пропусков, поэтому просто удалить значения не получится. Лучшим решением остается заполнить пропуски самым часто встречающимся значением.  \n",
    "gearbox_pr - около 5% пропусков. Тут тоже заполним медианой, т.к. всего два варианта АКПП и МКПП. По логике медианой будет АКПП, но мы это проверим.  \n",
    "У model_pr тоже около 5% пропусков. Здесь уже большая вариативность, т.к. марок машин много. Строчки с пропусками от этого столбца лучше удалить.  \n",
    "В fuel_type_pr 9% пропусков. Типов топлива не так много, а пропусков - не мало, поэтому их лучше заполнить медианой.  \n",
    "repaired_pr имеет 20% пропусков. Тоже заполним медианой  \n",
    "Начнем с model_pr, потому что при удалении строк могут удалиться и другие пропуски"
   ]
  },
  {
   "cell_type": "code",
   "execution_count": 11,
   "id": "d72c67d9-8fcc-4ed0-9a06-a6f5cd92e427",
   "metadata": {},
   "outputs": [
    {
     "name": "stdout",
     "output_type": "stream",
     "text": [
      "0\n"
     ]
    }
   ],
   "source": [
    "'''\n",
    "print(autos['model'].isna().sum())\n",
    "autos = autos.dropna(subset = 'model')\n",
    "print(autos['model'].isna().sum())\n",
    "'''\n",
    "\n",
    "autos['model'] = autos['model'].fillna('Nun')\n",
    "print(autos['model'].isna().sum())"
   ]
  },
  {
   "cell_type": "code",
   "execution_count": 12,
   "id": "8bbfd1f6-a991-411e-8805-490d3feedf04",
   "metadata": {},
   "outputs": [
    {
     "data": {
      "image/png": "[encoded data removed]",
      "text/plain": [
       "<Figure size 360x360 with 1 Axes>"
      ]
     },
     "metadata": {},
     "output_type": "display_data"
    }
   ],
   "source": [
    "plt.figure(figsize=(5, 5))\n",
    "autos['vehicle_type'].value_counts().plot(kind='pie', autopct='%1.0f%%')\n",
    "plt.title('vehicle_type')\n",
    "plt.show()"
   ]
  },
  {
   "cell_type": "markdown",
   "id": "9bb7a310-3fd5-46e2-9e0b-939b1ce9ea4d",
   "metadata": {},
   "source": [
    "На самом деле все не так очевидно, потому что sedan не прям явно выделяется от small, а wagon не знаю что это и почему их так много. Лучше заполнить пропуски просто sedan."
   ]
  },
  {
   "cell_type": "code",
   "execution_count": 13,
   "id": "492b23b2-c06d-4d0e-b8c2-386f77476783",
   "metadata": {
    "scrolled": true
   },
   "outputs": [
    {
     "data": {
      "image/png": "[encoded data removed]",
      "text/plain": [
       "<Figure size 360x360 with 1 Axes>"
      ]
     },
     "metadata": {},
     "output_type": "display_data"
    }
   ],
   "source": [
    "autos['vehicle_type'] = autos['vehicle_type'].fillna('Nun')\n",
    "plt.figure(figsize=(5, 5))\n",
    "autos['vehicle_type'].value_counts().plot(kind='pie', autopct='%1.0f%%')\n",
    "plt.title('vehicle_type')\n",
    "plt.show()"
   ]
  },
  {
   "cell_type": "code",
   "execution_count": 14,
   "id": "74d1af66-3f18-4eef-9765-2b6e81c72c1d",
   "metadata": {},
   "outputs": [
    {
     "data": {
      "image/png": "[encoded data removed]",
      "text/plain": [
       "<Figure size 216x216 with 1 Axes>"
      ]
     },
     "metadata": {},
     "output_type": "display_data"
    }
   ],
   "source": [
    "plt.figure(figsize=(3, 3))\n",
    "autos['gearbox'].value_counts().plot(kind='pie', autopct='%1.0f%%')\n",
    "plt.title('gearbox')\n",
    "plt.show()"
   ]
  },
  {
   "cell_type": "code",
   "execution_count": 15,
   "id": "b702ff20-a5cf-4df7-956c-af1e16896f01",
   "metadata": {},
   "outputs": [
    {
     "data": {
      "image/png": "[encoded data removed]",
      "text/plain": [
       "<Figure size 216x216 with 1 Axes>"
      ]
     },
     "metadata": {},
     "output_type": "display_data"
    }
   ],
   "source": [
    "autos['gearbox'] = autos['gearbox'].fillna('manual')\n",
    "plt.figure(figsize=(3, 3))\n",
    "autos['gearbox'].value_counts().plot(kind='pie', autopct='%1.0f%%')\n",
    "plt.title('gearbox')\n",
    "plt.show()"
   ]
  },
  {
   "cell_type": "code",
   "execution_count": 16,
   "id": "39d84d77-cc57-40c3-ba05-4ab779877874",
   "metadata": {},
   "outputs": [
    {
     "data": {
      "image/png": "[encoded data removed]",
      "text/plain": [
       "<Figure size 360x360 with 1 Axes>"
      ]
     },
     "metadata": {},
     "output_type": "display_data"
    }
   ],
   "source": [
    "plt.figure(figsize=(5, 5))\n",
    "autos['fuel_type'].value_counts().plot(kind='pie', autopct='%1.0f%%')\n",
    "plt.title('fuel_type')\n",
    "plt.show()"
   ]
  },
  {
   "cell_type": "code",
   "execution_count": 17,
   "id": "3a1a0189-6901-4e78-a881-c999cd221c40",
   "metadata": {},
   "outputs": [
    {
     "data": {
      "image/png": "[encoded data removed]",
      "text/plain": [
       "<Figure size 360x360 with 1 Axes>"
      ]
     },
     "metadata": {},
     "output_type": "display_data"
    }
   ],
   "source": [
    "autos['fuel_type'] = autos['fuel_type'].fillna('petrol')\n",
    "plt.figure(figsize=(5, 5))\n",
    "autos['fuel_type'].value_counts().plot(kind='pie', autopct='%1.0f%%')\n",
    "plt.title('fuel_type')\n",
    "plt.show()"
   ]
  },
  {
   "cell_type": "code",
   "execution_count": 18,
   "id": "478311b1-4bdd-4612-9023-535de9e57c3f",
   "metadata": {},
   "outputs": [
    {
     "data": {
      "image/png": "[encoded data removed]",
      "text/plain": [
       "<Figure size 216x216 with 1 Axes>"
      ]
     },
     "metadata": {},
     "output_type": "display_data"
    }
   ],
   "source": [
    "plt.figure(figsize=(3, 3))\n",
    "autos['repaired'].value_counts().plot(kind='pie', autopct='%1.0f%%')\n",
    "plt.title('repaired')\n",
    "plt.show()"
   ]
  },
  {
   "cell_type": "code",
   "execution_count": 19,
   "id": "f6237485-5386-4569-99cb-13be8ce6e05c",
   "metadata": {
    "scrolled": true
   },
   "outputs": [
    {
     "data": {
      "image/png": "[encoded data removed]",
      "text/plain": [
       "<Figure size 216x216 with 1 Axes>"
      ]
     },
     "metadata": {},
     "output_type": "display_data"
    }
   ],
   "source": [
    "autos['repaired'] = autos['repaired'].fillna('Nun')\n",
    "plt.figure(figsize=(3, 3))\n",
    "autos['repaired'].value_counts().plot(kind='pie', autopct='%1.0f%%')\n",
    "plt.title('repaired')\n",
    "plt.show()"
   ]
  },
  {
   "cell_type": "code",
   "execution_count": 20,
   "id": "fafb7df1-6d14-4364-838f-4e406d634e5a",
   "metadata": {},
   "outputs": [
    {
     "data": {
      "text/plain": [
       "date_crawled          0\n",
       "price                 0\n",
       "vehicle_type          0\n",
       "registration_year     0\n",
       "gearbox               0\n",
       "power                 0\n",
       "model                 0\n",
       "kilometer             0\n",
       "registration_month    0\n",
       "fuel_type             0\n",
       "brand                 0\n",
       "repaired              0\n",
       "date_created          0\n",
       "postal_code           0\n",
       "lastseen              0\n",
       "dtype: int64"
      ]
     },
     "execution_count": 20,
     "metadata": {},
     "output_type": "execute_result"
    }
   ],
   "source": [
    "autos.isna().sum()"
   ]
  },
  {
   "cell_type": "markdown",
   "id": "379c9044-d39e-42bc-b47c-a9e4965965ff",
   "metadata": {},
   "source": [
    "Все пропуски закрыли.  \n",
    "Не забываем, что у нас есть категориальные признаки, в которых есть странные нули. Обработаем их в выбросах.  \n",
    "А сейчас посмотрим на дубликаты. Их оказалось 4 штуки - нужно удалить"
   ]
  },
  {
   "cell_type": "code",
   "execution_count": 21,
   "id": "35b08ea2-2179-46a0-986f-f61895ea8a14",
   "metadata": {},
   "outputs": [
    {
     "name": "stdout",
     "output_type": "stream",
     "text": [
      "0\n"
     ]
    }
   ],
   "source": [
    "autos = autos.drop_duplicates()\n",
    "print(autos.duplicated().sum())"
   ]
  },
  {
   "cell_type": "markdown",
   "id": "5eca2d93-19a3-438f-bab6-ed7e63a0bde6",
   "metadata": {},
   "source": [
    "Явных дубликатов не было замечено"
   ]
  },
  {
   "cell_type": "markdown",
   "id": "4e722957-3d08-4447-8d3c-e4f9b9dd3c2f",
   "metadata": {},
   "source": [
    "теперь посмотрим скольно неинформативных данных"
   ]
  },
  {
   "cell_type": "code",
   "execution_count": 22,
   "id": "dd94dc35-8226-4e90-bb81-dfb5a21bff1b",
   "metadata": {},
   "outputs": [
    {
     "data": {
      "text/html": [
       "<div>\n",
       "<style scoped>\n",
       "    .dataframe tbody tr th:only-of-type {\n",
       "        vertical-align: middle;\n",
       "    }\n",
       "\n",
       "    .dataframe tbody tr th {\n",
       "        vertical-align: top;\n",
       "    }\n",
       "\n",
       "    .dataframe thead th {\n",
       "        text-align: right;\n",
       "    }\n",
       "</style>\n",
       "<table border=\"1\" class=\"dataframe\">\n",
       "  <thead>\n",
       "    <tr style=\"text-align: right;\">\n",
       "      <th></th>\n",
       "      <th>date_crawled</th>\n",
       "      <th>price</th>\n",
       "      <th>vehicle_type</th>\n",
       "      <th>registration_year</th>\n",
       "      <th>gearbox</th>\n",
       "      <th>power</th>\n",
       "      <th>model</th>\n",
       "      <th>kilometer</th>\n",
       "      <th>registration_month</th>\n",
       "      <th>fuel_type</th>\n",
       "      <th>brand</th>\n",
       "      <th>repaired</th>\n",
       "      <th>date_created</th>\n",
       "      <th>postal_code</th>\n",
       "      <th>lastseen</th>\n",
       "    </tr>\n",
       "  </thead>\n",
       "  <tbody>\n",
       "    <tr>\n",
       "      <th>0</th>\n",
       "      <td>2016-03-24 11:52:17</td>\n",
       "      <td>480</td>\n",
       "      <td>Nun</td>\n",
       "      <td>1993</td>\n",
       "      <td>manual</td>\n",
       "      <td>0</td>\n",
       "      <td>petrol</td>\n",
       "      <td>150000</td>\n",
       "      <td>0</td>\n",
       "      <td>petrol</td>\n",
       "      <td>volkswagen</td>\n",
       "      <td>Nun</td>\n",
       "      <td>2016-03-24</td>\n",
       "      <td>70435</td>\n",
       "      <td>2016-04-07 03:16:57</td>\n",
       "    </tr>\n",
       "    <tr>\n",
       "      <th>1</th>\n",
       "      <td>2016-03-24 10:58:45</td>\n",
       "      <td>18300</td>\n",
       "      <td>coupe</td>\n",
       "      <td>2011</td>\n",
       "      <td>manual</td>\n",
       "      <td>190</td>\n",
       "      <td>petrol</td>\n",
       "      <td>125000</td>\n",
       "      <td>5</td>\n",
       "      <td>petrol</td>\n",
       "      <td>audi</td>\n",
       "      <td>yes</td>\n",
       "      <td>2016-03-24</td>\n",
       "      <td>66954</td>\n",
       "      <td>2016-04-07 01:46:50</td>\n",
       "    </tr>\n",
       "    <tr>\n",
       "      <th>2</th>\n",
       "      <td>2016-03-14 12:52:21</td>\n",
       "      <td>9800</td>\n",
       "      <td>suv</td>\n",
       "      <td>2004</td>\n",
       "      <td>auto</td>\n",
       "      <td>163</td>\n",
       "      <td>petrol</td>\n",
       "      <td>125000</td>\n",
       "      <td>8</td>\n",
       "      <td>petrol</td>\n",
       "      <td>jeep</td>\n",
       "      <td>Nun</td>\n",
       "      <td>2016-03-14</td>\n",
       "      <td>90480</td>\n",
       "      <td>2016-04-05 12:47:46</td>\n",
       "    </tr>\n",
       "    <tr>\n",
       "      <th>3</th>\n",
       "      <td>2016-03-17 16:54:04</td>\n",
       "      <td>1500</td>\n",
       "      <td>small</td>\n",
       "      <td>2001</td>\n",
       "      <td>manual</td>\n",
       "      <td>75</td>\n",
       "      <td>petrol</td>\n",
       "      <td>150000</td>\n",
       "      <td>6</td>\n",
       "      <td>petrol</td>\n",
       "      <td>volkswagen</td>\n",
       "      <td>no</td>\n",
       "      <td>2016-03-17</td>\n",
       "      <td>91074</td>\n",
       "      <td>2016-03-17 17:40:17</td>\n",
       "    </tr>\n",
       "    <tr>\n",
       "      <th>4</th>\n",
       "      <td>2016-03-31 17:25:20</td>\n",
       "      <td>3600</td>\n",
       "      <td>small</td>\n",
       "      <td>2008</td>\n",
       "      <td>manual</td>\n",
       "      <td>69</td>\n",
       "      <td>petrol</td>\n",
       "      <td>90000</td>\n",
       "      <td>7</td>\n",
       "      <td>petrol</td>\n",
       "      <td>skoda</td>\n",
       "      <td>no</td>\n",
       "      <td>2016-03-31</td>\n",
       "      <td>60437</td>\n",
       "      <td>2016-04-06 10:17:21</td>\n",
       "    </tr>\n",
       "  </tbody>\n",
       "</table>\n",
       "</div>"
      ],
      "text/plain": [
       "         date_crawled  price vehicle_type  registration_year gearbox  power  \\\n",
       "0 2016-03-24 11:52:17    480          Nun               1993  manual      0   \n",
       "1 2016-03-24 10:58:45  18300        coupe               2011  manual    190   \n",
       "2 2016-03-14 12:52:21   9800          suv               2004    auto    163   \n",
       "3 2016-03-17 16:54:04   1500        small               2001  manual     75   \n",
       "4 2016-03-31 17:25:20   3600        small               2008  manual     69   \n",
       "\n",
       "    model  kilometer  registration_month fuel_type       brand repaired  \\\n",
       "0  petrol     150000                   0    petrol  volkswagen      Nun   \n",
       "1  petrol     125000                   5    petrol        audi      yes   \n",
       "2  petrol     125000                   8    petrol        jeep      Nun   \n",
       "3  petrol     150000                   6    petrol  volkswagen       no   \n",
       "4  petrol      90000                   7    petrol       skoda       no   \n",
       "\n",
       "  date_created  postal_code            lastseen  \n",
       "0   2016-03-24        70435 2016-04-07 03:16:57  \n",
       "1   2016-03-24        66954 2016-04-07 01:46:50  \n",
       "2   2016-03-14        90480 2016-04-05 12:47:46  \n",
       "3   2016-03-17        91074 2016-03-17 17:40:17  \n",
       "4   2016-03-31        60437 2016-04-06 10:17:21  "
      ]
     },
     "execution_count": 22,
     "metadata": {},
     "output_type": "execute_result"
    }
   ],
   "source": [
    "autos.head()"
   ]
  },
  {
   "cell_type": "code",
   "execution_count": 23,
   "id": "07250fb2-8e73-407e-99e2-ab3530684db1",
   "metadata": {},
   "outputs": [
    {
     "name": "stdout",
     "output_type": "stream",
     "text": [
      "price: 10772\n",
      "price: 0\n",
      "price: 40225\n",
      "price: 37352\n",
      "price: 0\n"
     ]
    }
   ],
   "source": [
    "print(f\"price: {(autos['price'] == 0).sum()}\")\n",
    "print(f\"price: {(autos['registration_year'] == 0).sum()}\")\n",
    "print(f\"price: {(autos['power'] == 0).sum()}\")\n",
    "print(f\"price: {(autos['registration_month'] == 0).sum()}\")\n",
    "print(f\"price: {(autos['postal_code'] == 0).sum()}\")"
   ]
  },
  {
   "cell_type": "markdown",
   "id": "d78b9ae2-7767-45b5-8844-f7913759f7b4",
   "metadata": {},
   "source": [
    "Достаточно много значений прийдется удалить, но что поделать"
   ]
  },
  {
   "cell_type": "code",
   "execution_count": 24,
   "id": "a0af2665-06e4-4c87-8e25-d5730f3829de",
   "metadata": {},
   "outputs": [
    {
     "name": "stdout",
     "output_type": "stream",
     "text": [
      "price: 0\n"
     ]
    }
   ],
   "source": [
    "autos = autos[autos['price'] > 700]\n",
    "print(f\"price: {(autos['price'] == 0).sum()}\")"
   ]
  },
  {
   "cell_type": "code",
   "execution_count": 25,
   "id": "36a1b459-e151-475b-962e-c0a4fa5fd51e",
   "metadata": {},
   "outputs": [],
   "source": [
    "autos = autos[autos['power'] != 0]"
   ]
  },
  {
   "cell_type": "code",
   "execution_count": 26,
   "id": "f0e3c847-b181-4fed-b5db-4d7fc39e3507",
   "metadata": {},
   "outputs": [
    {
     "data": {
      "text/html": [
       "<div>\n",
       "<style scoped>\n",
       "    .dataframe tbody tr th:only-of-type {\n",
       "        vertical-align: middle;\n",
       "    }\n",
       "\n",
       "    .dataframe tbody tr th {\n",
       "        vertical-align: top;\n",
       "    }\n",
       "\n",
       "    .dataframe thead th {\n",
       "        text-align: right;\n",
       "    }\n",
       "</style>\n",
       "<table border=\"1\" class=\"dataframe\">\n",
       "  <thead>\n",
       "    <tr style=\"text-align: right;\">\n",
       "      <th></th>\n",
       "      <th>date_crawled</th>\n",
       "      <th>price</th>\n",
       "      <th>vehicle_type</th>\n",
       "      <th>registration_year</th>\n",
       "      <th>gearbox</th>\n",
       "      <th>power</th>\n",
       "      <th>model</th>\n",
       "      <th>kilometer</th>\n",
       "      <th>fuel_type</th>\n",
       "      <th>brand</th>\n",
       "      <th>repaired</th>\n",
       "      <th>date_created</th>\n",
       "      <th>lastseen</th>\n",
       "    </tr>\n",
       "  </thead>\n",
       "  <tbody>\n",
       "    <tr>\n",
       "      <th>1</th>\n",
       "      <td>2016-03-24 10:58:45</td>\n",
       "      <td>18300</td>\n",
       "      <td>coupe</td>\n",
       "      <td>2011</td>\n",
       "      <td>manual</td>\n",
       "      <td>190</td>\n",
       "      <td>petrol</td>\n",
       "      <td>125000</td>\n",
       "      <td>petrol</td>\n",
       "      <td>audi</td>\n",
       "      <td>yes</td>\n",
       "      <td>2016-03-24</td>\n",
       "      <td>2016-04-07 01:46:50</td>\n",
       "    </tr>\n",
       "    <tr>\n",
       "      <th>2</th>\n",
       "      <td>2016-03-14 12:52:21</td>\n",
       "      <td>9800</td>\n",
       "      <td>suv</td>\n",
       "      <td>2004</td>\n",
       "      <td>auto</td>\n",
       "      <td>163</td>\n",
       "      <td>petrol</td>\n",
       "      <td>125000</td>\n",
       "      <td>petrol</td>\n",
       "      <td>jeep</td>\n",
       "      <td>Nun</td>\n",
       "      <td>2016-03-14</td>\n",
       "      <td>2016-04-05 12:47:46</td>\n",
       "    </tr>\n",
       "    <tr>\n",
       "      <th>3</th>\n",
       "      <td>2016-03-17 16:54:04</td>\n",
       "      <td>1500</td>\n",
       "      <td>small</td>\n",
       "      <td>2001</td>\n",
       "      <td>manual</td>\n",
       "      <td>75</td>\n",
       "      <td>petrol</td>\n",
       "      <td>150000</td>\n",
       "      <td>petrol</td>\n",
       "      <td>volkswagen</td>\n",
       "      <td>no</td>\n",
       "      <td>2016-03-17</td>\n",
       "      <td>2016-03-17 17:40:17</td>\n",
       "    </tr>\n",
       "    <tr>\n",
       "      <th>4</th>\n",
       "      <td>2016-03-31 17:25:20</td>\n",
       "      <td>3600</td>\n",
       "      <td>small</td>\n",
       "      <td>2008</td>\n",
       "      <td>manual</td>\n",
       "      <td>69</td>\n",
       "      <td>petrol</td>\n",
       "      <td>90000</td>\n",
       "      <td>petrol</td>\n",
       "      <td>skoda</td>\n",
       "      <td>no</td>\n",
       "      <td>2016-03-31</td>\n",
       "      <td>2016-04-06 10:17:21</td>\n",
       "    </tr>\n",
       "    <tr>\n",
       "      <th>6</th>\n",
       "      <td>2016-04-01 20:48:51</td>\n",
       "      <td>2200</td>\n",
       "      <td>convertible</td>\n",
       "      <td>2004</td>\n",
       "      <td>manual</td>\n",
       "      <td>109</td>\n",
       "      <td>petrol</td>\n",
       "      <td>150000</td>\n",
       "      <td>petrol</td>\n",
       "      <td>peugeot</td>\n",
       "      <td>no</td>\n",
       "      <td>2016-04-01</td>\n",
       "      <td>2016-04-05 18:18:39</td>\n",
       "    </tr>\n",
       "  </tbody>\n",
       "</table>\n",
       "</div>"
      ],
      "text/plain": [
       "         date_crawled  price vehicle_type  registration_year gearbox  power  \\\n",
       "1 2016-03-24 10:58:45  18300        coupe               2011  manual    190   \n",
       "2 2016-03-14 12:52:21   9800          suv               2004    auto    163   \n",
       "3 2016-03-17 16:54:04   1500        small               2001  manual     75   \n",
       "4 2016-03-31 17:25:20   3600        small               2008  manual     69   \n",
       "6 2016-04-01 20:48:51   2200  convertible               2004  manual    109   \n",
       "\n",
       "    model  kilometer fuel_type       brand repaired date_created  \\\n",
       "1  petrol     125000    petrol        audi      yes   2016-03-24   \n",
       "2  petrol     125000    petrol        jeep      Nun   2016-03-14   \n",
       "3  petrol     150000    petrol  volkswagen       no   2016-03-17   \n",
       "4  petrol      90000    petrol       skoda       no   2016-03-31   \n",
       "6  petrol     150000    petrol     peugeot       no   2016-04-01   \n",
       "\n",
       "             lastseen  \n",
       "1 2016-04-07 01:46:50  \n",
       "2 2016-04-05 12:47:46  \n",
       "3 2016-03-17 17:40:17  \n",
       "4 2016-04-06 10:17:21  \n",
       "6 2016-04-05 18:18:39  "
      ]
     },
     "execution_count": 26,
     "metadata": {},
     "output_type": "execute_result"
    }
   ],
   "source": [
    "autos = autos.drop('registration_month', axis = 1)\n",
    "autos = autos.drop('postal_code', axis = 1)\n",
    "autos.head()"
   ]
  },
  {
   "cell_type": "markdown",
   "id": "b1f0fb3a-8ffd-4034-b412-75dba68b1926",
   "metadata": {},
   "source": [
    "Подведем итоги нашего достаточно объемного шага. Мы переименовали названия столбцов в таблице. С помощью функции analiz смогли посмотреть на информацию о таблице. Изменили типы данных, обработали пропуски с помощью различных методов, удалили дубликаты и строки с неинформативными значениями"
   ]
  },
  {
   "cell_type": "markdown",
   "id": "61102415-6857-4eba-bfcd-d53abb405638",
   "metadata": {},
   "source": [
    "## Подготовка к обучению модели"
   ]
  },
  {
   "cell_type": "markdown",
   "id": "5038a81c-cbd5-46b0-9138-e790baa722b5",
   "metadata": {},
   "source": [
    "Перейдем к визуальному представлению данных. Через гистограммы и ящики с усами. В этом нам поможет функция numbers_plot"
   ]
  },
  {
   "cell_type": "code",
   "execution_count": 28,
   "id": "0bdf0fc5-196d-4040-a268-32c3985719e1",
   "metadata": {},
   "outputs": [
    {
     "data": {
      "image/png": "[encoded data removed]",
      "text/plain": [
       "<Figure size 792x1008 with 8 Axes>"
      ]
     },
     "metadata": {},
     "output_type": "display_data"
    }
   ],
   "source": [
    "numbers_plot(autos, param_hue=None)"
   ]
  },
  {
   "cell_type": "markdown",
   "id": "7688b5a3-fe75-4bb4-a43b-813082963344",
   "metadata": {},
   "source": [
    "На некоторых гистограммах такие далекие выбросы, что невозможно график разглядеть! От этого нужно избавляться. Но по ящикам с усами даже не увидеть квартили. Разобраться в этом нам поможет функция borders(), которая посчитает границы выбросов за нас. У price мы оставим все значения тк их слишком много выходит за пределы min и max ящика с усами, а нам столько удалять нельзя. Еще они лежат в пределах разумного. В power возьмем границы не до 257, а до 350, и не будем удалять значения kilometer, которые меньше 87500, т.к. такие машины могут быть"
   ]
  },
  {
   "cell_type": "code",
   "execution_count": 29,
   "id": "e4c1efb2",
   "metadata": {},
   "outputs": [],
   "source": [
    "before = len(autos)"
   ]
  },
  {
   "cell_type": "code",
   "execution_count": 30,
   "id": "0943e588-7a9b-4652-8a6d-e707709edb9b",
   "metadata": {},
   "outputs": [
    {
     "name": "stdout",
     "output_type": "stream",
     "text": [
      "registration_year\n",
      "Нижняя граница выбросов:  1988.0\n",
      "Верхняя граница выбросов:  2020.0\n",
      "\n",
      "power\n",
      "Нижняя граница выбросов:  -10.0\n",
      "Верхняя граница выбросов:  246.0\n",
      "\n",
      "kilometer\n",
      "Нижняя граница выбросов:  87500.0\n",
      "Верхняя граница выбросов:  187500.0\n"
     ]
    }
   ],
   "source": [
    "print('registration_year')\n",
    "borders(autos, 'registration_year')\n",
    "print()\n",
    "print('power')\n",
    "borders(autos, 'power')\n",
    "print()\n",
    "print('kilometer')\n",
    "borders(autos, 'kilometer')"
   ]
  },
  {
   "cell_type": "code",
   "execution_count": 31,
   "id": "5eac3fe8",
   "metadata": {},
   "outputs": [
    {
     "data": {
      "text/plain": [
       "Timestamp('2016-03-05 14:06:23')"
      ]
     },
     "execution_count": 31,
     "metadata": {},
     "output_type": "execute_result"
    }
   ],
   "source": [
    "autos['date_crawled'].min()"
   ]
  },
  {
   "cell_type": "code",
   "execution_count": 32,
   "id": "e8d17093",
   "metadata": {},
   "outputs": [],
   "source": [
    "autos = autos.loc[(autos['registration_year'] < 2016) & (autos['registration_year'] > 1985)]"
   ]
  },
  {
   "cell_type": "code",
   "execution_count": 33,
   "id": "927959f4-920e-4620-a393-51a4a986cb89",
   "metadata": {
    "scrolled": true
   },
   "outputs": [
    {
     "data": {
      "text/html": [
       "<div>\n",
       "<style scoped>\n",
       "    .dataframe tbody tr th:only-of-type {\n",
       "        vertical-align: middle;\n",
       "    }\n",
       "\n",
       "    .dataframe tbody tr th {\n",
       "        vertical-align: top;\n",
       "    }\n",
       "\n",
       "    .dataframe thead th {\n",
       "        text-align: right;\n",
       "    }\n",
       "</style>\n",
       "<table border=\"1\" class=\"dataframe\">\n",
       "  <thead>\n",
       "    <tr style=\"text-align: right;\">\n",
       "      <th></th>\n",
       "      <th>date_crawled</th>\n",
       "      <th>price</th>\n",
       "      <th>vehicle_type</th>\n",
       "      <th>registration_year</th>\n",
       "      <th>gearbox</th>\n",
       "      <th>power</th>\n",
       "      <th>model</th>\n",
       "      <th>kilometer</th>\n",
       "      <th>fuel_type</th>\n",
       "      <th>brand</th>\n",
       "      <th>repaired</th>\n",
       "      <th>date_created</th>\n",
       "      <th>lastseen</th>\n",
       "    </tr>\n",
       "  </thead>\n",
       "  <tbody>\n",
       "    <tr>\n",
       "      <th>1</th>\n",
       "      <td>2016-03-24 10:58:45</td>\n",
       "      <td>18300</td>\n",
       "      <td>coupe</td>\n",
       "      <td>2011</td>\n",
       "      <td>manual</td>\n",
       "      <td>190</td>\n",
       "      <td>petrol</td>\n",
       "      <td>125000</td>\n",
       "      <td>petrol</td>\n",
       "      <td>audi</td>\n",
       "      <td>yes</td>\n",
       "      <td>2016-03-24</td>\n",
       "      <td>2016-04-07 01:46:50</td>\n",
       "    </tr>\n",
       "    <tr>\n",
       "      <th>2</th>\n",
       "      <td>2016-03-14 12:52:21</td>\n",
       "      <td>9800</td>\n",
       "      <td>suv</td>\n",
       "      <td>2004</td>\n",
       "      <td>auto</td>\n",
       "      <td>163</td>\n",
       "      <td>petrol</td>\n",
       "      <td>125000</td>\n",
       "      <td>petrol</td>\n",
       "      <td>jeep</td>\n",
       "      <td>Nun</td>\n",
       "      <td>2016-03-14</td>\n",
       "      <td>2016-04-05 12:47:46</td>\n",
       "    </tr>\n",
       "    <tr>\n",
       "      <th>3</th>\n",
       "      <td>2016-03-17 16:54:04</td>\n",
       "      <td>1500</td>\n",
       "      <td>small</td>\n",
       "      <td>2001</td>\n",
       "      <td>manual</td>\n",
       "      <td>75</td>\n",
       "      <td>petrol</td>\n",
       "      <td>150000</td>\n",
       "      <td>petrol</td>\n",
       "      <td>volkswagen</td>\n",
       "      <td>no</td>\n",
       "      <td>2016-03-17</td>\n",
       "      <td>2016-03-17 17:40:17</td>\n",
       "    </tr>\n",
       "    <tr>\n",
       "      <th>4</th>\n",
       "      <td>2016-03-31 17:25:20</td>\n",
       "      <td>3600</td>\n",
       "      <td>small</td>\n",
       "      <td>2008</td>\n",
       "      <td>manual</td>\n",
       "      <td>69</td>\n",
       "      <td>petrol</td>\n",
       "      <td>90000</td>\n",
       "      <td>petrol</td>\n",
       "      <td>skoda</td>\n",
       "      <td>no</td>\n",
       "      <td>2016-03-31</td>\n",
       "      <td>2016-04-06 10:17:21</td>\n",
       "    </tr>\n",
       "    <tr>\n",
       "      <th>6</th>\n",
       "      <td>2016-04-01 20:48:51</td>\n",
       "      <td>2200</td>\n",
       "      <td>convertible</td>\n",
       "      <td>2004</td>\n",
       "      <td>manual</td>\n",
       "      <td>109</td>\n",
       "      <td>petrol</td>\n",
       "      <td>150000</td>\n",
       "      <td>petrol</td>\n",
       "      <td>peugeot</td>\n",
       "      <td>no</td>\n",
       "      <td>2016-04-01</td>\n",
       "      <td>2016-04-05 18:18:39</td>\n",
       "    </tr>\n",
       "    <tr>\n",
       "      <th>...</th>\n",
       "      <td>...</td>\n",
       "      <td>...</td>\n",
       "      <td>...</td>\n",
       "      <td>...</td>\n",
       "      <td>...</td>\n",
       "      <td>...</td>\n",
       "      <td>...</td>\n",
       "      <td>...</td>\n",
       "      <td>...</td>\n",
       "      <td>...</td>\n",
       "      <td>...</td>\n",
       "      <td>...</td>\n",
       "      <td>...</td>\n",
       "    </tr>\n",
       "    <tr>\n",
       "      <th>354360</th>\n",
       "      <td>2016-04-02 20:37:03</td>\n",
       "      <td>3999</td>\n",
       "      <td>wagon</td>\n",
       "      <td>2005</td>\n",
       "      <td>manual</td>\n",
       "      <td>3</td>\n",
       "      <td>petrol</td>\n",
       "      <td>150000</td>\n",
       "      <td>petrol</td>\n",
       "      <td>bmw</td>\n",
       "      <td>no</td>\n",
       "      <td>2016-04-02</td>\n",
       "      <td>2016-04-06 20:47:12</td>\n",
       "    </tr>\n",
       "    <tr>\n",
       "      <th>354362</th>\n",
       "      <td>2016-03-19 19:53:49</td>\n",
       "      <td>3200</td>\n",
       "      <td>sedan</td>\n",
       "      <td>2004</td>\n",
       "      <td>manual</td>\n",
       "      <td>225</td>\n",
       "      <td>petrol</td>\n",
       "      <td>150000</td>\n",
       "      <td>petrol</td>\n",
       "      <td>seat</td>\n",
       "      <td>yes</td>\n",
       "      <td>2016-03-19</td>\n",
       "      <td>2016-03-19 20:44:43</td>\n",
       "    </tr>\n",
       "    <tr>\n",
       "      <th>354366</th>\n",
       "      <td>2016-03-05 19:56:21</td>\n",
       "      <td>1199</td>\n",
       "      <td>convertible</td>\n",
       "      <td>2000</td>\n",
       "      <td>auto</td>\n",
       "      <td>101</td>\n",
       "      <td>petrol</td>\n",
       "      <td>125000</td>\n",
       "      <td>petrol</td>\n",
       "      <td>smart</td>\n",
       "      <td>no</td>\n",
       "      <td>2016-03-05</td>\n",
       "      <td>2016-03-11 18:17:12</td>\n",
       "    </tr>\n",
       "    <tr>\n",
       "      <th>354367</th>\n",
       "      <td>2016-03-19 18:57:12</td>\n",
       "      <td>9200</td>\n",
       "      <td>bus</td>\n",
       "      <td>1996</td>\n",
       "      <td>manual</td>\n",
       "      <td>102</td>\n",
       "      <td>petrol</td>\n",
       "      <td>150000</td>\n",
       "      <td>petrol</td>\n",
       "      <td>volkswagen</td>\n",
       "      <td>no</td>\n",
       "      <td>2016-03-19</td>\n",
       "      <td>2016-04-07 07:15:26</td>\n",
       "    </tr>\n",
       "    <tr>\n",
       "      <th>354368</th>\n",
       "      <td>2016-03-20 19:41:08</td>\n",
       "      <td>3400</td>\n",
       "      <td>wagon</td>\n",
       "      <td>2002</td>\n",
       "      <td>manual</td>\n",
       "      <td>100</td>\n",
       "      <td>petrol</td>\n",
       "      <td>150000</td>\n",
       "      <td>petrol</td>\n",
       "      <td>volkswagen</td>\n",
       "      <td>Nun</td>\n",
       "      <td>2016-03-20</td>\n",
       "      <td>2016-03-24 12:45:21</td>\n",
       "    </tr>\n",
       "  </tbody>\n",
       "</table>\n",
       "<p>252928 rows × 13 columns</p>\n",
       "</div>"
      ],
      "text/plain": [
       "              date_crawled  price vehicle_type  registration_year gearbox  \\\n",
       "1      2016-03-24 10:58:45  18300        coupe               2011  manual   \n",
       "2      2016-03-14 12:52:21   9800          suv               2004    auto   \n",
       "3      2016-03-17 16:54:04   1500        small               2001  manual   \n",
       "4      2016-03-31 17:25:20   3600        small               2008  manual   \n",
       "6      2016-04-01 20:48:51   2200  convertible               2004  manual   \n",
       "...                    ...    ...          ...                ...     ...   \n",
       "354360 2016-04-02 20:37:03   3999        wagon               2005  manual   \n",
       "354362 2016-03-19 19:53:49   3200        sedan               2004  manual   \n",
       "354366 2016-03-05 19:56:21   1199  convertible               2000    auto   \n",
       "354367 2016-03-19 18:57:12   9200          bus               1996  manual   \n",
       "354368 2016-03-20 19:41:08   3400        wagon               2002  manual   \n",
       "\n",
       "        power   model  kilometer fuel_type       brand repaired date_created  \\\n",
       "1         190  petrol     125000    petrol        audi      yes   2016-03-24   \n",
       "2         163  petrol     125000    petrol        jeep      Nun   2016-03-14   \n",
       "3          75  petrol     150000    petrol  volkswagen       no   2016-03-17   \n",
       "4          69  petrol      90000    petrol       skoda       no   2016-03-31   \n",
       "6         109  petrol     150000    petrol     peugeot       no   2016-04-01   \n",
       "...       ...     ...        ...       ...         ...      ...          ...   \n",
       "354360      3  petrol     150000    petrol         bmw       no   2016-04-02   \n",
       "354362    225  petrol     150000    petrol        seat      yes   2016-03-19   \n",
       "354366    101  petrol     125000    petrol       smart       no   2016-03-05   \n",
       "354367    102  petrol     150000    petrol  volkswagen       no   2016-03-19   \n",
       "354368    100  petrol     150000    petrol  volkswagen      Nun   2016-03-20   \n",
       "\n",
       "                  lastseen  \n",
       "1      2016-04-07 01:46:50  \n",
       "2      2016-04-05 12:47:46  \n",
       "3      2016-03-17 17:40:17  \n",
       "4      2016-04-06 10:17:21  \n",
       "6      2016-04-05 18:18:39  \n",
       "...                    ...  \n",
       "354360 2016-04-06 20:47:12  \n",
       "354362 2016-03-19 20:44:43  \n",
       "354366 2016-03-11 18:17:12  \n",
       "354367 2016-04-07 07:15:26  \n",
       "354368 2016-03-24 12:45:21  \n",
       "\n",
       "[252928 rows x 13 columns]"
      ]
     },
     "execution_count": 33,
     "metadata": {},
     "output_type": "execute_result"
    }
   ],
   "source": [
    "autos = autos.loc[autos['power'] < 350]\n",
    "autos"
   ]
  },
  {
   "cell_type": "code",
   "execution_count": 34,
   "id": "6c97f751",
   "metadata": {},
   "outputs": [],
   "source": [
    "after = len(autos)"
   ]
  },
  {
   "cell_type": "code",
   "execution_count": 35,
   "id": "a7c9b8cf-5f1b-40dd-99af-224b23ba5776",
   "metadata": {},
   "outputs": [
    {
     "name": "stdout",
     "output_type": "stream",
     "text": [
      "18402\n",
      "6.78\n"
     ]
    }
   ],
   "source": [
    "delete = before - after\n",
    "procent = 100 - after * 100 / before\n",
    "print(delete)\n",
    "print(round(procent, 2))"
   ]
  },
  {
   "cell_type": "markdown",
   "id": "508684c7-7d40-4bf0-ae41-59e7fe086544",
   "metadata": {},
   "source": [
    "Итого мы удалили окло 7% оставшихся данных. Это были выбросы из 'registration_year' и 'power'. Остальные значения были не настолько критичны, чтобы их удалять, т.к. сильно урежится выборка"
   ]
  },
  {
   "cell_type": "markdown",
   "id": "35cca8e4-ba9e-434e-ae7b-e151d977c687",
   "metadata": {},
   "source": [
    "Теперь посмотрим на категориальные признаки. Для model и brand возьмем только 5 самых популярных значений, потомучто в общем их всех очень много, и это будет неразборчиво выглядеть"
   ]
  },
  {
   "cell_type": "code",
   "execution_count": 36,
   "id": "dfa7d287-cf82-44e9-a330-f7cd5ea80246",
   "metadata": {},
   "outputs": [
    {
     "data": {
      "image/png": "[encoded data removed]",
      "text/plain": [
       "<Figure size 288x288 with 1 Axes>"
      ]
     },
     "metadata": {},
     "output_type": "display_data"
    },
    {
     "data": {
      "image/png": "[encoded data removed]",
      "text/plain": [
       "<Figure size 288x288 with 1 Axes>"
      ]
     },
     "metadata": {},
     "output_type": "display_data"
    },
    {
     "data": {
      "image/png": "[encoded data removed]",
      "text/plain": [
       "<Figure size 288x288 with 1 Axes>"
      ]
     },
     "metadata": {},
     "output_type": "display_data"
    },
    {
     "data": {
      "image/png": "[encoded data removed]",
      "text/plain": [
       "<Figure size 288x288 with 1 Axes>"
      ]
     },
     "metadata": {},
     "output_type": "display_data"
    },
    {
     "data": {
      "image/png": "[encoded data removed]",
      "text/plain": [
       "<Figure size 288x288 with 1 Axes>"
      ]
     },
     "metadata": {},
     "output_type": "display_data"
    },
    {
     "data": {
      "image/png": "[encoded data removed]",
      "text/plain": [
       "<Figure size 288x288 with 1 Axes>"
      ]
     },
     "metadata": {},
     "output_type": "display_data"
    }
   ],
   "source": [
    "kat_col = ['vehicle_type', 'gearbox', 'model', 'fuel_type', 'brand', 'repaired']\n",
    "kategory_col(autos, kat_col)"
   ]
  },
  {
   "cell_type": "markdown",
   "id": "7f6c0b6c-3132-4444-8380-8e2862c51ee3",
   "metadata": {},
   "source": [
    "По поостроенным кружочкам можно выделить самые популярные значения в признаках. У vehicle_type это оказались sedan - 33% от всех значений, small - 23% и wagon - 20%. Самым популярным типом коробки передач стал механический - 80%, а остальное - автоматический. Из моделей было выделено 5 наиболее встречающихся. Ими оказались: golf, other, 3er, polo corsa. Из типа топлива можно выделить только два: petroil - 67% и gasoline - 31%. Это два самых популярных типа топлива. Остальные не популярные. Самыми популярными марками машин оказались: volkswagen - 35%, bmv - 18%, opel - 14%, mers - 15%, audi - 14%. По ремонту: 91% не был замешан в серьезном ремонте, а остальные - были"
   ]
  },
  {
   "cell_type": "markdown",
   "id": "95f510f3-bd6e-4575-9a6d-e1842a53468b",
   "metadata": {},
   "source": [
    "На данном шаге мы проанализировали числовые и категориальные данные с помощью функций numbers_plot и kategory_col. В численных данных пришлось удалить полтора процента оставшихся данных. Это были выбросы из 'registration_year' и 'power'. Остальные значения были не настолько критичны, чтобы их удалять, потомучто выборка могла сильно уменьшиться. По категориальным значениям неявных дубликатов не было замечено."
   ]
  },
  {
   "cell_type": "markdown",
   "id": "e0e03472-d31b-4938-9f0b-0c56833ce16b",
   "metadata": {
    "scrolled": true
   },
   "source": [
    "## Обучение моделей"
   ]
  },
  {
   "cell_type": "markdown",
   "id": "33f2b338-dd65-4075-9916-28dc4653fcc3",
   "metadata": {},
   "source": [
    "Перейдем к основному этапу проекта - это построение и обучение моделей, среди которых мы выберем лучшую. Начнем с самой обычной - линейной регрессии.  \n",
    "Модели будем проверять на валидационной выборке"
   ]
  },
  {
   "cell_type": "code",
   "execution_count": 37,
   "id": "4b75a53e-441f-48d3-962e-5ea67c5e70c3",
   "metadata": {
    "scrolled": false
   },
   "outputs": [
    {
     "name": "stdout",
     "output_type": "stream",
     "text": [
      "40010\n",
      "0\n"
     ]
    }
   ],
   "source": [
    "RANDOM_STATE = 42\n",
    "TEST_SIZE = 0.25\n",
    "autos = autos.drop(['date_crawled', 'date_created', 'lastseen'], axis=1)\n",
    "print(autos.duplicated().sum())\n",
    "autos = autos.drop_duplicates()\n",
    "print(autos.duplicated().sum())\n",
    "X = autos.drop(['price'], axis=1)\n",
    "y = autos['price']\n",
    "X_train, X_test, y_train, y_test = train_test_split(X, y, test_size=TEST_SIZE, random_state=RANDOM_STATE)"
   ]
  },
  {
   "cell_type": "markdown",
   "id": "6419dbdd-f935-4e11-a7f0-b01522ec532a",
   "metadata": {},
   "source": [
    "Для обучения LinearRegression() нужно масштабировать наши данные. Числовые будем с помощью StandardScaler(), а категориальные - OrdinalEncoder()"
   ]
  },
  {
   "cell_type": "code",
   "execution_count": 38,
   "id": "4bd96c8d",
   "metadata": {},
   "outputs": [],
   "source": [
    "scaler = StandardScaler()\n",
    "scaler_columns = ['power', 'kilometer']\n",
    "scaler.fit(X_train[scaler_columns])\n",
    "\n",
    "X_train_scaled = scaler.transform(X_train[scaler_columns])\n",
    "X_test_scaled = scaler.transform(X_test[scaler_columns])\n",
    "\n",
    "X_train_scaled = pd.DataFrame(X_train_scaled, columns=scaler_columns)\n",
    "X_test_scaled = pd.DataFrame(X_test_scaled, columns=scaler_columns)"
   ]
  },
  {
   "cell_type": "code",
   "execution_count": 39,
   "id": "48a926f0",
   "metadata": {},
   "outputs": [],
   "source": [
    "encoder_columns = ['vehicle_type', 'gearbox', 'model', 'fuel_type', 'brand', 'repaired']\n",
    "encoder = OrdinalEncoder(handle_unknown='use_encoded_value', unknown_value=-1)\n",
    "encoder.fit(X_train[encoder_columns])\n",
    "\n",
    "X_train_ohe = encoder.transform(X_train[encoder_columns])\n",
    "X_test_ohe = encoder.transform(X_test[encoder_columns])\n",
    "\n",
    "column_names = encoder.get_feature_names_out(input_features=encoder_columns)\n",
    "\n",
    "X_train_ohe = pd.DataFrame(X_train_ohe, columns=column_names)\n",
    "X_test_ohe = pd.DataFrame(X_test_ohe, columns=column_names)"
   ]
  },
  {
   "cell_type": "code",
   "execution_count": 40,
   "id": "1e5e8a07",
   "metadata": {},
   "outputs": [],
   "source": [
    "from sklearn.preprocessing import OneHotEncoder\n",
    "encoder = OneHotEncoder(drop='first')\n",
    "encoder.fit(X_train[encoder_columns])\n",
    "X_train_one = pd.DataFrame(encoder.transform(X_train[encoder_columns]).toarray(), columns=encoder.get_feature_names_out(input_features=encoder_columns))\n",
    "X_test_one = pd.DataFrame(encoder.transform(X_test[encoder_columns]).toarray(), columns=encoder.get_feature_names_out(input_features=encoder_columns))"
   ]
  },
  {
   "cell_type": "code",
   "execution_count": 41,
   "id": "f6170fda",
   "metadata": {},
   "outputs": [],
   "source": [
    "X_train_ohe = pd.concat([X_train_ohe, X_train_scaled], axis=1).reset_index(drop=True)\n",
    "X_test_ohe = pd.concat([X_test_ohe, X_test_scaled], axis=1).reset_index(drop=True)\n",
    "\n",
    "X_train_one = pd.concat([X_train_one, X_train_scaled], axis=1).reset_index(drop=True)\n",
    "X_test_one = pd.concat([X_test_one, X_test_scaled], axis=1).reset_index(drop=True)"
   ]
  },
  {
   "cell_type": "code",
   "execution_count": 42,
   "id": "ea7293a9-4987-41dc-ad80-589b0ef9b3d9",
   "metadata": {},
   "outputs": [
    {
     "name": "stdout",
     "output_type": "stream",
     "text": [
      "Время обучения модели:  11.3672 секунд\n",
      "Время предсказания модели:  0.113 секунд\n",
      "3216.4604784313806\n"
     ]
    }
   ],
   "source": [
    "model = LinearRegression()\n",
    "\n",
    "param_grid = {\n",
    "}\n",
    "\n",
    "gs = GridSearchCV(model, param_grid, scoring='neg_mean_squared_error', cv=5)\n",
    "start_time = time.time()\n",
    "gs.fit(X_train_one, y_train)\n",
    "end_time = time.time()\n",
    "elapsed_time_1_1 = end_time - start_time\n",
    "elapsed_time_1_1 = round(elapsed_time_1_1, 4)\n",
    "print(\"Время обучения модели: \", elapsed_time_1_1, \"секунд\")\n",
    "\n",
    "start_time = time.time()\n",
    "predictions = gs.predict(X_test_one)\n",
    "end_time = time.time()\n",
    "elapsed_time_1_2 = end_time - start_time\n",
    "elapsed_time_1_2 = round(elapsed_time_1_2, 4)\n",
    "print(\"Время предсказания модели: \", elapsed_time_1_2, \"секунд\")\n",
    "\n",
    "best_rmse_1 = (-gs.best_score_)**0.5\n",
    "print(best_rmse_1)"
   ]
  },
  {
   "cell_type": "markdown",
   "id": "6f1c37f7-0298-416d-afa6-28105c74ff3f",
   "metadata": {},
   "source": [
    "RMSE: 3216. Это плохой результат по мтерике, т.к. заказчик просил сделать ошибку меньше 2500. По времени все очень быстро. Посмотрим еще на модель DecisionTreeRegressor. В ней так же воспользуемся нашими закодированными признаками"
   ]
  },
  {
   "cell_type": "code",
   "execution_count": 43,
   "id": "5ebb8c2e-6fcc-42d2-8ca8-a4c4f7fd5f8d",
   "metadata": {},
   "outputs": [
    {
     "name": "stdout",
     "output_type": "stream",
     "text": [
      "Время обучения модели:  24.3192 секунд\n",
      "Время предсказания модели:  0.0143 секунд\n",
      "2613.79563857199\n",
      "DecisionTreeRegressor(max_depth=30, min_samples_leaf=4, min_samples_split=30,\n",
      "                      random_state=42)\n"
     ]
    }
   ],
   "source": [
    "model = DecisionTreeRegressor(random_state=RANDOM_STATE)\n",
    "param_grid = {\n",
    "    'max_depth': [5, 10, 30],\n",
    "    'min_samples_split': [10, 30, 70],\n",
    "    'min_samples_leaf': [2, 4, 8]\n",
    "}\n",
    "gs = GridSearchCV(model, param_grid, scoring='neg_mean_squared_error', cv=5)\n",
    "start_time = time.time()\n",
    "gs.fit(X_train_ohe, y_train)\n",
    "end_time = time.time()\n",
    "elapsed_time_2_1 = end_time - start_time\n",
    "elapsed_time_2_1 = round(elapsed_time_2_1, 4)\n",
    "print(\"Время обучения модели: \", elapsed_time_2_1, \"секунд\")\n",
    "\n",
    "start_time2 = time.time()\n",
    "predictions = gs.predict(X_test_ohe)\n",
    "end_time2 = time.time()\n",
    "elapsed_time_2_2 = end_time2 - start_time2\n",
    "elapsed_time_2_2 = round(elapsed_time_2_2, 4)\n",
    "print(\"Время предсказания модели: \", elapsed_time_2_2, \"секунд\")\n",
    "\n",
    "best_rmse_2 = (-gs.best_score_)**0.5\n",
    "print(best_rmse_2)\n",
    "\n",
    "best_model = gs.best_estimator_\n",
    "print(best_model)"
   ]
  },
  {
   "cell_type": "markdown",
   "id": "01a59c9b-e363-4a3f-9f6a-d5c0ea7f556c",
   "metadata": {},
   "source": [
    "RMSE: 2613 с такими параметрами {'max_depth': 30, 'min_samples_leaf': 4, 'min_samples_split': 10}. Результаты метрики получились лучше чем у линейной регрессии, но тоже меньше 2600. Ну и ждать пришлось достаточно долго(около 24 сек), чтобы получить результат. Но это для перебора параметров. Проверим, как по времени справится эта же модель с лучшими параметрами, чтобы получить итоговый результат"
   ]
  },
  {
   "cell_type": "code",
   "execution_count": 44,
   "id": "174814cc",
   "metadata": {},
   "outputs": [
    {
     "name": "stdout",
     "output_type": "stream",
     "text": [
      "Время обучения модели:  1.5005 секунд\n",
      "Время предсказания модели:  0.0146 секунд\n",
      "2623.8623968508296\n"
     ]
    }
   ],
   "source": [
    "model = DecisionTreeRegressor(random_state=RANDOM_STATE)\n",
    "\n",
    "param_grid = {\n",
    "    'max_depth': [30],\n",
    "    'min_samples_split': [10],\n",
    "    'min_samples_leaf': [4]\n",
    "}\n",
    "\n",
    "gs = GridSearchCV(model, param_grid, scoring='neg_mean_squared_error', cv=5)\n",
    "\n",
    "start_time = time.time()\n",
    "gs.fit(X_train_ohe, y_train)\n",
    "end_time = time.time()\n",
    "elapsed_time_2_1 = end_time - start_time\n",
    "elapsed_time_2_1 = round(elapsed_time_2_1, 4)\n",
    "print(\"Время обучения модели: \", elapsed_time_2_1, \"секунд\")\n",
    "\n",
    "start_time2 = time.time()\n",
    "predictions = gs.predict(X_test_ohe)\n",
    "end_time2 = time.time()\n",
    "elapsed_time_2_2 = end_time2 - start_time2\n",
    "elapsed_time_2_2 = round(elapsed_time_2_2, 4)\n",
    "print(\"Время предсказания модели: \", elapsed_time_2_2, \"секунд\")\n",
    "\n",
    "best_rmse_2 = (-gs.best_score_)**0.5\n",
    "print(best_rmse_2)"
   ]
  },
  {
   "cell_type": "markdown",
   "id": "e5d1a8a1",
   "metadata": {},
   "source": [
    "Итоги модели DecisionTreeRegressor: RMSE: 2623, общее время обучения и предсказания: около 2 секунд"
   ]
  },
  {
   "cell_type": "markdown",
   "id": "86040b9b-a7f3-457c-94d9-c69ab589d49a",
   "metadata": {},
   "source": [
    "Две прошлые модели справились со своей задачей не очень. Попробуем обучить последнюю модель, которая от части состоит из первых двух - это LightGBM. Быстрая, расширяемая градиентный бустинг модель, которая обучает ансамбль деревьев решений последовательно, чтобы минимизировать ошибку прогнозирования. Помимо этого добавим к ней параметры 'n_estimators', 'max_depth', 'num_leaves'. Все это должно нам помочь улучшить результат метрики и скорости подсчета"
   ]
  },
  {
   "cell_type": "code",
   "execution_count": 45,
   "id": "4a5cbc90",
   "metadata": {},
   "outputs": [],
   "source": [
    "RANDOM_STATE = 42\n",
    "TEST_SIZE = 0.25\n",
    "X = autos.drop(['price'], axis=1)\n",
    "y = autos['price']\n",
    "X_train, X_test, y_train, y_test = train_test_split(X, y, test_size=TEST_SIZE, random_state=RANDOM_STATE)\n",
    "model = LGBMRegressor(seed=RANDOM_STATE, verbosity=-1)"
   ]
  },
  {
   "cell_type": "code",
   "execution_count": 46,
   "id": "7802f1c2",
   "metadata": {},
   "outputs": [],
   "source": [
    "\n",
    "param_grid = {\n",
    "    'n_estimators': [10, 100],\n",
    "    'max_depth': [5, 20],\n",
    "    'num_leaves': [30, 140]\n",
    "}\n",
    "\n",
    "\n",
    "categorical_features = ['vehicle_type', 'gearbox', 'model', 'fuel_type', 'brand', 'repaired']\n",
    "for feature in categorical_features:\n",
    "    X_train_ohe[feature] = X_train_ohe[feature].astype('category')  \n",
    "    X_test_ohe[feature] = X_test_ohe[feature].astype('category')\n"
   ]
  },
  {
   "cell_type": "code",
   "execution_count": 47,
   "id": "815aadaf-8998-43c0-8e5a-36e3b38c20a7",
   "metadata": {},
   "outputs": [
    {
     "name": "stdout",
     "output_type": "stream",
     "text": [
      "Время обучения модели:  235.0904 секунд\n",
      "Время предсказания модели:  0.897 секунд\n",
      "2436.519675419961\n",
      "LGBMRegressor(max_depth=20, num_leaves=140, seed=42, verbosity=-1)\n"
     ]
    }
   ],
   "source": [
    "\n",
    "gs = GridSearchCV(model, param_grid, scoring='neg_mean_squared_error', cv=5)\n",
    "\n",
    "start_time = time.time()\n",
    "gs.fit(X_train_ohe, y_train)\n",
    "end_time = time.time()\n",
    "elapsed_time_3_1 = end_time - start_time\n",
    "elapsed_time_3_1 = round(elapsed_time_3_1, 4)\n",
    "print(\"Время обучения модели: \", elapsed_time_3_1, \"секунд\")\n",
    "\n",
    "start_time2 = time.time()\n",
    "predictions = gs.best_estimator_.predict(X_test_ohe)\n",
    "end_time2 = time.time()\n",
    "elapsed_time_3_2 = end_time2 - start_time2\n",
    "elapsed_time_3_2 = round(elapsed_time_3_2, 4)\n",
    "print(\"Время предсказания модели: \", elapsed_time_3_2, \"секунд\")\n",
    "\n",
    "best_rmse_3 = (-gs.best_score_)**0.5\n",
    "print(best_rmse_3)\n",
    "best_model = gs.best_estimator_\n",
    "print(best_model)"
   ]
  },
  {
   "cell_type": "markdown",
   "id": "1f2c8a49-f5f8-4a68-8de6-87c2d92bc8d4",
   "metadata": {},
   "source": [
    "RMSE: 2436 с параметрами {'max_depth': 20, 'n_estimators': 100, 'num_leaves': 140}. Это отличный результат по сравнению с прошлыми моделями. Времени на перебор всех возможных вариантов ушло намного меньше чем у второй модели, хотя здесь был параметр n_estimators, который помогал обучить модели в модели так сказать, что в разы должно уменьшить скорость обучения, но градиентному бустингу это ни по чем. Оставим эту модель конечной, так как она отлично справилась со своей задачей. Так как нам нужна и скорость выдачи ответа нашей модели, то просто оставим лучшие параметры у нее"
   ]
  },
  {
   "cell_type": "code",
   "execution_count": 48,
   "id": "25d8a9c0-23e3-48e1-ab5a-261cfbbf5d0e",
   "metadata": {},
   "outputs": [
    {
     "name": "stdout",
     "output_type": "stream",
     "text": [
      "Время обучения модели:  71.6952 секунд\n",
      "Время предсказания модели:  0.8266 секунд\n",
      "2436.519675419961\n",
      "LGBMRegressor(max_depth=20, num_leaves=140, seed=42, verbosity=-1)\n"
     ]
    }
   ],
   "source": [
    "\n",
    "model = LGBMRegressor(seed=RANDOM_STATE, verbosity=-1)\n",
    "param_grid = {\n",
    "    'n_estimators': [100],\n",
    "    'max_depth': [20],\n",
    "    'num_leaves': [140]\n",
    "}\n",
    "\n",
    "categorical_features = ['vehicle_type', 'gearbox', 'model', 'fuel_type', 'brand', 'repaired']\n",
    "for feature in categorical_features:\n",
    "    X_train_ohe[feature] = X_train_ohe[feature].astype('category')  \n",
    "    X_test_ohe[feature] = X_test_ohe[feature].astype('category')\n",
    "\n",
    "gs = GridSearchCV(model, param_grid, scoring='neg_mean_squared_error', cv=5)\n",
    "\n",
    "start_time = time.time()\n",
    "gs.fit(X_train_ohe, y_train)\n",
    "end_time = time.time()\n",
    "elapsed_time_3_1 = end_time - start_time\n",
    "elapsed_time_3_1 = round(elapsed_time_3_1, 4)\n",
    "print(\"Время обучения модели: \", elapsed_time_3_1, \"секунд\")\n",
    "\n",
    "start_time2 = time.time()\n",
    "predictions = gs.best_estimator_.predict(X_test_ohe)\n",
    "end_time2 = time.time()\n",
    "elapsed_time_3_2 = end_time2 - start_time2\n",
    "elapsed_time_3_2 = round(elapsed_time_3_2, 4)\n",
    "print(\"Время предсказания модели: \", elapsed_time_3_2, \"секунд\")\n",
    "\n",
    "\n",
    "best_rmse_3 = (-gs.best_score_)**0.5\n",
    "print(best_rmse_3)\n",
    "best_model = gs.best_estimator_\n",
    "print(best_model)"
   ]
  },
  {
   "cell_type": "markdown",
   "id": "c1c8a288",
   "metadata": {},
   "source": [
    "Итоговая метрика получилась RMSE: 2436. Она удовлетворяет условиям заказсчика. По времени обучение и предсказание заняло 75 секунд, что достаточно много, но не критично."
   ]
  },
  {
   "cell_type": "markdown",
   "id": "a6b446d8",
   "metadata": {},
   "source": [
    "Чтобы определить лучшую модель построим общую таблицу с результатами"
   ]
  },
  {
   "cell_type": "code",
   "execution_count": 49,
   "id": "05a16df7",
   "metadata": {},
   "outputs": [
    {
     "data": {
      "text/html": [
       "<div>\n",
       "<style scoped>\n",
       "    .dataframe tbody tr th:only-of-type {\n",
       "        vertical-align: middle;\n",
       "    }\n",
       "\n",
       "    .dataframe tbody tr th {\n",
       "        vertical-align: top;\n",
       "    }\n",
       "\n",
       "    .dataframe thead th {\n",
       "        text-align: right;\n",
       "    }\n",
       "</style>\n",
       "<table border=\"1\" class=\"dataframe\">\n",
       "  <thead>\n",
       "    <tr style=\"text-align: right;\">\n",
       "      <th></th>\n",
       "      <th>модель</th>\n",
       "      <th>время обучения</th>\n",
       "      <th>время предсказания</th>\n",
       "      <th>метрика RMSE</th>\n",
       "    </tr>\n",
       "  </thead>\n",
       "  <tbody>\n",
       "    <tr>\n",
       "      <th>0</th>\n",
       "      <td>LinearRegressoin</td>\n",
       "      <td>11.3672</td>\n",
       "      <td>0.1130</td>\n",
       "      <td>3216.460478</td>\n",
       "    </tr>\n",
       "    <tr>\n",
       "      <th>1</th>\n",
       "      <td>DecisionTreeRegressor</td>\n",
       "      <td>1.5005</td>\n",
       "      <td>0.0146</td>\n",
       "      <td>2623.862397</td>\n",
       "    </tr>\n",
       "    <tr>\n",
       "      <th>2</th>\n",
       "      <td>LGBMRegressor</td>\n",
       "      <td>71.6952</td>\n",
       "      <td>0.8266</td>\n",
       "      <td>2436.519675</td>\n",
       "    </tr>\n",
       "  </tbody>\n",
       "</table>\n",
       "</div>"
      ],
      "text/plain": [
       "                  модель  время обучения  время предсказания  метрика RMSE\n",
       "0       LinearRegressoin         11.3672              0.1130   3216.460478\n",
       "1  DecisionTreeRegressor          1.5005              0.0146   2623.862397\n",
       "2          LGBMRegressor         71.6952              0.8266   2436.519675"
      ]
     },
     "execution_count": 49,
     "metadata": {},
     "output_type": "execute_result"
    }
   ],
   "source": [
    "w = ['модель', 'время обучения', 'время предсказания', 'метрика RMSE']\n",
    "q = [['LinearRegressoin', elapsed_time_1_1, elapsed_time_1_2, best_rmse_1], ['DecisionTreeRegressor', elapsed_time_2_1, elapsed_time_2_2, best_rmse_2], ['LGBMRegressor', elapsed_time_3_1, elapsed_time_3_2, best_rmse_3],]\n",
    "itogi = pd.DataFrame(data = q, columns = w)\n",
    "itogi"
   ]
  },
  {
   "cell_type": "markdown",
   "id": "e08dab07",
   "metadata": {},
   "source": [
    "Первая модель LinearRegressoin показала самое быстрое обучение по сравнению со всеми моделями(чуть меньше 1 секунды), но метрика оказалась худшей из всех. Она не удовлетворяет условию заказсчика, поэтому эта модель нам не подходит.  \n",
    "DecisionTreeRegressor\t - имеет уже лучше метрику, занимая второе место по ней. Времени тоже занимает немного всего полторы секунды, что очень мало.\n",
    "И последняя модель - LGBMRegressor. Показала худшие результаты по времени обучения и предсказания(около 70 секунд), но результаты метрики оказались самыми лучшими, достаточно сильно опережая конкурентов. Эти значения удовлетворяют условию заказсчика, несмотря на достаточно высокие показатели времени.  \n",
    "Модель LGBMRegressor можно считать лучшей, ведь она отлично предсказывает не смотря на время обучения. Пока будет идти подсчет цены автомобиля пользователя, то ему можно будет предложить посмотреть цены на похожие на его машины. Проверим модель на тестовой выборке"
   ]
  },
  {
   "cell_type": "code",
   "execution_count": 50,
   "id": "60ee5350",
   "metadata": {},
   "outputs": [
    {
     "name": "stdout",
     "output_type": "stream",
     "text": [
      "Время обучения модели:  11.0852 секунд\n",
      "Время получения предсказаний:  0.913 секунд\n",
      "RMSE: 2456\n"
     ]
    },
    {
     "name": "stderr",
     "output_type": "stream",
     "text": [
      "/opt/conda/lib/python3.9/site-packages/sklearn/metrics/_regression.py:483: FutureWarning: 'squared' is deprecated in version 1.4 and will be removed in 1.6. To calculate the root mean squared error, use the function'root_mean_squared_error'.\n",
      "  warnings.warn(\n"
     ]
    }
   ],
   "source": [
    "# Определение модели с установленными параметрами\n",
    "model = LGBMRegressor(n_estimators=100, max_depth=20, num_leaves=140, verbosity=-1)\n",
    "\n",
    "# Преобразование категориальных признаков в числовой формат\n",
    "categorical_features = ['vehicle_type', 'gearbox', 'model', 'fuel_type', 'brand', 'repaired']\n",
    "for feature in categorical_features:\n",
    "    X_train_ohe[feature] = X_train_ohe[feature].astype('category')  \n",
    "    X_test_ohe[feature] = X_test_ohe[feature].astype('category')\n",
    "\n",
    "start_time = time.time()\n",
    "model.fit(X_train_ohe, y_train)\n",
    "end_time = time.time()\n",
    "elapsed_time = end_time - start_time\n",
    "elapsed_time = round(elapsed_time, 4)\n",
    "print(\"Время обучения модели: \", elapsed_time, \"секунд\")\n",
    "\n",
    "start_time2 = time.time()\n",
    "predictions = model.predict(X_test_ohe)\n",
    "end_time2 = time.time()\n",
    "elapsed_time2 = end_time2 - start_time2\n",
    "elapsed_time2 = round(elapsed_time2, 4)\n",
    "print(\"Время получения предсказаний: \", elapsed_time2, \"секунд\")\n",
    "\n",
    "# Вычисление RMSE\n",
    "rmse = mean_squared_error(y_test, predictions, squared=False)\n",
    "rmse = round(rmse)\n",
    "print(\"RMSE:\", rmse)"
   ]
  },
  {
   "cell_type": "markdown",
   "id": "aa37f623",
   "metadata": {},
   "source": [
    "На тестовой выборке модель оказалась быстрее(13 сек) и намного лучше по метрике, что приятно"
   ]
  },
  {
   "cell_type": "markdown",
   "id": "0b3f7edb",
   "metadata": {},
   "source": [
    "Проверим нашу итоговую модель на результативность. Сравним ее со средними значениями тренировочной выборки с помощью DummyRegressor"
   ]
  },
  {
   "cell_type": "code",
   "execution_count": 51,
   "id": "a8ef8c5f",
   "metadata": {
    "scrolled": true
   },
   "outputs": [
    {
     "name": "stdout",
     "output_type": "stream",
     "text": [
      "rmse_model 2456.1271793013975\n",
      "rmse_dummy 4652.338625458507\n",
      "Победа нашей модельки!\n"
     ]
    },
    {
     "name": "stderr",
     "output_type": "stream",
     "text": [
      "/opt/conda/lib/python3.9/site-packages/sklearn/metrics/_regression.py:483: FutureWarning: 'squared' is deprecated in version 1.4 and will be removed in 1.6. To calculate the root mean squared error, use the function'root_mean_squared_error'.\n",
      "  warnings.warn(\n",
      "/opt/conda/lib/python3.9/site-packages/sklearn/metrics/_regression.py:483: FutureWarning: 'squared' is deprecated in version 1.4 and will be removed in 1.6. To calculate the root mean squared error, use the function'root_mean_squared_error'.\n",
      "  warnings.warn(\n"
     ]
    }
   ],
   "source": [
    "model = LGBMRegressor(n_estimators=100, max_depth=20, num_leaves=140, verbosity=-1)\n",
    "categorical_features = ['vehicle_type', 'gearbox', 'model', 'fuel_type', 'brand', 'repaired']\n",
    "for feature in categorical_features:\n",
    "    X_train_ohe[feature] = X_train_ohe[feature].astype('category')  \n",
    "    X_test_ohe[feature] = X_test_ohe[feature].astype('category')\n",
    "model.fit(X_train_ohe, y_train)\n",
    "\n",
    "predictions = model.predict(X_test_ohe)\n",
    "rmse_model = mean_squared_error(y_test, predictions, squared=False)\n",
    "print('rmse_model', rmse_model)\n",
    "\n",
    "dummy_model = DummyRegressor(strategy='mean')\n",
    "dummy_model.fit(X_train_ohe, y_train)\n",
    "dummy_predictions = dummy_model.predict(X_test_ohe)\n",
    "rmse_dummy = mean_squared_error(y_test, dummy_predictions, squared=False)\n",
    "print('rmse_dummy', rmse_dummy)\n",
    "if rmse_model < rmse_dummy:\n",
    "    print(\"Победа нашей модельки!\")\n",
    "else:\n",
    "    print(\"Победа константы(\")"
   ]
  },
  {
   "cell_type": "markdown",
   "id": "8704cabb-078b-477f-a5e1-0bbfb04e6c34",
   "metadata": {},
   "source": [
    "Можно подвести итог данного шага. На нем мы обучили 3 различных модели: LinearRegression, DecisionTreeRegressor, LGBMRegressor. Сравнили их метрики и время обучения. Самой лучшей из них оказалась LGBMRegressor, показав лучшую метрику RMSE: 2436, то есть предсказанная цена в среднем может отличается от истиного на 1600 и по времени, затратив на обучение и предсказание меньше секунды для каждого шага. Параметры модели: 'max_depth': 20, 'n_estimators': 100, 'num_leaves': 140. Наша модель оказалась нужной, так как в сравнении с константными значениями она показала результат намного лучше"
   ]
  },
  {
   "cell_type": "markdown",
   "id": "fc9f855a-4c78-4fc8-9599-c4b4e3d9f05d",
   "metadata": {},
   "source": [
    "## Итоги проекта"
   ]
  },
  {
   "cell_type": "markdown",
   "id": "c7bb0de8-20a2-4041-a26f-f23a3c5c0793",
   "metadata": {},
   "source": [
    "Нам удалось создать и подобрать лучшую модель для компании , которая быстро и качественно предсказывает стоймость машины пользователя. Для этого мы проделали несколько шагов:  \n",
    "* Загрузка данных. На данном шаге мы загрузили информацию, которую нам предоставила компания «Не бит, не крашен», в виде таблицы.\n",
    "* Предобработка данных. Первым делом мы приведели к нижнему регистру названия столбиков и заменим слитное написание раздельных слов на _. Посмотрели на информацию, типы столбцов, пропуски и дубликаты таблицы с помощью функции analiz. Изменили типы данных у двух столбцов с датами на datetime64. С помощью функции describe() мы так же увидли информацию о таблице, но немного другую. Тут уже больше видны выбросы или какие-то нестандартные значеиня. В столбце с годом регистрации автомобиля это 9999 и 1000 годы. В мощности машины - 20000 л.с. слишком много. И самый странный столбец это number_of_pictures, его пришлось удалить, т.к. в нем были одни нули. И в самом конце шага удалили данные. Еще удалили RegistrationMonth и PostalCode\n",
    "* Подготовка к обучению модели. На данном шаге мы проанализировали числовые и категориальные данные с помощью функций numbers_plot и kategory_col. В численных данных пришлось удалить полтора процента оставшихся данных. Это были выбросы из 'registration_year' и 'power'. Остальные значения были не настолько критичны, чтобы их удалять, потому что выборка могла сильно уменьшиться. По категориальным значениям неявных дубликатов не было замечено.\n",
    "* Обучение моделей. Пришлось обучить три модели LinearRegression, DecisionTreeRegressor, LGBMRegressor. Сравнили их метрики и время обучения. Самой лучшей из них оказалась LGBMRegressor, показав лучшую метрику RMSE: 2436 на кросс-валидации, а на тестовой выборке вообще 1620, то есть предсказанная цена в среднем может отличается от истиного на 1600 и по времени, затратив на обучение и предсказание меньше секунды для каждого шага. Параметры модели: 'max_depth': 20, 'n_estimators': 100, 'num_leaves': 140. Большие значения параметров не были установлены, так как модель могла переобучиться\n",
    "\n",
    "Итоговой моделью стал градиентный бустинг LightGBM. Ее мы проверили на тестовой выборке и с помощью DummyRegressor. Везде получились хорошие результаты. Она удовлетворяет всем условиям заказчика, благодаря своей метрике, рассчитывая стоймость автомобиля пользователя примерно за 13 секунд на тестовой выборке. Пока будет идти подсчет цены авто пользователя, то ему можно предложить посмотреть цены на похожие на его машины."
   ]
  }
 ],
 "metadata": {
  "ExecuteTimeLog": [
   {
    "duration": 51,
    "start_time": "2024-03-12T06:49:39.447Z"
   },
   {
    "duration": 0,
    "start_time": "2024-03-12T06:49:39.500Z"
   },
   {
    "duration": 0,
    "start_time": "2024-03-12T06:49:39.502Z"
   },
   {
    "duration": 0,
    "start_time": "2024-03-12T06:49:39.503Z"
   },
   {
    "duration": 0,
    "start_time": "2024-03-12T06:49:39.503Z"
   },
   {
    "duration": 0,
    "start_time": "2024-03-12T06:49:39.504Z"
   },
   {
    "duration": 0,
    "start_time": "2024-03-12T06:49:39.505Z"
   },
   {
    "duration": 0,
    "start_time": "2024-03-12T06:49:39.506Z"
   },
   {
    "duration": 0,
    "start_time": "2024-03-12T06:49:39.507Z"
   },
   {
    "duration": 0,
    "start_time": "2024-03-12T06:49:39.508Z"
   },
   {
    "duration": 0,
    "start_time": "2024-03-12T06:49:39.509Z"
   },
   {
    "duration": 0,
    "start_time": "2024-03-12T06:49:39.510Z"
   },
   {
    "duration": 0,
    "start_time": "2024-03-12T06:49:39.511Z"
   },
   {
    "duration": 0,
    "start_time": "2024-03-12T06:49:39.512Z"
   },
   {
    "duration": 0,
    "start_time": "2024-03-12T06:49:39.513Z"
   },
   {
    "duration": 0,
    "start_time": "2024-03-12T06:49:39.514Z"
   },
   {
    "duration": 0,
    "start_time": "2024-03-12T06:49:39.515Z"
   },
   {
    "duration": 0,
    "start_time": "2024-03-12T06:49:39.516Z"
   },
   {
    "duration": 0,
    "start_time": "2024-03-12T06:49:39.517Z"
   },
   {
    "duration": 0,
    "start_time": "2024-03-12T06:49:39.518Z"
   },
   {
    "duration": 0,
    "start_time": "2024-03-12T06:49:39.519Z"
   },
   {
    "duration": 0,
    "start_time": "2024-03-12T06:49:39.520Z"
   },
   {
    "duration": 0,
    "start_time": "2024-03-12T06:49:39.521Z"
   },
   {
    "duration": 0,
    "start_time": "2024-03-12T06:49:39.522Z"
   },
   {
    "duration": 0,
    "start_time": "2024-03-12T06:49:39.523Z"
   },
   {
    "duration": 0,
    "start_time": "2024-03-12T06:49:39.565Z"
   },
   {
    "duration": 0,
    "start_time": "2024-03-12T06:49:39.566Z"
   },
   {
    "duration": 0,
    "start_time": "2024-03-12T06:49:39.567Z"
   },
   {
    "duration": 0,
    "start_time": "2024-03-12T06:49:39.568Z"
   },
   {
    "duration": 0,
    "start_time": "2024-03-12T06:49:39.569Z"
   },
   {
    "duration": 0,
    "start_time": "2024-03-12T06:49:39.570Z"
   },
   {
    "duration": 0,
    "start_time": "2024-03-12T06:49:39.571Z"
   },
   {
    "duration": 0,
    "start_time": "2024-03-12T06:49:39.572Z"
   },
   {
    "duration": 0,
    "start_time": "2024-03-12T06:49:39.573Z"
   },
   {
    "duration": 0,
    "start_time": "2024-03-12T06:49:39.574Z"
   },
   {
    "duration": 0,
    "start_time": "2024-03-12T06:49:39.575Z"
   },
   {
    "duration": 0,
    "start_time": "2024-03-12T06:49:39.576Z"
   },
   {
    "duration": 0,
    "start_time": "2024-03-12T06:49:39.577Z"
   },
   {
    "duration": 13150,
    "start_time": "2024-03-12T06:50:18.386Z"
   },
   {
    "duration": 1477,
    "start_time": "2024-03-12T06:50:31.538Z"
   },
   {
    "duration": 16,
    "start_time": "2024-03-12T06:50:33.016Z"
   },
   {
    "duration": 148,
    "start_time": "2024-03-12T06:50:33.033Z"
   },
   {
    "duration": 1080,
    "start_time": "2024-03-12T06:50:49.891Z"
   },
   {
    "duration": 8,
    "start_time": "2024-03-12T06:50:58.018Z"
   },
   {
    "duration": 852,
    "start_time": "2024-03-12T06:51:49.860Z"
   },
   {
    "duration": 5,
    "start_time": "2024-03-12T06:52:04.122Z"
   },
   {
    "duration": 6,
    "start_time": "2024-03-12T06:53:23.785Z"
   },
   {
    "duration": 884,
    "start_time": "2024-03-12T06:58:24.093Z"
   },
   {
    "duration": 9460,
    "start_time": "2024-03-12T06:59:03.787Z"
   },
   {
    "duration": 4,
    "start_time": "2024-03-12T06:59:13.249Z"
   },
   {
    "duration": 16,
    "start_time": "2024-03-12T06:59:13.255Z"
   },
   {
    "duration": 922,
    "start_time": "2024-03-12T06:59:13.272Z"
   },
   {
    "duration": 5,
    "start_time": "2024-03-12T06:59:14.195Z"
   },
   {
    "duration": 872,
    "start_time": "2024-03-12T06:59:14.202Z"
   },
   {
    "duration": 70,
    "start_time": "2024-03-12T07:01:02.234Z"
   },
   {
    "duration": 9481,
    "start_time": "2024-03-12T07:58:16.052Z"
   },
   {
    "duration": 5,
    "start_time": "2024-03-12T07:58:25.535Z"
   },
   {
    "duration": 17,
    "start_time": "2024-03-12T07:58:25.542Z"
   },
   {
    "duration": 926,
    "start_time": "2024-03-12T07:58:25.560Z"
   },
   {
    "duration": 5,
    "start_time": "2024-03-12T07:58:26.488Z"
   },
   {
    "duration": 841,
    "start_time": "2024-03-12T07:58:26.495Z"
   },
   {
    "duration": 380,
    "start_time": "2024-03-12T07:58:27.338Z"
   },
   {
    "duration": 46,
    "start_time": "2024-03-12T07:58:27.720Z"
   },
   {
    "duration": 6,
    "start_time": "2024-03-12T07:58:27.768Z"
   },
   {
    "duration": 75,
    "start_time": "2024-03-12T07:58:27.775Z"
   },
   {
    "duration": 0,
    "start_time": "2024-03-12T07:58:27.851Z"
   },
   {
    "duration": 0,
    "start_time": "2024-03-12T07:58:27.852Z"
   },
   {
    "duration": 0,
    "start_time": "2024-03-12T07:58:27.853Z"
   },
   {
    "duration": 0,
    "start_time": "2024-03-12T07:58:27.854Z"
   },
   {
    "duration": 0,
    "start_time": "2024-03-12T07:58:27.855Z"
   },
   {
    "duration": 0,
    "start_time": "2024-03-12T07:58:27.856Z"
   },
   {
    "duration": 0,
    "start_time": "2024-03-12T07:58:27.857Z"
   },
   {
    "duration": 0,
    "start_time": "2024-03-12T07:58:27.858Z"
   },
   {
    "duration": 0,
    "start_time": "2024-03-12T07:58:27.860Z"
   },
   {
    "duration": 36,
    "start_time": "2024-03-12T07:58:40.937Z"
   },
   {
    "duration": 9619,
    "start_time": "2024-03-12T07:58:47.687Z"
   },
   {
    "duration": 4,
    "start_time": "2024-03-12T07:58:57.308Z"
   },
   {
    "duration": 15,
    "start_time": "2024-03-12T07:58:57.314Z"
   },
   {
    "duration": 873,
    "start_time": "2024-03-12T07:58:57.330Z"
   },
   {
    "duration": 5,
    "start_time": "2024-03-12T07:58:58.204Z"
   },
   {
    "duration": 879,
    "start_time": "2024-03-12T07:58:58.211Z"
   },
   {
    "duration": 367,
    "start_time": "2024-03-12T07:58:59.091Z"
   },
   {
    "duration": 32,
    "start_time": "2024-03-12T07:58:59.465Z"
   },
   {
    "duration": 5,
    "start_time": "2024-03-12T07:58:59.498Z"
   },
   {
    "duration": 42,
    "start_time": "2024-03-12T07:58:59.505Z"
   },
   {
    "duration": 185,
    "start_time": "2024-03-12T07:58:59.548Z"
   },
   {
    "duration": 289,
    "start_time": "2024-03-12T07:58:59.735Z"
   },
   {
    "duration": 108,
    "start_time": "2024-03-12T07:59:00.026Z"
   },
   {
    "duration": 132,
    "start_time": "2024-03-12T07:59:00.136Z"
   },
   {
    "duration": 153,
    "start_time": "2024-03-12T07:59:00.269Z"
   },
   {
    "duration": 169,
    "start_time": "2024-03-12T07:59:00.424Z"
   },
   {
    "duration": 111,
    "start_time": "2024-03-12T07:59:00.595Z"
   },
   {
    "duration": 125,
    "start_time": "2024-03-12T07:59:00.708Z"
   },
   {
    "duration": 94,
    "start_time": "2024-03-12T07:59:00.835Z"
   },
   {
    "duration": 9597,
    "start_time": "2024-03-12T08:03:14.660Z"
   },
   {
    "duration": 4,
    "start_time": "2024-03-12T08:03:24.259Z"
   },
   {
    "duration": 14,
    "start_time": "2024-03-12T08:03:24.265Z"
   },
   {
    "duration": 866,
    "start_time": "2024-03-12T08:03:24.281Z"
   },
   {
    "duration": 6,
    "start_time": "2024-03-12T08:03:25.148Z"
   },
   {
    "duration": 878,
    "start_time": "2024-03-12T08:03:25.155Z"
   },
   {
    "duration": 373,
    "start_time": "2024-03-12T08:03:26.035Z"
   },
   {
    "duration": 37,
    "start_time": "2024-03-12T08:03:26.409Z"
   },
   {
    "duration": 17,
    "start_time": "2024-03-12T08:03:26.448Z"
   },
   {
    "duration": 50,
    "start_time": "2024-03-12T08:03:26.467Z"
   },
   {
    "duration": 154,
    "start_time": "2024-03-12T08:03:26.519Z"
   },
   {
    "duration": 184,
    "start_time": "2024-03-12T08:03:26.674Z"
   },
   {
    "duration": 109,
    "start_time": "2024-03-12T08:03:26.860Z"
   },
   {
    "duration": 121,
    "start_time": "2024-03-12T08:03:26.971Z"
   },
   {
    "duration": 146,
    "start_time": "2024-03-12T08:03:27.093Z"
   },
   {
    "duration": 160,
    "start_time": "2024-03-12T08:03:27.240Z"
   },
   {
    "duration": 107,
    "start_time": "2024-03-12T08:03:27.402Z"
   },
   {
    "duration": 219,
    "start_time": "2024-03-12T08:03:27.510Z"
   },
   {
    "duration": 119,
    "start_time": "2024-03-12T08:03:27.730Z"
   },
   {
    "duration": 573,
    "start_time": "2024-03-12T08:03:27.851Z"
   },
   {
    "duration": 15,
    "start_time": "2024-03-12T08:03:28.425Z"
   },
   {
    "duration": 10,
    "start_time": "2024-03-12T08:03:28.441Z"
   },
   {
    "duration": 43,
    "start_time": "2024-03-12T08:03:28.452Z"
   },
   {
    "duration": 32,
    "start_time": "2024-03-12T08:03:28.496Z"
   },
   {
    "duration": 40,
    "start_time": "2024-03-12T08:03:28.529Z"
   },
   {
    "duration": 9552,
    "start_time": "2024-03-12T08:13:34.693Z"
   },
   {
    "duration": 4,
    "start_time": "2024-03-12T08:13:44.247Z"
   },
   {
    "duration": 16,
    "start_time": "2024-03-12T08:13:44.252Z"
   },
   {
    "duration": 1041,
    "start_time": "2024-03-12T08:13:44.269Z"
   },
   {
    "duration": 5,
    "start_time": "2024-03-12T08:13:45.312Z"
   },
   {
    "duration": 916,
    "start_time": "2024-03-12T08:13:45.318Z"
   },
   {
    "duration": 373,
    "start_time": "2024-03-12T08:13:46.236Z"
   },
   {
    "duration": 31,
    "start_time": "2024-03-12T08:13:46.611Z"
   },
   {
    "duration": 65,
    "start_time": "2024-03-12T08:13:46.644Z"
   },
   {
    "duration": 4,
    "start_time": "2024-03-12T08:13:46.711Z"
   },
   {
    "duration": 49,
    "start_time": "2024-03-12T08:13:46.717Z"
   },
   {
    "duration": 158,
    "start_time": "2024-03-12T08:13:46.768Z"
   },
   {
    "duration": 184,
    "start_time": "2024-03-12T08:13:46.927Z"
   },
   {
    "duration": 108,
    "start_time": "2024-03-12T08:13:47.114Z"
   },
   {
    "duration": 130,
    "start_time": "2024-03-12T08:13:47.224Z"
   },
   {
    "duration": 149,
    "start_time": "2024-03-12T08:13:47.355Z"
   },
   {
    "duration": 168,
    "start_time": "2024-03-12T08:13:47.505Z"
   },
   {
    "duration": 110,
    "start_time": "2024-03-12T08:13:47.674Z"
   },
   {
    "duration": 124,
    "start_time": "2024-03-12T08:13:47.786Z"
   },
   {
    "duration": 93,
    "start_time": "2024-03-12T08:13:47.911Z"
   },
   {
    "duration": 544,
    "start_time": "2024-03-12T08:13:48.006Z"
   },
   {
    "duration": 82,
    "start_time": "2024-03-12T08:15:53.063Z"
   },
   {
    "duration": 9351,
    "start_time": "2024-03-12T08:22:49.453Z"
   },
   {
    "duration": 4,
    "start_time": "2024-03-12T08:22:58.807Z"
   },
   {
    "duration": 16,
    "start_time": "2024-03-12T08:22:58.812Z"
   },
   {
    "duration": 887,
    "start_time": "2024-03-12T08:22:58.830Z"
   },
   {
    "duration": 4,
    "start_time": "2024-03-12T08:22:59.719Z"
   },
   {
    "duration": 873,
    "start_time": "2024-03-12T08:22:59.725Z"
   },
   {
    "duration": 376,
    "start_time": "2024-03-12T08:23:00.600Z"
   },
   {
    "duration": 34,
    "start_time": "2024-03-12T08:23:00.978Z"
   },
   {
    "duration": 80,
    "start_time": "2024-03-12T08:23:01.013Z"
   },
   {
    "duration": 4,
    "start_time": "2024-03-12T08:23:01.095Z"
   },
   {
    "duration": 74,
    "start_time": "2024-03-12T08:23:01.101Z"
   },
   {
    "duration": 150,
    "start_time": "2024-03-12T08:23:01.176Z"
   },
   {
    "duration": 176,
    "start_time": "2024-03-12T08:23:01.327Z"
   },
   {
    "duration": 113,
    "start_time": "2024-03-12T08:23:01.505Z"
   },
   {
    "duration": 134,
    "start_time": "2024-03-12T08:23:01.620Z"
   },
   {
    "duration": 157,
    "start_time": "2024-03-12T08:23:01.756Z"
   },
   {
    "duration": 273,
    "start_time": "2024-03-12T08:23:01.915Z"
   },
   {
    "duration": 112,
    "start_time": "2024-03-12T08:23:02.190Z"
   },
   {
    "duration": 140,
    "start_time": "2024-03-12T08:23:02.304Z"
   },
   {
    "duration": 90,
    "start_time": "2024-03-12T08:23:02.446Z"
   },
   {
    "duration": 548,
    "start_time": "2024-03-12T08:23:02.537Z"
   },
   {
    "duration": 15,
    "start_time": "2024-03-12T08:23:03.087Z"
   },
   {
    "duration": 22,
    "start_time": "2024-03-12T08:23:03.104Z"
   },
   {
    "duration": 39,
    "start_time": "2024-03-12T08:23:03.127Z"
   },
   {
    "duration": 29,
    "start_time": "2024-03-12T08:23:03.168Z"
   },
   {
    "duration": 32,
    "start_time": "2024-03-12T08:23:03.198Z"
   },
   {
    "duration": 70247,
    "start_time": "2024-03-12T08:23:03.232Z"
   },
   {
    "duration": 23,
    "start_time": "2024-03-12T08:24:13.482Z"
   },
   {
    "duration": 28,
    "start_time": "2024-03-12T08:24:13.506Z"
   },
   {
    "duration": 58,
    "start_time": "2024-03-12T08:24:13.536Z"
   },
   {
    "duration": 3,
    "start_time": "2024-03-12T08:24:13.595Z"
   },
   {
    "duration": 814,
    "start_time": "2024-03-12T08:24:13.600Z"
   },
   {
    "duration": 9536,
    "start_time": "2024-03-12T08:26:58.316Z"
   },
   {
    "duration": 4,
    "start_time": "2024-03-12T08:27:07.855Z"
   },
   {
    "duration": 20,
    "start_time": "2024-03-12T08:27:07.861Z"
   },
   {
    "duration": 876,
    "start_time": "2024-03-12T08:27:07.882Z"
   },
   {
    "duration": 7,
    "start_time": "2024-03-12T08:27:08.761Z"
   },
   {
    "duration": 909,
    "start_time": "2024-03-12T08:27:08.769Z"
   },
   {
    "duration": 429,
    "start_time": "2024-03-12T08:27:09.679Z"
   },
   {
    "duration": 33,
    "start_time": "2024-03-12T08:27:10.109Z"
   },
   {
    "duration": 71,
    "start_time": "2024-03-12T08:27:10.143Z"
   },
   {
    "duration": 6,
    "start_time": "2024-03-12T08:27:10.215Z"
   },
   {
    "duration": 49,
    "start_time": "2024-03-12T08:27:10.222Z"
   },
   {
    "duration": 4404,
    "start_time": "2024-03-12T08:27:10.272Z"
   },
   {
    "duration": 180,
    "start_time": "2024-03-12T08:27:14.677Z"
   },
   {
    "duration": 112,
    "start_time": "2024-03-12T08:27:14.860Z"
   },
   {
    "duration": 132,
    "start_time": "2024-03-12T08:27:14.973Z"
   },
   {
    "duration": 148,
    "start_time": "2024-03-12T08:27:15.106Z"
   },
   {
    "duration": 167,
    "start_time": "2024-03-12T08:27:15.256Z"
   },
   {
    "duration": 116,
    "start_time": "2024-03-12T08:27:15.424Z"
   },
   {
    "duration": 134,
    "start_time": "2024-03-12T08:27:15.541Z"
   },
   {
    "duration": 116,
    "start_time": "2024-03-12T08:27:15.677Z"
   },
   {
    "duration": 457,
    "start_time": "2024-03-12T08:27:15.794Z"
   },
   {
    "duration": 15,
    "start_time": "2024-03-12T08:27:16.253Z"
   },
   {
    "duration": 19,
    "start_time": "2024-03-12T08:27:16.269Z"
   },
   {
    "duration": 20,
    "start_time": "2024-03-12T08:27:16.290Z"
   },
   {
    "duration": 19,
    "start_time": "2024-03-12T08:27:16.311Z"
   },
   {
    "duration": 48,
    "start_time": "2024-03-12T08:27:16.332Z"
   },
   {
    "duration": 68566,
    "start_time": "2024-03-12T08:27:59.983Z"
   },
   {
    "duration": 6,
    "start_time": "2024-03-12T08:30:28.425Z"
   },
   {
    "duration": 5,
    "start_time": "2024-03-12T08:30:39.286Z"
   },
   {
    "duration": 5,
    "start_time": "2024-03-12T08:31:00.904Z"
   },
   {
    "duration": 10260,
    "start_time": "2024-03-12T08:31:55.260Z"
   },
   {
    "duration": 5,
    "start_time": "2024-03-12T08:32:05.522Z"
   },
   {
    "duration": 19,
    "start_time": "2024-03-12T08:32:05.529Z"
   },
   {
    "duration": 959,
    "start_time": "2024-03-12T08:32:05.550Z"
   },
   {
    "duration": 6,
    "start_time": "2024-03-12T08:32:06.510Z"
   },
   {
    "duration": 848,
    "start_time": "2024-03-12T08:32:06.517Z"
   },
   {
    "duration": 386,
    "start_time": "2024-03-12T08:32:07.368Z"
   },
   {
    "duration": 44,
    "start_time": "2024-03-12T08:32:07.756Z"
   },
   {
    "duration": 68,
    "start_time": "2024-03-12T08:32:07.802Z"
   },
   {
    "duration": 5,
    "start_time": "2024-03-12T08:32:07.873Z"
   },
   {
    "duration": 42,
    "start_time": "2024-03-12T08:32:07.880Z"
   },
   {
    "duration": 187,
    "start_time": "2024-03-12T08:32:07.924Z"
   },
   {
    "duration": 196,
    "start_time": "2024-03-12T08:32:08.112Z"
   },
   {
    "duration": 113,
    "start_time": "2024-03-12T08:32:08.310Z"
   },
   {
    "duration": 132,
    "start_time": "2024-03-12T08:32:08.424Z"
   },
   {
    "duration": 148,
    "start_time": "2024-03-12T08:32:08.558Z"
   },
   {
    "duration": 169,
    "start_time": "2024-03-12T08:32:08.708Z"
   },
   {
    "duration": 4325,
    "start_time": "2024-03-12T08:32:08.878Z"
   },
   {
    "duration": 125,
    "start_time": "2024-03-12T08:32:13.204Z"
   },
   {
    "duration": 99,
    "start_time": "2024-03-12T08:32:13.331Z"
   },
   {
    "duration": 478,
    "start_time": "2024-03-12T08:32:13.432Z"
   },
   {
    "duration": 13,
    "start_time": "2024-03-12T08:32:13.911Z"
   },
   {
    "duration": 28,
    "start_time": "2024-03-12T08:32:13.925Z"
   },
   {
    "duration": 31,
    "start_time": "2024-03-12T08:32:13.954Z"
   },
   {
    "duration": 37,
    "start_time": "2024-03-12T08:32:13.987Z"
   },
   {
    "duration": 41,
    "start_time": "2024-03-12T08:32:14.025Z"
   },
   {
    "duration": 69494,
    "start_time": "2024-03-12T08:32:14.067Z"
   },
   {
    "duration": 25,
    "start_time": "2024-03-12T08:33:23.566Z"
   },
   {
    "duration": 5,
    "start_time": "2024-03-12T08:33:23.592Z"
   },
   {
    "duration": 34,
    "start_time": "2024-03-12T08:33:23.598Z"
   },
   {
    "duration": 59,
    "start_time": "2024-03-12T08:33:23.633Z"
   },
   {
    "duration": 4,
    "start_time": "2024-03-12T08:33:23.693Z"
   },
   {
    "duration": 806,
    "start_time": "2024-03-12T08:33:23.698Z"
   },
   {
    "duration": 81,
    "start_time": "2024-03-12T08:33:24.506Z"
   },
   {
    "duration": 10,
    "start_time": "2024-03-12T08:33:24.588Z"
   },
   {
    "duration": 31,
    "start_time": "2024-03-12T08:33:24.600Z"
   },
   {
    "duration": 0,
    "start_time": "2024-03-12T08:33:24.633Z"
   },
   {
    "duration": 0,
    "start_time": "2024-03-12T08:33:24.634Z"
   },
   {
    "duration": 0,
    "start_time": "2024-03-12T08:33:24.635Z"
   },
   {
    "duration": 0,
    "start_time": "2024-03-12T08:33:24.636Z"
   },
   {
    "duration": 0,
    "start_time": "2024-03-12T08:33:24.637Z"
   },
   {
    "duration": 0,
    "start_time": "2024-03-12T08:33:24.638Z"
   },
   {
    "duration": 0,
    "start_time": "2024-03-12T08:33:24.639Z"
   },
   {
    "duration": 0,
    "start_time": "2024-03-12T08:33:24.640Z"
   },
   {
    "duration": 3,
    "start_time": "2024-03-12T08:34:15.820Z"
   },
   {
    "duration": 9748,
    "start_time": "2024-03-12T08:35:57.710Z"
   },
   {
    "duration": 5,
    "start_time": "2024-03-12T08:36:07.460Z"
   },
   {
    "duration": 26,
    "start_time": "2024-03-12T08:36:07.466Z"
   },
   {
    "duration": 907,
    "start_time": "2024-03-12T08:36:07.494Z"
   },
   {
    "duration": 5,
    "start_time": "2024-03-12T08:36:08.403Z"
   },
   {
    "duration": 885,
    "start_time": "2024-03-12T08:36:08.409Z"
   },
   {
    "duration": 386,
    "start_time": "2024-03-12T08:36:09.296Z"
   },
   {
    "duration": 33,
    "start_time": "2024-03-12T08:36:09.684Z"
   },
   {
    "duration": 77,
    "start_time": "2024-03-12T08:36:09.718Z"
   },
   {
    "duration": 5,
    "start_time": "2024-03-12T08:36:09.798Z"
   },
   {
    "duration": 55,
    "start_time": "2024-03-12T08:36:09.804Z"
   },
   {
    "duration": 168,
    "start_time": "2024-03-12T08:36:09.864Z"
   },
   {
    "duration": 4419,
    "start_time": "2024-03-12T08:36:10.034Z"
   },
   {
    "duration": 102,
    "start_time": "2024-03-12T08:36:14.464Z"
   },
   {
    "duration": 130,
    "start_time": "2024-03-12T08:36:14.567Z"
   },
   {
    "duration": 158,
    "start_time": "2024-03-12T08:36:14.699Z"
   },
   {
    "duration": 164,
    "start_time": "2024-03-12T08:36:14.859Z"
   },
   {
    "duration": 104,
    "start_time": "2024-03-12T08:36:15.024Z"
   },
   {
    "duration": 135,
    "start_time": "2024-03-12T08:36:15.130Z"
   },
   {
    "duration": 100,
    "start_time": "2024-03-12T08:36:15.266Z"
   },
   {
    "duration": 491,
    "start_time": "2024-03-12T08:36:15.367Z"
   },
   {
    "duration": 16,
    "start_time": "2024-03-12T08:36:15.860Z"
   },
   {
    "duration": 9,
    "start_time": "2024-03-12T08:36:15.878Z"
   },
   {
    "duration": 24,
    "start_time": "2024-03-12T08:36:15.888Z"
   },
   {
    "duration": 52,
    "start_time": "2024-03-12T08:36:15.913Z"
   },
   {
    "duration": 38,
    "start_time": "2024-03-12T08:36:15.967Z"
   },
   {
    "duration": 68648,
    "start_time": "2024-03-12T08:36:16.006Z"
   },
   {
    "duration": 8,
    "start_time": "2024-03-12T08:37:24.657Z"
   },
   {
    "duration": 25,
    "start_time": "2024-03-12T08:37:24.667Z"
   },
   {
    "duration": 5,
    "start_time": "2024-03-12T08:37:24.693Z"
   },
   {
    "duration": 29,
    "start_time": "2024-03-12T08:37:24.700Z"
   },
   {
    "duration": 59,
    "start_time": "2024-03-12T08:37:24.730Z"
   },
   {
    "duration": 2,
    "start_time": "2024-03-12T08:37:24.791Z"
   },
   {
    "duration": 13,
    "start_time": "2024-03-12T08:37:24.795Z"
   },
   {
    "duration": 10514,
    "start_time": "2024-03-12T08:49:28.066Z"
   },
   {
    "duration": 5,
    "start_time": "2024-03-12T08:49:38.582Z"
   },
   {
    "duration": 19,
    "start_time": "2024-03-12T08:49:38.588Z"
   },
   {
    "duration": 890,
    "start_time": "2024-03-12T08:49:38.608Z"
   },
   {
    "duration": 5,
    "start_time": "2024-03-12T08:49:39.500Z"
   },
   {
    "duration": 850,
    "start_time": "2024-03-12T08:49:39.507Z"
   },
   {
    "duration": 378,
    "start_time": "2024-03-12T08:49:40.364Z"
   },
   {
    "duration": 52,
    "start_time": "2024-03-12T08:49:40.744Z"
   },
   {
    "duration": 82,
    "start_time": "2024-03-12T08:49:40.798Z"
   },
   {
    "duration": 5,
    "start_time": "2024-03-12T08:49:40.881Z"
   },
   {
    "duration": 37,
    "start_time": "2024-03-12T08:49:40.888Z"
   },
   {
    "duration": 168,
    "start_time": "2024-03-12T08:49:40.927Z"
   },
   {
    "duration": 179,
    "start_time": "2024-03-12T08:49:41.097Z"
   },
   {
    "duration": 111,
    "start_time": "2024-03-12T08:49:41.278Z"
   },
   {
    "duration": 126,
    "start_time": "2024-03-12T08:49:41.390Z"
   },
   {
    "duration": 147,
    "start_time": "2024-03-12T08:49:41.518Z"
   },
   {
    "duration": 178,
    "start_time": "2024-03-12T08:49:41.666Z"
   },
   {
    "duration": 103,
    "start_time": "2024-03-12T08:49:41.846Z"
   },
   {
    "duration": 4461,
    "start_time": "2024-03-12T08:49:41.951Z"
   },
   {
    "duration": 98,
    "start_time": "2024-03-12T08:49:46.414Z"
   },
   {
    "duration": 488,
    "start_time": "2024-03-12T08:49:46.514Z"
   },
   {
    "duration": 13,
    "start_time": "2024-03-12T08:49:47.004Z"
   },
   {
    "duration": 8,
    "start_time": "2024-03-12T08:49:47.018Z"
   },
   {
    "duration": 40,
    "start_time": "2024-03-12T08:49:47.027Z"
   },
   {
    "duration": 23,
    "start_time": "2024-03-12T08:49:47.068Z"
   },
   {
    "duration": 36,
    "start_time": "2024-03-12T08:49:47.092Z"
   },
   {
    "duration": 361,
    "start_time": "2024-03-12T08:49:47.129Z"
   },
   {
    "duration": 67845,
    "start_time": "2024-03-12T08:49:47.492Z"
   },
   {
    "duration": 3,
    "start_time": "2024-03-12T08:50:55.339Z"
   },
   {
    "duration": 33,
    "start_time": "2024-03-12T08:50:55.343Z"
   },
   {
    "duration": 5,
    "start_time": "2024-03-12T08:50:55.377Z"
   },
   {
    "duration": 27,
    "start_time": "2024-03-12T08:50:55.383Z"
   },
   {
    "duration": 32,
    "start_time": "2024-03-12T08:50:55.411Z"
   },
   {
    "duration": 3,
    "start_time": "2024-03-12T08:50:55.465Z"
   },
   {
    "duration": 6,
    "start_time": "2024-03-12T08:50:55.469Z"
   },
   {
    "duration": 4746,
    "start_time": "2024-03-12T08:50:55.476Z"
   },
   {
    "duration": 74,
    "start_time": "2024-03-12T08:51:00.223Z"
   },
   {
    "duration": 26,
    "start_time": "2024-03-12T08:51:00.298Z"
   },
   {
    "duration": 131,
    "start_time": "2024-03-12T08:51:00.326Z"
   },
   {
    "duration": 0,
    "start_time": "2024-03-12T08:51:00.459Z"
   },
   {
    "duration": 0,
    "start_time": "2024-03-12T08:51:00.460Z"
   },
   {
    "duration": 0,
    "start_time": "2024-03-12T08:51:00.461Z"
   },
   {
    "duration": 0,
    "start_time": "2024-03-12T08:51:00.462Z"
   },
   {
    "duration": 0,
    "start_time": "2024-03-12T08:51:00.463Z"
   },
   {
    "duration": 0,
    "start_time": "2024-03-12T08:51:00.464Z"
   },
   {
    "duration": 0,
    "start_time": "2024-03-12T08:51:00.465Z"
   },
   {
    "duration": 0,
    "start_time": "2024-03-12T08:51:00.467Z"
   },
   {
    "duration": 10991,
    "start_time": "2024-03-12T08:51:31.319Z"
   },
   {
    "duration": 4,
    "start_time": "2024-03-12T08:51:42.313Z"
   },
   {
    "duration": 17,
    "start_time": "2024-03-12T08:51:42.319Z"
   },
   {
    "duration": 861,
    "start_time": "2024-03-12T08:51:42.338Z"
   },
   {
    "duration": 5,
    "start_time": "2024-03-12T08:51:43.200Z"
   },
   {
    "duration": 918,
    "start_time": "2024-03-12T08:51:43.206Z"
   },
   {
    "duration": 408,
    "start_time": "2024-03-12T08:51:44.126Z"
   },
   {
    "duration": 33,
    "start_time": "2024-03-12T08:51:44.536Z"
   },
   {
    "duration": 57,
    "start_time": "2024-03-12T08:51:44.571Z"
   },
   {
    "duration": 5,
    "start_time": "2024-03-12T08:51:44.630Z"
   },
   {
    "duration": 42,
    "start_time": "2024-03-12T08:51:44.636Z"
   },
   {
    "duration": 231,
    "start_time": "2024-03-12T08:51:44.680Z"
   },
   {
    "duration": 223,
    "start_time": "2024-03-12T08:51:44.912Z"
   },
   {
    "duration": 109,
    "start_time": "2024-03-12T08:51:45.136Z"
   },
   {
    "duration": 135,
    "start_time": "2024-03-12T08:51:45.247Z"
   },
   {
    "duration": 151,
    "start_time": "2024-03-12T08:51:45.384Z"
   },
   {
    "duration": 174,
    "start_time": "2024-03-12T08:51:45.536Z"
   },
   {
    "duration": 128,
    "start_time": "2024-03-12T08:51:45.712Z"
   },
   {
    "duration": 124,
    "start_time": "2024-03-12T08:51:45.842Z"
   },
   {
    "duration": 103,
    "start_time": "2024-03-12T08:51:45.968Z"
   },
   {
    "duration": 464,
    "start_time": "2024-03-12T08:51:46.073Z"
   },
   {
    "duration": 13,
    "start_time": "2024-03-12T08:51:46.538Z"
   },
   {
    "duration": 16,
    "start_time": "2024-03-12T08:51:46.553Z"
   },
   {
    "duration": 22,
    "start_time": "2024-03-12T08:51:46.571Z"
   },
   {
    "duration": 22,
    "start_time": "2024-03-12T08:51:46.595Z"
   },
   {
    "duration": 61,
    "start_time": "2024-03-12T08:51:46.618Z"
   },
   {
    "duration": 487,
    "start_time": "2024-03-12T08:51:46.680Z"
   },
   {
    "duration": 69500,
    "start_time": "2024-03-12T08:51:47.170Z"
   },
   {
    "duration": 4,
    "start_time": "2024-03-12T08:52:56.672Z"
   },
   {
    "duration": 26,
    "start_time": "2024-03-12T08:52:56.677Z"
   },
   {
    "duration": 4,
    "start_time": "2024-03-12T08:52:56.705Z"
   },
   {
    "duration": 32,
    "start_time": "2024-03-12T08:52:56.711Z"
   },
   {
    "duration": 54,
    "start_time": "2024-03-12T08:52:56.744Z"
   },
   {
    "duration": 3,
    "start_time": "2024-03-12T08:52:56.799Z"
   },
   {
    "duration": 17,
    "start_time": "2024-03-12T08:52:56.803Z"
   },
   {
    "duration": 808,
    "start_time": "2024-03-12T08:52:56.821Z"
   },
   {
    "duration": 81,
    "start_time": "2024-03-12T08:52:57.632Z"
   },
   {
    "duration": 10,
    "start_time": "2024-03-12T08:52:57.715Z"
   },
   {
    "duration": 32,
    "start_time": "2024-03-12T08:52:57.727Z"
   },
   {
    "duration": 0,
    "start_time": "2024-03-12T08:52:57.760Z"
   },
   {
    "duration": 0,
    "start_time": "2024-03-12T08:52:57.762Z"
   },
   {
    "duration": 0,
    "start_time": "2024-03-12T08:52:57.763Z"
   },
   {
    "duration": 0,
    "start_time": "2024-03-12T08:52:57.764Z"
   },
   {
    "duration": 0,
    "start_time": "2024-03-12T08:52:57.765Z"
   },
   {
    "duration": 0,
    "start_time": "2024-03-12T08:52:57.767Z"
   },
   {
    "duration": 0,
    "start_time": "2024-03-12T08:52:57.767Z"
   },
   {
    "duration": 0,
    "start_time": "2024-03-12T08:52:57.769Z"
   },
   {
    "duration": 11291,
    "start_time": "2024-03-12T09:00:03.844Z"
   },
   {
    "duration": 5,
    "start_time": "2024-03-12T09:00:15.137Z"
   },
   {
    "duration": 37,
    "start_time": "2024-03-12T09:00:15.144Z"
   },
   {
    "duration": 967,
    "start_time": "2024-03-12T09:00:15.183Z"
   },
   {
    "duration": 6,
    "start_time": "2024-03-12T09:00:16.151Z"
   },
   {
    "duration": 875,
    "start_time": "2024-03-12T09:00:16.159Z"
   },
   {
    "duration": 404,
    "start_time": "2024-03-12T09:00:17.042Z"
   },
   {
    "duration": 37,
    "start_time": "2024-03-12T09:00:17.447Z"
   },
   {
    "duration": 56,
    "start_time": "2024-03-12T09:00:17.485Z"
   },
   {
    "duration": 5,
    "start_time": "2024-03-12T09:00:17.544Z"
   },
   {
    "duration": 37,
    "start_time": "2024-03-12T09:00:17.564Z"
   },
   {
    "duration": 4438,
    "start_time": "2024-03-12T09:00:17.603Z"
   },
   {
    "duration": 183,
    "start_time": "2024-03-12T09:00:22.043Z"
   },
   {
    "duration": 106,
    "start_time": "2024-03-12T09:00:22.227Z"
   },
   {
    "duration": 144,
    "start_time": "2024-03-12T09:00:22.334Z"
   },
   {
    "duration": 170,
    "start_time": "2024-03-12T09:00:22.480Z"
   },
   {
    "duration": 208,
    "start_time": "2024-03-12T09:00:22.652Z"
   },
   {
    "duration": 111,
    "start_time": "2024-03-12T09:00:22.864Z"
   },
   {
    "duration": 133,
    "start_time": "2024-03-12T09:00:22.976Z"
   },
   {
    "duration": 97,
    "start_time": "2024-03-12T09:00:23.110Z"
   },
   {
    "duration": 475,
    "start_time": "2024-03-12T09:00:23.209Z"
   },
   {
    "duration": 13,
    "start_time": "2024-03-12T09:00:23.685Z"
   },
   {
    "duration": 23,
    "start_time": "2024-03-12T09:00:23.700Z"
   },
   {
    "duration": 27,
    "start_time": "2024-03-12T09:00:23.724Z"
   },
   {
    "duration": 27,
    "start_time": "2024-03-12T09:00:23.753Z"
   },
   {
    "duration": 45,
    "start_time": "2024-03-12T09:00:23.782Z"
   },
   {
    "duration": 491,
    "start_time": "2024-03-12T09:00:23.830Z"
   },
   {
    "duration": 70369,
    "start_time": "2024-03-12T09:00:24.324Z"
   },
   {
    "duration": 3,
    "start_time": "2024-03-12T09:01:34.695Z"
   },
   {
    "duration": 35,
    "start_time": "2024-03-12T09:01:34.700Z"
   },
   {
    "duration": 6,
    "start_time": "2024-03-12T09:01:34.737Z"
   },
   {
    "duration": 46,
    "start_time": "2024-03-12T09:01:34.744Z"
   },
   {
    "duration": 34,
    "start_time": "2024-03-12T09:01:34.791Z"
   },
   {
    "duration": 2,
    "start_time": "2024-03-12T09:01:34.827Z"
   },
   {
    "duration": 6,
    "start_time": "2024-03-12T09:01:34.831Z"
   },
   {
    "duration": 840,
    "start_time": "2024-03-12T09:01:34.838Z"
   },
   {
    "duration": 68,
    "start_time": "2024-03-12T09:01:35.680Z"
   },
   {
    "duration": 17,
    "start_time": "2024-03-12T09:01:35.750Z"
   },
   {
    "duration": 32,
    "start_time": "2024-03-12T09:01:35.769Z"
   },
   {
    "duration": 0,
    "start_time": "2024-03-12T09:01:35.803Z"
   },
   {
    "duration": 1,
    "start_time": "2024-03-12T09:01:35.804Z"
   },
   {
    "duration": 0,
    "start_time": "2024-03-12T09:01:35.806Z"
   },
   {
    "duration": 0,
    "start_time": "2024-03-12T09:01:35.807Z"
   },
   {
    "duration": 0,
    "start_time": "2024-03-12T09:01:35.808Z"
   },
   {
    "duration": 0,
    "start_time": "2024-03-12T09:01:35.810Z"
   },
   {
    "duration": 0,
    "start_time": "2024-03-12T09:01:35.812Z"
   },
   {
    "duration": 0,
    "start_time": "2024-03-12T09:01:35.813Z"
   },
   {
    "duration": 20,
    "start_time": "2024-03-12T09:02:22.440Z"
   },
   {
    "duration": 776,
    "start_time": "2024-03-12T09:02:25.770Z"
   },
   {
    "duration": 14,
    "start_time": "2024-03-12T09:02:37.890Z"
   },
   {
    "duration": 16,
    "start_time": "2024-03-12T09:04:31.261Z"
   },
   {
    "duration": 9931,
    "start_time": "2024-03-12T09:04:34.696Z"
   },
   {
    "duration": 5,
    "start_time": "2024-03-12T09:04:44.629Z"
   },
   {
    "duration": 20,
    "start_time": "2024-03-12T09:04:44.637Z"
   },
   {
    "duration": 905,
    "start_time": "2024-03-12T09:04:44.659Z"
   },
   {
    "duration": 10,
    "start_time": "2024-03-12T09:04:45.565Z"
   },
   {
    "duration": 891,
    "start_time": "2024-03-12T09:04:45.576Z"
   },
   {
    "duration": 392,
    "start_time": "2024-03-12T09:04:46.469Z"
   },
   {
    "duration": 32,
    "start_time": "2024-03-12T09:04:46.863Z"
   },
   {
    "duration": 84,
    "start_time": "2024-03-12T09:04:46.897Z"
   },
   {
    "duration": 5,
    "start_time": "2024-03-12T09:04:46.985Z"
   },
   {
    "duration": 43,
    "start_time": "2024-03-12T09:04:46.992Z"
   },
   {
    "duration": 4492,
    "start_time": "2024-03-12T09:04:47.037Z"
   },
   {
    "duration": 195,
    "start_time": "2024-03-12T09:04:51.531Z"
   },
   {
    "duration": 118,
    "start_time": "2024-03-12T09:04:51.728Z"
   },
   {
    "duration": 132,
    "start_time": "2024-03-12T09:04:51.848Z"
   },
   {
    "duration": 150,
    "start_time": "2024-03-12T09:04:51.982Z"
   },
   {
    "duration": 164,
    "start_time": "2024-03-12T09:04:52.134Z"
   },
   {
    "duration": 125,
    "start_time": "2024-03-12T09:04:52.299Z"
   },
   {
    "duration": 140,
    "start_time": "2024-03-12T09:04:52.425Z"
   },
   {
    "duration": 100,
    "start_time": "2024-03-12T09:04:52.566Z"
   },
   {
    "duration": 508,
    "start_time": "2024-03-12T09:04:52.668Z"
   },
   {
    "duration": 13,
    "start_time": "2024-03-12T09:04:53.178Z"
   },
   {
    "duration": 18,
    "start_time": "2024-03-12T09:04:53.193Z"
   },
   {
    "duration": 33,
    "start_time": "2024-03-12T09:04:53.213Z"
   },
   {
    "duration": 22,
    "start_time": "2024-03-12T09:04:53.248Z"
   },
   {
    "duration": 40,
    "start_time": "2024-03-12T09:04:53.272Z"
   },
   {
    "duration": 510,
    "start_time": "2024-03-12T09:04:53.314Z"
   },
   {
    "duration": 70128,
    "start_time": "2024-03-12T09:04:53.828Z"
   },
   {
    "duration": 9,
    "start_time": "2024-03-12T09:06:03.957Z"
   },
   {
    "duration": 52,
    "start_time": "2024-03-12T09:06:03.968Z"
   },
   {
    "duration": 6,
    "start_time": "2024-03-12T09:06:04.021Z"
   },
   {
    "duration": 25,
    "start_time": "2024-03-12T09:06:04.029Z"
   },
   {
    "duration": 51,
    "start_time": "2024-03-12T09:06:04.055Z"
   },
   {
    "duration": 3,
    "start_time": "2024-03-12T09:06:04.108Z"
   },
   {
    "duration": 9,
    "start_time": "2024-03-12T09:06:04.113Z"
   },
   {
    "duration": 830,
    "start_time": "2024-03-12T09:06:04.124Z"
   },
   {
    "duration": 62,
    "start_time": "2024-03-12T09:06:04.956Z"
   },
   {
    "duration": 4,
    "start_time": "2024-03-12T09:06:05.019Z"
   },
   {
    "duration": 67,
    "start_time": "2024-03-12T09:06:05.024Z"
   },
   {
    "duration": 334,
    "start_time": "2024-03-12T09:06:05.093Z"
   },
   {
    "duration": 1,
    "start_time": "2024-03-12T09:06:05.428Z"
   },
   {
    "duration": 0,
    "start_time": "2024-03-12T09:06:05.430Z"
   },
   {
    "duration": 0,
    "start_time": "2024-03-12T09:06:05.431Z"
   },
   {
    "duration": 0,
    "start_time": "2024-03-12T09:06:05.432Z"
   },
   {
    "duration": 0,
    "start_time": "2024-03-12T09:06:05.433Z"
   },
   {
    "duration": 0,
    "start_time": "2024-03-12T09:06:05.434Z"
   },
   {
    "duration": 0,
    "start_time": "2024-03-12T09:06:05.435Z"
   },
   {
    "duration": 360,
    "start_time": "2024-03-12T09:07:34.730Z"
   },
   {
    "duration": 348,
    "start_time": "2024-03-12T09:10:07.717Z"
   },
   {
    "duration": 303,
    "start_time": "2024-03-12T09:10:14.663Z"
   },
   {
    "duration": 91,
    "start_time": "2024-03-12T09:10:52.931Z"
   },
   {
    "duration": 10329,
    "start_time": "2024-03-12T09:12:37.600Z"
   },
   {
    "duration": 10494,
    "start_time": "2024-03-12T09:15:21.557Z"
   },
   {
    "duration": 5,
    "start_time": "2024-03-12T09:15:32.053Z"
   },
   {
    "duration": 31,
    "start_time": "2024-03-12T09:15:32.060Z"
   },
   {
    "duration": 903,
    "start_time": "2024-03-12T09:15:32.093Z"
   },
   {
    "duration": 6,
    "start_time": "2024-03-12T09:15:32.997Z"
   },
   {
    "duration": 882,
    "start_time": "2024-03-12T09:15:33.004Z"
   },
   {
    "duration": 378,
    "start_time": "2024-03-12T09:15:33.888Z"
   },
   {
    "duration": 36,
    "start_time": "2024-03-12T09:15:34.267Z"
   },
   {
    "duration": 75,
    "start_time": "2024-03-12T09:15:34.304Z"
   },
   {
    "duration": 15,
    "start_time": "2024-03-12T09:15:34.382Z"
   },
   {
    "duration": 93,
    "start_time": "2024-03-12T09:15:34.399Z"
   },
   {
    "duration": 4473,
    "start_time": "2024-03-12T09:15:34.494Z"
   },
   {
    "duration": 196,
    "start_time": "2024-03-12T09:15:38.969Z"
   },
   {
    "duration": 109,
    "start_time": "2024-03-12T09:15:39.166Z"
   },
   {
    "duration": 124,
    "start_time": "2024-03-12T09:15:39.277Z"
   },
   {
    "duration": 148,
    "start_time": "2024-03-12T09:15:39.402Z"
   },
   {
    "duration": 174,
    "start_time": "2024-03-12T09:15:39.552Z"
   },
   {
    "duration": 121,
    "start_time": "2024-03-12T09:15:39.728Z"
   },
   {
    "duration": 144,
    "start_time": "2024-03-12T09:15:39.850Z"
   },
   {
    "duration": 116,
    "start_time": "2024-03-12T09:15:39.996Z"
   },
   {
    "duration": 551,
    "start_time": "2024-03-12T09:15:40.114Z"
   },
   {
    "duration": 14,
    "start_time": "2024-03-12T09:15:40.667Z"
   },
   {
    "duration": 28,
    "start_time": "2024-03-12T09:15:40.683Z"
   },
   {
    "duration": 23,
    "start_time": "2024-03-12T09:15:40.712Z"
   },
   {
    "duration": 30,
    "start_time": "2024-03-12T09:15:40.737Z"
   },
   {
    "duration": 36,
    "start_time": "2024-03-12T09:15:40.769Z"
   },
   {
    "duration": 502,
    "start_time": "2024-03-12T09:15:40.807Z"
   },
   {
    "duration": 2,
    "start_time": "2024-03-12T09:15:41.313Z"
   },
   {
    "duration": 6,
    "start_time": "2024-03-12T09:15:41.317Z"
   },
   {
    "duration": 28,
    "start_time": "2024-03-12T09:15:41.324Z"
   },
   {
    "duration": 5,
    "start_time": "2024-03-12T09:15:41.366Z"
   },
   {
    "duration": 20,
    "start_time": "2024-03-12T09:15:41.372Z"
   },
   {
    "duration": 39,
    "start_time": "2024-03-12T09:15:41.394Z"
   },
   {
    "duration": 3,
    "start_time": "2024-03-12T09:15:41.435Z"
   },
   {
    "duration": 4,
    "start_time": "2024-03-12T09:15:41.465Z"
   },
   {
    "duration": 820,
    "start_time": "2024-03-12T09:15:41.471Z"
   },
   {
    "duration": 60,
    "start_time": "2024-03-12T09:15:42.293Z"
   },
   {
    "duration": 4,
    "start_time": "2024-03-12T09:15:42.365Z"
   },
   {
    "duration": 35,
    "start_time": "2024-03-12T09:15:42.371Z"
   },
   {
    "duration": 396,
    "start_time": "2024-03-12T09:15:42.408Z"
   },
   {
    "duration": 168,
    "start_time": "2024-03-12T09:15:42.806Z"
   },
   {
    "duration": 24666,
    "start_time": "2024-03-12T09:15:42.976Z"
   },
   {
    "duration": 67,
    "start_time": "2024-03-12T09:16:07.643Z"
   },
   {
    "duration": 145,
    "start_time": "2024-03-12T09:16:07.712Z"
   },
   {
    "duration": 10679,
    "start_time": "2024-03-12T09:26:27.924Z"
   },
   {
    "duration": 1358,
    "start_time": "2024-03-12T09:26:38.605Z"
   },
   {
    "duration": 24,
    "start_time": "2024-03-12T09:26:39.965Z"
   },
   {
    "duration": 986,
    "start_time": "2024-03-12T09:26:39.992Z"
   },
   {
    "duration": 6,
    "start_time": "2024-03-12T09:26:40.980Z"
   },
   {
    "duration": 1029,
    "start_time": "2024-03-12T09:26:40.988Z"
   },
   {
    "duration": 490,
    "start_time": "2024-03-12T09:26:42.019Z"
   },
   {
    "duration": 39,
    "start_time": "2024-03-12T09:26:42.512Z"
   },
   {
    "duration": 81,
    "start_time": "2024-03-12T09:26:42.552Z"
   },
   {
    "duration": 5,
    "start_time": "2024-03-12T09:26:42.637Z"
   },
   {
    "duration": 56,
    "start_time": "2024-03-12T09:26:42.644Z"
   },
   {
    "duration": 180,
    "start_time": "2024-03-12T09:26:42.702Z"
   },
   {
    "duration": 185,
    "start_time": "2024-03-12T09:26:42.883Z"
   },
   {
    "duration": 113,
    "start_time": "2024-03-12T09:26:43.069Z"
   },
   {
    "duration": 208,
    "start_time": "2024-03-12T09:26:43.184Z"
   },
   {
    "duration": 152,
    "start_time": "2024-03-12T09:26:43.394Z"
   },
   {
    "duration": 169,
    "start_time": "2024-03-12T09:26:43.548Z"
   },
   {
    "duration": 119,
    "start_time": "2024-03-12T09:26:43.719Z"
   },
   {
    "duration": 142,
    "start_time": "2024-03-12T09:26:43.840Z"
   },
   {
    "duration": 114,
    "start_time": "2024-03-12T09:26:43.984Z"
   },
   {
    "duration": 1088,
    "start_time": "2024-03-12T09:26:44.099Z"
   },
   {
    "duration": 14,
    "start_time": "2024-03-12T09:26:45.188Z"
   },
   {
    "duration": 68,
    "start_time": "2024-03-12T09:26:45.203Z"
   },
   {
    "duration": 95,
    "start_time": "2024-03-12T09:26:45.273Z"
   },
   {
    "duration": 37,
    "start_time": "2024-03-12T09:26:45.370Z"
   },
   {
    "duration": 93,
    "start_time": "2024-03-12T09:26:45.408Z"
   },
   {
    "duration": 662,
    "start_time": "2024-03-12T09:26:45.503Z"
   },
   {
    "duration": 3,
    "start_time": "2024-03-12T09:26:46.168Z"
   },
   {
    "duration": 8,
    "start_time": "2024-03-12T09:26:46.172Z"
   },
   {
    "duration": 28,
    "start_time": "2024-03-12T09:26:46.181Z"
   },
   {
    "duration": 5,
    "start_time": "2024-03-12T09:26:46.211Z"
   },
   {
    "duration": 22,
    "start_time": "2024-03-12T09:26:46.217Z"
   },
   {
    "duration": 58,
    "start_time": "2024-03-12T09:26:46.240Z"
   },
   {
    "duration": 3,
    "start_time": "2024-03-12T09:26:46.300Z"
   },
   {
    "duration": 10,
    "start_time": "2024-03-12T09:26:46.304Z"
   },
   {
    "duration": 834,
    "start_time": "2024-03-12T09:26:46.316Z"
   },
   {
    "duration": 59,
    "start_time": "2024-03-12T09:26:47.151Z"
   },
   {
    "duration": 4,
    "start_time": "2024-03-12T09:26:47.211Z"
   },
   {
    "duration": 20,
    "start_time": "2024-03-12T09:26:47.216Z"
   },
   {
    "duration": 368,
    "start_time": "2024-03-12T09:26:47.237Z"
   },
   {
    "duration": 160,
    "start_time": "2024-03-12T09:26:47.607Z"
   },
   {
    "duration": 25638,
    "start_time": "2024-03-12T09:26:47.768Z"
   },
   {
    "duration": 71,
    "start_time": "2024-03-12T09:27:13.408Z"
   },
   {
    "duration": 120,
    "start_time": "2024-03-12T09:27:13.480Z"
   },
   {
    "duration": 2965,
    "start_time": "2024-03-12T09:27:13.602Z"
   },
   {
    "duration": 0,
    "start_time": "2024-03-12T09:27:16.569Z"
   },
   {
    "duration": 60,
    "start_time": "2024-03-12T09:29:30.212Z"
   },
   {
    "duration": 117,
    "start_time": "2024-03-12T09:29:31.551Z"
   },
   {
    "duration": 10004,
    "start_time": "2024-03-12T09:34:16.932Z"
   },
   {
    "duration": 1325,
    "start_time": "2024-03-12T09:34:26.939Z"
   },
   {
    "duration": 17,
    "start_time": "2024-03-12T09:34:28.265Z"
   },
   {
    "duration": 1013,
    "start_time": "2024-03-12T09:34:28.285Z"
   },
   {
    "duration": 7,
    "start_time": "2024-03-12T09:34:29.300Z"
   },
   {
    "duration": 1023,
    "start_time": "2024-03-12T09:34:29.308Z"
   },
   {
    "duration": 448,
    "start_time": "2024-03-12T09:34:30.333Z"
   },
   {
    "duration": 38,
    "start_time": "2024-03-12T09:34:30.783Z"
   },
   {
    "duration": 99,
    "start_time": "2024-03-12T09:34:30.822Z"
   },
   {
    "duration": 36,
    "start_time": "2024-03-12T09:34:30.924Z"
   },
   {
    "duration": 86,
    "start_time": "2024-03-12T09:34:30.962Z"
   },
   {
    "duration": 228,
    "start_time": "2024-03-12T09:34:31.050Z"
   },
   {
    "duration": 181,
    "start_time": "2024-03-12T09:34:31.280Z"
   },
   {
    "duration": 114,
    "start_time": "2024-03-12T09:34:31.463Z"
   },
   {
    "duration": 207,
    "start_time": "2024-03-12T09:34:31.579Z"
   },
   {
    "duration": 153,
    "start_time": "2024-03-12T09:34:31.788Z"
   },
   {
    "duration": 176,
    "start_time": "2024-03-12T09:34:31.943Z"
   },
   {
    "duration": 114,
    "start_time": "2024-03-12T09:34:32.121Z"
   },
   {
    "duration": 138,
    "start_time": "2024-03-12T09:34:32.237Z"
   },
   {
    "duration": 100,
    "start_time": "2024-03-12T09:34:32.377Z"
   },
   {
    "duration": 593,
    "start_time": "2024-03-12T09:34:32.478Z"
   },
   {
    "duration": 13,
    "start_time": "2024-03-12T09:34:33.072Z"
   },
   {
    "duration": 15,
    "start_time": "2024-03-12T09:34:33.087Z"
   },
   {
    "duration": 33,
    "start_time": "2024-03-12T09:34:33.104Z"
   },
   {
    "duration": 50,
    "start_time": "2024-03-12T09:34:33.138Z"
   },
   {
    "duration": 38,
    "start_time": "2024-03-12T09:34:33.190Z"
   },
   {
    "duration": 559,
    "start_time": "2024-03-12T09:34:33.229Z"
   },
   {
    "duration": 3,
    "start_time": "2024-03-12T09:34:33.794Z"
   },
   {
    "duration": 4,
    "start_time": "2024-03-12T09:34:33.798Z"
   },
   {
    "duration": 31,
    "start_time": "2024-03-12T09:34:33.803Z"
   },
   {
    "duration": 5,
    "start_time": "2024-03-12T09:34:33.836Z"
   },
   {
    "duration": 34,
    "start_time": "2024-03-12T09:34:33.843Z"
   },
   {
    "duration": 34,
    "start_time": "2024-03-12T09:34:33.878Z"
   },
   {
    "duration": 2,
    "start_time": "2024-03-12T09:34:33.914Z"
   },
   {
    "duration": 18,
    "start_time": "2024-03-12T09:34:33.918Z"
   },
   {
    "duration": 834,
    "start_time": "2024-03-12T09:34:33.938Z"
   },
   {
    "duration": 62,
    "start_time": "2024-03-12T09:34:34.774Z"
   },
   {
    "duration": 11,
    "start_time": "2024-03-12T09:34:34.838Z"
   },
   {
    "duration": 31,
    "start_time": "2024-03-12T09:34:34.851Z"
   },
   {
    "duration": 401,
    "start_time": "2024-03-12T09:34:34.884Z"
   },
   {
    "duration": 80,
    "start_time": "2024-03-12T09:34:35.287Z"
   },
   {
    "duration": 25174,
    "start_time": "2024-03-12T09:34:35.369Z"
   },
   {
    "duration": 62,
    "start_time": "2024-03-12T09:35:00.545Z"
   },
   {
    "duration": 130,
    "start_time": "2024-03-12T09:35:00.609Z"
   },
   {
    "duration": 9818,
    "start_time": "2024-03-12T09:40:21.672Z"
   },
   {
    "duration": 1331,
    "start_time": "2024-03-12T09:40:31.492Z"
   },
   {
    "duration": 15,
    "start_time": "2024-03-12T09:40:32.825Z"
   },
   {
    "duration": 930,
    "start_time": "2024-03-12T09:40:32.842Z"
   },
   {
    "duration": 5,
    "start_time": "2024-03-12T09:40:33.773Z"
   },
   {
    "duration": 985,
    "start_time": "2024-03-12T09:40:33.780Z"
   },
   {
    "duration": 448,
    "start_time": "2024-03-12T09:40:34.767Z"
   },
   {
    "duration": 49,
    "start_time": "2024-03-12T09:40:35.217Z"
   },
   {
    "duration": 56,
    "start_time": "2024-03-12T09:40:35.268Z"
   },
   {
    "duration": 4,
    "start_time": "2024-03-12T09:40:35.327Z"
   },
   {
    "duration": 59,
    "start_time": "2024-03-12T09:40:35.333Z"
   },
   {
    "duration": 174,
    "start_time": "2024-03-12T09:40:35.393Z"
   },
   {
    "duration": 186,
    "start_time": "2024-03-12T09:40:35.569Z"
   },
   {
    "duration": 130,
    "start_time": "2024-03-12T09:40:35.757Z"
   },
   {
    "duration": 205,
    "start_time": "2024-03-12T09:40:35.889Z"
   },
   {
    "duration": 196,
    "start_time": "2024-03-12T09:40:36.096Z"
   },
   {
    "duration": 168,
    "start_time": "2024-03-12T09:40:36.294Z"
   },
   {
    "duration": 107,
    "start_time": "2024-03-12T09:40:36.464Z"
   },
   {
    "duration": 129,
    "start_time": "2024-03-12T09:40:36.573Z"
   },
   {
    "duration": 101,
    "start_time": "2024-03-12T09:40:36.704Z"
   },
   {
    "duration": 582,
    "start_time": "2024-03-12T09:40:36.806Z"
   },
   {
    "duration": 14,
    "start_time": "2024-03-12T09:40:37.389Z"
   },
   {
    "duration": 13,
    "start_time": "2024-03-12T09:40:37.405Z"
   },
   {
    "duration": 51,
    "start_time": "2024-03-12T09:40:37.420Z"
   },
   {
    "duration": 36,
    "start_time": "2024-03-12T09:40:37.473Z"
   },
   {
    "duration": 53,
    "start_time": "2024-03-12T09:40:37.514Z"
   },
   {
    "duration": 514,
    "start_time": "2024-03-12T09:40:37.568Z"
   },
   {
    "duration": 2,
    "start_time": "2024-03-12T09:40:38.086Z"
   },
   {
    "duration": 3,
    "start_time": "2024-03-12T09:40:38.090Z"
   },
   {
    "duration": 25,
    "start_time": "2024-03-12T09:40:38.095Z"
   },
   {
    "duration": 4,
    "start_time": "2024-03-12T09:40:38.122Z"
   },
   {
    "duration": 46,
    "start_time": "2024-03-12T09:40:38.127Z"
   },
   {
    "duration": 34,
    "start_time": "2024-03-12T09:40:38.175Z"
   },
   {
    "duration": 3,
    "start_time": "2024-03-12T09:40:38.210Z"
   },
   {
    "duration": 19,
    "start_time": "2024-03-12T09:40:38.214Z"
   },
   {
    "duration": 912,
    "start_time": "2024-03-12T09:40:38.234Z"
   },
   {
    "duration": 61,
    "start_time": "2024-03-12T09:40:39.148Z"
   },
   {
    "duration": 4,
    "start_time": "2024-03-12T09:40:39.210Z"
   },
   {
    "duration": 18,
    "start_time": "2024-03-12T09:40:39.216Z"
   },
   {
    "duration": 368,
    "start_time": "2024-03-12T09:40:39.236Z"
   },
   {
    "duration": 167,
    "start_time": "2024-03-12T09:40:39.606Z"
   },
   {
    "duration": 23651,
    "start_time": "2024-03-12T09:40:39.775Z"
   },
   {
    "duration": 64,
    "start_time": "2024-03-12T09:41:03.428Z"
   },
   {
    "duration": 4,
    "start_time": "2024-03-12T09:41:03.493Z"
   },
   {
    "duration": 7,
    "start_time": "2024-03-12T09:41:03.499Z"
   },
   {
    "duration": 9962,
    "start_time": "2024-03-12T09:43:06.249Z"
   },
   {
    "duration": 1222,
    "start_time": "2024-03-12T09:43:16.214Z"
   },
   {
    "duration": 16,
    "start_time": "2024-03-12T09:43:17.438Z"
   },
   {
    "duration": 952,
    "start_time": "2024-03-12T09:43:17.456Z"
   },
   {
    "duration": 6,
    "start_time": "2024-03-12T09:43:18.410Z"
   },
   {
    "duration": 1056,
    "start_time": "2024-03-12T09:43:18.417Z"
   },
   {
    "duration": 488,
    "start_time": "2024-03-12T09:43:19.475Z"
   },
   {
    "duration": 37,
    "start_time": "2024-03-12T09:43:19.965Z"
   },
   {
    "duration": 76,
    "start_time": "2024-03-12T09:43:20.004Z"
   },
   {
    "duration": 5,
    "start_time": "2024-03-12T09:43:20.083Z"
   },
   {
    "duration": 54,
    "start_time": "2024-03-12T09:43:20.089Z"
   },
   {
    "duration": 182,
    "start_time": "2024-03-12T09:43:20.145Z"
   },
   {
    "duration": 191,
    "start_time": "2024-03-12T09:43:20.328Z"
   },
   {
    "duration": 112,
    "start_time": "2024-03-12T09:43:20.521Z"
   },
   {
    "duration": 209,
    "start_time": "2024-03-12T09:43:20.634Z"
   },
   {
    "duration": 152,
    "start_time": "2024-03-12T09:43:20.844Z"
   },
   {
    "duration": 173,
    "start_time": "2024-03-12T09:43:20.997Z"
   },
   {
    "duration": 112,
    "start_time": "2024-03-12T09:43:21.172Z"
   },
   {
    "duration": 131,
    "start_time": "2024-03-12T09:43:21.285Z"
   },
   {
    "duration": 104,
    "start_time": "2024-03-12T09:43:21.418Z"
   },
   {
    "duration": 633,
    "start_time": "2024-03-12T09:43:21.524Z"
   },
   {
    "duration": 17,
    "start_time": "2024-03-12T09:43:22.159Z"
   },
   {
    "duration": 21,
    "start_time": "2024-03-12T09:43:22.177Z"
   },
   {
    "duration": 37,
    "start_time": "2024-03-12T09:43:22.199Z"
   },
   {
    "duration": 38,
    "start_time": "2024-03-12T09:43:22.237Z"
   },
   {
    "duration": 37,
    "start_time": "2024-03-12T09:43:22.276Z"
   },
   {
    "duration": 544,
    "start_time": "2024-03-12T09:43:22.315Z"
   },
   {
    "duration": 4,
    "start_time": "2024-03-12T09:43:22.862Z"
   },
   {
    "duration": 4,
    "start_time": "2024-03-12T09:43:22.868Z"
   },
   {
    "duration": 27,
    "start_time": "2024-03-12T09:43:22.873Z"
   },
   {
    "duration": 6,
    "start_time": "2024-03-12T09:43:22.901Z"
   },
   {
    "duration": 23,
    "start_time": "2024-03-12T09:43:22.908Z"
   },
   {
    "duration": 64,
    "start_time": "2024-03-12T09:43:22.933Z"
   },
   {
    "duration": 4,
    "start_time": "2024-03-12T09:43:22.999Z"
   },
   {
    "duration": 5,
    "start_time": "2024-03-12T09:43:23.006Z"
   },
   {
    "duration": 852,
    "start_time": "2024-03-12T09:43:23.014Z"
   },
   {
    "duration": 52,
    "start_time": "2024-03-12T09:43:23.868Z"
   },
   {
    "duration": 3,
    "start_time": "2024-03-12T09:43:23.922Z"
   },
   {
    "duration": 40,
    "start_time": "2024-03-12T09:43:23.927Z"
   },
   {
    "duration": 370,
    "start_time": "2024-03-12T09:43:23.968Z"
   },
   {
    "duration": 57,
    "start_time": "2024-03-12T09:43:24.341Z"
   },
   {
    "duration": 17201,
    "start_time": "2024-03-12T09:43:24.465Z"
   },
   {
    "duration": 0,
    "start_time": "2024-03-12T09:43:41.668Z"
   },
   {
    "duration": 0,
    "start_time": "2024-03-12T09:43:41.670Z"
   },
   {
    "duration": 0,
    "start_time": "2024-03-12T09:43:41.671Z"
   },
   {
    "duration": 0,
    "start_time": "2024-03-12T09:43:41.673Z"
   },
   {
    "duration": 13498,
    "start_time": "2024-03-12T15:41:04.112Z"
   },
   {
    "duration": 1247,
    "start_time": "2024-03-12T15:41:17.612Z"
   },
   {
    "duration": 12,
    "start_time": "2024-03-12T15:41:18.861Z"
   },
   {
    "duration": 908,
    "start_time": "2024-03-12T15:41:18.875Z"
   },
   {
    "duration": 4,
    "start_time": "2024-03-12T15:41:19.784Z"
   },
   {
    "duration": 716,
    "start_time": "2024-03-12T15:41:19.789Z"
   },
   {
    "duration": 351,
    "start_time": "2024-03-12T15:41:20.506Z"
   },
   {
    "duration": 40,
    "start_time": "2024-03-12T15:41:20.858Z"
   },
   {
    "duration": 63,
    "start_time": "2024-03-12T15:41:20.900Z"
   },
   {
    "duration": 4,
    "start_time": "2024-03-12T15:41:20.965Z"
   },
   {
    "duration": 32,
    "start_time": "2024-03-12T15:41:20.971Z"
   },
   {
    "duration": 146,
    "start_time": "2024-03-12T15:41:21.004Z"
   },
   {
    "duration": 144,
    "start_time": "2024-03-12T15:41:21.152Z"
   },
   {
    "duration": 89,
    "start_time": "2024-03-12T15:41:21.299Z"
   },
   {
    "duration": 136,
    "start_time": "2024-03-12T15:41:21.389Z"
   },
   {
    "duration": 112,
    "start_time": "2024-03-12T15:41:21.526Z"
   },
   {
    "duration": 126,
    "start_time": "2024-03-12T15:41:21.639Z"
   },
   {
    "duration": 77,
    "start_time": "2024-03-12T15:41:21.766Z"
   },
   {
    "duration": 105,
    "start_time": "2024-03-12T15:41:21.844Z"
   },
   {
    "duration": 66,
    "start_time": "2024-03-12T15:41:21.951Z"
   },
   {
    "duration": 481,
    "start_time": "2024-03-12T15:41:22.019Z"
   },
   {
    "duration": 10,
    "start_time": "2024-03-12T15:41:22.501Z"
   },
   {
    "duration": 11,
    "start_time": "2024-03-12T15:41:22.513Z"
   },
   {
    "duration": 40,
    "start_time": "2024-03-12T15:41:22.525Z"
   },
   {
    "duration": 27,
    "start_time": "2024-03-12T15:41:22.566Z"
   },
   {
    "duration": 33,
    "start_time": "2024-03-12T15:41:22.594Z"
   },
   {
    "duration": 432,
    "start_time": "2024-03-12T15:41:22.629Z"
   },
   {
    "duration": 2,
    "start_time": "2024-03-12T15:41:23.063Z"
   },
   {
    "duration": 5,
    "start_time": "2024-03-12T15:41:23.066Z"
   },
   {
    "duration": 25,
    "start_time": "2024-03-12T15:41:23.072Z"
   },
   {
    "duration": 4,
    "start_time": "2024-03-12T15:41:23.098Z"
   },
   {
    "duration": 24,
    "start_time": "2024-03-12T15:41:23.103Z"
   },
   {
    "duration": 44,
    "start_time": "2024-03-12T15:41:23.128Z"
   },
   {
    "duration": 2,
    "start_time": "2024-03-12T15:41:23.173Z"
   },
   {
    "duration": 7,
    "start_time": "2024-03-12T15:41:23.176Z"
   },
   {
    "duration": 618,
    "start_time": "2024-03-12T15:41:23.184Z"
   },
   {
    "duration": 36,
    "start_time": "2024-03-12T15:41:23.803Z"
   },
   {
    "duration": 3,
    "start_time": "2024-03-12T15:41:23.841Z"
   },
   {
    "duration": 14,
    "start_time": "2024-03-12T15:41:23.858Z"
   },
   {
    "duration": 293,
    "start_time": "2024-03-12T15:41:23.874Z"
   },
   {
    "duration": 94,
    "start_time": "2024-03-12T15:41:24.171Z"
   },
   {
    "duration": 21460,
    "start_time": "2024-03-12T15:41:24.267Z"
   },
   {
    "duration": 43,
    "start_time": "2024-03-12T15:41:45.729Z"
   },
   {
    "duration": 98,
    "start_time": "2024-03-12T15:41:45.773Z"
   },
   {
    "duration": 0,
    "start_time": "2024-03-12T15:43:19.139Z"
   },
   {
    "duration": 0,
    "start_time": "2024-03-12T15:43:19.140Z"
   },
   {
    "duration": 0,
    "start_time": "2024-03-12T15:43:19.142Z"
   },
   {
    "duration": 0,
    "start_time": "2024-03-12T15:43:19.143Z"
   },
   {
    "duration": 0,
    "start_time": "2024-03-12T15:43:19.144Z"
   },
   {
    "duration": 0,
    "start_time": "2024-03-12T15:43:19.157Z"
   },
   {
    "duration": 0,
    "start_time": "2024-03-12T15:43:19.158Z"
   },
   {
    "duration": 0,
    "start_time": "2024-03-12T15:43:19.159Z"
   },
   {
    "duration": 0,
    "start_time": "2024-03-12T15:43:19.160Z"
   },
   {
    "duration": 0,
    "start_time": "2024-03-12T15:43:19.161Z"
   },
   {
    "duration": 0,
    "start_time": "2024-03-12T15:43:19.162Z"
   },
   {
    "duration": 0,
    "start_time": "2024-03-12T15:43:19.164Z"
   },
   {
    "duration": 0,
    "start_time": "2024-03-12T15:43:19.165Z"
   },
   {
    "duration": 0,
    "start_time": "2024-03-12T15:43:19.166Z"
   },
   {
    "duration": 0,
    "start_time": "2024-03-12T15:43:19.167Z"
   },
   {
    "duration": 0,
    "start_time": "2024-03-12T15:43:19.168Z"
   },
   {
    "duration": 0,
    "start_time": "2024-03-12T15:43:19.169Z"
   },
   {
    "duration": 0,
    "start_time": "2024-03-12T15:43:19.170Z"
   },
   {
    "duration": 0,
    "start_time": "2024-03-12T15:43:19.171Z"
   },
   {
    "duration": 0,
    "start_time": "2024-03-12T15:43:19.172Z"
   },
   {
    "duration": 0,
    "start_time": "2024-03-12T15:43:19.173Z"
   },
   {
    "duration": 0,
    "start_time": "2024-03-12T15:43:19.175Z"
   },
   {
    "duration": 0,
    "start_time": "2024-03-12T15:43:19.176Z"
   },
   {
    "duration": 0,
    "start_time": "2024-03-12T15:43:19.177Z"
   },
   {
    "duration": 0,
    "start_time": "2024-03-12T15:43:19.178Z"
   },
   {
    "duration": 0,
    "start_time": "2024-03-12T15:43:19.179Z"
   },
   {
    "duration": 0,
    "start_time": "2024-03-12T15:43:19.180Z"
   },
   {
    "duration": 0,
    "start_time": "2024-03-12T15:43:19.181Z"
   },
   {
    "duration": 0,
    "start_time": "2024-03-12T15:43:19.183Z"
   },
   {
    "duration": 0,
    "start_time": "2024-03-12T15:43:19.184Z"
   },
   {
    "duration": 0,
    "start_time": "2024-03-12T15:43:19.185Z"
   },
   {
    "duration": 0,
    "start_time": "2024-03-12T15:43:19.186Z"
   },
   {
    "duration": 0,
    "start_time": "2024-03-12T15:43:19.187Z"
   },
   {
    "duration": 0,
    "start_time": "2024-03-12T15:43:19.188Z"
   },
   {
    "duration": 0,
    "start_time": "2024-03-12T15:43:19.189Z"
   },
   {
    "duration": 0,
    "start_time": "2024-03-12T15:43:19.189Z"
   },
   {
    "duration": 0,
    "start_time": "2024-03-12T15:43:19.190Z"
   },
   {
    "duration": 0,
    "start_time": "2024-03-12T15:43:19.191Z"
   },
   {
    "duration": 0,
    "start_time": "2024-03-12T15:43:19.191Z"
   },
   {
    "duration": 0,
    "start_time": "2024-03-12T15:43:19.192Z"
   },
   {
    "duration": 0,
    "start_time": "2024-03-12T15:43:19.193Z"
   },
   {
    "duration": 0,
    "start_time": "2024-03-12T15:43:19.194Z"
   },
   {
    "duration": 0,
    "start_time": "2024-03-12T15:43:19.194Z"
   },
   {
    "duration": 0,
    "start_time": "2024-03-12T15:43:19.195Z"
   },
   {
    "duration": 0,
    "start_time": "2024-03-12T15:43:19.257Z"
   },
   {
    "duration": 0,
    "start_time": "2024-03-12T15:43:19.257Z"
   },
   {
    "duration": 9555,
    "start_time": "2024-03-12T15:43:20.465Z"
   },
   {
    "duration": 4,
    "start_time": "2024-03-12T15:43:30.023Z"
   },
   {
    "duration": 61,
    "start_time": "2024-03-12T15:43:30.029Z"
   },
   {
    "duration": 799,
    "start_time": "2024-03-12T15:43:30.092Z"
   },
   {
    "duration": 6,
    "start_time": "2024-03-12T15:43:30.896Z"
   },
   {
    "duration": 706,
    "start_time": "2024-03-12T15:43:30.903Z"
   },
   {
    "duration": 294,
    "start_time": "2024-03-12T15:43:31.610Z"
   },
   {
    "duration": 29,
    "start_time": "2024-03-12T15:43:31.906Z"
   },
   {
    "duration": 56,
    "start_time": "2024-03-12T15:43:31.937Z"
   },
   {
    "duration": 4,
    "start_time": "2024-03-12T15:43:31.996Z"
   },
   {
    "duration": 43,
    "start_time": "2024-03-12T15:43:32.001Z"
   },
   {
    "duration": 124,
    "start_time": "2024-03-12T15:43:32.046Z"
   },
   {
    "duration": 141,
    "start_time": "2024-03-12T15:43:32.171Z"
   },
   {
    "duration": 156,
    "start_time": "2024-03-12T15:43:32.314Z"
   },
   {
    "duration": 94,
    "start_time": "2024-03-12T15:43:32.472Z"
   },
   {
    "duration": 112,
    "start_time": "2024-03-12T15:43:32.567Z"
   },
   {
    "duration": 125,
    "start_time": "2024-03-12T15:43:32.680Z"
   },
   {
    "duration": 81,
    "start_time": "2024-03-12T15:43:32.806Z"
   },
   {
    "duration": 97,
    "start_time": "2024-03-12T15:43:32.888Z"
   },
   {
    "duration": 70,
    "start_time": "2024-03-12T15:43:32.987Z"
   },
   {
    "duration": 471,
    "start_time": "2024-03-12T15:43:33.059Z"
   },
   {
    "duration": 10,
    "start_time": "2024-03-12T15:43:33.531Z"
   },
   {
    "duration": 14,
    "start_time": "2024-03-12T15:43:33.542Z"
   },
   {
    "duration": 27,
    "start_time": "2024-03-12T15:43:33.557Z"
   },
   {
    "duration": 28,
    "start_time": "2024-03-12T15:43:33.585Z"
   },
   {
    "duration": 47,
    "start_time": "2024-03-12T15:43:33.614Z"
   },
   {
    "duration": 416,
    "start_time": "2024-03-12T15:43:33.662Z"
   },
   {
    "duration": 2,
    "start_time": "2024-03-12T15:43:34.081Z"
   },
   {
    "duration": 9,
    "start_time": "2024-03-12T15:43:34.084Z"
   },
   {
    "duration": 22,
    "start_time": "2024-03-12T15:43:34.094Z"
   },
   {
    "duration": 4,
    "start_time": "2024-03-12T15:43:34.118Z"
   },
   {
    "duration": 20,
    "start_time": "2024-03-12T15:43:34.123Z"
   },
   {
    "duration": 42,
    "start_time": "2024-03-12T15:43:34.144Z"
   },
   {
    "duration": 2,
    "start_time": "2024-03-12T15:43:34.187Z"
   },
   {
    "duration": 5,
    "start_time": "2024-03-12T15:43:34.190Z"
   },
   {
    "duration": 621,
    "start_time": "2024-03-12T15:43:34.196Z"
   },
   {
    "duration": 48,
    "start_time": "2024-03-12T15:43:34.818Z"
   },
   {
    "duration": 3,
    "start_time": "2024-03-12T15:43:34.867Z"
   },
   {
    "duration": 25,
    "start_time": "2024-03-12T15:43:34.871Z"
   },
   {
    "duration": 292,
    "start_time": "2024-03-12T15:43:34.897Z"
   },
   {
    "duration": 171,
    "start_time": "2024-03-12T15:43:35.190Z"
   },
   {
    "duration": 21684,
    "start_time": "2024-03-12T15:43:35.362Z"
   },
   {
    "duration": 45,
    "start_time": "2024-03-12T15:43:57.047Z"
   },
   {
    "duration": 104,
    "start_time": "2024-03-12T15:43:57.093Z"
   },
   {
    "duration": 0,
    "start_time": "2024-03-12T15:46:36.062Z"
   },
   {
    "duration": 0,
    "start_time": "2024-03-12T15:46:36.063Z"
   },
   {
    "duration": 0,
    "start_time": "2024-03-12T15:46:36.063Z"
   },
   {
    "duration": 0,
    "start_time": "2024-03-12T15:46:36.064Z"
   },
   {
    "duration": 0,
    "start_time": "2024-03-12T15:46:36.065Z"
   },
   {
    "duration": 0,
    "start_time": "2024-03-12T15:46:36.066Z"
   },
   {
    "duration": 0,
    "start_time": "2024-03-12T15:46:36.066Z"
   },
   {
    "duration": 0,
    "start_time": "2024-03-12T15:46:36.067Z"
   },
   {
    "duration": 0,
    "start_time": "2024-03-12T15:46:36.068Z"
   },
   {
    "duration": 0,
    "start_time": "2024-03-12T15:46:36.069Z"
   },
   {
    "duration": 0,
    "start_time": "2024-03-12T15:46:36.069Z"
   },
   {
    "duration": 0,
    "start_time": "2024-03-12T15:46:36.070Z"
   },
   {
    "duration": 0,
    "start_time": "2024-03-12T15:46:36.071Z"
   },
   {
    "duration": 0,
    "start_time": "2024-03-12T15:46:36.071Z"
   },
   {
    "duration": 0,
    "start_time": "2024-03-12T15:46:36.072Z"
   },
   {
    "duration": 0,
    "start_time": "2024-03-12T15:46:36.073Z"
   },
   {
    "duration": 0,
    "start_time": "2024-03-12T15:46:36.074Z"
   },
   {
    "duration": 0,
    "start_time": "2024-03-12T15:46:36.074Z"
   },
   {
    "duration": 0,
    "start_time": "2024-03-12T15:46:36.075Z"
   },
   {
    "duration": 0,
    "start_time": "2024-03-12T15:46:36.076Z"
   },
   {
    "duration": 0,
    "start_time": "2024-03-12T15:46:36.077Z"
   },
   {
    "duration": 0,
    "start_time": "2024-03-12T15:46:36.077Z"
   },
   {
    "duration": 0,
    "start_time": "2024-03-12T15:46:36.079Z"
   },
   {
    "duration": 0,
    "start_time": "2024-03-12T15:46:36.080Z"
   },
   {
    "duration": 0,
    "start_time": "2024-03-12T15:46:36.081Z"
   },
   {
    "duration": 0,
    "start_time": "2024-03-12T15:46:36.082Z"
   },
   {
    "duration": 0,
    "start_time": "2024-03-12T15:46:36.083Z"
   },
   {
    "duration": 0,
    "start_time": "2024-03-12T15:46:36.083Z"
   },
   {
    "duration": 0,
    "start_time": "2024-03-12T15:46:36.084Z"
   },
   {
    "duration": 0,
    "start_time": "2024-03-12T15:46:36.085Z"
   },
   {
    "duration": 0,
    "start_time": "2024-03-12T15:46:36.086Z"
   },
   {
    "duration": 0,
    "start_time": "2024-03-12T15:46:36.087Z"
   },
   {
    "duration": 0,
    "start_time": "2024-03-12T15:46:36.088Z"
   },
   {
    "duration": 0,
    "start_time": "2024-03-12T15:46:36.088Z"
   },
   {
    "duration": 0,
    "start_time": "2024-03-12T15:46:36.089Z"
   },
   {
    "duration": 0,
    "start_time": "2024-03-12T15:46:36.090Z"
   },
   {
    "duration": 0,
    "start_time": "2024-03-12T15:46:36.090Z"
   },
   {
    "duration": 0,
    "start_time": "2024-03-12T15:46:36.091Z"
   },
   {
    "duration": 0,
    "start_time": "2024-03-12T15:46:36.092Z"
   },
   {
    "duration": 0,
    "start_time": "2024-03-12T15:46:36.093Z"
   },
   {
    "duration": 0,
    "start_time": "2024-03-12T15:46:36.093Z"
   },
   {
    "duration": 0,
    "start_time": "2024-03-12T15:46:36.094Z"
   },
   {
    "duration": 0,
    "start_time": "2024-03-12T15:46:36.095Z"
   },
   {
    "duration": 0,
    "start_time": "2024-03-12T15:46:36.095Z"
   },
   {
    "duration": 0,
    "start_time": "2024-03-12T15:46:36.096Z"
   },
   {
    "duration": 0,
    "start_time": "2024-03-12T15:46:36.157Z"
   },
   {
    "duration": 9702,
    "start_time": "2024-03-12T15:46:37.576Z"
   },
   {
    "duration": 4,
    "start_time": "2024-03-12T15:46:47.280Z"
   },
   {
    "duration": 16,
    "start_time": "2024-03-12T15:46:47.285Z"
   },
   {
    "duration": 698,
    "start_time": "2024-03-12T15:46:47.302Z"
   },
   {
    "duration": 5,
    "start_time": "2024-03-12T15:46:48.001Z"
   },
   {
    "duration": 658,
    "start_time": "2024-03-12T15:46:48.007Z"
   },
   {
    "duration": 309,
    "start_time": "2024-03-12T15:46:48.666Z"
   },
   {
    "duration": 28,
    "start_time": "2024-03-12T15:46:48.976Z"
   },
   {
    "duration": 55,
    "start_time": "2024-03-12T15:46:49.006Z"
   },
   {
    "duration": 4,
    "start_time": "2024-03-12T15:46:49.064Z"
   },
   {
    "duration": 36,
    "start_time": "2024-03-12T15:46:49.070Z"
   },
   {
    "duration": 138,
    "start_time": "2024-03-12T15:46:49.107Z"
   },
   {
    "duration": 139,
    "start_time": "2024-03-12T15:46:49.246Z"
   },
   {
    "duration": 156,
    "start_time": "2024-03-12T15:46:49.387Z"
   },
   {
    "duration": 96,
    "start_time": "2024-03-12T15:46:49.545Z"
   },
   {
    "duration": 116,
    "start_time": "2024-03-12T15:46:49.643Z"
   },
   {
    "duration": 128,
    "start_time": "2024-03-12T15:46:49.760Z"
   },
   {
    "duration": 88,
    "start_time": "2024-03-12T15:46:49.889Z"
   },
   {
    "duration": 104,
    "start_time": "2024-03-12T15:46:49.979Z"
   },
   {
    "duration": 73,
    "start_time": "2024-03-12T15:46:50.085Z"
   },
   {
    "duration": 479,
    "start_time": "2024-03-12T15:46:50.160Z"
   },
   {
    "duration": 18,
    "start_time": "2024-03-12T15:46:50.640Z"
   },
   {
    "duration": 9,
    "start_time": "2024-03-12T15:46:50.659Z"
   },
   {
    "duration": 45,
    "start_time": "2024-03-12T15:46:50.669Z"
   },
   {
    "duration": 26,
    "start_time": "2024-03-12T15:46:50.715Z"
   },
   {
    "duration": 38,
    "start_time": "2024-03-12T15:46:50.743Z"
   },
   {
    "duration": 455,
    "start_time": "2024-03-12T15:46:50.782Z"
   },
   {
    "duration": 2,
    "start_time": "2024-03-12T15:46:51.241Z"
   },
   {
    "duration": 12,
    "start_time": "2024-03-12T15:46:51.245Z"
   },
   {
    "duration": 23,
    "start_time": "2024-03-12T15:46:51.259Z"
   },
   {
    "duration": 5,
    "start_time": "2024-03-12T15:46:51.283Z"
   },
   {
    "duration": 20,
    "start_time": "2024-03-12T15:46:51.289Z"
   },
   {
    "duration": 55,
    "start_time": "2024-03-12T15:46:51.310Z"
   },
   {
    "duration": 3,
    "start_time": "2024-03-12T15:46:51.366Z"
   },
   {
    "duration": 7,
    "start_time": "2024-03-12T15:46:51.370Z"
   },
   {
    "duration": 639,
    "start_time": "2024-03-12T15:46:51.378Z"
   },
   {
    "duration": 51,
    "start_time": "2024-03-12T15:46:52.018Z"
   },
   {
    "duration": 3,
    "start_time": "2024-03-12T15:46:52.071Z"
   },
   {
    "duration": 18,
    "start_time": "2024-03-12T15:46:52.075Z"
   },
   {
    "duration": 298,
    "start_time": "2024-03-12T15:46:52.094Z"
   },
   {
    "duration": 167,
    "start_time": "2024-03-12T15:46:52.394Z"
   },
   {
    "duration": 22278,
    "start_time": "2024-03-12T15:46:52.562Z"
   },
   {
    "duration": 47,
    "start_time": "2024-03-12T15:47:14.841Z"
   },
   {
    "duration": 106,
    "start_time": "2024-03-12T15:47:14.890Z"
   },
   {
    "duration": 0,
    "start_time": "2024-03-12T15:48:10.071Z"
   },
   {
    "duration": 0,
    "start_time": "2024-03-12T15:48:10.072Z"
   },
   {
    "duration": 409804,
    "start_time": "2024-03-12T15:48:11.555Z"
   },
   {
    "duration": 8827,
    "start_time": "2024-03-12T15:55:30.650Z"
   },
   {
    "duration": 15,
    "start_time": "2024-03-12T16:11:38.009Z"
   },
   {
    "duration": 250,
    "start_time": "2024-03-12T16:11:38.912Z"
   },
   {
    "duration": 893,
    "start_time": "2024-03-12T16:11:40.681Z"
   },
   {
    "duration": 962,
    "start_time": "2024-03-12T16:13:13.396Z"
   },
   {
    "duration": 22680,
    "start_time": "2024-03-12T16:15:52.675Z"
   },
   {
    "duration": 23019,
    "start_time": "2024-03-12T16:20:20.041Z"
   },
   {
    "duration": 21632,
    "start_time": "2024-03-12T16:31:08.486Z"
   },
   {
    "duration": 22792,
    "start_time": "2024-03-12T16:32:32.603Z"
   },
   {
    "duration": 61,
    "start_time": "2024-03-12T16:32:55.396Z"
   },
   {
    "duration": 869,
    "start_time": "2024-03-12T16:33:55.202Z"
   },
   {
    "duration": 78,
    "start_time": "2024-03-12T16:34:05.822Z"
   },
   {
    "duration": 897,
    "start_time": "2024-03-12T16:34:09.361Z"
   },
   {
    "duration": 846,
    "start_time": "2024-03-12T16:34:24.129Z"
   },
   {
    "duration": 847,
    "start_time": "2024-03-12T16:35:04.425Z"
   },
   {
    "duration": 851,
    "start_time": "2024-03-12T16:35:19.217Z"
   },
   {
    "duration": 845,
    "start_time": "2024-03-12T16:35:32.723Z"
   },
   {
    "duration": 22717,
    "start_time": "2024-03-12T16:36:00.046Z"
   },
   {
    "duration": 9742,
    "start_time": "2024-03-12T16:38:41.109Z"
   },
   {
    "duration": 4,
    "start_time": "2024-03-12T16:38:50.853Z"
   },
   {
    "duration": 18,
    "start_time": "2024-03-12T16:38:50.858Z"
   },
   {
    "duration": 680,
    "start_time": "2024-03-12T16:38:50.878Z"
   },
   {
    "duration": 5,
    "start_time": "2024-03-12T16:38:51.559Z"
   },
   {
    "duration": 660,
    "start_time": "2024-03-12T16:38:51.565Z"
   },
   {
    "duration": 303,
    "start_time": "2024-03-12T16:38:52.226Z"
   },
   {
    "duration": 39,
    "start_time": "2024-03-12T16:38:52.530Z"
   },
   {
    "duration": 44,
    "start_time": "2024-03-12T16:38:52.570Z"
   },
   {
    "duration": 3,
    "start_time": "2024-03-12T16:38:52.617Z"
   },
   {
    "duration": 39,
    "start_time": "2024-03-12T16:38:52.622Z"
   },
   {
    "duration": 120,
    "start_time": "2024-03-12T16:38:52.662Z"
   },
   {
    "duration": 215,
    "start_time": "2024-03-12T16:38:52.783Z"
   },
   {
    "duration": 86,
    "start_time": "2024-03-12T16:38:52.999Z"
   },
   {
    "duration": 96,
    "start_time": "2024-03-12T16:38:53.087Z"
   },
   {
    "duration": 118,
    "start_time": "2024-03-12T16:38:53.184Z"
   },
   {
    "duration": 123,
    "start_time": "2024-03-12T16:38:53.303Z"
   },
   {
    "duration": 82,
    "start_time": "2024-03-12T16:38:53.427Z"
   },
   {
    "duration": 100,
    "start_time": "2024-03-12T16:38:53.510Z"
   },
   {
    "duration": 68,
    "start_time": "2024-03-12T16:38:53.612Z"
   },
   {
    "duration": 429,
    "start_time": "2024-03-12T16:38:53.681Z"
   },
   {
    "duration": 10,
    "start_time": "2024-03-12T16:38:54.112Z"
   },
   {
    "duration": 13,
    "start_time": "2024-03-12T16:38:54.123Z"
   },
   {
    "duration": 25,
    "start_time": "2024-03-12T16:38:54.137Z"
   },
   {
    "duration": 21,
    "start_time": "2024-03-12T16:38:54.163Z"
   },
   {
    "duration": 34,
    "start_time": "2024-03-12T16:38:54.186Z"
   },
   {
    "duration": 406,
    "start_time": "2024-03-12T16:38:54.221Z"
   },
   {
    "duration": 2,
    "start_time": "2024-03-12T16:38:54.630Z"
   },
   {
    "duration": 3,
    "start_time": "2024-03-12T16:38:54.634Z"
   },
   {
    "duration": 33,
    "start_time": "2024-03-12T16:38:54.639Z"
   },
   {
    "duration": 4,
    "start_time": "2024-03-12T16:38:54.673Z"
   },
   {
    "duration": 23,
    "start_time": "2024-03-12T16:38:54.679Z"
   },
   {
    "duration": 55,
    "start_time": "2024-03-12T16:38:54.703Z"
   },
   {
    "duration": 2,
    "start_time": "2024-03-12T16:38:54.760Z"
   },
   {
    "duration": 4,
    "start_time": "2024-03-12T16:38:54.764Z"
   },
   {
    "duration": 658,
    "start_time": "2024-03-12T16:38:54.770Z"
   },
   {
    "duration": 56,
    "start_time": "2024-03-12T16:38:55.429Z"
   },
   {
    "duration": 3,
    "start_time": "2024-03-12T16:38:55.487Z"
   },
   {
    "duration": 16,
    "start_time": "2024-03-12T16:38:55.492Z"
   },
   {
    "duration": 294,
    "start_time": "2024-03-12T16:38:55.510Z"
   },
   {
    "duration": 1065,
    "start_time": "2024-03-12T16:38:55.806Z"
   },
   {
    "duration": 23096,
    "start_time": "2024-03-12T16:38:56.872Z"
   },
   {
    "duration": 48,
    "start_time": "2024-03-12T16:39:19.969Z"
   },
   {
    "duration": 108,
    "start_time": "2024-03-12T16:39:20.018Z"
   },
   {
    "duration": 405736,
    "start_time": "2024-03-12T16:39:20.127Z"
   },
   {
    "duration": 8897,
    "start_time": "2024-03-12T16:46:05.865Z"
   },
   {
    "duration": 40,
    "start_time": "2024-03-12T16:47:56.166Z"
   },
   {
    "duration": 40,
    "start_time": "2024-03-12T16:50:25.791Z"
   },
   {
    "duration": 43,
    "start_time": "2024-03-12T16:50:29.240Z"
   },
   {
    "duration": 4,
    "start_time": "2024-03-12T16:50:30.390Z"
   },
   {
    "duration": 15,
    "start_time": "2024-03-12T16:50:32.803Z"
   },
   {
    "duration": 286,
    "start_time": "2024-03-12T16:50:34.071Z"
   },
   {
    "duration": 804,
    "start_time": "2024-03-12T16:50:37.567Z"
   },
   {
    "duration": 47,
    "start_time": "2024-03-12T16:55:49.170Z"
   },
   {
    "duration": 98,
    "start_time": "2024-03-12T16:55:50.266Z"
   },
   {
    "duration": 67933,
    "start_time": "2024-03-12T16:55:51.434Z"
   },
   {
    "duration": 10745,
    "start_time": "2024-03-12T16:57:03.625Z"
   },
   {
    "duration": 36193,
    "start_time": "2024-03-12T16:57:33.579Z"
   },
   {
    "duration": 29014,
    "start_time": "2024-03-12T16:58:11.055Z"
   },
   {
    "duration": 10340,
    "start_time": "2024-03-12T16:59:56.999Z"
   },
   {
    "duration": 5,
    "start_time": "2024-03-12T17:00:07.341Z"
   },
   {
    "duration": 14,
    "start_time": "2024-03-12T17:00:07.347Z"
   },
   {
    "duration": 677,
    "start_time": "2024-03-12T17:00:07.363Z"
   },
   {
    "duration": 4,
    "start_time": "2024-03-12T17:00:08.041Z"
   },
   {
    "duration": 645,
    "start_time": "2024-03-12T17:00:08.047Z"
   },
   {
    "duration": 295,
    "start_time": "2024-03-12T17:00:08.693Z"
   },
   {
    "duration": 31,
    "start_time": "2024-03-12T17:00:08.989Z"
   },
   {
    "duration": 63,
    "start_time": "2024-03-12T17:00:09.022Z"
   },
   {
    "duration": 4,
    "start_time": "2024-03-12T17:00:09.087Z"
   },
   {
    "duration": 37,
    "start_time": "2024-03-12T17:00:09.092Z"
   },
   {
    "duration": 198,
    "start_time": "2024-03-12T17:00:09.130Z"
   },
   {
    "duration": 143,
    "start_time": "2024-03-12T17:00:09.329Z"
   },
   {
    "duration": 83,
    "start_time": "2024-03-12T17:00:09.474Z"
   },
   {
    "duration": 89,
    "start_time": "2024-03-12T17:00:09.558Z"
   },
   {
    "duration": 118,
    "start_time": "2024-03-12T17:00:09.648Z"
   },
   {
    "duration": 120,
    "start_time": "2024-03-12T17:00:09.767Z"
   },
   {
    "duration": 83,
    "start_time": "2024-03-12T17:00:09.889Z"
   },
   {
    "duration": 111,
    "start_time": "2024-03-12T17:00:09.974Z"
   },
   {
    "duration": 76,
    "start_time": "2024-03-12T17:00:10.087Z"
   },
   {
    "duration": 437,
    "start_time": "2024-03-12T17:00:10.164Z"
   },
   {
    "duration": 10,
    "start_time": "2024-03-12T17:00:10.603Z"
   },
   {
    "duration": 17,
    "start_time": "2024-03-12T17:00:10.615Z"
   },
   {
    "duration": 35,
    "start_time": "2024-03-12T17:00:10.633Z"
   },
   {
    "duration": 26,
    "start_time": "2024-03-12T17:00:10.670Z"
   },
   {
    "duration": 33,
    "start_time": "2024-03-12T17:00:10.698Z"
   },
   {
    "duration": 475,
    "start_time": "2024-03-12T17:00:10.733Z"
   },
   {
    "duration": 2,
    "start_time": "2024-03-12T17:00:11.211Z"
   },
   {
    "duration": 7,
    "start_time": "2024-03-12T17:00:11.214Z"
   },
   {
    "duration": 44,
    "start_time": "2024-03-12T17:00:11.222Z"
   },
   {
    "duration": 4,
    "start_time": "2024-03-12T17:00:11.267Z"
   },
   {
    "duration": 21,
    "start_time": "2024-03-12T17:00:11.272Z"
   },
   {
    "duration": 31,
    "start_time": "2024-03-12T17:00:11.295Z"
   },
   {
    "duration": 2,
    "start_time": "2024-03-12T17:00:11.327Z"
   },
   {
    "duration": 9,
    "start_time": "2024-03-12T17:00:11.330Z"
   },
   {
    "duration": 625,
    "start_time": "2024-03-12T17:00:11.340Z"
   },
   {
    "duration": 39,
    "start_time": "2024-03-12T17:00:11.966Z"
   },
   {
    "duration": 3,
    "start_time": "2024-03-12T17:00:12.007Z"
   },
   {
    "duration": 15,
    "start_time": "2024-03-12T17:00:12.011Z"
   },
   {
    "duration": 310,
    "start_time": "2024-03-12T17:00:12.028Z"
   },
   {
    "duration": 1131,
    "start_time": "2024-03-12T17:00:12.339Z"
   },
   {
    "duration": 22758,
    "start_time": "2024-03-12T17:00:13.472Z"
   },
   {
    "duration": 39,
    "start_time": "2024-03-12T17:00:36.231Z"
   },
   {
    "duration": 106,
    "start_time": "2024-03-12T17:00:36.272Z"
   },
   {
    "duration": 0,
    "start_time": "2024-03-12T17:05:08.772Z"
   },
   {
    "duration": 0,
    "start_time": "2024-03-12T17:05:08.772Z"
   },
   {
    "duration": 0,
    "start_time": "2024-03-12T17:05:08.773Z"
   },
   {
    "duration": 0,
    "start_time": "2024-03-12T17:05:08.774Z"
   },
   {
    "duration": 0,
    "start_time": "2024-03-12T17:05:08.774Z"
   },
   {
    "duration": 0,
    "start_time": "2024-03-12T17:05:08.775Z"
   },
   {
    "duration": 0,
    "start_time": "2024-03-12T17:05:08.776Z"
   },
   {
    "duration": 0,
    "start_time": "2024-03-12T17:05:08.777Z"
   },
   {
    "duration": 0,
    "start_time": "2024-03-12T17:05:08.777Z"
   },
   {
    "duration": 0,
    "start_time": "2024-03-12T17:05:08.778Z"
   },
   {
    "duration": 0,
    "start_time": "2024-03-12T17:05:08.779Z"
   },
   {
    "duration": 0,
    "start_time": "2024-03-12T17:05:08.779Z"
   },
   {
    "duration": 0,
    "start_time": "2024-03-12T17:05:08.780Z"
   },
   {
    "duration": 0,
    "start_time": "2024-03-12T17:05:08.780Z"
   },
   {
    "duration": 0,
    "start_time": "2024-03-12T17:05:08.781Z"
   },
   {
    "duration": 0,
    "start_time": "2024-03-12T17:05:08.782Z"
   },
   {
    "duration": 0,
    "start_time": "2024-03-12T17:05:08.783Z"
   },
   {
    "duration": 0,
    "start_time": "2024-03-12T17:05:08.784Z"
   },
   {
    "duration": 0,
    "start_time": "2024-03-12T17:05:08.784Z"
   },
   {
    "duration": 0,
    "start_time": "2024-03-12T17:05:08.785Z"
   },
   {
    "duration": 0,
    "start_time": "2024-03-12T17:05:08.786Z"
   },
   {
    "duration": 0,
    "start_time": "2024-03-12T17:05:08.787Z"
   },
   {
    "duration": 0,
    "start_time": "2024-03-12T17:05:08.787Z"
   },
   {
    "duration": 0,
    "start_time": "2024-03-12T17:05:08.788Z"
   },
   {
    "duration": 0,
    "start_time": "2024-03-12T17:05:08.789Z"
   },
   {
    "duration": 0,
    "start_time": "2024-03-12T17:05:08.790Z"
   },
   {
    "duration": 0,
    "start_time": "2024-03-12T17:05:08.791Z"
   },
   {
    "duration": 0,
    "start_time": "2024-03-12T17:05:08.792Z"
   },
   {
    "duration": 0,
    "start_time": "2024-03-12T17:05:08.792Z"
   },
   {
    "duration": 0,
    "start_time": "2024-03-12T17:05:08.793Z"
   },
   {
    "duration": 0,
    "start_time": "2024-03-12T17:05:08.794Z"
   },
   {
    "duration": 0,
    "start_time": "2024-03-12T17:05:08.794Z"
   },
   {
    "duration": 10498,
    "start_time": "2024-03-12T17:05:08.873Z"
   },
   {
    "duration": 4,
    "start_time": "2024-03-12T17:05:19.372Z"
   },
   {
    "duration": 14,
    "start_time": "2024-03-12T17:05:19.378Z"
   },
   {
    "duration": 686,
    "start_time": "2024-03-12T17:05:19.393Z"
   },
   {
    "duration": 5,
    "start_time": "2024-03-12T17:05:20.080Z"
   },
   {
    "duration": 677,
    "start_time": "2024-03-12T17:05:20.087Z"
   },
   {
    "duration": 327,
    "start_time": "2024-03-12T17:05:20.765Z"
   },
   {
    "duration": 27,
    "start_time": "2024-03-12T17:05:21.095Z"
   },
   {
    "duration": 54,
    "start_time": "2024-03-12T17:05:21.124Z"
   },
   {
    "duration": 4,
    "start_time": "2024-03-12T17:05:21.180Z"
   },
   {
    "duration": 28,
    "start_time": "2024-03-12T17:05:21.185Z"
   },
   {
    "duration": 134,
    "start_time": "2024-03-12T17:05:21.214Z"
   },
   {
    "duration": 147,
    "start_time": "2024-03-12T17:05:21.349Z"
   },
   {
    "duration": 86,
    "start_time": "2024-03-12T17:05:21.498Z"
   },
   {
    "duration": 90,
    "start_time": "2024-03-12T17:05:21.586Z"
   },
   {
    "duration": 113,
    "start_time": "2024-03-12T17:05:21.677Z"
   },
   {
    "duration": 131,
    "start_time": "2024-03-12T17:05:21.791Z"
   },
   {
    "duration": 82,
    "start_time": "2024-03-12T17:05:21.924Z"
   },
   {
    "duration": 96,
    "start_time": "2024-03-12T17:05:22.007Z"
   },
   {
    "duration": 67,
    "start_time": "2024-03-12T17:05:22.104Z"
   },
   {
    "duration": 475,
    "start_time": "2024-03-12T17:05:22.172Z"
   },
   {
    "duration": 13,
    "start_time": "2024-03-12T17:05:22.648Z"
   },
   {
    "duration": 7,
    "start_time": "2024-03-12T17:05:22.662Z"
   },
   {
    "duration": 29,
    "start_time": "2024-03-12T17:05:22.670Z"
   },
   {
    "duration": 28,
    "start_time": "2024-03-12T17:05:22.700Z"
   },
   {
    "duration": 53,
    "start_time": "2024-03-12T17:05:22.729Z"
   },
   {
    "duration": 431,
    "start_time": "2024-03-12T17:05:22.783Z"
   },
   {
    "duration": 2,
    "start_time": "2024-03-12T17:05:23.217Z"
   },
   {
    "duration": 4,
    "start_time": "2024-03-12T17:05:23.220Z"
   },
   {
    "duration": 32,
    "start_time": "2024-03-12T17:05:23.225Z"
   },
   {
    "duration": 4,
    "start_time": "2024-03-12T17:05:23.258Z"
   },
   {
    "duration": 18,
    "start_time": "2024-03-12T17:05:23.263Z"
   },
   {
    "duration": 32,
    "start_time": "2024-03-12T17:05:23.282Z"
   },
   {
    "duration": 2,
    "start_time": "2024-03-12T17:05:23.315Z"
   },
   {
    "duration": 9,
    "start_time": "2024-03-12T17:05:23.319Z"
   },
   {
    "duration": 711,
    "start_time": "2024-03-12T17:05:23.329Z"
   },
   {
    "duration": 47,
    "start_time": "2024-03-12T17:05:24.042Z"
   },
   {
    "duration": 3,
    "start_time": "2024-03-12T17:05:24.090Z"
   },
   {
    "duration": 17,
    "start_time": "2024-03-12T17:05:24.094Z"
   },
   {
    "duration": 294,
    "start_time": "2024-03-12T17:05:24.113Z"
   },
   {
    "duration": 1060,
    "start_time": "2024-03-12T17:05:24.409Z"
   },
   {
    "duration": 23157,
    "start_time": "2024-03-12T17:05:25.471Z"
   },
   {
    "duration": 45,
    "start_time": "2024-03-12T17:05:48.629Z"
   },
   {
    "duration": 102,
    "start_time": "2024-03-12T17:05:48.675Z"
   },
   {
    "duration": 456291,
    "start_time": "2024-03-12T17:05:48.778Z"
   },
   {
    "duration": 49795,
    "start_time": "2024-03-12T17:13:25.071Z"
   },
   {
    "duration": 51,
    "start_time": "2024-03-12T17:29:10.778Z"
   },
   {
    "duration": 9775,
    "start_time": "2024-03-12T17:30:38.670Z"
   },
   {
    "duration": 5,
    "start_time": "2024-03-12T17:30:48.447Z"
   },
   {
    "duration": 14,
    "start_time": "2024-03-12T17:30:48.453Z"
   },
   {
    "duration": 671,
    "start_time": "2024-03-12T17:30:48.468Z"
   },
   {
    "duration": 4,
    "start_time": "2024-03-12T17:30:49.140Z"
   },
   {
    "duration": 640,
    "start_time": "2024-03-12T17:30:49.145Z"
   },
   {
    "duration": 305,
    "start_time": "2024-03-12T17:30:49.787Z"
   },
   {
    "duration": 29,
    "start_time": "2024-03-12T17:30:50.094Z"
   },
   {
    "duration": 57,
    "start_time": "2024-03-12T17:30:50.124Z"
   },
   {
    "duration": 6,
    "start_time": "2024-03-12T17:30:50.183Z"
   },
   {
    "duration": 43,
    "start_time": "2024-03-12T17:30:50.190Z"
   },
   {
    "duration": 124,
    "start_time": "2024-03-12T17:30:50.235Z"
   },
   {
    "duration": 138,
    "start_time": "2024-03-12T17:30:50.361Z"
   },
   {
    "duration": 84,
    "start_time": "2024-03-12T17:30:50.500Z"
   },
   {
    "duration": 98,
    "start_time": "2024-03-12T17:30:50.585Z"
   },
   {
    "duration": 119,
    "start_time": "2024-03-12T17:30:50.685Z"
   },
   {
    "duration": 166,
    "start_time": "2024-03-12T17:30:50.806Z"
   },
   {
    "duration": 79,
    "start_time": "2024-03-12T17:30:50.973Z"
   },
   {
    "duration": 93,
    "start_time": "2024-03-12T17:30:51.057Z"
   },
   {
    "duration": 64,
    "start_time": "2024-03-12T17:30:51.157Z"
   },
   {
    "duration": 480,
    "start_time": "2024-03-12T17:30:51.222Z"
   },
   {
    "duration": 11,
    "start_time": "2024-03-12T17:30:51.704Z"
   },
   {
    "duration": 8,
    "start_time": "2024-03-12T17:30:51.716Z"
   },
   {
    "duration": 46,
    "start_time": "2024-03-12T17:30:51.725Z"
   },
   {
    "duration": 27,
    "start_time": "2024-03-12T17:30:51.773Z"
   },
   {
    "duration": 34,
    "start_time": "2024-03-12T17:30:51.802Z"
   },
   {
    "duration": 440,
    "start_time": "2024-03-12T17:30:51.838Z"
   },
   {
    "duration": 2,
    "start_time": "2024-03-12T17:30:52.281Z"
   },
   {
    "duration": 6,
    "start_time": "2024-03-12T17:30:52.284Z"
   },
   {
    "duration": 24,
    "start_time": "2024-03-12T17:30:52.291Z"
   },
   {
    "duration": 4,
    "start_time": "2024-03-12T17:30:52.316Z"
   },
   {
    "duration": 36,
    "start_time": "2024-03-12T17:30:52.321Z"
   },
   {
    "duration": 30,
    "start_time": "2024-03-12T17:30:52.359Z"
   },
   {
    "duration": 2,
    "start_time": "2024-03-12T17:30:52.390Z"
   },
   {
    "duration": 4,
    "start_time": "2024-03-12T17:30:52.394Z"
   },
   {
    "duration": 716,
    "start_time": "2024-03-12T17:30:52.400Z"
   },
   {
    "duration": 44,
    "start_time": "2024-03-12T17:30:53.117Z"
   },
   {
    "duration": 2,
    "start_time": "2024-03-12T17:30:53.163Z"
   },
   {
    "duration": 14,
    "start_time": "2024-03-12T17:30:53.167Z"
   },
   {
    "duration": 291,
    "start_time": "2024-03-12T17:30:53.182Z"
   },
   {
    "duration": 184,
    "start_time": "2024-03-12T17:30:53.474Z"
   },
   {
    "duration": 0,
    "start_time": "2024-03-12T17:30:53.659Z"
   },
   {
    "duration": 833,
    "start_time": "2024-03-12T17:31:44.549Z"
   },
   {
    "duration": 14,
    "start_time": "2024-03-12T17:32:29.119Z"
   },
   {
    "duration": 120,
    "start_time": "2024-03-12T17:32:29.819Z"
   },
   {
    "duration": 866,
    "start_time": "2024-03-12T17:32:31.301Z"
   },
   {
    "duration": 9634,
    "start_time": "2024-03-12T17:34:36.897Z"
   },
   {
    "duration": 6,
    "start_time": "2024-03-12T17:34:46.533Z"
   },
   {
    "duration": 34,
    "start_time": "2024-03-12T17:34:46.541Z"
   },
   {
    "duration": 712,
    "start_time": "2024-03-12T17:34:46.577Z"
   },
   {
    "duration": 6,
    "start_time": "2024-03-12T17:34:47.290Z"
   },
   {
    "duration": 668,
    "start_time": "2024-03-12T17:34:47.298Z"
   },
   {
    "duration": 326,
    "start_time": "2024-03-12T17:34:47.967Z"
   },
   {
    "duration": 28,
    "start_time": "2024-03-12T17:34:48.294Z"
   },
   {
    "duration": 54,
    "start_time": "2024-03-12T17:34:48.324Z"
   },
   {
    "duration": 5,
    "start_time": "2024-03-12T17:34:48.380Z"
   },
   {
    "duration": 36,
    "start_time": "2024-03-12T17:34:48.386Z"
   },
   {
    "duration": 125,
    "start_time": "2024-03-12T17:34:48.423Z"
   },
   {
    "duration": 144,
    "start_time": "2024-03-12T17:34:48.550Z"
   },
   {
    "duration": 82,
    "start_time": "2024-03-12T17:34:48.695Z"
   },
   {
    "duration": 99,
    "start_time": "2024-03-12T17:34:48.779Z"
   },
   {
    "duration": 118,
    "start_time": "2024-03-12T17:34:48.880Z"
   },
   {
    "duration": 126,
    "start_time": "2024-03-12T17:34:49.000Z"
   },
   {
    "duration": 84,
    "start_time": "2024-03-12T17:34:49.128Z"
   },
   {
    "duration": 109,
    "start_time": "2024-03-12T17:34:49.214Z"
   },
   {
    "duration": 67,
    "start_time": "2024-03-12T17:34:49.325Z"
   },
   {
    "duration": 470,
    "start_time": "2024-03-12T17:34:49.393Z"
   },
   {
    "duration": 11,
    "start_time": "2024-03-12T17:34:49.865Z"
   },
   {
    "duration": 10,
    "start_time": "2024-03-12T17:34:49.878Z"
   },
   {
    "duration": 29,
    "start_time": "2024-03-12T17:34:49.889Z"
   },
   {
    "duration": 50,
    "start_time": "2024-03-12T17:34:49.919Z"
   },
   {
    "duration": 38,
    "start_time": "2024-03-12T17:34:49.971Z"
   },
   {
    "duration": 453,
    "start_time": "2024-03-12T17:34:50.010Z"
   },
   {
    "duration": 2,
    "start_time": "2024-03-12T17:34:50.466Z"
   },
   {
    "duration": 6,
    "start_time": "2024-03-12T17:34:50.470Z"
   },
   {
    "duration": 26,
    "start_time": "2024-03-12T17:34:50.478Z"
   },
   {
    "duration": 5,
    "start_time": "2024-03-12T17:34:50.505Z"
   },
   {
    "duration": 19,
    "start_time": "2024-03-12T17:34:50.512Z"
   },
   {
    "duration": 47,
    "start_time": "2024-03-12T17:34:50.532Z"
   },
   {
    "duration": 2,
    "start_time": "2024-03-12T17:34:50.581Z"
   },
   {
    "duration": 37,
    "start_time": "2024-03-12T17:34:50.584Z"
   },
   {
    "duration": 772,
    "start_time": "2024-03-12T17:34:50.622Z"
   },
   {
    "duration": 47,
    "start_time": "2024-03-12T17:34:51.395Z"
   },
   {
    "duration": 3,
    "start_time": "2024-03-12T17:34:51.443Z"
   },
   {
    "duration": 15,
    "start_time": "2024-03-12T17:34:51.457Z"
   },
   {
    "duration": 299,
    "start_time": "2024-03-12T17:34:51.474Z"
   },
   {
    "duration": 186,
    "start_time": "2024-03-12T17:34:51.774Z"
   },
   {
    "duration": 21712,
    "start_time": "2024-03-12T17:34:51.962Z"
   },
   {
    "duration": 38,
    "start_time": "2024-03-12T17:42:44.469Z"
   },
   {
    "duration": 9770,
    "start_time": "2024-03-12T17:50:02.364Z"
   },
   {
    "duration": 4,
    "start_time": "2024-03-12T17:50:12.136Z"
   },
   {
    "duration": 22,
    "start_time": "2024-03-12T17:50:12.141Z"
   },
   {
    "duration": 684,
    "start_time": "2024-03-12T17:50:12.164Z"
   },
   {
    "duration": 4,
    "start_time": "2024-03-12T17:50:12.849Z"
   },
   {
    "duration": 629,
    "start_time": "2024-03-12T17:50:12.857Z"
   },
   {
    "duration": 301,
    "start_time": "2024-03-12T17:50:13.487Z"
   },
   {
    "duration": 27,
    "start_time": "2024-03-12T17:50:13.789Z"
   },
   {
    "duration": 54,
    "start_time": "2024-03-12T17:50:13.817Z"
   },
   {
    "duration": 4,
    "start_time": "2024-03-12T17:50:13.873Z"
   },
   {
    "duration": 30,
    "start_time": "2024-03-12T17:50:13.878Z"
   },
   {
    "duration": 134,
    "start_time": "2024-03-12T17:50:13.909Z"
   },
   {
    "duration": 141,
    "start_time": "2024-03-12T17:50:14.044Z"
   },
   {
    "duration": 84,
    "start_time": "2024-03-12T17:50:14.186Z"
   },
   {
    "duration": 102,
    "start_time": "2024-03-12T17:50:14.271Z"
   },
   {
    "duration": 122,
    "start_time": "2024-03-12T17:50:14.375Z"
   },
   {
    "duration": 128,
    "start_time": "2024-03-12T17:50:14.499Z"
   },
   {
    "duration": 86,
    "start_time": "2024-03-12T17:50:14.629Z"
   },
   {
    "duration": 111,
    "start_time": "2024-03-12T17:50:14.716Z"
   },
   {
    "duration": 72,
    "start_time": "2024-03-12T17:50:14.829Z"
   },
   {
    "duration": 421,
    "start_time": "2024-03-12T17:50:14.902Z"
   },
   {
    "duration": 11,
    "start_time": "2024-03-12T17:50:15.325Z"
   },
   {
    "duration": 38,
    "start_time": "2024-03-12T17:50:15.337Z"
   },
   {
    "duration": 26,
    "start_time": "2024-03-12T17:50:15.376Z"
   },
   {
    "duration": 28,
    "start_time": "2024-03-12T17:50:15.403Z"
   },
   {
    "duration": 36,
    "start_time": "2024-03-12T17:50:15.432Z"
   },
   {
    "duration": 435,
    "start_time": "2024-03-12T17:50:15.470Z"
   },
   {
    "duration": 2,
    "start_time": "2024-03-12T17:50:15.908Z"
   },
   {
    "duration": 34,
    "start_time": "2024-03-12T17:50:15.911Z"
   },
   {
    "duration": 72,
    "start_time": "2024-03-12T17:50:15.947Z"
   },
   {
    "duration": 12,
    "start_time": "2024-03-12T17:50:16.020Z"
   },
   {
    "duration": 46,
    "start_time": "2024-03-12T17:50:16.033Z"
   },
   {
    "duration": 31,
    "start_time": "2024-03-12T17:50:16.081Z"
   },
   {
    "duration": 2,
    "start_time": "2024-03-12T17:50:16.114Z"
   },
   {
    "duration": 34,
    "start_time": "2024-03-12T17:50:16.117Z"
   },
   {
    "duration": 732,
    "start_time": "2024-03-12T17:50:16.153Z"
   },
   {
    "duration": 72,
    "start_time": "2024-03-12T17:50:16.886Z"
   },
   {
    "duration": 3,
    "start_time": "2024-03-12T17:50:16.959Z"
   },
   {
    "duration": 25,
    "start_time": "2024-03-12T17:50:16.963Z"
   },
   {
    "duration": 275,
    "start_time": "2024-03-12T17:50:16.989Z"
   },
   {
    "duration": 196,
    "start_time": "2024-03-12T17:50:17.265Z"
   },
   {
    "duration": 18373,
    "start_time": "2024-03-12T17:55:16.698Z"
   },
   {
    "duration": 59,
    "start_time": "2024-03-12T17:58:36.426Z"
   },
   {
    "duration": 106,
    "start_time": "2024-03-12T17:58:37.933Z"
   },
   {
    "duration": 375638,
    "start_time": "2024-03-12T17:58:41.718Z"
   },
   {
    "duration": 8451,
    "start_time": "2024-03-12T18:05:24.520Z"
   },
   {
    "duration": 8038,
    "start_time": "2024-03-12T18:05:45.221Z"
   },
   {
    "duration": 9750,
    "start_time": "2024-03-12T18:23:13.017Z"
   },
   {
    "duration": 1138,
    "start_time": "2024-03-12T18:23:22.769Z"
   },
   {
    "duration": 14,
    "start_time": "2024-03-12T18:23:23.909Z"
   },
   {
    "duration": 716,
    "start_time": "2024-03-12T18:23:23.924Z"
   },
   {
    "duration": 5,
    "start_time": "2024-03-12T18:23:24.642Z"
   },
   {
    "duration": 701,
    "start_time": "2024-03-12T18:23:24.657Z"
   },
   {
    "duration": 360,
    "start_time": "2024-03-12T18:23:25.359Z"
   },
   {
    "duration": 42,
    "start_time": "2024-03-12T18:23:25.720Z"
   },
   {
    "duration": 44,
    "start_time": "2024-03-12T18:23:25.763Z"
   },
   {
    "duration": 4,
    "start_time": "2024-03-12T18:23:25.810Z"
   },
   {
    "duration": 39,
    "start_time": "2024-03-12T18:23:25.815Z"
   },
   {
    "duration": 158,
    "start_time": "2024-03-12T18:23:25.857Z"
   },
   {
    "duration": 136,
    "start_time": "2024-03-12T18:23:26.016Z"
   },
   {
    "duration": 79,
    "start_time": "2024-03-12T18:23:26.153Z"
   },
   {
    "duration": 158,
    "start_time": "2024-03-12T18:23:26.233Z"
   },
   {
    "duration": 115,
    "start_time": "2024-03-12T18:23:26.392Z"
   },
   {
    "duration": 128,
    "start_time": "2024-03-12T18:23:26.508Z"
   },
   {
    "duration": 77,
    "start_time": "2024-03-12T18:23:26.638Z"
   },
   {
    "duration": 105,
    "start_time": "2024-03-12T18:23:26.717Z"
   },
   {
    "duration": 67,
    "start_time": "2024-03-12T18:23:26.823Z"
   },
   {
    "duration": 490,
    "start_time": "2024-03-12T18:23:26.891Z"
   },
   {
    "duration": 17,
    "start_time": "2024-03-12T18:23:27.383Z"
   },
   {
    "duration": 14,
    "start_time": "2024-03-12T18:23:27.401Z"
   },
   {
    "duration": 29,
    "start_time": "2024-03-12T18:23:27.417Z"
   },
   {
    "duration": 29,
    "start_time": "2024-03-12T18:23:27.458Z"
   },
   {
    "duration": 37,
    "start_time": "2024-03-12T18:23:27.488Z"
   },
   {
    "duration": 433,
    "start_time": "2024-03-12T18:23:27.526Z"
   },
   {
    "duration": 3,
    "start_time": "2024-03-12T18:23:27.961Z"
   },
   {
    "duration": 4,
    "start_time": "2024-03-12T18:23:27.965Z"
   },
   {
    "duration": 23,
    "start_time": "2024-03-12T18:23:27.970Z"
   },
   {
    "duration": 4,
    "start_time": "2024-03-12T18:23:27.994Z"
   },
   {
    "duration": 18,
    "start_time": "2024-03-12T18:23:27.999Z"
   },
   {
    "duration": 56,
    "start_time": "2024-03-12T18:23:28.018Z"
   },
   {
    "duration": 2,
    "start_time": "2024-03-12T18:23:28.075Z"
   },
   {
    "duration": 16,
    "start_time": "2024-03-12T18:23:28.078Z"
   },
   {
    "duration": 638,
    "start_time": "2024-03-12T18:23:28.095Z"
   },
   {
    "duration": 65,
    "start_time": "2024-03-12T18:23:28.735Z"
   },
   {
    "duration": 3,
    "start_time": "2024-03-12T18:23:28.801Z"
   },
   {
    "duration": 40,
    "start_time": "2024-03-12T18:23:28.805Z"
   },
   {
    "duration": 278,
    "start_time": "2024-03-12T18:23:28.847Z"
   },
   {
    "duration": 134,
    "start_time": "2024-03-12T18:23:29.126Z"
   },
   {
    "duration": 18469,
    "start_time": "2024-03-12T18:23:29.261Z"
   },
   {
    "duration": 67,
    "start_time": "2024-03-12T18:23:47.732Z"
   },
   {
    "duration": 109,
    "start_time": "2024-03-12T18:23:47.800Z"
   },
   {
    "duration": 331252,
    "start_time": "2024-03-12T18:23:47.910Z"
   },
   {
    "duration": 0,
    "start_time": "2024-03-12T18:29:19.166Z"
   },
   {
    "duration": 0,
    "start_time": "2024-03-12T18:29:19.167Z"
   },
   {
    "duration": 0,
    "start_time": "2024-03-12T18:29:19.168Z"
   },
   {
    "duration": 0,
    "start_time": "2024-03-12T18:29:19.169Z"
   },
   {
    "duration": 0,
    "start_time": "2024-03-12T18:29:19.170Z"
   },
   {
    "duration": 0,
    "start_time": "2024-03-12T18:29:19.171Z"
   },
   {
    "duration": 0,
    "start_time": "2024-03-12T18:29:19.172Z"
   },
   {
    "duration": 0,
    "start_time": "2024-03-12T18:29:19.173Z"
   },
   {
    "duration": 0,
    "start_time": "2024-03-12T18:29:19.175Z"
   },
   {
    "duration": 0,
    "start_time": "2024-03-12T18:29:19.176Z"
   },
   {
    "duration": 0,
    "start_time": "2024-03-12T18:29:19.177Z"
   },
   {
    "duration": 0,
    "start_time": "2024-03-12T18:29:19.178Z"
   },
   {
    "duration": 0,
    "start_time": "2024-03-12T18:29:19.179Z"
   },
   {
    "duration": 0,
    "start_time": "2024-03-12T18:29:19.180Z"
   },
   {
    "duration": 0,
    "start_time": "2024-03-12T18:29:19.181Z"
   },
   {
    "duration": 0,
    "start_time": "2024-03-12T18:29:19.182Z"
   },
   {
    "duration": 0,
    "start_time": "2024-03-12T18:29:19.182Z"
   },
   {
    "duration": 0,
    "start_time": "2024-03-12T18:29:19.183Z"
   },
   {
    "duration": 0,
    "start_time": "2024-03-12T18:29:19.184Z"
   },
   {
    "duration": 0,
    "start_time": "2024-03-12T18:29:19.184Z"
   },
   {
    "duration": 0,
    "start_time": "2024-03-12T18:29:19.186Z"
   },
   {
    "duration": 0,
    "start_time": "2024-03-12T18:29:19.187Z"
   },
   {
    "duration": 0,
    "start_time": "2024-03-12T18:29:19.187Z"
   },
   {
    "duration": 0,
    "start_time": "2024-03-12T18:29:19.188Z"
   },
   {
    "duration": 0,
    "start_time": "2024-03-12T18:29:19.189Z"
   },
   {
    "duration": 0,
    "start_time": "2024-03-12T18:29:19.190Z"
   },
   {
    "duration": 0,
    "start_time": "2024-03-12T18:29:19.190Z"
   },
   {
    "duration": 0,
    "start_time": "2024-03-12T18:29:19.191Z"
   },
   {
    "duration": 0,
    "start_time": "2024-03-12T18:29:19.192Z"
   },
   {
    "duration": 0,
    "start_time": "2024-03-12T18:29:19.193Z"
   },
   {
    "duration": 0,
    "start_time": "2024-03-12T18:29:19.193Z"
   },
   {
    "duration": 0,
    "start_time": "2024-03-12T18:29:19.195Z"
   },
   {
    "duration": 0,
    "start_time": "2024-03-12T18:29:19.196Z"
   },
   {
    "duration": 0,
    "start_time": "2024-03-12T18:29:19.196Z"
   },
   {
    "duration": 0,
    "start_time": "2024-03-12T18:29:19.197Z"
   },
   {
    "duration": 0,
    "start_time": "2024-03-12T18:29:19.198Z"
   },
   {
    "duration": 0,
    "start_time": "2024-03-12T18:29:19.199Z"
   },
   {
    "duration": 0,
    "start_time": "2024-03-12T18:29:19.199Z"
   },
   {
    "duration": 0,
    "start_time": "2024-03-12T18:29:19.200Z"
   },
   {
    "duration": 0,
    "start_time": "2024-03-12T18:29:19.201Z"
   },
   {
    "duration": 0,
    "start_time": "2024-03-12T18:29:19.202Z"
   },
   {
    "duration": 0,
    "start_time": "2024-03-12T18:29:19.257Z"
   },
   {
    "duration": 0,
    "start_time": "2024-03-12T18:29:19.258Z"
   },
   {
    "duration": 9842,
    "start_time": "2024-03-12T18:29:20.459Z"
   },
   {
    "duration": 6,
    "start_time": "2024-03-12T18:29:30.303Z"
   },
   {
    "duration": 95,
    "start_time": "2024-03-12T18:29:30.310Z"
   },
   {
    "duration": 886,
    "start_time": "2024-03-12T18:29:30.407Z"
   },
   {
    "duration": 5,
    "start_time": "2024-03-12T18:29:31.295Z"
   },
   {
    "duration": 684,
    "start_time": "2024-03-12T18:29:31.301Z"
   },
   {
    "duration": 325,
    "start_time": "2024-03-12T18:29:31.986Z"
   },
   {
    "duration": 33,
    "start_time": "2024-03-12T18:29:32.313Z"
   },
   {
    "duration": 55,
    "start_time": "2024-03-12T18:29:32.347Z"
   },
   {
    "duration": 4,
    "start_time": "2024-03-12T18:29:32.404Z"
   },
   {
    "duration": 32,
    "start_time": "2024-03-12T18:29:32.410Z"
   },
   {
    "duration": 133,
    "start_time": "2024-03-12T18:29:32.443Z"
   },
   {
    "duration": 149,
    "start_time": "2024-03-12T18:29:32.577Z"
   },
   {
    "duration": 161,
    "start_time": "2024-03-12T18:29:32.727Z"
   },
   {
    "duration": 98,
    "start_time": "2024-03-12T18:29:32.890Z"
   },
   {
    "duration": 120,
    "start_time": "2024-03-12T18:29:32.989Z"
   },
   {
    "duration": 128,
    "start_time": "2024-03-12T18:29:33.110Z"
   },
   {
    "duration": 82,
    "start_time": "2024-03-12T18:29:33.239Z"
   },
   {
    "duration": 98,
    "start_time": "2024-03-12T18:29:33.322Z"
   },
   {
    "duration": 67,
    "start_time": "2024-03-12T18:29:33.422Z"
   },
   {
    "duration": 469,
    "start_time": "2024-03-12T18:29:33.490Z"
   },
   {
    "duration": 11,
    "start_time": "2024-03-12T18:29:33.960Z"
   },
   {
    "duration": 7,
    "start_time": "2024-03-12T18:29:33.972Z"
   },
   {
    "duration": 29,
    "start_time": "2024-03-12T18:29:33.980Z"
   },
   {
    "duration": 50,
    "start_time": "2024-03-12T18:29:34.010Z"
   },
   {
    "duration": 36,
    "start_time": "2024-03-12T18:29:34.061Z"
   },
   {
    "duration": 436,
    "start_time": "2024-03-12T18:29:34.099Z"
   },
   {
    "duration": 2,
    "start_time": "2024-03-12T18:29:34.538Z"
   },
   {
    "duration": 13,
    "start_time": "2024-03-12T18:29:34.541Z"
   },
   {
    "duration": 25,
    "start_time": "2024-03-12T18:29:34.556Z"
   },
   {
    "duration": 4,
    "start_time": "2024-03-12T18:29:34.582Z"
   },
   {
    "duration": 18,
    "start_time": "2024-03-12T18:29:34.587Z"
   },
   {
    "duration": 30,
    "start_time": "2024-03-12T18:29:34.606Z"
   },
   {
    "duration": 20,
    "start_time": "2024-03-12T18:29:34.637Z"
   },
   {
    "duration": 11,
    "start_time": "2024-03-12T18:29:34.658Z"
   },
   {
    "duration": 644,
    "start_time": "2024-03-12T18:29:34.670Z"
   },
   {
    "duration": 67,
    "start_time": "2024-03-12T18:29:35.316Z"
   },
   {
    "duration": 3,
    "start_time": "2024-03-12T18:29:35.385Z"
   },
   {
    "duration": 25,
    "start_time": "2024-03-12T18:29:35.389Z"
   },
   {
    "duration": 284,
    "start_time": "2024-03-12T18:29:35.415Z"
   },
   {
    "duration": 165,
    "start_time": "2024-03-12T18:29:35.701Z"
   },
   {
    "duration": 0,
    "start_time": "2024-03-12T18:29:35.958Z"
   },
   {
    "duration": 0,
    "start_time": "2024-03-12T18:29:35.959Z"
   },
   {
    "duration": 0,
    "start_time": "2024-03-12T18:29:35.960Z"
   },
   {
    "duration": 0,
    "start_time": "2024-03-12T18:29:35.961Z"
   },
   {
    "duration": 0,
    "start_time": "2024-03-12T18:29:35.962Z"
   },
   {
    "duration": 0,
    "start_time": "2024-03-12T18:29:35.963Z"
   },
   {
    "duration": 152,
    "start_time": "2024-03-12T18:30:30.104Z"
   },
   {
    "duration": 9912,
    "start_time": "2024-03-12T18:30:37.493Z"
   },
   {
    "duration": 5,
    "start_time": "2024-03-12T18:30:47.407Z"
   },
   {
    "duration": 14,
    "start_time": "2024-03-12T18:30:47.413Z"
   },
   {
    "duration": 668,
    "start_time": "2024-03-12T18:30:47.429Z"
   },
   {
    "duration": 5,
    "start_time": "2024-03-12T18:30:48.099Z"
   },
   {
    "duration": 663,
    "start_time": "2024-03-12T18:30:48.105Z"
   },
   {
    "duration": 295,
    "start_time": "2024-03-12T18:30:48.769Z"
   },
   {
    "duration": 26,
    "start_time": "2024-03-12T18:30:49.066Z"
   },
   {
    "duration": 46,
    "start_time": "2024-03-12T18:30:49.093Z"
   },
   {
    "duration": 18,
    "start_time": "2024-03-12T18:30:49.141Z"
   },
   {
    "duration": 30,
    "start_time": "2024-03-12T18:30:49.160Z"
   },
   {
    "duration": 128,
    "start_time": "2024-03-12T18:30:49.191Z"
   },
   {
    "duration": 141,
    "start_time": "2024-03-12T18:30:49.320Z"
   },
   {
    "duration": 159,
    "start_time": "2024-03-12T18:30:49.463Z"
   },
   {
    "duration": 100,
    "start_time": "2024-03-12T18:30:49.624Z"
   },
   {
    "duration": 110,
    "start_time": "2024-03-12T18:30:49.725Z"
   },
   {
    "duration": 130,
    "start_time": "2024-03-12T18:30:49.836Z"
   },
   {
    "duration": 90,
    "start_time": "2024-03-12T18:30:49.967Z"
   },
   {
    "duration": 101,
    "start_time": "2024-03-12T18:30:50.058Z"
   },
   {
    "duration": 62,
    "start_time": "2024-03-12T18:30:50.160Z"
   },
   {
    "duration": 465,
    "start_time": "2024-03-12T18:30:50.223Z"
   },
   {
    "duration": 11,
    "start_time": "2024-03-12T18:30:50.689Z"
   },
   {
    "duration": 17,
    "start_time": "2024-03-12T18:30:50.701Z"
   },
   {
    "duration": 37,
    "start_time": "2024-03-12T18:30:50.719Z"
   },
   {
    "duration": 28,
    "start_time": "2024-03-12T18:30:50.757Z"
   },
   {
    "duration": 35,
    "start_time": "2024-03-12T18:30:50.786Z"
   },
   {
    "duration": 476,
    "start_time": "2024-03-12T18:30:50.823Z"
   },
   {
    "duration": 2,
    "start_time": "2024-03-12T18:30:51.301Z"
   },
   {
    "duration": 8,
    "start_time": "2024-03-12T18:30:51.305Z"
   },
   {
    "duration": 25,
    "start_time": "2024-03-12T18:30:51.314Z"
   },
   {
    "duration": 18,
    "start_time": "2024-03-12T18:30:51.340Z"
   },
   {
    "duration": 26,
    "start_time": "2024-03-12T18:30:51.359Z"
   },
   {
    "duration": 32,
    "start_time": "2024-03-12T18:30:51.387Z"
   },
   {
    "duration": 2,
    "start_time": "2024-03-12T18:30:51.420Z"
   },
   {
    "duration": 10,
    "start_time": "2024-03-12T18:30:51.423Z"
   },
   {
    "duration": 650,
    "start_time": "2024-03-12T18:30:51.434Z"
   },
   {
    "duration": 74,
    "start_time": "2024-03-12T18:30:52.085Z"
   },
   {
    "duration": 3,
    "start_time": "2024-03-12T18:30:52.160Z"
   },
   {
    "duration": 27,
    "start_time": "2024-03-12T18:30:52.164Z"
   },
   {
    "duration": 284,
    "start_time": "2024-03-12T18:30:52.192Z"
   },
   {
    "duration": 188,
    "start_time": "2024-03-12T18:30:52.477Z"
   },
   {
    "duration": 28,
    "start_time": "2024-03-12T18:31:44.553Z"
   },
   {
    "duration": 109,
    "start_time": "2024-03-12T18:31:56.749Z"
   },
   {
    "duration": 28,
    "start_time": "2024-03-12T18:32:13.429Z"
   },
   {
    "duration": 28,
    "start_time": "2024-03-12T18:32:36.453Z"
   },
   {
    "duration": 18405,
    "start_time": "2024-03-12T18:33:42.684Z"
   },
   {
    "duration": 18657,
    "start_time": "2024-03-12T18:35:41.573Z"
   },
   {
    "duration": 9852,
    "start_time": "2024-03-12T18:37:44.719Z"
   },
   {
    "duration": 4,
    "start_time": "2024-03-12T18:37:54.573Z"
   },
   {
    "duration": 23,
    "start_time": "2024-03-12T18:37:54.579Z"
   },
   {
    "duration": 702,
    "start_time": "2024-03-12T18:37:54.604Z"
   },
   {
    "duration": 4,
    "start_time": "2024-03-12T18:37:55.307Z"
   },
   {
    "duration": 668,
    "start_time": "2024-03-12T18:37:55.312Z"
   },
   {
    "duration": 312,
    "start_time": "2024-03-12T18:37:55.982Z"
   },
   {
    "duration": 28,
    "start_time": "2024-03-12T18:37:56.295Z"
   },
   {
    "duration": 56,
    "start_time": "2024-03-12T18:37:56.325Z"
   },
   {
    "duration": 4,
    "start_time": "2024-03-12T18:37:56.384Z"
   },
   {
    "duration": 29,
    "start_time": "2024-03-12T18:37:56.389Z"
   },
   {
    "duration": 138,
    "start_time": "2024-03-12T18:37:56.419Z"
   },
   {
    "duration": 142,
    "start_time": "2024-03-12T18:37:56.558Z"
   },
   {
    "duration": 164,
    "start_time": "2024-03-12T18:37:56.702Z"
   },
   {
    "duration": 96,
    "start_time": "2024-03-12T18:37:56.867Z"
   },
   {
    "duration": 114,
    "start_time": "2024-03-12T18:37:56.965Z"
   },
   {
    "duration": 146,
    "start_time": "2024-03-12T18:37:57.081Z"
   },
   {
    "duration": 80,
    "start_time": "2024-03-12T18:37:57.228Z"
   },
   {
    "duration": 103,
    "start_time": "2024-03-12T18:37:57.309Z"
   },
   {
    "duration": 69,
    "start_time": "2024-03-12T18:37:57.414Z"
   },
   {
    "duration": 484,
    "start_time": "2024-03-12T18:37:57.484Z"
   },
   {
    "duration": 12,
    "start_time": "2024-03-12T18:37:57.969Z"
   },
   {
    "duration": 19,
    "start_time": "2024-03-12T18:37:57.982Z"
   },
   {
    "duration": 27,
    "start_time": "2024-03-12T18:37:58.002Z"
   },
   {
    "duration": 33,
    "start_time": "2024-03-12T18:37:58.030Z"
   },
   {
    "duration": 35,
    "start_time": "2024-03-12T18:37:58.064Z"
   },
   {
    "duration": 432,
    "start_time": "2024-03-12T18:37:58.100Z"
   },
   {
    "duration": 2,
    "start_time": "2024-03-12T18:37:58.535Z"
   },
   {
    "duration": 8,
    "start_time": "2024-03-12T18:37:58.538Z"
   },
   {
    "duration": 25,
    "start_time": "2024-03-12T18:37:58.548Z"
   },
   {
    "duration": 5,
    "start_time": "2024-03-12T18:37:58.574Z"
   },
   {
    "duration": 24,
    "start_time": "2024-03-12T18:37:58.580Z"
   },
   {
    "duration": 53,
    "start_time": "2024-03-12T18:37:58.605Z"
   },
   {
    "duration": 2,
    "start_time": "2024-03-12T18:37:58.660Z"
   },
   {
    "duration": 4,
    "start_time": "2024-03-12T18:37:58.664Z"
   },
   {
    "duration": 629,
    "start_time": "2024-03-12T18:37:58.669Z"
   },
   {
    "duration": 72,
    "start_time": "2024-03-12T18:37:59.299Z"
   },
   {
    "duration": 3,
    "start_time": "2024-03-12T18:37:59.373Z"
   },
   {
    "duration": 18,
    "start_time": "2024-03-12T18:37:59.378Z"
   },
   {
    "duration": 285,
    "start_time": "2024-03-12T18:37:59.397Z"
   },
   {
    "duration": 177,
    "start_time": "2024-03-12T18:37:59.684Z"
   },
   {
    "duration": 18707,
    "start_time": "2024-03-12T18:37:59.863Z"
   },
   {
    "duration": 58,
    "start_time": "2024-03-12T18:38:18.572Z"
   },
   {
    "duration": 114,
    "start_time": "2024-03-12T18:38:18.631Z"
   },
   {
    "duration": 397122,
    "start_time": "2024-03-12T18:38:18.746Z"
   },
   {
    "duration": 8502,
    "start_time": "2024-03-12T18:44:55.870Z"
   },
   {
    "duration": 11305,
    "start_time": "2024-03-12T18:45:04.374Z"
   },
   {
    "duration": 13862,
    "start_time": "2024-03-13T08:11:11.994Z"
   },
   {
    "duration": 1506,
    "start_time": "2024-03-13T08:11:25.860Z"
   },
   {
    "duration": 16,
    "start_time": "2024-03-13T08:11:27.368Z"
   },
   {
    "duration": 1207,
    "start_time": "2024-03-13T08:11:27.385Z"
   },
   {
    "duration": 5,
    "start_time": "2024-03-13T08:11:28.594Z"
   },
   {
    "duration": 991,
    "start_time": "2024-03-13T08:11:28.601Z"
   },
   {
    "duration": 417,
    "start_time": "2024-03-13T08:11:29.594Z"
   },
   {
    "duration": 46,
    "start_time": "2024-03-13T08:11:30.013Z"
   },
   {
    "duration": 66,
    "start_time": "2024-03-13T08:11:30.061Z"
   },
   {
    "duration": 4,
    "start_time": "2024-03-13T08:11:30.129Z"
   },
   {
    "duration": 103,
    "start_time": "2024-03-13T08:11:30.135Z"
   },
   {
    "duration": 226,
    "start_time": "2024-03-13T08:11:30.239Z"
   },
   {
    "duration": 198,
    "start_time": "2024-03-13T08:11:30.467Z"
   },
   {
    "duration": 127,
    "start_time": "2024-03-13T08:11:30.668Z"
   },
   {
    "duration": 211,
    "start_time": "2024-03-13T08:11:30.797Z"
   },
   {
    "duration": 180,
    "start_time": "2024-03-13T08:11:31.011Z"
   },
   {
    "duration": 186,
    "start_time": "2024-03-13T08:11:31.193Z"
   },
   {
    "duration": 125,
    "start_time": "2024-03-13T08:11:31.381Z"
   },
   {
    "duration": 137,
    "start_time": "2024-03-13T08:11:31.508Z"
   },
   {
    "duration": 108,
    "start_time": "2024-03-13T08:11:31.646Z"
   },
   {
    "duration": 702,
    "start_time": "2024-03-13T08:11:31.758Z"
   },
   {
    "duration": 13,
    "start_time": "2024-03-13T08:11:32.462Z"
   },
   {
    "duration": 185,
    "start_time": "2024-03-13T08:11:32.476Z"
   },
   {
    "duration": 58,
    "start_time": "2024-03-13T08:11:32.663Z"
   },
   {
    "duration": 61,
    "start_time": "2024-03-13T08:11:32.722Z"
   },
   {
    "duration": 160,
    "start_time": "2024-03-13T08:11:32.784Z"
   },
   {
    "duration": 653,
    "start_time": "2024-03-13T08:11:32.946Z"
   },
   {
    "duration": 2,
    "start_time": "2024-03-13T08:11:33.601Z"
   },
   {
    "duration": 65,
    "start_time": "2024-03-13T08:11:33.604Z"
   },
   {
    "duration": 33,
    "start_time": "2024-03-13T08:11:33.671Z"
   },
   {
    "duration": 4,
    "start_time": "2024-03-13T08:11:33.706Z"
   },
   {
    "duration": 19,
    "start_time": "2024-03-13T08:11:33.712Z"
   },
   {
    "duration": 42,
    "start_time": "2024-03-13T08:11:33.733Z"
   },
   {
    "duration": 3,
    "start_time": "2024-03-13T08:11:33.776Z"
   },
   {
    "duration": 10,
    "start_time": "2024-03-13T08:11:33.780Z"
   },
   {
    "duration": 853,
    "start_time": "2024-03-13T08:11:33.791Z"
   },
   {
    "duration": 95,
    "start_time": "2024-03-13T08:11:34.645Z"
   },
   {
    "duration": 4,
    "start_time": "2024-03-13T08:11:34.742Z"
   },
   {
    "duration": 23,
    "start_time": "2024-03-13T08:11:34.759Z"
   },
   {
    "duration": 388,
    "start_time": "2024-03-13T08:11:34.784Z"
   },
   {
    "duration": 182,
    "start_time": "2024-03-13T08:11:35.177Z"
   },
   {
    "duration": 21337,
    "start_time": "2024-03-13T08:11:35.361Z"
   },
   {
    "duration": 95,
    "start_time": "2024-03-13T08:11:56.700Z"
   },
   {
    "duration": 135,
    "start_time": "2024-03-13T08:11:56.796Z"
   },
   {
    "duration": 542526,
    "start_time": "2024-03-13T08:11:56.933Z"
   },
   {
    "duration": 13419,
    "start_time": "2024-03-13T08:20:59.461Z"
   },
   {
    "duration": 11591,
    "start_time": "2024-03-13T08:21:12.882Z"
   },
   {
    "duration": 10081,
    "start_time": "2024-03-13T08:29:09.207Z"
   },
   {
    "duration": 1305,
    "start_time": "2024-03-13T08:29:19.290Z"
   },
   {
    "duration": 17,
    "start_time": "2024-03-13T08:29:20.596Z"
   },
   {
    "duration": 926,
    "start_time": "2024-03-13T08:29:20.615Z"
   },
   {
    "duration": 5,
    "start_time": "2024-03-13T08:29:21.542Z"
   },
   {
    "duration": 977,
    "start_time": "2024-03-13T08:29:21.549Z"
   },
   {
    "duration": 392,
    "start_time": "2024-03-13T08:29:22.528Z"
   },
   {
    "duration": 47,
    "start_time": "2024-03-13T08:29:22.922Z"
   },
   {
    "duration": 61,
    "start_time": "2024-03-13T08:29:22.970Z"
   },
   {
    "duration": 5,
    "start_time": "2024-03-13T08:29:23.034Z"
   },
   {
    "duration": 56,
    "start_time": "2024-03-13T08:29:23.040Z"
   },
   {
    "duration": 181,
    "start_time": "2024-03-13T08:29:23.098Z"
   },
   {
    "duration": 309,
    "start_time": "2024-03-13T08:29:23.280Z"
   },
   {
    "duration": 267,
    "start_time": "2024-03-13T08:29:23.591Z"
   },
   {
    "duration": 344,
    "start_time": "2024-03-13T08:29:23.860Z"
   },
   {
    "duration": 353,
    "start_time": "2024-03-13T08:29:24.205Z"
   },
   {
    "duration": 329,
    "start_time": "2024-03-13T08:29:24.560Z"
   },
   {
    "duration": 114,
    "start_time": "2024-03-13T08:29:24.890Z"
   },
   {
    "duration": 137,
    "start_time": "2024-03-13T08:29:25.006Z"
   },
   {
    "duration": 105,
    "start_time": "2024-03-13T08:29:25.144Z"
   },
   {
    "duration": 582,
    "start_time": "2024-03-13T08:29:25.250Z"
   },
   {
    "duration": 15,
    "start_time": "2024-03-13T08:29:25.833Z"
   },
   {
    "duration": 8,
    "start_time": "2024-03-13T08:29:25.868Z"
   },
   {
    "duration": 42,
    "start_time": "2024-03-13T08:29:25.878Z"
   },
   {
    "duration": 30,
    "start_time": "2024-03-13T08:29:25.921Z"
   },
   {
    "duration": 43,
    "start_time": "2024-03-13T08:29:25.957Z"
   },
   {
    "duration": 534,
    "start_time": "2024-03-13T08:29:26.002Z"
   },
   {
    "duration": 2,
    "start_time": "2024-03-13T08:29:26.540Z"
   },
   {
    "duration": 4,
    "start_time": "2024-03-13T08:29:26.544Z"
   },
   {
    "duration": 33,
    "start_time": "2024-03-13T08:29:26.549Z"
   },
   {
    "duration": 5,
    "start_time": "2024-03-13T08:29:26.583Z"
   },
   {
    "duration": 33,
    "start_time": "2024-03-13T08:29:26.589Z"
   },
   {
    "duration": 55,
    "start_time": "2024-03-13T08:29:26.624Z"
   },
   {
    "duration": 2,
    "start_time": "2024-03-13T08:29:26.680Z"
   },
   {
    "duration": 7,
    "start_time": "2024-03-13T08:29:26.684Z"
   },
   {
    "duration": 868,
    "start_time": "2024-03-13T08:29:26.692Z"
   },
   {
    "duration": 105,
    "start_time": "2024-03-13T08:29:27.561Z"
   },
   {
    "duration": 4,
    "start_time": "2024-03-13T08:29:27.667Z"
   },
   {
    "duration": 41,
    "start_time": "2024-03-13T08:29:27.672Z"
   },
   {
    "duration": 347,
    "start_time": "2024-03-13T08:29:27.715Z"
   },
   {
    "duration": 100,
    "start_time": "2024-03-13T08:29:28.064Z"
   },
   {
    "duration": 20948,
    "start_time": "2024-03-13T08:29:28.167Z"
   },
   {
    "duration": 1351,
    "start_time": "2024-03-13T08:29:49.117Z"
   },
   {
    "duration": 90,
    "start_time": "2024-03-13T08:29:50.469Z"
   },
   {
    "duration": 115,
    "start_time": "2024-03-13T08:29:50.560Z"
   },
   {
    "duration": 497294,
    "start_time": "2024-03-13T08:29:50.677Z"
   },
   {
    "duration": 11086,
    "start_time": "2024-03-13T08:38:07.973Z"
   },
   {
    "duration": 10507,
    "start_time": "2024-03-13T08:38:19.061Z"
   },
   {
    "duration": 11255,
    "start_time": "2024-03-13T08:43:21.020Z"
   },
   {
    "duration": 10825,
    "start_time": "2024-03-13T08:43:41.151Z"
   },
   {
    "duration": 1326,
    "start_time": "2024-03-13T08:43:51.978Z"
   },
   {
    "duration": 17,
    "start_time": "2024-03-13T08:43:53.305Z"
   },
   {
    "duration": 884,
    "start_time": "2024-03-13T08:43:53.324Z"
   },
   {
    "duration": 5,
    "start_time": "2024-03-13T08:43:54.209Z"
   },
   {
    "duration": 966,
    "start_time": "2024-03-13T08:43:54.216Z"
   },
   {
    "duration": 437,
    "start_time": "2024-03-13T08:43:55.184Z"
   },
   {
    "duration": 47,
    "start_time": "2024-03-13T08:43:55.623Z"
   },
   {
    "duration": 59,
    "start_time": "2024-03-13T08:43:55.672Z"
   },
   {
    "duration": 5,
    "start_time": "2024-03-13T08:43:55.734Z"
   },
   {
    "duration": 53,
    "start_time": "2024-03-13T08:43:55.741Z"
   },
   {
    "duration": 183,
    "start_time": "2024-03-13T08:43:55.796Z"
   },
   {
    "duration": 184,
    "start_time": "2024-03-13T08:43:55.981Z"
   },
   {
    "duration": 114,
    "start_time": "2024-03-13T08:43:56.167Z"
   },
   {
    "duration": 197,
    "start_time": "2024-03-13T08:43:56.283Z"
   },
   {
    "duration": 147,
    "start_time": "2024-03-13T08:43:56.482Z"
   },
   {
    "duration": 170,
    "start_time": "2024-03-13T08:43:56.631Z"
   },
   {
    "duration": 124,
    "start_time": "2024-03-13T08:43:56.803Z"
   },
   {
    "duration": 144,
    "start_time": "2024-03-13T08:43:56.929Z"
   },
   {
    "duration": 102,
    "start_time": "2024-03-13T08:43:57.075Z"
   },
   {
    "duration": 560,
    "start_time": "2024-03-13T08:43:57.179Z"
   },
   {
    "duration": 18,
    "start_time": "2024-03-13T08:43:57.740Z"
   },
   {
    "duration": 28,
    "start_time": "2024-03-13T08:43:57.760Z"
   },
   {
    "duration": 36,
    "start_time": "2024-03-13T08:43:57.789Z"
   },
   {
    "duration": 30,
    "start_time": "2024-03-13T08:43:57.826Z"
   },
   {
    "duration": 37,
    "start_time": "2024-03-13T08:43:57.857Z"
   },
   {
    "duration": 499,
    "start_time": "2024-03-13T08:43:57.896Z"
   },
   {
    "duration": 2,
    "start_time": "2024-03-13T08:43:58.398Z"
   },
   {
    "duration": 3,
    "start_time": "2024-03-13T08:43:58.402Z"
   },
   {
    "duration": 34,
    "start_time": "2024-03-13T08:43:58.406Z"
   },
   {
    "duration": 5,
    "start_time": "2024-03-13T08:43:58.442Z"
   },
   {
    "duration": 54,
    "start_time": "2024-03-13T08:43:58.448Z"
   },
   {
    "duration": 35,
    "start_time": "2024-03-13T08:43:58.504Z"
   },
   {
    "duration": 2,
    "start_time": "2024-03-13T08:43:58.540Z"
   },
   {
    "duration": 6,
    "start_time": "2024-03-13T08:43:58.544Z"
   },
   {
    "duration": 807,
    "start_time": "2024-03-13T08:43:58.551Z"
   },
   {
    "duration": 86,
    "start_time": "2024-03-13T08:43:59.360Z"
   },
   {
    "duration": 13,
    "start_time": "2024-03-13T08:43:59.447Z"
   },
   {
    "duration": 59,
    "start_time": "2024-03-13T08:43:59.461Z"
   },
   {
    "duration": 368,
    "start_time": "2024-03-13T08:43:59.521Z"
   },
   {
    "duration": 229,
    "start_time": "2024-03-13T08:43:59.891Z"
   },
   {
    "duration": 0,
    "start_time": "2024-03-13T08:44:00.122Z"
   },
   {
    "duration": 0,
    "start_time": "2024-03-13T08:44:00.123Z"
   },
   {
    "duration": 0,
    "start_time": "2024-03-13T08:44:00.125Z"
   },
   {
    "duration": 0,
    "start_time": "2024-03-13T08:44:00.126Z"
   },
   {
    "duration": 0,
    "start_time": "2024-03-13T08:44:00.128Z"
   },
   {
    "duration": 0,
    "start_time": "2024-03-13T08:44:00.130Z"
   },
   {
    "duration": 0,
    "start_time": "2024-03-13T08:44:00.132Z"
   },
   {
    "duration": 10692,
    "start_time": "2024-03-13T08:44:40.686Z"
   },
   {
    "duration": 5,
    "start_time": "2024-03-13T08:44:51.381Z"
   },
   {
    "duration": 18,
    "start_time": "2024-03-13T08:44:51.387Z"
   },
   {
    "duration": 955,
    "start_time": "2024-03-13T08:44:51.407Z"
   },
   {
    "duration": 6,
    "start_time": "2024-03-13T08:44:52.363Z"
   },
   {
    "duration": 908,
    "start_time": "2024-03-13T08:44:52.370Z"
   },
   {
    "duration": 386,
    "start_time": "2024-03-13T08:44:53.280Z"
   },
   {
    "duration": 36,
    "start_time": "2024-03-13T08:44:53.667Z"
   },
   {
    "duration": 73,
    "start_time": "2024-03-13T08:44:53.704Z"
   },
   {
    "duration": 5,
    "start_time": "2024-03-13T08:44:53.780Z"
   },
   {
    "duration": 41,
    "start_time": "2024-03-13T08:44:53.786Z"
   },
   {
    "duration": 180,
    "start_time": "2024-03-13T08:44:53.828Z"
   },
   {
    "duration": 202,
    "start_time": "2024-03-13T08:44:54.009Z"
   },
   {
    "duration": 206,
    "start_time": "2024-03-13T08:44:54.212Z"
   },
   {
    "duration": 129,
    "start_time": "2024-03-13T08:44:54.420Z"
   },
   {
    "duration": 151,
    "start_time": "2024-03-13T08:44:54.550Z"
   },
   {
    "duration": 163,
    "start_time": "2024-03-13T08:44:54.703Z"
   },
   {
    "duration": 116,
    "start_time": "2024-03-13T08:44:54.868Z"
   },
   {
    "duration": 128,
    "start_time": "2024-03-13T08:44:54.985Z"
   },
   {
    "duration": 112,
    "start_time": "2024-03-13T08:44:55.114Z"
   },
   {
    "duration": 580,
    "start_time": "2024-03-13T08:44:55.228Z"
   },
   {
    "duration": 13,
    "start_time": "2024-03-13T08:44:55.810Z"
   },
   {
    "duration": 13,
    "start_time": "2024-03-13T08:44:55.825Z"
   },
   {
    "duration": 54,
    "start_time": "2024-03-13T08:44:55.839Z"
   },
   {
    "duration": 29,
    "start_time": "2024-03-13T08:44:55.894Z"
   },
   {
    "duration": 44,
    "start_time": "2024-03-13T08:44:55.925Z"
   },
   {
    "duration": 520,
    "start_time": "2024-03-13T08:44:55.970Z"
   },
   {
    "duration": 3,
    "start_time": "2024-03-13T08:44:56.493Z"
   },
   {
    "duration": 5,
    "start_time": "2024-03-13T08:44:56.498Z"
   },
   {
    "duration": 44,
    "start_time": "2024-03-13T08:44:56.505Z"
   },
   {
    "duration": 9,
    "start_time": "2024-03-13T08:44:56.550Z"
   },
   {
    "duration": 20,
    "start_time": "2024-03-13T08:44:56.560Z"
   },
   {
    "duration": 36,
    "start_time": "2024-03-13T08:44:56.582Z"
   },
   {
    "duration": 3,
    "start_time": "2024-03-13T08:44:56.620Z"
   },
   {
    "duration": 7,
    "start_time": "2024-03-13T08:44:56.624Z"
   },
   {
    "duration": 845,
    "start_time": "2024-03-13T08:44:56.632Z"
   },
   {
    "duration": 91,
    "start_time": "2024-03-13T08:44:57.479Z"
   },
   {
    "duration": 4,
    "start_time": "2024-03-13T08:44:57.572Z"
   },
   {
    "duration": 69,
    "start_time": "2024-03-13T08:44:57.578Z"
   },
   {
    "duration": 367,
    "start_time": "2024-03-13T08:44:57.649Z"
   },
   {
    "duration": 250,
    "start_time": "2024-03-13T08:44:58.018Z"
   },
   {
    "duration": 0,
    "start_time": "2024-03-13T08:44:58.359Z"
   },
   {
    "duration": 0,
    "start_time": "2024-03-13T08:44:58.360Z"
   },
   {
    "duration": 0,
    "start_time": "2024-03-13T08:44:58.362Z"
   },
   {
    "duration": 0,
    "start_time": "2024-03-13T08:44:58.363Z"
   },
   {
    "duration": 0,
    "start_time": "2024-03-13T08:44:58.364Z"
   },
   {
    "duration": 0,
    "start_time": "2024-03-13T08:44:58.365Z"
   },
   {
    "duration": 1,
    "start_time": "2024-03-13T08:44:58.366Z"
   },
   {
    "duration": 10936,
    "start_time": "2024-03-13T08:45:31.375Z"
   },
   {
    "duration": 5,
    "start_time": "2024-03-13T08:45:42.313Z"
   },
   {
    "duration": 25,
    "start_time": "2024-03-13T08:45:42.320Z"
   },
   {
    "duration": 906,
    "start_time": "2024-03-13T08:45:42.347Z"
   },
   {
    "duration": 5,
    "start_time": "2024-03-13T08:45:43.258Z"
   },
   {
    "duration": 905,
    "start_time": "2024-03-13T08:45:43.265Z"
   },
   {
    "duration": 390,
    "start_time": "2024-03-13T08:45:44.171Z"
   },
   {
    "duration": 35,
    "start_time": "2024-03-13T08:45:44.562Z"
   },
   {
    "duration": 79,
    "start_time": "2024-03-13T08:45:44.598Z"
   },
   {
    "duration": 6,
    "start_time": "2024-03-13T08:45:44.680Z"
   },
   {
    "duration": 41,
    "start_time": "2024-03-13T08:45:44.687Z"
   },
   {
    "duration": 174,
    "start_time": "2024-03-13T08:45:44.730Z"
   },
   {
    "duration": 215,
    "start_time": "2024-03-13T08:45:44.905Z"
   },
   {
    "duration": 228,
    "start_time": "2024-03-13T08:45:45.121Z"
   },
   {
    "duration": 142,
    "start_time": "2024-03-13T08:45:45.350Z"
   },
   {
    "duration": 153,
    "start_time": "2024-03-13T08:45:45.494Z"
   },
   {
    "duration": 169,
    "start_time": "2024-03-13T08:45:45.648Z"
   },
   {
    "duration": 109,
    "start_time": "2024-03-13T08:45:45.818Z"
   },
   {
    "duration": 135,
    "start_time": "2024-03-13T08:45:45.928Z"
   },
   {
    "duration": 103,
    "start_time": "2024-03-13T08:45:46.065Z"
   },
   {
    "duration": 548,
    "start_time": "2024-03-13T08:45:46.169Z"
   },
   {
    "duration": 13,
    "start_time": "2024-03-13T08:45:46.719Z"
   },
   {
    "duration": 14,
    "start_time": "2024-03-13T08:45:46.733Z"
   },
   {
    "duration": 28,
    "start_time": "2024-03-13T08:45:46.759Z"
   },
   {
    "duration": 30,
    "start_time": "2024-03-13T08:45:46.789Z"
   },
   {
    "duration": 58,
    "start_time": "2024-03-13T08:45:46.821Z"
   },
   {
    "duration": 558,
    "start_time": "2024-03-13T08:45:46.880Z"
   },
   {
    "duration": 2,
    "start_time": "2024-03-13T08:45:47.442Z"
   },
   {
    "duration": 13,
    "start_time": "2024-03-13T08:45:47.445Z"
   },
   {
    "duration": 47,
    "start_time": "2024-03-13T08:45:47.460Z"
   },
   {
    "duration": 6,
    "start_time": "2024-03-13T08:45:47.509Z"
   },
   {
    "duration": 20,
    "start_time": "2024-03-13T08:45:47.516Z"
   },
   {
    "duration": 50,
    "start_time": "2024-03-13T08:45:47.538Z"
   },
   {
    "duration": 2,
    "start_time": "2024-03-13T08:45:47.590Z"
   },
   {
    "duration": 10,
    "start_time": "2024-03-13T08:45:47.594Z"
   },
   {
    "duration": 816,
    "start_time": "2024-03-13T08:45:47.605Z"
   },
   {
    "duration": 98,
    "start_time": "2024-03-13T08:45:48.423Z"
   },
   {
    "duration": 3,
    "start_time": "2024-03-13T08:45:48.523Z"
   },
   {
    "duration": 31,
    "start_time": "2024-03-13T08:45:48.527Z"
   },
   {
    "duration": 391,
    "start_time": "2024-03-13T08:45:48.560Z"
   },
   {
    "duration": 114,
    "start_time": "2024-03-13T08:45:48.952Z"
   },
   {
    "duration": 20374,
    "start_time": "2024-03-13T08:45:49.068Z"
   },
   {
    "duration": 0,
    "start_time": "2024-03-13T08:46:09.444Z"
   },
   {
    "duration": 0,
    "start_time": "2024-03-13T08:46:09.445Z"
   },
   {
    "duration": 0,
    "start_time": "2024-03-13T08:46:09.446Z"
   },
   {
    "duration": 0,
    "start_time": "2024-03-13T08:46:09.447Z"
   },
   {
    "duration": 0,
    "start_time": "2024-03-13T08:46:09.448Z"
   },
   {
    "duration": 0,
    "start_time": "2024-03-13T08:46:09.449Z"
   },
   {
    "duration": 19925,
    "start_time": "2024-03-13T08:46:26.936Z"
   },
   {
    "duration": 20777,
    "start_time": "2024-03-13T08:46:59.657Z"
   },
   {
    "duration": 1378,
    "start_time": "2024-03-13T08:47:30.738Z"
   },
   {
    "duration": 107,
    "start_time": "2024-03-13T08:47:32.119Z"
   },
   {
    "duration": 133,
    "start_time": "2024-03-13T08:47:32.228Z"
   },
   {
    "duration": 10807,
    "start_time": "2024-03-13T08:49:05.080Z"
   },
   {
    "duration": 1330,
    "start_time": "2024-03-13T08:49:15.889Z"
   },
   {
    "duration": 16,
    "start_time": "2024-03-13T08:49:17.220Z"
   },
   {
    "duration": 947,
    "start_time": "2024-03-13T08:49:17.238Z"
   },
   {
    "duration": 5,
    "start_time": "2024-03-13T08:49:18.187Z"
   },
   {
    "duration": 1069,
    "start_time": "2024-03-13T08:49:18.194Z"
   },
   {
    "duration": 494,
    "start_time": "2024-03-13T08:49:19.265Z"
   },
   {
    "duration": 37,
    "start_time": "2024-03-13T08:49:19.761Z"
   },
   {
    "duration": 78,
    "start_time": "2024-03-13T08:49:19.799Z"
   },
   {
    "duration": 5,
    "start_time": "2024-03-13T08:49:19.879Z"
   },
   {
    "duration": 43,
    "start_time": "2024-03-13T08:49:19.886Z"
   },
   {
    "duration": 181,
    "start_time": "2024-03-13T08:49:19.931Z"
   },
   {
    "duration": 192,
    "start_time": "2024-03-13T08:49:20.114Z"
   },
   {
    "duration": 122,
    "start_time": "2024-03-13T08:49:20.309Z"
   },
   {
    "duration": 213,
    "start_time": "2024-03-13T08:49:20.433Z"
   },
   {
    "duration": 160,
    "start_time": "2024-03-13T08:49:20.647Z"
   },
   {
    "duration": 171,
    "start_time": "2024-03-13T08:49:20.809Z"
   },
   {
    "duration": 116,
    "start_time": "2024-03-13T08:49:20.982Z"
   },
   {
    "duration": 146,
    "start_time": "2024-03-13T08:49:21.100Z"
   },
   {
    "duration": 98,
    "start_time": "2024-03-13T08:49:21.248Z"
   },
   {
    "duration": 604,
    "start_time": "2024-03-13T08:49:21.348Z"
   },
   {
    "duration": 15,
    "start_time": "2024-03-13T08:49:21.954Z"
   },
   {
    "duration": 40,
    "start_time": "2024-03-13T08:49:21.971Z"
   },
   {
    "duration": 38,
    "start_time": "2024-03-13T08:49:22.013Z"
   },
   {
    "duration": 31,
    "start_time": "2024-03-13T08:49:22.052Z"
   },
   {
    "duration": 46,
    "start_time": "2024-03-13T08:49:22.085Z"
   },
   {
    "duration": 526,
    "start_time": "2024-03-13T08:49:22.132Z"
   },
   {
    "duration": 2,
    "start_time": "2024-03-13T08:49:22.660Z"
   },
   {
    "duration": 29,
    "start_time": "2024-03-13T08:49:22.664Z"
   },
   {
    "duration": 40,
    "start_time": "2024-03-13T08:49:22.694Z"
   },
   {
    "duration": 17,
    "start_time": "2024-03-13T08:49:22.735Z"
   },
   {
    "duration": 40,
    "start_time": "2024-03-13T08:49:22.754Z"
   },
   {
    "duration": 33,
    "start_time": "2024-03-13T08:49:22.796Z"
   },
   {
    "duration": 2,
    "start_time": "2024-03-13T08:49:22.831Z"
   },
   {
    "duration": 19,
    "start_time": "2024-03-13T08:49:22.835Z"
   },
   {
    "duration": 847,
    "start_time": "2024-03-13T08:49:22.856Z"
   },
   {
    "duration": 94,
    "start_time": "2024-03-13T08:49:23.705Z"
   },
   {
    "duration": 5,
    "start_time": "2024-03-13T08:49:23.800Z"
   },
   {
    "duration": 23,
    "start_time": "2024-03-13T08:49:23.807Z"
   },
   {
    "duration": 367,
    "start_time": "2024-03-13T08:49:23.832Z"
   },
   {
    "duration": 155,
    "start_time": "2024-03-13T08:49:24.204Z"
   },
   {
    "duration": 19974,
    "start_time": "2024-03-13T08:49:24.361Z"
   },
   {
    "duration": 1398,
    "start_time": "2024-03-13T08:49:44.337Z"
   },
   {
    "duration": 88,
    "start_time": "2024-03-13T08:49:45.737Z"
   },
   {
    "duration": 125,
    "start_time": "2024-03-13T08:49:45.827Z"
   },
   {
    "duration": 10907,
    "start_time": "2024-03-13T09:21:07.089Z"
   },
   {
    "duration": 1303,
    "start_time": "2024-03-13T09:21:17.999Z"
   },
   {
    "duration": 15,
    "start_time": "2024-03-13T09:21:19.304Z"
   },
   {
    "duration": 895,
    "start_time": "2024-03-13T09:21:19.320Z"
   },
   {
    "duration": 6,
    "start_time": "2024-03-13T09:21:20.218Z"
   },
   {
    "duration": 1026,
    "start_time": "2024-03-13T09:21:20.226Z"
   },
   {
    "duration": 460,
    "start_time": "2024-03-13T09:21:21.254Z"
   },
   {
    "duration": 44,
    "start_time": "2024-03-13T09:21:21.716Z"
   },
   {
    "duration": 55,
    "start_time": "2024-03-13T09:21:21.762Z"
   },
   {
    "duration": 5,
    "start_time": "2024-03-13T09:21:21.819Z"
   },
   {
    "duration": 56,
    "start_time": "2024-03-13T09:21:21.825Z"
   },
   {
    "duration": 201,
    "start_time": "2024-03-13T09:21:21.884Z"
   },
   {
    "duration": 231,
    "start_time": "2024-03-13T09:21:22.087Z"
   },
   {
    "duration": 116,
    "start_time": "2024-03-13T09:21:22.321Z"
   },
   {
    "duration": 220,
    "start_time": "2024-03-13T09:21:22.438Z"
   },
   {
    "duration": 163,
    "start_time": "2024-03-13T09:21:22.660Z"
   },
   {
    "duration": 195,
    "start_time": "2024-03-13T09:21:22.824Z"
   },
   {
    "duration": 110,
    "start_time": "2024-03-13T09:21:23.021Z"
   },
   {
    "duration": 145,
    "start_time": "2024-03-13T09:21:23.133Z"
   },
   {
    "duration": 114,
    "start_time": "2024-03-13T09:21:23.282Z"
   },
   {
    "duration": 568,
    "start_time": "2024-03-13T09:21:23.398Z"
   },
   {
    "duration": 16,
    "start_time": "2024-03-13T09:21:23.968Z"
   },
   {
    "duration": 18,
    "start_time": "2024-03-13T09:21:23.986Z"
   },
   {
    "duration": 54,
    "start_time": "2024-03-13T09:21:24.005Z"
   },
   {
    "duration": 31,
    "start_time": "2024-03-13T09:21:24.061Z"
   },
   {
    "duration": 37,
    "start_time": "2024-03-13T09:21:24.094Z"
   },
   {
    "duration": 594,
    "start_time": "2024-03-13T09:21:24.133Z"
   },
   {
    "duration": 2,
    "start_time": "2024-03-13T09:21:24.729Z"
   },
   {
    "duration": 16,
    "start_time": "2024-03-13T09:21:24.733Z"
   },
   {
    "duration": 47,
    "start_time": "2024-03-13T09:21:24.750Z"
   },
   {
    "duration": 23,
    "start_time": "2024-03-13T09:21:24.799Z"
   },
   {
    "duration": 20,
    "start_time": "2024-03-13T09:21:24.824Z"
   },
   {
    "duration": 45,
    "start_time": "2024-03-13T09:21:24.846Z"
   },
   {
    "duration": 3,
    "start_time": "2024-03-13T09:21:24.893Z"
   },
   {
    "duration": 6,
    "start_time": "2024-03-13T09:21:24.898Z"
   },
   {
    "duration": 945,
    "start_time": "2024-03-13T09:21:24.905Z"
   },
   {
    "duration": 93,
    "start_time": "2024-03-13T09:21:25.851Z"
   },
   {
    "duration": 4,
    "start_time": "2024-03-13T09:21:25.946Z"
   },
   {
    "duration": 30,
    "start_time": "2024-03-13T09:21:25.960Z"
   },
   {
    "duration": 437,
    "start_time": "2024-03-13T09:21:25.992Z"
   },
   {
    "duration": 133,
    "start_time": "2024-03-13T09:21:26.433Z"
   },
   {
    "duration": 22365,
    "start_time": "2024-03-13T09:21:26.571Z"
   },
   {
    "duration": 1464,
    "start_time": "2024-03-13T09:21:48.938Z"
   },
   {
    "duration": 97,
    "start_time": "2024-03-13T09:21:50.404Z"
   },
   {
    "duration": 118,
    "start_time": "2024-03-13T09:21:50.502Z"
   },
   {
    "duration": 10892,
    "start_time": "2024-03-13T09:32:10.744Z"
   },
   {
    "duration": 1410,
    "start_time": "2024-03-13T09:32:21.638Z"
   },
   {
    "duration": 17,
    "start_time": "2024-03-13T09:32:23.050Z"
   },
   {
    "duration": 1034,
    "start_time": "2024-03-13T09:32:23.070Z"
   },
   {
    "duration": 6,
    "start_time": "2024-03-13T09:32:24.105Z"
   },
   {
    "duration": 1036,
    "start_time": "2024-03-13T09:32:24.112Z"
   },
   {
    "duration": 470,
    "start_time": "2024-03-13T09:32:25.158Z"
   },
   {
    "duration": 50,
    "start_time": "2024-03-13T09:32:25.629Z"
   },
   {
    "duration": 57,
    "start_time": "2024-03-13T09:32:25.681Z"
   },
   {
    "duration": 5,
    "start_time": "2024-03-13T09:32:25.740Z"
   },
   {
    "duration": 50,
    "start_time": "2024-03-13T09:32:25.758Z"
   },
   {
    "duration": 227,
    "start_time": "2024-03-13T09:32:25.810Z"
   },
   {
    "duration": 207,
    "start_time": "2024-03-13T09:32:26.038Z"
   },
   {
    "duration": 141,
    "start_time": "2024-03-13T09:32:26.247Z"
   },
   {
    "duration": 218,
    "start_time": "2024-03-13T09:32:26.390Z"
   },
   {
    "duration": 182,
    "start_time": "2024-03-13T09:32:26.609Z"
   },
   {
    "duration": 203,
    "start_time": "2024-03-13T09:32:26.792Z"
   },
   {
    "duration": 127,
    "start_time": "2024-03-13T09:32:26.996Z"
   },
   {
    "duration": 163,
    "start_time": "2024-03-13T09:32:27.125Z"
   },
   {
    "duration": 116,
    "start_time": "2024-03-13T09:32:27.289Z"
   },
   {
    "duration": 657,
    "start_time": "2024-03-13T09:32:27.407Z"
   },
   {
    "duration": 21,
    "start_time": "2024-03-13T09:32:28.067Z"
   },
   {
    "duration": 17,
    "start_time": "2024-03-13T09:32:28.090Z"
   },
   {
    "duration": 31,
    "start_time": "2024-03-13T09:32:28.109Z"
   },
   {
    "duration": 55,
    "start_time": "2024-03-13T09:32:28.142Z"
   },
   {
    "duration": 37,
    "start_time": "2024-03-13T09:32:28.199Z"
   },
   {
    "duration": 960,
    "start_time": "2024-03-13T09:32:28.238Z"
   },
   {
    "duration": 2,
    "start_time": "2024-03-13T09:32:29.202Z"
   },
   {
    "duration": 3,
    "start_time": "2024-03-13T09:32:29.260Z"
   },
   {
    "duration": 35,
    "start_time": "2024-03-13T09:32:29.265Z"
   },
   {
    "duration": 5,
    "start_time": "2024-03-13T09:32:29.301Z"
   },
   {
    "duration": 26,
    "start_time": "2024-03-13T09:32:29.360Z"
   },
   {
    "duration": 100,
    "start_time": "2024-03-13T09:32:29.388Z"
   },
   {
    "duration": 3,
    "start_time": "2024-03-13T09:32:29.489Z"
   },
   {
    "duration": 10,
    "start_time": "2024-03-13T09:32:29.493Z"
   },
   {
    "duration": 1380,
    "start_time": "2024-03-13T09:32:29.505Z"
   },
   {
    "duration": 104,
    "start_time": "2024-03-13T09:32:30.886Z"
   },
   {
    "duration": 42,
    "start_time": "2024-03-13T09:32:30.992Z"
   },
   {
    "duration": 252,
    "start_time": "2024-03-13T09:32:31.036Z"
   },
   {
    "duration": 522,
    "start_time": "2024-03-13T09:32:31.289Z"
   },
   {
    "duration": 153,
    "start_time": "2024-03-13T09:32:31.813Z"
   },
   {
    "duration": 21020,
    "start_time": "2024-03-13T09:32:31.970Z"
   },
   {
    "duration": 1427,
    "start_time": "2024-03-13T09:32:52.991Z"
   },
   {
    "duration": 110,
    "start_time": "2024-03-13T09:32:54.420Z"
   },
   {
    "duration": 4,
    "start_time": "2024-03-13T09:32:54.531Z"
   },
   {
    "duration": 17,
    "start_time": "2024-03-13T09:32:54.536Z"
   },
   {
    "duration": 10644,
    "start_time": "2024-03-13T09:37:02.363Z"
   },
   {
    "duration": 4,
    "start_time": "2024-03-13T09:37:13.010Z"
   },
   {
    "duration": 17,
    "start_time": "2024-03-13T09:37:13.016Z"
   },
   {
    "duration": 948,
    "start_time": "2024-03-13T09:37:13.035Z"
   },
   {
    "duration": 6,
    "start_time": "2024-03-13T09:37:13.985Z"
   },
   {
    "duration": 962,
    "start_time": "2024-03-13T09:37:13.992Z"
   },
   {
    "duration": 444,
    "start_time": "2024-03-13T09:37:14.958Z"
   },
   {
    "duration": 36,
    "start_time": "2024-03-13T09:37:15.404Z"
   },
   {
    "duration": 83,
    "start_time": "2024-03-13T09:37:15.441Z"
   },
   {
    "duration": 11,
    "start_time": "2024-03-13T09:37:15.525Z"
   },
   {
    "duration": 139,
    "start_time": "2024-03-13T09:37:15.538Z"
   },
   {
    "duration": 187,
    "start_time": "2024-03-13T09:37:15.680Z"
   },
   {
    "duration": 199,
    "start_time": "2024-03-13T09:37:15.873Z"
   },
   {
    "duration": 232,
    "start_time": "2024-03-13T09:37:16.075Z"
   },
   {
    "duration": 136,
    "start_time": "2024-03-13T09:37:16.308Z"
   },
   {
    "duration": 165,
    "start_time": "2024-03-13T09:37:16.446Z"
   },
   {
    "duration": 187,
    "start_time": "2024-03-13T09:37:16.612Z"
   },
   {
    "duration": 122,
    "start_time": "2024-03-13T09:37:16.801Z"
   },
   {
    "duration": 152,
    "start_time": "2024-03-13T09:37:16.925Z"
   },
   {
    "duration": 124,
    "start_time": "2024-03-13T09:37:17.079Z"
   },
   {
    "duration": 644,
    "start_time": "2024-03-13T09:37:17.204Z"
   },
   {
    "duration": 31,
    "start_time": "2024-03-13T09:37:17.849Z"
   },
   {
    "duration": 37,
    "start_time": "2024-03-13T09:37:17.882Z"
   },
   {
    "duration": 35,
    "start_time": "2024-03-13T09:37:17.921Z"
   },
   {
    "duration": 33,
    "start_time": "2024-03-13T09:37:17.958Z"
   },
   {
    "duration": 39,
    "start_time": "2024-03-13T09:37:17.992Z"
   },
   {
    "duration": 927,
    "start_time": "2024-03-13T09:37:18.033Z"
   },
   {
    "duration": 2,
    "start_time": "2024-03-13T09:37:18.975Z"
   },
   {
    "duration": 15,
    "start_time": "2024-03-13T09:37:18.979Z"
   },
   {
    "duration": 75,
    "start_time": "2024-03-13T09:37:18.996Z"
   },
   {
    "duration": 7,
    "start_time": "2024-03-13T09:37:19.072Z"
   },
   {
    "duration": 119,
    "start_time": "2024-03-13T09:37:19.080Z"
   },
   {
    "duration": 78,
    "start_time": "2024-03-13T09:37:19.201Z"
   },
   {
    "duration": 2,
    "start_time": "2024-03-13T09:37:19.281Z"
   },
   {
    "duration": 4,
    "start_time": "2024-03-13T09:37:19.285Z"
   },
   {
    "duration": 1149,
    "start_time": "2024-03-13T09:37:19.290Z"
   },
   {
    "duration": 103,
    "start_time": "2024-03-13T09:37:20.440Z"
   },
   {
    "duration": 3,
    "start_time": "2024-03-13T09:37:20.545Z"
   },
   {
    "duration": 27,
    "start_time": "2024-03-13T09:37:20.550Z"
   },
   {
    "duration": 399,
    "start_time": "2024-03-13T09:37:20.579Z"
   },
   {
    "duration": 185,
    "start_time": "2024-03-13T09:37:20.982Z"
   },
   {
    "duration": 21648,
    "start_time": "2024-03-13T09:37:21.169Z"
   },
   {
    "duration": 1454,
    "start_time": "2024-03-13T09:37:42.818Z"
   },
   {
    "duration": 100,
    "start_time": "2024-03-13T09:37:44.273Z"
   },
   {
    "duration": 3,
    "start_time": "2024-03-13T09:37:44.375Z"
   },
   {
    "duration": 5,
    "start_time": "2024-03-13T09:37:44.379Z"
   },
   {
    "duration": 64891,
    "start_time": "2024-03-13T09:37:44.386Z"
   },
   {
    "duration": 0,
    "start_time": "2024-03-13T09:38:49.279Z"
   },
   {
    "duration": 0,
    "start_time": "2024-03-13T09:38:49.281Z"
   },
   {
    "duration": 13795,
    "start_time": "2024-03-13T15:54:32.734Z"
   },
   {
    "duration": 1488,
    "start_time": "2024-03-13T15:54:46.532Z"
   },
   {
    "duration": 17,
    "start_time": "2024-03-13T15:54:48.025Z"
   },
   {
    "duration": 3025,
    "start_time": "2024-03-13T15:54:48.044Z"
   },
   {
    "duration": 6,
    "start_time": "2024-03-13T15:54:51.070Z"
   },
   {
    "duration": 968,
    "start_time": "2024-03-13T15:54:51.078Z"
   },
   {
    "duration": 456,
    "start_time": "2024-03-13T15:54:52.048Z"
   },
   {
    "duration": 36,
    "start_time": "2024-03-13T15:54:52.506Z"
   },
   {
    "duration": 75,
    "start_time": "2024-03-13T15:54:52.544Z"
   },
   {
    "duration": 5,
    "start_time": "2024-03-13T15:54:52.620Z"
   },
   {
    "duration": 58,
    "start_time": "2024-03-13T15:54:52.626Z"
   },
   {
    "duration": 169,
    "start_time": "2024-03-13T15:54:52.686Z"
   },
   {
    "duration": 185,
    "start_time": "2024-03-13T15:54:52.856Z"
   },
   {
    "duration": 113,
    "start_time": "2024-03-13T15:54:53.043Z"
   },
   {
    "duration": 207,
    "start_time": "2024-03-13T15:54:53.157Z"
   },
   {
    "duration": 152,
    "start_time": "2024-03-13T15:54:53.366Z"
   },
   {
    "duration": 169,
    "start_time": "2024-03-13T15:54:53.519Z"
   },
   {
    "duration": 112,
    "start_time": "2024-03-13T15:54:53.690Z"
   },
   {
    "duration": 150,
    "start_time": "2024-03-13T15:54:53.804Z"
   },
   {
    "duration": 110,
    "start_time": "2024-03-13T15:54:53.956Z"
   },
   {
    "duration": 594,
    "start_time": "2024-03-13T15:54:54.068Z"
   },
   {
    "duration": 13,
    "start_time": "2024-03-13T15:54:54.664Z"
   },
   {
    "duration": 20,
    "start_time": "2024-03-13T15:54:54.679Z"
   },
   {
    "duration": 32,
    "start_time": "2024-03-13T15:54:54.700Z"
   },
   {
    "duration": 30,
    "start_time": "2024-03-13T15:54:54.733Z"
   },
   {
    "duration": 54,
    "start_time": "2024-03-13T15:54:54.765Z"
   },
   {
    "duration": 519,
    "start_time": "2024-03-13T15:54:54.823Z"
   },
   {
    "duration": 2,
    "start_time": "2024-03-13T15:54:55.343Z"
   },
   {
    "duration": 8,
    "start_time": "2024-03-13T15:54:55.347Z"
   },
   {
    "duration": 32,
    "start_time": "2024-03-13T15:54:55.357Z"
   },
   {
    "duration": 5,
    "start_time": "2024-03-13T15:54:55.390Z"
   },
   {
    "duration": 21,
    "start_time": "2024-03-13T15:54:55.396Z"
   },
   {
    "duration": 37,
    "start_time": "2024-03-13T15:54:55.418Z"
   },
   {
    "duration": 3,
    "start_time": "2024-03-13T15:54:55.456Z"
   },
   {
    "duration": 3,
    "start_time": "2024-03-13T15:54:55.487Z"
   },
   {
    "duration": 813,
    "start_time": "2024-03-13T15:54:55.492Z"
   },
   {
    "duration": 93,
    "start_time": "2024-03-13T15:54:56.307Z"
   },
   {
    "duration": 4,
    "start_time": "2024-03-13T15:54:56.401Z"
   },
   {
    "duration": 37,
    "start_time": "2024-03-13T15:54:56.407Z"
   },
   {
    "duration": 354,
    "start_time": "2024-03-13T15:54:56.445Z"
   },
   {
    "duration": 89,
    "start_time": "2024-03-13T15:54:56.800Z"
   },
   {
    "duration": 20732,
    "start_time": "2024-03-13T15:54:56.891Z"
   },
   {
    "duration": 1356,
    "start_time": "2024-03-13T15:55:17.624Z"
   },
   {
    "duration": 79,
    "start_time": "2024-03-13T15:55:18.982Z"
   },
   {
    "duration": 124,
    "start_time": "2024-03-13T15:55:19.063Z"
   },
   {
    "duration": 422300,
    "start_time": "2024-03-13T15:55:19.188Z"
   },
   {
    "duration": 13005,
    "start_time": "2024-03-13T16:02:21.490Z"
   },
   {
    "duration": 150,
    "start_time": "2024-03-13T16:02:34.496Z"
   },
   {
    "duration": 0,
    "start_time": "2024-03-13T16:02:34.647Z"
   },
   {
    "duration": 9280,
    "start_time": "2024-03-13T16:02:53.016Z"
   },
   {
    "duration": 4,
    "start_time": "2024-03-13T16:48:44.048Z"
   },
   {
    "duration": 9,
    "start_time": "2024-03-13T16:48:53.629Z"
   },
   {
    "duration": 10,
    "start_time": "2024-03-13T16:49:45.461Z"
   },
   {
    "duration": 9,
    "start_time": "2024-03-13T16:52:42.016Z"
   },
   {
    "duration": 10,
    "start_time": "2024-03-13T16:56:26.725Z"
   },
   {
    "duration": 9267,
    "start_time": "2024-03-13T17:00:29.737Z"
   },
   {
    "duration": 9235,
    "start_time": "2024-03-13T17:01:04.170Z"
   },
   {
    "duration": 10,
    "start_time": "2024-03-13T17:01:18.291Z"
   },
   {
    "duration": 10193,
    "start_time": "2024-03-13T17:11:59.818Z"
   },
   {
    "duration": 1301,
    "start_time": "2024-03-13T17:12:10.013Z"
   },
   {
    "duration": 16,
    "start_time": "2024-03-13T17:12:11.315Z"
   },
   {
    "duration": 926,
    "start_time": "2024-03-13T17:12:11.333Z"
   },
   {
    "duration": 4,
    "start_time": "2024-03-13T17:12:12.260Z"
   },
   {
    "duration": 926,
    "start_time": "2024-03-13T17:12:12.266Z"
   },
   {
    "duration": 435,
    "start_time": "2024-03-13T17:12:13.194Z"
   },
   {
    "duration": 36,
    "start_time": "2024-03-13T17:12:13.630Z"
   },
   {
    "duration": 64,
    "start_time": "2024-03-13T17:12:13.667Z"
   },
   {
    "duration": 4,
    "start_time": "2024-03-13T17:12:13.734Z"
   },
   {
    "duration": 52,
    "start_time": "2024-03-13T17:12:13.740Z"
   },
   {
    "duration": 183,
    "start_time": "2024-03-13T17:12:13.793Z"
   },
   {
    "duration": 201,
    "start_time": "2024-03-13T17:12:13.978Z"
   },
   {
    "duration": 118,
    "start_time": "2024-03-13T17:12:14.180Z"
   },
   {
    "duration": 211,
    "start_time": "2024-03-13T17:12:14.299Z"
   },
   {
    "duration": 153,
    "start_time": "2024-03-13T17:12:14.511Z"
   },
   {
    "duration": 182,
    "start_time": "2024-03-13T17:12:14.666Z"
   },
   {
    "duration": 115,
    "start_time": "2024-03-13T17:12:14.849Z"
   },
   {
    "duration": 140,
    "start_time": "2024-03-13T17:12:14.965Z"
   },
   {
    "duration": 127,
    "start_time": "2024-03-13T17:12:15.106Z"
   },
   {
    "duration": 616,
    "start_time": "2024-03-13T17:12:15.235Z"
   },
   {
    "duration": 14,
    "start_time": "2024-03-13T17:12:15.853Z"
   },
   {
    "duration": 50,
    "start_time": "2024-03-13T17:12:15.868Z"
   },
   {
    "duration": 82,
    "start_time": "2024-03-13T17:12:15.919Z"
   },
   {
    "duration": 44,
    "start_time": "2024-03-13T17:12:16.002Z"
   },
   {
    "duration": 37,
    "start_time": "2024-03-13T17:12:16.047Z"
   },
   {
    "duration": 535,
    "start_time": "2024-03-13T17:12:16.086Z"
   },
   {
    "duration": 2,
    "start_time": "2024-03-13T17:12:16.625Z"
   },
   {
    "duration": 28,
    "start_time": "2024-03-13T17:12:16.628Z"
   },
   {
    "duration": 33,
    "start_time": "2024-03-13T17:12:16.657Z"
   },
   {
    "duration": 5,
    "start_time": "2024-03-13T17:12:16.691Z"
   },
   {
    "duration": 20,
    "start_time": "2024-03-13T17:12:16.698Z"
   },
   {
    "duration": 34,
    "start_time": "2024-03-13T17:12:16.719Z"
   },
   {
    "duration": 3,
    "start_time": "2024-03-13T17:12:16.755Z"
   },
   {
    "duration": 13,
    "start_time": "2024-03-13T17:12:16.759Z"
   },
   {
    "duration": 834,
    "start_time": "2024-03-13T17:12:16.786Z"
   },
   {
    "duration": 91,
    "start_time": "2024-03-13T17:12:17.622Z"
   },
   {
    "duration": 4,
    "start_time": "2024-03-13T17:12:17.714Z"
   },
   {
    "duration": 33,
    "start_time": "2024-03-13T17:12:17.719Z"
   },
   {
    "duration": 355,
    "start_time": "2024-03-13T17:12:17.754Z"
   },
   {
    "duration": 86,
    "start_time": "2024-03-13T17:12:18.110Z"
   },
   {
    "duration": 11083,
    "start_time": "2024-03-13T17:12:18.198Z"
   },
   {
    "duration": 0,
    "start_time": "2024-03-13T17:12:29.283Z"
   },
   {
    "duration": 0,
    "start_time": "2024-03-13T17:12:29.287Z"
   },
   {
    "duration": 0,
    "start_time": "2024-03-13T17:12:29.288Z"
   },
   {
    "duration": 0,
    "start_time": "2024-03-13T17:12:29.289Z"
   },
   {
    "duration": 0,
    "start_time": "2024-03-13T17:12:29.290Z"
   },
   {
    "duration": 0,
    "start_time": "2024-03-13T17:12:29.291Z"
   },
   {
    "duration": 0,
    "start_time": "2024-03-13T17:12:29.292Z"
   },
   {
    "duration": 9945,
    "start_time": "2024-03-13T17:12:33.474Z"
   },
   {
    "duration": 1315,
    "start_time": "2024-03-13T17:12:43.422Z"
   },
   {
    "duration": 15,
    "start_time": "2024-03-13T17:12:44.739Z"
   },
   {
    "duration": 934,
    "start_time": "2024-03-13T17:12:44.755Z"
   },
   {
    "duration": 5,
    "start_time": "2024-03-13T17:12:45.690Z"
   },
   {
    "duration": 950,
    "start_time": "2024-03-13T17:12:45.697Z"
   },
   {
    "duration": 460,
    "start_time": "2024-03-13T17:12:46.649Z"
   },
   {
    "duration": 37,
    "start_time": "2024-03-13T17:12:47.111Z"
   },
   {
    "duration": 77,
    "start_time": "2024-03-13T17:12:47.150Z"
   },
   {
    "duration": 5,
    "start_time": "2024-03-13T17:12:47.230Z"
   },
   {
    "duration": 64,
    "start_time": "2024-03-13T17:12:47.237Z"
   },
   {
    "duration": 185,
    "start_time": "2024-03-13T17:12:47.302Z"
   },
   {
    "duration": 198,
    "start_time": "2024-03-13T17:12:47.489Z"
   },
   {
    "duration": 113,
    "start_time": "2024-03-13T17:12:47.689Z"
   },
   {
    "duration": 195,
    "start_time": "2024-03-13T17:12:47.804Z"
   },
   {
    "duration": 151,
    "start_time": "2024-03-13T17:12:48.000Z"
   },
   {
    "duration": 169,
    "start_time": "2024-03-13T17:12:48.153Z"
   },
   {
    "duration": 121,
    "start_time": "2024-03-13T17:12:48.324Z"
   },
   {
    "duration": 139,
    "start_time": "2024-03-13T17:12:48.447Z"
   },
   {
    "duration": 118,
    "start_time": "2024-03-13T17:12:48.588Z"
   },
   {
    "duration": 579,
    "start_time": "2024-03-13T17:12:48.708Z"
   },
   {
    "duration": 14,
    "start_time": "2024-03-13T17:12:49.289Z"
   },
   {
    "duration": 16,
    "start_time": "2024-03-13T17:12:49.304Z"
   },
   {
    "duration": 37,
    "start_time": "2024-03-13T17:12:49.322Z"
   },
   {
    "duration": 45,
    "start_time": "2024-03-13T17:12:49.360Z"
   },
   {
    "duration": 38,
    "start_time": "2024-03-13T17:12:49.406Z"
   },
   {
    "duration": 532,
    "start_time": "2024-03-13T17:12:49.445Z"
   },
   {
    "duration": 70147,
    "start_time": "2024-03-13T17:12:49.981Z"
   },
   {
    "duration": 3,
    "start_time": "2024-03-13T17:14:00.130Z"
   },
   {
    "duration": 69,
    "start_time": "2024-03-13T17:14:00.135Z"
   },
   {
    "duration": 38,
    "start_time": "2024-03-13T17:14:00.206Z"
   },
   {
    "duration": 84,
    "start_time": "2024-03-13T17:14:00.246Z"
   },
   {
    "duration": 60,
    "start_time": "2024-03-13T17:14:00.332Z"
   },
   {
    "duration": 14,
    "start_time": "2024-03-13T17:14:00.394Z"
   },
   {
    "duration": 54,
    "start_time": "2024-03-13T17:14:00.409Z"
   },
   {
    "duration": 893,
    "start_time": "2024-03-13T17:14:00.464Z"
   },
   {
    "duration": 100,
    "start_time": "2024-03-13T17:14:01.359Z"
   },
   {
    "duration": 4,
    "start_time": "2024-03-13T17:14:01.460Z"
   },
   {
    "duration": 113,
    "start_time": "2024-03-13T17:14:01.465Z"
   },
   {
    "duration": 376,
    "start_time": "2024-03-13T17:14:01.580Z"
   },
   {
    "duration": 130,
    "start_time": "2024-03-13T17:14:01.958Z"
   },
   {
    "duration": 20020,
    "start_time": "2024-03-13T17:14:02.090Z"
   },
   {
    "duration": 1349,
    "start_time": "2024-03-13T17:14:22.111Z"
   },
   {
    "duration": 94,
    "start_time": "2024-03-13T17:14:23.461Z"
   },
   {
    "duration": 123,
    "start_time": "2024-03-13T17:14:23.556Z"
   },
   {
    "duration": 422418,
    "start_time": "2024-03-13T17:14:23.680Z"
   },
   {
    "duration": 9190,
    "start_time": "2024-03-13T17:21:26.100Z"
   },
   {
    "duration": 11,
    "start_time": "2024-03-13T17:21:35.292Z"
   },
   {
    "duration": 9186,
    "start_time": "2024-03-13T17:21:35.305Z"
   },
   {
    "duration": 203,
    "start_time": "2024-03-13T17:50:06.211Z"
   },
   {
    "duration": 12134,
    "start_time": "2024-03-13T17:50:25.672Z"
   },
   {
    "duration": 11250,
    "start_time": "2024-03-13T17:51:45.253Z"
   },
   {
    "duration": 10991,
    "start_time": "2024-03-13T17:52:37.807Z"
   },
   {
    "duration": 9168,
    "start_time": "2024-03-13T17:53:38.633Z"
   },
   {
    "duration": 12955,
    "start_time": "2024-03-14T17:47:27.174Z"
   },
   {
    "duration": 1383,
    "start_time": "2024-03-14T17:47:40.131Z"
   },
   {
    "duration": 15,
    "start_time": "2024-03-14T17:47:41.516Z"
   },
   {
    "duration": 1146,
    "start_time": "2024-03-14T17:47:41.532Z"
   },
   {
    "duration": 5,
    "start_time": "2024-03-14T17:47:42.680Z"
   },
   {
    "duration": 904,
    "start_time": "2024-03-14T17:47:42.686Z"
   },
   {
    "duration": 439,
    "start_time": "2024-03-14T17:47:43.591Z"
   },
   {
    "duration": 41,
    "start_time": "2024-03-14T17:47:44.032Z"
   },
   {
    "duration": 57,
    "start_time": "2024-03-14T17:47:44.074Z"
   },
   {
    "duration": 5,
    "start_time": "2024-03-14T17:47:44.133Z"
   },
   {
    "duration": 56,
    "start_time": "2024-03-14T17:47:44.140Z"
   },
   {
    "duration": 178,
    "start_time": "2024-03-14T17:47:44.197Z"
   },
   {
    "duration": 182,
    "start_time": "2024-03-14T17:47:44.376Z"
   },
   {
    "duration": 107,
    "start_time": "2024-03-14T17:47:44.560Z"
   },
   {
    "duration": 188,
    "start_time": "2024-03-14T17:47:44.668Z"
   },
   {
    "duration": 146,
    "start_time": "2024-03-14T17:47:44.858Z"
   },
   {
    "duration": 164,
    "start_time": "2024-03-14T17:47:45.006Z"
   },
   {
    "duration": 108,
    "start_time": "2024-03-14T17:47:45.172Z"
   },
   {
    "duration": 123,
    "start_time": "2024-03-14T17:47:45.281Z"
   },
   {
    "duration": 94,
    "start_time": "2024-03-14T17:47:45.405Z"
   },
   {
    "duration": 596,
    "start_time": "2024-03-14T17:47:45.500Z"
   },
   {
    "duration": 13,
    "start_time": "2024-03-14T17:47:46.098Z"
   },
   {
    "duration": 8,
    "start_time": "2024-03-14T17:47:46.112Z"
   },
   {
    "duration": 48,
    "start_time": "2024-03-14T17:47:46.122Z"
   },
   {
    "duration": 31,
    "start_time": "2024-03-14T17:47:46.171Z"
   },
   {
    "duration": 36,
    "start_time": "2024-03-14T17:47:46.204Z"
   },
   {
    "duration": 25,
    "start_time": "2024-03-14T17:47:46.241Z"
   },
   {
    "duration": 69091,
    "start_time": "2024-03-14T17:47:46.269Z"
   },
   {
    "duration": 3,
    "start_time": "2024-03-14T17:48:55.361Z"
   },
   {
    "duration": 30,
    "start_time": "2024-03-14T17:48:55.365Z"
   },
   {
    "duration": 4,
    "start_time": "2024-03-14T17:48:55.396Z"
   },
   {
    "duration": 26,
    "start_time": "2024-03-14T17:48:55.402Z"
   },
   {
    "duration": 55,
    "start_time": "2024-03-14T17:48:55.429Z"
   },
   {
    "duration": 3,
    "start_time": "2024-03-14T17:48:55.485Z"
   },
   {
    "duration": 5,
    "start_time": "2024-03-14T17:48:55.489Z"
   },
   {
    "duration": 782,
    "start_time": "2024-03-14T17:48:55.495Z"
   },
   {
    "duration": 501,
    "start_time": "2024-03-14T17:48:56.279Z"
   },
   {
    "duration": 10053,
    "start_time": "2024-03-14T18:01:43.139Z"
   },
   {
    "duration": 4,
    "start_time": "2024-03-14T18:01:53.194Z"
   },
   {
    "duration": 19,
    "start_time": "2024-03-14T18:01:53.200Z"
   },
   {
    "duration": 906,
    "start_time": "2024-03-14T18:01:53.221Z"
   },
   {
    "duration": 5,
    "start_time": "2024-03-14T18:01:54.129Z"
   },
   {
    "duration": 878,
    "start_time": "2024-03-14T18:01:54.135Z"
   },
   {
    "duration": 381,
    "start_time": "2024-03-14T18:01:55.015Z"
   },
   {
    "duration": 34,
    "start_time": "2024-03-14T18:01:55.398Z"
   },
   {
    "duration": 71,
    "start_time": "2024-03-14T18:01:55.434Z"
   },
   {
    "duration": 5,
    "start_time": "2024-03-14T18:01:55.508Z"
   },
   {
    "duration": 37,
    "start_time": "2024-03-14T18:01:55.514Z"
   },
   {
    "duration": 170,
    "start_time": "2024-03-14T18:01:55.565Z"
   },
   {
    "duration": 4545,
    "start_time": "2024-03-14T18:01:55.736Z"
   },
   {
    "duration": 116,
    "start_time": "2024-03-14T18:02:00.283Z"
   },
   {
    "duration": 128,
    "start_time": "2024-03-14T18:02:00.401Z"
   },
   {
    "duration": 146,
    "start_time": "2024-03-14T18:02:00.531Z"
   },
   {
    "duration": 169,
    "start_time": "2024-03-14T18:02:00.679Z"
   },
   {
    "duration": 101,
    "start_time": "2024-03-14T18:02:00.849Z"
   },
   {
    "duration": 136,
    "start_time": "2024-03-14T18:02:00.952Z"
   },
   {
    "duration": 106,
    "start_time": "2024-03-14T18:02:01.089Z"
   },
   {
    "duration": 500,
    "start_time": "2024-03-14T18:02:01.197Z"
   },
   {
    "duration": 14,
    "start_time": "2024-03-14T18:02:01.698Z"
   },
   {
    "duration": 53,
    "start_time": "2024-03-14T18:02:01.714Z"
   },
   {
    "duration": 113,
    "start_time": "2024-03-14T18:02:01.769Z"
   },
   {
    "duration": 72,
    "start_time": "2024-03-14T18:02:01.883Z"
   },
   {
    "duration": 82,
    "start_time": "2024-03-14T18:02:01.957Z"
   },
   {
    "duration": 5,
    "start_time": "2024-03-14T18:02:02.041Z"
   },
   {
    "duration": 39,
    "start_time": "2024-03-14T18:02:02.049Z"
   },
   {
    "duration": 30,
    "start_time": "2024-03-14T18:02:02.090Z"
   },
   {
    "duration": 68,
    "start_time": "2024-03-14T18:02:02.122Z"
   },
   {
    "duration": 6,
    "start_time": "2024-03-14T18:02:02.192Z"
   },
   {
    "duration": 35,
    "start_time": "2024-03-14T18:02:02.199Z"
   },
   {
    "duration": 36,
    "start_time": "2024-03-14T18:02:02.236Z"
   },
   {
    "duration": 3,
    "start_time": "2024-03-14T18:02:02.273Z"
   },
   {
    "duration": 16,
    "start_time": "2024-03-14T18:02:02.277Z"
   },
   {
    "duration": 812,
    "start_time": "2024-03-14T18:02:02.295Z"
   },
   {
    "duration": 513,
    "start_time": "2024-03-14T18:02:03.109Z"
   },
   {
    "duration": 95,
    "start_time": "2024-03-14T18:02:03.624Z"
   },
   {
    "duration": 4,
    "start_time": "2024-03-14T18:02:03.720Z"
   },
   {
    "duration": 29,
    "start_time": "2024-03-14T18:02:03.726Z"
   },
   {
    "duration": 72,
    "start_time": "2024-03-14T18:02:03.756Z"
   },
   {
    "duration": 0,
    "start_time": "2024-03-14T18:02:03.830Z"
   },
   {
    "duration": 359,
    "start_time": "2024-03-14T18:03:39.332Z"
   },
   {
    "duration": 146,
    "start_time": "2024-03-14T18:03:42.920Z"
   },
   {
    "duration": 9430,
    "start_time": "2024-03-14T18:09:49.721Z"
   },
   {
    "duration": 4,
    "start_time": "2024-03-14T18:09:59.154Z"
   },
   {
    "duration": 15,
    "start_time": "2024-03-14T18:09:59.160Z"
   },
   {
    "duration": 858,
    "start_time": "2024-03-14T18:09:59.177Z"
   },
   {
    "duration": 5,
    "start_time": "2024-03-14T18:10:00.037Z"
   },
   {
    "duration": 884,
    "start_time": "2024-03-14T18:10:00.043Z"
   },
   {
    "duration": 371,
    "start_time": "2024-03-14T18:10:00.928Z"
   },
   {
    "duration": 38,
    "start_time": "2024-03-14T18:10:01.301Z"
   },
   {
    "duration": 72,
    "start_time": "2024-03-14T18:10:01.341Z"
   },
   {
    "duration": 10,
    "start_time": "2024-03-14T18:10:01.416Z"
   },
   {
    "duration": 91,
    "start_time": "2024-03-14T18:10:01.428Z"
   },
   {
    "duration": 315,
    "start_time": "2024-03-14T18:10:01.521Z"
   },
   {
    "duration": 185,
    "start_time": "2024-03-14T18:10:01.837Z"
   },
   {
    "duration": 109,
    "start_time": "2024-03-14T18:10:02.023Z"
   },
   {
    "duration": 135,
    "start_time": "2024-03-14T18:10:02.134Z"
   },
   {
    "duration": 146,
    "start_time": "2024-03-14T18:10:02.271Z"
   },
   {
    "duration": 164,
    "start_time": "2024-03-14T18:10:02.418Z"
   },
   {
    "duration": 112,
    "start_time": "2024-03-14T18:10:02.584Z"
   },
   {
    "duration": 125,
    "start_time": "2024-03-14T18:10:02.698Z"
   },
   {
    "duration": 107,
    "start_time": "2024-03-14T18:10:02.825Z"
   },
   {
    "duration": 520,
    "start_time": "2024-03-14T18:10:02.933Z"
   },
   {
    "duration": 15,
    "start_time": "2024-03-14T18:10:03.454Z"
   },
   {
    "duration": 12,
    "start_time": "2024-03-14T18:10:03.470Z"
   },
   {
    "duration": 30,
    "start_time": "2024-03-14T18:10:03.483Z"
   },
   {
    "duration": 26,
    "start_time": "2024-03-14T18:10:03.514Z"
   },
   {
    "duration": 52,
    "start_time": "2024-03-14T18:10:03.542Z"
   },
   {
    "duration": 4,
    "start_time": "2024-03-14T18:10:03.595Z"
   },
   {
    "duration": 16,
    "start_time": "2024-03-14T18:10:03.602Z"
   },
   {
    "duration": 19,
    "start_time": "2024-03-14T18:10:03.620Z"
   },
   {
    "duration": 27,
    "start_time": "2024-03-14T18:10:03.641Z"
   },
   {
    "duration": 4,
    "start_time": "2024-03-14T18:10:03.669Z"
   },
   {
    "duration": 16,
    "start_time": "2024-03-14T18:10:03.675Z"
   },
   {
    "duration": 39,
    "start_time": "2024-03-14T18:10:03.692Z"
   },
   {
    "duration": 3,
    "start_time": "2024-03-14T18:10:03.732Z"
   },
   {
    "duration": 30,
    "start_time": "2024-03-14T18:10:03.736Z"
   },
   {
    "duration": 761,
    "start_time": "2024-03-14T18:10:03.768Z"
   },
   {
    "duration": 492,
    "start_time": "2024-03-14T18:10:04.531Z"
   },
   {
    "duration": 63,
    "start_time": "2024-03-14T18:10:05.025Z"
   },
   {
    "duration": 4,
    "start_time": "2024-03-14T18:10:05.089Z"
   },
   {
    "duration": 17,
    "start_time": "2024-03-14T18:10:05.094Z"
   },
   {
    "duration": 378,
    "start_time": "2024-03-14T18:10:05.113Z"
   },
   {
    "duration": 125,
    "start_time": "2024-03-14T18:10:05.493Z"
   },
   {
    "duration": 75,
    "start_time": "2024-03-14T18:13:04.268Z"
   },
   {
    "duration": 2120,
    "start_time": "2024-03-14T18:13:14.564Z"
   },
   {
    "duration": 2075,
    "start_time": "2024-03-14T18:14:50.108Z"
   },
   {
    "duration": 2012,
    "start_time": "2024-03-14T18:16:54.373Z"
   },
   {
    "duration": 9461,
    "start_time": "2024-03-14T18:19:09.071Z"
   },
   {
    "duration": 4,
    "start_time": "2024-03-14T18:19:18.534Z"
   },
   {
    "duration": 17,
    "start_time": "2024-03-14T18:19:18.540Z"
   },
   {
    "duration": 885,
    "start_time": "2024-03-14T18:19:18.559Z"
   },
   {
    "duration": 6,
    "start_time": "2024-03-14T18:19:19.445Z"
   },
   {
    "duration": 905,
    "start_time": "2024-03-14T18:19:19.452Z"
   },
   {
    "duration": 412,
    "start_time": "2024-03-14T18:19:20.359Z"
   },
   {
    "duration": 31,
    "start_time": "2024-03-14T18:19:20.772Z"
   },
   {
    "duration": 68,
    "start_time": "2024-03-14T18:19:20.805Z"
   },
   {
    "duration": 6,
    "start_time": "2024-03-14T18:19:20.876Z"
   },
   {
    "duration": 37,
    "start_time": "2024-03-14T18:19:20.883Z"
   },
   {
    "duration": 268,
    "start_time": "2024-03-14T18:19:20.922Z"
   },
   {
    "duration": 173,
    "start_time": "2024-03-14T18:19:21.192Z"
   },
   {
    "duration": 101,
    "start_time": "2024-03-14T18:19:21.366Z"
   },
   {
    "duration": 119,
    "start_time": "2024-03-14T18:19:21.468Z"
   },
   {
    "duration": 150,
    "start_time": "2024-03-14T18:19:21.588Z"
   },
   {
    "duration": 180,
    "start_time": "2024-03-14T18:19:21.740Z"
   },
   {
    "duration": 111,
    "start_time": "2024-03-14T18:19:21.921Z"
   },
   {
    "duration": 135,
    "start_time": "2024-03-14T18:19:22.034Z"
   },
   {
    "duration": 100,
    "start_time": "2024-03-14T18:19:22.171Z"
   },
   {
    "duration": 531,
    "start_time": "2024-03-14T18:19:22.272Z"
   },
   {
    "duration": 12,
    "start_time": "2024-03-14T18:19:22.805Z"
   },
   {
    "duration": 14,
    "start_time": "2024-03-14T18:19:22.819Z"
   },
   {
    "duration": 38,
    "start_time": "2024-03-14T18:19:22.835Z"
   },
   {
    "duration": 28,
    "start_time": "2024-03-14T18:19:22.875Z"
   },
   {
    "duration": 34,
    "start_time": "2024-03-14T18:19:22.905Z"
   },
   {
    "duration": 4,
    "start_time": "2024-03-14T18:19:22.940Z"
   },
   {
    "duration": 2,
    "start_time": "2024-03-14T18:19:22.964Z"
   },
   {
    "duration": 7,
    "start_time": "2024-03-14T18:19:22.968Z"
   },
   {
    "duration": 24,
    "start_time": "2024-03-14T18:19:22.976Z"
   },
   {
    "duration": 4,
    "start_time": "2024-03-14T18:19:23.002Z"
   },
   {
    "duration": 18,
    "start_time": "2024-03-14T18:19:23.007Z"
   },
   {
    "duration": 55,
    "start_time": "2024-03-14T18:19:23.026Z"
   },
   {
    "duration": 2,
    "start_time": "2024-03-14T18:19:23.083Z"
   },
   {
    "duration": 7,
    "start_time": "2024-03-14T18:19:23.086Z"
   },
   {
    "duration": 789,
    "start_time": "2024-03-14T18:19:23.094Z"
   },
   {
    "duration": 481,
    "start_time": "2024-03-14T18:19:23.884Z"
   },
   {
    "duration": 56,
    "start_time": "2024-03-14T18:19:24.367Z"
   },
   {
    "duration": 5,
    "start_time": "2024-03-14T18:19:24.425Z"
   },
   {
    "duration": 38,
    "start_time": "2024-03-14T18:19:24.432Z"
   },
   {
    "duration": 351,
    "start_time": "2024-03-14T18:19:24.472Z"
   },
   {
    "duration": 2262,
    "start_time": "2024-03-14T18:19:24.824Z"
   },
   {
    "duration": 23676,
    "start_time": "2024-03-14T18:24:12.892Z"
   },
   {
    "duration": 1631,
    "start_time": "2024-03-14T18:25:28.823Z"
   },
   {
    "duration": 54,
    "start_time": "2024-03-14T18:26:58.298Z"
   },
   {
    "duration": 9588,
    "start_time": "2024-03-14T18:29:07.893Z"
   },
   {
    "duration": 5,
    "start_time": "2024-03-14T18:29:17.484Z"
   },
   {
    "duration": 26,
    "start_time": "2024-03-14T18:29:17.490Z"
   },
   {
    "duration": 842,
    "start_time": "2024-03-14T18:29:17.517Z"
   },
   {
    "duration": 6,
    "start_time": "2024-03-14T18:29:18.364Z"
   },
   {
    "duration": 899,
    "start_time": "2024-03-14T18:29:18.371Z"
   },
   {
    "duration": 390,
    "start_time": "2024-03-14T18:29:19.272Z"
   },
   {
    "duration": 33,
    "start_time": "2024-03-14T18:29:19.664Z"
   },
   {
    "duration": 69,
    "start_time": "2024-03-14T18:29:19.699Z"
   },
   {
    "duration": 6,
    "start_time": "2024-03-14T18:29:19.769Z"
   },
   {
    "duration": 41,
    "start_time": "2024-03-14T18:29:19.776Z"
   },
   {
    "duration": 266,
    "start_time": "2024-03-14T18:29:19.819Z"
   },
   {
    "duration": 180,
    "start_time": "2024-03-14T18:29:20.087Z"
   },
   {
    "duration": 111,
    "start_time": "2024-03-14T18:29:20.270Z"
   },
   {
    "duration": 121,
    "start_time": "2024-03-14T18:29:20.383Z"
   },
   {
    "duration": 151,
    "start_time": "2024-03-14T18:29:20.506Z"
   },
   {
    "duration": 160,
    "start_time": "2024-03-14T18:29:20.658Z"
   },
   {
    "duration": 108,
    "start_time": "2024-03-14T18:29:20.819Z"
   },
   {
    "duration": 124,
    "start_time": "2024-03-14T18:29:20.929Z"
   },
   {
    "duration": 97,
    "start_time": "2024-03-14T18:29:21.055Z"
   },
   {
    "duration": 557,
    "start_time": "2024-03-14T18:29:21.154Z"
   },
   {
    "duration": 13,
    "start_time": "2024-03-14T18:29:21.713Z"
   },
   {
    "duration": 22,
    "start_time": "2024-03-14T18:29:21.728Z"
   },
   {
    "duration": 41,
    "start_time": "2024-03-14T18:29:21.752Z"
   },
   {
    "duration": 30,
    "start_time": "2024-03-14T18:29:21.795Z"
   },
   {
    "duration": 49,
    "start_time": "2024-03-14T18:29:21.827Z"
   },
   {
    "duration": 3,
    "start_time": "2024-03-14T18:29:21.877Z"
   },
   {
    "duration": 5,
    "start_time": "2024-03-14T18:29:21.882Z"
   },
   {
    "duration": 3,
    "start_time": "2024-03-14T18:29:21.889Z"
   },
   {
    "duration": 25,
    "start_time": "2024-03-14T18:29:21.893Z"
   },
   {
    "duration": 4,
    "start_time": "2024-03-14T18:29:21.920Z"
   },
   {
    "duration": 49,
    "start_time": "2024-03-14T18:29:21.925Z"
   },
   {
    "duration": 43,
    "start_time": "2024-03-14T18:29:21.976Z"
   },
   {
    "duration": 2,
    "start_time": "2024-03-14T18:29:22.021Z"
   },
   {
    "duration": 5,
    "start_time": "2024-03-14T18:29:22.025Z"
   },
   {
    "duration": 826,
    "start_time": "2024-03-14T18:29:22.032Z"
   },
   {
    "duration": 517,
    "start_time": "2024-03-14T18:29:22.859Z"
   },
   {
    "duration": 54,
    "start_time": "2024-03-14T18:29:23.378Z"
   },
   {
    "duration": 3,
    "start_time": "2024-03-14T18:29:23.434Z"
   },
   {
    "duration": 45,
    "start_time": "2024-03-14T18:29:23.438Z"
   },
   {
    "duration": 374,
    "start_time": "2024-03-14T18:29:23.487Z"
   },
   {
    "duration": 2209,
    "start_time": "2024-03-14T18:29:23.862Z"
   },
   {
    "duration": 24552,
    "start_time": "2024-03-14T18:29:26.164Z"
   },
   {
    "duration": 1678,
    "start_time": "2024-03-14T18:29:50.718Z"
   },
   {
    "duration": 1721,
    "start_time": "2024-03-14T18:30:14.180Z"
   },
   {
    "duration": 61,
    "start_time": "2024-03-14T18:30:58.853Z"
   },
   {
    "duration": 111,
    "start_time": "2024-03-14T18:31:00.294Z"
   },
   {
    "duration": 122509,
    "start_time": "2024-03-14T18:31:01.358Z"
   },
   {
    "duration": 0,
    "start_time": "2024-03-14T18:33:03.869Z"
   },
   {
    "duration": 0,
    "start_time": "2024-03-14T18:33:03.871Z"
   },
   {
    "duration": 0,
    "start_time": "2024-03-14T18:33:03.872Z"
   },
   {
    "duration": 0,
    "start_time": "2024-03-14T18:33:03.873Z"
   },
   {
    "duration": 0,
    "start_time": "2024-03-14T18:33:03.874Z"
   },
   {
    "duration": 0,
    "start_time": "2024-03-14T18:33:03.875Z"
   },
   {
    "duration": 0,
    "start_time": "2024-03-14T18:33:03.876Z"
   },
   {
    "duration": 0,
    "start_time": "2024-03-14T18:33:03.877Z"
   },
   {
    "duration": 0,
    "start_time": "2024-03-14T18:33:03.878Z"
   },
   {
    "duration": 0,
    "start_time": "2024-03-14T18:33:03.879Z"
   },
   {
    "duration": 0,
    "start_time": "2024-03-14T18:33:03.879Z"
   },
   {
    "duration": 0,
    "start_time": "2024-03-14T18:33:03.880Z"
   },
   {
    "duration": 0,
    "start_time": "2024-03-14T18:33:03.881Z"
   },
   {
    "duration": 0,
    "start_time": "2024-03-14T18:33:03.882Z"
   },
   {
    "duration": 0,
    "start_time": "2024-03-14T18:33:03.883Z"
   },
   {
    "duration": 0,
    "start_time": "2024-03-14T18:33:03.884Z"
   },
   {
    "duration": 0,
    "start_time": "2024-03-14T18:33:03.885Z"
   },
   {
    "duration": 0,
    "start_time": "2024-03-14T18:33:03.886Z"
   },
   {
    "duration": 0,
    "start_time": "2024-03-14T18:33:03.887Z"
   },
   {
    "duration": 0,
    "start_time": "2024-03-14T18:33:03.888Z"
   },
   {
    "duration": 0,
    "start_time": "2024-03-14T18:33:03.889Z"
   },
   {
    "duration": 0,
    "start_time": "2024-03-14T18:33:03.890Z"
   },
   {
    "duration": 0,
    "start_time": "2024-03-14T18:33:03.890Z"
   },
   {
    "duration": 0,
    "start_time": "2024-03-14T18:33:03.892Z"
   },
   {
    "duration": 0,
    "start_time": "2024-03-14T18:33:03.892Z"
   },
   {
    "duration": 0,
    "start_time": "2024-03-14T18:33:03.893Z"
   },
   {
    "duration": 0,
    "start_time": "2024-03-14T18:33:03.894Z"
   },
   {
    "duration": 0,
    "start_time": "2024-03-14T18:33:03.895Z"
   },
   {
    "duration": 0,
    "start_time": "2024-03-14T18:33:03.896Z"
   },
   {
    "duration": 0,
    "start_time": "2024-03-14T18:33:03.897Z"
   },
   {
    "duration": 0,
    "start_time": "2024-03-14T18:33:03.898Z"
   },
   {
    "duration": 0,
    "start_time": "2024-03-14T18:33:03.899Z"
   },
   {
    "duration": 1,
    "start_time": "2024-03-14T18:33:03.899Z"
   },
   {
    "duration": 0,
    "start_time": "2024-03-14T18:33:03.901Z"
   },
   {
    "duration": 0,
    "start_time": "2024-03-14T18:33:03.901Z"
   },
   {
    "duration": 0,
    "start_time": "2024-03-14T18:33:03.902Z"
   },
   {
    "duration": 0,
    "start_time": "2024-03-14T18:33:03.903Z"
   },
   {
    "duration": 0,
    "start_time": "2024-03-14T18:33:03.904Z"
   },
   {
    "duration": 0,
    "start_time": "2024-03-14T18:33:03.905Z"
   },
   {
    "duration": 0,
    "start_time": "2024-03-14T18:33:03.965Z"
   },
   {
    "duration": 0,
    "start_time": "2024-03-14T18:33:03.966Z"
   },
   {
    "duration": 0,
    "start_time": "2024-03-14T18:33:03.967Z"
   },
   {
    "duration": 0,
    "start_time": "2024-03-14T18:33:03.968Z"
   },
   {
    "duration": 0,
    "start_time": "2024-03-14T18:33:03.969Z"
   },
   {
    "duration": 0,
    "start_time": "2024-03-14T18:33:03.970Z"
   },
   {
    "duration": 9912,
    "start_time": "2024-03-14T18:33:04.223Z"
   },
   {
    "duration": 6,
    "start_time": "2024-03-14T18:33:14.138Z"
   },
   {
    "duration": 124,
    "start_time": "2024-03-14T18:33:14.146Z"
   },
   {
    "duration": 851,
    "start_time": "2024-03-14T18:33:14.272Z"
   },
   {
    "duration": 6,
    "start_time": "2024-03-14T18:33:15.125Z"
   },
   {
    "duration": 981,
    "start_time": "2024-03-14T18:33:15.133Z"
   },
   {
    "duration": 407,
    "start_time": "2024-03-14T18:33:16.115Z"
   },
   {
    "duration": 43,
    "start_time": "2024-03-14T18:33:16.524Z"
   },
   {
    "duration": 55,
    "start_time": "2024-03-14T18:33:16.569Z"
   },
   {
    "duration": 5,
    "start_time": "2024-03-14T18:33:16.627Z"
   },
   {
    "duration": 54,
    "start_time": "2024-03-14T18:33:16.633Z"
   },
   {
    "duration": 159,
    "start_time": "2024-03-14T18:33:16.689Z"
   },
   {
    "duration": 183,
    "start_time": "2024-03-14T18:33:16.850Z"
   },
   {
    "duration": 120,
    "start_time": "2024-03-14T18:33:17.035Z"
   },
   {
    "duration": 126,
    "start_time": "2024-03-14T18:33:17.157Z"
   },
   {
    "duration": 151,
    "start_time": "2024-03-14T18:33:17.285Z"
   },
   {
    "duration": 166,
    "start_time": "2024-03-14T18:33:17.438Z"
   },
   {
    "duration": 108,
    "start_time": "2024-03-14T18:33:17.606Z"
   },
   {
    "duration": 130,
    "start_time": "2024-03-14T18:33:17.715Z"
   },
   {
    "duration": 94,
    "start_time": "2024-03-14T18:33:17.847Z"
   },
   {
    "duration": 461,
    "start_time": "2024-03-14T18:33:17.943Z"
   },
   {
    "duration": 13,
    "start_time": "2024-03-14T18:33:18.405Z"
   },
   {
    "duration": 8,
    "start_time": "2024-03-14T18:33:18.420Z"
   },
   {
    "duration": 41,
    "start_time": "2024-03-14T18:33:18.430Z"
   },
   {
    "duration": 29,
    "start_time": "2024-03-14T18:33:18.473Z"
   },
   {
    "duration": 36,
    "start_time": "2024-03-14T18:33:18.504Z"
   },
   {
    "duration": 3,
    "start_time": "2024-03-14T18:33:18.542Z"
   },
   {
    "duration": 3,
    "start_time": "2024-03-14T18:33:18.564Z"
   },
   {
    "duration": 17,
    "start_time": "2024-03-14T18:33:18.568Z"
   },
   {
    "duration": 37,
    "start_time": "2024-03-14T18:33:18.586Z"
   },
   {
    "duration": 5,
    "start_time": "2024-03-14T18:33:18.624Z"
   },
   {
    "duration": 35,
    "start_time": "2024-03-14T18:33:18.630Z"
   },
   {
    "duration": 38,
    "start_time": "2024-03-14T18:33:18.667Z"
   },
   {
    "duration": 2,
    "start_time": "2024-03-14T18:33:18.707Z"
   },
   {
    "duration": 20,
    "start_time": "2024-03-14T18:33:18.711Z"
   },
   {
    "duration": 846,
    "start_time": "2024-03-14T18:33:18.733Z"
   },
   {
    "duration": 543,
    "start_time": "2024-03-14T18:33:19.580Z"
   },
   {
    "duration": 60,
    "start_time": "2024-03-14T18:33:20.124Z"
   },
   {
    "duration": 4,
    "start_time": "2024-03-14T18:33:20.185Z"
   },
   {
    "duration": 27,
    "start_time": "2024-03-14T18:33:20.191Z"
   },
   {
    "duration": 431,
    "start_time": "2024-03-14T18:33:20.219Z"
   },
   {
    "duration": 2242,
    "start_time": "2024-03-14T18:33:20.652Z"
   },
   {
    "duration": 23873,
    "start_time": "2024-03-14T18:33:22.896Z"
   },
   {
    "duration": 1676,
    "start_time": "2024-03-14T18:33:46.770Z"
   },
   {
    "duration": 57,
    "start_time": "2024-03-14T18:33:48.447Z"
   },
   {
    "duration": 117,
    "start_time": "2024-03-14T18:33:48.506Z"
   },
   {
    "duration": 12635,
    "start_time": "2024-03-14T18:34:27.949Z"
   },
   {
    "duration": 52,
    "start_time": "2024-03-14T18:35:05.617Z"
   },
   {
    "duration": 106,
    "start_time": "2024-03-14T18:35:06.883Z"
   },
   {
    "duration": 9323,
    "start_time": "2024-03-14T18:35:45.485Z"
   },
   {
    "duration": 1205,
    "start_time": "2024-03-14T18:35:54.810Z"
   },
   {
    "duration": 15,
    "start_time": "2024-03-14T18:35:56.017Z"
   },
   {
    "duration": 890,
    "start_time": "2024-03-14T18:35:56.034Z"
   },
   {
    "duration": 5,
    "start_time": "2024-03-14T18:35:56.925Z"
   },
   {
    "duration": 924,
    "start_time": "2024-03-14T18:35:56.931Z"
   },
   {
    "duration": 438,
    "start_time": "2024-03-14T18:35:57.856Z"
   },
   {
    "duration": 40,
    "start_time": "2024-03-14T18:35:58.296Z"
   },
   {
    "duration": 70,
    "start_time": "2024-03-14T18:35:58.338Z"
   },
   {
    "duration": 4,
    "start_time": "2024-03-14T18:35:58.411Z"
   },
   {
    "duration": 49,
    "start_time": "2024-03-14T18:35:58.417Z"
   },
   {
    "duration": 177,
    "start_time": "2024-03-14T18:35:58.467Z"
   },
   {
    "duration": 172,
    "start_time": "2024-03-14T18:35:58.646Z"
   },
   {
    "duration": 130,
    "start_time": "2024-03-14T18:35:58.819Z"
   },
   {
    "duration": 201,
    "start_time": "2024-03-14T18:35:58.951Z"
   },
   {
    "duration": 148,
    "start_time": "2024-03-14T18:35:59.153Z"
   },
   {
    "duration": 160,
    "start_time": "2024-03-14T18:35:59.302Z"
   },
   {
    "duration": 102,
    "start_time": "2024-03-14T18:35:59.464Z"
   },
   {
    "duration": 125,
    "start_time": "2024-03-14T18:35:59.568Z"
   },
   {
    "duration": 105,
    "start_time": "2024-03-14T18:35:59.695Z"
   },
   {
    "duration": 588,
    "start_time": "2024-03-14T18:35:59.801Z"
   },
   {
    "duration": 14,
    "start_time": "2024-03-14T18:36:00.391Z"
   },
   {
    "duration": 59,
    "start_time": "2024-03-14T18:36:00.406Z"
   },
   {
    "duration": 57,
    "start_time": "2024-03-14T18:36:00.467Z"
   },
   {
    "duration": 70,
    "start_time": "2024-03-14T18:36:00.526Z"
   },
   {
    "duration": 67,
    "start_time": "2024-03-14T18:36:00.597Z"
   },
   {
    "duration": 11,
    "start_time": "2024-03-14T18:36:00.666Z"
   },
   {
    "duration": 63,
    "start_time": "2024-03-14T18:36:00.680Z"
   },
   {
    "duration": 55,
    "start_time": "2024-03-14T18:36:00.745Z"
   },
   {
    "duration": 103,
    "start_time": "2024-03-14T18:36:00.802Z"
   },
   {
    "duration": 19,
    "start_time": "2024-03-14T18:36:00.906Z"
   },
   {
    "duration": 74,
    "start_time": "2024-03-14T18:36:00.926Z"
   },
   {
    "duration": 47,
    "start_time": "2024-03-14T18:36:01.001Z"
   },
   {
    "duration": 9,
    "start_time": "2024-03-14T18:36:01.049Z"
   },
   {
    "duration": 38,
    "start_time": "2024-03-14T18:36:01.059Z"
   },
   {
    "duration": 827,
    "start_time": "2024-03-14T18:36:01.099Z"
   },
   {
    "duration": 528,
    "start_time": "2024-03-14T18:36:01.927Z"
   },
   {
    "duration": 53,
    "start_time": "2024-03-14T18:36:02.457Z"
   },
   {
    "duration": 4,
    "start_time": "2024-03-14T18:36:02.511Z"
   },
   {
    "duration": 38,
    "start_time": "2024-03-14T18:36:02.516Z"
   },
   {
    "duration": 358,
    "start_time": "2024-03-14T18:36:02.555Z"
   },
   {
    "duration": 2254,
    "start_time": "2024-03-14T18:36:02.915Z"
   },
   {
    "duration": 0,
    "start_time": "2024-03-14T18:36:05.171Z"
   },
   {
    "duration": 0,
    "start_time": "2024-03-14T18:36:05.172Z"
   },
   {
    "duration": 0,
    "start_time": "2024-03-14T18:36:05.172Z"
   },
   {
    "duration": 0,
    "start_time": "2024-03-14T18:36:05.173Z"
   },
   {
    "duration": 0,
    "start_time": "2024-03-14T18:36:05.174Z"
   },
   {
    "duration": 0,
    "start_time": "2024-03-14T18:36:05.175Z"
   },
   {
    "duration": 0,
    "start_time": "2024-03-14T18:36:05.176Z"
   },
   {
    "duration": 0,
    "start_time": "2024-03-14T18:36:05.177Z"
   },
   {
    "duration": 0,
    "start_time": "2024-03-14T18:36:05.178Z"
   },
   {
    "duration": 52,
    "start_time": "2024-03-14T18:44:34.873Z"
   },
   {
    "duration": 3,
    "start_time": "2024-03-14T18:44:36.023Z"
   },
   {
    "duration": 18,
    "start_time": "2024-03-14T18:44:37.268Z"
   },
   {
    "duration": 307,
    "start_time": "2024-03-14T18:44:40.686Z"
   },
   {
    "duration": 10181,
    "start_time": "2024-03-14T18:47:04.760Z"
   },
   {
    "duration": 1252,
    "start_time": "2024-03-14T18:47:14.943Z"
   },
   {
    "duration": 15,
    "start_time": "2024-03-14T18:47:16.197Z"
   },
   {
    "duration": 893,
    "start_time": "2024-03-14T18:47:16.214Z"
   },
   {
    "duration": 5,
    "start_time": "2024-03-14T18:47:17.108Z"
   },
   {
    "duration": 932,
    "start_time": "2024-03-14T18:47:17.114Z"
   },
   {
    "duration": 454,
    "start_time": "2024-03-14T18:47:18.047Z"
   },
   {
    "duration": 36,
    "start_time": "2024-03-14T18:47:18.502Z"
   },
   {
    "duration": 71,
    "start_time": "2024-03-14T18:47:18.540Z"
   },
   {
    "duration": 5,
    "start_time": "2024-03-14T18:47:18.614Z"
   },
   {
    "duration": 48,
    "start_time": "2024-03-14T18:47:18.620Z"
   },
   {
    "duration": 171,
    "start_time": "2024-03-14T18:47:18.670Z"
   },
   {
    "duration": 204,
    "start_time": "2024-03-14T18:47:18.843Z"
   },
   {
    "duration": 103,
    "start_time": "2024-03-14T18:47:19.049Z"
   },
   {
    "duration": 194,
    "start_time": "2024-03-14T18:47:19.153Z"
   },
   {
    "duration": 150,
    "start_time": "2024-03-14T18:47:19.349Z"
   },
   {
    "duration": 183,
    "start_time": "2024-03-14T18:47:19.501Z"
   },
   {
    "duration": 136,
    "start_time": "2024-03-14T18:47:19.687Z"
   },
   {
    "duration": 131,
    "start_time": "2024-03-14T18:47:19.825Z"
   },
   {
    "duration": 92,
    "start_time": "2024-03-14T18:47:19.958Z"
   },
   {
    "duration": 550,
    "start_time": "2024-03-14T18:47:20.052Z"
   },
   {
    "duration": 12,
    "start_time": "2024-03-14T18:47:20.604Z"
   },
   {
    "duration": 13,
    "start_time": "2024-03-14T18:47:20.617Z"
   },
   {
    "duration": 46,
    "start_time": "2024-03-14T18:47:20.631Z"
   },
   {
    "duration": 30,
    "start_time": "2024-03-14T18:47:20.678Z"
   },
   {
    "duration": 36,
    "start_time": "2024-03-14T18:47:20.710Z"
   },
   {
    "duration": 18,
    "start_time": "2024-03-14T18:47:20.748Z"
   },
   {
    "duration": 3,
    "start_time": "2024-03-14T18:47:20.769Z"
   },
   {
    "duration": 15,
    "start_time": "2024-03-14T18:47:20.773Z"
   },
   {
    "duration": 43,
    "start_time": "2024-03-14T18:47:20.789Z"
   },
   {
    "duration": 5,
    "start_time": "2024-03-14T18:47:20.833Z"
   },
   {
    "duration": 26,
    "start_time": "2024-03-14T18:47:20.839Z"
   },
   {
    "duration": 41,
    "start_time": "2024-03-14T18:47:20.867Z"
   },
   {
    "duration": 3,
    "start_time": "2024-03-14T18:47:20.909Z"
   },
   {
    "duration": 14,
    "start_time": "2024-03-14T18:47:20.913Z"
   },
   {
    "duration": 755,
    "start_time": "2024-03-14T18:47:20.928Z"
   },
   {
    "duration": 519,
    "start_time": "2024-03-14T18:47:21.685Z"
   },
   {
    "duration": 47,
    "start_time": "2024-03-14T18:47:22.206Z"
   },
   {
    "duration": 12,
    "start_time": "2024-03-14T18:47:22.254Z"
   },
   {
    "duration": 123,
    "start_time": "2024-03-14T18:47:22.267Z"
   },
   {
    "duration": 649,
    "start_time": "2024-03-14T18:47:22.392Z"
   },
   {
    "duration": 2129,
    "start_time": "2024-03-14T18:47:23.042Z"
   },
   {
    "duration": 30052,
    "start_time": "2024-03-14T18:47:25.173Z"
   },
   {
    "duration": 2061,
    "start_time": "2024-03-14T18:47:55.226Z"
   },
   {
    "duration": 49,
    "start_time": "2024-03-14T18:47:57.289Z"
   },
   {
    "duration": 115,
    "start_time": "2024-03-14T18:47:57.339Z"
   },
   {
    "duration": 174076,
    "start_time": "2024-03-14T18:47:57.456Z"
   },
   {
    "duration": 0,
    "start_time": "2024-03-14T18:50:51.533Z"
   },
   {
    "duration": 1,
    "start_time": "2024-03-14T18:50:51.534Z"
   },
   {
    "duration": 0,
    "start_time": "2024-03-14T18:50:51.536Z"
   },
   {
    "duration": 0,
    "start_time": "2024-03-14T18:50:51.537Z"
   },
   {
    "duration": 10153,
    "start_time": "2024-03-14T19:31:50.715Z"
   },
   {
    "duration": 1276,
    "start_time": "2024-03-14T19:32:00.870Z"
   },
   {
    "duration": 19,
    "start_time": "2024-03-14T19:32:02.148Z"
   },
   {
    "duration": 906,
    "start_time": "2024-03-14T19:32:02.170Z"
   },
   {
    "duration": 5,
    "start_time": "2024-03-14T19:32:03.078Z"
   },
   {
    "duration": 883,
    "start_time": "2024-03-14T19:32:03.085Z"
   },
   {
    "duration": 377,
    "start_time": "2024-03-14T19:32:03.970Z"
   },
   {
    "duration": 51,
    "start_time": "2024-03-14T19:32:04.349Z"
   },
   {
    "duration": 63,
    "start_time": "2024-03-14T19:32:04.402Z"
   },
   {
    "duration": 4,
    "start_time": "2024-03-14T19:32:04.468Z"
   },
   {
    "duration": 47,
    "start_time": "2024-03-14T19:32:04.474Z"
   },
   {
    "duration": 190,
    "start_time": "2024-03-14T19:32:04.522Z"
   },
   {
    "duration": 172,
    "start_time": "2024-03-14T19:32:04.713Z"
   },
   {
    "duration": 110,
    "start_time": "2024-03-14T19:32:04.886Z"
   },
   {
    "duration": 177,
    "start_time": "2024-03-14T19:32:04.997Z"
   },
   {
    "duration": 144,
    "start_time": "2024-03-14T19:32:05.176Z"
   },
   {
    "duration": 160,
    "start_time": "2024-03-14T19:32:05.321Z"
   },
   {
    "duration": 115,
    "start_time": "2024-03-14T19:32:05.482Z"
   },
   {
    "duration": 130,
    "start_time": "2024-03-14T19:32:05.598Z"
   },
   {
    "duration": 123,
    "start_time": "2024-03-14T19:32:05.730Z"
   },
   {
    "duration": 552,
    "start_time": "2024-03-14T19:32:05.855Z"
   },
   {
    "duration": 13,
    "start_time": "2024-03-14T19:32:06.408Z"
   },
   {
    "duration": 7,
    "start_time": "2024-03-14T19:32:06.423Z"
   },
   {
    "duration": 52,
    "start_time": "2024-03-14T19:32:06.432Z"
   },
   {
    "duration": 30,
    "start_time": "2024-03-14T19:32:06.486Z"
   },
   {
    "duration": 49,
    "start_time": "2024-03-14T19:32:06.517Z"
   },
   {
    "duration": 4,
    "start_time": "2024-03-14T19:32:06.567Z"
   },
   {
    "duration": 12,
    "start_time": "2024-03-14T19:32:06.575Z"
   },
   {
    "duration": 5,
    "start_time": "2024-03-14T19:32:06.588Z"
   },
   {
    "duration": 31,
    "start_time": "2024-03-14T19:32:06.594Z"
   },
   {
    "duration": 4,
    "start_time": "2024-03-14T19:32:06.627Z"
   },
   {
    "duration": 33,
    "start_time": "2024-03-14T19:32:06.632Z"
   },
   {
    "duration": 39,
    "start_time": "2024-03-14T19:32:06.666Z"
   },
   {
    "duration": 3,
    "start_time": "2024-03-14T19:32:06.706Z"
   },
   {
    "duration": 6,
    "start_time": "2024-03-14T19:32:06.710Z"
   },
   {
    "duration": 770,
    "start_time": "2024-03-14T19:32:06.717Z"
   },
   {
    "duration": 516,
    "start_time": "2024-03-14T19:32:07.489Z"
   },
   {
    "duration": 58,
    "start_time": "2024-03-14T19:32:08.007Z"
   },
   {
    "duration": 4,
    "start_time": "2024-03-14T19:32:08.066Z"
   },
   {
    "duration": 94,
    "start_time": "2024-03-14T19:32:08.071Z"
   },
   {
    "duration": 686,
    "start_time": "2024-03-14T19:32:08.167Z"
   },
   {
    "duration": 268,
    "start_time": "2024-03-14T19:32:08.855Z"
   },
   {
    "duration": 0,
    "start_time": "2024-03-14T19:32:09.125Z"
   },
   {
    "duration": 0,
    "start_time": "2024-03-14T19:32:09.126Z"
   },
   {
    "duration": 1,
    "start_time": "2024-03-14T19:32:09.127Z"
   },
   {
    "duration": 0,
    "start_time": "2024-03-14T19:32:09.128Z"
   },
   {
    "duration": 0,
    "start_time": "2024-03-14T19:32:09.129Z"
   },
   {
    "duration": 0,
    "start_time": "2024-03-14T19:32:09.131Z"
   },
   {
    "duration": 0,
    "start_time": "2024-03-14T19:32:09.132Z"
   },
   {
    "duration": 0,
    "start_time": "2024-03-14T19:32:09.133Z"
   },
   {
    "duration": 0,
    "start_time": "2024-03-14T19:32:09.134Z"
   },
   {
    "duration": 1007,
    "start_time": "2024-03-14T19:34:14.175Z"
   },
   {
    "duration": 10053,
    "start_time": "2024-03-14T19:50:08.583Z"
   },
   {
    "duration": 1267,
    "start_time": "2024-03-14T19:50:18.638Z"
   },
   {
    "duration": 14,
    "start_time": "2024-03-14T19:50:19.907Z"
   },
   {
    "duration": 915,
    "start_time": "2024-03-14T19:50:19.923Z"
   },
   {
    "duration": 5,
    "start_time": "2024-03-14T19:50:20.840Z"
   },
   {
    "duration": 901,
    "start_time": "2024-03-14T19:50:20.846Z"
   },
   {
    "duration": 437,
    "start_time": "2024-03-14T19:50:21.749Z"
   },
   {
    "duration": 34,
    "start_time": "2024-03-14T19:50:22.188Z"
   },
   {
    "duration": 68,
    "start_time": "2024-03-14T19:50:22.223Z"
   },
   {
    "duration": 4,
    "start_time": "2024-03-14T19:50:22.293Z"
   },
   {
    "duration": 37,
    "start_time": "2024-03-14T19:50:22.298Z"
   },
   {
    "duration": 172,
    "start_time": "2024-03-14T19:50:22.336Z"
   },
   {
    "duration": 174,
    "start_time": "2024-03-14T19:50:22.509Z"
   },
   {
    "duration": 99,
    "start_time": "2024-03-14T19:50:22.685Z"
   },
   {
    "duration": 182,
    "start_time": "2024-03-14T19:50:22.786Z"
   },
   {
    "duration": 147,
    "start_time": "2024-03-14T19:50:22.970Z"
   },
   {
    "duration": 163,
    "start_time": "2024-03-14T19:50:23.119Z"
   },
   {
    "duration": 102,
    "start_time": "2024-03-14T19:50:23.283Z"
   },
   {
    "duration": 123,
    "start_time": "2024-03-14T19:50:23.386Z"
   },
   {
    "duration": 87,
    "start_time": "2024-03-14T19:50:23.510Z"
   },
   {
    "duration": 563,
    "start_time": "2024-03-14T19:50:23.599Z"
   },
   {
    "duration": 13,
    "start_time": "2024-03-14T19:50:24.165Z"
   },
   {
    "duration": 8,
    "start_time": "2024-03-14T19:50:24.180Z"
   },
   {
    "duration": 45,
    "start_time": "2024-03-14T19:50:24.189Z"
   },
   {
    "duration": 40,
    "start_time": "2024-03-14T19:50:24.236Z"
   },
   {
    "duration": 37,
    "start_time": "2024-03-14T19:50:24.278Z"
   },
   {
    "duration": 3,
    "start_time": "2024-03-14T19:50:24.317Z"
   },
   {
    "duration": 12,
    "start_time": "2024-03-14T19:50:24.322Z"
   },
   {
    "duration": 3,
    "start_time": "2024-03-14T19:50:24.336Z"
   },
   {
    "duration": 48,
    "start_time": "2024-03-14T19:50:24.341Z"
   },
   {
    "duration": 4,
    "start_time": "2024-03-14T19:50:24.391Z"
   },
   {
    "duration": 21,
    "start_time": "2024-03-14T19:50:24.397Z"
   },
   {
    "duration": 65,
    "start_time": "2024-03-14T19:50:24.419Z"
   },
   {
    "duration": 3,
    "start_time": "2024-03-14T19:50:24.486Z"
   },
   {
    "duration": 4,
    "start_time": "2024-03-14T19:50:24.491Z"
   },
   {
    "duration": 778,
    "start_time": "2024-03-14T19:50:24.496Z"
   },
   {
    "duration": 522,
    "start_time": "2024-03-14T19:50:25.276Z"
   },
   {
    "duration": 57,
    "start_time": "2024-03-14T19:50:25.801Z"
   },
   {
    "duration": 5,
    "start_time": "2024-03-14T19:50:25.860Z"
   },
   {
    "duration": 79,
    "start_time": "2024-03-14T19:50:25.867Z"
   },
   {
    "duration": 633,
    "start_time": "2024-03-14T19:50:25.964Z"
   },
   {
    "duration": 1268,
    "start_time": "2024-03-14T19:50:26.599Z"
   },
   {
    "duration": 22893,
    "start_time": "2024-03-14T19:50:27.869Z"
   },
   {
    "duration": 0,
    "start_time": "2024-03-14T19:50:50.765Z"
   },
   {
    "duration": 0,
    "start_time": "2024-03-14T19:50:50.766Z"
   },
   {
    "duration": 0,
    "start_time": "2024-03-14T19:50:50.767Z"
   },
   {
    "duration": 0,
    "start_time": "2024-03-14T19:50:50.768Z"
   },
   {
    "duration": 0,
    "start_time": "2024-03-14T19:50:50.769Z"
   },
   {
    "duration": 0,
    "start_time": "2024-03-14T19:50:50.770Z"
   },
   {
    "duration": 0,
    "start_time": "2024-03-14T19:50:50.771Z"
   },
   {
    "duration": 0,
    "start_time": "2024-03-14T19:50:50.772Z"
   },
   {
    "duration": 22334,
    "start_time": "2024-03-14T19:52:52.157Z"
   },
   {
    "duration": 1789,
    "start_time": "2024-03-14T19:56:22.946Z"
   },
   {
    "duration": 54,
    "start_time": "2024-03-14T19:58:04.624Z"
   },
   {
    "duration": 56,
    "start_time": "2024-03-14T19:58:09.706Z"
   },
   {
    "duration": 31,
    "start_time": "2024-03-14T19:58:19.484Z"
   },
   {
    "duration": 96409,
    "start_time": "2024-03-14T19:58:27.874Z"
   },
   {
    "duration": 9559,
    "start_time": "2024-03-14T20:02:54.220Z"
   },
   {
    "duration": 1227,
    "start_time": "2024-03-14T20:03:03.782Z"
   },
   {
    "duration": 15,
    "start_time": "2024-03-14T20:03:05.011Z"
   },
   {
    "duration": 923,
    "start_time": "2024-03-14T20:03:05.028Z"
   },
   {
    "duration": 12,
    "start_time": "2024-03-14T20:03:05.953Z"
   },
   {
    "duration": 942,
    "start_time": "2024-03-14T20:03:05.966Z"
   },
   {
    "duration": 436,
    "start_time": "2024-03-14T20:03:06.909Z"
   },
   {
    "duration": 45,
    "start_time": "2024-03-14T20:03:07.347Z"
   },
   {
    "duration": 56,
    "start_time": "2024-03-14T20:03:07.393Z"
   },
   {
    "duration": 15,
    "start_time": "2024-03-14T20:03:07.451Z"
   },
   {
    "duration": 46,
    "start_time": "2024-03-14T20:03:07.467Z"
   },
   {
    "duration": 166,
    "start_time": "2024-03-14T20:03:07.515Z"
   },
   {
    "duration": 184,
    "start_time": "2024-03-14T20:03:07.683Z"
   },
   {
    "duration": 111,
    "start_time": "2024-03-14T20:03:07.869Z"
   },
   {
    "duration": 203,
    "start_time": "2024-03-14T20:03:07.981Z"
   },
   {
    "duration": 154,
    "start_time": "2024-03-14T20:03:08.186Z"
   },
   {
    "duration": 162,
    "start_time": "2024-03-14T20:03:08.342Z"
   },
   {
    "duration": 109,
    "start_time": "2024-03-14T20:03:08.506Z"
   },
   {
    "duration": 125,
    "start_time": "2024-03-14T20:03:08.617Z"
   },
   {
    "duration": 95,
    "start_time": "2024-03-14T20:03:08.743Z"
   },
   {
    "duration": 621,
    "start_time": "2024-03-14T20:03:08.839Z"
   },
   {
    "duration": 16,
    "start_time": "2024-03-14T20:03:09.461Z"
   },
   {
    "duration": 26,
    "start_time": "2024-03-14T20:03:09.478Z"
   },
   {
    "duration": 45,
    "start_time": "2024-03-14T20:03:09.506Z"
   },
   {
    "duration": 32,
    "start_time": "2024-03-14T20:03:09.552Z"
   },
   {
    "duration": 37,
    "start_time": "2024-03-14T20:03:09.586Z"
   },
   {
    "duration": 3,
    "start_time": "2024-03-14T20:03:09.625Z"
   },
   {
    "duration": 6,
    "start_time": "2024-03-14T20:03:09.631Z"
   },
   {
    "duration": 11,
    "start_time": "2024-03-14T20:03:09.638Z"
   },
   {
    "duration": 26,
    "start_time": "2024-03-14T20:03:09.664Z"
   },
   {
    "duration": 5,
    "start_time": "2024-03-14T20:03:09.691Z"
   },
   {
    "duration": 24,
    "start_time": "2024-03-14T20:03:09.697Z"
   },
   {
    "duration": 58,
    "start_time": "2024-03-14T20:03:09.723Z"
   },
   {
    "duration": 3,
    "start_time": "2024-03-14T20:03:09.782Z"
   },
   {
    "duration": 5,
    "start_time": "2024-03-14T20:03:09.787Z"
   },
   {
    "duration": 800,
    "start_time": "2024-03-14T20:03:09.793Z"
   },
   {
    "duration": 544,
    "start_time": "2024-03-14T20:03:10.595Z"
   },
   {
    "duration": 60,
    "start_time": "2024-03-14T20:03:11.141Z"
   },
   {
    "duration": 3,
    "start_time": "2024-03-14T20:03:11.202Z"
   },
   {
    "duration": 90,
    "start_time": "2024-03-14T20:03:11.207Z"
   },
   {
    "duration": 674,
    "start_time": "2024-03-14T20:03:11.299Z"
   },
   {
    "duration": 1292,
    "start_time": "2024-03-14T20:03:11.974Z"
   },
   {
    "duration": 23978,
    "start_time": "2024-03-14T20:03:13.268Z"
   },
   {
    "duration": 1982,
    "start_time": "2024-03-14T20:03:37.248Z"
   },
   {
    "duration": 70,
    "start_time": "2024-03-14T20:03:39.232Z"
   },
   {
    "duration": 119,
    "start_time": "2024-03-14T20:03:39.304Z"
   },
   {
    "duration": 197449,
    "start_time": "2024-03-14T20:03:39.425Z"
   },
   {
    "duration": 195191,
    "start_time": "2024-03-14T20:06:56.876Z"
   },
   {
    "duration": 134,
    "start_time": "2024-03-14T20:10:12.069Z"
   },
   {
    "duration": 0,
    "start_time": "2024-03-14T20:10:12.204Z"
   },
   {
    "duration": 0,
    "start_time": "2024-03-14T20:10:12.206Z"
   },
   {
    "duration": 9590,
    "start_time": "2024-03-14T20:46:08.109Z"
   },
   {
    "duration": 7,
    "start_time": "2024-03-14T20:46:17.702Z"
   },
   {
    "duration": 17,
    "start_time": "2024-03-14T20:46:17.711Z"
   },
   {
    "duration": 792,
    "start_time": "2024-03-14T20:46:17.730Z"
   },
   {
    "duration": 5,
    "start_time": "2024-03-14T20:46:18.524Z"
   },
   {
    "duration": 885,
    "start_time": "2024-03-14T20:46:18.530Z"
   },
   {
    "duration": 371,
    "start_time": "2024-03-14T20:46:19.417Z"
   },
   {
    "duration": 32,
    "start_time": "2024-03-14T20:46:19.790Z"
   },
   {
    "duration": 75,
    "start_time": "2024-03-14T20:46:19.823Z"
   },
   {
    "duration": 5,
    "start_time": "2024-03-14T20:46:19.900Z"
   },
   {
    "duration": 48,
    "start_time": "2024-03-14T20:46:19.906Z"
   },
   {
    "duration": 157,
    "start_time": "2024-03-14T20:46:19.955Z"
   },
   {
    "duration": 173,
    "start_time": "2024-03-14T20:46:20.114Z"
   },
   {
    "duration": 213,
    "start_time": "2024-03-14T20:46:20.289Z"
   },
   {
    "duration": 120,
    "start_time": "2024-03-14T20:46:20.503Z"
   },
   {
    "duration": 134,
    "start_time": "2024-03-14T20:46:20.624Z"
   },
   {
    "duration": 156,
    "start_time": "2024-03-14T20:46:20.764Z"
   },
   {
    "duration": 101,
    "start_time": "2024-03-14T20:46:20.921Z"
   },
   {
    "duration": 127,
    "start_time": "2024-03-14T20:46:21.023Z"
   },
   {
    "duration": 95,
    "start_time": "2024-03-14T20:46:21.151Z"
   },
   {
    "duration": 565,
    "start_time": "2024-03-14T20:46:21.247Z"
   },
   {
    "duration": 16,
    "start_time": "2024-03-14T20:46:21.814Z"
   },
   {
    "duration": 10,
    "start_time": "2024-03-14T20:46:21.832Z"
   },
   {
    "duration": 47,
    "start_time": "2024-03-14T20:46:21.844Z"
   },
   {
    "duration": 30,
    "start_time": "2024-03-14T20:46:21.892Z"
   },
   {
    "duration": 47,
    "start_time": "2024-03-14T20:46:21.923Z"
   },
   {
    "duration": 4,
    "start_time": "2024-03-14T20:46:21.972Z"
   },
   {
    "duration": 3,
    "start_time": "2024-03-14T20:46:21.980Z"
   },
   {
    "duration": 8,
    "start_time": "2024-03-14T20:46:21.985Z"
   },
   {
    "duration": 24,
    "start_time": "2024-03-14T20:46:21.994Z"
   },
   {
    "duration": 4,
    "start_time": "2024-03-14T20:46:22.020Z"
   },
   {
    "duration": 47,
    "start_time": "2024-03-14T20:46:22.026Z"
   },
   {
    "duration": 40,
    "start_time": "2024-03-14T20:46:22.075Z"
   },
   {
    "duration": 2,
    "start_time": "2024-03-14T20:46:22.116Z"
   },
   {
    "duration": 5,
    "start_time": "2024-03-14T20:46:22.120Z"
   },
   {
    "duration": 753,
    "start_time": "2024-03-14T20:46:22.126Z"
   },
   {
    "duration": 487,
    "start_time": "2024-03-14T20:46:22.881Z"
   },
   {
    "duration": 55,
    "start_time": "2024-03-14T20:46:23.370Z"
   },
   {
    "duration": 4,
    "start_time": "2024-03-14T20:46:23.426Z"
   },
   {
    "duration": 34,
    "start_time": "2024-03-14T20:46:23.431Z"
   },
   {
    "duration": 324,
    "start_time": "2024-03-14T20:46:23.467Z"
   },
   {
    "duration": 1191,
    "start_time": "2024-03-14T20:46:23.793Z"
   },
   {
    "duration": 9947,
    "start_time": "2024-03-14T20:55:15.220Z"
   },
   {
    "duration": 1238,
    "start_time": "2024-03-14T20:55:25.169Z"
   },
   {
    "duration": 15,
    "start_time": "2024-03-14T20:55:26.411Z"
   },
   {
    "duration": 880,
    "start_time": "2024-03-14T20:55:26.427Z"
   },
   {
    "duration": 5,
    "start_time": "2024-03-14T20:55:27.308Z"
   },
   {
    "duration": 932,
    "start_time": "2024-03-14T20:55:27.314Z"
   },
   {
    "duration": 446,
    "start_time": "2024-03-14T20:55:28.248Z"
   },
   {
    "duration": 36,
    "start_time": "2024-03-14T20:55:28.696Z"
   },
   {
    "duration": 69,
    "start_time": "2024-03-14T20:55:28.736Z"
   },
   {
    "duration": 5,
    "start_time": "2024-03-14T20:55:28.807Z"
   },
   {
    "duration": 54,
    "start_time": "2024-03-14T20:55:28.813Z"
   },
   {
    "duration": 238,
    "start_time": "2024-03-14T20:55:28.869Z"
   },
   {
    "duration": 376,
    "start_time": "2024-03-14T20:55:29.109Z"
   },
   {
    "duration": 212,
    "start_time": "2024-03-14T20:55:29.486Z"
   },
   {
    "duration": 404,
    "start_time": "2024-03-14T20:55:29.699Z"
   },
   {
    "duration": 302,
    "start_time": "2024-03-14T20:55:30.104Z"
   },
   {
    "duration": 160,
    "start_time": "2024-03-14T20:55:30.408Z"
   },
   {
    "duration": 102,
    "start_time": "2024-03-14T20:55:30.570Z"
   },
   {
    "duration": 128,
    "start_time": "2024-03-14T20:55:30.673Z"
   },
   {
    "duration": 109,
    "start_time": "2024-03-14T20:55:30.803Z"
   },
   {
    "duration": 594,
    "start_time": "2024-03-14T20:55:30.914Z"
   },
   {
    "duration": 15,
    "start_time": "2024-03-14T20:55:31.509Z"
   },
   {
    "duration": 58,
    "start_time": "2024-03-14T20:55:31.525Z"
   },
   {
    "duration": 62,
    "start_time": "2024-03-14T20:55:31.584Z"
   },
   {
    "duration": 33,
    "start_time": "2024-03-14T20:55:31.648Z"
   },
   {
    "duration": 38,
    "start_time": "2024-03-14T20:55:31.683Z"
   },
   {
    "duration": 3,
    "start_time": "2024-03-14T20:55:31.725Z"
   },
   {
    "duration": 27,
    "start_time": "2024-03-14T20:55:31.729Z"
   },
   {
    "duration": 27,
    "start_time": "2024-03-14T20:55:31.758Z"
   },
   {
    "duration": 38,
    "start_time": "2024-03-14T20:55:31.786Z"
   },
   {
    "duration": 19,
    "start_time": "2024-03-14T20:55:31.825Z"
   },
   {
    "duration": 36,
    "start_time": "2024-03-14T20:55:31.845Z"
   },
   {
    "duration": 38,
    "start_time": "2024-03-14T20:55:31.883Z"
   },
   {
    "duration": 3,
    "start_time": "2024-03-14T20:55:31.922Z"
   },
   {
    "duration": 12,
    "start_time": "2024-03-14T20:55:31.926Z"
   },
   {
    "duration": 804,
    "start_time": "2024-03-14T20:55:31.939Z"
   },
   {
    "duration": 501,
    "start_time": "2024-03-14T20:55:32.745Z"
   },
   {
    "duration": 62,
    "start_time": "2024-03-14T20:55:33.248Z"
   },
   {
    "duration": 4,
    "start_time": "2024-03-14T20:55:33.311Z"
   },
   {
    "duration": 26,
    "start_time": "2024-03-14T20:55:33.317Z"
   },
   {
    "duration": 353,
    "start_time": "2024-03-14T20:55:33.344Z"
   },
   {
    "duration": 1087,
    "start_time": "2024-03-14T20:55:33.699Z"
   },
   {
    "duration": 23455,
    "start_time": "2024-03-14T20:55:34.788Z"
   },
   {
    "duration": 1628,
    "start_time": "2024-03-14T20:55:58.244Z"
   },
   {
    "duration": 53,
    "start_time": "2024-03-14T20:55:59.874Z"
   },
   {
    "duration": 125,
    "start_time": "2024-03-14T20:55:59.928Z"
   },
   {
    "duration": 165619,
    "start_time": "2024-03-14T20:56:00.054Z"
   },
   {
    "duration": 171298,
    "start_time": "2024-03-14T20:58:45.674Z"
   },
   {
    "duration": 142,
    "start_time": "2024-03-14T21:01:36.974Z"
   },
   {
    "duration": 0,
    "start_time": "2024-03-14T21:01:37.117Z"
   },
   {
    "duration": 0,
    "start_time": "2024-03-14T21:01:37.118Z"
   },
   {
    "duration": 71343,
    "start_time": "2024-03-14T21:03:49.024Z"
   },
   {
    "duration": 9,
    "start_time": "2024-03-14T21:06:34.471Z"
   },
   {
    "duration": 12,
    "start_time": "2024-03-14T21:06:51.171Z"
   },
   {
    "duration": 12503,
    "start_time": "2024-03-14T21:07:16.569Z"
   },
   {
    "duration": 10268,
    "start_time": "2024-03-14T21:12:03.678Z"
   },
   {
    "duration": 1239,
    "start_time": "2024-03-14T21:12:13.948Z"
   },
   {
    "duration": 17,
    "start_time": "2024-03-14T21:12:15.188Z"
   },
   {
    "duration": 977,
    "start_time": "2024-03-14T21:12:15.206Z"
   },
   {
    "duration": 5,
    "start_time": "2024-03-14T21:12:16.185Z"
   },
   {
    "duration": 958,
    "start_time": "2024-03-14T21:12:16.191Z"
   },
   {
    "duration": 440,
    "start_time": "2024-03-14T21:12:17.151Z"
   },
   {
    "duration": 37,
    "start_time": "2024-03-14T21:12:17.592Z"
   },
   {
    "duration": 74,
    "start_time": "2024-03-14T21:12:17.632Z"
   },
   {
    "duration": 6,
    "start_time": "2024-03-14T21:12:17.707Z"
   },
   {
    "duration": 81,
    "start_time": "2024-03-14T21:12:17.715Z"
   },
   {
    "duration": 175,
    "start_time": "2024-03-14T21:12:17.798Z"
   },
   {
    "duration": 178,
    "start_time": "2024-03-14T21:12:17.975Z"
   },
   {
    "duration": 110,
    "start_time": "2024-03-14T21:12:18.156Z"
   },
   {
    "duration": 204,
    "start_time": "2024-03-14T21:12:18.268Z"
   },
   {
    "duration": 172,
    "start_time": "2024-03-14T21:12:18.474Z"
   },
   {
    "duration": 168,
    "start_time": "2024-03-14T21:12:18.648Z"
   },
   {
    "duration": 122,
    "start_time": "2024-03-14T21:12:18.818Z"
   },
   {
    "duration": 165,
    "start_time": "2024-03-14T21:12:18.942Z"
   },
   {
    "duration": 112,
    "start_time": "2024-03-14T21:12:19.109Z"
   },
   {
    "duration": 568,
    "start_time": "2024-03-14T21:12:19.223Z"
   },
   {
    "duration": 14,
    "start_time": "2024-03-14T21:12:19.795Z"
   },
   {
    "duration": 8,
    "start_time": "2024-03-14T21:12:19.810Z"
   },
   {
    "duration": 46,
    "start_time": "2024-03-14T21:12:19.820Z"
   },
   {
    "duration": 31,
    "start_time": "2024-03-14T21:12:19.867Z"
   },
   {
    "duration": 36,
    "start_time": "2024-03-14T21:12:19.899Z"
   },
   {
    "duration": 4,
    "start_time": "2024-03-14T21:12:19.936Z"
   },
   {
    "duration": 24,
    "start_time": "2024-03-14T21:12:19.941Z"
   },
   {
    "duration": 24,
    "start_time": "2024-03-14T21:12:19.967Z"
   },
   {
    "duration": 31,
    "start_time": "2024-03-14T21:12:19.992Z"
   },
   {
    "duration": 10,
    "start_time": "2024-03-14T21:12:20.025Z"
   },
   {
    "duration": 45,
    "start_time": "2024-03-14T21:12:20.037Z"
   },
   {
    "duration": 41,
    "start_time": "2024-03-14T21:12:20.084Z"
   },
   {
    "duration": 2,
    "start_time": "2024-03-14T21:12:20.127Z"
   },
   {
    "duration": 9,
    "start_time": "2024-03-14T21:12:20.130Z"
   },
   {
    "duration": 783,
    "start_time": "2024-03-14T21:12:20.141Z"
   },
   {
    "duration": 506,
    "start_time": "2024-03-14T21:12:20.925Z"
   },
   {
    "duration": 56,
    "start_time": "2024-03-14T21:12:21.433Z"
   },
   {
    "duration": 3,
    "start_time": "2024-03-14T21:12:21.491Z"
   },
   {
    "duration": 35,
    "start_time": "2024-03-14T21:12:21.495Z"
   },
   {
    "duration": 343,
    "start_time": "2024-03-14T21:12:21.533Z"
   },
   {
    "duration": 132,
    "start_time": "2024-03-14T21:12:21.878Z"
   },
   {
    "duration": 0,
    "start_time": "2024-03-14T21:12:22.011Z"
   },
   {
    "duration": 0,
    "start_time": "2024-03-14T21:12:22.012Z"
   },
   {
    "duration": 0,
    "start_time": "2024-03-14T21:12:22.013Z"
   },
   {
    "duration": 0,
    "start_time": "2024-03-14T21:12:22.015Z"
   },
   {
    "duration": 0,
    "start_time": "2024-03-14T21:12:22.016Z"
   },
   {
    "duration": 0,
    "start_time": "2024-03-14T21:12:22.017Z"
   },
   {
    "duration": 0,
    "start_time": "2024-03-14T21:12:22.018Z"
   },
   {
    "duration": 0,
    "start_time": "2024-03-14T21:12:22.020Z"
   },
   {
    "duration": 0,
    "start_time": "2024-03-14T21:12:22.021Z"
   },
   {
    "duration": 20,
    "start_time": "2024-03-14T21:12:29.158Z"
   },
   {
    "duration": 1021,
    "start_time": "2024-03-14T21:12:35.861Z"
   },
   {
    "duration": 9356,
    "start_time": "2024-03-14T21:12:44.590Z"
   },
   {
    "duration": 1231,
    "start_time": "2024-03-14T21:12:53.947Z"
   },
   {
    "duration": 15,
    "start_time": "2024-03-14T21:12:55.180Z"
   },
   {
    "duration": 905,
    "start_time": "2024-03-14T21:12:55.196Z"
   },
   {
    "duration": 5,
    "start_time": "2024-03-14T21:12:56.103Z"
   },
   {
    "duration": 891,
    "start_time": "2024-03-14T21:12:56.110Z"
   },
   {
    "duration": 436,
    "start_time": "2024-03-14T21:12:57.003Z"
   },
   {
    "duration": 45,
    "start_time": "2024-03-14T21:12:57.441Z"
   },
   {
    "duration": 54,
    "start_time": "2024-03-14T21:12:57.487Z"
   },
   {
    "duration": 4,
    "start_time": "2024-03-14T21:12:57.544Z"
   },
   {
    "duration": 42,
    "start_time": "2024-03-14T21:12:57.550Z"
   },
   {
    "duration": 186,
    "start_time": "2024-03-14T21:12:57.594Z"
   },
   {
    "duration": 173,
    "start_time": "2024-03-14T21:12:57.781Z"
   },
   {
    "duration": 101,
    "start_time": "2024-03-14T21:12:57.955Z"
   },
   {
    "duration": 192,
    "start_time": "2024-03-14T21:12:58.057Z"
   },
   {
    "duration": 147,
    "start_time": "2024-03-14T21:12:58.250Z"
   },
   {
    "duration": 175,
    "start_time": "2024-03-14T21:12:58.399Z"
   },
   {
    "duration": 102,
    "start_time": "2024-03-14T21:12:58.575Z"
   },
   {
    "duration": 124,
    "start_time": "2024-03-14T21:12:58.679Z"
   },
   {
    "duration": 106,
    "start_time": "2024-03-14T21:12:58.805Z"
   },
   {
    "duration": 560,
    "start_time": "2024-03-14T21:12:58.913Z"
   },
   {
    "duration": 15,
    "start_time": "2024-03-14T21:12:59.475Z"
   },
   {
    "duration": 8,
    "start_time": "2024-03-14T21:12:59.492Z"
   },
   {
    "duration": 30,
    "start_time": "2024-03-14T21:12:59.502Z"
   },
   {
    "duration": 57,
    "start_time": "2024-03-14T21:12:59.533Z"
   },
   {
    "duration": 41,
    "start_time": "2024-03-14T21:12:59.592Z"
   },
   {
    "duration": 3,
    "start_time": "2024-03-14T21:12:59.635Z"
   },
   {
    "duration": 2,
    "start_time": "2024-03-14T21:12:59.643Z"
   },
   {
    "duration": 3,
    "start_time": "2024-03-14T21:12:59.665Z"
   },
   {
    "duration": 31,
    "start_time": "2024-03-14T21:12:59.670Z"
   },
   {
    "duration": 5,
    "start_time": "2024-03-14T21:12:59.702Z"
   },
   {
    "duration": 19,
    "start_time": "2024-03-14T21:12:59.708Z"
   },
   {
    "duration": 71,
    "start_time": "2024-03-14T21:12:59.729Z"
   },
   {
    "duration": 3,
    "start_time": "2024-03-14T21:12:59.802Z"
   },
   {
    "duration": 6,
    "start_time": "2024-03-14T21:12:59.806Z"
   },
   {
    "duration": 790,
    "start_time": "2024-03-14T21:12:59.814Z"
   },
   {
    "duration": 513,
    "start_time": "2024-03-14T21:13:00.605Z"
   },
   {
    "duration": 58,
    "start_time": "2024-03-14T21:13:01.120Z"
   },
   {
    "duration": 4,
    "start_time": "2024-03-14T21:13:01.180Z"
   },
   {
    "duration": 42,
    "start_time": "2024-03-14T21:13:01.186Z"
   },
   {
    "duration": 344,
    "start_time": "2024-03-14T21:13:01.230Z"
   },
   {
    "duration": 1009,
    "start_time": "2024-03-14T21:13:01.576Z"
   },
   {
    "duration": 22953,
    "start_time": "2024-03-14T21:13:02.587Z"
   },
   {
    "duration": 1571,
    "start_time": "2024-03-14T21:13:25.542Z"
   },
   {
    "duration": 60,
    "start_time": "2024-03-14T21:13:27.114Z"
   },
   {
    "duration": 117,
    "start_time": "2024-03-14T21:13:27.176Z"
   },
   {
    "duration": 165777,
    "start_time": "2024-03-14T21:13:27.295Z"
   },
   {
    "duration": 89893,
    "start_time": "2024-03-14T21:16:13.073Z"
   },
   {
    "duration": 11,
    "start_time": "2024-03-14T21:17:42.968Z"
   },
   {
    "duration": 19610,
    "start_time": "2024-03-14T21:17:42.981Z"
   },
   {
    "duration": 14329,
    "start_time": "2024-03-14T21:18:02.592Z"
   },
   {
    "duration": 13486,
    "start_time": "2024-03-14T21:21:50.602Z"
   },
   {
    "duration": 5,
    "start_time": "2024-03-14T21:22:13.300Z"
   },
   {
    "duration": 12263,
    "start_time": "2024-03-14T21:22:19.007Z"
   },
   {
    "duration": 10063,
    "start_time": "2024-03-14T21:22:50.829Z"
   },
   {
    "duration": 1347,
    "start_time": "2024-03-14T21:23:00.895Z"
   },
   {
    "duration": 15,
    "start_time": "2024-03-14T21:23:02.244Z"
   },
   {
    "duration": 1150,
    "start_time": "2024-03-14T21:23:02.261Z"
   },
   {
    "duration": 5,
    "start_time": "2024-03-14T21:23:03.412Z"
   },
   {
    "duration": 948,
    "start_time": "2024-03-14T21:23:03.418Z"
   },
   {
    "duration": 441,
    "start_time": "2024-03-14T21:23:04.368Z"
   },
   {
    "duration": 36,
    "start_time": "2024-03-14T21:23:04.810Z"
   },
   {
    "duration": 64,
    "start_time": "2024-03-14T21:23:04.848Z"
   },
   {
    "duration": 5,
    "start_time": "2024-03-14T21:23:04.915Z"
   },
   {
    "duration": 51,
    "start_time": "2024-03-14T21:23:04.921Z"
   },
   {
    "duration": 167,
    "start_time": "2024-03-14T21:23:04.974Z"
   },
   {
    "duration": 177,
    "start_time": "2024-03-14T21:23:05.143Z"
   },
   {
    "duration": 101,
    "start_time": "2024-03-14T21:23:05.322Z"
   },
   {
    "duration": 191,
    "start_time": "2024-03-14T21:23:05.425Z"
   },
   {
    "duration": 149,
    "start_time": "2024-03-14T21:23:05.618Z"
   },
   {
    "duration": 171,
    "start_time": "2024-03-14T21:23:05.769Z"
   },
   {
    "duration": 99,
    "start_time": "2024-03-14T21:23:05.941Z"
   },
   {
    "duration": 142,
    "start_time": "2024-03-14T21:23:06.042Z"
   },
   {
    "duration": 97,
    "start_time": "2024-03-14T21:23:06.186Z"
   },
   {
    "duration": 545,
    "start_time": "2024-03-14T21:23:06.284Z"
   },
   {
    "duration": 13,
    "start_time": "2024-03-14T21:23:06.830Z"
   },
   {
    "duration": 22,
    "start_time": "2024-03-14T21:23:06.845Z"
   },
   {
    "duration": 33,
    "start_time": "2024-03-14T21:23:06.869Z"
   },
   {
    "duration": 31,
    "start_time": "2024-03-14T21:23:06.904Z"
   },
   {
    "duration": 55,
    "start_time": "2024-03-14T21:23:06.937Z"
   },
   {
    "duration": 4,
    "start_time": "2024-03-14T21:23:06.993Z"
   },
   {
    "duration": 2,
    "start_time": "2024-03-14T21:23:07.000Z"
   },
   {
    "duration": 5,
    "start_time": "2024-03-14T21:23:07.004Z"
   },
   {
    "duration": 36,
    "start_time": "2024-03-14T21:23:07.010Z"
   },
   {
    "duration": 19,
    "start_time": "2024-03-14T21:23:07.047Z"
   },
   {
    "duration": 16,
    "start_time": "2024-03-14T21:23:07.067Z"
   },
   {
    "duration": 41,
    "start_time": "2024-03-14T21:23:07.084Z"
   },
   {
    "duration": 2,
    "start_time": "2024-03-14T21:23:07.126Z"
   },
   {
    "duration": 6,
    "start_time": "2024-03-14T21:23:07.129Z"
   },
   {
    "duration": 789,
    "start_time": "2024-03-14T21:23:07.136Z"
   },
   {
    "duration": 517,
    "start_time": "2024-03-14T21:23:07.927Z"
   },
   {
    "duration": 58,
    "start_time": "2024-03-14T21:23:08.446Z"
   },
   {
    "duration": 4,
    "start_time": "2024-03-14T21:23:08.505Z"
   },
   {
    "duration": 23,
    "start_time": "2024-03-14T21:23:08.510Z"
   },
   {
    "duration": 355,
    "start_time": "2024-03-14T21:23:08.535Z"
   },
   {
    "duration": 1095,
    "start_time": "2024-03-14T21:23:08.891Z"
   },
   {
    "duration": 22511,
    "start_time": "2024-03-14T21:23:09.987Z"
   },
   {
    "duration": 1532,
    "start_time": "2024-03-14T21:23:32.499Z"
   },
   {
    "duration": 61,
    "start_time": "2024-03-14T21:23:34.033Z"
   },
   {
    "duration": 115,
    "start_time": "2024-03-14T21:23:34.095Z"
   },
   {
    "duration": 5404,
    "start_time": "2024-03-14T21:23:34.212Z"
   },
   {
    "duration": 0,
    "start_time": "2024-03-14T21:23:39.618Z"
   },
   {
    "duration": 0,
    "start_time": "2024-03-14T21:23:39.619Z"
   },
   {
    "duration": 0,
    "start_time": "2024-03-14T21:23:39.620Z"
   },
   {
    "duration": 0,
    "start_time": "2024-03-14T21:23:39.621Z"
   },
   {
    "duration": 9412,
    "start_time": "2024-03-14T21:23:43.304Z"
   },
   {
    "duration": 1180,
    "start_time": "2024-03-14T21:23:52.718Z"
   },
   {
    "duration": 15,
    "start_time": "2024-03-14T21:23:53.902Z"
   },
   {
    "duration": 889,
    "start_time": "2024-03-14T21:23:53.918Z"
   },
   {
    "duration": 5,
    "start_time": "2024-03-14T21:23:54.809Z"
   },
   {
    "duration": 919,
    "start_time": "2024-03-14T21:23:54.815Z"
   },
   {
    "duration": 445,
    "start_time": "2024-03-14T21:23:55.736Z"
   },
   {
    "duration": 37,
    "start_time": "2024-03-14T21:23:56.183Z"
   },
   {
    "duration": 74,
    "start_time": "2024-03-14T21:23:56.223Z"
   },
   {
    "duration": 5,
    "start_time": "2024-03-14T21:23:56.299Z"
   },
   {
    "duration": 36,
    "start_time": "2024-03-14T21:23:56.306Z"
   },
   {
    "duration": 172,
    "start_time": "2024-03-14T21:23:56.344Z"
   },
   {
    "duration": 175,
    "start_time": "2024-03-14T21:23:56.518Z"
   },
   {
    "duration": 110,
    "start_time": "2024-03-14T21:23:56.695Z"
   },
   {
    "duration": 202,
    "start_time": "2024-03-14T21:23:56.806Z"
   },
   {
    "duration": 156,
    "start_time": "2024-03-14T21:23:57.010Z"
   },
   {
    "duration": 155,
    "start_time": "2024-03-14T21:23:57.168Z"
   },
   {
    "duration": 101,
    "start_time": "2024-03-14T21:23:57.325Z"
   },
   {
    "duration": 129,
    "start_time": "2024-03-14T21:23:57.427Z"
   },
   {
    "duration": 92,
    "start_time": "2024-03-14T21:23:57.558Z"
   },
   {
    "duration": 570,
    "start_time": "2024-03-14T21:23:57.652Z"
   },
   {
    "duration": 14,
    "start_time": "2024-03-14T21:23:58.223Z"
   },
   {
    "duration": 12,
    "start_time": "2024-03-14T21:23:58.238Z"
   },
   {
    "duration": 43,
    "start_time": "2024-03-14T21:23:58.251Z"
   },
   {
    "duration": 31,
    "start_time": "2024-03-14T21:23:58.296Z"
   },
   {
    "duration": 61,
    "start_time": "2024-03-14T21:23:58.329Z"
   },
   {
    "duration": 4,
    "start_time": "2024-03-14T21:23:58.394Z"
   },
   {
    "duration": 16,
    "start_time": "2024-03-14T21:23:58.400Z"
   },
   {
    "duration": 5,
    "start_time": "2024-03-14T21:23:58.418Z"
   },
   {
    "duration": 28,
    "start_time": "2024-03-14T21:23:58.424Z"
   },
   {
    "duration": 14,
    "start_time": "2024-03-14T21:23:58.453Z"
   },
   {
    "duration": 17,
    "start_time": "2024-03-14T21:23:58.468Z"
   },
   {
    "duration": 39,
    "start_time": "2024-03-14T21:23:58.486Z"
   },
   {
    "duration": 2,
    "start_time": "2024-03-14T21:23:58.527Z"
   },
   {
    "duration": 7,
    "start_time": "2024-03-14T21:23:58.531Z"
   },
   {
    "duration": 821,
    "start_time": "2024-03-14T21:23:58.539Z"
   },
   {
    "duration": 514,
    "start_time": "2024-03-14T21:23:59.364Z"
   },
   {
    "duration": 48,
    "start_time": "2024-03-14T21:23:59.879Z"
   },
   {
    "duration": 4,
    "start_time": "2024-03-14T21:23:59.929Z"
   },
   {
    "duration": 37,
    "start_time": "2024-03-14T21:23:59.935Z"
   },
   {
    "duration": 332,
    "start_time": "2024-03-14T21:23:59.974Z"
   },
   {
    "duration": 1082,
    "start_time": "2024-03-14T21:24:00.308Z"
   },
   {
    "duration": 22845,
    "start_time": "2024-03-14T21:24:01.393Z"
   },
   {
    "duration": 1596,
    "start_time": "2024-03-14T21:24:24.239Z"
   },
   {
    "duration": 64,
    "start_time": "2024-03-14T21:24:25.837Z"
   },
   {
    "duration": 113,
    "start_time": "2024-03-14T21:24:25.903Z"
   },
   {
    "duration": 166553,
    "start_time": "2024-03-14T21:24:26.018Z"
   },
   {
    "duration": 74795,
    "start_time": "2024-03-14T21:27:12.574Z"
   },
   {
    "duration": 10,
    "start_time": "2024-03-14T21:28:27.371Z"
   },
   {
    "duration": 13100,
    "start_time": "2024-03-14T21:28:27.382Z"
   },
   {
    "duration": 11793,
    "start_time": "2024-03-14T21:28:40.483Z"
   },
   {
    "duration": 14557,
    "start_time": "2024-03-15T14:59:14.255Z"
   },
   {
    "duration": 1573,
    "start_time": "2024-03-15T14:59:28.814Z"
   },
   {
    "duration": 17,
    "start_time": "2024-03-15T14:59:30.389Z"
   },
   {
    "duration": 1338,
    "start_time": "2024-03-15T14:59:30.408Z"
   },
   {
    "duration": 7,
    "start_time": "2024-03-15T14:59:31.747Z"
   },
   {
    "duration": 1109,
    "start_time": "2024-03-15T14:59:31.756Z"
   },
   {
    "duration": 509,
    "start_time": "2024-03-15T14:59:32.867Z"
   },
   {
    "duration": 40,
    "start_time": "2024-03-15T14:59:33.381Z"
   },
   {
    "duration": 85,
    "start_time": "2024-03-15T14:59:33.423Z"
   },
   {
    "duration": 5,
    "start_time": "2024-03-15T14:59:33.511Z"
   },
   {
    "duration": 57,
    "start_time": "2024-03-15T14:59:33.518Z"
   },
   {
    "duration": 190,
    "start_time": "2024-03-15T14:59:33.577Z"
   },
   {
    "duration": 213,
    "start_time": "2024-03-15T14:59:33.769Z"
   },
   {
    "duration": 195,
    "start_time": "2024-03-15T14:59:33.984Z"
   },
   {
    "duration": 142,
    "start_time": "2024-03-15T14:59:34.180Z"
   },
   {
    "duration": 177,
    "start_time": "2024-03-15T14:59:34.325Z"
   },
   {
    "duration": 191,
    "start_time": "2024-03-15T14:59:34.504Z"
   },
   {
    "duration": 121,
    "start_time": "2024-03-15T14:59:34.696Z"
   },
   {
    "duration": 140,
    "start_time": "2024-03-15T14:59:34.818Z"
   },
   {
    "duration": 107,
    "start_time": "2024-03-15T14:59:34.959Z"
   },
   {
    "duration": 628,
    "start_time": "2024-03-15T14:59:35.067Z"
   },
   {
    "duration": 16,
    "start_time": "2024-03-15T14:59:35.697Z"
   },
   {
    "duration": 10,
    "start_time": "2024-03-15T14:59:35.714Z"
   },
   {
    "duration": 45,
    "start_time": "2024-03-15T14:59:35.726Z"
   },
   {
    "duration": 33,
    "start_time": "2024-03-15T14:59:35.783Z"
   },
   {
    "duration": 56,
    "start_time": "2024-03-15T14:59:35.818Z"
   },
   {
    "duration": 4,
    "start_time": "2024-03-15T14:59:35.882Z"
   },
   {
    "duration": 22,
    "start_time": "2024-03-15T14:59:35.889Z"
   },
   {
    "duration": 16,
    "start_time": "2024-03-15T14:59:35.913Z"
   },
   {
    "duration": 41,
    "start_time": "2024-03-15T14:59:35.930Z"
   },
   {
    "duration": 6,
    "start_time": "2024-03-15T14:59:35.973Z"
   },
   {
    "duration": 62,
    "start_time": "2024-03-15T14:59:35.980Z"
   },
   {
    "duration": 63,
    "start_time": "2024-03-15T14:59:36.043Z"
   },
   {
    "duration": 3,
    "start_time": "2024-03-15T14:59:36.108Z"
   },
   {
    "duration": 14,
    "start_time": "2024-03-15T14:59:36.112Z"
   },
   {
    "duration": 878,
    "start_time": "2024-03-15T14:59:36.127Z"
   },
   {
    "duration": 633,
    "start_time": "2024-03-15T14:59:37.007Z"
   },
   {
    "duration": 20,
    "start_time": "2024-03-15T14:59:37.642Z"
   },
   {
    "duration": 370,
    "start_time": "2024-03-15T14:59:37.664Z"
   },
   {
    "duration": 130,
    "start_time": "2024-03-15T14:59:38.036Z"
   },
   {
    "duration": 0,
    "start_time": "2024-03-15T14:59:38.168Z"
   },
   {
    "duration": 0,
    "start_time": "2024-03-15T14:59:38.169Z"
   },
   {
    "duration": 10,
    "start_time": "2024-03-15T15:00:33.643Z"
   },
   {
    "duration": 11,
    "start_time": "2024-03-15T15:01:18.971Z"
   },
   {
    "duration": 81,
    "start_time": "2024-03-15T15:01:24.790Z"
   },
   {
    "duration": 8434,
    "start_time": "2024-03-15T15:02:31.859Z"
   },
   {
    "duration": 10993,
    "start_time": "2024-03-15T15:03:14.281Z"
   },
   {
    "duration": 6,
    "start_time": "2024-03-15T15:03:25.276Z"
   },
   {
    "duration": 19,
    "start_time": "2024-03-15T15:03:25.285Z"
   },
   {
    "duration": 1005,
    "start_time": "2024-03-15T15:03:25.306Z"
   },
   {
    "duration": 6,
    "start_time": "2024-03-15T15:03:26.313Z"
   },
   {
    "duration": 989,
    "start_time": "2024-03-15T15:03:26.320Z"
   },
   {
    "duration": 412,
    "start_time": "2024-03-15T15:03:27.311Z"
   },
   {
    "duration": 37,
    "start_time": "2024-03-15T15:03:27.725Z"
   },
   {
    "duration": 79,
    "start_time": "2024-03-15T15:03:27.763Z"
   },
   {
    "duration": 19,
    "start_time": "2024-03-15T15:03:27.844Z"
   },
   {
    "duration": 63,
    "start_time": "2024-03-15T15:03:27.865Z"
   },
   {
    "duration": 174,
    "start_time": "2024-03-15T15:03:27.930Z"
   },
   {
    "duration": 198,
    "start_time": "2024-03-15T15:03:28.106Z"
   },
   {
    "duration": 126,
    "start_time": "2024-03-15T15:03:28.306Z"
   },
   {
    "duration": 141,
    "start_time": "2024-03-15T15:03:28.433Z"
   },
   {
    "duration": 169,
    "start_time": "2024-03-15T15:03:28.583Z"
   },
   {
    "duration": 191,
    "start_time": "2024-03-15T15:03:28.754Z"
   },
   {
    "duration": 116,
    "start_time": "2024-03-15T15:03:28.946Z"
   },
   {
    "duration": 150,
    "start_time": "2024-03-15T15:03:29.064Z"
   },
   {
    "duration": 109,
    "start_time": "2024-03-15T15:03:29.216Z"
   },
   {
    "duration": 611,
    "start_time": "2024-03-15T15:03:29.327Z"
   },
   {
    "duration": 23,
    "start_time": "2024-03-15T15:03:29.940Z"
   },
   {
    "duration": 27,
    "start_time": "2024-03-15T15:03:29.965Z"
   },
   {
    "duration": 34,
    "start_time": "2024-03-15T15:03:29.994Z"
   },
   {
    "duration": 54,
    "start_time": "2024-03-15T15:03:30.030Z"
   },
   {
    "duration": 46,
    "start_time": "2024-03-15T15:03:30.086Z"
   },
   {
    "duration": 6,
    "start_time": "2024-03-15T15:03:30.135Z"
   },
   {
    "duration": 45,
    "start_time": "2024-03-15T15:03:30.146Z"
   },
   {
    "duration": 96,
    "start_time": "2024-03-15T15:03:30.193Z"
   },
   {
    "duration": 140,
    "start_time": "2024-03-15T15:03:30.292Z"
   },
   {
    "duration": 41,
    "start_time": "2024-03-15T15:03:30.435Z"
   },
   {
    "duration": 67,
    "start_time": "2024-03-15T15:03:30.478Z"
   },
   {
    "duration": 67,
    "start_time": "2024-03-15T15:03:30.547Z"
   },
   {
    "duration": 32,
    "start_time": "2024-03-15T15:03:30.616Z"
   },
   {
    "duration": 56,
    "start_time": "2024-03-15T15:03:30.650Z"
   },
   {
    "duration": 948,
    "start_time": "2024-03-15T15:03:30.708Z"
   },
   {
    "duration": 649,
    "start_time": "2024-03-15T15:03:31.659Z"
   },
   {
    "duration": 23,
    "start_time": "2024-03-15T15:03:32.309Z"
   },
   {
    "duration": 412,
    "start_time": "2024-03-15T15:03:32.334Z"
   },
   {
    "duration": 8272,
    "start_time": "2024-03-15T15:03:32.748Z"
   },
   {
    "duration": 0,
    "start_time": "2024-03-15T15:03:41.022Z"
   },
   {
    "duration": 8037,
    "start_time": "2024-03-15T15:09:51.766Z"
   },
   {
    "duration": 625,
    "start_time": "2024-03-15T15:10:37.097Z"
   },
   {
    "duration": 296,
    "start_time": "2024-03-15T15:11:17.781Z"
   },
   {
    "duration": 11,
    "start_time": "2024-03-15T15:11:20.320Z"
   },
   {
    "duration": 13201,
    "start_time": "2024-03-15T15:11:33.786Z"
   },
   {
    "duration": 11502,
    "start_time": "2024-03-15T15:12:05.814Z"
   },
   {
    "duration": 1339,
    "start_time": "2024-03-15T15:12:17.318Z"
   },
   {
    "duration": 23,
    "start_time": "2024-03-15T15:12:18.659Z"
   },
   {
    "duration": 1001,
    "start_time": "2024-03-15T15:12:18.684Z"
   },
   {
    "duration": 6,
    "start_time": "2024-03-15T15:12:19.686Z"
   },
   {
    "duration": 1039,
    "start_time": "2024-03-15T15:12:19.694Z"
   },
   {
    "duration": 490,
    "start_time": "2024-03-15T15:12:20.734Z"
   },
   {
    "duration": 38,
    "start_time": "2024-03-15T15:12:21.226Z"
   },
   {
    "duration": 74,
    "start_time": "2024-03-15T15:12:21.266Z"
   },
   {
    "duration": 5,
    "start_time": "2024-03-15T15:12:21.343Z"
   },
   {
    "duration": 64,
    "start_time": "2024-03-15T15:12:21.350Z"
   },
   {
    "duration": 193,
    "start_time": "2024-03-15T15:12:21.415Z"
   },
   {
    "duration": 204,
    "start_time": "2024-03-15T15:12:21.610Z"
   },
   {
    "duration": 136,
    "start_time": "2024-03-15T15:12:21.816Z"
   },
   {
    "duration": 228,
    "start_time": "2024-03-15T15:12:21.954Z"
   },
   {
    "duration": 178,
    "start_time": "2024-03-15T15:12:22.184Z"
   },
   {
    "duration": 207,
    "start_time": "2024-03-15T15:12:22.364Z"
   },
   {
    "duration": 124,
    "start_time": "2024-03-15T15:12:22.572Z"
   },
   {
    "duration": 151,
    "start_time": "2024-03-15T15:12:22.697Z"
   },
   {
    "duration": 108,
    "start_time": "2024-03-15T15:12:22.849Z"
   },
   {
    "duration": 668,
    "start_time": "2024-03-15T15:12:22.959Z"
   },
   {
    "duration": 15,
    "start_time": "2024-03-15T15:12:23.628Z"
   },
   {
    "duration": 31,
    "start_time": "2024-03-15T15:12:23.644Z"
   },
   {
    "duration": 33,
    "start_time": "2024-03-15T15:12:23.677Z"
   },
   {
    "duration": 33,
    "start_time": "2024-03-15T15:12:23.711Z"
   },
   {
    "duration": 58,
    "start_time": "2024-03-15T15:12:23.746Z"
   },
   {
    "duration": 3,
    "start_time": "2024-03-15T15:12:23.806Z"
   },
   {
    "duration": 12,
    "start_time": "2024-03-15T15:12:23.819Z"
   },
   {
    "duration": 27,
    "start_time": "2024-03-15T15:12:23.833Z"
   },
   {
    "duration": 35,
    "start_time": "2024-03-15T15:12:23.862Z"
   },
   {
    "duration": 6,
    "start_time": "2024-03-15T15:12:23.899Z"
   },
   {
    "duration": 19,
    "start_time": "2024-03-15T15:12:23.907Z"
   },
   {
    "duration": 66,
    "start_time": "2024-03-15T15:12:23.928Z"
   },
   {
    "duration": 3,
    "start_time": "2024-03-15T15:12:23.996Z"
   },
   {
    "duration": 8,
    "start_time": "2024-03-15T15:12:24.001Z"
   },
   {
    "duration": 883,
    "start_time": "2024-03-15T15:12:24.011Z"
   },
   {
    "duration": 651,
    "start_time": "2024-03-15T15:12:24.896Z"
   },
   {
    "duration": 19,
    "start_time": "2024-03-15T15:12:25.548Z"
   },
   {
    "duration": 383,
    "start_time": "2024-03-15T15:12:25.568Z"
   },
   {
    "duration": 615,
    "start_time": "2024-03-15T15:12:25.953Z"
   },
   {
    "duration": 298,
    "start_time": "2024-03-15T15:12:26.569Z"
   },
   {
    "duration": 13916,
    "start_time": "2024-03-15T15:12:26.868Z"
   },
   {
    "duration": 5521,
    "start_time": "2024-03-15T15:12:40.787Z"
   },
   {
    "duration": 0,
    "start_time": "2024-03-15T15:12:46.310Z"
   },
   {
    "duration": 0,
    "start_time": "2024-03-15T15:12:46.311Z"
   },
   {
    "duration": 0,
    "start_time": "2024-03-15T15:12:46.312Z"
   },
   {
    "duration": 0,
    "start_time": "2024-03-15T15:12:46.314Z"
   },
   {
    "duration": 0,
    "start_time": "2024-03-15T15:12:46.315Z"
   },
   {
    "duration": 0,
    "start_time": "2024-03-15T15:12:46.316Z"
   },
   {
    "duration": 0,
    "start_time": "2024-03-15T15:12:46.317Z"
   },
   {
    "duration": 0,
    "start_time": "2024-03-15T15:12:46.319Z"
   },
   {
    "duration": 26675,
    "start_time": "2024-03-15T15:13:07.347Z"
   },
   {
    "duration": 1783,
    "start_time": "2024-03-15T15:17:06.658Z"
   },
   {
    "duration": 1777,
    "start_time": "2024-03-15T15:17:34.789Z"
   },
   {
    "duration": 11053,
    "start_time": "2024-03-15T15:20:25.073Z"
   },
   {
    "duration": 1330,
    "start_time": "2024-03-15T15:20:36.128Z"
   },
   {
    "duration": 17,
    "start_time": "2024-03-15T15:20:37.460Z"
   },
   {
    "duration": 996,
    "start_time": "2024-03-15T15:20:37.483Z"
   },
   {
    "duration": 5,
    "start_time": "2024-03-15T15:20:38.482Z"
   },
   {
    "duration": 1044,
    "start_time": "2024-03-15T15:20:38.489Z"
   },
   {
    "duration": 505,
    "start_time": "2024-03-15T15:20:39.535Z"
   },
   {
    "duration": 50,
    "start_time": "2024-03-15T15:20:40.042Z"
   },
   {
    "duration": 67,
    "start_time": "2024-03-15T15:20:40.094Z"
   },
   {
    "duration": 21,
    "start_time": "2024-03-15T15:20:40.164Z"
   },
   {
    "duration": 63,
    "start_time": "2024-03-15T15:20:40.187Z"
   },
   {
    "duration": 190,
    "start_time": "2024-03-15T15:20:40.252Z"
   },
   {
    "duration": 200,
    "start_time": "2024-03-15T15:20:40.444Z"
   },
   {
    "duration": 112,
    "start_time": "2024-03-15T15:20:40.645Z"
   },
   {
    "duration": 220,
    "start_time": "2024-03-15T15:20:40.759Z"
   },
   {
    "duration": 163,
    "start_time": "2024-03-15T15:20:40.981Z"
   },
   {
    "duration": 196,
    "start_time": "2024-03-15T15:20:41.146Z"
   },
   {
    "duration": 117,
    "start_time": "2024-03-15T15:20:41.343Z"
   },
   {
    "duration": 156,
    "start_time": "2024-03-15T15:20:41.462Z"
   },
   {
    "duration": 108,
    "start_time": "2024-03-15T15:20:41.619Z"
   },
   {
    "duration": 638,
    "start_time": "2024-03-15T15:20:41.728Z"
   },
   {
    "duration": 17,
    "start_time": "2024-03-15T15:20:42.368Z"
   },
   {
    "duration": 27,
    "start_time": "2024-03-15T15:20:42.387Z"
   },
   {
    "duration": 51,
    "start_time": "2024-03-15T15:20:42.415Z"
   },
   {
    "duration": 35,
    "start_time": "2024-03-15T15:20:42.468Z"
   },
   {
    "duration": 46,
    "start_time": "2024-03-15T15:20:42.505Z"
   },
   {
    "duration": 3,
    "start_time": "2024-03-15T15:20:42.553Z"
   },
   {
    "duration": 20,
    "start_time": "2024-03-15T15:20:42.562Z"
   },
   {
    "duration": 41,
    "start_time": "2024-03-15T15:20:42.583Z"
   },
   {
    "duration": 39,
    "start_time": "2024-03-15T15:20:42.625Z"
   },
   {
    "duration": 5,
    "start_time": "2024-03-15T15:20:42.666Z"
   },
   {
    "duration": 41,
    "start_time": "2024-03-15T15:20:42.672Z"
   },
   {
    "duration": 81,
    "start_time": "2024-03-15T15:20:42.715Z"
   },
   {
    "duration": 4,
    "start_time": "2024-03-15T15:20:42.797Z"
   },
   {
    "duration": 13,
    "start_time": "2024-03-15T15:20:42.803Z"
   },
   {
    "duration": 939,
    "start_time": "2024-03-15T15:20:42.818Z"
   },
   {
    "duration": 657,
    "start_time": "2024-03-15T15:20:43.758Z"
   },
   {
    "duration": 20,
    "start_time": "2024-03-15T15:20:44.417Z"
   },
   {
    "duration": 382,
    "start_time": "2024-03-15T15:20:44.439Z"
   },
   {
    "duration": 623,
    "start_time": "2024-03-15T15:20:44.823Z"
   },
   {
    "duration": 344,
    "start_time": "2024-03-15T15:20:45.448Z"
   },
   {
    "duration": 13299,
    "start_time": "2024-03-15T15:20:45.793Z"
   },
   {
    "duration": 26808,
    "start_time": "2024-03-15T15:20:59.183Z"
   },
   {
    "duration": 1810,
    "start_time": "2024-03-15T15:21:25.994Z"
   },
   {
    "duration": 610,
    "start_time": "2024-03-15T15:21:27.805Z"
   },
   {
    "duration": 46,
    "start_time": "2024-03-15T15:21:28.417Z"
   },
   {
    "duration": 136,
    "start_time": "2024-03-15T15:21:28.464Z"
   },
   {
    "duration": 0,
    "start_time": "2024-03-15T15:21:28.602Z"
   },
   {
    "duration": 0,
    "start_time": "2024-03-15T15:21:28.603Z"
   },
   {
    "duration": 0,
    "start_time": "2024-03-15T15:21:28.604Z"
   },
   {
    "duration": 0,
    "start_time": "2024-03-15T15:21:28.605Z"
   },
   {
    "duration": 11573,
    "start_time": "2024-03-15T15:26:08.159Z"
   },
   {
    "duration": 1336,
    "start_time": "2024-03-15T15:26:19.735Z"
   },
   {
    "duration": 20,
    "start_time": "2024-03-15T15:26:21.072Z"
   },
   {
    "duration": 1051,
    "start_time": "2024-03-15T15:26:21.094Z"
   },
   {
    "duration": 5,
    "start_time": "2024-03-15T15:26:22.146Z"
   },
   {
    "duration": 1145,
    "start_time": "2024-03-15T15:26:22.153Z"
   },
   {
    "duration": 482,
    "start_time": "2024-03-15T15:26:23.300Z"
   },
   {
    "duration": 40,
    "start_time": "2024-03-15T15:26:23.783Z"
   },
   {
    "duration": 94,
    "start_time": "2024-03-15T15:26:23.825Z"
   },
   {
    "duration": 6,
    "start_time": "2024-03-15T15:26:23.921Z"
   },
   {
    "duration": 59,
    "start_time": "2024-03-15T15:26:23.928Z"
   },
   {
    "duration": 188,
    "start_time": "2024-03-15T15:26:23.988Z"
   },
   {
    "duration": 206,
    "start_time": "2024-03-15T15:26:24.178Z"
   },
   {
    "duration": 118,
    "start_time": "2024-03-15T15:26:24.385Z"
   },
   {
    "duration": 213,
    "start_time": "2024-03-15T15:26:24.505Z"
   },
   {
    "duration": 164,
    "start_time": "2024-03-15T15:26:24.720Z"
   },
   {
    "duration": 191,
    "start_time": "2024-03-15T15:26:24.886Z"
   },
   {
    "duration": 143,
    "start_time": "2024-03-15T15:26:25.079Z"
   },
   {
    "duration": 141,
    "start_time": "2024-03-15T15:26:25.224Z"
   },
   {
    "duration": 118,
    "start_time": "2024-03-15T15:26:25.367Z"
   },
   {
    "duration": 660,
    "start_time": "2024-03-15T15:26:25.486Z"
   },
   {
    "duration": 15,
    "start_time": "2024-03-15T15:26:26.148Z"
   },
   {
    "duration": 23,
    "start_time": "2024-03-15T15:26:26.165Z"
   },
   {
    "duration": 36,
    "start_time": "2024-03-15T15:26:26.190Z"
   },
   {
    "duration": 58,
    "start_time": "2024-03-15T15:26:26.227Z"
   },
   {
    "duration": 41,
    "start_time": "2024-03-15T15:26:26.286Z"
   },
   {
    "duration": 3,
    "start_time": "2024-03-15T15:26:26.329Z"
   },
   {
    "duration": 4,
    "start_time": "2024-03-15T15:26:26.335Z"
   },
   {
    "duration": 3,
    "start_time": "2024-03-15T15:26:26.341Z"
   },
   {
    "duration": 56,
    "start_time": "2024-03-15T15:26:26.346Z"
   },
   {
    "duration": 5,
    "start_time": "2024-03-15T15:26:26.403Z"
   },
   {
    "duration": 24,
    "start_time": "2024-03-15T15:26:26.409Z"
   },
   {
    "duration": 63,
    "start_time": "2024-03-15T15:26:26.435Z"
   },
   {
    "duration": 4,
    "start_time": "2024-03-15T15:26:26.500Z"
   },
   {
    "duration": 21,
    "start_time": "2024-03-15T15:26:26.505Z"
   },
   {
    "duration": 910,
    "start_time": "2024-03-15T15:26:26.528Z"
   },
   {
    "duration": 435,
    "start_time": "2024-03-15T15:26:27.439Z"
   },
   {
    "duration": 0,
    "start_time": "2024-03-15T15:26:27.876Z"
   },
   {
    "duration": 0,
    "start_time": "2024-03-15T15:26:27.877Z"
   },
   {
    "duration": 0,
    "start_time": "2024-03-15T15:26:27.882Z"
   },
   {
    "duration": 0,
    "start_time": "2024-03-15T15:26:27.884Z"
   },
   {
    "duration": 0,
    "start_time": "2024-03-15T15:26:27.886Z"
   },
   {
    "duration": 0,
    "start_time": "2024-03-15T15:26:27.888Z"
   },
   {
    "duration": 0,
    "start_time": "2024-03-15T15:26:27.889Z"
   },
   {
    "duration": 0,
    "start_time": "2024-03-15T15:26:27.891Z"
   },
   {
    "duration": 0,
    "start_time": "2024-03-15T15:26:27.892Z"
   },
   {
    "duration": 0,
    "start_time": "2024-03-15T15:26:27.894Z"
   },
   {
    "duration": 0,
    "start_time": "2024-03-15T15:26:27.896Z"
   },
   {
    "duration": 0,
    "start_time": "2024-03-15T15:26:27.898Z"
   },
   {
    "duration": 0,
    "start_time": "2024-03-15T15:26:27.899Z"
   },
   {
    "duration": 0,
    "start_time": "2024-03-15T15:26:27.901Z"
   },
   {
    "duration": 11361,
    "start_time": "2024-03-15T15:27:19.816Z"
   },
   {
    "duration": 1402,
    "start_time": "2024-03-15T15:27:31.180Z"
   },
   {
    "duration": 18,
    "start_time": "2024-03-15T15:27:32.585Z"
   },
   {
    "duration": 1039,
    "start_time": "2024-03-15T15:27:32.605Z"
   },
   {
    "duration": 5,
    "start_time": "2024-03-15T15:27:33.646Z"
   },
   {
    "duration": 1049,
    "start_time": "2024-03-15T15:27:33.653Z"
   },
   {
    "duration": 530,
    "start_time": "2024-03-15T15:27:34.704Z"
   },
   {
    "duration": 50,
    "start_time": "2024-03-15T15:27:35.236Z"
   },
   {
    "duration": 70,
    "start_time": "2024-03-15T15:27:35.287Z"
   },
   {
    "duration": 5,
    "start_time": "2024-03-15T15:27:35.360Z"
   },
   {
    "duration": 66,
    "start_time": "2024-03-15T15:27:35.366Z"
   },
   {
    "duration": 186,
    "start_time": "2024-03-15T15:27:35.434Z"
   },
   {
    "duration": 203,
    "start_time": "2024-03-15T15:27:35.623Z"
   },
   {
    "duration": 138,
    "start_time": "2024-03-15T15:27:35.828Z"
   },
   {
    "duration": 232,
    "start_time": "2024-03-15T15:27:35.968Z"
   },
   {
    "duration": 170,
    "start_time": "2024-03-15T15:27:36.202Z"
   },
   {
    "duration": 186,
    "start_time": "2024-03-15T15:27:36.374Z"
   },
   {
    "duration": 124,
    "start_time": "2024-03-15T15:27:36.562Z"
   },
   {
    "duration": 139,
    "start_time": "2024-03-15T15:27:36.688Z"
   },
   {
    "duration": 111,
    "start_time": "2024-03-15T15:27:36.829Z"
   },
   {
    "duration": 635,
    "start_time": "2024-03-15T15:27:36.942Z"
   },
   {
    "duration": 15,
    "start_time": "2024-03-15T15:27:37.583Z"
   },
   {
    "duration": 14,
    "start_time": "2024-03-15T15:27:37.599Z"
   },
   {
    "duration": 32,
    "start_time": "2024-03-15T15:27:37.615Z"
   },
   {
    "duration": 51,
    "start_time": "2024-03-15T15:27:37.649Z"
   },
   {
    "duration": 44,
    "start_time": "2024-03-15T15:27:37.701Z"
   },
   {
    "duration": 4,
    "start_time": "2024-03-15T15:27:37.747Z"
   },
   {
    "duration": 3,
    "start_time": "2024-03-15T15:27:37.754Z"
   },
   {
    "duration": 26,
    "start_time": "2024-03-15T15:27:37.758Z"
   },
   {
    "duration": 30,
    "start_time": "2024-03-15T15:27:37.785Z"
   },
   {
    "duration": 4,
    "start_time": "2024-03-15T15:27:37.817Z"
   },
   {
    "duration": 23,
    "start_time": "2024-03-15T15:27:37.822Z"
   },
   {
    "duration": 75,
    "start_time": "2024-03-15T15:27:37.847Z"
   },
   {
    "duration": 3,
    "start_time": "2024-03-15T15:27:37.924Z"
   },
   {
    "duration": 19,
    "start_time": "2024-03-15T15:27:37.929Z"
   },
   {
    "duration": 871,
    "start_time": "2024-03-15T15:27:37.949Z"
   },
   {
    "duration": 514,
    "start_time": "2024-03-15T15:27:38.822Z"
   },
   {
    "duration": 0,
    "start_time": "2024-03-15T15:27:39.337Z"
   },
   {
    "duration": 0,
    "start_time": "2024-03-15T15:27:39.339Z"
   },
   {
    "duration": 0,
    "start_time": "2024-03-15T15:27:39.340Z"
   },
   {
    "duration": 0,
    "start_time": "2024-03-15T15:27:39.342Z"
   },
   {
    "duration": 0,
    "start_time": "2024-03-15T15:27:39.344Z"
   },
   {
    "duration": 0,
    "start_time": "2024-03-15T15:27:39.345Z"
   },
   {
    "duration": 0,
    "start_time": "2024-03-15T15:27:39.347Z"
   },
   {
    "duration": 0,
    "start_time": "2024-03-15T15:27:39.349Z"
   },
   {
    "duration": 0,
    "start_time": "2024-03-15T15:27:39.350Z"
   },
   {
    "duration": 0,
    "start_time": "2024-03-15T15:27:39.352Z"
   },
   {
    "duration": 0,
    "start_time": "2024-03-15T15:27:39.354Z"
   },
   {
    "duration": 0,
    "start_time": "2024-03-15T15:27:39.383Z"
   },
   {
    "duration": 0,
    "start_time": "2024-03-15T15:27:39.384Z"
   },
   {
    "duration": 0,
    "start_time": "2024-03-15T15:27:39.386Z"
   },
   {
    "duration": 11274,
    "start_time": "2024-03-15T15:27:46.762Z"
   },
   {
    "duration": 1319,
    "start_time": "2024-03-15T15:27:58.038Z"
   },
   {
    "duration": 16,
    "start_time": "2024-03-15T15:27:59.359Z"
   },
   {
    "duration": 1041,
    "start_time": "2024-03-15T15:27:59.378Z"
   },
   {
    "duration": 5,
    "start_time": "2024-03-15T15:28:00.421Z"
   },
   {
    "duration": 1179,
    "start_time": "2024-03-15T15:28:00.428Z"
   },
   {
    "duration": 496,
    "start_time": "2024-03-15T15:28:01.609Z"
   },
   {
    "duration": 40,
    "start_time": "2024-03-15T15:28:02.107Z"
   },
   {
    "duration": 82,
    "start_time": "2024-03-15T15:28:02.149Z"
   },
   {
    "duration": 16,
    "start_time": "2024-03-15T15:28:02.234Z"
   },
   {
    "duration": 107,
    "start_time": "2024-03-15T15:28:02.252Z"
   },
   {
    "duration": 241,
    "start_time": "2024-03-15T15:28:02.361Z"
   },
   {
    "duration": 205,
    "start_time": "2024-03-15T15:28:02.604Z"
   },
   {
    "duration": 126,
    "start_time": "2024-03-15T15:28:02.810Z"
   },
   {
    "duration": 225,
    "start_time": "2024-03-15T15:28:02.938Z"
   },
   {
    "duration": 173,
    "start_time": "2024-03-15T15:28:03.164Z"
   },
   {
    "duration": 179,
    "start_time": "2024-03-15T15:28:03.339Z"
   },
   {
    "duration": 121,
    "start_time": "2024-03-15T15:28:03.520Z"
   },
   {
    "duration": 151,
    "start_time": "2024-03-15T15:28:03.643Z"
   },
   {
    "duration": 117,
    "start_time": "2024-03-15T15:28:03.797Z"
   },
   {
    "duration": 650,
    "start_time": "2024-03-15T15:28:03.916Z"
   },
   {
    "duration": 18,
    "start_time": "2024-03-15T15:28:04.568Z"
   },
   {
    "duration": 10,
    "start_time": "2024-03-15T15:28:04.588Z"
   },
   {
    "duration": 33,
    "start_time": "2024-03-15T15:28:04.600Z"
   },
   {
    "duration": 58,
    "start_time": "2024-03-15T15:28:04.635Z"
   },
   {
    "duration": 40,
    "start_time": "2024-03-15T15:28:04.694Z"
   },
   {
    "duration": 4,
    "start_time": "2024-03-15T15:28:04.736Z"
   },
   {
    "duration": 19,
    "start_time": "2024-03-15T15:28:04.743Z"
   },
   {
    "duration": 5,
    "start_time": "2024-03-15T15:28:04.764Z"
   },
   {
    "duration": 38,
    "start_time": "2024-03-15T15:28:04.770Z"
   },
   {
    "duration": 5,
    "start_time": "2024-03-15T15:28:04.810Z"
   },
   {
    "duration": 22,
    "start_time": "2024-03-15T15:28:04.816Z"
   },
   {
    "duration": 63,
    "start_time": "2024-03-15T15:28:04.840Z"
   },
   {
    "duration": 3,
    "start_time": "2024-03-15T15:28:04.904Z"
   },
   {
    "duration": 14,
    "start_time": "2024-03-15T15:28:04.908Z"
   },
   {
    "duration": 892,
    "start_time": "2024-03-15T15:28:04.924Z"
   },
   {
    "duration": 437,
    "start_time": "2024-03-15T15:28:05.818Z"
   },
   {
    "duration": 27,
    "start_time": "2024-03-15T15:28:06.257Z"
   },
   {
    "duration": 325,
    "start_time": "2024-03-15T15:28:06.285Z"
   },
   {
    "duration": 546,
    "start_time": "2024-03-15T15:28:06.612Z"
   },
   {
    "duration": 293,
    "start_time": "2024-03-15T15:28:07.160Z"
   },
   {
    "duration": 11228,
    "start_time": "2024-03-15T15:28:07.455Z"
   },
   {
    "duration": 22981,
    "start_time": "2024-03-15T15:28:18.686Z"
   },
   {
    "duration": 1555,
    "start_time": "2024-03-15T15:28:41.669Z"
   },
   {
    "duration": 133,
    "start_time": "2024-03-15T15:28:43.226Z"
   },
   {
    "duration": 0,
    "start_time": "2024-03-15T15:28:43.360Z"
   },
   {
    "duration": 0,
    "start_time": "2024-03-15T15:28:43.362Z"
   },
   {
    "duration": 0,
    "start_time": "2024-03-15T15:28:43.363Z"
   },
   {
    "duration": 0,
    "start_time": "2024-03-15T15:28:43.364Z"
   },
   {
    "duration": 0,
    "start_time": "2024-03-15T15:28:43.365Z"
   },
   {
    "duration": 0,
    "start_time": "2024-03-15T15:28:43.366Z"
   },
   {
    "duration": 163,
    "start_time": "2024-03-15T15:41:40.039Z"
   },
   {
    "duration": 42,
    "start_time": "2024-03-15T15:41:42.590Z"
   },
   {
    "duration": 248036,
    "start_time": "2024-03-15T15:41:45.379Z"
   },
   {
    "duration": 0,
    "start_time": "2024-03-15T15:45:53.418Z"
   },
   {
    "duration": 0,
    "start_time": "2024-03-15T15:45:53.419Z"
   },
   {
    "duration": 0,
    "start_time": "2024-03-15T15:45:53.421Z"
   },
   {
    "duration": 0,
    "start_time": "2024-03-15T15:45:53.423Z"
   },
   {
    "duration": 11539,
    "start_time": "2024-03-15T15:45:56.584Z"
   },
   {
    "duration": 1327,
    "start_time": "2024-03-15T15:46:08.125Z"
   },
   {
    "duration": 16,
    "start_time": "2024-03-15T15:46:09.454Z"
   },
   {
    "duration": 1024,
    "start_time": "2024-03-15T15:46:09.481Z"
   },
   {
    "duration": 6,
    "start_time": "2024-03-15T15:46:10.507Z"
   },
   {
    "duration": 1109,
    "start_time": "2024-03-15T15:46:10.515Z"
   },
   {
    "duration": 508,
    "start_time": "2024-03-15T15:46:11.626Z"
   },
   {
    "duration": 55,
    "start_time": "2024-03-15T15:46:12.136Z"
   },
   {
    "duration": 69,
    "start_time": "2024-03-15T15:46:12.193Z"
   },
   {
    "duration": 19,
    "start_time": "2024-03-15T15:46:12.266Z"
   },
   {
    "duration": 46,
    "start_time": "2024-03-15T15:46:12.287Z"
   },
   {
    "duration": 212,
    "start_time": "2024-03-15T15:46:12.335Z"
   },
   {
    "duration": 225,
    "start_time": "2024-03-15T15:46:12.549Z"
   },
   {
    "duration": 125,
    "start_time": "2024-03-15T15:46:12.782Z"
   },
   {
    "duration": 226,
    "start_time": "2024-03-15T15:46:12.909Z"
   },
   {
    "duration": 173,
    "start_time": "2024-03-15T15:46:13.137Z"
   },
   {
    "duration": 188,
    "start_time": "2024-03-15T15:46:13.311Z"
   },
   {
    "duration": 123,
    "start_time": "2024-03-15T15:46:13.501Z"
   },
   {
    "duration": 147,
    "start_time": "2024-03-15T15:46:13.625Z"
   },
   {
    "duration": 145,
    "start_time": "2024-03-15T15:46:13.775Z"
   },
   {
    "duration": 651,
    "start_time": "2024-03-15T15:46:13.921Z"
   },
   {
    "duration": 17,
    "start_time": "2024-03-15T15:46:14.574Z"
   },
   {
    "duration": 10,
    "start_time": "2024-03-15T15:46:14.593Z"
   },
   {
    "duration": 33,
    "start_time": "2024-03-15T15:46:14.605Z"
   },
   {
    "duration": 60,
    "start_time": "2024-03-15T15:46:14.640Z"
   },
   {
    "duration": 39,
    "start_time": "2024-03-15T15:46:14.702Z"
   },
   {
    "duration": 4,
    "start_time": "2024-03-15T15:46:14.743Z"
   },
   {
    "duration": 3,
    "start_time": "2024-03-15T15:46:14.750Z"
   },
   {
    "duration": 10,
    "start_time": "2024-03-15T15:46:14.754Z"
   },
   {
    "duration": 42,
    "start_time": "2024-03-15T15:46:14.765Z"
   },
   {
    "duration": 5,
    "start_time": "2024-03-15T15:46:14.809Z"
   },
   {
    "duration": 19,
    "start_time": "2024-03-15T15:46:14.816Z"
   },
   {
    "duration": 73,
    "start_time": "2024-03-15T15:46:14.837Z"
   },
   {
    "duration": 2,
    "start_time": "2024-03-15T15:46:14.912Z"
   },
   {
    "duration": 5,
    "start_time": "2024-03-15T15:46:14.916Z"
   },
   {
    "duration": 924,
    "start_time": "2024-03-15T15:46:14.922Z"
   },
   {
    "duration": 442,
    "start_time": "2024-03-15T15:46:15.848Z"
   },
   {
    "duration": 19,
    "start_time": "2024-03-15T15:46:16.292Z"
   },
   {
    "duration": 334,
    "start_time": "2024-03-15T15:46:16.312Z"
   },
   {
    "duration": 534,
    "start_time": "2024-03-15T15:46:16.648Z"
   },
   {
    "duration": 236,
    "start_time": "2024-03-15T15:46:17.184Z"
   },
   {
    "duration": 11267,
    "start_time": "2024-03-15T15:46:17.421Z"
   },
   {
    "duration": 23158,
    "start_time": "2024-03-15T15:46:28.693Z"
   },
   {
    "duration": 1581,
    "start_time": "2024-03-15T15:46:51.853Z"
   },
   {
    "duration": 62,
    "start_time": "2024-03-15T15:46:53.436Z"
   },
   {
    "duration": 42,
    "start_time": "2024-03-15T15:46:53.500Z"
   },
   {
    "duration": 277853,
    "start_time": "2024-03-15T15:46:53.544Z"
   },
   {
    "duration": 70115,
    "start_time": "2024-03-15T15:51:31.482Z"
   },
   {
    "duration": 15,
    "start_time": "2024-03-15T15:52:41.599Z"
   },
   {
    "duration": 13178,
    "start_time": "2024-03-15T15:52:41.616Z"
   },
   {
    "duration": 13902,
    "start_time": "2024-03-15T15:52:54.796Z"
   },
   {
    "duration": 10779,
    "start_time": "2024-03-15T16:12:43.236Z"
   },
   {
    "duration": 1358,
    "start_time": "2024-03-15T16:12:54.018Z"
   },
   {
    "duration": 18,
    "start_time": "2024-03-15T16:12:55.378Z"
   },
   {
    "duration": 1046,
    "start_time": "2024-03-15T16:12:55.398Z"
   },
   {
    "duration": 6,
    "start_time": "2024-03-15T16:12:56.445Z"
   },
   {
    "duration": 1061,
    "start_time": "2024-03-15T16:12:56.452Z"
   },
   {
    "duration": 488,
    "start_time": "2024-03-15T16:12:57.515Z"
   },
   {
    "duration": 40,
    "start_time": "2024-03-15T16:12:58.005Z"
   },
   {
    "duration": 78,
    "start_time": "2024-03-15T16:12:58.047Z"
   },
   {
    "duration": 5,
    "start_time": "2024-03-15T16:12:58.128Z"
   },
   {
    "duration": 56,
    "start_time": "2024-03-15T16:12:58.134Z"
   },
   {
    "duration": 190,
    "start_time": "2024-03-15T16:12:58.192Z"
   },
   {
    "duration": 203,
    "start_time": "2024-03-15T16:12:58.383Z"
   },
   {
    "duration": 134,
    "start_time": "2024-03-15T16:12:58.588Z"
   },
   {
    "duration": 205,
    "start_time": "2024-03-15T16:12:58.724Z"
   },
   {
    "duration": 162,
    "start_time": "2024-03-15T16:12:58.931Z"
   },
   {
    "duration": 183,
    "start_time": "2024-03-15T16:12:59.095Z"
   },
   {
    "duration": 115,
    "start_time": "2024-03-15T16:12:59.280Z"
   },
   {
    "duration": 144,
    "start_time": "2024-03-15T16:12:59.397Z"
   },
   {
    "duration": 108,
    "start_time": "2024-03-15T16:12:59.543Z"
   },
   {
    "duration": 681,
    "start_time": "2024-03-15T16:12:59.652Z"
   },
   {
    "duration": 15,
    "start_time": "2024-03-15T16:13:00.334Z"
   },
   {
    "duration": 63,
    "start_time": "2024-03-15T16:13:00.350Z"
   },
   {
    "duration": 76,
    "start_time": "2024-03-15T16:13:00.415Z"
   },
   {
    "duration": 48,
    "start_time": "2024-03-15T16:13:00.492Z"
   },
   {
    "duration": 47,
    "start_time": "2024-03-15T16:13:00.542Z"
   },
   {
    "duration": 5,
    "start_time": "2024-03-15T16:13:00.591Z"
   },
   {
    "duration": 39,
    "start_time": "2024-03-15T16:13:00.600Z"
   },
   {
    "duration": 73,
    "start_time": "2024-03-15T16:13:00.640Z"
   },
   {
    "duration": 76,
    "start_time": "2024-03-15T16:13:00.715Z"
   },
   {
    "duration": 39,
    "start_time": "2024-03-15T16:13:00.793Z"
   },
   {
    "duration": 75,
    "start_time": "2024-03-15T16:13:00.834Z"
   },
   {
    "duration": 73,
    "start_time": "2024-03-15T16:13:00.911Z"
   },
   {
    "duration": 3,
    "start_time": "2024-03-15T16:13:00.985Z"
   },
   {
    "duration": 59,
    "start_time": "2024-03-15T16:13:00.990Z"
   },
   {
    "duration": 942,
    "start_time": "2024-03-15T16:13:01.051Z"
   },
   {
    "duration": 430,
    "start_time": "2024-03-15T16:13:01.994Z"
   },
   {
    "duration": 18,
    "start_time": "2024-03-15T16:13:02.425Z"
   },
   {
    "duration": 367,
    "start_time": "2024-03-15T16:13:02.445Z"
   },
   {
    "duration": 549,
    "start_time": "2024-03-15T16:13:02.813Z"
   },
   {
    "duration": 253,
    "start_time": "2024-03-15T16:13:03.364Z"
   },
   {
    "duration": 12572,
    "start_time": "2024-03-15T16:13:03.618Z"
   },
   {
    "duration": 22867,
    "start_time": "2024-03-15T16:13:16.192Z"
   },
   {
    "duration": 10799,
    "start_time": "2024-03-15T16:13:41.449Z"
   },
   {
    "duration": 1418,
    "start_time": "2024-03-15T16:13:52.251Z"
   },
   {
    "duration": 20,
    "start_time": "2024-03-15T16:13:53.670Z"
   },
   {
    "duration": 1012,
    "start_time": "2024-03-15T16:13:53.692Z"
   },
   {
    "duration": 6,
    "start_time": "2024-03-15T16:13:54.706Z"
   },
   {
    "duration": 1113,
    "start_time": "2024-03-15T16:13:54.713Z"
   },
   {
    "duration": 490,
    "start_time": "2024-03-15T16:13:55.828Z"
   },
   {
    "duration": 36,
    "start_time": "2024-03-15T16:13:56.319Z"
   },
   {
    "duration": 78,
    "start_time": "2024-03-15T16:13:56.357Z"
   },
   {
    "duration": 5,
    "start_time": "2024-03-15T16:13:56.437Z"
   },
   {
    "duration": 57,
    "start_time": "2024-03-15T16:13:56.444Z"
   },
   {
    "duration": 198,
    "start_time": "2024-03-15T16:13:56.502Z"
   },
   {
    "duration": 207,
    "start_time": "2024-03-15T16:13:56.703Z"
   },
   {
    "duration": 125,
    "start_time": "2024-03-15T16:13:56.913Z"
   },
   {
    "duration": 209,
    "start_time": "2024-03-15T16:13:57.040Z"
   },
   {
    "duration": 163,
    "start_time": "2024-03-15T16:13:57.250Z"
   },
   {
    "duration": 185,
    "start_time": "2024-03-15T16:13:57.414Z"
   },
   {
    "duration": 124,
    "start_time": "2024-03-15T16:13:57.601Z"
   },
   {
    "duration": 148,
    "start_time": "2024-03-15T16:13:57.727Z"
   },
   {
    "duration": 141,
    "start_time": "2024-03-15T16:13:57.882Z"
   },
   {
    "duration": 633,
    "start_time": "2024-03-15T16:13:58.025Z"
   },
   {
    "duration": 22,
    "start_time": "2024-03-15T16:13:58.660Z"
   },
   {
    "duration": 9,
    "start_time": "2024-03-15T16:13:58.684Z"
   },
   {
    "duration": 29,
    "start_time": "2024-03-15T16:13:58.694Z"
   },
   {
    "duration": 60,
    "start_time": "2024-03-15T16:13:58.724Z"
   },
   {
    "duration": 42,
    "start_time": "2024-03-15T16:13:58.786Z"
   },
   {
    "duration": 4,
    "start_time": "2024-03-15T16:13:58.829Z"
   },
   {
    "duration": 76338,
    "start_time": "2024-03-15T16:13:58.834Z"
   },
   {
    "duration": 3,
    "start_time": "2024-03-15T16:15:15.174Z"
   },
   {
    "duration": 54,
    "start_time": "2024-03-15T16:15:15.178Z"
   },
   {
    "duration": 5,
    "start_time": "2024-03-15T16:15:15.234Z"
   },
   {
    "duration": 41,
    "start_time": "2024-03-15T16:15:15.240Z"
   },
   {
    "duration": 55,
    "start_time": "2024-03-15T16:15:15.283Z"
   },
   {
    "duration": 2,
    "start_time": "2024-03-15T16:15:15.340Z"
   },
   {
    "duration": 13,
    "start_time": "2024-03-15T16:15:15.344Z"
   },
   {
    "duration": 911,
    "start_time": "2024-03-15T16:15:15.359Z"
   },
   {
    "duration": 432,
    "start_time": "2024-03-15T16:15:16.271Z"
   },
   {
    "duration": 18,
    "start_time": "2024-03-15T16:15:16.705Z"
   },
   {
    "duration": 326,
    "start_time": "2024-03-15T16:15:16.725Z"
   },
   {
    "duration": 533,
    "start_time": "2024-03-15T16:15:17.052Z"
   },
   {
    "duration": 231,
    "start_time": "2024-03-15T16:15:17.589Z"
   },
   {
    "duration": 11580,
    "start_time": "2024-03-15T16:15:17.821Z"
   },
   {
    "duration": 24343,
    "start_time": "2024-03-15T16:15:29.405Z"
   },
   {
    "duration": 1521,
    "start_time": "2024-03-15T16:15:53.750Z"
   },
   {
    "duration": 61,
    "start_time": "2024-03-15T16:15:55.273Z"
   },
   {
    "duration": 60,
    "start_time": "2024-03-15T16:15:55.336Z"
   },
   {
    "duration": 235994,
    "start_time": "2024-03-15T16:15:55.397Z"
   },
   {
    "duration": 72620,
    "start_time": "2024-03-15T16:19:51.393Z"
   },
   {
    "duration": 72,
    "start_time": "2024-03-15T16:21:04.015Z"
   },
   {
    "duration": 12016,
    "start_time": "2024-03-15T16:21:04.089Z"
   },
   {
    "duration": 15181,
    "start_time": "2024-03-15T16:21:16.106Z"
   }
  ],
  "kernelspec": {
   "display_name": "Python 3 (ipykernel)",
   "language": "python",
   "name": "python3"
  },
  "language_info": {
   "codemirror_mode": {
    "name": "ipython",
    "version": 3
   },
   "file_extension": ".py",
   "mimetype": "text/x-python",
   "name": "python",
   "nbconvert_exporter": "python",
   "pygments_lexer": "ipython3",
   "version": "3.9.5"
  },
  "toc": {
   "base_numbering": 1,
   "nav_menu": {},
   "number_sections": true,
   "sideBar": true,
   "skip_h1_title": true,
   "title_cell": "Table of Contents",
   "title_sidebar": "Contents",
   "toc_cell": false,
   "toc_position": {
    "height": "calc(100% - 180px)",
    "left": "10px",
    "top": "150px",
    "width": "340.341px"
   },
   "toc_section_display": true,
   "toc_window_display": true
  }
 },
 "nbformat": 4,
 "nbformat_minor": 5
}
