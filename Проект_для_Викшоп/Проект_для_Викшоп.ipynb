{
 "cells": [
  {
   "cell_type": "markdown",
   "metadata": {
    "toc": true
   },
   "source": [
    "<h1>Содержание<span class=\"tocSkip\"></span></h1>\n",
    "<div class=\"toc\"><ul class=\"toc-item\"><li><span><a href=\"#Импорт--библиотек\" data-toc-modified-id=\"Импорт--библиотек-1\"><span class=\"toc-item-num\">1&nbsp;&nbsp;</span>Импорт  библиотек</a></span></li><li><span><a href=\"#Подготовка\" data-toc-modified-id=\"Подготовка-2\"><span class=\"toc-item-num\">2&nbsp;&nbsp;</span>Подготовка</a></span></li><li><span><a href=\"#Обучение\" data-toc-modified-id=\"Обучение-3\"><span class=\"toc-item-num\">3&nbsp;&nbsp;</span>Обучение</a></span></li><li><span><a href=\"#Выводы\" data-toc-modified-id=\"Выводы-4\"><span class=\"toc-item-num\">4&nbsp;&nbsp;</span>Выводы</a></span></li></ul></div>"
   ]
  },
  {
   "cell_type": "markdown",
   "metadata": {},
   "source": [
    "# Проект для «Викишоп»"
   ]
  },
  {
   "cell_type": "markdown",
   "metadata": {},
   "source": [
    "Интернет-магазин «Викишоп» запускает новый сервис. Теперь пользователи могут редактировать и дополнять описания товаров, как в вики-сообществах. То есть клиенты предлагают свои правки и комментируют изменения других. Магазину нужен инструмент, который будет искать токсичные комментарии и отправлять их на модерацию. \n",
    "\n",
    "Обучите модель классифицировать комментарии на позитивные и негативные. В вашем распоряжении набор данных с разметкой о токсичности правок.\n",
    "\n",
    "Постройте модель со значением метрики качества *F1* не меньше 0.75. \n",
    "\n",
    "**Инструкция по выполнению проекта**\n",
    "\n",
    "1. Загрузите и подготовьте данные.\n",
    "2. Обучите разные модели. \n",
    "3. Сделайте выводы.\n",
    "\n",
    "Для выполнения проекта применять *BERT* необязательно, но вы можете попробовать.\n",
    "\n",
    "**Описание данных**\n",
    "\n",
    "Данные находятся в файле `toxic_comments.csv`. Столбец *text* в нём содержит текст комментария, а *toxic* — целевой признак."
   ]
  },
  {
   "cell_type": "markdown",
   "metadata": {},
   "source": [
    "## Импорт  библиотек"
   ]
  },
  {
   "cell_type": "code",
   "execution_count": 1,
   "metadata": {},
   "outputs": [],
   "source": [
    "import pandas as pd\n",
    "import numpy as np\n",
    "from pymystem3 import Mystem\n",
    "from nltk.stem import WordNetLemmatizer\n",
    "from nltk.tokenize import word_tokenize\n",
    "import re\n",
    "from sklearn.feature_extraction.text import TfidfVectorizer\n",
    "from sklearn.model_selection import train_test_split, GridSearchCV\n",
    "from sklearn.linear_model import LogisticRegression\n",
    "from sklearn.feature_extraction.text import TfidfVectorizer\n",
    "import nltk\n",
    "from nltk.corpus import stopwords\n",
    "from sklearn.metrics import f1_score\n",
    "from sklearn.tree import DecisionTreeClassifier\n",
    "from sklearn.svm import SVC\n",
    "from sklearn.neighbors import KNeighborsClassifier"
   ]
  },
  {
   "cell_type": "markdown",
   "metadata": {},
   "source": [
    "## Подготовка"
   ]
  },
  {
   "cell_type": "code",
   "execution_count": 2,
   "metadata": {
    "scrolled": true
   },
   "outputs": [
    {
     "data": {
      "text/html": [
       "<div>\n",
       "<style scoped>\n",
       "    .dataframe tbody tr th:only-of-type {\n",
       "        vertical-align: middle;\n",
       "    }\n",
       "\n",
       "    .dataframe tbody tr th {\n",
       "        vertical-align: top;\n",
       "    }\n",
       "\n",
       "    .dataframe thead th {\n",
       "        text-align: right;\n",
       "    }\n",
       "</style>\n",
       "<table border=\"1\" class=\"dataframe\">\n",
       "  <thead>\n",
       "    <tr style=\"text-align: right;\">\n",
       "      <th></th>\n",
       "      <th>Unnamed: 0</th>\n",
       "      <th>text</th>\n",
       "      <th>toxic</th>\n",
       "    </tr>\n",
       "  </thead>\n",
       "  <tbody>\n",
       "    <tr>\n",
       "      <th>0</th>\n",
       "      <td>0</td>\n",
       "      <td>Explanation\\nWhy the edits made under my usern...</td>\n",
       "      <td>0</td>\n",
       "    </tr>\n",
       "    <tr>\n",
       "      <th>1</th>\n",
       "      <td>1</td>\n",
       "      <td>D'aww! He matches this background colour I'm s...</td>\n",
       "      <td>0</td>\n",
       "    </tr>\n",
       "    <tr>\n",
       "      <th>2</th>\n",
       "      <td>2</td>\n",
       "      <td>Hey man, I'm really not trying to edit war. It...</td>\n",
       "      <td>0</td>\n",
       "    </tr>\n",
       "    <tr>\n",
       "      <th>3</th>\n",
       "      <td>3</td>\n",
       "      <td>\"\\nMore\\nI can't make any real suggestions on ...</td>\n",
       "      <td>0</td>\n",
       "    </tr>\n",
       "    <tr>\n",
       "      <th>4</th>\n",
       "      <td>4</td>\n",
       "      <td>You, sir, are my hero. Any chance you remember...</td>\n",
       "      <td>0</td>\n",
       "    </tr>\n",
       "  </tbody>\n",
       "</table>\n",
       "</div>"
      ],
      "text/plain": [
       "   Unnamed: 0                                               text  toxic\n",
       "0           0  Explanation\\nWhy the edits made under my usern...      0\n",
       "1           1  D'aww! He matches this background colour I'm s...      0\n",
       "2           2  Hey man, I'm really not trying to edit war. It...      0\n",
       "3           3  \"\\nMore\\nI can't make any real suggestions on ...      0\n",
       "4           4  You, sir, are my hero. Any chance you remember...      0"
      ]
     },
     "execution_count": 2,
     "metadata": {},
     "output_type": "execute_result"
    }
   ],
   "source": [
    "toxic = pd.read_csv('/datasets/toxic_comments.csv')\n",
    "toxic.head()"
   ]
  },
  {
   "cell_type": "markdown",
   "metadata": {},
   "source": [
    "Первый столбик Unnamed: 0 просто дублирует индексы, поэтому от него нет особого смысла. Удалим его, чтобы не мешал"
   ]
  },
  {
   "cell_type": "code",
   "execution_count": 3,
   "metadata": {
    "scrolled": false
   },
   "outputs": [
    {
     "data": {
      "text/html": [
       "<div>\n",
       "<style scoped>\n",
       "    .dataframe tbody tr th:only-of-type {\n",
       "        vertical-align: middle;\n",
       "    }\n",
       "\n",
       "    .dataframe tbody tr th {\n",
       "        vertical-align: top;\n",
       "    }\n",
       "\n",
       "    .dataframe thead th {\n",
       "        text-align: right;\n",
       "    }\n",
       "</style>\n",
       "<table border=\"1\" class=\"dataframe\">\n",
       "  <thead>\n",
       "    <tr style=\"text-align: right;\">\n",
       "      <th></th>\n",
       "      <th>text</th>\n",
       "      <th>toxic</th>\n",
       "    </tr>\n",
       "  </thead>\n",
       "  <tbody>\n",
       "    <tr>\n",
       "      <th>0</th>\n",
       "      <td>Explanation\\nWhy the edits made under my usern...</td>\n",
       "      <td>0</td>\n",
       "    </tr>\n",
       "    <tr>\n",
       "      <th>1</th>\n",
       "      <td>D'aww! He matches this background colour I'm s...</td>\n",
       "      <td>0</td>\n",
       "    </tr>\n",
       "    <tr>\n",
       "      <th>2</th>\n",
       "      <td>Hey man, I'm really not trying to edit war. It...</td>\n",
       "      <td>0</td>\n",
       "    </tr>\n",
       "    <tr>\n",
       "      <th>3</th>\n",
       "      <td>\"\\nMore\\nI can't make any real suggestions on ...</td>\n",
       "      <td>0</td>\n",
       "    </tr>\n",
       "    <tr>\n",
       "      <th>4</th>\n",
       "      <td>You, sir, are my hero. Any chance you remember...</td>\n",
       "      <td>0</td>\n",
       "    </tr>\n",
       "  </tbody>\n",
       "</table>\n",
       "</div>"
      ],
      "text/plain": [
       "                                                text  toxic\n",
       "0  Explanation\\nWhy the edits made under my usern...      0\n",
       "1  D'aww! He matches this background colour I'm s...      0\n",
       "2  Hey man, I'm really not trying to edit war. It...      0\n",
       "3  \"\\nMore\\nI can't make any real suggestions on ...      0\n",
       "4  You, sir, are my hero. Any chance you remember...      0"
      ]
     },
     "execution_count": 3,
     "metadata": {},
     "output_type": "execute_result"
    }
   ],
   "source": [
    "toxic = toxic.drop('Unnamed: 0', axis = 1)\n",
    "toxic.head()"
   ]
  },
  {
   "cell_type": "code",
   "execution_count": 4,
   "metadata": {},
   "outputs": [
    {
     "data": {
      "text/plain": [
       "(159292, 2)"
      ]
     },
     "execution_count": 4,
     "metadata": {},
     "output_type": "execute_result"
    }
   ],
   "source": [
    "toxic.shape"
   ]
  },
  {
   "cell_type": "code",
   "execution_count": 5,
   "metadata": {},
   "outputs": [
    {
     "name": "stdout",
     "output_type": "stream",
     "text": [
      "<class 'pandas.core.frame.DataFrame'>\n",
      "RangeIndex: 159292 entries, 0 to 159291\n",
      "Data columns (total 2 columns):\n",
      " #   Column  Non-Null Count   Dtype \n",
      "---  ------  --------------   ----- \n",
      " 0   text    159292 non-null  object\n",
      " 1   toxic   159292 non-null  int64 \n",
      "dtypes: int64(1), object(1)\n",
      "memory usage: 2.4+ MB\n"
     ]
    }
   ],
   "source": [
    "toxic.info()"
   ]
  },
  {
   "cell_type": "code",
   "execution_count": 6,
   "metadata": {},
   "outputs": [
    {
     "data": {
      "text/plain": [
       "array([0, 1])"
      ]
     },
     "execution_count": 6,
     "metadata": {},
     "output_type": "execute_result"
    }
   ],
   "source": [
    "toxic['toxic'].unique()"
   ]
  },
  {
   "cell_type": "markdown",
   "metadata": {},
   "source": [
    "Можно оптимизировать столбец, сделав минимально возможный целый тип int8"
   ]
  },
  {
   "cell_type": "code",
   "execution_count": 7,
   "metadata": {},
   "outputs": [],
   "source": [
    "toxic['toxic'] = toxic['toxic'].astype('int8')"
   ]
  },
  {
   "cell_type": "markdown",
   "metadata": {},
   "source": [
    "Нужно проверить данные на дисбаланс, так как по первым столбцам можно заметить, что он возможен"
   ]
  },
  {
   "cell_type": "code",
   "execution_count": 8,
   "metadata": {
    "scrolled": true
   },
   "outputs": [
    {
     "data": {
      "text/plain": [
       "16186"
      ]
     },
     "execution_count": 8,
     "metadata": {},
     "output_type": "execute_result"
    }
   ],
   "source": [
    "len(toxic[toxic['toxic'] == 1])"
   ]
  },
  {
   "cell_type": "code",
   "execution_count": 9,
   "metadata": {
    "scrolled": true
   },
   "outputs": [
    {
     "data": {
      "text/html": [
       "<div>\n",
       "<style scoped>\n",
       "    .dataframe tbody tr th:only-of-type {\n",
       "        vertical-align: middle;\n",
       "    }\n",
       "\n",
       "    .dataframe tbody tr th {\n",
       "        vertical-align: top;\n",
       "    }\n",
       "\n",
       "    .dataframe thead th {\n",
       "        text-align: right;\n",
       "    }\n",
       "</style>\n",
       "<table border=\"1\" class=\"dataframe\">\n",
       "  <thead>\n",
       "    <tr style=\"text-align: right;\">\n",
       "      <th></th>\n",
       "      <th>text</th>\n",
       "      <th>toxic</th>\n",
       "    </tr>\n",
       "  </thead>\n",
       "  <tbody>\n",
       "    <tr>\n",
       "      <th>0</th>\n",
       "      <td>Explanation\\nWhy the edits made under my usern...</td>\n",
       "      <td>0</td>\n",
       "    </tr>\n",
       "    <tr>\n",
       "      <th>1</th>\n",
       "      <td>D'aww! He matches this background colour I'm s...</td>\n",
       "      <td>0</td>\n",
       "    </tr>\n",
       "    <tr>\n",
       "      <th>2</th>\n",
       "      <td>Hey man, I'm really not trying to edit war. It...</td>\n",
       "      <td>0</td>\n",
       "    </tr>\n",
       "    <tr>\n",
       "      <th>3</th>\n",
       "      <td>\"\\nMore\\nI can't make any real suggestions on ...</td>\n",
       "      <td>0</td>\n",
       "    </tr>\n",
       "    <tr>\n",
       "      <th>4</th>\n",
       "      <td>You, sir, are my hero. Any chance you remember...</td>\n",
       "      <td>0</td>\n",
       "    </tr>\n",
       "    <tr>\n",
       "      <th>...</th>\n",
       "      <td>...</td>\n",
       "      <td>...</td>\n",
       "    </tr>\n",
       "    <tr>\n",
       "      <th>159287</th>\n",
       "      <td>\":::::And for the second time of asking, when ...</td>\n",
       "      <td>0</td>\n",
       "    </tr>\n",
       "    <tr>\n",
       "      <th>159288</th>\n",
       "      <td>You should be ashamed of yourself \\n\\nThat is ...</td>\n",
       "      <td>0</td>\n",
       "    </tr>\n",
       "    <tr>\n",
       "      <th>159289</th>\n",
       "      <td>Spitzer \\n\\nUmm, theres no actual article for ...</td>\n",
       "      <td>0</td>\n",
       "    </tr>\n",
       "    <tr>\n",
       "      <th>159290</th>\n",
       "      <td>And it looks like it was actually you who put ...</td>\n",
       "      <td>0</td>\n",
       "    </tr>\n",
       "    <tr>\n",
       "      <th>159291</th>\n",
       "      <td>\"\\nAnd ... I really don't think you understand...</td>\n",
       "      <td>0</td>\n",
       "    </tr>\n",
       "  </tbody>\n",
       "</table>\n",
       "<p>159292 rows × 2 columns</p>\n",
       "</div>"
      ],
      "text/plain": [
       "                                                     text  toxic\n",
       "0       Explanation\\nWhy the edits made under my usern...      0\n",
       "1       D'aww! He matches this background colour I'm s...      0\n",
       "2       Hey man, I'm really not trying to edit war. It...      0\n",
       "3       \"\\nMore\\nI can't make any real suggestions on ...      0\n",
       "4       You, sir, are my hero. Any chance you remember...      0\n",
       "...                                                   ...    ...\n",
       "159287  \":::::And for the second time of asking, when ...      0\n",
       "159288  You should be ashamed of yourself \\n\\nThat is ...      0\n",
       "159289  Spitzer \\n\\nUmm, theres no actual article for ...      0\n",
       "159290  And it looks like it was actually you who put ...      0\n",
       "159291  \"\\nAnd ... I really don't think you understand...      0\n",
       "\n",
       "[159292 rows x 2 columns]"
      ]
     },
     "execution_count": 9,
     "metadata": {},
     "output_type": "execute_result"
    }
   ],
   "source": [
    "toxic"
   ]
  },
  {
   "cell_type": "markdown",
   "metadata": {},
   "source": [
    "Всего около 16 тысяч токсичных комментариев, а остальных почти в 10 раз больше. Это большая разница, которая повлияет на модель линейной регрессии, поэтому во время ее обучения устраним дисбаланс. Удалим строки с индексами > 50000, так как данных слишком много и даже достаточно простые моели будут очень долго обучаться"
   ]
  },
  {
   "cell_type": "code",
   "execution_count": 10,
   "metadata": {},
   "outputs": [
    {
     "data": {
      "text/html": [
       "<div>\n",
       "<style scoped>\n",
       "    .dataframe tbody tr th:only-of-type {\n",
       "        vertical-align: middle;\n",
       "    }\n",
       "\n",
       "    .dataframe tbody tr th {\n",
       "        vertical-align: top;\n",
       "    }\n",
       "\n",
       "    .dataframe thead th {\n",
       "        text-align: right;\n",
       "    }\n",
       "</style>\n",
       "<table border=\"1\" class=\"dataframe\">\n",
       "  <thead>\n",
       "    <tr style=\"text-align: right;\">\n",
       "      <th></th>\n",
       "      <th>text</th>\n",
       "      <th>toxic</th>\n",
       "    </tr>\n",
       "  </thead>\n",
       "  <tbody>\n",
       "    <tr>\n",
       "      <th>0</th>\n",
       "      <td>Explanation\\nWhy the edits made under my usern...</td>\n",
       "      <td>0</td>\n",
       "    </tr>\n",
       "    <tr>\n",
       "      <th>1</th>\n",
       "      <td>D'aww! He matches this background colour I'm s...</td>\n",
       "      <td>0</td>\n",
       "    </tr>\n",
       "    <tr>\n",
       "      <th>2</th>\n",
       "      <td>Hey man, I'm really not trying to edit war. It...</td>\n",
       "      <td>0</td>\n",
       "    </tr>\n",
       "    <tr>\n",
       "      <th>3</th>\n",
       "      <td>\"\\nMore\\nI can't make any real suggestions on ...</td>\n",
       "      <td>0</td>\n",
       "    </tr>\n",
       "    <tr>\n",
       "      <th>4</th>\n",
       "      <td>You, sir, are my hero. Any chance you remember...</td>\n",
       "      <td>0</td>\n",
       "    </tr>\n",
       "    <tr>\n",
       "      <th>...</th>\n",
       "      <td>...</td>\n",
       "      <td>...</td>\n",
       "    </tr>\n",
       "    <tr>\n",
       "      <th>49996</th>\n",
       "      <td>Yes, I know that.  Is there any reason why I s...</td>\n",
       "      <td>0</td>\n",
       "    </tr>\n",
       "    <tr>\n",
       "      <th>49997</th>\n",
       "      <td>It is about time we band RedDawn because he is...</td>\n",
       "      <td>0</td>\n",
       "    </tr>\n",
       "    <tr>\n",
       "      <th>49998</th>\n",
       "      <td>(No, I'm not talking about the current instanc...</td>\n",
       "      <td>0</td>\n",
       "    </tr>\n",
       "    <tr>\n",
       "      <th>49999</th>\n",
       "      <td>\"\\n\\nMuch appreciated River. I'll name it afte...</td>\n",
       "      <td>0</td>\n",
       "    </tr>\n",
       "    <tr>\n",
       "      <th>50000</th>\n",
       "      <td>Annexation vs. consolidation? \\n\\nSee historie...</td>\n",
       "      <td>0</td>\n",
       "    </tr>\n",
       "  </tbody>\n",
       "</table>\n",
       "<p>50001 rows × 2 columns</p>\n",
       "</div>"
      ],
      "text/plain": [
       "                                                    text  toxic\n",
       "0      Explanation\\nWhy the edits made under my usern...      0\n",
       "1      D'aww! He matches this background colour I'm s...      0\n",
       "2      Hey man, I'm really not trying to edit war. It...      0\n",
       "3      \"\\nMore\\nI can't make any real suggestions on ...      0\n",
       "4      You, sir, are my hero. Any chance you remember...      0\n",
       "...                                                  ...    ...\n",
       "49996  Yes, I know that.  Is there any reason why I s...      0\n",
       "49997  It is about time we band RedDawn because he is...      0\n",
       "49998  (No, I'm not talking about the current instanc...      0\n",
       "49999  \"\\n\\nMuch appreciated River. I'll name it afte...      0\n",
       "50000  Annexation vs. consolidation? \\n\\nSee historie...      0\n",
       "\n",
       "[50001 rows x 2 columns]"
      ]
     },
     "execution_count": 10,
     "metadata": {},
     "output_type": "execute_result"
    }
   ],
   "source": [
    "cut = toxic[toxic.index > 50000]\n",
    "toxic = toxic.drop(cut.index)\n",
    "toxic"
   ]
  },
  {
   "cell_type": "code",
   "execution_count": 11,
   "metadata": {
    "scrolled": true
   },
   "outputs": [
    {
     "name": "stdout",
     "output_type": "stream",
     "text": [
      "(35000, 1) (15001, 1) (35000,) (15001,)\n"
     ]
    }
   ],
   "source": [
    "X_train, X_test, y_train, y_test = train_test_split(toxic.drop('toxic', axis = 1), toxic['toxic'], test_size=0.3, random_state = 42)\n",
    "print(X_train.shape, X_test.shape, y_train.shape, y_test.shape)"
   ]
  },
  {
   "cell_type": "markdown",
   "metadata": {},
   "source": [
    "Получилось не ровно 35000 данных, по которым модели могут обучиться"
   ]
  },
  {
   "cell_type": "markdown",
   "metadata": {},
   "source": [
    "Теперь можно очистить текст, чтобы будущие модельки могли обучиться"
   ]
  },
  {
   "cell_type": "code",
   "execution_count": 12,
   "metadata": {
    "scrolled": true
   },
   "outputs": [
    {
     "data": {
      "text/html": [
       "<div>\n",
       "<style scoped>\n",
       "    .dataframe tbody tr th:only-of-type {\n",
       "        vertical-align: middle;\n",
       "    }\n",
       "\n",
       "    .dataframe tbody tr th {\n",
       "        vertical-align: top;\n",
       "    }\n",
       "\n",
       "    .dataframe thead th {\n",
       "        text-align: right;\n",
       "    }\n",
       "</style>\n",
       "<table border=\"1\" class=\"dataframe\">\n",
       "  <thead>\n",
       "    <tr style=\"text-align: right;\">\n",
       "      <th></th>\n",
       "      <th>text</th>\n",
       "      <th>clear</th>\n",
       "    </tr>\n",
       "  </thead>\n",
       "  <tbody>\n",
       "    <tr>\n",
       "      <th>40624</th>\n",
       "      <td>yes, i've already said this. sentinel (MHS) ha...</td>\n",
       "      <td>yes  i ve already said this  sentinel  MHS  ha...</td>\n",
       "    </tr>\n",
       "    <tr>\n",
       "      <th>49426</th>\n",
       "      <td>\"\\nI think the 1 million sales is total bullsh...</td>\n",
       "      <td>I think the   million sales is total bullshi...</td>\n",
       "    </tr>\n",
       "    <tr>\n",
       "      <th>35734</th>\n",
       "      <td>No problem, you fixed the article so there was...</td>\n",
       "      <td>No problem  you fixed the article so there was...</td>\n",
       "    </tr>\n",
       "    <tr>\n",
       "      <th>41709</th>\n",
       "      <td>\"\\n\\nInstead, I've removed the reference to a ...</td>\n",
       "      <td>Instead  I ve removed the reference to a pr...</td>\n",
       "    </tr>\n",
       "    <tr>\n",
       "      <th>31176</th>\n",
       "      <td>Kingdom Halls and Assembly Halls</td>\n",
       "      <td>Kingdom Halls and Assembly Halls</td>\n",
       "    </tr>\n",
       "  </tbody>\n",
       "</table>\n",
       "</div>"
      ],
      "text/plain": [
       "                                                    text  \\\n",
       "40624  yes, i've already said this. sentinel (MHS) ha...   \n",
       "49426  \"\\nI think the 1 million sales is total bullsh...   \n",
       "35734  No problem, you fixed the article so there was...   \n",
       "41709  \"\\n\\nInstead, I've removed the reference to a ...   \n",
       "31176                   Kingdom Halls and Assembly Halls   \n",
       "\n",
       "                                                   clear  \n",
       "40624  yes  i ve already said this  sentinel  MHS  ha...  \n",
       "49426    I think the   million sales is total bullshi...  \n",
       "35734  No problem  you fixed the article so there was...  \n",
       "41709     Instead  I ve removed the reference to a pr...  \n",
       "31176                   Kingdom Halls and Assembly Halls  "
      ]
     },
     "execution_count": 12,
     "metadata": {},
     "output_type": "execute_result"
    }
   ],
   "source": [
    "X_train['clear'] = X_train['text'].apply(lambda x: re.sub(r'[^a-zA-Z]', ' ', x))\n",
    "X_test['clear'] = X_test['text'].apply(lambda x: re.sub(r'[^a-zA-Z]', ' ', x))\n",
    "X_train.head()"
   ]
  },
  {
   "cell_type": "markdown",
   "metadata": {},
   "source": [
    "Лемматизируем очищенный текст"
   ]
  },
  {
   "cell_type": "code",
   "execution_count": 13,
   "metadata": {
    "scrolled": true
   },
   "outputs": [
    {
     "data": {
      "text/html": [
       "<div>\n",
       "<style scoped>\n",
       "    .dataframe tbody tr th:only-of-type {\n",
       "        vertical-align: middle;\n",
       "    }\n",
       "\n",
       "    .dataframe tbody tr th {\n",
       "        vertical-align: top;\n",
       "    }\n",
       "\n",
       "    .dataframe thead th {\n",
       "        text-align: right;\n",
       "    }\n",
       "</style>\n",
       "<table border=\"1\" class=\"dataframe\">\n",
       "  <thead>\n",
       "    <tr style=\"text-align: right;\">\n",
       "      <th></th>\n",
       "      <th>text</th>\n",
       "      <th>clear</th>\n",
       "      <th>lim_clear</th>\n",
       "    </tr>\n",
       "  </thead>\n",
       "  <tbody>\n",
       "    <tr>\n",
       "      <th>40624</th>\n",
       "      <td>yes, i've already said this. sentinel (MHS) ha...</td>\n",
       "      <td>yes  i ve already said this  sentinel  MHS  ha...</td>\n",
       "      <td>yes i ve already said this sentinel MHS had it...</td>\n",
       "    </tr>\n",
       "    <tr>\n",
       "      <th>49426</th>\n",
       "      <td>\"\\nI think the 1 million sales is total bullsh...</td>\n",
       "      <td>I think the   million sales is total bullshi...</td>\n",
       "      <td>I think the million sale is total bullshit tho...</td>\n",
       "    </tr>\n",
       "    <tr>\n",
       "      <th>35734</th>\n",
       "      <td>No problem, you fixed the article so there was...</td>\n",
       "      <td>No problem  you fixed the article so there was...</td>\n",
       "      <td>No problem you fixed the article so there wa n...</td>\n",
       "    </tr>\n",
       "    <tr>\n",
       "      <th>41709</th>\n",
       "      <td>\"\\n\\nInstead, I've removed the reference to a ...</td>\n",
       "      <td>Instead  I ve removed the reference to a pr...</td>\n",
       "      <td>Instead I ve removed the reference to a previo...</td>\n",
       "    </tr>\n",
       "    <tr>\n",
       "      <th>31176</th>\n",
       "      <td>Kingdom Halls and Assembly Halls</td>\n",
       "      <td>Kingdom Halls and Assembly Halls</td>\n",
       "      <td>Kingdom Halls and Assembly Halls</td>\n",
       "    </tr>\n",
       "  </tbody>\n",
       "</table>\n",
       "</div>"
      ],
      "text/plain": [
       "                                                    text  \\\n",
       "40624  yes, i've already said this. sentinel (MHS) ha...   \n",
       "49426  \"\\nI think the 1 million sales is total bullsh...   \n",
       "35734  No problem, you fixed the article so there was...   \n",
       "41709  \"\\n\\nInstead, I've removed the reference to a ...   \n",
       "31176                   Kingdom Halls and Assembly Halls   \n",
       "\n",
       "                                                   clear  \\\n",
       "40624  yes  i ve already said this  sentinel  MHS  ha...   \n",
       "49426    I think the   million sales is total bullshi...   \n",
       "35734  No problem  you fixed the article so there was...   \n",
       "41709     Instead  I ve removed the reference to a pr...   \n",
       "31176                   Kingdom Halls and Assembly Halls   \n",
       "\n",
       "                                               lim_clear  \n",
       "40624  yes i ve already said this sentinel MHS had it...  \n",
       "49426  I think the million sale is total bullshit tho...  \n",
       "35734  No problem you fixed the article so there wa n...  \n",
       "41709  Instead I ve removed the reference to a previo...  \n",
       "31176                   Kingdom Halls and Assembly Halls  "
      ]
     },
     "execution_count": 13,
     "metadata": {},
     "output_type": "execute_result"
    }
   ],
   "source": [
    "lemmatizer = WordNetLemmatizer()\n",
    "def lemmatize_text(text):\n",
    "    tokens = word_tokenize(text)\n",
    "    lemmatized_tokens = [lemmatizer.lemmatize(token) for token in tokens]\n",
    "    return ' '.join(lemmatized_tokens)\n",
    "\n",
    "X_train['lim_clear'] = X_train['clear'].apply(lambda x: lemmatize_text(x))\n",
    "X_test['lim_clear'] = X_test['clear'].apply(lambda x: lemmatize_text(x))\n",
    "X_train.head()"
   ]
  },
  {
   "cell_type": "code",
   "execution_count": 14,
   "metadata": {
    "scrolled": true
   },
   "outputs": [
    {
     "name": "stderr",
     "output_type": "stream",
     "text": [
      "[nltk_data] Downloading package stopwords to /home/jovyan/nltk_data...\n",
      "[nltk_data]   Package stopwords is already up-to-date!\n"
     ]
    },
    {
     "name": "stdout",
     "output_type": "stream",
     "text": [
      "Размер матрицы: (35000, 67259)\n"
     ]
    }
   ],
   "source": [
    "nltk.download('stopwords')\n",
    "stop_words = set(stopwords.words('english'))\n",
    "X_train = X_train.drop(['text', 'clear'], axis = 1)\n",
    "X_test = X_test.drop(['text', 'clear'], axis = 1)\n",
    "corpus_train = X_train['lim_clear'].values\n",
    "corpus_test = X_test['lim_clear'].values\n",
    "\n",
    "count_tf_idf = TfidfVectorizer(stop_words = stop_words)\n",
    "tfidf_train = count_tf_idf.fit_transform(corpus_train)\n",
    "tfidf_test = count_tf_idf.transform(corpus_test)\n",
    "print(\"Размер матрицы:\", tfidf_train.shape)"
   ]
  },
  {
   "cell_type": "markdown",
   "metadata": {},
   "source": [
    "Вот такая большая матрица у нас получилась. На этом подготовка данных для обучения модели завершается. Подведем итоги"
   ]
  },
  {
   "cell_type": "markdown",
   "metadata": {},
   "source": [
    "У нас получились подготовленные данные. Изначально их было слишком много. Это могло привести к очень долгому обучению модели, поэтому пришлось оставить чуть больше трети данных. Это не должно повлиять на недообучение модели, так как около 40 тысяч члучаев ей хватит. После этого мы их разделили на тренировочные и тестовые данные. Последние будем использовать только для итоговой модели, а тренировочные данные были лемматизированы, очищены и приведены в читаемый для компьютера вид с помощью TF-IDF. Получилась матрица размером 45212 на 78342"
   ]
  },
  {
   "cell_type": "markdown",
   "metadata": {},
   "source": [
    "## Обучение"
   ]
  },
  {
   "cell_type": "markdown",
   "metadata": {},
   "source": [
    "На данном этапе обучим нескольно логистических моделей. Начнем с регрессии"
   ]
  },
  {
   "cell_type": "code",
   "execution_count": 15,
   "metadata": {
    "scrolled": true
   },
   "outputs": [
    {
     "name": "stderr",
     "output_type": "stream",
     "text": [
      "/opt/conda/lib/python3.9/site-packages/sklearn/linear_model/_logistic.py:763: ConvergenceWarning: lbfgs failed to converge (status=1):\n",
      "STOP: TOTAL NO. of ITERATIONS REACHED LIMIT.\n",
      "\n",
      "Increase the number of iterations (max_iter) or scale the data as shown in:\n",
      "    https://scikit-learn.org/stable/modules/preprocessing.html\n",
      "Please also refer to the documentation for alternative solver options:\n",
      "    https://scikit-learn.org/stable/modules/linear_model.html#logistic-regression\n",
      "  n_iter_i = _check_optimize_result(\n"
     ]
    },
    {
     "name": "stdout",
     "output_type": "stream",
     "text": [
      "LogisticRegression(C=10, class_weight='balanced')\n",
      "0.9554343488093655\n"
     ]
    }
   ],
   "source": [
    "param_grid = {'C': [0.01, 0.1, 1, 10]}\n",
    "model = LogisticRegression(class_weight='balanced')\n",
    "gs = GridSearchCV(model, param_grid, scoring = 'f1', cv = 3)\n",
    "gs.fit(tfidf_train, y_train)\n",
    "pred = gs.predict(tfidf_train)\n",
    "best_model = gs.best_estimator_\n",
    "print(best_model)\n",
    "f1_1 = f1_score(y_train, pred)\n",
    "print(f1_1)"
   ]
  },
  {
   "cell_type": "markdown",
   "metadata": {},
   "source": [
    "С дисбалансом метрика была около 0.86, а без него уже окло 0.96 при параметре С = 10. Очень хороший результат. Можно проверить еще одну модель - дерево решений, вдруг она окажется лучше."
   ]
  },
  {
   "cell_type": "code",
   "execution_count": 16,
   "metadata": {
    "scrolled": false
   },
   "outputs": [
    {
     "name": "stdout",
     "output_type": "stream",
     "text": [
      "DecisionTreeClassifier(min_samples_leaf=5, min_samples_split=70,\n",
      "                       random_state=42)\n",
      "0.7765270898994446\n"
     ]
    }
   ],
   "source": [
    "param_grid = {\n",
    "    'max_depth': [3, 6, None],\n",
    "    'min_samples_split': [10, 30, 70],\n",
    "    'min_samples_leaf': [5, 15, 100]\n",
    "}\n",
    "model = DecisionTreeClassifier(random_state = 42)\n",
    "gs = GridSearchCV(model, param_grid, scoring = 'f1', cv = 3)\n",
    "gs.fit(tfidf_train, y_train)\n",
    "pred = gs.predict(tfidf_train)\n",
    "best_model = gs.best_estimator_\n",
    "print(best_model)\n",
    "f1_2 = f1_score(y_train, pred)\n",
    "print(f1_2)"
   ]
  },
  {
   "cell_type": "markdown",
   "metadata": {},
   "source": [
    "При параметрах min_samples_leaf = 5, min_samples_split = 70 и max_depth = None получилась неплохая метрика около 0.78, но она меньше регрессии. Ну и метрики в 0.96 будет достаточно, поэтому перейдем к проверке логистической регрессии на тестовой выборке"
   ]
  },
  {
   "cell_type": "code",
   "execution_count": 18,
   "metadata": {},
   "outputs": [
    {
     "name": "stdout",
     "output_type": "stream",
     "text": [
      "0.7561436672967863\n"
     ]
    }
   ],
   "source": [
    "model = LogisticRegression(class_weight='balanced', C = 10)\n",
    "model.fit(tfidf_train, y_train)\n",
    "pred = model.predict(tfidf_test)\n",
    "f1 = f1_score(y_test, pred)\n",
    "print(f1)"
   ]
  },
  {
   "cell_type": "markdown",
   "metadata": {},
   "source": [
    "на тестовой выборке метрика получилась 0.76. Это меньше, чем на тренировочной, но тоже неплохо. Можно подвести итоги шага"
   ]
  },
  {
   "cell_type": "markdown",
   "metadata": {},
   "source": [
    "Мы обучили две модели классификации. Это логистическая регрессия и дерево решений. Их метрики F1 на тренировочных выборках получились такими: 0.96 и 0.78. Лучшей моделью оказалась логистическая регрессия, которая на тестовой выборке показала результат хуже: 0.76"
   ]
  },
  {
   "cell_type": "markdown",
   "metadata": {},
   "source": [
    "## Выводы"
   ]
  },
  {
   "cell_type": "markdown",
   "metadata": {},
   "source": [
    "Мы помогли интернет-магазину \"Викишоп\" побороться с оскорбительными комментариями в их новом сервисе, где можно оставлять отзывы и отвечать другим пользователям, из-за чего между ними может возникнуть конфликт. Для этого было решено создать модель, которая сможет различать комментарии на плохие и хорошие. Перед этим мы проделил такие шаги:\n",
    "* Загрузили и подготовили данные. Заказчик предоставил нам их оченб много, поэтому мы оставили часть, чтобы модели могли достаточно быстро обучиться. После этого мы их разделили на тренировочные и тестовые данные. Последние использовали только для итоговой модели, а тренировочные данные были лемматизированы, очищены и приведены в читаемый для компьютера вид с помощью NtLK. Получилась матрица размером 40000 на 67259.\n",
    "* Обучение моделей. Ключевой этап проекта, в котором мы выбирали между двумя обученными моделями. Это логистическая регрессия и дерево решений. Их метрики F1 на тренировочных выборках получились такими: 0.96 и 0.78.\n",
    "\n",
    "Лучшей моделью оказалась логистическая регрессия, которая на тестовой выборке показала результат: 0.76\n"
   ]
  }
 ],
 "metadata": {
  "ExecuteTimeLog": [
   {
    "duration": 357,
    "start_time": "2024-04-01T13:01:57.475Z"
   },
   {
    "duration": 2363,
    "start_time": "2024-04-01T13:02:44.577Z"
   },
   {
    "duration": 834,
    "start_time": "2024-04-01T13:02:59.093Z"
   },
   {
    "duration": 15,
    "start_time": "2024-04-01T13:08:03.417Z"
   },
   {
    "duration": 15,
    "start_time": "2024-04-01T13:08:26.119Z"
   },
   {
    "duration": 2,
    "start_time": "2024-04-01T13:08:31.484Z"
   },
   {
    "duration": 914,
    "start_time": "2024-04-01T13:08:31.488Z"
   },
   {
    "duration": 13,
    "start_time": "2024-04-01T13:08:32.403Z"
   },
   {
    "duration": 13,
    "start_time": "2024-04-01T13:08:43.799Z"
   },
   {
    "duration": 60,
    "start_time": "2024-04-01T13:15:55.537Z"
   },
   {
    "duration": 28,
    "start_time": "2024-04-01T13:16:02.975Z"
   },
   {
    "duration": 81,
    "start_time": "2024-04-01T13:16:46.039Z"
   },
   {
    "duration": 4,
    "start_time": "2024-04-01T13:16:51.004Z"
   },
   {
    "duration": 9,
    "start_time": "2024-04-01T13:17:16.968Z"
   },
   {
    "duration": 5,
    "start_time": "2024-04-01T13:17:38.996Z"
   },
   {
    "duration": 3,
    "start_time": "2024-04-01T13:21:57.660Z"
   },
   {
    "duration": 28,
    "start_time": "2024-04-01T13:22:11.546Z"
   },
   {
    "duration": 12,
    "start_time": "2024-04-01T13:25:44.668Z"
   },
   {
    "duration": 4,
    "start_time": "2024-04-01T13:25:47.717Z"
   },
   {
    "duration": 11,
    "start_time": "2024-04-01T13:28:23.287Z"
   },
   {
    "duration": 399,
    "start_time": "2024-04-01T13:28:57.134Z"
   },
   {
    "duration": 868,
    "start_time": "2024-04-01T13:28:57.534Z"
   },
   {
    "duration": 11,
    "start_time": "2024-04-01T13:28:58.404Z"
   },
   {
    "duration": 9,
    "start_time": "2024-04-01T13:28:58.418Z"
   },
   {
    "duration": 48,
    "start_time": "2024-04-01T13:28:58.428Z"
   },
   {
    "duration": 20,
    "start_time": "2024-04-01T13:28:58.477Z"
   },
   {
    "duration": 44,
    "start_time": "2024-04-01T13:28:58.499Z"
   },
   {
    "duration": 81,
    "start_time": "2024-04-01T13:28:58.545Z"
   },
   {
    "duration": 24454,
    "start_time": "2024-04-01T13:31:09.024Z"
   },
   {
    "duration": 355,
    "start_time": "2024-04-01T13:31:38.898Z"
   },
   {
    "duration": 883,
    "start_time": "2024-04-01T13:31:39.255Z"
   },
   {
    "duration": 15,
    "start_time": "2024-04-01T13:31:40.140Z"
   },
   {
    "duration": 7,
    "start_time": "2024-04-01T13:31:40.156Z"
   },
   {
    "duration": 52,
    "start_time": "2024-04-01T13:31:40.165Z"
   },
   {
    "duration": 22,
    "start_time": "2024-04-01T13:31:40.219Z"
   },
   {
    "duration": 10,
    "start_time": "2024-04-01T13:31:40.243Z"
   },
   {
    "duration": 10866,
    "start_time": "2024-04-01T13:31:40.255Z"
   },
   {
    "duration": 392,
    "start_time": "2024-04-01T13:31:54.460Z"
   },
   {
    "duration": 949,
    "start_time": "2024-04-01T13:31:54.855Z"
   },
   {
    "duration": 12,
    "start_time": "2024-04-01T13:31:55.806Z"
   },
   {
    "duration": 4,
    "start_time": "2024-04-01T13:31:55.820Z"
   },
   {
    "duration": 43,
    "start_time": "2024-04-01T13:31:55.826Z"
   },
   {
    "duration": 4,
    "start_time": "2024-04-01T13:31:55.871Z"
   },
   {
    "duration": 5,
    "start_time": "2024-04-01T13:31:55.876Z"
   },
   {
    "duration": 79357,
    "start_time": "2024-04-01T13:31:55.883Z"
   },
   {
    "duration": 59,
    "start_time": "2024-04-01T13:44:11.243Z"
   },
   {
    "duration": 2,
    "start_time": "2024-04-01T13:45:54.361Z"
   },
   {
    "duration": 60,
    "start_time": "2024-04-01T13:51:07.142Z"
   },
   {
    "duration": 1086,
    "start_time": "2024-04-01T13:55:29.435Z"
   },
   {
    "duration": 386,
    "start_time": "2024-04-01T13:55:39.774Z"
   },
   {
    "duration": 899,
    "start_time": "2024-04-01T13:55:40.162Z"
   },
   {
    "duration": 13,
    "start_time": "2024-04-01T13:55:41.063Z"
   },
   {
    "duration": 7,
    "start_time": "2024-04-01T13:55:41.078Z"
   },
   {
    "duration": 36,
    "start_time": "2024-04-01T13:55:41.087Z"
   },
   {
    "duration": 7,
    "start_time": "2024-04-01T13:55:41.124Z"
   },
   {
    "duration": 36,
    "start_time": "2024-04-01T13:55:41.132Z"
   },
   {
    "duration": 77688,
    "start_time": "2024-04-01T13:55:41.169Z"
   },
   {
    "duration": 6344,
    "start_time": "2024-04-01T13:56:58.859Z"
   },
   {
    "duration": 449,
    "start_time": "2024-04-02T06:33:42.266Z"
   },
   {
    "duration": 3391,
    "start_time": "2024-04-02T06:33:42.718Z"
   },
   {
    "duration": 14,
    "start_time": "2024-04-02T06:33:46.111Z"
   },
   {
    "duration": 9,
    "start_time": "2024-04-02T06:33:46.127Z"
   },
   {
    "duration": 43,
    "start_time": "2024-04-02T06:33:46.137Z"
   },
   {
    "duration": 5,
    "start_time": "2024-04-02T06:33:46.181Z"
   },
   {
    "duration": 3,
    "start_time": "2024-04-02T06:33:46.188Z"
   },
   {
    "duration": 88367,
    "start_time": "2024-04-02T06:33:46.192Z"
   },
   {
    "duration": 6874,
    "start_time": "2024-04-02T06:35:14.560Z"
   },
   {
    "duration": 834,
    "start_time": "2024-04-02T07:15:56.593Z"
   },
   {
    "duration": 2,
    "start_time": "2024-04-02T07:16:47.847Z"
   },
   {
    "duration": 100,
    "start_time": "2024-04-02T07:35:29.747Z"
   },
   {
    "duration": 15,
    "start_time": "2024-04-02T07:35:39.850Z"
   },
   {
    "duration": 11,
    "start_time": "2024-04-02T07:53:06.793Z"
   },
   {
    "duration": 18,
    "start_time": "2024-04-02T07:53:13.844Z"
   },
   {
    "duration": 8,
    "start_time": "2024-04-02T08:03:19.581Z"
   },
   {
    "duration": 24,
    "start_time": "2024-04-02T08:20:38.236Z"
   },
   {
    "duration": 1200,
    "start_time": "2024-04-02T08:24:28.147Z"
   },
   {
    "duration": 1032,
    "start_time": "2024-04-02T08:24:29.349Z"
   },
   {
    "duration": 16,
    "start_time": "2024-04-02T08:24:30.383Z"
   },
   {
    "duration": 184,
    "start_time": "2024-04-02T08:24:30.401Z"
   },
   {
    "duration": 456,
    "start_time": "2024-04-02T08:24:30.586Z"
   },
   {
    "duration": 30,
    "start_time": "2024-04-02T08:24:31.043Z"
   },
   {
    "duration": 42,
    "start_time": "2024-04-02T08:24:31.075Z"
   },
   {
    "duration": 57,
    "start_time": "2024-04-02T08:24:31.118Z"
   },
   {
    "duration": 105,
    "start_time": "2024-04-02T08:24:31.177Z"
   },
   {
    "duration": 0,
    "start_time": "2024-04-02T08:24:31.284Z"
   },
   {
    "duration": 0,
    "start_time": "2024-04-02T08:24:31.285Z"
   },
   {
    "duration": 0,
    "start_time": "2024-04-02T08:24:31.286Z"
   },
   {
    "duration": 51,
    "start_time": "2024-04-02T08:25:19.075Z"
   },
   {
    "duration": 3,
    "start_time": "2024-04-02T08:33:23.045Z"
   },
   {
    "duration": 978,
    "start_time": "2024-04-02T08:33:23.050Z"
   },
   {
    "duration": 14,
    "start_time": "2024-04-02T08:33:24.030Z"
   },
   {
    "duration": 12,
    "start_time": "2024-04-02T08:33:24.045Z"
   },
   {
    "duration": 48,
    "start_time": "2024-04-02T08:33:24.058Z"
   },
   {
    "duration": 17,
    "start_time": "2024-04-02T08:33:24.107Z"
   },
   {
    "duration": 21,
    "start_time": "2024-04-02T08:33:24.126Z"
   },
   {
    "duration": 48,
    "start_time": "2024-04-02T08:33:24.149Z"
   },
   {
    "duration": 74,
    "start_time": "2024-04-02T08:33:24.199Z"
   },
   {
    "duration": 3,
    "start_time": "2024-04-02T08:33:36.250Z"
   },
   {
    "duration": 975,
    "start_time": "2024-04-02T08:33:36.255Z"
   },
   {
    "duration": 16,
    "start_time": "2024-04-02T08:33:37.232Z"
   },
   {
    "duration": 9,
    "start_time": "2024-04-02T08:33:37.250Z"
   },
   {
    "duration": 41,
    "start_time": "2024-04-02T08:33:37.281Z"
   },
   {
    "duration": 5,
    "start_time": "2024-04-02T08:33:37.324Z"
   },
   {
    "duration": 14,
    "start_time": "2024-04-02T08:33:37.331Z"
   },
   {
    "duration": 11,
    "start_time": "2024-04-02T08:33:37.346Z"
   },
   {
    "duration": 3,
    "start_time": "2024-04-02T08:33:42.187Z"
   },
   {
    "duration": 970,
    "start_time": "2024-04-02T08:33:42.192Z"
   },
   {
    "duration": 22,
    "start_time": "2024-04-02T08:33:43.164Z"
   },
   {
    "duration": 15,
    "start_time": "2024-04-02T08:33:43.188Z"
   },
   {
    "duration": 43,
    "start_time": "2024-04-02T08:33:43.205Z"
   },
   {
    "duration": 5,
    "start_time": "2024-04-02T08:33:43.250Z"
   },
   {
    "duration": 14,
    "start_time": "2024-04-02T08:33:43.257Z"
   },
   {
    "duration": 8,
    "start_time": "2024-04-02T08:33:43.273Z"
   },
   {
    "duration": 36,
    "start_time": "2024-04-02T08:33:43.283Z"
   },
   {
    "duration": 1157,
    "start_time": "2024-04-02T08:33:54.051Z"
   },
   {
    "duration": 1021,
    "start_time": "2024-04-02T08:33:55.210Z"
   },
   {
    "duration": 14,
    "start_time": "2024-04-02T08:33:56.233Z"
   },
   {
    "duration": 7,
    "start_time": "2024-04-02T08:33:56.249Z"
   },
   {
    "duration": 48,
    "start_time": "2024-04-02T08:33:56.258Z"
   },
   {
    "duration": 26,
    "start_time": "2024-04-02T08:33:56.307Z"
   },
   {
    "duration": 4,
    "start_time": "2024-04-02T08:33:56.334Z"
   },
   {
    "duration": 13,
    "start_time": "2024-04-02T08:33:56.339Z"
   },
   {
    "duration": 69,
    "start_time": "2024-04-02T08:33:56.354Z"
   },
   {
    "duration": 27682,
    "start_time": "2024-04-02T08:33:56.425Z"
   },
   {
    "duration": 0,
    "start_time": "2024-04-02T08:34:24.110Z"
   },
   {
    "duration": 0,
    "start_time": "2024-04-02T08:34:24.111Z"
   },
   {
    "duration": 1144,
    "start_time": "2024-04-02T08:46:10.417Z"
   },
   {
    "duration": 1036,
    "start_time": "2024-04-02T08:46:11.562Z"
   },
   {
    "duration": 14,
    "start_time": "2024-04-02T08:46:12.599Z"
   },
   {
    "duration": 9,
    "start_time": "2024-04-02T08:46:12.615Z"
   },
   {
    "duration": 34,
    "start_time": "2024-04-02T08:46:12.625Z"
   },
   {
    "duration": 24,
    "start_time": "2024-04-02T08:46:12.661Z"
   },
   {
    "duration": 4,
    "start_time": "2024-04-02T08:46:12.687Z"
   },
   {
    "duration": 16,
    "start_time": "2024-04-02T08:46:12.693Z"
   },
   {
    "duration": 123,
    "start_time": "2024-04-02T08:46:12.711Z"
   },
   {
    "duration": 0,
    "start_time": "2024-04-02T08:46:12.836Z"
   },
   {
    "duration": 0,
    "start_time": "2024-04-02T08:46:12.838Z"
   },
   {
    "duration": 0,
    "start_time": "2024-04-02T08:46:12.839Z"
   },
   {
    "duration": 99,
    "start_time": "2024-04-02T08:46:58.223Z"
   },
   {
    "duration": 125,
    "start_time": "2024-04-02T08:47:10.534Z"
   },
   {
    "duration": 7924,
    "start_time": "2024-04-02T08:48:33.182Z"
   },
   {
    "duration": 972,
    "start_time": "2024-04-02T08:50:03.788Z"
   },
   {
    "duration": 1060,
    "start_time": "2024-04-02T08:50:04.762Z"
   },
   {
    "duration": 15,
    "start_time": "2024-04-02T08:50:05.823Z"
   },
   {
    "duration": 28,
    "start_time": "2024-04-02T08:50:05.840Z"
   },
   {
    "duration": 67,
    "start_time": "2024-04-02T08:50:05.870Z"
   },
   {
    "duration": 5,
    "start_time": "2024-04-02T08:50:05.939Z"
   },
   {
    "duration": 11,
    "start_time": "2024-04-02T08:50:05.946Z"
   },
   {
    "duration": 39,
    "start_time": "2024-04-02T08:50:05.958Z"
   },
   {
    "duration": 8687,
    "start_time": "2024-04-02T08:50:05.999Z"
   },
   {
    "duration": 0,
    "start_time": "2024-04-02T08:50:14.688Z"
   },
   {
    "duration": 0,
    "start_time": "2024-04-02T08:50:14.690Z"
   },
   {
    "duration": 0,
    "start_time": "2024-04-02T08:50:14.691Z"
   },
   {
    "duration": 0,
    "start_time": "2024-04-02T08:50:14.692Z"
   },
   {
    "duration": 8547,
    "start_time": "2024-04-02T08:53:29.576Z"
   },
   {
    "duration": 30,
    "start_time": "2024-04-02T08:53:47.370Z"
   },
   {
    "duration": 934,
    "start_time": "2024-04-02T08:57:21.120Z"
   },
   {
    "duration": 1011,
    "start_time": "2024-04-02T08:57:22.056Z"
   },
   {
    "duration": 17,
    "start_time": "2024-04-02T08:57:23.069Z"
   },
   {
    "duration": 6,
    "start_time": "2024-04-02T08:57:23.089Z"
   },
   {
    "duration": 84,
    "start_time": "2024-04-02T08:57:23.097Z"
   },
   {
    "duration": 7,
    "start_time": "2024-04-02T08:57:23.186Z"
   },
   {
    "duration": 9,
    "start_time": "2024-04-02T08:57:23.194Z"
   },
   {
    "duration": 13,
    "start_time": "2024-04-02T08:57:23.205Z"
   },
   {
    "duration": 8448,
    "start_time": "2024-04-02T08:57:23.220Z"
   },
   {
    "duration": 194,
    "start_time": "2024-04-02T08:57:31.670Z"
   },
   {
    "duration": 0,
    "start_time": "2024-04-02T08:57:31.865Z"
   },
   {
    "duration": 0,
    "start_time": "2024-04-02T08:57:31.866Z"
   },
   {
    "duration": 0,
    "start_time": "2024-04-02T08:57:31.867Z"
   },
   {
    "duration": 67,
    "start_time": "2024-04-02T08:59:47.804Z"
   },
   {
    "duration": 71,
    "start_time": "2024-04-02T09:01:46.974Z"
   },
   {
    "duration": 983,
    "start_time": "2024-04-02T09:01:53.594Z"
   },
   {
    "duration": 1016,
    "start_time": "2024-04-02T09:01:54.579Z"
   },
   {
    "duration": 14,
    "start_time": "2024-04-02T09:01:55.596Z"
   },
   {
    "duration": 10,
    "start_time": "2024-04-02T09:01:55.612Z"
   },
   {
    "duration": 32,
    "start_time": "2024-04-02T09:01:55.624Z"
   },
   {
    "duration": 25,
    "start_time": "2024-04-02T09:01:55.657Z"
   },
   {
    "duration": 4,
    "start_time": "2024-04-02T09:01:55.683Z"
   },
   {
    "duration": 11,
    "start_time": "2024-04-02T09:01:55.688Z"
   },
   {
    "duration": 8499,
    "start_time": "2024-04-02T09:01:55.701Z"
   },
   {
    "duration": 106,
    "start_time": "2024-04-02T09:02:04.203Z"
   },
   {
    "duration": 95501,
    "start_time": "2024-04-02T09:02:04.310Z"
   },
   {
    "duration": 7169,
    "start_time": "2024-04-02T09:03:39.812Z"
   },
   {
    "duration": 59,
    "start_time": "2024-04-02T09:03:46.983Z"
   },
   {
    "duration": 137,
    "start_time": "2024-04-02T09:03:47.044Z"
   },
   {
    "duration": 14,
    "start_time": "2024-04-02T09:04:06.262Z"
   },
   {
    "duration": 14,
    "start_time": "2024-04-02T09:04:25.580Z"
   },
   {
    "duration": 14,
    "start_time": "2024-04-02T09:04:38.685Z"
   },
   {
    "duration": 1082,
    "start_time": "2024-04-02T09:05:04.175Z"
   },
   {
    "duration": 1053,
    "start_time": "2024-04-02T09:05:05.259Z"
   },
   {
    "duration": 17,
    "start_time": "2024-04-02T09:05:06.314Z"
   },
   {
    "duration": 14,
    "start_time": "2024-04-02T09:05:06.334Z"
   },
   {
    "duration": 65,
    "start_time": "2024-04-02T09:05:06.350Z"
   },
   {
    "duration": 20,
    "start_time": "2024-04-02T09:05:06.416Z"
   },
   {
    "duration": 27,
    "start_time": "2024-04-02T09:05:06.438Z"
   },
   {
    "duration": 14,
    "start_time": "2024-04-02T09:05:06.467Z"
   },
   {
    "duration": 8491,
    "start_time": "2024-04-02T09:05:06.483Z"
   },
   {
    "duration": 110,
    "start_time": "2024-04-02T09:05:14.979Z"
   },
   {
    "duration": 92681,
    "start_time": "2024-04-02T09:05:15.092Z"
   },
   {
    "duration": 7098,
    "start_time": "2024-04-02T09:06:47.780Z"
   },
   {
    "duration": 58,
    "start_time": "2024-04-02T09:06:54.880Z"
   },
   {
    "duration": 976,
    "start_time": "2024-04-02T09:12:26.356Z"
   },
   {
    "duration": 1013,
    "start_time": "2024-04-02T09:12:27.334Z"
   },
   {
    "duration": 14,
    "start_time": "2024-04-02T09:12:28.349Z"
   },
   {
    "duration": 17,
    "start_time": "2024-04-02T09:12:28.365Z"
   },
   {
    "duration": 81,
    "start_time": "2024-04-02T09:12:28.384Z"
   },
   {
    "duration": 5,
    "start_time": "2024-04-02T09:12:28.466Z"
   },
   {
    "duration": 11,
    "start_time": "2024-04-02T09:12:28.472Z"
   },
   {
    "duration": 11,
    "start_time": "2024-04-02T09:12:28.484Z"
   },
   {
    "duration": 8453,
    "start_time": "2024-04-02T09:12:28.497Z"
   },
   {
    "duration": 204,
    "start_time": "2024-04-02T09:12:36.954Z"
   },
   {
    "duration": 0,
    "start_time": "2024-04-02T09:12:37.159Z"
   },
   {
    "duration": 0,
    "start_time": "2024-04-02T09:12:37.161Z"
   },
   {
    "duration": 0,
    "start_time": "2024-04-02T09:12:37.162Z"
   },
   {
    "duration": 67,
    "start_time": "2024-04-02T09:14:46.037Z"
   },
   {
    "duration": 890,
    "start_time": "2024-04-02T09:15:15.034Z"
   },
   {
    "duration": 1031,
    "start_time": "2024-04-02T09:15:15.926Z"
   },
   {
    "duration": 23,
    "start_time": "2024-04-02T09:15:16.959Z"
   },
   {
    "duration": 23,
    "start_time": "2024-04-02T09:15:16.983Z"
   },
   {
    "duration": 37,
    "start_time": "2024-04-02T09:15:17.008Z"
   },
   {
    "duration": 19,
    "start_time": "2024-04-02T09:15:17.047Z"
   },
   {
    "duration": 4,
    "start_time": "2024-04-02T09:15:17.068Z"
   },
   {
    "duration": 10,
    "start_time": "2024-04-02T09:15:17.073Z"
   },
   {
    "duration": 8387,
    "start_time": "2024-04-02T09:15:17.085Z"
   },
   {
    "duration": 227,
    "start_time": "2024-04-02T09:15:25.475Z"
   },
   {
    "duration": 0,
    "start_time": "2024-04-02T09:15:25.704Z"
   },
   {
    "duration": 0,
    "start_time": "2024-04-02T09:15:25.705Z"
   },
   {
    "duration": 0,
    "start_time": "2024-04-02T09:15:25.707Z"
   },
   {
    "duration": 79,
    "start_time": "2024-04-02T09:17:38.841Z"
   },
   {
    "duration": 1007,
    "start_time": "2024-04-02T09:24:58.959Z"
   },
   {
    "duration": 1064,
    "start_time": "2024-04-02T09:24:59.968Z"
   },
   {
    "duration": 15,
    "start_time": "2024-04-02T09:25:01.034Z"
   },
   {
    "duration": 81,
    "start_time": "2024-04-02T09:25:01.051Z"
   },
   {
    "duration": 87,
    "start_time": "2024-04-02T09:25:01.134Z"
   },
   {
    "duration": 32,
    "start_time": "2024-04-02T09:25:01.223Z"
   },
   {
    "duration": 71,
    "start_time": "2024-04-02T09:25:01.257Z"
   },
   {
    "duration": 170,
    "start_time": "2024-04-02T09:25:01.330Z"
   },
   {
    "duration": 8822,
    "start_time": "2024-04-02T09:25:01.502Z"
   },
   {
    "duration": 125,
    "start_time": "2024-04-02T09:25:10.326Z"
   },
   {
    "duration": 162,
    "start_time": "2024-04-02T09:25:10.454Z"
   },
   {
    "duration": 0,
    "start_time": "2024-04-02T09:25:10.618Z"
   },
   {
    "duration": 0,
    "start_time": "2024-04-02T09:25:10.619Z"
   },
   {
    "duration": 19,
    "start_time": "2024-04-02T09:27:07.701Z"
   },
   {
    "duration": 21,
    "start_time": "2024-04-02T09:28:13.358Z"
   },
   {
    "duration": 20,
    "start_time": "2024-04-02T09:28:56.710Z"
   },
   {
    "duration": 12,
    "start_time": "2024-04-02T09:28:59.953Z"
   },
   {
    "duration": 906,
    "start_time": "2024-04-02T09:30:27.025Z"
   },
   {
    "duration": 1048,
    "start_time": "2024-04-02T09:30:27.933Z"
   },
   {
    "duration": 14,
    "start_time": "2024-04-02T09:30:28.983Z"
   },
   {
    "duration": 7,
    "start_time": "2024-04-02T09:30:28.999Z"
   },
   {
    "duration": 37,
    "start_time": "2024-04-02T09:30:29.008Z"
   },
   {
    "duration": 8,
    "start_time": "2024-04-02T09:30:29.047Z"
   },
   {
    "duration": 23,
    "start_time": "2024-04-02T09:30:29.057Z"
   },
   {
    "duration": 11,
    "start_time": "2024-04-02T09:30:29.082Z"
   },
   {
    "duration": 8357,
    "start_time": "2024-04-02T09:30:29.095Z"
   },
   {
    "duration": 231,
    "start_time": "2024-04-02T09:30:37.455Z"
   },
   {
    "duration": 0,
    "start_time": "2024-04-02T09:30:37.688Z"
   },
   {
    "duration": 0,
    "start_time": "2024-04-02T09:30:37.689Z"
   },
   {
    "duration": 0,
    "start_time": "2024-04-02T09:30:37.691Z"
   },
   {
    "duration": 0,
    "start_time": "2024-04-02T09:30:37.692Z"
   },
   {
    "duration": 71,
    "start_time": "2024-04-02T09:30:44.423Z"
   },
   {
    "duration": 9,
    "start_time": "2024-04-02T09:30:46.248Z"
   },
   {
    "duration": 13938,
    "start_time": "2024-04-02T09:30:46.607Z"
   },
   {
    "duration": 1100,
    "start_time": "2024-04-02T09:31:31.391Z"
   },
   {
    "duration": 904,
    "start_time": "2024-04-02T09:31:48.624Z"
   },
   {
    "duration": 1029,
    "start_time": "2024-04-02T09:31:49.530Z"
   },
   {
    "duration": 16,
    "start_time": "2024-04-02T09:31:50.560Z"
   },
   {
    "duration": 5,
    "start_time": "2024-04-02T09:31:50.581Z"
   },
   {
    "duration": 35,
    "start_time": "2024-04-02T09:31:50.587Z"
   },
   {
    "duration": 7,
    "start_time": "2024-04-02T09:31:50.623Z"
   },
   {
    "duration": 4,
    "start_time": "2024-04-02T09:31:50.631Z"
   },
   {
    "duration": 43,
    "start_time": "2024-04-02T09:31:50.637Z"
   },
   {
    "duration": 8443,
    "start_time": "2024-04-02T09:31:50.682Z"
   },
   {
    "duration": 110,
    "start_time": "2024-04-02T09:31:59.128Z"
   },
   {
    "duration": 16,
    "start_time": "2024-04-02T09:31:59.240Z"
   },
   {
    "duration": 13893,
    "start_time": "2024-04-02T09:31:59.258Z"
   },
   {
    "duration": 1003,
    "start_time": "2024-04-02T09:32:13.153Z"
   },
   {
    "duration": 6,
    "start_time": "2024-04-02T09:32:14.157Z"
   },
   {
    "duration": 1040,
    "start_time": "2024-04-02T09:36:08.369Z"
   },
   {
    "duration": 1037,
    "start_time": "2024-04-02T09:36:09.411Z"
   },
   {
    "duration": 31,
    "start_time": "2024-04-02T09:36:10.450Z"
   },
   {
    "duration": 12,
    "start_time": "2024-04-02T09:36:10.484Z"
   },
   {
    "duration": 42,
    "start_time": "2024-04-02T09:36:10.499Z"
   },
   {
    "duration": 5,
    "start_time": "2024-04-02T09:36:10.544Z"
   },
   {
    "duration": 4,
    "start_time": "2024-04-02T09:36:10.551Z"
   },
   {
    "duration": 32,
    "start_time": "2024-04-02T09:36:10.556Z"
   },
   {
    "duration": 8580,
    "start_time": "2024-04-02T09:36:10.589Z"
   },
   {
    "duration": 119,
    "start_time": "2024-04-02T09:36:19.172Z"
   },
   {
    "duration": 10,
    "start_time": "2024-04-02T09:36:19.293Z"
   },
   {
    "duration": 14003,
    "start_time": "2024-04-02T09:36:19.304Z"
   },
   {
    "duration": 159,
    "start_time": "2024-04-02T09:36:33.310Z"
   },
   {
    "duration": 0,
    "start_time": "2024-04-02T09:36:33.471Z"
   },
   {
    "duration": 1030,
    "start_time": "2024-04-02T09:38:39.029Z"
   },
   {
    "duration": 1024,
    "start_time": "2024-04-02T09:38:40.061Z"
   },
   {
    "duration": 15,
    "start_time": "2024-04-02T09:38:41.086Z"
   },
   {
    "duration": 18,
    "start_time": "2024-04-02T09:38:41.103Z"
   },
   {
    "duration": 33,
    "start_time": "2024-04-02T09:38:41.123Z"
   },
   {
    "duration": 10,
    "start_time": "2024-04-02T09:38:41.157Z"
   },
   {
    "duration": 12,
    "start_time": "2024-04-02T09:38:41.169Z"
   },
   {
    "duration": 19,
    "start_time": "2024-04-02T09:38:41.183Z"
   },
   {
    "duration": 8381,
    "start_time": "2024-04-02T09:38:41.203Z"
   },
   {
    "duration": 107,
    "start_time": "2024-04-02T09:38:49.587Z"
   },
   {
    "duration": 9,
    "start_time": "2024-04-02T09:38:49.695Z"
   },
   {
    "duration": 13901,
    "start_time": "2024-04-02T09:38:49.706Z"
   },
   {
    "duration": 984,
    "start_time": "2024-04-02T09:39:03.608Z"
   },
   {
    "duration": 16,
    "start_time": "2024-04-02T09:39:04.594Z"
   },
   {
    "duration": 1090,
    "start_time": "2024-04-03T09:27:16.400Z"
   },
   {
    "duration": 3473,
    "start_time": "2024-04-03T09:27:17.492Z"
   },
   {
    "duration": 13,
    "start_time": "2024-04-03T09:27:20.966Z"
   },
   {
    "duration": 43,
    "start_time": "2024-04-03T09:27:20.981Z"
   },
   {
    "duration": 61,
    "start_time": "2024-04-03T09:27:21.025Z"
   },
   {
    "duration": 27,
    "start_time": "2024-04-03T09:27:21.087Z"
   },
   {
    "duration": 36,
    "start_time": "2024-04-03T09:27:21.115Z"
   },
   {
    "duration": 18,
    "start_time": "2024-04-03T09:27:21.153Z"
   },
   {
    "duration": 28,
    "start_time": "2024-04-03T09:27:21.172Z"
   },
   {
    "duration": 58,
    "start_time": "2024-04-03T09:27:21.202Z"
   },
   {
    "duration": 15,
    "start_time": "2024-04-03T09:30:02.230Z"
   },
   {
    "duration": 100,
    "start_time": "2024-04-03T09:31:11.754Z"
   },
   {
    "duration": 40,
    "start_time": "2024-04-03T09:31:18.414Z"
   },
   {
    "duration": 4,
    "start_time": "2024-04-03T09:34:56.932Z"
   },
   {
    "duration": 901,
    "start_time": "2024-04-03T09:34:56.938Z"
   },
   {
    "duration": 13,
    "start_time": "2024-04-03T09:34:57.841Z"
   },
   {
    "duration": 48,
    "start_time": "2024-04-03T09:34:57.856Z"
   },
   {
    "duration": 59,
    "start_time": "2024-04-03T09:34:57.906Z"
   },
   {
    "duration": 60,
    "start_time": "2024-04-03T09:34:57.967Z"
   },
   {
    "duration": 21,
    "start_time": "2024-04-03T09:34:58.029Z"
   },
   {
    "duration": 85,
    "start_time": "2024-04-03T09:34:58.052Z"
   },
   {
    "duration": 31,
    "start_time": "2024-04-03T09:34:58.138Z"
   },
   {
    "duration": 58,
    "start_time": "2024-04-03T09:34:58.171Z"
   },
   {
    "duration": 16,
    "start_time": "2024-04-03T09:34:58.230Z"
   },
   {
    "duration": 3,
    "start_time": "2024-04-03T09:37:46.885Z"
   },
   {
    "duration": 849,
    "start_time": "2024-04-03T09:37:46.889Z"
   },
   {
    "duration": 12,
    "start_time": "2024-04-03T09:37:47.740Z"
   },
   {
    "duration": 28,
    "start_time": "2024-04-03T09:37:47.754Z"
   },
   {
    "duration": 54,
    "start_time": "2024-04-03T09:37:47.783Z"
   },
   {
    "duration": 47,
    "start_time": "2024-04-03T09:37:47.839Z"
   },
   {
    "duration": 58,
    "start_time": "2024-04-03T09:37:47.888Z"
   },
   {
    "duration": 46,
    "start_time": "2024-04-03T09:37:47.948Z"
   },
   {
    "duration": 21,
    "start_time": "2024-04-03T09:37:47.996Z"
   },
   {
    "duration": 66,
    "start_time": "2024-04-03T09:37:48.018Z"
   },
   {
    "duration": 21,
    "start_time": "2024-04-03T09:37:48.085Z"
   },
   {
    "duration": 21,
    "start_time": "2024-04-03T09:37:48.108Z"
   },
   {
    "duration": 23364,
    "start_time": "2024-04-03T09:37:48.131Z"
   },
   {
    "duration": 1682,
    "start_time": "2024-04-03T09:38:11.496Z"
   },
   {
    "duration": 22,
    "start_time": "2024-04-03T09:38:13.179Z"
   },
   {
    "duration": 11,
    "start_time": "2024-04-03T09:57:43.271Z"
   },
   {
    "duration": 1112,
    "start_time": "2024-04-03T09:58:28.812Z"
   },
   {
    "duration": 963,
    "start_time": "2024-04-03T09:58:29.926Z"
   },
   {
    "duration": 14,
    "start_time": "2024-04-03T09:58:30.891Z"
   },
   {
    "duration": 86,
    "start_time": "2024-04-03T09:58:30.907Z"
   },
   {
    "duration": 73,
    "start_time": "2024-04-03T09:58:30.994Z"
   },
   {
    "duration": 66,
    "start_time": "2024-04-03T09:58:31.069Z"
   },
   {
    "duration": 59,
    "start_time": "2024-04-03T09:58:31.136Z"
   },
   {
    "duration": 82,
    "start_time": "2024-04-03T09:58:31.196Z"
   },
   {
    "duration": 39,
    "start_time": "2024-04-03T09:58:31.279Z"
   },
   {
    "duration": 158,
    "start_time": "2024-04-03T09:58:31.321Z"
   },
   {
    "duration": 136,
    "start_time": "2024-04-03T09:58:31.481Z"
   },
   {
    "duration": 23989,
    "start_time": "2024-04-03T09:58:31.619Z"
   },
   {
    "duration": 1790,
    "start_time": "2024-04-03T09:58:55.610Z"
   },
   {
    "duration": 19,
    "start_time": "2024-04-03T09:58:57.402Z"
   },
   {
    "duration": 133,
    "start_time": "2024-04-03T09:58:57.422Z"
   },
   {
    "duration": 14,
    "start_time": "2024-04-03T10:04:35.150Z"
   },
   {
    "duration": 17,
    "start_time": "2024-04-03T10:04:39.827Z"
   },
   {
    "duration": 50,
    "start_time": "2024-04-03T10:04:45.870Z"
   },
   {
    "duration": 9,
    "start_time": "2024-04-03T10:05:48.207Z"
   },
   {
    "duration": 3,
    "start_time": "2024-04-03T10:06:05.168Z"
   },
   {
    "duration": 860,
    "start_time": "2024-04-03T10:06:05.172Z"
   },
   {
    "duration": 12,
    "start_time": "2024-04-03T10:06:06.034Z"
   },
   {
    "duration": 16,
    "start_time": "2024-04-03T10:06:06.048Z"
   },
   {
    "duration": 52,
    "start_time": "2024-04-03T10:06:06.066Z"
   },
   {
    "duration": 21,
    "start_time": "2024-04-03T10:06:06.120Z"
   },
   {
    "duration": 16,
    "start_time": "2024-04-03T10:06:06.143Z"
   },
   {
    "duration": 69,
    "start_time": "2024-04-03T10:06:06.160Z"
   },
   {
    "duration": 43,
    "start_time": "2024-04-03T10:06:06.231Z"
   },
   {
    "duration": 83,
    "start_time": "2024-04-03T10:06:06.275Z"
   },
   {
    "duration": 14,
    "start_time": "2024-04-03T10:06:06.359Z"
   },
   {
    "duration": 23751,
    "start_time": "2024-04-03T10:06:06.374Z"
   },
   {
    "duration": 1771,
    "start_time": "2024-04-03T10:06:30.127Z"
   },
   {
    "duration": 17,
    "start_time": "2024-04-03T10:06:31.899Z"
   },
   {
    "duration": 108,
    "start_time": "2024-04-03T10:06:31.918Z"
   },
   {
    "duration": 52,
    "start_time": "2024-04-03T17:14:57.858Z"
   },
   {
    "duration": 1268,
    "start_time": "2024-04-03T17:15:10.872Z"
   },
   {
    "duration": 3444,
    "start_time": "2024-04-03T17:15:12.142Z"
   },
   {
    "duration": 15,
    "start_time": "2024-04-03T17:15:15.587Z"
   },
   {
    "duration": 40,
    "start_time": "2024-04-03T17:15:15.605Z"
   },
   {
    "duration": 52,
    "start_time": "2024-04-03T17:15:15.647Z"
   },
   {
    "duration": 22,
    "start_time": "2024-04-03T17:15:15.700Z"
   },
   {
    "duration": 16,
    "start_time": "2024-04-03T17:15:15.724Z"
   },
   {
    "duration": 45,
    "start_time": "2024-04-03T17:15:15.741Z"
   },
   {
    "duration": 9,
    "start_time": "2024-04-03T17:15:15.788Z"
   },
   {
    "duration": 59,
    "start_time": "2024-04-03T17:15:15.800Z"
   },
   {
    "duration": 30,
    "start_time": "2024-04-03T17:15:15.860Z"
   },
   {
    "duration": 26854,
    "start_time": "2024-04-03T17:15:15.892Z"
   },
   {
    "duration": 1999,
    "start_time": "2024-04-03T17:15:42.748Z"
   },
   {
    "duration": 31,
    "start_time": "2024-04-03T17:15:44.749Z"
   },
   {
    "duration": 174,
    "start_time": "2024-04-03T17:15:44.782Z"
   },
   {
    "duration": 51,
    "start_time": "2024-04-03T17:16:53.321Z"
   },
   {
    "duration": 1135,
    "start_time": "2024-04-03T17:17:04.403Z"
   },
   {
    "duration": 1040,
    "start_time": "2024-04-03T17:17:05.540Z"
   },
   {
    "duration": 14,
    "start_time": "2024-04-03T17:17:06.582Z"
   },
   {
    "duration": 18,
    "start_time": "2024-04-03T17:17:06.599Z"
   },
   {
    "duration": 50,
    "start_time": "2024-04-03T17:17:06.618Z"
   },
   {
    "duration": 5,
    "start_time": "2024-04-03T17:17:06.670Z"
   },
   {
    "duration": 7,
    "start_time": "2024-04-03T17:17:06.676Z"
   },
   {
    "duration": 22,
    "start_time": "2024-04-03T17:17:06.685Z"
   },
   {
    "duration": 16,
    "start_time": "2024-04-03T17:17:06.709Z"
   },
   {
    "duration": 55,
    "start_time": "2024-04-03T17:17:06.727Z"
   },
   {
    "duration": 14,
    "start_time": "2024-04-03T17:17:06.784Z"
   },
   {
    "duration": 26937,
    "start_time": "2024-04-03T17:17:06.800Z"
   },
   {
    "duration": 1978,
    "start_time": "2024-04-03T17:17:33.739Z"
   },
   {
    "duration": 21,
    "start_time": "2024-04-03T17:17:35.719Z"
   },
   {
    "duration": 189,
    "start_time": "2024-04-03T17:17:35.741Z"
   },
   {
    "duration": 4,
    "start_time": "2024-04-03T17:28:28.536Z"
   },
   {
    "duration": 1088,
    "start_time": "2024-04-03T17:28:28.542Z"
   },
   {
    "duration": 14,
    "start_time": "2024-04-03T17:28:29.632Z"
   },
   {
    "duration": 27,
    "start_time": "2024-04-03T17:28:29.648Z"
   },
   {
    "duration": 36,
    "start_time": "2024-04-03T17:28:29.677Z"
   },
   {
    "duration": 13,
    "start_time": "2024-04-03T17:28:29.714Z"
   },
   {
    "duration": 22,
    "start_time": "2024-04-03T17:28:29.729Z"
   },
   {
    "duration": 21,
    "start_time": "2024-04-03T17:28:29.753Z"
   },
   {
    "duration": 12,
    "start_time": "2024-04-03T17:28:29.775Z"
   },
   {
    "duration": 88,
    "start_time": "2024-04-03T17:28:29.790Z"
   },
   {
    "duration": 17,
    "start_time": "2024-04-03T17:28:29.880Z"
   },
   {
    "duration": 26958,
    "start_time": "2024-04-03T17:28:29.899Z"
   },
   {
    "duration": 1977,
    "start_time": "2024-04-03T17:28:56.859Z"
   },
   {
    "duration": 26,
    "start_time": "2024-04-03T17:28:58.837Z"
   },
   {
    "duration": 0,
    "start_time": "2024-04-03T17:28:58.865Z"
   },
   {
    "duration": 17,
    "start_time": "2024-04-03T17:30:17.181Z"
   },
   {
    "duration": 1184,
    "start_time": "2024-04-03T17:30:38.676Z"
   },
   {
    "duration": 1078,
    "start_time": "2024-04-03T17:30:39.861Z"
   },
   {
    "duration": 16,
    "start_time": "2024-04-03T17:30:40.940Z"
   },
   {
    "duration": 4,
    "start_time": "2024-04-03T17:30:40.959Z"
   },
   {
    "duration": 34,
    "start_time": "2024-04-03T17:30:40.981Z"
   },
   {
    "duration": 5,
    "start_time": "2024-04-03T17:30:41.017Z"
   },
   {
    "duration": 10,
    "start_time": "2024-04-03T17:30:41.024Z"
   },
   {
    "duration": 14,
    "start_time": "2024-04-03T17:30:41.036Z"
   },
   {
    "duration": 30,
    "start_time": "2024-04-03T17:30:41.052Z"
   },
   {
    "duration": 54,
    "start_time": "2024-04-03T17:30:41.085Z"
   },
   {
    "duration": 16,
    "start_time": "2024-04-03T17:30:41.141Z"
   },
   {
    "duration": 27957,
    "start_time": "2024-04-03T17:30:41.159Z"
   },
   {
    "duration": 1932,
    "start_time": "2024-04-03T17:31:09.118Z"
   },
   {
    "duration": 123,
    "start_time": "2024-04-03T17:31:11.052Z"
   },
   {
    "duration": 0,
    "start_time": "2024-04-03T17:31:11.180Z"
   },
   {
    "duration": 9,
    "start_time": "2024-04-03T17:32:32.902Z"
   },
   {
    "duration": 11,
    "start_time": "2024-04-03T17:33:51.747Z"
   },
   {
    "duration": 353,
    "start_time": "2024-04-03T17:35:21.097Z"
   },
   {
    "duration": 15,
    "start_time": "2024-04-03T17:35:34.284Z"
   },
   {
    "duration": 22,
    "start_time": "2024-04-03T17:44:20.314Z"
   },
   {
    "duration": 1082,
    "start_time": "2024-04-03T17:44:33.139Z"
   },
   {
    "duration": 1020,
    "start_time": "2024-04-03T17:44:34.223Z"
   },
   {
    "duration": 14,
    "start_time": "2024-04-03T17:44:35.245Z"
   },
   {
    "duration": 10,
    "start_time": "2024-04-03T17:44:35.261Z"
   },
   {
    "duration": 47,
    "start_time": "2024-04-03T17:44:35.280Z"
   },
   {
    "duration": 8,
    "start_time": "2024-04-03T17:44:35.329Z"
   },
   {
    "duration": 37,
    "start_time": "2024-04-03T17:44:35.338Z"
   },
   {
    "duration": 26,
    "start_time": "2024-04-03T17:44:35.377Z"
   },
   {
    "duration": 8,
    "start_time": "2024-04-03T17:44:35.405Z"
   },
   {
    "duration": 47,
    "start_time": "2024-04-03T17:44:35.416Z"
   },
   {
    "duration": 17,
    "start_time": "2024-04-03T17:44:35.465Z"
   },
   {
    "duration": 25645,
    "start_time": "2024-04-03T17:44:35.484Z"
   },
   {
    "duration": 1968,
    "start_time": "2024-04-03T17:45:01.131Z"
   },
   {
    "duration": 470,
    "start_time": "2024-04-03T17:45:03.101Z"
   },
   {
    "duration": 0,
    "start_time": "2024-04-03T17:45:03.573Z"
   },
   {
    "duration": 19,
    "start_time": "2024-04-03T17:47:09.364Z"
   },
   {
    "duration": 15,
    "start_time": "2024-04-03T17:47:15.102Z"
   },
   {
    "duration": 1045,
    "start_time": "2024-04-03T17:47:24.938Z"
   },
   {
    "duration": 966,
    "start_time": "2024-04-03T17:47:25.984Z"
   },
   {
    "duration": 15,
    "start_time": "2024-04-03T17:47:26.951Z"
   },
   {
    "duration": 13,
    "start_time": "2024-04-03T17:47:26.968Z"
   },
   {
    "duration": 35,
    "start_time": "2024-04-03T17:47:26.983Z"
   },
   {
    "duration": 4,
    "start_time": "2024-04-03T17:47:27.020Z"
   },
   {
    "duration": 3,
    "start_time": "2024-04-03T17:47:27.025Z"
   },
   {
    "duration": 9,
    "start_time": "2024-04-03T17:47:27.030Z"
   },
   {
    "duration": 9,
    "start_time": "2024-04-03T17:47:27.040Z"
   },
   {
    "duration": 43,
    "start_time": "2024-04-03T17:47:27.080Z"
   },
   {
    "duration": 15,
    "start_time": "2024-04-03T17:47:27.124Z"
   },
   {
    "duration": 24919,
    "start_time": "2024-04-03T17:47:27.141Z"
   },
   {
    "duration": 1813,
    "start_time": "2024-04-03T17:47:52.061Z"
   },
   {
    "duration": 388,
    "start_time": "2024-04-03T17:47:53.875Z"
   },
   {
    "duration": 157,
    "start_time": "2024-04-03T17:47:54.264Z"
   },
   {
    "duration": 19,
    "start_time": "2024-04-03T17:48:02.912Z"
   },
   {
    "duration": 1130,
    "start_time": "2024-04-03T17:48:09.493Z"
   },
   {
    "duration": 952,
    "start_time": "2024-04-03T17:48:10.625Z"
   },
   {
    "duration": 15,
    "start_time": "2024-04-03T17:48:11.580Z"
   },
   {
    "duration": 12,
    "start_time": "2024-04-03T17:48:11.597Z"
   },
   {
    "duration": 34,
    "start_time": "2024-04-03T17:48:11.610Z"
   },
   {
    "duration": 5,
    "start_time": "2024-04-03T17:48:11.646Z"
   },
   {
    "duration": 4,
    "start_time": "2024-04-03T17:48:11.652Z"
   },
   {
    "duration": 30,
    "start_time": "2024-04-03T17:48:11.657Z"
   },
   {
    "duration": 13,
    "start_time": "2024-04-03T17:48:11.689Z"
   },
   {
    "duration": 54,
    "start_time": "2024-04-03T17:48:11.704Z"
   },
   {
    "duration": 23,
    "start_time": "2024-04-03T17:48:11.759Z"
   },
   {
    "duration": 24564,
    "start_time": "2024-04-03T17:48:11.783Z"
   },
   {
    "duration": 1820,
    "start_time": "2024-04-03T17:48:36.349Z"
   },
   {
    "duration": 427,
    "start_time": "2024-04-03T17:48:38.171Z"
   },
   {
    "duration": 196,
    "start_time": "2024-04-03T17:48:38.600Z"
   },
   {
    "duration": 1356,
    "start_time": "2024-04-03T17:49:08.171Z"
   },
   {
    "duration": 989,
    "start_time": "2024-04-03T17:49:09.529Z"
   },
   {
    "duration": 18,
    "start_time": "2024-04-03T17:49:10.520Z"
   },
   {
    "duration": 4,
    "start_time": "2024-04-03T17:49:10.540Z"
   },
   {
    "duration": 48,
    "start_time": "2024-04-03T17:49:10.546Z"
   },
   {
    "duration": 5,
    "start_time": "2024-04-03T17:49:10.595Z"
   },
   {
    "duration": 3,
    "start_time": "2024-04-03T17:49:10.602Z"
   },
   {
    "duration": 14,
    "start_time": "2024-04-03T17:49:10.607Z"
   },
   {
    "duration": 9,
    "start_time": "2024-04-03T17:49:10.622Z"
   },
   {
    "duration": 74,
    "start_time": "2024-04-03T17:49:10.633Z"
   },
   {
    "duration": 15,
    "start_time": "2024-04-03T17:49:10.709Z"
   },
   {
    "duration": 24527,
    "start_time": "2024-04-03T17:49:10.725Z"
   },
   {
    "duration": 1715,
    "start_time": "2024-04-03T17:49:35.254Z"
   },
   {
    "duration": 247,
    "start_time": "2024-04-03T17:49:36.972Z"
   },
   {
    "duration": 161,
    "start_time": "2024-04-03T17:49:37.221Z"
   },
   {
    "duration": 1278,
    "start_time": "2024-04-03T17:50:22.105Z"
   },
   {
    "duration": 964,
    "start_time": "2024-04-03T17:50:23.385Z"
   },
   {
    "duration": 14,
    "start_time": "2024-04-03T17:50:24.350Z"
   },
   {
    "duration": 17,
    "start_time": "2024-04-03T17:50:24.366Z"
   },
   {
    "duration": 35,
    "start_time": "2024-04-03T17:50:24.385Z"
   },
   {
    "duration": 4,
    "start_time": "2024-04-03T17:50:24.422Z"
   },
   {
    "duration": 3,
    "start_time": "2024-04-03T17:50:24.427Z"
   },
   {
    "duration": 11,
    "start_time": "2024-04-03T17:50:24.432Z"
   },
   {
    "duration": 9,
    "start_time": "2024-04-03T17:50:24.445Z"
   },
   {
    "duration": 72,
    "start_time": "2024-04-03T17:50:24.455Z"
   },
   {
    "duration": 19,
    "start_time": "2024-04-03T17:50:24.529Z"
   },
   {
    "duration": 25530,
    "start_time": "2024-04-03T17:50:24.550Z"
   },
   {
    "duration": 1880,
    "start_time": "2024-04-03T17:50:50.082Z"
   },
   {
    "duration": 247,
    "start_time": "2024-04-03T17:50:51.965Z"
   },
   {
    "duration": 124,
    "start_time": "2024-04-03T17:50:52.214Z"
   },
   {
    "duration": 3,
    "start_time": "2024-04-03T17:51:23.582Z"
   },
   {
    "duration": 5,
    "start_time": "2024-04-03T17:52:03.059Z"
   },
   {
    "duration": 3,
    "start_time": "2024-04-03T17:52:22.881Z"
   },
   {
    "duration": 1299,
    "start_time": "2024-04-03T17:58:54.814Z"
   },
   {
    "duration": 1035,
    "start_time": "2024-04-03T17:58:56.114Z"
   },
   {
    "duration": 15,
    "start_time": "2024-04-03T17:58:57.151Z"
   },
   {
    "duration": 13,
    "start_time": "2024-04-03T17:58:57.168Z"
   },
   {
    "duration": 33,
    "start_time": "2024-04-03T17:58:57.183Z"
   },
   {
    "duration": 5,
    "start_time": "2024-04-03T17:58:57.218Z"
   },
   {
    "duration": 4,
    "start_time": "2024-04-03T17:58:57.224Z"
   },
   {
    "duration": 17,
    "start_time": "2024-04-03T17:58:57.230Z"
   },
   {
    "duration": 38,
    "start_time": "2024-04-03T17:58:57.248Z"
   },
   {
    "duration": 48,
    "start_time": "2024-04-03T17:58:57.290Z"
   },
   {
    "duration": 149,
    "start_time": "2024-04-03T17:58:57.339Z"
   },
   {
    "duration": 0,
    "start_time": "2024-04-03T17:58:57.490Z"
   },
   {
    "duration": 0,
    "start_time": "2024-04-03T17:58:57.491Z"
   },
   {
    "duration": 0,
    "start_time": "2024-04-03T17:58:57.492Z"
   },
   {
    "duration": 0,
    "start_time": "2024-04-03T17:58:57.493Z"
   },
   {
    "duration": 19,
    "start_time": "2024-04-03T18:00:04.013Z"
   },
   {
    "duration": 1401,
    "start_time": "2024-04-03T18:00:10.897Z"
   },
   {
    "duration": 1060,
    "start_time": "2024-04-03T18:00:12.301Z"
   },
   {
    "duration": 18,
    "start_time": "2024-04-03T18:00:13.363Z"
   },
   {
    "duration": 7,
    "start_time": "2024-04-03T18:00:13.383Z"
   },
   {
    "duration": 36,
    "start_time": "2024-04-03T18:00:13.391Z"
   },
   {
    "duration": 4,
    "start_time": "2024-04-03T18:00:13.429Z"
   },
   {
    "duration": 7,
    "start_time": "2024-04-03T18:00:13.435Z"
   },
   {
    "duration": 39,
    "start_time": "2024-04-03T18:00:13.443Z"
   },
   {
    "duration": 10,
    "start_time": "2024-04-03T18:00:13.484Z"
   },
   {
    "duration": 54,
    "start_time": "2024-04-03T18:00:13.497Z"
   },
   {
    "duration": 33,
    "start_time": "2024-04-03T18:00:13.553Z"
   },
   {
    "duration": 27341,
    "start_time": "2024-04-03T18:00:13.588Z"
   },
   {
    "duration": 1894,
    "start_time": "2024-04-03T18:00:40.931Z"
   },
   {
    "duration": 242,
    "start_time": "2024-04-03T18:00:42.826Z"
   },
   {
    "duration": 138,
    "start_time": "2024-04-03T18:00:43.070Z"
   },
   {
    "duration": 102,
    "start_time": "2024-04-03T18:02:51.226Z"
   },
   {
    "duration": 3,
    "start_time": "2024-04-03T18:02:55.313Z"
   },
   {
    "duration": 4,
    "start_time": "2024-04-03T18:03:09.700Z"
   },
   {
    "duration": 11,
    "start_time": "2024-04-03T18:07:25.734Z"
   },
   {
    "duration": 105,
    "start_time": "2024-04-03T18:08:43.057Z"
   },
   {
    "duration": 1335,
    "start_time": "2024-04-03T18:10:57.778Z"
   },
   {
    "duration": 985,
    "start_time": "2024-04-03T18:10:59.116Z"
   },
   {
    "duration": 15,
    "start_time": "2024-04-03T18:11:00.103Z"
   },
   {
    "duration": 54,
    "start_time": "2024-04-03T18:11:00.120Z"
   },
   {
    "duration": 179,
    "start_time": "2024-04-03T18:11:00.176Z"
   },
   {
    "duration": 131,
    "start_time": "2024-04-03T18:11:00.357Z"
   },
   {
    "duration": 93,
    "start_time": "2024-04-03T18:11:00.490Z"
   },
   {
    "duration": 90,
    "start_time": "2024-04-03T18:11:00.584Z"
   },
   {
    "duration": 59,
    "start_time": "2024-04-03T18:11:00.676Z"
   },
   {
    "duration": 89,
    "start_time": "2024-04-03T18:11:00.737Z"
   },
   {
    "duration": 77,
    "start_time": "2024-04-03T18:11:00.828Z"
   },
   {
    "duration": 24457,
    "start_time": "2024-04-03T18:11:00.907Z"
   },
   {
    "duration": 1804,
    "start_time": "2024-04-03T18:11:25.366Z"
   },
   {
    "duration": 261,
    "start_time": "2024-04-03T18:11:27.173Z"
   },
   {
    "duration": 4,
    "start_time": "2024-04-03T18:11:27.435Z"
   },
   {
    "duration": 123,
    "start_time": "2024-04-03T18:11:27.441Z"
   },
   {
    "duration": 4,
    "start_time": "2024-04-03T18:13:24.623Z"
   },
   {
    "duration": 1304,
    "start_time": "2024-04-03T18:13:32.798Z"
   },
   {
    "duration": 948,
    "start_time": "2024-04-03T18:13:34.104Z"
   },
   {
    "duration": 15,
    "start_time": "2024-04-03T18:13:35.053Z"
   },
   {
    "duration": 3,
    "start_time": "2024-04-03T18:13:35.081Z"
   },
   {
    "duration": 33,
    "start_time": "2024-04-03T18:13:35.086Z"
   },
   {
    "duration": 9,
    "start_time": "2024-04-03T18:13:35.121Z"
   },
   {
    "duration": 7,
    "start_time": "2024-04-03T18:13:35.132Z"
   },
   {
    "duration": 24,
    "start_time": "2024-04-03T18:13:35.140Z"
   },
   {
    "duration": 11,
    "start_time": "2024-04-03T18:13:35.165Z"
   },
   {
    "duration": 51,
    "start_time": "2024-04-03T18:13:35.181Z"
   },
   {
    "duration": 16,
    "start_time": "2024-04-03T18:13:35.233Z"
   },
   {
    "duration": 24464,
    "start_time": "2024-04-03T18:13:35.251Z"
   },
   {
    "duration": 1775,
    "start_time": "2024-04-03T18:13:59.717Z"
   },
   {
    "duration": 243,
    "start_time": "2024-04-03T18:14:01.494Z"
   },
   {
    "duration": 5,
    "start_time": "2024-04-03T18:14:01.740Z"
   },
   {
    "duration": 191,
    "start_time": "2024-04-03T18:14:01.747Z"
   },
   {
    "duration": 1527,
    "start_time": "2024-04-03T18:15:09.663Z"
   },
   {
    "duration": 1043,
    "start_time": "2024-04-03T18:15:11.192Z"
   },
   {
    "duration": 15,
    "start_time": "2024-04-03T18:15:12.236Z"
   },
   {
    "duration": 6,
    "start_time": "2024-04-03T18:15:12.253Z"
   },
   {
    "duration": 49,
    "start_time": "2024-04-03T18:15:12.260Z"
   },
   {
    "duration": 8,
    "start_time": "2024-04-03T18:15:12.310Z"
   },
   {
    "duration": 13,
    "start_time": "2024-04-03T18:15:12.319Z"
   },
   {
    "duration": 12,
    "start_time": "2024-04-03T18:15:12.334Z"
   },
   {
    "duration": 9,
    "start_time": "2024-04-03T18:15:12.348Z"
   },
   {
    "duration": 63,
    "start_time": "2024-04-03T18:15:12.359Z"
   },
   {
    "duration": 15,
    "start_time": "2024-04-03T18:15:12.423Z"
   },
   {
    "duration": 25291,
    "start_time": "2024-04-03T18:15:12.439Z"
   },
   {
    "duration": 1790,
    "start_time": "2024-04-03T18:15:37.732Z"
   },
   {
    "duration": 163,
    "start_time": "2024-04-03T18:15:39.524Z"
   },
   {
    "duration": 3,
    "start_time": "2024-04-03T18:15:39.688Z"
   },
   {
    "duration": 131,
    "start_time": "2024-04-03T18:15:39.692Z"
   },
   {
    "duration": 9,
    "start_time": "2024-04-03T18:16:07.341Z"
   },
   {
    "duration": 4,
    "start_time": "2024-04-03T18:16:30.435Z"
   },
   {
    "duration": 1312,
    "start_time": "2024-04-03T18:19:05.089Z"
   },
   {
    "duration": 1000,
    "start_time": "2024-04-03T18:19:06.403Z"
   },
   {
    "duration": 14,
    "start_time": "2024-04-03T18:19:07.405Z"
   },
   {
    "duration": 5,
    "start_time": "2024-04-03T18:19:07.420Z"
   },
   {
    "duration": 53,
    "start_time": "2024-04-03T18:19:07.428Z"
   },
   {
    "duration": 5,
    "start_time": "2024-04-03T18:19:07.483Z"
   },
   {
    "duration": 7,
    "start_time": "2024-04-03T18:19:07.489Z"
   },
   {
    "duration": 24,
    "start_time": "2024-04-03T18:19:07.498Z"
   },
   {
    "duration": 9,
    "start_time": "2024-04-03T18:19:07.523Z"
   },
   {
    "duration": 56,
    "start_time": "2024-04-03T18:19:07.534Z"
   },
   {
    "duration": 15,
    "start_time": "2024-04-03T18:19:07.591Z"
   },
   {
    "duration": 24427,
    "start_time": "2024-04-03T18:19:07.607Z"
   },
   {
    "duration": 1805,
    "start_time": "2024-04-03T18:19:32.036Z"
   },
   {
    "duration": 242,
    "start_time": "2024-04-03T18:19:33.843Z"
   },
   {
    "duration": 4,
    "start_time": "2024-04-03T18:19:34.086Z"
   },
   {
    "duration": 149,
    "start_time": "2024-04-03T18:19:34.091Z"
   },
   {
    "duration": 12,
    "start_time": "2024-04-03T18:29:24.741Z"
   },
   {
    "duration": 1368,
    "start_time": "2024-04-03T18:50:25.673Z"
   },
   {
    "duration": 1029,
    "start_time": "2024-04-03T18:50:27.043Z"
   },
   {
    "duration": 18,
    "start_time": "2024-04-03T18:50:28.074Z"
   },
   {
    "duration": 6,
    "start_time": "2024-04-03T18:50:28.095Z"
   },
   {
    "duration": 48,
    "start_time": "2024-04-03T18:50:28.103Z"
   },
   {
    "duration": 10,
    "start_time": "2024-04-03T18:50:28.153Z"
   },
   {
    "duration": 6,
    "start_time": "2024-04-03T18:50:28.165Z"
   },
   {
    "duration": 21,
    "start_time": "2024-04-03T18:50:28.173Z"
   },
   {
    "duration": 15,
    "start_time": "2024-04-03T18:50:28.196Z"
   },
   {
    "duration": 48,
    "start_time": "2024-04-03T18:50:28.213Z"
   },
   {
    "duration": 31,
    "start_time": "2024-04-03T18:50:28.263Z"
   },
   {
    "duration": 24429,
    "start_time": "2024-04-03T18:50:28.296Z"
   },
   {
    "duration": 1743,
    "start_time": "2024-04-03T18:50:52.728Z"
   },
   {
    "duration": 181,
    "start_time": "2024-04-03T18:50:54.472Z"
   },
   {
    "duration": 158,
    "start_time": "2024-04-03T18:50:54.655Z"
   },
   {
    "duration": 4,
    "start_time": "2024-04-03T18:51:12.487Z"
   },
   {
    "duration": 11,
    "start_time": "2024-04-03T18:56:36.863Z"
   },
   {
    "duration": 18,
    "start_time": "2024-04-03T18:56:48.795Z"
   },
   {
    "duration": 1331,
    "start_time": "2024-04-03T19:01:38.770Z"
   },
   {
    "duration": 988,
    "start_time": "2024-04-03T19:01:40.103Z"
   },
   {
    "duration": 14,
    "start_time": "2024-04-03T19:01:41.092Z"
   },
   {
    "duration": 9,
    "start_time": "2024-04-03T19:01:41.108Z"
   },
   {
    "duration": 36,
    "start_time": "2024-04-03T19:01:41.118Z"
   },
   {
    "duration": 4,
    "start_time": "2024-04-03T19:01:41.156Z"
   },
   {
    "duration": 20,
    "start_time": "2024-04-03T19:01:41.161Z"
   },
   {
    "duration": 10,
    "start_time": "2024-04-03T19:01:41.182Z"
   },
   {
    "duration": 36,
    "start_time": "2024-04-03T19:01:41.193Z"
   },
   {
    "duration": 44,
    "start_time": "2024-04-03T19:01:41.231Z"
   },
   {
    "duration": 13,
    "start_time": "2024-04-03T19:01:41.276Z"
   },
   {
    "duration": 24259,
    "start_time": "2024-04-03T19:01:41.291Z"
   },
   {
    "duration": 1807,
    "start_time": "2024-04-03T19:02:05.552Z"
   },
   {
    "duration": 190,
    "start_time": "2024-04-03T19:02:07.361Z"
   },
   {
    "duration": 150,
    "start_time": "2024-04-03T19:02:07.553Z"
   },
   {
    "duration": 1302,
    "start_time": "2024-04-03T19:09:56.593Z"
   },
   {
    "duration": 988,
    "start_time": "2024-04-03T19:09:57.897Z"
   },
   {
    "duration": 15,
    "start_time": "2024-04-03T19:09:58.886Z"
   },
   {
    "duration": 7,
    "start_time": "2024-04-03T19:09:58.903Z"
   },
   {
    "duration": 32,
    "start_time": "2024-04-03T19:09:58.911Z"
   },
   {
    "duration": 4,
    "start_time": "2024-04-03T19:09:58.945Z"
   },
   {
    "duration": 31,
    "start_time": "2024-04-03T19:09:58.951Z"
   },
   {
    "duration": 14,
    "start_time": "2024-04-03T19:09:58.984Z"
   },
   {
    "duration": 12,
    "start_time": "2024-04-03T19:09:59.000Z"
   },
   {
    "duration": 49,
    "start_time": "2024-04-03T19:09:59.015Z"
   },
   {
    "duration": 13,
    "start_time": "2024-04-03T19:09:59.081Z"
   },
   {
    "duration": 25324,
    "start_time": "2024-04-03T19:09:59.096Z"
   },
   {
    "duration": 1769,
    "start_time": "2024-04-03T19:10:24.422Z"
   },
   {
    "duration": 252,
    "start_time": "2024-04-03T19:10:26.192Z"
   },
   {
    "duration": 123,
    "start_time": "2024-04-03T19:10:26.445Z"
   },
   {
    "duration": 14,
    "start_time": "2024-04-03T19:11:40.590Z"
   },
   {
    "duration": 5,
    "start_time": "2024-04-03T19:24:42.833Z"
   },
   {
    "duration": 1319,
    "start_time": "2024-04-03T19:38:11.384Z"
   },
   {
    "duration": 1008,
    "start_time": "2024-04-03T19:38:12.705Z"
   },
   {
    "duration": 14,
    "start_time": "2024-04-03T19:38:13.715Z"
   },
   {
    "duration": 15,
    "start_time": "2024-04-03T19:38:13.732Z"
   },
   {
    "duration": 77,
    "start_time": "2024-04-03T19:38:13.748Z"
   },
   {
    "duration": 20,
    "start_time": "2024-04-03T19:38:13.827Z"
   },
   {
    "duration": 6,
    "start_time": "2024-04-03T19:38:13.849Z"
   },
   {
    "duration": 13,
    "start_time": "2024-04-03T19:38:13.856Z"
   },
   {
    "duration": 11,
    "start_time": "2024-04-03T19:38:13.871Z"
   },
   {
    "duration": 46,
    "start_time": "2024-04-03T19:38:13.885Z"
   },
   {
    "duration": 15,
    "start_time": "2024-04-03T19:38:13.933Z"
   },
   {
    "duration": 23866,
    "start_time": "2024-04-03T19:38:13.950Z"
   },
   {
    "duration": 1811,
    "start_time": "2024-04-03T19:38:37.818Z"
   },
   {
    "duration": 1458,
    "start_time": "2024-04-03T19:38:39.631Z"
   },
   {
    "duration": 0,
    "start_time": "2024-04-03T19:38:41.090Z"
   },
   {
    "duration": 1267,
    "start_time": "2024-04-03T19:41:54.313Z"
   },
   {
    "duration": 964,
    "start_time": "2024-04-03T19:41:55.582Z"
   },
   {
    "duration": 15,
    "start_time": "2024-04-03T19:41:56.548Z"
   },
   {
    "duration": 26,
    "start_time": "2024-04-03T19:41:56.564Z"
   },
   {
    "duration": 49,
    "start_time": "2024-04-03T19:41:56.592Z"
   },
   {
    "duration": 8,
    "start_time": "2024-04-03T19:41:56.642Z"
   },
   {
    "duration": 7,
    "start_time": "2024-04-03T19:41:56.652Z"
   },
   {
    "duration": 13,
    "start_time": "2024-04-03T19:41:56.661Z"
   },
   {
    "duration": 12,
    "start_time": "2024-04-03T19:41:56.681Z"
   },
   {
    "duration": 53,
    "start_time": "2024-04-03T19:41:56.694Z"
   },
   {
    "duration": 15,
    "start_time": "2024-04-03T19:41:56.748Z"
   },
   {
    "duration": 24541,
    "start_time": "2024-04-03T19:41:56.765Z"
   },
   {
    "duration": 1805,
    "start_time": "2024-04-03T19:42:21.308Z"
   },
   {
    "duration": 1413,
    "start_time": "2024-04-03T19:43:36.402Z"
   },
   {
    "duration": 3394,
    "start_time": "2024-04-03T19:43:37.817Z"
   },
   {
    "duration": 15,
    "start_time": "2024-04-03T19:43:41.213Z"
   },
   {
    "duration": 14,
    "start_time": "2024-04-03T19:43:41.231Z"
   },
   {
    "duration": 45,
    "start_time": "2024-04-03T19:43:41.248Z"
   },
   {
    "duration": 6,
    "start_time": "2024-04-03T19:43:41.295Z"
   },
   {
    "duration": 12,
    "start_time": "2024-04-03T19:43:41.303Z"
   },
   {
    "duration": 24,
    "start_time": "2024-04-03T19:43:41.317Z"
   },
   {
    "duration": 15,
    "start_time": "2024-04-03T19:43:41.343Z"
   },
   {
    "duration": 71,
    "start_time": "2024-04-03T19:43:41.362Z"
   },
   {
    "duration": 23,
    "start_time": "2024-04-03T19:43:41.435Z"
   },
   {
    "duration": 25673,
    "start_time": "2024-04-03T19:43:41.460Z"
   },
   {
    "duration": 1846,
    "start_time": "2024-04-03T19:44:07.135Z"
   },
   {
    "duration": 1168,
    "start_time": "2024-04-04T08:19:02.600Z"
   },
   {
    "duration": 2282,
    "start_time": "2024-04-04T08:19:03.770Z"
   },
   {
    "duration": 10,
    "start_time": "2024-04-04T08:19:06.053Z"
   },
   {
    "duration": 21,
    "start_time": "2024-04-04T08:19:06.065Z"
   },
   {
    "duration": 43,
    "start_time": "2024-04-04T08:19:06.087Z"
   },
   {
    "duration": 6,
    "start_time": "2024-04-04T08:19:06.132Z"
   },
   {
    "duration": 37,
    "start_time": "2024-04-04T08:19:06.139Z"
   },
   {
    "duration": 54,
    "start_time": "2024-04-04T08:19:06.177Z"
   },
   {
    "duration": 8,
    "start_time": "2024-04-04T08:19:06.232Z"
   },
   {
    "duration": 59,
    "start_time": "2024-04-04T08:19:06.242Z"
   },
   {
    "duration": 10,
    "start_time": "2024-04-04T08:19:06.302Z"
   },
   {
    "duration": 20203,
    "start_time": "2024-04-04T08:19:06.313Z"
   },
   {
    "duration": 1309,
    "start_time": "2024-04-04T08:19:26.517Z"
   },
   {
    "duration": 2693,
    "start_time": "2024-04-04T08:19:27.828Z"
   },
   {
    "duration": 0,
    "start_time": "2024-04-04T08:19:30.522Z"
   },
   {
    "duration": 3,
    "start_time": "2024-04-04T08:26:37.475Z"
   },
   {
    "duration": 772,
    "start_time": "2024-04-04T08:26:37.480Z"
   },
   {
    "duration": 10,
    "start_time": "2024-04-04T08:26:38.253Z"
   },
   {
    "duration": 8,
    "start_time": "2024-04-04T08:26:38.265Z"
   },
   {
    "duration": 30,
    "start_time": "2024-04-04T08:26:38.275Z"
   },
   {
    "duration": 13,
    "start_time": "2024-04-04T08:26:38.306Z"
   },
   {
    "duration": 15,
    "start_time": "2024-04-04T08:26:38.320Z"
   },
   {
    "duration": 11,
    "start_time": "2024-04-04T08:26:38.337Z"
   },
   {
    "duration": 15,
    "start_time": "2024-04-04T08:26:38.349Z"
   },
   {
    "duration": 67,
    "start_time": "2024-04-04T08:26:38.365Z"
   },
   {
    "duration": 12,
    "start_time": "2024-04-04T08:26:38.434Z"
   },
   {
    "duration": 21178,
    "start_time": "2024-04-04T08:26:38.447Z"
   },
   {
    "duration": 1408,
    "start_time": "2024-04-04T08:26:59.627Z"
   },
   {
    "duration": 3278,
    "start_time": "2024-04-04T08:27:01.037Z"
   },
   {
    "duration": 23085,
    "start_time": "2024-04-04T08:27:04.317Z"
   },
   {
    "duration": 1129,
    "start_time": "2024-04-04T08:28:30.727Z"
   },
   {
    "duration": 801,
    "start_time": "2024-04-04T08:28:31.858Z"
   },
   {
    "duration": 10,
    "start_time": "2024-04-04T08:28:32.660Z"
   },
   {
    "duration": 6,
    "start_time": "2024-04-04T08:28:32.671Z"
   },
   {
    "duration": 32,
    "start_time": "2024-04-04T08:28:32.679Z"
   },
   {
    "duration": 24,
    "start_time": "2024-04-04T08:28:32.713Z"
   },
   {
    "duration": 19,
    "start_time": "2024-04-04T08:28:32.738Z"
   },
   {
    "duration": 29,
    "start_time": "2024-04-04T08:28:32.758Z"
   },
   {
    "duration": 15,
    "start_time": "2024-04-04T08:28:32.788Z"
   },
   {
    "duration": 41,
    "start_time": "2024-04-04T08:28:32.805Z"
   },
   {
    "duration": 9,
    "start_time": "2024-04-04T08:28:32.847Z"
   },
   {
    "duration": 20817,
    "start_time": "2024-04-04T08:28:32.857Z"
   },
   {
    "duration": 1357,
    "start_time": "2024-04-04T08:28:53.675Z"
   },
   {
    "duration": 3545,
    "start_time": "2024-04-04T08:28:55.034Z"
   },
   {
    "duration": 98808,
    "start_time": "2024-04-04T08:28:58.581Z"
   },
   {
    "duration": 95707,
    "start_time": "2024-04-04T08:31:37.016Z"
   },
   {
    "duration": 63149,
    "start_time": "2024-04-04T08:36:54.656Z"
   },
   {
    "duration": 16,
    "start_time": "2024-04-04T09:07:31.485Z"
   },
   {
    "duration": 3,
    "start_time": "2024-04-04T09:13:08.086Z"
   },
   {
    "duration": 11,
    "start_time": "2024-04-04T09:16:00.031Z"
   },
   {
    "duration": 633335,
    "start_time": "2024-04-04T09:16:13.651Z"
   },
   {
    "duration": 3,
    "start_time": "2024-04-04T09:54:15.175Z"
   },
   {
    "duration": 1148,
    "start_time": "2024-04-04T10:49:36.964Z"
   },
   {
    "duration": 811,
    "start_time": "2024-04-04T10:49:38.113Z"
   },
   {
    "duration": 12,
    "start_time": "2024-04-04T10:49:38.926Z"
   },
   {
    "duration": 5,
    "start_time": "2024-04-04T10:49:38.941Z"
   },
   {
    "duration": 43,
    "start_time": "2024-04-04T10:49:38.948Z"
   },
   {
    "duration": 14,
    "start_time": "2024-04-04T10:49:38.993Z"
   },
   {
    "duration": 9,
    "start_time": "2024-04-04T10:49:39.008Z"
   },
   {
    "duration": 24,
    "start_time": "2024-04-04T10:49:39.018Z"
   },
   {
    "duration": 10,
    "start_time": "2024-04-04T10:49:39.044Z"
   },
   {
    "duration": 42,
    "start_time": "2024-04-04T10:49:39.056Z"
   },
   {
    "duration": 10,
    "start_time": "2024-04-04T10:49:39.100Z"
   },
   {
    "duration": 20497,
    "start_time": "2024-04-04T10:49:39.111Z"
   },
   {
    "duration": 1329,
    "start_time": "2024-04-04T10:49:59.610Z"
   },
   {
    "duration": 3437,
    "start_time": "2024-04-04T10:50:00.941Z"
   },
   {
    "duration": 58222,
    "start_time": "2024-04-04T10:50:04.380Z"
   },
   {
    "duration": 27188,
    "start_time": "2024-04-04T10:51:02.603Z"
   },
   {
    "duration": 0,
    "start_time": "2024-04-04T10:51:29.792Z"
   },
   {
    "duration": 0,
    "start_time": "2024-04-04T10:51:29.793Z"
   },
   {
    "duration": 1154,
    "start_time": "2024-04-04T10:52:21.536Z"
   },
   {
    "duration": 823,
    "start_time": "2024-04-04T10:52:22.692Z"
   },
   {
    "duration": 11,
    "start_time": "2024-04-04T10:52:23.518Z"
   },
   {
    "duration": 24,
    "start_time": "2024-04-04T10:52:23.531Z"
   },
   {
    "duration": 47,
    "start_time": "2024-04-04T10:52:23.556Z"
   },
   {
    "duration": 12,
    "start_time": "2024-04-04T10:52:23.604Z"
   },
   {
    "duration": 13,
    "start_time": "2024-04-04T10:52:23.617Z"
   },
   {
    "duration": 31,
    "start_time": "2024-04-04T10:52:23.631Z"
   },
   {
    "duration": 18,
    "start_time": "2024-04-04T10:52:23.663Z"
   },
   {
    "duration": 57,
    "start_time": "2024-04-04T10:52:23.682Z"
   },
   {
    "duration": 10,
    "start_time": "2024-04-04T10:52:23.740Z"
   },
   {
    "duration": 20896,
    "start_time": "2024-04-04T10:52:23.752Z"
   },
   {
    "duration": 1363,
    "start_time": "2024-04-04T10:52:44.650Z"
   },
   {
    "duration": 3461,
    "start_time": "2024-04-04T10:52:46.015Z"
   },
   {
    "duration": 61533,
    "start_time": "2024-04-04T10:52:49.477Z"
   },
   {
    "duration": 182684,
    "start_time": "2024-04-04T10:53:51.011Z"
   },
   {
    "duration": 0,
    "start_time": "2024-04-04T10:56:53.697Z"
   },
   {
    "duration": 0,
    "start_time": "2024-04-04T10:56:53.698Z"
   },
   {
    "duration": 1197,
    "start_time": "2024-04-04T10:56:59.986Z"
   },
   {
    "duration": 812,
    "start_time": "2024-04-04T10:57:01.185Z"
   },
   {
    "duration": 10,
    "start_time": "2024-04-04T10:57:01.998Z"
   },
   {
    "duration": 26,
    "start_time": "2024-04-04T10:57:02.010Z"
   },
   {
    "duration": 36,
    "start_time": "2024-04-04T10:57:02.038Z"
   },
   {
    "duration": 45,
    "start_time": "2024-04-04T10:57:02.075Z"
   },
   {
    "duration": 19,
    "start_time": "2024-04-04T10:57:02.121Z"
   },
   {
    "duration": 57,
    "start_time": "2024-04-04T10:57:02.142Z"
   },
   {
    "duration": 16,
    "start_time": "2024-04-04T10:57:02.200Z"
   },
   {
    "duration": 57,
    "start_time": "2024-04-04T10:57:02.218Z"
   },
   {
    "duration": 11,
    "start_time": "2024-04-04T10:57:02.277Z"
   },
   {
    "duration": 20378,
    "start_time": "2024-04-04T10:57:02.289Z"
   },
   {
    "duration": 1339,
    "start_time": "2024-04-04T10:57:22.668Z"
   },
   {
    "duration": 3401,
    "start_time": "2024-04-04T10:57:24.009Z"
   },
   {
    "duration": 60290,
    "start_time": "2024-04-04T10:57:27.412Z"
   },
   {
    "duration": 301590,
    "start_time": "2024-04-04T10:58:27.703Z"
   },
   {
    "duration": 964,
    "start_time": "2024-04-04T11:30:51.007Z"
   },
   {
    "duration": 0,
    "start_time": "2024-04-04T11:30:51.973Z"
   },
   {
    "duration": 0,
    "start_time": "2024-04-04T11:30:51.974Z"
   },
   {
    "duration": 0,
    "start_time": "2024-04-04T11:30:51.975Z"
   },
   {
    "duration": 0,
    "start_time": "2024-04-04T11:30:51.976Z"
   },
   {
    "duration": 0,
    "start_time": "2024-04-04T11:30:51.978Z"
   },
   {
    "duration": 0,
    "start_time": "2024-04-04T11:30:51.978Z"
   },
   {
    "duration": 0,
    "start_time": "2024-04-04T11:30:51.980Z"
   },
   {
    "duration": 0,
    "start_time": "2024-04-04T11:30:51.981Z"
   },
   {
    "duration": 0,
    "start_time": "2024-04-04T11:30:51.982Z"
   },
   {
    "duration": 0,
    "start_time": "2024-04-04T11:30:51.983Z"
   },
   {
    "duration": 0,
    "start_time": "2024-04-04T11:30:51.985Z"
   },
   {
    "duration": 0,
    "start_time": "2024-04-04T11:30:51.986Z"
   },
   {
    "duration": 0,
    "start_time": "2024-04-04T11:30:51.987Z"
   },
   {
    "duration": 0,
    "start_time": "2024-04-04T11:30:51.988Z"
   },
   {
    "duration": 0,
    "start_time": "2024-04-04T11:30:51.990Z"
   },
   {
    "duration": 0,
    "start_time": "2024-04-04T11:30:51.991Z"
   },
   {
    "duration": 0,
    "start_time": "2024-04-04T11:30:51.992Z"
   },
   {
    "duration": 0,
    "start_time": "2024-04-04T11:30:51.993Z"
   },
   {
    "duration": 1129,
    "start_time": "2024-04-04T11:31:20.239Z"
   },
   {
    "duration": 828,
    "start_time": "2024-04-04T11:31:21.370Z"
   },
   {
    "duration": 11,
    "start_time": "2024-04-04T11:31:22.199Z"
   },
   {
    "duration": 7,
    "start_time": "2024-04-04T11:31:22.212Z"
   },
   {
    "duration": 25,
    "start_time": "2024-04-04T11:31:22.221Z"
   },
   {
    "duration": 8,
    "start_time": "2024-04-04T11:31:22.247Z"
   },
   {
    "duration": 12,
    "start_time": "2024-04-04T11:31:22.256Z"
   },
   {
    "duration": 15,
    "start_time": "2024-04-04T11:31:22.269Z"
   },
   {
    "duration": 11,
    "start_time": "2024-04-04T11:31:22.285Z"
   },
   {
    "duration": 39,
    "start_time": "2024-04-04T11:31:22.301Z"
   },
   {
    "duration": 10,
    "start_time": "2024-04-04T11:31:22.341Z"
   },
   {
    "duration": 21785,
    "start_time": "2024-04-04T11:31:22.352Z"
   },
   {
    "duration": 1369,
    "start_time": "2024-04-04T11:31:44.138Z"
   },
   {
    "duration": 3557,
    "start_time": "2024-04-04T11:31:45.510Z"
   },
   {
    "duration": 57034,
    "start_time": "2024-04-04T11:31:49.068Z"
   },
   {
    "duration": 298955,
    "start_time": "2024-04-04T11:32:46.104Z"
   },
   {
    "duration": 3,
    "start_time": "2024-04-04T11:37:45.061Z"
   },
   {
    "duration": 161,
    "start_time": "2024-04-04T11:37:45.065Z"
   },
   {
    "duration": 0,
    "start_time": "2024-04-04T11:37:45.228Z"
   },
   {
    "duration": 43,
    "start_time": "2024-04-04T11:40:56.182Z"
   },
   {
    "duration": 1247,
    "start_time": "2024-04-04T11:42:01.961Z"
   },
   {
    "duration": 2268,
    "start_time": "2024-04-04T11:42:03.210Z"
   },
   {
    "duration": 10,
    "start_time": "2024-04-04T11:42:05.479Z"
   },
   {
    "duration": 20,
    "start_time": "2024-04-04T11:42:05.491Z"
   },
   {
    "duration": 53,
    "start_time": "2024-04-04T11:42:05.512Z"
   },
   {
    "duration": 26,
    "start_time": "2024-04-04T11:42:05.567Z"
   },
   {
    "duration": 14,
    "start_time": "2024-04-04T11:42:05.594Z"
   },
   {
    "duration": 26,
    "start_time": "2024-04-04T11:42:05.609Z"
   },
   {
    "duration": 17,
    "start_time": "2024-04-04T11:42:05.636Z"
   },
   {
    "duration": 42,
    "start_time": "2024-04-04T11:42:05.654Z"
   },
   {
    "duration": 10,
    "start_time": "2024-04-04T11:42:05.698Z"
   },
   {
    "duration": 20557,
    "start_time": "2024-04-04T11:42:05.709Z"
   },
   {
    "duration": 1296,
    "start_time": "2024-04-04T11:42:26.268Z"
   },
   {
    "duration": 3522,
    "start_time": "2024-04-04T11:42:27.566Z"
   },
   {
    "duration": 60217,
    "start_time": "2024-04-04T11:42:31.089Z"
   },
   {
    "duration": 4,
    "start_time": "2024-04-04T11:43:31.307Z"
   },
   {
    "duration": 111,
    "start_time": "2024-04-04T11:43:31.312Z"
   },
   {
    "duration": 1160,
    "start_time": "2024-04-04T11:49:45.705Z"
   },
   {
    "duration": 2273,
    "start_time": "2024-04-04T11:49:46.866Z"
   },
   {
    "duration": 10,
    "start_time": "2024-04-04T11:49:49.141Z"
   },
   {
    "duration": 10,
    "start_time": "2024-04-04T11:49:49.153Z"
   },
   {
    "duration": 37,
    "start_time": "2024-04-04T11:49:49.164Z"
   },
   {
    "duration": 10,
    "start_time": "2024-04-04T11:49:49.203Z"
   },
   {
    "duration": 3,
    "start_time": "2024-04-04T11:49:49.214Z"
   },
   {
    "duration": 15,
    "start_time": "2024-04-04T11:49:49.218Z"
   },
   {
    "duration": 11,
    "start_time": "2024-04-04T11:49:49.234Z"
   },
   {
    "duration": 40,
    "start_time": "2024-04-04T11:49:49.247Z"
   },
   {
    "duration": 11,
    "start_time": "2024-04-04T11:49:49.288Z"
   },
   {
    "duration": 21200,
    "start_time": "2024-04-04T11:49:49.302Z"
   },
   {
    "duration": 1362,
    "start_time": "2024-04-04T11:50:10.504Z"
   },
   {
    "duration": 3459,
    "start_time": "2024-04-04T11:50:11.868Z"
   },
   {
    "duration": 62980,
    "start_time": "2024-04-04T11:50:15.329Z"
   },
   {
    "duration": 295675,
    "start_time": "2024-04-04T11:51:18.311Z"
   },
   {
    "duration": 1158,
    "start_time": "2024-04-04T11:57:26.610Z"
   },
   {
    "duration": 822,
    "start_time": "2024-04-04T11:57:27.770Z"
   },
   {
    "duration": 14,
    "start_time": "2024-04-04T11:57:28.593Z"
   },
   {
    "duration": 16,
    "start_time": "2024-04-04T11:57:28.608Z"
   },
   {
    "duration": 37,
    "start_time": "2024-04-04T11:57:28.625Z"
   },
   {
    "duration": 4,
    "start_time": "2024-04-04T11:57:28.663Z"
   },
   {
    "duration": 23,
    "start_time": "2024-04-04T11:57:28.668Z"
   },
   {
    "duration": 16,
    "start_time": "2024-04-04T11:57:28.692Z"
   },
   {
    "duration": 31,
    "start_time": "2024-04-04T11:57:28.709Z"
   },
   {
    "duration": 42,
    "start_time": "2024-04-04T11:57:28.741Z"
   },
   {
    "duration": 10,
    "start_time": "2024-04-04T11:57:28.785Z"
   },
   {
    "duration": 20493,
    "start_time": "2024-04-04T11:57:28.797Z"
   },
   {
    "duration": 1371,
    "start_time": "2024-04-04T11:57:49.291Z"
   },
   {
    "duration": 3528,
    "start_time": "2024-04-04T11:57:50.664Z"
   },
   {
    "duration": 59520,
    "start_time": "2024-04-04T11:57:54.194Z"
   },
   {
    "duration": 295996,
    "start_time": "2024-04-04T11:58:53.716Z"
   },
   {
    "duration": 17291,
    "start_time": "2024-04-04T12:03:49.713Z"
   },
   {
    "duration": 1167,
    "start_time": "2024-04-04T12:10:44.009Z"
   },
   {
    "duration": 818,
    "start_time": "2024-04-04T12:10:45.177Z"
   },
   {
    "duration": 10,
    "start_time": "2024-04-04T12:10:45.996Z"
   },
   {
    "duration": 8,
    "start_time": "2024-04-04T12:10:46.008Z"
   },
   {
    "duration": 25,
    "start_time": "2024-04-04T12:10:46.018Z"
   },
   {
    "duration": 8,
    "start_time": "2024-04-04T12:10:46.044Z"
   },
   {
    "duration": 9,
    "start_time": "2024-04-04T12:10:46.053Z"
   },
   {
    "duration": 32,
    "start_time": "2024-04-04T12:10:46.063Z"
   },
   {
    "duration": 9,
    "start_time": "2024-04-04T12:10:46.096Z"
   },
   {
    "duration": 37,
    "start_time": "2024-04-04T12:10:46.107Z"
   },
   {
    "duration": 10,
    "start_time": "2024-04-04T12:10:46.145Z"
   },
   {
    "duration": 25461,
    "start_time": "2024-04-04T12:10:46.156Z"
   },
   {
    "duration": 1669,
    "start_time": "2024-04-04T12:11:11.618Z"
   },
   {
    "duration": 4324,
    "start_time": "2024-04-04T12:11:13.289Z"
   },
   {
    "duration": 65791,
    "start_time": "2024-04-04T12:11:17.614Z"
   },
   {
    "duration": 295972,
    "start_time": "2024-04-04T12:12:23.406Z"
   },
   {
    "duration": 15127,
    "start_time": "2024-04-04T12:17:19.379Z"
   },
   {
    "duration": 1380,
    "start_time": "2024-04-04T19:40:42.422Z"
   },
   {
    "duration": 2400,
    "start_time": "2024-04-04T19:40:43.804Z"
   },
   {
    "duration": 13,
    "start_time": "2024-04-04T19:40:46.206Z"
   },
   {
    "duration": 6,
    "start_time": "2024-04-04T19:40:46.222Z"
   },
   {
    "duration": 32,
    "start_time": "2024-04-04T19:40:46.230Z"
   },
   {
    "duration": 5,
    "start_time": "2024-04-04T19:40:46.264Z"
   },
   {
    "duration": 14,
    "start_time": "2024-04-04T19:40:46.270Z"
   },
   {
    "duration": 9,
    "start_time": "2024-04-04T19:40:46.286Z"
   },
   {
    "duration": 11,
    "start_time": "2024-04-04T19:40:46.297Z"
   },
   {
    "duration": 74,
    "start_time": "2024-04-04T19:40:46.311Z"
   },
   {
    "duration": 14,
    "start_time": "2024-04-04T19:40:46.387Z"
   },
   {
    "duration": 42380,
    "start_time": "2024-04-04T19:40:46.402Z"
   },
   {
    "duration": 1138,
    "start_time": "2024-04-04T19:41:28.783Z"
   },
   {
    "duration": 0,
    "start_time": "2024-04-04T19:41:29.923Z"
   },
   {
    "duration": 0,
    "start_time": "2024-04-04T19:41:29.925Z"
   },
   {
    "duration": 0,
    "start_time": "2024-04-04T19:41:29.925Z"
   },
   {
    "duration": 0,
    "start_time": "2024-04-04T19:41:29.927Z"
   },
   {
    "duration": 1262,
    "start_time": "2024-04-04T19:47:49.436Z"
   },
   {
    "duration": 925,
    "start_time": "2024-04-04T19:47:50.700Z"
   },
   {
    "duration": 14,
    "start_time": "2024-04-04T19:47:51.626Z"
   },
   {
    "duration": 5,
    "start_time": "2024-04-04T19:47:51.642Z"
   },
   {
    "duration": 46,
    "start_time": "2024-04-04T19:47:51.649Z"
   },
   {
    "duration": 5,
    "start_time": "2024-04-04T19:47:51.696Z"
   },
   {
    "duration": 9,
    "start_time": "2024-04-04T19:47:51.702Z"
   },
   {
    "duration": 18,
    "start_time": "2024-04-04T19:47:51.713Z"
   },
   {
    "duration": 12,
    "start_time": "2024-04-04T19:47:51.733Z"
   },
   {
    "duration": 87,
    "start_time": "2024-04-04T19:47:51.747Z"
   },
   {
    "duration": 15,
    "start_time": "2024-04-04T19:47:51.836Z"
   },
   {
    "duration": 1123,
    "start_time": "2024-04-04T19:47:51.853Z"
   },
   {
    "duration": 28742,
    "start_time": "2024-04-04T19:47:52.978Z"
   },
   {
    "duration": 346,
    "start_time": "2024-04-04T19:48:21.722Z"
   },
   {
    "duration": 0,
    "start_time": "2024-04-04T19:48:22.070Z"
   },
   {
    "duration": 0,
    "start_time": "2024-04-04T19:48:22.071Z"
   },
   {
    "duration": 0,
    "start_time": "2024-04-04T19:48:22.072Z"
   },
   {
    "duration": 4,
    "start_time": "2024-04-04T19:48:25.763Z"
   },
   {
    "duration": 3883,
    "start_time": "2024-04-04T19:49:12.983Z"
   },
   {
    "duration": 90520,
    "start_time": "2024-04-04T19:49:24.272Z"
   },
   {
    "duration": 1323,
    "start_time": "2024-04-04T19:51:11.124Z"
   },
   {
    "duration": 991,
    "start_time": "2024-04-04T19:51:12.449Z"
   },
   {
    "duration": 14,
    "start_time": "2024-04-04T19:51:13.442Z"
   },
   {
    "duration": 4,
    "start_time": "2024-04-04T19:51:13.458Z"
   },
   {
    "duration": 47,
    "start_time": "2024-04-04T19:51:13.464Z"
   },
   {
    "duration": 4,
    "start_time": "2024-04-04T19:51:13.513Z"
   },
   {
    "duration": 3,
    "start_time": "2024-04-04T19:51:13.519Z"
   },
   {
    "duration": 8,
    "start_time": "2024-04-04T19:51:13.524Z"
   },
   {
    "duration": 11,
    "start_time": "2024-04-04T19:51:13.534Z"
   },
   {
    "duration": 74,
    "start_time": "2024-04-04T19:51:13.548Z"
   },
   {
    "duration": 13,
    "start_time": "2024-04-04T19:51:13.625Z"
   },
   {
    "duration": 1169,
    "start_time": "2024-04-04T19:51:13.640Z"
   },
   {
    "duration": 18355,
    "start_time": "2024-04-04T19:51:14.811Z"
   },
   {
    "duration": 0,
    "start_time": "2024-04-04T19:51:33.168Z"
   },
   {
    "duration": 0,
    "start_time": "2024-04-04T19:51:33.169Z"
   },
   {
    "duration": 1,
    "start_time": "2024-04-04T19:51:33.170Z"
   },
   {
    "duration": 0,
    "start_time": "2024-04-04T19:51:33.172Z"
   },
   {
    "duration": 1340,
    "start_time": "2024-04-04T19:52:16.975Z"
   },
   {
    "duration": 1006,
    "start_time": "2024-04-04T19:52:18.317Z"
   },
   {
    "duration": 14,
    "start_time": "2024-04-04T19:52:19.324Z"
   },
   {
    "duration": 10,
    "start_time": "2024-04-04T19:52:19.340Z"
   },
   {
    "duration": 58,
    "start_time": "2024-04-04T19:52:19.351Z"
   },
   {
    "duration": 4,
    "start_time": "2024-04-04T19:52:19.411Z"
   },
   {
    "duration": 7,
    "start_time": "2024-04-04T19:52:19.417Z"
   },
   {
    "duration": 8,
    "start_time": "2024-04-04T19:52:19.426Z"
   },
   {
    "duration": 9,
    "start_time": "2024-04-04T19:52:19.436Z"
   },
   {
    "duration": 80,
    "start_time": "2024-04-04T19:52:19.447Z"
   },
   {
    "duration": 12,
    "start_time": "2024-04-04T19:52:19.528Z"
   },
   {
    "duration": 1182,
    "start_time": "2024-04-04T19:52:19.542Z"
   },
   {
    "duration": 30267,
    "start_time": "2024-04-04T19:52:20.726Z"
   },
   {
    "duration": 173,
    "start_time": "2024-04-04T19:52:50.995Z"
   },
   {
    "duration": 147,
    "start_time": "2024-04-04T19:52:51.170Z"
   },
   {
    "duration": 0,
    "start_time": "2024-04-04T19:52:51.319Z"
   },
   {
    "duration": 0,
    "start_time": "2024-04-04T19:52:51.320Z"
   },
   {
    "duration": 21,
    "start_time": "2024-04-04T19:53:17.968Z"
   },
   {
    "duration": 1282,
    "start_time": "2024-04-04T19:53:26.530Z"
   },
   {
    "duration": 1018,
    "start_time": "2024-04-04T19:53:27.815Z"
   },
   {
    "duration": 13,
    "start_time": "2024-04-04T19:53:28.834Z"
   },
   {
    "duration": 5,
    "start_time": "2024-04-04T19:53:28.849Z"
   },
   {
    "duration": 45,
    "start_time": "2024-04-04T19:53:28.855Z"
   },
   {
    "duration": 4,
    "start_time": "2024-04-04T19:53:28.902Z"
   },
   {
    "duration": 6,
    "start_time": "2024-04-04T19:53:28.908Z"
   },
   {
    "duration": 14,
    "start_time": "2024-04-04T19:53:28.917Z"
   },
   {
    "duration": 12,
    "start_time": "2024-04-04T19:53:28.933Z"
   },
   {
    "duration": 78,
    "start_time": "2024-04-04T19:53:28.948Z"
   },
   {
    "duration": 20,
    "start_time": "2024-04-04T19:53:29.028Z"
   },
   {
    "duration": 1256,
    "start_time": "2024-04-04T19:53:29.051Z"
   },
   {
    "duration": 29984,
    "start_time": "2024-04-04T19:53:30.309Z"
   },
   {
    "duration": 4130,
    "start_time": "2024-04-04T19:54:00.296Z"
   },
   {
    "duration": 84558,
    "start_time": "2024-04-04T19:54:04.427Z"
   },
   {
    "duration": 318795,
    "start_time": "2024-04-04T19:55:28.987Z"
   },
   {
    "duration": 14606,
    "start_time": "2024-04-04T20:00:47.784Z"
   },
   {
    "duration": 1282,
    "start_time": "2024-04-04T20:01:07.203Z"
   },
   {
    "duration": 964,
    "start_time": "2024-04-04T20:01:08.487Z"
   },
   {
    "duration": 14,
    "start_time": "2024-04-04T20:01:09.453Z"
   },
   {
    "duration": 15,
    "start_time": "2024-04-04T20:01:09.468Z"
   },
   {
    "duration": 32,
    "start_time": "2024-04-04T20:01:09.484Z"
   },
   {
    "duration": 4,
    "start_time": "2024-04-04T20:01:09.518Z"
   },
   {
    "duration": 4,
    "start_time": "2024-04-04T20:01:09.524Z"
   },
   {
    "duration": 12,
    "start_time": "2024-04-04T20:01:09.530Z"
   },
   {
    "duration": 10,
    "start_time": "2024-04-04T20:01:09.544Z"
   },
   {
    "duration": 52,
    "start_time": "2024-04-04T20:01:09.581Z"
   },
   {
    "duration": 13,
    "start_time": "2024-04-04T20:01:09.635Z"
   },
   {
    "duration": 1170,
    "start_time": "2024-04-04T20:01:09.649Z"
   },
   {
    "duration": 27403,
    "start_time": "2024-04-04T20:01:10.821Z"
   },
   {
    "duration": 2353,
    "start_time": "2024-04-04T20:01:38.226Z"
   },
   {
    "duration": 86910,
    "start_time": "2024-04-04T20:01:40.581Z"
   },
   {
    "duration": 87379,
    "start_time": "2024-04-04T20:03:07.493Z"
   },
   {
    "duration": 0,
    "start_time": "2024-04-04T20:04:34.874Z"
   },
   {
    "duration": 1370,
    "start_time": "2024-04-04T20:04:45.922Z"
   },
   {
    "duration": 964,
    "start_time": "2024-04-04T20:04:47.293Z"
   },
   {
    "duration": 23,
    "start_time": "2024-04-04T20:04:48.259Z"
   },
   {
    "duration": 5,
    "start_time": "2024-04-04T20:04:48.285Z"
   },
   {
    "duration": 40,
    "start_time": "2024-04-04T20:04:48.292Z"
   },
   {
    "duration": 5,
    "start_time": "2024-04-04T20:04:48.333Z"
   },
   {
    "duration": 3,
    "start_time": "2024-04-04T20:04:48.340Z"
   },
   {
    "duration": 11,
    "start_time": "2024-04-04T20:04:48.345Z"
   },
   {
    "duration": 16,
    "start_time": "2024-04-04T20:04:48.383Z"
   },
   {
    "duration": 41,
    "start_time": "2024-04-04T20:04:48.401Z"
   },
   {
    "duration": 13,
    "start_time": "2024-04-04T20:04:48.443Z"
   },
   {
    "duration": 1112,
    "start_time": "2024-04-04T20:04:48.457Z"
   },
   {
    "duration": 27641,
    "start_time": "2024-04-04T20:04:49.570Z"
   },
   {
    "duration": 2398,
    "start_time": "2024-04-04T20:05:17.212Z"
   },
   {
    "duration": 155599,
    "start_time": "2024-04-04T20:05:19.612Z"
   },
   {
    "duration": 296545,
    "start_time": "2024-04-04T20:07:55.213Z"
   },
   {
    "duration": 12924,
    "start_time": "2024-04-04T20:12:51.759Z"
   },
   {
    "duration": 25558,
    "start_time": "2024-04-04T20:15:30.325Z"
   },
   {
    "duration": 1313,
    "start_time": "2024-04-04T20:16:03.090Z"
   },
   {
    "duration": 1000,
    "start_time": "2024-04-04T20:16:04.405Z"
   },
   {
    "duration": 13,
    "start_time": "2024-04-04T20:16:05.409Z"
   },
   {
    "duration": 8,
    "start_time": "2024-04-04T20:16:05.423Z"
   },
   {
    "duration": 58,
    "start_time": "2024-04-04T20:16:05.432Z"
   },
   {
    "duration": 11,
    "start_time": "2024-04-04T20:16:05.492Z"
   },
   {
    "duration": 6,
    "start_time": "2024-04-04T20:16:05.505Z"
   },
   {
    "duration": 12,
    "start_time": "2024-04-04T20:16:05.513Z"
   },
   {
    "duration": 10,
    "start_time": "2024-04-04T20:16:05.528Z"
   },
   {
    "duration": 71,
    "start_time": "2024-04-04T20:16:05.540Z"
   },
   {
    "duration": 12,
    "start_time": "2024-04-04T20:16:05.612Z"
   },
   {
    "duration": 1115,
    "start_time": "2024-04-04T20:16:05.625Z"
   },
   {
    "duration": 27701,
    "start_time": "2024-04-04T20:16:06.742Z"
   },
   {
    "duration": 2313,
    "start_time": "2024-04-04T20:16:34.445Z"
   },
   {
    "duration": 147825,
    "start_time": "2024-04-04T20:16:36.759Z"
   },
   {
    "duration": 300133,
    "start_time": "2024-04-04T20:19:04.586Z"
   },
   {
    "duration": 30573,
    "start_time": "2024-04-04T20:24:04.721Z"
   },
   {
    "duration": 28800,
    "start_time": "2024-04-04T20:24:40.682Z"
   }
  ],
  "kernelspec": {
   "display_name": "Python 3 (ipykernel)",
   "language": "python",
   "name": "python3"
  },
  "language_info": {
   "codemirror_mode": {
    "name": "ipython",
    "version": 3
   },
   "file_extension": ".py",
   "mimetype": "text/x-python",
   "name": "python",
   "nbconvert_exporter": "python",
   "pygments_lexer": "ipython3",
   "version": "3.9.5"
  },
  "toc": {
   "base_numbering": 1,
   "nav_menu": {},
   "number_sections": true,
   "sideBar": true,
   "skip_h1_title": true,
   "title_cell": "Содержание",
   "title_sidebar": "Contents",
   "toc_cell": true,
   "toc_position": {
    "height": "calc(100% - 180px)",
    "left": "10px",
    "top": "150px",
    "width": "302.391px"
   },
   "toc_section_display": true,
   "toc_window_display": false
  }
 },
 "nbformat": 4,
 "nbformat_minor": 2
}
