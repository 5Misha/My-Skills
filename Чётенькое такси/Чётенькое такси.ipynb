{
 "cells": [
  {
   "cell_type": "markdown",
   "id": "4c018a31-c7c0-4b9c-8bd1-e0062b6550e0",
   "metadata": {},
   "source": [
    "# Чётенькое такси"
   ]
  },
  {
   "cell_type": "markdown",
   "id": "8ad33c45-df6e-4c3b-8223-b0c6cf448971",
   "metadata": {},
   "source": [
    "## Описание проекта"
   ]
  },
  {
   "cell_type": "markdown",
   "id": "a5a39399-bee5-4b67-96c1-26d593f1386c",
   "metadata": {},
   "source": [
    "Компания \"Чётенькое такси\" предоставила нам данные о заказах такси в аэропортах за определенный период. Ведь не всегда получается угадать сколько водителей нужно подгототавливать каждый час, чтобы они могли быстро приехать в аэропорт за клиентом. Это поможет обойти конкурентов и увеличить прибыль. Поэтому компания обратилась за помощью к нам."
   ]
  },
  {
   "cell_type": "markdown",
   "id": "196dcbf3-0005-42a0-9632-8dd4ca14687b",
   "metadata": {},
   "source": [
    "## Задача проекта"
   ]
  },
  {
   "cell_type": "markdown",
   "id": "84dba0a7-0204-4d9d-b1bb-0d608041ee07",
   "metadata": {},
   "source": [
    "Разработать модель, определяющую по данным, которые предоставила компания, кол-во таксистов на каждый час, которых нужно отправить в аэропорт. Это значительно поможет уменьшить время ожидания клиентов , увеличив прибыль компании"
   ]
  },
  {
   "cell_type": "markdown",
   "id": "b0791876-003e-4ef2-92f8-129ec4aa8f1d",
   "metadata": {},
   "source": [
    "## Описание данных"
   ]
  },
  {
   "cell_type": "markdown",
   "id": "ff192546-8db3-41a6-99be-7711b065b38a",
   "metadata": {},
   "source": [
    "Компания предоставила информацию в виде таблицы Excel, состоящей всего из двух столбцов: datetime - время(интервал), во время которого происходило определенное кол-во заказов. num_orders - кол-во заказов в определенный промежуток времени"
   ]
  },
  {
   "cell_type": "markdown",
   "id": "ee3885af-f53e-4957-94e4-9f30842a2ad1",
   "metadata": {},
   "source": [
    "## Установка и импорт библиотек"
   ]
  },
  {
   "cell_type": "code",
   "execution_count": 1,
   "id": "384c9551-0767-405b-9bfb-799ab92de0c5",
   "metadata": {},
   "outputs": [
    {
     "name": "stdout",
     "output_type": "stream",
     "text": [
      "Requirement already satisfied: pandas in /opt/conda/lib/python3.9/site-packages (1.2.4)\n",
      "Requirement already satisfied: python-dateutil>=2.7.3 in /opt/conda/lib/python3.9/site-packages (from pandas) (2.8.1)\n",
      "Requirement already satisfied: pytz>=2017.3 in /opt/conda/lib/python3.9/site-packages (from pandas) (2021.1)\n",
      "Requirement already satisfied: numpy>=1.16.5 in /opt/conda/lib/python3.9/site-packages (from pandas) (1.21.1)\n",
      "Requirement already satisfied: six>=1.5 in /opt/conda/lib/python3.9/site-packages (from python-dateutil>=2.7.3->pandas) (1.16.0)\n",
      "Name: numpy\n",
      "Version: 1.21.1\n",
      "Summary: NumPy is the fundamental package for array computing with Python.\n",
      "Home-page: https://www.numpy.org\n",
      "Author: Travis E. Oliphant et al.\n",
      "Author-email: None\n",
      "License: BSD\n",
      "Location: /opt/conda/lib/python3.9/site-packages\n",
      "Requires: \n",
      "Required-by: xgboost, transformers, thinc, tensorflow-cpu, tensorboard, statsmodels, spacy, seaborn, scipy, scikit-learn, pyod, pyarrow, patsy, pandas, opt-einsum, numba, matplotlib, lightgbm, Keras-Preprocessing, h5py, gensim, folium, catboost, blis\n",
      "Requirement already satisfied: scikit-learn in /opt/conda/lib/python3.9/site-packages (1.4.1.post1)\n",
      "Requirement already satisfied: joblib>=1.2.0 in /opt/conda/lib/python3.9/site-packages (from scikit-learn) (1.3.2)\n",
      "Requirement already satisfied: threadpoolctl>=2.0.0 in /opt/conda/lib/python3.9/site-packages (from scikit-learn) (3.1.0)\n",
      "Requirement already satisfied: numpy<2.0,>=1.19.5 in /opt/conda/lib/python3.9/site-packages (from scikit-learn) (1.21.1)\n",
      "Requirement already satisfied: scipy>=1.6.0 in /opt/conda/lib/python3.9/site-packages (from scikit-learn) (1.9.1)\n"
     ]
    }
   ],
   "source": [
    "!pip install pandas\n",
    "!pip show numpy\n",
    "!pip install -U scikit-learn"
   ]
  },
  {
   "cell_type": "code",
   "execution_count": 2,
   "id": "d13b3097-e258-4aeb-978f-52f3875a000d",
   "metadata": {},
   "outputs": [],
   "source": [
    "import os\n",
    "import pandas as pd\n",
    "import numpy as np\n",
    "import seaborn as sns\n",
    "import matplotlib.pyplot as plt\n",
    "from sklearn.model_selection import train_test_split, GridSearchCV\n",
    "from sklearn.linear_model import LinearRegression\n",
    "from sklearn.metrics import mean_squared_error\n",
    "from sklearn.tree import DecisionTreeRegressor\n",
    "from lightgbm import LGBMRegressor\n",
    "from sklearn.model_selection import TimeSeriesSplit\n",
    "plt.rcParams[\"figure.figsize\"] = (10,5)"
   ]
  },
  {
   "cell_type": "markdown",
   "id": "fbf46cfd-679c-45a1-b7fa-4deba3036929",
   "metadata": {},
   "source": [
    "## Используемые функции"
   ]
  },
  {
   "cell_type": "code",
   "execution_count": 3,
   "id": "db501b69-0305-49a5-8eaa-13f62c30276b",
   "metadata": {},
   "outputs": [],
   "source": [
    "# функция создания признаков для обучения моделей и решения задачи временных рядов\n",
    "def make_features(taxi, max_lag, rolling_mean_size):\n",
    "    taxi['day'] = taxi.index.day\n",
    "    taxi['dayofweek'] = taxi.index.dayofweek\n",
    "    taxi['hour'] = taxi.index.hour\n",
    "    \n",
    "    for lag in range(1, max_lag + 1):\n",
    "        taxi['lag_{}'.format(lag)] = taxi['num_orders'].shift(lag) # с помощью shift и цикла создаем новые переменные\n",
    "\n",
    "    taxi['rolling_mean'] = taxi['num_orders'].shift().rolling(rolling_mean_size).mean() # создаем признак со скользящим среднем"
   ]
  },
  {
   "cell_type": "markdown",
   "id": "2eca146f-a601-43db-a2c3-da9c79287357",
   "metadata": {},
   "source": [
    "## Загрузка данных"
   ]
  },
  {
   "cell_type": "markdown",
   "id": "270784c5-cffb-4816-b13b-33fbf3cd9bda",
   "metadata": {},
   "source": [
    "Считаем и посмотрим на файл, который нам предоставили. Сделаем сразу столбец datetime индексом для дальнейшего удобства работы, ресемплинг по каждому часу с суммой значений в этом промежутке, как просил заказсчик. И, на всякий случай, отсортируем индексы(время)"
   ]
  },
  {
   "cell_type": "code",
   "execution_count": 4,
   "id": "0a849f12-2b89-4070-b8fa-70d9fe3e930e",
   "metadata": {},
   "outputs": [
    {
     "data": {
      "text/html": [
       "<div>\n",
       "<style scoped>\n",
       "    .dataframe tbody tr th:only-of-type {\n",
       "        vertical-align: middle;\n",
       "    }\n",
       "\n",
       "    .dataframe tbody tr th {\n",
       "        vertical-align: top;\n",
       "    }\n",
       "\n",
       "    .dataframe thead th {\n",
       "        text-align: right;\n",
       "    }\n",
       "</style>\n",
       "<table border=\"1\" class=\"dataframe\">\n",
       "  <thead>\n",
       "    <tr style=\"text-align: right;\">\n",
       "      <th></th>\n",
       "      <th>num_orders</th>\n",
       "    </tr>\n",
       "    <tr>\n",
       "      <th>datetime</th>\n",
       "      <th></th>\n",
       "    </tr>\n",
       "  </thead>\n",
       "  <tbody>\n",
       "    <tr>\n",
       "      <th>2018-03-01 00:00:00</th>\n",
       "      <td>124</td>\n",
       "    </tr>\n",
       "    <tr>\n",
       "      <th>2018-03-01 01:00:00</th>\n",
       "      <td>85</td>\n",
       "    </tr>\n",
       "    <tr>\n",
       "      <th>2018-03-01 02:00:00</th>\n",
       "      <td>71</td>\n",
       "    </tr>\n",
       "    <tr>\n",
       "      <th>2018-03-01 03:00:00</th>\n",
       "      <td>66</td>\n",
       "    </tr>\n",
       "    <tr>\n",
       "      <th>2018-03-01 04:00:00</th>\n",
       "      <td>43</td>\n",
       "    </tr>\n",
       "  </tbody>\n",
       "</table>\n",
       "</div>"
      ],
      "text/plain": [
       "                     num_orders\n",
       "datetime                       \n",
       "2018-03-01 00:00:00         124\n",
       "2018-03-01 01:00:00          85\n",
       "2018-03-01 02:00:00          71\n",
       "2018-03-01 03:00:00          66\n",
       "2018-03-01 04:00:00          43"
      ]
     },
     "metadata": {},
     "output_type": "display_data"
    },
    {
     "name": "stdout",
     "output_type": "stream",
     "text": [
      "(4416, 1)\n"
     ]
    }
   ],
   "source": [
    "if os.path.exists('taxi.csv'):\n",
    "    taxi = pd.read_csv('taxi.csv', index_col=[0], parse_dates=[0])\n",
    "    taxi.sort_index(inplace=True)\n",
    "    taxi = taxi.resample('1H').sum()\n",
    "    display(taxi.head())\n",
    "    print(taxi.shape)\n",
    "    \n",
    "elif os.path.exists('/datasets/taxi.csv'):\n",
    "    taxi = pd.read_csv('/datasets/taxi.csv', index_col=[0], parse_dates=[0])\n",
    "    taxi.sort_index(inplace=True)\n",
    "    taxi = taxi.resample('1H').sum()\n",
    "    display(taxi.head())\n",
    "    print(taxi.shape)\n",
    "    \n",
    "else:\n",
    "    print('File read error')"
   ]
  },
  {
   "cell_type": "markdown",
   "id": "8ef0c36a-937c-4a67-8310-18e684cbf641",
   "metadata": {},
   "source": [
    "Всего 4416 записей и два столбца, как нам и сказали. На превый взгляд нет ничего особенного. Данные выглядят отлично"
   ]
  },
  {
   "cell_type": "markdown",
   "id": "274a19d5-a79b-49fe-99be-0b57f86bf988",
   "metadata": {},
   "source": [
    "## Анализ данных"
   ]
  },
  {
   "cell_type": "markdown",
   "id": "d6cc2839-7edd-4b50-a1de-799b7b4d86e3",
   "metadata": {},
   "source": [
    "Теперь посмотрим на информацию о нашей таблице. Выведем общую информацию и кол-во пропусков. Дубликаты бессмысленно выводить, так как остается только один столбец."
   ]
  },
  {
   "cell_type": "code",
   "execution_count": 5,
   "id": "b2ddde85-b54b-4304-b157-59f724b94af9",
   "metadata": {},
   "outputs": [
    {
     "name": "stdout",
     "output_type": "stream",
     "text": [
      "<class 'pandas.core.frame.DataFrame'>\n",
      "DatetimeIndex: 4416 entries, 2018-03-01 00:00:00 to 2018-08-31 23:00:00\n",
      "Freq: H\n",
      "Data columns (total 1 columns):\n",
      " #   Column      Non-Null Count  Dtype\n",
      "---  ------      --------------  -----\n",
      " 0   num_orders  4416 non-null   int64\n",
      "dtypes: int64(1)\n",
      "memory usage: 69.0 KB\n"
     ]
    },
    {
     "data": {
      "text/plain": [
       "None"
      ]
     },
     "metadata": {},
     "output_type": "display_data"
    },
    {
     "name": "stdout",
     "output_type": "stream",
     "text": [
      "\n",
      "Кол-во пропусков в таблице\n"
     ]
    },
    {
     "data": {
      "text/plain": [
       "num_orders    0\n",
       "dtype: int64"
      ]
     },
     "metadata": {},
     "output_type": "display_data"
    },
    {
     "name": "stdout",
     "output_type": "stream",
     "text": [
      "\n"
     ]
    },
    {
     "data": {
      "text/html": [
       "<div>\n",
       "<style scoped>\n",
       "    .dataframe tbody tr th:only-of-type {\n",
       "        vertical-align: middle;\n",
       "    }\n",
       "\n",
       "    .dataframe tbody tr th {\n",
       "        vertical-align: top;\n",
       "    }\n",
       "\n",
       "    .dataframe thead th {\n",
       "        text-align: right;\n",
       "    }\n",
       "</style>\n",
       "<table border=\"1\" class=\"dataframe\">\n",
       "  <thead>\n",
       "    <tr style=\"text-align: right;\">\n",
       "      <th></th>\n",
       "      <th>num_orders</th>\n",
       "    </tr>\n",
       "  </thead>\n",
       "  <tbody>\n",
       "    <tr>\n",
       "      <th>count</th>\n",
       "      <td>4416.000000</td>\n",
       "    </tr>\n",
       "    <tr>\n",
       "      <th>mean</th>\n",
       "      <td>84.422781</td>\n",
       "    </tr>\n",
       "    <tr>\n",
       "      <th>std</th>\n",
       "      <td>45.023853</td>\n",
       "    </tr>\n",
       "    <tr>\n",
       "      <th>min</th>\n",
       "      <td>0.000000</td>\n",
       "    </tr>\n",
       "    <tr>\n",
       "      <th>25%</th>\n",
       "      <td>54.000000</td>\n",
       "    </tr>\n",
       "    <tr>\n",
       "      <th>50%</th>\n",
       "      <td>78.000000</td>\n",
       "    </tr>\n",
       "    <tr>\n",
       "      <th>75%</th>\n",
       "      <td>107.000000</td>\n",
       "    </tr>\n",
       "    <tr>\n",
       "      <th>max</th>\n",
       "      <td>462.000000</td>\n",
       "    </tr>\n",
       "  </tbody>\n",
       "</table>\n",
       "</div>"
      ],
      "text/plain": [
       "        num_orders\n",
       "count  4416.000000\n",
       "mean     84.422781\n",
       "std      45.023853\n",
       "min       0.000000\n",
       "25%      54.000000\n",
       "50%      78.000000\n",
       "75%     107.000000\n",
       "max     462.000000"
      ]
     },
     "metadata": {},
     "output_type": "display_data"
    }
   ],
   "source": [
    "display(taxi.info())\n",
    "print()\n",
    "print('Кол-во пропусков в таблице')\n",
    "display(taxi.isna().sum())\n",
    "print()\n",
    "display(taxi.describe())"
   ]
  },
  {
   "cell_type": "markdown",
   "id": "8f249940-14dc-4491-a03e-42a430668785",
   "metadata": {},
   "source": [
    "Тип данных не будем менять. Оставим int64. Пропусков не оказалось. 462 - максимальное кол-во заказов за час. Это достаточно много, но если посмотреть на среднее значение признака(84), то такое число можно посчитать  вполне реальным. Идем дальше"
   ]
  },
  {
   "cell_type": "markdown",
   "id": "cf2332be-5d89-4cbc-a124-f88054a28bbf",
   "metadata": {},
   "source": [
    "Теперь посмотрим на гистограмму и ящик с усами нашего единственного признака num_orders"
   ]
  },
  {
   "cell_type": "code",
   "execution_count": 6,
   "id": "56e54a93-9c58-4654-8bc5-bd18b944c74e",
   "metadata": {},
   "outputs": [
    {
     "data": {
      "image/png": "[encoded data removed]",
      "text/plain": [
       "<Figure size 1008x432 with 1 Axes>"
      ]
     },
     "metadata": {
      "needs_background": "light"
     },
     "output_type": "display_data"
    }
   ],
   "source": [
    "plt.figure(figsize = (14, 6))\n",
    "plt.title('гистограмма num_orders')\n",
    "sns.histplot(data = taxi, x = 'num_orders');"
   ]
  },
  {
   "cell_type": "code",
   "execution_count": 7,
   "id": "6b6bca51-5caa-4bd8-9642-a75766bcd05f",
   "metadata": {
    "scrolled": true
   },
   "outputs": [
    {
     "data": {
      "image/png": "[encoded data removed]",
      "text/plain": [
       "<Figure size 864x288 with 1 Axes>"
      ]
     },
     "metadata": {
      "needs_background": "light"
     },
     "output_type": "display_data"
    }
   ],
   "source": [
    "plt.figure(figsize = (12, 4))\n",
    "plt.title('ящик с усами num_orders')\n",
    "sns.boxplot(data = taxi, x = 'num_orders');"
   ]
  },
  {
   "cell_type": "markdown",
   "id": "dbec3d68-99f0-42e3-84e6-c5febdbda9b5",
   "metadata": {},
   "source": [
    "Гистограмма похожа на биноминальное распределение. Большая часть находится в промежутке от 30 до 130 человек. Есть значения, которые очень далеко ушли от всех. Они начинаются с 300. Их не стоит удалять, потому что нам нужно по условию заказсчика обучить модель на пиковые нагрузки тоже."
   ]
  },
  {
   "cell_type": "markdown",
   "id": "06bfe1ed",
   "metadata": {},
   "source": [
    "Построим график средних значений по кол-ву заказов по часам"
   ]
  },
  {
   "cell_type": "code",
   "execution_count": 8,
   "id": "b2fbf0a5",
   "metadata": {},
   "outputs": [],
   "source": [
    "taxi_g = taxi\n",
    "taxi_g['mean']= taxi_g['num_orders'].shift().rolling(100).mean()"
   ]
  },
  {
   "cell_type": "code",
   "execution_count": 9,
   "id": "79dd7214",
   "metadata": {},
   "outputs": [
    {
     "data": {
      "image/png": "[encoded data removed]",
      "text/plain": [
       "<Figure size 720x360 with 1 Axes>"
      ]
     },
     "metadata": {
      "needs_background": "light"
     },
     "output_type": "display_data"
    }
   ],
   "source": [
    "ax = taxi_g.plot()\n",
    "ax.set_title(\"Кол-во заказов такси во всем промежутке времени\")\n",
    "ax.set_xlabel(\"время по месяцам\")\n",
    "ax.set_ylabel(\"кол-во заказов в час\")\n",
    "plt.show();"
   ]
  },
  {
   "cell_type": "markdown",
   "id": "19789baf",
   "metadata": {},
   "source": [
    "По графику можно заметить, что он нестационарный, потому что люди постепенно, начиная с матра заказывают все больше такси в аэропорт. В августе начинается заметный прирост, что достаточно логично. Люди начинают с лета активнее путешествовать, поэтому и больше заказов.  \n",
    "По логике, заказы должны увеличиваться в выходные дни, так как люди улетают обычно на неделю или две в пт, сб или вс. Для этого посмотрим на заказы по дням"
   ]
  },
  {
   "cell_type": "code",
   "execution_count": 10,
   "id": "20ad6081",
   "metadata": {
    "scrolled": false
   },
   "outputs": [
    {
     "data": {
      "image/png": "[encoded data removed]",
      "text/plain": [
       "<Figure size 720x360 with 1 Axes>"
      ]
     },
     "metadata": {
      "needs_background": "light"
     },
     "output_type": "display_data"
    }
   ],
   "source": [
    "taxi_g['day_of_week'] = taxi_g.index.dayofweek\n",
    "grouped = taxi_g.groupby('day_of_week').mean()\n",
    "plt.figure(figsize=(10, 5))\n",
    "plt.plot(grouped.index, grouped['num_orders'], marker='o')\n",
    "plt.xticks(range(7), ['Mon', 'Tue', 'Wed', 'Thu', 'Fri', 'Sat', 'Sun'])\n",
    "plt.xlabel('День недели')\n",
    "plt.ylabel('Кол-во заказов')\n",
    "plt.title('Кол-во клиентоов по дням')\n",
    "plt.show()"
   ]
  },
  {
   "cell_type": "markdown",
   "id": "0926ec64",
   "metadata": {},
   "source": [
    "Чаще всего люды заказывали такси в понедельник и пятницу, а реже - во вторник и воскресенье"
   ]
  },
  {
   "cell_type": "markdown",
   "id": "d5aa3689",
   "metadata": {},
   "source": [
    "Посмотрим еще на сэмплирование по календарным дням, неделям и месяцам"
   ]
  },
  {
   "cell_type": "code",
   "execution_count": 11,
   "id": "a8ee1bfb",
   "metadata": {
    "scrolled": true
   },
   "outputs": [
    {
     "data": {
      "image/png": "[encoded data removed]",
      "text/plain": [
       "<Figure size 720x360 with 1 Axes>"
      ]
     },
     "metadata": {
      "needs_background": "light"
     },
     "output_type": "display_data"
    }
   ],
   "source": [
    "taxi_days = taxi\n",
    "taxi_days = taxi_days.resample('1D').sum()\n",
    "taxi_days = taxi_days.drop('mean', axis = 1)\n",
    "taxi_days['mean']= taxi_days['num_orders'].shift().rolling(30).mean()\n",
    "ax = taxi_days[['mean', 'num_orders']].plot()\n",
    "ax.set_title(\"Кол-во заказов такси во всем промежутке времени\")\n",
    "ax.set_xlabel(\"время по месяцам\")\n",
    "ax.set_ylabel(\"кол-во заказов в день\")\n",
    "plt.show();"
   ]
  },
  {
   "cell_type": "code",
   "execution_count": 12,
   "id": "2909a26d",
   "metadata": {
    "scrolled": true
   },
   "outputs": [
    {
     "data": {
      "image/png": "[encoded data removed]",
      "text/plain": [
       "<Figure size 720x360 with 1 Axes>"
      ]
     },
     "metadata": {
      "needs_background": "light"
     },
     "output_type": "display_data"
    }
   ],
   "source": [
    "taxi_weekly = taxi_g.resample('W').sum()  # пересемплирование на недельный интервал\n",
    "taxi_weekly['mean'] = taxi_weekly['num_orders'].shift().rolling(4).mean()  # расчет скользящего среднего для недельных значений\n",
    "ax = taxi_weekly[['mean', 'num_orders']].plot()\n",
    "ax.set_title(\"Кол-во заказов такси во всем промежутке времени\")\n",
    "ax.set_xlabel(\"время по месяцам\")\n",
    "ax.set_ylabel(\"кол-во заказов в неделю\")\n",
    "plt.show();"
   ]
  },
  {
   "cell_type": "code",
   "execution_count": 13,
   "id": "28909c1d",
   "metadata": {
    "scrolled": true
   },
   "outputs": [
    {
     "data": {
      "image/png": "[encoded data removed]",
      "text/plain": [
       "<Figure size 720x360 with 1 Axes>"
      ]
     },
     "metadata": {
      "needs_background": "light"
     },
     "output_type": "display_data"
    }
   ],
   "source": [
    "taxi_m = taxi\n",
    "taxi_m = taxi_m.resample('1M').sum()\n",
    "taxi_m['mean'] = taxi_m['num_orders'].mean()\n",
    "taxi_m = taxi_m.drop('mean', axis = 1)\n",
    "ax = taxi_m['num_orders'].plot();\n",
    "ax.set_title(\"Кол-во заказов такси во всем промежутке времени\")\n",
    "ax.set_xlabel(\"время по месяцам\")\n",
    "ax.set_ylabel(\"кол-во заказов в месяц\")\n",
    "plt.show();"
   ]
  },
  {
   "cell_type": "markdown",
   "id": "f5cf78fd",
   "metadata": {},
   "source": [
    "Из всех графиков на какую-то тенденцию больше всего похоже разбиение по часам, поэтому посмотрим на них внимательней. Для этого нужно взять отрезок из нескольких дней. Лучше взять плюс минус стабильный ну или где нет праздников, чтобы было честно"
   ]
  },
  {
   "cell_type": "code",
   "execution_count": 14,
   "id": "bcb88fa0",
   "metadata": {
    "scrolled": true
   },
   "outputs": [
    {
     "name": "stderr",
     "output_type": "stream",
     "text": [
      "/tmp/ipykernel_503/1802373341.py:2: SettingWithCopyWarning: \n",
      "A value is trying to be set on a copy of a slice from a DataFrame.\n",
      "Try using .loc[row_indexer,col_indexer] = value instead\n",
      "\n",
      "See the caveats in the documentation: https://pandas.pydata.org/pandas-docs/stable/user_guide/indexing.html#returning-a-view-versus-a-copy\n",
      "  taxi_g['mean_1']= taxi_g['num_orders'].shift().rolling(10).mean()\n"
     ]
    },
    {
     "data": {
      "image/png": "[encoded data removed]",
      "text/plain": [
       "<Figure size 720x360 with 1 Axes>"
      ]
     },
     "metadata": {
      "needs_background": "light"
     },
     "output_type": "display_data"
    }
   ],
   "source": [
    "taxi_g = taxi_g.loc['2018-08-01 00:00:00':'2018-08-04 00:00:00']\n",
    "taxi_g['mean_1']= taxi_g['num_orders'].shift().rolling(10).mean()\n",
    "fig, ax = plt.subplots()\n",
    "taxi_g[['mean_1', 'num_orders']].plot(ax=ax)\n",
    "ax.set_title(\"Кол-во заказов такси за три дня\")\n",
    "ax.set_xlabel(\"время\")\n",
    "ax.set_ylabel(\"кол-во заказов в час\")\n",
    "plt.show();"
   ]
  },
  {
   "cell_type": "markdown",
   "id": "a53abe42",
   "metadata": {},
   "source": [
    "Можно заметить, что около 00 и 14 часов происходит больше всего заказов. А часов в 7 утра их меньше всего"
   ]
  },
  {
   "cell_type": "markdown",
   "id": "1d7fa7bb-7b16-47f1-9b1b-99429bc26a3b",
   "metadata": {},
   "source": [
    "Отлично! На данном этапе мы провели анализ данных, то есть всего одного признака, так как столбец со временем мы индексировали.  С помощью графиков посмотрели на временные ряды по месяцам, неделям, дням и часам. rolling помог усреднить значения, чтобы было видно тенденцию роста графиков. В итоге мы определили сезонность при рассотрении часов, узнали, что летом достаточно сильно увеличивается спрос на такси, что достаточно логично и около 00 и 14 часов пики заказов, а в 7 наоборот - спад. Ряд сэмплирования по часам оказался нестационарным\n",
    "Пропусков не оказалось. Проверять на корреляцию признаки нет смысла, масштабировать их тоже не нужно. Можно приступать к обучению и построению моделей"
   ]
  },
  {
   "cell_type": "markdown",
   "id": "453f4f21-47fe-4920-a0d6-9f709eafc99a",
   "metadata": {},
   "source": [
    "## Обучение моделей"
   ]
  },
  {
   "cell_type": "markdown",
   "id": "21307d64-a0b7-46d9-bb91-7bf380b5352c",
   "metadata": {},
   "source": [
    "Перед нами оказалась задача на временные ряды. У нее обычно мало признаков, а для обучения моделям их нужно больше. Поэтому будем создавать эти признаки сами."
   ]
  },
  {
   "cell_type": "code",
   "execution_count": 15,
   "id": "9217a5ce",
   "metadata": {
    "scrolled": true
   },
   "outputs": [
    {
     "name": "stdout",
     "output_type": "stream",
     "text": [
      "max_lag = 1\n",
      "rolling_mean_size = 1\n",
      "33.476974418493626\n",
      "\n",
      "max_lag = 1\n",
      "rolling_mean_size = 3\n",
      "33.46411222781482\n",
      "\n",
      "max_lag = 1\n",
      "rolling_mean_size = 5\n",
      "33.3518711224814\n",
      "\n",
      "max_lag = 1\n",
      "rolling_mean_size = 7\n",
      "33.390914442509086\n",
      "\n",
      "max_lag = 1\n",
      "rolling_mean_size = 10\n",
      "33.390107711315366\n",
      "\n",
      "max_lag = 3\n",
      "rolling_mean_size = 1\n",
      "33.26176752512944\n",
      "\n",
      "max_lag = 3\n",
      "rolling_mean_size = 3\n",
      "33.265531882102835\n",
      "\n",
      "max_lag = 3\n",
      "rolling_mean_size = 5\n",
      "33.175890346633935\n",
      "\n",
      "max_lag = 3\n",
      "rolling_mean_size = 7\n",
      "33.225768063033556\n",
      "\n",
      "max_lag = 3\n",
      "rolling_mean_size = 10\n",
      "33.207222614306176\n",
      "\n",
      "max_lag = 5\n",
      "rolling_mean_size = 1\n",
      "33.186823474652854\n",
      "\n",
      "max_lag = 5\n",
      "rolling_mean_size = 3\n",
      "33.184246864521256\n",
      "\n",
      "max_lag = 5\n",
      "rolling_mean_size = 5\n",
      "33.18381553114664\n",
      "\n",
      "max_lag = 5\n",
      "rolling_mean_size = 7\n",
      "33.182692376606894\n",
      "\n",
      "max_lag = 5\n",
      "rolling_mean_size = 10\n",
      "33.17337823748216\n",
      "\n",
      "max_lag = 7\n",
      "rolling_mean_size = 1\n",
      "33.15328369459394\n",
      "\n",
      "max_lag = 7\n",
      "rolling_mean_size = 3\n",
      "33.15328369459394\n",
      "\n",
      "max_lag = 7\n",
      "rolling_mean_size = 5\n",
      "33.15328871058447\n",
      "\n",
      "max_lag = 7\n",
      "rolling_mean_size = 7\n",
      "33.15328369459394\n",
      "\n",
      "max_lag = 7\n",
      "rolling_mean_size = 10\n",
      "33.08726660989391\n",
      "\n",
      "max_lag = 10\n",
      "rolling_mean_size = 1\n",
      "33.030797947074625\n",
      "\n",
      "max_lag = 10\n",
      "rolling_mean_size = 3\n",
      "33.030797947074625\n",
      "\n",
      "max_lag = 10\n",
      "rolling_mean_size = 5\n",
      "33.03035339549748\n",
      "\n",
      "max_lag = 10\n",
      "rolling_mean_size = 7\n",
      "33.030797947074625\n",
      "\n",
      "max_lag = 10\n",
      "rolling_mean_size = 10\n",
      "33.030797947074625\n",
      "\n"
     ]
    }
   ],
   "source": [
    "TEST_SIZE = 0.1\n",
    "RANDOM_STATE = 42\n",
    "best_rmse_1 = 100\n",
    "params = [1, 3, 5, 7, 10]\n",
    "param_grid = {}\n",
    "for i in params:\n",
    "    for j in params:\n",
    "        make_features(taxi, i, j)\n",
    "        rmse_1 = 0\n",
    "        X = taxi.drop('num_orders', axis=1)\n",
    "        y = taxi['num_orders']\n",
    "        q = len(X)\n",
    "        X = X.dropna()\n",
    "        w = len(X)\n",
    "        y = y[q - w:]\n",
    "        X_train, X_test, y_train, y_test = train_test_split(X, y, test_size=TEST_SIZE, random_state=RANDOM_STATE)\n",
    "\n",
    "        model = LinearRegression()\n",
    "\n",
    "        gs = GridSearchCV(model, param_grid, scoring='neg_mean_squared_error', cv=5)\n",
    "        gs.fit(X_train, y_train)\n",
    "        predictions = gs.predict(X_train)\n",
    "        best_rmse_1 = (-gs.best_score_)**0.5\n",
    "        print(f'max_lag = {i}')\n",
    "        print(f'rolling_mean_size = {j}')\n",
    "        print(best_rmse_1)\n",
    "        print()"
   ]
  },
  {
   "cell_type": "markdown",
   "id": "2fce6819",
   "metadata": {},
   "source": [
    "Лучшая метрика RMSE = 33 при таких параметрах: max_lag = 10, rilling_mean_size = 1. Очень хорошая метрика. Посмторим, что покажут другие модели"
   ]
  },
  {
   "cell_type": "markdown",
   "id": "8f20b71f-32c7-45bf-bebf-03c6bc3278af",
   "metadata": {},
   "source": [
    "При различных параметрах изменений в метриках особо нет. Но с такими параметрами: max_lag = 10 и rolling_mean_size = 1 получилась такая метрика: RMSE 33. Это лучшие значения из всех. Обучим еще одну модель-DecisionTreeRegressor. Для начала найдем параметры признаков, а только потом с помощью GridSearch передем параметры дерева, чтобы улучшить результат. Делаем это раздельно, чтобы не было двух вложенных циклов, в которых будет еще и перебор параметров гридсерча."
   ]
  },
  {
   "cell_type": "code",
   "execution_count": 16,
   "id": "b0575ac3-8165-4b99-b8e3-aadaf6327fa8",
   "metadata": {
    "scrolled": true
   },
   "outputs": [
    {
     "name": "stdout",
     "output_type": "stream",
     "text": [
      "max_lag = 1\n",
      "rolling_mean_size = 1\n",
      "35.5232668322244\n",
      "\n",
      "max_lag = 1\n",
      "rolling_mean_size = 3\n",
      "35.56507614825008\n",
      "\n",
      "max_lag = 1\n",
      "rolling_mean_size = 5\n",
      "35.71009892268385\n",
      "\n",
      "max_lag = 1\n",
      "rolling_mean_size = 7\n",
      "35.673605283451735\n",
      "\n",
      "max_lag = 1\n",
      "rolling_mean_size = 10\n",
      "35.96341347570588\n",
      "\n",
      "max_lag = 3\n",
      "rolling_mean_size = 1\n",
      "35.5232668322244\n",
      "\n",
      "max_lag = 3\n",
      "rolling_mean_size = 3\n",
      "35.56507614825008\n",
      "\n",
      "max_lag = 3\n",
      "rolling_mean_size = 5\n",
      "35.71009892268385\n",
      "\n",
      "max_lag = 3\n",
      "rolling_mean_size = 7\n",
      "35.673605283451735\n",
      "\n",
      "max_lag = 3\n",
      "rolling_mean_size = 10\n",
      "35.96341347570588\n",
      "\n",
      "max_lag = 5\n",
      "rolling_mean_size = 1\n",
      "35.5232668322244\n",
      "\n",
      "max_lag = 5\n",
      "rolling_mean_size = 3\n",
      "35.56507614825008\n",
      "\n",
      "max_lag = 5\n",
      "rolling_mean_size = 5\n",
      "35.71009892268385\n",
      "\n",
      "max_lag = 5\n",
      "rolling_mean_size = 7\n",
      "35.673605283451735\n",
      "\n",
      "max_lag = 5\n",
      "rolling_mean_size = 10\n",
      "35.96341347570588\n",
      "\n",
      "max_lag = 7\n",
      "rolling_mean_size = 1\n",
      "35.5232668322244\n",
      "\n",
      "max_lag = 7\n",
      "rolling_mean_size = 3\n",
      "35.56507614825008\n",
      "\n",
      "max_lag = 7\n",
      "rolling_mean_size = 5\n",
      "35.71009892268385\n",
      "\n",
      "max_lag = 7\n",
      "rolling_mean_size = 7\n",
      "35.673605283451735\n",
      "\n",
      "max_lag = 7\n",
      "rolling_mean_size = 10\n",
      "35.96341347570588\n",
      "\n",
      "max_lag = 10\n",
      "rolling_mean_size = 1\n",
      "35.5232668322244\n",
      "\n",
      "max_lag = 10\n",
      "rolling_mean_size = 3\n",
      "35.56507614825008\n",
      "\n",
      "max_lag = 10\n",
      "rolling_mean_size = 5\n",
      "35.71009892268385\n",
      "\n",
      "max_lag = 10\n",
      "rolling_mean_size = 7\n",
      "35.673605283451735\n",
      "\n",
      "max_lag = 10\n",
      "rolling_mean_size = 10\n",
      "35.96341347570588\n",
      "\n"
     ]
    }
   ],
   "source": [
    "for i in params:\n",
    "    for j in params:\n",
    "        make_features(taxi, i, j)\n",
    "        X = taxi.drop('num_orders', axis=1)\n",
    "        y = taxi['num_orders']\n",
    "        q = len(X)\n",
    "        X = X.dropna()\n",
    "        w = len(X)\n",
    "        y = y[q - w:]\n",
    "        X_train, X_test, y_train, y_test = train_test_split(X, y, test_size=TEST_SIZE, random_state=RANDOM_STATE)\n",
    "\n",
    "        model = DecisionTreeRegressor(random_state = RANDOM_STATE)\n",
    "        gs = GridSearchCV(model, param_grid, scoring='neg_mean_squared_error', cv = 5)\n",
    "        gs.fit(X_train, y_train)\n",
    "        predictions = gs.predict(X_train)\n",
    "        best_rmse_2 = (-gs.best_score_)**0.5\n",
    "        print(f'max_lag = {i}')\n",
    "        print(f'rolling_mean_size = {j}')\n",
    "        print(best_rmse_2)\n",
    "        print()\n",
    "    "
   ]
  },
  {
   "cell_type": "markdown",
   "id": "dcd17faf-96ee-43fb-857a-0b0f24449590",
   "metadata": {},
   "source": [
    "Лучшими параметрами оказались: max_lag = 10 и rolling_mean_size = 1. Тестовая метрика получилась: 35.52. Это больше линейной регрессии, но тоже удовлетворяет условиям заказсчика. Можно попытаться сделать метрику еще меньше, обучив другую модель, либо, подобрав еще параметры для дерева с помощью гридсерча. Начнем как раз с этого."
   ]
  },
  {
   "cell_type": "code",
   "execution_count": 17,
   "id": "7ba3694e",
   "metadata": {},
   "outputs": [],
   "source": [
    "param_grid = {\n",
    "    'max_depth': [1, 3, 6, None],\n",
    "    'min_samples_split': [10, 30, 70],\n",
    "    'min_samples_leaf': [5, 15, 100]\n",
    "}"
   ]
  },
  {
   "cell_type": "code",
   "execution_count": 18,
   "id": "da66b9c9",
   "metadata": {},
   "outputs": [],
   "source": [
    "make_features(taxi, 10,  1)"
   ]
  },
  {
   "cell_type": "code",
   "execution_count": 19,
   "id": "52606a29",
   "metadata": {
    "scrolled": true
   },
   "outputs": [
    {
     "name": "stdout",
     "output_type": "stream",
     "text": [
      "max_lag = 10\n",
      "rolling_mean_size = 1\n",
      "28.120834919260275\n",
      "DecisionTreeRegressor(min_samples_leaf=5, min_samples_split=70, random_state=42)\n"
     ]
    }
   ],
   "source": [
    "X = taxi.drop('num_orders', axis=1)\n",
    "y = taxi['num_orders']\n",
    "q = len(X)\n",
    "X = X.dropna()\n",
    "w = len(X)\n",
    "y = y[q - w:]\n",
    "X_train, X_test, y_train, y_test = train_test_split(X, y, test_size=TEST_SIZE, random_state=RANDOM_STATE)\n",
    "model = DecisionTreeRegressor(random_state = RANDOM_STATE)\n",
    "gs = GridSearchCV(model, param_grid, scoring='neg_mean_squared_error', cv = 5)\n",
    "gs.fit(X_train, y_train)\n",
    "predictions = gs.predict(X_train)\n",
    "best_rmse_2 = (-gs.best_score_)**0.5\n",
    "print(f'max_lag = {10}')\n",
    "print(f'rolling_mean_size = {1}')\n",
    "print(best_rmse_2)\n",
    "best_model = gs.best_estimator_\n",
    "print(best_model)"
   ]
  },
  {
   "cell_type": "markdown",
   "id": "5e76bf64",
   "metadata": {},
   "source": [
    "Метрика улучшилась практически на 10 и стала равна 28. Это уже лучше первой модели, но можно проверить еще одну - градиентный бустинг. Возможно, он покажет себя лучше всех"
   ]
  },
  {
   "cell_type": "markdown",
   "id": "7f9c85dd-11af-45d7-932e-b928a469c945",
   "metadata": {},
   "source": [
    "Проверим последнюю модель - LGBMRegressor"
   ]
  },
  {
   "cell_type": "code",
   "execution_count": 20,
   "id": "7f4705f0-42d5-45e2-bd96-a36881198d45",
   "metadata": {
    "scrolled": true
   },
   "outputs": [
    {
     "name": "stdout",
     "output_type": "stream",
     "text": [
      "max_lag = 1\n",
      "rolling_mean_size = 1\n",
      "24.69025112981686\n",
      "\n",
      "max_lag = 1\n",
      "rolling_mean_size = 3\n",
      "24.840367393523096\n",
      "\n",
      "max_lag = 1\n",
      "rolling_mean_size = 5\n",
      "24.935435755873783\n",
      "\n",
      "max_lag = 1\n",
      "rolling_mean_size = 7\n",
      "24.702913656334708\n",
      "\n",
      "max_lag = 1\n",
      "rolling_mean_size = 10\n",
      "24.724967179104596\n",
      "\n",
      "max_lag = 3\n",
      "rolling_mean_size = 1\n",
      "24.69025112981686\n",
      "\n",
      "max_lag = 3\n",
      "rolling_mean_size = 3\n",
      "24.840367393523096\n",
      "\n",
      "max_lag = 3\n",
      "rolling_mean_size = 5\n",
      "24.935435755873783\n",
      "\n",
      "max_lag = 3\n",
      "rolling_mean_size = 7\n",
      "24.702913656334708\n",
      "\n",
      "max_lag = 3\n",
      "rolling_mean_size = 10\n",
      "24.724967179104596\n",
      "\n",
      "max_lag = 5\n",
      "rolling_mean_size = 1\n",
      "24.69025112981686\n",
      "\n",
      "max_lag = 5\n",
      "rolling_mean_size = 3\n",
      "24.840367393523096\n",
      "\n",
      "max_lag = 5\n",
      "rolling_mean_size = 5\n",
      "24.935435755873783\n",
      "\n",
      "max_lag = 5\n",
      "rolling_mean_size = 7\n",
      "24.702913656334708\n",
      "\n",
      "max_lag = 5\n",
      "rolling_mean_size = 10\n",
      "24.724967179104596\n",
      "\n",
      "max_lag = 7\n",
      "rolling_mean_size = 1\n",
      "24.69025112981686\n",
      "\n",
      "max_lag = 7\n",
      "rolling_mean_size = 3\n",
      "24.840367393523096\n",
      "\n",
      "max_lag = 7\n",
      "rolling_mean_size = 5\n",
      "24.935435755873783\n",
      "\n",
      "max_lag = 7\n",
      "rolling_mean_size = 7\n",
      "24.702913656334708\n",
      "\n",
      "max_lag = 7\n",
      "rolling_mean_size = 10\n",
      "24.724967179104596\n",
      "\n",
      "max_lag = 10\n",
      "rolling_mean_size = 1\n",
      "24.69025112981686\n",
      "\n",
      "max_lag = 10\n",
      "rolling_mean_size = 3\n",
      "24.840367393523096\n",
      "\n",
      "max_lag = 10\n",
      "rolling_mean_size = 5\n",
      "24.935435755873783\n",
      "\n",
      "max_lag = 10\n",
      "rolling_mean_size = 7\n",
      "24.702913656334708\n",
      "\n",
      "max_lag = 10\n",
      "rolling_mean_size = 10\n",
      "24.724967179104596\n",
      "\n"
     ]
    }
   ],
   "source": [
    "param_grid = {}\n",
    "params = [1, 3, 5, 7, 10]\n",
    "for i in params:\n",
    "    for j in params:\n",
    "        make_features(taxi, i, j)\n",
    "        X = taxi.drop('num_orders', axis=1)\n",
    "        y = taxi['num_orders']\n",
    "        q = len(X)\n",
    "        X = X.dropna()\n",
    "        w = len(X)\n",
    "        y = y[q - w:]\n",
    "        X_train, X_test, y_train, y_test = train_test_split(X, y, test_size=TEST_SIZE, random_state=RANDOM_STATE)\n",
    "\n",
    "        model = LGBMRegressor(seed=RANDOM_STATE, verbosity=-1)\n",
    "        \n",
    "        gs = GridSearchCV(model, param_grid, scoring='neg_mean_squared_error', cv = 5)\n",
    "        gs.fit(X_train, y_train)\n",
    "        predictions = gs.predict(X_train)\n",
    "        best_rmse_3 = (-gs.best_score_)**0.5\n",
    "        print(f'max_lag = {i}')\n",
    "        print(f'rolling_mean_size = {j}')\n",
    "        print(best_rmse_3)\n",
    "        print()\n"
   ]
  },
  {
   "cell_type": "markdown",
   "id": "17c4174e-53f7-4811-9a33-49c4efe3f24d",
   "metadata": {},
   "source": [
    "Лучшие параметры max_lag = 10 и rolling_mean_size = 1. RMSE на трен выборке - 24.69. Выберем гиперпараметры для модельки"
   ]
  },
  {
   "cell_type": "code",
   "execution_count": 21,
   "id": "b9e0b427-94a3-4c35-9da6-3fd1de2b4a36",
   "metadata": {
    "scrolled": true
   },
   "outputs": [
    {
     "name": "stdout",
     "output_type": "stream",
     "text": [
      "max_lag = 10\n",
      "rolling_mean_size = 1\n",
      "24.540774243750732\n",
      "LGBMRegressor(max_depth=20, n_estimators=50, seed=42, verbosity=-1)\n"
     ]
    }
   ],
   "source": [
    "model = LGBMRegressor(seed=RANDOM_STATE, verbosity=-1)\n",
    "param_grid = {\n",
    "    'n_estimators': [10, 50, 100],\n",
    "    'max_depth': [5, 20, 50]\n",
    "}\n",
    "\n",
    "make_features(taxi, 10,  1)\n",
    "X = taxi.drop('num_orders', axis=1)\n",
    "y = taxi['num_orders']\n",
    "q = len(X)\n",
    "X = X.dropna()\n",
    "w = len(X)\n",
    "y = y[q - w:]\n",
    "X_train, X_test, y_train, y_test = train_test_split(X, y, test_size=TEST_SIZE, random_state=RANDOM_STATE)\n",
    "\n",
    "gs = GridSearchCV(model, param_grid, scoring='neg_mean_squared_error', cv = 5)\n",
    "gs.fit(X_train, y_train)\n",
    "predictions = gs.predict(X_train)\n",
    "best_rmse_3 = (-gs.best_score_)**0.5\n",
    "print(f'max_lag = {10}')\n",
    "print(f'rolling_mean_size = {1}')\n",
    "print(best_rmse_3)\n",
    "best_model = gs.best_estimator_\n",
    "print(best_model)"
   ]
  },
  {
   "cell_type": "markdown",
   "id": "a4527e6c",
   "metadata": {},
   "source": [
    "Итоговая метрика для градиентного бустинга с гиперпараметрами max_depth=20, n_estimators=50, seed=42, verbosity=-1 оказалась 24.54. Практически ничего не изменилось после перебора гиперпараметров"
   ]
  },
  {
   "cell_type": "code",
   "execution_count": 22,
   "id": "0c4ff9b5",
   "metadata": {
    "scrolled": true
   },
   "outputs": [
    {
     "data": {
      "text/html": [
       "<div>\n",
       "<style scoped>\n",
       "    .dataframe tbody tr th:only-of-type {\n",
       "        vertical-align: middle;\n",
       "    }\n",
       "\n",
       "    .dataframe tbody tr th {\n",
       "        vertical-align: top;\n",
       "    }\n",
       "\n",
       "    .dataframe thead th {\n",
       "        text-align: right;\n",
       "    }\n",
       "</style>\n",
       "<table border=\"1\" class=\"dataframe\">\n",
       "  <thead>\n",
       "    <tr style=\"text-align: right;\">\n",
       "      <th></th>\n",
       "      <th>модель</th>\n",
       "      <th>метрика RMSE</th>\n",
       "    </tr>\n",
       "  </thead>\n",
       "  <tbody>\n",
       "    <tr>\n",
       "      <th>0</th>\n",
       "      <td>LinearRegressoin</td>\n",
       "      <td>33.030798</td>\n",
       "    </tr>\n",
       "    <tr>\n",
       "      <th>1</th>\n",
       "      <td>DecisionTreeRegressor</td>\n",
       "      <td>28.120835</td>\n",
       "    </tr>\n",
       "    <tr>\n",
       "      <th>2</th>\n",
       "      <td>LGBMRegressor</td>\n",
       "      <td>24.540774</td>\n",
       "    </tr>\n",
       "  </tbody>\n",
       "</table>\n",
       "</div>"
      ],
      "text/plain": [
       "                  модель  метрика RMSE\n",
       "0       LinearRegressoin     33.030798\n",
       "1  DecisionTreeRegressor     28.120835\n",
       "2          LGBMRegressor     24.540774"
      ]
     },
     "execution_count": 22,
     "metadata": {},
     "output_type": "execute_result"
    }
   ],
   "source": [
    "w = ['модель', 'метрика RMSE']\n",
    "q = [['LinearRegressoin', best_rmse_1], ['DecisionTreeRegressor', best_rmse_2], ['LGBMRegressor', best_rmse_3],]\n",
    "itogi = pd.DataFrame(data = q, columns = w)\n",
    "itogi"
   ]
  },
  {
   "cell_type": "markdown",
   "id": "baed18ea",
   "metadata": {},
   "source": [
    "Лучшая метрика у модели LGMRegression - 24. Она дольше всех обучается, но это не критично. Проверим градиентный бустинг на тестовой выборке"
   ]
  },
  {
   "cell_type": "code",
   "execution_count": 24,
   "id": "f4de7e5e",
   "metadata": {},
   "outputs": [
    {
     "name": "stdout",
     "output_type": "stream",
     "text": [
      "rmse_model 22.897395115258227\n",
      "max_lag = 10\n",
      "rolling_mean_size = 1\n"
     ]
    },
    {
     "name": "stderr",
     "output_type": "stream",
     "text": [
      "/opt/conda/lib/python3.9/site-packages/sklearn/metrics/_regression.py:483: FutureWarning: 'squared' is deprecated in version 1.4 and will be removed in 1.6. To calculate the root mean squared error, use the function'root_mean_squared_error'.\n",
      "  warnings.warn(\n"
     ]
    }
   ],
   "source": [
    "model = LGBMRegressor(seed=RANDOM_STATE, verbosity=-1)\n",
    "param_grid = {\n",
    "    'n_estimators': [50],\n",
    "    'max_depth': [20]\n",
    "}\n",
    "\n",
    "make_features(taxi, 10,  1)\n",
    "X = taxi.drop('num_orders', axis=1)\n",
    "y = taxi['num_orders']\n",
    "q = len(X)\n",
    "X = X.dropna()\n",
    "w = len(X)\n",
    "y = y[q - w:]\n",
    "X_train, X_test, y_train, y_test = train_test_split(X, y, test_size=TEST_SIZE, random_state=RANDOM_STATE)\n",
    "\n",
    "model.fit(X_train, y_train)\n",
    "predictions = model.predict(X_test)\n",
    "rmse_model = mean_squared_error(y_test, predictions, squared=False)\n",
    "print('rmse_model', rmse_model)\n",
    "print(f'max_lag = {10}')\n",
    "print(f'rolling_mean_size = {1}')"
   ]
  },
  {
   "cell_type": "markdown",
   "id": "715c015b",
   "metadata": {},
   "source": [
    "Итоговая метрика на тестовой выборке оказалась равна 22.9. Это еще лучше, чем при обучении на кросс-валидации"
   ]
  },
  {
   "cell_type": "markdown",
   "id": "a38b243f-65ce-41b4-9295-5218251f1572",
   "metadata": {},
   "source": [
    "Можно подвести итог данного шага. Лучшей моделью оказался градиентный бустинг LGBMRegressor, который дал конечную метрику на тренировочной RMSE = 24, а на тестовой - 23 с гиперпараметрами. Это все удовлетворяет запросам заказсчика.  \n",
    "Следующей моделью по наименьшей метрике оказалось DecisionTreeRegressor с метрикой RMSE = 28. И хуже всех показала себя модель линейной регрессии. Ее метрика 33."
   ]
  },
  {
   "cell_type": "markdown",
   "id": "b2caba7a-3021-4516-b2ac-530ed4571b28",
   "metadata": {},
   "source": [
    "## Итоги проекта"
   ]
  },
  {
   "cell_type": "markdown",
   "id": "a8aa6a59-179c-4ceb-a5f9-c8cb1941c578",
   "metadata": {},
   "source": [
    "У нас получилось подобрать и обучить лучшую модель для предсказания количества клиентов на ближайшие часы, которые вызовут такси в аэропорт по прилете. Для этого мы разбили проект на шаги:  \n",
    "* Загрузка данных. На данном шаге мы просто загрузили данные, отсортировав и убрав признак даты в индекс, и посмотрели на их объем, названия признаков и их качество заполнения.\n",
    "* Анализ данных. Из-за маленького количества признаков этап получился коротким. Пропусков не было, дубликатов тоже.\n",
    "* Обучение моделей. Финальный шаг, ради которого был проделан весь прошлый путь. На нем мы обучили три различных вида моделей регрессии. Это была: линейная регрессия, дерево решений и градиентный бустинг. По порядку результаты метрики получились такими: 33, 28, 24. Из них все модели удовлетворили условию заказсчика.\n",
    "\n",
    "Итоговой лучшей моделью на тестовой выборке оказался градиентный бустинг с метрикой RMSE = 22.9, с наименьшей метрикой на тестовой выборке. Дерево решений получилось тоже хорошей моделью, но чуть хуже метрикой, зато немного быстрее выдает результат."
   ]
  }
 ],
 "metadata": {
  "ExecuteTimeLog": [
   {
    "duration": 11248,
    "start_time": "2024-03-19T08:19:42.157Z"
   },
   {
    "duration": 1423,
    "start_time": "2024-03-19T08:19:53.407Z"
   },
   {
    "duration": 4,
    "start_time": "2024-03-19T08:19:54.831Z"
   },
   {
    "duration": 66,
    "start_time": "2024-03-19T08:19:54.837Z"
   },
   {
    "duration": 44,
    "start_time": "2024-03-19T08:20:04.598Z"
   },
   {
    "duration": 169,
    "start_time": "2024-03-19T08:21:44.823Z"
   },
   {
    "duration": 7497,
    "start_time": "2024-03-19T08:22:02.556Z"
   },
   {
    "duration": 1359,
    "start_time": "2024-03-19T08:22:10.055Z"
   },
   {
    "duration": 3,
    "start_time": "2024-03-19T08:22:11.416Z"
   },
   {
    "duration": 110,
    "start_time": "2024-03-19T08:22:11.420Z"
   },
   {
    "duration": 23,
    "start_time": "2024-03-19T08:22:11.532Z"
   },
   {
    "duration": 243,
    "start_time": "2024-03-19T08:22:11.556Z"
   },
   {
    "duration": 106,
    "start_time": "2024-03-19T08:22:11.800Z"
   },
   {
    "duration": 4,
    "start_time": "2024-03-19T08:22:11.908Z"
   },
   {
    "duration": 48,
    "start_time": "2024-03-19T08:22:11.913Z"
   },
   {
    "duration": 3810,
    "start_time": "2024-03-19T08:22:11.963Z"
   },
   {
    "duration": 1705,
    "start_time": "2024-03-19T08:22:15.775Z"
   },
   {
    "duration": 3,
    "start_time": "2024-03-19T08:22:17.481Z"
   },
   {
    "duration": 13,
    "start_time": "2024-03-19T08:22:17.486Z"
   },
   {
    "duration": 9,
    "start_time": "2024-03-19T08:22:17.501Z"
   },
   {
    "duration": 18,
    "start_time": "2024-03-19T08:22:17.511Z"
   },
   {
    "duration": 3910,
    "start_time": "2024-03-19T08:22:17.531Z"
   },
   {
    "duration": 38,
    "start_time": "2024-03-19T08:22:21.443Z"
   },
   {
    "duration": 34592,
    "start_time": "2024-03-19T08:22:21.483Z"
   },
   {
    "duration": 7440,
    "start_time": "2024-03-19T08:24:15.878Z"
   },
   {
    "duration": 1214,
    "start_time": "2024-03-19T08:24:23.320Z"
   },
   {
    "duration": 3,
    "start_time": "2024-03-19T08:24:24.536Z"
   },
   {
    "duration": 113,
    "start_time": "2024-03-19T08:24:24.541Z"
   },
   {
    "duration": 24,
    "start_time": "2024-03-19T08:24:24.657Z"
   },
   {
    "duration": 284,
    "start_time": "2024-03-19T08:24:24.683Z"
   },
   {
    "duration": 110,
    "start_time": "2024-03-19T08:24:24.969Z"
   },
   {
    "duration": 4,
    "start_time": "2024-03-19T08:24:25.081Z"
   },
   {
    "duration": 16,
    "start_time": "2024-03-19T08:24:25.086Z"
   },
   {
    "duration": 4171,
    "start_time": "2024-03-19T08:24:25.104Z"
   },
   {
    "duration": 1589,
    "start_time": "2024-03-19T08:24:29.366Z"
   },
   {
    "duration": 9,
    "start_time": "2024-03-19T08:24:30.957Z"
   },
   {
    "duration": 55,
    "start_time": "2024-03-19T08:24:30.967Z"
   },
   {
    "duration": 49,
    "start_time": "2024-03-19T08:24:31.025Z"
   },
   {
    "duration": 74,
    "start_time": "2024-03-19T08:24:31.076Z"
   },
   {
    "duration": 3907,
    "start_time": "2024-03-19T08:24:31.152Z"
   },
   {
    "duration": 37,
    "start_time": "2024-03-19T08:24:35.060Z"
   },
   {
    "duration": 34486,
    "start_time": "2024-03-19T08:24:35.099Z"
   },
   {
    "duration": 250391,
    "start_time": "2024-03-19T08:25:09.586Z"
   },
   {
    "duration": 24,
    "start_time": "2024-03-19T08:49:54.270Z"
   },
   {
    "duration": 7539,
    "start_time": "2024-03-19T08:50:00.703Z"
   },
   {
    "duration": 1332,
    "start_time": "2024-03-19T08:50:08.245Z"
   },
   {
    "duration": 3,
    "start_time": "2024-03-19T08:50:09.579Z"
   },
   {
    "duration": 169,
    "start_time": "2024-03-19T08:50:09.584Z"
   },
   {
    "duration": 22,
    "start_time": "2024-03-19T08:50:09.756Z"
   },
   {
    "duration": 270,
    "start_time": "2024-03-19T08:50:09.779Z"
   },
   {
    "duration": 114,
    "start_time": "2024-03-19T08:50:10.051Z"
   },
   {
    "duration": 9,
    "start_time": "2024-03-19T08:50:10.167Z"
   },
   {
    "duration": 4088,
    "start_time": "2024-03-19T08:50:10.178Z"
   },
   {
    "duration": 1670,
    "start_time": "2024-03-19T08:50:14.268Z"
   },
   {
    "duration": 3,
    "start_time": "2024-03-19T08:50:15.939Z"
   },
   {
    "duration": 34,
    "start_time": "2024-03-19T08:50:15.943Z"
   },
   {
    "duration": 41,
    "start_time": "2024-03-19T08:50:15.979Z"
   },
   {
    "duration": 28,
    "start_time": "2024-03-19T08:50:16.023Z"
   },
   {
    "duration": 2780,
    "start_time": "2024-03-19T08:50:16.054Z"
   },
   {
    "duration": 39,
    "start_time": "2024-03-19T08:50:18.836Z"
   },
   {
    "duration": 7782,
    "start_time": "2024-03-19T08:52:04.941Z"
   },
   {
    "duration": 1241,
    "start_time": "2024-03-19T08:52:12.726Z"
   },
   {
    "duration": 4,
    "start_time": "2024-03-19T08:52:13.969Z"
   },
   {
    "duration": 104,
    "start_time": "2024-03-19T08:52:13.975Z"
   },
   {
    "duration": 25,
    "start_time": "2024-03-19T08:52:14.082Z"
   },
   {
    "duration": 293,
    "start_time": "2024-03-19T08:52:14.108Z"
   },
   {
    "duration": 111,
    "start_time": "2024-03-19T08:52:14.403Z"
   },
   {
    "duration": 120,
    "start_time": "2024-03-19T08:52:14.515Z"
   },
   {
    "duration": 1,
    "start_time": "2024-03-19T08:52:14.637Z"
   },
   {
    "duration": 0,
    "start_time": "2024-03-19T08:52:14.639Z"
   },
   {
    "duration": 0,
    "start_time": "2024-03-19T08:52:14.640Z"
   },
   {
    "duration": 0,
    "start_time": "2024-03-19T08:52:14.641Z"
   },
   {
    "duration": 0,
    "start_time": "2024-03-19T08:52:14.642Z"
   },
   {
    "duration": 0,
    "start_time": "2024-03-19T08:52:14.643Z"
   },
   {
    "duration": 0,
    "start_time": "2024-03-19T08:52:14.644Z"
   },
   {
    "duration": 0,
    "start_time": "2024-03-19T08:52:14.645Z"
   },
   {
    "duration": 0,
    "start_time": "2024-03-19T08:52:14.646Z"
   },
   {
    "duration": 0,
    "start_time": "2024-03-19T08:52:14.647Z"
   },
   {
    "duration": 22,
    "start_time": "2024-03-19T08:52:23.435Z"
   },
   {
    "duration": 21,
    "start_time": "2024-03-19T08:52:34.262Z"
   },
   {
    "duration": 7401,
    "start_time": "2024-03-19T08:54:08.122Z"
   },
   {
    "duration": 1280,
    "start_time": "2024-03-19T08:54:15.525Z"
   },
   {
    "duration": 4,
    "start_time": "2024-03-19T08:54:16.807Z"
   },
   {
    "duration": 105,
    "start_time": "2024-03-19T08:54:16.812Z"
   },
   {
    "duration": 24,
    "start_time": "2024-03-19T08:54:16.919Z"
   },
   {
    "duration": 248,
    "start_time": "2024-03-19T08:54:16.944Z"
   },
   {
    "duration": 99,
    "start_time": "2024-03-19T08:54:17.194Z"
   },
   {
    "duration": 335,
    "start_time": "2024-03-19T08:54:17.295Z"
   },
   {
    "duration": 4435,
    "start_time": "2024-03-19T08:54:17.632Z"
   },
   {
    "duration": 1609,
    "start_time": "2024-03-19T08:54:22.069Z"
   },
   {
    "duration": 3,
    "start_time": "2024-03-19T08:54:23.679Z"
   },
   {
    "duration": 17,
    "start_time": "2024-03-19T08:54:23.684Z"
   },
   {
    "duration": 16,
    "start_time": "2024-03-19T08:54:23.703Z"
   },
   {
    "duration": 4,
    "start_time": "2024-03-19T08:54:23.722Z"
   },
   {
    "duration": 2842,
    "start_time": "2024-03-19T08:54:23.728Z"
   },
   {
    "duration": 39,
    "start_time": "2024-03-19T08:54:26.572Z"
   },
   {
    "duration": 7304,
    "start_time": "2024-03-19T08:54:58.303Z"
   },
   {
    "duration": 1309,
    "start_time": "2024-03-19T08:55:05.608Z"
   },
   {
    "duration": 6,
    "start_time": "2024-03-19T08:55:06.918Z"
   },
   {
    "duration": 104,
    "start_time": "2024-03-19T08:55:06.925Z"
   },
   {
    "duration": 25,
    "start_time": "2024-03-19T08:55:07.031Z"
   },
   {
    "duration": 253,
    "start_time": "2024-03-19T08:55:07.057Z"
   },
   {
    "duration": 94,
    "start_time": "2024-03-19T08:55:07.311Z"
   },
   {
    "duration": 313,
    "start_time": "2024-03-19T08:55:07.406Z"
   },
   {
    "duration": 3851,
    "start_time": "2024-03-19T08:55:07.721Z"
   },
   {
    "duration": 1707,
    "start_time": "2024-03-19T08:55:11.576Z"
   },
   {
    "duration": 3,
    "start_time": "2024-03-19T08:55:13.285Z"
   },
   {
    "duration": 25,
    "start_time": "2024-03-19T08:55:13.290Z"
   },
   {
    "duration": 23,
    "start_time": "2024-03-19T08:55:13.316Z"
   },
   {
    "duration": 16,
    "start_time": "2024-03-19T08:55:13.341Z"
   },
   {
    "duration": 2849,
    "start_time": "2024-03-19T08:55:13.359Z"
   },
   {
    "duration": 36,
    "start_time": "2024-03-19T08:55:16.210Z"
   },
   {
    "duration": 39331,
    "start_time": "2024-03-19T08:55:16.247Z"
   },
   {
    "duration": 7714,
    "start_time": "2024-03-19T08:58:28.581Z"
   },
   {
    "duration": 1251,
    "start_time": "2024-03-19T08:58:36.297Z"
   },
   {
    "duration": 3,
    "start_time": "2024-03-19T08:58:37.550Z"
   },
   {
    "duration": 121,
    "start_time": "2024-03-19T08:58:37.555Z"
   },
   {
    "duration": 26,
    "start_time": "2024-03-19T08:58:37.678Z"
   },
   {
    "duration": 260,
    "start_time": "2024-03-19T08:58:37.705Z"
   },
   {
    "duration": 99,
    "start_time": "2024-03-19T08:58:37.979Z"
   },
   {
    "duration": 331,
    "start_time": "2024-03-19T08:58:38.079Z"
   },
   {
    "duration": 3673,
    "start_time": "2024-03-19T08:58:38.411Z"
   },
   {
    "duration": 1801,
    "start_time": "2024-03-19T08:58:42.088Z"
   },
   {
    "duration": 3,
    "start_time": "2024-03-19T08:58:43.891Z"
   },
   {
    "duration": 54,
    "start_time": "2024-03-19T08:58:43.895Z"
   },
   {
    "duration": 46,
    "start_time": "2024-03-19T08:58:43.951Z"
   },
   {
    "duration": 27,
    "start_time": "2024-03-19T08:58:43.999Z"
   },
   {
    "duration": 2897,
    "start_time": "2024-03-19T08:58:44.028Z"
   },
   {
    "duration": 52,
    "start_time": "2024-03-19T08:58:46.926Z"
   },
   {
    "duration": 7705,
    "start_time": "2024-03-19T08:59:06.788Z"
   },
   {
    "duration": 1276,
    "start_time": "2024-03-19T08:59:14.496Z"
   },
   {
    "duration": 4,
    "start_time": "2024-03-19T08:59:15.774Z"
   },
   {
    "duration": 161,
    "start_time": "2024-03-19T08:59:15.779Z"
   },
   {
    "duration": 31,
    "start_time": "2024-03-19T08:59:15.943Z"
   },
   {
    "duration": 309,
    "start_time": "2024-03-19T08:59:15.976Z"
   },
   {
    "duration": 99,
    "start_time": "2024-03-19T08:59:16.287Z"
   },
   {
    "duration": 329,
    "start_time": "2024-03-19T08:59:16.388Z"
   },
   {
    "duration": 4048,
    "start_time": "2024-03-19T08:59:16.720Z"
   },
   {
    "duration": 1822,
    "start_time": "2024-03-19T08:59:20.770Z"
   },
   {
    "duration": 3,
    "start_time": "2024-03-19T08:59:22.594Z"
   },
   {
    "duration": 30,
    "start_time": "2024-03-19T08:59:22.599Z"
   },
   {
    "duration": 21,
    "start_time": "2024-03-19T08:59:22.631Z"
   },
   {
    "duration": 20,
    "start_time": "2024-03-19T08:59:22.655Z"
   },
   {
    "duration": 2908,
    "start_time": "2024-03-19T08:59:22.677Z"
   },
   {
    "duration": 37,
    "start_time": "2024-03-19T08:59:25.587Z"
   },
   {
    "duration": 7293,
    "start_time": "2024-03-19T08:59:39.970Z"
   },
   {
    "duration": 1264,
    "start_time": "2024-03-19T08:59:47.265Z"
   },
   {
    "duration": 4,
    "start_time": "2024-03-19T08:59:48.531Z"
   },
   {
    "duration": 120,
    "start_time": "2024-03-19T08:59:48.536Z"
   },
   {
    "duration": 22,
    "start_time": "2024-03-19T08:59:48.658Z"
   },
   {
    "duration": 260,
    "start_time": "2024-03-19T08:59:48.682Z"
   },
   {
    "duration": 102,
    "start_time": "2024-03-19T08:59:48.943Z"
   },
   {
    "duration": 312,
    "start_time": "2024-03-19T08:59:49.047Z"
   },
   {
    "duration": 4114,
    "start_time": "2024-03-19T08:59:49.361Z"
   },
   {
    "duration": 1752,
    "start_time": "2024-03-19T08:59:53.565Z"
   },
   {
    "duration": 2,
    "start_time": "2024-03-19T08:59:55.319Z"
   },
   {
    "duration": 15,
    "start_time": "2024-03-19T08:59:55.323Z"
   },
   {
    "duration": 9,
    "start_time": "2024-03-19T08:59:55.339Z"
   },
   {
    "duration": 16,
    "start_time": "2024-03-19T08:59:55.351Z"
   },
   {
    "duration": 2856,
    "start_time": "2024-03-19T08:59:55.368Z"
   },
   {
    "duration": 44,
    "start_time": "2024-03-19T08:59:58.226Z"
   },
   {
    "duration": 35007,
    "start_time": "2024-03-19T08:59:58.271Z"
   },
   {
    "duration": 257290,
    "start_time": "2024-03-19T09:00:33.279Z"
   },
   {
    "duration": 7347,
    "start_time": "2024-03-19T09:12:05.651Z"
   },
   {
    "duration": 4,
    "start_time": "2024-03-19T09:12:13.000Z"
   },
   {
    "duration": 53,
    "start_time": "2024-03-19T09:12:13.006Z"
   },
   {
    "duration": 151,
    "start_time": "2024-03-19T09:12:13.060Z"
   },
   {
    "duration": 20,
    "start_time": "2024-03-19T09:12:13.213Z"
   },
   {
    "duration": 258,
    "start_time": "2024-03-19T09:12:13.234Z"
   },
   {
    "duration": 97,
    "start_time": "2024-03-19T09:12:13.493Z"
   },
   {
    "duration": 226,
    "start_time": "2024-03-19T09:12:13.591Z"
   },
   {
    "duration": 11,
    "start_time": "2024-03-19T09:12:13.818Z"
   },
   {
    "duration": 10,
    "start_time": "2024-03-19T09:12:59.402Z"
   },
   {
    "duration": 7319,
    "start_time": "2024-03-19T09:14:44.577Z"
   },
   {
    "duration": 1257,
    "start_time": "2024-03-19T09:14:51.898Z"
   },
   {
    "duration": 4,
    "start_time": "2024-03-19T09:14:53.156Z"
   },
   {
    "duration": 113,
    "start_time": "2024-03-19T09:14:53.162Z"
   },
   {
    "duration": 22,
    "start_time": "2024-03-19T09:14:53.278Z"
   },
   {
    "duration": 252,
    "start_time": "2024-03-19T09:14:53.301Z"
   },
   {
    "duration": 97,
    "start_time": "2024-03-19T09:14:53.555Z"
   },
   {
    "duration": 291,
    "start_time": "2024-03-19T09:14:53.665Z"
   },
   {
    "duration": 15,
    "start_time": "2024-03-19T09:14:53.958Z"
   },
   {
    "duration": 27,
    "start_time": "2024-03-19T09:14:53.975Z"
   },
   {
    "duration": 4072,
    "start_time": "2024-03-19T09:14:54.003Z"
   },
   {
    "duration": 1830,
    "start_time": "2024-03-19T09:14:58.077Z"
   },
   {
    "duration": 3,
    "start_time": "2024-03-19T09:14:59.908Z"
   },
   {
    "duration": 34,
    "start_time": "2024-03-19T09:14:59.914Z"
   },
   {
    "duration": 21,
    "start_time": "2024-03-19T09:14:59.950Z"
   },
   {
    "duration": 25,
    "start_time": "2024-03-19T09:14:59.973Z"
   },
   {
    "duration": 2948,
    "start_time": "2024-03-19T09:15:00.000Z"
   },
   {
    "duration": 40,
    "start_time": "2024-03-19T09:15:02.950Z"
   },
   {
    "duration": 36574,
    "start_time": "2024-03-19T09:15:02.991Z"
   },
   {
    "duration": 7272,
    "start_time": "2024-03-19T09:18:24.745Z"
   },
   {
    "duration": 1200,
    "start_time": "2024-03-19T09:18:32.019Z"
   },
   {
    "duration": 4,
    "start_time": "2024-03-19T09:18:33.220Z"
   },
   {
    "duration": 123,
    "start_time": "2024-03-19T09:18:33.225Z"
   },
   {
    "duration": 22,
    "start_time": "2024-03-19T09:18:33.350Z"
   },
   {
    "duration": 259,
    "start_time": "2024-03-19T09:18:33.374Z"
   },
   {
    "duration": 112,
    "start_time": "2024-03-19T09:18:33.635Z"
   },
   {
    "duration": 317,
    "start_time": "2024-03-19T09:18:33.749Z"
   },
   {
    "duration": 122,
    "start_time": "2024-03-19T09:18:34.068Z"
   },
   {
    "duration": 0,
    "start_time": "2024-03-19T09:18:34.192Z"
   },
   {
    "duration": 0,
    "start_time": "2024-03-19T09:18:34.193Z"
   },
   {
    "duration": 0,
    "start_time": "2024-03-19T09:18:34.194Z"
   },
   {
    "duration": 0,
    "start_time": "2024-03-19T09:18:34.196Z"
   },
   {
    "duration": 0,
    "start_time": "2024-03-19T09:18:34.197Z"
   },
   {
    "duration": 0,
    "start_time": "2024-03-19T09:18:34.198Z"
   },
   {
    "duration": 0,
    "start_time": "2024-03-19T09:18:34.200Z"
   },
   {
    "duration": 0,
    "start_time": "2024-03-19T09:18:34.201Z"
   },
   {
    "duration": 0,
    "start_time": "2024-03-19T09:18:34.202Z"
   },
   {
    "duration": 0,
    "start_time": "2024-03-19T09:18:34.204Z"
   },
   {
    "duration": 10,
    "start_time": "2024-03-19T09:18:43.565Z"
   },
   {
    "duration": 10,
    "start_time": "2024-03-19T09:20:03.160Z"
   },
   {
    "duration": 10,
    "start_time": "2024-03-19T09:21:16.500Z"
   },
   {
    "duration": 213,
    "start_time": "2024-03-19T09:21:38.942Z"
   },
   {
    "duration": 201,
    "start_time": "2024-03-19T09:21:42.279Z"
   },
   {
    "duration": 252,
    "start_time": "2024-03-19T09:23:28.810Z"
   },
   {
    "duration": 7336,
    "start_time": "2024-03-19T09:26:36.081Z"
   },
   {
    "duration": 1278,
    "start_time": "2024-03-19T09:26:43.419Z"
   },
   {
    "duration": 4,
    "start_time": "2024-03-19T09:26:44.699Z"
   },
   {
    "duration": 109,
    "start_time": "2024-03-19T09:26:44.705Z"
   },
   {
    "duration": 22,
    "start_time": "2024-03-19T09:26:44.816Z"
   },
   {
    "duration": 266,
    "start_time": "2024-03-19T09:26:44.840Z"
   },
   {
    "duration": 108,
    "start_time": "2024-03-19T09:26:45.108Z"
   },
   {
    "duration": 343,
    "start_time": "2024-03-19T09:26:45.218Z"
   },
   {
    "duration": 209,
    "start_time": "2024-03-19T09:26:45.566Z"
   },
   {
    "duration": 250,
    "start_time": "2024-03-19T09:26:45.777Z"
   },
   {
    "duration": 4146,
    "start_time": "2024-03-19T09:26:46.028Z"
   },
   {
    "duration": 1835,
    "start_time": "2024-03-19T09:26:50.175Z"
   },
   {
    "duration": 2,
    "start_time": "2024-03-19T09:26:52.012Z"
   },
   {
    "duration": 21,
    "start_time": "2024-03-19T09:26:52.016Z"
   },
   {
    "duration": 18,
    "start_time": "2024-03-19T09:26:52.038Z"
   },
   {
    "duration": 22,
    "start_time": "2024-03-19T09:26:52.058Z"
   },
   {
    "duration": 2923,
    "start_time": "2024-03-19T09:26:52.082Z"
   },
   {
    "duration": 36,
    "start_time": "2024-03-19T09:26:55.006Z"
   },
   {
    "duration": 34937,
    "start_time": "2024-03-19T09:26:55.044Z"
   },
   {
    "duration": 254787,
    "start_time": "2024-03-19T09:27:29.982Z"
   },
   {
    "duration": 140,
    "start_time": "2024-03-19T09:36:06.250Z"
   },
   {
    "duration": 11787,
    "start_time": "2024-03-19T18:24:59.462Z"
   },
   {
    "duration": 1522,
    "start_time": "2024-03-19T18:25:11.251Z"
   },
   {
    "duration": 5,
    "start_time": "2024-03-19T18:25:12.774Z"
   },
   {
    "duration": 206,
    "start_time": "2024-03-19T18:25:12.781Z"
   },
   {
    "duration": 26,
    "start_time": "2024-03-19T18:25:12.989Z"
   },
   {
    "duration": 286,
    "start_time": "2024-03-19T18:25:13.017Z"
   },
   {
    "duration": 109,
    "start_time": "2024-03-19T18:25:13.305Z"
   },
   {
    "duration": 353,
    "start_time": "2024-03-19T18:25:13.422Z"
   },
   {
    "duration": 138,
    "start_time": "2024-03-19T18:25:13.777Z"
   },
   {
    "duration": 244,
    "start_time": "2024-03-19T18:25:13.923Z"
   },
   {
    "duration": 208,
    "start_time": "2024-03-19T18:25:14.168Z"
   },
   {
    "duration": 175,
    "start_time": "2024-03-19T18:25:14.378Z"
   },
   {
    "duration": 7679,
    "start_time": "2024-03-19T18:25:58.927Z"
   },
   {
    "duration": 4,
    "start_time": "2024-03-19T18:26:06.608Z"
   },
   {
    "duration": 8,
    "start_time": "2024-03-19T18:26:06.614Z"
   },
   {
    "duration": 92,
    "start_time": "2024-03-19T18:26:06.624Z"
   },
   {
    "duration": 23,
    "start_time": "2024-03-19T18:26:06.718Z"
   },
   {
    "duration": 267,
    "start_time": "2024-03-19T18:26:06.742Z"
   },
   {
    "duration": 113,
    "start_time": "2024-03-19T18:26:07.012Z"
   },
   {
    "duration": 250,
    "start_time": "2024-03-19T18:26:07.127Z"
   },
   {
    "duration": 163,
    "start_time": "2024-03-19T18:26:07.378Z"
   },
   {
    "duration": 363,
    "start_time": "2024-03-19T18:26:07.543Z"
   },
   {
    "duration": 200,
    "start_time": "2024-03-19T18:26:07.909Z"
   },
   {
    "duration": 149,
    "start_time": "2024-03-19T18:26:08.111Z"
   },
   {
    "duration": 7545,
    "start_time": "2024-03-19T18:26:41.884Z"
   },
   {
    "duration": 1303,
    "start_time": "2024-03-19T18:26:49.432Z"
   },
   {
    "duration": 4,
    "start_time": "2024-03-19T18:26:50.737Z"
   },
   {
    "duration": 105,
    "start_time": "2024-03-19T18:26:50.742Z"
   },
   {
    "duration": 28,
    "start_time": "2024-03-19T18:26:50.849Z"
   },
   {
    "duration": 285,
    "start_time": "2024-03-19T18:26:50.878Z"
   },
   {
    "duration": 111,
    "start_time": "2024-03-19T18:26:51.164Z"
   },
   {
    "duration": 333,
    "start_time": "2024-03-19T18:26:51.277Z"
   },
   {
    "duration": 137,
    "start_time": "2024-03-19T18:26:51.612Z"
   },
   {
    "duration": 240,
    "start_time": "2024-03-19T18:26:51.751Z"
   },
   {
    "duration": 202,
    "start_time": "2024-03-19T18:26:51.993Z"
   },
   {
    "duration": 155,
    "start_time": "2024-03-19T18:26:52.196Z"
   },
   {
    "duration": 4170,
    "start_time": "2024-03-19T18:26:52.353Z"
   },
   {
    "duration": 1928,
    "start_time": "2024-03-19T18:26:56.529Z"
   },
   {
    "duration": 3,
    "start_time": "2024-03-19T18:26:58.459Z"
   },
   {
    "duration": 16,
    "start_time": "2024-03-19T18:26:58.463Z"
   },
   {
    "duration": 17,
    "start_time": "2024-03-19T18:26:58.480Z"
   },
   {
    "duration": 13,
    "start_time": "2024-03-19T18:26:58.499Z"
   },
   {
    "duration": 3102,
    "start_time": "2024-03-19T18:26:58.514Z"
   },
   {
    "duration": 43,
    "start_time": "2024-03-19T18:27:01.618Z"
   },
   {
    "duration": 7610,
    "start_time": "2024-03-19T18:27:34.477Z"
   },
   {
    "duration": 1337,
    "start_time": "2024-03-19T18:27:42.089Z"
   },
   {
    "duration": 5,
    "start_time": "2024-03-19T18:27:43.428Z"
   },
   {
    "duration": 174,
    "start_time": "2024-03-19T18:27:43.435Z"
   },
   {
    "duration": 25,
    "start_time": "2024-03-19T18:27:43.612Z"
   },
   {
    "duration": 285,
    "start_time": "2024-03-19T18:27:43.639Z"
   },
   {
    "duration": 106,
    "start_time": "2024-03-19T18:27:43.925Z"
   },
   {
    "duration": 326,
    "start_time": "2024-03-19T18:27:44.033Z"
   },
   {
    "duration": 134,
    "start_time": "2024-03-19T18:27:44.360Z"
   },
   {
    "duration": 245,
    "start_time": "2024-03-19T18:27:44.496Z"
   },
   {
    "duration": 232,
    "start_time": "2024-03-19T18:27:44.743Z"
   },
   {
    "duration": 153,
    "start_time": "2024-03-19T18:27:44.977Z"
   },
   {
    "duration": 4395,
    "start_time": "2024-03-19T18:27:45.132Z"
   },
   {
    "duration": 1847,
    "start_time": "2024-03-19T18:27:49.623Z"
   },
   {
    "duration": 3,
    "start_time": "2024-03-19T18:27:51.472Z"
   },
   {
    "duration": 12,
    "start_time": "2024-03-19T18:27:51.477Z"
   },
   {
    "duration": 11,
    "start_time": "2024-03-19T18:27:51.491Z"
   },
   {
    "duration": 3,
    "start_time": "2024-03-19T18:27:51.504Z"
   },
   {
    "duration": 3172,
    "start_time": "2024-03-19T18:27:51.523Z"
   },
   {
    "duration": 45,
    "start_time": "2024-03-19T18:27:54.697Z"
   },
   {
    "duration": 39879,
    "start_time": "2024-03-19T18:27:54.744Z"
   },
   {
    "duration": 7713,
    "start_time": "2024-03-19T18:29:24.969Z"
   },
   {
    "duration": 1245,
    "start_time": "2024-03-19T18:29:32.684Z"
   },
   {
    "duration": 4,
    "start_time": "2024-03-19T18:29:33.931Z"
   },
   {
    "duration": 130,
    "start_time": "2024-03-19T18:29:33.936Z"
   },
   {
    "duration": 23,
    "start_time": "2024-03-19T18:29:34.068Z"
   },
   {
    "duration": 262,
    "start_time": "2024-03-19T18:29:34.092Z"
   },
   {
    "duration": 95,
    "start_time": "2024-03-19T18:29:34.356Z"
   },
   {
    "duration": 322,
    "start_time": "2024-03-19T18:29:34.453Z"
   },
   {
    "duration": 151,
    "start_time": "2024-03-19T18:29:34.776Z"
   },
   {
    "duration": 213,
    "start_time": "2024-03-19T18:29:34.929Z"
   },
   {
    "duration": 215,
    "start_time": "2024-03-19T18:29:35.144Z"
   },
   {
    "duration": 155,
    "start_time": "2024-03-19T18:29:35.360Z"
   },
   {
    "duration": 4107,
    "start_time": "2024-03-19T18:29:35.523Z"
   },
   {
    "duration": 2001,
    "start_time": "2024-03-19T18:29:39.633Z"
   },
   {
    "duration": 3,
    "start_time": "2024-03-19T18:29:41.636Z"
   },
   {
    "duration": 13,
    "start_time": "2024-03-19T18:29:41.641Z"
   },
   {
    "duration": 10,
    "start_time": "2024-03-19T18:29:41.656Z"
   },
   {
    "duration": 3,
    "start_time": "2024-03-19T18:29:41.668Z"
   },
   {
    "duration": 3136,
    "start_time": "2024-03-19T18:29:41.673Z"
   },
   {
    "duration": 51,
    "start_time": "2024-03-19T18:29:44.811Z"
   },
   {
    "duration": 38576,
    "start_time": "2024-03-19T18:29:44.865Z"
   },
   {
    "duration": 8023,
    "start_time": "2024-03-19T18:30:25.115Z"
   },
   {
    "duration": 1306,
    "start_time": "2024-03-19T18:30:33.141Z"
   },
   {
    "duration": 4,
    "start_time": "2024-03-19T18:30:34.449Z"
   },
   {
    "duration": 131,
    "start_time": "2024-03-19T18:30:34.454Z"
   },
   {
    "duration": 23,
    "start_time": "2024-03-19T18:30:34.587Z"
   },
   {
    "duration": 301,
    "start_time": "2024-03-19T18:30:34.611Z"
   },
   {
    "duration": 106,
    "start_time": "2024-03-19T18:30:34.918Z"
   },
   {
    "duration": 335,
    "start_time": "2024-03-19T18:30:35.026Z"
   },
   {
    "duration": 134,
    "start_time": "2024-03-19T18:30:35.363Z"
   },
   {
    "duration": 231,
    "start_time": "2024-03-19T18:30:35.499Z"
   },
   {
    "duration": 219,
    "start_time": "2024-03-19T18:30:35.732Z"
   },
   {
    "duration": 150,
    "start_time": "2024-03-19T18:30:35.953Z"
   },
   {
    "duration": 4218,
    "start_time": "2024-03-19T18:30:36.105Z"
   },
   {
    "duration": 1944,
    "start_time": "2024-03-19T18:30:40.332Z"
   },
   {
    "duration": 4,
    "start_time": "2024-03-19T18:30:42.288Z"
   },
   {
    "duration": 23,
    "start_time": "2024-03-19T18:30:42.294Z"
   },
   {
    "duration": 21,
    "start_time": "2024-03-19T18:30:42.318Z"
   },
   {
    "duration": 14,
    "start_time": "2024-03-19T18:30:42.341Z"
   },
   {
    "duration": 3193,
    "start_time": "2024-03-19T18:30:42.356Z"
   },
   {
    "duration": 38,
    "start_time": "2024-03-19T18:30:45.551Z"
   },
   {
    "duration": 37340,
    "start_time": "2024-03-19T18:30:45.590Z"
   },
   {
    "duration": 7816,
    "start_time": "2024-03-19T18:31:38.924Z"
   },
   {
    "duration": 1322,
    "start_time": "2024-03-19T18:31:46.742Z"
   },
   {
    "duration": 5,
    "start_time": "2024-03-19T18:31:48.066Z"
   },
   {
    "duration": 111,
    "start_time": "2024-03-19T18:31:48.073Z"
   },
   {
    "duration": 25,
    "start_time": "2024-03-19T18:31:48.186Z"
   },
   {
    "duration": 274,
    "start_time": "2024-03-19T18:31:48.212Z"
   },
   {
    "duration": 111,
    "start_time": "2024-03-19T18:31:48.487Z"
   },
   {
    "duration": 337,
    "start_time": "2024-03-19T18:31:48.600Z"
   },
   {
    "duration": 135,
    "start_time": "2024-03-19T18:31:48.938Z"
   },
   {
    "duration": 254,
    "start_time": "2024-03-19T18:31:49.075Z"
   },
   {
    "duration": 218,
    "start_time": "2024-03-19T18:31:49.331Z"
   },
   {
    "duration": 155,
    "start_time": "2024-03-19T18:31:49.550Z"
   },
   {
    "duration": 4023,
    "start_time": "2024-03-19T18:31:49.706Z"
   },
   {
    "duration": 1978,
    "start_time": "2024-03-19T18:31:53.734Z"
   },
   {
    "duration": 9,
    "start_time": "2024-03-19T18:31:55.714Z"
   },
   {
    "duration": 17,
    "start_time": "2024-03-19T18:31:55.725Z"
   },
   {
    "duration": 13,
    "start_time": "2024-03-19T18:31:55.744Z"
   },
   {
    "duration": 6,
    "start_time": "2024-03-19T18:31:55.759Z"
   },
   {
    "duration": 3186,
    "start_time": "2024-03-19T18:31:55.767Z"
   },
   {
    "duration": 44,
    "start_time": "2024-03-19T18:31:58.955Z"
   },
   {
    "duration": 41141,
    "start_time": "2024-03-19T18:31:59.000Z"
   },
   {
    "duration": 277582,
    "start_time": "2024-03-19T18:32:40.142Z"
   },
   {
    "duration": 7871,
    "start_time": "2024-03-19T19:04:17.312Z"
   },
   {
    "duration": 1319,
    "start_time": "2024-03-19T19:04:25.185Z"
   },
   {
    "duration": 4,
    "start_time": "2024-03-19T19:04:26.506Z"
   },
   {
    "duration": 104,
    "start_time": "2024-03-19T19:04:26.512Z"
   },
   {
    "duration": 26,
    "start_time": "2024-03-19T19:04:26.618Z"
   },
   {
    "duration": 276,
    "start_time": "2024-03-19T19:04:26.645Z"
   },
   {
    "duration": 106,
    "start_time": "2024-03-19T19:04:26.923Z"
   },
   {
    "duration": 346,
    "start_time": "2024-03-19T19:04:27.030Z"
   },
   {
    "duration": 151,
    "start_time": "2024-03-19T19:04:27.377Z"
   },
   {
    "duration": 240,
    "start_time": "2024-03-19T19:04:27.530Z"
   },
   {
    "duration": 134,
    "start_time": "2024-03-19T19:04:27.772Z"
   },
   {
    "duration": 0,
    "start_time": "2024-03-19T19:04:27.908Z"
   },
   {
    "duration": 0,
    "start_time": "2024-03-19T19:04:27.909Z"
   },
   {
    "duration": 0,
    "start_time": "2024-03-19T19:04:27.911Z"
   },
   {
    "duration": 0,
    "start_time": "2024-03-19T19:04:27.912Z"
   },
   {
    "duration": 0,
    "start_time": "2024-03-19T19:04:27.913Z"
   },
   {
    "duration": 0,
    "start_time": "2024-03-19T19:04:27.914Z"
   },
   {
    "duration": 0,
    "start_time": "2024-03-19T19:04:27.923Z"
   },
   {
    "duration": 0,
    "start_time": "2024-03-19T19:04:27.924Z"
   },
   {
    "duration": 0,
    "start_time": "2024-03-19T19:04:27.925Z"
   },
   {
    "duration": 0,
    "start_time": "2024-03-19T19:04:27.926Z"
   },
   {
    "duration": 0,
    "start_time": "2024-03-19T19:04:27.927Z"
   },
   {
    "duration": 228,
    "start_time": "2024-03-19T19:04:55.392Z"
   },
   {
    "duration": 124,
    "start_time": "2024-03-19T19:05:05.160Z"
   },
   {
    "duration": 7981,
    "start_time": "2024-03-19T19:18:22.288Z"
   },
   {
    "duration": 1364,
    "start_time": "2024-03-19T19:18:30.271Z"
   },
   {
    "duration": 4,
    "start_time": "2024-03-19T19:18:31.637Z"
   },
   {
    "duration": 159,
    "start_time": "2024-03-19T19:18:31.643Z"
   },
   {
    "duration": 26,
    "start_time": "2024-03-19T19:18:31.805Z"
   },
   {
    "duration": 301,
    "start_time": "2024-03-19T19:18:31.833Z"
   },
   {
    "duration": 117,
    "start_time": "2024-03-19T19:18:32.136Z"
   },
   {
    "duration": 347,
    "start_time": "2024-03-19T19:18:32.255Z"
   },
   {
    "duration": 149,
    "start_time": "2024-03-19T19:18:32.604Z"
   },
   {
    "duration": 240,
    "start_time": "2024-03-19T19:18:32.754Z"
   },
   {
    "duration": 235,
    "start_time": "2024-03-19T19:18:32.996Z"
   },
   {
    "duration": 138,
    "start_time": "2024-03-19T19:18:33.233Z"
   },
   {
    "duration": 13,
    "start_time": "2024-03-19T19:18:33.373Z"
   },
   {
    "duration": 4550,
    "start_time": "2024-03-19T19:18:33.389Z"
   },
   {
    "duration": 1953,
    "start_time": "2024-03-19T19:18:38.029Z"
   },
   {
    "duration": 3,
    "start_time": "2024-03-19T19:18:39.983Z"
   },
   {
    "duration": 6,
    "start_time": "2024-03-19T19:18:39.988Z"
   },
   {
    "duration": 9,
    "start_time": "2024-03-19T19:18:39.996Z"
   },
   {
    "duration": 3,
    "start_time": "2024-03-19T19:18:40.022Z"
   },
   {
    "duration": 3191,
    "start_time": "2024-03-19T19:18:40.027Z"
   },
   {
    "duration": 40,
    "start_time": "2024-03-19T19:18:43.220Z"
   },
   {
    "duration": 36968,
    "start_time": "2024-03-19T19:18:43.262Z"
   },
   {
    "duration": 7889,
    "start_time": "2024-03-19T19:22:31.128Z"
   },
   {
    "duration": 1322,
    "start_time": "2024-03-19T19:22:39.020Z"
   },
   {
    "duration": 4,
    "start_time": "2024-03-19T19:22:40.343Z"
   },
   {
    "duration": 96,
    "start_time": "2024-03-19T19:22:40.349Z"
   },
   {
    "duration": 25,
    "start_time": "2024-03-19T19:22:40.447Z"
   },
   {
    "duration": 286,
    "start_time": "2024-03-19T19:22:40.473Z"
   },
   {
    "duration": 121,
    "start_time": "2024-03-19T19:22:40.760Z"
   },
   {
    "duration": 336,
    "start_time": "2024-03-19T19:22:40.883Z"
   },
   {
    "duration": 135,
    "start_time": "2024-03-19T19:22:41.222Z"
   },
   {
    "duration": 239,
    "start_time": "2024-03-19T19:22:41.360Z"
   },
   {
    "duration": 221,
    "start_time": "2024-03-19T19:22:41.600Z"
   },
   {
    "duration": 134,
    "start_time": "2024-03-19T19:22:41.823Z"
   },
   {
    "duration": 191,
    "start_time": "2024-03-19T19:22:41.959Z"
   },
   {
    "duration": 4371,
    "start_time": "2024-03-19T19:22:42.152Z"
   },
   {
    "duration": 1818,
    "start_time": "2024-03-19T19:22:46.525Z"
   },
   {
    "duration": 3,
    "start_time": "2024-03-19T19:22:48.345Z"
   },
   {
    "duration": 15,
    "start_time": "2024-03-19T19:22:48.349Z"
   },
   {
    "duration": 12,
    "start_time": "2024-03-19T19:22:48.366Z"
   },
   {
    "duration": 32,
    "start_time": "2024-03-19T19:22:48.379Z"
   },
   {
    "duration": 3111,
    "start_time": "2024-03-19T19:22:48.413Z"
   },
   {
    "duration": 39,
    "start_time": "2024-03-19T19:22:51.526Z"
   },
   {
    "duration": 35766,
    "start_time": "2024-03-19T19:22:51.566Z"
   },
   {
    "duration": 7752,
    "start_time": "2024-03-19T19:23:31.745Z"
   },
   {
    "duration": 1350,
    "start_time": "2024-03-19T19:23:39.500Z"
   },
   {
    "duration": 4,
    "start_time": "2024-03-19T19:23:40.852Z"
   },
   {
    "duration": 151,
    "start_time": "2024-03-19T19:23:40.858Z"
   },
   {
    "duration": 24,
    "start_time": "2024-03-19T19:23:41.011Z"
   },
   {
    "duration": 267,
    "start_time": "2024-03-19T19:23:41.036Z"
   },
   {
    "duration": 106,
    "start_time": "2024-03-19T19:23:41.304Z"
   },
   {
    "duration": 350,
    "start_time": "2024-03-19T19:23:41.411Z"
   },
   {
    "duration": 139,
    "start_time": "2024-03-19T19:23:41.763Z"
   },
   {
    "duration": 208,
    "start_time": "2024-03-19T19:23:41.904Z"
   },
   {
    "duration": 202,
    "start_time": "2024-03-19T19:23:42.123Z"
   },
   {
    "duration": 121,
    "start_time": "2024-03-19T19:23:42.326Z"
   },
   {
    "duration": 170,
    "start_time": "2024-03-19T19:23:42.449Z"
   },
   {
    "duration": 4202,
    "start_time": "2024-03-19T19:23:42.623Z"
   },
   {
    "duration": 1939,
    "start_time": "2024-03-19T19:23:46.827Z"
   },
   {
    "duration": 3,
    "start_time": "2024-03-19T19:23:48.768Z"
   },
   {
    "duration": 15,
    "start_time": "2024-03-19T19:23:48.773Z"
   },
   {
    "duration": 10,
    "start_time": "2024-03-19T19:23:48.789Z"
   },
   {
    "duration": 3,
    "start_time": "2024-03-19T19:23:48.800Z"
   },
   {
    "duration": 3139,
    "start_time": "2024-03-19T19:23:48.805Z"
   },
   {
    "duration": 41,
    "start_time": "2024-03-19T19:23:51.945Z"
   },
   {
    "duration": 36956,
    "start_time": "2024-03-19T19:23:51.988Z"
   },
   {
    "duration": 7757,
    "start_time": "2024-03-19T19:26:08.959Z"
   },
   {
    "duration": 1313,
    "start_time": "2024-03-19T19:26:16.719Z"
   },
   {
    "duration": 4,
    "start_time": "2024-03-19T19:26:18.034Z"
   },
   {
    "duration": 119,
    "start_time": "2024-03-19T19:26:18.040Z"
   },
   {
    "duration": 34,
    "start_time": "2024-03-19T19:26:18.162Z"
   },
   {
    "duration": 312,
    "start_time": "2024-03-19T19:26:18.198Z"
   },
   {
    "duration": 111,
    "start_time": "2024-03-19T19:26:18.512Z"
   },
   {
    "duration": 332,
    "start_time": "2024-03-19T19:26:18.624Z"
   },
   {
    "duration": 134,
    "start_time": "2024-03-19T19:26:18.958Z"
   },
   {
    "duration": 241,
    "start_time": "2024-03-19T19:26:19.093Z"
   },
   {
    "duration": 227,
    "start_time": "2024-03-19T19:26:19.337Z"
   },
   {
    "duration": 148,
    "start_time": "2024-03-19T19:26:19.566Z"
   },
   {
    "duration": 198,
    "start_time": "2024-03-19T19:26:19.716Z"
   },
   {
    "duration": 4216,
    "start_time": "2024-03-19T19:26:19.922Z"
   },
   {
    "duration": 1963,
    "start_time": "2024-03-19T19:26:24.223Z"
   },
   {
    "duration": 3,
    "start_time": "2024-03-19T19:26:26.188Z"
   },
   {
    "duration": 7,
    "start_time": "2024-03-19T19:26:26.193Z"
   },
   {
    "duration": 28,
    "start_time": "2024-03-19T19:26:26.202Z"
   },
   {
    "duration": 3,
    "start_time": "2024-03-19T19:26:26.232Z"
   },
   {
    "duration": 3171,
    "start_time": "2024-03-19T19:26:26.237Z"
   },
   {
    "duration": 46,
    "start_time": "2024-03-19T19:26:29.410Z"
   },
   {
    "duration": 7855,
    "start_time": "2024-03-19T19:26:32.971Z"
   },
   {
    "duration": 1290,
    "start_time": "2024-03-19T19:26:40.830Z"
   },
   {
    "duration": 3,
    "start_time": "2024-03-19T19:26:42.122Z"
   },
   {
    "duration": 101,
    "start_time": "2024-03-19T19:26:42.127Z"
   },
   {
    "duration": 24,
    "start_time": "2024-03-19T19:26:42.230Z"
   },
   {
    "duration": 283,
    "start_time": "2024-03-19T19:26:42.256Z"
   },
   {
    "duration": 100,
    "start_time": "2024-03-19T19:26:42.540Z"
   },
   {
    "duration": 319,
    "start_time": "2024-03-19T19:26:42.641Z"
   },
   {
    "duration": 140,
    "start_time": "2024-03-19T19:26:42.962Z"
   },
   {
    "duration": 224,
    "start_time": "2024-03-19T19:26:43.105Z"
   },
   {
    "duration": 223,
    "start_time": "2024-03-19T19:26:43.331Z"
   },
   {
    "duration": 121,
    "start_time": "2024-03-19T19:26:43.556Z"
   },
   {
    "duration": 196,
    "start_time": "2024-03-19T19:26:43.679Z"
   },
   {
    "duration": 4062,
    "start_time": "2024-03-19T19:26:43.877Z"
   },
   {
    "duration": 1973,
    "start_time": "2024-03-19T19:26:47.942Z"
   },
   {
    "duration": 6,
    "start_time": "2024-03-19T19:26:49.917Z"
   },
   {
    "duration": 19,
    "start_time": "2024-03-19T19:26:49.924Z"
   },
   {
    "duration": 9,
    "start_time": "2024-03-19T19:26:49.945Z"
   },
   {
    "duration": 5,
    "start_time": "2024-03-19T19:26:49.955Z"
   },
   {
    "duration": 3131,
    "start_time": "2024-03-19T19:26:49.961Z"
   },
   {
    "duration": 46,
    "start_time": "2024-03-19T19:26:53.094Z"
   },
   {
    "duration": 36684,
    "start_time": "2024-03-19T19:26:53.142Z"
   },
   {
    "duration": 7709,
    "start_time": "2024-03-19T19:27:38.539Z"
   },
   {
    "duration": 1280,
    "start_time": "2024-03-19T19:27:46.251Z"
   },
   {
    "duration": 4,
    "start_time": "2024-03-19T19:27:47.533Z"
   },
   {
    "duration": 149,
    "start_time": "2024-03-19T19:27:47.538Z"
   },
   {
    "duration": 23,
    "start_time": "2024-03-19T19:27:47.689Z"
   },
   {
    "duration": 271,
    "start_time": "2024-03-19T19:27:47.714Z"
   },
   {
    "duration": 116,
    "start_time": "2024-03-19T19:27:47.987Z"
   },
   {
    "duration": 326,
    "start_time": "2024-03-19T19:27:48.105Z"
   },
   {
    "duration": 132,
    "start_time": "2024-03-19T19:27:48.433Z"
   },
   {
    "duration": 225,
    "start_time": "2024-03-19T19:27:48.566Z"
   },
   {
    "duration": 217,
    "start_time": "2024-03-19T19:27:48.792Z"
   },
   {
    "duration": 135,
    "start_time": "2024-03-19T19:27:49.011Z"
   },
   {
    "duration": 191,
    "start_time": "2024-03-19T19:27:49.148Z"
   },
   {
    "duration": 4187,
    "start_time": "2024-03-19T19:27:49.342Z"
   },
   {
    "duration": 1964,
    "start_time": "2024-03-19T19:27:53.531Z"
   },
   {
    "duration": 4,
    "start_time": "2024-03-19T19:27:55.496Z"
   },
   {
    "duration": 23,
    "start_time": "2024-03-19T19:27:55.501Z"
   },
   {
    "duration": 10,
    "start_time": "2024-03-19T19:27:55.526Z"
   },
   {
    "duration": 3,
    "start_time": "2024-03-19T19:27:55.537Z"
   },
   {
    "duration": 3158,
    "start_time": "2024-03-19T19:27:55.542Z"
   },
   {
    "duration": 46,
    "start_time": "2024-03-19T19:27:58.701Z"
   },
   {
    "duration": 7708,
    "start_time": "2024-03-19T19:28:21.239Z"
   },
   {
    "duration": 1309,
    "start_time": "2024-03-19T19:28:28.950Z"
   },
   {
    "duration": 4,
    "start_time": "2024-03-19T19:28:30.261Z"
   },
   {
    "duration": 202,
    "start_time": "2024-03-19T19:28:30.266Z"
   },
   {
    "duration": 23,
    "start_time": "2024-03-19T19:28:30.470Z"
   },
   {
    "duration": 305,
    "start_time": "2024-03-19T19:28:30.494Z"
   },
   {
    "duration": 103,
    "start_time": "2024-03-19T19:28:30.801Z"
   },
   {
    "duration": 334,
    "start_time": "2024-03-19T19:28:30.905Z"
   },
   {
    "duration": 141,
    "start_time": "2024-03-19T19:28:31.241Z"
   },
   {
    "duration": 230,
    "start_time": "2024-03-19T19:28:31.384Z"
   },
   {
    "duration": 219,
    "start_time": "2024-03-19T19:28:31.616Z"
   },
   {
    "duration": 124,
    "start_time": "2024-03-19T19:28:31.836Z"
   },
   {
    "duration": 222,
    "start_time": "2024-03-19T19:28:31.962Z"
   },
   {
    "duration": 4450,
    "start_time": "2024-03-19T19:28:32.186Z"
   },
   {
    "duration": 2020,
    "start_time": "2024-03-19T19:28:36.640Z"
   },
   {
    "duration": 3,
    "start_time": "2024-03-19T19:28:38.662Z"
   },
   {
    "duration": 8,
    "start_time": "2024-03-19T19:28:38.666Z"
   },
   {
    "duration": 26,
    "start_time": "2024-03-19T19:28:38.676Z"
   },
   {
    "duration": 3,
    "start_time": "2024-03-19T19:28:38.703Z"
   },
   {
    "duration": 3123,
    "start_time": "2024-03-19T19:28:38.708Z"
   },
   {
    "duration": 41,
    "start_time": "2024-03-19T19:28:41.833Z"
   },
   {
    "duration": 38148,
    "start_time": "2024-03-19T19:28:41.875Z"
   },
   {
    "duration": 7819,
    "start_time": "2024-03-19T19:30:29.753Z"
   },
   {
    "duration": 1282,
    "start_time": "2024-03-19T19:30:37.575Z"
   },
   {
    "duration": 5,
    "start_time": "2024-03-19T19:30:38.860Z"
   },
   {
    "duration": 99,
    "start_time": "2024-03-19T19:30:38.867Z"
   },
   {
    "duration": 24,
    "start_time": "2024-03-19T19:30:38.968Z"
   },
   {
    "duration": 276,
    "start_time": "2024-03-19T19:30:38.993Z"
   },
   {
    "duration": 112,
    "start_time": "2024-03-19T19:30:39.271Z"
   },
   {
    "duration": 343,
    "start_time": "2024-03-19T19:30:39.385Z"
   },
   {
    "duration": 146,
    "start_time": "2024-03-19T19:30:39.729Z"
   },
   {
    "duration": 227,
    "start_time": "2024-03-19T19:30:39.877Z"
   },
   {
    "duration": 206,
    "start_time": "2024-03-19T19:30:40.106Z"
   },
   {
    "duration": 124,
    "start_time": "2024-03-19T19:30:40.314Z"
   },
   {
    "duration": 186,
    "start_time": "2024-03-19T19:30:40.440Z"
   },
   {
    "duration": 4196,
    "start_time": "2024-03-19T19:30:40.629Z"
   },
   {
    "duration": 1969,
    "start_time": "2024-03-19T19:30:44.830Z"
   },
   {
    "duration": 4,
    "start_time": "2024-03-19T19:30:46.801Z"
   },
   {
    "duration": 21,
    "start_time": "2024-03-19T19:30:46.806Z"
   },
   {
    "duration": 13,
    "start_time": "2024-03-19T19:30:46.828Z"
   },
   {
    "duration": 8,
    "start_time": "2024-03-19T19:30:46.843Z"
   },
   {
    "duration": 3120,
    "start_time": "2024-03-19T19:30:46.853Z"
   },
   {
    "duration": 50,
    "start_time": "2024-03-19T19:30:49.974Z"
   },
   {
    "duration": 35911,
    "start_time": "2024-03-19T19:30:50.025Z"
   },
   {
    "duration": 7862,
    "start_time": "2024-03-19T19:31:54.550Z"
   },
   {
    "duration": 1352,
    "start_time": "2024-03-19T19:32:02.414Z"
   },
   {
    "duration": 5,
    "start_time": "2024-03-19T19:32:03.768Z"
   },
   {
    "duration": 103,
    "start_time": "2024-03-19T19:32:03.775Z"
   },
   {
    "duration": 23,
    "start_time": "2024-03-19T19:32:03.881Z"
   },
   {
    "duration": 262,
    "start_time": "2024-03-19T19:32:03.905Z"
   },
   {
    "duration": 111,
    "start_time": "2024-03-19T19:32:04.168Z"
   },
   {
    "duration": 335,
    "start_time": "2024-03-19T19:32:04.281Z"
   },
   {
    "duration": 140,
    "start_time": "2024-03-19T19:32:04.623Z"
   },
   {
    "duration": 260,
    "start_time": "2024-03-19T19:32:04.765Z"
   },
   {
    "duration": 244,
    "start_time": "2024-03-19T19:32:05.027Z"
   },
   {
    "duration": 125,
    "start_time": "2024-03-19T19:32:05.273Z"
   },
   {
    "duration": 203,
    "start_time": "2024-03-19T19:32:05.399Z"
   },
   {
    "duration": 4420,
    "start_time": "2024-03-19T19:32:05.605Z"
   },
   {
    "duration": 2014,
    "start_time": "2024-03-19T19:32:10.027Z"
   },
   {
    "duration": 4,
    "start_time": "2024-03-19T19:32:12.044Z"
   },
   {
    "duration": 8,
    "start_time": "2024-03-19T19:32:12.049Z"
   },
   {
    "duration": 10,
    "start_time": "2024-03-19T19:32:12.058Z"
   },
   {
    "duration": 3,
    "start_time": "2024-03-19T19:32:12.069Z"
   },
   {
    "duration": 3183,
    "start_time": "2024-03-19T19:32:12.074Z"
   },
   {
    "duration": 41,
    "start_time": "2024-03-19T19:32:15.259Z"
   },
   {
    "duration": 38838,
    "start_time": "2024-03-19T19:32:15.302Z"
   },
   {
    "duration": 265589,
    "start_time": "2024-03-19T19:32:54.142Z"
   },
   {
    "duration": 7742,
    "start_time": "2024-03-19T19:51:05.764Z"
   },
   {
    "duration": 1349,
    "start_time": "2024-03-19T19:51:13.508Z"
   },
   {
    "duration": 5,
    "start_time": "2024-03-19T19:51:14.858Z"
   },
   {
    "duration": 134,
    "start_time": "2024-03-19T19:51:14.865Z"
   },
   {
    "duration": 25,
    "start_time": "2024-03-19T19:51:15.001Z"
   },
   {
    "duration": 291,
    "start_time": "2024-03-19T19:51:15.028Z"
   },
   {
    "duration": 102,
    "start_time": "2024-03-19T19:51:15.322Z"
   },
   {
    "duration": 345,
    "start_time": "2024-03-19T19:51:15.426Z"
   },
   {
    "duration": 150,
    "start_time": "2024-03-19T19:51:15.773Z"
   },
   {
    "duration": 247,
    "start_time": "2024-03-19T19:51:15.925Z"
   },
   {
    "duration": 209,
    "start_time": "2024-03-19T19:51:16.174Z"
   },
   {
    "duration": 130,
    "start_time": "2024-03-19T19:51:16.385Z"
   },
   {
    "duration": 185,
    "start_time": "2024-03-19T19:51:16.517Z"
   },
   {
    "duration": 221,
    "start_time": "2024-03-19T19:51:16.705Z"
   },
   {
    "duration": 0,
    "start_time": "2024-03-19T19:51:16.927Z"
   },
   {
    "duration": 0,
    "start_time": "2024-03-19T19:51:16.928Z"
   },
   {
    "duration": 0,
    "start_time": "2024-03-19T19:51:16.929Z"
   },
   {
    "duration": 0,
    "start_time": "2024-03-19T19:51:16.930Z"
   },
   {
    "duration": 0,
    "start_time": "2024-03-19T19:51:16.931Z"
   },
   {
    "duration": 0,
    "start_time": "2024-03-19T19:51:16.932Z"
   },
   {
    "duration": 0,
    "start_time": "2024-03-19T19:51:16.933Z"
   },
   {
    "duration": 0,
    "start_time": "2024-03-19T19:51:16.934Z"
   },
   {
    "duration": 0,
    "start_time": "2024-03-19T19:51:16.934Z"
   },
   {
    "duration": 7883,
    "start_time": "2024-03-19T19:52:08.067Z"
   },
   {
    "duration": 1330,
    "start_time": "2024-03-19T19:52:15.953Z"
   },
   {
    "duration": 4,
    "start_time": "2024-03-19T19:52:17.285Z"
   },
   {
    "duration": 109,
    "start_time": "2024-03-19T19:52:17.291Z"
   },
   {
    "duration": 23,
    "start_time": "2024-03-19T19:52:17.402Z"
   },
   {
    "duration": 279,
    "start_time": "2024-03-19T19:52:17.427Z"
   },
   {
    "duration": 103,
    "start_time": "2024-03-19T19:52:17.707Z"
   },
   {
    "duration": 325,
    "start_time": "2024-03-19T19:52:17.812Z"
   },
   {
    "duration": 134,
    "start_time": "2024-03-19T19:52:18.138Z"
   },
   {
    "duration": 237,
    "start_time": "2024-03-19T19:52:18.273Z"
   },
   {
    "duration": 221,
    "start_time": "2024-03-19T19:52:18.512Z"
   },
   {
    "duration": 133,
    "start_time": "2024-03-19T19:52:18.735Z"
   },
   {
    "duration": 191,
    "start_time": "2024-03-19T19:52:18.870Z"
   },
   {
    "duration": 207,
    "start_time": "2024-03-19T19:52:19.063Z"
   },
   {
    "duration": 0,
    "start_time": "2024-03-19T19:52:19.271Z"
   },
   {
    "duration": 0,
    "start_time": "2024-03-19T19:52:19.273Z"
   },
   {
    "duration": 0,
    "start_time": "2024-03-19T19:52:19.274Z"
   },
   {
    "duration": 0,
    "start_time": "2024-03-19T19:52:19.275Z"
   },
   {
    "duration": 0,
    "start_time": "2024-03-19T19:52:19.276Z"
   },
   {
    "duration": 0,
    "start_time": "2024-03-19T19:52:19.277Z"
   },
   {
    "duration": 0,
    "start_time": "2024-03-19T19:52:19.278Z"
   },
   {
    "duration": 0,
    "start_time": "2024-03-19T19:52:19.279Z"
   },
   {
    "duration": 0,
    "start_time": "2024-03-19T19:52:19.280Z"
   },
   {
    "duration": 28,
    "start_time": "2024-03-19T19:53:17.242Z"
   },
   {
    "duration": 7750,
    "start_time": "2024-03-19T19:53:28.450Z"
   },
   {
    "duration": 1384,
    "start_time": "2024-03-19T19:53:36.202Z"
   },
   {
    "duration": 6,
    "start_time": "2024-03-19T19:53:37.589Z"
   },
   {
    "duration": 98,
    "start_time": "2024-03-19T19:53:37.597Z"
   },
   {
    "duration": 25,
    "start_time": "2024-03-19T19:53:37.697Z"
   },
   {
    "duration": 250,
    "start_time": "2024-03-19T19:53:37.723Z"
   },
   {
    "duration": 107,
    "start_time": "2024-03-19T19:53:37.975Z"
   },
   {
    "duration": 328,
    "start_time": "2024-03-19T19:53:38.084Z"
   },
   {
    "duration": 146,
    "start_time": "2024-03-19T19:53:38.414Z"
   },
   {
    "duration": 217,
    "start_time": "2024-03-19T19:53:38.561Z"
   },
   {
    "duration": 207,
    "start_time": "2024-03-19T19:53:38.780Z"
   },
   {
    "duration": 125,
    "start_time": "2024-03-19T19:53:38.988Z"
   },
   {
    "duration": 185,
    "start_time": "2024-03-19T19:53:39.114Z"
   },
   {
    "duration": 228,
    "start_time": "2024-03-19T19:53:39.302Z"
   },
   {
    "duration": 0,
    "start_time": "2024-03-19T19:53:39.532Z"
   },
   {
    "duration": 0,
    "start_time": "2024-03-19T19:53:39.533Z"
   },
   {
    "duration": 0,
    "start_time": "2024-03-19T19:53:39.535Z"
   },
   {
    "duration": 0,
    "start_time": "2024-03-19T19:53:39.536Z"
   },
   {
    "duration": 0,
    "start_time": "2024-03-19T19:53:39.538Z"
   },
   {
    "duration": 0,
    "start_time": "2024-03-19T19:53:39.540Z"
   },
   {
    "duration": 0,
    "start_time": "2024-03-19T19:53:39.541Z"
   },
   {
    "duration": 0,
    "start_time": "2024-03-19T19:53:39.542Z"
   },
   {
    "duration": 0,
    "start_time": "2024-03-19T19:53:39.544Z"
   },
   {
    "duration": 10068,
    "start_time": "2024-03-19T19:54:40.163Z"
   },
   {
    "duration": 7610,
    "start_time": "2024-03-19T20:15:18.099Z"
   },
   {
    "duration": 1326,
    "start_time": "2024-03-19T20:15:25.711Z"
   },
   {
    "duration": 4,
    "start_time": "2024-03-19T20:15:27.038Z"
   },
   {
    "duration": 134,
    "start_time": "2024-03-19T20:15:27.044Z"
   },
   {
    "duration": 25,
    "start_time": "2024-03-19T20:15:27.181Z"
   },
   {
    "duration": 261,
    "start_time": "2024-03-19T20:15:27.208Z"
   },
   {
    "duration": 115,
    "start_time": "2024-03-19T20:15:27.470Z"
   },
   {
    "duration": 318,
    "start_time": "2024-03-19T20:15:27.587Z"
   },
   {
    "duration": 139,
    "start_time": "2024-03-19T20:15:27.907Z"
   },
   {
    "duration": 219,
    "start_time": "2024-03-19T20:15:28.048Z"
   },
   {
    "duration": 209,
    "start_time": "2024-03-19T20:15:28.269Z"
   },
   {
    "duration": 122,
    "start_time": "2024-03-19T20:15:28.480Z"
   },
   {
    "duration": 176,
    "start_time": "2024-03-19T20:15:28.604Z"
   },
   {
    "duration": 223,
    "start_time": "2024-03-19T20:15:28.782Z"
   },
   {
    "duration": 0,
    "start_time": "2024-03-19T20:15:29.007Z"
   },
   {
    "duration": 0,
    "start_time": "2024-03-19T20:15:29.008Z"
   },
   {
    "duration": 0,
    "start_time": "2024-03-19T20:15:29.023Z"
   },
   {
    "duration": 0,
    "start_time": "2024-03-19T20:15:29.024Z"
   },
   {
    "duration": 0,
    "start_time": "2024-03-19T20:15:29.026Z"
   },
   {
    "duration": 0,
    "start_time": "2024-03-19T20:15:29.027Z"
   },
   {
    "duration": 0,
    "start_time": "2024-03-19T20:15:29.028Z"
   },
   {
    "duration": 0,
    "start_time": "2024-03-19T20:15:29.029Z"
   },
   {
    "duration": 0,
    "start_time": "2024-03-19T20:15:29.030Z"
   },
   {
    "duration": 0,
    "start_time": "2024-03-19T20:15:29.031Z"
   },
   {
    "duration": 37116,
    "start_time": "2024-03-19T20:17:05.410Z"
   },
   {
    "duration": 10454,
    "start_time": "2024-03-20T08:33:47.218Z"
   },
   {
    "duration": 1450,
    "start_time": "2024-03-20T08:33:57.674Z"
   },
   {
    "duration": 4,
    "start_time": "2024-03-20T08:33:59.125Z"
   },
   {
    "duration": 168,
    "start_time": "2024-03-20T08:33:59.131Z"
   },
   {
    "duration": 22,
    "start_time": "2024-03-20T08:33:59.301Z"
   },
   {
    "duration": 235,
    "start_time": "2024-03-20T08:33:59.325Z"
   },
   {
    "duration": 90,
    "start_time": "2024-03-20T08:33:59.564Z"
   },
   {
    "duration": 316,
    "start_time": "2024-03-20T08:33:59.664Z"
   },
   {
    "duration": 123,
    "start_time": "2024-03-20T08:33:59.981Z"
   },
   {
    "duration": 221,
    "start_time": "2024-03-20T08:34:00.107Z"
   },
   {
    "duration": 190,
    "start_time": "2024-03-20T08:34:00.330Z"
   },
   {
    "duration": 112,
    "start_time": "2024-03-20T08:34:00.522Z"
   },
   {
    "duration": 173,
    "start_time": "2024-03-20T08:34:00.635Z"
   },
   {
    "duration": 34557,
    "start_time": "2024-03-20T08:34:00.810Z"
   },
   {
    "duration": 15900,
    "start_time": "2024-03-20T08:34:35.369Z"
   },
   {
    "duration": 1933,
    "start_time": "2024-03-20T08:34:51.272Z"
   },
   {
    "duration": 2,
    "start_time": "2024-03-20T08:34:53.207Z"
   },
   {
    "duration": 16,
    "start_time": "2024-03-20T08:34:53.211Z"
   },
   {
    "duration": 9,
    "start_time": "2024-03-20T08:34:53.228Z"
   },
   {
    "duration": 12,
    "start_time": "2024-03-20T08:34:53.239Z"
   },
   {
    "duration": 2898,
    "start_time": "2024-03-20T08:34:53.252Z"
   },
   {
    "duration": 41,
    "start_time": "2024-03-20T08:34:56.152Z"
   },
   {
    "duration": 36371,
    "start_time": "2024-03-20T08:34:56.195Z"
   },
   {
    "duration": 256398,
    "start_time": "2024-03-20T08:35:32.567Z"
   },
   {
    "duration": 7147,
    "start_time": "2024-03-20T08:41:45.980Z"
   },
   {
    "duration": 1216,
    "start_time": "2024-03-20T08:41:53.130Z"
   },
   {
    "duration": 4,
    "start_time": "2024-03-20T08:41:54.348Z"
   },
   {
    "duration": 100,
    "start_time": "2024-03-20T08:41:54.353Z"
   },
   {
    "duration": 21,
    "start_time": "2024-03-20T08:41:54.455Z"
   },
   {
    "duration": 254,
    "start_time": "2024-03-20T08:41:54.478Z"
   },
   {
    "duration": 97,
    "start_time": "2024-03-20T08:41:54.733Z"
   },
   {
    "duration": 302,
    "start_time": "2024-03-20T08:41:54.831Z"
   },
   {
    "duration": 121,
    "start_time": "2024-03-20T08:41:55.134Z"
   },
   {
    "duration": 212,
    "start_time": "2024-03-20T08:41:55.256Z"
   },
   {
    "duration": 211,
    "start_time": "2024-03-20T08:41:55.470Z"
   },
   {
    "duration": 128,
    "start_time": "2024-03-20T08:41:55.683Z"
   },
   {
    "duration": 200,
    "start_time": "2024-03-20T08:41:55.813Z"
   },
   {
    "duration": 33149,
    "start_time": "2024-03-20T08:41:56.016Z"
   },
   {
    "duration": 17199,
    "start_time": "2024-03-20T08:42:29.168Z"
   },
   {
    "duration": 1800,
    "start_time": "2024-03-20T08:42:46.369Z"
   },
   {
    "duration": 3,
    "start_time": "2024-03-20T08:42:48.170Z"
   },
   {
    "duration": 11,
    "start_time": "2024-03-20T08:42:48.175Z"
   },
   {
    "duration": 16,
    "start_time": "2024-03-20T08:42:48.188Z"
   },
   {
    "duration": 3,
    "start_time": "2024-03-20T08:42:48.206Z"
   },
   {
    "duration": 2933,
    "start_time": "2024-03-20T08:42:48.211Z"
   },
   {
    "duration": 38,
    "start_time": "2024-03-20T08:42:51.146Z"
   },
   {
    "duration": 36298,
    "start_time": "2024-03-20T08:42:51.185Z"
   },
   {
    "duration": 7240,
    "start_time": "2024-03-20T08:44:47.362Z"
   },
   {
    "duration": 1214,
    "start_time": "2024-03-20T08:44:54.604Z"
   },
   {
    "duration": 4,
    "start_time": "2024-03-20T08:44:55.819Z"
   },
   {
    "duration": 107,
    "start_time": "2024-03-20T08:44:55.824Z"
   },
   {
    "duration": 23,
    "start_time": "2024-03-20T08:44:55.933Z"
   },
   {
    "duration": 240,
    "start_time": "2024-03-20T08:44:55.958Z"
   },
   {
    "duration": 107,
    "start_time": "2024-03-20T08:44:56.199Z"
   },
   {
    "duration": 292,
    "start_time": "2024-03-20T08:44:56.308Z"
   },
   {
    "duration": 121,
    "start_time": "2024-03-20T08:44:56.601Z"
   },
   {
    "duration": 207,
    "start_time": "2024-03-20T08:44:56.724Z"
   },
   {
    "duration": 200,
    "start_time": "2024-03-20T08:44:56.933Z"
   },
   {
    "duration": 120,
    "start_time": "2024-03-20T08:44:57.135Z"
   },
   {
    "duration": 207,
    "start_time": "2024-03-20T08:44:57.257Z"
   },
   {
    "duration": 385,
    "start_time": "2024-03-20T08:44:57.468Z"
   },
   {
    "duration": 0,
    "start_time": "2024-03-20T08:44:57.854Z"
   },
   {
    "duration": 0,
    "start_time": "2024-03-20T08:44:57.855Z"
   },
   {
    "duration": 0,
    "start_time": "2024-03-20T08:44:57.866Z"
   },
   {
    "duration": 0,
    "start_time": "2024-03-20T08:44:57.867Z"
   },
   {
    "duration": 0,
    "start_time": "2024-03-20T08:44:57.869Z"
   },
   {
    "duration": 0,
    "start_time": "2024-03-20T08:44:57.870Z"
   },
   {
    "duration": 0,
    "start_time": "2024-03-20T08:44:57.872Z"
   },
   {
    "duration": 0,
    "start_time": "2024-03-20T08:44:57.873Z"
   },
   {
    "duration": 0,
    "start_time": "2024-03-20T08:44:57.875Z"
   },
   {
    "duration": 0,
    "start_time": "2024-03-20T08:44:57.876Z"
   },
   {
    "duration": 7185,
    "start_time": "2024-03-20T08:46:24.444Z"
   },
   {
    "duration": 1301,
    "start_time": "2024-03-20T08:46:31.632Z"
   },
   {
    "duration": 3,
    "start_time": "2024-03-20T08:46:32.935Z"
   },
   {
    "duration": 101,
    "start_time": "2024-03-20T08:46:32.940Z"
   },
   {
    "duration": 21,
    "start_time": "2024-03-20T08:46:33.043Z"
   },
   {
    "duration": 242,
    "start_time": "2024-03-20T08:46:33.065Z"
   },
   {
    "duration": 95,
    "start_time": "2024-03-20T08:46:33.309Z"
   },
   {
    "duration": 289,
    "start_time": "2024-03-20T08:46:33.405Z"
   },
   {
    "duration": 127,
    "start_time": "2024-03-20T08:46:33.695Z"
   },
   {
    "duration": 218,
    "start_time": "2024-03-20T08:46:33.824Z"
   },
   {
    "duration": 198,
    "start_time": "2024-03-20T08:46:34.043Z"
   },
   {
    "duration": 112,
    "start_time": "2024-03-20T08:46:34.242Z"
   },
   {
    "duration": 172,
    "start_time": "2024-03-20T08:46:34.356Z"
   },
   {
    "duration": 31635,
    "start_time": "2024-03-20T08:46:34.530Z"
   },
   {
    "duration": 19293,
    "start_time": "2024-03-20T08:47:06.173Z"
   },
   {
    "duration": 1826,
    "start_time": "2024-03-20T08:47:25.470Z"
   },
   {
    "duration": 3,
    "start_time": "2024-03-20T08:47:27.297Z"
   },
   {
    "duration": 7,
    "start_time": "2024-03-20T08:47:27.301Z"
   },
   {
    "duration": 9,
    "start_time": "2024-03-20T08:47:27.309Z"
   },
   {
    "duration": 9,
    "start_time": "2024-03-20T08:47:27.319Z"
   },
   {
    "duration": 2859,
    "start_time": "2024-03-20T08:47:27.329Z"
   },
   {
    "duration": 36,
    "start_time": "2024-03-20T08:47:30.189Z"
   },
   {
    "duration": 34542,
    "start_time": "2024-03-20T08:47:30.227Z"
   },
   {
    "duration": 7212,
    "start_time": "2024-03-20T08:48:44.684Z"
   },
   {
    "duration": 1244,
    "start_time": "2024-03-20T08:48:51.899Z"
   },
   {
    "duration": 4,
    "start_time": "2024-03-20T08:48:53.144Z"
   },
   {
    "duration": 101,
    "start_time": "2024-03-20T08:48:53.150Z"
   },
   {
    "duration": 23,
    "start_time": "2024-03-20T08:48:53.252Z"
   },
   {
    "duration": 247,
    "start_time": "2024-03-20T08:48:53.276Z"
   },
   {
    "duration": 94,
    "start_time": "2024-03-20T08:48:53.525Z"
   },
   {
    "duration": 319,
    "start_time": "2024-03-20T08:48:53.620Z"
   },
   {
    "duration": 136,
    "start_time": "2024-03-20T08:48:53.940Z"
   },
   {
    "duration": 193,
    "start_time": "2024-03-20T08:48:54.078Z"
   },
   {
    "duration": 194,
    "start_time": "2024-03-20T08:48:54.273Z"
   },
   {
    "duration": 118,
    "start_time": "2024-03-20T08:48:54.469Z"
   },
   {
    "duration": 176,
    "start_time": "2024-03-20T08:48:54.588Z"
   },
   {
    "duration": 787,
    "start_time": "2024-03-20T08:48:54.766Z"
   },
   {
    "duration": 0,
    "start_time": "2024-03-20T08:48:55.565Z"
   },
   {
    "duration": 0,
    "start_time": "2024-03-20T08:48:55.566Z"
   },
   {
    "duration": 0,
    "start_time": "2024-03-20T08:48:55.567Z"
   },
   {
    "duration": 0,
    "start_time": "2024-03-20T08:48:55.568Z"
   },
   {
    "duration": 0,
    "start_time": "2024-03-20T08:48:55.569Z"
   },
   {
    "duration": 0,
    "start_time": "2024-03-20T08:48:55.570Z"
   },
   {
    "duration": 0,
    "start_time": "2024-03-20T08:48:55.571Z"
   },
   {
    "duration": 0,
    "start_time": "2024-03-20T08:48:55.572Z"
   },
   {
    "duration": 0,
    "start_time": "2024-03-20T08:48:55.573Z"
   },
   {
    "duration": 0,
    "start_time": "2024-03-20T08:48:55.574Z"
   },
   {
    "duration": 7005,
    "start_time": "2024-03-20T08:49:29.684Z"
   },
   {
    "duration": 1246,
    "start_time": "2024-03-20T08:49:36.691Z"
   },
   {
    "duration": 4,
    "start_time": "2024-03-20T08:49:37.939Z"
   },
   {
    "duration": 98,
    "start_time": "2024-03-20T08:49:37.944Z"
   },
   {
    "duration": 22,
    "start_time": "2024-03-20T08:49:38.044Z"
   },
   {
    "duration": 242,
    "start_time": "2024-03-20T08:49:38.067Z"
   },
   {
    "duration": 92,
    "start_time": "2024-03-20T08:49:38.311Z"
   },
   {
    "duration": 302,
    "start_time": "2024-03-20T08:49:38.404Z"
   },
   {
    "duration": 133,
    "start_time": "2024-03-20T08:49:38.708Z"
   },
   {
    "duration": 232,
    "start_time": "2024-03-20T08:49:38.842Z"
   },
   {
    "duration": 184,
    "start_time": "2024-03-20T08:49:39.075Z"
   },
   {
    "duration": 129,
    "start_time": "2024-03-20T08:49:39.261Z"
   },
   {
    "duration": 168,
    "start_time": "2024-03-20T08:49:39.391Z"
   },
   {
    "duration": 54000,
    "start_time": "2024-03-20T08:49:39.567Z"
   },
   {
    "duration": 16305,
    "start_time": "2024-03-20T08:50:33.569Z"
   },
   {
    "duration": 1793,
    "start_time": "2024-03-20T08:50:49.966Z"
   },
   {
    "duration": 4,
    "start_time": "2024-03-20T08:50:51.765Z"
   },
   {
    "duration": 18,
    "start_time": "2024-03-20T08:50:51.771Z"
   },
   {
    "duration": 9,
    "start_time": "2024-03-20T08:50:51.791Z"
   },
   {
    "duration": 3,
    "start_time": "2024-03-20T08:50:51.801Z"
   },
   {
    "duration": 3059,
    "start_time": "2024-03-20T08:50:51.805Z"
   },
   {
    "duration": 42,
    "start_time": "2024-03-20T08:50:54.866Z"
   },
   {
    "duration": 38360,
    "start_time": "2024-03-20T08:50:54.910Z"
   },
   {
    "duration": 262994,
    "start_time": "2024-03-20T08:51:33.271Z"
   },
   {
    "duration": 7270,
    "start_time": "2024-03-20T08:57:21.641Z"
   },
   {
    "duration": 1221,
    "start_time": "2024-03-20T08:57:28.913Z"
   },
   {
    "duration": 4,
    "start_time": "2024-03-20T08:57:30.136Z"
   },
   {
    "duration": 243,
    "start_time": "2024-03-20T08:57:30.142Z"
   },
   {
    "duration": 21,
    "start_time": "2024-03-20T08:57:30.386Z"
   },
   {
    "duration": 290,
    "start_time": "2024-03-20T08:57:30.409Z"
   },
   {
    "duration": 104,
    "start_time": "2024-03-20T08:57:30.701Z"
   },
   {
    "duration": 332,
    "start_time": "2024-03-20T08:57:30.807Z"
   },
   {
    "duration": 126,
    "start_time": "2024-03-20T08:57:31.141Z"
   },
   {
    "duration": 220,
    "start_time": "2024-03-20T08:57:31.270Z"
   },
   {
    "duration": 205,
    "start_time": "2024-03-20T08:57:31.492Z"
   },
   {
    "duration": 125,
    "start_time": "2024-03-20T08:57:31.699Z"
   },
   {
    "duration": 183,
    "start_time": "2024-03-20T08:57:31.826Z"
   },
   {
    "duration": 53663,
    "start_time": "2024-03-20T08:57:32.011Z"
   },
   {
    "duration": 44106,
    "start_time": "2024-03-20T08:58:25.770Z"
   },
   {
    "duration": 3,
    "start_time": "2024-03-20T08:59:09.878Z"
   },
   {
    "duration": 9,
    "start_time": "2024-03-20T08:59:09.883Z"
   },
   {
    "duration": 14,
    "start_time": "2024-03-20T08:59:09.893Z"
   },
   {
    "duration": 3,
    "start_time": "2024-03-20T08:59:09.909Z"
   },
   {
    "duration": 3030,
    "start_time": "2024-03-20T08:59:09.913Z"
   },
   {
    "duration": 39,
    "start_time": "2024-03-20T08:59:12.945Z"
   },
   {
    "duration": 88382,
    "start_time": "2024-03-20T08:59:12.987Z"
   },
   {
    "duration": 7563,
    "start_time": "2024-03-20T09:04:55.015Z"
   },
   {
    "duration": 1411,
    "start_time": "2024-03-20T09:05:02.580Z"
   },
   {
    "duration": 4,
    "start_time": "2024-03-20T09:05:03.993Z"
   },
   {
    "duration": 98,
    "start_time": "2024-03-20T09:05:03.999Z"
   },
   {
    "duration": 26,
    "start_time": "2024-03-20T09:05:04.099Z"
   },
   {
    "duration": 260,
    "start_time": "2024-03-20T09:05:04.127Z"
   },
   {
    "duration": 98,
    "start_time": "2024-03-20T09:05:04.388Z"
   },
   {
    "duration": 308,
    "start_time": "2024-03-20T09:05:04.487Z"
   },
   {
    "duration": 125,
    "start_time": "2024-03-20T09:05:04.796Z"
   },
   {
    "duration": 221,
    "start_time": "2024-03-20T09:05:04.923Z"
   },
   {
    "duration": 226,
    "start_time": "2024-03-20T09:05:05.146Z"
   },
   {
    "duration": 119,
    "start_time": "2024-03-20T09:05:05.374Z"
   },
   {
    "duration": 185,
    "start_time": "2024-03-20T09:05:05.495Z"
   },
   {
    "duration": 48593,
    "start_time": "2024-03-20T09:05:05.682Z"
   },
   {
    "duration": 43974,
    "start_time": "2024-03-20T09:05:54.372Z"
   },
   {
    "duration": 3,
    "start_time": "2024-03-20T09:06:38.347Z"
   },
   {
    "duration": 18,
    "start_time": "2024-03-20T09:06:38.351Z"
   },
   {
    "duration": 15835,
    "start_time": "2024-03-20T09:06:38.371Z"
   },
   {
    "duration": 3,
    "start_time": "2024-03-20T09:06:54.208Z"
   },
   {
    "duration": 3151,
    "start_time": "2024-03-20T09:06:54.212Z"
   },
   {
    "duration": 37,
    "start_time": "2024-03-20T09:06:57.365Z"
   },
   {
    "duration": 39065,
    "start_time": "2024-03-20T09:06:57.404Z"
   },
   {
    "duration": 7205,
    "start_time": "2024-03-20T09:07:56.290Z"
   },
   {
    "duration": 1227,
    "start_time": "2024-03-20T09:08:03.497Z"
   },
   {
    "duration": 4,
    "start_time": "2024-03-20T09:08:04.726Z"
   },
   {
    "duration": 147,
    "start_time": "2024-03-20T09:08:04.732Z"
   },
   {
    "duration": 24,
    "start_time": "2024-03-20T09:08:04.881Z"
   },
   {
    "duration": 244,
    "start_time": "2024-03-20T09:08:04.906Z"
   },
   {
    "duration": 95,
    "start_time": "2024-03-20T09:08:05.152Z"
   },
   {
    "duration": 299,
    "start_time": "2024-03-20T09:08:05.249Z"
   },
   {
    "duration": 125,
    "start_time": "2024-03-20T09:08:05.549Z"
   },
   {
    "duration": 230,
    "start_time": "2024-03-20T09:08:05.677Z"
   },
   {
    "duration": 195,
    "start_time": "2024-03-20T09:08:05.909Z"
   },
   {
    "duration": 109,
    "start_time": "2024-03-20T09:08:06.105Z"
   },
   {
    "duration": 173,
    "start_time": "2024-03-20T09:08:06.216Z"
   },
   {
    "duration": 32183,
    "start_time": "2024-03-20T09:08:06.390Z"
   },
   {
    "duration": 26460,
    "start_time": "2024-03-20T09:08:38.575Z"
   },
   {
    "duration": 3,
    "start_time": "2024-03-20T09:09:05.036Z"
   },
   {
    "duration": 20,
    "start_time": "2024-03-20T09:09:05.040Z"
   },
   {
    "duration": 9439,
    "start_time": "2024-03-20T09:09:05.061Z"
   },
   {
    "duration": 3,
    "start_time": "2024-03-20T09:09:14.502Z"
   },
   {
    "duration": 3075,
    "start_time": "2024-03-20T09:09:14.507Z"
   },
   {
    "duration": 40,
    "start_time": "2024-03-20T09:09:17.583Z"
   },
   {
    "duration": 39344,
    "start_time": "2024-03-20T09:09:17.624Z"
   },
   {
    "duration": 256302,
    "start_time": "2024-03-20T09:09:56.970Z"
   },
   {
    "duration": 7599,
    "start_time": "2024-03-20T09:31:19.452Z"
   },
   {
    "duration": 1328,
    "start_time": "2024-03-20T09:31:27.054Z"
   },
   {
    "duration": 5,
    "start_time": "2024-03-20T09:31:28.384Z"
   },
   {
    "duration": 114,
    "start_time": "2024-03-20T09:31:28.390Z"
   },
   {
    "duration": 23,
    "start_time": "2024-03-20T09:31:28.507Z"
   },
   {
    "duration": 290,
    "start_time": "2024-03-20T09:31:28.532Z"
   },
   {
    "duration": 118,
    "start_time": "2024-03-20T09:31:28.824Z"
   },
   {
    "duration": 330,
    "start_time": "2024-03-20T09:31:28.944Z"
   },
   {
    "duration": 136,
    "start_time": "2024-03-20T09:31:29.275Z"
   },
   {
    "duration": 220,
    "start_time": "2024-03-20T09:31:29.412Z"
   },
   {
    "duration": 213,
    "start_time": "2024-03-20T09:31:29.634Z"
   },
   {
    "duration": 127,
    "start_time": "2024-03-20T09:31:29.848Z"
   },
   {
    "duration": 211,
    "start_time": "2024-03-20T09:31:29.977Z"
   },
   {
    "duration": 31880,
    "start_time": "2024-03-20T09:31:30.191Z"
   },
   {
    "duration": 26798,
    "start_time": "2024-03-20T09:32:02.073Z"
   },
   {
    "duration": 4,
    "start_time": "2024-03-20T09:32:28.873Z"
   },
   {
    "duration": 8,
    "start_time": "2024-03-20T09:32:28.879Z"
   },
   {
    "duration": 9544,
    "start_time": "2024-03-20T09:32:28.888Z"
   },
   {
    "duration": 7515,
    "start_time": "2024-03-20T09:36:50.533Z"
   },
   {
    "duration": 1342,
    "start_time": "2024-03-20T09:36:58.050Z"
   },
   {
    "duration": 5,
    "start_time": "2024-03-20T09:36:59.393Z"
   },
   {
    "duration": 100,
    "start_time": "2024-03-20T09:36:59.399Z"
   },
   {
    "duration": 23,
    "start_time": "2024-03-20T09:36:59.501Z"
   },
   {
    "duration": 268,
    "start_time": "2024-03-20T09:36:59.526Z"
   },
   {
    "duration": 99,
    "start_time": "2024-03-20T09:36:59.796Z"
   },
   {
    "duration": 316,
    "start_time": "2024-03-20T09:36:59.896Z"
   },
   {
    "duration": 131,
    "start_time": "2024-03-20T09:37:00.214Z"
   },
   {
    "duration": 221,
    "start_time": "2024-03-20T09:37:00.347Z"
   },
   {
    "duration": 212,
    "start_time": "2024-03-20T09:37:00.569Z"
   },
   {
    "duration": 126,
    "start_time": "2024-03-20T09:37:00.783Z"
   },
   {
    "duration": 177,
    "start_time": "2024-03-20T09:37:00.911Z"
   },
   {
    "duration": 29985,
    "start_time": "2024-03-20T09:37:01.091Z"
   },
   {
    "duration": 27438,
    "start_time": "2024-03-20T09:37:31.081Z"
   },
   {
    "duration": 3,
    "start_time": "2024-03-20T09:37:58.520Z"
   },
   {
    "duration": 7,
    "start_time": "2024-03-20T09:37:58.525Z"
   },
   {
    "duration": 9708,
    "start_time": "2024-03-20T09:37:58.533Z"
   },
   {
    "duration": 284582,
    "start_time": "2024-03-20T09:38:08.243Z"
   },
   {
    "duration": 0,
    "start_time": "2024-03-20T09:42:52.827Z"
   },
   {
    "duration": 11668,
    "start_time": "2024-03-20T14:54:04.461Z"
   },
   {
    "duration": 1562,
    "start_time": "2024-03-20T14:54:16.131Z"
   },
   {
    "duration": 4,
    "start_time": "2024-03-20T14:54:17.695Z"
   },
   {
    "duration": 186,
    "start_time": "2024-03-20T14:54:17.701Z"
   },
   {
    "duration": 25,
    "start_time": "2024-03-20T14:54:17.889Z"
   },
   {
    "duration": 301,
    "start_time": "2024-03-20T14:54:17.916Z"
   },
   {
    "duration": 105,
    "start_time": "2024-03-20T14:54:18.219Z"
   },
   {
    "duration": 324,
    "start_time": "2024-03-20T14:54:18.325Z"
   },
   {
    "duration": 137,
    "start_time": "2024-03-20T14:54:18.651Z"
   },
   {
    "duration": 230,
    "start_time": "2024-03-20T14:54:18.790Z"
   },
   {
    "duration": 216,
    "start_time": "2024-03-20T14:54:19.022Z"
   },
   {
    "duration": 131,
    "start_time": "2024-03-20T14:54:19.240Z"
   },
   {
    "duration": 209,
    "start_time": "2024-03-20T14:54:19.373Z"
   },
   {
    "duration": 36034,
    "start_time": "2024-03-20T14:54:19.586Z"
   },
   {
    "duration": 29344,
    "start_time": "2024-03-20T14:54:55.624Z"
   },
   {
    "duration": 3,
    "start_time": "2024-03-20T14:55:24.970Z"
   },
   {
    "duration": 10,
    "start_time": "2024-03-20T14:55:24.974Z"
   },
   {
    "duration": 10684,
    "start_time": "2024-03-20T14:55:24.985Z"
   },
   {
    "duration": 831445,
    "start_time": "2024-03-20T14:55:35.670Z"
   },
   {
    "duration": 247403,
    "start_time": "2024-03-20T15:09:27.117Z"
   },
   {
    "duration": 11436,
    "start_time": "2024-03-21T16:16:34.066Z"
   },
   {
    "duration": 1476,
    "start_time": "2024-03-21T16:16:45.504Z"
   },
   {
    "duration": 6,
    "start_time": "2024-03-21T16:16:46.981Z"
   },
   {
    "duration": 218,
    "start_time": "2024-03-21T16:16:46.989Z"
   },
   {
    "duration": 24,
    "start_time": "2024-03-21T16:16:47.209Z"
   },
   {
    "duration": 269,
    "start_time": "2024-03-21T16:16:47.234Z"
   },
   {
    "duration": 109,
    "start_time": "2024-03-21T16:16:47.505Z"
   },
   {
    "duration": 326,
    "start_time": "2024-03-21T16:16:47.616Z"
   },
   {
    "duration": 136,
    "start_time": "2024-03-21T16:16:47.944Z"
   },
   {
    "duration": 207,
    "start_time": "2024-03-21T16:16:48.086Z"
   },
   {
    "duration": 213,
    "start_time": "2024-03-21T16:16:48.295Z"
   },
   {
    "duration": 117,
    "start_time": "2024-03-21T16:16:48.510Z"
   },
   {
    "duration": 181,
    "start_time": "2024-03-21T16:16:48.628Z"
   },
   {
    "duration": 133,
    "start_time": "2024-03-21T16:16:48.811Z"
   },
   {
    "duration": 0,
    "start_time": "2024-03-21T16:16:48.946Z"
   },
   {
    "duration": 0,
    "start_time": "2024-03-21T16:16:48.947Z"
   },
   {
    "duration": 0,
    "start_time": "2024-03-21T16:16:48.948Z"
   },
   {
    "duration": 0,
    "start_time": "2024-03-21T16:16:48.950Z"
   },
   {
    "duration": 0,
    "start_time": "2024-03-21T16:16:48.951Z"
   },
   {
    "duration": 0,
    "start_time": "2024-03-21T16:16:48.952Z"
   },
   {
    "duration": 22769,
    "start_time": "2024-03-21T16:18:21.318Z"
   },
   {
    "duration": 7856,
    "start_time": "2024-03-21T16:19:06.371Z"
   },
   {
    "duration": 1368,
    "start_time": "2024-03-21T16:19:14.230Z"
   },
   {
    "duration": 4,
    "start_time": "2024-03-21T16:19:15.600Z"
   },
   {
    "duration": 113,
    "start_time": "2024-03-21T16:19:15.606Z"
   },
   {
    "duration": 23,
    "start_time": "2024-03-21T16:19:15.721Z"
   },
   {
    "duration": 282,
    "start_time": "2024-03-21T16:19:15.746Z"
   },
   {
    "duration": 111,
    "start_time": "2024-03-21T16:19:16.029Z"
   },
   {
    "duration": 323,
    "start_time": "2024-03-21T16:19:16.142Z"
   },
   {
    "duration": 139,
    "start_time": "2024-03-21T16:19:16.466Z"
   },
   {
    "duration": 241,
    "start_time": "2024-03-21T16:19:16.607Z"
   },
   {
    "duration": 222,
    "start_time": "2024-03-21T16:19:16.850Z"
   },
   {
    "duration": 126,
    "start_time": "2024-03-21T16:19:17.074Z"
   },
   {
    "duration": 198,
    "start_time": "2024-03-21T16:19:17.201Z"
   },
   {
    "duration": 21791,
    "start_time": "2024-03-21T16:19:17.401Z"
   },
   {
    "duration": 19226,
    "start_time": "2024-03-21T16:19:39.197Z"
   },
   {
    "duration": 3,
    "start_time": "2024-03-21T16:19:58.425Z"
   },
   {
    "duration": 21,
    "start_time": "2024-03-21T16:19:58.429Z"
   },
   {
    "duration": 6815,
    "start_time": "2024-03-21T16:19:58.452Z"
   },
   {
    "duration": 346725,
    "start_time": "2024-03-21T16:20:05.269Z"
   },
   {
    "duration": 640799,
    "start_time": "2024-03-21T16:25:51.996Z"
   },
   {
    "duration": 167,
    "start_time": "2024-03-21T16:36:32.796Z"
   },
   {
    "duration": 12,
    "start_time": "2024-03-21T16:36:58.628Z"
   },
   {
    "duration": 10,
    "start_time": "2024-03-21T16:39:04.466Z"
   },
   {
    "duration": 9,
    "start_time": "2024-03-21T16:40:06.136Z"
   },
   {
    "duration": 7712,
    "start_time": "2024-03-21T16:45:14.048Z"
   },
   {
    "duration": 1311,
    "start_time": "2024-03-21T16:45:21.762Z"
   },
   {
    "duration": 4,
    "start_time": "2024-03-21T16:45:23.075Z"
   },
   {
    "duration": 112,
    "start_time": "2024-03-21T16:45:23.080Z"
   },
   {
    "duration": 21,
    "start_time": "2024-03-21T16:45:23.194Z"
   },
   {
    "duration": 272,
    "start_time": "2024-03-21T16:45:23.217Z"
   },
   {
    "duration": 113,
    "start_time": "2024-03-21T16:45:23.490Z"
   },
   {
    "duration": 325,
    "start_time": "2024-03-21T16:45:23.605Z"
   },
   {
    "duration": 133,
    "start_time": "2024-03-21T16:45:23.932Z"
   },
   {
    "duration": 212,
    "start_time": "2024-03-21T16:45:24.067Z"
   },
   {
    "duration": 228,
    "start_time": "2024-03-21T16:45:24.286Z"
   },
   {
    "duration": 137,
    "start_time": "2024-03-21T16:45:24.516Z"
   },
   {
    "duration": 195,
    "start_time": "2024-03-21T16:45:24.655Z"
   },
   {
    "duration": 44858,
    "start_time": "2024-03-21T16:45:24.852Z"
   },
   {
    "duration": 37606,
    "start_time": "2024-03-21T16:46:09.792Z"
   },
   {
    "duration": 3,
    "start_time": "2024-03-21T16:46:47.400Z"
   },
   {
    "duration": 22,
    "start_time": "2024-03-21T16:46:47.404Z"
   },
   {
    "duration": 13473,
    "start_time": "2024-03-21T16:46:47.428Z"
   },
   {
    "duration": 509384,
    "start_time": "2024-03-21T16:47:00.903Z"
   },
   {
    "duration": 1149209,
    "start_time": "2024-03-21T16:55:30.289Z"
   },
   {
    "duration": 8,
    "start_time": "2024-03-21T17:14:39.500Z"
   },
   {
    "duration": 7776,
    "start_time": "2024-03-21T17:21:05.328Z"
   },
   {
    "duration": 4,
    "start_time": "2024-03-21T17:21:13.106Z"
   },
   {
    "duration": 15,
    "start_time": "2024-03-21T17:21:13.112Z"
   },
   {
    "duration": 116,
    "start_time": "2024-03-21T17:21:13.129Z"
   },
   {
    "duration": 29,
    "start_time": "2024-03-21T17:21:13.247Z"
   },
   {
    "duration": 245,
    "start_time": "2024-03-21T17:21:13.278Z"
   },
   {
    "duration": 105,
    "start_time": "2024-03-21T17:21:13.525Z"
   },
   {
    "duration": 365,
    "start_time": "2024-03-21T17:21:13.632Z"
   },
   {
    "duration": 135,
    "start_time": "2024-03-21T17:21:13.999Z"
   },
   {
    "duration": 231,
    "start_time": "2024-03-21T17:21:14.136Z"
   },
   {
    "duration": 227,
    "start_time": "2024-03-21T17:21:14.368Z"
   },
   {
    "duration": 118,
    "start_time": "2024-03-21T17:21:14.597Z"
   },
   {
    "duration": 181,
    "start_time": "2024-03-21T17:21:14.716Z"
   },
   {
    "duration": 43295,
    "start_time": "2024-03-21T17:21:14.899Z"
   },
   {
    "duration": 4,
    "start_time": "2024-03-21T17:22:06.284Z"
   },
   {
    "duration": 7851,
    "start_time": "2024-03-21T17:24:54.372Z"
   },
   {
    "duration": 1309,
    "start_time": "2024-03-21T17:25:02.225Z"
   },
   {
    "duration": 4,
    "start_time": "2024-03-21T17:25:03.536Z"
   },
   {
    "duration": 184,
    "start_time": "2024-03-21T17:25:03.541Z"
   },
   {
    "duration": 23,
    "start_time": "2024-03-21T17:25:03.726Z"
   },
   {
    "duration": 294,
    "start_time": "2024-03-21T17:25:03.751Z"
   },
   {
    "duration": 106,
    "start_time": "2024-03-21T17:25:04.047Z"
   },
   {
    "duration": 341,
    "start_time": "2024-03-21T17:25:04.154Z"
   },
   {
    "duration": 136,
    "start_time": "2024-03-21T17:25:04.496Z"
   },
   {
    "duration": 215,
    "start_time": "2024-03-21T17:25:04.635Z"
   },
   {
    "duration": 210,
    "start_time": "2024-03-21T17:25:04.852Z"
   },
   {
    "duration": 125,
    "start_time": "2024-03-21T17:25:05.063Z"
   },
   {
    "duration": 198,
    "start_time": "2024-03-21T17:25:05.195Z"
   },
   {
    "duration": 43197,
    "start_time": "2024-03-21T17:25:05.395Z"
   },
   {
    "duration": 93,
    "start_time": "2024-03-21T17:25:48.597Z"
   },
   {
    "duration": 37886,
    "start_time": "2024-03-21T17:25:48.692Z"
   },
   {
    "duration": 8,
    "start_time": "2024-03-21T17:26:26.579Z"
   },
   {
    "duration": 8,
    "start_time": "2024-03-21T17:26:26.589Z"
   },
   {
    "duration": 13409,
    "start_time": "2024-03-21T17:26:26.599Z"
   },
   {
    "duration": 7689,
    "start_time": "2024-03-21T17:28:17.862Z"
   },
   {
    "duration": 1302,
    "start_time": "2024-03-21T17:28:25.553Z"
   },
   {
    "duration": 4,
    "start_time": "2024-03-21T17:28:26.856Z"
   },
   {
    "duration": 153,
    "start_time": "2024-03-21T17:28:26.862Z"
   },
   {
    "duration": 23,
    "start_time": "2024-03-21T17:28:27.017Z"
   },
   {
    "duration": 281,
    "start_time": "2024-03-21T17:28:27.042Z"
   },
   {
    "duration": 109,
    "start_time": "2024-03-21T17:28:27.325Z"
   },
   {
    "duration": 331,
    "start_time": "2024-03-21T17:28:27.436Z"
   },
   {
    "duration": 137,
    "start_time": "2024-03-21T17:28:27.769Z"
   },
   {
    "duration": 228,
    "start_time": "2024-03-21T17:28:27.908Z"
   },
   {
    "duration": 214,
    "start_time": "2024-03-21T17:28:28.137Z"
   },
   {
    "duration": 129,
    "start_time": "2024-03-21T17:28:28.352Z"
   },
   {
    "duration": 184,
    "start_time": "2024-03-21T17:28:28.483Z"
   },
   {
    "duration": 107,
    "start_time": "2024-03-21T17:28:28.669Z"
   },
   {
    "duration": 0,
    "start_time": "2024-03-21T17:28:28.777Z"
   },
   {
    "duration": 0,
    "start_time": "2024-03-21T17:28:28.778Z"
   },
   {
    "duration": 0,
    "start_time": "2024-03-21T17:28:28.779Z"
   },
   {
    "duration": 0,
    "start_time": "2024-03-21T17:28:28.780Z"
   },
   {
    "duration": 0,
    "start_time": "2024-03-21T17:28:28.781Z"
   },
   {
    "duration": 0,
    "start_time": "2024-03-21T17:28:28.782Z"
   },
   {
    "duration": 0,
    "start_time": "2024-03-21T17:28:28.783Z"
   },
   {
    "duration": 42434,
    "start_time": "2024-03-21T17:31:07.868Z"
   },
   {
    "duration": 7683,
    "start_time": "2024-03-21T17:33:36.992Z"
   },
   {
    "duration": 1331,
    "start_time": "2024-03-21T17:33:44.677Z"
   },
   {
    "duration": 4,
    "start_time": "2024-03-21T17:33:46.010Z"
   },
   {
    "duration": 115,
    "start_time": "2024-03-21T17:33:46.016Z"
   },
   {
    "duration": 22,
    "start_time": "2024-03-21T17:33:46.133Z"
   },
   {
    "duration": 256,
    "start_time": "2024-03-21T17:33:46.156Z"
   },
   {
    "duration": 105,
    "start_time": "2024-03-21T17:33:46.414Z"
   },
   {
    "duration": 321,
    "start_time": "2024-03-21T17:33:46.521Z"
   },
   {
    "duration": 141,
    "start_time": "2024-03-21T17:33:46.844Z"
   },
   {
    "duration": 218,
    "start_time": "2024-03-21T17:33:46.987Z"
   },
   {
    "duration": 207,
    "start_time": "2024-03-21T17:33:47.207Z"
   },
   {
    "duration": 129,
    "start_time": "2024-03-21T17:33:47.416Z"
   },
   {
    "duration": 189,
    "start_time": "2024-03-21T17:33:47.546Z"
   },
   {
    "duration": 40956,
    "start_time": "2024-03-21T17:33:47.737Z"
   },
   {
    "duration": 37603,
    "start_time": "2024-03-21T17:34:28.695Z"
   },
   {
    "duration": 3,
    "start_time": "2024-03-21T17:35:06.300Z"
   },
   {
    "duration": 14,
    "start_time": "2024-03-21T17:35:06.304Z"
   },
   {
    "duration": 13384,
    "start_time": "2024-03-21T17:35:06.319Z"
   },
   {
    "duration": 655554,
    "start_time": "2024-03-21T17:35:19.704Z"
   },
   {
    "duration": 0,
    "start_time": "2024-03-21T17:46:15.260Z"
   },
   {
    "duration": 0,
    "start_time": "2024-03-21T17:46:15.261Z"
   },
   {
    "duration": 8136,
    "start_time": "2024-03-21T17:46:18.724Z"
   },
   {
    "duration": 1414,
    "start_time": "2024-03-21T17:46:26.863Z"
   },
   {
    "duration": 4,
    "start_time": "2024-03-21T17:46:28.278Z"
   },
   {
    "duration": 136,
    "start_time": "2024-03-21T17:46:28.287Z"
   },
   {
    "duration": 25,
    "start_time": "2024-03-21T17:46:28.425Z"
   },
   {
    "duration": 313,
    "start_time": "2024-03-21T17:46:28.452Z"
   },
   {
    "duration": 108,
    "start_time": "2024-03-21T17:46:28.766Z"
   },
   {
    "duration": 330,
    "start_time": "2024-03-21T17:46:28.875Z"
   },
   {
    "duration": 150,
    "start_time": "2024-03-21T17:46:29.206Z"
   },
   {
    "duration": 278,
    "start_time": "2024-03-21T17:46:29.358Z"
   },
   {
    "duration": 228,
    "start_time": "2024-03-21T17:46:29.638Z"
   },
   {
    "duration": 128,
    "start_time": "2024-03-21T17:46:29.868Z"
   },
   {
    "duration": 209,
    "start_time": "2024-03-21T17:46:29.997Z"
   },
   {
    "duration": 35087,
    "start_time": "2024-03-21T17:46:30.208Z"
   },
   {
    "duration": 38960,
    "start_time": "2024-03-21T17:47:05.299Z"
   },
   {
    "duration": 3,
    "start_time": "2024-03-21T17:47:44.261Z"
   },
   {
    "duration": 11,
    "start_time": "2024-03-21T17:47:44.266Z"
   },
   {
    "duration": 14390,
    "start_time": "2024-03-21T17:47:44.289Z"
   },
   {
    "duration": 1544683,
    "start_time": "2024-03-21T17:47:58.681Z"
   },
   {
    "duration": 0,
    "start_time": "2024-03-21T18:13:43.365Z"
   },
   {
    "duration": 0,
    "start_time": "2024-03-21T18:13:43.367Z"
   },
   {
    "duration": 7951,
    "start_time": "2024-03-21T18:14:43.838Z"
   },
   {
    "duration": 1386,
    "start_time": "2024-03-21T18:14:51.792Z"
   },
   {
    "duration": 4,
    "start_time": "2024-03-21T18:14:53.179Z"
   },
   {
    "duration": 131,
    "start_time": "2024-03-21T18:14:53.188Z"
   },
   {
    "duration": 24,
    "start_time": "2024-03-21T18:14:53.320Z"
   },
   {
    "duration": 285,
    "start_time": "2024-03-21T18:14:53.346Z"
   },
   {
    "duration": 113,
    "start_time": "2024-03-21T18:14:53.633Z"
   },
   {
    "duration": 340,
    "start_time": "2024-03-21T18:14:53.747Z"
   },
   {
    "duration": 152,
    "start_time": "2024-03-21T18:14:54.089Z"
   },
   {
    "duration": 293,
    "start_time": "2024-03-21T18:14:54.243Z"
   },
   {
    "duration": 210,
    "start_time": "2024-03-21T18:14:54.538Z"
   },
   {
    "duration": 135,
    "start_time": "2024-03-21T18:14:54.750Z"
   },
   {
    "duration": 195,
    "start_time": "2024-03-21T18:14:54.887Z"
   },
   {
    "duration": 40302,
    "start_time": "2024-03-21T18:14:55.086Z"
   },
   {
    "duration": 38333,
    "start_time": "2024-03-21T18:15:35.390Z"
   },
   {
    "duration": 2,
    "start_time": "2024-03-21T18:16:13.725Z"
   },
   {
    "duration": 8,
    "start_time": "2024-03-21T18:16:13.729Z"
   },
   {
    "duration": 14184,
    "start_time": "2024-03-21T18:16:13.738Z"
   },
   {
    "duration": 7937,
    "start_time": "2024-03-21T18:50:22.724Z"
   },
   {
    "duration": 1369,
    "start_time": "2024-03-21T18:50:30.663Z"
   },
   {
    "duration": 4,
    "start_time": "2024-03-21T18:50:32.034Z"
   },
   {
    "duration": 192,
    "start_time": "2024-03-21T18:50:32.040Z"
   },
   {
    "duration": 25,
    "start_time": "2024-03-21T18:50:32.235Z"
   },
   {
    "duration": 283,
    "start_time": "2024-03-21T18:50:32.261Z"
   },
   {
    "duration": 106,
    "start_time": "2024-03-21T18:50:32.546Z"
   },
   {
    "duration": 331,
    "start_time": "2024-03-21T18:50:32.653Z"
   },
   {
    "duration": 139,
    "start_time": "2024-03-21T18:50:32.985Z"
   },
   {
    "duration": 250,
    "start_time": "2024-03-21T18:50:33.126Z"
   },
   {
    "duration": 221,
    "start_time": "2024-03-21T18:50:33.378Z"
   },
   {
    "duration": 125,
    "start_time": "2024-03-21T18:50:33.601Z"
   },
   {
    "duration": 213,
    "start_time": "2024-03-21T18:50:33.728Z"
   },
   {
    "duration": 40546,
    "start_time": "2024-03-21T18:50:33.944Z"
   },
   {
    "duration": 38353,
    "start_time": "2024-03-21T18:51:14.492Z"
   },
   {
    "duration": 3,
    "start_time": "2024-03-21T18:51:52.847Z"
   },
   {
    "duration": 8,
    "start_time": "2024-03-21T18:51:52.851Z"
   },
   {
    "duration": 14246,
    "start_time": "2024-03-21T18:51:52.861Z"
   },
   {
    "duration": 5,
    "start_time": "2024-03-21T18:52:07.109Z"
   },
   {
    "duration": 747250,
    "start_time": "2024-03-21T18:52:07.116Z"
   },
   {
    "duration": 0,
    "start_time": "2024-03-21T19:04:34.369Z"
   },
   {
    "duration": 8042,
    "start_time": "2024-03-21T19:06:50.266Z"
   },
   {
    "duration": 1409,
    "start_time": "2024-03-21T19:06:58.311Z"
   },
   {
    "duration": 5,
    "start_time": "2024-03-21T19:06:59.721Z"
   },
   {
    "duration": 117,
    "start_time": "2024-03-21T19:06:59.728Z"
   },
   {
    "duration": 25,
    "start_time": "2024-03-21T19:06:59.847Z"
   },
   {
    "duration": 280,
    "start_time": "2024-03-21T19:06:59.874Z"
   },
   {
    "duration": 114,
    "start_time": "2024-03-21T19:07:00.156Z"
   },
   {
    "duration": 336,
    "start_time": "2024-03-21T19:07:00.272Z"
   },
   {
    "duration": 157,
    "start_time": "2024-03-21T19:07:00.609Z"
   },
   {
    "duration": 247,
    "start_time": "2024-03-21T19:07:00.769Z"
   },
   {
    "duration": 238,
    "start_time": "2024-03-21T19:07:01.017Z"
   },
   {
    "duration": 143,
    "start_time": "2024-03-21T19:07:01.257Z"
   },
   {
    "duration": 224,
    "start_time": "2024-03-21T19:07:01.402Z"
   },
   {
    "duration": 44967,
    "start_time": "2024-03-21T19:07:01.628Z"
   },
   {
    "duration": 39174,
    "start_time": "2024-03-21T19:07:46.688Z"
   },
   {
    "duration": 4,
    "start_time": "2024-03-21T19:08:25.864Z"
   },
   {
    "duration": 17,
    "start_time": "2024-03-21T19:08:25.870Z"
   },
   {
    "duration": 13872,
    "start_time": "2024-03-21T19:08:25.889Z"
   },
   {
    "duration": 915732,
    "start_time": "2024-03-21T19:08:39.763Z"
   },
   {
    "duration": 690796,
    "start_time": "2024-03-21T19:23:55.497Z"
   },
   {
    "duration": 9,
    "start_time": "2024-03-21T19:35:26.295Z"
   },
   {
    "duration": 7861,
    "start_time": "2024-03-21T19:39:48.872Z"
   },
   {
    "duration": 1253,
    "start_time": "2024-03-21T19:39:56.736Z"
   },
   {
    "duration": 4,
    "start_time": "2024-03-21T19:39:57.991Z"
   },
   {
    "duration": 123,
    "start_time": "2024-03-21T19:39:57.997Z"
   },
   {
    "duration": 22,
    "start_time": "2024-03-21T19:39:58.122Z"
   },
   {
    "duration": 269,
    "start_time": "2024-03-21T19:39:58.145Z"
   },
   {
    "duration": 106,
    "start_time": "2024-03-21T19:39:58.416Z"
   },
   {
    "duration": 320,
    "start_time": "2024-03-21T19:39:58.524Z"
   },
   {
    "duration": 134,
    "start_time": "2024-03-21T19:39:58.846Z"
   },
   {
    "duration": 226,
    "start_time": "2024-03-21T19:39:58.982Z"
   },
   {
    "duration": 213,
    "start_time": "2024-03-21T19:39:59.209Z"
   },
   {
    "duration": 115,
    "start_time": "2024-03-21T19:39:59.424Z"
   },
   {
    "duration": 185,
    "start_time": "2024-03-21T19:39:59.540Z"
   },
   {
    "duration": 41860,
    "start_time": "2024-03-21T19:39:59.727Z"
   },
   {
    "duration": 37559,
    "start_time": "2024-03-21T19:40:41.595Z"
   },
   {
    "duration": 2,
    "start_time": "2024-03-21T19:41:19.156Z"
   },
   {
    "duration": 14,
    "start_time": "2024-03-21T19:41:19.160Z"
   },
   {
    "duration": 13538,
    "start_time": "2024-03-21T19:41:19.175Z"
   },
   {
    "duration": 336482,
    "start_time": "2024-03-21T19:41:32.714Z"
   },
   {
    "duration": 615702,
    "start_time": "2024-03-21T19:47:09.197Z"
   },
   {
    "duration": 10,
    "start_time": "2024-03-21T19:57:24.988Z"
   },
   {
    "duration": 9,
    "start_time": "2024-03-21T20:38:04.807Z"
   },
   {
    "duration": 9,
    "start_time": "2024-03-21T20:38:18.080Z"
   },
   {
    "duration": 150,
    "start_time": "2024-03-21T20:56:24.259Z"
   },
   {
    "duration": 29,
    "start_time": "2024-03-21T20:59:34.642Z"
   },
   {
    "duration": 1025,
    "start_time": "2024-03-21T21:00:09.866Z"
   },
   {
    "duration": 1153,
    "start_time": "2024-03-21T21:00:33.643Z"
   },
   {
    "duration": 13315,
    "start_time": "2024-03-23T06:01:51.025Z"
   },
   {
    "duration": 1737,
    "start_time": "2024-03-23T06:02:04.342Z"
   },
   {
    "duration": 4,
    "start_time": "2024-03-23T06:02:06.085Z"
   },
   {
    "duration": 248,
    "start_time": "2024-03-23T06:02:06.091Z"
   },
   {
    "duration": 26,
    "start_time": "2024-03-23T06:02:06.341Z"
   },
   {
    "duration": 285,
    "start_time": "2024-03-23T06:02:06.369Z"
   },
   {
    "duration": 138,
    "start_time": "2024-03-23T06:02:06.655Z"
   },
   {
    "duration": 5,
    "start_time": "2024-03-23T06:02:06.795Z"
   },
   {
    "duration": 375,
    "start_time": "2024-03-23T06:02:06.801Z"
   },
   {
    "duration": 525,
    "start_time": "2024-03-23T06:05:18.885Z"
   },
   {
    "duration": 294,
    "start_time": "2024-03-23T06:05:44.758Z"
   },
   {
    "duration": 12,
    "start_time": "2024-03-23T06:05:49.855Z"
   },
   {
    "duration": 327,
    "start_time": "2024-03-23T06:05:57.981Z"
   },
   {
    "duration": 314,
    "start_time": "2024-03-23T06:06:09.765Z"
   },
   {
    "duration": 395,
    "start_time": "2024-03-23T06:06:18.663Z"
   },
   {
    "duration": 8867,
    "start_time": "2024-03-23T06:07:35.123Z"
   },
   {
    "duration": 20,
    "start_time": "2024-03-23T06:07:43.993Z"
   },
   {
    "duration": 0,
    "start_time": "2024-03-23T06:07:44.015Z"
   },
   {
    "duration": 0,
    "start_time": "2024-03-23T06:07:44.016Z"
   },
   {
    "duration": 0,
    "start_time": "2024-03-23T06:07:44.017Z"
   },
   {
    "duration": 0,
    "start_time": "2024-03-23T06:07:44.019Z"
   },
   {
    "duration": 0,
    "start_time": "2024-03-23T06:07:44.020Z"
   },
   {
    "duration": 0,
    "start_time": "2024-03-23T06:07:44.022Z"
   },
   {
    "duration": 0,
    "start_time": "2024-03-23T06:07:44.023Z"
   },
   {
    "duration": 0,
    "start_time": "2024-03-23T06:07:44.025Z"
   },
   {
    "duration": 0,
    "start_time": "2024-03-23T06:07:44.026Z"
   },
   {
    "duration": 0,
    "start_time": "2024-03-23T06:07:44.027Z"
   },
   {
    "duration": 0,
    "start_time": "2024-03-23T06:07:44.029Z"
   },
   {
    "duration": 0,
    "start_time": "2024-03-23T06:07:44.030Z"
   },
   {
    "duration": 8631,
    "start_time": "2024-03-23T06:09:17.806Z"
   },
   {
    "duration": 4,
    "start_time": "2024-03-23T06:09:26.440Z"
   },
   {
    "duration": 13,
    "start_time": "2024-03-23T06:09:26.446Z"
   },
   {
    "duration": 109,
    "start_time": "2024-03-23T06:09:26.461Z"
   },
   {
    "duration": 38,
    "start_time": "2024-03-23T06:09:26.577Z"
   },
   {
    "duration": 318,
    "start_time": "2024-03-23T06:09:26.618Z"
   },
   {
    "duration": 120,
    "start_time": "2024-03-23T06:09:26.938Z"
   },
   {
    "duration": 26,
    "start_time": "2024-03-23T06:09:27.060Z"
   },
   {
    "duration": 346,
    "start_time": "2024-03-23T06:09:27.088Z"
   },
   {
    "duration": 159,
    "start_time": "2024-03-23T06:09:27.436Z"
   },
   {
    "duration": 308,
    "start_time": "2024-03-23T06:09:27.597Z"
   },
   {
    "duration": 292,
    "start_time": "2024-03-23T06:09:27.908Z"
   },
   {
    "duration": 187,
    "start_time": "2024-03-23T06:09:28.202Z"
   },
   {
    "duration": 218,
    "start_time": "2024-03-23T06:09:28.392Z"
   },
   {
    "duration": 8849,
    "start_time": "2024-03-23T06:10:28.196Z"
   },
   {
    "duration": 4,
    "start_time": "2024-03-23T06:10:37.048Z"
   },
   {
    "duration": 14,
    "start_time": "2024-03-23T06:10:37.054Z"
   },
   {
    "duration": 135,
    "start_time": "2024-03-23T06:10:37.074Z"
   },
   {
    "duration": 30,
    "start_time": "2024-03-23T06:10:37.212Z"
   },
   {
    "duration": 442,
    "start_time": "2024-03-23T06:10:37.244Z"
   },
   {
    "duration": 123,
    "start_time": "2024-03-23T06:10:37.688Z"
   },
   {
    "duration": 5,
    "start_time": "2024-03-23T06:10:37.813Z"
   },
   {
    "duration": 317,
    "start_time": "2024-03-23T06:10:37.820Z"
   },
   {
    "duration": 165,
    "start_time": "2024-03-23T06:10:38.140Z"
   },
   {
    "duration": 284,
    "start_time": "2024-03-23T06:10:38.307Z"
   },
   {
    "duration": 252,
    "start_time": "2024-03-23T06:10:38.592Z"
   },
   {
    "duration": 163,
    "start_time": "2024-03-23T06:10:38.845Z"
   },
   {
    "duration": 214,
    "start_time": "2024-03-23T06:10:39.011Z"
   },
   {
    "duration": 152,
    "start_time": "2024-03-23T06:15:56.549Z"
   },
   {
    "duration": 172,
    "start_time": "2024-03-23T06:17:41.115Z"
   },
   {
    "duration": 160,
    "start_time": "2024-03-23T06:17:55.496Z"
   },
   {
    "duration": 147,
    "start_time": "2024-03-23T06:18:34.680Z"
   },
   {
    "duration": 8908,
    "start_time": "2024-03-23T06:18:51.000Z"
   },
   {
    "duration": 4,
    "start_time": "2024-03-23T06:18:59.911Z"
   },
   {
    "duration": 7,
    "start_time": "2024-03-23T06:18:59.917Z"
   },
   {
    "duration": 270,
    "start_time": "2024-03-23T06:18:59.925Z"
   },
   {
    "duration": 25,
    "start_time": "2024-03-23T06:19:00.198Z"
   },
   {
    "duration": 346,
    "start_time": "2024-03-23T06:19:00.225Z"
   },
   {
    "duration": 127,
    "start_time": "2024-03-23T06:19:00.575Z"
   },
   {
    "duration": 5,
    "start_time": "2024-03-23T06:19:00.704Z"
   },
   {
    "duration": 398,
    "start_time": "2024-03-23T06:19:00.710Z"
   },
   {
    "duration": 176,
    "start_time": "2024-03-23T06:19:01.110Z"
   },
   {
    "duration": 8995,
    "start_time": "2024-03-23T06:22:24.871Z"
   },
   {
    "duration": 19,
    "start_time": "2024-03-23T06:22:33.869Z"
   },
   {
    "duration": 21,
    "start_time": "2024-03-23T06:22:33.896Z"
   },
   {
    "duration": 124,
    "start_time": "2024-03-23T06:22:33.919Z"
   },
   {
    "duration": 39,
    "start_time": "2024-03-23T06:22:34.046Z"
   },
   {
    "duration": 316,
    "start_time": "2024-03-23T06:22:34.086Z"
   },
   {
    "duration": 119,
    "start_time": "2024-03-23T06:22:34.404Z"
   },
   {
    "duration": 19,
    "start_time": "2024-03-23T06:22:34.524Z"
   },
   {
    "duration": 369,
    "start_time": "2024-03-23T06:22:34.545Z"
   },
   {
    "duration": 294,
    "start_time": "2024-03-23T06:22:34.915Z"
   },
   {
    "duration": 312,
    "start_time": "2024-03-23T06:22:35.210Z"
   },
   {
    "duration": 291,
    "start_time": "2024-03-23T06:22:35.524Z"
   },
   {
    "duration": 197,
    "start_time": "2024-03-23T06:22:35.817Z"
   },
   {
    "duration": 225,
    "start_time": "2024-03-23T06:22:36.017Z"
   },
   {
    "duration": 8854,
    "start_time": "2024-03-23T06:29:53.827Z"
   },
   {
    "duration": 9,
    "start_time": "2024-03-23T06:30:02.687Z"
   },
   {
    "duration": 72,
    "start_time": "2024-03-23T06:30:02.698Z"
   },
   {
    "duration": 140,
    "start_time": "2024-03-23T06:30:02.774Z"
   },
   {
    "duration": 26,
    "start_time": "2024-03-23T06:30:02.916Z"
   },
   {
    "duration": 344,
    "start_time": "2024-03-23T06:30:02.943Z"
   },
   {
    "duration": 116,
    "start_time": "2024-03-23T06:30:03.291Z"
   },
   {
    "duration": 5,
    "start_time": "2024-03-23T06:30:03.408Z"
   },
   {
    "duration": 338,
    "start_time": "2024-03-23T06:30:03.415Z"
   },
   {
    "duration": 169,
    "start_time": "2024-03-23T06:30:03.755Z"
   },
   {
    "duration": 425,
    "start_time": "2024-03-23T06:30:03.926Z"
   },
   {
    "duration": 281,
    "start_time": "2024-03-23T06:30:04.353Z"
   },
   {
    "duration": 182,
    "start_time": "2024-03-23T06:30:04.636Z"
   },
   {
    "duration": 222,
    "start_time": "2024-03-23T06:30:04.820Z"
   },
   {
    "duration": 8921,
    "start_time": "2024-03-23T06:35:18.317Z"
   },
   {
    "duration": 5,
    "start_time": "2024-03-23T06:35:27.241Z"
   },
   {
    "duration": 21,
    "start_time": "2024-03-23T06:35:27.247Z"
   },
   {
    "duration": 158,
    "start_time": "2024-03-23T06:35:27.270Z"
   },
   {
    "duration": 25,
    "start_time": "2024-03-23T06:35:27.431Z"
   },
   {
    "duration": 283,
    "start_time": "2024-03-23T06:35:27.457Z"
   },
   {
    "duration": 116,
    "start_time": "2024-03-23T06:35:27.742Z"
   },
   {
    "duration": 25,
    "start_time": "2024-03-23T06:35:27.860Z"
   },
   {
    "duration": 337,
    "start_time": "2024-03-23T06:35:27.887Z"
   },
   {
    "duration": 174,
    "start_time": "2024-03-23T06:35:28.227Z"
   },
   {
    "duration": 292,
    "start_time": "2024-03-23T06:35:28.403Z"
   },
   {
    "duration": 394,
    "start_time": "2024-03-23T06:35:28.697Z"
   },
   {
    "duration": 165,
    "start_time": "2024-03-23T06:35:29.095Z"
   },
   {
    "duration": 234,
    "start_time": "2024-03-23T06:35:29.271Z"
   },
   {
    "duration": 9115,
    "start_time": "2024-03-23T06:37:25.704Z"
   },
   {
    "duration": 7,
    "start_time": "2024-03-23T06:37:34.822Z"
   },
   {
    "duration": 15,
    "start_time": "2024-03-23T06:37:34.831Z"
   },
   {
    "duration": 140,
    "start_time": "2024-03-23T06:37:34.849Z"
   },
   {
    "duration": 31,
    "start_time": "2024-03-23T06:37:34.992Z"
   },
   {
    "duration": 315,
    "start_time": "2024-03-23T06:37:35.025Z"
   },
   {
    "duration": 134,
    "start_time": "2024-03-23T06:37:35.342Z"
   },
   {
    "duration": 7,
    "start_time": "2024-03-23T06:37:35.478Z"
   },
   {
    "duration": 328,
    "start_time": "2024-03-23T06:37:35.499Z"
   },
   {
    "duration": 171,
    "start_time": "2024-03-23T06:37:35.829Z"
   },
   {
    "duration": 290,
    "start_time": "2024-03-23T06:37:36.002Z"
   },
   {
    "duration": 290,
    "start_time": "2024-03-23T06:37:36.294Z"
   },
   {
    "duration": 292,
    "start_time": "2024-03-23T06:37:36.586Z"
   },
   {
    "duration": 341,
    "start_time": "2024-03-23T06:37:36.882Z"
   },
   {
    "duration": 9105,
    "start_time": "2024-03-23T06:37:51.847Z"
   },
   {
    "duration": 1532,
    "start_time": "2024-03-23T06:38:00.955Z"
   },
   {
    "duration": 6,
    "start_time": "2024-03-23T06:38:02.489Z"
   },
   {
    "duration": 201,
    "start_time": "2024-03-23T06:38:02.497Z"
   },
   {
    "duration": 29,
    "start_time": "2024-03-23T06:38:02.700Z"
   },
   {
    "duration": 320,
    "start_time": "2024-03-23T06:38:02.731Z"
   },
   {
    "duration": 145,
    "start_time": "2024-03-23T06:38:03.053Z"
   },
   {
    "duration": 4,
    "start_time": "2024-03-23T06:38:03.200Z"
   },
   {
    "duration": 406,
    "start_time": "2024-03-23T06:38:03.206Z"
   },
   {
    "duration": 166,
    "start_time": "2024-03-23T06:38:03.613Z"
   },
   {
    "duration": 273,
    "start_time": "2024-03-23T06:38:03.781Z"
   },
   {
    "duration": 297,
    "start_time": "2024-03-23T06:38:04.056Z"
   },
   {
    "duration": 171,
    "start_time": "2024-03-23T06:38:04.355Z"
   },
   {
    "duration": 231,
    "start_time": "2024-03-23T06:38:04.529Z"
   },
   {
    "duration": 22,
    "start_time": "2024-03-23T06:38:04.761Z"
   },
   {
    "duration": 46900,
    "start_time": "2024-03-23T06:38:04.785Z"
   },
   {
    "duration": 43658,
    "start_time": "2024-03-23T06:38:51.691Z"
   },
   {
    "duration": 3,
    "start_time": "2024-03-23T06:39:35.351Z"
   },
   {
    "duration": 32,
    "start_time": "2024-03-23T06:39:35.356Z"
   },
   {
    "duration": 15672,
    "start_time": "2024-03-23T06:39:35.390Z"
   },
   {
    "duration": 7690,
    "start_time": "2024-03-23T06:54:46.457Z"
   },
   {
    "duration": 1259,
    "start_time": "2024-03-23T06:54:54.149Z"
   },
   {
    "duration": 3,
    "start_time": "2024-03-23T06:54:55.409Z"
   },
   {
    "duration": 115,
    "start_time": "2024-03-23T06:54:55.414Z"
   },
   {
    "duration": 21,
    "start_time": "2024-03-23T06:54:55.531Z"
   },
   {
    "duration": 250,
    "start_time": "2024-03-23T06:54:55.554Z"
   },
   {
    "duration": 101,
    "start_time": "2024-03-23T06:54:55.805Z"
   },
   {
    "duration": 3,
    "start_time": "2024-03-23T06:54:55.908Z"
   },
   {
    "duration": 355,
    "start_time": "2024-03-23T06:54:55.913Z"
   },
   {
    "duration": 137,
    "start_time": "2024-03-23T06:54:56.277Z"
   },
   {
    "duration": 242,
    "start_time": "2024-03-23T06:54:56.415Z"
   },
   {
    "duration": 249,
    "start_time": "2024-03-23T06:54:56.658Z"
   },
   {
    "duration": 140,
    "start_time": "2024-03-23T06:54:56.908Z"
   },
   {
    "duration": 199,
    "start_time": "2024-03-23T06:54:57.051Z"
   },
   {
    "duration": 3,
    "start_time": "2024-03-23T06:54:57.251Z"
   },
   {
    "duration": 45836,
    "start_time": "2024-03-23T06:54:57.255Z"
   },
   {
    "duration": 38288,
    "start_time": "2024-03-23T06:55:43.175Z"
   },
   {
    "duration": 12,
    "start_time": "2024-03-23T06:56:21.465Z"
   },
   {
    "duration": 10,
    "start_time": "2024-03-23T06:56:21.488Z"
   },
   {
    "duration": 13406,
    "start_time": "2024-03-23T06:56:21.500Z"
   },
   {
    "duration": 8136,
    "start_time": "2024-03-23T07:01:16.762Z"
   },
   {
    "duration": 1286,
    "start_time": "2024-03-23T07:01:24.900Z"
   },
   {
    "duration": 7,
    "start_time": "2024-03-23T07:01:26.187Z"
   },
   {
    "duration": 124,
    "start_time": "2024-03-23T07:01:26.196Z"
   },
   {
    "duration": 24,
    "start_time": "2024-03-23T07:01:26.323Z"
   },
   {
    "duration": 284,
    "start_time": "2024-03-23T07:01:26.349Z"
   },
   {
    "duration": 109,
    "start_time": "2024-03-23T07:01:26.634Z"
   },
   {
    "duration": 5,
    "start_time": "2024-03-23T07:01:26.745Z"
   },
   {
    "duration": 395,
    "start_time": "2024-03-23T07:01:26.751Z"
   },
   {
    "duration": 161,
    "start_time": "2024-03-23T07:01:27.148Z"
   },
   {
    "duration": 296,
    "start_time": "2024-03-23T07:01:27.311Z"
   },
   {
    "duration": 264,
    "start_time": "2024-03-23T07:01:27.608Z"
   },
   {
    "duration": 163,
    "start_time": "2024-03-23T07:01:27.874Z"
   },
   {
    "duration": 229,
    "start_time": "2024-03-23T07:01:28.040Z"
   },
   {
    "duration": 7,
    "start_time": "2024-03-23T07:01:28.273Z"
   },
   {
    "duration": 44904,
    "start_time": "2024-03-23T07:01:28.287Z"
   },
   {
    "duration": 38109,
    "start_time": "2024-03-23T07:02:13.193Z"
   },
   {
    "duration": 3,
    "start_time": "2024-03-23T07:02:51.303Z"
   },
   {
    "duration": 13,
    "start_time": "2024-03-23T07:02:51.308Z"
   },
   {
    "duration": 13310,
    "start_time": "2024-03-23T07:02:51.323Z"
   },
   {
    "duration": 7820,
    "start_time": "2024-03-23T07:03:18.396Z"
   },
   {
    "duration": 1283,
    "start_time": "2024-03-23T07:03:26.218Z"
   },
   {
    "duration": 4,
    "start_time": "2024-03-23T07:03:27.503Z"
   },
   {
    "duration": 142,
    "start_time": "2024-03-23T07:03:27.508Z"
   },
   {
    "duration": 28,
    "start_time": "2024-03-23T07:03:27.652Z"
   },
   {
    "duration": 253,
    "start_time": "2024-03-23T07:03:27.687Z"
   },
   {
    "duration": 114,
    "start_time": "2024-03-23T07:03:27.941Z"
   },
   {
    "duration": 5,
    "start_time": "2024-03-23T07:03:28.056Z"
   },
   {
    "duration": 377,
    "start_time": "2024-03-23T07:03:28.062Z"
   },
   {
    "duration": 164,
    "start_time": "2024-03-23T07:03:28.441Z"
   },
   {
    "duration": 277,
    "start_time": "2024-03-23T07:03:28.607Z"
   },
   {
    "duration": 246,
    "start_time": "2024-03-23T07:03:28.888Z"
   },
   {
    "duration": 156,
    "start_time": "2024-03-23T07:03:29.136Z"
   },
   {
    "duration": 225,
    "start_time": "2024-03-23T07:03:29.295Z"
   },
   {
    "duration": 3,
    "start_time": "2024-03-23T07:03:29.521Z"
   },
   {
    "duration": 24745,
    "start_time": "2024-03-23T07:03:29.526Z"
   },
   {
    "duration": 38160,
    "start_time": "2024-03-23T07:03:54.272Z"
   },
   {
    "duration": 2,
    "start_time": "2024-03-23T07:04:32.434Z"
   },
   {
    "duration": 20,
    "start_time": "2024-03-23T07:04:32.438Z"
   },
   {
    "duration": 13508,
    "start_time": "2024-03-23T07:04:32.460Z"
   },
   {
    "duration": 4138192,
    "start_time": "2024-03-23T07:04:45.974Z"
   },
   {
    "duration": 0,
    "start_time": "2024-03-23T08:13:44.169Z"
   },
   {
    "duration": 0,
    "start_time": "2024-03-23T08:13:44.171Z"
   },
   {
    "duration": 0,
    "start_time": "2024-03-23T08:13:44.171Z"
   },
   {
    "duration": 9352,
    "start_time": "2024-03-23T08:13:47.436Z"
   },
   {
    "duration": 1569,
    "start_time": "2024-03-23T08:13:56.791Z"
   },
   {
    "duration": 5,
    "start_time": "2024-03-23T08:13:58.362Z"
   },
   {
    "duration": 157,
    "start_time": "2024-03-23T08:13:58.369Z"
   },
   {
    "duration": 27,
    "start_time": "2024-03-23T08:13:58.528Z"
   },
   {
    "duration": 333,
    "start_time": "2024-03-23T08:13:58.557Z"
   },
   {
    "duration": 122,
    "start_time": "2024-03-23T08:13:58.891Z"
   },
   {
    "duration": 6,
    "start_time": "2024-03-23T08:13:59.015Z"
   },
   {
    "duration": 427,
    "start_time": "2024-03-23T08:13:59.022Z"
   },
   {
    "duration": 172,
    "start_time": "2024-03-23T08:13:59.450Z"
   },
   {
    "duration": 292,
    "start_time": "2024-03-23T08:13:59.624Z"
   },
   {
    "duration": 326,
    "start_time": "2024-03-23T08:13:59.919Z"
   },
   {
    "duration": 172,
    "start_time": "2024-03-23T08:14:00.246Z"
   },
   {
    "duration": 243,
    "start_time": "2024-03-23T08:14:00.422Z"
   },
   {
    "duration": 25515,
    "start_time": "2024-03-23T08:14:00.666Z"
   },
   {
    "duration": 42493,
    "start_time": "2024-03-23T08:14:26.195Z"
   },
   {
    "duration": 9,
    "start_time": "2024-03-23T08:15:08.690Z"
   },
   {
    "duration": 13,
    "start_time": "2024-03-23T08:15:08.700Z"
   },
   {
    "duration": 14547,
    "start_time": "2024-03-23T08:15:08.715Z"
   },
   {
    "duration": 99464,
    "start_time": "2024-03-23T08:15:23.263Z"
   },
   {
    "duration": 0,
    "start_time": "2024-03-23T08:17:02.729Z"
   },
   {
    "duration": 0,
    "start_time": "2024-03-23T08:17:02.730Z"
   },
   {
    "duration": 0,
    "start_time": "2024-03-23T08:17:02.731Z"
   },
   {
    "duration": 10270,
    "start_time": "2024-03-23T10:47:04.279Z"
   },
   {
    "duration": 1401,
    "start_time": "2024-03-23T10:47:14.551Z"
   },
   {
    "duration": 4,
    "start_time": "2024-03-23T10:47:15.955Z"
   },
   {
    "duration": 150,
    "start_time": "2024-03-23T10:47:15.961Z"
   },
   {
    "duration": 23,
    "start_time": "2024-03-23T10:47:16.113Z"
   },
   {
    "duration": 232,
    "start_time": "2024-03-23T10:47:16.138Z"
   },
   {
    "duration": 114,
    "start_time": "2024-03-23T10:47:16.372Z"
   },
   {
    "duration": 4,
    "start_time": "2024-03-23T10:47:16.487Z"
   },
   {
    "duration": 319,
    "start_time": "2024-03-23T10:47:16.493Z"
   },
   {
    "duration": 142,
    "start_time": "2024-03-23T10:47:16.815Z"
   },
   {
    "duration": 217,
    "start_time": "2024-03-23T10:47:16.958Z"
   },
   {
    "duration": 227,
    "start_time": "2024-03-23T10:47:17.177Z"
   },
   {
    "duration": 153,
    "start_time": "2024-03-23T10:47:17.407Z"
   },
   {
    "duration": 192,
    "start_time": "2024-03-23T10:47:17.562Z"
   },
   {
    "duration": 24790,
    "start_time": "2024-03-23T10:47:17.756Z"
   },
   {
    "duration": 33496,
    "start_time": "2024-03-23T10:47:42.549Z"
   },
   {
    "duration": 3,
    "start_time": "2024-03-23T10:48:16.047Z"
   },
   {
    "duration": 18,
    "start_time": "2024-03-23T10:48:16.052Z"
   },
   {
    "duration": 11375,
    "start_time": "2024-03-23T10:48:16.072Z"
   },
   {
    "duration": 657105,
    "start_time": "2024-03-23T10:48:27.449Z"
   },
   {
    "duration": 5646610,
    "start_time": "2024-03-23T10:59:24.558Z"
   },
   {
    "duration": 0,
    "start_time": "2024-03-23T12:33:31.170Z"
   },
   {
    "duration": 0,
    "start_time": "2024-03-23T12:33:31.172Z"
   },
   {
    "duration": 7327,
    "start_time": "2024-03-23T12:36:32.048Z"
   },
   {
    "duration": 1228,
    "start_time": "2024-03-23T12:36:39.378Z"
   },
   {
    "duration": 4,
    "start_time": "2024-03-23T12:36:40.607Z"
   },
   {
    "duration": 99,
    "start_time": "2024-03-23T12:36:40.612Z"
   },
   {
    "duration": 24,
    "start_time": "2024-03-23T12:36:40.712Z"
   },
   {
    "duration": 271,
    "start_time": "2024-03-23T12:36:40.738Z"
   },
   {
    "duration": 92,
    "start_time": "2024-03-23T12:36:41.010Z"
   },
   {
    "duration": 3,
    "start_time": "2024-03-23T12:36:41.104Z"
   },
   {
    "duration": 342,
    "start_time": "2024-03-23T12:36:41.109Z"
   },
   {
    "duration": 151,
    "start_time": "2024-03-23T12:36:41.455Z"
   },
   {
    "duration": 223,
    "start_time": "2024-03-23T12:36:41.608Z"
   },
   {
    "duration": 222,
    "start_time": "2024-03-23T12:36:41.833Z"
   },
   {
    "duration": 155,
    "start_time": "2024-03-23T12:36:42.056Z"
   },
   {
    "duration": 199,
    "start_time": "2024-03-23T12:36:42.213Z"
   },
   {
    "duration": 25739,
    "start_time": "2024-03-23T12:36:42.414Z"
   },
   {
    "duration": 34883,
    "start_time": "2024-03-23T12:37:08.159Z"
   },
   {
    "duration": 3,
    "start_time": "2024-03-23T12:37:43.043Z"
   },
   {
    "duration": 22,
    "start_time": "2024-03-23T12:37:43.049Z"
   },
   {
    "duration": 12054,
    "start_time": "2024-03-23T12:37:43.073Z"
   },
   {
    "duration": 310320,
    "start_time": "2024-03-23T12:37:55.128Z"
   },
   {
    "duration": 164901,
    "start_time": "2024-03-23T12:43:05.449Z"
   },
   {
    "duration": 8,
    "start_time": "2024-03-23T12:45:50.351Z"
   },
   {
    "duration": 47291,
    "start_time": "2024-03-23T12:45:50.360Z"
   },
   {
    "duration": 11578,
    "start_time": "2024-03-24T11:49:27.760Z"
   },
   {
    "duration": 1517,
    "start_time": "2024-03-24T11:49:39.340Z"
   },
   {
    "duration": 4,
    "start_time": "2024-03-24T11:49:40.859Z"
   },
   {
    "duration": 150,
    "start_time": "2024-03-24T11:49:40.865Z"
   },
   {
    "duration": 24,
    "start_time": "2024-03-24T11:49:41.017Z"
   },
   {
    "duration": 269,
    "start_time": "2024-03-24T11:49:41.042Z"
   },
   {
    "duration": 108,
    "start_time": "2024-03-24T11:49:41.312Z"
   },
   {
    "duration": 5,
    "start_time": "2024-03-24T11:49:41.422Z"
   },
   {
    "duration": 348,
    "start_time": "2024-03-24T11:49:41.428Z"
   },
   {
    "duration": 143,
    "start_time": "2024-03-24T11:49:41.778Z"
   },
   {
    "duration": 246,
    "start_time": "2024-03-24T11:49:41.923Z"
   },
   {
    "duration": 245,
    "start_time": "2024-03-24T11:49:42.171Z"
   },
   {
    "duration": 158,
    "start_time": "2024-03-24T11:49:42.418Z"
   },
   {
    "duration": 202,
    "start_time": "2024-03-24T11:49:42.579Z"
   },
   {
    "duration": 131,
    "start_time": "2024-03-24T11:49:42.783Z"
   },
   {
    "duration": 0,
    "start_time": "2024-03-24T11:49:42.916Z"
   },
   {
    "duration": 0,
    "start_time": "2024-03-24T11:49:42.918Z"
   },
   {
    "duration": 0,
    "start_time": "2024-03-24T11:49:42.919Z"
   },
   {
    "duration": 0,
    "start_time": "2024-03-24T11:49:42.920Z"
   },
   {
    "duration": 0,
    "start_time": "2024-03-24T11:49:42.922Z"
   },
   {
    "duration": 0,
    "start_time": "2024-03-24T11:49:42.923Z"
   },
   {
    "duration": 0,
    "start_time": "2024-03-24T11:49:42.925Z"
   },
   {
    "duration": 0,
    "start_time": "2024-03-24T11:49:42.926Z"
   },
   {
    "duration": 0,
    "start_time": "2024-03-24T11:49:42.928Z"
   },
   {
    "duration": 26,
    "start_time": "2024-03-24T11:50:09.505Z"
   },
   {
    "duration": 7624,
    "start_time": "2024-03-24T11:50:26.305Z"
   },
   {
    "duration": 1327,
    "start_time": "2024-03-24T11:50:33.931Z"
   },
   {
    "duration": 4,
    "start_time": "2024-03-24T11:50:35.260Z"
   },
   {
    "duration": 93,
    "start_time": "2024-03-24T11:50:35.267Z"
   },
   {
    "duration": 26,
    "start_time": "2024-03-24T11:50:35.362Z"
   },
   {
    "duration": 284,
    "start_time": "2024-03-24T11:50:35.390Z"
   },
   {
    "duration": 109,
    "start_time": "2024-03-24T11:50:35.677Z"
   },
   {
    "duration": 5,
    "start_time": "2024-03-24T11:50:35.787Z"
   },
   {
    "duration": 408,
    "start_time": "2024-03-24T11:50:35.794Z"
   },
   {
    "duration": 144,
    "start_time": "2024-03-24T11:50:36.205Z"
   },
   {
    "duration": 240,
    "start_time": "2024-03-24T11:50:36.351Z"
   },
   {
    "duration": 234,
    "start_time": "2024-03-24T11:50:36.593Z"
   },
   {
    "duration": 171,
    "start_time": "2024-03-24T11:50:36.828Z"
   },
   {
    "duration": 217,
    "start_time": "2024-03-24T11:50:37.000Z"
   },
   {
    "duration": 149,
    "start_time": "2024-03-24T11:50:37.219Z"
   },
   {
    "duration": 0,
    "start_time": "2024-03-24T11:50:37.370Z"
   },
   {
    "duration": 0,
    "start_time": "2024-03-24T11:50:37.371Z"
   },
   {
    "duration": 0,
    "start_time": "2024-03-24T11:50:37.372Z"
   },
   {
    "duration": 0,
    "start_time": "2024-03-24T11:50:37.373Z"
   },
   {
    "duration": 0,
    "start_time": "2024-03-24T11:50:37.374Z"
   },
   {
    "duration": 0,
    "start_time": "2024-03-24T11:50:37.375Z"
   },
   {
    "duration": 0,
    "start_time": "2024-03-24T11:50:37.377Z"
   },
   {
    "duration": 0,
    "start_time": "2024-03-24T11:50:37.378Z"
   },
   {
    "duration": 0,
    "start_time": "2024-03-24T11:50:37.379Z"
   },
   {
    "duration": 7641,
    "start_time": "2024-03-24T11:51:03.119Z"
   },
   {
    "duration": 1281,
    "start_time": "2024-03-24T11:51:10.762Z"
   },
   {
    "duration": 4,
    "start_time": "2024-03-24T11:51:12.044Z"
   },
   {
    "duration": 102,
    "start_time": "2024-03-24T11:51:12.050Z"
   },
   {
    "duration": 28,
    "start_time": "2024-03-24T11:51:12.153Z"
   },
   {
    "duration": 298,
    "start_time": "2024-03-24T11:51:12.183Z"
   },
   {
    "duration": 108,
    "start_time": "2024-03-24T11:51:12.483Z"
   },
   {
    "duration": 5,
    "start_time": "2024-03-24T11:51:12.592Z"
   },
   {
    "duration": 360,
    "start_time": "2024-03-24T11:51:12.598Z"
   },
   {
    "duration": 143,
    "start_time": "2024-03-24T11:51:12.961Z"
   },
   {
    "duration": 262,
    "start_time": "2024-03-24T11:51:13.106Z"
   },
   {
    "duration": 250,
    "start_time": "2024-03-24T11:51:13.370Z"
   },
   {
    "duration": 167,
    "start_time": "2024-03-24T11:51:13.621Z"
   },
   {
    "duration": 209,
    "start_time": "2024-03-24T11:51:13.789Z"
   },
   {
    "duration": 144,
    "start_time": "2024-03-24T11:51:14.000Z"
   },
   {
    "duration": 0,
    "start_time": "2024-03-24T11:51:14.146Z"
   },
   {
    "duration": 0,
    "start_time": "2024-03-24T11:51:14.148Z"
   },
   {
    "duration": 0,
    "start_time": "2024-03-24T11:51:14.159Z"
   },
   {
    "duration": 0,
    "start_time": "2024-03-24T11:51:14.160Z"
   },
   {
    "duration": 0,
    "start_time": "2024-03-24T11:51:14.162Z"
   },
   {
    "duration": 0,
    "start_time": "2024-03-24T11:51:14.163Z"
   },
   {
    "duration": 0,
    "start_time": "2024-03-24T11:51:14.165Z"
   },
   {
    "duration": 0,
    "start_time": "2024-03-24T11:51:14.166Z"
   },
   {
    "duration": 0,
    "start_time": "2024-03-24T11:51:14.169Z"
   },
   {
    "duration": 7602,
    "start_time": "2024-03-24T11:57:32.601Z"
   },
   {
    "duration": 1286,
    "start_time": "2024-03-24T11:57:40.205Z"
   },
   {
    "duration": 4,
    "start_time": "2024-03-24T11:57:41.493Z"
   },
   {
    "duration": 127,
    "start_time": "2024-03-24T11:57:41.498Z"
   },
   {
    "duration": 23,
    "start_time": "2024-03-24T11:57:41.626Z"
   },
   {
    "duration": 291,
    "start_time": "2024-03-24T11:57:41.650Z"
   },
   {
    "duration": 104,
    "start_time": "2024-03-24T11:57:41.943Z"
   },
   {
    "duration": 13,
    "start_time": "2024-03-24T11:57:42.049Z"
   },
   {
    "duration": 357,
    "start_time": "2024-03-24T11:57:42.063Z"
   },
   {
    "duration": 143,
    "start_time": "2024-03-24T11:57:42.423Z"
   },
   {
    "duration": 246,
    "start_time": "2024-03-24T11:57:42.568Z"
   },
   {
    "duration": 242,
    "start_time": "2024-03-24T11:57:42.816Z"
   },
   {
    "duration": 161,
    "start_time": "2024-03-24T11:57:43.060Z"
   },
   {
    "duration": 205,
    "start_time": "2024-03-24T11:57:43.223Z"
   },
   {
    "duration": 136,
    "start_time": "2024-03-24T11:57:43.430Z"
   },
   {
    "duration": 0,
    "start_time": "2024-03-24T11:57:43.567Z"
   },
   {
    "duration": 0,
    "start_time": "2024-03-24T11:57:43.568Z"
   },
   {
    "duration": 0,
    "start_time": "2024-03-24T11:57:43.569Z"
   },
   {
    "duration": 0,
    "start_time": "2024-03-24T11:57:43.570Z"
   },
   {
    "duration": 0,
    "start_time": "2024-03-24T11:57:43.571Z"
   },
   {
    "duration": 0,
    "start_time": "2024-03-24T11:57:43.572Z"
   },
   {
    "duration": 0,
    "start_time": "2024-03-24T11:57:43.573Z"
   },
   {
    "duration": 0,
    "start_time": "2024-03-24T11:57:43.574Z"
   },
   {
    "duration": 0,
    "start_time": "2024-03-24T11:57:43.575Z"
   },
   {
    "duration": 7536,
    "start_time": "2024-03-24T14:00:42.298Z"
   },
   {
    "duration": 1497,
    "start_time": "2024-03-24T14:00:49.836Z"
   },
   {
    "duration": 5,
    "start_time": "2024-03-24T14:00:51.335Z"
   },
   {
    "duration": 117,
    "start_time": "2024-03-24T14:00:51.342Z"
   },
   {
    "duration": 26,
    "start_time": "2024-03-24T14:00:51.461Z"
   },
   {
    "duration": 280,
    "start_time": "2024-03-24T14:00:51.488Z"
   },
   {
    "duration": 102,
    "start_time": "2024-03-24T14:00:51.770Z"
   },
   {
    "duration": 6,
    "start_time": "2024-03-24T14:00:51.874Z"
   },
   {
    "duration": 380,
    "start_time": "2024-03-24T14:00:51.881Z"
   },
   {
    "duration": 143,
    "start_time": "2024-03-24T14:00:52.264Z"
   },
   {
    "duration": 240,
    "start_time": "2024-03-24T14:00:52.408Z"
   },
   {
    "duration": 239,
    "start_time": "2024-03-24T14:00:52.649Z"
   },
   {
    "duration": 156,
    "start_time": "2024-03-24T14:00:52.889Z"
   },
   {
    "duration": 213,
    "start_time": "2024-03-24T14:00:53.046Z"
   },
   {
    "duration": 141,
    "start_time": "2024-03-24T14:00:53.260Z"
   },
   {
    "duration": 0,
    "start_time": "2024-03-24T14:00:53.403Z"
   },
   {
    "duration": 0,
    "start_time": "2024-03-24T14:00:53.404Z"
   },
   {
    "duration": 0,
    "start_time": "2024-03-24T14:00:53.405Z"
   },
   {
    "duration": 0,
    "start_time": "2024-03-24T14:00:53.407Z"
   },
   {
    "duration": 0,
    "start_time": "2024-03-24T14:00:53.408Z"
   },
   {
    "duration": 0,
    "start_time": "2024-03-24T14:00:53.409Z"
   },
   {
    "duration": 0,
    "start_time": "2024-03-24T14:00:53.410Z"
   },
   {
    "duration": 0,
    "start_time": "2024-03-24T14:00:53.411Z"
   },
   {
    "duration": 0,
    "start_time": "2024-03-24T14:00:53.413Z"
   },
   {
    "duration": 22,
    "start_time": "2024-03-24T14:01:47.290Z"
   },
   {
    "duration": 10018,
    "start_time": "2024-03-24T14:03:08.942Z"
   },
   {
    "duration": 16901,
    "start_time": "2024-03-24T14:04:26.064Z"
   },
   {
    "duration": 7619,
    "start_time": "2024-03-24T14:17:14.179Z"
   },
   {
    "duration": 1264,
    "start_time": "2024-03-24T14:17:21.801Z"
   },
   {
    "duration": 5,
    "start_time": "2024-03-24T14:17:23.067Z"
   },
   {
    "duration": 111,
    "start_time": "2024-03-24T14:17:23.074Z"
   },
   {
    "duration": 23,
    "start_time": "2024-03-24T14:17:23.187Z"
   },
   {
    "duration": 288,
    "start_time": "2024-03-24T14:17:23.212Z"
   },
   {
    "duration": 106,
    "start_time": "2024-03-24T14:17:23.502Z"
   },
   {
    "duration": 5,
    "start_time": "2024-03-24T14:17:23.609Z"
   },
   {
    "duration": 367,
    "start_time": "2024-03-24T14:17:23.616Z"
   },
   {
    "duration": 148,
    "start_time": "2024-03-24T14:17:23.987Z"
   },
   {
    "duration": 252,
    "start_time": "2024-03-24T14:17:24.137Z"
   },
   {
    "duration": 251,
    "start_time": "2024-03-24T14:17:24.391Z"
   },
   {
    "duration": 155,
    "start_time": "2024-03-24T14:17:24.644Z"
   },
   {
    "duration": 209,
    "start_time": "2024-03-24T14:17:24.801Z"
   },
   {
    "duration": 10150,
    "start_time": "2024-03-24T14:17:25.012Z"
   },
   {
    "duration": 8688,
    "start_time": "2024-03-24T14:17:35.166Z"
   },
   {
    "duration": 3,
    "start_time": "2024-03-24T14:17:43.858Z"
   },
   {
    "duration": 13,
    "start_time": "2024-03-24T14:17:43.863Z"
   },
   {
    "duration": 12671,
    "start_time": "2024-03-24T14:17:43.877Z"
   },
   {
    "duration": 34512,
    "start_time": "2024-03-24T14:17:56.549Z"
   },
   {
    "duration": 34999,
    "start_time": "2024-03-24T14:18:31.063Z"
   },
   {
    "duration": 8,
    "start_time": "2024-03-24T14:19:06.063Z"
   },
   {
    "duration": 8994,
    "start_time": "2024-03-24T14:19:06.073Z"
   },
   {
    "duration": 7636,
    "start_time": "2024-03-24T14:26:36.631Z"
   },
   {
    "duration": 1343,
    "start_time": "2024-03-24T14:26:44.269Z"
   },
   {
    "duration": 4,
    "start_time": "2024-03-24T14:26:45.613Z"
   },
   {
    "duration": 111,
    "start_time": "2024-03-24T14:26:45.619Z"
   },
   {
    "duration": 24,
    "start_time": "2024-03-24T14:26:45.732Z"
   },
   {
    "duration": 266,
    "start_time": "2024-03-24T14:26:45.758Z"
   },
   {
    "duration": 107,
    "start_time": "2024-03-24T14:26:46.026Z"
   },
   {
    "duration": 5,
    "start_time": "2024-03-24T14:26:46.135Z"
   },
   {
    "duration": 361,
    "start_time": "2024-03-24T14:26:46.142Z"
   },
   {
    "duration": 152,
    "start_time": "2024-03-24T14:26:46.506Z"
   },
   {
    "duration": 253,
    "start_time": "2024-03-24T14:26:46.660Z"
   },
   {
    "duration": 257,
    "start_time": "2024-03-24T14:26:46.915Z"
   },
   {
    "duration": 157,
    "start_time": "2024-03-24T14:26:47.174Z"
   },
   {
    "duration": 203,
    "start_time": "2024-03-24T14:26:47.334Z"
   },
   {
    "duration": 10425,
    "start_time": "2024-03-24T14:26:47.539Z"
   },
   {
    "duration": 8983,
    "start_time": "2024-03-24T14:26:57.967Z"
   },
   {
    "duration": 8,
    "start_time": "2024-03-24T14:27:06.951Z"
   },
   {
    "duration": 26,
    "start_time": "2024-03-24T14:27:06.960Z"
   },
   {
    "duration": 3098,
    "start_time": "2024-03-24T14:27:06.987Z"
   },
   {
    "duration": 37075,
    "start_time": "2024-03-24T14:27:10.087Z"
   },
   {
    "duration": 34706,
    "start_time": "2024-03-24T14:27:47.164Z"
   },
   {
    "duration": 8,
    "start_time": "2024-03-24T14:28:21.872Z"
   },
   {
    "duration": 8791,
    "start_time": "2024-03-24T14:28:21.882Z"
   },
   {
    "duration": 7541,
    "start_time": "2024-03-24T14:31:50.967Z"
   },
   {
    "duration": 1215,
    "start_time": "2024-03-24T14:31:58.510Z"
   },
   {
    "duration": 4,
    "start_time": "2024-03-24T14:31:59.727Z"
   },
   {
    "duration": 95,
    "start_time": "2024-03-24T14:31:59.733Z"
   },
   {
    "duration": 23,
    "start_time": "2024-03-24T14:31:59.829Z"
   },
   {
    "duration": 253,
    "start_time": "2024-03-24T14:31:59.853Z"
   },
   {
    "duration": 109,
    "start_time": "2024-03-24T14:32:00.107Z"
   },
   {
    "duration": 5,
    "start_time": "2024-03-24T14:32:00.218Z"
   },
   {
    "duration": 466,
    "start_time": "2024-03-24T14:32:00.224Z"
   },
   {
    "duration": 152,
    "start_time": "2024-03-24T14:32:00.694Z"
   },
   {
    "duration": 257,
    "start_time": "2024-03-24T14:32:00.848Z"
   },
   {
    "duration": 268,
    "start_time": "2024-03-24T14:32:01.107Z"
   },
   {
    "duration": 160,
    "start_time": "2024-03-24T14:32:01.377Z"
   },
   {
    "duration": 205,
    "start_time": "2024-03-24T14:32:01.539Z"
   },
   {
    "duration": 9921,
    "start_time": "2024-03-24T14:32:01.746Z"
   },
   {
    "duration": 8743,
    "start_time": "2024-03-24T14:32:11.763Z"
   },
   {
    "duration": 3,
    "start_time": "2024-03-24T14:32:20.508Z"
   },
   {
    "duration": 38,
    "start_time": "2024-03-24T14:32:20.513Z"
   },
   {
    "duration": 3246,
    "start_time": "2024-03-24T14:32:20.552Z"
   },
   {
    "duration": 320271,
    "start_time": "2024-03-24T14:32:23.800Z"
   },
   {
    "duration": 50391,
    "start_time": "2024-03-24T14:37:44.073Z"
   },
   {
    "duration": 8,
    "start_time": "2024-03-24T14:38:34.466Z"
   },
   {
    "duration": 26791,
    "start_time": "2024-03-24T14:38:34.476Z"
   },
   {
    "duration": 7761,
    "start_time": "2024-03-24T14:43:45.470Z"
   },
   {
    "duration": 1318,
    "start_time": "2024-03-24T14:43:53.233Z"
   },
   {
    "duration": 4,
    "start_time": "2024-03-24T14:43:54.553Z"
   },
   {
    "duration": 108,
    "start_time": "2024-03-24T14:43:54.559Z"
   },
   {
    "duration": 23,
    "start_time": "2024-03-24T14:43:54.669Z"
   },
   {
    "duration": 277,
    "start_time": "2024-03-24T14:43:54.693Z"
   },
   {
    "duration": 106,
    "start_time": "2024-03-24T14:43:54.972Z"
   },
   {
    "duration": 5,
    "start_time": "2024-03-24T14:43:55.080Z"
   },
   {
    "duration": 385,
    "start_time": "2024-03-24T14:43:55.086Z"
   },
   {
    "duration": 142,
    "start_time": "2024-03-24T14:43:55.473Z"
   },
   {
    "duration": 259,
    "start_time": "2024-03-24T14:43:55.616Z"
   },
   {
    "duration": 234,
    "start_time": "2024-03-24T14:43:55.877Z"
   },
   {
    "duration": 153,
    "start_time": "2024-03-24T14:43:56.113Z"
   },
   {
    "duration": 199,
    "start_time": "2024-03-24T14:43:56.268Z"
   },
   {
    "duration": 10496,
    "start_time": "2024-03-24T14:43:56.469Z"
   },
   {
    "duration": 8861,
    "start_time": "2024-03-24T14:44:06.967Z"
   },
   {
    "duration": 3,
    "start_time": "2024-03-24T14:44:15.829Z"
   },
   {
    "duration": 27,
    "start_time": "2024-03-24T14:44:15.833Z"
   },
   {
    "duration": 3161,
    "start_time": "2024-03-24T14:44:15.862Z"
   },
   {
    "duration": 217653,
    "start_time": "2024-03-24T14:44:19.025Z"
   },
   {
    "duration": 37806,
    "start_time": "2024-03-24T14:47:56.759Z"
   },
   {
    "duration": 12,
    "start_time": "2024-03-24T14:48:34.567Z"
   },
   {
    "duration": 31493,
    "start_time": "2024-03-24T14:48:34.581Z"
   },
   {
    "duration": 8,
    "start_time": "2024-03-24T14:58:57.678Z"
   },
   {
    "duration": 7846,
    "start_time": "2024-03-24T14:59:41.006Z"
   },
   {
    "duration": 1320,
    "start_time": "2024-03-24T14:59:48.855Z"
   },
   {
    "duration": 4,
    "start_time": "2024-03-24T14:59:50.176Z"
   },
   {
    "duration": 96,
    "start_time": "2024-03-24T14:59:50.183Z"
   },
   {
    "duration": 26,
    "start_time": "2024-03-24T14:59:50.281Z"
   },
   {
    "duration": 295,
    "start_time": "2024-03-24T14:59:50.309Z"
   },
   {
    "duration": 115,
    "start_time": "2024-03-24T14:59:50.606Z"
   },
   {
    "duration": 6,
    "start_time": "2024-03-24T14:59:50.723Z"
   },
   {
    "duration": 382,
    "start_time": "2024-03-24T14:59:50.730Z"
   },
   {
    "duration": 146,
    "start_time": "2024-03-24T14:59:51.115Z"
   },
   {
    "duration": 267,
    "start_time": "2024-03-24T14:59:51.263Z"
   },
   {
    "duration": 252,
    "start_time": "2024-03-24T14:59:51.532Z"
   },
   {
    "duration": 193,
    "start_time": "2024-03-24T14:59:51.787Z"
   },
   {
    "duration": 235,
    "start_time": "2024-03-24T14:59:51.982Z"
   },
   {
    "duration": 11345,
    "start_time": "2024-03-24T14:59:52.218Z"
   },
   {
    "duration": 8992,
    "start_time": "2024-03-24T15:00:03.568Z"
   },
   {
    "duration": 3,
    "start_time": "2024-03-24T15:00:12.562Z"
   },
   {
    "duration": 20,
    "start_time": "2024-03-24T15:00:12.566Z"
   },
   {
    "duration": 3163,
    "start_time": "2024-03-24T15:00:12.588Z"
   },
   {
    "duration": 224112,
    "start_time": "2024-03-24T15:00:15.752Z"
   },
   {
    "duration": 32897,
    "start_time": "2024-03-24T15:03:59.865Z"
   },
   {
    "duration": 8,
    "start_time": "2024-03-24T15:04:32.764Z"
   },
   {
    "duration": 35094,
    "start_time": "2024-03-24T15:04:32.774Z"
   },
   {
    "duration": 7654,
    "start_time": "2024-03-24T15:08:55.386Z"
   },
   {
    "duration": 1320,
    "start_time": "2024-03-24T15:09:03.042Z"
   },
   {
    "duration": 5,
    "start_time": "2024-03-24T15:09:04.363Z"
   },
   {
    "duration": 125,
    "start_time": "2024-03-24T15:09:04.369Z"
   },
   {
    "duration": 23,
    "start_time": "2024-03-24T15:09:04.496Z"
   },
   {
    "duration": 281,
    "start_time": "2024-03-24T15:09:04.521Z"
   },
   {
    "duration": 110,
    "start_time": "2024-03-24T15:09:04.803Z"
   },
   {
    "duration": 6,
    "start_time": "2024-03-24T15:09:04.915Z"
   },
   {
    "duration": 401,
    "start_time": "2024-03-24T15:09:04.923Z"
   },
   {
    "duration": 145,
    "start_time": "2024-03-24T15:09:05.326Z"
   },
   {
    "duration": 347,
    "start_time": "2024-03-24T15:09:05.473Z"
   },
   {
    "duration": 233,
    "start_time": "2024-03-24T15:09:05.822Z"
   },
   {
    "duration": 149,
    "start_time": "2024-03-24T15:09:06.059Z"
   },
   {
    "duration": 221,
    "start_time": "2024-03-24T15:09:06.211Z"
   },
   {
    "duration": 10831,
    "start_time": "2024-03-24T15:09:06.434Z"
   },
   {
    "duration": 8762,
    "start_time": "2024-03-24T15:09:17.267Z"
   },
   {
    "duration": 3,
    "start_time": "2024-03-24T15:09:26.031Z"
   },
   {
    "duration": 25,
    "start_time": "2024-03-24T15:09:26.036Z"
   },
   {
    "duration": 3066,
    "start_time": "2024-03-24T15:09:26.062Z"
   },
   {
    "duration": 250632,
    "start_time": "2024-03-24T15:09:29.130Z"
   },
   {
    "duration": 29595,
    "start_time": "2024-03-24T15:13:39.764Z"
   },
   {
    "duration": 8,
    "start_time": "2024-03-24T15:14:09.361Z"
   },
   {
    "duration": 8389,
    "start_time": "2024-03-24T15:14:09.371Z"
   },
   {
    "duration": 7997,
    "start_time": "2024-03-24T15:17:56.571Z"
   },
   {
    "duration": 1343,
    "start_time": "2024-03-24T15:18:04.570Z"
   },
   {
    "duration": 5,
    "start_time": "2024-03-24T15:18:05.914Z"
   },
   {
    "duration": 120,
    "start_time": "2024-03-24T15:18:05.921Z"
   },
   {
    "duration": 25,
    "start_time": "2024-03-24T15:18:06.043Z"
   },
   {
    "duration": 277,
    "start_time": "2024-03-24T15:18:06.070Z"
   },
   {
    "duration": 121,
    "start_time": "2024-03-24T15:18:06.349Z"
   },
   {
    "duration": 5,
    "start_time": "2024-03-24T15:18:06.473Z"
   },
   {
    "duration": 380,
    "start_time": "2024-03-24T15:18:06.481Z"
   },
   {
    "duration": 199,
    "start_time": "2024-03-24T15:18:06.864Z"
   },
   {
    "duration": 283,
    "start_time": "2024-03-24T15:18:07.065Z"
   },
   {
    "duration": 253,
    "start_time": "2024-03-24T15:18:07.350Z"
   },
   {
    "duration": 157,
    "start_time": "2024-03-24T15:18:07.605Z"
   },
   {
    "duration": 215,
    "start_time": "2024-03-24T15:18:07.766Z"
   },
   {
    "duration": 10685,
    "start_time": "2024-03-24T15:18:07.983Z"
   },
   {
    "duration": 8924,
    "start_time": "2024-03-24T15:18:18.760Z"
   },
   {
    "duration": 3,
    "start_time": "2024-03-24T15:18:27.686Z"
   },
   {
    "duration": 21,
    "start_time": "2024-03-24T15:18:27.691Z"
   },
   {
    "duration": 3238,
    "start_time": "2024-03-24T15:18:27.713Z"
   },
   {
    "duration": 649709,
    "start_time": "2024-03-24T15:18:30.953Z"
   },
   {
    "duration": 30500,
    "start_time": "2024-03-24T15:29:20.664Z"
   },
   {
    "duration": 9,
    "start_time": "2024-03-24T15:29:51.166Z"
   },
   {
    "duration": 3894,
    "start_time": "2024-03-24T15:29:51.177Z"
   },
   {
    "duration": 1037,
    "start_time": "2024-03-24T15:45:16.025Z"
   },
   {
    "duration": 72,
    "start_time": "2024-03-25T09:06:34.736Z"
   }
  ],
  "kernelspec": {
   "display_name": "Python 3 (ipykernel)",
   "language": "python",
   "name": "python3"
  },
  "language_info": {
   "codemirror_mode": {
    "name": "ipython",
    "version": 3
   },
   "file_extension": ".py",
   "mimetype": "text/x-python",
   "name": "python",
   "nbconvert_exporter": "python",
   "pygments_lexer": "ipython3",
   "version": "3.9.5"
  },
  "toc": {
   "base_numbering": 1,
   "nav_menu": {},
   "number_sections": true,
   "sideBar": true,
   "skip_h1_title": true,
   "title_cell": "Table of Contents",
   "title_sidebar": "Contents",
   "toc_cell": false,
   "toc_position": {},
   "toc_section_display": true,
   "toc_window_display": true
  }
 },
 "nbformat": 4,
 "nbformat_minor": 5
}
